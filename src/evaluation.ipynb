{
 "cells": [
  {
   "cell_type": "code",
   "execution_count": 5,
   "metadata": {},
   "outputs": [
    {
     "name": "stdout",
     "output_type": "stream",
     "text": [
      "The autoreload extension is already loaded. To reload it, use:\n",
      "  %reload_ext autoreload\n",
      "No CUDA-capable device is detected\n",
      "torch.Size([500, 13]) torch.Size([500])\n"
     ]
    }
   ],
   "source": [
    "# %%\n",
    "\n",
    "%load_ext autoreload\n",
    "%autoreload 2\n",
    "\n",
    "\n",
    "# %%\n",
    "import torch\n",
    "import time\n",
    "import plotly.express as px\n",
    "import matplotlib.pyplot as plt\n",
    "\n",
    "from task_evaluation import TaskEvaluation\n",
    "from data.ioi_dataset import gen_templated_prompts\n",
    "from data.greater_than_dataset import generate_greater_than_dataset\n",
    "from circuit_discovery import CircuitDiscovery, only_feature\n",
    "from circuit_lens import CircuitComponent\n",
    "from plotly_utils import *\n",
    "from data.ioi_dataset import IOI_GROUND_TRUTH_HEADS\n",
    "from data.greater_than_dataset import GT_GROUND_TRUTH_HEADS\n",
    "from memory import get_gpu_memory\n",
    "from sklearn import metrics\n",
    "from tqdm import trange\n",
    "\n",
    "from utils import get_attn_head_roc\n",
    "\n",
    "\n",
    "# %%\n",
    "torch.set_grad_enabled(False)\n",
    "get_gpu_memory()\n",
    "# %%\n",
    "dataset_prompts = gen_templated_prompts(template_idex=1, N=500)\n",
    "dataset_gt = generate_greater_than_dataset(N=500)"
   ]
  },
  {
   "cell_type": "code",
   "execution_count": 6,
   "metadata": {},
   "outputs": [],
   "source": [
    "\n",
    "\n",
    "\n",
    "# dataset_prompts = generate_greater_than_dataset(N=100)\n",
    "\n",
    "\n",
    "# %%\n",
    "\n",
    "def component_filter(component: str):\n",
    "    return component in [\n",
    "        CircuitComponent.Z_FEATURE,\n",
    "        CircuitComponent.MLP_FEATURE,\n",
    "        CircuitComponent.ATTN_HEAD,\n",
    "        CircuitComponent.UNEMBED,\n",
    "        # CircuitComponent.UNEMBED_AT_TOKEN,\n",
    "        CircuitComponent.EMBED,\n",
    "        CircuitComponent.POS_EMBED,\n",
    "        # CircuitComponent.BIAS_O,\n",
    "        CircuitComponent.Z_SAE_ERROR,\n",
    "        # CircuitComponent.Z_SAE_BIAS,\n",
    "        # CircuitComponent.TRANSCODER_ERROR,\n",
    "        # CircuitComponent.TRANSCODER_BIAS,\n",
    "    ]\n",
    "\n",
    "\n",
    "pass_based = True\n",
    "\n",
    "passes = 5\n",
    "node_contributors = 1\n",
    "first_pass_minimal = True\n",
    "\n",
    "sub_passes = 3\n",
    "do_sub_pass = True #False\n",
    "layer_thres = 9\n",
    "minimal = True\n",
    "\n",
    "\n",
    "num_greedy_passes = 20\n",
    "k = 1\n",
    "N = 30\n",
    "\n",
    "thres = 4\n",
    "\n",
    "\n",
    "# # Danny and Charlie... Charlie gave shit to Danny\n",
    "# # Danny and Charlie... Charlie gave shit to Charlie\n",
    "# # Danny and Charlie... Danny gave shit to Danny\n",
    "# #\n",
    "\n",
    "def strategy(cd: CircuitDiscovery):\n",
    "    if pass_based:\n",
    "        for _ in range(passes):\n",
    "            cd.add_greedy_pass(contributors_per_node=node_contributors, minimal=first_pass_minimal)\n",
    "\n",
    "            if do_sub_pass:\n",
    "                for _ in range(sub_passes):\n",
    "                    cd.add_greedy_pass_against_all_existing_nodes(contributors_per_node=node_contributors, skip_z_features=True, layer_threshold=layer_thres, minimal=minimal)\n",
    "    else:\n",
    "        for _ in range(num_greedy_passes):\n",
    "            cd.greedily_add_top_contributors(k=k, reciever_threshold=thres)\n",
    "\n",
    "\n",
    "\n",
    "task_eval = TaskEvaluation(prompts=dataset_prompts, circuit_discovery_strategy=strategy, allowed_components_filter=component_filter)"
   ]
  },
  {
   "cell_type": "code",
   "execution_count": 7,
   "metadata": {},
   "outputs": [
    {
     "name": "stdout",
     "output_type": "stream",
     "text": [
      "torch.Size([20, 50257]) torch.Size([20, 2])\n",
      "torch.Size([20, 50257]) torch.Size([20, 2])\n",
      "hbi [[5, 8], [9, 6], [0, 1], [7, 9], [9, 9], [2, 2], [8, 10], [7, 3], [9, 7], [10, 0], [3, 0], [10, 2], [10, 7], [11, 10], [8, 6], [10, 6], [11, 3], [11, 2], [4, 11], [6, 9], [10, 10], [0, 10], [11, 9], [10, 1], [5, 5], [5, 9], [6, 4], [8, 7], [8, 5], [6, 5], [11, 5], [2, 3], [6, 7], [3, 7], [2, 9], [4, 3], [3, 3], [8, 8], [3, 4], [4, 8], [8, 0], [1, 5], [9, 5], [0, 2], [9, 10], [5, 6], [0, 3], [0, 6], [2, 6], [11, 7], [2, 8], [9, 1], [1, 8], [5, 11], [5, 4], [3, 11], [0, 0], [10, 8], [1, 4], [11, 1], [1, 6], [4, 4], [10, 3], [8, 3], [4, 5], [6, 1], [6, 6], [6, 10], [2, 4], [0, 5], [7, 8], [10, 9], [8, 11], [0, 4], [6, 2], [3, 6], [2, 0], [7, 1], [0, 9], [11, 11], [7, 7], [0, 11], [5, 1], [3, 10], [6, 3], [4, 9], [4, 2], [2, 1], [6, 8], [1, 1], [5, 10], [5, 0], [7, 6], [1, 11], [6, 11], [8, 2], [2, 11], [2, 10], [7, 10], [3, 2], [5, 3], [8, 1], [4, 10], [11, 4], [7, 2], [1, 3], [9, 3], [4, 0], [1, 10], [10, 11], [1, 2], [5, 2], [9, 2], [1, 0], [9, 11], [6, 0], [5, 7], [0, 8], [8, 9], [9, 8], [7, 4], [9, 0], [7, 5], [8, 4], [0, 7], [2, 7], [1, 7], [10, 5], [4, 6], [10, 4], [9, 4], [1, 9], [7, 11], [11, 8], [11, 6], [3, 1], [7, 0], [4, 7], [3, 5], [4, 1], [3, 9], [2, 5], [3, 8], [11, 0]]\n"
     ]
    },
    {
     "data": {
      "application/vnd.plotly.v1+json": {
       "config": {
        "plotlyServerURL": "https://plot.ly"
       },
       "data": [
        {
         "hovertemplate": "Num Heads=%{x}<br>Normalized Logit Difference=%{y}<extra></extra>",
         "legendgroup": "",
         "line": {
          "color": "#636efa",
          "dash": "solid"
         },
         "marker": {
          "symbol": "circle"
         },
         "mode": "lines",
         "name": "",
         "orientation": "v",
         "showlegend": false,
         "type": "scatter",
         "x": [
          0,
          4,
          8,
          12,
          16,
          20,
          24,
          28,
          32,
          36,
          40,
          44,
          48,
          52,
          56,
          60,
          64,
          68,
          72,
          76,
          80,
          84,
          88,
          92,
          96,
          100,
          104,
          108,
          112,
          116,
          120,
          124,
          128,
          132,
          136,
          140,
          144
         ],
         "xaxis": "x",
         "y": [
          0,
          0.21186257898807526,
          0.5489739179611206,
          0.8727449774742126,
          0.6796296834945679,
          0.8599653244018555,
          0.9136337637901306,
          0.9623374342918396,
          0.9627640247344971,
          0.9671616554260254,
          0.9698102474212646,
          0.9698017835617065,
          0.9670000076293945,
          0.9668703079223633,
          0.9661858081817627,
          0.9729059934616089,
          0.9796709418296814,
          0.9797811508178711,
          0.9813811779022217,
          0.982769250869751,
          0.9864718914031982,
          0.9852297902107239,
          0.9863163828849792,
          0.9903882741928101,
          0.9909783005714417,
          0.9914416670799255,
          0.9912298917770386,
          0.9917020201683044,
          0.9918546676635742,
          0.9914759993553162,
          0.9948742985725403,
          0.9956631064414978,
          0.9954479336738586,
          0.997222900390625,
          0.9982313513755798,
          0.9993125796318054,
          1
         ],
         "yaxis": "y"
        }
       ],
       "layout": {
        "legend": {
         "tracegroupgap": 0
        },
        "template": {
         "data": {
          "bar": [
           {
            "error_x": {
             "color": "#2a3f5f"
            },
            "error_y": {
             "color": "#2a3f5f"
            },
            "marker": {
             "line": {
              "color": "#E5ECF6",
              "width": 0.5
             },
             "pattern": {
              "fillmode": "overlay",
              "size": 10,
              "solidity": 0.2
             }
            },
            "type": "bar"
           }
          ],
          "barpolar": [
           {
            "marker": {
             "line": {
              "color": "#E5ECF6",
              "width": 0.5
             },
             "pattern": {
              "fillmode": "overlay",
              "size": 10,
              "solidity": 0.2
             }
            },
            "type": "barpolar"
           }
          ],
          "carpet": [
           {
            "aaxis": {
             "endlinecolor": "#2a3f5f",
             "gridcolor": "white",
             "linecolor": "white",
             "minorgridcolor": "white",
             "startlinecolor": "#2a3f5f"
            },
            "baxis": {
             "endlinecolor": "#2a3f5f",
             "gridcolor": "white",
             "linecolor": "white",
             "minorgridcolor": "white",
             "startlinecolor": "#2a3f5f"
            },
            "type": "carpet"
           }
          ],
          "choropleth": [
           {
            "colorbar": {
             "outlinewidth": 0,
             "ticks": ""
            },
            "type": "choropleth"
           }
          ],
          "contour": [
           {
            "colorbar": {
             "outlinewidth": 0,
             "ticks": ""
            },
            "colorscale": [
             [
              0,
              "#0d0887"
             ],
             [
              0.1111111111111111,
              "#46039f"
             ],
             [
              0.2222222222222222,
              "#7201a8"
             ],
             [
              0.3333333333333333,
              "#9c179e"
             ],
             [
              0.4444444444444444,
              "#bd3786"
             ],
             [
              0.5555555555555556,
              "#d8576b"
             ],
             [
              0.6666666666666666,
              "#ed7953"
             ],
             [
              0.7777777777777778,
              "#fb9f3a"
             ],
             [
              0.8888888888888888,
              "#fdca26"
             ],
             [
              1,
              "#f0f921"
             ]
            ],
            "type": "contour"
           }
          ],
          "contourcarpet": [
           {
            "colorbar": {
             "outlinewidth": 0,
             "ticks": ""
            },
            "type": "contourcarpet"
           }
          ],
          "heatmap": [
           {
            "colorbar": {
             "outlinewidth": 0,
             "ticks": ""
            },
            "colorscale": [
             [
              0,
              "#0d0887"
             ],
             [
              0.1111111111111111,
              "#46039f"
             ],
             [
              0.2222222222222222,
              "#7201a8"
             ],
             [
              0.3333333333333333,
              "#9c179e"
             ],
             [
              0.4444444444444444,
              "#bd3786"
             ],
             [
              0.5555555555555556,
              "#d8576b"
             ],
             [
              0.6666666666666666,
              "#ed7953"
             ],
             [
              0.7777777777777778,
              "#fb9f3a"
             ],
             [
              0.8888888888888888,
              "#fdca26"
             ],
             [
              1,
              "#f0f921"
             ]
            ],
            "type": "heatmap"
           }
          ],
          "heatmapgl": [
           {
            "colorbar": {
             "outlinewidth": 0,
             "ticks": ""
            },
            "colorscale": [
             [
              0,
              "#0d0887"
             ],
             [
              0.1111111111111111,
              "#46039f"
             ],
             [
              0.2222222222222222,
              "#7201a8"
             ],
             [
              0.3333333333333333,
              "#9c179e"
             ],
             [
              0.4444444444444444,
              "#bd3786"
             ],
             [
              0.5555555555555556,
              "#d8576b"
             ],
             [
              0.6666666666666666,
              "#ed7953"
             ],
             [
              0.7777777777777778,
              "#fb9f3a"
             ],
             [
              0.8888888888888888,
              "#fdca26"
             ],
             [
              1,
              "#f0f921"
             ]
            ],
            "type": "heatmapgl"
           }
          ],
          "histogram": [
           {
            "marker": {
             "pattern": {
              "fillmode": "overlay",
              "size": 10,
              "solidity": 0.2
             }
            },
            "type": "histogram"
           }
          ],
          "histogram2d": [
           {
            "colorbar": {
             "outlinewidth": 0,
             "ticks": ""
            },
            "colorscale": [
             [
              0,
              "#0d0887"
             ],
             [
              0.1111111111111111,
              "#46039f"
             ],
             [
              0.2222222222222222,
              "#7201a8"
             ],
             [
              0.3333333333333333,
              "#9c179e"
             ],
             [
              0.4444444444444444,
              "#bd3786"
             ],
             [
              0.5555555555555556,
              "#d8576b"
             ],
             [
              0.6666666666666666,
              "#ed7953"
             ],
             [
              0.7777777777777778,
              "#fb9f3a"
             ],
             [
              0.8888888888888888,
              "#fdca26"
             ],
             [
              1,
              "#f0f921"
             ]
            ],
            "type": "histogram2d"
           }
          ],
          "histogram2dcontour": [
           {
            "colorbar": {
             "outlinewidth": 0,
             "ticks": ""
            },
            "colorscale": [
             [
              0,
              "#0d0887"
             ],
             [
              0.1111111111111111,
              "#46039f"
             ],
             [
              0.2222222222222222,
              "#7201a8"
             ],
             [
              0.3333333333333333,
              "#9c179e"
             ],
             [
              0.4444444444444444,
              "#bd3786"
             ],
             [
              0.5555555555555556,
              "#d8576b"
             ],
             [
              0.6666666666666666,
              "#ed7953"
             ],
             [
              0.7777777777777778,
              "#fb9f3a"
             ],
             [
              0.8888888888888888,
              "#fdca26"
             ],
             [
              1,
              "#f0f921"
             ]
            ],
            "type": "histogram2dcontour"
           }
          ],
          "mesh3d": [
           {
            "colorbar": {
             "outlinewidth": 0,
             "ticks": ""
            },
            "type": "mesh3d"
           }
          ],
          "parcoords": [
           {
            "line": {
             "colorbar": {
              "outlinewidth": 0,
              "ticks": ""
             }
            },
            "type": "parcoords"
           }
          ],
          "pie": [
           {
            "automargin": true,
            "type": "pie"
           }
          ],
          "scatter": [
           {
            "fillpattern": {
             "fillmode": "overlay",
             "size": 10,
             "solidity": 0.2
            },
            "type": "scatter"
           }
          ],
          "scatter3d": [
           {
            "line": {
             "colorbar": {
              "outlinewidth": 0,
              "ticks": ""
             }
            },
            "marker": {
             "colorbar": {
              "outlinewidth": 0,
              "ticks": ""
             }
            },
            "type": "scatter3d"
           }
          ],
          "scattercarpet": [
           {
            "marker": {
             "colorbar": {
              "outlinewidth": 0,
              "ticks": ""
             }
            },
            "type": "scattercarpet"
           }
          ],
          "scattergeo": [
           {
            "marker": {
             "colorbar": {
              "outlinewidth": 0,
              "ticks": ""
             }
            },
            "type": "scattergeo"
           }
          ],
          "scattergl": [
           {
            "marker": {
             "colorbar": {
              "outlinewidth": 0,
              "ticks": ""
             }
            },
            "type": "scattergl"
           }
          ],
          "scattermapbox": [
           {
            "marker": {
             "colorbar": {
              "outlinewidth": 0,
              "ticks": ""
             }
            },
            "type": "scattermapbox"
           }
          ],
          "scatterpolar": [
           {
            "marker": {
             "colorbar": {
              "outlinewidth": 0,
              "ticks": ""
             }
            },
            "type": "scatterpolar"
           }
          ],
          "scatterpolargl": [
           {
            "marker": {
             "colorbar": {
              "outlinewidth": 0,
              "ticks": ""
             }
            },
            "type": "scatterpolargl"
           }
          ],
          "scatterternary": [
           {
            "marker": {
             "colorbar": {
              "outlinewidth": 0,
              "ticks": ""
             }
            },
            "type": "scatterternary"
           }
          ],
          "surface": [
           {
            "colorbar": {
             "outlinewidth": 0,
             "ticks": ""
            },
            "colorscale": [
             [
              0,
              "#0d0887"
             ],
             [
              0.1111111111111111,
              "#46039f"
             ],
             [
              0.2222222222222222,
              "#7201a8"
             ],
             [
              0.3333333333333333,
              "#9c179e"
             ],
             [
              0.4444444444444444,
              "#bd3786"
             ],
             [
              0.5555555555555556,
              "#d8576b"
             ],
             [
              0.6666666666666666,
              "#ed7953"
             ],
             [
              0.7777777777777778,
              "#fb9f3a"
             ],
             [
              0.8888888888888888,
              "#fdca26"
             ],
             [
              1,
              "#f0f921"
             ]
            ],
            "type": "surface"
           }
          ],
          "table": [
           {
            "cells": {
             "fill": {
              "color": "#EBF0F8"
             },
             "line": {
              "color": "white"
             }
            },
            "header": {
             "fill": {
              "color": "#C8D4E3"
             },
             "line": {
              "color": "white"
             }
            },
            "type": "table"
           }
          ]
         },
         "layout": {
          "annotationdefaults": {
           "arrowcolor": "#2a3f5f",
           "arrowhead": 0,
           "arrowwidth": 1
          },
          "autotypenumbers": "strict",
          "coloraxis": {
           "colorbar": {
            "outlinewidth": 0,
            "ticks": ""
           }
          },
          "colorscale": {
           "diverging": [
            [
             0,
             "#8e0152"
            ],
            [
             0.1,
             "#c51b7d"
            ],
            [
             0.2,
             "#de77ae"
            ],
            [
             0.3,
             "#f1b6da"
            ],
            [
             0.4,
             "#fde0ef"
            ],
            [
             0.5,
             "#f7f7f7"
            ],
            [
             0.6,
             "#e6f5d0"
            ],
            [
             0.7,
             "#b8e186"
            ],
            [
             0.8,
             "#7fbc41"
            ],
            [
             0.9,
             "#4d9221"
            ],
            [
             1,
             "#276419"
            ]
           ],
           "sequential": [
            [
             0,
             "#0d0887"
            ],
            [
             0.1111111111111111,
             "#46039f"
            ],
            [
             0.2222222222222222,
             "#7201a8"
            ],
            [
             0.3333333333333333,
             "#9c179e"
            ],
            [
             0.4444444444444444,
             "#bd3786"
            ],
            [
             0.5555555555555556,
             "#d8576b"
            ],
            [
             0.6666666666666666,
             "#ed7953"
            ],
            [
             0.7777777777777778,
             "#fb9f3a"
            ],
            [
             0.8888888888888888,
             "#fdca26"
            ],
            [
             1,
             "#f0f921"
            ]
           ],
           "sequentialminus": [
            [
             0,
             "#0d0887"
            ],
            [
             0.1111111111111111,
             "#46039f"
            ],
            [
             0.2222222222222222,
             "#7201a8"
            ],
            [
             0.3333333333333333,
             "#9c179e"
            ],
            [
             0.4444444444444444,
             "#bd3786"
            ],
            [
             0.5555555555555556,
             "#d8576b"
            ],
            [
             0.6666666666666666,
             "#ed7953"
            ],
            [
             0.7777777777777778,
             "#fb9f3a"
            ],
            [
             0.8888888888888888,
             "#fdca26"
            ],
            [
             1,
             "#f0f921"
            ]
           ]
          },
          "colorway": [
           "#636efa",
           "#EF553B",
           "#00cc96",
           "#ab63fa",
           "#FFA15A",
           "#19d3f3",
           "#FF6692",
           "#B6E880",
           "#FF97FF",
           "#FECB52"
          ],
          "font": {
           "color": "#2a3f5f"
          },
          "geo": {
           "bgcolor": "white",
           "lakecolor": "white",
           "landcolor": "#E5ECF6",
           "showlakes": true,
           "showland": true,
           "subunitcolor": "white"
          },
          "hoverlabel": {
           "align": "left"
          },
          "hovermode": "closest",
          "mapbox": {
           "style": "light"
          },
          "paper_bgcolor": "white",
          "plot_bgcolor": "#E5ECF6",
          "polar": {
           "angularaxis": {
            "gridcolor": "white",
            "linecolor": "white",
            "ticks": ""
           },
           "bgcolor": "#E5ECF6",
           "radialaxis": {
            "gridcolor": "white",
            "linecolor": "white",
            "ticks": ""
           }
          },
          "scene": {
           "xaxis": {
            "backgroundcolor": "#E5ECF6",
            "gridcolor": "white",
            "gridwidth": 2,
            "linecolor": "white",
            "showbackground": true,
            "ticks": "",
            "zerolinecolor": "white"
           },
           "yaxis": {
            "backgroundcolor": "#E5ECF6",
            "gridcolor": "white",
            "gridwidth": 2,
            "linecolor": "white",
            "showbackground": true,
            "ticks": "",
            "zerolinecolor": "white"
           },
           "zaxis": {
            "backgroundcolor": "#E5ECF6",
            "gridcolor": "white",
            "gridwidth": 2,
            "linecolor": "white",
            "showbackground": true,
            "ticks": "",
            "zerolinecolor": "white"
           }
          },
          "shapedefaults": {
           "line": {
            "color": "#2a3f5f"
           }
          },
          "ternary": {
           "aaxis": {
            "gridcolor": "white",
            "linecolor": "white",
            "ticks": ""
           },
           "baxis": {
            "gridcolor": "white",
            "linecolor": "white",
            "ticks": ""
           },
           "bgcolor": "#E5ECF6",
           "caxis": {
            "gridcolor": "white",
            "linecolor": "white",
            "ticks": ""
           }
          },
          "title": {
           "x": 0.05
          },
          "xaxis": {
           "automargin": true,
           "gridcolor": "white",
           "linecolor": "white",
           "ticks": "",
           "title": {
            "standoff": 15
           },
           "zerolinecolor": "white",
           "zerolinewidth": 2
          },
          "yaxis": {
           "automargin": true,
           "gridcolor": "white",
           "linecolor": "white",
           "ticks": "",
           "title": {
            "standoff": 15
           },
           "zerolinecolor": "white",
           "zerolinewidth": 2
          }
         }
        },
        "title": {
         "text": "Faithfulness Curve"
        },
        "xaxis": {
         "anchor": "y",
         "domain": [
          0,
          1
         ],
         "title": {
          "text": "Num Heads"
         }
        },
        "yaxis": {
         "anchor": "x",
         "domain": [
          0,
          1
         ],
         "title": {
          "text": "Normalized Logit Difference"
         }
        }
       }
      }
     },
     "metadata": {},
     "output_type": "display_data"
    },
    {
     "name": "stderr",
     "output_type": "stream",
     "text": [
      "100%|██████████| 10/10 [01:04<00:00,  6.43s/it]\n"
     ]
    },
    {
     "name": "stdout",
     "output_type": "stream",
     "text": [
      "torch.Size([20, 50257]) torch.Size([20, 2])\n",
      "torch.Size([20, 50257]) torch.Size([20, 2])\n",
      "hbi [[10, 1], [0, 1], [5, 5], [0, 3], [9, 11], [0, 5], [0, 6], [0, 7], [9, 0], [9, 1], [9, 10], [6, 8], [10, 7], [9, 9], [8, 7], [8, 6], [7, 0], [3, 8], [7, 4], [7, 5], [2, 8], [9, 3], [1, 10], [2, 7], [2, 0], [9, 7], [2, 2], [9, 6], [3, 0], [5, 0], [10, 6], [10, 9], [4, 11], [10, 10], [10, 0], [10, 3], [5, 1], [4, 3], [2, 9], [6, 1], [10, 4], [10, 2], [9, 8], [3, 7], [1, 5], [6, 0], [9, 5], [1, 11], [1, 1], [6, 9], [4, 7], [0, 4], [10, 11], [9, 4], [3, 6], [9, 2], [10, 5], [6, 4], [7, 3], [8, 5], [0, 10], [6, 11], [5, 2], [1, 0], [5, 7], [11, 10], [8, 3], [10, 8], [5, 8], [8, 4], [5, 10], [0, 11], [3, 3], [8, 10], [7, 9], [1, 2], [5, 4], [6, 5], [11, 7], [11, 5], [2, 3], [2, 4], [4, 5], [3, 11], [3, 10], [7, 1], [11, 1], [3, 4], [7, 2], [2, 10], [5, 6], [2, 5], [7, 8], [4, 0], [4, 1], [4, 4], [2, 1], [11, 3], [11, 4], [5, 9], [11, 6], [6, 6], [11, 8], [4, 9], [0, 9], [11, 9], [11, 2], [8, 11], [8, 9], [8, 8], [8, 2], [8, 1], [8, 0], [7, 11], [7, 10], [7, 7], [7, 6], [6, 10], [6, 7], [6, 3], [6, 2], [0, 0], [5, 11], [5, 3], [4, 10], [4, 8], [4, 6], [4, 2], [3, 9], [3, 5], [3, 2], [3, 1], [11, 0], [2, 11], [2, 6], [1, 9], [1, 8], [1, 7], [1, 6], [1, 4], [1, 3], [0, 8], [0, 2], [11, 11]]\n"
     ]
    },
    {
     "data": {
      "application/vnd.plotly.v1+json": {
       "config": {
        "plotlyServerURL": "https://plot.ly"
       },
       "data": [
        {
         "hovertemplate": "Num Heads=%{x}<br>Normalized Logit Difference=%{y}<extra></extra>",
         "legendgroup": "",
         "line": {
          "color": "#636efa",
          "dash": "solid"
         },
         "marker": {
          "symbol": "circle"
         },
         "mode": "lines",
         "name": "",
         "orientation": "v",
         "showlegend": false,
         "type": "scatter",
         "x": [
          0,
          4,
          8,
          12,
          16,
          20,
          24,
          28,
          32,
          36,
          40,
          44,
          48,
          52,
          56,
          60,
          64,
          68,
          72,
          76,
          80,
          84,
          88,
          92,
          96,
          100,
          104,
          108,
          112,
          116,
          120,
          124,
          128,
          132,
          136,
          140,
          144
         ],
         "xaxis": "x",
         "y": [
          0,
          0.07476472854614258,
          0.08381564915180206,
          0.11193161457777023,
          0.3168685734272003,
          0.31970757246017456,
          0.31903788447380066,
          0.4926495850086212,
          0.5997485518455505,
          0.8657242655754089,
          0.8672425746917725,
          0.9254310131072998,
          0.9289693236351013,
          0.9442175626754761,
          0.941994309425354,
          0.9590809345245361,
          0.9593459963798523,
          0.9118312001228333,
          0.9046187996864319,
          0.9500923752784729,
          0.9492096900939941,
          0.9481399059295654,
          0.9660481214523315,
          0.9657186269760132,
          0.9551959037780762,
          0.9783065319061279,
          0.9865961670875549,
          0.9958215355873108,
          0.9953812956809998,
          0.9955219626426697,
          0.9942097067832947,
          0.9976003170013428,
          0.9989522099494934,
          0.9991394877433777,
          0.9990469813346863,
          0.9993738532066345,
          1
         ],
         "yaxis": "y"
        }
       ],
       "layout": {
        "legend": {
         "tracegroupgap": 0
        },
        "template": {
         "data": {
          "bar": [
           {
            "error_x": {
             "color": "#2a3f5f"
            },
            "error_y": {
             "color": "#2a3f5f"
            },
            "marker": {
             "line": {
              "color": "#E5ECF6",
              "width": 0.5
             },
             "pattern": {
              "fillmode": "overlay",
              "size": 10,
              "solidity": 0.2
             }
            },
            "type": "bar"
           }
          ],
          "barpolar": [
           {
            "marker": {
             "line": {
              "color": "#E5ECF6",
              "width": 0.5
             },
             "pattern": {
              "fillmode": "overlay",
              "size": 10,
              "solidity": 0.2
             }
            },
            "type": "barpolar"
           }
          ],
          "carpet": [
           {
            "aaxis": {
             "endlinecolor": "#2a3f5f",
             "gridcolor": "white",
             "linecolor": "white",
             "minorgridcolor": "white",
             "startlinecolor": "#2a3f5f"
            },
            "baxis": {
             "endlinecolor": "#2a3f5f",
             "gridcolor": "white",
             "linecolor": "white",
             "minorgridcolor": "white",
             "startlinecolor": "#2a3f5f"
            },
            "type": "carpet"
           }
          ],
          "choropleth": [
           {
            "colorbar": {
             "outlinewidth": 0,
             "ticks": ""
            },
            "type": "choropleth"
           }
          ],
          "contour": [
           {
            "colorbar": {
             "outlinewidth": 0,
             "ticks": ""
            },
            "colorscale": [
             [
              0,
              "#0d0887"
             ],
             [
              0.1111111111111111,
              "#46039f"
             ],
             [
              0.2222222222222222,
              "#7201a8"
             ],
             [
              0.3333333333333333,
              "#9c179e"
             ],
             [
              0.4444444444444444,
              "#bd3786"
             ],
             [
              0.5555555555555556,
              "#d8576b"
             ],
             [
              0.6666666666666666,
              "#ed7953"
             ],
             [
              0.7777777777777778,
              "#fb9f3a"
             ],
             [
              0.8888888888888888,
              "#fdca26"
             ],
             [
              1,
              "#f0f921"
             ]
            ],
            "type": "contour"
           }
          ],
          "contourcarpet": [
           {
            "colorbar": {
             "outlinewidth": 0,
             "ticks": ""
            },
            "type": "contourcarpet"
           }
          ],
          "heatmap": [
           {
            "colorbar": {
             "outlinewidth": 0,
             "ticks": ""
            },
            "colorscale": [
             [
              0,
              "#0d0887"
             ],
             [
              0.1111111111111111,
              "#46039f"
             ],
             [
              0.2222222222222222,
              "#7201a8"
             ],
             [
              0.3333333333333333,
              "#9c179e"
             ],
             [
              0.4444444444444444,
              "#bd3786"
             ],
             [
              0.5555555555555556,
              "#d8576b"
             ],
             [
              0.6666666666666666,
              "#ed7953"
             ],
             [
              0.7777777777777778,
              "#fb9f3a"
             ],
             [
              0.8888888888888888,
              "#fdca26"
             ],
             [
              1,
              "#f0f921"
             ]
            ],
            "type": "heatmap"
           }
          ],
          "heatmapgl": [
           {
            "colorbar": {
             "outlinewidth": 0,
             "ticks": ""
            },
            "colorscale": [
             [
              0,
              "#0d0887"
             ],
             [
              0.1111111111111111,
              "#46039f"
             ],
             [
              0.2222222222222222,
              "#7201a8"
             ],
             [
              0.3333333333333333,
              "#9c179e"
             ],
             [
              0.4444444444444444,
              "#bd3786"
             ],
             [
              0.5555555555555556,
              "#d8576b"
             ],
             [
              0.6666666666666666,
              "#ed7953"
             ],
             [
              0.7777777777777778,
              "#fb9f3a"
             ],
             [
              0.8888888888888888,
              "#fdca26"
             ],
             [
              1,
              "#f0f921"
             ]
            ],
            "type": "heatmapgl"
           }
          ],
          "histogram": [
           {
            "marker": {
             "pattern": {
              "fillmode": "overlay",
              "size": 10,
              "solidity": 0.2
             }
            },
            "type": "histogram"
           }
          ],
          "histogram2d": [
           {
            "colorbar": {
             "outlinewidth": 0,
             "ticks": ""
            },
            "colorscale": [
             [
              0,
              "#0d0887"
             ],
             [
              0.1111111111111111,
              "#46039f"
             ],
             [
              0.2222222222222222,
              "#7201a8"
             ],
             [
              0.3333333333333333,
              "#9c179e"
             ],
             [
              0.4444444444444444,
              "#bd3786"
             ],
             [
              0.5555555555555556,
              "#d8576b"
             ],
             [
              0.6666666666666666,
              "#ed7953"
             ],
             [
              0.7777777777777778,
              "#fb9f3a"
             ],
             [
              0.8888888888888888,
              "#fdca26"
             ],
             [
              1,
              "#f0f921"
             ]
            ],
            "type": "histogram2d"
           }
          ],
          "histogram2dcontour": [
           {
            "colorbar": {
             "outlinewidth": 0,
             "ticks": ""
            },
            "colorscale": [
             [
              0,
              "#0d0887"
             ],
             [
              0.1111111111111111,
              "#46039f"
             ],
             [
              0.2222222222222222,
              "#7201a8"
             ],
             [
              0.3333333333333333,
              "#9c179e"
             ],
             [
              0.4444444444444444,
              "#bd3786"
             ],
             [
              0.5555555555555556,
              "#d8576b"
             ],
             [
              0.6666666666666666,
              "#ed7953"
             ],
             [
              0.7777777777777778,
              "#fb9f3a"
             ],
             [
              0.8888888888888888,
              "#fdca26"
             ],
             [
              1,
              "#f0f921"
             ]
            ],
            "type": "histogram2dcontour"
           }
          ],
          "mesh3d": [
           {
            "colorbar": {
             "outlinewidth": 0,
             "ticks": ""
            },
            "type": "mesh3d"
           }
          ],
          "parcoords": [
           {
            "line": {
             "colorbar": {
              "outlinewidth": 0,
              "ticks": ""
             }
            },
            "type": "parcoords"
           }
          ],
          "pie": [
           {
            "automargin": true,
            "type": "pie"
           }
          ],
          "scatter": [
           {
            "fillpattern": {
             "fillmode": "overlay",
             "size": 10,
             "solidity": 0.2
            },
            "type": "scatter"
           }
          ],
          "scatter3d": [
           {
            "line": {
             "colorbar": {
              "outlinewidth": 0,
              "ticks": ""
             }
            },
            "marker": {
             "colorbar": {
              "outlinewidth": 0,
              "ticks": ""
             }
            },
            "type": "scatter3d"
           }
          ],
          "scattercarpet": [
           {
            "marker": {
             "colorbar": {
              "outlinewidth": 0,
              "ticks": ""
             }
            },
            "type": "scattercarpet"
           }
          ],
          "scattergeo": [
           {
            "marker": {
             "colorbar": {
              "outlinewidth": 0,
              "ticks": ""
             }
            },
            "type": "scattergeo"
           }
          ],
          "scattergl": [
           {
            "marker": {
             "colorbar": {
              "outlinewidth": 0,
              "ticks": ""
             }
            },
            "type": "scattergl"
           }
          ],
          "scattermapbox": [
           {
            "marker": {
             "colorbar": {
              "outlinewidth": 0,
              "ticks": ""
             }
            },
            "type": "scattermapbox"
           }
          ],
          "scatterpolar": [
           {
            "marker": {
             "colorbar": {
              "outlinewidth": 0,
              "ticks": ""
             }
            },
            "type": "scatterpolar"
           }
          ],
          "scatterpolargl": [
           {
            "marker": {
             "colorbar": {
              "outlinewidth": 0,
              "ticks": ""
             }
            },
            "type": "scatterpolargl"
           }
          ],
          "scatterternary": [
           {
            "marker": {
             "colorbar": {
              "outlinewidth": 0,
              "ticks": ""
             }
            },
            "type": "scatterternary"
           }
          ],
          "surface": [
           {
            "colorbar": {
             "outlinewidth": 0,
             "ticks": ""
            },
            "colorscale": [
             [
              0,
              "#0d0887"
             ],
             [
              0.1111111111111111,
              "#46039f"
             ],
             [
              0.2222222222222222,
              "#7201a8"
             ],
             [
              0.3333333333333333,
              "#9c179e"
             ],
             [
              0.4444444444444444,
              "#bd3786"
             ],
             [
              0.5555555555555556,
              "#d8576b"
             ],
             [
              0.6666666666666666,
              "#ed7953"
             ],
             [
              0.7777777777777778,
              "#fb9f3a"
             ],
             [
              0.8888888888888888,
              "#fdca26"
             ],
             [
              1,
              "#f0f921"
             ]
            ],
            "type": "surface"
           }
          ],
          "table": [
           {
            "cells": {
             "fill": {
              "color": "#EBF0F8"
             },
             "line": {
              "color": "white"
             }
            },
            "header": {
             "fill": {
              "color": "#C8D4E3"
             },
             "line": {
              "color": "white"
             }
            },
            "type": "table"
           }
          ]
         },
         "layout": {
          "annotationdefaults": {
           "arrowcolor": "#2a3f5f",
           "arrowhead": 0,
           "arrowwidth": 1
          },
          "autotypenumbers": "strict",
          "coloraxis": {
           "colorbar": {
            "outlinewidth": 0,
            "ticks": ""
           }
          },
          "colorscale": {
           "diverging": [
            [
             0,
             "#8e0152"
            ],
            [
             0.1,
             "#c51b7d"
            ],
            [
             0.2,
             "#de77ae"
            ],
            [
             0.3,
             "#f1b6da"
            ],
            [
             0.4,
             "#fde0ef"
            ],
            [
             0.5,
             "#f7f7f7"
            ],
            [
             0.6,
             "#e6f5d0"
            ],
            [
             0.7,
             "#b8e186"
            ],
            [
             0.8,
             "#7fbc41"
            ],
            [
             0.9,
             "#4d9221"
            ],
            [
             1,
             "#276419"
            ]
           ],
           "sequential": [
            [
             0,
             "#0d0887"
            ],
            [
             0.1111111111111111,
             "#46039f"
            ],
            [
             0.2222222222222222,
             "#7201a8"
            ],
            [
             0.3333333333333333,
             "#9c179e"
            ],
            [
             0.4444444444444444,
             "#bd3786"
            ],
            [
             0.5555555555555556,
             "#d8576b"
            ],
            [
             0.6666666666666666,
             "#ed7953"
            ],
            [
             0.7777777777777778,
             "#fb9f3a"
            ],
            [
             0.8888888888888888,
             "#fdca26"
            ],
            [
             1,
             "#f0f921"
            ]
           ],
           "sequentialminus": [
            [
             0,
             "#0d0887"
            ],
            [
             0.1111111111111111,
             "#46039f"
            ],
            [
             0.2222222222222222,
             "#7201a8"
            ],
            [
             0.3333333333333333,
             "#9c179e"
            ],
            [
             0.4444444444444444,
             "#bd3786"
            ],
            [
             0.5555555555555556,
             "#d8576b"
            ],
            [
             0.6666666666666666,
             "#ed7953"
            ],
            [
             0.7777777777777778,
             "#fb9f3a"
            ],
            [
             0.8888888888888888,
             "#fdca26"
            ],
            [
             1,
             "#f0f921"
            ]
           ]
          },
          "colorway": [
           "#636efa",
           "#EF553B",
           "#00cc96",
           "#ab63fa",
           "#FFA15A",
           "#19d3f3",
           "#FF6692",
           "#B6E880",
           "#FF97FF",
           "#FECB52"
          ],
          "font": {
           "color": "#2a3f5f"
          },
          "geo": {
           "bgcolor": "white",
           "lakecolor": "white",
           "landcolor": "#E5ECF6",
           "showlakes": true,
           "showland": true,
           "subunitcolor": "white"
          },
          "hoverlabel": {
           "align": "left"
          },
          "hovermode": "closest",
          "mapbox": {
           "style": "light"
          },
          "paper_bgcolor": "white",
          "plot_bgcolor": "#E5ECF6",
          "polar": {
           "angularaxis": {
            "gridcolor": "white",
            "linecolor": "white",
            "ticks": ""
           },
           "bgcolor": "#E5ECF6",
           "radialaxis": {
            "gridcolor": "white",
            "linecolor": "white",
            "ticks": ""
           }
          },
          "scene": {
           "xaxis": {
            "backgroundcolor": "#E5ECF6",
            "gridcolor": "white",
            "gridwidth": 2,
            "linecolor": "white",
            "showbackground": true,
            "ticks": "",
            "zerolinecolor": "white"
           },
           "yaxis": {
            "backgroundcolor": "#E5ECF6",
            "gridcolor": "white",
            "gridwidth": 2,
            "linecolor": "white",
            "showbackground": true,
            "ticks": "",
            "zerolinecolor": "white"
           },
           "zaxis": {
            "backgroundcolor": "#E5ECF6",
            "gridcolor": "white",
            "gridwidth": 2,
            "linecolor": "white",
            "showbackground": true,
            "ticks": "",
            "zerolinecolor": "white"
           }
          },
          "shapedefaults": {
           "line": {
            "color": "#2a3f5f"
           }
          },
          "ternary": {
           "aaxis": {
            "gridcolor": "white",
            "linecolor": "white",
            "ticks": ""
           },
           "baxis": {
            "gridcolor": "white",
            "linecolor": "white",
            "ticks": ""
           },
           "bgcolor": "#E5ECF6",
           "caxis": {
            "gridcolor": "white",
            "linecolor": "white",
            "ticks": ""
           }
          },
          "title": {
           "x": 0.05
          },
          "xaxis": {
           "automargin": true,
           "gridcolor": "white",
           "linecolor": "white",
           "ticks": "",
           "title": {
            "standoff": 15
           },
           "zerolinecolor": "white",
           "zerolinewidth": 2
          },
          "yaxis": {
           "automargin": true,
           "gridcolor": "white",
           "linecolor": "white",
           "ticks": "",
           "title": {
            "standoff": 15
           },
           "zerolinecolor": "white",
           "zerolinewidth": 2
          }
         }
        },
        "title": {
         "text": "Faithfulness Curve"
        },
        "xaxis": {
         "anchor": "y",
         "domain": [
          0,
          1
         ],
         "title": {
          "text": "Num Heads"
         }
        },
        "yaxis": {
         "anchor": "x",
         "domain": [
          0,
          1
         ],
         "title": {
          "text": "Normalized Logit Difference"
         }
        }
       }
      }
     },
     "metadata": {},
     "output_type": "display_data"
    },
    {
     "name": "stderr",
     "output_type": "stream",
     "text": [
      "  0%|          | 0/20 [00:00<?, ?it/s]"
     ]
    },
    {
     "name": "stdout",
     "output_type": "stream",
     "text": [
      "torch.Size([20, 50257]) torch.Size([20, 2])\n",
      "torch.Size([20, 50257]) torch.Size([20, 2])\n",
      "hbi [[11, 10], [9, 5], [6, 2], [3, 3], [8, 9], [5, 9], [9, 4], [9, 11], [8, 8], [1, 5], [0, 4], [9, 1], [3, 1], [0, 3], [0, 2], [8, 4], [5, 8], [11, 6], [5, 3], [8, 1], [1, 10], [10, 5], [10, 7], [7, 10], [10, 6], [0, 0], [8, 0], [2, 6], [1, 6], [6, 10], [10, 4], [2, 0], [5, 0], [7, 6], [9, 9], [6, 0], [10, 0], [8, 7], [1, 7], [2, 2], [10, 3], [8, 3], [10, 2], [1, 11], [9, 2], [2, 4], [5, 6], [3, 2], [11, 7], [7, 7], [11, 1], [1, 9], [6, 1], [11, 2], [5, 4], [1, 1], [4, 11], [6, 9], [9, 0], [10, 10], [4, 2], [4, 8], [4, 1], [3, 6], [6, 5], [3, 10], [7, 0], [5, 7], [0, 1], [10, 8], [9, 6], [3, 9], [0, 8], [2, 10], [10, 11], [6, 3], [0, 9], [7, 9], [9, 10], [8, 5], [5, 10], [7, 2], [0, 5], [6, 4], [6, 6], [4, 10], [3, 5], [2, 7], [1, 3], [7, 3], [11, 8], [6, 7], [4, 4], [0, 6], [1, 4], [5, 2], [6, 8], [2, 8], [3, 7], [7, 1], [10, 9], [11, 9], [5, 11], [2, 11], [4, 3], [11, 11], [4, 6], [11, 4], [3, 11], [8, 2], [11, 5], [10, 1], [7, 5], [0, 11], [5, 5], [2, 3], [2, 9], [11, 3], [8, 6], [4, 9], [3, 8], [9, 3], [3, 4], [9, 8], [4, 7], [7, 4], [0, 7], [1, 2], [2, 1], [3, 0], [2, 5], [6, 11], [1, 0], [7, 8], [11, 0], [7, 11], [1, 8], [9, 7], [8, 11], [0, 10], [4, 5], [8, 10], [4, 0], [5, 1]]\n"
     ]
    },
    {
     "name": "stderr",
     "output_type": "stream",
     "text": [
      "  5%|▌         | 1/20 [00:06<02:01,  6.39s/it]"
     ]
    },
    {
     "name": "stdout",
     "output_type": "stream",
     "text": [
      "torch.Size([20, 50257]) torch.Size([20, 2])\n",
      "torch.Size([20, 50257]) torch.Size([20, 2])\n",
      "hbi [[6, 7], [1, 1], [4, 10], [0, 3], [4, 0], [4, 6], [6, 1], [3, 1], [9, 2], [6, 2], [0, 11], [0, 7], [0, 1], [11, 1], [3, 5], [9, 3], [5, 2], [7, 4], [5, 9], [5, 8], [6, 5], [0, 8], [0, 5], [8, 3], [5, 7], [10, 2], [4, 8], [3, 7], [7, 9], [10, 1], [1, 4], [10, 3], [9, 4], [9, 11], [2, 8], [7, 11], [9, 5], [9, 7], [0, 10], [1, 2], [4, 5], [4, 7], [5, 1], [7, 0], [6, 8], [0, 4], [10, 0], [5, 3], [1, 3], [5, 11], [5, 10], [9, 0], [4, 11], [2, 3], [11, 4], [4, 9], [8, 10], [10, 9], [3, 0], [2, 4], [7, 6], [6, 11], [3, 10], [1, 7], [1, 8], [5, 0], [6, 3], [7, 2], [2, 11], [10, 5], [8, 7], [10, 4], [8, 5], [10, 11], [10, 7], [11, 10], [2, 6], [2, 1], [8, 0], [6, 6], [8, 8], [9, 1], [11, 6], [11, 2], [11, 3], [2, 9], [2, 5], [1, 9], [6, 0], [10, 8], [1, 0], [3, 9], [6, 10], [2, 7], [9, 8], [7, 8], [9, 6], [3, 6], [11, 5], [0, 2], [7, 5], [9, 9], [6, 4], [1, 6], [8, 9], [3, 2], [10, 6], [8, 1], [2, 10], [8, 4], [2, 2], [8, 2], [9, 10], [4, 4], [3, 8], [5, 6], [1, 10], [11, 7], [0, 9], [3, 3], [10, 10], [6, 9], [7, 1], [5, 4], [7, 10], [4, 1], [11, 0], [3, 11], [8, 11], [0, 0], [11, 11], [4, 2], [1, 11], [4, 3], [8, 6], [1, 5], [2, 0], [11, 9], [5, 5], [11, 8], [7, 3], [0, 6], [3, 4], [7, 7]]\n"
     ]
    },
    {
     "name": "stderr",
     "output_type": "stream",
     "text": [
      " 10%|█         | 2/20 [00:12<01:49,  6.10s/it]"
     ]
    },
    {
     "name": "stdout",
     "output_type": "stream",
     "text": [
      "torch.Size([20, 50257]) torch.Size([20, 2])\n",
      "torch.Size([20, 50257]) torch.Size([20, 2])\n",
      "hbi [[5, 3], [0, 0], [1, 7], [4, 8], [7, 0], [8, 1], [1, 6], [0, 8], [2, 6], [5, 2], [7, 3], [9, 11], [3, 8], [4, 0], [4, 1], [0, 4], [3, 9], [8, 10], [5, 7], [7, 11], [7, 7], [1, 2], [4, 4], [9, 10], [11, 2], [1, 9], [3, 3], [8, 8], [10, 3], [8, 3], [10, 4], [3, 6], [2, 3], [2, 4], [0, 1], [6, 2], [7, 10], [6, 11], [3, 11], [4, 11], [11, 5], [5, 5], [10, 5], [6, 9], [1, 4], [2, 11], [4, 2], [6, 1], [5, 10], [4, 5], [9, 6], [10, 0], [6, 10], [0, 9], [1, 10], [11, 8], [1, 11], [3, 4], [7, 6], [11, 4], [9, 0], [0, 6], [1, 8], [10, 10], [2, 9], [1, 1], [5, 4], [10, 8], [7, 9], [8, 0], [4, 6], [9, 4], [4, 3], [2, 2], [2, 0], [10, 9], [6, 4], [4, 10], [5, 6], [4, 7], [8, 4], [3, 10], [7, 8], [3, 1], [10, 6], [9, 1], [1, 3], [6, 0], [11, 1], [10, 1], [8, 5], [8, 6], [7, 2], [2, 1], [3, 7], [11, 7], [5, 8], [9, 7], [3, 0], [2, 8], [2, 10], [3, 2], [0, 2], [0, 11], [0, 5], [8, 11], [6, 8], [10, 2], [4, 9], [6, 3], [11, 3], [9, 9], [9, 2], [0, 7], [11, 10], [5, 1], [10, 7], [5, 0], [11, 6], [6, 6], [9, 3], [8, 9], [1, 0], [11, 11], [9, 5], [7, 1], [2, 5], [10, 11], [2, 7], [6, 7], [0, 3], [8, 7], [5, 9], [5, 11], [11, 0], [6, 5], [7, 5], [11, 9], [8, 2], [0, 10], [3, 5], [7, 4], [1, 5], [9, 8]]\n"
     ]
    },
    {
     "name": "stderr",
     "output_type": "stream",
     "text": [
      " 15%|█▌        | 3/20 [00:18<01:42,  6.02s/it]"
     ]
    },
    {
     "name": "stdout",
     "output_type": "stream",
     "text": [
      "torch.Size([20, 50257]) torch.Size([20, 2])\n",
      "torch.Size([20, 50257]) torch.Size([20, 2])\n",
      "hbi [[3, 3], [2, 0], [5, 2], [0, 5], [6, 0], [8, 2], [9, 11], [7, 5], [4, 1], [11, 9], [0, 2], [3, 7], [6, 9], [10, 3], [3, 6], [8, 8], [0, 8], [3, 5], [3, 2], [7, 6], [6, 6], [5, 7], [6, 1], [11, 11], [11, 3], [2, 2], [0, 4], [8, 3], [9, 8], [2, 1], [7, 11], [1, 11], [3, 9], [9, 5], [0, 1], [6, 10], [2, 11], [0, 6], [10, 0], [7, 9], [8, 11], [9, 0], [7, 1], [11, 6], [5, 9], [4, 6], [4, 0], [1, 7], [9, 10], [8, 6], [2, 10], [6, 11], [7, 10], [1, 5], [4, 4], [2, 8], [10, 4], [8, 7], [10, 2], [2, 7], [7, 2], [9, 2], [10, 11], [9, 3], [11, 7], [8, 1], [1, 9], [2, 3], [3, 11], [7, 4], [4, 9], [0, 0], [11, 8], [4, 10], [9, 4], [10, 5], [4, 11], [1, 0], [6, 7], [5, 0], [3, 4], [3, 8], [1, 8], [2, 4], [11, 2], [5, 3], [11, 1], [5, 4], [4, 2], [1, 10], [5, 10], [0, 9], [11, 4], [7, 7], [1, 3], [3, 1], [5, 6], [5, 11], [11, 0], [2, 9], [8, 5], [9, 1], [7, 3], [8, 9], [11, 5], [1, 1], [10, 6], [6, 5], [4, 8], [8, 4], [2, 6], [11, 10], [0, 3], [10, 1], [10, 7], [7, 0], [5, 1], [4, 5], [9, 6], [3, 0], [5, 8], [8, 10], [6, 4], [9, 7], [7, 8], [6, 3], [10, 8], [8, 0], [1, 2], [0, 10], [4, 3], [2, 5], [6, 8], [1, 4], [10, 9], [10, 10], [1, 6], [3, 10], [0, 7], [5, 5], [6, 2], [0, 11], [9, 9], [4, 7]]\n"
     ]
    },
    {
     "name": "stderr",
     "output_type": "stream",
     "text": [
      " 20%|██        | 4/20 [00:24<01:36,  6.01s/it]"
     ]
    },
    {
     "name": "stdout",
     "output_type": "stream",
     "text": [
      "torch.Size([20, 50257]) torch.Size([20, 2])\n",
      "torch.Size([20, 50257]) torch.Size([20, 2])\n",
      "hbi [[7, 7], [2, 5], [8, 2], [4, 10], [4, 11], [4, 8], [9, 1], [5, 3], [10, 9], [3, 5], [0, 7], [11, 4], [6, 3], [3, 6], [2, 4], [2, 6], [9, 9], [3, 11], [2, 7], [11, 2], [9, 7], [11, 9], [11, 3], [9, 5], [6, 5], [5, 0], [1, 8], [10, 11], [7, 8], [10, 3], [3, 7], [3, 10], [5, 11], [10, 4], [9, 3], [1, 3], [11, 10], [8, 4], [4, 3], [9, 6], [7, 3], [6, 4], [5, 2], [3, 4], [10, 2], [6, 11], [0, 1], [8, 1], [9, 11], [10, 1], [10, 6], [2, 11], [7, 9], [4, 0], [10, 0], [5, 9], [0, 4], [6, 8], [9, 4], [10, 5], [1, 1], [6, 9], [0, 2], [9, 2], [0, 8], [10, 10], [11, 8], [3, 0], [2, 1], [0, 5], [6, 1], [0, 11], [5, 1], [1, 4], [11, 0], [7, 0], [7, 1], [7, 2], [8, 7], [0, 9], [4, 4], [1, 5], [8, 5], [9, 0], [8, 6], [5, 5], [4, 7], [0, 3], [0, 10], [1, 0], [11, 5], [2, 10], [2, 3], [5, 8], [3, 8], [3, 2], [8, 11], [7, 5], [6, 0], [6, 2], [7, 10], [7, 4], [0, 6], [11, 6], [8, 3], [4, 9], [8, 0], [2, 8], [4, 5], [11, 7], [3, 1], [10, 8], [8, 9], [9, 8], [4, 2], [2, 9], [8, 10], [3, 3], [0, 0], [5, 7], [5, 4], [10, 7], [1, 2], [7, 6], [1, 9], [2, 2], [1, 6], [3, 9], [1, 10], [8, 8], [6, 7], [1, 11], [1, 7], [5, 10], [4, 6], [6, 10], [5, 6], [11, 1], [4, 1], [6, 6], [9, 10], [7, 11], [11, 11], [2, 0]]\n"
     ]
    },
    {
     "name": "stderr",
     "output_type": "stream",
     "text": [
      " 25%|██▌       | 5/20 [00:30<01:31,  6.10s/it]"
     ]
    },
    {
     "name": "stdout",
     "output_type": "stream",
     "text": [
      "torch.Size([20, 50257]) torch.Size([20, 2])\n",
      "torch.Size([20, 50257]) torch.Size([20, 2])\n",
      "hbi [[11, 11], [7, 2], [10, 7], [1, 3], [4, 9], [6, 7], [3, 11], [8, 1], [9, 9], [2, 10], [7, 7], [5, 8], [1, 4], [10, 10], [4, 4], [9, 11], [2, 11], [1, 9], [11, 5], [11, 2], [6, 11], [7, 11], [3, 9], [0, 4], [8, 9], [5, 3], [5, 0], [10, 11], [11, 10], [9, 3], [3, 5], [4, 11], [0, 2], [1, 6], [7, 6], [9, 5], [8, 11], [8, 7], [7, 5], [10, 9], [0, 5], [8, 0], [9, 6], [1, 5], [10, 1], [6, 10], [0, 10], [6, 2], [5, 9], [3, 6], [4, 10], [8, 3], [4, 6], [2, 3], [8, 5], [0, 11], [10, 2], [8, 6], [5, 7], [7, 9], [5, 5], [3, 10], [9, 4], [1, 11], [7, 0], [10, 4], [6, 4], [4, 8], [3, 1], [6, 6], [7, 4], [11, 8], [2, 8], [4, 1], [5, 1], [2, 5], [1, 7], [0, 6], [9, 2], [4, 0], [6, 0], [2, 0], [9, 8], [3, 8], [6, 9], [11, 0], [6, 8], [6, 3], [8, 2], [8, 4], [1, 8], [2, 7], [10, 3], [3, 4], [11, 3], [11, 9], [0, 0], [7, 8], [5, 6], [11, 4], [4, 2], [7, 1], [3, 0], [11, 7], [5, 10], [10, 6], [11, 1], [0, 1], [0, 3], [3, 2], [1, 2], [7, 3], [5, 4], [5, 11], [9, 0], [8, 8], [7, 10], [2, 2], [0, 9], [9, 10], [5, 2], [3, 3], [11, 6], [6, 5], [10, 0], [0, 7], [0, 8], [9, 1], [2, 6], [10, 5], [4, 5], [1, 10], [2, 9], [4, 3], [4, 7], [9, 7], [8, 10], [3, 7], [10, 8], [2, 4], [1, 1], [1, 0], [2, 1], [6, 1]]\n"
     ]
    },
    {
     "name": "stderr",
     "output_type": "stream",
     "text": [
      " 30%|███       | 6/20 [00:36<01:26,  6.18s/it]"
     ]
    },
    {
     "name": "stdout",
     "output_type": "stream",
     "text": [
      "torch.Size([20, 50257]) torch.Size([20, 2])\n",
      "torch.Size([20, 50257]) torch.Size([20, 2])\n",
      "hbi [[3, 6], [0, 11], [1, 10], [3, 5], [8, 6], [1, 1], [6, 11], [0, 3], [7, 10], [9, 8], [6, 2], [10, 11], [7, 0], [10, 4], [7, 5], [4, 2], [8, 9], [10, 1], [6, 8], [1, 4], [9, 9], [2, 0], [6, 1], [11, 11], [9, 7], [6, 6], [0, 0], [4, 4], [1, 6], [9, 3], [11, 3], [10, 5], [0, 1], [2, 9], [7, 2], [7, 4], [10, 0], [10, 2], [4, 8], [3, 2], [10, 8], [11, 9], [10, 3], [5, 3], [6, 9], [10, 10], [5, 6], [7, 3], [6, 5], [11, 0], [9, 6], [10, 9], [1, 7], [2, 6], [7, 11], [5, 2], [8, 11], [8, 1], [8, 0], [8, 10], [2, 10], [11, 7], [3, 9], [7, 6], [9, 11], [4, 10], [1, 2], [5, 9], [2, 3], [3, 11], [3, 8], [6, 3], [9, 1], [3, 7], [1, 9], [5, 0], [1, 8], [11, 4], [0, 6], [6, 0], [3, 10], [0, 2], [9, 0], [11, 2], [2, 2], [6, 4], [2, 5], [8, 8], [4, 5], [5, 1], [3, 0], [5, 5], [5, 10], [5, 11], [0, 8], [1, 11], [8, 4], [3, 4], [0, 10], [11, 1], [7, 7], [8, 5], [11, 8], [9, 5], [5, 7], [6, 7], [3, 3], [6, 10], [4, 11], [3, 1], [2, 11], [0, 5], [1, 5], [7, 9], [9, 4], [8, 2], [4, 3], [0, 9], [11, 5], [8, 3], [2, 8], [2, 1], [0, 4], [2, 4], [8, 7], [5, 4], [7, 1], [11, 6], [2, 7], [1, 3], [5, 8], [4, 0], [4, 1], [4, 9], [4, 7], [9, 10], [0, 7], [1, 0], [11, 10], [10, 6], [9, 2], [10, 7], [7, 8], [4, 6]]\n"
     ]
    },
    {
     "name": "stderr",
     "output_type": "stream",
     "text": [
      " 35%|███▌      | 7/20 [00:42<01:20,  6.16s/it]"
     ]
    },
    {
     "name": "stdout",
     "output_type": "stream",
     "text": [
      "torch.Size([20, 50257]) torch.Size([20, 2])\n",
      "torch.Size([20, 50257]) torch.Size([20, 2])\n",
      "hbi [[10, 11], [10, 8], [8, 4], [3, 11], [0, 3], [7, 0], [4, 7], [8, 11], [2, 1], [6, 8], [0, 11], [11, 8], [3, 3], [10, 0], [0, 8], [1, 7], [5, 10], [8, 9], [4, 6], [5, 7], [8, 10], [11, 7], [0, 0], [1, 4], [4, 11], [6, 0], [6, 7], [10, 7], [7, 9], [7, 10], [7, 11], [2, 10], [7, 6], [0, 9], [9, 5], [2, 3], [2, 11], [9, 1], [11, 4], [6, 5], [7, 2], [8, 7], [2, 6], [3, 2], [10, 6], [6, 6], [11, 11], [4, 4], [5, 3], [1, 1], [2, 2], [5, 1], [10, 9], [4, 0], [3, 6], [1, 10], [6, 1], [7, 7], [5, 5], [6, 2], [2, 9], [7, 8], [0, 2], [10, 3], [6, 10], [1, 9], [3, 7], [9, 8], [8, 6], [10, 10], [5, 2], [10, 4], [2, 5], [4, 1], [9, 9], [11, 6], [8, 8], [5, 0], [9, 3], [2, 0], [9, 7], [5, 8], [4, 2], [6, 9], [2, 7], [10, 1], [4, 10], [6, 4], [8, 1], [1, 2], [1, 11], [3, 9], [11, 2], [7, 4], [4, 5], [4, 3], [1, 8], [3, 4], [1, 5], [11, 3], [11, 5], [4, 8], [10, 2], [6, 11], [1, 6], [2, 4], [1, 3], [3, 1], [7, 5], [10, 5], [11, 0], [3, 5], [2, 8], [0, 10], [4, 9], [6, 3], [9, 0], [3, 0], [8, 3], [8, 5], [5, 11], [8, 2], [3, 10], [0, 4], [8, 0], [9, 11], [7, 1], [0, 7], [3, 8], [5, 4], [9, 4], [9, 6], [0, 1], [5, 6], [5, 9], [0, 6], [9, 10], [9, 2], [11, 9], [7, 3], [11, 1], [1, 0], [11, 10], [0, 5]]\n"
     ]
    },
    {
     "name": "stderr",
     "output_type": "stream",
     "text": [
      " 40%|████      | 8/20 [00:49<01:13,  6.15s/it]"
     ]
    },
    {
     "name": "stdout",
     "output_type": "stream",
     "text": [
      "torch.Size([20, 50257]) torch.Size([20, 2])\n",
      "torch.Size([20, 50257]) torch.Size([20, 2])\n",
      "hbi [[0, 9], [1, 10], [4, 3], [8, 3], [2, 4], [5, 1], [4, 9], [10, 8], [7, 6], [0, 2], [1, 11], [11, 3], [0, 4], [5, 6], [0, 5], [9, 7], [11, 7], [10, 2], [1, 8], [6, 8], [1, 2], [0, 3], [5, 2], [3, 9], [10, 6], [9, 11], [11, 6], [2, 0], [8, 7], [9, 0], [2, 5], [0, 8], [9, 6], [10, 10], [5, 7], [4, 1], [6, 2], [11, 9], [8, 9], [8, 1], [10, 7], [0, 11], [6, 0], [3, 0], [4, 5], [1, 6], [5, 3], [6, 9], [8, 0], [9, 1], [11, 0], [2, 6], [9, 8], [4, 7], [2, 10], [9, 2], [10, 5], [3, 10], [2, 9], [0, 7], [7, 9], [1, 5], [3, 2], [7, 11], [4, 6], [1, 4], [0, 1], [3, 11], [5, 10], [5, 8], [8, 10], [10, 11], [3, 3], [1, 7], [8, 6], [7, 5], [7, 8], [10, 3], [5, 0], [6, 11], [1, 0], [4, 0], [3, 1], [5, 4], [11, 10], [0, 0], [3, 7], [1, 1], [2, 11], [2, 8], [7, 1], [8, 5], [10, 1], [6, 10], [7, 4], [11, 5], [6, 3], [2, 7], [6, 7], [3, 5], [6, 1], [8, 4], [7, 7], [9, 10], [5, 11], [11, 1], [4, 11], [8, 2], [3, 8], [4, 10], [4, 8], [0, 10], [6, 4], [10, 4], [4, 2], [11, 2], [7, 3], [10, 0], [1, 9], [2, 2], [11, 8], [7, 0], [9, 4], [2, 3], [9, 9], [3, 6], [6, 6], [10, 9], [0, 6], [7, 10], [4, 4], [9, 5], [11, 4], [2, 1], [11, 11], [8, 11], [6, 5], [8, 8], [3, 4], [1, 3], [5, 5], [7, 2], [9, 3], [5, 9]]\n"
     ]
    },
    {
     "name": "stderr",
     "output_type": "stream",
     "text": [
      " 45%|████▌     | 9/20 [00:55<01:08,  6.21s/it]"
     ]
    },
    {
     "name": "stdout",
     "output_type": "stream",
     "text": [
      "torch.Size([20, 50257]) torch.Size([20, 2])\n",
      "torch.Size([20, 50257]) torch.Size([20, 2])\n",
      "hbi [[1, 9], [7, 7], [0, 6], [6, 0], [11, 2], [0, 9], [2, 0], [2, 10], [7, 5], [3, 10], [4, 3], [7, 9], [3, 0], [11, 0], [6, 10], [11, 7], [7, 2], [11, 5], [0, 2], [5, 6], [4, 1], [8, 0], [7, 10], [2, 4], [0, 10], [6, 4], [9, 9], [4, 7], [0, 11], [0, 1], [9, 8], [0, 5], [10, 0], [10, 10], [10, 1], [8, 2], [1, 6], [8, 11], [5, 0], [7, 8], [3, 8], [10, 7], [10, 3], [0, 4], [4, 0], [4, 10], [7, 11], [8, 4], [8, 10], [6, 2], [8, 8], [10, 4], [11, 9], [2, 2], [11, 8], [11, 10], [10, 9], [8, 5], [11, 6], [4, 6], [3, 9], [9, 0], [2, 3], [8, 3], [1, 4], [4, 8], [2, 11], [3, 3], [8, 9], [3, 11], [5, 5], [7, 0], [7, 3], [9, 6], [10, 5], [4, 5], [1, 11], [5, 3], [9, 4], [9, 5], [1, 5], [9, 3], [11, 4], [0, 7], [2, 6], [7, 1], [4, 4], [8, 6], [3, 4], [8, 1], [0, 3], [6, 1], [3, 2], [5, 11], [11, 3], [2, 1], [6, 8], [3, 7], [0, 0], [6, 11], [3, 5], [9, 1], [1, 10], [5, 1], [0, 8], [5, 9], [9, 10], [2, 8], [2, 9], [11, 1], [10, 6], [5, 10], [4, 9], [1, 3], [6, 9], [6, 5], [9, 2], [1, 7], [6, 3], [8, 7], [1, 1], [1, 0], [1, 2], [9, 11], [2, 7], [10, 11], [6, 7], [5, 4], [11, 11], [7, 6], [10, 8], [9, 7], [5, 8], [2, 5], [3, 6], [3, 1], [5, 2], [4, 2], [5, 7], [10, 2], [1, 8], [6, 6], [4, 11], [7, 4]]\n"
     ]
    },
    {
     "name": "stderr",
     "output_type": "stream",
     "text": [
      " 50%|█████     | 10/20 [01:01<01:01,  6.13s/it]"
     ]
    },
    {
     "name": "stdout",
     "output_type": "stream",
     "text": [
      "torch.Size([20, 50257]) torch.Size([20, 2])\n",
      "torch.Size([20, 50257]) torch.Size([20, 2])\n",
      "hbi [[0, 11], [1, 4], [11, 9], [10, 11], [5, 2], [1, 11], [6, 9], [4, 9], [9, 2], [6, 3], [5, 6], [11, 1], [0, 4], [0, 9], [9, 3], [9, 9], [0, 1], [5, 10], [8, 1], [11, 10], [11, 11], [7, 10], [5, 9], [7, 5], [6, 6], [10, 6], [11, 6], [1, 8], [11, 7], [7, 1], [6, 2], [10, 0], [9, 8], [5, 0], [9, 6], [1, 9], [2, 8], [1, 3], [0, 6], [3, 3], [10, 9], [9, 7], [0, 10], [11, 0], [2, 3], [3, 7], [7, 8], [3, 1], [4, 10], [11, 8], [1, 6], [6, 10], [5, 4], [4, 2], [4, 11], [3, 0], [0, 3], [1, 2], [3, 6], [0, 7], [7, 4], [1, 5], [10, 3], [9, 11], [2, 11], [6, 5], [2, 7], [2, 10], [6, 4], [5, 3], [10, 2], [9, 4], [5, 11], [7, 2], [0, 0], [11, 4], [4, 7], [11, 5], [4, 5], [7, 0], [10, 5], [2, 6], [3, 10], [5, 7], [0, 5], [5, 1], [3, 9], [10, 7], [9, 5], [4, 4], [2, 2], [0, 8], [6, 11], [4, 0], [9, 0], [7, 3], [1, 0], [2, 0], [8, 5], [8, 4], [8, 6], [10, 1], [6, 8], [8, 11], [11, 3], [3, 4], [8, 7], [11, 2], [1, 7], [3, 2], [4, 8], [7, 7], [2, 5], [4, 3], [10, 4], [4, 1], [3, 8], [4, 6], [8, 3], [2, 1], [7, 11], [10, 8], [6, 7], [8, 10], [5, 8], [3, 5], [8, 0], [10, 10], [7, 9], [1, 10], [7, 6], [8, 8], [5, 5], [8, 9], [2, 4], [2, 9], [6, 0], [9, 10], [3, 11], [9, 1], [0, 2], [8, 2], [6, 1], [1, 1]]\n"
     ]
    },
    {
     "name": "stderr",
     "output_type": "stream",
     "text": [
      " 55%|█████▌    | 11/20 [01:07<00:54,  6.07s/it]"
     ]
    },
    {
     "name": "stdout",
     "output_type": "stream",
     "text": [
      "torch.Size([20, 50257]) torch.Size([20, 2])\n",
      "torch.Size([20, 50257]) torch.Size([20, 2])\n",
      "hbi [[7, 2], [8, 10], [6, 2], [7, 6], [10, 4], [0, 0], [8, 3], [8, 4], [8, 9], [9, 3], [3, 9], [1, 10], [6, 9], [7, 4], [6, 10], [8, 6], [2, 9], [8, 1], [7, 0], [0, 1], [0, 9], [11, 6], [8, 2], [6, 5], [4, 5], [3, 0], [7, 3], [2, 10], [9, 10], [11, 3], [9, 6], [6, 7], [10, 11], [1, 9], [9, 1], [11, 2], [2, 4], [5, 10], [10, 7], [11, 11], [5, 9], [5, 2], [5, 11], [10, 9], [1, 2], [5, 8], [7, 5], [11, 9], [10, 1], [7, 11], [10, 2], [9, 4], [8, 8], [5, 6], [11, 5], [7, 7], [4, 2], [0, 7], [9, 5], [1, 8], [0, 10], [9, 0], [6, 3], [11, 4], [4, 11], [4, 8], [8, 0], [4, 0], [4, 3], [0, 5], [0, 2], [2, 1], [6, 0], [2, 0], [0, 8], [10, 0], [11, 10], [8, 11], [11, 8], [5, 1], [1, 4], [5, 4], [10, 6], [7, 10], [3, 8], [1, 3], [2, 6], [6, 1], [0, 6], [0, 11], [5, 3], [6, 11], [7, 9], [10, 8], [3, 1], [4, 4], [9, 9], [5, 7], [10, 10], [2, 3], [5, 5], [4, 9], [1, 11], [11, 0], [9, 11], [3, 2], [2, 5], [1, 0], [0, 4], [1, 7], [2, 7], [2, 8], [3, 7], [6, 6], [3, 4], [6, 4], [2, 11], [8, 5], [6, 8], [4, 1], [3, 3], [3, 6], [7, 8], [0, 3], [1, 1], [5, 0], [11, 7], [4, 7], [1, 6], [9, 8], [3, 5], [4, 6], [11, 1], [10, 3], [1, 5], [9, 2], [10, 5], [8, 7], [7, 1], [2, 2], [4, 10], [9, 7], [3, 11], [3, 10]]\n"
     ]
    },
    {
     "name": "stderr",
     "output_type": "stream",
     "text": [
      " 60%|██████    | 12/20 [01:13<00:48,  6.02s/it]"
     ]
    },
    {
     "name": "stdout",
     "output_type": "stream",
     "text": [
      "torch.Size([20, 50257]) torch.Size([20, 2])\n",
      "torch.Size([20, 50257]) torch.Size([20, 2])\n",
      "hbi [[9, 1], [5, 6], [11, 5], [8, 1], [6, 2], [8, 6], [0, 4], [10, 3], [4, 5], [7, 2], [11, 2], [9, 4], [3, 6], [10, 7], [2, 1], [2, 3], [7, 0], [3, 10], [10, 5], [1, 11], [11, 0], [3, 0], [10, 1], [6, 9], [0, 6], [2, 10], [4, 3], [5, 0], [4, 7], [7, 6], [3, 8], [9, 9], [9, 0], [2, 2], [0, 7], [5, 3], [4, 9], [4, 1], [2, 5], [2, 0], [1, 4], [2, 4], [8, 3], [11, 11], [9, 5], [0, 0], [0, 1], [5, 2], [7, 9], [5, 9], [11, 4], [6, 3], [3, 7], [1, 6], [8, 8], [1, 2], [5, 10], [0, 2], [10, 4], [1, 5], [10, 8], [1, 8], [7, 1], [4, 4], [7, 10], [10, 9], [4, 6], [10, 2], [10, 11], [8, 10], [9, 8], [4, 2], [7, 3], [5, 11], [11, 6], [5, 1], [6, 5], [3, 1], [6, 8], [0, 8], [11, 3], [10, 10], [0, 5], [7, 8], [8, 11], [0, 11], [1, 7], [3, 4], [10, 6], [1, 9], [11, 8], [9, 6], [2, 9], [5, 5], [7, 4], [6, 1], [6, 6], [3, 5], [8, 5], [6, 11], [10, 0], [6, 7], [9, 3], [4, 0], [3, 11], [8, 7], [0, 9], [1, 0], [8, 4], [4, 10], [4, 11], [6, 0], [11, 1], [9, 2], [8, 0], [2, 11], [2, 6], [2, 8], [5, 7], [8, 9], [11, 9], [5, 8], [0, 3], [1, 3], [6, 4], [7, 5], [8, 2], [3, 2], [3, 3], [1, 10], [2, 7], [6, 10], [11, 10], [9, 11], [4, 8], [0, 10], [9, 7], [5, 4], [1, 1], [3, 9], [7, 11], [7, 7], [9, 10], [11, 7]]\n"
     ]
    },
    {
     "name": "stderr",
     "output_type": "stream",
     "text": [
      " 65%|██████▌   | 13/20 [01:19<00:41,  5.99s/it]"
     ]
    },
    {
     "name": "stdout",
     "output_type": "stream",
     "text": [
      "torch.Size([20, 50257]) torch.Size([20, 2])\n",
      "torch.Size([20, 50257]) torch.Size([20, 2])\n",
      "hbi [[1, 9], [8, 2], [7, 10], [9, 9], [10, 5], [2, 0], [11, 11], [3, 10], [5, 7], [8, 6], [6, 5], [6, 0], [11, 2], [1, 3], [8, 4], [9, 6], [0, 3], [5, 2], [9, 10], [1, 6], [10, 11], [11, 6], [10, 3], [4, 3], [10, 4], [8, 8], [4, 5], [7, 2], [11, 7], [5, 6], [0, 0], [9, 5], [5, 9], [1, 5], [2, 7], [11, 1], [4, 0], [8, 1], [0, 6], [10, 6], [0, 10], [6, 9], [7, 1], [11, 0], [3, 9], [6, 11], [7, 4], [6, 8], [4, 1], [2, 5], [6, 10], [8, 3], [2, 2], [0, 4], [11, 5], [11, 9], [9, 1], [11, 3], [2, 8], [11, 4], [0, 2], [4, 6], [2, 11], [0, 5], [6, 3], [7, 3], [9, 4], [7, 11], [11, 8], [4, 2], [8, 5], [7, 6], [2, 6], [1, 0], [5, 5], [5, 8], [3, 11], [6, 4], [3, 8], [4, 9], [8, 0], [3, 1], [3, 5], [2, 4], [5, 3], [9, 3], [3, 0], [0, 9], [0, 1], [9, 8], [3, 2], [4, 10], [8, 9], [9, 2], [1, 1], [5, 11], [4, 8], [11, 10], [5, 10], [1, 11], [10, 0], [3, 3], [8, 11], [6, 6], [6, 7], [9, 7], [5, 0], [4, 4], [10, 7], [7, 8], [3, 4], [0, 11], [7, 7], [1, 4], [5, 4], [3, 6], [1, 2], [2, 1], [10, 8], [6, 2], [9, 0], [7, 0], [10, 2], [4, 11], [1, 10], [1, 8], [3, 7], [0, 8], [2, 3], [9, 11], [7, 9], [8, 7], [7, 5], [2, 10], [1, 7], [4, 7], [2, 9], [6, 1], [5, 1], [10, 10], [10, 1], [8, 10], [0, 7], [10, 9]]\n"
     ]
    },
    {
     "name": "stderr",
     "output_type": "stream",
     "text": [
      " 70%|███████   | 14/20 [01:25<00:35,  5.98s/it]"
     ]
    },
    {
     "name": "stdout",
     "output_type": "stream",
     "text": [
      "torch.Size([20, 50257]) torch.Size([20, 2])\n",
      "torch.Size([20, 50257]) torch.Size([20, 2])\n",
      "hbi [[9, 0], [9, 6], [7, 4], [11, 8], [9, 4], [10, 0], [9, 5], [8, 8], [8, 4], [0, 2], [6, 10], [7, 7], [3, 7], [5, 9], [8, 2], [8, 0], [9, 7], [2, 4], [0, 8], [10, 2], [4, 7], [8, 3], [6, 11], [3, 5], [6, 4], [2, 3], [4, 8], [2, 10], [1, 7], [3, 0], [10, 1], [5, 11], [7, 9], [10, 7], [2, 0], [5, 3], [10, 4], [6, 2], [11, 9], [4, 3], [4, 2], [9, 11], [4, 11], [7, 2], [3, 4], [0, 10], [4, 1], [7, 8], [2, 7], [8, 6], [1, 8], [9, 10], [0, 0], [2, 11], [11, 7], [3, 6], [3, 1], [11, 6], [10, 11], [2, 5], [0, 1], [7, 10], [0, 3], [5, 1], [1, 5], [5, 6], [4, 9], [6, 9], [0, 6], [2, 2], [3, 8], [7, 3], [3, 3], [11, 1], [0, 7], [5, 8], [6, 8], [5, 10], [10, 3], [4, 0], [8, 11], [11, 4], [4, 4], [1, 10], [10, 5], [6, 7], [0, 5], [11, 3], [4, 6], [0, 11], [7, 5], [11, 0], [11, 5], [8, 5], [9, 9], [10, 6], [5, 2], [6, 5], [8, 10], [5, 5], [1, 1], [10, 8], [8, 9], [3, 9], [7, 1], [1, 4], [11, 10], [6, 1], [2, 6], [1, 2], [6, 3], [1, 3], [2, 9], [8, 7], [1, 0], [1, 11], [5, 4], [3, 10], [4, 10], [5, 7], [8, 1], [3, 11], [7, 11], [1, 6], [9, 8], [10, 10], [10, 9], [9, 1], [11, 11], [1, 9], [7, 6], [9, 2], [6, 6], [3, 2], [0, 4], [7, 0], [9, 3], [6, 0], [2, 8], [2, 1], [11, 2], [0, 9], [4, 5], [5, 0]]\n"
     ]
    },
    {
     "name": "stderr",
     "output_type": "stream",
     "text": [
      " 75%|███████▌  | 15/20 [01:30<00:29,  5.96s/it]"
     ]
    },
    {
     "name": "stdout",
     "output_type": "stream",
     "text": [
      "torch.Size([20, 50257]) torch.Size([20, 2])\n",
      "torch.Size([20, 50257]) torch.Size([20, 2])\n",
      "hbi [[2, 1], [2, 6], [7, 5], [9, 10], [3, 1], [6, 11], [5, 0], [3, 9], [11, 4], [4, 1], [9, 11], [2, 0], [5, 2], [4, 4], [6, 6], [4, 6], [9, 8], [5, 6], [5, 3], [8, 10], [10, 5], [7, 1], [6, 4], [11, 7], [7, 6], [10, 9], [3, 5], [5, 5], [10, 10], [5, 1], [8, 7], [0, 5], [0, 6], [6, 0], [2, 4], [7, 10], [6, 7], [11, 1], [5, 10], [9, 3], [1, 11], [11, 2], [4, 10], [5, 7], [7, 3], [10, 1], [9, 6], [8, 9], [7, 8], [9, 7], [9, 0], [3, 10], [10, 7], [7, 2], [5, 4], [4, 11], [6, 10], [1, 8], [7, 11], [2, 10], [0, 11], [1, 6], [10, 2], [4, 7], [6, 8], [3, 0], [1, 4], [9, 1], [4, 5], [7, 0], [11, 10], [0, 0], [8, 6], [8, 1], [10, 6], [4, 9], [3, 7], [8, 8], [7, 7], [10, 3], [0, 3], [11, 6], [8, 2], [10, 4], [8, 5], [6, 5], [2, 11], [3, 3], [5, 11], [1, 0], [6, 2], [4, 8], [2, 2], [2, 7], [0, 1], [2, 9], [1, 5], [1, 10], [11, 8], [4, 0], [3, 8], [9, 2], [4, 2], [2, 5], [11, 9], [8, 11], [8, 0], [6, 3], [9, 5], [10, 11], [0, 4], [2, 8], [7, 4], [6, 1], [2, 3], [5, 8], [8, 4], [6, 9], [1, 2], [1, 1], [1, 9], [11, 0], [7, 9], [11, 5], [5, 9], [10, 0], [3, 2], [1, 3], [10, 8], [3, 6], [1, 7], [4, 3], [8, 3], [0, 8], [3, 11], [9, 9], [0, 10], [0, 7], [9, 4], [3, 4], [0, 2], [0, 9], [11, 3], [11, 11]]\n"
     ]
    },
    {
     "name": "stderr",
     "output_type": "stream",
     "text": [
      " 80%|████████  | 16/20 [01:37<00:24,  6.06s/it]"
     ]
    },
    {
     "name": "stdout",
     "output_type": "stream",
     "text": [
      "torch.Size([20, 50257]) torch.Size([20, 2])\n",
      "torch.Size([20, 50257]) torch.Size([20, 2])\n",
      "hbi [[7, 0], [3, 7], [3, 1], [8, 9], [10, 3], [11, 4], [7, 9], [9, 6], [3, 2], [10, 4], [10, 9], [2, 9], [2, 6], [9, 3], [9, 4], [5, 6], [8, 7], [0, 9], [2, 0], [4, 3], [10, 8], [0, 3], [1, 1], [6, 6], [9, 5], [7, 6], [11, 7], [10, 11], [11, 6], [10, 5], [2, 5], [3, 4], [11, 3], [6, 0], [0, 4], [2, 1], [10, 7], [10, 0], [3, 3], [6, 2], [1, 6], [6, 11], [1, 11], [1, 7], [1, 8], [2, 11], [6, 1], [1, 9], [7, 7], [4, 5], [10, 2], [1, 2], [6, 3], [6, 4], [10, 6], [4, 4], [3, 6], [8, 4], [4, 2], [0, 7], [11, 5], [9, 0], [5, 1], [5, 2], [1, 4], [8, 3], [0, 2], [8, 11], [3, 10], [8, 10], [5, 11], [2, 3], [9, 9], [3, 9], [11, 10], [2, 8], [7, 2], [5, 4], [0, 0], [9, 7], [8, 2], [11, 0], [7, 10], [2, 7], [6, 7], [11, 9], [11, 8], [3, 5], [8, 1], [1, 0], [0, 11], [5, 10], [8, 8], [5, 5], [0, 6], [9, 11], [2, 4], [1, 5], [6, 8], [7, 1], [8, 5], [8, 0], [0, 8], [7, 4], [7, 11], [4, 8], [6, 10], [5, 3], [7, 8], [2, 2], [7, 3], [9, 1], [0, 1], [4, 6], [11, 2], [3, 0], [4, 9], [1, 3], [9, 2], [5, 7], [2, 10], [5, 0], [3, 11], [5, 8], [4, 0], [1, 10], [4, 11], [10, 10], [4, 1], [3, 8], [4, 7], [0, 5], [9, 8], [6, 9], [9, 10], [5, 9], [6, 5], [4, 10], [11, 11], [0, 10], [8, 6], [10, 1], [7, 5], [11, 1]]\n"
     ]
    },
    {
     "name": "stderr",
     "output_type": "stream",
     "text": [
      " 85%|████████▌ | 17/20 [01:43<00:18,  6.01s/it]"
     ]
    },
    {
     "name": "stdout",
     "output_type": "stream",
     "text": [
      "torch.Size([20, 50257]) torch.Size([20, 2])\n",
      "torch.Size([20, 50257]) torch.Size([20, 2])\n",
      "hbi [[3, 8], [10, 8], [9, 5], [3, 11], [1, 6], [11, 5], [7, 9], [4, 0], [7, 6], [2, 2], [8, 4], [9, 1], [8, 10], [9, 11], [8, 8], [9, 9], [5, 9], [9, 4], [9, 2], [11, 7], [10, 1], [1, 1], [7, 3], [9, 10], [4, 5], [2, 6], [5, 2], [1, 5], [10, 10], [8, 5], [6, 4], [0, 11], [2, 10], [10, 11], [4, 2], [10, 2], [4, 11], [4, 3], [2, 4], [6, 10], [10, 0], [5, 6], [1, 2], [3, 2], [4, 7], [5, 11], [1, 11], [9, 0], [8, 2], [5, 7], [10, 6], [6, 1], [8, 0], [8, 6], [2, 0], [1, 4], [4, 4], [0, 5], [3, 10], [9, 7], [1, 10], [3, 9], [0, 2], [11, 10], [11, 3], [6, 2], [4, 1], [0, 1], [0, 10], [7, 11], [2, 5], [10, 4], [7, 1], [6, 9], [10, 9], [5, 3], [4, 8], [3, 3], [0, 6], [6, 5], [1, 8], [3, 1], [2, 7], [7, 4], [3, 4], [9, 8], [8, 1], [9, 6], [10, 3], [5, 1], [8, 3], [8, 11], [7, 10], [6, 6], [8, 7], [2, 8], [0, 9], [5, 4], [3, 5], [11, 2], [4, 6], [5, 5], [7, 7], [1, 7], [3, 7], [5, 10], [2, 11], [11, 4], [7, 5], [2, 9], [11, 11], [7, 0], [3, 0], [10, 5], [11, 8], [9, 3], [3, 6], [6, 11], [1, 3], [6, 7], [8, 9], [1, 0], [4, 10], [2, 3], [11, 6], [0, 7], [0, 0], [7, 2], [0, 8], [1, 9], [0, 4], [6, 0], [6, 8], [7, 8], [11, 0], [5, 0], [2, 1], [5, 8], [6, 3], [0, 3], [11, 1], [4, 9], [10, 7], [11, 9]]\n"
     ]
    },
    {
     "name": "stderr",
     "output_type": "stream",
     "text": [
      " 90%|█████████ | 18/20 [01:49<00:11,  5.98s/it]"
     ]
    },
    {
     "name": "stdout",
     "output_type": "stream",
     "text": [
      "torch.Size([20, 50257]) torch.Size([20, 2])\n",
      "torch.Size([20, 50257]) torch.Size([20, 2])\n",
      "hbi [[4, 8], [8, 5], [0, 8], [4, 4], [5, 9], [2, 6], [2, 5], [9, 5], [7, 3], [6, 0], [5, 3], [7, 5], [8, 7], [2, 3], [4, 0], [5, 7], [9, 0], [9, 9], [3, 7], [2, 2], [7, 11], [0, 0], [7, 6], [8, 11], [4, 10], [8, 8], [2, 11], [1, 11], [0, 3], [1, 0], [7, 4], [2, 10], [5, 2], [10, 4], [9, 3], [7, 7], [7, 0], [1, 9], [10, 11], [4, 3], [6, 7], [9, 11], [8, 2], [11, 11], [0, 6], [0, 4], [4, 2], [11, 1], [2, 0], [3, 3], [5, 8], [0, 5], [2, 7], [10, 3], [3, 9], [7, 1], [4, 5], [4, 9], [5, 6], [11, 5], [1, 10], [0, 2], [2, 9], [6, 6], [11, 8], [7, 9], [10, 7], [3, 11], [10, 2], [11, 10], [0, 7], [1, 3], [9, 4], [10, 8], [9, 1], [6, 1], [3, 4], [3, 5], [0, 9], [2, 4], [3, 2], [5, 1], [11, 4], [11, 9], [8, 9], [6, 3], [8, 10], [0, 1], [10, 5], [8, 6], [9, 6], [10, 9], [5, 10], [3, 10], [2, 1], [6, 8], [3, 0], [4, 11], [9, 8], [1, 4], [5, 4], [5, 0], [11, 0], [0, 10], [6, 5], [1, 8], [4, 7], [10, 10], [9, 10], [6, 10], [1, 6], [6, 4], [6, 2], [3, 6], [1, 7], [3, 8], [6, 9], [10, 0], [4, 6], [3, 1], [7, 2], [5, 5], [8, 3], [1, 2], [9, 2], [8, 4], [7, 10], [11, 6], [9, 7], [5, 11], [10, 6], [4, 1], [11, 2], [8, 1], [11, 7], [7, 8], [0, 11], [2, 8], [6, 11], [11, 3], [8, 0], [10, 1], [1, 5], [1, 1]]\n"
     ]
    },
    {
     "name": "stderr",
     "output_type": "stream",
     "text": [
      " 95%|█████████▌| 19/20 [01:55<00:05,  5.97s/it]"
     ]
    },
    {
     "name": "stdout",
     "output_type": "stream",
     "text": [
      "torch.Size([20, 50257]) torch.Size([20, 2])\n",
      "torch.Size([20, 50257]) torch.Size([20, 2])\n",
      "hbi [[1, 10], [6, 3], [0, 8], [9, 10], [4, 5], [7, 9], [6, 4], [2, 6], [8, 3], [4, 4], [10, 5], [11, 10], [5, 6], [1, 7], [10, 1], [1, 0], [1, 2], [9, 4], [4, 1], [5, 0], [0, 5], [8, 7], [0, 3], [6, 5], [4, 10], [11, 7], [10, 0], [9, 1], [0, 7], [9, 8], [2, 5], [9, 9], [10, 8], [4, 8], [10, 4], [2, 1], [8, 9], [0, 10], [8, 1], [1, 4], [7, 0], [1, 6], [5, 2], [8, 5], [3, 7], [0, 4], [8, 10], [6, 1], [10, 7], [2, 2], [4, 0], [1, 8], [0, 6], [7, 4], [6, 0], [6, 8], [4, 6], [1, 3], [4, 3], [4, 9], [11, 6], [2, 7], [9, 6], [8, 8], [3, 5], [7, 1], [6, 10], [11, 2], [0, 1], [11, 3], [5, 10], [5, 1], [2, 4], [8, 0], [7, 3], [7, 7], [5, 5], [9, 0], [1, 5], [7, 2], [5, 9], [11, 11], [2, 9], [0, 9], [9, 7], [2, 8], [5, 11], [11, 1], [7, 10], [2, 0], [9, 11], [6, 11], [2, 11], [11, 4], [10, 9], [7, 11], [7, 6], [0, 2], [5, 4], [5, 3], [4, 2], [10, 11], [3, 0], [3, 6], [3, 9], [8, 4], [3, 11], [8, 6], [1, 1], [0, 0], [10, 6], [9, 3], [10, 10], [6, 9], [1, 11], [3, 1], [3, 2], [3, 10], [4, 11], [11, 5], [10, 3], [1, 9], [8, 11], [9, 2], [7, 8], [2, 3], [10, 2], [6, 6], [2, 10], [3, 8], [4, 7], [0, 11], [11, 8], [6, 7], [5, 7], [8, 2], [9, 5], [3, 3], [11, 9], [3, 4], [5, 8], [11, 0], [6, 2], [7, 5]]\n"
     ]
    },
    {
     "name": "stderr",
     "output_type": "stream",
     "text": [
      "100%|██████████| 20/20 [02:01<00:00,  6.07s/it]\n"
     ]
    },
    {
     "data": {
      "image/png": "[encoded data removed]",
      "text/plain": [
       "<Figure size 640x480 with 1 Axes>"
      ]
     },
     "metadata": {},
     "output_type": "display_data"
    }
   ],
   "source": [
    "# a = task_eval.get_attn_head_freqs_over_dataset(N=N, return_freqs=True)\n",
    "\n",
    "# %%\n",
    "ground = task_eval.get_faithfulness_curve_over_data(N=20, attn_head_freq_n=10, faithfulness_intervals=30, rand=False, ioi_ground=True, task='ioi')\n",
    "base = task_eval.get_faithfulness_curve_over_data(N=20, attn_head_freq_n=10, faithfulness_intervals=30, rand=False, ioi_ground=False, task='ioi')\n",
    "\n",
    "radd = []\n",
    "for _ in trange(20):\n",
    "    radd.append(task_eval.get_faithfulness_curve_over_data(N=20, attn_head_freq_n=10, faithfulness_intervals=30, rand=True, ioi_ground=False, visualize=False))\n",
    "\n",
    "\n",
    "# %%\n",
    "big_rad = {}\n",
    "for rad in radd:\n",
    "    for k, v in rad.items():\n",
    "        if k not in big_rad:\n",
    "            big_rad[k] = 0\n",
    "        big_rad[k] += v\n",
    "\n",
    "for k in big_rad:\n",
    "    big_rad[k] /= 20\n",
    "\n",
    "rad = big_rad\n",
    "\n",
    "# %%\n",
    "plt.plot([float(k) for k in ground.keys()], ground.values(), label=\"Ground Truth\")\n",
    "plt.plot([float(k) for k in rad.keys()], base.values(), label=\"Circuit Discovery\")\n",
    "plt.plot([float(k) for k in base.keys()], rad.values(), label=\"Random\")\n",
    "plt.legend()\n",
    "plt.grid(True)\n",
    "plt.grid(color='gray', linestyle='--', linewidth=0.2)\n",
    "plt.title(\"IOI Faithfulness (Mean Ablation)\")\n",
    "ax = plt.gca()\n",
    "ax.spines['top'].set_visible(False)\n",
    "ax.spines['right'].set_visible(False)\n",
    "plt.margins(0)\n",
    "plt.ylabel(\"Normalized KL\")\n",
    "plt.xlabel(\"# Heads\")\n",
    "# ax.spines['left'].set_visible(False)\n",
    "# ax.spines['bottom'].set_visible(False)\n",
    "plt.show()"
   ]
  },
  {
   "cell_type": "code",
   "execution_count": 9,
   "metadata": {},
   "outputs": [
    {
     "data": {
      "application/vnd.plotly.v1+json": {
       "config": {
        "plotlyServerURL": "https://plot.ly"
       },
       "data": [
        {
         "line": {
          "color": "blue",
          "width": 2
         },
         "marker": {
          "color": "blue",
          "size": 8,
          "symbol": "circle"
         },
         "mode": "lines+markers",
         "name": "Ground Truth",
         "type": "scatter",
         "x": [
          0,
          4,
          8,
          12,
          16,
          20,
          24,
          28,
          32,
          36,
          40,
          44,
          48,
          52,
          56,
          60,
          64,
          68,
          72,
          76,
          80,
          84,
          88,
          92,
          96,
          100,
          104,
          108,
          112,
          116,
          120,
          124,
          128,
          132,
          136,
          140,
          144
         ],
         "y": [
          0,
          0.21186257898807526,
          0.5489739179611206,
          0.8727449774742126,
          0.6796296834945679,
          0.8599653244018555,
          0.9136337637901306,
          0.9623374342918396,
          0.9627640247344971,
          0.9671616554260254,
          0.9698102474212646,
          0.9698017835617065,
          0.9670000076293945,
          0.9668703079223633,
          0.9661858081817627,
          0.9729059934616089,
          0.9796709418296814,
          0.9797811508178711,
          0.9813811779022217,
          0.982769250869751,
          0.9864718914031982,
          0.9852297902107239,
          0.9863163828849792,
          0.9903882741928101,
          0.9909783005714417,
          0.9914416670799255,
          0.9912298917770386,
          0.9917020201683044,
          0.9918546676635742,
          0.9914759993553162,
          0.9948742985725403,
          0.9956631064414978,
          0.9954479336738586,
          0.997222900390625,
          0.9982313513755798,
          0.9993125796318054,
          1
         ]
        },
        {
         "line": {
          "color": "red",
          "width": 2
         },
         "marker": {
          "color": "red",
          "size": 8,
          "symbol": "square"
         },
         "mode": "lines+markers",
         "name": "Circuit Discovery",
         "type": "scatter",
         "x": [
          0,
          4,
          8,
          12,
          16,
          20,
          24,
          28,
          32,
          36,
          40,
          44,
          48,
          52,
          56,
          60,
          64,
          68,
          72,
          76,
          80,
          84,
          88,
          92,
          96,
          100,
          104,
          108,
          112,
          116,
          120,
          124,
          128,
          132,
          136,
          140,
          144
         ],
         "y": [
          0,
          0.07476472854614258,
          0.08381564915180206,
          0.11193161457777023,
          0.3168685734272003,
          0.31970757246017456,
          0.31903788447380066,
          0.4926495850086212,
          0.5997485518455505,
          0.8657242655754089,
          0.8672425746917725,
          0.9254310131072998,
          0.9289693236351013,
          0.9442175626754761,
          0.941994309425354,
          0.9590809345245361,
          0.9593459963798523,
          0.9118312001228333,
          0.9046187996864319,
          0.9500923752784729,
          0.9492096900939941,
          0.9481399059295654,
          0.9660481214523315,
          0.9657186269760132,
          0.9551959037780762,
          0.9783065319061279,
          0.9865961670875549,
          0.9958215355873108,
          0.9953812956809998,
          0.9955219626426697,
          0.9942097067832947,
          0.9976003170013428,
          0.9989522099494934,
          0.9991394877433777,
          0.9990469813346863,
          0.9993738532066345,
          1
         ]
        },
        {
         "line": {
          "color": "green",
          "width": 2
         },
         "marker": {
          "color": "green",
          "size": 8,
          "symbol": "triangle-up"
         },
         "mode": "lines+markers",
         "name": "Random",
         "type": "scatter",
         "x": [
          0,
          4,
          8,
          12,
          16,
          20,
          24,
          28,
          32,
          36,
          40,
          44,
          48,
          52,
          56,
          60,
          64,
          68,
          72,
          76,
          80,
          84,
          88,
          92,
          96,
          100,
          104,
          108,
          112,
          116,
          120,
          124,
          128,
          132,
          136,
          140,
          144
         ],
         "y": [
          0,
          0.020432655507465824,
          0.058388034434756264,
          0.1018543844926171,
          0.17063466772087849,
          0.25763054041308353,
          0.286436257744208,
          0.3571845702826977,
          0.44261234253644943,
          0.5007993467152119,
          0.5445549473166466,
          0.582907659560442,
          0.6256546720862388,
          0.6653543844819069,
          0.6773890137672425,
          0.7045949906110763,
          0.7321155056357384,
          0.7482847839593887,
          0.7753148406744004,
          0.8070685297250748,
          0.8136045530438423,
          0.8364524334669113,
          0.850072817504406,
          0.8604228854179382,
          0.8758532166481018,
          0.8852175593376159,
          0.894993132352829,
          0.9104346632957458,
          0.9122334241867065,
          0.9272860318422318,
          0.9423514574766159,
          0.9538587898015976,
          0.9623119473457337,
          0.9681534916162491,
          0.9782587945461273,
          0.987187796831131,
          1
         ]
        }
       ],
       "layout": {
        "font": {
         "size": 14
        },
        "height": 600,
        "hovermode": "x",
        "legend": {
         "bgcolor": "rgba(255, 255, 255, 0.8)",
         "bordercolor": "black",
         "borderwidth": 1,
         "x": 0.7,
         "y": 0.9
        },
        "plot_bgcolor": "white",
        "template": {
         "data": {
          "bar": [
           {
            "error_x": {
             "color": "#2a3f5f"
            },
            "error_y": {
             "color": "#2a3f5f"
            },
            "marker": {
             "line": {
              "color": "white",
              "width": 0.5
             },
             "pattern": {
              "fillmode": "overlay",
              "size": 10,
              "solidity": 0.2
             }
            },
            "type": "bar"
           }
          ],
          "barpolar": [
           {
            "marker": {
             "line": {
              "color": "white",
              "width": 0.5
             },
             "pattern": {
              "fillmode": "overlay",
              "size": 10,
              "solidity": 0.2
             }
            },
            "type": "barpolar"
           }
          ],
          "carpet": [
           {
            "aaxis": {
             "endlinecolor": "#2a3f5f",
             "gridcolor": "#C8D4E3",
             "linecolor": "#C8D4E3",
             "minorgridcolor": "#C8D4E3",
             "startlinecolor": "#2a3f5f"
            },
            "baxis": {
             "endlinecolor": "#2a3f5f",
             "gridcolor": "#C8D4E3",
             "linecolor": "#C8D4E3",
             "minorgridcolor": "#C8D4E3",
             "startlinecolor": "#2a3f5f"
            },
            "type": "carpet"
           }
          ],
          "choropleth": [
           {
            "colorbar": {
             "outlinewidth": 0,
             "ticks": ""
            },
            "type": "choropleth"
           }
          ],
          "contour": [
           {
            "colorbar": {
             "outlinewidth": 0,
             "ticks": ""
            },
            "colorscale": [
             [
              0,
              "#0d0887"
             ],
             [
              0.1111111111111111,
              "#46039f"
             ],
             [
              0.2222222222222222,
              "#7201a8"
             ],
             [
              0.3333333333333333,
              "#9c179e"
             ],
             [
              0.4444444444444444,
              "#bd3786"
             ],
             [
              0.5555555555555556,
              "#d8576b"
             ],
             [
              0.6666666666666666,
              "#ed7953"
             ],
             [
              0.7777777777777778,
              "#fb9f3a"
             ],
             [
              0.8888888888888888,
              "#fdca26"
             ],
             [
              1,
              "#f0f921"
             ]
            ],
            "type": "contour"
           }
          ],
          "contourcarpet": [
           {
            "colorbar": {
             "outlinewidth": 0,
             "ticks": ""
            },
            "type": "contourcarpet"
           }
          ],
          "heatmap": [
           {
            "colorbar": {
             "outlinewidth": 0,
             "ticks": ""
            },
            "colorscale": [
             [
              0,
              "#0d0887"
             ],
             [
              0.1111111111111111,
              "#46039f"
             ],
             [
              0.2222222222222222,
              "#7201a8"
             ],
             [
              0.3333333333333333,
              "#9c179e"
             ],
             [
              0.4444444444444444,
              "#bd3786"
             ],
             [
              0.5555555555555556,
              "#d8576b"
             ],
             [
              0.6666666666666666,
              "#ed7953"
             ],
             [
              0.7777777777777778,
              "#fb9f3a"
             ],
             [
              0.8888888888888888,
              "#fdca26"
             ],
             [
              1,
              "#f0f921"
             ]
            ],
            "type": "heatmap"
           }
          ],
          "heatmapgl": [
           {
            "colorbar": {
             "outlinewidth": 0,
             "ticks": ""
            },
            "colorscale": [
             [
              0,
              "#0d0887"
             ],
             [
              0.1111111111111111,
              "#46039f"
             ],
             [
              0.2222222222222222,
              "#7201a8"
             ],
             [
              0.3333333333333333,
              "#9c179e"
             ],
             [
              0.4444444444444444,
              "#bd3786"
             ],
             [
              0.5555555555555556,
              "#d8576b"
             ],
             [
              0.6666666666666666,
              "#ed7953"
             ],
             [
              0.7777777777777778,
              "#fb9f3a"
             ],
             [
              0.8888888888888888,
              "#fdca26"
             ],
             [
              1,
              "#f0f921"
             ]
            ],
            "type": "heatmapgl"
           }
          ],
          "histogram": [
           {
            "marker": {
             "pattern": {
              "fillmode": "overlay",
              "size": 10,
              "solidity": 0.2
             }
            },
            "type": "histogram"
           }
          ],
          "histogram2d": [
           {
            "colorbar": {
             "outlinewidth": 0,
             "ticks": ""
            },
            "colorscale": [
             [
              0,
              "#0d0887"
             ],
             [
              0.1111111111111111,
              "#46039f"
             ],
             [
              0.2222222222222222,
              "#7201a8"
             ],
             [
              0.3333333333333333,
              "#9c179e"
             ],
             [
              0.4444444444444444,
              "#bd3786"
             ],
             [
              0.5555555555555556,
              "#d8576b"
             ],
             [
              0.6666666666666666,
              "#ed7953"
             ],
             [
              0.7777777777777778,
              "#fb9f3a"
             ],
             [
              0.8888888888888888,
              "#fdca26"
             ],
             [
              1,
              "#f0f921"
             ]
            ],
            "type": "histogram2d"
           }
          ],
          "histogram2dcontour": [
           {
            "colorbar": {
             "outlinewidth": 0,
             "ticks": ""
            },
            "colorscale": [
             [
              0,
              "#0d0887"
             ],
             [
              0.1111111111111111,
              "#46039f"
             ],
             [
              0.2222222222222222,
              "#7201a8"
             ],
             [
              0.3333333333333333,
              "#9c179e"
             ],
             [
              0.4444444444444444,
              "#bd3786"
             ],
             [
              0.5555555555555556,
              "#d8576b"
             ],
             [
              0.6666666666666666,
              "#ed7953"
             ],
             [
              0.7777777777777778,
              "#fb9f3a"
             ],
             [
              0.8888888888888888,
              "#fdca26"
             ],
             [
              1,
              "#f0f921"
             ]
            ],
            "type": "histogram2dcontour"
           }
          ],
          "mesh3d": [
           {
            "colorbar": {
             "outlinewidth": 0,
             "ticks": ""
            },
            "type": "mesh3d"
           }
          ],
          "parcoords": [
           {
            "line": {
             "colorbar": {
              "outlinewidth": 0,
              "ticks": ""
             }
            },
            "type": "parcoords"
           }
          ],
          "pie": [
           {
            "automargin": true,
            "type": "pie"
           }
          ],
          "scatter": [
           {
            "fillpattern": {
             "fillmode": "overlay",
             "size": 10,
             "solidity": 0.2
            },
            "type": "scatter"
           }
          ],
          "scatter3d": [
           {
            "line": {
             "colorbar": {
              "outlinewidth": 0,
              "ticks": ""
             }
            },
            "marker": {
             "colorbar": {
              "outlinewidth": 0,
              "ticks": ""
             }
            },
            "type": "scatter3d"
           }
          ],
          "scattercarpet": [
           {
            "marker": {
             "colorbar": {
              "outlinewidth": 0,
              "ticks": ""
             }
            },
            "type": "scattercarpet"
           }
          ],
          "scattergeo": [
           {
            "marker": {
             "colorbar": {
              "outlinewidth": 0,
              "ticks": ""
             }
            },
            "type": "scattergeo"
           }
          ],
          "scattergl": [
           {
            "marker": {
             "colorbar": {
              "outlinewidth": 0,
              "ticks": ""
             }
            },
            "type": "scattergl"
           }
          ],
          "scattermapbox": [
           {
            "marker": {
             "colorbar": {
              "outlinewidth": 0,
              "ticks": ""
             }
            },
            "type": "scattermapbox"
           }
          ],
          "scatterpolar": [
           {
            "marker": {
             "colorbar": {
              "outlinewidth": 0,
              "ticks": ""
             }
            },
            "type": "scatterpolar"
           }
          ],
          "scatterpolargl": [
           {
            "marker": {
             "colorbar": {
              "outlinewidth": 0,
              "ticks": ""
             }
            },
            "type": "scatterpolargl"
           }
          ],
          "scatterternary": [
           {
            "marker": {
             "colorbar": {
              "outlinewidth": 0,
              "ticks": ""
             }
            },
            "type": "scatterternary"
           }
          ],
          "surface": [
           {
            "colorbar": {
             "outlinewidth": 0,
             "ticks": ""
            },
            "colorscale": [
             [
              0,
              "#0d0887"
             ],
             [
              0.1111111111111111,
              "#46039f"
             ],
             [
              0.2222222222222222,
              "#7201a8"
             ],
             [
              0.3333333333333333,
              "#9c179e"
             ],
             [
              0.4444444444444444,
              "#bd3786"
             ],
             [
              0.5555555555555556,
              "#d8576b"
             ],
             [
              0.6666666666666666,
              "#ed7953"
             ],
             [
              0.7777777777777778,
              "#fb9f3a"
             ],
             [
              0.8888888888888888,
              "#fdca26"
             ],
             [
              1,
              "#f0f921"
             ]
            ],
            "type": "surface"
           }
          ],
          "table": [
           {
            "cells": {
             "fill": {
              "color": "#EBF0F8"
             },
             "line": {
              "color": "white"
             }
            },
            "header": {
             "fill": {
              "color": "#C8D4E3"
             },
             "line": {
              "color": "white"
             }
            },
            "type": "table"
           }
          ]
         },
         "layout": {
          "annotationdefaults": {
           "arrowcolor": "#2a3f5f",
           "arrowhead": 0,
           "arrowwidth": 1
          },
          "autotypenumbers": "strict",
          "coloraxis": {
           "colorbar": {
            "outlinewidth": 0,
            "ticks": ""
           }
          },
          "colorscale": {
           "diverging": [
            [
             0,
             "#8e0152"
            ],
            [
             0.1,
             "#c51b7d"
            ],
            [
             0.2,
             "#de77ae"
            ],
            [
             0.3,
             "#f1b6da"
            ],
            [
             0.4,
             "#fde0ef"
            ],
            [
             0.5,
             "#f7f7f7"
            ],
            [
             0.6,
             "#e6f5d0"
            ],
            [
             0.7,
             "#b8e186"
            ],
            [
             0.8,
             "#7fbc41"
            ],
            [
             0.9,
             "#4d9221"
            ],
            [
             1,
             "#276419"
            ]
           ],
           "sequential": [
            [
             0,
             "#0d0887"
            ],
            [
             0.1111111111111111,
             "#46039f"
            ],
            [
             0.2222222222222222,
             "#7201a8"
            ],
            [
             0.3333333333333333,
             "#9c179e"
            ],
            [
             0.4444444444444444,
             "#bd3786"
            ],
            [
             0.5555555555555556,
             "#d8576b"
            ],
            [
             0.6666666666666666,
             "#ed7953"
            ],
            [
             0.7777777777777778,
             "#fb9f3a"
            ],
            [
             0.8888888888888888,
             "#fdca26"
            ],
            [
             1,
             "#f0f921"
            ]
           ],
           "sequentialminus": [
            [
             0,
             "#0d0887"
            ],
            [
             0.1111111111111111,
             "#46039f"
            ],
            [
             0.2222222222222222,
             "#7201a8"
            ],
            [
             0.3333333333333333,
             "#9c179e"
            ],
            [
             0.4444444444444444,
             "#bd3786"
            ],
            [
             0.5555555555555556,
             "#d8576b"
            ],
            [
             0.6666666666666666,
             "#ed7953"
            ],
            [
             0.7777777777777778,
             "#fb9f3a"
            ],
            [
             0.8888888888888888,
             "#fdca26"
            ],
            [
             1,
             "#f0f921"
            ]
           ]
          },
          "colorway": [
           "#636efa",
           "#EF553B",
           "#00cc96",
           "#ab63fa",
           "#FFA15A",
           "#19d3f3",
           "#FF6692",
           "#B6E880",
           "#FF97FF",
           "#FECB52"
          ],
          "font": {
           "color": "#2a3f5f"
          },
          "geo": {
           "bgcolor": "white",
           "lakecolor": "white",
           "landcolor": "white",
           "showlakes": true,
           "showland": true,
           "subunitcolor": "#C8D4E3"
          },
          "hoverlabel": {
           "align": "left"
          },
          "hovermode": "closest",
          "mapbox": {
           "style": "light"
          },
          "paper_bgcolor": "white",
          "plot_bgcolor": "white",
          "polar": {
           "angularaxis": {
            "gridcolor": "#EBF0F8",
            "linecolor": "#EBF0F8",
            "ticks": ""
           },
           "bgcolor": "white",
           "radialaxis": {
            "gridcolor": "#EBF0F8",
            "linecolor": "#EBF0F8",
            "ticks": ""
           }
          },
          "scene": {
           "xaxis": {
            "backgroundcolor": "white",
            "gridcolor": "#DFE8F3",
            "gridwidth": 2,
            "linecolor": "#EBF0F8",
            "showbackground": true,
            "ticks": "",
            "zerolinecolor": "#EBF0F8"
           },
           "yaxis": {
            "backgroundcolor": "white",
            "gridcolor": "#DFE8F3",
            "gridwidth": 2,
            "linecolor": "#EBF0F8",
            "showbackground": true,
            "ticks": "",
            "zerolinecolor": "#EBF0F8"
           },
           "zaxis": {
            "backgroundcolor": "white",
            "gridcolor": "#DFE8F3",
            "gridwidth": 2,
            "linecolor": "#EBF0F8",
            "showbackground": true,
            "ticks": "",
            "zerolinecolor": "#EBF0F8"
           }
          },
          "shapedefaults": {
           "line": {
            "color": "#2a3f5f"
           }
          },
          "ternary": {
           "aaxis": {
            "gridcolor": "#DFE8F3",
            "linecolor": "#A2B1C6",
            "ticks": ""
           },
           "baxis": {
            "gridcolor": "#DFE8F3",
            "linecolor": "#A2B1C6",
            "ticks": ""
           },
           "bgcolor": "white",
           "caxis": {
            "gridcolor": "#DFE8F3",
            "linecolor": "#A2B1C6",
            "ticks": ""
           }
          },
          "title": {
           "x": 0.05
          },
          "xaxis": {
           "automargin": true,
           "gridcolor": "#EBF0F8",
           "linecolor": "#EBF0F8",
           "ticks": "",
           "title": {
            "standoff": 15
           },
           "zerolinecolor": "#EBF0F8",
           "zerolinewidth": 2
          },
          "yaxis": {
           "automargin": true,
           "gridcolor": "#EBF0F8",
           "linecolor": "#EBF0F8",
           "ticks": "",
           "title": {
            "standoff": 15
           },
           "zerolinecolor": "#EBF0F8",
           "zerolinewidth": 2
          }
         }
        },
        "title": {
         "text": "IOI Faithfulness (Mean Ablation)"
        },
        "width": 800,
        "xaxis": {
         "linecolor": "black",
         "linewidth": 1,
         "mirror": true,
         "showgrid": false,
         "showline": true,
         "title": {
          "text": "# Heads"
         },
         "zeroline": false
        },
        "yaxis": {
         "linecolor": "black",
         "linewidth": 1,
         "mirror": true,
         "showgrid": false,
         "showline": true,
         "title": {
          "text": "Normalized KL"
         },
         "zeroline": false
        }
       }
      }
     },
     "metadata": {},
     "output_type": "display_data"
    }
   ],
   "source": [
    "import plotly.graph_objects as go\n",
    "\n",
    "fig = go.Figure()\n",
    "\n",
    "fig.add_trace(go.Scatter(x=list(ground.keys()), y=list(ground.values()),\n",
    "                         mode='lines+markers',\n",
    "                         name='Ground Truth',\n",
    "                         line=dict(color='blue', width=2),\n",
    "                         marker=dict(size=8, symbol='circle', color='blue')))\n",
    "\n",
    "fig.add_trace(go.Scatter(x=list(rad.keys()), y=list(base.values()),\n",
    "                         mode='lines+markers',\n",
    "                         name='Circuit Discovery',\n",
    "                         line=dict(color='red', width=2),\n",
    "                         marker=dict(size=8, symbol='square', color='red')))\n",
    "\n",
    "fig.add_trace(go.Scatter(x=list(base.keys()), y=list(rad.values()),\n",
    "                         mode='lines+markers',\n",
    "                         name='Random',\n",
    "                         line=dict(color='green', width=2),\n",
    "                         marker=dict(size=8, symbol='triangle-up', color='green')))\n",
    "\n",
    "fig.update_layout(\n",
    "    title='IOI Faithfulness (Mean Ablation)',\n",
    "    xaxis=dict(title='# Heads', showgrid=False, zeroline=False, showline=True, linewidth=1, linecolor='black', mirror=True),\n",
    "    yaxis=dict(title='Normalized KL', showgrid=False, zeroline=False, showline=True, linewidth=1, linecolor='black', mirror=True),\n",
    "    font=dict(size=14),\n",
    "    template='plotly_white',\n",
    "    width=800,\n",
    "    height=600,\n",
    "    legend=dict(x=0.7, y=0.9, borderwidth=1, bordercolor='black', bgcolor='rgba(255, 255, 255, 0.8)'),\n",
    "    plot_bgcolor='white',\n",
    "    hovermode='x'\n",
    ")\n",
    "\n",
    "# fig.update_xaxes(tickvals=list(ground.keys()))\n",
    "\n",
    "fig.show()"
   ]
  },
  {
   "cell_type": "code",
   "execution_count": 12,
   "metadata": {},
   "outputs": [
    {
     "name": "stdout",
     "output_type": "stream",
     "text": [
      "The autoreload extension is already loaded. To reload it, use:\n",
      "  %reload_ext autoreload\n",
      "torch.Size([100, 13]) torch.Size([100])\n"
     ]
    },
    {
     "name": "stderr",
     "output_type": "stream",
     "text": [
      "100%|██████████| 100/100 [02:45<00:00,  1.66s/it]\n"
     ]
    },
    {
     "data": {
      "application/vnd.plotly.v1+json": {
       "config": {
        "plotlyServerURL": "https://plot.ly"
       },
       "data": [
        {
         "coloraxis": "coloraxis",
         "hovertemplate": "Head: %{x}<br>Layer: %{y}<br>color: %{z}<extra></extra>",
         "name": "0",
         "type": "heatmap",
         "xaxis": "x",
         "yaxis": "y",
         "z": [
          [
           0,
           0.93,
           0,
           0.26,
           0.1,
           0.57,
           0.43,
           0.01,
           0,
           0,
           0,
           0
          ],
          [
           0.36,
           0,
           0,
           0,
           0,
           0.03,
           0.02,
           0.04,
           0,
           0.1,
           0.57,
           0.02
          ],
          [
           0.08,
           0,
           0.03,
           0,
           0.04,
           0.01,
           0,
           0,
           0,
           0.04,
           0,
           0
          ],
          [
           0,
           0,
           0.01,
           0.44,
           0,
           0,
           0.03,
           0.06,
           0,
           0.01,
           0,
           0
          ],
          [
           0,
           0.01,
           0,
           0,
           0,
           0.07,
           0,
           0.04,
           0,
           0.01,
           0,
           0.09
          ],
          [
           0.02,
           0.17,
           0.03,
           0,
           0,
           0.32,
           0.04,
           0.16,
           0.01,
           0.05,
           0,
           0
          ],
          [
           0,
           0,
           0,
           0,
           0.15,
           0.01,
           0,
           0,
           0,
           0.03,
           0,
           0.12
          ],
          [
           0,
           0,
           0,
           0,
           0.04,
           0,
           0,
           0.11,
           0.01,
           0,
           0.21,
           0.01
          ],
          [
           0,
           0.02,
           0,
           0,
           0,
           0.02,
           0.08,
           0.09,
           0.07,
           0,
           0,
           0.05
          ],
          [
           0,
           0.17,
           0,
           0.02,
           0.02,
           0.02,
           0.06,
           0,
           0,
           0,
           0,
           0
          ],
          [
           0,
           0.01,
           0.01,
           0,
           0,
           0,
           0,
           0.37,
           0,
           0,
           0,
           0.45
          ],
          [
           0,
           0,
           0,
           0,
           0,
           0,
           0,
           0.01,
           0.01,
           0,
           0,
           0
          ]
         ]
        }
       ],
       "layout": {
        "coloraxis": {
         "cmid": 0,
         "colorscale": [
          [
           0,
           "rgb(103,0,31)"
          ],
          [
           0.1,
           "rgb(178,24,43)"
          ],
          [
           0.2,
           "rgb(214,96,77)"
          ],
          [
           0.3,
           "rgb(244,165,130)"
          ],
          [
           0.4,
           "rgb(253,219,199)"
          ],
          [
           0.5,
           "rgb(247,247,247)"
          ],
          [
           0.6,
           "rgb(209,229,240)"
          ],
          [
           0.7,
           "rgb(146,197,222)"
          ],
          [
           0.8,
           "rgb(67,147,195)"
          ],
          [
           0.9,
           "rgb(33,102,172)"
          ],
          [
           1,
           "rgb(5,48,97)"
          ]
         ]
        },
        "template": {
         "data": {
          "bar": [
           {
            "error_x": {
             "color": "#2a3f5f"
            },
            "error_y": {
             "color": "#2a3f5f"
            },
            "marker": {
             "line": {
              "color": "#E5ECF6",
              "width": 0.5
             },
             "pattern": {
              "fillmode": "overlay",
              "size": 10,
              "solidity": 0.2
             }
            },
            "type": "bar"
           }
          ],
          "barpolar": [
           {
            "marker": {
             "line": {
              "color": "#E5ECF6",
              "width": 0.5
             },
             "pattern": {
              "fillmode": "overlay",
              "size": 10,
              "solidity": 0.2
             }
            },
            "type": "barpolar"
           }
          ],
          "carpet": [
           {
            "aaxis": {
             "endlinecolor": "#2a3f5f",
             "gridcolor": "white",
             "linecolor": "white",
             "minorgridcolor": "white",
             "startlinecolor": "#2a3f5f"
            },
            "baxis": {
             "endlinecolor": "#2a3f5f",
             "gridcolor": "white",
             "linecolor": "white",
             "minorgridcolor": "white",
             "startlinecolor": "#2a3f5f"
            },
            "type": "carpet"
           }
          ],
          "choropleth": [
           {
            "colorbar": {
             "outlinewidth": 0,
             "ticks": ""
            },
            "type": "choropleth"
           }
          ],
          "contour": [
           {
            "colorbar": {
             "outlinewidth": 0,
             "ticks": ""
            },
            "colorscale": [
             [
              0,
              "#0d0887"
             ],
             [
              0.1111111111111111,
              "#46039f"
             ],
             [
              0.2222222222222222,
              "#7201a8"
             ],
             [
              0.3333333333333333,
              "#9c179e"
             ],
             [
              0.4444444444444444,
              "#bd3786"
             ],
             [
              0.5555555555555556,
              "#d8576b"
             ],
             [
              0.6666666666666666,
              "#ed7953"
             ],
             [
              0.7777777777777778,
              "#fb9f3a"
             ],
             [
              0.8888888888888888,
              "#fdca26"
             ],
             [
              1,
              "#f0f921"
             ]
            ],
            "type": "contour"
           }
          ],
          "contourcarpet": [
           {
            "colorbar": {
             "outlinewidth": 0,
             "ticks": ""
            },
            "type": "contourcarpet"
           }
          ],
          "heatmap": [
           {
            "colorbar": {
             "outlinewidth": 0,
             "ticks": ""
            },
            "colorscale": [
             [
              0,
              "#0d0887"
             ],
             [
              0.1111111111111111,
              "#46039f"
             ],
             [
              0.2222222222222222,
              "#7201a8"
             ],
             [
              0.3333333333333333,
              "#9c179e"
             ],
             [
              0.4444444444444444,
              "#bd3786"
             ],
             [
              0.5555555555555556,
              "#d8576b"
             ],
             [
              0.6666666666666666,
              "#ed7953"
             ],
             [
              0.7777777777777778,
              "#fb9f3a"
             ],
             [
              0.8888888888888888,
              "#fdca26"
             ],
             [
              1,
              "#f0f921"
             ]
            ],
            "type": "heatmap"
           }
          ],
          "heatmapgl": [
           {
            "colorbar": {
             "outlinewidth": 0,
             "ticks": ""
            },
            "colorscale": [
             [
              0,
              "#0d0887"
             ],
             [
              0.1111111111111111,
              "#46039f"
             ],
             [
              0.2222222222222222,
              "#7201a8"
             ],
             [
              0.3333333333333333,
              "#9c179e"
             ],
             [
              0.4444444444444444,
              "#bd3786"
             ],
             [
              0.5555555555555556,
              "#d8576b"
             ],
             [
              0.6666666666666666,
              "#ed7953"
             ],
             [
              0.7777777777777778,
              "#fb9f3a"
             ],
             [
              0.8888888888888888,
              "#fdca26"
             ],
             [
              1,
              "#f0f921"
             ]
            ],
            "type": "heatmapgl"
           }
          ],
          "histogram": [
           {
            "marker": {
             "pattern": {
              "fillmode": "overlay",
              "size": 10,
              "solidity": 0.2
             }
            },
            "type": "histogram"
           }
          ],
          "histogram2d": [
           {
            "colorbar": {
             "outlinewidth": 0,
             "ticks": ""
            },
            "colorscale": [
             [
              0,
              "#0d0887"
             ],
             [
              0.1111111111111111,
              "#46039f"
             ],
             [
              0.2222222222222222,
              "#7201a8"
             ],
             [
              0.3333333333333333,
              "#9c179e"
             ],
             [
              0.4444444444444444,
              "#bd3786"
             ],
             [
              0.5555555555555556,
              "#d8576b"
             ],
             [
              0.6666666666666666,
              "#ed7953"
             ],
             [
              0.7777777777777778,
              "#fb9f3a"
             ],
             [
              0.8888888888888888,
              "#fdca26"
             ],
             [
              1,
              "#f0f921"
             ]
            ],
            "type": "histogram2d"
           }
          ],
          "histogram2dcontour": [
           {
            "colorbar": {
             "outlinewidth": 0,
             "ticks": ""
            },
            "colorscale": [
             [
              0,
              "#0d0887"
             ],
             [
              0.1111111111111111,
              "#46039f"
             ],
             [
              0.2222222222222222,
              "#7201a8"
             ],
             [
              0.3333333333333333,
              "#9c179e"
             ],
             [
              0.4444444444444444,
              "#bd3786"
             ],
             [
              0.5555555555555556,
              "#d8576b"
             ],
             [
              0.6666666666666666,
              "#ed7953"
             ],
             [
              0.7777777777777778,
              "#fb9f3a"
             ],
             [
              0.8888888888888888,
              "#fdca26"
             ],
             [
              1,
              "#f0f921"
             ]
            ],
            "type": "histogram2dcontour"
           }
          ],
          "mesh3d": [
           {
            "colorbar": {
             "outlinewidth": 0,
             "ticks": ""
            },
            "type": "mesh3d"
           }
          ],
          "parcoords": [
           {
            "line": {
             "colorbar": {
              "outlinewidth": 0,
              "ticks": ""
             }
            },
            "type": "parcoords"
           }
          ],
          "pie": [
           {
            "automargin": true,
            "type": "pie"
           }
          ],
          "scatter": [
           {
            "fillpattern": {
             "fillmode": "overlay",
             "size": 10,
             "solidity": 0.2
            },
            "type": "scatter"
           }
          ],
          "scatter3d": [
           {
            "line": {
             "colorbar": {
              "outlinewidth": 0,
              "ticks": ""
             }
            },
            "marker": {
             "colorbar": {
              "outlinewidth": 0,
              "ticks": ""
             }
            },
            "type": "scatter3d"
           }
          ],
          "scattercarpet": [
           {
            "marker": {
             "colorbar": {
              "outlinewidth": 0,
              "ticks": ""
             }
            },
            "type": "scattercarpet"
           }
          ],
          "scattergeo": [
           {
            "marker": {
             "colorbar": {
              "outlinewidth": 0,
              "ticks": ""
             }
            },
            "type": "scattergeo"
           }
          ],
          "scattergl": [
           {
            "marker": {
             "colorbar": {
              "outlinewidth": 0,
              "ticks": ""
             }
            },
            "type": "scattergl"
           }
          ],
          "scattermapbox": [
           {
            "marker": {
             "colorbar": {
              "outlinewidth": 0,
              "ticks": ""
             }
            },
            "type": "scattermapbox"
           }
          ],
          "scatterpolar": [
           {
            "marker": {
             "colorbar": {
              "outlinewidth": 0,
              "ticks": ""
             }
            },
            "type": "scatterpolar"
           }
          ],
          "scatterpolargl": [
           {
            "marker": {
             "colorbar": {
              "outlinewidth": 0,
              "ticks": ""
             }
            },
            "type": "scatterpolargl"
           }
          ],
          "scatterternary": [
           {
            "marker": {
             "colorbar": {
              "outlinewidth": 0,
              "ticks": ""
             }
            },
            "type": "scatterternary"
           }
          ],
          "surface": [
           {
            "colorbar": {
             "outlinewidth": 0,
             "ticks": ""
            },
            "colorscale": [
             [
              0,
              "#0d0887"
             ],
             [
              0.1111111111111111,
              "#46039f"
             ],
             [
              0.2222222222222222,
              "#7201a8"
             ],
             [
              0.3333333333333333,
              "#9c179e"
             ],
             [
              0.4444444444444444,
              "#bd3786"
             ],
             [
              0.5555555555555556,
              "#d8576b"
             ],
             [
              0.6666666666666666,
              "#ed7953"
             ],
             [
              0.7777777777777778,
              "#fb9f3a"
             ],
             [
              0.8888888888888888,
              "#fdca26"
             ],
             [
              1,
              "#f0f921"
             ]
            ],
            "type": "surface"
           }
          ],
          "table": [
           {
            "cells": {
             "fill": {
              "color": "#EBF0F8"
             },
             "line": {
              "color": "white"
             }
            },
            "header": {
             "fill": {
              "color": "#C8D4E3"
             },
             "line": {
              "color": "white"
             }
            },
            "type": "table"
           }
          ]
         },
         "layout": {
          "annotationdefaults": {
           "arrowcolor": "#2a3f5f",
           "arrowhead": 0,
           "arrowwidth": 1
          },
          "autotypenumbers": "strict",
          "coloraxis": {
           "colorbar": {
            "outlinewidth": 0,
            "ticks": ""
           }
          },
          "colorscale": {
           "diverging": [
            [
             0,
             "#8e0152"
            ],
            [
             0.1,
             "#c51b7d"
            ],
            [
             0.2,
             "#de77ae"
            ],
            [
             0.3,
             "#f1b6da"
            ],
            [
             0.4,
             "#fde0ef"
            ],
            [
             0.5,
             "#f7f7f7"
            ],
            [
             0.6,
             "#e6f5d0"
            ],
            [
             0.7,
             "#b8e186"
            ],
            [
             0.8,
             "#7fbc41"
            ],
            [
             0.9,
             "#4d9221"
            ],
            [
             1,
             "#276419"
            ]
           ],
           "sequential": [
            [
             0,
             "#0d0887"
            ],
            [
             0.1111111111111111,
             "#46039f"
            ],
            [
             0.2222222222222222,
             "#7201a8"
            ],
            [
             0.3333333333333333,
             "#9c179e"
            ],
            [
             0.4444444444444444,
             "#bd3786"
            ],
            [
             0.5555555555555556,
             "#d8576b"
            ],
            [
             0.6666666666666666,
             "#ed7953"
            ],
            [
             0.7777777777777778,
             "#fb9f3a"
            ],
            [
             0.8888888888888888,
             "#fdca26"
            ],
            [
             1,
             "#f0f921"
            ]
           ],
           "sequentialminus": [
            [
             0,
             "#0d0887"
            ],
            [
             0.1111111111111111,
             "#46039f"
            ],
            [
             0.2222222222222222,
             "#7201a8"
            ],
            [
             0.3333333333333333,
             "#9c179e"
            ],
            [
             0.4444444444444444,
             "#bd3786"
            ],
            [
             0.5555555555555556,
             "#d8576b"
            ],
            [
             0.6666666666666666,
             "#ed7953"
            ],
            [
             0.7777777777777778,
             "#fb9f3a"
            ],
            [
             0.8888888888888888,
             "#fdca26"
            ],
            [
             1,
             "#f0f921"
            ]
           ]
          },
          "colorway": [
           "#636efa",
           "#EF553B",
           "#00cc96",
           "#ab63fa",
           "#FFA15A",
           "#19d3f3",
           "#FF6692",
           "#B6E880",
           "#FF97FF",
           "#FECB52"
          ],
          "font": {
           "color": "#2a3f5f"
          },
          "geo": {
           "bgcolor": "white",
           "lakecolor": "white",
           "landcolor": "#E5ECF6",
           "showlakes": true,
           "showland": true,
           "subunitcolor": "white"
          },
          "hoverlabel": {
           "align": "left"
          },
          "hovermode": "closest",
          "mapbox": {
           "style": "light"
          },
          "paper_bgcolor": "white",
          "plot_bgcolor": "#E5ECF6",
          "polar": {
           "angularaxis": {
            "gridcolor": "white",
            "linecolor": "white",
            "ticks": ""
           },
           "bgcolor": "#E5ECF6",
           "radialaxis": {
            "gridcolor": "white",
            "linecolor": "white",
            "ticks": ""
           }
          },
          "scene": {
           "xaxis": {
            "backgroundcolor": "#E5ECF6",
            "gridcolor": "white",
            "gridwidth": 2,
            "linecolor": "white",
            "showbackground": true,
            "ticks": "",
            "zerolinecolor": "white"
           },
           "yaxis": {
            "backgroundcolor": "#E5ECF6",
            "gridcolor": "white",
            "gridwidth": 2,
            "linecolor": "white",
            "showbackground": true,
            "ticks": "",
            "zerolinecolor": "white"
           },
           "zaxis": {
            "backgroundcolor": "#E5ECF6",
            "gridcolor": "white",
            "gridwidth": 2,
            "linecolor": "white",
            "showbackground": true,
            "ticks": "",
            "zerolinecolor": "white"
           }
          },
          "shapedefaults": {
           "line": {
            "color": "#2a3f5f"
           }
          },
          "ternary": {
           "aaxis": {
            "gridcolor": "white",
            "linecolor": "white",
            "ticks": ""
           },
           "baxis": {
            "gridcolor": "white",
            "linecolor": "white",
            "ticks": ""
           },
           "bgcolor": "#E5ECF6",
           "caxis": {
            "gridcolor": "white",
            "linecolor": "white",
            "ticks": ""
           }
          },
          "title": {
           "x": 0.05
          },
          "xaxis": {
           "automargin": true,
           "gridcolor": "white",
           "linecolor": "white",
           "ticks": "",
           "title": {
            "standoff": 15
           },
           "zerolinecolor": "white",
           "zerolinewidth": 2
          },
          "yaxis": {
           "automargin": true,
           "gridcolor": "white",
           "linecolor": "white",
           "ticks": "",
           "title": {
            "standoff": 15
           },
           "zerolinecolor": "white",
           "zerolinewidth": 2
          }
         }
        },
        "title": {
         "text": "Attn Head Freqs for Strategy + Task "
        },
        "xaxis": {
         "anchor": "y",
         "constrain": "domain",
         "domain": [
          0,
          1
         ],
         "scaleanchor": "y",
         "title": {
          "text": "Head"
         }
        },
        "yaxis": {
         "anchor": "x",
         "autorange": "reversed",
         "constrain": "domain",
         "domain": [
          0,
          1
         ],
         "title": {
          "text": "Layer"
         }
        }
       }
      }
     },
     "metadata": {},
     "output_type": "display_data"
    }
   ],
   "source": [
    "# %%\n",
    "\n",
    "%load_ext autoreload\n",
    "%autoreload 2\n",
    "\n",
    "\n",
    "# %%\n",
    "import torch\n",
    "import time\n",
    "import plotly.express as px\n",
    "import matplotlib.pyplot as plt\n",
    "\n",
    "from task_evaluation import TaskEvaluation\n",
    "from data.ioi_dataset import gen_templated_prompts\n",
    "from data.greater_than_dataset import generate_greater_than_dataset\n",
    "from circuit_discovery import CircuitDiscovery, only_feature\n",
    "from circuit_lens import CircuitComponent\n",
    "from plotly_utils import *\n",
    "from data.ioi_dataset import IOI_GROUND_TRUTH_HEADS\n",
    "from data.greater_than_dataset import GT_GROUND_TRUTH_HEADS\n",
    "from memory import get_gpu_memory\n",
    "from sklearn import metrics\n",
    "from tqdm import trange\n",
    "\n",
    "from utils import get_attn_head_roc\n",
    "\n",
    "\n",
    "# %%\n",
    "torch.set_grad_enabled(False)\n",
    "# %%\n",
    "\n",
    "\n",
    "#dataset_prompts = gen_templated_prompts(template_idex=1, N=500)\n",
    "dataset_prompts = generate_greater_than_dataset(N=100)\n",
    "\n",
    "\n",
    "# %%\n",
    "\n",
    "def component_filter(component: str):\n",
    "    return component in [\n",
    "        CircuitComponent.Z_FEATURE,\n",
    "        CircuitComponent.MLP_FEATURE,\n",
    "        CircuitComponent.ATTN_HEAD,\n",
    "        CircuitComponent.UNEMBED,\n",
    "        # CircuitComponent.UNEMBED_AT_TOKEN,\n",
    "        CircuitComponent.EMBED,\n",
    "        CircuitComponent.POS_EMBED,\n",
    "        # CircuitComponent.BIAS_O,\n",
    "        CircuitComponent.Z_SAE_ERROR,\n",
    "        # CircuitComponent.Z_SAE_BIAS,\n",
    "        # CircuitComponent.TRANSCODER_ERROR,\n",
    "        # CircuitComponent.TRANSCODER_BIAS,\n",
    "    ]\n",
    "\n",
    "\n",
    "pass_based = True\n",
    "\n",
    "passes = 5\n",
    "node_contributors = 1\n",
    "first_pass_minimal = True\n",
    "\n",
    "sub_passes = 3\n",
    "do_sub_pass = False\n",
    "layer_thres = 9\n",
    "minimal = True\n",
    "\n",
    "\n",
    "num_greedy_passes = 20\n",
    "k = 1\n",
    "N = 30\n",
    "\n",
    "thres = 4\n",
    "\n",
    "def strategy(cd: CircuitDiscovery):\n",
    "    if pass_based:\n",
    "        for _ in range(passes):\n",
    "            cd.add_greedy_pass(contributors_per_node=node_contributors, minimal=first_pass_minimal)\n",
    "\n",
    "            if do_sub_pass:\n",
    "                for _ in range(sub_passes):\n",
    "                    cd.add_greedy_pass_against_all_existing_nodes(contributors_per_node=node_contributors, skip_z_features=True, layer_threshold=layer_thres, minimal=minimal)\n",
    "    else:\n",
    "        for _ in range(num_greedy_passes):\n",
    "            cd.greedily_add_top_contributors(k=k, reciever_threshold=thres)\n",
    "\n",
    "\n",
    "\n",
    "task_eval = TaskEvaluation(prompts=dataset_prompts, circuit_discovery_strategy=strategy, allowed_components_filter=component_filter)\n",
    "\n",
    "cd = task_eval.get_circuit_discovery_for_prompt(20)\n",
    "# f = task_eval.get_features_at_heads_over_dataset(N=30)\n",
    "N = 100\n",
    "\n",
    "attn_freqs = task_eval.get_attn_head_freqs_over_dataset(N=N, subtract_counter_factuals=False, return_freqs=True)"
   ]
  },
  {
   "cell_type": "code",
   "execution_count": 13,
   "metadata": {},
   "outputs": [],
   "source": [
    "import plotly.graph_objects as go\n",
    "\n",
    "def get_attn_head_roc(ground_truth, data, task_name, visualize=True, additional_title=\"\"):\n",
    "    fp, tp, thresh = metrics.roc_curve(ground_truth.flatten(), data.flatten())\n",
    "    score = metrics.roc_auc_score(ground_truth.flatten(), data.flatten())\n",
    "\n",
    "    if visualize:\n",
    "        print(\"Score:\", score)\n",
    "\n",
    "        # Create the ROC curve with flat lines and vertical lines\n",
    "        x_coords = []\n",
    "        y_coords = []\n",
    "\n",
    "        for i in range(len(fp)):\n",
    "            x_coords.append(fp[i])\n",
    "            y_coords.append(tp[i])\n",
    "\n",
    "            if i < len(fp) - 1:\n",
    "                x_coords.append(fp[i])\n",
    "                y_coords.append(tp[i+1])\n",
    "                x_coords.append(fp[i+1])\n",
    "                y_coords.append(tp[i+1])\n",
    "\n",
    "        fig = go.Figure()\n",
    "\n",
    "        fig.add_trace(go.Scatter(x=x_coords, y=y_coords,\n",
    "                                 mode='lines',\n",
    "                                 name='ROC Curve',\n",
    "                                 line=dict(color='blue', width=2)))\n",
    "\n",
    "        fig.add_shape(type='line',\n",
    "                      x0=0, y0=0, x1=1, y1=1,\n",
    "                      line=dict(color='red', width=2, dash='dash'),\n",
    "                      name='Random Guess')\n",
    "\n",
    "        fig.update_layout(\n",
    "            title=f\"ROC Curve for {task_name} \" + additional_title,\n",
    "            xaxis=dict(title='False Positive Rate', showgrid=False, zeroline=False),\n",
    "            yaxis=dict(title='True Positive Rate', showgrid=False, zeroline=False),\n",
    "            font=dict(size=14),\n",
    "            template='plotly_white',\n",
    "            width=600,\n",
    "            height=600,\n",
    "            legend=dict(x=0.7, y=0.2, borderwidth=1, bordercolor='black', bgcolor='rgba(255, 255, 255, 0.8)'),\n",
    "            plot_bgcolor='white',\n",
    "            hovermode='closest'\n",
    "        )\n",
    "\n",
    "        fig.update_xaxes(range=[0, 1.01])\n",
    "        fig.update_yaxes(range=[0, 1.01])\n",
    "\n",
    "        fig.show()\n",
    "\n",
    "    return score, fp, tp, thresh"
   ]
  },
  {
   "cell_type": "code",
   "execution_count": 15,
   "metadata": {},
   "outputs": [
    {
     "name": "stdout",
     "output_type": "stream",
     "text": [
      "Score: 0.8592592592592592\n"
     ]
    },
    {
     "data": {
      "application/vnd.plotly.v1+json": {
       "config": {
        "plotlyServerURL": "https://plot.ly"
       },
       "data": [
        {
         "line": {
          "color": "blue",
          "width": 2
         },
         "mode": "lines",
         "name": "ROC Curve",
         "type": "scatter",
         "x": [
          0,
          0,
          0,
          0,
          0,
          0.007407407407407408,
          0.007407407407407408,
          0.007407407407407408,
          0.044444444444444446,
          0.044444444444444446,
          0.044444444444444446,
          0.044444444444444446,
          0.044444444444444446,
          0.044444444444444446,
          0.05185185185185185,
          0.05185185185185185,
          0.05185185185185185,
          0.08148148148148149,
          0.08148148148148149,
          0.08148148148148149,
          0.15555555555555556,
          0.15555555555555556,
          0.15555555555555556,
          0.16296296296296298,
          0.16296296296296298,
          0.16296296296296298,
          0.2074074074074074,
          0.2074074074074074,
          0.2074074074074074,
          0.23703703703703705,
          0.23703703703703705,
          0.23703703703703705,
          0.2962962962962963,
          0.2962962962962963,
          0.2962962962962963,
          0.4,
          0.4,
          0.4,
          1,
          1
         ],
         "y": [
          0,
          0.1111111111111111,
          0.1111111111111111,
          0.1111111111111111,
          0.2222222222222222,
          0.2222222222222222,
          0.2222222222222222,
          0.2222222222222222,
          0.2222222222222222,
          0.2222222222222222,
          0.5555555555555556,
          0.5555555555555556,
          0.5555555555555556,
          0.6666666666666666,
          0.6666666666666666,
          0.6666666666666666,
          0.6666666666666666,
          0.6666666666666666,
          0.6666666666666666,
          0.6666666666666666,
          0.6666666666666666,
          0.6666666666666666,
          0.7777777777777778,
          0.7777777777777778,
          0.7777777777777778,
          0.7777777777777778,
          0.7777777777777778,
          0.7777777777777778,
          0.8888888888888888,
          0.8888888888888888,
          0.8888888888888888,
          0.8888888888888888,
          0.8888888888888888,
          0.8888888888888888,
          0.8888888888888888,
          0.8888888888888888,
          0.8888888888888888,
          1,
          1,
          1
         ]
        }
       ],
       "layout": {
        "font": {
         "size": 14
        },
        "height": 600,
        "hovermode": "closest",
        "legend": {
         "bgcolor": "rgba(255, 255, 255, 0.8)",
         "bordercolor": "black",
         "borderwidth": 1,
         "x": 0.7,
         "y": 0.2
        },
        "plot_bgcolor": "white",
        "shapes": [
         {
          "line": {
           "color": "red",
           "dash": "dash",
           "width": 2
          },
          "name": "Random Guess",
          "type": "line",
          "x0": 0,
          "x1": 1,
          "y0": 0,
          "y1": 1
         }
        ],
        "template": {
         "data": {
          "bar": [
           {
            "error_x": {
             "color": "#2a3f5f"
            },
            "error_y": {
             "color": "#2a3f5f"
            },
            "marker": {
             "line": {
              "color": "white",
              "width": 0.5
             },
             "pattern": {
              "fillmode": "overlay",
              "size": 10,
              "solidity": 0.2
             }
            },
            "type": "bar"
           }
          ],
          "barpolar": [
           {
            "marker": {
             "line": {
              "color": "white",
              "width": 0.5
             },
             "pattern": {
              "fillmode": "overlay",
              "size": 10,
              "solidity": 0.2
             }
            },
            "type": "barpolar"
           }
          ],
          "carpet": [
           {
            "aaxis": {
             "endlinecolor": "#2a3f5f",
             "gridcolor": "#C8D4E3",
             "linecolor": "#C8D4E3",
             "minorgridcolor": "#C8D4E3",
             "startlinecolor": "#2a3f5f"
            },
            "baxis": {
             "endlinecolor": "#2a3f5f",
             "gridcolor": "#C8D4E3",
             "linecolor": "#C8D4E3",
             "minorgridcolor": "#C8D4E3",
             "startlinecolor": "#2a3f5f"
            },
            "type": "carpet"
           }
          ],
          "choropleth": [
           {
            "colorbar": {
             "outlinewidth": 0,
             "ticks": ""
            },
            "type": "choropleth"
           }
          ],
          "contour": [
           {
            "colorbar": {
             "outlinewidth": 0,
             "ticks": ""
            },
            "colorscale": [
             [
              0,
              "#0d0887"
             ],
             [
              0.1111111111111111,
              "#46039f"
             ],
             [
              0.2222222222222222,
              "#7201a8"
             ],
             [
              0.3333333333333333,
              "#9c179e"
             ],
             [
              0.4444444444444444,
              "#bd3786"
             ],
             [
              0.5555555555555556,
              "#d8576b"
             ],
             [
              0.6666666666666666,
              "#ed7953"
             ],
             [
              0.7777777777777778,
              "#fb9f3a"
             ],
             [
              0.8888888888888888,
              "#fdca26"
             ],
             [
              1,
              "#f0f921"
             ]
            ],
            "type": "contour"
           }
          ],
          "contourcarpet": [
           {
            "colorbar": {
             "outlinewidth": 0,
             "ticks": ""
            },
            "type": "contourcarpet"
           }
          ],
          "heatmap": [
           {
            "colorbar": {
             "outlinewidth": 0,
             "ticks": ""
            },
            "colorscale": [
             [
              0,
              "#0d0887"
             ],
             [
              0.1111111111111111,
              "#46039f"
             ],
             [
              0.2222222222222222,
              "#7201a8"
             ],
             [
              0.3333333333333333,
              "#9c179e"
             ],
             [
              0.4444444444444444,
              "#bd3786"
             ],
             [
              0.5555555555555556,
              "#d8576b"
             ],
             [
              0.6666666666666666,
              "#ed7953"
             ],
             [
              0.7777777777777778,
              "#fb9f3a"
             ],
             [
              0.8888888888888888,
              "#fdca26"
             ],
             [
              1,
              "#f0f921"
             ]
            ],
            "type": "heatmap"
           }
          ],
          "heatmapgl": [
           {
            "colorbar": {
             "outlinewidth": 0,
             "ticks": ""
            },
            "colorscale": [
             [
              0,
              "#0d0887"
             ],
             [
              0.1111111111111111,
              "#46039f"
             ],
             [
              0.2222222222222222,
              "#7201a8"
             ],
             [
              0.3333333333333333,
              "#9c179e"
             ],
             [
              0.4444444444444444,
              "#bd3786"
             ],
             [
              0.5555555555555556,
              "#d8576b"
             ],
             [
              0.6666666666666666,
              "#ed7953"
             ],
             [
              0.7777777777777778,
              "#fb9f3a"
             ],
             [
              0.8888888888888888,
              "#fdca26"
             ],
             [
              1,
              "#f0f921"
             ]
            ],
            "type": "heatmapgl"
           }
          ],
          "histogram": [
           {
            "marker": {
             "pattern": {
              "fillmode": "overlay",
              "size": 10,
              "solidity": 0.2
             }
            },
            "type": "histogram"
           }
          ],
          "histogram2d": [
           {
            "colorbar": {
             "outlinewidth": 0,
             "ticks": ""
            },
            "colorscale": [
             [
              0,
              "#0d0887"
             ],
             [
              0.1111111111111111,
              "#46039f"
             ],
             [
              0.2222222222222222,
              "#7201a8"
             ],
             [
              0.3333333333333333,
              "#9c179e"
             ],
             [
              0.4444444444444444,
              "#bd3786"
             ],
             [
              0.5555555555555556,
              "#d8576b"
             ],
             [
              0.6666666666666666,
              "#ed7953"
             ],
             [
              0.7777777777777778,
              "#fb9f3a"
             ],
             [
              0.8888888888888888,
              "#fdca26"
             ],
             [
              1,
              "#f0f921"
             ]
            ],
            "type": "histogram2d"
           }
          ],
          "histogram2dcontour": [
           {
            "colorbar": {
             "outlinewidth": 0,
             "ticks": ""
            },
            "colorscale": [
             [
              0,
              "#0d0887"
             ],
             [
              0.1111111111111111,
              "#46039f"
             ],
             [
              0.2222222222222222,
              "#7201a8"
             ],
             [
              0.3333333333333333,
              "#9c179e"
             ],
             [
              0.4444444444444444,
              "#bd3786"
             ],
             [
              0.5555555555555556,
              "#d8576b"
             ],
             [
              0.6666666666666666,
              "#ed7953"
             ],
             [
              0.7777777777777778,
              "#fb9f3a"
             ],
             [
              0.8888888888888888,
              "#fdca26"
             ],
             [
              1,
              "#f0f921"
             ]
            ],
            "type": "histogram2dcontour"
           }
          ],
          "mesh3d": [
           {
            "colorbar": {
             "outlinewidth": 0,
             "ticks": ""
            },
            "type": "mesh3d"
           }
          ],
          "parcoords": [
           {
            "line": {
             "colorbar": {
              "outlinewidth": 0,
              "ticks": ""
             }
            },
            "type": "parcoords"
           }
          ],
          "pie": [
           {
            "automargin": true,
            "type": "pie"
           }
          ],
          "scatter": [
           {
            "fillpattern": {
             "fillmode": "overlay",
             "size": 10,
             "solidity": 0.2
            },
            "type": "scatter"
           }
          ],
          "scatter3d": [
           {
            "line": {
             "colorbar": {
              "outlinewidth": 0,
              "ticks": ""
             }
            },
            "marker": {
             "colorbar": {
              "outlinewidth": 0,
              "ticks": ""
             }
            },
            "type": "scatter3d"
           }
          ],
          "scattercarpet": [
           {
            "marker": {
             "colorbar": {
              "outlinewidth": 0,
              "ticks": ""
             }
            },
            "type": "scattercarpet"
           }
          ],
          "scattergeo": [
           {
            "marker": {
             "colorbar": {
              "outlinewidth": 0,
              "ticks": ""
             }
            },
            "type": "scattergeo"
           }
          ],
          "scattergl": [
           {
            "marker": {
             "colorbar": {
              "outlinewidth": 0,
              "ticks": ""
             }
            },
            "type": "scattergl"
           }
          ],
          "scattermapbox": [
           {
            "marker": {
             "colorbar": {
              "outlinewidth": 0,
              "ticks": ""
             }
            },
            "type": "scattermapbox"
           }
          ],
          "scatterpolar": [
           {
            "marker": {
             "colorbar": {
              "outlinewidth": 0,
              "ticks": ""
             }
            },
            "type": "scatterpolar"
           }
          ],
          "scatterpolargl": [
           {
            "marker": {
             "colorbar": {
              "outlinewidth": 0,
              "ticks": ""
             }
            },
            "type": "scatterpolargl"
           }
          ],
          "scatterternary": [
           {
            "marker": {
             "colorbar": {
              "outlinewidth": 0,
              "ticks": ""
             }
            },
            "type": "scatterternary"
           }
          ],
          "surface": [
           {
            "colorbar": {
             "outlinewidth": 0,
             "ticks": ""
            },
            "colorscale": [
             [
              0,
              "#0d0887"
             ],
             [
              0.1111111111111111,
              "#46039f"
             ],
             [
              0.2222222222222222,
              "#7201a8"
             ],
             [
              0.3333333333333333,
              "#9c179e"
             ],
             [
              0.4444444444444444,
              "#bd3786"
             ],
             [
              0.5555555555555556,
              "#d8576b"
             ],
             [
              0.6666666666666666,
              "#ed7953"
             ],
             [
              0.7777777777777778,
              "#fb9f3a"
             ],
             [
              0.8888888888888888,
              "#fdca26"
             ],
             [
              1,
              "#f0f921"
             ]
            ],
            "type": "surface"
           }
          ],
          "table": [
           {
            "cells": {
             "fill": {
              "color": "#EBF0F8"
             },
             "line": {
              "color": "white"
             }
            },
            "header": {
             "fill": {
              "color": "#C8D4E3"
             },
             "line": {
              "color": "white"
             }
            },
            "type": "table"
           }
          ]
         },
         "layout": {
          "annotationdefaults": {
           "arrowcolor": "#2a3f5f",
           "arrowhead": 0,
           "arrowwidth": 1
          },
          "autotypenumbers": "strict",
          "coloraxis": {
           "colorbar": {
            "outlinewidth": 0,
            "ticks": ""
           }
          },
          "colorscale": {
           "diverging": [
            [
             0,
             "#8e0152"
            ],
            [
             0.1,
             "#c51b7d"
            ],
            [
             0.2,
             "#de77ae"
            ],
            [
             0.3,
             "#f1b6da"
            ],
            [
             0.4,
             "#fde0ef"
            ],
            [
             0.5,
             "#f7f7f7"
            ],
            [
             0.6,
             "#e6f5d0"
            ],
            [
             0.7,
             "#b8e186"
            ],
            [
             0.8,
             "#7fbc41"
            ],
            [
             0.9,
             "#4d9221"
            ],
            [
             1,
             "#276419"
            ]
           ],
           "sequential": [
            [
             0,
             "#0d0887"
            ],
            [
             0.1111111111111111,
             "#46039f"
            ],
            [
             0.2222222222222222,
             "#7201a8"
            ],
            [
             0.3333333333333333,
             "#9c179e"
            ],
            [
             0.4444444444444444,
             "#bd3786"
            ],
            [
             0.5555555555555556,
             "#d8576b"
            ],
            [
             0.6666666666666666,
             "#ed7953"
            ],
            [
             0.7777777777777778,
             "#fb9f3a"
            ],
            [
             0.8888888888888888,
             "#fdca26"
            ],
            [
             1,
             "#f0f921"
            ]
           ],
           "sequentialminus": [
            [
             0,
             "#0d0887"
            ],
            [
             0.1111111111111111,
             "#46039f"
            ],
            [
             0.2222222222222222,
             "#7201a8"
            ],
            [
             0.3333333333333333,
             "#9c179e"
            ],
            [
             0.4444444444444444,
             "#bd3786"
            ],
            [
             0.5555555555555556,
             "#d8576b"
            ],
            [
             0.6666666666666666,
             "#ed7953"
            ],
            [
             0.7777777777777778,
             "#fb9f3a"
            ],
            [
             0.8888888888888888,
             "#fdca26"
            ],
            [
             1,
             "#f0f921"
            ]
           ]
          },
          "colorway": [
           "#636efa",
           "#EF553B",
           "#00cc96",
           "#ab63fa",
           "#FFA15A",
           "#19d3f3",
           "#FF6692",
           "#B6E880",
           "#FF97FF",
           "#FECB52"
          ],
          "font": {
           "color": "#2a3f5f"
          },
          "geo": {
           "bgcolor": "white",
           "lakecolor": "white",
           "landcolor": "white",
           "showlakes": true,
           "showland": true,
           "subunitcolor": "#C8D4E3"
          },
          "hoverlabel": {
           "align": "left"
          },
          "hovermode": "closest",
          "mapbox": {
           "style": "light"
          },
          "paper_bgcolor": "white",
          "plot_bgcolor": "white",
          "polar": {
           "angularaxis": {
            "gridcolor": "#EBF0F8",
            "linecolor": "#EBF0F8",
            "ticks": ""
           },
           "bgcolor": "white",
           "radialaxis": {
            "gridcolor": "#EBF0F8",
            "linecolor": "#EBF0F8",
            "ticks": ""
           }
          },
          "scene": {
           "xaxis": {
            "backgroundcolor": "white",
            "gridcolor": "#DFE8F3",
            "gridwidth": 2,
            "linecolor": "#EBF0F8",
            "showbackground": true,
            "ticks": "",
            "zerolinecolor": "#EBF0F8"
           },
           "yaxis": {
            "backgroundcolor": "white",
            "gridcolor": "#DFE8F3",
            "gridwidth": 2,
            "linecolor": "#EBF0F8",
            "showbackground": true,
            "ticks": "",
            "zerolinecolor": "#EBF0F8"
           },
           "zaxis": {
            "backgroundcolor": "white",
            "gridcolor": "#DFE8F3",
            "gridwidth": 2,
            "linecolor": "#EBF0F8",
            "showbackground": true,
            "ticks": "",
            "zerolinecolor": "#EBF0F8"
           }
          },
          "shapedefaults": {
           "line": {
            "color": "#2a3f5f"
           }
          },
          "ternary": {
           "aaxis": {
            "gridcolor": "#DFE8F3",
            "linecolor": "#A2B1C6",
            "ticks": ""
           },
           "baxis": {
            "gridcolor": "#DFE8F3",
            "linecolor": "#A2B1C6",
            "ticks": ""
           },
           "bgcolor": "white",
           "caxis": {
            "gridcolor": "#DFE8F3",
            "linecolor": "#A2B1C6",
            "ticks": ""
           }
          },
          "title": {
           "x": 0.05
          },
          "xaxis": {
           "automargin": true,
           "gridcolor": "#EBF0F8",
           "linecolor": "#EBF0F8",
           "ticks": "",
           "title": {
            "standoff": 15
           },
           "zerolinecolor": "#EBF0F8",
           "zerolinewidth": 2
          },
          "yaxis": {
           "automargin": true,
           "gridcolor": "#EBF0F8",
           "linecolor": "#EBF0F8",
           "ticks": "",
           "title": {
            "standoff": 15
           },
           "zerolinecolor": "#EBF0F8",
           "zerolinewidth": 2
          }
         }
        },
        "title": {
         "text": "ROC Curve for GT (No Counterfactuals)"
        },
        "width": 600,
        "xaxis": {
         "range": [
          0,
          1.01
         ],
         "showgrid": false,
         "title": {
          "text": "False Positive Rate"
         },
         "zeroline": false
        },
        "yaxis": {
         "range": [
          0,
          1.01
         ],
         "showgrid": false,
         "title": {
          "text": "True Positive Rate"
         },
         "zeroline": false
        }
       }
      }
     },
     "metadata": {},
     "output_type": "display_data"
    }
   ],
   "source": [
    "# IOI_GROUND_TRUTH_DATA = torch.load(\"data/ioi_ground_truth.pt\")\n",
    "\n",
    "# IOI_GROUND_TRUTH_HEADS = torch.zeros(12, 12)\n",
    "\n",
    "# for layer, head in IOI_GROUND_TRUTH_DATA:\n",
    "#     IOI_GROUND_TRUTH_HEADS[layer, head] = 1\n",
    "\n",
    "# ground_truth = IOI_GROUND_TRUTH_HEADS.flatten()\n",
    "\n",
    "GT_GROUND_TRUTH_DATA = torch.load(\"data/gt_ground_truth.pt\")\n",
    "\n",
    "GT_GROUND_TRUTH_HEADS = torch.zeros(12, 12)\n",
    "\n",
    "for layer, head in GT_GROUND_TRUTH_DATA:\n",
    "    GT_GROUND_TRUTH_HEADS[layer, head] = 1\n",
    "\n",
    "ground_truth = GT_GROUND_TRUTH_HEADS.flatten()\n",
    "\n",
    "# fp, tp, thresh = get_attn_head_roc(ground_truth, a.flatten().softmax(dim=-1), \"IOI\", visualize=True, additional_title=\"(No Counterfactuals)\")\n",
    "score, _, _, _ = get_attn_head_roc(ground_truth, attn_freqs.flatten().softmax(dim=-1), \"GT\", visualize=True, additional_title=\"(No Counterfactuals)\")"
   ]
  },
  {
   "cell_type": "markdown",
   "metadata": {},
   "source": [
    "# Labelling IOI"
   ]
  },
  {
   "cell_type": "markdown",
   "metadata": {},
   "source": [
    "How are we going to do this?\n",
    "* We will work from the bottom up (starting at bottom nodes of our graph and moving onto connected components).\n",
    "* Get feature families for each component. \n",
    "* Get max-activating examples for each feature family.\n",
    "* Get token contributions for these max-activating examples - combine this into one prompt.\n",
    "* Get the max-activating examples/tokens on IOI specific inputs, as well as token contributions.\n",
    "* Provide a description of the IOI task in the prompt. \n",
    "* Provide the feature interpretation of every component feeding in to our current component.\n",
    "* Get IOI-specific interpretation of component.\n",
    "\n",
    "Baseline:\n",
    "* One circuit at a time, same process. \n",
    "\n",
    "\n",
    "Extensions (not for now):\n",
    "* Feature co-occurrences - not only what our component is doing, but how it passes information between nodes."
   ]
  },
  {
   "cell_type": "code",
   "execution_count": 1,
   "metadata": {},
   "outputs": [
    {
     "name": "stderr",
     "output_type": "stream",
     "text": [
      "/Users/charlesoneill/miniconda3/envs/anu/lib/python3.12/site-packages/huggingface_hub/file_download.py:1132: FutureWarning: `resume_download` is deprecated and will be removed in version 1.0.0. Downloads always resume when possible. If you want to force a new download, use `force_download=True`.\n",
      "  warnings.warn(\n"
     ]
    },
    {
     "name": "stdout",
     "output_type": "stream",
     "text": [
      "Loaded pretrained model gpt2-small into HookedTransformer\n",
      "Loaded pretrained model gpt2-small into HookedTransformer\n",
      "\n",
      "Loading SAEs...\n"
     ]
    },
    {
     "name": "stderr",
     "output_type": "stream",
     "text": [
      "huggingface/tokenizers: The current process just got forked, after parallelism has already been used. Disabling parallelism to avoid deadlocks...\n",
      "To disable this warning, you can either:\n",
      "\t- Avoid using `tokenizers` before the fork if possible\n",
      "\t- Explicitly set the environment variable TOKENIZERS_PARALLELISM=(true | false)\n",
      "100%|██████████| 12/12 [00:08<00:00,  1.37it/s]\n"
     ]
    },
    {
     "name": "stdout",
     "output_type": "stream",
     "text": [
      "\n",
      "Loading Transcoders...\n"
     ]
    },
    {
     "name": "stderr",
     "output_type": "stream",
     "text": [
      "100%|██████████| 12/12 [00:05<00:00,  2.40it/s]\n",
      "100%|██████████| 20/20 [00:48<00:00,  2.42s/it]\n"
     ]
    }
   ],
   "source": [
    "# Get feature families for each component\n",
    "\n",
    "from autointerpretability import *\n",
    "\n",
    "cp = get_circuit_prediction(task='ioi', N=20)\n",
    "\n",
    "from collections import Counter, defaultdict\n",
    "\n",
    "def get_top_k_feature_tuples_for_component(co_occurrence_dict, component_str, k=5):\n",
    "    # Parse the component string to get the appropriate tuple key\n",
    "    if component_str.startswith(\"MLP\"):\n",
    "        layer = int(component_str[3:])\n",
    "        component = ('mlp_feature', layer)\n",
    "    elif component_str.startswith(\"L\") and \"H\" in component_str:\n",
    "        layer, head = map(int, component_str[1:].split(\"H\"))\n",
    "        component = ('attn_head', layer, head)\n",
    "    else:\n",
    "        raise ValueError(f\"Invalid component format: {component_str}\")\n",
    "\n",
    "    # Use a Counter to count the occurrences of each tuple\n",
    "    global_counter = Counter()\n",
    "\n",
    "    # Iterate through the co-occurrence dictionary\n",
    "    for comp_pair, co_occurrences in co_occurrence_dict.items():\n",
    "        comp1, comp2 = comp_pair\n",
    "\n",
    "        if comp1 == component or comp2 == component:\n",
    "            for feature_tuple in co_occurrences:\n",
    "                global_counter[(comp_pair, feature_tuple)] += 1\n",
    "\n",
    "    # Get the top-k tuples by count\n",
    "    top_k_tuples = global_counter.most_common(k)\n",
    "\n",
    "    # Create a dictionary to store the results\n",
    "    top_k_dict = defaultdict(dict)\n",
    "    \n",
    "    for (comp_pair, feature_tuple), count in top_k_tuples:\n",
    "        top_k_dict[comp_pair][feature_tuple] = count\n",
    "\n",
    "    return top_k_dict"
   ]
  },
  {
   "cell_type": "code",
   "execution_count": 2,
   "metadata": {},
   "outputs": [
    {
     "data": {
      "text/plain": [
       "[19042, 6510, 4559, 176, 5081]"
      ]
     },
     "execution_count": 2,
     "metadata": {},
     "output_type": "execute_result"
    }
   ],
   "source": [
    "features = list(set(cp.circuit_hypergraph['L2_H2']['features']))\n",
    "features"
   ]
  },
  {
   "cell_type": "code",
   "execution_count": 3,
   "metadata": {},
   "outputs": [],
   "source": [
    "model, z_saes, transcoders = get_model_encoders('cpu')"
   ]
  },
  {
   "cell_type": "code",
   "execution_count": 6,
   "metadata": {},
   "outputs": [
    {
     "name": "stderr",
     "output_type": "stream",
     "text": [
      "/var/folders/wg/cdt_cw_5265_z_gwnxlf0tv80000gn/T/ipykernel_8977/780314101.py:30: UserWarning: To copy construct from a tensor, it is recommended to use sourceTensor.clone().detach() or sourceTensor.clone().detach().requires_grad_(True), rather than torch.tensor(sourceTensor).\n",
      "  dataset_prompt_tokens = torch.tensor(tokens)\n"
     ]
    },
    {
     "name": "stdout",
     "output_type": "stream",
     "text": [
      "The autoreload extension is already loaded. To reload it, use:\n",
      "  %reload_ext autoreload\n"
     ]
    },
    {
     "name": "stderr",
     "output_type": "stream",
     "text": [
      "100%|██████████| 40/40 [01:10<00:00,  1.76s/it]\n",
      "100%|██████████| 5/5 [01:18<00:00, 15.69s/it]\n",
      "100%|██████████| 4/4 [00:01<00:00,  3.02it/s]\n",
      "100%|██████████| 5/5 [00:04<00:00,  1.25it/s]\n",
      "100%|██████████| 40/40 [01:09<00:00,  1.75s/it]\n",
      "100%|██████████| 5/5 [01:18<00:00, 15.79s/it]\n",
      "100%|██████████| 4/4 [00:01<00:00,  3.50it/s]\n",
      "100%|██████████| 5/5 [00:06<00:00,  1.35s/it]\n",
      "100%|██████████| 40/40 [01:10<00:00,  1.75s/it]\n",
      "100%|██████████| 5/5 [01:16<00:00, 15.30s/it]\n",
      "100%|██████████| 4/4 [00:01<00:00,  3.54it/s]\n",
      "100%|██████████| 5/5 [00:04<00:00,  1.06it/s]\n",
      "100%|██████████| 40/40 [01:10<00:00,  1.75s/it]\n",
      "100%|██████████| 5/5 [01:17<00:00, 15.42s/it]\n",
      "100%|██████████| 4/4 [00:01<00:00,  3.51it/s]\n",
      "100%|██████████| 5/5 [00:05<00:00,  1.16s/it]\n",
      "100%|██████████| 40/40 [01:10<00:00,  1.76s/it]\n",
      "100%|██████████| 5/5 [01:17<00:00, 15.56s/it]\n",
      "100%|██████████| 4/4 [00:01<00:00,  3.42it/s]\n",
      "100%|██████████| 5/5 [00:03<00:00,  1.31it/s]\n"
     ]
    }
   ],
   "source": [
    "# Autoreload\n",
    "%load_ext autoreload\n",
    "%autoreload 2\n",
    "\n",
    "from data.ioi_dataset import gen_templated_prompts\n",
    "from aug_interp_prompts import main_aug_interp_prompt, main_aug_interp_prompt_v2\n",
    "from openai_utils import gen_openai_completion, get_response\n",
    "from autointerpretability import *\n",
    "from discovery_strategies import (\n",
    "    create_filter,\n",
    "    create_simple_greedy_strategy,\n",
    "    create_top_contributor_strategy,\n",
    ")\n",
    "from max_act_analysis import MaxActAnalysis\n",
    "\n",
    "features = list(set(cp.circuit_hypergraph['L2_H2']['features']))\n",
    "\n",
    "#feature = 19042\n",
    "layer = 2\n",
    "num_examples = 5000\n",
    "\n",
    "strategy = create_simple_greedy_strategy(\n",
    "    passes=1,\n",
    "    node_contributors=1,\n",
    "    minimal=True,\n",
    ")\n",
    "\n",
    "\n",
    "dataset_prompts = gen_templated_prompts(template_idex=1, N=500)\n",
    "prompts = [x['text'] + x['correct'] for x in dataset_prompts]\n",
    "tokens = model.to_tokens(prompts)  # Assuming `model` is already defined\n",
    "dataset_prompt_tokens = torch.tensor(tokens)\n",
    "\n",
    "mini_examples_owt_overall = []\n",
    "mini_examples_ioi_overall = []\n",
    "\n",
    "for feature in features:\n",
    "\n",
    "    analyze_owt = MaxActAnalysis(\n",
    "        \"attn\", \n",
    "        layer, \n",
    "        feature, \n",
    "        num_sequences=num_examples, \n",
    "        batch_size=128, \n",
    "        strategy=strategy\n",
    "    )\n",
    "    mini_examples_owt = analyze_owt.get_context_referenced_prompts_for_range(0, 5)\n",
    "    mini_examples_owt_overall.append(mini_examples_owt)\n",
    "\n",
    "    # For Dataset Prompt Tokens\n",
    "    analyze_prompts = MaxActAnalysis(\n",
    "        \"attn\", \n",
    "        layer, \n",
    "        feature, \n",
    "        num_sequences=num_examples, \n",
    "        batch_size=128, \n",
    "        strategy=strategy, \n",
    "        token_dataset=dataset_prompt_tokens\n",
    "    )\n",
    "    mini_examples_ioi = analyze_prompts.get_context_referenced_prompts_for_range(0, 5)\n",
    "    mini_examples_ioi_overall.append(mini_examples_ioi)"
   ]
  },
  {
   "cell_type": "code",
   "execution_count": 10,
   "metadata": {},
   "outputs": [],
   "source": [
    "from jinja2 import Template\n",
    "from typing import List, Tuple\n",
    "\n",
    "def main_aug_interp_prompt_ioi(\n",
    "    examples: List[str], examples_ioi: List[str], token_lr=(\"<<\", \">>\"), context_lr=(\"[[\", \"]]\")\n",
    "):\n",
    "    tl, tr = token_lr\n",
    "    cl, cr = context_lr\n",
    "\n",
    "    template = Template(\n",
    "        \"\"\"\n",
    "{# You are a meticulous AI researcher conducting an important investigation into a certain neuron in a language model. Your task is to analyze the neuron and provide an explanation that thoroughly encapsulates its behavior in the context of a specific task: Indirect Object Identification (IOI). Here's how you will complete this task: #}\n",
    "\n",
    "You are a meticulous AI researcher conducting an important investigation into a certain neuron in a language model. This language model is trained to predict the text that will follow a given input. Your task is to figure out what sort of behavior this neuron is responsible for -- namely, when this neuron fires, what kind of predictions does this neuron promote in the context of the specific task of Indirect Object Identification (IOI)? Here's how you'll complete the task:\n",
    "\n",
    "INPUT_DESCRIPTION: \n",
    "You will be given several examples of text that activate the neuron. First we'll provide the example text without any annotations, and then we'll provide the same text with annotations that show the specific tokens that caused the neuron to activate and context about why the neuron fired.\n",
    "\n",
    "The specific token that the neuron activates on will be the last token in the sequence, and will appear between {{tl}} and {{tr}} (like {{tl}}this{{tr}}).  \n",
    "\n",
    "Additionally, each sequence will have tokens enclosed between {{cl}} and {{cr}} (like {{cl}}this{{cr}}). From previous analysis, we know that these tokens form the context for why our neuron fires on the token enclosed in {{tl}} and {{tr}} (in addition to the value of the actual token itself). Note that we treat the group of tokens enclosed between {{cl}} and {{cr}} as the \"context\" for why the neuron fired.\n",
    "\n",
    "We will provide both general examples and specific examples related to the task of Indirect Object Identification (IOI).\n",
    "\n",
    "Task Description: A sentence containing indirect object identification (IOI) has an initial dependent clause, e.g. \"When Mary and John went to the store\", and a main clause, e.g. \"John gave a bottle of milk to Mary\". The initial clause introduces the indirect object (IO) \"Mary\" and the subject (S) \"John\". The main clause refers to the subject a second time, and in all our examples of IOI, the subject gives an object to the IO. The IOI task is to predict the final token in the sentence to be the IO. We use 'S1' and 'S2' to refer to the first and second occurrences of the subject, when we want to specify position.\n",
    "\n",
    "Given these examples, complete the following steps.\n",
    "\n",
    "OUTPUT_DESCRIPTION:\n",
    "\n",
    "Step 1: Based on the general examples provided, write down observed patterns between the tokens that caused the neuron to activate (just the tokens enclosed in {{tl}} and {{tr}}).\n",
    "Step 2: Based on the general examples provided, write down patterns you see in the context for why the neuron fired. (Remember, the \"context\" for an example is the group of tokens enclosed in {{cl}} and {{cr}}). Include any patterns in the relationships between different tokens in the context, and any patterns in the relationship between the context and the rest of the text.\n",
    "Step 3: Write down several general shared features of the general text examples.\n",
    "Step 4: Based on the IOI examples provided, write down observed patterns between the tokens that caused the neuron to activate (just the tokens enclosed in {{tl}} and {{tr}}).\n",
    "Step 5: Based on the IOI examples provided, write down patterns you see in the context for why the neuron fired. (Remember, the \"context\" for an example is the group of tokens enclosed in {{cl}} and {{cr}}). Include any patterns in the relationships between different tokens in the context, and any patterns in the relationship between the context and the rest of the text.\n",
    "Step 6: Write down several general shared features of the IOI text examples.\n",
    "Step 7: Based on the patterns you found between the activating token and the relevant context in both general and IOI examples, write down your best explanation for what this neuron is responsible for. Propose your explanation in the following form: \n",
    "[EXPLANATION]: <your explanation>\n",
    "\n",
    "Guidelines:\n",
    "- Try to produce a final explanation that's both concise and general to the examples provided.\n",
    "- Your explanation should be short: 1-2 sentences.\n",
    "- Specifically address the neuron's role in the context of the IOI task, explaining its specific function in relation to predicting the indirect object.\n",
    "\n",
    "INPUT:\n",
    "\n",
    "General Examples:\n",
    "{% for example in examples %}                         \n",
    "EXAMPLE {{loop.index + 1}}:\n",
    "- Base Text -\n",
    "=================================================\n",
    "{{example[0]}}\n",
    "=================================================\n",
    "\n",
    "- Annotated Text -\n",
    "=================================================\n",
    "{{example[1]}}\n",
    "=================================================\n",
    "\n",
    "{% endfor %}\n",
    "\n",
    "IOI Task Examples:\n",
    "{% for example in examples_ioi %}                         \n",
    "EXAMPLE {{loop.index + 1}}:\n",
    "- Base Text -\n",
    "=================================================\n",
    "{{example[0]}}\n",
    "=================================================\n",
    "\n",
    "- Annotated Text -\n",
    "=================================================\n",
    "{{example[1]}}\n",
    "=================================================\n",
    "\n",
    "{% endfor %}\n",
    "\n",
    "OUTPUT:\n",
    "                         \n",
    "Step 1:\n",
    "\"\"\"\n",
    "    )\n",
    "\n",
    "    return template.render(\n",
    "        {\"tl\": tl, \"tr\": tr, \"cl\": cl, \"cr\": cr, \"examples\": examples, \"examples_ioi\": examples_ioi}\n",
    "    )"
   ]
  },
  {
   "cell_type": "code",
   "execution_count": 12,
   "metadata": {},
   "outputs": [
    {
     "name": "stdout",
     "output_type": "stream",
     "text": [
      "\n",
      "\n",
      "\n",
      "You are a meticulous AI researcher conducting an important investigation into a certain neuron in a language model. This language model is trained to predict the text that will follow a given input. Your task is to figure out what sort of behavior this neuron is responsible for -- namely, when this neuron fires, what kind of predictions does this neuron promote in the context of the specific task of Indirect Object Identification (IOI)? Here's how you'll complete the task:\n",
      "\n",
      "INPUT_DESCRIPTION: \n",
      "You will be given several examples of text that activate the neuron. First we'll provide the example text without any annotations, and then we'll provide the same text with annotations that show the specific tokens that caused the neuron to activate and context about why the neuron fired.\n",
      "\n",
      "The specific token that the neuron activates on will be the last token in the sequence, and will appear between << and >> (like <<this>>).  \n",
      "\n",
      "Additionally, each sequence will have tokens enclosed between [[ and ]] (like [[this]]). From previous analysis, we know that these tokens form the context for why our neuron fires on the token enclosed in << and >> (in addition to the value of the actual token itself). Note that we treat the group of tokens enclosed between [[ and ]] as the \"context\" for why the neuron fired.\n",
      "\n",
      "We will provide both general examples and specific examples related to the task of Indirect Object Identification (IOI).\n",
      "\n",
      "Task Description: A sentence containing indirect object identification (IOI) has an initial dependent clause, e.g. \"When Mary and John went to the store\", and a main clause, e.g. \"John gave a bottle of milk to Mary\". The initial clause introduces the indirect object (IO) \"Mary\" and the subject (S) \"John\". The main clause refers to the subject a second time, and in all our examples of IOI, the subject gives an object to the IO. The IOI task is to predict the final token in the sentence to be the IO. We use 'S1' and 'S2' to refer to the first and second occurrences of the subject, when we want to specify position.\n",
      "\n",
      "Given these examples, complete the following steps.\n",
      "\n",
      "OUTPUT_DESCRIPTION:\n",
      "\n",
      "Step 1: Based on the general examples provided, write down observed patterns between the tokens that caused the neuron to activate (just the tokens enclosed in << and >>).\n",
      "Step 2: Based on the general examples provided, write down patterns you see in the context for why the neuron fired. (Remember, the \"context\" for an example is the group of tokens enclosed in [[ and ]]). Include any patterns in the relationships between different tokens in the context, and any patterns in the relationship between the context and the rest of the text.\n",
      "Step 3: Write down several general shared features of the general text examples.\n",
      "Step 4: Based on the IOI examples provided, write down observed patterns between the tokens that caused the neuron to activate (just the tokens enclosed in << and >>).\n",
      "Step 5: Based on the IOI examples provided, write down patterns you see in the context for why the neuron fired. (Remember, the \"context\" for an example is the group of tokens enclosed in [[ and ]]). Include any patterns in the relationships between different tokens in the context, and any patterns in the relationship between the context and the rest of the text.\n",
      "Step 6: Write down several general shared features of the IOI text examples.\n",
      "Step 7: Based on the patterns you found between the activating token and the relevant context in both general and IOI examples, write down your best explanation for what this neuron is responsible for. Propose your explanation in the following form: \n",
      "[EXPLANATION]: <your explanation>\n",
      "\n",
      "Guidelines:\n",
      "- Try to produce a final explanation that's both concise and general to the examples provided.\n",
      "- Your explanation should be short: 1-2 sentences.\n",
      "- Specifically address the neuron's role in the context of the IOI task, explaining its specific function in relation to predicting the indirect object.\n",
      "\n",
      "INPUT:\n",
      "\n",
      "General Examples:\n",
      "                         \n",
      "EXAMPLE 2:\n",
      "- Base Text -\n",
      "=================================================\n",
      "(' bat speed of Javier Baez.\\n\\nThere is the artistry of Kyle Hendricks and the deceptively quick Tsuyoshi Wada. I no longer cringe when the Cubs make the call to their bullpen. These guys throw strikes and brings multiple weapons to each appearance. I even enjoy seeing quality ballplayers like Luis Valbuena, Chris Coghlan, and Justin R', ' bat speed of Javier Baez.\\n\\nThere is the artistry of Kyle Hendricks and the deceptively quick Tsuyoshi Wada. I no longer cringe when the[[ Cubs]] make the call to their bullpen. These guys throw strikes and brings multiple weapons to each appearance. I even enjoy seeing quality ballplayers like Luis Valbuena, Chris Coghlan, and[[ Justin]]<< R>>')\n",
      "=================================================\n",
      "\n",
      "- Annotated Text -\n",
      "=================================================\n",
      "(' sustainably. It is also essential for supporting the organic plant breeders, small-scale farmers, millers and bakers who have opted out of the industrial system to produce a sustainable future for bread and to ensure it is the wholesome, healthy staple food it should be.\\n\\nPhotographs: Justin Party', ' sustainably. It is also essential for supporting the organic plant breeders, small-scale farmers, millers and bakers who have opted out of the industrial system to produce a sustainable future for bread and to ensure it is the wholesome, healthy staple food it should be.\\n\\nPhotographs:[[ Justin]]<< Party>>')\n",
      "=================================================\n",
      "\n",
      "                         \n",
      "EXAMPLE 3:\n",
      "- Base Text -\n",
      "=================================================\n",
      "(' with the required anti-aliasing filters creeping into the audio band. While many might say that makes hi-res audio overkill, some astute listeners maintain they can hear a quality difference when higher sampling rates are used.<|endoftext|>Giving people', ' with the required anti-aliasing filters creeping into the audio band. While many might say that makes hi-res audio overkill, some astute listeners maintain they can hear a quality difference when higher sampling rates are used.[[<|endoftext|>]][[Giving]]<< people>>')\n",
      "=================================================\n",
      "\n",
      "- Annotated Text -\n",
      "=================================================\n",
      "('.�� The agent cited ��privacy concerns,�� while giving no', '.�� The agent cited ��privacy[[ concerns]],�� while[[ giving]]<< no>>')\n",
      "=================================================\n",
      "\n",
      "                         \n",
      "EXAMPLE 4:\n",
      "- Base Text -\n",
      "=================================================\n",
      "(' no good? Who forced Gordon to retreat back to give Lee the bad news – leading directly to Appomattox and the end of the war? Having looked at all the available records, I cannot say.\\n\\nBut I remember those horseflies: I��m not denying it, either.\\n\\nFollow Disunion at twitter.com/NYTcivilwar or join us on Facebook.\\n\\nSources: John C. Taylor and Samuel P. Hatfield, ��History of the First Connecticut Artillery and of the siege trains of the armies operating against Richmond, 1862-1865��; William C', ' no good? Who forced Gordon to retreat back to give Lee the bad news – leading directly to Appomattox and the end of the war? Having looked at all the available records, I cannot say.\\n\\nBut I remember those horseflies: I��m not denying it, either.\\n\\nFollow Disunion at twitter.com/NYTcivilwar or join us on Facebook.\\n\\nSources: John C. Taylor and Samuel P. Hatfield, ��History of the First Connecticut Artillery and of the siege trains of the armies operating against Richmond,[[ 1862]]-1865��;[[ William]]<< C>>')\n",
      "=================================================\n",
      "\n",
      "- Annotated Text -\n",
      "=================================================\n",
      "('Athens, GA: University of Georgia Press, 2000); P.J. Carisella, James W. Ryan, and Edward W. Brooke, The Black Swallow of Death: The Incredible Story of Eugene Jacques Bullard, The World��s First Black Combat Aviator (Boston: Marlborough House, 1972); William A', 'Athens, GA: University of Georgia Press, 2000); P.J. Carisella, James W. Ryan, and Edward W. Brooke, The Black Swallow of Death: The Incredible Story of Eugene Jacques Bullard, The World��s First Black Combat Aviator (Boston: Marlborough House, 1972);[[ William]]<< A>>')\n",
      "=================================================\n",
      "\n",
      "                         \n",
      "EXAMPLE 5:\n",
      "- Base Text -\n",
      "=================================================\n",
      "('/Washington Monthly]\\n\\n• Christopher Orr concurs that many ��Joe the Plumbers, Tito the Builders, Phil the Bricklayers, etc. … may be less than thrilled to hear that the RNC has apparently spent $150,000 clothing and accessorizing La Palin.�� Though on the bright side, ��John McCain��s $520 Ferragamos now sound like the shoes of a pauper.�� [Plank/New Republic]\\n\\n• Matthew Y', '/Washington Monthly]\\n\\n• Christopher Orr concurs that many ��Joe the Plumbers, Tito the Builders, Phil the Bricklayers, etc. … may be less than thrilled to hear that the RNC has apparently spent $150,000 clothing and accessorizing La Palin.�� Though on the bright side, ��John McCain��s $520 Ferragamos now sound like the shoes of a pauper.�� [Plank/New Republic]\\n\\n•[[ Matthew]]<< Y>>')\n",
      "=================================================\n",
      "\n",
      "- Annotated Text -\n",
      "=================================================\n",
      "('-life Ron Woodroof, Matthew Mc', '-[[life]] Ron Woodroof,[[ Matthew]]<< Mc>>')\n",
      "=================================================\n",
      "\n",
      "                         \n",
      "EXAMPLE 6:\n",
      "- Base Text -\n",
      "=================================================\n",
      "(' the AshleyMadison data dump is similar to the Sony leak in that there is some clear information that is of public interest and other that is private and salacious. In both cases, noted Ryan Thomas', ' the AshleyMadison data dump is similar to the Sony leak in that there is some clear information that is of public interest and other that is private and salacious. In both cases, noted[[ Ryan]]<< Thomas>>')\n",
      "=================================================\n",
      "\n",
      "- Annotated Text -\n",
      "=================================================\n",
      "(' putting everything together,�� Russell said. ��Having another year with this coaching staff has been great for everybody. Just concentrating on the small details for me has been very good and helped me fine tune my game some more.��\\n\\nThe coming season could give way to Russell becoming a household name in the Big Ten. He��s the clear leader of the Boilermaker defense and is next in line after Ryan Ker', ' putting everything together,�� Russell said. ��Having another year with this coaching staff has been great for everybody. Just concentrating on the small details for me has been very good and helped me fine tune my game some more.��\\n\\nThe coming season could give way to Russell becoming a household name in the Big Ten. He��s the clear leader of the Boilermaker defense and is next in line after[[ Ryan]]<< Ker>>')\n",
      "=================================================\n",
      "\n",
      "\n",
      "\n",
      "IOI Task Examples:\n",
      "                         \n",
      "EXAMPLE 2:\n",
      "- Base Text -\n",
      "=================================================\n",
      "('Then, Justin and', 'Then,[[ Justin]]<< and>>')\n",
      "=================================================\n",
      "\n",
      "- Annotated Text -\n",
      "=================================================\n",
      "('Then, Justin and', 'Then,[[ Justin]]<< and>>')\n",
      "=================================================\n",
      "\n",
      "                         \n",
      "EXAMPLE 3:\n",
      "- Base Text -\n",
      "=================================================\n",
      "('Then, Lisa and James had a lot of fun at the station. Lisa gave a', 'Then, Lisa and James had[[ a]] lot of fun at the station.[[ Lisa]][[ gave]]<< a>>')\n",
      "=================================================\n",
      "\n",
      "- Annotated Text -\n",
      "=================================================\n",
      "('Then, Michelle and Brian had a lot of fun at the office. Michelle gave a', 'Then, Michelle and[[ Brian]] had a lot of fun at the office. Michelle[[ gave]]<< a>>')\n",
      "=================================================\n",
      "\n",
      "                         \n",
      "EXAMPLE 4:\n",
      "- Base Text -\n",
      "=================================================\n",
      "('Then, William and', 'Then,[[ William]]<< and>>')\n",
      "=================================================\n",
      "\n",
      "- Annotated Text -\n",
      "=================================================\n",
      "('Then, William and', 'Then,[[ William]]<< and>>')\n",
      "=================================================\n",
      "\n",
      "                         \n",
      "EXAMPLE 5:\n",
      "- Base Text -\n",
      "=================================================\n",
      "('Then, Matthew and', '[[Then]],[[ Matthew]]<< and>>')\n",
      "=================================================\n",
      "\n",
      "- Annotated Text -\n",
      "=================================================\n",
      "('Then, Matthew and', '[[Then]],[[ Matthew]]<< and>>')\n",
      "=================================================\n",
      "\n",
      "                         \n",
      "EXAMPLE 6:\n",
      "- Base Text -\n",
      "=================================================\n",
      "('Then, Ryan and', 'Then,[[ Ryan]]<< and>>')\n",
      "=================================================\n",
      "\n",
      "- Annotated Text -\n",
      "=================================================\n",
      "('Then, Ryan and', 'Then,[[ Ryan]]<< and>>')\n",
      "=================================================\n",
      "\n",
      "\n",
      "\n",
      "OUTPUT:\n",
      "                         \n",
      "Step 1:\n"
     ]
    }
   ],
   "source": [
    "p = main_aug_interp_prompt_ioi(mini_examples_owt_overall, mini_examples_ioi_overall)\n",
    "print(p)"
   ]
  },
  {
   "cell_type": "code",
   "execution_count": 14,
   "metadata": {},
   "outputs": [
    {
     "name": "stdout",
     "output_type": "stream",
     "text": [
      "In the general examples provided, the tokens that cause the neuron to activate are typically the beginning of a proper name or noun phrase (e.g., \"R\" in \"Justin R\", \"Party\" in \"Justin Party\", \"people\" in \"Giving people\", \"C\" in \"William C\", \"A\" in \"William A\", \"Y\" in \"Matthew Y\", \"Mc\" in \"Matthew Mc\", \"Thomas\" in \"Ryan Thomas\", and \"Ker\" in \"Ryan Ker\").\n",
      "\n",
      "Step 2: In the context for why the neuron fires, tokens within the brackets \"[[\" and \"]]\" tend to be proper names or noun phrases similar to the activating tokens. They also often come before prepositions or conjunctions, suggesting this neuron relates to the prediction of names or parts of names in specific grammatical contexts. \n",
      "\n",
      "Step 3: In a shared feature of general text examples, this neuron seems to activate specifically around the final part of proper names, or completions of noun phrases. It's usually where a name or noun phrase immediately precedes a preposition, conjunction, or punctuation.\n",
      "\n",
      "Step 4: In the IOI examples, the neuron activates on conjunctions (e.g., \"and\" in \"Justin and\", \"Lisa and\", \"William and\", \"Matthew and\", \"Ryan and\")\n",
      "\n",
      "Step 5: In the context for the neuron firing in IOI examples, similar to general examples, the tokens enclosed in \"[[\" and \"]]\" are proper names (e.g., \"Justin\", \"Lisa\", \"William\", \"Matthew\", \"Ryan\").\n",
      "\n",
      "Step 6: The general shared feature of the IOI text examples is their structure. Each sentence begins with \"Then,\" followed by two proper names connected by \"and\". The neuron activates on the conjunction \"and\".\n",
      "\n",
      "Step 7: This neuron appears to be responsible for the prediction of what comes next in a sequence following proper names, either a continuation of the name or noun phrase, or a grammatical structure in more complex sentences. In terms of the IOI task, this neuron seems to fire when predicting the conjunction following the subject's name, but doesn't seem to contribute directly to the identification of the indirect object.\n",
      "[EXPLANATION]: This neuron is responsible for predicting the continuation of a proper noun or noun phrase, often in the context of a specific grammatical structure, such as a conjunction or preposition. In terms of Indirect Object Identification, it doesn't directly contribute to identifying the indirect object, but aids in formulating the prediction of the conjunction following the subject's name.\n"
     ]
    }
   ],
   "source": [
    "interp = get_response(p)\n",
    "print(interp)"
   ]
  },
  {
   "cell_type": "code",
   "execution_count": 15,
   "metadata": {},
   "outputs": [],
   "source": [
    "l2h2_interp = \"Predicting conjunctions following the subject's name.\""
   ]
  },
  {
   "cell_type": "code",
   "execution_count": 20,
   "metadata": {},
   "outputs": [
    {
     "name": "stderr",
     "output_type": "stream",
     "text": [
      "/var/folders/wg/cdt_cw_5265_z_gwnxlf0tv80000gn/T/ipykernel_8977/3545841595.py:32: UserWarning: To copy construct from a tensor, it is recommended to use sourceTensor.clone().detach() or sourceTensor.clone().detach().requires_grad_(True), rather than torch.tensor(sourceTensor).\n",
      "  dataset_prompt_tokens = torch.tensor(tokens)\n"
     ]
    },
    {
     "name": "stdout",
     "output_type": "stream",
     "text": [
      "The autoreload extension is already loaded. To reload it, use:\n",
      "  %reload_ext autoreload\n"
     ]
    },
    {
     "name": "stderr",
     "output_type": "stream",
     "text": [
      "100%|██████████| 40/40 [00:43<00:00,  1.09s/it]\n",
      "100%|██████████| 5/5 [00:48<00:00,  9.72s/it]\n",
      "100%|██████████| 4/4 [00:00<00:00,  6.23it/s]\n",
      "100%|██████████| 5/5 [00:02<00:00,  2.47it/s]\n",
      "100%|██████████| 40/40 [00:41<00:00,  1.04s/it]\n",
      "100%|██████████| 5/5 [00:45<00:00,  9.13s/it]\n",
      "100%|██████████| 4/4 [00:00<00:00,  6.11it/s]\n",
      "100%|██████████| 5/5 [00:02<00:00,  2.24it/s]\n",
      "100%|██████████| 40/40 [00:42<00:00,  1.05s/it]\n",
      "100%|██████████| 5/5 [00:46<00:00,  9.30s/it]\n",
      "100%|██████████| 4/4 [00:00<00:00,  6.47it/s]\n",
      "100%|██████████| 5/5 [00:02<00:00,  2.35it/s]\n",
      "100%|██████████| 40/40 [00:41<00:00,  1.04s/it]\n",
      "100%|██████████| 5/5 [00:45<00:00,  9.16s/it]\n",
      "100%|██████████| 4/4 [00:00<00:00,  6.31it/s]\n",
      "100%|██████████| 5/5 [00:02<00:00,  2.27it/s]\n",
      "100%|██████████| 40/40 [00:41<00:00,  1.04s/it]\n",
      "100%|██████████| 5/5 [00:46<00:00,  9.21s/it]\n",
      "100%|██████████| 4/4 [00:00<00:00,  6.23it/s]\n",
      "100%|██████████| 5/5 [00:02<00:00,  2.27it/s]\n",
      "100%|██████████| 40/40 [00:41<00:00,  1.04s/it]\n",
      "100%|██████████| 5/5 [00:45<00:00,  9.19s/it]\n",
      "100%|██████████| 4/4 [00:00<00:00,  6.22it/s]\n",
      "100%|██████████| 5/5 [00:02<00:00,  2.31it/s]\n",
      "100%|██████████| 40/40 [00:41<00:00,  1.04s/it]\n",
      "100%|██████████| 5/5 [00:45<00:00,  9.18s/it]\n",
      "100%|██████████| 4/4 [00:00<00:00,  6.07it/s]\n",
      "100%|██████████| 5/5 [00:02<00:00,  2.30it/s]\n",
      "100%|██████████| 40/40 [00:42<00:00,  1.06s/it]\n",
      "100%|██████████| 5/5 [00:46<00:00,  9.33s/it]\n",
      "100%|██████████| 4/4 [00:00<00:00,  6.28it/s]\n",
      "100%|██████████| 5/5 [00:03<00:00,  1.57it/s]\n",
      "100%|██████████| 40/40 [00:41<00:00,  1.04s/it]\n",
      "100%|██████████| 5/5 [00:45<00:00,  9.13s/it]\n",
      "100%|██████████| 4/4 [00:00<00:00,  6.28it/s]\n",
      "100%|██████████| 5/5 [00:02<00:00,  2.26it/s]\n",
      "100%|██████████| 40/40 [00:41<00:00,  1.03s/it]\n",
      "100%|██████████| 5/5 [00:45<00:00,  9.10s/it]\n",
      "100%|██████████| 4/4 [00:00<00:00,  6.41it/s]\n",
      "100%|██████████| 5/5 [00:02<00:00,  2.36it/s]\n",
      "100%|██████████| 40/40 [00:41<00:00,  1.04s/it]\n",
      "100%|██████████| 5/5 [00:45<00:00,  9.19s/it]\n",
      "100%|██████████| 4/4 [00:00<00:00,  6.11it/s]\n",
      "100%|██████████| 5/5 [00:02<00:00,  2.27it/s]\n",
      "100%|██████████| 40/40 [00:41<00:00,  1.05s/it]\n",
      "100%|██████████| 5/5 [00:46<00:00,  9.24s/it]\n",
      "100%|██████████| 4/4 [00:00<00:00,  6.23it/s]\n",
      "100%|██████████| 5/5 [00:02<00:00,  2.34it/s]\n",
      "100%|██████████| 40/40 [00:41<00:00,  1.04s/it]\n",
      "100%|██████████| 5/5 [00:45<00:00,  9.12s/it]\n",
      "100%|██████████| 4/4 [00:00<00:00,  6.14it/s]\n",
      "100%|██████████| 5/5 [00:02<00:00,  2.29it/s]\n"
     ]
    }
   ],
   "source": [
    "features = [x for x in list(set(cp.circuit_hypergraph['L0_H1']['features'])) if x!=-1]\n",
    "\n",
    "#feature = 19042\n",
    "layer = 0\n",
    "num_examples = 5000\n",
    "\n",
    "strategy = create_simple_greedy_strategy(\n",
    "    passes=1,\n",
    "    node_contributors=1,\n",
    "    minimal=True,\n",
    ")\n",
    "\n",
    "\n",
    "dataset_prompts = gen_templated_prompts(template_idex=1, N=500)\n",
    "prompts = [x['text'] + x['correct'] for x in dataset_prompts]\n",
    "tokens = model.to_tokens(prompts)  # Assuming `model` is already defined\n",
    "dataset_prompt_tokens = torch.tensor(tokens)\n",
    "\n",
    "mini_examples_owt_overall = []\n",
    "mini_examples_ioi_overall = []\n",
    "\n",
    "for feature in features:\n",
    "\n",
    "    analyze_owt = MaxActAnalysis(\n",
    "        \"attn\", \n",
    "        layer, \n",
    "        feature, \n",
    "        num_sequences=num_examples, \n",
    "        batch_size=128, \n",
    "        strategy=strategy\n",
    "    )\n",
    "    mini_examples_owt = analyze_owt.get_context_referenced_prompts_for_range(0, 5)\n",
    "    mini_examples_owt_overall.append(mini_examples_owt)\n",
    "\n",
    "    # For Dataset Prompt Tokens\n",
    "    analyze_prompts = MaxActAnalysis(\n",
    "        \"attn\", \n",
    "        layer, \n",
    "        feature, \n",
    "        num_sequences=num_examples, \n",
    "        batch_size=128, \n",
    "        strategy=strategy, \n",
    "        token_dataset=dataset_prompt_tokens\n",
    "    )\n",
    "    mini_examples_ioi = analyze_prompts.get_context_referenced_prompts_for_range(0, 5)\n",
    "    mini_examples_ioi_overall.append(mini_examples_ioi)"
   ]
  },
  {
   "cell_type": "code",
   "execution_count": 25,
   "metadata": {},
   "outputs": [],
   "source": [
    "# Convert list of lists into a single list\n",
    "mini_examples_owt_overall = [item for sublist in mini_examples_owt_overall for item in sublist]\n",
    "mini_examples_ioi_overall = [item for sublist in mini_examples_ioi_overall for item in sublist]"
   ]
  },
  {
   "cell_type": "code",
   "execution_count": 27,
   "metadata": {},
   "outputs": [
    {
     "name": "stdout",
     "output_type": "stream",
     "text": [
      "The tokens causing neuron activation are predominantly names such as \"Christopher\", \"Michael\", \"John\" etc. However, there are also non-name tokens that activate the neuron such as \"<<\" or \".\", and common nouns like \"bone\".\n",
      "\n",
      "Step 2: For the non-name tokens, there's typically no observable significant context that's provided (as nothing has been marked with [[ and ]] tags). For the proper names, the context appears to often be another proper name earlier in the sentence. For example, in \"Then, Jamie and Christopher had a lot of fun at the station. Jamie gave a necklace to<< Christopher>>\". The marked context is the first occurrence of the subject, \"Jamie\".\n",
      "\n",
      "Step 3:\n",
      "- The general examples frequently use proper names (especially male names) as the token to activate the neuron. \n",
      "- Sentences are often in the past tense and describe some form of action or event.\n",
      "- Non-name examples often reflect tokens placed at the end of statements or inputs.\n",
      "\n",
      "Step 4: Much like the general examples, the IOI examples that trigger the neuron are again mainly names. Of note is that these names were also the indirect object of the sentence.\n",
      "\n",
      "Step 5: The context patterns in the IOI examples often shows that when the neuron fires, the token in question is an indirect object that was earlier introduced in the sentence. For instance, in \"Then, Jamie and Christopher had a lot of fun at the station. Jamie gave a necklace to<< Christopher>>\", \"Jamie\" and \"Christopher\" were introduced and then mentioned again in the final action (giving a necklace), which triggered the neuron.\n",
      "\n",
      "Step 6:\n",
      "- The IOI examples often use names as the token to activate the neuron.\n",
      "- Sentences describe a series of events and the activation often appears in the context of giving or receiving an object.\n",
      "- The neuron activation frequently identifies the indirect object in the described action.\n",
      "\n",
      "Step 7: [EXPLANATION]: The neuron seems to be responsible for identifying repeated entities in a sentence, specifically proper names. In the context of the IOI task, it seems specifically tuned towards the later appearance of the indirect object in a sentence structure where the indirect object is being given something.\n"
     ]
    }
   ],
   "source": [
    "p = main_aug_interp_prompt_ioi(mini_examples_owt_overall, mini_examples_ioi_overall)\n",
    "interp = get_response(p)\n",
    "print(interp)"
   ]
  },
  {
   "cell_type": "code",
   "execution_count": 30,
   "metadata": {},
   "outputs": [],
   "source": [
    "l0h1_interp = \"Identifying the later appearance of the indirect object in a sentence structure where the indirect object is being given something.\""
   ]
  },
  {
   "cell_type": "code",
   "execution_count": 32,
   "metadata": {},
   "outputs": [
    {
     "name": "stderr",
     "output_type": "stream",
     "text": [
      "/var/folders/wg/cdt_cw_5265_z_gwnxlf0tv80000gn/T/ipykernel_8977/2252016215.py:17: UserWarning: To copy construct from a tensor, it is recommended to use sourceTensor.clone().detach() or sourceTensor.clone().detach().requires_grad_(True), rather than torch.tensor(sourceTensor).\n",
      "  dataset_prompt_tokens = torch.tensor(tokens)\n",
      "100%|██████████| 40/40 [01:24<00:00,  2.12s/it]\n",
      "100%|██████████| 5/5 [01:32<00:00, 18.54s/it]\n",
      "100%|██████████| 4/4 [00:01<00:00,  2.50it/s]\n",
      "100%|██████████| 5/5 [00:04<00:00,  1.03it/s]\n"
     ]
    },
    {
     "name": "stdout",
     "output_type": "stream",
     "text": [
      "The general examples seem to show that the tokens causing the neuron to fire are the last words of a sentence or clause. Often, these trigger tokens are nouns, specifically ones that have previously appeared in the text.\n",
      "\n",
      "Step 2: Context tokens often immediately precede the trigger token with one or more words in between. These tokens usually form a small phrase or clause with the trigger token, sometimes giving additional information about the function or importance of the trigger token in the described scenario.\n",
      "\n",
      "Step 3: General shared features of the text examples include: there is always a repeat of the trigger token within the text, the trigger token is frequently a noun, and the trigger token tends to appear at the end of a clause or sentence.\n",
      "\n",
      "Step 4: For the IOI examples, the tokens causing the neuron to activate always refer to the subject (S1) or the indirect object (IO) in the task of indirect object identification (IOI). These tokens can be seen as placeholders indicating where the subject or indirect object from the earlier clause should be placed.\n",
      "\n",
      "Step 5: In the context for the IOI task, the context tokens always include the indirect object and/or subject from the earlier dependent clause. This provides the necessary reference point for placing the correct word (subject or indirect object) in the final position.\n",
      "\n",
      "Step 6: Shared features of the IOI text examples include: the trigger token is either the subject or the indirect object from the earlier dependent clause, there’s always a repetition of the trigger token within the text, and the trigger token always appears at the end of a sentence.\n",
      "\n",
      "Step 7: \n",
      "[EXPLANATION]: This neuron seems responsible for recognizing when a named entity (like a subject or an indirect object) re-occurs in the text, often at the end of a sentence or clause. In the context of Indirect Object Identification, it aids in flagging when and where the subject or indirect object from a prior clause reappears in the text.\n"
     ]
    }
   ],
   "source": [
    "features = [x for x in list(set(cp.circuit_hypergraph['L3_H0']['features'])) if x!=-1]\n",
    "\n",
    "# #feature = 19042\n",
    "layer = 3\n",
    "num_examples = 5000\n",
    "\n",
    "strategy = create_simple_greedy_strategy(\n",
    "    passes=1,\n",
    "    node_contributors=1,\n",
    "    minimal=True,\n",
    ")\n",
    "\n",
    "\n",
    "dataset_prompts = gen_templated_prompts(template_idex=1, N=500)\n",
    "prompts = [x['text'] + x['correct'] for x in dataset_prompts]\n",
    "tokens = model.to_tokens(prompts)  # Assuming `model` is already defined\n",
    "dataset_prompt_tokens = torch.tensor(tokens)\n",
    "\n",
    "mini_examples_owt_overall = []\n",
    "mini_examples_ioi_overall = []\n",
    "\n",
    "for feature in features:\n",
    "\n",
    "    analyze_owt = MaxActAnalysis(\n",
    "        \"attn\", \n",
    "        layer, \n",
    "        feature, \n",
    "        num_sequences=num_examples, \n",
    "        batch_size=128, \n",
    "        strategy=strategy\n",
    "    )\n",
    "    mini_examples_owt = analyze_owt.get_context_referenced_prompts_for_range(0, 5)\n",
    "    mini_examples_owt_overall.extend(mini_examples_owt)\n",
    "\n",
    "    # For Dataset Prompt Tokens\n",
    "    analyze_prompts = MaxActAnalysis(\n",
    "        \"attn\", \n",
    "        layer, \n",
    "        feature, \n",
    "        num_sequences=num_examples, \n",
    "        batch_size=128, \n",
    "        strategy=strategy, \n",
    "        token_dataset=dataset_prompt_tokens\n",
    "    )\n",
    "    mini_examples_ioi = analyze_prompts.get_context_referenced_prompts_for_range(0, 5)\n",
    "    mini_examples_ioi_overall.extend(mini_examples_ioi)\n",
    "\n",
    "p = main_aug_interp_prompt_ioi(mini_examples_owt_overall, mini_examples_ioi_overall)\n",
    "interp = get_response(p)\n",
    "print(interp)"
   ]
  },
  {
   "cell_type": "code",
   "execution_count": 33,
   "metadata": {},
   "outputs": [],
   "source": [
    "l3h0_interp = \"Aids in flagging when and where the subject or indirect object from a prior clause reappears in the text.\""
   ]
  },
  {
   "cell_type": "code",
   "execution_count": 34,
   "metadata": {},
   "outputs": [
    {
     "name": "stderr",
     "output_type": "stream",
     "text": [
      "/var/folders/wg/cdt_cw_5265_z_gwnxlf0tv80000gn/T/ipykernel_8977/4026547288.py:18: UserWarning: To copy construct from a tensor, it is recommended to use sourceTensor.clone().detach() or sourceTensor.clone().detach().requires_grad_(True), rather than torch.tensor(sourceTensor).\n",
      "  dataset_prompt_tokens = torch.tensor(tokens)\n"
     ]
    },
    {
     "name": "stdout",
     "output_type": "stream",
     "text": [
      "[20359]\n"
     ]
    },
    {
     "name": "stderr",
     "output_type": "stream",
     "text": [
      "100%|██████████| 40/40 [01:38<00:00,  2.45s/it]\n",
      "100%|██████████| 5/5 [01:46<00:00, 21.24s/it] \n",
      "100%|██████████| 4/4 [00:01<00:00,  2.41it/s]\n",
      "100%|██████████| 5/5 [00:04<00:00,  1.01it/s]\n"
     ]
    },
    {
     "name": "stdout",
     "output_type": "stream",
     "text": [
      "The neuron activates on determiners (\"rightly\", \"hold\", \"observed\", \"are\", \"had\") attached to the last token in the sequence.\n",
      "\n",
      "Step 2: The context triggering neuron activation illustrates a co-occurrence pattern between a specific noun phrase (usually consisting of two proper nouns connected with \"and\") and the following determiner.\n",
      "\n",
      "Step 3: The general shared features of the general text examples are that the sentence usually includes a pair of entities or characters expressed as \"<Name_1> and <Name_2>\", followed by a determiner that triggers the neuron activation.\n",
      "\n",
      "Step 4: The neuron activates again on determiners (\"had\") attached to the last token in the sequence.\n",
      "\n",
      "Step 5: The context triggers when there are two proper nouns connected with \"and\", followed by a determiner which then activates the neuron.\n",
      "\n",
      "Step 6: The general shared features of the IOI text examples are that all sentences begin with \"Then,\" and includes a pair of entities or characters expressed as \"<Name_1> and <Name_2>\" followed by a determiner that triggers the neuron.\n",
      "\n",
      "Step 7: \n",
      "[EXPLANATION]: The neuron is responsible for predicting a determiner that is following a structure of \"<Name_1> and <Name_2>\", signalling the association between two entities or characters and promoting predictions in the context of an action or state involving them. In the context of the IOI task, this neuron helps identify and predict an interaction between the subject and the indirect object.\n"
     ]
    }
   ],
   "source": [
    "features = [x for x in list(set(cp.circuit_hypergraph['L4_H11']['features'])) if x!=-1]\n",
    "print(features)\n",
    "\n",
    "# #feature = 19042\n",
    "layer = 4\n",
    "num_examples = 5000\n",
    "\n",
    "strategy = create_simple_greedy_strategy(\n",
    "    passes=1,\n",
    "    node_contributors=1,\n",
    "    minimal=True,\n",
    ")\n",
    "\n",
    "\n",
    "dataset_prompts = gen_templated_prompts(template_idex=1, N=500)\n",
    "prompts = [x['text'] + x['correct'] for x in dataset_prompts]\n",
    "tokens = model.to_tokens(prompts)  # Assuming `model` is already defined\n",
    "dataset_prompt_tokens = torch.tensor(tokens)\n",
    "\n",
    "mini_examples_owt_overall = []\n",
    "mini_examples_ioi_overall = []\n",
    "\n",
    "for feature in features:\n",
    "\n",
    "    analyze_owt = MaxActAnalysis(\n",
    "        \"attn\", \n",
    "        layer, \n",
    "        feature, \n",
    "        num_sequences=num_examples, \n",
    "        batch_size=128, \n",
    "        strategy=strategy\n",
    "    )\n",
    "    mini_examples_owt = analyze_owt.get_context_referenced_prompts_for_range(0, 5)\n",
    "    mini_examples_owt_overall.extend(mini_examples_owt)\n",
    "\n",
    "    # For Dataset Prompt Tokens\n",
    "    analyze_prompts = MaxActAnalysis(\n",
    "        \"attn\", \n",
    "        layer, \n",
    "        feature, \n",
    "        num_sequences=num_examples, \n",
    "        batch_size=128, \n",
    "        strategy=strategy, \n",
    "        token_dataset=dataset_prompt_tokens\n",
    "    )\n",
    "    mini_examples_ioi = analyze_prompts.get_context_referenced_prompts_for_range(0, 5)\n",
    "    mini_examples_ioi_overall.extend(mini_examples_ioi)\n",
    "\n",
    "p = main_aug_interp_prompt_ioi(mini_examples_owt_overall, mini_examples_ioi_overall)\n",
    "interp = get_response(p)\n",
    "print(interp)"
   ]
  },
  {
   "cell_type": "code",
   "execution_count": 39,
   "metadata": {},
   "outputs": [],
   "source": [
    "l4h11_interp = \"\"\" \n",
    "Predicts a determiner that is following a structure of \"<Name_1> and <Name_2>\", signalling the association between two entities or characters and promoting predictions in the context of an action or state involving them. In the context of the IOI task, this neuron helps identify and predict an interaction between the subject and the indirect object.\n",
    "\"\"\""
   ]
  },
  {
   "cell_type": "code",
   "execution_count": 58,
   "metadata": {},
   "outputs": [],
   "source": [
    "from jinja2 import Template\n",
    "from typing import List, Tuple, Optional\n",
    "\n",
    "def main_aug_interp_prompt_ioi(\n",
    "    examples: List[str], examples_ioi: List[str], \n",
    "    token_lr=(\"<<\", \">>\"), context_lr=(\"[[\", \"]]\")\n",
    "):\n",
    "    tl, tr = token_lr\n",
    "    cl, cr = context_lr\n",
    "\n",
    "    template = Template(\n",
    "        \"\"\"\n",
    "{# You are a meticulous AI researcher conducting an important investigation into a certain neuron in a language model. Your task is to analyze the neuron and provide an explanation that thoroughly encapsulates its behavior in the context of a specific task: Indirect Object Identification (IOI). Here's how you will complete this task: #}\n",
    "\n",
    "You are a meticulous AI researcher conducting an important investigation into a certain neuron in a language model. This language model is trained to predict the text that will follow a given input. Your task is to figure out what sort of behavior this neuron is responsible for -- namely, when this neuron fires, what kind of predictions does this neuron promote in the context of the specific task of Indirect Object Identification (IOI)? Here's how you'll complete the task:\n",
    "\n",
    "INPUT_DESCRIPTION: \n",
    "You will be given several examples of text that activate the neuron. First we'll provide the example text without any annotations, and then we'll provide the same text with annotations that show the specific tokens that caused the neuron to activate and context about why the neuron fired.\n",
    "\n",
    "The specific token that the neuron activates on will be the last token in the sequence, and will appear between {{tl}} and {{tr}} (like {{tl}}this{{tr}}).  \n",
    "\n",
    "Additionally, each sequence will have tokens enclosed between {{cl}} and {{cr}} (like {{cl}}this{{cr}}). From previous analysis, we know that these tokens form the context for why our neuron fires on the token enclosed in {{tl}} and {{tr}} (in addition to the value of the actual token itself). Note that we treat the group of tokens enclosed between {{cl}} and {{cr}} as the \"context\" for why the neuron fired.\n",
    "\n",
    "We will provide both general examples and specific examples related to the task of Indirect Object Identification (IOI).\n",
    "\n",
    "Task Description: A sentence containing indirect object identification (IOI) has an initial dependent clause, e.g. \"When Mary and John went to the store\", and a main clause, e.g. \"John gave a bottle of milk to Mary\". The initial clause introduces the indirect object (IO) \"Mary\" and the subject (S) \"John\". The main clause refers to the subject a second time, and in all our examples of IOI, the subject gives an object to the IO. The IOI task is to predict the final token in the sentence to be the IO. We use 'S1' and 'S2' to refer to the first and second occurrences of the subject, when we want to specify position.\n",
    "\n",
    "Given these examples, complete the following steps.\n",
    "\n",
    "OUTPUT_DESCRIPTION:\n",
    "\n",
    "Step 1: Based on the general examples provided, write down observed patterns between the tokens that caused the neuron to activate (just the tokens enclosed in {{tl}} and {{tr}}).\n",
    "Step 2: Based on the general examples provided, write down patterns you see in the context for why the neuron fired. (Remember, the \"context\" for an example is the group of tokens enclosed in {{cl}} and {{cr}}). Include any patterns in the relationships between different tokens in the context, and any patterns in the relationship between the context and the rest of the text.\n",
    "Step 3: Write down several general shared features of the general text examples.\n",
    "Step 4: Based on the IOI examples provided, write down observed patterns between the tokens that caused the neuron to activate (just the tokens enclosed in {{tl}} and {{tr}}).\n",
    "Step 5: Based on the IOI examples provided, write down patterns you see in the context for why the neuron fired. (Remember, the \"context\" for an example is the group of tokens enclosed in {{cl}} and {{cr}}). Include any patterns in the relationships between different tokens in the context, and any patterns in the relationship between the context and the rest of the text.\n",
    "Step 6: Write down several general shared features of the IOI text examples.\n",
    "Step 7: Based on the patterns you found between the activating token and the relevant context in both general and IOI examples, write down your best explanation for what this neuron is responsible for. Propose your explanation in the following form: \n",
    "[EXPLANATION]: <your explanation>\n",
    "\n",
    "Guidelines:\n",
    "- Try to produce a final explanation that's both concise and general to the examples provided.\n",
    "- Your explanation should be short: 1-2 sentences.\n",
    "- Specifically address the neuron's role in the context of the IOI task, explaining its specific function in relation to predicting the indirect object.\n",
    "- If provided, incorporate the interpretation of the previous neurons into your explanation, considering how the current neuron processes and uses the information from these previous neurons.\n",
    "\n",
    "INPUT:\n",
    "\n",
    "General Examples:\n",
    "{% for example in examples %}                         \n",
    "EXAMPLE {{loop.index + 1}}:\n",
    "- Base Text -\n",
    "=================================================\n",
    "{{example[0]}}\n",
    "=================================================\n",
    "\n",
    "- Annotated Text -\n",
    "=================================================\n",
    "{{example[1]}}\n",
    "=================================================\n",
    "\n",
    "{% endfor %}\n",
    "\n",
    "IOI Task Examples:\n",
    "{% for example in examples_ioi %}                         \n",
    "EXAMPLE {{loop.index + 1}}:\n",
    "- Base Text -\n",
    "=================================================\n",
    "{{example[0]}}\n",
    "=================================================\n",
    "\n",
    "- Annotated Text -\n",
    "=================================================\n",
    "{{example[1]}}\n",
    "=================================================\n",
    "\n",
    "{% endfor %}\n",
    "\n",
    "OUTPUT:\n",
    "                         \n",
    "Step 1:\n",
    "\"\"\"\n",
    "    )\n",
    "\n",
    "    return template.render(\n",
    "        {\"tl\": tl, \"tr\": tr, \"cl\": cl, \"cr\": cr, \"examples\": examples, \"examples_ioi\": examples_ioi, \"incoming_information\": incoming_information}\n",
    "    )\n",
    "\n",
    "def main_aug_interp_prompt_ioi_incoming(\n",
    "    examples: List[str], examples_ioi: List[str], \n",
    "    incoming_information: Optional[List[Tuple[str, str]]] = None, \n",
    "    token_lr=(\"<<\", \">>\"), context_lr=(\"[[\", \"]]\")\n",
    "):\n",
    "    tl, tr = token_lr\n",
    "    cl, cr = context_lr\n",
    "\n",
    "    template = Template(\n",
    "        \"\"\"\n",
    "{# You are a meticulous AI researcher conducting an important investigation into a certain neuron in a language model. Your task is to analyze the neuron and provide an explanation that thoroughly encapsulates its behavior in the context of a specific task: Indirect Object Identification (IOI). Here's how you will complete this task: #}\n",
    "\n",
    "You are a meticulous AI researcher conducting an important investigation into a certain neuron in a language model. This language model is trained to predict the text that will follow a given input. Your task is to figure out what sort of behavior this neuron is responsible for -- namely, when this neuron fires, what kind of predictions does this neuron promote in the context of the specific task of Indirect Object Identification (IOI)? Here's how you'll complete the task:\n",
    "\n",
    "INPUT_DESCRIPTION: \n",
    "You will be given several examples of text that activate the neuron. First we'll provide the example text without any annotations, and then we'll provide the same text with annotations that show the specific tokens that caused the neuron to activate and context about why the neuron fired.\n",
    "\n",
    "The specific token that the neuron activates on will be the last token in the sequence, and will appear between {{tl}} and {{tr}} (like {{tl}}this{{tr}}).  \n",
    "\n",
    "Additionally, each sequence will have tokens enclosed between {{cl}} and {{cr}} (like {{cl}}this{{cr}}). From previous analysis, we know that these tokens form the context for why our neuron fires on the token enclosed in {{tl}} and {{tr}} (in addition to the value of the actual token itself). Note that we treat the group of tokens enclosed between {{cl}} and {{cr}} as the \"context\" for why the neuron fired.\n",
    "\n",
    "We will provide both general examples and specific examples related to the task of Indirect Object Identification (IOI).\n",
    "\n",
    "Task Description: A sentence containing indirect object identification (IOI) has an initial dependent clause, e.g. \"When Mary and John went to the store\", and a main clause, e.g. \"John gave a bottle of milk to Mary\". The initial clause introduces the indirect object (IO) \"Mary\" and the subject (S) \"John\". The main clause refers to the subject a second time, and in all our examples of IOI, the subject gives an object to the IO. The IOI task is to predict the final token in the sentence to be the IO. We use 'S1' and 'S2' to refer to the first and second occurrences of the subject, when we want to specify position.\n",
    "\n",
    "Previous Neuron Information:\n",
    "You will also be provided with information about important previous neurons that feed into the current neuron. These neurons play a significant role in the IOI task and move information into the current neuron. The incoming information will be presented as a list of tuples, where each tuple contains the neuron's name and its interpretation in the context of the IOI task.\n",
    "\n",
    "{% for neuron in incoming_information %}\n",
    "Neuron {{neuron[0]}}:\n",
    "- Interpretation in IOI context: {{neuron[1]}}\n",
    "\n",
    "{% endfor %}\n",
    "\n",
    "Use this incoming information to help interpret the current neuron's role, considering how it processes and uses the information from these previous neurons.\n",
    "\n",
    "Given these examples, complete the following steps.\n",
    "\n",
    "OUTPUT_DESCRIPTION:\n",
    "\n",
    "Step 1: Based on the general examples provided, write down observed patterns between the tokens that caused the neuron to activate (just the tokens enclosed in {{tl}} and {{tr}}).\n",
    "Step 2: Based on the general examples provided, write down patterns you see in the context for why the neuron fired. (Remember, the \"context\" for an example is the group of tokens enclosed in {{cl}} and {{cr}}). Include any patterns in the relationships between different tokens in the context, and any patterns in the relationship between the context and the rest of the text.\n",
    "Step 3: Write down several general shared features of the general text examples.\n",
    "Step 4: Based on the IOI examples provided, write down observed patterns between the tokens that caused the neuron to activate (just the tokens enclosed in {{tl}} and {{tr}}).\n",
    "Step 5: Based on the IOI examples provided, write down patterns you see in the context for why the neuron fired. (Remember, the \"context\" for an example is the group of tokens enclosed in {{cl}} and {{cr}}). Include any patterns in the relationships between different tokens in the context, and any patterns in the relationship between the context and the rest of the text.\n",
    "Step 6: Write down several general shared features of the IOI text examples.\n",
    "Step 7: Based on the patterns you found between the activating token and the relevant context in both general and IOI examples, write down your best explanation for what this neuron is responsible for. Propose your explanation in the following form: \n",
    "[EXPLANATION]: <your explanation>\n",
    "\n",
    "Guidelines:\n",
    "- Try to produce a final explanation that's both concise and general to the examples provided.\n",
    "- Your explanation should be short: 1-2 sentences.\n",
    "- Specifically address the neuron's role in the context of the IOI task, explaining its specific function in relation to predicting the indirect object.\n",
    "- If provided, incorporate the interpretation of the previous neurons into your explanation, considering how the current neuron processes and uses the information from these previous neurons.\n",
    "\n",
    "INPUT:\n",
    "\n",
    "General Examples:\n",
    "{% for example in examples %}                         \n",
    "EXAMPLE {{loop.index + 1}}:\n",
    "- Base Text -\n",
    "=================================================\n",
    "{{example[0]}}\n",
    "=================================================\n",
    "\n",
    "- Annotated Text -\n",
    "=================================================\n",
    "{{example[1]}}\n",
    "=================================================\n",
    "\n",
    "{% endfor %}\n",
    "\n",
    "IOI Task Examples:\n",
    "{% for example in examples_ioi %}                         \n",
    "EXAMPLE {{loop.index + 1}}:\n",
    "- Base Text -\n",
    "=================================================\n",
    "{{example[0]}}\n",
    "=================================================\n",
    "\n",
    "- Annotated Text -\n",
    "=================================================\n",
    "{{example[1]}}\n",
    "=================================================\n",
    "\n",
    "{% endfor %}\n",
    "\n",
    "OUTPUT:\n",
    "                         \n",
    "Step 1:\n",
    "\"\"\"\n",
    "    )\n",
    "\n",
    "    return template.render(\n",
    "        {\"tl\": tl, \"tr\": tr, \"cl\": cl, \"cr\": cr, \"examples\": examples, \"examples_ioi\": examples_ioi, \"incoming_information\": incoming_information}\n",
    "    )"
   ]
  },
  {
   "cell_type": "code",
   "execution_count": null,
   "metadata": {},
   "outputs": [],
   "source": [
    "features = [x for x in list(set(cp.circuit_hypergraph['L5_H5']['features'])) if x!=-1]\n",
    "print(features)\n",
    "\n",
    "# #feature = 19042\n",
    "layer = 5\n",
    "num_examples = 5000\n",
    "\n",
    "strategy = create_simple_greedy_strategy(\n",
    "    passes=1,\n",
    "    node_contributors=1,\n",
    "    minimal=True,\n",
    ")\n",
    "\n",
    "\n",
    "dataset_prompts = gen_templated_prompts(template_idex=1, N=500)\n",
    "prompts = [x['text'] + x['correct'] for x in dataset_prompts]\n",
    "tokens = model.to_tokens(prompts)  # Assuming `model` is already defined\n",
    "dataset_prompt_tokens = torch.tensor(tokens)\n",
    "\n",
    "mini_examples_owt_overall = []\n",
    "mini_examples_ioi_overall = []\n",
    "\n",
    "for feature in features:\n",
    "\n",
    "    analyze_owt = MaxActAnalysis(\n",
    "        \"attn\", \n",
    "        layer, \n",
    "        feature, \n",
    "        num_sequences=num_examples, \n",
    "        batch_size=128, \n",
    "        strategy=strategy\n",
    "    )\n",
    "    mini_examples_owt = analyze_owt.get_context_referenced_prompts_for_range(0, 5)\n",
    "    mini_examples_owt_overall.extend(mini_examples_owt)\n",
    "\n",
    "    # For Dataset Prompt Tokens\n",
    "    analyze_prompts = MaxActAnalysis(\n",
    "        \"attn\", \n",
    "        layer, \n",
    "        feature, \n",
    "        num_sequences=num_examples, \n",
    "        batch_size=128, \n",
    "        strategy=strategy, \n",
    "        token_dataset=dataset_prompt_tokens\n",
    "    )\n",
    "    mini_examples_ioi = analyze_prompts.get_context_referenced_prompts_for_range(0, 5)\n",
    "    mini_examples_ioi_overall.extend(mini_examples_ioi)\n",
    "\n",
    "\n",
    "incoming_information = [\n",
    "    (\"L2H2\", l2h2_interp),\n",
    "    (\"L0H1\", l0h1_interp),\n",
    "    (\"L3H0\", l3h0_interp),\n",
    "    (\"L4H11\", l4h11_interp),\n",
    "]\n",
    "\n",
    "p = main_aug_interp_prompt_ioi_incoming(mini_examples_owt_overall, mini_examples_ioi_overall, incoming_information)\n",
    "interp = get_response(p)\n",
    "print(interp)"
   ]
  },
  {
   "cell_type": "code",
   "execution_count": 65,
   "metadata": {},
   "outputs": [],
   "source": [
    "l5h5_interp = \"This neuron predicts the appearance of named entities, specifically indirect objects, influenced by a previous introduction of the same entity or entities in the text (especially when entities were linked with a conjunction), crucial in identifying these entities when they reappear in a later context.\""
   ]
  },
  {
   "cell_type": "code",
   "execution_count": 69,
   "metadata": {},
   "outputs": [
    {
     "name": "stderr",
     "output_type": "stream",
     "text": [
      "/var/folders/wg/cdt_cw_5265_z_gwnxlf0tv80000gn/T/ipykernel_8977/912588485.py:18: UserWarning: To copy construct from a tensor, it is recommended to use sourceTensor.clone().detach() or sourceTensor.clone().detach().requires_grad_(True), rather than torch.tensor(sourceTensor).\n",
      "  dataset_prompt_tokens = torch.tensor(tokens)\n"
     ]
    },
    {
     "name": "stdout",
     "output_type": "stream",
     "text": [
      "[6424, 16513, 2623]\n"
     ]
    },
    {
     "name": "stderr",
     "output_type": "stream",
     "text": [
      "100%|██████████| 40/40 [02:34<00:00,  3.85s/it]\n",
      "100%|██████████| 5/5 [02:45<00:00, 33.11s/it] \n",
      "100%|██████████| 4/4 [00:02<00:00,  1.60it/s]\n",
      "100%|██████████| 5/5 [00:05<00:00,  1.03s/it]\n",
      "100%|██████████| 40/40 [02:33<00:00,  3.85s/it]\n",
      "100%|██████████| 5/5 [02:51<00:00, 34.33s/it] \n",
      "100%|██████████| 4/4 [00:02<00:00,  1.56it/s]\n",
      "100%|██████████| 5/5 [00:12<00:00,  2.43s/it]\n",
      "100%|██████████| 40/40 [02:33<00:00,  3.84s/it]\n",
      "100%|██████████| 5/5 [02:45<00:00, 33.07s/it] \n",
      "100%|██████████| 4/4 [00:02<00:00,  1.48it/s]\n",
      "100%|██████████| 5/5 [00:10<00:00,  2.15s/it]\n"
     ]
    },
    {
     "name": "stdout",
     "output_type": "stream",
     "text": [
      "The tokens that activate the neuron are mostly coordinating conjunctions (\"and\"), a few terminal markers like period and closing parenthesis, and in one instance, a preposition (\"to\").\n",
      "\n",
      "Step 2: In all the general examples, the context responsible for the firing of the neuron includes named entities, linked together with the help of conjunction. These named entities are highlighted as a pair in most cases or individually with the pair forming the overall context. The named entities seem to be part of a group or set of entities being listed or described in the given text. A common pattern is either the entities are connected through a shared activity or attribute, or they are being enumerated or introduced for the first time in the context.\n",
      "\n",
      "Step 3: A shared feature in the general text examples is the presence of a group or a pair of named entities in the context. These entities could be part of an enumeration, a description, or a narration involving these entities.\n",
      "\n",
      "Step 4: The tokens that activate the neuron in IOI examples are coordinating conjunctions (\"and\") and a preposition (\"to\").\n",
      "\n",
      "Step 5: In all the IOI examples, the context involves two named entities - the subject, and another entity which is being connected to the subject. Contexts highlighted include the introduction of these entities and their interplay, especially in activities that are suggestive of being related to indirect object identification.\n",
      "\n",
      "Step 6: The general shared features in the IOI text examples is the presence of named entities, notably two, that are part of a larger clause or statement. These entities are described in the context of their interaction or their attributes that have implications in indirect object identification.\n",
      "\n",
      "Step 7: \n",
      "[EXPLANATION]: This neuron is responsible for detecting a linking or coordinating structure (\"and\", \"to\") between multiple named entities, especially in a context where these entities share a common activity or attribute. In the context of Indirect Object Identification, this neuron plays a pivotal role in recognizing the conjunction or linkage between the subject and the indirect object. The information fed from neuron L5H5 further aids in understanding the appearance of these named entities, triggering the current neuron.\n"
     ]
    }
   ],
   "source": [
    "features = [x for x in list(set(cp.circuit_hypergraph['L8_H6']['features'])) if x!=-1]\n",
    "print(features)\n",
    "\n",
    "# #feature = 19042\n",
    "layer = 8\n",
    "num_examples = 5000\n",
    "\n",
    "strategy = create_simple_greedy_strategy(\n",
    "    passes=1,\n",
    "    node_contributors=1,\n",
    "    minimal=True,\n",
    ")\n",
    "\n",
    "\n",
    "dataset_prompts = gen_templated_prompts(template_idex=1, N=500)\n",
    "prompts = [x['text'] + x['correct'] for x in dataset_prompts]\n",
    "tokens = model.to_tokens(prompts)  # Assuming `model` is already defined\n",
    "dataset_prompt_tokens = torch.tensor(tokens)\n",
    "\n",
    "mini_examples_owt_overall = []\n",
    "mini_examples_ioi_overall = []\n",
    "\n",
    "for feature in features:\n",
    "\n",
    "    analyze_owt = MaxActAnalysis(\n",
    "        \"attn\", \n",
    "        layer, \n",
    "        feature, \n",
    "        num_sequences=num_examples, \n",
    "        batch_size=128, \n",
    "        strategy=strategy\n",
    "    )\n",
    "    mini_examples_owt = analyze_owt.get_context_referenced_prompts_for_range(0, 5)\n",
    "    mini_examples_owt_overall.extend(mini_examples_owt)\n",
    "\n",
    "    # For Dataset Prompt Tokens\n",
    "    analyze_prompts = MaxActAnalysis(\n",
    "        \"attn\", \n",
    "        layer, \n",
    "        feature, \n",
    "        num_sequences=num_examples, \n",
    "        batch_size=128, \n",
    "        strategy=strategy, \n",
    "        token_dataset=dataset_prompt_tokens\n",
    "    )\n",
    "    mini_examples_ioi = analyze_prompts.get_context_referenced_prompts_for_range(0, 5)\n",
    "    mini_examples_ioi_overall.extend(mini_examples_ioi)\n",
    "\n",
    "\n",
    "incoming_information = [\n",
    "    # (\"L2H2\", l2h2_interp),\n",
    "    # (\"L0H1\", l0h1_interp),\n",
    "    # (\"L3H0\", l3h0_interp),\n",
    "    # (\"L4H11\", l4h11_interp),\n",
    "    (\"L5H5\", l5h5_interp),\n",
    "]\n",
    "\n",
    "p = main_aug_interp_prompt_ioi_incoming(mini_examples_owt_overall, mini_examples_ioi_overall, incoming_information)\n",
    "interp = get_response(p)\n",
    "print(interp)"
   ]
  },
  {
   "cell_type": "code",
   "execution_count": 79,
   "metadata": {},
   "outputs": [],
   "source": [
    "l8h6_interp = \"\"\" \n",
    "This neuron is responsible for detecting a linking or coordinating structure (\"and\", \"to\") between multiple named entities when those entities have already been introduced, as determined by L5H5.\n",
    "\"\"\""
   ]
  },
  {
   "cell_type": "code",
   "execution_count": null,
   "metadata": {},
   "outputs": [],
   "source": [
    "cp.circuit_hypergraph['L9_H9']['features']"
   ]
  },
  {
   "cell_type": "code",
   "execution_count": null,
   "metadata": {},
   "outputs": [],
   "source": [
    "features = [x for x in list(set(cp.circuit_hypergraph['L9_H9']['features'])) if x!=-1]\n",
    "print(features)\n",
    "\n",
    "# #feature = 19042\n",
    "layer = 9\n",
    "num_examples = 2500\n",
    "\n",
    "strategy = create_simple_greedy_strategy(\n",
    "    passes=1,\n",
    "    node_contributors=1,\n",
    "    minimal=True,\n",
    ")\n",
    "\n",
    "\n",
    "dataset_prompts = gen_templated_prompts(template_idex=1, N=500)\n",
    "prompts = [x['text'] + x['correct'] for x in dataset_prompts]\n",
    "tokens = model.to_tokens(prompts)  # Assuming `model` is already defined\n",
    "dataset_prompt_tokens = torch.tensor(tokens)\n",
    "\n",
    "mini_examples_owt_overall = []\n",
    "mini_examples_ioi_overall = []\n",
    "\n",
    "for feature in features:\n",
    "    try:\n",
    "\n",
    "        analyze_owt = MaxActAnalysis(\n",
    "            \"attn\", \n",
    "            layer, \n",
    "            feature, \n",
    "            num_sequences=num_examples, \n",
    "            batch_size=128, \n",
    "            strategy=strategy\n",
    "        )\n",
    "        mini_examples_owt = analyze_owt.get_context_referenced_prompts_for_range(0, 5)\n",
    "        mini_examples_owt_overall.extend(mini_examples_owt)\n",
    "\n",
    "        # For Dataset Prompt Tokens\n",
    "        analyze_prompts = MaxActAnalysis(\n",
    "            \"attn\", \n",
    "            layer, \n",
    "            feature, \n",
    "            num_sequences=num_examples, \n",
    "            batch_size=128, \n",
    "            strategy=strategy, \n",
    "            token_dataset=dataset_prompt_tokens\n",
    "        )\n",
    "        mini_examples_ioi = analyze_prompts.get_context_referenced_prompts_for_range(0, 5)\n",
    "        mini_examples_ioi_overall.extend(mini_examples_ioi)\n",
    "    \n",
    "    except:\n",
    "        print(f\"Error with feature {feature}\")"
   ]
  },
  {
   "cell_type": "code",
   "execution_count": 80,
   "metadata": {},
   "outputs": [
    {
     "name": "stdout",
     "output_type": "stream",
     "text": [
      "In the general examples, the neuron activates on a diverse set of tokens. These include function words (\"to\", \"is\", \"at\", \"does\", \"up\", \",\", \"of\", \".\", \"�\", \"and\", \"(\", \")\"), names (\"Emily\", \"Marilyn\", \"Chris\", \"Eric\", \"P\", \"Sarah\", \"Crystal\", \"Jacob\"\n",
      ", \"Ellis\", \"Paul\", \"Carp\", \"t\", \"Josh\", \"Rita\", \"Alexander\", \"Allan\") and other content words (\"car\", \"pic\", \"Twitter\", \"com\", \"attention\", \"menace\", \") \", \"RT\", \"tagged\", \"call\", \"meet\", \"whether\", \"sell\", \"name\").\n",
      "\n",
      "Step 2: \n",
      "In most of the context provided, the neuron seems to pay attention to a combination of people's names (like \"Emily\", \"Paul\", \"Eric\", etc.), and function words (\"to\", \"of\", \"at\", etc). The name often appears in the context with some kind of action or possession (e.g., \"Emily's image tagged in\", \"Paul gave a ring to\", \"Josh showed Mary\"). The neuron also seems to capture various grammatical and semantic relations between tokens within the context.\n",
      "\n",
      "Step 3: \n",
      "In general examples, the text is mostly composed of sentences from various domains showing different situations. These situations usually involve actions performed by previously mentioned entities, often people. In many cases, the neuron seems to be tracking people and the actions oriented towards them.\n",
      "\n",
      "Step 4: \n",
      "In the IOI examples, the neuron activates on the token \"to\" which occurs at the end of the sentences. \n",
      "\n",
      "Step 5: \n",
      "In the IOI examples, the context always includes the second occurrence of the subject (S2) and an action (verb) performed by the subject. The context does not include the indirect object (IO) that the action is directed towards.\n",
      "\n",
      "Step 6: \n",
      "In IOI examples, the sentences always follow a specific pattern: an initial situation, usually involving fun activities, takes place between a pair of individuals. Subsequently, one of the individuals gives an unspecified item to another (the indirect object). The name of the recipient is expected, but not said.\n",
      "\n",
      "Step 7: \n",
      "[EXPLANATION]: Based on the patterns observed, it appears that this neuron is responsible for recognizing contexts that involve a person's action directed towards another entity. In the context of the IOI task, this function becomes more specific: the neuron activates on the token \"to\" when it follows the second occurrence of the subject (S2) and an action (verb) performed by the subject. This leads the model to predict the indirect object (IO) as the next token. This neuron thus contributes to the identification of the indirect object in a sentence by recognizing the contextual pattern of a conducted action by a previously mentioned person.\n"
     ]
    }
   ],
   "source": [
    "incoming_information = [\n",
    "    # (\"L2H2\", l2h2_interp),\n",
    "    # (\"L0H1\", l0h1_interp),\n",
    "    # (\"L3H0\", l3h0_interp),\n",
    "    # (\"L4H11\", l4h11_interp),\n",
    "    #(\"L5H5\", l5h5_interp),\n",
    "    (\"L8H6\", l8h6_interp),\n",
    "]\n",
    "\n",
    "p = main_aug_interp_prompt_ioi_incoming(mini_examples_owt_overall, mini_examples_ioi_overall, incoming_information)\n",
    "interp = get_response(p)\n",
    "print(interp)"
   ]
  },
  {
   "cell_type": "code",
   "execution_count": 81,
   "metadata": {},
   "outputs": [
    {
     "name": "stdout",
     "output_type": "stream",
     "text": [
      "\n",
      "\n",
      "\n",
      "You are a meticulous AI researcher conducting an important investigation into a certain neuron in a language model. This language model is trained to predict the text that will follow a given input. Your task is to figure out what sort of behavior this neuron is responsible for -- namely, when this neuron fires, what kind of predictions does this neuron promote in the context of the specific task of Indirect Object Identification (IOI)? Here's how you'll complete the task:\n",
      "\n",
      "INPUT_DESCRIPTION: \n",
      "You will be given several examples of text that activate the neuron. First we'll provide the example text without any annotations, and then we'll provide the same text with annotations that show the specific tokens that caused the neuron to activate and context about why the neuron fired.\n",
      "\n",
      "The specific token that the neuron activates on will be the last token in the sequence, and will appear between << and >> (like <<this>>).  \n",
      "\n",
      "Additionally, each sequence will have tokens enclosed between [[ and ]] (like [[this]]). From previous analysis, we know that these tokens form the context for why our neuron fires on the token enclosed in << and >> (in addition to the value of the actual token itself). Note that we treat the group of tokens enclosed between [[ and ]] as the \"context\" for why the neuron fired.\n",
      "\n",
      "We will provide both general examples and specific examples related to the task of Indirect Object Identification (IOI).\n",
      "\n",
      "Task Description: A sentence containing indirect object identification (IOI) has an initial dependent clause, e.g. \"When Mary and John went to the store\", and a main clause, e.g. \"John gave a bottle of milk to Mary\". The initial clause introduces the indirect object (IO) \"Mary\" and the subject (S) \"John\". The main clause refers to the subject a second time, and in all our examples of IOI, the subject gives an object to the IO. The IOI task is to predict the final token in the sentence to be the IO. We use 'S1' and 'S2' to refer to the first and second occurrences of the subject, when we want to specify position.\n",
      "\n",
      "Previous Neuron Information:\n",
      "You will also be provided with information about important previous neurons that feed into the current neuron. These neurons play a significant role in the IOI task and move information into the current neuron. The incoming information will be presented as a list of tuples, where each tuple contains the neuron's name and its interpretation in the context of the IOI task.\n",
      "\n",
      "\n",
      "Neuron L8H6:\n",
      "- Interpretation in IOI context:  \n",
      "This neuron is responsible for detecting a linking or coordinating structure (\"and\", \"to\") between multiple named entities when those entities have already been introduced, as determined by L5H5.\n",
      "\n",
      "\n",
      "\n",
      "\n",
      "Use this incoming information to help interpret the current neuron's role, considering how it processes and uses the information from these previous neurons.\n",
      "\n",
      "Given these examples, complete the following steps.\n",
      "\n",
      "OUTPUT_DESCRIPTION:\n",
      "\n",
      "Step 1: Based on the general examples provided, write down observed patterns between the tokens that caused the neuron to activate (just the tokens enclosed in << and >>).\n",
      "Step 2: Based on the general examples provided, write down patterns you see in the context for why the neuron fired. (Remember, the \"context\" for an example is the group of tokens enclosed in [[ and ]]). Include any patterns in the relationships between different tokens in the context, and any patterns in the relationship between the context and the rest of the text.\n",
      "Step 3: Write down several general shared features of the general text examples.\n",
      "Step 4: Based on the IOI examples provided, write down observed patterns between the tokens that caused the neuron to activate (just the tokens enclosed in << and >>).\n",
      "Step 5: Based on the IOI examples provided, write down patterns you see in the context for why the neuron fired. (Remember, the \"context\" for an example is the group of tokens enclosed in [[ and ]]). Include any patterns in the relationships between different tokens in the context, and any patterns in the relationship between the context and the rest of the text.\n",
      "Step 6: Write down several general shared features of the IOI text examples.\n",
      "Step 7: Based on the patterns you found between the activating token and the relevant context in both general and IOI examples, write down your best explanation for what this neuron is responsible for. Propose your explanation in the following form: \n",
      "[EXPLANATION]: <your explanation>\n",
      "\n",
      "Guidelines:\n",
      "- Try to produce a final explanation that's both concise and general to the examples provided.\n",
      "- Your explanation should be short: 1-2 sentences.\n",
      "- Specifically address the neuron's role in the context of the IOI task, explaining its specific function in relation to predicting the indirect object.\n",
      "- If provided, incorporate the interpretation of the previous neurons into your explanation, considering how the current neuron processes and uses the information from these previous neurons.\n",
      "\n",
      "INPUT:\n",
      "\n",
      "General Examples:\n",
      "                         \n",
      "EXAMPLE 2:\n",
      "- Base Text -\n",
      "=================================================\n",
      "synthetic compound derived from morphine, so authorities had probably considered it as a proscribed drug since the first schedule was passed in 1911, which included \"morphine, its salts and compounds.\"\n",
      "\n",
      "Proscribing codeine was more controversial, although after it was added doctors, druggists and the pharmaceutical industry successfully lobbied to have codeine decriminalized.\n",
      "\n",
      "It was removed from the schedule in 1925, though the U.S. government and the Canadian government��s own narcotic division criticized the decision.\n",
      "\n",
      "Emily Murphy's ��new menace��\n",
      "\n",
      "\n",
      "=================================================\n",
      "\n",
      "- Annotated Text -\n",
      "=================================================\n",
      "synthetic compound derived from morphine, so authorities had probably considered it as a proscribed drug since the first schedule was passed in 1911, which included \"morphine, its salts and compounds.\"\n",
      "\n",
      "Proscribing codeine was more controversial, although after it was added doctors, druggists and the pharmaceutical industry successfully lobbied to have codeine decriminalized.\n",
      "\n",
      "It was removed from the schedule in 1925, though the U.S. government and the Canadian government��s own narcotic division criticized the decision.\n",
      "\n",
      "[[Emily]] Murphy's[[ �]]�new[[ menace]]��\n",
      "<<\n",
      ">>\n",
      "=================================================\n",
      "\n",
      "                         \n",
      "EXAMPLE 3:\n",
      "- Base Text -\n",
      "=================================================\n",
      " won the day in the British Privy Council.\n",
      "\n",
      "With no parliamentary debate, no evidence of public debate or discussion, and no paper trail about why marijuana was criminalized in 1923, it's understandable why people would later link the decision to The Black Candle. But Carstairs says it's probably just happenstance.\n",
      "\n",
      "She also told CBC News, \"There were insinuations in the records that the bureaucrats at the division of narcotic control did not think very highly of Emily Murphy and did not pay attention to\n",
      "=================================================\n",
      "\n",
      "- Annotated Text -\n",
      "=================================================\n",
      " won the day in the British Privy Council.\n",
      "\n",
      "With no parliamentary debate, no evidence of public debate or discussion, and no paper trail about why marijuana was criminalized in 1923, it's understandable why people would later link the decision to The Black Candle. But Carstairs says it's probably just happenstance.\n",
      "\n",
      "She also told CBC News, \"There were insinuations in the records that the bureaucrats at the division of narcotic control did not think very highly of[[ Emily]] Murphy and did not pay[[ attention]]<< to>>\n",
      "=================================================\n",
      "\n",
      "                         \n",
      "EXAMPLE 4:\n",
      "- Base Text -\n",
      "=================================================\n",
      " won the day in the British Privy Council.\n",
      "\n",
      "With no parliamentary debate, no evidence of public debate or discussion, and no paper trail about why marijuana was criminalized in 1923, it's understandable why people would later link the decision to The Black Candle. But Carstairs says it's probably just happenstance.\n",
      "\n",
      "She also told CBC News, \"There were insinuations in the records that the bureaucrats at the division of narcotic control did not think very highly of Emily Murphy and did not pay attention to what\n",
      "=================================================\n",
      "\n",
      "- Annotated Text -\n",
      "=================================================\n",
      " won the day in the British Privy Council.\n",
      "\n",
      "With no parliamentary debate, no evidence of public debate or discussion, and no paper trail about why marijuana was criminalized in 1923, it's understandable why people would later link the decision to The Black Candle. But Carstairs says it's probably just happenstance.\n",
      "\n",
      "She also told CBC News, \"There were insinuations in the records that the bureaucrats at the division of narcotic control did not think very highly of[[ Emily]] Murphy and did not pay[[ attention]][[ to]]<< what>>\n",
      "=================================================\n",
      "\n",
      "                         \n",
      "EXAMPLE 5:\n",
      "- Base Text -\n",
      "=================================================\n",
      " the \"Famous Five\" feminists, was unveiled in Calgary in 1999. She is also remembered for her anti-narcotic campaigning in the 1920s. (Canadian Press)\n",
      "\n",
      "A 1922 book, The Black Candle, by Emily Murphy, is frequently given as the explanation for the King government's move against marijuana.\n",
      "=================================================\n",
      "\n",
      "- Annotated Text -\n",
      "=================================================\n",
      " the \"Famous Five\" feminists, was unveiled in Calgary in 1999. She is also remembered for her anti-narcotic campaigning in the 1920s. (Canadian Press)\n",
      "\n",
      "A 1922 book, The Black Candle, by Emily[[ Murphy]], is frequently given as the explanation for the King government's move against marijuana<<.>>\n",
      "=================================================\n",
      "\n",
      "                         \n",
      "EXAMPLE 6:\n",
      "- Base Text -\n",
      "=================================================\n",
      " won the day in the British Privy Council.\n",
      "\n",
      "With no parliamentary debate, no evidence of public debate or discussion, and no paper trail about why marijuana was criminalized in 1923, it's understandable why people would later link the decision to The Black Candle. But Carstairs says it's probably just happenstance.\n",
      "\n",
      "She also told CBC News, \"There were insinuations in the records that the bureaucrats at the division of narcotic control did not think very highly of Emily Murphy and did not pay attention to what she was writing about, and they didn't consider her a particularly accurate or valuable source.\"\n",
      "\n",
      "\n",
      "=================================================\n",
      "\n",
      "- Annotated Text -\n",
      "=================================================\n",
      " won the day in the British Privy Council.\n",
      "\n",
      "With no parliamentary debate, no evidence of public debate or discussion, and no paper trail about why marijuana was criminalized in 1923, it's understandable why people would later link the decision to The Black Candle. But Carstairs says it's probably just happenstance.\n",
      "\n",
      "She also told[[ CBC]] News, \"There were insinuations in the records that the bureaucrats at the division of narcotic control did not think very highly of[[ Emily]] Murphy and did not pay attention to what she was writing about, and they didn't consider her a particularly accurate or valuable source.\"[[\n",
      "]]<<\n",
      ">>\n",
      "=================================================\n",
      "\n",
      "                         \n",
      "EXAMPLE 7:\n",
      "- Base Text -\n",
      "=================================================\n",
      " proc constructT ( ) : T = if toDestroy . len > 0 : let ( d , p ) = toDestroy . pop ( ) d ( p )\n",
      "=================================================\n",
      "\n",
      "- Annotated Text -\n",
      "=================================================\n",
      " proc[[ construct]]T ([[ )]] : T = if toDestroy . len > 0[[ :]][[ let]][[ (]][[ d]][[ ,]][[ p]] )[[ =]] toDestroy . pop ( )[[ d]] ( p<< )>>\n",
      "=================================================\n",
      "\n",
      "                         \n",
      "EXAMPLE 8:\n",
      "- Base Text -\n",
      "=================================================\n",
      " he also has an active case in danger. Again, Witt is the father of five kids. His ex-wife reported him missing the Friday before Thanksgiving. St. Louis County Police are investigating.\n",
      "\n",
      "Former clients can contact Attorney Kenneth Carp to retrieve their old files. The Courts appointed Carp to take over some cases and help with abandoned files. You can contact Carp by calling him at 314-942-3005 or through one of his web-sites http://www.kcar\n",
      "=================================================\n",
      "\n",
      "- Annotated Text -\n",
      "=================================================\n",
      " he also has an active case in danger. Again, Witt is the father of five kids. His ex-wife reported him missing the Friday before Thanksgiving. St. Louis County Police are investigating.\n",
      "\n",
      "Former clients can contact Attorney Kenneth[[ Car]][[p]] to retrieve their old files. The Courts appointed Carp to take over some cases and help with abandoned files. You can contact Carp by calling him at 314-942-3005 or through one of his web-sites http://www.k<<car>>\n",
      "=================================================\n",
      "\n",
      "                         \n",
      "EXAMPLE 9:\n",
      "- Base Text -\n",
      "=================================================\n",
      ".\n",
      "\n",
      "{{tncms-inline account=\"TomMoorePhilly\" html=\"<blockquote class=\"twitter-tweet\"><p lang=\"en\" dir=\"ltr\"><a href=\"https://twitter.com/hashtag/Sixers?src=hash\">#Sixers</a> Simmons: 'I'm a winner' <a href=\"https://t.co/PPgZd8Gntx\">pic.twitter.com/\n",
      "=================================================\n",
      "\n",
      "- Annotated Text -\n",
      "=================================================\n",
      ".\n",
      "\n",
      "{{tncms-inline account=\"TomMoorePhilly\" html=\"<blockquote class=\"twitter-tweet\"><p lang=\"en\" dir=\"ltr\"><a href=\"https://twitter.com/hashtag/Sixers?src=hash\">#Sixers</a> Simmons: 'I'm a winner' <a href=\"https[[://]][[t]].co[[/]][[PP]]gZd8Gntx\">[[pic]].[[twitter]].[[com]]<</>>\n",
      "=================================================\n",
      "\n",
      "                         \n",
      "EXAMPLE 10:\n",
      "- Base Text -\n",
      "=================================================\n",
      " are eligible for a one-off payment of up to £2,000 to help meet their needs.\"\n",
      "\n",
      "What is a PIP assessment?\n",
      "\n",
      "\n",
      "=================================================\n",
      "\n",
      "- Annotated Text -\n",
      "=================================================\n",
      " are eligible for a one-off payment of up to £2,000 to help meet their needs[[.\"]]\n",
      "\n",
      "What[[ is]] a[[ P]]IP assessment?\n",
      "<<\n",
      ">>\n",
      "=================================================\n",
      "\n",
      "                         \n",
      "EXAMPLE 11:\n",
      "- Base Text -\n",
      "=================================================\n",
      " There are clear indications that the Talocan did not possess infomorph technology or advanced cloning facilities. In fact it seems to have been that lack of development which lead to their demise in Anoikis where they appear to have been decimated by a pandemic. Finally, the Drifter battleships do not look much like known Talocan ship designs.\n",
      "\n",
      "Enheduanni\n",
      "\n",
      "P\n",
      "=================================================\n",
      "\n",
      "- Annotated Text -\n",
      "=================================================\n",
      " There are clear indications that the Talocan did not possess infomorph technology or advanced cloning facilities. In fact it seems to have been that lack of development which lead to their demise in Anoikis where they appear to have been decimated by a[[ pand]]emic. Finally, the Drifter battleships do not look much like known Talocan ship designs.\n",
      "\n",
      "Enheduanni\n",
      "\n",
      "<<P>>\n",
      "=================================================\n",
      "\n",
      "                         \n",
      "EXAMPLE 12:\n",
      "- Base Text -\n",
      "=================================================\n",
      " kerfuffle, looks ��like a rounding error compared to Palin��s September hair and makeup expenses.�� It��s also surprising that this type of expenditure is legal, though apparently it is. [Think Progress]\n",
      "\n",
      "• Chuck Todd and friends believe the story ��could further add to the perception that Palin isn��t a serious candidate.�� And Andrea Mitchell wonders whether Palin is ��permitted to accept these kinds of gifts under Alaska ethics laws.�� [First Read/MSNBC]\n",
      "\n",
      "• Jake Tapper wonders whether\n",
      "=================================================\n",
      "\n",
      "- Annotated Text -\n",
      "=================================================\n",
      " kerfuffle, looks ��like a rounding error compared to[[ Palin]]��s September hair and makeup expenses.�� It��s also surprising that this type of expenditure is legal, though apparently it is. [Think Progress]\n",
      "\n",
      "• Chuck Todd and friends believe the story ��could further add to the perception that Palin isn��t a serious candidate.�� And Andrea Mitchell wonders whether Palin is ��permitted to accept these kinds of gifts under Alaska ethics laws.�� [First Read/MSNBC]\n",
      "\n",
      "• Jake Tapper wonders<< whether>>\n",
      "=================================================\n",
      "\n",
      "                         \n",
      "EXAMPLE 13:\n",
      "- Base Text -\n",
      "=================================================\n",
      " the campaign has done to portray Palin and her family as salt-of-the-earth middle-class types.�� [War Room/Salon]\n",
      "\n",
      "• Emily Bazelon contends that, ��In a sense,\n",
      "=================================================\n",
      "\n",
      "- Annotated Text -\n",
      "=================================================\n",
      " the campaign has done to portray[[ Palin]] and her family as salt-of-the-earth middle-class types.�� [War Room/Salon]\n",
      "\n",
      "• Emily Bazelon contends that, ��[[In]] a[[ sense]]<<,>>\n",
      "=================================================\n",
      "\n",
      "                         \n",
      "EXAMPLE 14:\n",
      "- Base Text -\n",
      "=================================================\n",
      " kerfuffle, looks ��like a rounding error compared to Palin��s September hair and makeup expenses.�� It��s also surprising that this type of expenditure is legal, though apparently it is. [Think Progress]\n",
      "\n",
      "• Chuck Todd and friends believe the story ��could further add to the perception that Palin isn��t a serious candidate.�� And Andrea Mitchell wonders whether\n",
      "=================================================\n",
      "\n",
      "- Annotated Text -\n",
      "=================================================\n",
      " kerfuffle, looks ��like a rounding error compared to Palin��s September hair and makeup expenses.�� It��s also surprising that this type of expenditure is legal, though apparently it is. [Think Progress]\n",
      "\n",
      "• Chuck Todd and friends believe the story ��could further add to the perception that[[ Palin]] isn��t a serious candidate.�� And Andrea Mitchell wonders<< whether>>\n",
      "=================================================\n",
      "\n",
      "                         \n",
      "EXAMPLE 15:\n",
      "- Base Text -\n",
      "=================================================\n",
      " the campaign has done to portray Palin and her family as salt-of-the-earth middle-class types.�� [War Room/Salon]\n",
      "\n",
      "• Emily Bazelon contends that, ��In a sense, this is unfair,�� because any wealthy candidate would already have the nice clothes that Palin needed to buy. Plus, ��Isn��t\n",
      "=================================================\n",
      "\n",
      "- Annotated Text -\n",
      "=================================================\n",
      " the campaign has done to portray[[ Palin]] and her family as salt-of-the-earth middle-class types.�� [War Room/Salon]\n",
      "\n",
      "• Emily Bazelon contends that, ��In a sense, this is unfair,�� because any wealthy candidate would already have the nice clothes that Palin needed to buy. Plus, ��[[Isn]]��<<t>>\n",
      "=================================================\n",
      "\n",
      "                         \n",
      "EXAMPLE 16:\n",
      "- Base Text -\n",
      "=================================================\n",
      " the campaign has done to portray Palin and her family as salt-of-the-earth middle-class types.�� [War Room/Salon]\n",
      "\n",
      "• Emily Bazelon contends that\n",
      "=================================================\n",
      "\n",
      "- Annotated Text -\n",
      "=================================================\n",
      " the campaign has done to portray[[ Palin]] and her family as salt-of-the-earth middle-class types.�� [War Room/Salon]\n",
      "\n",
      "• Emily Bazelon[[ contends]]<< that>>\n",
      "=================================================\n",
      "\n",
      "                         \n",
      "EXAMPLE 17:\n",
      "- Base Text -\n",
      "=================================================\n",
      " Jesse needs someone to look up to, but the Season 4 finale left more questions than answers for the pair.\n",
      "\n",
      "Walter has consistently betrayed Jesse throughout the series, and the shocking end to Season 4 proved just that, as we found out that it was Walt who poisoned Brock (Ian Posada). Jesse may not know the truth yet, but how does actor Aaron Paul feel about Walter's betrayal?\n",
      "\n",
      "\"Shame on Walt,\"\n",
      "=================================================\n",
      "\n",
      "- Annotated Text -\n",
      "=================================================\n",
      " Jesse needs someone to look up to, but the Season 4 finale left more questions than answers for the pair.\n",
      "\n",
      "Walter has consistently betrayed Jesse throughout the series, and the shocking end to Season 4 proved just that, as we found out that it was Walt who poisoned Brock (Ian Posada). Jesse may not know the truth yet, but how[[ does]][[ actor]][[ Aaron]][[ Paul]] feel about Walter's betrayal?\n",
      "\n",
      "[[\"]]Shame on Walt<<,\">>\n",
      "=================================================\n",
      "\n",
      "                         \n",
      "EXAMPLE 18:\n",
      "- Base Text -\n",
      "=================================================\n",
      " Jesse needs someone to look up to, but the Season 4 finale left more questions than answers for the pair.\n",
      "\n",
      "Walter has consistently betrayed Jesse throughout the series, and the shocking end to Season 4 proved just that, as we found out that it was Walt who poisoned Brock (Ian Posada). Jesse may not know the truth yet, but how does actor Aaron Paul feel about Walter's betrayal?\n",
      "\n",
      "\"Shame on Walt,\" Paul told Vulture, while promoting his new film \"Smashed\" at Sundance.\n",
      "=================================================\n",
      "\n",
      "- Annotated Text -\n",
      "=================================================\n",
      " Jesse needs someone to look up to, but the Season 4 finale left more questions than answers for the pair.\n",
      "\n",
      "Walter has consistently betrayed Jesse throughout the series, and the shocking end to Season 4 proved just that, as we found out that it was Walt who poisoned Brock (Ian Posada). Jesse may not know the truth yet, but how[[ does]][[ actor]][[ Aaron]][[ Paul]] feel about Walter's betrayal?[[\n",
      "]][[\n",
      "]]\"Shame on Walt[[,\"]] Paul told Vulture, while promoting his new film \"Smashed\" at Sundance<<.>>\n",
      "=================================================\n",
      "\n",
      "                         \n",
      "EXAMPLE 19:\n",
      "- Base Text -\n",
      "=================================================\n",
      " all the horrible things that he did, oh my God. I love that they��re back together, but it��s always been such a back-and-forth struggle, a love-hate relationship.\"\n",
      "\n",
      "However, for Paul, he believes that the dynamic crime duo ultimately respect one another, even though they can't seem to trust each other.\n",
      "\n",
      "\"But I think at the end, in the parking lot, I think they��re there for each other,\"\n",
      "=================================================\n",
      "\n",
      "- Annotated Text -\n",
      "=================================================\n",
      " all the horrible things that he did, oh my God. I love that they��re back together, but it��s always been such a back-and-forth struggle, a love-hate relationship.\"\n",
      "\n",
      "However,[[ for]][[ Paul]][[,]] he believes that the dynamic crime duo ultimately respect one another, even though they can't seem to trust each other.\n",
      "\n",
      "\"But I think at the end, in the parking lot, I think they��re there for each other<<,\">>\n",
      "=================================================\n",
      "\n",
      "                         \n",
      "EXAMPLE 20:\n",
      "- Base Text -\n",
      "=================================================\n",
      " provide direct sales tax refunds to consumers in the context of class action settlements.�� In other words, it won��t refund sales tax collected on the purchase of an affected diesel VW.\n",
      "\n",
      "Sign up for the Avalara newsletter and stay up-to-date on sales tax news.<|endoftext|>After the Los Angeles Clippers�� 127-95 Monday rout of the Brooklyn Nets, it��s clear the team has the ��singular focus�� Chris Paul referenced after the game.\n",
      "\n",
      "\n",
      "=================================================\n",
      "\n",
      "- Annotated Text -\n",
      "=================================================\n",
      " provide direct sales tax refunds to consumers in the context of class action settlements.�� In other words, it won��t refund sales tax collected on the purchase of an affected diesel VW.\n",
      "\n",
      "Sign up for the Avalara newsletter and stay up-to-date on sales tax news.[[<|endoftext|>]]After the Los Angeles Clippers�� 127-95 Monday rout of the Brooklyn Nets, it��s clear the team has the ��singular focus��[[ Chris]][[ Paul]][[ referenced]] after the game.\n",
      "<<\n",
      ">>\n",
      "=================================================\n",
      "\n",
      "                         \n",
      "EXAMPLE 21:\n",
      "- Base Text -\n",
      "=================================================\n",
      " provide direct sales tax refunds to consumers in the context of class action settlements.�� In other words, it won��t refund sales tax collected on the purchase of an affected diesel VW.\n",
      "\n",
      "Sign up for the Avalara newsletter and stay up-to-date on sales tax news.<|endoftext|>After the Los Angeles Clippers�� 127-95 Monday rout of the Brooklyn Nets, it��s clear the team has the ��singular focus�� Chris Paul referenced after the game.\n",
      "=================================================\n",
      "\n",
      "- Annotated Text -\n",
      "=================================================\n",
      " provide direct sales tax refunds to consumers in the context of class action settlements.�� In other words, it won��t refund sales tax collected on the purchase of an affected diesel VW.\n",
      "\n",
      "Sign up for the Avalara newsletter and stay up-to-date on sales tax news.<|endoftext|>After the Los Angeles Clippers�� 127-95 Monday rout of the Brooklyn Nets, it��s clear the team has the ��singular focus��[[ Chris]][[ Paul]] referenced after the[[ game]]<<.>>\n",
      "=================================================\n",
      "\n",
      "                         \n",
      "EXAMPLE 22:\n",
      "- Base Text -\n",
      "=================================================\n",
      "ling panda. The different spot patterns may be a reference to red pandas, which also have their own unique facial markings.\n",
      "\n",
      "Name origin\n",
      "\n",
      "Spinda is a combination of spin (referring to its twirly eyes and ears and dizzy-seeming movement) and panda.\n",
      "\n",
      "Patcheel may be a combination of patch (referring to its appearance) and reel (to stagger, as from dizziness).\n",
      "\n",
      "In other languages\n",
      "\n",
      "Language Title Meaning Japanese ��ッチール Patcheel From patch and reel French Spinda Same as English name\n",
      "=================================================\n",
      "\n",
      "- Annotated Text -\n",
      "=================================================\n",
      "ling panda. The different spot patterns may be a reference to red pandas, which also have their own unique facial markings.\n",
      "\n",
      "[[Name]][[ origin]]\n",
      "\n",
      "Spinda is a combination of spin (referring to its twirly eyes and ears and dizzy-seeming movement) and panda.\n",
      "\n",
      "Patcheel may be a combination of patch (referring to its appearance) and reel (to stagger, as from dizziness).\n",
      "\n",
      "In other languages\n",
      "\n",
      "Language Title Meaning[[ Japanese]] ��ッチール Patcheel From patch and reel[[ French]] Spinda Same as English<< name>>\n",
      "=================================================\n",
      "\n",
      "                         \n",
      "EXAMPLE 23:\n",
      "- Base Text -\n",
      "=================================================\n",
      "��t really heroic at all, in fact, while Danny Rand is. Elektra, in all her portrayals, is an amoral killer who��s a foil for Matt Murdock��s morality, and in this particular portrayal she��s some sort of inherently evil demonic killing machine. Danny Rand, by contrast, is an ordinary likable guy in over his head trying to do his best—the kind of Everyman hero we��re used to seeing played by white guys named Chris.\n",
      "=================================================\n",
      "\n",
      "- Annotated Text -\n",
      "=================================================\n",
      "��t really heroic at all, in fact, while Danny Rand is. Elektra, in all her portrayals, is an amoral killer who��s a foil for Matt Murdock��s morality, and in this particular portrayal she��s some sort of inherently evil demonic killing machine. Danny Rand, by contrast, is an ordinary likable guy in over his head trying to do his best—the kind of Everyman hero we��re used to seeing played by white guys named Chris<<.>>\n",
      "=================================================\n",
      "\n",
      "                         \n",
      "EXAMPLE 24:\n",
      "- Base Text -\n",
      "=================================================\n",
      " (but predictable) geisha fantasies. The producers know that making Daredevil��s femme fatale a sexy ninja girl from the Orient would be playing directly into the preferences of a certain genus of skeevy nerd. They knew it would be, as the kids say these days, a bad look. They poked fun at themselves for doing it. But they did it anyway.\n",
      "=================================================\n",
      "\n",
      "- Annotated Text -\n",
      "=================================================\n",
      " (but predictable) geisha fantasies. The producers know that making[[ Daredevil]]��s femme fatale a sexy ninja girl from the Orient would be playing directly into the preferences of a certain genus of skeevy nerd. They knew it would be, as the kids say these days, a bad look. They poked fun at themselves for doing it. But they[[ did]] it[[ anyway]]<<.>>\n",
      "=================================================\n",
      "\n",
      "                         \n",
      "EXAMPLE 25:\n",
      "- Base Text -\n",
      "=================================================\n",
      "��t really heroic at all, in fact, while Danny Rand is. Elektra, in all her portrayals, is an amoral killer who��s a foil for Matt Murdock��s morality, and in this particular portrayal she��s some sort of inherently evil demonic killing machine.\n",
      "=================================================\n",
      "\n",
      "- Annotated Text -\n",
      "=================================================\n",
      "��t really heroic at all, in fact, while Danny Rand is. Elektra, in all her portrayals, is an amoral killer who��s a foil for Matt Murdock��s morality, and in this particular portrayal she��s some sort of inherently evil demonic killing machine<<.>>\n",
      "=================================================\n",
      "\n",
      "                         \n",
      "EXAMPLE 26:\n",
      "- Base Text -\n",
      "=================================================\n",
      " Jesse needs someone to look up to, but the Season 4 finale left more questions than answers for the pair.\n",
      "\n",
      "Walter has consistently betrayed Jesse throughout the series, and the shocking end to Season 4 proved just that, as we found out that it was Walt who poisoned Brock (Ian Posada). Jesse may not know the truth yet, but how does actor Aaron Paul feel about Walter's betrayal?\n",
      "\n",
      "\n",
      "=================================================\n",
      "\n",
      "- Annotated Text -\n",
      "=================================================\n",
      " Jesse needs someone to look up to, but the Season 4 finale left more questions than answers for the pair.\n",
      "\n",
      "Walter has consistently betrayed Jesse throughout the series, and the shocking end to Season 4 proved just that, as we found out that it was Walt who poisoned Brock (Ian Posada). Jesse[[ may]][[ not]] know the truth yet,[[ but]][[ how]] does actor Aaron Paul feel about Walter's betrayal[[?]][[\n",
      "]]<<\n",
      ">>\n",
      "=================================================\n",
      "\n",
      "                         \n",
      "EXAMPLE 27:\n",
      "- Base Text -\n",
      "=================================================\n",
      " McCain campaign as a newborn fawn, the recent distractions coming from Sarah Palin can��t be helpful. The maverick governor apologized yesterday for her remark about the ��pro-America�� parts of the country. Then she gave a dubious answer to a third-grader��s question about the role of the vice-president in the United States government.\n",
      "=================================================\n",
      "\n",
      "- Annotated Text -\n",
      "=================================================\n",
      " McCain campaign as a newborn fawn, the recent distractions coming from Sarah Palin can��t be helpful. The maverick governor apologized yesterday for her remark about the ��pro-America�� parts of the country. Then she gave a dubious answer to a third-grader��s question about the role of the vice-president in the United States government<<.>>\n",
      "=================================================\n",
      "\n",
      "                         \n",
      "EXAMPLE 28:\n",
      "- Base Text -\n",
      "=================================================\n",
      " McCain campaign as a newborn fawn, the recent distractions coming from Sarah Palin can��t be helpful. The maverick governor apologized yesterday for her remark about the ��pro-America�� parts of the country. Then she gave a dubious answer to a third-grader��s question about the role of the vice-president in the United States government. Meanwhile, an AP investigation found that she charged the Alaska government for her kids�� travel expenses, and a new NBC/WSJ poll shows that Palin��s qualifications are voters�� No. 1 concern about\n",
      "=================================================\n",
      "\n",
      "- Annotated Text -\n",
      "=================================================\n",
      " McCain campaign as a newborn fawn, the recent distractions coming from[[ Sarah]] Palin can��t be helpful. The maverick governor apologized yesterday for her remark about the ��pro-America�� parts of the country. Then she gave a dubious answer to a third-grader��s question about the role of the vice-president in the United States government. Meanwhile, an AP investigation found that she charged the Alaska government for her kids�� travel expenses, and a new NBC/WSJ poll shows that Palin��s qualifications are voters�� No. 1[[ concern]]<< about>>\n",
      "=================================================\n",
      "\n",
      "                         \n",
      "EXAMPLE 29:\n",
      "- Base Text -\n",
      "=================================================\n",
      " McCain campaign as a newborn fawn, the recent distractions coming from Sarah Palin can��t be helpful.\n",
      "=================================================\n",
      "\n",
      "- Annotated Text -\n",
      "=================================================\n",
      " McCain campaign as a newborn fawn, the recent distractions coming from Sarah Palin can[[�]]�t be helpful<<.>>\n",
      "=================================================\n",
      "\n",
      "                         \n",
      "EXAMPLE 30:\n",
      "- Base Text -\n",
      "=================================================\n",
      " McCain campaign as a newborn fawn, the recent distractions coming from Sarah Palin can��t be helpful. The maverick governor apologized yesterday for her remark about the ��pro-America�� parts of the country.\n",
      "=================================================\n",
      "\n",
      "- Annotated Text -\n",
      "=================================================\n",
      " McCain campaign as a newborn fawn, the recent distractions coming from[[ Sarah]] Palin can��t be helpful. The maverick governor apologized yesterday for her remark about the ��pro-America�� parts of the country<<.>>\n",
      "=================================================\n",
      "\n",
      "                         \n",
      "EXAMPLE 31:\n",
      "- Base Text -\n",
      "=================================================\n",
      " Materials journal and discusses a newly found herringbone structure that has never been documented in nature that is contained within the outer layer of the dactyl club appendage. The structure shields the club upon impact and allows the mantis shrimp to cause an astounding amount of damage.\n",
      "\n",
      "Mantis shrimp come in two forms, ��smashers�� and ��spearers��.\n",
      "=================================================\n",
      "\n",
      "- Annotated Text -\n",
      "=================================================\n",
      " Materials journal and discusses a newly found herringbone structure that has never been documented in nature that is contained within the outer layer of the dactyl club appendage. The structure shields the club upon impact and allows the mantis shrimp to cause an astounding amount of damage.[[\n",
      "]]\n",
      "Mantis shrimp come in[[ two]][[ forms]],[[ �]]�[[s]]mashers�� and ��spe[[arers]]��<<.>>\n",
      "=================================================\n",
      "\n",
      "                         \n",
      "EXAMPLE 32:\n",
      "- Base Text -\n",
      "=================================================\n",
      " opened 30.93 points higher at 8,779.40.\n",
      "\n",
      "11.15am: The currency market is trading despite the ASX glitch. The Australian Dollar is currently buying US$1.0418, 74 Euro cents, 65 British pence, and 79.398 Yen. 11.13am: Chi-X, the rival trading market, is due to start soon too. Presumably they won't mind if the halt lasts all day. 11.11\n",
      "=================================================\n",
      "\n",
      "- Annotated Text -\n",
      "=================================================\n",
      " opened 30.93 points higher at 8,[[779]].40.\n",
      "\n",
      "11.15am[[:]] The currency market is trading despite the ASX glitch. The Australian Dollar is currently buying US$1.0418, 74 Euro cents, 65 British pence, and 79.398 Yen. 11.[[13]][[am]][[:]] Chi-X, the rival trading market, is due to start soon too. Presumably they won't mind if the halt lasts all day.[[ 11]][[.]]<<11>>\n",
      "=================================================\n",
      "\n",
      "                         \n",
      "EXAMPLE 33:\n",
      "- Base Text -\n",
      "=================================================\n",
      " opened 30.93 points higher at 8,779.40.\n",
      "\n",
      "11.15am: The currency market is trading despite the ASX glitch. The Australian Dollar is currently buying US$1.0418, 74 Euro cents, 65 British pence, and 79.398 Yen. 11.13\n",
      "=================================================\n",
      "\n",
      "- Annotated Text -\n",
      "=================================================\n",
      " opened 30.93 points higher at 8,779.40.\n",
      "\n",
      "11.15[[am]]: The currency market is trading despite the ASX glitch. The Australian Dollar is currently buying US$1.0418, 74 Euro cents, 65 British pence, and 79.398 Yen. 11.<<13>>\n",
      "=================================================\n",
      "\n",
      "                         \n",
      "EXAMPLE 34:\n",
      "- Base Text -\n",
      "=================================================\n",
      "\n",
      "\n",
      ">>> ��Testing amateurs is morally dubious��\n",
      "\n",
      "So why isn��t\n",
      "=================================================\n",
      "\n",
      "- Annotated Text -\n",
      "=================================================\n",
      "\n",
      "\n",
      ">>> ��[[Testing]][[ am]]ateurs is morally[[ dubious]]��\n",
      "\n",
      "So[[ why]][[ isn]]�[[�]]<<t>>\n",
      "=================================================\n",
      "\n",
      "                         \n",
      "EXAMPLE 35:\n",
      "- Base Text -\n",
      "=================================================\n",
      " the mining industry in NSW, particularly in the Hunter Valley. The study is expected to be concluded in the fourth quarter of calendar 2012.\n",
      "\n",
      "11.45am: Gold miner Newcrest says volatility in global markets and financial concerns in Europe and the United States will likely support a strong gold price in the short and medium term. Newcrest is in a healthy financial position with strong profit margins and low debt, chairman Don Mercer has told the company��s annual general meeting. 11.41\n",
      "=================================================\n",
      "\n",
      "- Annotated Text -\n",
      "=================================================\n",
      " the mining industry in NSW, particularly in the Hunter Valley. The study is expected to be concluded in the fourth quarter of calendar 2012.\n",
      "\n",
      "11.45[[am]][[:]] Gold miner Newcrest says volatility in global markets and financial concerns in Europe and the United States will likely support a strong gold price in the short and medium term. Newcrest is in a healthy financial position with strong profit margins and low debt, chairman Don Mercer has told the company��s annual general meeting.[[ 11]].<<41>>\n",
      "=================================================\n",
      "\n",
      "                         \n",
      "EXAMPLE 36:\n",
      "- Base Text -\n",
      "=================================================\n",
      "half. 11.31am: GPT Group says it is on track to increase full year operating earnings by seven per cent on what the property investor says is the high quality of its portfolio. GPT says the increase in operating earnings was well above the target of the CPI plus one per cent. Total shareholder return for GPT for the rolling 12 months to 30 September 2011 was 12.7 per cent. GPT said occupancy at its retail properties was at 99.9 per cent, office occupancy was at 97.5 per cent and industrial occupancy was at 100 per cent, as of September 30. 11.25\n",
      "=================================================\n",
      "\n",
      "- Annotated Text -\n",
      "=================================================\n",
      "half. 11.31[[am]]: GPT Group says it is on track to increase full year operating earnings by seven per cent on what the property investor says is the high quality of its portfolio. GPT says the increase in operating earnings was well above the target of the CPI plus one per cent. Total shareholder return for GPT for the rolling 12 months to 30 September 2011 was 12.7 per cent. GPT said occupancy at its retail properties was at 99.9 per cent, office occupancy was at 97.5 per cent and industrial occupancy was at 100 per cent, as of September 30. 11.<<25>>\n",
      "=================================================\n",
      "\n",
      "                         \n",
      "EXAMPLE 37:\n",
      "- Base Text -\n",
      "=================================================\n",
      " existing anti-smoking ordinance, tobacco and drug paraphernalia shops were already required to ban minors from entering alone. The vote on Wednesday modified that ordinance to include businesses that sell e-cigarettes and devote more than a two foot by four foot section of shelf space for the devices.\n",
      "\n",
      "There are 124 businesses — including gas stations and convenience stores — in Oceanside that have licenses to sell\n",
      "=================================================\n",
      "\n",
      "- Annotated Text -\n",
      "=================================================\n",
      " existing anti-smoking ordinance, tobacco[[ and]] drug parap[[hern]][[alia]] shops were already required to ban minors from entering alone. The vote on Wednesday modified that ordinance to include businesses that[[ sell]][[ e]]-[[cigarettes]] and devote more than a two foot by four foot section of shelf space for the devices.\n",
      "\n",
      "There are 124 businesses — including gas stations and convenience stores — in Oceanside that have licenses to<< sell>>\n",
      "=================================================\n",
      "\n",
      "                         \n",
      "EXAMPLE 38:\n",
      "- Base Text -\n",
      "=================================================\n",
      " level\n",
      "\n",
      "Summoners can make their minotaur drop their weapon\n",
      "\n",
      "Fix projectiles in flight from actors that died using Cease to Exist\n",
      "\n",
      "Elementals are now stun/blind/confusion/knockback immune\n",
      "\n",
      "C\n",
      "=================================================\n",
      "\n",
      "- Annotated Text -\n",
      "=================================================\n",
      " level\n",
      "\n",
      "Summoners can make their minotaur drop their weapon\n",
      "\n",
      "Fix projectiles in flight from actors that died using[[ Ce]]ase to Exist\n",
      "\n",
      "Elementals are now stun/blind/confusion/knockback immune\n",
      "\n",
      "<<C>>\n",
      "=================================================\n",
      "\n",
      "                         \n",
      "EXAMPLE 39:\n",
      "- Base Text -\n",
      "=================================================\n",
      " truck ploughs into crowd of people in Nice 'Omg terrorist attack': Panicked onlooker films crowds running\n",
      "\n",
      "SHARE PICTURE\n",
      "\n",
      "Copy link to paste in your message +57 A major police operation is ongoing in Munich, around the city's Olympic Park, with the force warning people to stay in their homes and avoid public spaces as they admitted they don't know where the gunmen\n",
      "\n",
      "SHARE PICTURE\n",
      "\n",
      "Copy link to paste in your message +57 Police officers respond to a shooting at the Olympia Einkaufzentrum (\n",
      "=================================================\n",
      "\n",
      "- Annotated Text -\n",
      "=================================================\n",
      " truck ploughs into crowd of people in Nice 'Omg terrorist attack': Panicked onlooker films crowds running\n",
      "\n",
      "SHARE PICTURE\n",
      "\n",
      "Copy link to paste in your message +57 A major police operation is ongoing in Munich, around the city's Olympic Park, with the force warning people to stay in their homes and avoid public spaces as they admitted they don't know where the gunmen\n",
      "\n",
      "SHARE PICTURE\n",
      "\n",
      "Copy link to paste in your message +57 Police officers respond to a shooting at the Olympia[[ E]][[ink]]aufzent[[rum]]<< (>>\n",
      "=================================================\n",
      "\n",
      "                         \n",
      "EXAMPLE 40:\n",
      "- Base Text -\n",
      "=================================================\n",
      " have a pro-Russian government. The Germans won't be playing much of a role in the diplomatic wrangling over the next few weeks even if Chancellor Angela Merkel's summit meeting with Medvedev in Sochi on Friday does focus solely on the Georgian question. German foreign ministry state secretary Gernot Erler defended the meeting by saying Medvedev was the man to talk to on foreign policy affairs. \"Medvedev takes the decisions,\"\n",
      "=================================================\n",
      "\n",
      "- Annotated Text -\n",
      "=================================================\n",
      " have a pro-Russian government. The Germans won't be playing much of a role in the diplomatic wrangling over the next few weeks even if Chancellor Angela Merkel's summit meeting with Medvedev in Sochi on Friday does focus solely on the Georgian question. German foreign ministry state secretary Gernot[[ Er]]ler defended the meeting by saying Medvedev was the man to talk to on foreign policy affairs.[[ \"]]Medvedev takes the decisions<<,\">>\n",
      "=================================================\n",
      "\n",
      "                         \n",
      "EXAMPLE 41:\n",
      "- Base Text -\n",
      "=================================================\n",
      "4 pre-order customers offering them the chance to upgrade to the \"Mega Bundle\".\n",
      "\n",
      "ShopTo is selling the bundle, which includes a PS4, Killzone: Shadow Fall, two DualShock controllers and the new PlayStation Camera, for £449.86, just a few pence cheaper than GAME.\n",
      "\n",
      "\"ShopTo is pleased to announce that we have started sending out e-mails to the lucky customers who are eligible to swap to the PS4 'Mega Bundle',\" reads a statement on the ShopTo website. \"So keep an eye on your inbox.\n",
      "\n",
      "\"If you don't receive an\n",
      "=================================================\n",
      "\n",
      "- Annotated Text -\n",
      "=================================================\n",
      "4 pre-order customers offering them the chance to upgrade to the \"Mega Bundle\".\n",
      "\n",
      "ShopTo is selling the bundle, which includes a PS4, Killzone: Shadow Fall, two DualShock controllers and the new PlayStation Camera, for £449.86, just a few pence cheaper than GAME.\n",
      "\n",
      "\"ShopTo is pleased to announce that we have started[[ sending]] out[[ e]]-[[mails]] to the lucky customers who are eligible to swap to the PS4 'Mega[[ Bundle]]',\" reads a statement on the ShopTo website. \"So keep an eye on your inbox.\n",
      "\n",
      "\"If you don't[[ receive]]<< an>>\n",
      "=================================================\n",
      "\n",
      "                         \n",
      "EXAMPLE 42:\n",
      "- Base Text -\n",
      "=================================================\n",
      " of mycorrhizal fungi, particularly truffles. Tradd Cotter, owner of Mushroom Mountain, a mushroom farm and research laboratory in South Carolina. Tradd is author of the book Organic Mushroom Farming and Mycoremediation./td> Roy Halling, curator of mycology at the New York Botanical Garden. Roy works on mushroom systematics and mycogeography, with a particular focus on boletes. Mark Jones, CEO of Sharondale Mushroom Farm near Charlottesville, VA.\n",
      "=================================================\n",
      "\n",
      "- Annotated Text -\n",
      "=================================================\n",
      " of mycorrhizal fungi, particularly truffles. Tradd Cotter, owner of Mushroom Mountain, a mushroom farm and research laboratory in South Carolina. Tradd is author of the book Organic Mushroom Farming and Mycoremediation./td>[[ Roy]][[ Hall]]ing, curator of mycology at the New York Botanical Garden.[[ Roy]] works on mushroom systematics and mycogeography, with a particular focus on boletes.[[ Mark]] Jones, CEO of Sharondale Mushroom Farm near Charlottesville,[[ VA]]<<.>>\n",
      "=================================================\n",
      "\n",
      "                         \n",
      "EXAMPLE 43:\n",
      "- Base Text -\n",
      "=================================================\n",
      " correct values for denormals, and SCALE-FLOAT scales denormals correctly. EXT:UNIX-NAMESTRING no longer returns NIL if a directory does not exist. This was a regression from at least 18a.\n",
      "\n",
      "Trac Tickets: Ticket #90 fixed. Ticket #92 marked invalid.. Ticket #87\n",
      "=================================================\n",
      "\n",
      "- Annotated Text -\n",
      "=================================================\n",
      " correct values for denormals, and SCALE-FLOAT scales denormals correctly. EXT:UNIX-NAMESTRING no longer returns NIL if a directory does not exist. This was a regression from at least 18a.\n",
      "\n",
      "Trac Tickets: Ticket[[ #]]90 fixed. Ticket[[ #]][[92]][[ marked]] invalid.. Ticket[[ #]]<<87>>\n",
      "=================================================\n",
      "\n",
      "                         \n",
      "EXAMPLE 44:\n",
      "- Base Text -\n",
      "=================================================\n",
      " correct values for denormals, and SCALE-FLOAT scales denormals correctly. EXT:UNIX-NAMESTRING no longer returns NIL if a directory does not exist. This was a regression from at least 18a.\n",
      "\n",
      "Trac Tickets: Ticket #90 fixed. Ticket #92 marked invalid.. Ticket #87 fixed. Ticket #94\n",
      "=================================================\n",
      "\n",
      "- Annotated Text -\n",
      "=================================================\n",
      " correct values for denormals, and SCALE-FLOAT scales denormals correctly. EXT:UNIX-NAMESTRING no longer returns NIL if a directory does not exist. This was a regression from at least 18a.\n",
      "\n",
      "Trac Tickets: Ticket[[ #]]90 fixed. Ticket[[ #]][[92]][[ marked]] invalid.. Ticket #87 fixed. Ticket[[ #]]<<94>>\n",
      "=================================================\n",
      "\n",
      "                         \n",
      "EXAMPLE 45:\n",
      "- Base Text -\n",
      "=================================================\n",
      " correct values for denormals, and SCALE-FLOAT scales denormals correctly. EXT:UNIX-NAMESTRING no longer returns NIL if a directory does not exist. This was a regression from at least 18a.\n",
      "\n",
      "Trac Tickets: Ticket #90 fixed. Ticket #92 marked invalid.. Ticket #87 fixed. Ticket #94 fixed. Ticket #93 fixed. Ticket #98\n",
      "=================================================\n",
      "\n",
      "- Annotated Text -\n",
      "=================================================\n",
      " correct values for denormals, and SCALE-FLOAT scales denormals correctly. EXT:UNIX-NAMESTRING no longer returns NIL if a directory does not exist. This was a regression from at least 18a.\n",
      "\n",
      "Trac Tickets: Ticket[[ #]]90 fixed. Ticket[[ #]][[92]][[ marked]] invalid.. Ticket #87 fixed. Ticket #94 fixed. Ticket #93 fixed. Ticket[[ #]]<<98>>\n",
      "=================================================\n",
      "\n",
      "                         \n",
      "EXAMPLE 46:\n",
      "- Base Text -\n",
      "=================================================\n",
      "OPP) says the moose has now moved away from the highway and OPP have cleared the scene. York regional police and Ministry of Natural Resources officers remain on scene and are monitoring the situation.\n",
      "\n",
      "No injuries have been reported.\n",
      "\n",
      "The mayor of Markham tweeted asking people to be cautious and respectful.\n",
      "\n",
      "Please be cautious and on the lookout for #MooseOnTheLoose in our city, drive carefully, do not approach and let the experts handle this. @YRP @OPP_HSD @ONresources Hopefully this ends safely for all, including the moose. — Mayor\n",
      "=================================================\n",
      "\n",
      "- Annotated Text -\n",
      "=================================================\n",
      "OPP) says the moose has now moved away from the highway and OPP have cleared the scene. York regional police and Ministry of Natural Resources officers remain on scene and are monitoring the situation.\n",
      "\n",
      "No injuries have been reported.\n",
      "\n",
      "The mayor of[[ Mark]]ham tweeted asking people to be cautious and respectful.\n",
      "\n",
      "Please be cautious and on the lookout for #MooseOnTheLoose in our city, drive carefully, do not approach and let the experts handle this. @YRP @OPP_HSD @ONresources Hopefully this ends safely for all, including the moose. —<< Mayor>>\n",
      "=================================================\n",
      "\n",
      "                         \n",
      "EXAMPLE 47:\n",
      "- Base Text -\n",
      "=================================================\n",
      "—and you're really thirsty. If you decide not to open the packet, your dog sinks his teeth into it. Now your cute little poodle has become a ferocious vampire dog! Can you save your pooch before he bites off more than he can chew?\n",
      "\n",
      "16 Secret Agent Grandma April 1997 131 Will the Real Grandma Please Stay Alive! Your parents are going away so your super-cool grandma is coming to stay with you. But when you go to meet\n",
      "=================================================\n",
      "\n",
      "- Annotated Text -\n",
      "=================================================\n",
      "—and you're really thirsty. If you decide not to open the packet, your dog sinks his teeth into it. Now your cute little poodle has become a ferocious vampire dog! Can you save your pooch before he bites off more than he can chew?\n",
      "\n",
      "16 Secret Agent Grandma April 1997 131 Will the Real Grandma Please Stay Alive! Your parents are going away so your super-cool[[ grandma]] is[[ coming]][[ to]] stay with you. But when you go to<< meet>>\n",
      "=================================================\n",
      "\n",
      "                         \n",
      "EXAMPLE 48:\n",
      "- Base Text -\n",
      "=================================================\n",
      " is sung. Even the mutant in the Mutant Enemy trademark at the very end of the credits sings. That name, by the way, comes from a line in the song ��And You, And I�� by Yes.\n",
      "\n",
      "18. Vera Wang designed Buffy��s wedding dress in ��The Prom��, as well as the dress that Sarah Michelle Gellar wore to\n",
      "=================================================\n",
      "\n",
      "- Annotated Text -\n",
      "=================================================\n",
      " is sung. Even the mutant in the Mutant Enemy trademark at the very end of the credits sings. That name, by the way, comes from a line in the song ��And You, And I�� by Yes.\n",
      "\n",
      "18. Vera Wang designed Buffy��s wedding dress in ��The Prom��, as well as the[[ dress]][[ that]] Sarah Michelle G[[ellar]] wore<< to>>\n",
      "=================================================\n",
      "\n",
      "                         \n",
      "EXAMPLE 49:\n",
      "- Base Text -\n",
      "=================================================\n",
      "ling panda. The different spot patterns may be a reference to red pandas, which also have their own unique facial markings.\n",
      "\n",
      "Name origin\n",
      "\n",
      "Spinda is a combination of spin (referring to its twirly eyes and ears and dizzy-seeming movement) and panda.\n",
      "\n",
      "Patcheel may be a combination of patch (referring to its appearance) and reel (to stagger, as from dizziness).\n",
      "\n",
      "In other languages\n",
      "\n",
      "Language Title Meaning Japanese ��ッチール Patcheel From patch and reel French Spinda Same as English name\n",
      "=================================================\n",
      "\n",
      "- Annotated Text -\n",
      "=================================================\n",
      "ling panda. The different spot patterns may be a reference to red pandas, which also have their own unique facial markings.\n",
      "\n",
      "[[Name]][[ origin]]\n",
      "\n",
      "Spinda is a combination of spin (referring to its twirly eyes and ears and dizzy-seeming movement) and panda.\n",
      "\n",
      "Patcheel may be a combination of patch (referring to its appearance) and reel (to stagger, as from dizziness).\n",
      "\n",
      "In other languages\n",
      "\n",
      "Language Title Meaning[[ Japanese]] ��ッチール Patcheel From patch and reel[[ French]] Spinda Same as English<< name>>\n",
      "=================================================\n",
      "\n",
      "                         \n",
      "EXAMPLE 50:\n",
      "- Base Text -\n",
      "=================================================\n",
      "—and you're really thirsty. If you decide not to open the packet, your dog sinks his teeth into it. Now your cute little poodle has become a ferocious vampire dog! Can you save your pooch before he bites off more than he can chew?\n",
      "\n",
      "16 Secret Agent Grandma April 1997 131 Will the Real Grandma Please Stay Alive! Your parents are going away so your super-cool grandma is coming to stay with you. But when\n",
      "=================================================\n",
      "\n",
      "- Annotated Text -\n",
      "=================================================\n",
      "—and you're really thirsty. If you decide not to open the packet, your dog sinks his teeth into it. Now your cute little poodle has become a ferocious vampire dog! Can you save your pooch before he bites off more than he can chew?\n",
      "\n",
      "16 Secret Agent Grandma April 1997 131 Will the Real Grandma Please Stay Alive! Your parents are going away so your super-cool grandma is coming to stay with you. But<< when>>\n",
      "=================================================\n",
      "\n",
      "                         \n",
      "EXAMPLE 51:\n",
      "- Base Text -\n",
      "=================================================\n",
      " is sung. Even the mutant in the Mutant Enemy trademark at the very end of the credits sings. That name, by the way, comes from a line in the song ��And You, And I�� by Yes.\n",
      "\n",
      "18. Vera Wang designed Buffy��s wedding dress in ��The Prom��, as well as the dress that Sarah Michelle Gellar wore to her\n",
      "=================================================\n",
      "\n",
      "- Annotated Text -\n",
      "=================================================\n",
      " is sung. Even the mutant in the Mutant Enemy trademark at the very end of the credits sings. That name, by the way, comes from a line in the song ��And You, And I�� by Yes.\n",
      "\n",
      "18. Vera Wang designed Buffy��s wedding dress in ��The Prom��, as well as the[[ dress]][[ that]] Sarah Michelle G[[ellar]] wore[[ to]]<< her>>\n",
      "=================================================\n",
      "\n",
      "                         \n",
      "EXAMPLE 52:\n",
      "- Base Text -\n",
      "=================================================\n",
      " 10 ]. When taken concomitantly, St. John's wort can render many medications less effective; the clinical consequences of which may be severe [ 11 , 12 ]. The phytochemical culprit underlying St.\n",
      "=================================================\n",
      "\n",
      "- Annotated Text -\n",
      "=================================================\n",
      " 10 ]. When taken concomitantly, St.[[ John]]'s wort can render many medications less effective; the clinical consequences of which may be severe [ 11 , 12 ]. The phytochemical culprit[[ underlying]] St<<.>>\n",
      "=================================================\n",
      "\n",
      "                         \n",
      "EXAMPLE 53:\n",
      "- Base Text -\n",
      "=================================================\n",
      " 10 ]. When taken concomitantly, St. John's wort can render many medications less effective; the clinical consequences of which may be severe [ 11 , 12 ]. The phytochemical culprit underlying St\n",
      "=================================================\n",
      "\n",
      "- Annotated Text -\n",
      "=================================================\n",
      " 10 ]. When taken concomitantly,[[ St]].[[ John]]'s wort can render many medications less effective; the clinical consequences of which may be severe [ 11 , 12 ]. The phytochemical culprit underlying<< St>>\n",
      "=================================================\n",
      "\n",
      "                         \n",
      "EXAMPLE 54:\n",
      "- Base Text -\n",
      "=================================================\n",
      ". In this study we describe the effects of six top-selling botanical supplements (black cohosh, Echinacea, goldenseal, kava kava, milk thistle, and St. John's wort) on the activity of human CYP2D6 in vivo using a validated phenotyping technique, the debrisoquine urinary recovery ratio (DURR) [ 32 , 44 - 47 ].\n",
      "\n",
      "To date, the most recognized botanical supplement associated with CYP450-mediated herb-drug interactions is St\n",
      "=================================================\n",
      "\n",
      "- Annotated Text -\n",
      "=================================================\n",
      ". In this study we describe the effects of six top-selling botanical supplements (black cohosh, Echinacea, goldenseal, kava kava, milk thistle, and[[ St]].[[ John]]'s wort) on the activity of human CYP2D6 in vivo using a validated phenotyping technique, the debrisoquine urinary recovery ratio (DURR) [ 32 , 44 - 47 ].\n",
      "\n",
      "To date, the most recognized botanical supplement associated with CYP450-mediated herb-drug interactions is<< St>>\n",
      "=================================================\n",
      "\n",
      "                         \n",
      "EXAMPLE 55:\n",
      "- Base Text -\n",
      "=================================================\n",
      "rd06.prod.outlook.com ([10.162.224.139]) by BLUPR06MB1729.namprd06.prod.outlook.com ([10.162.224.139]) with mapi id 15.01.0427.019; Sat, 5 Mar 2016 17:05:29 +0000 From: Josh Fidler <JOSH@chesapeakerealtypartners.com> To: \"john.podesta@gmail.com\" <\n",
      "=================================================\n",
      "\n",
      "- Annotated Text -\n",
      "=================================================\n",
      "rd06.prod.outlook.com ([10.162.224.139]) by BLUPR06MB1729.namprd06.prod.outlook.com ([10.162.224.139]) with mapi id 15.01.0427.019; Sat, 5 Mar 2016 17:05:29 +0000 From: Josh Fidler <JOSH@chesapeakerealtypartners.com> To: \"[[john]].podesta@gmail.com\"<< <>>\n",
      "=================================================\n",
      "\n",
      "                         \n",
      "EXAMPLE 56:\n",
      "- Base Text -\n",
      "=================================================\n",
      " dopers.\n",
      "\n",
      "Even if we halve those odds, three-quarters of races will contain one doper. This may be merely theoretical extrapolation, but it paints a troubling picture nonetheless.\n",
      "\n",
      "We asked UKAD��s director of operations Pat Myhill for his reaction to our survey��s prevalence figures:\n",
      "\n",
      "��There have been lots of studies and speculation on this matter, but actual prevalence is difficult to establish. Does your survey surprise me? Not particularly, no.��\n",
      "\n",
      "\n",
      "=================================================\n",
      "\n",
      "- Annotated Text -\n",
      "=================================================\n",
      " dopers.\n",
      "\n",
      "Even if we halve those odds, three-quarters of races will contain one doper. This may be merely theoretical extrapolation, but it paints a troubling picture nonetheless.\n",
      "\n",
      "We asked UKAD��s director of operations Pat[[ My]]hill for his reaction to our survey��s prevalence figures:\n",
      "\n",
      "��There have been lots of studies and speculation on this matter, but actual prevalence is difficult to establish. Does your survey surprise me? Not[[ particularly]], no.�[[�]][[\n",
      "]]<<\n",
      ">>\n",
      "=================================================\n",
      "\n",
      "                         \n",
      "EXAMPLE 57:\n",
      "- Base Text -\n",
      "=================================================\n",
      " and competing.\n",
      "\n",
      "And I, for one, am looking forward to watching them do it.<|endoftext|>Advertisement Men accused of threatening Pokemon championships in court Kevin Norton, James Stumbo, both of Iowa, held on bail Share Shares Copy Link Copy\n",
      "\n",
      "Two Iowa men charged with threatening violence at a Pokemon competition in Boston were ordered held Tuesday on $150,000 bail.Kevin Norton, 18, of Ames, and\n",
      "=================================================\n",
      "\n",
      "- Annotated Text -\n",
      "=================================================\n",
      " and competing.\n",
      "\n",
      "And I, for one, am looking forward to watching them do it.<|endoftext|>Advertisement Men accused of threatening[[ Pokemon]] championships in court[[ Kevin]][[ Norton]],[[ James]] Stumbo, both of Iowa, held on bail Share Shares Copy Link Copy\n",
      "\n",
      "Two Iowa[[ men]] charged with threatening violence at a Pokemon competition in Boston were ordered held Tuesday on $150,000 bail[[.]][[Kevin]][[ Norton]][[,]][[ 18]],[[ of]] Ames[[,]]<< and>>\n",
      "=================================================\n",
      "\n",
      "                         \n",
      "EXAMPLE 58:\n",
      "- Base Text -\n",
      "=================================================\n",
      "storm we've got to kind of weather it, weather the storm, and I don't think we did a good job of that tonight.\"\n",
      "\n",
      "Deja vu in the fourth quarter.\n",
      "\n",
      "James usually rests at some point in the third so he can recharge before starting the fourth. But out of necessity -- and because of his stellar play --\n",
      "=================================================\n",
      "\n",
      "- Annotated Text -\n",
      "=================================================\n",
      "storm we've got to kind of weather it, weather the storm, and I don't think we did a good job of that tonight.\"\n",
      "\n",
      "Deja vu in the fourth quarter.\n",
      "\n",
      "[[James]] usually rests at some point in the third so he can recharge before starting the fourth. But out of[[ necessity]] -- and[[ because]][[ of]][[ his]] stellar play<< -->>\n",
      "=================================================\n",
      "\n",
      "                         \n",
      "EXAMPLE 59:\n",
      "- Base Text -\n",
      "=================================================\n",
      " lineup we had at the end of the third, we had it flowing. We had the ball moving, Channing was knocking down shots, I was getting to the lane creating for others and we had a great end of that quarter. That's the feel of the game T-Lue had right there and it was the right call, going up seven to end the quarter. Obviously I needed to take a break.\"\n",
      "\n",
      "James earned it. He engineered a 22-5 eruption in the final seven minutes of the third period. During that stretch, he scored or assisted on 17 of the team's 22 points. It looked like\n",
      "=================================================\n",
      "\n",
      "- Annotated Text -\n",
      "=================================================\n",
      " lineup we had at the end of the third, we had it flowing. We had the ball moving, Channing was knocking down shots, I was getting to the lane creating for others and we had a great end of that quarter. That's the feel of the game T-Lue had right there and it was the right call, going up seven to end the quarter. Obviously I needed to take a break.\"\n",
      "\n",
      "[[James]] earned it. He engineered a 22-5 eruption in the final seven minutes of the third period. During that stretch, he scored or assisted on 17 of the team's 22 points.[[ It]][[ looked]]<< like>>\n",
      "=================================================\n",
      "\n",
      "                         \n",
      "EXAMPLE 60:\n",
      "- Base Text -\n",
      "=================================================\n",
      "storm we've got to kind of weather it, weather the storm, and I don't think we did a good job of that tonight.\"\n",
      "\n",
      "Deja vu in the fourth quarter.\n",
      "\n",
      "James usually rests at some point in the third so he can recharge before starting the fourth. But out of necessity -- and because\n",
      "=================================================\n",
      "\n",
      "- Annotated Text -\n",
      "=================================================\n",
      "storm we've got to kind of weather it, weather the storm, and I don't think we did a good job of that tonight.\"\n",
      "\n",
      "Deja vu in the fourth quarter.\n",
      "\n",
      "[[James]] usually rests at some point in the third so he can recharge before starting the fourth. But out of necessity -- and<< because>>\n",
      "=================================================\n",
      "\n",
      "                         \n",
      "EXAMPLE 61:\n",
      "- Base Text -\n",
      "=================================================\n",
      "storm we've got to kind of weather it, weather the storm, and I don't think we did a good job of that tonight.\"\n",
      "\n",
      "Deja vu in the fourth quarter.\n",
      "\n",
      "James usually rests at some point in the third so he can recharge before starting the fourth. But out of necessity -- and because of his stellar play -- James went the distance in the third, scoring six points and dishing out five (four to Channing Frye) of his game-high 10 assists.\n",
      "\n",
      "\"I just think it was the flow of the game tonight,\"\n",
      "=================================================\n",
      "\n",
      "- Annotated Text -\n",
      "=================================================\n",
      "storm we've got to kind of weather it, weather the storm, and I don't think we did a good job of that tonight.\"\n",
      "\n",
      "Deja vu in the fourth quarter.\n",
      "\n",
      "[[James]] usually rests at some point in the third so he can recharge before starting the fourth. But out of necessity -- and because of his stellar play -- James went the distance in the third, scoring six points and dishing out five (four to Channing Frye) of his game-high 10 assists.\n",
      "\n",
      "\"I just think it was the flow of the game tonight<<,\">>\n",
      "=================================================\n",
      "\n",
      "                         \n",
      "EXAMPLE 62:\n",
      "- Base Text -\n",
      "=================================================\n",
      "icTalk is on Apple News. Favorite us!\n",
      "\n",
      "MORE: 100 Olympic storylines 100 days out from PyeongChang<|endoftext|>Though Florida Governor Rick Scott has recently said he won't privatize state prison operations (something he considered early in his term, which received flak after it was revealed that the conservative's election campaign received $30,000 in contributions from both Corrections Corporation of America and GEO Group), his administration has pushed forward with plans to privatize healthcare services in state prisons and he recently recommended that 14 of the state's publicly operated work release centers should also go to private contractors.\n",
      "\n",
      "Gov.\n",
      "=================================================\n",
      "\n",
      "- Annotated Text -\n",
      "=================================================\n",
      "icTalk is on Apple News. Favorite us!\n",
      "\n",
      "MORE: 100 Olympic storylines 100 days out from PyeongChang<|endoftext|>Though Florida Governor Rick[[ Scott]] has recently said he won't privatize state prison operations (something he considered early in his term, which received flak after it was revealed that the conservative's election campaign received $30,000 in contributions from both Corrections Corporation of America and GEO Group), his administration has pushed forward with plans to privatize healthcare services in state prisons and he recently recommended that 14 of the state's publicly operated work release centers should also go to private contractors.\n",
      "\n",
      "[[Gov]]<<.>>\n",
      "=================================================\n",
      "\n",
      "                         \n",
      "EXAMPLE 63:\n",
      "- Base Text -\n",
      "=================================================\n",
      "icTalk is on Apple News. Favorite us!\n",
      "\n",
      "MORE: 100 Olympic storylines 100 days out from PyeongChang<|endoftext|>Though Florida Governor Rick Scott has recently said he won't privatize state prison operations (something he considered early in his term, which received flak after it was revealed that the conservative's election campaign received $30,000 in contributions from both Corrections Corporation of America and GEO Group), his administration has pushed forward with plans to privatize healthcare services in state prisons and he recently recommended that 14 of the state's publicly operated work release centers should also go to private contractors.\n",
      "\n",
      "Gov\n",
      "=================================================\n",
      "\n",
      "- Annotated Text -\n",
      "=================================================\n",
      "icTalk is on Apple News. Favorite us!\n",
      "\n",
      "MORE: 100 Olympic storylines 100 days out from PyeongChang<|endoftext|>Though Florida Governor Rick[[ Scott]] has recently said he won't privatize state prison operations (something he considered early in his term, which received flak after it was revealed that the conservative's election campaign received $30,000 in contributions from both Corrections Corporation of America and GEO Group), his administration has pushed forward with plans to privatize healthcare services in state prisons and he recently recommended that 14 of the state's publicly operated work release centers should also go to private contractors.\n",
      "\n",
      "<<Gov>>\n",
      "=================================================\n",
      "\n",
      "                         \n",
      "EXAMPLE 64:\n",
      "- Base Text -\n",
      "=================================================\n",
      "icTalk is on Apple News. Favorite us!\n",
      "\n",
      "MORE: 100 Olympic storylines 100 days out from PyeongChang<|endoftext|>Though Florida Governor Rick Scott has recently said he won't privatize state prison operations (something\n",
      "=================================================\n",
      "\n",
      "- Annotated Text -\n",
      "=================================================\n",
      "icTalk is on Apple News. Favorite us!\n",
      "\n",
      "MORE: 100 Olympic storylines 100 days out from PyeongChang<|endoftext|>Though Florida Governor Rick[[ Scott]] has recently said he won't privatize state prison operations (<<something>>\n",
      "=================================================\n",
      "\n",
      "                         \n",
      "EXAMPLE 65:\n",
      "- Base Text -\n",
      "=================================================\n",
      "icTalk is on Apple News. Favorite us!\n",
      "\n",
      "MORE: 100 Olympic storylines 100 days out from PyeongChang<|endoftext|>Though Florida Governor Rick Scott has recently said he won't privatize state prison operations (something he considered early in his term, which received flak after it was revealed that the conservative's election campaign received $30,000 in contributions from both Corrections Corporation of America and GEO Group), his administration has pushed forward with plans to privatize healthcare services in state prisons and he recently recommended that 14 of the state's publicly operated work release centers should also go to private contractors.\n",
      "\n",
      "\n",
      "=================================================\n",
      "\n",
      "- Annotated Text -\n",
      "=================================================\n",
      "icTalk is on Apple News. Favorite us!\n",
      "\n",
      "MORE: 100 Olympic storylines 100 days out from PyeongChang[[<|endoftext|>]]Though Florida Governor Rick[[ Scott]] has recently said he won't privatize state prison operations (something he considered early in his term, which received flak after it was revealed that the conservative's election campaign received $30,000 in contributions from both Corrections Corporation of America and GEO Group), his administration has pushed forward with plans to privatize healthcare services in state prisons and he recently recommended that 14 of the state's publicly operated work release centers should also go to private contractors.\n",
      "<<\n",
      ">>\n",
      "=================================================\n",
      "\n",
      "                         \n",
      "EXAMPLE 66:\n",
      "- Base Text -\n",
      "=================================================\n",
      "icTalk is on Apple News. Favorite us!\n",
      "\n",
      "MORE: 100 Olympic storylines 100 days out from PyeongChang<|endoftext|>Though Florida Governor Rick Scott has recently said he won't privatize state prison operations (something he considered early in his term, which received flak after it was revealed that\n",
      "=================================================\n",
      "\n",
      "- Annotated Text -\n",
      "=================================================\n",
      "icTalk is on Apple News. Favorite us!\n",
      "\n",
      "MORE: 100 Olympic storylines 100 days out from PyeongChang<|endoftext|>Though Florida Governor Rick[[ Scott]] has recently said he won't privatize state prison operations (something he considered[[ early]][[ in]] his[[ term]], which received flak after it was revealed<< that>>\n",
      "=================================================\n",
      "\n",
      "                         \n",
      "EXAMPLE 67:\n",
      "- Base Text -\n",
      "=================================================\n",
      " of the highlights:<|endoftext|>The Prix Goncourt was awarded on Monday by the 10 members of the Academy Goncourt in Paris to Eric Vuillard for having written the best French-language prose work of the preceding year.\n",
      "\n",
      "\n",
      "=================================================\n",
      "\n",
      "- Annotated Text -\n",
      "=================================================\n",
      " of the highlights:[[<|endoftext|>]]The Prix Goncourt was awarded on[[ Monday]] by the 10 members of the Academy Goncourt in Paris to[[ Eric]] Vuillard for having written the best French-language prose work of the preceding year.\n",
      "<<\n",
      ">>\n",
      "=================================================\n",
      "\n",
      "                         \n",
      "EXAMPLE 68:\n",
      "- Base Text -\n",
      "=================================================\n",
      " of the highlights:<|endoftext|>The Prix Goncourt was awarded on Monday by the 10 members of the Academy Goncourt in Paris to Eric Vuillard for having written the best French-language prose work of the preceding year.\n",
      "=================================================\n",
      "\n",
      "- Annotated Text -\n",
      "=================================================\n",
      " of the highlights:<|endoftext|>[[The]][[ Prix]] Goncourt was[[ awarded]] on Monday by the 10 members of the Academy Goncourt in Paris[[ to]][[ Eric]] Vuillard for having written the best French-language prose work of the preceding[[ year]]<<.>>\n",
      "=================================================\n",
      "\n",
      "                         \n",
      "EXAMPLE 69:\n",
      "- Base Text -\n",
      "=================================================\n",
      "ville's life produced. Veronique Olmi's novel \"Bakhita\" tells the story of a 19th-century slave who becomes a nun in Italy. And the fourth finalist, Alice Zeniter, tells the story of a family's tangled, silent history between France and Algeria in \"L'Art de perdre\" (The art of loss).\n",
      "\n",
      "Yannick Haenel, Veronique Olmi, Eric Vuillard and Alice Zeniter were the four finalists for the Prix Goncourt 2017\n",
      "\n",
      "In 2016, French-Moroccan author\n",
      "=================================================\n",
      "\n",
      "- Annotated Text -\n",
      "=================================================\n",
      "ville's life produced. Veronique Olmi's novel \"Bakhita\" tells the story of a 19th-century slave who becomes a nun in Italy. And the fourth finalist, Alice Zeniter, tells the story of a family's tangled, silent history between France and Algeria in \"L'Art de perdre\" (The art of loss).\n",
      "\n",
      "Yannick Haenel, Veronique Olmi,[[ Eric]] Vuillard and Alice Zeniter were the four finalists for the Prix Goncourt 2017\n",
      "\n",
      "In 2016, French-Moroccan<< author>>\n",
      "=================================================\n",
      "\n",
      "                         \n",
      "EXAMPLE 70:\n",
      "- Base Text -\n",
      "=================================================\n",
      " ��Marilyn Monroe�� feel. It is a floor length halter dress made with flowing chiffon, and has a lace midriff that is also available in black. This dress can be flattering on thin or curvy figures. Style # 6532:\n",
      "\n",
      "Designed by Dessy Bridesmaids, style # 2721. The great thing about this dress is that it��s available in several different colors, including over 50 options for the sash color. This makes it easy to coordinate with your wedding color scheme.\n",
      "=================================================\n",
      "\n",
      "- Annotated Text -\n",
      "=================================================\n",
      " ��Marilyn Monroe�� feel. It is a floor length halter dress made with flowing chiffon, and has a lace midriff that is also available in black. This dress can be flattering on thin or curvy figures.[[ Style]][[ #]][[ 65]]32:\n",
      "\n",
      "Designed by Dessy Bridesmaids, style # 2721. The great[[ thing]] about this dress is that it��s available in several different colors, including over 50 options for the sash color.[[ This]] makes it easy to coordinate with your wedding color scheme<<.>>\n",
      "=================================================\n",
      "\n",
      "                         \n",
      "EXAMPLE 71:\n",
      "- Base Text -\n",
      "=================================================\n",
      " ��Marilyn Monroe�� feel. It is a floor length halter dress made with flowing chiffon, and has a lace midriff that is also available in black. This dress can be flattering on thin or curvy figures. Style # 6532:\n",
      "\n",
      "Designed by Dessy Bridesmaids, style # 2721. The great thing about this dress is that it��s available in several different colors, including over 50 options for the sash color.\n",
      "=================================================\n",
      "\n",
      "- Annotated Text -\n",
      "=================================================\n",
      " ��Marilyn Monroe�� feel. It is a floor length halter dress made with flowing chiffon, and has a lace midriff that is also available in black. This dress can be flattering on thin or curvy figures.[[ Style]][[ #]] 6532:\n",
      "\n",
      "Designed by Dessy Bridesmaids, style # 2721. The great thing about this dress is that it��s available in several different colors, including over 50 options for the sash color<<.>>\n",
      "=================================================\n",
      "\n",
      "                         \n",
      "EXAMPLE 72:\n",
      "- Base Text -\n",
      "=================================================\n",
      " custody documents, Johnson is accused of taking her son against his will. A September 11, 1991 affidavit signed by Daniel says that two days earlier, Johnson took him from elementary school ��against my will and made me go to her home.��\n",
      "\n",
      "An affidavit signed by Johnson��s mother claimed that Johnson took Daniel from school ��forcefully and without my permission.��\n",
      "\n",
      "Immediately after the school incident, documented by Moore��s office, Cofield was granted temporary custody of\n",
      "=================================================\n",
      "\n",
      "- Annotated Text -\n",
      "=================================================\n",
      "[[ custody]] documents, Johnson is accused of taking her[[ son]] against his will. A September 11, 1991 affidavit signed by Daniel says that two days earlier, Johnson took him from elementary school ��against my will and made me go to her home.��\n",
      "\n",
      "An affidavit signed by Johnson��s mother claimed that Johnson took[[ Daniel]] from school ��forcefully and without my permission.��\n",
      "\n",
      "Immediately after the school incident, documented by Moore��s office, Cofield was granted temporary[[ custody]]<< of>>\n",
      "=================================================\n",
      "\n",
      "                         \n",
      "EXAMPLE 73:\n",
      "- Base Text -\n",
      "=================================================\n",
      " Daniel began shouting that there was a 4th time he was on the stage and that was when it happened. We went back and watched the footage we have of the Lamb of God three song encore and found nothing. That doesn��t mean Daniel never was on stage a fourth time, it just means the footage we have didn't capture it as there are a few moments where\n",
      "=================================================\n",
      "\n",
      "- Annotated Text -\n",
      "=================================================\n",
      " Daniel began shouting that[[ there]][[ was]] a 4th time he was[[ on]][[ the]] stage and that was when it happened. We went back and watched the footage we have of the Lamb of God three song encore and found nothing. That doesn��t mean[[ Daniel]] never was[[ on]] stage a fourth time, it just means the footage we have didn't capture it[[ as]][[ there]][[ are]][[ a]] few moments<< where>>\n",
      "=================================================\n",
      "\n",
      "                         \n",
      "EXAMPLE 74:\n",
      "- Base Text -\n",
      "=================================================\n",
      " this case, we were under the assumption that Randy most likely pushed a kid off the stage and due to a bad fall, ended up in a coma. Fans in attendance have always stated that Daniel was on stage three times. We found three instances of Daniel on stage and Randy barely lays a finger on him. We also showed that a security guard hired by the venue threw Daniel head first into the ground with a lot of force the third time he got on the stage. The video shows Daniel stagger a bit, get up and pass by the camera with a large gash in his head.Following the release of the footage, friends of\n",
      "=================================================\n",
      "\n",
      "- Annotated Text -\n",
      "=================================================\n",
      " this case, we were under the assumption that Randy most likely pushed a kid off the stage and due to a bad fall, ended up in a coma. Fans in attendance have always stated[[ that]][[ Daniel]][[ was]] on stage three times. We found three instances of Daniel on stage and Randy barely lays a finger on him. We also showed that a security guard hired by the venue threw Daniel head first into the ground with a lot of force the third time he got on the stage. The video shows Daniel stagger a bit, get up and pass by the camera with a large gash in his head.Following the release[[ of]] the footage,[[ friends]]<< of>>\n",
      "=================================================\n",
      "\n",
      "                         \n",
      "EXAMPLE 75:\n",
      "- Base Text -\n",
      "=================================================\n",
      " Daniel began shouting that there was a 4th time he was on the stage and that was when it happened.\n",
      "=================================================\n",
      "\n",
      "- Annotated Text -\n",
      "=================================================\n",
      "[[ Daniel]] began shouting that there was a 4th time he was on the stage and[[ that]] was[[ when]] it[[ happened]]<<.>>\n",
      "=================================================\n",
      "\n",
      "                         \n",
      "EXAMPLE 76:\n",
      "- Base Text -\n",
      "=================================================\n",
      " this case, we were under the assumption that Randy most likely pushed a kid off the stage and due to a bad fall, ended up in a coma. Fans in attendance have always stated that Daniel was on stage three times. We found three instances of Daniel on stage and Randy barely lays a finger on him. We also showed that\n",
      "=================================================\n",
      "\n",
      "- Annotated Text -\n",
      "=================================================\n",
      " this case, we were under the[[ assumption]] that Randy[[ most]] likely[[ pushed]] a kid off the stage and due to a bad fall, ended up in a coma. Fans in attendance have always stated[[ that]][[ Daniel]][[ was]] on stage three times. We found three instances of Daniel on stage and Randy barely lays a finger on him. We also showed<< that>>\n",
      "=================================================\n",
      "\n",
      "                         \n",
      "EXAMPLE 77:\n",
      "- Base Text -\n",
      "=================================================\n",
      " Jesse needs someone to look up to, but the Season 4 finale left more questions than answers for the pair.\n",
      "\n",
      "Walter has consistently betrayed Jesse throughout the series, and the shocking end to Season 4 proved just that, as we found out that it was Walt who poisoned Brock (Ian Posada). Jesse may not know the truth yet, but how does actor Aaron Paul feel about Walter's betrayal?\n",
      "\n",
      "\"\n",
      "=================================================\n",
      "\n",
      "- Annotated Text -\n",
      "=================================================\n",
      " Jesse needs someone to look up to, but the Season 4 finale left more questions than answers for the pair.\n",
      "\n",
      "Walter has consistently betrayed Jesse throughout the series, and the shocking end to Season 4 proved just that, as we found out that it was Walt who poisoned Brock (Ian Posada). Jesse may not know the truth yet, but how does actor[[ Aaron]] Paul feel about Walter's betrayal?\n",
      "\n",
      "<<\">>\n",
      "=================================================\n",
      "\n",
      "                         \n",
      "EXAMPLE 78:\n",
      "- Base Text -\n",
      "=================================================\n",
      " on behalf of Johnson��s mother, Cofield.\n",
      "\n",
      "Numerous attempts to reach Johnson for comment were unsuccessful.\n",
      "\n",
      "Moore has strenuously denied the numerous accusations against him.\n",
      "\n",
      "Aaron Klein is Breitbart��s Jerusalem bureau chief and senior investigative reporter. He is a New York Times bestselling author and hosts the popular weekend talk radio program, Aaron Klein Investigative Radio. Follow him on Twitter @\n",
      "=================================================\n",
      "\n",
      "- Annotated Text -\n",
      "=================================================\n",
      " on behalf of Johnson��s mother, Cofield.\n",
      "\n",
      "Numerous attempts to reach Johnson for comment were unsuccessful.\n",
      "\n",
      "Moore has strenuously denied the numerous accusations against him.\n",
      "\n",
      "[[Aaron]] Klein is Breitbart��s Jerusalem bureau chief and senior investigative reporter. He is a New York Times bestselling author and hosts the popular weekend talk radio program, Aaron Klein Investigative Radio. Follow him on Twitter<< @>>\n",
      "=================================================\n",
      "\n",
      "                         \n",
      "EXAMPLE 79:\n",
      "- Base Text -\n",
      "=================================================\n",
      " on behalf of Johnson��s mother, Cofield.\n",
      "\n",
      "Numerous attempts to reach Johnson for comment were unsuccessful.\n",
      "\n",
      "Moore has strenuously denied the numerous accusations against him.\n",
      "\n",
      "Aaron Klein is Breitbart��s Jerusalem bureau chief and senior investigative reporter. He is a New York Times bestselling author and hosts the popular weekend talk radio program, Aaron Klein Investigative Radio. Follow\n",
      "=================================================\n",
      "\n",
      "- Annotated Text -\n",
      "=================================================\n",
      " on behalf of Johnson��s mother, Cofield.\n",
      "\n",
      "Numerous attempts to reach Johnson for comment were unsuccessful.\n",
      "\n",
      "Moore has strenuously denied the numerous accusations against him.\n",
      "\n",
      "[[Aaron]] Klein is Breitbart��s Jerusalem bureau chief and senior investigative reporter. He is a New York Times bestselling author and hosts the popular weekend talk radio program, Aaron Klein Investigative Radio.<< Follow>>\n",
      "=================================================\n",
      "\n",
      "                         \n",
      "EXAMPLE 80:\n",
      "- Base Text -\n",
      "=================================================\n",
      " Jesse needs someone to look up to, but the Season 4 finale left more questions than answers for the pair.\n",
      "\n",
      "Walter has consistently betrayed Jesse throughout the series, and the shocking end to Season 4 proved just that, as we found out that it was Walt who poisoned Brock (Ian Posada). Jesse may not know the truth yet, but how does actor Aaron Paul feel about Walter's betrayal?\n",
      "\n",
      "\"Shame on Walt,\" Paul told Vulture, while promoting his new film \"Smashed\" at Sundance. \"\n",
      "=================================================\n",
      "\n",
      "- Annotated Text -\n",
      "=================================================\n",
      " Jesse needs someone to look up to, but the Season 4 finale left more questions than answers for the pair.\n",
      "\n",
      "Walter has consistently betrayed Jesse throughout the series, and the shocking end to Season 4 proved just that, as we found out that it was Walt who poisoned Brock (Ian Posada). Jesse may not know the truth yet, but how does actor[[ Aaron]] Paul feel about Walter's betrayal?\n",
      "\n",
      "\"Sh[[ame]][[ on]] Walt,\" Paul told Vulture, while promoting his new film \"Smashed\" at[[ Sund]]ance[[.]]<< \">>\n",
      "=================================================\n",
      "\n",
      "                         \n",
      "EXAMPLE 81:\n",
      "- Base Text -\n",
      "=================================================\n",
      " Jesse needs someone to look up to, but the Season 4 finale left more questions than answers for the pair.\n",
      "\n",
      "Walter has consistently betrayed Jesse throughout the series, and the shocking end to Season 4 proved just that, as we found out that it was Walt who poisoned Brock (Ian Posada). Jesse may not know the truth yet, but how does actor Aaron Paul feel about Walter's betrayal?\n",
      "\n",
      "\n",
      "=================================================\n",
      "\n",
      "- Annotated Text -\n",
      "=================================================\n",
      " Jesse needs someone to look up to, but the Season 4 finale left more questions than answers for the pair.\n",
      "\n",
      "Walter has consistently betrayed Jesse throughout the series, and the shocking end to Season 4 proved just that, as we found out that it was Walt who poisoned Brock (Ian Posada). Jesse may not know the truth yet, but how does actor[[ Aaron]] Paul feel about Walter's betrayal[[?]][[\n",
      "]]<<\n",
      ">>\n",
      "=================================================\n",
      "\n",
      "                         \n",
      "EXAMPLE 82:\n",
      "- Base Text -\n",
      "=================================================\n",
      " of rust fungi. Alan Bessette, mycologist and professor emeritus of biology at Utica College. Alan and his wife, Arleen, have authored more than 20 books, including Mushrooms of the Southeastern United States. Arleen Bessette, amateur mycologist, photographer, and dyer. With her husband, Alan, Arleen has authored more than 20 books including Rainbow Beneath My Feet: A Mushroom Dyer��s Field Guide. Michael Castellano, researcher at the U.S. Forest Service and associate professor at Oregon State University.\n",
      "=================================================\n",
      "\n",
      "- Annotated Text -\n",
      "=================================================\n",
      " of rust fungi. Alan Bessette, mycologist and professor emeritus of biology at Utica College. Alan and his wife, Arleen, have authored more than 20 books, including Mushrooms of the Southeastern United States. Arleen Bessette, amateur mycologist, photographer, and dyer.[[ With]] her husband, Alan, Arleen has authored more than 20 books including Rainbow Beneath My Feet: A Mushroom Dyer��s Field Guide.[[ Michael]][[ Cast]]ellano[[,]] researcher at the U.S. Forest Service and associate professor at Oregon State University<<.>>\n",
      "=================================================\n",
      "\n",
      "                         \n",
      "EXAMPLE 83:\n",
      "- Base Text -\n",
      "=================================================\n",
      "\n",
      "43. Everyone makes stupid mistakes. Laugh about them. When we are young and new to restaurants, we all order steak tartare and then get shocked when a plate of bloody, uncooked meat arrives. But like all other stupid mistakes, you should only order steak tartare once.\n",
      "\n",
      "44. A little of what you fancy will always do you good - unless what you fancy is crack.\n",
      "\n",
      "Read next Michael Carrick should be kept on as Manchester United��s next manager Michael Carrick should be kept on as Manchester United��s next manager Why bring in\n",
      "=================================================\n",
      "\n",
      "- Annotated Text -\n",
      "=================================================\n",
      "\n",
      "43. Everyone makes stupid mistakes. Laugh about them. When we are young and new to restaurants, we all order steak tartare and then get shocked when a plate of bloody, uncooked meat arrives. But like all other stupid mistakes, you should only order steak tartare once.\n",
      "\n",
      "44. A little of what you fancy will always do you good - unless what you fancy is crack.\n",
      "\n",
      "Read next[[ Michael]] Carrick should be kept on as Manchester United��s next manager Michael Carrick should be kept on as Manchester United��s next manager[[ Why]][[ bring]]<< in>>\n",
      "=================================================\n",
      "\n",
      "                         \n",
      "EXAMPLE 84:\n",
      "- Base Text -\n",
      "=================================================\n",
      "\n",
      "43. Everyone makes stupid mistakes. Laugh about them. When we are young and new to restaurants, we all order steak tartare and then get shocked when a plate of bloody, uncooked meat arrives. But like all other stupid mistakes, you should only order steak tartare once.\n",
      "\n",
      "44. A little of what you fancy will always do you good - unless what you fancy is crack.\n",
      "\n",
      "Read next Michael Carrick should be kept on as Manchester United��s next manager\n",
      "=================================================\n",
      "\n",
      "- Annotated Text -\n",
      "=================================================\n",
      "\n",
      "43. Everyone makes stupid mistakes. Laugh about them. When we are young and new to restaurants, we all order steak tartare and then get shocked when a plate of bloody, uncooked meat arrives. But like all other stupid mistakes, you should only order steak tartare once.\n",
      "\n",
      "44. A little of what you fancy will always do you good - unless what you fancy is crack.\n",
      "\n",
      "Read[[ next]][[ Michael]] Carrick should be kept on as Manchester United��s[[ next]]<< manager>>\n",
      "=================================================\n",
      "\n",
      "                         \n",
      "EXAMPLE 85:\n",
      "- Base Text -\n",
      "=================================================\n",
      "\n",
      "\n",
      "This was a very lucrative business with very vulnerable clients. - Crown attorney Michael Foote\n",
      "\n",
      "\n",
      "=================================================\n",
      "\n",
      "- Annotated Text -\n",
      "=================================================\n",
      "\n",
      "[[\n",
      "]]This was a very lucrative business with very vulnerable clients. - Crown attorney[[ Michael]] Foote\n",
      "<<\n",
      ">>\n",
      "=================================================\n",
      "\n",
      "                         \n",
      "EXAMPLE 86:\n",
      "- Base Text -\n",
      "=================================================\n",
      " could be flagging calls and e-mails for interception almost automatically (like GMail deciding what to flag as ��important��), with the analyst occasionally checking off an ��OK�� box.\n",
      "\n",
      "Still, this is more or less what the FISA Amendments Act was designed to do. Shame people didn��t freak out to this extent at the end of 2012, when Congress voted for five more years of it.<|endoftext|>On AMC's hit drama \"Breaking Bad,\" Jesse (Aaron Paul) and Walter (Bryan Cranston) are the perfect poisonous pair. Walt needs\n",
      "=================================================\n",
      "\n",
      "- Annotated Text -\n",
      "=================================================\n",
      " could be flagging calls and e-mails for interception almost automatically (like GMail deciding what to flag as ��important��), with the analyst occasionally checking off an ��OK�� box.\n",
      "\n",
      "Still, this is more or less what the FISA Amendments Act was designed to do. Shame people didn��t freak out to this extent at the end of 2012, when Congress voted for five more years of it.<|endoftext|>On AMC's hit drama \"Breaking Bad,\"[[ Jesse]] (Aaron Paul) and Walter (Bryan Cranston) are the perfect poisonous[[ pair]][[.]][[ Walt]]<< needs>>\n",
      "=================================================\n",
      "\n",
      "\n",
      "\n",
      "IOI Task Examples:\n",
      "                         \n",
      "EXAMPLE 2:\n",
      "- Base Text -\n",
      "=================================================\n",
      "Then, Emily and Charles had a lot of fun at the station. Charles gave a kiss to\n",
      "=================================================\n",
      "\n",
      "- Annotated Text -\n",
      "=================================================\n",
      "[[Then]],[[ Emily]] and Charles had a lot of fun at the station.[[ Charles]] gave a kiss<< to>>\n",
      "=================================================\n",
      "\n",
      "                         \n",
      "EXAMPLE 3:\n",
      "- Base Text -\n",
      "=================================================\n",
      "Then, Aaron and Emily had a lot of fun at the house. Aaron gave a ring to\n",
      "=================================================\n",
      "\n",
      "- Annotated Text -\n",
      "=================================================\n",
      "[[Then]],[[ Aaron]][[ and]][[ Emily]] had a lot of fun at the house.[[ Aaron]][[ gave]] a ring<< to>>\n",
      "=================================================\n",
      "\n",
      "                         \n",
      "EXAMPLE 4:\n",
      "- Base Text -\n",
      "=================================================\n",
      "Then, Emily and Kyle had a lot of fun at the office. Kyle gave a drink to\n",
      "=================================================\n",
      "\n",
      "- Annotated Text -\n",
      "=================================================\n",
      "[[Then]],[[ Emily]][[ and]][[ Kyle]] had a lot of fun at the office.[[ Kyle]] gave a drink<< to>>\n",
      "=================================================\n",
      "\n",
      "                         \n",
      "EXAMPLE 5:\n",
      "- Base Text -\n",
      "=================================================\n",
      "Then, Emily and Christopher had a lot of fun at the garden. Christopher gave a basketball to\n",
      "=================================================\n",
      "\n",
      "- Annotated Text -\n",
      "=================================================\n",
      "[[Then]],[[ Emily]] and Christopher had a lot of[[ fun]] at the garden[[.]][[ Christopher]][[ gave]] a basketball<< to>>\n",
      "=================================================\n",
      "\n",
      "                         \n",
      "EXAMPLE 6:\n",
      "- Base Text -\n",
      "=================================================\n",
      "Then, Emily and Kyle had a lot of fun at the office. Kyle gave\n",
      "=================================================\n",
      "\n",
      "- Annotated Text -\n",
      "=================================================\n",
      "[[Then]],[[ Emily]][[ and]][[ Kyle]] had a lot of fun at the office.[[ Kyle]]<< gave>>\n",
      "=================================================\n",
      "\n",
      "                         \n",
      "EXAMPLE 7:\n",
      "- Base Text -\n",
      "=================================================\n",
      "Then, Paul and Crystal had a lot of fun at the store. Crystal gave a ring to\n",
      "=================================================\n",
      "\n",
      "- Annotated Text -\n",
      "=================================================\n",
      "Then,[[ Paul]] and[[ Crystal]] had a lot of[[ fun]] at the store.[[ Crystal]] gave a ring<< to>>\n",
      "=================================================\n",
      "\n",
      "                         \n",
      "EXAMPLE 8:\n",
      "- Base Text -\n",
      "=================================================\n",
      "Then, Paul and Jacob had a lot of fun at the restaurant. Jacob gave a computer to\n",
      "=================================================\n",
      "\n",
      "- Annotated Text -\n",
      "=================================================\n",
      "Then,[[ Paul]] and[[ Jacob]] had a lot of[[ fun]] at the restaurant.[[ Jacob]] gave a computer<< to>>\n",
      "=================================================\n",
      "\n",
      "                         \n",
      "EXAMPLE 9:\n",
      "- Base Text -\n",
      "=================================================\n",
      "Then, Jessica and Paul had a lot of fun at the house. Jessica gave a necklace to\n",
      "=================================================\n",
      "\n",
      "- Annotated Text -\n",
      "=================================================\n",
      "Then,[[ Jessica]][[ and]][[ Paul]] had a lot of[[ fun]] at the house.[[ Jessica]][[ gave]] a necklace<< to>>\n",
      "=================================================\n",
      "\n",
      "                         \n",
      "EXAMPLE 10:\n",
      "- Base Text -\n",
      "=================================================\n",
      "Then, Stephen and Paul had a lot of fun at the garden. Stephen gave a drink to\n",
      "=================================================\n",
      "\n",
      "- Annotated Text -\n",
      "=================================================\n",
      "Then,[[ Stephen]][[ and]][[ Paul]] had a lot of fun at the garden.[[ Stephen]] gave a[[ drink]]<< to>>\n",
      "=================================================\n",
      "\n",
      "                         \n",
      "EXAMPLE 11:\n",
      "- Base Text -\n",
      "=================================================\n",
      "Then, Paul and Adam had a lot of fun at the office. Adam gave a computer to\n",
      "=================================================\n",
      "\n",
      "- Annotated Text -\n",
      "=================================================\n",
      "Then,[[ Paul]] and Adam had a lot of fun at the office.[[ Adam]] gave a[[ computer]]<< to>>\n",
      "=================================================\n",
      "\n",
      "                         \n",
      "EXAMPLE 12:\n",
      "- Base Text -\n",
      "=================================================\n",
      "Then, Jonathan and Sarah had a lot of fun at the station. Jonathan gave a necklace to\n",
      "=================================================\n",
      "\n",
      "- Annotated Text -\n",
      "=================================================\n",
      "Then,[[ Jonathan]][[ and]][[ Sarah]] had a lot of fun at the station.[[ Jonathan]][[ gave]] a necklace<< to>>\n",
      "=================================================\n",
      "\n",
      "                         \n",
      "EXAMPLE 13:\n",
      "- Base Text -\n",
      "=================================================\n",
      "Then, Sarah and Ryan had a lot of fun at the hospital. Ryan gave a kiss to\n",
      "=================================================\n",
      "\n",
      "- Annotated Text -\n",
      "=================================================\n",
      "Then,[[ Sarah]] and Ryan had a lot of[[ fun]] at the hospital[[.]][[ Ryan]] gave a kiss<< to>>\n",
      "=================================================\n",
      "\n",
      "                         \n",
      "EXAMPLE 14:\n",
      "- Base Text -\n",
      "=================================================\n",
      "Then, Sarah and Tyler had a lot of fun at the hospital. Tyler gave\n",
      "=================================================\n",
      "\n",
      "- Annotated Text -\n",
      "=================================================\n",
      "Then,[[ Sarah]] and[[ Tyler]] had a lot of fun at the[[ hospital]].[[ Tyler]]<< gave>>\n",
      "=================================================\n",
      "\n",
      "                         \n",
      "EXAMPLE 15:\n",
      "- Base Text -\n",
      "=================================================\n",
      "Then, Sarah and Ryan had a lot of fun at the hospital. Ryan gave\n",
      "=================================================\n",
      "\n",
      "- Annotated Text -\n",
      "=================================================\n",
      "Then,[[ Sarah]] and Ryan had a lot of[[ fun]] at the hospital[[.]][[ Ryan]]<< gave>>\n",
      "=================================================\n",
      "\n",
      "                         \n",
      "EXAMPLE 16:\n",
      "- Base Text -\n",
      "=================================================\n",
      "Then, Sarah and Jacob had a lot of fun at the station. Jacob gave a kiss to\n",
      "=================================================\n",
      "\n",
      "- Annotated Text -\n",
      "=================================================\n",
      "[[Then]],[[ Sarah]][[ and]][[ Jacob]][[ had]] a lot of fun at the station.[[ Jacob]] gave a kiss<< to>>\n",
      "=================================================\n",
      "\n",
      "                         \n",
      "EXAMPLE 17:\n",
      "- Base Text -\n",
      "=================================================\n",
      "Then, Jessica and Paul had a lot of fun at the house. Jessica gave a necklace to\n",
      "=================================================\n",
      "\n",
      "- Annotated Text -\n",
      "=================================================\n",
      "Then,[[ Jessica]][[ and]][[ Paul]] had a lot of[[ fun]] at the house.[[ Jessica]][[ gave]] a necklace<< to>>\n",
      "=================================================\n",
      "\n",
      "                         \n",
      "EXAMPLE 18:\n",
      "- Base Text -\n",
      "=================================================\n",
      "Then, Paul and Jacob had a lot of fun at the restaurant. Jacob gave a computer to\n",
      "=================================================\n",
      "\n",
      "- Annotated Text -\n",
      "=================================================\n",
      "Then,[[ Paul]] and[[ Jacob]] had a lot of[[ fun]] at the restaurant.[[ Jacob]] gave a computer<< to>>\n",
      "=================================================\n",
      "\n",
      "                         \n",
      "EXAMPLE 19:\n",
      "- Base Text -\n",
      "=================================================\n",
      "Then, Paul and Adam had a lot of fun at the office. Adam gave a computer to\n",
      "=================================================\n",
      "\n",
      "- Annotated Text -\n",
      "=================================================\n",
      "Then,[[ Paul]] and Adam had a lot of fun at the office.[[ Adam]] gave a[[ computer]]<< to>>\n",
      "=================================================\n",
      "\n",
      "                         \n",
      "EXAMPLE 20:\n",
      "- Base Text -\n",
      "=================================================\n",
      "Then, Paul and Steven had a lot of fun at the garden. Steven gave a ring to\n",
      "=================================================\n",
      "\n",
      "- Annotated Text -\n",
      "=================================================\n",
      "Then,[[ Paul]] and[[ Steven]] had a lot of fun at the garden.[[ Steven]][[ gave]] a ring<< to>>\n",
      "=================================================\n",
      "\n",
      "                         \n",
      "EXAMPLE 21:\n",
      "- Base Text -\n",
      "=================================================\n",
      "Then, Stephen and Paul had a lot of fun at the garden. Stephen gave a drink to\n",
      "=================================================\n",
      "\n",
      "- Annotated Text -\n",
      "=================================================\n",
      "Then,[[ Stephen]][[ and]][[ Paul]] had a lot of fun at the garden.[[ Stephen]] gave a[[ drink]]<< to>>\n",
      "=================================================\n",
      "\n",
      "                         \n",
      "EXAMPLE 22:\n",
      "- Base Text -\n",
      "=================================================\n",
      "Then, Alexander and Jessica had a lot of fun at the office. Alexander gave a kiss to\n",
      "=================================================\n",
      "\n",
      "- Annotated Text -\n",
      "=================================================\n",
      "Then,[[ Alexander]][[ and]][[ Jessica]] had a lot of fun at the office.[[ Alexander]] gave a[[ kiss]]<< to>>\n",
      "=================================================\n",
      "\n",
      "                         \n",
      "EXAMPLE 23:\n",
      "- Base Text -\n",
      "=================================================\n",
      "Then, Jessica and Sean had a lot of fun at the office. Sean gave a ring to\n",
      "=================================================\n",
      "\n",
      "- Annotated Text -\n",
      "=================================================\n",
      "Then,[[ Jessica]] and[[ Sean]] had a lot of fun at the office[[.]][[ Sean]] gave a[[ ring]]<< to>>\n",
      "=================================================\n",
      "\n",
      "                         \n",
      "EXAMPLE 24:\n",
      "- Base Text -\n",
      "=================================================\n",
      "Then, Paul and Jessica had a lot of fun at the school. Paul gave a snack to\n",
      "=================================================\n",
      "\n",
      "- Annotated Text -\n",
      "=================================================\n",
      "Then,[[ Paul]][[ and]][[ Jessica]] had a lot of fun at the school[[.]][[ Paul]] gave a[[ snack]]<< to>>\n",
      "=================================================\n",
      "\n",
      "                         \n",
      "EXAMPLE 25:\n",
      "- Base Text -\n",
      "=================================================\n",
      "Then, Robert and Jessica had a lot of fun at the hospital. Robert gave a snack to\n",
      "=================================================\n",
      "\n",
      "- Annotated Text -\n",
      "=================================================\n",
      "Then,[[ Robert]][[ and]][[ Jessica]] had a lot of fun at the hospital.[[ Robert]] gave a[[ snack]]<< to>>\n",
      "=================================================\n",
      "\n",
      "                         \n",
      "EXAMPLE 26:\n",
      "- Base Text -\n",
      "=================================================\n",
      "Then, Jessica and Charles had a lot of fun at the office. Charles gave a snack to\n",
      "=================================================\n",
      "\n",
      "- Annotated Text -\n",
      "=================================================\n",
      "Then,[[ Jessica]] and Charles had a lot of fun at the office.[[ Charles]] gave a[[ snack]]<< to>>\n",
      "=================================================\n",
      "\n",
      "                         \n",
      "EXAMPLE 27:\n",
      "- Base Text -\n",
      "=================================================\n",
      "Then, Sarah and Jacob had a lot of fun at the station. Jacob gave a kiss to\n",
      "=================================================\n",
      "\n",
      "- Annotated Text -\n",
      "=================================================\n",
      "[[Then]],[[ Sarah]][[ and]][[ Jacob]][[ had]] a lot of fun at the station.[[ Jacob]] gave a kiss<< to>>\n",
      "=================================================\n",
      "\n",
      "                         \n",
      "EXAMPLE 28:\n",
      "- Base Text -\n",
      "=================================================\n",
      "Then, Sarah and Ryan had a lot of fun at the hospital. Ryan gave a kiss to\n",
      "=================================================\n",
      "\n",
      "- Annotated Text -\n",
      "=================================================\n",
      "Then,[[ Sarah]] and Ryan had a lot of[[ fun]] at the hospital[[.]][[ Ryan]] gave a kiss<< to>>\n",
      "=================================================\n",
      "\n",
      "                         \n",
      "EXAMPLE 29:\n",
      "- Base Text -\n",
      "=================================================\n",
      "Then, Jonathan and Sarah had a lot of fun at the station. Jonathan gave a necklace to\n",
      "=================================================\n",
      "\n",
      "- Annotated Text -\n",
      "=================================================\n",
      "Then,[[ Jonathan]][[ and]][[ Sarah]] had a lot of fun at the station.[[ Jonathan]][[ gave]] a necklace<< to>>\n",
      "=================================================\n",
      "\n",
      "                         \n",
      "EXAMPLE 30:\n",
      "- Base Text -\n",
      "=================================================\n",
      "Then, Rachel and Sarah had a lot of fun at the garden. Rachel gave a ring to\n",
      "=================================================\n",
      "\n",
      "- Annotated Text -\n",
      "=================================================\n",
      "Then,[[ Rachel]][[ and]][[ Sarah]] had a lot of fun at the garden[[.]][[ Rachel]] gave a ring<< to>>\n",
      "=================================================\n",
      "\n",
      "                         \n",
      "EXAMPLE 31:\n",
      "- Base Text -\n",
      "=================================================\n",
      "Then, Sarah and Ryan had a lot of fun at the hospital. Ryan gave\n",
      "=================================================\n",
      "\n",
      "- Annotated Text -\n",
      "=================================================\n",
      "Then,[[ Sarah]] and Ryan had a lot of[[ fun]] at the hospital[[.]][[ Ryan]]<< gave>>\n",
      "=================================================\n",
      "\n",
      "                         \n",
      "EXAMPLE 32:\n",
      "- Base Text -\n",
      "=================================================\n",
      "Then, Crystal and Amy had a lot of fun at the station. Crystal gave a necklace to\n",
      "=================================================\n",
      "\n",
      "- Annotated Text -\n",
      "=================================================\n",
      "Then,[[ Crystal]][[ and]][[ Amy]] had a lot of[[ fun]] at the station.[[ Crystal]][[ gave]] a necklace<< to>>\n",
      "=================================================\n",
      "\n",
      "                         \n",
      "EXAMPLE 33:\n",
      "- Base Text -\n",
      "=================================================\n",
      "Then, Adam and Crystal had a lot of fun at the garden. Crystal gave a kiss to\n",
      "=================================================\n",
      "\n",
      "- Annotated Text -\n",
      "=================================================\n",
      "Then,[[ Adam]] and Crystal had a lot of[[ fun]] at the garden[[.]][[ Crystal]] gave a kiss<< to>>\n",
      "=================================================\n",
      "\n",
      "                         \n",
      "EXAMPLE 34:\n",
      "- Base Text -\n",
      "=================================================\n",
      "Then, Crystal and Amy had a lot of fun at the station. Crystal gave\n",
      "=================================================\n",
      "\n",
      "- Annotated Text -\n",
      "=================================================\n",
      "Then,[[ Crystal]][[ and]][[ Amy]] had a lot of[[ fun]] at the station[[.]][[ Crystal]]<< gave>>\n",
      "=================================================\n",
      "\n",
      "                         \n",
      "EXAMPLE 35:\n",
      "- Base Text -\n",
      "=================================================\n",
      "Then, Adam and Crystal had a lot of fun at the garden. Crystal gave\n",
      "=================================================\n",
      "\n",
      "- Annotated Text -\n",
      "=================================================\n",
      "Then,[[ Adam]] and Crystal had a lot of[[ fun]] at the garden[[.]][[ Crystal]]<< gave>>\n",
      "=================================================\n",
      "\n",
      "                         \n",
      "EXAMPLE 36:\n",
      "- Base Text -\n",
      "=================================================\n",
      "Then, Steven and Amy had a lot of fun at the restaurant. Steven gave\n",
      "=================================================\n",
      "\n",
      "- Annotated Text -\n",
      "=================================================\n",
      "Then,[[ Steven]][[ and]][[ Amy]] had a lot of[[ fun]] at the restaurant[[.]][[ Steven]]<< gave>>\n",
      "=================================================\n",
      "\n",
      "                         \n",
      "EXAMPLE 37:\n",
      "- Base Text -\n",
      "=================================================\n",
      "Then, James and Eric had a lot of fun at the restaurant. James gave a necklace to\n",
      "=================================================\n",
      "\n",
      "- Annotated Text -\n",
      "=================================================\n",
      "Then,[[ James]][[ and]][[ Eric]] had a lot of fun at the restaurant.[[ James]][[ gave]] a necklace<< to>>\n",
      "=================================================\n",
      "\n",
      "                         \n",
      "EXAMPLE 38:\n",
      "- Base Text -\n",
      "=================================================\n",
      "Then, Eric and Jose had a lot of fun at the school. Jose gave a basketball to\n",
      "=================================================\n",
      "\n",
      "- Annotated Text -\n",
      "=================================================\n",
      "Then,[[ Eric]] and Jose had a lot of[[ fun]] at the school[[.]][[ Jose]] gave a basketball<< to>>\n",
      "=================================================\n",
      "\n",
      "                         \n",
      "EXAMPLE 39:\n",
      "- Base Text -\n",
      "=================================================\n",
      "Then, Christopher and Eric had a lot of fun at the school. Christopher gave a computer to\n",
      "=================================================\n",
      "\n",
      "- Annotated Text -\n",
      "=================================================\n",
      "Then,[[ Christopher]][[ and]][[ Eric]] had a lot of fun at the school.[[ Christopher]][[ gave]] a computer<< to>>\n",
      "=================================================\n",
      "\n",
      "                         \n",
      "EXAMPLE 40:\n",
      "- Base Text -\n",
      "=================================================\n",
      "Then, Eric and Rachel had a lot of fun at the school. Rachel gave a basketball to\n",
      "=================================================\n",
      "\n",
      "- Annotated Text -\n",
      "=================================================\n",
      "Then,[[ Eric]] and[[ Rachel]] had a lot of fun at the school.[[ Rachel]] gave a basketball<< to>>\n",
      "=================================================\n",
      "\n",
      "                         \n",
      "EXAMPLE 41:\n",
      "- Base Text -\n",
      "=================================================\n",
      "Then, Eric and Steven had a lot of fun at the store. Steven gave a ring to\n",
      "=================================================\n",
      "\n",
      "- Annotated Text -\n",
      "=================================================\n",
      "Then,[[ Eric]] and[[ Steven]] had a lot of fun at the store.[[ Steven]][[ gave]] a ring<< to>>\n",
      "=================================================\n",
      "\n",
      "                         \n",
      "EXAMPLE 42:\n",
      "- Base Text -\n",
      "=================================================\n",
      "Then, Mark and Jonathan had a lot of fun at the house. Jonathan gave a computer to\n",
      "=================================================\n",
      "\n",
      "- Annotated Text -\n",
      "=================================================\n",
      "Then,[[ Mark]] and[[ Jonathan]][[ had]] a lot of fun at the house.[[ Jonathan]][[ gave]] a computer<< to>>\n",
      "=================================================\n",
      "\n",
      "                         \n",
      "EXAMPLE 43:\n",
      "- Base Text -\n",
      "=================================================\n",
      "Then, Mark and Scott had a lot of fun at the house. Scott gave a computer to\n",
      "=================================================\n",
      "\n",
      "- Annotated Text -\n",
      "=================================================\n",
      "Then,[[ Mark]] and[[ Scott]][[ had]] a lot of fun[[ at]] the[[ house]].[[ Scott]] gave a computer<< to>>\n",
      "=================================================\n",
      "\n",
      "                         \n",
      "EXAMPLE 44:\n",
      "- Base Text -\n",
      "=================================================\n",
      "Then, Mark and Justin had a lot of fun at the store. Justin gave a ring to\n",
      "=================================================\n",
      "\n",
      "- Annotated Text -\n",
      "=================================================\n",
      "Then,[[ Mark]] and Justin had a lot of fun at the store.[[ Justin]][[ gave]] a ring<< to>>\n",
      "=================================================\n",
      "\n",
      "                         \n",
      "EXAMPLE 45:\n",
      "- Base Text -\n",
      "=================================================\n",
      "Then, Charles and Mark had a lot of fun at the office. Charles gave a ring to\n",
      "=================================================\n",
      "\n",
      "- Annotated Text -\n",
      "=================================================\n",
      "Then,[[ Charles]][[ and]][[ Mark]] had a lot of fun at the office[[.]][[ Charles]] gave a ring<< to>>\n",
      "=================================================\n",
      "\n",
      "                         \n",
      "EXAMPLE 46:\n",
      "- Base Text -\n",
      "=================================================\n",
      "Then, Mark and Amy had a lot of fun at the school. Amy gave a computer to\n",
      "=================================================\n",
      "\n",
      "- Annotated Text -\n",
      "=================================================\n",
      "Then,[[ Mark]] and[[ Amy]] had a lot of fun at the school.[[ Amy]][[ gave]] a computer<< to>>\n",
      "=================================================\n",
      "\n",
      "                         \n",
      "EXAMPLE 47:\n",
      "- Base Text -\n",
      "=================================================\n",
      "Then, Rachel and Anthony had a lot of fun at the garden. Anthony gave a necklace to\n",
      "=================================================\n",
      "\n",
      "- Annotated Text -\n",
      "=================================================\n",
      "Then,[[ Rachel]] and[[ Anthony]] had a lot of fun at the garden.[[ Anthony]][[ gave]][[ a]] necklace<< to>>\n",
      "=================================================\n",
      "\n",
      "                         \n",
      "EXAMPLE 48:\n",
      "- Base Text -\n",
      "=================================================\n",
      "Then, Steven and Rachel had a lot of fun at the house. Steven gave a computer to\n",
      "=================================================\n",
      "\n",
      "- Annotated Text -\n",
      "=================================================\n",
      "Then,[[ Steven]][[ and]][[ Rachel]] had a lot of[[ fun]] at the house.[[ Steven]] gave a computer<< to>>\n",
      "=================================================\n",
      "\n",
      "                         \n",
      "EXAMPLE 49:\n",
      "- Base Text -\n",
      "=================================================\n",
      "Then, Steven and Rachel had a lot of fun at the house. Steven gave\n",
      "=================================================\n",
      "\n",
      "- Annotated Text -\n",
      "=================================================\n",
      "Then,[[ Steven]][[ and]][[ Rachel]] had a lot of fun at the house[[.]][[ Steven]]<< gave>>\n",
      "=================================================\n",
      "\n",
      "                         \n",
      "EXAMPLE 50:\n",
      "- Base Text -\n",
      "=================================================\n",
      "Then, Rachel and Michelle had a lot of fun at the garden. Michelle gave a drink to\n",
      "=================================================\n",
      "\n",
      "- Annotated Text -\n",
      "=================================================\n",
      "Then,[[ Rachel]] and Michelle had a[[ lot]][[ of]][[ fun]] at the garden[[.]][[ Michelle]] gave a drink<< to>>\n",
      "=================================================\n",
      "\n",
      "                         \n",
      "EXAMPLE 51:\n",
      "- Base Text -\n",
      "=================================================\n",
      "Then, Rachel and Elizabeth had a lot of fun at the school. Elizabeth gave a drink to\n",
      "=================================================\n",
      "\n",
      "- Annotated Text -\n",
      "=================================================\n",
      "Then,[[ Rachel]] and Elizabeth had a lot of fun at the school. Elizabeth gave a[[ drink]]<< to>>\n",
      "=================================================\n",
      "\n",
      "                         \n",
      "EXAMPLE 52:\n",
      "- Base Text -\n",
      "=================================================\n",
      "Then, John and Charles had a lot of fun at the restaurant. Charles gave a necklace to\n",
      "=================================================\n",
      "\n",
      "- Annotated Text -\n",
      "=================================================\n",
      "Then,[[ John]] and Charles had a lot of fun at the restaurant.[[ Charles]] gave a necklace<< to>>\n",
      "=================================================\n",
      "\n",
      "                         \n",
      "EXAMPLE 53:\n",
      "- Base Text -\n",
      "=================================================\n",
      "Then, Patrick and John had a lot of fun at the house. Patrick gave a necklace to\n",
      "=================================================\n",
      "\n",
      "- Annotated Text -\n",
      "=================================================\n",
      "[[Then]],[[ Patrick]][[ and]][[ John]] had a lot of fun at the house.[[ Patrick]][[ gave]] a necklace<< to>>\n",
      "=================================================\n",
      "\n",
      "                         \n",
      "EXAMPLE 54:\n",
      "- Base Text -\n",
      "=================================================\n",
      "Then, John and Ryan had a lot of fun at the station. Ryan gave a necklace to\n",
      "=================================================\n",
      "\n",
      "- Annotated Text -\n",
      "=================================================\n",
      "Then,[[ John]] and[[ Ryan]] had a lot of[[ fun]] at the station[[.]][[ Ryan]][[ gave]] a necklace<< to>>\n",
      "=================================================\n",
      "\n",
      "                         \n",
      "EXAMPLE 55:\n",
      "- Base Text -\n",
      "=================================================\n",
      "Then, John and Joseph had a lot of fun at the station. Joseph gave a kiss to\n",
      "=================================================\n",
      "\n",
      "- Annotated Text -\n",
      "=================================================\n",
      "Then,[[ John]] and[[ Joseph]][[ had]] a lot of fun at the station.[[ Joseph]] gave a[[ kiss]]<< to>>\n",
      "=================================================\n",
      "\n",
      "                         \n",
      "EXAMPLE 56:\n",
      "- Base Text -\n",
      "=================================================\n",
      "Then, Sean and John had a lot of fun at the office. Sean gave a basketball to\n",
      "=================================================\n",
      "\n",
      "- Annotated Text -\n",
      "=================================================\n",
      "Then,[[ Sean]][[ and]][[ John]] had a lot of fun at the office.[[ Sean]][[ gave]] a basketball<< to>>\n",
      "=================================================\n",
      "\n",
      "                         \n",
      "EXAMPLE 57:\n",
      "- Base Text -\n",
      "=================================================\n",
      "Then, James and Thomas had a lot of fun at the restaurant. Thomas gave a computer to\n",
      "=================================================\n",
      "\n",
      "- Annotated Text -\n",
      "=================================================\n",
      "Then,[[ James]] and[[ Thomas]] had a lot of[[ fun]] at the restaurant.[[ Thomas]] gave a[[ computer]]<< to>>\n",
      "=================================================\n",
      "\n",
      "                         \n",
      "EXAMPLE 58:\n",
      "- Base Text -\n",
      "=================================================\n",
      "Then, Stephen and James had a lot of fun at the station. Stephen gave a snack to\n",
      "=================================================\n",
      "\n",
      "- Annotated Text -\n",
      "=================================================\n",
      "Then,[[ Stephen]][[ and]][[ James]] had a lot of fun at the station.[[ Stephen]] gave a[[ snack]]<< to>>\n",
      "=================================================\n",
      "\n",
      "                         \n",
      "EXAMPLE 59:\n",
      "- Base Text -\n",
      "=================================================\n",
      "Then, Christopher and James had a lot of fun at the garden. Christopher gave a drink to\n",
      "=================================================\n",
      "\n",
      "- Annotated Text -\n",
      "=================================================\n",
      "Then,[[ Christopher]][[ and]][[ James]] had a lot of fun at the garden.[[ Christopher]] gave a[[ drink]]<< to>>\n",
      "=================================================\n",
      "\n",
      "                         \n",
      "EXAMPLE 60:\n",
      "- Base Text -\n",
      "=================================================\n",
      "Then, Thomas and James had a lot of fun at the hospital. Thomas gave a snack to\n",
      "=================================================\n",
      "\n",
      "- Annotated Text -\n",
      "=================================================\n",
      "Then,[[ Thomas]][[ and]][[ James]] had a lot of[[ fun]] at the hospital.[[ Thomas]] gave a[[ snack]]<< to>>\n",
      "=================================================\n",
      "\n",
      "                         \n",
      "EXAMPLE 61:\n",
      "- Base Text -\n",
      "=================================================\n",
      "Then, Stephen and James had a lot of fun at the station. Stephen gave\n",
      "=================================================\n",
      "\n",
      "- Annotated Text -\n",
      "=================================================\n",
      "Then,[[ Stephen]][[ and]][[ James]] had a lot of fun at the station.[[ Stephen]]<< gave>>\n",
      "=================================================\n",
      "\n",
      "                         \n",
      "EXAMPLE 62:\n",
      "- Base Text -\n",
      "=================================================\n",
      "Then, Alexander and Scott had a lot of fun at the restaurant. Alexander gave a kiss to\n",
      "=================================================\n",
      "\n",
      "- Annotated Text -\n",
      "=================================================\n",
      "Then,[[ Alexander]][[ and]][[ Scott]] had a lot of fun at the restaurant.[[ Alexander]] gave a[[ kiss]]<< to>>\n",
      "=================================================\n",
      "\n",
      "                         \n",
      "EXAMPLE 63:\n",
      "- Base Text -\n",
      "=================================================\n",
      "Then, Scott and Jeremy had a lot of fun at the school. Jeremy gave a basketball to\n",
      "=================================================\n",
      "\n",
      "- Annotated Text -\n",
      "=================================================\n",
      "Then,[[ Scott]] and[[ Jeremy]] had a lot of fun at the school.[[ Jeremy]] gave a basketball<< to>>\n",
      "=================================================\n",
      "\n",
      "                         \n",
      "EXAMPLE 64:\n",
      "- Base Text -\n",
      "=================================================\n",
      "Then, Scott and Jeremy had a lot of fun at the office. Jeremy gave a snack to\n",
      "=================================================\n",
      "\n",
      "- Annotated Text -\n",
      "=================================================\n",
      "Then,[[ Scott]] and[[ Jeremy]][[ had]] a lot of fun at the office.[[ Jeremy]][[ gave]] a[[ snack]]<< to>>\n",
      "=================================================\n",
      "\n",
      "                         \n",
      "EXAMPLE 65:\n",
      "- Base Text -\n",
      "=================================================\n",
      "Then, Matthew and Scott had a lot of fun at the store. Matthew gave a basketball to\n",
      "=================================================\n",
      "\n",
      "- Annotated Text -\n",
      "=================================================\n",
      "[[Then]],[[ Matthew]][[ and]][[ Scott]] had a lot of fun at the store.[[ Matthew]][[ gave]] a basketball<< to>>\n",
      "=================================================\n",
      "\n",
      "                         \n",
      "EXAMPLE 66:\n",
      "- Base Text -\n",
      "=================================================\n",
      "Then, Ryan and Scott had a lot of fun at the garden. Ryan gave a computer to\n",
      "=================================================\n",
      "\n",
      "- Annotated Text -\n",
      "=================================================\n",
      "Then,[[ Ryan]][[ and]][[ Scott]] had a lot of[[ fun]] at the garden.[[ Ryan]] gave a computer<< to>>\n",
      "=================================================\n",
      "\n",
      "                         \n",
      "EXAMPLE 67:\n",
      "- Base Text -\n",
      "=================================================\n",
      "Then, Eric and Jose had a lot of fun at the school. Jose gave a basketball to\n",
      "=================================================\n",
      "\n",
      "- Annotated Text -\n",
      "=================================================\n",
      "Then,[[ Eric]] and Jose had a lot of[[ fun]] at the school[[.]][[ Jose]] gave a basketball<< to>>\n",
      "=================================================\n",
      "\n",
      "                         \n",
      "EXAMPLE 68:\n",
      "- Base Text -\n",
      "=================================================\n",
      "Then, James and Eric had a lot of fun at the restaurant. James gave a necklace to\n",
      "=================================================\n",
      "\n",
      "- Annotated Text -\n",
      "=================================================\n",
      "Then,[[ James]][[ and]][[ Eric]] had a lot of fun at the restaurant.[[ James]][[ gave]] a necklace<< to>>\n",
      "=================================================\n",
      "\n",
      "                         \n",
      "EXAMPLE 69:\n",
      "- Base Text -\n",
      "=================================================\n",
      "Then, Christopher and Eric had a lot of fun at the school. Christopher gave a computer to\n",
      "=================================================\n",
      "\n",
      "- Annotated Text -\n",
      "=================================================\n",
      "Then,[[ Christopher]][[ and]][[ Eric]] had a lot of fun at the school.[[ Christopher]][[ gave]] a computer<< to>>\n",
      "=================================================\n",
      "\n",
      "                         \n",
      "EXAMPLE 70:\n",
      "- Base Text -\n",
      "=================================================\n",
      "Then, Eric and Steven had a lot of fun at the store. Steven gave a ring to\n",
      "=================================================\n",
      "\n",
      "- Annotated Text -\n",
      "=================================================\n",
      "Then,[[ Eric]] and[[ Steven]] had a lot of fun at the store.[[ Steven]][[ gave]] a ring<< to>>\n",
      "=================================================\n",
      "\n",
      "                         \n",
      "EXAMPLE 71:\n",
      "- Base Text -\n",
      "=================================================\n",
      "Then, Eric and Rachel had a lot of fun at the school. Rachel gave a basketball to\n",
      "=================================================\n",
      "\n",
      "- Annotated Text -\n",
      "=================================================\n",
      "Then,[[ Eric]] and[[ Rachel]] had a lot of fun at the school.[[ Rachel]] gave a basketball<< to>>\n",
      "=================================================\n",
      "\n",
      "                         \n",
      "EXAMPLE 72:\n",
      "- Base Text -\n",
      "=================================================\n",
      "Then, Daniel and Amy had a lot of fun at the office. Amy gave a ring to\n",
      "=================================================\n",
      "\n",
      "- Annotated Text -\n",
      "=================================================\n",
      "Then,[[ Daniel]] and[[ Amy]] had a lot of fun at the office[[.]][[ Amy]] gave a[[ ring]]<< to>>\n",
      "=================================================\n",
      "\n",
      "                         \n",
      "EXAMPLE 73:\n",
      "- Base Text -\n",
      "=================================================\n",
      "Then, Daniel and Kevin had a lot of fun at the store. Kevin gave a snack to\n",
      "=================================================\n",
      "\n",
      "- Annotated Text -\n",
      "=================================================\n",
      "Then,[[ Daniel]] and[[ Kevin]] had a lot of[[ fun]] at the store[[.]][[ Kevin]][[ gave]] a[[ snack]]<< to>>\n",
      "=================================================\n",
      "\n",
      "                         \n",
      "EXAMPLE 74:\n",
      "- Base Text -\n",
      "=================================================\n",
      "Then, Daniel and Paul had a lot of fun at the restaurant. Paul gave a computer to\n",
      "=================================================\n",
      "\n",
      "- Annotated Text -\n",
      "=================================================\n",
      "Then,[[ Daniel]][[ and]][[ Paul]][[ had]] a[[ lot]] of[[ fun]] at the restaurant.[[ Paul]] gave a computer<< to>>\n",
      "=================================================\n",
      "\n",
      "                         \n",
      "EXAMPLE 75:\n",
      "- Base Text -\n",
      "=================================================\n",
      "Then, Daniel and Sarah had a lot of fun at the restaurant. Sarah gave a basketball to\n",
      "=================================================\n",
      "\n",
      "- Annotated Text -\n",
      "=================================================\n",
      "Then,[[ Daniel]] and Sarah had a lot of fun at the restaurant.[[ Sarah]][[ gave]] a basketball<< to>>\n",
      "=================================================\n",
      "\n",
      "                         \n",
      "EXAMPLE 76:\n",
      "- Base Text -\n",
      "=================================================\n",
      "Then, Daniel and Thomas had a lot of fun at the office. Thomas gave a basketball to\n",
      "=================================================\n",
      "\n",
      "- Annotated Text -\n",
      "=================================================\n",
      "Then,[[ Daniel]] and[[ Thomas]] had a lot of fun at the office[[.]][[ Thomas]] gave a basketball<< to>>\n",
      "=================================================\n",
      "\n",
      "                         \n",
      "EXAMPLE 77:\n",
      "- Base Text -\n",
      "=================================================\n",
      "Then, Robert and Aaron had a lot of fun at the house. Robert gave a computer to\n",
      "=================================================\n",
      "\n",
      "- Annotated Text -\n",
      "=================================================\n",
      "Then,[[ Robert]][[ and]][[ Aaron]] had a lot of fun at the house.[[ Robert]] gave a computer<< to>>\n",
      "=================================================\n",
      "\n",
      "                         \n",
      "EXAMPLE 78:\n",
      "- Base Text -\n",
      "=================================================\n",
      "Then, Aaron and Jessica had a lot of fun at the garden. Jessica gave a necklace to\n",
      "=================================================\n",
      "\n",
      "- Annotated Text -\n",
      "=================================================\n",
      "[[Then]],[[ Aaron]] and[[ Jessica]] had a lot of fun at the garden.[[ Jessica]] gave a necklace<< to>>\n",
      "=================================================\n",
      "\n",
      "                         \n",
      "EXAMPLE 79:\n",
      "- Base Text -\n",
      "=================================================\n",
      "Then, Michael and Aaron had a lot of fun at the school. Michael gave a computer to\n",
      "=================================================\n",
      "\n",
      "- Annotated Text -\n",
      "=================================================\n",
      "Then,[[ Michael]][[ and]][[ Aaron]] had a lot of[[ fun]] at the school.[[ Michael]] gave a computer<< to>>\n",
      "=================================================\n",
      "\n",
      "                         \n",
      "EXAMPLE 80:\n",
      "- Base Text -\n",
      "=================================================\n",
      "Then, Aaron and Richard had a lot of fun at the restaurant. Richard gave a ring to\n",
      "=================================================\n",
      "\n",
      "- Annotated Text -\n",
      "=================================================\n",
      "[[Then]],[[ Aaron]] and[[ Richard]] had a lot of[[ fun]] at the[[ restaurant]].[[ Richard]] gave a[[ ring]]<< to>>\n",
      "=================================================\n",
      "\n",
      "                         \n",
      "EXAMPLE 81:\n",
      "- Base Text -\n",
      "=================================================\n",
      "Then, Aaron and Richard had a lot of fun at the hospital. Richard gave a kiss to\n",
      "=================================================\n",
      "\n",
      "- Annotated Text -\n",
      "=================================================\n",
      "[[Then]],[[ Aaron]] and Richard had a lot of fun at the hospital. Richard gave a[[ kiss]]<< to>>\n",
      "=================================================\n",
      "\n",
      "                         \n",
      "EXAMPLE 82:\n",
      "- Base Text -\n",
      "=================================================\n",
      "Then, Michael and Anthony had a lot of fun at the store. Anthony gave a computer to\n",
      "=================================================\n",
      "\n",
      "- Annotated Text -\n",
      "=================================================\n",
      "Then,[[ Michael]] and[[ Anthony]] had a lot of[[ fun]] at the store[[.]][[ Anthony]][[ gave]] a computer<< to>>\n",
      "=================================================\n",
      "\n",
      "                         \n",
      "EXAMPLE 83:\n",
      "- Base Text -\n",
      "=================================================\n",
      "Then, Michael and Eric had a lot of fun at the hospital. Eric gave a necklace to\n",
      "=================================================\n",
      "\n",
      "- Annotated Text -\n",
      "=================================================\n",
      "Then,[[ Michael]] and Eric had a lot of[[ fun]] at the hospital[[.]][[ Eric]] gave a[[ necklace]]<< to>>\n",
      "=================================================\n",
      "\n",
      "                         \n",
      "EXAMPLE 84:\n",
      "- Base Text -\n",
      "=================================================\n",
      "Then, Michael and Tyler had a lot of fun at the station. Tyler gave a necklace to\n",
      "=================================================\n",
      "\n",
      "- Annotated Text -\n",
      "=================================================\n",
      "Then,[[ Michael]] and[[ Tyler]] had a lot of fun at the[[ station]][[.]][[ Tyler]][[ gave]] a necklace<< to>>\n",
      "=================================================\n",
      "\n",
      "                         \n",
      "EXAMPLE 85:\n",
      "- Base Text -\n",
      "=================================================\n",
      "Then, James and Michael had a lot of fun at the office. James gave a necklace to\n",
      "=================================================\n",
      "\n",
      "- Annotated Text -\n",
      "=================================================\n",
      "Then,[[ James]][[ and]][[ Michael]] had a lot of fun at the office.[[ James]][[ gave]] a necklace<< to>>\n",
      "=================================================\n",
      "\n",
      "                         \n",
      "EXAMPLE 86:\n",
      "- Base Text -\n",
      "=================================================\n",
      "Then, Michael and Tyler had a lot of fun at the house. Tyler gave a kiss to\n",
      "=================================================\n",
      "\n",
      "- Annotated Text -\n",
      "=================================================\n",
      "Then,[[ Michael]] and[[ Tyler]] had a lot of fun at the house.[[ Tyler]] gave a kiss<< to>>\n",
      "=================================================\n",
      "\n",
      "\n",
      "\n",
      "OUTPUT:\n",
      "                         \n",
      "Step 1:\n"
     ]
    }
   ],
   "source": [
    "print(p)"
   ]
  },
  {
   "cell_type": "code",
   "execution_count": 82,
   "metadata": {},
   "outputs": [
    {
     "name": "stderr",
     "output_type": "stream",
     "text": [
      "/var/folders/wg/cdt_cw_5265_z_gwnxlf0tv80000gn/T/ipykernel_8977/1571428423.py:18: UserWarning: To copy construct from a tensor, it is recommended to use sourceTensor.clone().detach() or sourceTensor.clone().detach().requires_grad_(True), rather than torch.tensor(sourceTensor).\n",
      "  dataset_prompt_tokens = torch.tensor(tokens)\n"
     ]
    },
    {
     "name": "stdout",
     "output_type": "stream",
     "text": [
      "[451, 1572, 22215, 24234, 23307, 6352, 8562, 2297]\n"
     ]
    },
    {
     "name": "stderr",
     "output_type": "stream",
     "text": [
      "100%|██████████| 20/20 [01:32<00:00,  4.61s/it]\n",
      "100%|██████████| 5/5 [01:46<00:00, 21.25s/it]\n",
      "100%|██████████| 4/4 [00:03<00:00,  1.23it/s]\n",
      "100%|██████████| 5/5 [00:13<00:00,  2.73s/it]\n",
      "100%|██████████| 20/20 [01:31<00:00,  4.58s/it]\n",
      "100%|██████████| 5/5 [01:49<00:00, 21.81s/it]\n",
      "100%|██████████| 4/4 [00:02<00:00,  1.36it/s]\n",
      "100%|██████████| 5/5 [00:12<00:00,  2.54s/it]\n",
      "100%|██████████| 20/20 [01:33<00:00,  4.70s/it]\n",
      "100%|██████████| 5/5 [01:45<00:00, 21.04s/it]\n",
      "100%|██████████| 4/4 [00:03<00:00,  1.25it/s]\n",
      "100%|██████████| 5/5 [00:13<00:00,  2.63s/it]\n",
      "100%|██████████| 20/20 [01:33<00:00,  4.65s/it]\n",
      "100%|██████████| 5/5 [01:39<00:00, 19.99s/it]\n",
      "100%|██████████| 4/4 [00:03<00:00,  1.28it/s]\n",
      "100%|██████████| 5/5 [00:14<00:00,  2.98s/it]\n",
      "100%|██████████| 20/20 [01:32<00:00,  4.65s/it]\n",
      "100%|██████████| 5/5 [01:41<00:00, 20.32s/it]\n",
      "100%|██████████| 4/4 [00:03<00:00,  1.26it/s]\n",
      "100%|██████████| 5/5 [00:12<00:00,  2.50s/it]\n",
      "100%|██████████| 20/20 [01:30<00:00,  4.52s/it]\n",
      "100%|██████████| 5/5 [01:41<00:00, 20.24s/it]\n",
      "100%|██████████| 4/4 [00:02<00:00,  1.35it/s]\n",
      "100%|██████████| 5/5 [00:13<00:00,  2.68s/it]\n",
      "100%|██████████| 20/20 [01:31<00:00,  4.57s/it]\n",
      "100%|██████████| 5/5 [01:46<00:00, 21.31s/it]\n",
      "100%|██████████| 4/4 [00:03<00:00,  1.23it/s]\n",
      "100%|██████████| 5/5 [00:14<00:00,  2.86s/it]\n",
      "100%|██████████| 20/20 [01:30<00:00,  4.52s/it]\n",
      "100%|██████████| 5/5 [01:40<00:00, 20.19s/it]\n",
      "100%|██████████| 4/4 [00:03<00:00,  1.31it/s]\n",
      "100%|██████████| 5/5 [00:14<00:00,  2.87s/it]\n"
     ]
    }
   ],
   "source": [
    "features = [x for x in list(set(cp.circuit_hypergraph['L10_H7']['features'])) if x!=-1]\n",
    "print(features)\n",
    "\n",
    "# #feature = 19042\n",
    "layer = 10\n",
    "num_examples = 2500\n",
    "\n",
    "strategy = create_simple_greedy_strategy(\n",
    "    passes=1,\n",
    "    node_contributors=1,\n",
    "    minimal=True,\n",
    ")\n",
    "\n",
    "\n",
    "dataset_prompts = gen_templated_prompts(template_idex=1, N=500)\n",
    "prompts = [x['text'] + x['correct'] for x in dataset_prompts]\n",
    "tokens = model.to_tokens(prompts)  # Assuming `model` is already defined\n",
    "dataset_prompt_tokens = torch.tensor(tokens)\n",
    "\n",
    "mini_examples_owt_overall = []\n",
    "mini_examples_ioi_overall = []\n",
    "\n",
    "for feature in features:\n",
    "    try:\n",
    "\n",
    "        analyze_owt = MaxActAnalysis(\n",
    "            \"attn\", \n",
    "            layer, \n",
    "            feature, \n",
    "            num_sequences=num_examples, \n",
    "            batch_size=128, \n",
    "            strategy=strategy\n",
    "        )\n",
    "        mini_examples_owt = analyze_owt.get_context_referenced_prompts_for_range(0, 5)\n",
    "        mini_examples_owt_overall.extend(mini_examples_owt)\n",
    "\n",
    "        # For Dataset Prompt Tokens\n",
    "        analyze_prompts = MaxActAnalysis(\n",
    "            \"attn\", \n",
    "            layer, \n",
    "            feature, \n",
    "            num_sequences=num_examples, \n",
    "            batch_size=128, \n",
    "            strategy=strategy, \n",
    "            token_dataset=dataset_prompt_tokens\n",
    "        )\n",
    "        mini_examples_ioi = analyze_prompts.get_context_referenced_prompts_for_range(0, 5)\n",
    "        mini_examples_ioi_overall.extend(mini_examples_ioi)\n",
    "    \n",
    "    except:\n",
    "        print(f\"Error with feature {feature}\")"
   ]
  },
  {
   "cell_type": "code",
   "execution_count": 83,
   "metadata": {},
   "outputs": [
    {
     "name": "stdout",
     "output_type": "stream",
     "text": [
      "The tokens causing the activation of this neuron are predominantly prepositions and determiners like \"to\", \"the\", \"of\", \"@\", \"a\", \"for\", \"in\", \"and\", \".\", \",\" with a single instance of the pronoun \"he\". \n",
      "\n",
      "Step 2:\n",
      "The context where the for the tokens resides is indicative of an interaction or a relation being established between entities, events, or ideas; these include relation of possession, location, or the performance of an action. Multiple instances include  verb-noun or verb-object constructions.\n",
      "\n",
      "Step 3:\n",
      "Many of the text examples contain information related to some activity or action undertaken by individuals or groups, with concrete consequences or outputs. The activities are varied, but often involve an item or concept being transferred, displayed, or impacted by an agent.\n",
      "\n",
      "Step 4:\n",
      "In all the IOI examples, the neuron activated on the token \"to\" or \"gave\".\n",
      "\n",
      "Step 5:\n",
      "The context in all of these examples involves an initial clause that introduces two named entities and a subsequent main clause where the first named entity from the initial clause (the subject) performing the action of giving something unspecified to the second named entity (the indirect object).\n",
      "\n",
      "Step 6:\n",
      "All of the IOI sentence examples introduce two parties and a location. Following that, in the next sentence S1 give a not fully defined object to S2.\n",
      "\n",
      "Step 7: \n",
      "[EXPLANATION]: This neuron is responsible for the prediction of prepositions that establish a relation, particularly the preposition \"to\", which is indicative of an object being given or directed towards someone or something, as per the standard IOI task. This behavior could be facilitated by prior neurons that detect linking structures and subsequently promote the prediction of a token (typically a preposition) that formalizes an interaction.\n"
     ]
    }
   ],
   "source": [
    "incoming_information = [\n",
    "    # (\"L2H2\", l2h2_interp),\n",
    "    # (\"L0H1\", l0h1_interp),\n",
    "    # (\"L3H0\", l3h0_interp),\n",
    "    # (\"L4H11\", l4h11_interp),\n",
    "    #(\"L5H5\", l5h5_interp),\n",
    "    (\"L8H6\", l8h6_interp),\n",
    "]\n",
    "\n",
    "p = main_aug_interp_prompt_ioi_incoming(mini_examples_owt_overall, mini_examples_ioi_overall, incoming_information)\n",
    "interp = get_response(p)\n",
    "print(interp)"
   ]
  },
  {
   "cell_type": "code",
   "execution_count": null,
   "metadata": {},
   "outputs": [],
   "source": []
  }
 ],
 "metadata": {
  "kernelspec": {
   "display_name": "anu",
   "language": "python",
   "name": "python3"
  },
  "language_info": {
   "codemirror_mode": {
    "name": "ipython",
    "version": 3
   },
   "file_extension": ".py",
   "mimetype": "text/x-python",
   "name": "python",
   "nbconvert_exporter": "python",
   "pygments_lexer": "ipython3",
   "version": "3.12.1"
  }
 },
 "nbformat": 4,
 "nbformat_minor": 2
}
