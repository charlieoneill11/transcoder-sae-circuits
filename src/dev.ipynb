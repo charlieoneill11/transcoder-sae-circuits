{
 "cells": [
  {
   "cell_type": "markdown",
   "metadata": {},
   "source": [
    "# Circuit autointerpretability"
   ]
  },
  {
   "cell_type": "markdown",
   "metadata": {},
   "source": [
    "This stuff just sets up everything we need."
   ]
  },
  {
   "cell_type": "code",
   "execution_count": 49,
   "metadata": {},
   "outputs": [
    {
     "name": "stdout",
     "output_type": "stream",
     "text": [
      "The autoreload extension is already loaded. To reload it, use:\n",
      "  %reload_ext autoreload\n"
     ]
    }
   ],
   "source": [
    "from autointerpretability import *\n",
    "\n",
    "# Autoreload\n",
    "%load_ext autoreload\n",
    "%autoreload 2"
   ]
  },
  {
   "cell_type": "code",
   "execution_count": 6,
   "metadata": {},
   "outputs": [
    {
     "name": "stderr",
     "output_type": "stream",
     "text": [
      "/Users/charlesoneill/miniconda3/envs/anu/lib/python3.12/site-packages/huggingface_hub/file_download.py:1132: FutureWarning: `resume_download` is deprecated and will be removed in version 1.0.0. Downloads always resume when possible. If you want to force a new download, use `force_download=True`.\n",
      "  warnings.warn(\n"
     ]
    },
    {
     "name": "stdout",
     "output_type": "stream",
     "text": [
      "Loaded pretrained model gpt2-small into HookedTransformer\n"
     ]
    },
    {
     "name": "stderr",
     "output_type": "stream",
     "text": [
      "/Users/charlesoneill/miniconda3/envs/anu/lib/python3.12/site-packages/datasets/load.py:1486: FutureWarning: The repository for Skylion007/openwebtext contains custom code which must be executed to correctly load the dataset. You can inspect the repository content at https://hf.co/datasets/Skylion007/openwebtext\n",
      "You can avoid this message in future by passing the argument `trust_remote_code=True`.\n",
      "Passing `trust_remote_code=True` will be mandatory to load this dataset from the next major release of `datasets`.\n",
      "  warnings.warn(\n",
      "Token indices sequence length is longer than the specified maximum sequence length for this model (73252 > 1024). Running this sequence through the model will result in indexing errors\n"
     ]
    }
   ],
   "source": [
    "config = yaml.safe_load(open(\"config.yaml\"))\n",
    "llm_client = AzureOpenAI(\n",
    "    azure_endpoint=config[\"base_url\"],\n",
    "    api_key=config[\"azure_api_key\"],\n",
    "    api_version=config[\"api_version\"],\n",
    ")\n",
    "\n",
    "model = HookedTransformer.from_pretrained('gpt2-small')\n",
    "\n",
    "dataset = load_dataset('Skylion007/openwebtext', split='train', streaming=True)\n",
    "dataset = dataset.shuffle(seed=42, buffer_size=10_000)\n",
    "tokenized_owt = tokenize_and_concatenate(dataset, model.tokenizer, max_length=128, streaming=True)\n",
    "tokenized_owt = tokenized_owt.shuffle(42)\n",
    "tokenized_owt = tokenized_owt.take(12800 * 2)\n",
    "owt_tokens = np.stack([x['tokens'] for x in tokenized_owt])\n",
    "owt_tokens_torch = torch.tensor(owt_tokens)\n",
    "\n",
    "device = 'cpu'\n",
    "tl_model, z_saes, transcoders = get_model_encoders(device=device)"
   ]
  },
  {
   "cell_type": "markdown",
   "metadata": {},
   "source": [
    "Note you can specify the features you want to examine, in each layer, and just pass in either the relevant ZSAE or MLP transcoder depending on what component you want to look at. The `get_feature_scores` function will handle the differences. Let's have a look at the max-activating examples on Danny's features he wanted to check out (note you can slice `owt_tokens_torch` to run for shorter)."
   ]
  },
  {
   "cell_type": "code",
   "execution_count": 7,
   "metadata": {},
   "outputs": [
    {
     "name": "stdout",
     "output_type": "stream",
     "text": [
      "ZSAE\n"
     ]
    },
    {
     "name": "stderr",
     "output_type": "stream",
     "text": [
      "100%|██████████| 200/200 [04:04<00:00,  1.22s/it]\n"
     ]
    }
   ],
   "source": [
    "features = [16513, 7861]\n",
    "sae = z_saes[8]\n",
    "feature_scores = get_feature_scores(model, sae, owt_tokens_torch, features, batch_size=128)"
   ]
  },
  {
   "cell_type": "markdown",
   "metadata": {},
   "source": [
    "Our feature scores are a tensor of shape `(batch, feature, seq_pos)`, and so I've got a function to help extract the max-activating examples for each feature. You need to specify the feature index, which is why it's helpful to know from above the features in your list."
   ]
  },
  {
   "cell_type": "code",
   "execution_count": 13,
   "metadata": {},
   "outputs": [
    {
     "data": {
      "text/plain": [
       "(25600, 2, 128)"
      ]
     },
     "execution_count": 13,
     "metadata": {},
     "output_type": "execute_result"
    }
   ],
   "source": [
    "feature_scores.shape"
   ]
  },
  {
   "cell_type": "code",
   "execution_count": 43,
   "metadata": {},
   "outputs": [
    {
     "data": {
      "text/html": [
       "\n",
       "    <style>\n",
       "        span.token {\n",
       "            font-family: monospace;\n",
       "            border-style: solid;\n",
       "            border-width: 1px;\n",
       "            border-color: #dddddd;\n",
       "        }\n",
       "    </style>\n",
       "    <span class='token' style='background-color: #ffffff'>&lt;|endoftext|&gt;<span class='feature_val'> (0.00)</span></span><span class='token' style='background-color: #ffffff'>ong<span class='feature_val'> (0.00)</span></span><span class='token' style='background-color: #ffffff'>ba<span class='feature_val'> (0.00)</span></span><span class='token' style='background-color: #ffffff'> (<span class='feature_val'> (0.00)</span></span><span class='token' style='background-color: #ffffff'>Dr<span class='feature_val'> (0.00)</span></span><span class='token' style='background-color: #ffffff'>ong<span class='feature_val'> (0.00)</span></span><span class='token' style='background-color: #ffffff'>pa<span class='feature_val'> (0.00)</span></span><span class='token' style='background-color: #ffffff'>),<span class='feature_val'> (0.00)</span></span><span class='token' style='background-color: #ffffff'> Yad<span class='feature_val'> (0.00)</span></span><span class='token' style='background-color: #ffffff'>ong<span class='feature_val'> (0.00)</span></span><span class='token' style='background-color: #ffffff'> (<span class='feature_val'> (0.00)</span></span><span class='token' style='background-color: #ffffff'>Y<span class='feature_val'> (0.00)</span></span><span class='token' style='background-color: #ffffff'>at<span class='feature_val'> (0.00)</span></span><span class='token' style='background-color: #ffffff'>ung<span class='feature_val'> (0.00)</span></span><span class='token' style='background-color: #ffffff'> or<span class='feature_val'> (0.00)</span></span><span class='token' style='background-color: #ffffff'> D<span class='feature_val'> (0.00)</span></span><span class='token' style='background-color: #ffffff'>rom<span class='feature_val'> (0.00)</span></span><span class='token' style='background-color: #ffffff'>o<span class='feature_val'> (0.00)</span></span><span class='token' style='background-color: #ffffff'>),<span class='feature_val'> (0.00)</span></span><span class='token' style='background-color: #ffffff'> L<span class='feature_val'> (0.00)</span></span><span class='token' style='background-color: #ffffff'>h<span class='feature_val'> (0.00)</span></span><span class='token' style='background-color: #ffffff'>aze<span class='feature_val'> (0.00)</span></span><span class='token' style='background-color: #ffffff'>,<span class='feature_val'> (0.00)</span></span><span class='token' style='background-color: #ffffff'> and<span class='feature_val'> (0.00)</span></span><span class='token' style='background-color: #ffffff'> Bur<span class='feature_val'> (0.00)</span></span><span class='token' style='background-color: #ffffff'>ang<span class='feature_val'> (0.00)</span></span><span class='token' style='background-color: #ffffff'> (<span class='feature_val'> (0.00)</span></span><span class='token' style='background-color: #ffffff'>Pur<span class='feature_val'> (0.00)</span></span><span class='token' style='background-color: #ffffff'>ang<span class='feature_val'> (0.00)</span></span><span class='token' style='background-color: #ffffff'>)<span class='feature_val'> (0.00)</span></span><span class='token' style='background-color: #ffffff'> in<span class='feature_val'> (0.00)</span></span><span class='token' style='background-color: #ffffff'> Ng<span class='feature_val'> (0.00)</span></span><span class='token' style='background-color: #ffffff'>ari<span class='feature_val'> (0.00)</span></span><span class='token' style='background-color: #ffffff'>,<span class='feature_val'> (0.00)</span></span><span class='token' style='background-color: #ffffff'> Sh<span class='feature_val'> (0.00)</span></span><span class='token' style='background-color: #ffffff'>ig<span class='feature_val'> (0.00)</span></span><span class='token' style='background-color: #ffffff'>at<span class='feature_val'> (0.00)</span></span><span class='token' style='background-color: #ffffff'>se<span class='feature_val'> (0.00)</span></span><span class='token' style='background-color: #ffffff'>,<span class='feature_val'> (0.00)</span></span><span class='token' style='background-color: #ffffff'> Gy<span class='feature_val'> (0.00)</span></span><span class='token' style='background-color: #ffffff'>ant<span class='feature_val'> (0.00)</span></span><span class='token' style='background-color: #ffffff'>se<span class='feature_val'> (0.00)</span></span><span class='token' style='background-color: #ffffff'>,<span class='feature_val'> (0.00)</span></span><span class='token' style='background-color: #ffffff'> L<span class='feature_val'> (0.00)</span></span><span class='token' style='background-color: #ffffff'>h<span class='feature_val'> (0.00)</span></span><span class='token' style='background-color: #ffffff'>oka<span class='feature_val'> (0.00)</span></span><span class='token' style='background-color: #ffffff'>,<span class='feature_val'> (0.00)</span></span><span class='token' style='background-color: #ffffff'> and<span class='feature_val'> (0.00)</span></span><span class='token' style='background-color: #ffffff'> N<span class='feature_val'> (0.00)</span></span><span class='token' style='background-color: #ffffff'>ying<span class='feature_val'> (0.00)</span></span><span class='token' style='background-color: #ffffff'>tri<span class='feature_val'> (0.00)</span></span><span class='token' style='background-color: #ffffff'> pre<span class='feature_val'> (0.00)</span></span><span class='token' style='background-color: #ffffff'>fect<span class='feature_val'> (0.00)</span></span><span class='token' style='background-color: #ffffff'>ures<span class='feature_val'> (0.00)</span></span><span class='token' style='background-color: #ffffff'> along<span class='feature_val'> (0.00)</span></span><span class='token' style='background-color: #ffffff'> the<span class='feature_val'> (0.00)</span></span><span class='token' style='background-color: #ffffff'> Himal<span class='feature_val'> (0.00)</span></span><span class='token' style='background-color: #ffffff'>ayan<span class='feature_val'> (0.00)</span></span><span class='token' style='background-color: #ffffff'> belt<span class='feature_val'> (0.00)</span></span><span class='token' style='background-color: #ffffff'> bordering<span class='feature_val'> (0.00)</span></span><span class='token' style='background-color: #ffffff'> Nepal<span class='feature_val'> (0.00)</span></span><span class='token' style='background-color: #ffffff'> and<span class='feature_val'> (0.00)</span></span><span class='token' style='background-color: #ffffff'> India<span class='feature_val'> (0.00)</span></span><span class='token' style='background-color: #ffffff'>.<span class='feature_val'> (0.00)</span></span><span class='token' style='background-color: #ffffff'>\n",
       "<span class='feature_val'> (0.00)</span></span><span class='token' style='background-color: #ffffff'>\n",
       "<span class='feature_val'> (0.00)</span></span><span class='token' style='background-color: #ffffff'>N<span class='feature_val'> (0.00)</span></span><span class='token' style='background-color: #ffffff'>y<span class='feature_val'> (0.00)</span></span><span class='token' style='background-color: #ffffff'>alam<span class='feature_val'> (0.00)</span></span><span class='token' style='background-color: #ffffff'> and<span class='feature_val'> (0.00)</span></span><span class='token' style='background-color: #ffffff'> Ky<span class='feature_val'> (0.00)</span></span><span class='token' style='background-color: #ffffff'>ir<span class='feature_val'> (0.00)</span></span><span class='token' style='background-color: #ffffff'>ong<span class='feature_val'> (0.00)</span></span><span class='token' style='background-color: #ffffff'> were<span class='feature_val'> (0.00)</span></span><span class='token' style='background-color: #ffffff'> apparently<span class='feature_val'> (0.00)</span></span><span class='token' style='background-color: #ffffff'> the<span class='feature_val'> (0.00)</span></span><span class='token' style='background-color: #ffffff'> most<span class='feature_val'> (0.00)</span></span><span class='token' style='background-color: #ffffff'> severely<span class='feature_val'> (0.00)</span></span><span class='token' style='background-color: #ffffff'> affected<span class='feature_val'> (0.00)</span></span><span class='token' style='background-color: #ffffff'> on<span class='feature_val'> (0.00)</span></span><span class='token' style='background-color: #ffffff'> the<span class='feature_val'> (0.00)</span></span><span class='token' style='background-color: #ffffff'> Tibetan<span class='feature_val'> (0.00)</span></span><span class='token' style='background-color: #ffffff'> side<span class='feature_val'> (0.00)</span></span><span class='token' style='background-color: #ffffff'>.<span class='feature_val'> (0.00)</span></span><span class='token' style='background-color: #ffffff'> China<span class='feature_val'> (0.00)</span></span><span class='token' style='background-color: #ffffff'>�<span class='feature_val'> (0.00)</span></span><span class='token' style='background-color: #ffffff'>�<span class='feature_val'> (0.00)</span></span><span class='token' style='background-color: #ffffff'>s<span class='feature_val'> (0.00)</span></span><span class='token' style='background-color: #ffffff'> official<span class='feature_val'> (0.00)</span></span><span class='token' style='background-color: #ffffff'> Chin<span class='feature_val'> (0.00)</span></span><span class='token' style='background-color: #ffffff'>ad<span class='feature_val'> (0.00)</span></span><span class='token' style='background-color: #ffffff'>aily<span class='feature_val'> (0.00)</span></span><span class='token' style='background-color: #ffffff'>.<span class='feature_val'> (0.00)</span></span><span class='token' style='background-color: #ffffff'>com<span class='feature_val'> (0.00)</span></span><span class='token' style='background-color: #ffffff'>.<span class='feature_val'> (0.00)</span></span><span class='token' style='background-color: #ffffff'>cn<span class='feature_val'> (0.00)</span></span><span class='token' style='background-color: #ffffff'> reported<span class='feature_val'> (0.00)</span></span><span class='token' style='background-color: #ffffff'> Apr<span class='feature_val'> (0.00)</span></span><span class='token' style='background-color: #ffffff'> 26<span class='feature_val'> (0.00)</span></span><span class='token' style='background-color: #ffffff'> that<span class='feature_val'> (0.00)</span></span><span class='token' style='background-color: #ffffff'> some<span class='feature_val'> (0.00)</span></span><span class='token' style='background-color: #ffffff'> 7<span class='feature_val'> (0.00)</span></span><span class='token' style='background-color: #ffffff'>,<span class='feature_val'> (0.00)</span></span><span class='token' style='background-color: #ffffff'>000<span class='feature_val'> (0.00)</span></span><span class='token' style='background-color: #ffffff'> people<span class='feature_val'> (0.00)</span></span><span class='token' style='background-color: #ffffff'> had<span class='feature_val'> (0.00)</span></span><span class='token' style='background-color: #ffffff'> been<span class='feature_val'> (0.00)</span></span><span class='token' style='background-color: #ffffff'> relocated<span class='feature_val'> (0.00)</span></span><span class='token' style='background-color: #ffffff'> in<span class='feature_val'> (0.00)</span></span><span class='token' style='background-color: #ffffff'> the<span class='feature_val'> (0.00)</span></span><span class='token' style='background-color: #ffffff'> county<span class='feature_val'> (0.00)</span></span><span class='token' style='background-color: #ffffff'> of<span class='feature_val'> (0.00)</span></span><span class='token' style='background-color: #ffffff'> Ny<span class='feature_val'> (0.00)</span></span><span class='token' style='background-color: #ffffff'>alam<span class='feature_val'> (0.00)</span></span><span class='token' style='background-color: #ffffff'> while<span class='feature_val'> (0.00)</span></span><span class='token' style='background-color: #ffffff'> about<span class='feature_val'> (0.00)</span></span><span class='token' style='background-color: #ffffff'> 5<span class='feature_val'> (0.00)</span></span><span class='token' style='background-color: #ffffff'>,<span class='feature_val'> (0.00)</span></span><span class='token' style='background-color: #ffffff'>000<span class='feature_val'> (0.00)</span></span><span class='token' style='background-color: #ffffff'> had<span class='feature_val'> (0.00)</span></span><span class='token' style='background-color: #ffffff'> been<span class='feature_val'> (0.00)</span></span><span class='token' style='background-color: #ffffff'> evacuated<span class='feature_val'> (0.00)</span></span><span class='token' style='background-color: #ffcc90'> in<span class='feature_val'> (2.50)</span></span><span class='token' style='background-color: #ffffff'> the<span class='feature_val'> (0.00)</span></span><span class='token' style='background-color: #ffecd5'> county<span class='feature_val'> (0.94)</span></span><span class='token' style='background-color: #ff8c00'> of<span class='feature_val'> (5.75)</span></span><span class='token' style='background-color: #ffd5a3'> Ky<span class='feature_val'> (2.07)</span></span><span class='token' style='background-color: #fefcfa'>ir<span class='feature_val'> (0.10)</span></span>"
      ],
      "text/plain": [
       "<IPython.core.display.HTML object>"
      ]
     },
     "metadata": {},
     "output_type": "display_data"
    },
    {
     "data": {
      "text/html": [
       "\n",
       "    <style>\n",
       "        span.token {\n",
       "            font-family: monospace;\n",
       "            border-style: solid;\n",
       "            border-width: 1px;\n",
       "            border-color: #dddddd;\n",
       "        }\n",
       "    </style>\n",
       "    <span class='token' style='background-color: #ffffff'>&lt;|endoftext|&gt;<span class='feature_val'> (0.00)</span></span><span class='token' style='background-color: #ffffff'>Two<span class='feature_val'> (0.00)</span></span><span class='token' style='background-color: #ffffff'> galleries<span class='feature_val'> (0.00)</span></span><span class='token' style='background-color: #ffffff'> in<span class='feature_val'> (0.00)</span></span><span class='token' style='background-color: #ffffff'> Tehran<span class='feature_val'> (0.00)</span></span><span class='token' style='background-color: #ffffff'> are<span class='feature_val'> (0.00)</span></span><span class='token' style='background-color: #ffffff'> holding<span class='feature_val'> (0.00)</span></span><span class='token' style='background-color: #ffffff'> a<span class='feature_val'> (0.00)</span></span><span class='token' style='background-color: #ffffff'> retrospective<span class='feature_val'> (0.00)</span></span><span class='token' style='background-color: #ffffff'> of<span class='feature_val'> (0.00)</span></span><span class='token' style='background-color: #ffffff'> painter<span class='feature_val'> (0.00)</span></span><span class='token' style='background-color: #ffffff'> Sir<span class='feature_val'> (0.00)</span></span><span class='token' style='background-color: #ffffff'>ak<span class='feature_val'> (0.00)</span></span><span class='token' style='background-color: #ffffff'> Mel<span class='feature_val'> (0.00)</span></span><span class='token' style='background-color: #ffffff'>k<span class='feature_val'> (0.00)</span></span><span class='token' style='background-color: #ffffff'>onian<span class='feature_val'> (0.00)</span></span><span class='token' style='background-color: #ffffff'> in<span class='feature_val'> (0.00)</span></span><span class='token' style='background-color: #ffffff'> a<span class='feature_val'> (0.00)</span></span><span class='token' style='background-color: #ffffff'> joint<span class='feature_val'> (0.00)</span></span><span class='token' style='background-color: #ffffff'> project<span class='feature_val'> (0.00)</span></span><span class='token' style='background-color: #ffffff'>.<span class='feature_val'> (0.00)</span></span><span class='token' style='background-color: #ffffff'> A<span class='feature_val'> (0.00)</span></span><span class='token' style='background-color: #ffffff'> collection<span class='feature_val'> (0.00)</span></span><span class='token' style='background-color: #ffffff'> of<span class='feature_val'> (0.00)</span></span><span class='token' style='background-color: #ffffff'> paintings<span class='feature_val'> (0.00)</span></span><span class='token' style='background-color: #ffffff'> created<span class='feature_val'> (0.00)</span></span><span class='token' style='background-color: #ffffff'> over<span class='feature_val'> (0.00)</span></span><span class='token' style='background-color: #ffffff'> the<span class='feature_val'> (0.00)</span></span><span class='token' style='background-color: #ffffff'> past<span class='feature_val'> (0.00)</span></span><span class='token' style='background-color: #ffffff'> 70<span class='feature_val'> (0.00)</span></span><span class='token' style='background-color: #ffffff'> years<span class='feature_val'> (0.00)</span></span><span class='token' style='background-color: #ffffff'> by<span class='feature_val'> (0.00)</span></span><span class='token' style='background-color: #ffffff'> the<span class='feature_val'> (0.00)</span></span><span class='token' style='background-color: #ffffff'> 85<span class='feature_val'> (0.00)</span></span><span class='token' style='background-color: #ffffff'>-<span class='feature_val'> (0.00)</span></span><span class='token' style='background-color: #ffffff'>year<span class='feature_val'> (0.00)</span></span><span class='token' style='background-color: #ffffff'>-<span class='feature_val'> (0.00)</span></span><span class='token' style='background-color: #ffffff'>old<span class='feature_val'> (0.00)</span></span><span class='token' style='background-color: #ffffff'> artist<span class='feature_val'> (0.00)</span></span><span class='token' style='background-color: #ffffff'> are<span class='feature_val'> (0.00)</span></span><span class='token' style='background-color: #ffffff'> on<span class='feature_val'> (0.00)</span></span><span class='token' style='background-color: #ffffff'> display<span class='feature_val'> (0.00)</span></span><span class='token' style='background-color: #ffffff'> at<span class='feature_val'> (0.00)</span></span><span class='token' style='background-color: #ffffff'> the<span class='feature_val'> (0.00)</span></span><span class='token' style='background-color: #ffffff'> Ari<span class='feature_val'> (0.00)</span></span><span class='token' style='background-color: #ffffff'>a<span class='feature_val'> (0.00)</span></span><span class='token' style='background-color: #ffffff'> and<span class='feature_val'> (0.00)</span></span><span class='token' style='background-color: #ffffff'> Ab<span class='feature_val'> (0.00)</span></span><span class='token' style='background-color: #ffffff'> An<span class='feature_val'> (0.00)</span></span><span class='token' style='background-color: #ffffff'>bar<span class='feature_val'> (0.00)</span></span><span class='token' style='background-color: #ffffff'> galleries<span class='feature_val'> (0.00)</span></span><span class='token' style='background-color: #ffffff'>,<span class='feature_val'> (0.00)</span></span><span class='token' style='background-color: #ffffff'> the<span class='feature_val'> (0.00)</span></span><span class='token' style='background-color: #ffffff'> Persian<span class='feature_val'> (0.00)</span></span><span class='token' style='background-color: #ffffff'> service<span class='feature_val'> (0.00)</span></span><span class='token' style='background-color: #ffffff'> of<span class='feature_val'> (0.00)</span></span><span class='token' style='background-color: #ffffff'> IS<span class='feature_val'> (0.00)</span></span><span class='token' style='background-color: #ffffff'>NA<span class='feature_val'> (0.00)</span></span><span class='token' style='background-color: #ffffff'> reported<span class='feature_val'> (0.00)</span></span><span class='token' style='background-color: #ffffff'> on<span class='feature_val'> (0.00)</span></span><span class='token' style='background-color: #ffffff'> Tuesday<span class='feature_val'> (0.00)</span></span><span class='token' style='background-color: #ffffff'>.<span class='feature_val'> (0.00)</span></span><span class='token' style='background-color: #ffffff'>\n",
       "<span class='feature_val'> (0.00)</span></span><span class='token' style='background-color: #ffffff'>\n",
       "<span class='feature_val'> (0.00)</span></span><span class='token' style='background-color: #ffffff'>The<span class='feature_val'> (0.00)</span></span><span class='token' style='background-color: #ffffff'> two<span class='feature_val'> (0.00)</span></span><span class='token' style='background-color: #ffffff'> exhibitions<span class='feature_val'> (0.00)</span></span><span class='token' style='background-color: #ffffff'> opened<span class='feature_val'> (0.00)</span></span><span class='token' style='background-color: #ffffff'> on<span class='feature_val'> (0.00)</span></span><span class='token' style='background-color: #ffffff'> January<span class='feature_val'> (0.00)</span></span><span class='token' style='background-color: #ffffff'> 30<span class='feature_val'> (0.00)</span></span><span class='token' style='background-color: #ffffff'> and<span class='feature_val'> (0.00)</span></span><span class='token' style='background-color: #ffffff'> will<span class='feature_val'> (0.00)</span></span><span class='token' style='background-color: #ffffff'> run<span class='feature_val'> (0.00)</span></span><span class='token' style='background-color: #ffffff'> until<span class='feature_val'> (0.00)</span></span><span class='token' style='background-color: #ffffff'> February<span class='feature_val'> (0.00)</span></span><span class='token' style='background-color: #ffffff'> 19<span class='feature_val'> (0.00)</span></span><span class='token' style='background-color: #ffffff'>.<span class='feature_val'> (0.00)</span></span><span class='token' style='background-color: #ffffff'>\n",
       "<span class='feature_val'> (0.00)</span></span><span class='token' style='background-color: #ffffff'>\n",
       "<span class='feature_val'> (0.00)</span></span><span class='token' style='background-color: #ffffff'>A<span class='feature_val'> (0.00)</span></span><span class='token' style='background-color: #ffffff'>ria<span class='feature_val'> (0.00)</span></span><span class='token' style='background-color: #ffffff'> Gallery<span class='feature_val'> (0.00)</span></span><span class='token' style='background-color: #ffffff'>:<span class='feature_val'> (0.00)</span></span><span class='token' style='background-color: #ffffff'> 10<span class='feature_val'> (0.00)</span></span><span class='token' style='background-color: #ffffff'> Z<span class='feature_val'> (0.00)</span></span><span class='token' style='background-color: #ffffff'>arr<span class='feature_val'> (0.00)</span></span><span class='token' style='background-color: #ffffff'>in<span class='feature_val'> (0.00)</span></span><span class='token' style='background-color: #ffffff'> Alley<span class='feature_val'> (0.00)</span></span><span class='token' style='background-color: #ffffff'>,<span class='feature_val'> (0.00)</span></span><span class='token' style='background-color: #ffffff'> off<span class='feature_val'> (0.00)</span></span><span class='token' style='background-color: #ffffff'> Val<span class='feature_val'> (0.00)</span></span><span class='token' style='background-color: #ffffff'>i<span class='feature_val'> (0.00)</span></span><span class='token' style='background-color: #ffffff'>-<span class='feature_val'> (0.00)</span></span><span class='token' style='background-color: #ffffff'>e<span class='feature_val'> (0.00)</span></span><span class='token' style='background-color: #ffffff'> As<span class='feature_val'> (0.00)</span></span><span class='token' style='background-color: #ffffff'>r<span class='feature_val'> (0.00)</span></span><span class='token' style='background-color: #ffffff'> Ave<span class='feature_val'> (0.00)</span></span><span class='token' style='background-color: #ffffff'>.<span class='feature_val'> (0.00)</span></span><span class='token' style='background-color: #fff3e5'>\n",
       "<span class='feature_val'> (0.56)</span></span><span class='token' style='background-color: #ff8c00'>\n",
       "<span class='feature_val'> (5.69)</span></span><span class='token' style='background-color: #ffcd90'>Ab<span class='feature_val'> (2.47)</span></span><span class='token' style='background-color: #ffdbb0'> An<span class='feature_val'> (1.75)</span></span><span class='token' style='background-color: #ffe6c9'>bar<span class='feature_val'> (1.20)</span></span><span class='token' style='background-color: #ffffff'> Gallery<span class='feature_val'> (0.00)</span></span><span class='token' style='background-color: #ffffff'>:<span class='feature_val'> (0.00)</span></span><span class='token' style='background-color: #ffffff'> 2<span class='feature_val'> (0.00)</span></span><span class='token' style='background-color: #ffffff'> R<span class='feature_val'> (0.00)</span></span><span class='token' style='background-color: #ffffff'>osh<span class='feature_val'> (0.00)</span></span><span class='token' style='background-color: #ffffff'>an<span class='feature_val'> (0.00)</span></span><span class='token' style='background-color: #ffffff'> Man<span class='feature_val'> (0.00)</span></span><span class='token' style='background-color: #ffffff'>esh<span class='feature_val'> (0.00)</span></span><span class='token' style='background-color: #ffffff'> Alley<span class='feature_val'> (0.00)</span></span><span class='token' style='background-color: #ffffff'>,<span class='feature_val'> (0.00)</span></span><span class='token' style='background-color: #ffffff'> K<span class='feature_val'> (0.00)</span></span><span class='token' style='background-color: #ffffff'>ha<span class='feature_val'> (0.00)</span></span><span class='token' style='background-color: #ffffff'>q<span class='feature_val'> (0.00)</span></span><span class='token' style='background-color: #ffffff'>ani<span class='feature_val'> (0.00)</span></span><span class='token' style='background-color: #ffffff'> St<span class='feature_val'> (0.00)</span></span><span class='token' style='background-color: #ffffff'>.,<span class='feature_val'> (0.00)</span></span><span class='token' style='background-color: #ffffff'> off<span class='feature_val'> (0.00)</span></span><span class='token' style='background-color: #ffffff'> En<span class='feature_val'> (0.00)</span></span><span class='token' style='background-color: #ffffff'>q<span class='feature_val'> (0.00)</span></span><span class='token' style='background-color: #ffffff'>el<span class='feature_val'> (0.00)</span></span><span class='token' style='background-color: #ffffff'>ab<span class='feature_val'> (0.00)</span></span><span class='token' style='background-color: #ffffff'> Ave<span class='feature_val'> (0.00)</span></span><span class='token' style='background-color: #ffffff'>.<span class='feature_val'> (0.00)</span></span><span class='token' style='background-color: #fff9f3'>\n",
       "<span class='feature_val'> (0.26)</span></span>"
      ],
      "text/plain": [
       "<IPython.core.display.HTML object>"
      ]
     },
     "metadata": {},
     "output_type": "display_data"
    },
    {
     "data": {
      "text/html": [
       "\n",
       "    <style>\n",
       "        span.token {\n",
       "            font-family: monospace;\n",
       "            border-style: solid;\n",
       "            border-width: 1px;\n",
       "            border-color: #dddddd;\n",
       "        }\n",
       "    </style>\n",
       "    <span class='token' style='background-color: #ffffff'>&lt;|endoftext|&gt;<span class='feature_val'> (0.00)</span></span><span class='token' style='background-color: #ffffff'> Little<span class='feature_val'> (0.00)</span></span><span class='token' style='background-color: #ffffff'> Big<span class='feature_val'> (0.00)</span></span><span class='token' style='background-color: #ffffff'> Town<span class='feature_val'> (0.00)</span></span><span class='token' style='background-color: #ffffff'>\n",
       "<span class='feature_val'> (0.00)</span></span><span class='token' style='background-color: #ffffff'>\n",
       "<span class='feature_val'> (0.00)</span></span><span class='token' style='background-color: #ffffff'>Little<span class='feature_val'> (0.00)</span></span><span class='token' style='background-color: #ffffff'> Big<span class='feature_val'> (0.00)</span></span><span class='token' style='background-color: #ffffff'> Town<span class='feature_val'> (0.00)</span></span><span class='token' style='background-color: #ffffff'> are<span class='feature_val'> (0.00)</span></span><span class='token' style='background-color: #ffffff'> convinced<span class='feature_val'> (0.00)</span></span><span class='token' style='background-color: #ffffff'> they<span class='feature_val'> (0.00)</span></span><span class='token' style='background-color: #ffffff'>�<span class='feature_val'> (0.00)</span></span><span class='token' style='background-color: #ffffff'>�<span class='feature_val'> (0.00)</span></span><span class='token' style='background-color: #ffffff'>re<span class='feature_val'> (0.00)</span></span><span class='token' style='background-color: #ffffff'> country<span class='feature_val'> (0.00)</span></span><span class='token' style='background-color: #ffffff'> music<span class='feature_val'> (0.00)</span></span><span class='token' style='background-color: #ffffff'>�<span class='feature_val'> (0.00)</span></span><span class='token' style='background-color: #ffffff'>�<span class='feature_val'> (0.00)</span></span><span class='token' style='background-color: #ffffff'>s<span class='feature_val'> (0.00)</span></span><span class='token' style='background-color: #ffffff'> M<span class='feature_val'> (0.00)</span></span><span class='token' style='background-color: #ffffff'>amas<span class='feature_val'> (0.00)</span></span><span class='token' style='background-color: #ffffff'> and<span class='feature_val'> (0.00)</span></span><span class='token' style='background-color: #ffffff'> the<span class='feature_val'> (0.00)</span></span><span class='token' style='background-color: #ffffff'> Pap<span class='feature_val'> (0.00)</span></span><span class='token' style='background-color: #ffffff'>as<span class='feature_val'> (0.00)</span></span><span class='token' style='background-color: #ffffff'>,<span class='feature_val'> (0.00)</span></span><span class='token' style='background-color: #ffffff'> but<span class='feature_val'> (0.00)</span></span><span class='token' style='background-color: #ffffff'> they<span class='feature_val'> (0.00)</span></span><span class='token' style='background-color: #ffffff'>�<span class='feature_val'> (0.00)</span></span><span class='token' style='background-color: #ffffff'>�<span class='feature_val'> (0.00)</span></span><span class='token' style='background-color: #ffffff'>re<span class='feature_val'> (0.00)</span></span><span class='token' style='background-color: #ffffff'> really<span class='feature_val'> (0.00)</span></span><span class='token' style='background-color: #ffffff'> its<span class='feature_val'> (0.00)</span></span><span class='token' style='background-color: #ffffff'> Fleet<span class='feature_val'> (0.00)</span></span><span class='token' style='background-color: #ffffff'>wood<span class='feature_val'> (0.00)</span></span><span class='token' style='background-color: #ffffff'> Mac<span class='feature_val'> (0.00)</span></span><span class='token' style='background-color: #ffffff'>.<span class='feature_val'> (0.00)</span></span><span class='token' style='background-color: #ffffff'>\n",
       "<span class='feature_val'> (0.00)</span></span><span class='token' style='background-color: #ffffff'>\n",
       "<span class='feature_val'> (0.00)</span></span><span class='token' style='background-color: #ffffff'>4<span class='feature_val'> (0.00)</span></span><span class='token' style='background-color: #ffffff'>.<span class='feature_val'> (0.00)</span></span><span class='token' style='background-color: #ffffff'> �<span class='feature_val'> (0.00)</span></span><span class='token' style='background-color: #ffffff'>�<span class='feature_val'> (0.00)</span></span><span class='token' style='background-color: #ffffff'>Mad<span class='feature_val'> (0.00)</span></span><span class='token' style='background-color: #ffffff'>,<span class='feature_val'> (0.00)</span></span><span class='token' style='background-color: #ffffff'>�<span class='feature_val'> (0.00)</span></span><span class='token' style='background-color: #ffffff'>�<span class='feature_val'> (0.00)</span></span><span class='token' style='background-color: #ffffff'> Sol<span class='feature_val'> (0.00)</span></span><span class='token' style='background-color: #ffffff'>ange<span class='feature_val'> (0.00)</span></span><span class='token' style='background-color: #ffffff'> &amp;<span class='feature_val'> (0.00)</span></span><span class='token' style='background-color: #ffffff'> Lil<span class='feature_val'> (0.00)</span></span><span class='token' style='background-color: #ffffff'> Wayne<span class='feature_val'> (0.00)</span></span><span class='token' style='background-color: #ffffff'>\n",
       "<span class='feature_val'> (0.00)</span></span><span class='token' style='background-color: #ffffff'>\n",
       "<span class='feature_val'> (0.00)</span></span><span class='token' style='background-color: #ffffff'>�<span class='feature_val'> (0.00)</span></span><span class='token' style='background-color: #ffffff'>�<span class='feature_val'> (0.00)</span></span><span class='token' style='background-color: #ffffff'>Mad<span class='feature_val'> (0.00)</span></span><span class='token' style='background-color: #ffffff'>�<span class='feature_val'> (0.00)</span></span><span class='token' style='background-color: #ffead1'>�<span class='feature_val'> (0.99)</span></span><span class='token' style='background-color: #ffffff'> is<span class='feature_val'> (0.00)</span></span><span class='token' style='background-color: #ffffff'> one<span class='feature_val'> (0.00)</span></span><span class='token' style='background-color: #ffffff'>-<span class='feature_val'> (0.00)</span></span><span class='token' style='background-color: #ffffff'>half<span class='feature_val'> (0.00)</span></span><span class='token' style='background-color: #ffffff'> a<span class='feature_val'> (0.00)</span></span><span class='token' style='background-color: #ffffff'> Sol<span class='feature_val'> (0.00)</span></span><span class='token' style='background-color: #ffffff'>ange<span class='feature_val'> (0.00)</span></span><span class='token' style='background-color: #ffffff'> self<span class='feature_val'> (0.00)</span></span><span class='token' style='background-color: #ffffff'>-<span class='feature_val'> (0.00)</span></span><span class='token' style='background-color: #ffffff'>care<span class='feature_val'> (0.00)</span></span><span class='token' style='background-color: #ffffff'> session<span class='feature_val'> (0.00)</span></span><span class='token' style='background-color: #fedaac'> and<span class='feature_val'> (1.79)</span></span><span class='token' style='background-color: #ffb050'> half<span class='feature_val'> (3.80)</span></span><span class='token' style='background-color: #ff8c00'> an<span class='feature_val'> (5.55)</span></span><span class='token' style='background-color: #ffffff'> exercise<span class='feature_val'> (0.00)</span></span><span class='token' style='background-color: #ffecd5'> in<span class='feature_val'> (0.91)</span></span><span class='token' style='background-color: #fffbf8'> Lil<span class='feature_val'> (0.15)</span></span><span class='token' style='background-color: #fffefe'> Wayne<span class='feature_val'> (0.00)</span></span><span class='token' style='background-color: #ffffff'> pa<span class='feature_val'> (0.00)</span></span><span class='token' style='background-color: #ffffff'>using<span class='feature_val'> (0.00)</span></span><span class='token' style='background-color: #ffffff'> to<span class='feature_val'> (0.00)</span></span><span class='token' style='background-color: #ffffff'> enjoy<span class='feature_val'> (0.00)</span></span><span class='token' style='background-color: #ffffff'> his<span class='feature_val'> (0.00)</span></span><span class='token' style='background-color: #ffffff'> rich<span class='feature_val'> (0.00)</span></span><span class='token' style='background-color: #ffffff'>-<span class='feature_val'> (0.00)</span></span><span class='token' style='background-color: #ffffff'>guy<span class='feature_val'> (0.00)</span></span><span class='token' style='background-color: #ffffff'>/<span class='feature_val'> (0.00)</span></span><span class='token' style='background-color: #ffffff'>street<span class='feature_val'> (0.00)</span></span><span class='token' style='background-color: #ffffff'>-<span class='feature_val'> (0.00)</span></span><span class='token' style='background-color: #ffffff'>ra<span class='feature_val'> (0.00)</span></span><span class='token' style='background-color: #ffffff'>pper<span class='feature_val'> (0.00)</span></span><span class='token' style='background-color: #ffffff'> contradictions<span class='feature_val'> (0.00)</span></span><span class='token' style='background-color: #ffffff'> for<span class='feature_val'> (0.00)</span></span><span class='token' style='background-color: #ffffff'> once<span class='feature_val'> (0.00)</span></span><span class='token' style='background-color: #ffffff'>,<span class='feature_val'> (0.00)</span></span><span class='token' style='background-color: #fff5e9'> but<span class='feature_val'> (0.47)</span></span><span class='token' style='background-color: #ffffff'> it<span class='feature_val'> (0.00)</span></span><span class='token' style='background-color: #ffffff'>�<span class='feature_val'> (0.00)</span></span><span class='token' style='background-color: #ffffff'>�<span class='feature_val'> (0.00)</span></span><span class='token' style='background-color: #ffffff'>s<span class='feature_val'> (0.00)</span></span><span class='token' style='background-color: #ffffff'> 100<span class='feature_val'> (0.00)</span></span><span class='token' style='background-color: #ffebd4'> percent<span class='feature_val'> (0.93)</span></span><span class='token' style='background-color: #fff7ee'> a<span class='feature_val'> (0.37)</span></span><span class='token' style='background-color: #ffffff'> pleasure<span class='feature_val'> (0.00)</span></span><span class='token' style='background-color: #ffffff'>.<span class='feature_val'> (0.00)</span></span><span class='token' style='background-color: #ffffff'>\n",
       "<span class='feature_val'> (0.00)</span></span><span class='token' style='background-color: #ffffff'>\n",
       "<span class='feature_val'> (0.00)</span></span><span class='token' style='background-color: #ffffff'>5<span class='feature_val'> (0.00)</span></span><span class='token' style='background-color: #ffffff'>.<span class='feature_val'> (0.00)</span></span><span class='token' style='background-color: #ffffff'> �<span class='feature_val'> (0.00)</span></span><span class='token' style='background-color: #ffffff'>�<span class='feature_val'> (0.00)</span></span><span class='token' style='background-color: #ffffff'>Ter<span class='feature_val'> (0.00)</span></span><span class='token' style='background-color: #ffffff'>rap<span class='feature_val'> (0.00)</span></span><span class='token' style='background-color: #ffffff'>in<span class='feature_val'> (0.00)</span></span><span class='token' style='background-color: #ffffff'> Station<span class='feature_val'> (0.00)</span></span><span class='token' style='background-color: #ffffff'> (<span class='feature_val'> (0.00)</span></span><span class='token' style='background-color: #ffffff'>Su<span class='feature_val'> (0.00)</span></span><span class='token' style='background-color: #ffffff'>ite<span class='feature_val'> (0.00)</span></span><span class='token' style='background-color: #ffffff'>),<span class='feature_val'> (0.00)</span></span><span class='token' style='background-color: #ffffff'>�<span class='feature_val'> (0.00)</span></span><span class='token' style='background-color: #ffffff'>�<span class='feature_val'> (0.00)</span></span><span class='token' style='background-color: #ffffff'> Grizz<span class='feature_val'> (0.00)</span></span><span class='token' style='background-color: #ffffff'>ly<span class='feature_val'> (0.00)</span></span><span class='token' style='background-color: #ffffff'> Bear<span class='feature_val'> (0.00)</span></span><span class='token' style='background-color: #ffffff'>,<span class='feature_val'> (0.00)</span></span><span class='token' style='background-color: #ffffff'> the<span class='feature_val'> (0.00)</span></span><span class='token' style='background-color: #ffffff'> National<span class='feature_val'> (0.00)</span></span><span class='token' style='background-color: #ffffff'>,<span class='feature_val'> (0.00)</span></span>"
      ],
      "text/plain": [
       "<IPython.core.display.HTML object>"
      ]
     },
     "metadata": {},
     "output_type": "display_data"
    },
    {
     "data": {
      "text/html": [
       "\n",
       "    <style>\n",
       "        span.token {\n",
       "            font-family: monospace;\n",
       "            border-style: solid;\n",
       "            border-width: 1px;\n",
       "            border-color: #dddddd;\n",
       "        }\n",
       "    </style>\n",
       "    <span class='token' style='background-color: #ffffff'>&lt;|endoftext|&gt;<span class='feature_val'> (0.00)</span></span><span class='token' style='background-color: #ffffff'> Pitt<span class='feature_val'> (0.00)</span></span><span class='token' style='background-color: #ffffff'>sburg<span class='feature_val'> (0.00)</span></span><span class='token' style='background-color: #ffffff'>hers<span class='feature_val'> (0.00)</span></span><span class='token' style='background-color: #ffffff'> a<span class='feature_val'> (0.00)</span></span><span class='token' style='background-color: #ffffff'> greater<span class='feature_val'> (0.00)</span></span><span class='token' style='background-color: #ffffff'> opportunity<span class='feature_val'> (0.00)</span></span><span class='token' style='background-color: #ffffff'> to<span class='feature_val'> (0.00)</span></span><span class='token' style='background-color: #ffffff'> have<span class='feature_val'> (0.00)</span></span><span class='token' style='background-color: #ffffff'> a<span class='feature_val'> (0.00)</span></span><span class='token' style='background-color: #ffffff'> voice<span class='feature_val'> (0.00)</span></span><span class='token' style='background-color: #ffffff'> in<span class='feature_val'> (0.00)</span></span><span class='token' style='background-color: #ffffff'> local<span class='feature_val'> (0.00)</span></span><span class='token' style='background-color: #ffffff'> politics<span class='feature_val'> (0.00)</span></span><span class='token' style='background-color: #ffffff'>,<span class='feature_val'> (0.00)</span></span><span class='token' style='background-color: #ffffff'> but<span class='feature_val'> (0.00)</span></span><span class='token' style='background-color: #ffffff'> voter<span class='feature_val'> (0.00)</span></span><span class='token' style='background-color: #ffffff'> turn<span class='feature_val'> (0.00)</span></span><span class='token' style='background-color: #ffffff'>-<span class='feature_val'> (0.00)</span></span><span class='token' style='background-color: #ffffff'>out<span class='feature_val'> (0.00)</span></span><span class='token' style='background-color: #ffffff'> in<span class='feature_val'> (0.00)</span></span><span class='token' style='background-color: #ffffff'> African<span class='feature_val'> (0.00)</span></span><span class='token' style='background-color: #ffffff'> American<span class='feature_val'> (0.00)</span></span><span class='token' style='background-color: #ffffff'> communities<span class='feature_val'> (0.00)</span></span><span class='token' style='background-color: #ffffff'> is<span class='feature_val'> (0.00)</span></span><span class='token' style='background-color: #ffffff'> consistently<span class='feature_val'> (0.00)</span></span><span class='token' style='background-color: #ffffff'> low<span class='feature_val'> (0.00)</span></span><span class='token' style='background-color: #ffffff'> and<span class='feature_val'> (0.00)</span></span><span class='token' style='background-color: #ffffff'> the<span class='feature_val'> (0.00)</span></span><span class='token' style='background-color: #ffffff'> unwillingness<span class='feature_val'> (0.00)</span></span><span class='token' style='background-color: #ffffff'> to<span class='feature_val'> (0.00)</span></span><span class='token' style='background-color: #ffffff'> hold<span class='feature_val'> (0.00)</span></span><span class='token' style='background-color: #ffffff'> elected<span class='feature_val'> (0.00)</span></span><span class='token' style='background-color: #ffffff'> officials<span class='feature_val'> (0.00)</span></span><span class='token' style='background-color: #ffffff'> accountable<span class='feature_val'> (0.00)</span></span><span class='token' style='background-color: #ffffff'> for<span class='feature_val'> (0.00)</span></span><span class='token' style='background-color: #ffffff'> more<span class='feature_val'> (0.00)</span></span><span class='token' style='background-color: #ffffff'> than<span class='feature_val'> (0.00)</span></span><span class='token' style='background-color: #ffffff'> just<span class='feature_val'> (0.00)</span></span><span class='token' style='background-color: #ffffff'> token<span class='feature_val'> (0.00)</span></span><span class='token' style='background-color: #ffffff'> gestures<span class='feature_val'> (0.00)</span></span><span class='token' style='background-color: #ffffff'> and<span class='feature_val'> (0.00)</span></span><span class='token' style='background-color: #ffffff'> show<span class='feature_val'> (0.00)</span></span><span class='token' style='background-color: #ffffff'>manship<span class='feature_val'> (0.00)</span></span><span class='token' style='background-color: #ffffff'> ensures<span class='feature_val'> (0.00)</span></span><span class='token' style='background-color: #ffffff'> that<span class='feature_val'> (0.00)</span></span><span class='token' style='background-color: #ffffff'> black<span class='feature_val'> (0.00)</span></span><span class='token' style='background-color: #ffffff'> votes<span class='feature_val'> (0.00)</span></span><span class='token' style='background-color: #ffffff'> can<span class='feature_val'> (0.00)</span></span><span class='token' style='background-color: #ffffff'> either<span class='feature_val'> (0.00)</span></span><span class='token' style='background-color: #ffffff'> be<span class='feature_val'> (0.00)</span></span><span class='token' style='background-color: #ffffff'> taken<span class='feature_val'> (0.00)</span></span><span class='token' style='background-color: #ffffff'> for<span class='feature_val'> (0.00)</span></span><span class='token' style='background-color: #ffffff'> granted<span class='feature_val'> (0.00)</span></span><span class='token' style='background-color: #ffffff'> or<span class='feature_val'> (0.00)</span></span><span class='token' style='background-color: #ffffff'> ignored<span class='feature_val'> (0.00)</span></span><span class='token' style='background-color: #ffffff'> altogether<span class='feature_val'> (0.00)</span></span><span class='token' style='background-color: #ffffff'> by<span class='feature_val'> (0.00)</span></span><span class='token' style='background-color: #ffffff'> local<span class='feature_val'> (0.00)</span></span><span class='token' style='background-color: #ffffff'> politicians<span class='feature_val'> (0.00)</span></span><span class='token' style='background-color: #ffffff'>.<span class='feature_val'> (0.00)</span></span><span class='token' style='background-color: #ffffff'>\n",
       "<span class='feature_val'> (0.00)</span></span><span class='token' style='background-color: #ffffff'>\n",
       "<span class='feature_val'> (0.00)</span></span><span class='token' style='background-color: #ffffff'>So<span class='feature_val'> (0.00)</span></span><span class='token' style='background-color: #ffffff'> this<span class='feature_val'> (0.00)</span></span><span class='token' style='background-color: #ffffff'> is<span class='feature_val'> (0.00)</span></span><span class='token' style='background-color: #ffffff'> the<span class='feature_val'> (0.00)</span></span><span class='token' style='background-color: #ffffff'> state<span class='feature_val'> (0.00)</span></span><span class='token' style='background-color: #ffffff'> of<span class='feature_val'> (0.00)</span></span><span class='token' style='background-color: #ffffff'> things<span class='feature_val'> (0.00)</span></span><span class='token' style='background-color: #ffffff'>.<span class='feature_val'> (0.00)</span></span><span class='token' style='background-color: #ffffff'> Pittsburgh<span class='feature_val'> (0.00)</span></span><span class='token' style='background-color: #ffffff'>,<span class='feature_val'> (0.00)</span></span><span class='token' style='background-color: #ffffff'> as<span class='feature_val'> (0.00)</span></span><span class='token' style='background-color: #ffffff'> a<span class='feature_val'> (0.00)</span></span><span class='token' style='background-color: #ffffff'> city<span class='feature_val'> (0.00)</span></span><span class='token' style='background-color: #ffffff'>,<span class='feature_val'> (0.00)</span></span><span class='token' style='background-color: #ffffff'> may<span class='feature_val'> (0.00)</span></span><span class='token' style='background-color: #ffffff'> be<span class='feature_val'> (0.00)</span></span><span class='token' style='background-color: #ffffff'> cl<span class='feature_val'> (0.00)</span></span><span class='token' style='background-color: #ffffff'>iqu<span class='feature_val'> (0.00)</span></span><span class='token' style='background-color: #ffffff'>ish<span class='feature_val'> (0.00)</span></span><span class='token' style='background-color: #ffffff'>,<span class='feature_val'> (0.00)</span></span><span class='token' style='background-color: #ffffff'> conservative<span class='feature_val'> (0.00)</span></span><span class='token' style='background-color: #ffffff'>,<span class='feature_val'> (0.00)</span></span><span class='token' style='background-color: #ffffff'> par<span class='feature_val'> (0.00)</span></span><span class='token' style='background-color: #ffffff'>och<span class='feature_val'> (0.00)</span></span><span class='token' style='background-color: #ffffff'>ial<span class='feature_val'> (0.00)</span></span><span class='token' style='background-color: #ffffff'>,<span class='feature_val'> (0.00)</span></span><span class='token' style='background-color: #ffffff'> and<span class='feature_val'> (0.00)</span></span><span class='token' style='background-color: #ffffff'> ins<span class='feature_val'> (0.00)</span></span><span class='token' style='background-color: #ffffff'>ular<span class='feature_val'> (0.00)</span></span><span class='token' style='background-color: #ffffff'> --<span class='feature_val'> (0.00)</span></span><span class='token' style='background-color: #ffffff'> thereby<span class='feature_val'> (0.00)</span></span><span class='token' style='background-color: #ffffff'> marginal<span class='feature_val'> (0.00)</span></span><span class='token' style='background-color: #ffffff'>izing<span class='feature_val'> (0.00)</span></span><span class='token' style='background-color: #ffffff'> black<span class='feature_val'> (0.00)</span></span><span class='token' style='background-color: #ffffff'> Pittsburgh<span class='feature_val'> (0.00)</span></span><span class='token' style='background-color: #ffffff'>,<span class='feature_val'> (0.00)</span></span><span class='token' style='background-color: #ffffff'> but<span class='feature_val'> (0.00)</span></span><span class='token' style='background-color: #ffffff'> black<span class='feature_val'> (0.00)</span></span><span class='token' style='background-color: #ffffff'> Pittsburgh<span class='feature_val'> (0.00)</span></span><span class='token' style='background-color: #ffffff'> is<span class='feature_val'> (0.00)</span></span><span class='token' style='background-color: #ffffff'> also<span class='feature_val'> (0.00)</span></span><span class='token' style='background-color: #ffffff'> cl<span class='feature_val'> (0.00)</span></span><span class='token' style='background-color: #ffffff'>iqu<span class='feature_val'> (0.00)</span></span><span class='token' style='background-color: #ffffff'>ish<span class='feature_val'> (0.00)</span></span><span class='token' style='background-color: #ffac47'>,<span class='feature_val'> (3.65)</span></span><span class='token' style='background-color: #ff8c00'> par<span class='feature_val'> (5.07)</span></span><span class='token' style='background-color: #ffa334'>och<span class='feature_val'> (4.02)</span></span><span class='token' style='background-color: #ffefdc'>ial<span class='feature_val'> (0.69)</span></span><span class='token' style='background-color: #fff1e1'>,<span class='feature_val'> (0.59)</span></span><span class='token' style='background-color: #fff9f2'> conservative<span class='feature_val'> (0.25)</span></span><span class='token' style='background-color: #ffddb3'> and<span class='feature_val'> (1.49)</span></span><span class='token' style='background-color: #fff6ec'> ins<span class='feature_val'> (0.38)</span></span><span class='token' style='background-color: #ffffff'>ular<span class='feature_val'> (0.00)</span></span><span class='token' style='background-color: #ffffff'>,<span class='feature_val'> (0.00)</span></span><span class='token' style='background-color: #ffffff'> which<span class='feature_val'> (0.00)</span></span><span class='token' style='background-color: #ffffff'> makes<span class='feature_val'> (0.00)</span></span><span class='token' style='background-color: #ffffff'> it<span class='feature_val'> (0.00)</span></span><span class='token' style='background-color: #ffffff'> difficult<span class='feature_val'> (0.00)</span></span><span class='token' style='background-color: #fffefd'>,<span class='feature_val'> (0.02)</span></span><span class='token' style='background-color: #ffffff'> if<span class='feature_val'> (0.00)</span></span><span class='token' style='background-color: #ffffff'> not<span class='feature_val'> (0.00)</span></span><span class='token' style='background-color: #ffffff'> impossible<span class='feature_val'> (0.00)</span></span><span class='token' style='background-color: #ffffff'>,<span class='feature_val'> (0.00)</span></span><span class='token' style='background-color: #ffffff'> to<span class='feature_val'> (0.00)</span></span><span class='token' style='background-color: #ffffff'> bring<span class='feature_val'> (0.00)</span></span>"
      ],
      "text/plain": [
       "<IPython.core.display.HTML object>"
      ]
     },
     "metadata": {},
     "output_type": "display_data"
    },
    {
     "data": {
      "text/html": [
       "\n",
       "    <style>\n",
       "        span.token {\n",
       "            font-family: monospace;\n",
       "            border-style: solid;\n",
       "            border-width: 1px;\n",
       "            border-color: #dddddd;\n",
       "        }\n",
       "    </style>\n",
       "    <span class='token' style='background-color: #ffffff'>&lt;|endoftext|&gt;<span class='feature_val'> (0.00)</span></span><span class='token' style='background-color: #ffffff'> Lord<span class='feature_val'> (0.00)</span></span><span class='token' style='background-color: #ffffff'> has<span class='feature_val'> (0.00)</span></span><span class='token' style='background-color: #ffffff'> blessed<span class='feature_val'> (0.00)</span></span><span class='token' style='background-color: #ffffff'> you<span class='feature_val'> (0.00)</span></span><span class='token' style='background-color: #ffffff'> that<span class='feature_val'> (0.00)</span></span><span class='token' style='background-color: #ffffff'> can<span class='feature_val'> (0.00)</span></span><span class='token' style='background-color: #ffffff'> be<span class='feature_val'> (0.00)</span></span><span class='token' style='background-color: #ffffff'> used<span class='feature_val'> (0.00)</span></span><span class='token' style='background-color: #ffffff'> to<span class='feature_val'> (0.00)</span></span><span class='token' style='background-color: #ffffff'> bless<span class='feature_val'> (0.00)</span></span><span class='token' style='background-color: #ffffff'> others<span class='feature_val'> (0.00)</span></span><span class='token' style='background-color: #ffffff'>.<span class='feature_val'> (0.00)</span></span><span class='token' style='background-color: #ffffff'> Do<span class='feature_val'> (0.00)</span></span><span class='token' style='background-color: #ffffff'> you<span class='feature_val'> (0.00)</span></span><span class='token' style='background-color: #ffffff'> have<span class='feature_val'> (0.00)</span></span><span class='token' style='background-color: #ffffff'> special<span class='feature_val'> (0.00)</span></span><span class='token' style='background-color: #ffffff'> talents<span class='feature_val'> (0.00)</span></span><span class='token' style='background-color: #ffffff'> or<span class='feature_val'> (0.00)</span></span><span class='token' style='background-color: #ffffff'> training<span class='feature_val'> (0.00)</span></span><span class='token' style='background-color: #ffffff'>?<span class='feature_val'> (0.00)</span></span><span class='token' style='background-color: #ffffff'> Do<span class='feature_val'> (0.00)</span></span><span class='token' style='background-color: #ffffff'> you<span class='feature_val'> (0.00)</span></span><span class='token' style='background-color: #ffffff'> have<span class='feature_val'> (0.00)</span></span><span class='token' style='background-color: #ffffff'> discretionary<span class='feature_val'> (0.00)</span></span><span class='token' style='background-color: #ffffff'> time<span class='feature_val'> (0.00)</span></span><span class='token' style='background-color: #ffffff'>?<span class='feature_val'> (0.00)</span></span><span class='token' style='background-color: #ffffff'> Do<span class='feature_val'> (0.00)</span></span><span class='token' style='background-color: #ffffff'> you<span class='feature_val'> (0.00)</span></span><span class='token' style='background-color: #ffffff'> have<span class='feature_val'> (0.00)</span></span><span class='token' style='background-color: #ffffff'> money<span class='feature_val'> (0.00)</span></span><span class='token' style='background-color: #ffffff'> you<span class='feature_val'> (0.00)</span></span><span class='token' style='background-color: #ffffff'> could<span class='feature_val'> (0.00)</span></span><span class='token' style='background-color: #ffffff'> sacrifice<span class='feature_val'> (0.00)</span></span><span class='token' style='background-color: #ffffff'>?<span class='feature_val'> (0.00)</span></span><span class='token' style='background-color: #ffffff'>\n",
       "<span class='feature_val'> (0.00)</span></span><span class='token' style='background-color: #ffffff'>\n",
       "<span class='feature_val'> (0.00)</span></span><span class='token' style='background-color: #ffffff'>Start<span class='feature_val'> (0.00)</span></span><span class='token' style='background-color: #ffffff'> by<span class='feature_val'> (0.00)</span></span><span class='token' style='background-color: #ffffff'> making<span class='feature_val'> (0.00)</span></span><span class='token' style='background-color: #ffffff'> a<span class='feature_val'> (0.00)</span></span><span class='token' style='background-color: #ffffff'> list<span class='feature_val'> (0.00)</span></span><span class='token' style='background-color: #ffffff'> of<span class='feature_val'> (0.00)</span></span><span class='token' style='background-color: #ffffff'> your<span class='feature_val'> (0.00)</span></span><span class='token' style='background-color: #ffffff'> blessings<span class='feature_val'> (0.00)</span></span><span class='token' style='background-color: #ffffff'> of<span class='feature_val'> (0.00)</span></span><span class='token' style='background-color: #fffdfb'> time<span class='feature_val'> (0.08)</span></span><span class='token' style='background-color: #fed19b'>,<span class='feature_val'> (1.95)</span></span><span class='token' style='background-color: #ffecd5'> talents<span class='feature_val'> (0.81)</span></span><span class='token' style='background-color: #ffd9ac'> and<span class='feature_val'> (1.62)</span></span><span class='token' style='background-color: #fff8f0'> means<span class='feature_val'> (0.29)</span></span><span class='token' style='background-color: #ffffff'>.<span class='feature_val'> (0.00)</span></span><span class='token' style='background-color: #ffffff'> Get<span class='feature_val'> (0.00)</span></span><span class='token' style='background-color: #ffffff'> creative<span class='feature_val'> (0.00)</span></span><span class='token' style='background-color: #ffffff'> and<span class='feature_val'> (0.00)</span></span><span class='token' style='background-color: #ffffff'> be<span class='feature_val'> (0.00)</span></span><span class='token' style='background-color: #ffffff'> specific<span class='feature_val'> (0.00)</span></span><span class='token' style='background-color: #ffffff'> and<span class='feature_val'> (0.00)</span></span><span class='token' style='background-color: #ffffff'> you<span class='feature_val'> (0.00)</span></span><span class='token' style='background-color: #ffffff'> will<span class='feature_val'> (0.00)</span></span><span class='token' style='background-color: #ffffff'> feel<span class='feature_val'> (0.00)</span></span><span class='token' style='background-color: #ffffff'> God<span class='feature_val'> (0.00)</span></span><span class='token' style='background-color: #ffffff'> guiding<span class='feature_val'> (0.00)</span></span><span class='token' style='background-color: #ffffff'> you<span class='feature_val'> (0.00)</span></span><span class='token' style='background-color: #ffffff'>.<span class='feature_val'> (0.00)</span></span><span class='token' style='background-color: #ffffff'> When<span class='feature_val'> (0.00)</span></span><span class='token' style='background-color: #ffffff'> you<span class='feature_val'> (0.00)</span></span><span class='token' style='background-color: #ffffff'> realize<span class='feature_val'> (0.00)</span></span><span class='token' style='background-color: #ffffff'> how<span class='feature_val'> (0.00)</span></span><span class='token' style='background-color: #ffffff'> much<span class='feature_val'> (0.00)</span></span><span class='token' style='background-color: #ffffff'> you<span class='feature_val'> (0.00)</span></span><span class='token' style='background-color: #ffffff'> have<span class='feature_val'> (0.00)</span></span><span class='token' style='background-color: #ffffff'> to<span class='feature_val'> (0.00)</span></span><span class='token' style='background-color: #ffffff'> offer<span class='feature_val'> (0.00)</span></span><span class='token' style='background-color: #ffffff'>,<span class='feature_val'> (0.00)</span></span><span class='token' style='background-color: #ffffff'> God<span class='feature_val'> (0.00)</span></span><span class='token' style='background-color: #ffffff'> will<span class='feature_val'> (0.00)</span></span><span class='token' style='background-color: #ffffff'> help<span class='feature_val'> (0.00)</span></span><span class='token' style='background-color: #ffffff'> you<span class='feature_val'> (0.00)</span></span><span class='token' style='background-color: #ffffff'> know<span class='feature_val'> (0.00)</span></span><span class='token' style='background-color: #ffffff'> what<span class='feature_val'> (0.00)</span></span><span class='token' style='background-color: #ffffff'> to<span class='feature_val'> (0.00)</span></span><span class='token' style='background-color: #ffffff'> put<span class='feature_val'> (0.00)</span></span><span class='token' style='background-color: #ffffff'> on<span class='feature_val'> (0.00)</span></span><span class='token' style='background-color: #ffffff'> the<span class='feature_val'> (0.00)</span></span><span class='token' style='background-color: #ffffff'> altar<span class='feature_val'> (0.00)</span></span><span class='token' style='background-color: #ffffff'>.<span class='feature_val'> (0.00)</span></span><span class='token' style='background-color: #ffffff'>\n",
       "<span class='feature_val'> (0.00)</span></span><span class='token' style='background-color: #ffffff'>\n",
       "<span class='feature_val'> (0.00)</span></span><span class='token' style='background-color: #ffffff'>Your<span class='feature_val'> (0.00)</span></span><span class='token' style='background-color: #ffffff'> list<span class='feature_val'> (0.00)</span></span><span class='token' style='background-color: #ffffff'> may<span class='feature_val'> (0.00)</span></span><span class='token' style='background-color: #ffffff'> look<span class='feature_val'> (0.00)</span></span><span class='token' style='background-color: #ffffff'> something<span class='feature_val'> (0.00)</span></span><span class='token' style='background-color: #ffffff'> like<span class='feature_val'> (0.00)</span></span><span class='token' style='background-color: #ffffff'> this<span class='feature_val'> (0.00)</span></span><span class='token' style='background-color: #ffffff'>:<span class='feature_val'> (0.00)</span></span><span class='token' style='background-color: #ffffff'>\n",
       "<span class='feature_val'> (0.00)</span></span><span class='token' style='background-color: #ffffff'>\n",
       "<span class='feature_val'> (0.00)</span></span><span class='token' style='background-color: #ffffff'>Time<span class='feature_val'> (0.00)</span></span><span class='token' style='background-color: #ffffff'>:<span class='feature_val'> (0.00)</span></span><span class='token' style='background-color: #ffffff'> Tues<span class='feature_val'> (0.00)</span></span><span class='token' style='background-color: #ffffff'>days<span class='feature_val'> (0.00)</span></span><span class='token' style='background-color: #ffffff'>/<span class='feature_val'> (0.00)</span></span><span class='token' style='background-color: #ffffff'>Th<span class='feature_val'> (0.00)</span></span><span class='token' style='background-color: #ffffff'>urs<span class='feature_val'> (0.00)</span></span><span class='token' style='background-color: #fff2e3'>days<span class='feature_val'> (0.53)</span></span><span class='token' style='background-color: #ffffff'> 10<span class='feature_val'> (0.00)</span></span><span class='token' style='background-color: #ffffff'>am<span class='feature_val'> (0.00)</span></span><span class='token' style='background-color: #ffffff'>-<span class='feature_val'> (0.00)</span></span><span class='token' style='background-color: #ffffff'>1<span class='feature_val'> (0.00)</span></span><span class='token' style='background-color: #fff9f3'>pm<span class='feature_val'> (0.22)</span></span><span class='token' style='background-color: #ffedd8'>,<span class='feature_val'> (0.76)</span></span><span class='token' style='background-color: #ffffff'> Saturday<span class='feature_val'> (0.00)</span></span><span class='token' style='background-color: #ffffff'> (<span class='feature_val'> (0.00)</span></span><span class='token' style='background-color: #ffffff'>as<span class='feature_val'> (0.00)</span></span><span class='token' style='background-color: #ffffff'> a<span class='feature_val'> (0.00)</span></span><span class='token' style='background-color: #ffffff'> family<span class='feature_val'> (0.00)</span></span><span class='token' style='background-color: #ffffff'>)<span class='feature_val'> (0.00)</span></span><span class='token' style='background-color: #ffffff'> 11<span class='feature_val'> (0.00)</span></span><span class='token' style='background-color: #ffffff'>am<span class='feature_val'> (0.00)</span></span><span class='token' style='background-color: #ffffff'>-<span class='feature_val'> (0.00)</span></span><span class='token' style='background-color: #ffffff'>2<span class='feature_val'> (0.00)</span></span><span class='token' style='background-color: #ffffff'>pm<span class='feature_val'> (0.00)</span></span><span class='token' style='background-color: #ffb760'>\n",
       "<span class='feature_val'> (3.08)</span></span><span class='token' style='background-color: #ff8c00'>\n",
       "<span class='feature_val'> (4.97)</span></span><span class='token' style='background-color: #fffaf5'>Tal<span class='feature_val'> (0.18)</span></span><span class='token' style='background-color: #fff0de'>ents<span class='feature_val'> (0.62)</span></span>"
      ],
      "text/plain": [
       "<IPython.core.display.HTML object>"
      ]
     },
     "metadata": {},
     "output_type": "display_data"
    },
    {
     "data": {
      "text/html": [
       "\n",
       "    <style>\n",
       "        span.token {\n",
       "            font-family: monospace;\n",
       "            border-style: solid;\n",
       "            border-width: 1px;\n",
       "            border-color: #dddddd;\n",
       "        }\n",
       "    </style>\n",
       "    <span class='token' style='background-color: #ffffff'>&lt;|endoftext|&gt;<span class='feature_val'> (0.00)</span></span><span class='token' style='background-color: #ffffff'> will<span class='feature_val'> (0.00)</span></span><span class='token' style='background-color: #ffffff'> rise<span class='feature_val'> (0.00)</span></span><span class='token' style='background-color: #ffffff'> slowly<span class='feature_val'> (0.00)</span></span><span class='token' style='background-color: #ffffff'>.<span class='feature_val'> (0.00)</span></span><span class='token' style='background-color: #ffffff'>\n",
       "<span class='feature_val'> (0.00)</span></span><span class='token' style='background-color: #ffffff'>\n",
       "<span class='feature_val'> (0.00)</span></span><span class='token' style='background-color: #ffffff'>British<span class='feature_val'> (0.00)</span></span><span class='token' style='background-color: #ffffff'> scientists<span class='feature_val'> (0.00)</span></span><span class='token' style='background-color: #ffffff'> Morris<span class='feature_val'> (0.00)</span></span><span class='token' style='background-color: #ffffff'> W<span class='feature_val'> (0.00)</span></span><span class='token' style='background-color: #ffffff'>.<span class='feature_val'> (0.00)</span></span><span class='token' style='background-color: #ffffff'> Tra<span class='feature_val'> (0.00)</span></span><span class='token' style='background-color: #ffffff'>vers<span class='feature_val'> (0.00)</span></span><span class='token' style='background-color: #ffffff'> and<span class='feature_val'> (0.00)</span></span><span class='token' style='background-color: #ffffff'> William<span class='feature_val'> (0.00)</span></span><span class='token' style='background-color: #ffffff'> Ramsay<span class='feature_val'> (0.00)</span></span><span class='token' style='background-color: #ffffff'> first<span class='feature_val'> (0.00)</span></span><span class='token' style='background-color: #ffffff'> discovered<span class='feature_val'> (0.00)</span></span><span class='token' style='background-color: #ffffff'> neon<span class='feature_val'> (0.00)</span></span><span class='token' style='background-color: #ffffff'> in<span class='feature_val'> (0.00)</span></span><span class='token' style='background-color: #ffffff'> 1898<span class='feature_val'> (0.00)</span></span><span class='token' style='background-color: #ffffff'> by<span class='feature_val'> (0.00)</span></span><span class='token' style='background-color: #ffffff'> liqu<span class='feature_val'> (0.00)</span></span><span class='token' style='background-color: #ffffff'>ef<span class='feature_val'> (0.00)</span></span><span class='token' style='background-color: #ffffff'>ying<span class='feature_val'> (0.00)</span></span><span class='token' style='background-color: #ffffff'> air<span class='feature_val'> (0.00)</span></span><span class='token' style='background-color: #ffffff'> then<span class='feature_val'> (0.00)</span></span><span class='token' style='background-color: #ffffff'> capturing<span class='feature_val'> (0.00)</span></span><span class='token' style='background-color: #ffffff'> the<span class='feature_val'> (0.00)</span></span><span class='token' style='background-color: #ffffff'> gases<span class='feature_val'> (0.00)</span></span><span class='token' style='background-color: #ffffff'> that<span class='feature_val'> (0.00)</span></span><span class='token' style='background-color: #ffffff'> boiled<span class='feature_val'> (0.00)</span></span><span class='token' style='background-color: #ffffff'> off<span class='feature_val'> (0.00)</span></span><span class='token' style='background-color: #ffffff'> as<span class='feature_val'> (0.00)</span></span><span class='token' style='background-color: #ffffff'> they<span class='feature_val'> (0.00)</span></span><span class='token' style='background-color: #ffffff'> heat<span class='feature_val'> (0.00)</span></span><span class='token' style='background-color: #ffffff'> it<span class='feature_val'> (0.00)</span></span><span class='token' style='background-color: #ffffff'>.<span class='feature_val'> (0.00)</span></span><span class='token' style='background-color: #ffffff'> It<span class='feature_val'> (0.00)</span></span><span class='token' style='background-color: #ffffff'> was<span class='feature_val'> (0.00)</span></span><span class='token' style='background-color: #ffffff'> an<span class='feature_val'> (0.00)</span></span><span class='token' style='background-color: #ffffff'> elusive<span class='feature_val'> (0.00)</span></span><span class='token' style='background-color: #ffffff'> element<span class='feature_val'> (0.00)</span></span><span class='token' style='background-color: #ffffff'> to<span class='feature_val'> (0.00)</span></span><span class='token' style='background-color: #ffffff'> isolate<span class='feature_val'> (0.00)</span></span><span class='token' style='background-color: #ffffff'>,<span class='feature_val'> (0.00)</span></span><span class='token' style='background-color: #ffffff'> taking<span class='feature_val'> (0.00)</span></span><span class='token' style='background-color: #ffffff'> the<span class='feature_val'> (0.00)</span></span><span class='token' style='background-color: #ffffff'> duo<span class='feature_val'> (0.00)</span></span><span class='token' style='background-color: #ffffff'> about<span class='feature_val'> (0.00)</span></span><span class='token' style='background-color: #ffffff'> a<span class='feature_val'> (0.00)</span></span><span class='token' style='background-color: #ffffff'> month<span class='feature_val'> (0.00)</span></span><span class='token' style='background-color: #ffffff'> to<span class='feature_val'> (0.00)</span></span><span class='token' style='background-color: #ffffff'> finally<span class='feature_val'> (0.00)</span></span><span class='token' style='background-color: #ffffff'> capture<span class='feature_val'> (0.00)</span></span><span class='token' style='background-color: #ffffff'>.<span class='feature_val'> (0.00)</span></span><span class='token' style='background-color: #ffffff'> They<span class='feature_val'> (0.00)</span></span><span class='token' style='background-color: #ffffff'> put<span class='feature_val'> (0.00)</span></span><span class='token' style='background-color: #ffffff'> the<span class='feature_val'> (0.00)</span></span><span class='token' style='background-color: #ffffff'> gas<span class='feature_val'> (0.00)</span></span><span class='token' style='background-color: #ffffff'> into<span class='feature_val'> (0.00)</span></span><span class='token' style='background-color: #ffffff'> a<span class='feature_val'> (0.00)</span></span><span class='token' style='background-color: #ffffff'> tool<span class='feature_val'> (0.00)</span></span><span class='token' style='background-color: #ffffff'> called<span class='feature_val'> (0.00)</span></span><span class='token' style='background-color: #ffffff'> an<span class='feature_val'> (0.00)</span></span><span class='token' style='background-color: #ffffff'> �<span class='feature_val'> (0.00)</span></span><span class='token' style='background-color: #ffffff'>�<span class='feature_val'> (0.00)</span></span><span class='token' style='background-color: #ffffff'>elect<span class='feature_val'> (0.00)</span></span><span class='token' style='background-color: #ffffff'>rical<span class='feature_val'> (0.00)</span></span><span class='token' style='background-color: #ffffff'> gas<span class='feature_val'> (0.00)</span></span><span class='token' style='background-color: #ffffff'>-<span class='feature_val'> (0.00)</span></span><span class='token' style='background-color: #ffffff'>dis<span class='feature_val'> (0.00)</span></span><span class='token' style='background-color: #ffffff'>charge<span class='feature_val'> (0.00)</span></span><span class='token' style='background-color: #ffffff'>�<span class='feature_val'> (0.00)</span></span><span class='token' style='background-color: #ffffff'>�<span class='feature_val'> (0.00)</span></span><span class='token' style='background-color: #ffffff'> tube<span class='feature_val'> (0.00)</span></span><span class='token' style='background-color: #ffffff'>—<span class='feature_val'> (0.00)</span></span><span class='token' style='background-color: #ffffff'>ess<span class='feature_val'> (0.00)</span></span><span class='token' style='background-color: #ffffff'>entially<span class='feature_val'> (0.00)</span></span><span class='token' style='background-color: #ffffff'> an<span class='feature_val'> (0.00)</span></span><span class='token' style='background-color: #ffffff'> early<span class='feature_val'> (0.00)</span></span><span class='token' style='background-color: #ffffff'> precursor<span class='feature_val'> (0.00)</span></span><span class='token' style='background-color: #ffffff'> to<span class='feature_val'> (0.00)</span></span><span class='token' style='background-color: #ffffff'> today<span class='feature_val'> (0.00)</span></span><span class='token' style='background-color: #ffffff'>�<span class='feature_val'> (0.00)</span></span><span class='token' style='background-color: #ffffff'>�<span class='feature_val'> (0.00)</span></span><span class='token' style='background-color: #ffffff'>s<span class='feature_val'> (0.00)</span></span><span class='token' style='background-color: #ffffff'> neon<span class='feature_val'> (0.00)</span></span><span class='token' style='background-color: #ffffff'> lights<span class='feature_val'> (0.00)</span></span><span class='token' style='background-color: #ffffff'>.<span class='feature_val'> (0.00)</span></span><span class='token' style='background-color: #ffffff'> By<span class='feature_val'> (0.00)</span></span><span class='token' style='background-color: #ffffff'> adding<span class='feature_val'> (0.00)</span></span><span class='token' style='background-color: #ffffff'> an<span class='feature_val'> (0.00)</span></span><span class='token' style='background-color: #ffffff'> electric<span class='feature_val'> (0.00)</span></span><span class='token' style='background-color: #ffffff'> charge<span class='feature_val'> (0.00)</span></span><span class='token' style='background-color: #ffffff'> to<span class='feature_val'> (0.00)</span></span><span class='token' style='background-color: #ffffff'> the<span class='feature_val'> (0.00)</span></span><span class='token' style='background-color: #ffffff'> gas<span class='feature_val'> (0.00)</span></span><span class='token' style='background-color: #ffffff'>,<span class='feature_val'> (0.00)</span></span><span class='token' style='background-color: #ffffff'> they<span class='feature_val'> (0.00)</span></span><span class='token' style='background-color: #ffffff'> were<span class='feature_val'> (0.00)</span></span><span class='token' style='background-color: #ffffff'> able<span class='feature_val'> (0.00)</span></span><span class='token' style='background-color: #ffffff'> to<span class='feature_val'> (0.00)</span></span><span class='token' style='background-color: #ffffff'> identify<span class='feature_val'> (0.00)</span></span><span class='token' style='background-color: #ffffff'> it<span class='feature_val'> (0.00)</span></span><span class='token' style='background-color: #ffffff'> based<span class='feature_val'> (0.00)</span></span><span class='token' style='background-color: #ffffff'> on<span class='feature_val'> (0.00)</span></span><span class='token' style='background-color: #ffffff'> the<span class='feature_val'> (0.00)</span></span><span class='token' style='background-color: #ffffff'> color<span class='feature_val'> (0.00)</span></span><span class='token' style='background-color: #ffffff'> it<span class='feature_val'> (0.00)</span></span><span class='token' style='background-color: #ffffff'> emits<span class='feature_val'> (0.00)</span></span><span class='token' style='background-color: #ffffff'>.<span class='feature_val'> (0.00)</span></span><span class='token' style='background-color: #ffffff'> Tra<span class='feature_val'> (0.00)</span></span><span class='token' style='background-color: #ffffff'>vers<span class='feature_val'> (0.00)</span></span><span class='token' style='background-color: #ff8c00'> and<span class='feature_val'> (4.70)</span></span><span class='token' style='background-color: #ffffff'> Ramsay<span class='feature_val'> (0.00)</span></span><span class='token' style='background-color: #ffffff'> were<span class='feature_val'> (0.00)</span></span><span class='token' style='background-color: #ffffff'> immediately<span class='feature_val'> (0.00)</span></span><span class='token' style='background-color: #ffffff'> aw<span class='feature_val'> (0.00)</span></span><span class='token' style='background-color: #ffffff'>ed<span class='feature_val'> (0.00)</span></span><span class='token' style='background-color: #ffffff'> by<span class='feature_val'> (0.00)</span></span><span class='token' style='background-color: #ffffff'> the<span class='feature_val'> (0.00)</span></span><span class='token' style='background-color: #ffffff'> brilliant<span class='feature_val'> (0.00)</span></span><span class='token' style='background-color: #ffffff'> red<span class='feature_val'> (0.00)</span></span><span class='token' style='background-color: #ffffff'>-<span class='feature_val'> (0.00)</span></span><span class='token' style='background-color: #ffffff'>orange<span class='feature_val'> (0.00)</span></span><span class='token' style='background-color: #ffffff'> color<span class='feature_val'> (0.00)</span></span>"
      ],
      "text/plain": [
       "<IPython.core.display.HTML object>"
      ]
     },
     "metadata": {},
     "output_type": "display_data"
    },
    {
     "data": {
      "text/html": [
       "\n",
       "    <style>\n",
       "        span.token {\n",
       "            font-family: monospace;\n",
       "            border-style: solid;\n",
       "            border-width: 1px;\n",
       "            border-color: #dddddd;\n",
       "        }\n",
       "    </style>\n",
       "    <span class='token' style='background-color: #ffffff'>&lt;|endoftext|&gt;<span class='feature_val'> (0.00)</span></span><span class='token' style='background-color: #ffffff'>;<span class='feature_val'> (0.00)</span></span><span class='token' style='background-color: #ffffff'> yea<span class='feature_val'> (0.00)</span></span><span class='token' style='background-color: #ffffff'>,<span class='feature_val'> (0.00)</span></span><span class='token' style='background-color: #ffffff'> seek<span class='feature_val'> (0.00)</span></span><span class='token' style='background-color: #ffffff'> ye<span class='feature_val'> (0.00)</span></span><span class='token' style='background-color: #ffffff'> out<span class='feature_val'> (0.00)</span></span><span class='token' style='background-color: #ffffff'> of<span class='feature_val'> (0.00)</span></span><span class='token' style='background-color: #ffffff'> the<span class='feature_val'> (0.00)</span></span><span class='token' style='background-color: #ffffff'> best<span class='feature_val'> (0.00)</span></span><span class='token' style='background-color: #ffffff'> books<span class='feature_val'> (0.00)</span></span><span class='token' style='background-color: #ffffff'> words<span class='feature_val'> (0.00)</span></span><span class='token' style='background-color: #ffffff'> of<span class='feature_val'> (0.00)</span></span><span class='token' style='background-color: #ffffff'> wisdom<span class='feature_val'> (0.00)</span></span><span class='token' style='background-color: #ffffff'>�<span class='feature_val'> (0.00)</span></span><span class='token' style='background-color: #ffffff'>�<span class='feature_val'> (0.00)</span></span><span class='token' style='background-color: #ffffff'> (<span class='feature_val'> (0.00)</span></span><span class='token' style='background-color: #ffffff'>D<span class='feature_val'> (0.00)</span></span><span class='token' style='background-color: #ffffff'>&amp;<span class='feature_val'> (0.00)</span></span><span class='token' style='background-color: #ffffff'>C<span class='feature_val'> (0.00)</span></span><span class='token' style='background-color: #ffffff'> 88<span class='feature_val'> (0.00)</span></span><span class='token' style='background-color: #ffffff'>:<span class='feature_val'> (0.00)</span></span><span class='token' style='background-color: #ffffff'>118<span class='feature_val'> (0.00)</span></span><span class='token' style='background-color: #ffffff'>;<span class='feature_val'> (0.00)</span></span><span class='token' style='background-color: #ffffff'> 109<span class='feature_val'> (0.00)</span></span><span class='token' style='background-color: #ffffff'>:<span class='feature_val'> (0.00)</span></span><span class='token' style='background-color: #ffffff'>7<span class='feature_val'> (0.00)</span></span><span class='token' style='background-color: #ffffff'>).<span class='feature_val'> (0.00)</span></span><span class='token' style='background-color: #ffffff'> Certainly<span class='feature_val'> (0.00)</span></span><span class='token' style='background-color: #ffffff'>,<span class='feature_val'> (0.00)</span></span><span class='token' style='background-color: #ffffff'> the<span class='feature_val'> (0.00)</span></span><span class='token' style='background-color: #ffffff'> wisdom<span class='feature_val'> (0.00)</span></span><span class='token' style='background-color: #ffffff'> in<span class='feature_val'> (0.00)</span></span><span class='token' style='background-color: #ffffff'> the<span class='feature_val'> (0.00)</span></span><span class='token' style='background-color: #ffffff'> hand<span class='feature_val'> (0.00)</span></span><span class='token' style='background-color: #ffffff'>books<span class='feature_val'> (0.00)</span></span><span class='token' style='background-color: #ffffff'> qualifies<span class='feature_val'> (0.00)</span></span><span class='token' style='background-color: #ffffff'> them<span class='feature_val'> (0.00)</span></span><span class='token' style='background-color: #ffffff'> as<span class='feature_val'> (0.00)</span></span><span class='token' style='background-color: #ffffff'> �<span class='feature_val'> (0.00)</span></span><span class='token' style='background-color: #ffffff'>�<span class='feature_val'> (0.00)</span></span><span class='token' style='background-color: #ffffff'>best<span class='feature_val'> (0.00)</span></span><span class='token' style='background-color: #ffffff'> books<span class='feature_val'> (0.00)</span></span><span class='token' style='background-color: #ffffff'>.<span class='feature_val'> (0.00)</span></span><span class='token' style='background-color: #ffffff'>�<span class='feature_val'> (0.00)</span></span><span class='token' style='background-color: #ffffff'>�<span class='feature_val'> (0.00)</span></span><span class='token' style='background-color: #ffffff'>\n",
       "<span class='feature_val'> (0.00)</span></span><span class='token' style='background-color: #ffffff'>\n",
       "<span class='feature_val'> (0.00)</span></span><span class='token' style='background-color: #ffffff'>The<span class='feature_val'> (0.00)</span></span><span class='token' style='background-color: #ffffff'> Hand<span class='feature_val'> (0.00)</span></span><span class='token' style='background-color: #ffffff'>books<span class='feature_val'> (0.00)</span></span><span class='token' style='background-color: #ffffff'> Help<span class='feature_val'> (0.00)</span></span><span class='token' style='background-color: #ffffff'> Us<span class='feature_val'> (0.00)</span></span><span class='token' style='background-color: #ffffff'> M<span class='feature_val'> (0.00)</span></span><span class='token' style='background-color: #ffffff'>aintain<span class='feature_val'> (0.00)</span></span><span class='token' style='background-color: #ffffff'> Policies<span class='feature_val'> (0.00)</span></span><span class='token' style='background-color: #ffffff'>,<span class='feature_val'> (0.00)</span></span><span class='token' style='background-color: #ffffff'> Procedures<span class='feature_val'> (0.00)</span></span><span class='token' style='background-color: #ffffff'>,<span class='feature_val'> (0.00)</span></span><span class='token' style='background-color: #ffffff'> and<span class='feature_val'> (0.00)</span></span><span class='token' style='background-color: #ffffff'> Programs<span class='feature_val'> (0.00)</span></span><span class='token' style='background-color: #ffffff'> President<span class='feature_val'> (0.00)</span></span><span class='token' style='background-color: #ffffff'> Thomas<span class='feature_val'> (0.00)</span></span><span class='token' style='background-color: #ffffff'> S<span class='feature_val'> (0.00)</span></span><span class='token' style='background-color: #ffffff'>.<span class='feature_val'> (0.00)</span></span><span class='token' style='background-color: #ffffff'> Mons<span class='feature_val'> (0.00)</span></span><span class='token' style='background-color: #ffffff'>on<span class='feature_val'> (0.00)</span></span><span class='token' style='background-color: #ffffff'> has<span class='feature_val'> (0.00)</span></span><span class='token' style='background-color: #ffffff'> declared<span class='feature_val'> (0.00)</span></span><span class='token' style='background-color: #ffffff'> that<span class='feature_val'> (0.00)</span></span><span class='token' style='background-color: #ffffff'> without<span class='feature_val'> (0.00)</span></span><span class='token' style='background-color: #ffffff'> the<span class='feature_val'> (0.00)</span></span><span class='token' style='background-color: #ffffff'> hand<span class='feature_val'> (0.00)</span></span><span class='token' style='background-color: #ffffff'>books<span class='feature_val'> (0.00)</span></span><span class='token' style='background-color: #ffffff'>,<span class='feature_val'> (0.00)</span></span><span class='token' style='background-color: #ffffff'> �<span class='feature_val'> (0.00)</span></span><span class='token' style='background-color: #ffffff'>�<span class='feature_val'> (0.00)</span></span><span class='token' style='background-color: #ffffff'>it<span class='feature_val'> (0.00)</span></span><span class='token' style='background-color: #ffffff'> would<span class='feature_val'> (0.00)</span></span><span class='token' style='background-color: #ffffff'> be<span class='feature_val'> (0.00)</span></span><span class='token' style='background-color: #ffffff'> nearly<span class='feature_val'> (0.00)</span></span><span class='token' style='background-color: #ffffff'> impossible<span class='feature_val'> (0.00)</span></span><span class='token' style='background-color: #ffffff'> to<span class='feature_val'> (0.00)</span></span><span class='token' style='background-color: #ffffff'> maintain<span class='feature_val'> (0.00)</span></span><span class='token' style='background-color: #ffffff'> the<span class='feature_val'> (0.00)</span></span><span class='token' style='background-color: #ffffff'> integrity<span class='feature_val'> (0.00)</span></span><span class='token' style='background-color: #ffffff'> of<span class='feature_val'> (0.00)</span></span><span class='token' style='background-color: #ffffff'> the<span class='feature_val'> (0.00)</span></span><span class='token' style='background-color: #ffffff'> policies<span class='feature_val'> (0.00)</span></span><span class='token' style='background-color: #ff8c00'>,<span class='feature_val'> (4.66)</span></span><span class='token' style='background-color: #ffcd90'> procedures<span class='feature_val'> (2.02)</span></span><span class='token' style='background-color: #ffb152'>,<span class='feature_val'> (3.15)</span></span><span class='token' style='background-color: #ffcc8e'> and<span class='feature_val'> (2.06)</span></span><span class='token' style='background-color: #ffffff'> programs<span class='feature_val'> (0.00)</span></span><span class='token' style='background-color: #ffffff'> of<span class='feature_val'> (0.00)</span></span><span class='token' style='background-color: #ffffff'> the<span class='feature_val'> (0.00)</span></span><span class='token' style='background-color: #ffffff'> Church<span class='feature_val'> (0.00)</span></span><span class='token' style='background-color: #ffffff'>.<span class='feature_val'> (0.00)</span></span><span class='token' style='background-color: #ffffff'>�<span class='feature_val'> (0.00)</span></span><span class='token' style='background-color: #ffffff'>�<span class='feature_val'> (0.00)</span></span><span class='token' style='background-color: #ffffff'> He<span class='feature_val'> (0.00)</span></span><span class='token' style='background-color: #ffffff'> added<span class='feature_val'> (0.00)</span></span><span class='token' style='background-color: #ffffff'>,<span class='feature_val'> (0.00)</span></span><span class='token' style='background-color: #ffffff'> �<span class='feature_val'> (0.00)</span></span><span class='token' style='background-color: #ffffff'>�<span class='feature_val'> (0.00)</span></span><span class='token' style='background-color: #ffffff'>Over<span class='feature_val'> (0.00)</span></span><span class='token' style='background-color: #ffffff'> the<span class='feature_val'> (0.00)</span></span><span class='token' style='background-color: #ffffff'> years<span class='feature_val'> (0.00)</span></span><span class='token' style='background-color: #ffffff'>,<span class='feature_val'> (0.00)</span></span><span class='token' style='background-color: #ffffff'> we<span class='feature_val'> (0.00)</span></span><span class='token' style='background-color: #ffffff'>�<span class='feature_val'> (0.00)</span></span><span class='token' style='background-color: #ffffff'>�<span class='feature_val'> (0.00)</span></span><span class='token' style='background-color: #ffffff'>ve<span class='feature_val'> (0.00)</span></span><span class='token' style='background-color: #ffffff'> had<span class='feature_val'> (0.00)</span></span><span class='token' style='background-color: #ffffff'> to<span class='feature_val'> (0.00)</span></span><span class='token' style='background-color: #ffffff'> correct<span class='feature_val'> (0.00)</span></span><span class='token' style='background-color: #ffffff'> many<span class='feature_val'> (0.00)</span></span><span class='token' style='background-color: #ffffff'> attempts<span class='feature_val'> (0.00)</span></span><span class='token' style='background-color: #ffffff'> by<span class='feature_val'> (0.00)</span></span><span class='token' style='background-color: #ffffff'> well<span class='feature_val'> (0.00)</span></span><span class='token' style='background-color: #ffffff'>-<span class='feature_val'> (0.00)</span></span><span class='token' style='background-color: #ffffff'>meaning<span class='feature_val'> (0.00)</span></span><span class='token' style='background-color: #ffffff'> leaders<span class='feature_val'> (0.00)</span></span><span class='token' style='background-color: #ffffff'> to<span class='feature_val'> (0.00)</span></span><span class='token' style='background-color: #ffffff'> change<span class='feature_val'> (0.00)</span></span><span class='token' style='background-color: #ffffff'> some<span class='feature_val'> (0.00)</span></span><span class='token' style='background-color: #ffffff'> of<span class='feature_val'> (0.00)</span></span><span class='token' style='background-color: #ffffff'> the<span class='feature_val'> (0.00)</span></span>"
      ],
      "text/plain": [
       "<IPython.core.display.HTML object>"
      ]
     },
     "metadata": {},
     "output_type": "display_data"
    },
    {
     "data": {
      "text/html": [
       "\n",
       "    <style>\n",
       "        span.token {\n",
       "            font-family: monospace;\n",
       "            border-style: solid;\n",
       "            border-width: 1px;\n",
       "            border-color: #dddddd;\n",
       "        }\n",
       "    </style>\n",
       "    <span class='token' style='background-color: #ffffff'>&lt;|endoftext|&gt;<span class='feature_val'> (0.00)</span></span><span class='token' style='background-color: #ffffff'>,<span class='feature_val'> (0.00)</span></span><span class='token' style='background-color: #ffffff'> manuscript<span class='feature_val'> (0.00)</span></span><span class='token' style='background-color: #ffffff'> preparation<span class='feature_val'> (0.00)</span></span><span class='token' style='background-color: #ffffff'>,<span class='feature_val'> (0.00)</span></span><span class='token' style='background-color: #ffffff'> conference<span class='feature_val'> (0.00)</span></span><span class='token' style='background-color: #ffffff'> presentations<span class='feature_val'> (0.00)</span></span><span class='token' style='background-color: #ffffff'>,<span class='feature_val'> (0.00)</span></span><span class='token' style='background-color: #ffffff'> and<span class='feature_val'> (0.00)</span></span><span class='token' style='background-color: #ffffff'> publications<span class='feature_val'> (0.00)</span></span><span class='token' style='background-color: #ffffff'>.<span class='feature_val'> (0.00)</span></span><span class='token' style='background-color: #ffffff'> What<span class='feature_val'> (0.00)</span></span><span class='token' style='background-color: #ffffff'> then<span class='feature_val'> (0.00)</span></span><span class='token' style='background-color: #ffffff'> is<span class='feature_val'> (0.00)</span></span><span class='token' style='background-color: #ffffff'> the<span class='feature_val'> (0.00)</span></span><span class='token' style='background-color: #ffffff'> scientific<span class='feature_val'> (0.00)</span></span><span class='token' style='background-color: #ffffff'> method<span class='feature_val'> (0.00)</span></span><span class='token' style='background-color: #ffffff'>?<span class='feature_val'> (0.00)</span></span><span class='token' style='background-color: #ffffff'> One<span class='feature_val'> (0.00)</span></span><span class='token' style='background-color: #ffffff'> of<span class='feature_val'> (0.00)</span></span><span class='token' style='background-color: #ffffff'> the<span class='feature_val'> (0.00)</span></span><span class='token' style='background-color: #ffffff'> more<span class='feature_val'> (0.00)</span></span><span class='token' style='background-color: #ffffff'> insightful<span class='feature_val'> (0.00)</span></span><span class='token' style='background-color: #ffffff'> and<span class='feature_val'> (0.00)</span></span><span class='token' style='background-color: #ffffff'> amusing<span class='feature_val'> (0.00)</span></span><span class='token' style='background-color: #ffffff'> observations<span class='feature_val'> (0.00)</span></span><span class='token' style='background-color: #ffffff'> was<span class='feature_val'> (0.00)</span></span><span class='token' style='background-color: #ffffff'> made<span class='feature_val'> (0.00)</span></span><span class='token' style='background-color: #ffffff'> by<span class='feature_val'> (0.00)</span></span><span class='token' style='background-color: #ffffff'> the<span class='feature_val'> (0.00)</span></span><span class='token' style='background-color: #ffffff'> Nobel<span class='feature_val'> (0.00)</span></span><span class='token' style='background-color: #ffffff'> laureate<span class='feature_val'> (0.00)</span></span><span class='token' style='background-color: #ffffff'> and<span class='feature_val'> (0.00)</span></span><span class='token' style='background-color: #ffffff'> philosopher<span class='feature_val'> (0.00)</span></span><span class='token' style='background-color: #ffffff'> of<span class='feature_val'> (0.00)</span></span><span class='token' style='background-color: #ffffff'> science<span class='feature_val'> (0.00)</span></span><span class='token' style='background-color: #ffffff'>,<span class='feature_val'> (0.00)</span></span><span class='token' style='background-color: #ffffff'> Sir<span class='feature_val'> (0.00)</span></span><span class='token' style='background-color: #ffffff'> Peter<span class='feature_val'> (0.00)</span></span><span class='token' style='background-color: #ffffff'> Med<span class='feature_val'> (0.00)</span></span><span class='token' style='background-color: #ffffff'>awar<span class='feature_val'> (0.00)</span></span><span class='token' style='background-color: #ffffff'> (<span class='feature_val'> (0.00)</span></span><span class='token' style='background-color: #ffffff'>1969<span class='feature_val'> (0.00)</span></span><span class='token' style='background-color: #ffffff'>,<span class='feature_val'> (0.00)</span></span><span class='token' style='background-color: #ffffff'> p<span class='feature_val'> (0.00)</span></span><span class='token' style='background-color: #ffffff'>.<span class='feature_val'> (0.00)</span></span><span class='token' style='background-color: #ffffff'> 11<span class='feature_val'> (0.00)</span></span><span class='token' style='background-color: #ffffff'>):<span class='feature_val'> (0.00)</span></span><span class='token' style='background-color: #ffffff'>\n",
       "<span class='feature_val'> (0.00)</span></span><span class='token' style='background-color: #ffffff'>\n",
       "<span class='feature_val'> (0.00)</span></span><span class='token' style='background-color: #ffffff'>Ask<span class='feature_val'> (0.00)</span></span><span class='token' style='background-color: #ffffff'> a<span class='feature_val'> (0.00)</span></span><span class='token' style='background-color: #ffffff'> scientist<span class='feature_val'> (0.00)</span></span><span class='token' style='background-color: #ffffff'> what<span class='feature_val'> (0.00)</span></span><span class='token' style='background-color: #ffffff'> he<span class='feature_val'> (0.00)</span></span><span class='token' style='background-color: #ffffff'> conce<span class='feature_val'> (0.00)</span></span><span class='token' style='background-color: #ffffff'>ives<span class='feature_val'> (0.00)</span></span><span class='token' style='background-color: #ffffff'> the<span class='feature_val'> (0.00)</span></span><span class='token' style='background-color: #ffffff'> scientific<span class='feature_val'> (0.00)</span></span><span class='token' style='background-color: #ffffff'> method<span class='feature_val'> (0.00)</span></span><span class='token' style='background-color: #ffffff'> to<span class='feature_val'> (0.00)</span></span><span class='token' style='background-color: #ffffff'> be<span class='feature_val'> (0.00)</span></span><span class='token' style='background-color: #ffffff'> and<span class='feature_val'> (0.00)</span></span><span class='token' style='background-color: #ffffff'> he<span class='feature_val'> (0.00)</span></span><span class='token' style='background-color: #ffffff'> will<span class='feature_val'> (0.00)</span></span><span class='token' style='background-color: #ffffff'> adopt<span class='feature_val'> (0.00)</span></span><span class='token' style='background-color: #ffffff'> an<span class='feature_val'> (0.00)</span></span><span class='token' style='background-color: #ffffff'> expression<span class='feature_val'> (0.00)</span></span><span class='token' style='background-color: #ffffff'> that<span class='feature_val'> (0.00)</span></span><span class='token' style='background-color: #ffffff'> is<span class='feature_val'> (0.00)</span></span><span class='token' style='background-color: #ffffff'> at<span class='feature_val'> (0.00)</span></span><span class='token' style='background-color: #ffffff'> once<span class='feature_val'> (0.00)</span></span><span class='token' style='background-color: #ffffff'> solemn<span class='feature_val'> (0.00)</span></span><span class='token' style='background-color: #ffffff'> and<span class='feature_val'> (0.00)</span></span><span class='token' style='background-color: #ffffff'> shif<span class='feature_val'> (0.00)</span></span><span class='token' style='background-color: #ffffff'>ty<span class='feature_val'> (0.00)</span></span><span class='token' style='background-color: #ffffff'>-<span class='feature_val'> (0.00)</span></span><span class='token' style='background-color: #ffffff'>eyed<span class='feature_val'> (0.00)</span></span><span class='token' style='background-color: #ffffff'>:<span class='feature_val'> (0.00)</span></span><span class='token' style='background-color: #ffffff'> solemn<span class='feature_val'> (0.00)</span></span><span class='token' style='background-color: #ffe5c5'>,<span class='feature_val'> (1.04)</span></span><span class='token' style='background-color: #ffffff'> because<span class='feature_val'> (0.00)</span></span><span class='token' style='background-color: #ffffff'> he<span class='feature_val'> (0.00)</span></span><span class='token' style='background-color: #ffffff'> feels<span class='feature_val'> (0.00)</span></span><span class='token' style='background-color: #ffffff'> he<span class='feature_val'> (0.00)</span></span><span class='token' style='background-color: #ffffff'> ought<span class='feature_val'> (0.00)</span></span><span class='token' style='background-color: #ffffff'> to<span class='feature_val'> (0.00)</span></span><span class='token' style='background-color: #ffffff'> declare<span class='feature_val'> (0.00)</span></span><span class='token' style='background-color: #ffffff'> an<span class='feature_val'> (0.00)</span></span><span class='token' style='background-color: #ffffff'> opinion<span class='feature_val'> (0.00)</span></span><span class='token' style='background-color: #ff8c00'>;<span class='feature_val'> (4.64)</span></span><span class='token' style='background-color: #ffae4d'> shif<span class='feature_val'> (3.23)</span></span><span class='token' style='background-color: #ffebd4'>ty<span class='feature_val'> (0.78)</span></span><span class='token' style='background-color: #fffbf7'>-<span class='feature_val'> (0.14)</span></span><span class='token' style='background-color: #fff6ec'>eyed<span class='feature_val'> (0.33)</span></span><span class='token' style='background-color: #ffffff'>,<span class='feature_val'> (0.00)</span></span><span class='token' style='background-color: #ffffff'> because<span class='feature_val'> (0.00)</span></span><span class='token' style='background-color: #ffffff'> he<span class='feature_val'> (0.00)</span></span><span class='token' style='background-color: #ffffff'> is<span class='feature_val'> (0.00)</span></span><span class='token' style='background-color: #ffffff'> wondering<span class='feature_val'> (0.00)</span></span><span class='token' style='background-color: #ffffff'> how<span class='feature_val'> (0.00)</span></span><span class='token' style='background-color: #ffffff'> to<span class='feature_val'> (0.00)</span></span><span class='token' style='background-color: #ffffff'> conceal<span class='feature_val'> (0.00)</span></span><span class='token' style='background-color: #ffffff'> the<span class='feature_val'> (0.00)</span></span><span class='token' style='background-color: #ffffff'> fact<span class='feature_val'> (0.00)</span></span><span class='token' style='background-color: #ffffff'> that<span class='feature_val'> (0.00)</span></span><span class='token' style='background-color: #ffffff'> he<span class='feature_val'> (0.00)</span></span><span class='token' style='background-color: #ffffff'> has<span class='feature_val'> (0.00)</span></span><span class='token' style='background-color: #ffffff'> no<span class='feature_val'> (0.00)</span></span><span class='token' style='background-color: #ffffff'> opinion<span class='feature_val'> (0.00)</span></span><span class='token' style='background-color: #ffffff'> to<span class='feature_val'> (0.00)</span></span><span class='token' style='background-color: #ffffff'> declare<span class='feature_val'> (0.00)</span></span><span class='token' style='background-color: #ffffff'>.<span class='feature_val'> (0.00)</span></span><span class='token' style='background-color: #ffffff'>\n",
       "<span class='feature_val'> (0.00)</span></span><span class='token' style='background-color: #ffffff'>\n",
       "<span class='feature_val'> (0.00)</span></span><span class='token' style='background-color: #ffffff'>A<span class='feature_val'> (0.00)</span></span><span class='token' style='background-color: #ffffff'> sizable<span class='feature_val'> (0.00)</span></span><span class='token' style='background-color: #ffffff'> body<span class='feature_val'> (0.00)</span></span><span class='token' style='background-color: #ffffff'> of<span class='feature_val'> (0.00)</span></span><span class='token' style='background-color: #ffffff'> literature<span class='feature_val'> (0.00)</span></span><span class='token' style='background-color: #ffffff'> exists<span class='feature_val'> (0.00)</span></span><span class='token' style='background-color: #ffffff'> on<span class='feature_val'> (0.00)</span></span><span class='token' style='background-color: #ffffff'> the<span class='feature_val'> (0.00)</span></span><span class='token' style='background-color: #ffffff'> scientific<span class='feature_val'> (0.00)</span></span><span class='token' style='background-color: #ffffff'> method<span class='feature_val'> (0.00)</span></span><span class='token' style='background-color: #ffffff'> and<span class='feature_val'> (0.00)</span></span><span class='token' style='background-color: #ffffff'> there<span class='feature_val'> (0.00)</span></span><span class='token' style='background-color: #ffffff'> is<span class='feature_val'> (0.00)</span></span>"
      ],
      "text/plain": [
       "<IPython.core.display.HTML object>"
      ]
     },
     "metadata": {},
     "output_type": "display_data"
    },
    {
     "data": {
      "text/html": [
       "\n",
       "    <style>\n",
       "        span.token {\n",
       "            font-family: monospace;\n",
       "            border-style: solid;\n",
       "            border-width: 1px;\n",
       "            border-color: #dddddd;\n",
       "        }\n",
       "    </style>\n",
       "    <span class='token' style='background-color: #ffffff'>&lt;|endoftext|&gt;<span class='feature_val'> (0.00)</span></span><span class='token' style='background-color: #ffffff'> the<span class='feature_val'> (0.00)</span></span><span class='token' style='background-color: #ffffff'> Latin<span class='feature_val'> (0.00)</span></span><span class='token' style='background-color: #ffffff'> word<span class='feature_val'> (0.00)</span></span><span class='token' style='background-color: #ffffff'> &quot;<span class='feature_val'> (0.00)</span></span><span class='token' style='background-color: #ffffff'>to<span class='feature_val'> (0.00)</span></span><span class='token' style='background-color: #ffffff'> know<span class='feature_val'> (0.00)</span></span><span class='token' style='background-color: #ffffff'>&quot;;<span class='feature_val'> (0.00)</span></span><span class='token' style='background-color: #ffffff'> knowledge<span class='feature_val'> (0.00)</span></span><span class='token' style='background-color: #ffffff'> plays<span class='feature_val'> (0.00)</span></span><span class='token' style='background-color: #ffffff'> an<span class='feature_val'> (0.00)</span></span><span class='token' style='background-color: #ffffff'> important<span class='feature_val'> (0.00)</span></span><span class='token' style='background-color: #ffffff'> role<span class='feature_val'> (0.00)</span></span><span class='token' style='background-color: #ffffff'> in<span class='feature_val'> (0.00)</span></span><span class='token' style='background-color: #ffffff'> this<span class='feature_val'> (0.00)</span></span><span class='token' style='background-color: #ffffff'> approach<span class='feature_val'> (0.00)</span></span><span class='token' style='background-color: #ffffff'> to<span class='feature_val'> (0.00)</span></span><span class='token' style='background-color: #ffffff'> teaching<span class='feature_val'> (0.00)</span></span><span class='token' style='background-color: #ffffff'> basic<span class='feature_val'> (0.00)</span></span><span class='token' style='background-color: #ffffff'> behavior<span class='feature_val'> (0.00)</span></span><span class='token' style='background-color: #ffffff'> therapy<span class='feature_val'> (0.00)</span></span><span class='token' style='background-color: #ffffff'> techniques<span class='feature_val'> (0.00)</span></span><span class='token' style='background-color: #ffffff'>.<span class='feature_val'> (0.00)</span></span><span class='token' style='background-color: #ffffff'> Research<span class='feature_val'> (0.00)</span></span><span class='token' style='background-color: #ffffff'> has<span class='feature_val'> (0.00)</span></span><span class='token' style='background-color: #ffffff'> shown<span class='feature_val'> (0.00)</span></span><span class='token' style='background-color: #ffffff'> that<span class='feature_val'> (0.00)</span></span><span class='token' style='background-color: #ffffff'> exposure<span class='feature_val'> (0.00)</span></span><span class='token' style='background-color: #ffffff'> and<span class='feature_val'> (0.00)</span></span><span class='token' style='background-color: #ffffff'> response<span class='feature_val'> (0.00)</span></span><span class='token' style='background-color: #ffffff'> prevention<span class='feature_val'> (0.00)</span></span><span class='token' style='background-color: #ffffff'> are<span class='feature_val'> (0.00)</span></span><span class='token' style='background-color: #ffffff'> very<span class='feature_val'> (0.00)</span></span><span class='token' style='background-color: #ffffff'> effective<span class='feature_val'> (0.00)</span></span><span class='token' style='background-color: #ffffff'> behavior<span class='feature_val'> (0.00)</span></span><span class='token' style='background-color: #ffffff'> therapy<span class='feature_val'> (0.00)</span></span><span class='token' style='background-color: #ffffff'> techniques<span class='feature_val'> (0.00)</span></span><span class='token' style='background-color: #ffffff'> for<span class='feature_val'> (0.00)</span></span><span class='token' style='background-color: #ffffff'> treating<span class='feature_val'> (0.00)</span></span><span class='token' style='background-color: #ffffff'> OCD<span class='feature_val'> (0.00)</span></span><span class='token' style='background-color: #ffffff'>.<span class='feature_val'> (0.00)</span></span><span class='token' style='background-color: #ffffff'> In<span class='feature_val'> (0.00)</span></span><span class='token' style='background-color: #ffffff'> traditional<span class='feature_val'> (0.00)</span></span><span class='token' style='background-color: #ffffff'> exposure<span class='feature_val'> (0.00)</span></span><span class='token' style='background-color: #ff8c00'> and<span class='feature_val'> (4.64)</span></span><span class='token' style='background-color: #feeeda'> response<span class='feature_val'> (0.66)</span></span><span class='token' style='background-color: #ffffff'> prevention<span class='feature_val'> (0.00)</span></span><span class='token' style='background-color: #ffffff'>,<span class='feature_val'> (0.00)</span></span><span class='token' style='background-color: #ffffff'> people<span class='feature_val'> (0.00)</span></span><span class='token' style='background-color: #ffffff'> with<span class='feature_val'> (0.00)</span></span><span class='token' style='background-color: #ffffff'> OCD<span class='feature_val'> (0.00)</span></span><span class='token' style='background-color: #ffffff'> learn<span class='feature_val'> (0.00)</span></span><span class='token' style='background-color: #ffffff'>--<span class='feature_val'> (0.00)</span></span><span class='token' style='background-color: #ffffff'>under<span class='feature_val'> (0.00)</span></span><span class='token' style='background-color: #ffffff'> the<span class='feature_val'> (0.00)</span></span><span class='token' style='background-color: #ffffff'> continuing<span class='feature_val'> (0.00)</span></span><span class='token' style='background-color: #ffffff'> guidance<span class='feature_val'> (0.00)</span></span><span class='token' style='background-color: #ffffff'> of<span class='feature_val'> (0.00)</span></span><span class='token' style='background-color: #ffffff'> a<span class='feature_val'> (0.00)</span></span><span class='token' style='background-color: #ffffff'> professional<span class='feature_val'> (0.00)</span></span><span class='token' style='background-color: #ffffff'> therapist<span class='feature_val'> (0.00)</span></span><span class='token' style='background-color: #ffffff'>--<span class='feature_val'> (0.00)</span></span><span class='token' style='background-color: #ffffff'>to<span class='feature_val'> (0.00)</span></span><span class='token' style='background-color: #ffffff'> expose<span class='feature_val'> (0.00)</span></span><span class='token' style='background-color: #ffffff'> themselves<span class='feature_val'> (0.00)</span></span><span class='token' style='background-color: #ffffff'> to<span class='feature_val'> (0.00)</span></span><span class='token' style='background-color: #ffffff'> stimuli<span class='feature_val'> (0.00)</span></span><span class='token' style='background-color: #ffffff'> that<span class='feature_val'> (0.00)</span></span><span class='token' style='background-color: #ffffff'> intensify<span class='feature_val'> (0.00)</span></span><span class='token' style='background-color: #ffffff'> their<span class='feature_val'> (0.00)</span></span><span class='token' style='background-color: #ffffff'> obsessive<span class='feature_val'> (0.00)</span></span><span class='token' style='background-color: #ffffff'> thoughts<span class='feature_val'> (0.00)</span></span><span class='token' style='background-color: #fff9f3'> and<span class='feature_val'> (0.22)</span></span><span class='token' style='background-color: #ffffff'> comp<span class='feature_val'> (0.00)</span></span><span class='token' style='background-color: #ffffff'>ulsive<span class='feature_val'> (0.00)</span></span><span class='token' style='background-color: #ffffff'> urges<span class='feature_val'> (0.00)</span></span><span class='token' style='background-color: #fff0dd'> and<span class='feature_val'> (0.60)</span></span><span class='token' style='background-color: #ffedd8'> then<span class='feature_val'> (0.69)</span></span><span class='token' style='background-color: #ffffff'> learn<span class='feature_val'> (0.00)</span></span><span class='token' style='background-color: #ffffff'> how<span class='feature_val'> (0.00)</span></span><span class='token' style='background-color: #ffffff'> to<span class='feature_val'> (0.00)</span></span><span class='token' style='background-color: #ffffff'> resist<span class='feature_val'> (0.00)</span></span><span class='token' style='background-color: #ffffff'> responding<span class='feature_val'> (0.00)</span></span><span class='token' style='background-color: #ffffff'> to<span class='feature_val'> (0.00)</span></span><span class='token' style='background-color: #ffffff'> those<span class='feature_val'> (0.00)</span></span><span class='token' style='background-color: #ffffff'> thoughts<span class='feature_val'> (0.00)</span></span><span class='token' style='background-color: #ffc278'> and<span class='feature_val'> (2.45)</span></span><span class='token' style='background-color: #ffffff'> urges<span class='feature_val'> (0.00)</span></span><span class='token' style='background-color: #ffffff'> in<span class='feature_val'> (0.00)</span></span><span class='token' style='background-color: #ffffff'> a<span class='feature_val'> (0.00)</span></span><span class='token' style='background-color: #ffffff'> comp<span class='feature_val'> (0.00)</span></span><span class='token' style='background-color: #ffffff'>ulsive<span class='feature_val'> (0.00)</span></span><span class='token' style='background-color: #ffffff'> manner<span class='feature_val'> (0.00)</span></span><span class='token' style='background-color: #ffffff'>.<span class='feature_val'> (0.00)</span></span><span class='token' style='background-color: #ffffff'> For<span class='feature_val'> (0.00)</span></span><span class='token' style='background-color: #ffffff'> example<span class='feature_val'> (0.00)</span></span><span class='token' style='background-color: #ffffff'>,<span class='feature_val'> (0.00)</span></span><span class='token' style='background-color: #ffffff'> people<span class='feature_val'> (0.00)</span></span><span class='token' style='background-color: #ffffff'> who<span class='feature_val'> (0.00)</span></span><span class='token' style='background-color: #ffffff'> obsess<span class='feature_val'> (0.00)</span></span><span class='token' style='background-color: #ffffff'> ir<span class='feature_val'> (0.00)</span></span><span class='token' style='background-color: #ffffff'>ration<span class='feature_val'> (0.00)</span></span><span class='token' style='background-color: #ffffff'>ally<span class='feature_val'> (0.00)</span></span><span class='token' style='background-color: #ffffff'> about<span class='feature_val'> (0.00)</span></span><span class='token' style='background-color: #ffffff'> contamination<span class='feature_val'> (0.00)</span></span><span class='token' style='background-color: #ffffff'> from<span class='feature_val'> (0.00)</span></span><span class='token' style='background-color: #ffffff'> dirt<span class='feature_val'> (0.00)</span></span><span class='token' style='background-color: #ffffff'> may<span class='feature_val'> (0.00)</span></span><span class='token' style='background-color: #ffffff'> be<span class='feature_val'> (0.00)</span></span><span class='token' style='background-color: #ffffff'> instructed<span class='feature_val'> (0.00)</span></span><span class='token' style='background-color: #ffffff'> to<span class='feature_val'> (0.00)</span></span><span class='token' style='background-color: #ffffff'> hold<span class='feature_val'> (0.00)</span></span><span class='token' style='background-color: #ffffff'> something<span class='feature_val'> (0.00)</span></span><span class='token' style='background-color: #ffffff'> dirty<span class='feature_val'> (0.00)</span></span><span class='token' style='background-color: #ffffff'> in<span class='feature_val'> (0.00)</span></span><span class='token' style='background-color: #ffffff'> their<span class='feature_val'> (0.00)</span></span><span class='token' style='background-color: #ffffff'> hands<span class='feature_val'> (0.00)</span></span><span class='token' style='background-color: #ffffff'> and<span class='feature_val'> (0.00)</span></span><span class='token' style='background-color: #ffffff'> then<span class='feature_val'> (0.00)</span></span><span class='token' style='background-color: #ffffff'> not<span class='feature_val'> (0.00)</span></span><span class='token' style='background-color: #ffffff'> wash<span class='feature_val'> (0.00)</span></span><span class='token' style='background-color: #ffffff'> for<span class='feature_val'> (0.00)</span></span><span class='token' style='background-color: #ffffff'> at<span class='feature_val'> (0.00)</span></span><span class='token' style='background-color: #ffffff'> least<span class='feature_val'> (0.00)</span></span><span class='token' style='background-color: #ffffff'> three<span class='feature_val'> (0.00)</span></span><span class='token' style='background-color: #ffffff'> hours<span class='feature_val'> (0.00)</span></span><span class='token' style='background-color: #ffffff'>.<span class='feature_val'> (0.00)</span></span><span class='token' style='background-color: #ffffff'> We<span class='feature_val'> (0.00)</span></span>"
      ],
      "text/plain": [
       "<IPython.core.display.HTML object>"
      ]
     },
     "metadata": {},
     "output_type": "display_data"
    },
    {
     "data": {
      "text/html": [
       "\n",
       "    <style>\n",
       "        span.token {\n",
       "            font-family: monospace;\n",
       "            border-style: solid;\n",
       "            border-width: 1px;\n",
       "            border-color: #dddddd;\n",
       "        }\n",
       "    </style>\n",
       "    <span class='token' style='background-color: #ffffff'>&lt;|endoftext|&gt;<span class='feature_val'> (0.00)</span></span><span class='token' style='background-color: #ffffff'>�<span class='feature_val'> (0.00)</span></span><span class='token' style='background-color: #ffffff'>�<span class='feature_val'> (0.00)</span></span><span class='token' style='background-color: #ffffff'>s<span class='feature_val'> (0.00)</span></span><span class='token' style='background-color: #ffffff'> Facebook<span class='feature_val'> (0.00)</span></span><span class='token' style='background-color: #ffffff'> page<span class='feature_val'> (0.00)</span></span><span class='token' style='background-color: #ffffff'>:<span class='feature_val'> (0.00)</span></span><span class='token' style='background-color: #ffffff'>\n",
       "<span class='feature_val'> (0.00)</span></span><span class='token' style='background-color: #ffffff'>\n",
       "<span class='feature_val'> (0.00)</span></span><span class='token' style='background-color: #ffffff'>The<span class='feature_val'> (0.00)</span></span><span class='token' style='background-color: #ffffff'> annual<span class='feature_val'> (0.00)</span></span><span class='token' style='background-color: #ffffff'> comparative<span class='feature_val'> (0.00)</span></span><span class='token' style='background-color: #ffffff'> analysis<span class='feature_val'> (0.00)</span></span><span class='token' style='background-color: #ffffff'> of<span class='feature_val'> (0.00)</span></span><span class='token' style='background-color: #ffffff'> WR<span class='feature_val'> (0.00)</span></span><span class='token' style='background-color: #ffffff'>TH<span class='feature_val'> (0.00)</span></span><span class='token' style='background-color: #ffffff'> vs<span class='feature_val'> (0.00)</span></span><span class='token' style='background-color: #ffffff'> Kling<span class='feature_val'> (0.00)</span></span><span class='token' style='background-color: #ffffff'>enf<span class='feature_val'> (0.00)</span></span><span class='token' style='background-color: #ffffff'>uss<span class='feature_val'> (0.00)</span></span><span class='token' style='background-color: #ffffff'> has<span class='feature_val'> (0.00)</span></span><span class='token' style='background-color: #ffffff'> just<span class='feature_val'> (0.00)</span></span><span class='token' style='background-color: #ffffff'> been<span class='feature_val'> (0.00)</span></span><span class='token' style='background-color: #ffffff'> published<span class='feature_val'> (0.00)</span></span><span class='token' style='background-color: #ffffff'>.<span class='feature_val'> (0.00)</span></span><span class='token' style='background-color: #ffffff'> I<span class='feature_val'> (0.00)</span></span><span class='token' style='background-color: #ffffff'> am<span class='feature_val'> (0.00)</span></span><span class='token' style='background-color: #ffffff'> pleased<span class='feature_val'> (0.00)</span></span><span class='token' style='background-color: #ffffff'> to<span class='feature_val'> (0.00)</span></span><span class='token' style='background-color: #ffffff'> announce<span class='feature_val'> (0.00)</span></span><span class='token' style='background-color: #ffffff'> that<span class='feature_val'> (0.00)</span></span><span class='token' style='background-color: #ffffff'>,<span class='feature_val'> (0.00)</span></span><span class='token' style='background-color: #ffffff'> once<span class='feature_val'> (0.00)</span></span><span class='token' style='background-color: #ffffff'> again<span class='feature_val'> (0.00)</span></span><span class='token' style='background-color: #ffffff'>,<span class='feature_val'> (0.00)</span></span><span class='token' style='background-color: #ffffff'> WR<span class='feature_val'> (0.00)</span></span><span class='token' style='background-color: #ffffff'>TH<span class='feature_val'> (0.00)</span></span><span class='token' style='background-color: #ffffff'> has<span class='feature_val'> (0.00)</span></span><span class='token' style='background-color: #ffffff'> proved<span class='feature_val'> (0.00)</span></span><span class='token' style='background-color: #ffffff'> more<span class='feature_val'> (0.00)</span></span><span class='token' style='background-color: #ffffff'> accurate<span class='feature_val'> (0.00)</span></span><span class='token' style='background-color: #ffffff'> and<span class='feature_val'> (0.00)</span></span><span class='token' style='background-color: #ffffff'> comprehensive<span class='feature_val'> (0.00)</span></span><span class='token' style='background-color: #ff8c00'> than<span class='feature_val'> (4.51)</span></span><span class='token' style='background-color: #ffcb8c'> the<span class='feature_val'> (2.03)</span></span><span class='token' style='background-color: #ffffff'> Super<span class='feature_val'> (0.00)</span></span><span class='token' style='background-color: #ffffff'> Frequency<span class='feature_val'> (0.00)</span></span><span class='token' style='background-color: #ffffff'> List<span class='feature_val'> (0.00)</span></span><span class='token' style='background-color: #ffffff'> as<span class='feature_val'> (0.00)</span></span><span class='token' style='background-color: #ffffff'> regards<span class='feature_val'> (0.00)</span></span><span class='token' style='background-color: #ffffff'> Short<span class='feature_val'> (0.00)</span></span><span class='token' style='background-color: #ffffff'>wave<span class='feature_val'> (0.00)</span></span><span class='token' style='background-color: #ffffff'> broadcasting<span class='feature_val'> (0.00)</span></span><span class='token' style='background-color: #ffffff'> (<span class='feature_val'> (0.00)</span></span><span class='token' style='background-color: #ffffff'>which<span class='feature_val'> (0.00)</span></span><span class='token' style='background-color: #ffffff'> is<span class='feature_val'> (0.00)</span></span><span class='token' style='background-color: #ffffff'> the<span class='feature_val'> (0.00)</span></span><span class='token' style='background-color: #ffffff'> area<span class='feature_val'> (0.00)</span></span><span class='token' style='background-color: #ffffff'> this<span class='feature_val'> (0.00)</span></span><span class='token' style='background-color: #ffffff'> study<span class='feature_val'> (0.00)</span></span><span class='token' style='background-color: #ffffff'> concent<span class='feature_val'> (0.00)</span></span><span class='token' style='background-color: #ffffff'>rates<span class='feature_val'> (0.00)</span></span><span class='token' style='background-color: #ffffff'> on<span class='feature_val'> (0.00)</span></span><span class='token' style='background-color: #ffefdc'>).<span class='feature_val'> (0.62)</span></span><span class='token' style='background-color: #ffffff'> Overall<span class='feature_val'> (0.00)</span></span><span class='token' style='background-color: #ffffff'> we<span class='feature_val'> (0.00)</span></span><span class='token' style='background-color: #ffffff'> scored<span class='feature_val'> (0.00)</span></span><span class='token' style='background-color: #ffffff'> 98<span class='feature_val'> (0.00)</span></span><span class='token' style='background-color: #ffffff'>.<span class='feature_val'> (0.00)</span></span><span class='token' style='background-color: #ffffff'>4<span class='feature_val'> (0.00)</span></span><span class='token' style='background-color: #ffdeb8'>%,<span class='feature_val'> (1.26)</span></span><span class='token' style='background-color: #ffffff'> compared<span class='feature_val'> (0.00)</span></span><span class='token' style='background-color: #fff3e5'> to<span class='feature_val'> (0.45)</span></span><span class='token' style='background-color: #ffffff'> the<span class='feature_val'> (0.00)</span></span><span class='token' style='background-color: #ffffff'> S<span class='feature_val'> (0.00)</span></span><span class='token' style='background-color: #ffffff'>FL<span class='feature_val'> (0.00)</span></span><span class='token' style='background-color: #ffffff'> which<span class='feature_val'> (0.00)</span></span><span class='token' style='background-color: #ffffff'> scored<span class='feature_val'> (0.00)</span></span><span class='token' style='background-color: #ffffff'> 97<span class='feature_val'> (0.00)</span></span><span class='token' style='background-color: #ffffff'>.<span class='feature_val'> (0.00)</span></span><span class='token' style='background-color: #ffffff'>6<span class='feature_val'> (0.00)</span></span><span class='token' style='background-color: #fffbf6'>%.<span class='feature_val'> (0.16)</span></span><span class='token' style='background-color: #ffffff'> Breaking<span class='feature_val'> (0.00)</span></span><span class='token' style='background-color: #ffffff'> this<span class='feature_val'> (0.00)</span></span><span class='token' style='background-color: #ffffff'> down<span class='feature_val'> (0.00)</span></span><span class='token' style='background-color: #ffffff'> out<span class='feature_val'> (0.00)</span></span><span class='token' style='background-color: #ffffff'> of<span class='feature_val'> (0.00)</span></span><span class='token' style='background-color: #ffffff'> a<span class='feature_val'> (0.00)</span></span><span class='token' style='background-color: #ffffff'> possible<span class='feature_val'> (0.00)</span></span><span class='token' style='background-color: #ffffff'> 125<span class='feature_val'> (0.00)</span></span><span class='token' style='background-color: #ffffff'> points<span class='feature_val'> (0.00)</span></span><span class='token' style='background-color: #ffffff'> for<span class='feature_val'> (0.00)</span></span><span class='token' style='background-color: #ffffff'> international<span class='feature_val'> (0.00)</span></span><span class='token' style='background-color: #ffffff'> broadcasting<span class='feature_val'> (0.00)</span></span><span class='token' style='background-color: #ffffff'>,<span class='feature_val'> (0.00)</span></span><span class='token' style='background-color: #ffffff'> we<span class='feature_val'> (0.00)</span></span><span class='token' style='background-color: #ffffff'> scored<span class='feature_val'> (0.00)</span></span><span class='token' style='background-color: #ffffff'> 124<span class='feature_val'> (0.00)</span></span><span class='token' style='background-color: #ffffff'>,<span class='feature_val'> (0.00)</span></span><span class='token' style='background-color: #ffdfb9'> whereas<span class='feature_val'> (1.23)</span></span><span class='token' style='background-color: #fecd91'> S<span class='feature_val'> (1.93)</span></span><span class='token' style='background-color: #fffcf9'>FL<span class='feature_val'> (0.09)</span></span><span class='token' style='background-color: #ffffff'> scored<span class='feature_val'> (0.00)</span></span><span class='token' style='background-color: #ffffff'> 120<span class='feature_val'> (0.00)</span></span><span class='token' style='background-color: #ffffff'>.<span class='feature_val'> (0.00)</span></span><span class='token' style='background-color: #ffffff'> For<span class='feature_val'> (0.00)</span></span><span class='token' style='background-color: #ffffff'> domestic<span class='feature_val'> (0.00)</span></span><span class='token' style='background-color: #ffffff'> broadcasting<span class='feature_val'> (0.00)</span></span><span class='token' style='background-color: #ffffff'>,<span class='feature_val'> (0.00)</span></span><span class='token' style='background-color: #fffaf4'> WR<span class='feature_val'> (0.19)</span></span><span class='token' style='background-color: #ffffff'>TH<span class='feature_val'> (0.00)</span></span><span class='token' style='background-color: #ffffff'> scored<span class='feature_val'> (0.00)</span></span><span class='token' style='background-color: #ffffff'> 122<span class='feature_val'> (0.00)</span></span><span class='token' style='background-color: #ffffff'>/<span class='feature_val'> (0.00)</span></span><span class='token' style='background-color: #fffdfc'>125<span class='feature_val'> (0.05)</span></span><span class='token' style='background-color: #fff0df'> and<span class='feature_val'> (0.57)</span></span><span class='token' style='background-color: #ffefdc'> S<span class='feature_val'> (0.61)</span></span><span class='token' style='background-color: #ffffff'>FL<span class='feature_val'> (0.00)</span></span><span class='token' style='background-color: #fffbf7'> scored<span class='feature_val'> (0.14)</span></span><span class='token' style='background-color: #fffefe'> 124<span class='feature_val'> (0.01)</span></span><span class='token' style='background-color: #fff6eb'>/<span class='feature_val'> (0.35)</span></span><span class='token' style='background-color: #ffffff'>125<span class='feature_val'> (0.00)</span></span><span class='token' style='background-color: #ffffff'>,<span class='feature_val'> (0.00)</span></span><span class='token' style='background-color: #ffffff'> so<span class='feature_val'> (0.00)</span></span><span class='token' style='background-color: #ffffff'> the<span class='feature_val'> (0.00)</span></span><span class='token' style='background-color: #ffffff'> S<span class='feature_val'> (0.00)</span></span><span class='token' style='background-color: #ffffff'>FL<span class='feature_val'> (0.00)</span></span><span class='token' style='background-color: #ffffff'> just<span class='feature_val'> (0.00)</span></span>"
      ],
      "text/plain": [
       "<IPython.core.display.HTML object>"
      ]
     },
     "metadata": {},
     "output_type": "display_data"
    },
    {
     "data": {
      "text/html": [
       "\n",
       "    <style>\n",
       "        span.token {\n",
       "            font-family: monospace;\n",
       "            border-style: solid;\n",
       "            border-width: 1px;\n",
       "            border-color: #dddddd;\n",
       "        }\n",
       "    </style>\n",
       "    <span class='token' style='background-color: #ffffff'>&lt;|endoftext|&gt;<span class='feature_val'> (0.00)</span></span><span class='token' style='background-color: #ffffff'> more<span class='feature_val'> (0.00)</span></span><span class='token' style='background-color: #ffffff'> for<span class='feature_val'> (0.00)</span></span><span class='token' style='background-color: #ffffff'> the<span class='feature_val'> (0.00)</span></span><span class='token' style='background-color: #ffffff'> protection<span class='feature_val'> (0.00)</span></span><span class='token' style='background-color: #ffffff'> of<span class='feature_val'> (0.00)</span></span><span class='token' style='background-color: #ffffff'> religions<span class='feature_val'> (0.00)</span></span><span class='token' style='background-color: #ffffff'> minorities<span class='feature_val'> (0.00)</span></span><span class='token' style='background-color: #ffffff'>.&quot;<span class='feature_val'> (0.00)</span></span><span class='token' style='background-color: #ffffff'>\n",
       "<span class='feature_val'> (0.00)</span></span><span class='token' style='background-color: #ffffff'>\n",
       "<span class='feature_val'> (0.00)</span></span><span class='token' style='background-color: #ffffff'>A<span class='feature_val'> (0.00)</span></span><span class='token' style='background-color: #ffffff'> Pakistani<span class='feature_val'> (0.00)</span></span><span class='token' style='background-color: #ffffff'> &quot;<span class='feature_val'> (0.00)</span></span><span class='token' style='background-color: #ffffff'>anti<span class='feature_val'> (0.00)</span></span><span class='token' style='background-color: #ffffff'>-<span class='feature_val'> (0.00)</span></span><span class='token' style='background-color: #ffffff'>terrorism<span class='feature_val'> (0.00)</span></span><span class='token' style='background-color: #ffffff'>&quot;<span class='feature_val'> (0.00)</span></span><span class='token' style='background-color: #ffffff'> court<span class='feature_val'> (0.00)</span></span><span class='token' style='background-color: #ffffff'> recently<span class='feature_val'> (0.00)</span></span><span class='token' style='background-color: #ffffff'> sentenced<span class='feature_val'> (0.00)</span></span><span class='token' style='background-color: #ffffff'> V<span class='feature_val'> (0.00)</span></span><span class='token' style='background-color: #ffffff'>een<span class='feature_val'> (0.00)</span></span><span class='token' style='background-color: #ffffff'>a<span class='feature_val'> (0.00)</span></span><span class='token' style='background-color: #ffffff'> Malik<span class='feature_val'> (0.00)</span></span><span class='token' style='background-color: #ffffff'>,<span class='feature_val'> (0.00)</span></span><span class='token' style='background-color: #ffffff'> As<span class='feature_val'> (0.00)</span></span><span class='token' style='background-color: #ffffff'>ad<span class='feature_val'> (0.00)</span></span><span class='token' style='background-color: #ffffff'> Bash<span class='feature_val'> (0.00)</span></span><span class='token' style='background-color: #ffffff'>ir<span class='feature_val'> (0.00)</span></span><span class='token' style='background-color: #ffffff'> Khan<span class='feature_val'> (0.00)</span></span><span class='token' style='background-color: #ffffff'> and<span class='feature_val'> (0.00)</span></span><span class='token' style='background-color: #ffffff'> Mir<span class='feature_val'> (0.00)</span></span><span class='token' style='background-color: #ffffff'> Shak<span class='feature_val'> (0.00)</span></span><span class='token' style='background-color: #ffffff'>il<span class='feature_val'> (0.00)</span></span><span class='token' style='background-color: #ffffff'>-<span class='feature_val'> (0.00)</span></span><span class='token' style='background-color: #ffffff'>ur<span class='feature_val'> (0.00)</span></span><span class='token' style='background-color: #ffffff'>-<span class='feature_val'> (0.00)</span></span><span class='token' style='background-color: #ffffff'>Rah<span class='feature_val'> (0.00)</span></span><span class='token' style='background-color: #ffffff'>man<span class='feature_val'> (0.00)</span></span><span class='token' style='background-color: #ffffff'> to<span class='feature_val'> (0.00)</span></span><span class='token' style='background-color: #ffffff'> 26<span class='feature_val'> (0.00)</span></span><span class='token' style='background-color: #ffffff'> years<span class='feature_val'> (0.00)</span></span><span class='token' style='background-color: #ffffff'> each<span class='feature_val'> (0.00)</span></span><span class='token' style='background-color: #ffffff'> in<span class='feature_val'> (0.00)</span></span><span class='token' style='background-color: #ffffff'> prison<span class='feature_val'> (0.00)</span></span><span class='token' style='background-color: #ffffff'> for<span class='feature_val'> (0.00)</span></span><span class='token' style='background-color: #ffffff'> blasphemy<span class='feature_val'> (0.00)</span></span><span class='token' style='background-color: #ffffff'>,<span class='feature_val'> (0.00)</span></span><span class='token' style='background-color: #ffffff'> after<span class='feature_val'> (0.00)</span></span><span class='token' style='background-color: #ffffff'> a<span class='feature_val'> (0.00)</span></span><span class='token' style='background-color: #ffffff'> &quot;<span class='feature_val'> (0.00)</span></span><span class='token' style='background-color: #ffffff'>bl<span class='feature_val'> (0.00)</span></span><span class='token' style='background-color: #ffffff'>asp<span class='feature_val'> (0.00)</span></span><span class='token' style='background-color: #ffffff'>hem<span class='feature_val'> (0.00)</span></span><span class='token' style='background-color: #ffffff'>ous<span class='feature_val'> (0.00)</span></span><span class='token' style='background-color: #ffffff'>&quot;<span class='feature_val'> (0.00)</span></span><span class='token' style='background-color: #ffffff'> wedding<span class='feature_val'> (0.00)</span></span><span class='token' style='background-color: #ffffff'> scene<span class='feature_val'> (0.00)</span></span><span class='token' style='background-color: #ffffff'>,<span class='feature_val'> (0.00)</span></span><span class='token' style='background-color: #ffffff'> starring<span class='feature_val'> (0.00)</span></span><span class='token' style='background-color: #ffffff'> V<span class='feature_val'> (0.00)</span></span><span class='token' style='background-color: #ffffff'>een<span class='feature_val'> (0.00)</span></span><span class='token' style='background-color: #ffffff'>a<span class='feature_val'> (0.00)</span></span><span class='token' style='background-color: #ffffff'> Malik<span class='feature_val'> (0.00)</span></span><span class='token' style='background-color: #ff8c00'>,<span class='feature_val'> (4.48)</span></span><span class='token' style='background-color: #ffffff'> aired<span class='feature_val'> (0.00)</span></span><span class='token' style='background-color: #ffffff'> on<span class='feature_val'> (0.00)</span></span><span class='token' style='background-color: #ffffff'> Pakistani<span class='feature_val'> (0.00)</span></span><span class='token' style='background-color: #ffffff'> TV<span class='feature_val'> (0.00)</span></span><span class='token' style='background-color: #ffefdc'>.<span class='feature_val'> (0.60)</span></span><span class='token' style='background-color: #ffffff'>You<span class='feature_val'> (0.00)</span></span><span class='token' style='background-color: #ffffff'> could<span class='feature_val'> (0.00)</span></span><span class='token' style='background-color: #ffffff'> be<span class='feature_val'> (0.00)</span></span><span class='token' style='background-color: #ffffff'> forgiven<span class='feature_val'> (0.00)</span></span><span class='token' style='background-color: #ffffff'> for<span class='feature_val'> (0.00)</span></span><span class='token' style='background-color: #ffffff'> thinking<span class='feature_val'> (0.00)</span></span><span class='token' style='background-color: #ffffff'> the<span class='feature_val'> (0.00)</span></span><span class='token' style='background-color: #ffffff'> new<span class='feature_val'> (0.00)</span></span><span class='token' style='background-color: #ffffff'> X<span class='feature_val'> (0.00)</span></span><span class='token' style='background-color: #ffffff'> edition<span class='feature_val'> (0.00)</span></span><span class='token' style='background-color: #ffffff'> of<span class='feature_val'> (0.00)</span></span><span class='token' style='background-color: #ffffff'> the<span class='feature_val'> (0.00)</span></span><span class='token' style='background-color: #ffffff'> T<span class='feature_val'> (0.00)</span></span><span class='token' style='background-color: #ffffff'>MA<span class='feature_val'> (0.00)</span></span><span class='token' style='background-color: #ffffff'>-<span class='feature_val'> (0.00)</span></span><span class='token' style='background-color: #ffffff'>1<span class='feature_val'> (0.00)</span></span><span class='token' style='background-color: #ffffff'> by<span class='feature_val'> (0.00)</span></span><span class='token' style='background-color: #ffffff'> A<span class='feature_val'> (0.00)</span></span><span class='token' style='background-color: #ffffff'>ia<span class='feature_val'> (0.00)</span></span><span class='token' style='background-color: #ffffff'>ia<span class='feature_val'> (0.00)</span></span><span class='token' style='background-color: #ffffff'>i<span class='feature_val'> (0.00)</span></span><span class='token' style='background-color: #ffffff'> is<span class='feature_val'> (0.00)</span></span><span class='token' style='background-color: #ffffff'> more<span class='feature_val'> (0.00)</span></span><span class='token' style='background-color: #ffffff'> of<span class='feature_val'> (0.00)</span></span><span class='token' style='background-color: #ffffff'> the<span class='feature_val'> (0.00)</span></span><span class='token' style='background-color: #ffffff'> same<span class='feature_val'> (0.00)</span></span><span class='token' style='background-color: #ffffff'> but<span class='feature_val'> (0.00)</span></span><span class='token' style='background-color: #ffffff'> in<span class='feature_val'> (0.00)</span></span><span class='token' style='background-color: #ffffff'> actual<span class='feature_val'> (0.00)</span></span><span class='token' style='background-color: #ffffff'> fact<span class='feature_val'> (0.00)</span></span><span class='token' style='background-color: #ffffff'> at<span class='feature_val'> (0.00)</span></span><span class='token' style='background-color: #ffffff'> $<span class='feature_val'> (0.00)</span></span><span class='token' style='background-color: #ffffff'>120<span class='feature_val'> (0.00)</span></span><span class='token' style='background-color: #ffffff'> the<span class='feature_val'> (0.00)</span></span><span class='token' style='background-color: #ffffff'> X<span class='feature_val'> (0.00)</span></span><span class='token' style='background-color: #ffffff'> edition<span class='feature_val'> (0.00)</span></span><span class='token' style='background-color: #ffffff'> is<span class='feature_val'> (0.00)</span></span><span class='token' style='background-color: #ffffff'> a<span class='feature_val'> (0.00)</span></span><span class='token' style='background-color: #ffffff'> much<span class='feature_val'> (0.00)</span></span><span class='token' style='background-color: #ffffff'> more<span class='feature_val'> (0.00)</span></span><span class='token' style='background-color: #ffffff'> modern<span class='feature_val'> (0.00)</span></span><span class='token' style='background-color: #ffffff'> sounding<span class='feature_val'> (0.00)</span></span><span class='token' style='background-color: #ffffff'> headphone<span class='feature_val'> (0.00)</span></span><span class='token' style='background-color: #ffffff'> than<span class='feature_val'> (0.00)</span></span><span class='token' style='background-color: #ffffff'> the<span class='feature_val'> (0.00)</span></span><span class='token' style='background-color: #ffffff'> older<span class='feature_val'> (0.00)</span></span><span class='token' style='background-color: #ffffff'> T<span class='feature_val'> (0.00)</span></span><span class='token' style='background-color: #ffffff'>MA<span class='feature_val'> (0.00)</span></span><span class='token' style='background-color: #ffffff'>-<span class='feature_val'> (0.00)</span></span><span class='token' style='background-color: #ffffff'>1<span class='feature_val'> (0.00)</span></span><span class='token' style='background-color: #ffffff'> and<span class='feature_val'> (0.00)</span></span><span class='token' style='background-color: #ffffff'> displays<span class='feature_val'> (0.00)</span></span><span class='token' style='background-color: #ffffff'> a<span class='feature_val'> (0.00)</span></span><span class='token' style='background-color: #ffffff'> high<span class='feature_val'> (0.00)</span></span><span class='token' style='background-color: #ffffff'> degree<span class='feature_val'> (0.00)</span></span><span class='token' style='background-color: #ffffff'> of<span class='feature_val'> (0.00)</span></span><span class='token' style='background-color: #ffffff'> flexibility<span class='feature_val'> (0.00)</span></span>"
      ],
      "text/plain": [
       "<IPython.core.display.HTML object>"
      ]
     },
     "metadata": {},
     "output_type": "display_data"
    },
    {
     "data": {
      "text/html": [
       "\n",
       "    <style>\n",
       "        span.token {\n",
       "            font-family: monospace;\n",
       "            border-style: solid;\n",
       "            border-width: 1px;\n",
       "            border-color: #dddddd;\n",
       "        }\n",
       "    </style>\n",
       "    <span class='token' style='background-color: #ffffff'>&lt;|endoftext|&gt;<span class='feature_val'> (0.00)</span></span><span class='token' style='background-color: #ffffff'> prospective<span class='feature_val'> (0.00)</span></span><span class='token' style='background-color: #ffffff'> license<span class='feature_val'> (0.00)</span></span><span class='token' style='background-color: #ffffff'>es<span class='feature_val'> (0.00)</span></span><span class='token' style='background-color: #ffffff'> to<span class='feature_val'> (0.00)</span></span><span class='token' style='background-color: #ffffff'> grant<span class='feature_val'> (0.00)</span></span><span class='token' style='background-color: #ffffff'> the<span class='feature_val'> (0.00)</span></span><span class='token' style='background-color: #ffffff'> SE<span class='feature_val'> (0.00)</span></span><span class='token' style='background-color: #ffffff'>P<span class='feature_val'> (0.00)</span></span><span class='token' style='background-color: #ffffff'> holder<span class='feature_val'> (0.00)</span></span><span class='token' style='background-color: #ffffff'> the<span class='feature_val'> (0.00)</span></span><span class='token' style='background-color: #ffffff'> right<span class='feature_val'> (0.00)</span></span><span class='token' style='background-color: #ffffff'> to<span class='feature_val'> (0.00)</span></span><span class='token' style='background-color: #ffffff'> use<span class='feature_val'> (0.00)</span></span><span class='token' style='background-color: #ffffff'> the<span class='feature_val'> (0.00)</span></span><span class='token' style='background-color: #ffffff'> licensee<span class='feature_val'> (0.00)</span></span><span class='token' style='background-color: #ffffff'>�<span class='feature_val'> (0.00)</span></span><span class='token' style='background-color: #ffffff'>�<span class='feature_val'> (0.00)</span></span><span class='token' style='background-color: #ffffff'>s<span class='feature_val'> (0.00)</span></span><span class='token' style='background-color: #ffffff'> different<span class='feature_val'> (0.00)</span></span><span class='token' style='background-color: #ffffff'>iating<span class='feature_val'> (0.00)</span></span><span class='token' style='background-color: #ffffff'> intellectual<span class='feature_val'> (0.00)</span></span><span class='token' style='background-color: #ffffff'> property<span class='feature_val'> (0.00)</span></span><span class='token' style='background-color: #ffffff'>,<span class='feature_val'> (0.00)</span></span><span class='token' style='background-color: #ffffff'> charging<span class='feature_val'> (0.00)</span></span><span class='token' style='background-color: #ffffff'> license<span class='feature_val'> (0.00)</span></span><span class='token' style='background-color: #ffffff'>es<span class='feature_val'> (0.00)</span></span><span class='token' style='background-color: #ffffff'> the<span class='feature_val'> (0.00)</span></span><span class='token' style='background-color: #ffffff'> entire<span class='feature_val'> (0.00)</span></span><span class='token' style='background-color: #ffffff'> portfolio<span class='feature_val'> (0.00)</span></span><span class='token' style='background-color: #ffffff'> royalty<span class='feature_val'> (0.00)</span></span><span class='token' style='background-color: #ffffff'> rate<span class='feature_val'> (0.00)</span></span><span class='token' style='background-color: #ffffff'> when<span class='feature_val'> (0.00)</span></span><span class='token' style='background-color: #ffffff'> licensing<span class='feature_val'> (0.00)</span></span><span class='token' style='background-color: #ffffff'> only<span class='feature_val'> (0.00)</span></span><span class='token' style='background-color: #ffffff'> a<span class='feature_val'> (0.00)</span></span><span class='token' style='background-color: #ffffff'> small<span class='feature_val'> (0.00)</span></span><span class='token' style='background-color: #ffffff'> subset<span class='feature_val'> (0.00)</span></span><span class='token' style='background-color: #ffffff'> of<span class='feature_val'> (0.00)</span></span><span class='token' style='background-color: #ffffff'> the<span class='feature_val'> (0.00)</span></span><span class='token' style='background-color: #ffffff'> patent<span class='feature_val'> (0.00)</span></span><span class='token' style='background-color: #ffffff'> holder<span class='feature_val'> (0.00)</span></span><span class='token' style='background-color: #ffffff'>�<span class='feature_val'> (0.00)</span></span><span class='token' style='background-color: #ffffff'>�<span class='feature_val'> (0.00)</span></span><span class='token' style='background-color: #ffffff'>s<span class='feature_val'> (0.00)</span></span><span class='token' style='background-color: #ffffff'> SE<span class='feature_val'> (0.00)</span></span><span class='token' style='background-color: #ffffff'>Ps<span class='feature_val'> (0.00)</span></span><span class='token' style='background-color: #ffffff'> in<span class='feature_val'> (0.00)</span></span><span class='token' style='background-color: #ffffff'> its<span class='feature_val'> (0.00)</span></span><span class='token' style='background-color: #ffffff'> portfolio<span class='feature_val'> (0.00)</span></span><span class='token' style='background-color: #ffffff'>,<span class='feature_val'> (0.00)</span></span><span class='token' style='background-color: #ffffff'> or<span class='feature_val'> (0.00)</span></span><span class='token' style='background-color: #ffffff'> seeking<span class='feature_val'> (0.00)</span></span><span class='token' style='background-color: #ffffff'> to<span class='feature_val'> (0.00)</span></span><span class='token' style='background-color: #ffffff'> prevent<span class='feature_val'> (0.00)</span></span><span class='token' style='background-color: #ffffff'> or<span class='feature_val'> (0.00)</span></span><span class='token' style='background-color: #ffffff'> exclude<span class='feature_val'> (0.00)</span></span><span class='token' style='background-color: #ffffff'> products<span class='feature_val'> (0.00)</span></span><span class='token' style='background-color: #ffffff'> practicing<span class='feature_val'> (0.00)</span></span><span class='token' style='background-color: #ffffff'> those<span class='feature_val'> (0.00)</span></span><span class='token' style='background-color: #ffffff'> SE<span class='feature_val'> (0.00)</span></span><span class='token' style='background-color: #ffffff'>Ps<span class='feature_val'> (0.00)</span></span><span class='token' style='background-color: #ffffff'> from<span class='feature_val'> (0.00)</span></span><span class='token' style='background-color: #ffffff'> the<span class='feature_val'> (0.00)</span></span><span class='token' style='background-color: #ffffff'> market<span class='feature_val'> (0.00)</span></span><span class='token' style='background-color: #ffffff'> altogether<span class='feature_val'> (0.00)</span></span><span class='token' style='background-color: #ffffff'>.<span class='feature_val'> (0.00)</span></span><span class='token' style='background-color: #ffffff'> In<span class='feature_val'> (0.00)</span></span><span class='token' style='background-color: #ffffff'> this<span class='feature_val'> (0.00)</span></span><span class='token' style='background-color: #ffffff'> analysis<span class='feature_val'> (0.00)</span></span><span class='token' style='background-color: #ffffff'>,<span class='feature_val'> (0.00)</span></span><span class='token' style='background-color: #ffffff'> the<span class='feature_val'> (0.00)</span></span><span class='token' style='background-color: #ffffff'> critical<span class='feature_val'> (0.00)</span></span><span class='token' style='background-color: #ffffff'> issue<span class='feature_val'> (0.00)</span></span><span class='token' style='background-color: #ffffff'> is<span class='feature_val'> (0.00)</span></span><span class='token' style='background-color: #ffffff'> whether<span class='feature_val'> (0.00)</span></span><span class='token' style='background-color: #ffffff'> the<span class='feature_val'> (0.00)</span></span><span class='token' style='background-color: #ffffff'> patent<span class='feature_val'> (0.00)</span></span><span class='token' style='background-color: #ffffff'> holder<span class='feature_val'> (0.00)</span></span><span class='token' style='background-color: #ffffff'> has<span class='feature_val'> (0.00)</span></span><span class='token' style='background-color: #ffffff'> the<span class='feature_val'> (0.00)</span></span><span class='token' style='background-color: #ffffff'> incentive<span class='feature_val'> (0.00)</span></span><span class='token' style='background-color: #ffffff'> and<span class='feature_val'> (0.00)</span></span><span class='token' style='background-color: #ffffff'> ability<span class='feature_val'> (0.00)</span></span><span class='token' style='background-color: #ffffff'> to<span class='feature_val'> (0.00)</span></span><span class='token' style='background-color: #ffffff'> hold<span class='feature_val'> (0.00)</span></span><span class='token' style='background-color: #ffffff'> up<span class='feature_val'> (0.00)</span></span><span class='token' style='background-color: #ffffff'> its<span class='feature_val'> (0.00)</span></span><span class='token' style='background-color: #ffffff'> competitors<span class='feature_val'> (0.00)</span></span><span class='token' style='background-color: #ffffff'>,<span class='feature_val'> (0.00)</span></span><span class='token' style='background-color: #ffffff'> particularly<span class='feature_val'> (0.00)</span></span><span class='token' style='background-color: #ffffff'> through<span class='feature_val'> (0.00)</span></span><span class='token' style='background-color: #ffffff'> the<span class='feature_val'> (0.00)</span></span><span class='token' style='background-color: #ffffff'> threat<span class='feature_val'> (0.00)</span></span><span class='token' style='background-color: #ffffff'> of<span class='feature_val'> (0.00)</span></span><span class='token' style='background-color: #ffffff'> an<span class='feature_val'> (0.00)</span></span><span class='token' style='background-color: #ffffff'> injunction<span class='feature_val'> (0.00)</span></span><span class='token' style='background-color: #ffffff'> or<span class='feature_val'> (0.00)</span></span><span class='token' style='background-color: #ffffff'> exclusion<span class='feature_val'> (0.00)</span></span><span class='token' style='background-color: #ffffff'> order<span class='feature_val'> (0.00)</span></span><span class='token' style='background-color: #ffffff'>.<span class='feature_val'> (0.00)</span></span><span class='token' style='background-color: #ffffff'> The<span class='feature_val'> (0.00)</span></span><span class='token' style='background-color: #ffffff'> division<span class='feature_val'> (0.00)</span></span><span class='token' style='background-color: #ffffff'>�<span class='feature_val'> (0.00)</span></span><span class='token' style='background-color: #ffffff'>�<span class='feature_val'> (0.00)</span></span><span class='token' style='background-color: #ffffff'>s<span class='feature_val'> (0.00)</span></span><span class='token' style='background-color: #ffffff'> analysis<span class='feature_val'> (0.00)</span></span><span class='token' style='background-color: #ffffff'> focused<span class='feature_val'> (0.00)</span></span><span class='token' style='background-color: #ffffff'> on<span class='feature_val'> (0.00)</span></span><span class='token' style='background-color: #ffffff'> how<span class='feature_val'> (0.00)</span></span><span class='token' style='background-color: #ffffff'> the<span class='feature_val'> (0.00)</span></span><span class='token' style='background-color: #ffffff'> proposed<span class='feature_val'> (0.00)</span></span><span class='token' style='background-color: #ffffff'> transactions<span class='feature_val'> (0.00)</span></span><span class='token' style='background-color: #ffffff'> might<span class='feature_val'> (0.00)</span></span><span class='token' style='background-color: #ffffff'> change<span class='feature_val'> (0.00)</span></span><span class='token' style='background-color: #ffffff'> that<span class='feature_val'> (0.00)</span></span><span class='token' style='background-color: #ffffff'> incentive<span class='feature_val'> (0.00)</span></span><span class='token' style='background-color: #ff8c00'> and<span class='feature_val'> (4.39)</span></span><span class='token' style='background-color: #ffffff'> ability<span class='feature_val'> (0.00)</span></span><span class='token' style='background-color: #ffffff'> to<span class='feature_val'> (0.00)</span></span><span class='token' style='background-color: #ffffff'> do<span class='feature_val'> (0.00)</span></span><span class='token' style='background-color: #ffffff'> so<span class='feature_val'> (0.00)</span></span><span class='token' style='background-color: #ffffff'>.<span class='feature_val'> (0.00)</span></span><span class='token' style='background-color: #ffffff'>\n",
       "<span class='feature_val'> (0.00)</span></span><span class='token' style='background-color: #ffffff'>\n",
       "<span class='feature_val'> (0.00)</span></span><span class='token' style='background-color: #ffffff'>The<span class='feature_val'> (0.00)</span></span><span class='token' style='background-color: #ffffff'> division<span class='feature_val'> (0.00)</span></span><span class='token' style='background-color: #ffffff'> concluded<span class='feature_val'> (0.00)</span></span>"
      ],
      "text/plain": [
       "<IPython.core.display.HTML object>"
      ]
     },
     "metadata": {},
     "output_type": "display_data"
    },
    {
     "data": {
      "text/html": [
       "\n",
       "    <style>\n",
       "        span.token {\n",
       "            font-family: monospace;\n",
       "            border-style: solid;\n",
       "            border-width: 1px;\n",
       "            border-color: #dddddd;\n",
       "        }\n",
       "    </style>\n",
       "    <span class='token' style='background-color: #ffffff'>&lt;|endoftext|&gt;<span class='feature_val'> (0.00)</span></span><span class='token' style='background-color: #ffffff'> Hart<span class='feature_val'> (0.00)</span></span><span class='token' style='background-color: #ffffff'> and<span class='feature_val'> (0.00)</span></span><span class='token' style='background-color: #ffffff'> Kyle<span class='feature_val'> (0.00)</span></span><span class='token' style='background-color: #ffffff'> Beck<span class='feature_val'> (0.00)</span></span><span class='token' style='background-color: #ffffff'>man<span class='feature_val'> (0.00)</span></span><span class='token' style='background-color: #ffffff'>.<span class='feature_val'> (0.00)</span></span><span class='token' style='background-color: #ffffff'> Hart<span class='feature_val'> (0.00)</span></span><span class='token' style='background-color: #ffffff'> was<span class='feature_val'> (0.00)</span></span><span class='token' style='background-color: #ffffff'> the<span class='feature_val'> (0.00)</span></span><span class='token' style='background-color: #ffffff'> prosecutor<span class='feature_val'> (0.00)</span></span><span class='token' style='background-color: #ffffff'> in<span class='feature_val'> (0.00)</span></span><span class='token' style='background-color: #ffffff'> the<span class='feature_val'> (0.00)</span></span><span class='token' style='background-color: #ffffff'> conviction<span class='feature_val'> (0.00)</span></span><span class='token' style='background-color: #ffffff'> of<span class='feature_val'> (0.00)</span></span><span class='token' style='background-color: #ffffff'> Alabama<span class='feature_val'> (0.00)</span></span><span class='token' style='background-color: #ffffff'> House<span class='feature_val'> (0.00)</span></span><span class='token' style='background-color: #ffffff'> Speaker<span class='feature_val'> (0.00)</span></span><span class='token' style='background-color: #ffffff'> Mike<span class='feature_val'> (0.00)</span></span><span class='token' style='background-color: #ffffff'> Hubbard<span class='feature_val'> (0.00)</span></span><span class='token' style='background-color: #ffffff'> last<span class='feature_val'> (0.00)</span></span><span class='token' style='background-color: #ffffff'> year<span class='feature_val'> (0.00)</span></span><span class='token' style='background-color: #ff8c00'>.<span class='feature_val'> (4.36)</span></span><span class='token' style='background-color: #ffffff'>\n",
       "<span class='feature_val'> (0.00)</span></span><span class='token' style='background-color: #ffb965'>\n",
       "<span class='feature_val'> (2.62)</span></span><span class='token' style='background-color: #ffe3c1'>H<span class='feature_val'> (1.06)</span></span><span class='token' style='background-color: #ffffff'>end<span class='feature_val'> (0.00)</span></span><span class='token' style='background-color: #ffffff'>erson<span class='feature_val'> (0.00)</span></span><span class='token' style='background-color: #ffffff'> was<span class='feature_val'> (0.00)</span></span><span class='token' style='background-color: #ffffff'> indicted<span class='feature_val'> (0.00)</span></span><span class='token' style='background-color: #ffffff'> by<span class='feature_val'> (0.00)</span></span><span class='token' style='background-color: #ffffff'> the<span class='feature_val'> (0.00)</span></span><span class='token' style='background-color: #ffffff'> special<span class='feature_val'> (0.00)</span></span><span class='token' style='background-color: #ffffff'> grand<span class='feature_val'> (0.00)</span></span><span class='token' style='background-color: #ffffff'> jury<span class='feature_val'> (0.00)</span></span><span class='token' style='background-color: #ffffff'>,<span class='feature_val'> (0.00)</span></span><span class='token' style='background-color: #ffffff'> which<span class='feature_val'> (0.00)</span></span><span class='token' style='background-color: #ffffff'> was<span class='feature_val'> (0.00)</span></span><span class='token' style='background-color: #ffffff'> originally<span class='feature_val'> (0.00)</span></span><span class='token' style='background-color: #ffffff'> em<span class='feature_val'> (0.00)</span></span><span class='token' style='background-color: #ffffff'>pan<span class='feature_val'> (0.00)</span></span><span class='token' style='background-color: #ffffff'>eled<span class='feature_val'> (0.00)</span></span><span class='token' style='background-color: #ffffff'> in<span class='feature_val'> (0.00)</span></span><span class='token' style='background-color: #ffffff'> Jefferson<span class='feature_val'> (0.00)</span></span><span class='token' style='background-color: #ffffff'> County<span class='feature_val'> (0.00)</span></span><span class='token' style='background-color: #ffffff'> on<span class='feature_val'> (0.00)</span></span><span class='token' style='background-color: #ffffff'> Oct<span class='feature_val'> (0.00)</span></span><span class='token' style='background-color: #ffffff'>.<span class='feature_val'> (0.00)</span></span><span class='token' style='background-color: #ffffff'> 17<span class='feature_val'> (0.00)</span></span><span class='token' style='background-color: #ffcb8d'>.<span class='feature_val'> (1.93)</span></span><span class='token' style='background-color: #ffffff'>\n",
       "<span class='feature_val'> (0.00)</span></span><span class='token' style='background-color: #ffe8cc'>\n",
       "<span class='feature_val'> (0.86)</span></span><span class='token' style='background-color: #ffffff'>Since<span class='feature_val'> (0.00)</span></span><span class='token' style='background-color: #ffffff'> that<span class='feature_val'> (0.00)</span></span><span class='token' style='background-color: #ffffff'> time<span class='feature_val'> (0.00)</span></span><span class='token' style='background-color: #ffffff'> that<span class='feature_val'> (0.00)</span></span><span class='token' style='background-color: #ffffff'> grand<span class='feature_val'> (0.00)</span></span><span class='token' style='background-color: #ffffff'> jury<span class='feature_val'> (0.00)</span></span><span class='token' style='background-color: #ffffff'> has<span class='feature_val'> (0.00)</span></span><span class='token' style='background-color: #ffffff'> met<span class='feature_val'> (0.00)</span></span><span class='token' style='background-color: #ffffff'> in<span class='feature_val'> (0.00)</span></span><span class='token' style='background-color: #ffffff'> one<span class='feature_val'> (0.00)</span></span><span class='token' style='background-color: #ffffff'> session<span class='feature_val'> (0.00)</span></span><span class='token' style='background-color: #ffffff'>,<span class='feature_val'> (0.00)</span></span><span class='token' style='background-color: #ffffff'> and<span class='feature_val'> (0.00)</span></span><span class='token' style='background-color: #ffffff'>,<span class='feature_val'> (0.00)</span></span><span class='token' style='background-color: #ffffff'> in<span class='feature_val'> (0.00)</span></span><span class='token' style='background-color: #ffffff'> that<span class='feature_val'> (0.00)</span></span><span class='token' style='background-color: #ffffff'> session<span class='feature_val'> (0.00)</span></span><span class='token' style='background-color: #ffffff'> heard<span class='feature_val'> (0.00)</span></span><span class='token' style='background-color: #ffffff'> the<span class='feature_val'> (0.00)</span></span><span class='token' style='background-color: #ffffff'> testimony<span class='feature_val'> (0.00)</span></span><span class='token' style='background-color: #ffffff'> of<span class='feature_val'> (0.00)</span></span><span class='token' style='background-color: #ffffff'> seven<span class='feature_val'> (0.00)</span></span><span class='token' style='background-color: #ffffff'> witnesses<span class='feature_val'> (0.00)</span></span><span class='token' style='background-color: #ffffff'>,<span class='feature_val'> (0.00)</span></span><span class='token' style='background-color: #ffffff'> according<span class='feature_val'> (0.00)</span></span><span class='token' style='background-color: #ffffff'> to<span class='feature_val'> (0.00)</span></span><span class='token' style='background-color: #ffffff'> a<span class='feature_val'> (0.00)</span></span><span class='token' style='background-color: #ffffff'> court<span class='feature_val'> (0.00)</span></span><span class='token' style='background-color: #ffffff'> document<span class='feature_val'> (0.00)</span></span><span class='token' style='background-color: #ffffff'> filed<span class='feature_val'> (0.00)</span></span><span class='token' style='background-color: #ffffff'> in<span class='feature_val'> (0.00)</span></span><span class='token' style='background-color: #ffffff'> Henderson<span class='feature_val'> (0.00)</span></span><span class='token' style='background-color: #ffffff'>&#x27;s<span class='feature_val'> (0.00)</span></span><span class='token' style='background-color: #ffffff'> case<span class='feature_val'> (0.00)</span></span><span class='token' style='background-color: #ffffff'>.<span class='feature_val'> (0.00)</span></span><span class='token' style='background-color: #ffffff'> The<span class='feature_val'> (0.00)</span></span><span class='token' style='background-color: #ffffff'> grand<span class='feature_val'> (0.00)</span></span><span class='token' style='background-color: #ffffff'> jury<span class='feature_val'> (0.00)</span></span><span class='token' style='background-color: #ffffff'> has<span class='feature_val'> (0.00)</span></span><span class='token' style='background-color: #ffffff'> returned<span class='feature_val'> (0.00)</span></span><span class='token' style='background-color: #ffffff'> one<span class='feature_val'> (0.00)</span></span><span class='token' style='background-color: #ffffff'> indictment<span class='feature_val'> (0.00)</span></span><span class='token' style='background-color: #ffffff'> (<span class='feature_val'> (0.00)</span></span><span class='token' style='background-color: #ffffff'>H<span class='feature_val'> (0.00)</span></span><span class='token' style='background-color: #ffffff'>end<span class='feature_val'> (0.00)</span></span><span class='token' style='background-color: #ffffff'>erson<span class='feature_val'> (0.00)</span></span><span class='token' style='background-color: #ffedd8'>).<span class='feature_val'> (0.65)</span></span><span class='token' style='background-color: #ffffff'> &quot;<span class='feature_val'> (0.00)</span></span><span class='token' style='background-color: #ffffff'>We<span class='feature_val'> (0.00)</span></span><span class='token' style='background-color: #ffffff'> request<span class='feature_val'> (0.00)</span></span><span class='token' style='background-color: #ffffff'> that<span class='feature_val'> (0.00)</span></span><span class='token' style='background-color: #ffffff'> this<span class='feature_val'> (0.00)</span></span><span class='token' style='background-color: #ffffff'> grand<span class='feature_val'> (0.00)</span></span><span class='token' style='background-color: #ffffff'> jury<span class='feature_val'> (0.00)</span></span><span class='token' style='background-color: #ffffff'> be<span class='feature_val'> (0.00)</span></span><span class='token' style='background-color: #ffffff'> continued<span class='feature_val'> (0.00)</span></span><span class='token' style='background-color: #ffffff'> for<span class='feature_val'> (0.00)</span></span><span class='token' style='background-color: #ffffff'> further<span class='feature_val'> (0.00)</span></span><span class='token' style='background-color: #ffffff'> investigation<span class='feature_val'> (0.00)</span></span><span class='token' style='background-color: #ffffff'> into<span class='feature_val'> (0.00)</span></span><span class='token' style='background-color: #ffffff'> additional<span class='feature_val'> (0.00)</span></span><span class='token' style='background-color: #ffffff'> matters<span class='feature_val'> (0.00)</span></span><span class='token' style='background-color: #ffffff'>,&quot;<span class='feature_val'> (0.00)</span></span><span class='token' style='background-color: #ffffff'> according<span class='feature_val'> (0.00)</span></span><span class='token' style='background-color: #ffffff'> to<span class='feature_val'> (0.00)</span></span><span class='token' style='background-color: #ffffff'> the<span class='feature_val'> (0.00)</span></span><span class='token' style='background-color: #ffffff'> court<span class='feature_val'> (0.00)</span></span><span class='token' style='background-color: #ffffff'> document<span class='feature_val'> (0.00)</span></span><span class='token' style='background-color: #ffffff'>.<span class='feature_val'> (0.00)</span></span><span class='token' style='background-color: #ffffff'>\n",
       "<span class='feature_val'> (0.00)</span></span><span class='token' style='background-color: #ffe1be'>\n",
       "<span class='feature_val'> (1.10)</span></span><span class='token' style='background-color: #ffffff'>Danny<span class='feature_val'> (0.00)</span></span><span class='token' style='background-color: #ffffff'> Carr<span class='feature_val'> (0.00)</span></span><span class='token' style='background-color: #ffffff'> named<span class='feature_val'> (0.00)</span></span><span class='token' style='background-color: #ffffff'> Jefferson<span class='feature_val'> (0.00)</span></span><span class='token' style='background-color: #ffffff'> County<span class='feature_val'> (0.00)</span></span>"
      ],
      "text/plain": [
       "<IPython.core.display.HTML object>"
      ]
     },
     "metadata": {},
     "output_type": "display_data"
    },
    {
     "data": {
      "text/html": [
       "\n",
       "    <style>\n",
       "        span.token {\n",
       "            font-family: monospace;\n",
       "            border-style: solid;\n",
       "            border-width: 1px;\n",
       "            border-color: #dddddd;\n",
       "        }\n",
       "    </style>\n",
       "    <span class='token' style='background-color: #ffffff'>&lt;|endoftext|&gt;<span class='feature_val'> (0.00)</span></span><span class='token' style='background-color: #ffffff'> question<span class='feature_val'> (0.00)</span></span><span class='token' style='background-color: #ffffff'> is<span class='feature_val'> (0.00)</span></span><span class='token' style='background-color: #ffffff'>:<span class='feature_val'> (0.00)</span></span><span class='token' style='background-color: #ffffff'> are<span class='feature_val'> (0.00)</span></span><span class='token' style='background-color: #ffffff'> you<span class='feature_val'> (0.00)</span></span><span class='token' style='background-color: #ffffff'> going<span class='feature_val'> (0.00)</span></span><span class='token' style='background-color: #ffffff'> to<span class='feature_val'> (0.00)</span></span><span class='token' style='background-color: #ffffff'> use<span class='feature_val'> (0.00)</span></span><span class='token' style='background-color: #ffffff'> strength<span class='feature_val'> (0.00)</span></span><span class='token' style='background-color: #ffffff'> or<span class='feature_val'> (0.00)</span></span><span class='token' style='background-color: #ffffff'> dexterity<span class='feature_val'> (0.00)</span></span><span class='token' style='background-color: #ffffff'>?<span class='feature_val'> (0.00)</span></span><span class='token' style='background-color: #ffffff'> Each<span class='feature_val'> (0.00)</span></span><span class='token' style='background-color: #ffffff'> has<span class='feature_val'> (0.00)</span></span><span class='token' style='background-color: #ffffff'> its<span class='feature_val'> (0.00)</span></span><span class='token' style='background-color: #ffffff'> own<span class='feature_val'> (0.00)</span></span><span class='token' style='background-color: #ffffff'> advantages<span class='feature_val'> (0.00)</span></span><span class='token' style='background-color: #ffffff'> and<span class='feature_val'> (0.00)</span></span><span class='token' style='background-color: #ffffff'> disadvantages<span class='feature_val'> (0.00)</span></span><span class='token' style='background-color: #ffffff'>,<span class='feature_val'> (0.00)</span></span><span class='token' style='background-color: #ffffff'> so<span class='feature_val'> (0.00)</span></span><span class='token' style='background-color: #ffffff'> think<span class='feature_val'> (0.00)</span></span><span class='token' style='background-color: #ffffff'> carefully<span class='feature_val'> (0.00)</span></span><span class='token' style='background-color: #ffffff'>.<span class='feature_val'> (0.00)</span></span><span class='token' style='background-color: #ffffff'>\n",
       "<span class='feature_val'> (0.00)</span></span><span class='token' style='background-color: #ffffff'>\n",
       "<span class='feature_val'> (0.00)</span></span><span class='token' style='background-color: #ffffff'>Strength<span class='feature_val'> (0.00)</span></span><span class='token' style='background-color: #ffffff'>:<span class='feature_val'> (0.00)</span></span><span class='token' style='background-color: #ffffff'>\n",
       "<span class='feature_val'> (0.00)</span></span><span class='token' style='background-color: #ffffff'>\n",
       "<span class='feature_val'> (0.00)</span></span><span class='token' style='background-color: #ffffff'>-<span class='feature_val'> (0.00)</span></span><span class='token' style='background-color: #ffffff'>You<span class='feature_val'> (0.00)</span></span><span class='token' style='background-color: #ffffff'> can<span class='feature_val'> (0.00)</span></span><span class='token' style='background-color: #ffffff'> use<span class='feature_val'> (0.00)</span></span><span class='token' style='background-color: #ffffff'> more<span class='feature_val'> (0.00)</span></span><span class='token' style='background-color: #ffffff'> weapons<span class='feature_val'> (0.00)</span></span><span class='token' style='background-color: #fffaf4'>.<span class='feature_val'> (0.17)</span></span><span class='token' style='background-color: #ffffff'> So<span class='feature_val'> (0.00)</span></span><span class='token' style='background-color: #ffffff'> far<span class='feature_val'> (0.00)</span></span><span class='token' style='background-color: #ffffff'> there<span class='feature_val'> (0.00)</span></span><span class='token' style='background-color: #ffffff'> are<span class='feature_val'> (0.00)</span></span><span class='token' style='background-color: #ffffff'> 31<span class='feature_val'> (0.00)</span></span><span class='token' style='background-color: #ffffff'> weapons<span class='feature_val'> (0.00)</span></span><span class='token' style='background-color: #fffefd'> strength<span class='feature_val'> (0.02)</span></span><span class='token' style='background-color: #fffdfc'>-<span class='feature_val'> (0.04)</span></span><span class='token' style='background-color: #ffffff'>based<span class='feature_val'> (0.00)</span></span><span class='token' style='background-color: #ffffff'> characters<span class='feature_val'> (0.00)</span></span><span class='token' style='background-color: #ffffff'> can<span class='feature_val'> (0.00)</span></span><span class='token' style='background-color: #fffefc'> use<span class='feature_val'> (0.03)</span></span><span class='token' style='background-color: #ffffff'>,<span class='feature_val'> (0.00)</span></span><span class='token' style='background-color: #ffffff'> versus<span class='feature_val'> (0.00)</span></span><span class='token' style='background-color: #fffbf6'> 13<span class='feature_val'> (0.14)</span></span><span class='token' style='background-color: #ffffff'> that<span class='feature_val'> (0.00)</span></span><span class='token' style='background-color: #ffffff'> a<span class='feature_val'> (0.00)</span></span><span class='token' style='background-color: #ffffff'> dexterity<span class='feature_val'> (0.00)</span></span><span class='token' style='background-color: #ffffff'>-<span class='feature_val'> (0.00)</span></span><span class='token' style='background-color: #ffffff'>based<span class='feature_val'> (0.00)</span></span><span class='token' style='background-color: #ffffff'> fighter<span class='feature_val'> (0.00)</span></span><span class='token' style='background-color: #ffffff'> would<span class='feature_val'> (0.00)</span></span><span class='token' style='background-color: #ffffff'> use<span class='feature_val'> (0.00)</span></span><span class='token' style='background-color: #ffe6c8'>.<span class='feature_val'> (0.93)</span></span><span class='token' style='background-color: #ffdeb7'>\n",
       "<span class='feature_val'> (1.22)</span></span><span class='token' style='background-color: #ff9718'>\n",
       "<span class='feature_val'> (3.91)</span></span><span class='token' style='background-color: #ffffff'>-<span class='feature_val'> (0.00)</span></span><span class='token' style='background-color: #ffffff'>You<span class='feature_val'> (0.00)</span></span><span class='token' style='background-color: #ffffff'> deal<span class='feature_val'> (0.00)</span></span><span class='token' style='background-color: #ffffff'> more<span class='feature_val'> (0.00)</span></span><span class='token' style='background-color: #ffffff'> damage<span class='feature_val'> (0.00)</span></span><span class='token' style='background-color: #ffffff'>.<span class='feature_val'> (0.00)</span></span><span class='token' style='background-color: #ffffff'> All<span class='feature_val'> (0.00)</span></span><span class='token' style='background-color: #ffffff'> of<span class='feature_val'> (0.00)</span></span><span class='token' style='background-color: #ffffff'> the<span class='feature_val'> (0.00)</span></span><span class='token' style='background-color: #ffffff'> heavy<span class='feature_val'> (0.00)</span></span><span class='token' style='background-color: #ffffff'>-<span class='feature_val'> (0.00)</span></span><span class='token' style='background-color: #ffffff'>hitting<span class='feature_val'> (0.00)</span></span><span class='token' style='background-color: #ffffff'> weapons<span class='feature_val'> (0.00)</span></span><span class='token' style='background-color: #ffffff'>,<span class='feature_val'> (0.00)</span></span><span class='token' style='background-color: #ffffff'> such<span class='feature_val'> (0.00)</span></span><span class='token' style='background-color: #ffffff'> as<span class='feature_val'> (0.00)</span></span><span class='token' style='background-color: #ffffff'> m<span class='feature_val'> (0.00)</span></span><span class='token' style='background-color: #ffffff'>aul<span class='feature_val'> (0.00)</span></span><span class='token' style='background-color: #ffffff'>s<span class='feature_val'> (0.00)</span></span><span class='token' style='background-color: #ffffff'> and<span class='feature_val'> (0.00)</span></span><span class='token' style='background-color: #ffffff'> great<span class='feature_val'> (0.00)</span></span><span class='token' style='background-color: #ffffff'>sw<span class='feature_val'> (0.00)</span></span><span class='token' style='background-color: #ffffff'>ords<span class='feature_val'> (0.00)</span></span><span class='token' style='background-color: #ffffff'>,<span class='feature_val'> (0.00)</span></span><span class='token' style='background-color: #ffffff'> can<span class='feature_val'> (0.00)</span></span><span class='token' style='background-color: #ffffff'>&#x27;t<span class='feature_val'> (0.00)</span></span><span class='token' style='background-color: #ffffff'> be<span class='feature_val'> (0.00)</span></span><span class='token' style='background-color: #ffffff'> used<span class='feature_val'> (0.00)</span></span><span class='token' style='background-color: #ffffff'> with<span class='feature_val'> (0.00)</span></span><span class='token' style='background-color: #ffffff'> dexterity<span class='feature_val'> (0.00)</span></span><span class='token' style='background-color: #ffffff'>.<span class='feature_val'> (0.00)</span></span><span class='token' style='background-color: #ffd8a8'>\n",
       "<span class='feature_val'> (1.46)</span></span><span class='token' style='background-color: #ff9d26'>\n",
       "<span class='feature_val'> (3.68)</span></span><span class='token' style='background-color: #ffffff'>-<span class='feature_val'> (0.00)</span></span><span class='token' style='background-color: #ffffff'>You<span class='feature_val'> (0.00)</span></span><span class='token' style='background-color: #ffffff'> aren<span class='feature_val'> (0.00)</span></span><span class='token' style='background-color: #ffffff'>&#x27;t<span class='feature_val'> (0.00)</span></span><span class='token' style='background-color: #ffffff'> slowed<span class='feature_val'> (0.00)</span></span><span class='token' style='background-color: #ffffff'> down<span class='feature_val'> (0.00)</span></span><span class='token' style='background-color: #ffffff'> by<span class='feature_val'> (0.00)</span></span><span class='token' style='background-color: #ffffff'> heavy<span class='feature_val'> (0.00)</span></span><span class='token' style='background-color: #ffffff'> armor<span class='feature_val'> (0.00)</span></span><span class='token' style='background-color: #ffffff'>.<span class='feature_val'> (0.00)</span></span><span class='token' style='background-color: #ffffff'> In<span class='feature_val'> (0.00)</span></span><span class='token' style='background-color: #ffffff'> a<span class='feature_val'> (0.00)</span></span><span class='token' style='background-color: #ffffff'> game<span class='feature_val'> (0.00)</span></span><span class='token' style='background-color: #ffffff'> where<span class='feature_val'> (0.00)</span></span><span class='token' style='background-color: #ffffff'> charging<span class='feature_val'> (0.00)</span></span><span class='token' style='background-color: #ffffff'> doesn<span class='feature_val'> (0.00)</span></span><span class='token' style='background-color: #ffffff'>&#x27;t<span class='feature_val'> (0.00)</span></span><span class='token' style='background-color: #ffffff'> exist<span class='feature_val'> (0.00)</span></span><span class='token' style='background-color: #ffffff'>,<span class='feature_val'> (0.00)</span></span><span class='token' style='background-color: #ffffff'> speed<span class='feature_val'> (0.00)</span></span><span class='token' style='background-color: #ffffff'> is<span class='feature_val'> (0.00)</span></span><span class='token' style='background-color: #ffffff'> more<span class='feature_val'> (0.00)</span></span><span class='token' style='background-color: #ffffff'> important<span class='feature_val'> (0.00)</span></span><span class='token' style='background-color: #ffffff'> than<span class='feature_val'> (0.00)</span></span><span class='token' style='background-color: #ffffff'> it<span class='feature_val'> (0.00)</span></span><span class='token' style='background-color: #ffffff'> may<span class='feature_val'> (0.00)</span></span><span class='token' style='background-color: #ffffff'> seem<span class='feature_val'> (0.00)</span></span><span class='token' style='background-color: #ffffff'>.<span class='feature_val'> (0.00)</span></span><span class='token' style='background-color: #ffdaad'>\n",
       "<span class='feature_val'> (1.38)</span></span><span class='token' style='background-color: #ff8c00'>\n",
       "<span class='feature_val'> (4.33)</span></span><span class='token' style='background-color: #ffffff'>-<span class='feature_val'> (0.00)</span></span>"
      ],
      "text/plain": [
       "<IPython.core.display.HTML object>"
      ]
     },
     "metadata": {},
     "output_type": "display_data"
    },
    {
     "data": {
      "text/html": [
       "\n",
       "    <style>\n",
       "        span.token {\n",
       "            font-family: monospace;\n",
       "            border-style: solid;\n",
       "            border-width: 1px;\n",
       "            border-color: #dddddd;\n",
       "        }\n",
       "    </style>\n",
       "    <span class='token' style='background-color: #ffffff'>&lt;|endoftext|&gt;<span class='feature_val'> (0.00)</span></span><span class='token' style='background-color: #ffffff'> North<span class='feature_val'> (0.00)</span></span><span class='token' style='background-color: #ffffff'> Haven<span class='feature_val'> (0.00)</span></span><span class='token' style='background-color: #ffffff'> residence<span class='feature_val'> (0.00)</span></span><span class='token' style='background-color: #ffffff'> in<span class='feature_val'> (0.00)</span></span><span class='token' style='background-color: #ffffff'> Connecticut<span class='feature_val'> (0.00)</span></span><span class='token' style='background-color: #ffffff'> or<span class='feature_val'> (0.00)</span></span><span class='token' style='background-color: #ffffff'> to<span class='feature_val'> (0.00)</span></span><span class='token' style='background-color: #ffffff'> a<span class='feature_val'> (0.00)</span></span><span class='token' style='background-color: #ffffff'> business<span class='feature_val'> (0.00)</span></span><span class='token' style='background-color: #ffffff'> owned<span class='feature_val'> (0.00)</span></span><span class='token' style='background-color: #ffffff'> by<span class='feature_val'> (0.00)</span></span><span class='token' style='background-color: #ffffff'> him<span class='feature_val'> (0.00)</span></span><span class='token' style='background-color: #ffffff'>.<span class='feature_val'> (0.00)</span></span><span class='token' style='background-color: #ffffff'>\n",
       "<span class='feature_val'> (0.00)</span></span><span class='token' style='background-color: #ffffff'>\n",
       "<span class='feature_val'> (0.00)</span></span><span class='token' style='background-color: #ffffff'>�<span class='feature_val'> (0.00)</span></span><span class='token' style='background-color: #ffffff'>�<span class='feature_val'> (0.00)</span></span><span class='token' style='background-color: #ffffff'>The<span class='feature_val'> (0.00)</span></span><span class='token' style='background-color: #ffffff'> products<span class='feature_val'> (0.00)</span></span><span class='token' style='background-color: #ffffff'> were<span class='feature_val'> (0.00)</span></span><span class='token' style='background-color: #ffffff'> then<span class='feature_val'> (0.00)</span></span><span class='token' style='background-color: #ffffff'> shipped<span class='feature_val'> (0.00)</span></span><span class='token' style='background-color: #ffffff'> to<span class='feature_val'> (0.00)</span></span><span class='token' style='background-color: #ffffff'> Pakistan<span class='feature_val'> (0.00)</span></span><span class='token' style='background-color: #ffffff'> on<span class='feature_val'> (0.00)</span></span><span class='token' style='background-color: #ffffff'> behalf<span class='feature_val'> (0.00)</span></span><span class='token' style='background-color: #ffffff'> of<span class='feature_val'> (0.00)</span></span><span class='token' style='background-color: #ffffff'> either<span class='feature_val'> (0.00)</span></span><span class='token' style='background-color: #ffffff'> the<span class='feature_val'> (0.00)</span></span><span class='token' style='background-color: #ffffff'> Pakistan<span class='feature_val'> (0.00)</span></span><span class='token' style='background-color: #ffffff'> Atomic<span class='feature_val'> (0.00)</span></span><span class='token' style='background-color: #ffffff'> Energy<span class='feature_val'> (0.00)</span></span><span class='token' style='background-color: #ffffff'> Commission<span class='feature_val'> (0.00)</span></span><span class='token' style='background-color: #ffffff'> (<span class='feature_val'> (0.00)</span></span><span class='token' style='background-color: #ffffff'>PA<span class='feature_val'> (0.00)</span></span><span class='token' style='background-color: #ffffff'>EC<span class='feature_val'> (0.00)</span></span><span class='token' style='background-color: #ffffff'>),<span class='feature_val'> (0.00)</span></span><span class='token' style='background-color: #ffffff'> the<span class='feature_val'> (0.00)</span></span><span class='token' style='background-color: #ffffff'> Pakistan<span class='feature_val'> (0.00)</span></span><span class='token' style='background-color: #ffffff'> Space<span class='feature_val'> (0.00)</span></span><span class='token' style='background-color: #ffffff'> and<span class='feature_val'> (0.00)</span></span><span class='token' style='background-color: #ffffff'> Upper<span class='feature_val'> (0.00)</span></span><span class='token' style='background-color: #ffffff'> Atmosp<span class='feature_val'> (0.00)</span></span><span class='token' style='background-color: #ffffff'>here<span class='feature_val'> (0.00)</span></span><span class='token' style='background-color: #ffffff'> Research<span class='feature_val'> (0.00)</span></span><span class='token' style='background-color: #ffffff'> Commission<span class='feature_val'> (0.00)</span></span><span class='token' style='background-color: #ffffff'> (<span class='feature_val'> (0.00)</span></span><span class='token' style='background-color: #ffffff'>Sup<span class='feature_val'> (0.00)</span></span><span class='token' style='background-color: #ffffff'>ar<span class='feature_val'> (0.00)</span></span><span class='token' style='background-color: #ffffff'>co<span class='feature_val'> (0.00)</span></span><span class='token' style='background-color: #ffffff'>)<span class='feature_val'> (0.00)</span></span><span class='token' style='background-color: #ffffff'> or<span class='feature_val'> (0.00)</span></span><span class='token' style='background-color: #ffffff'> the<span class='feature_val'> (0.00)</span></span><span class='token' style='background-color: #ffffff'> National<span class='feature_val'> (0.00)</span></span><span class='token' style='background-color: #ffffff'> Institute<span class='feature_val'> (0.00)</span></span><span class='token' style='background-color: #ffffff'> of<span class='feature_val'> (0.00)</span></span><span class='token' style='background-color: #ffffff'> Las<span class='feature_val'> (0.00)</span></span><span class='token' style='background-color: #ffffff'>ers<span class='feature_val'> (0.00)</span></span><span class='token' style='background-color: #ffffff'> and<span class='feature_val'> (0.00)</span></span><span class='token' style='background-color: #ffffff'> Opt<span class='feature_val'> (0.00)</span></span><span class='token' style='background-color: #ffffff'>ronics<span class='feature_val'> (0.00)</span></span><span class='token' style='background-color: #ffffff'> (<span class='feature_val'> (0.00)</span></span><span class='token' style='background-color: #ffffff'>N<span class='feature_val'> (0.00)</span></span><span class='token' style='background-color: #ffffff'>il<span class='feature_val'> (0.00)</span></span><span class='token' style='background-color: #ffffff'>op<span class='feature_val'> (0.00)</span></span><span class='token' style='background-color: #ffffff'>),<span class='feature_val'> (0.00)</span></span><span class='token' style='background-color: #ffffff'>�<span class='feature_val'> (0.00)</span></span><span class='token' style='background-color: #ffffff'>�<span class='feature_val'> (0.00)</span></span><span class='token' style='background-color: #ffffff'> the<span class='feature_val'> (0.00)</span></span><span class='token' style='background-color: #ffffff'> US<span class='feature_val'> (0.00)</span></span><span class='token' style='background-color: #ffffff'> Justice<span class='feature_val'> (0.00)</span></span><span class='token' style='background-color: #ffffff'> Department<span class='feature_val'> (0.00)</span></span><span class='token' style='background-color: #ffffff'> said<span class='feature_val'> (0.00)</span></span><span class='token' style='background-color: #ffffff'>.<span class='feature_val'> (0.00)</span></span><span class='token' style='background-color: #ffffff'> All<span class='feature_val'> (0.00)</span></span><span class='token' style='background-color: #ffffff'> these<span class='feature_val'> (0.00)</span></span><span class='token' style='background-color: #ffffff'> organisations<span class='feature_val'> (0.00)</span></span><span class='token' style='background-color: #ffffff'> listed<span class='feature_val'> (0.00)</span></span><span class='token' style='background-color: #ffffff'> on<span class='feature_val'> (0.00)</span></span><span class='token' style='background-color: #ffffff'> the<span class='feature_val'> (0.00)</span></span><span class='token' style='background-color: #ffffff'> US<span class='feature_val'> (0.00)</span></span><span class='token' style='background-color: #ffffff'> Department<span class='feature_val'> (0.00)</span></span><span class='token' style='background-color: #ffffff'> of<span class='feature_val'> (0.00)</span></span><span class='token' style='background-color: #ffffff'> Commerce<span class='feature_val'> (0.00)</span></span><span class='token' style='background-color: #ffffff'> Entity<span class='feature_val'> (0.00)</span></span><span class='token' style='background-color: #ffffff'> List<span class='feature_val'> (0.00)</span></span><span class='token' style='background-color: #ffffff'>,<span class='feature_val'> (0.00)</span></span><span class='token' style='background-color: #ffffff'> it<span class='feature_val'> (0.00)</span></span><span class='token' style='background-color: #ffffff'> added<span class='feature_val'> (0.00)</span></span><span class='token' style='background-color: #ffffff'>.<span class='feature_val'> (0.00)</span></span><span class='token' style='background-color: #ffffff'>\n",
       "<span class='feature_val'> (0.00)</span></span><span class='token' style='background-color: #ffffff'>\n",
       "<span class='feature_val'> (0.00)</span></span><span class='token' style='background-color: #ffffff'>�<span class='feature_val'> (0.00)</span></span><span class='token' style='background-color: #ffffff'>�<span class='feature_val'> (0.00)</span></span><span class='token' style='background-color: #ffffff'>The<span class='feature_val'> (0.00)</span></span><span class='token' style='background-color: #ffffff'> illegal<span class='feature_val'> (0.00)</span></span><span class='token' style='background-color: #ffffff'> ex<span class='feature_val'> (0.00)</span></span><span class='token' style='background-color: #ffffff'>portation<span class='feature_val'> (0.00)</span></span><span class='token' style='background-color: #ffffff'> of<span class='feature_val'> (0.00)</span></span><span class='token' style='background-color: #ffffff'> sensitive<span class='feature_val'> (0.00)</span></span><span class='token' style='background-color: #ffffff'> technology<span class='feature_val'> (0.00)</span></span><span class='token' style='background-color: #ffffff'> to<span class='feature_val'> (0.00)</span></span><span class='token' style='background-color: #ffffff'> prohibited<span class='feature_val'> (0.00)</span></span><span class='token' style='background-color: #ffffff'> entities<span class='feature_val'> (0.00)</span></span><span class='token' style='background-color: #ffffff'> such<span class='feature_val'> (0.00)</span></span><span class='token' style='background-color: #ffffff'> as<span class='feature_val'> (0.00)</span></span><span class='token' style='background-color: #ffffff'> PA<span class='feature_val'> (0.00)</span></span><span class='token' style='background-color: #ffffff'>EC<span class='feature_val'> (0.00)</span></span><span class='token' style='background-color: #ff8c00'>,<span class='feature_val'> (4.32)</span></span><span class='token' style='background-color: #fffbf7'> Sup<span class='feature_val'> (0.13)</span></span><span class='token' style='background-color: #fefdfb'>ar<span class='feature_val'> (0.07)</span></span><span class='token' style='background-color: #ffe2bf'>co<span class='feature_val'> (1.07)</span></span><span class='token' style='background-color: #ffc885'> and<span class='feature_val'> (2.05)</span></span><span class='token' style='background-color: #fff6eb'> Nil<span class='feature_val'> (0.33)</span></span><span class='token' style='background-color: #fffbf7'>op<span class='feature_val'> (0.13)</span></span><span class='token' style='background-color: #ffffff'>,<span class='feature_val'> (0.00)</span></span><span class='token' style='background-color: #ffffff'> poses<span class='feature_val'> (0.00)</span></span><span class='token' style='background-color: #ffffff'> a<span class='feature_val'> (0.00)</span></span><span class='token' style='background-color: #ffffff'> significant<span class='feature_val'> (0.00)</span></span><span class='token' style='background-color: #ffffff'> threat<span class='feature_val'> (0.00)</span></span><span class='token' style='background-color: #ffffff'> to<span class='feature_val'> (0.00)</span></span><span class='token' style='background-color: #ffffff'> our<span class='feature_val'> (0.00)</span></span><span class='token' style='background-color: #ffffff'> national<span class='feature_val'> (0.00)</span></span><span class='token' style='background-color: #ffffff'> security<span class='feature_val'> (0.00)</span></span><span class='token' style='background-color: #fffdfb'>,<span class='feature_val'> (0.06)</span></span><span class='token' style='background-color: #ffffff'>�<span class='feature_val'> (0.00)</span></span><span class='token' style='background-color: #ffffff'>�<span class='feature_val'> (0.00)</span></span>"
      ],
      "text/plain": [
       "<IPython.core.display.HTML object>"
      ]
     },
     "metadata": {},
     "output_type": "display_data"
    }
   ],
   "source": [
    "feature_idx = 0 # corresponding to 16513\n",
    "example_html, examples_clean_text = display_top_k_activating_examples(model, feature_scores[:, feature_idx, :], owt_tokens_torch, k=15)"
   ]
  },
  {
   "cell_type": "code",
   "execution_count": 45,
   "metadata": {},
   "outputs": [
    {
     "name": "stdout",
     "output_type": "stream",
     "text": [
      "╒═════════════╤═════════╕\n",
      "│ Token       │   Logit │\n",
      "╞═════════════╪═════════╡\n",
      "│ \u001b[34marth\u001b[0m        │  \u001b[32m3.6752\u001b[0m │\n",
      "├─────────────┼─────────┤\n",
      "│ \u001b[34mrers\u001b[0m        │  \u001b[32m3.4801\u001b[0m │\n",
      "├─────────────┼─────────┤\n",
      "│ \u001b[34mdisplayText\u001b[0m │  \u001b[32m3.3468\u001b[0m │\n",
      "├─────────────┼─────────┤\n",
      "│ \u001b[34mpool\u001b[0m        │  \u001b[32m3.3323\u001b[0m │\n",
      "├─────────────┼─────────┤\n",
      "│ \u001b[34mrovers\u001b[0m      │  \u001b[32m3.2823\u001b[0m │\n",
      "├─────────────┼─────────┤\n",
      "│ \u001b[34mqua\u001b[0m         │  \u001b[32m3.28\u001b[0m   │\n",
      "├─────────────┼─────────┤\n",
      "│ \u001b[34massian\u001b[0m      │  \u001b[32m3.2042\u001b[0m │\n",
      "├─────────────┼─────────┤\n",
      "│ \u001b[34mcember\u001b[0m      │  \u001b[32m3.1544\u001b[0m │\n",
      "├─────────────┼─────────┤\n",
      "│ \u001b[34mrer\u001b[0m         │  \u001b[32m3.1482\u001b[0m │\n",
      "├─────────────┼─────────┤\n",
      "│ \u001b[34miple\u001b[0m        │  \u001b[32m3.14\u001b[0m   │\n",
      "├─────────────┼─────────┤\n",
      "│ \u001b[34mutch\u001b[0m        │  \u001b[32m3.1132\u001b[0m │\n",
      "├─────────────┼─────────┤\n",
      "│ \u001b[34msembly\u001b[0m      │  \u001b[32m3.0786\u001b[0m │\n",
      "├─────────────┼─────────┤\n",
      "│ \u001b[34mphrine\u001b[0m      │  \u001b[32m3.0376\u001b[0m │\n",
      "├─────────────┼─────────┤\n",
      "│ \u001b[34mchance\u001b[0m      │  \u001b[32m3.0277\u001b[0m │\n",
      "├─────────────┼─────────┤\n",
      "│ \u001b[34mforum\u001b[0m       │  \u001b[32m3.0182\u001b[0m │\n",
      "├─────────────┼─────────┤\n",
      "│ \u001b[34mumni\u001b[0m        │  \u001b[32m3.0126\u001b[0m │\n",
      "├─────────────┼─────────┤\n",
      "│ \u001b[34mPacific\u001b[0m     │  \u001b[32m2.9834\u001b[0m │\n",
      "├─────────────┼─────────┤\n",
      "│ \u001b[34muders\u001b[0m       │  \u001b[32m2.9482\u001b[0m │\n",
      "├─────────────┼─────────┤\n",
      "│ \u001b[34m�\u001b[0m           │  \u001b[32m2.9415\u001b[0m │\n",
      "├─────────────┼─────────┤\n",
      "│ \u001b[34miversary\u001b[0m    │  \u001b[32m2.9359\u001b[0m │\n",
      "╘═════════════╧═════════╛\n"
     ]
    }
   ],
   "source": [
    "top_tokens, top_logits = get_top_k_tokens(model, sae, features[feature_idx], k=20, act_strength=3)\n",
    "\n",
    "pretty_print_tokens_logits(top_tokens, top_logits)"
   ]
  },
  {
   "cell_type": "code",
   "execution_count": 46,
   "metadata": {},
   "outputs": [
    {
     "name": "stdout",
     "output_type": "stream",
     "text": [
      "(Part 1)\n",
      "Step 1.\n",
      "ACTIVATING TOKENS: \"in the county\", \"-,\", \" and\", \" than\", \"based\", \"Ab\", \",, \", \"),\" \",\" \",\" \",\",\", \" and\".\n",
      "PREVIOUS TOKENS: \"relocated\", \"in\", \"Paul\", \"Zarrin\", \"galleries\", \"Strength:\", \"more\", \"prohibited\".\n",
      "\n",
      "Step 2.\n",
      "The activating tokens are conjunctions, punctuation, or prepositions.\n",
      "The previous tokens don't seem to have a clear pattern apart from being nouns or verbs.\n",
      "The neuron seems to activate on specific grammatical elements rather than content tokens.\n",
      "\n",
      "Step 3.\n",
      "- The neuron activates on grammatical elements such as conjunctions, punctuation, and prepositions.\n",
      "- The activating token sometimes follows a verb or a noun but there doesn't seem to be a clear pattern.\n",
      "\n",
      "(Part 2)\n",
      "Step 4.\n",
      "SIMILAR TOKENS: Many of the top logits like \"arth\", \"rers\", \"qua\", \" assian\", \"cember\", \" rer\", \"iple\", \"utch\", \"sembly\", \"phrine\" seems to be fragments of words rather than full tokens. They seem to be related with letter \"r\".\n",
      "\n",
      "Step 5.\n",
      "[EXPLANATION]: This neuron seems to activate on grammatical elements, specifically conjunctions, punctuation and prepositions, and also seems to show a preference for word fragments that include the letter \"r\".\n"
     ]
    }
   ],
   "source": [
    "feature_interpretation = get_response(llm_client, examples_clean_text, top_tokens)\n",
    "print(feature_interpretation)"
   ]
  },
  {
   "cell_type": "code",
   "execution_count": 47,
   "metadata": {},
   "outputs": [
    {
     "name": "stdout",
     "output_type": "stream",
     "text": [
      "╒══════════════╤═════════╕\n",
      "│ Token        │   Logit │\n",
      "╞══════════════╪═════════╡\n",
      "│ \u001b[34mividual\u001b[0m      │  \u001b[32m4.4617\u001b[0m │\n",
      "├──────────────┼─────────┤\n",
      "│ \u001b[34m confir\u001b[0m      │  \u001b[32m4.3262\u001b[0m │\n",
      "├──────────────┼─────────┤\n",
      "│ \u001b[34mlegate\u001b[0m       │  \u001b[32m4.1775\u001b[0m │\n",
      "├──────────────┼─────────┤\n",
      "│ \u001b[34mhots\u001b[0m         │  \u001b[32m3.8846\u001b[0m │\n",
      "├──────────────┼─────────┤\n",
      "│ \u001b[34mbreaker\u001b[0m      │  \u001b[32m3.8705\u001b[0m │\n",
      "├──────────────┼─────────┤\n",
      "│ \u001b[34muality\u001b[0m       │  \u001b[32m3.7917\u001b[0m │\n",
      "├──────────────┼─────────┤\n",
      "│ \u001b[34m festivals\u001b[0m   │  \u001b[32m3.7612\u001b[0m │\n",
      "├──────────────┼─────────┤\n",
      "│ \u001b[34mulk\u001b[0m          │  \u001b[32m3.6968\u001b[0m │\n",
      "├──────────────┼─────────┤\n",
      "│ \u001b[34mvertisements\u001b[0m │  \u001b[32m3.5496\u001b[0m │\n",
      "├──────────────┼─────────┤\n",
      "│ \u001b[34mworker\u001b[0m       │  \u001b[32m3.5273\u001b[0m │\n",
      "├──────────────┼─────────┤\n",
      "│ \u001b[34mlander\u001b[0m       │  \u001b[32m3.5042\u001b[0m │\n",
      "├──────────────┼─────────┤\n",
      "│ \u001b[34maily\u001b[0m         │  \u001b[32m3.4963\u001b[0m │\n",
      "├──────────────┼─────────┤\n",
      "│ \u001b[34m arrivals\u001b[0m    │  \u001b[32m3.4198\u001b[0m │\n",
      "├──────────────┼─────────┤\n",
      "│ \u001b[34m sugg\u001b[0m        │  \u001b[32m3.4051\u001b[0m │\n",
      "├──────────────┼─────────┤\n",
      "│ \u001b[34memp\u001b[0m          │  \u001b[32m3.3741\u001b[0m │\n",
      "├──────────────┼─────────┤\n",
      "│ \u001b[34mqueue\u001b[0m        │  \u001b[32m3.3683\u001b[0m │\n",
      "├──────────────┼─────────┤\n",
      "│ \u001b[34mspawn\u001b[0m        │  \u001b[32m3.3635\u001b[0m │\n",
      "├──────────────┼─────────┤\n",
      "│ \u001b[34m newsp\u001b[0m       │  \u001b[32m3.3588\u001b[0m │\n",
      "├──────────────┼─────────┤\n",
      "│ \u001b[34mpool\u001b[0m         │  \u001b[32m3.3433\u001b[0m │\n",
      "├──────────────┼─────────┤\n",
      "│ \u001b[34mjad\u001b[0m          │  \u001b[32m3.3158\u001b[0m │\n",
      "╘══════════════╧═════════╛\n",
      "(Part 1)\n",
      "Step 1.\n",
      "ACTIVATING TOKENS: \"Actress\", \"snagged\", \"three\", \"and Maisie\", \"get\", \"from\", \".\", \"see\", \"And\", \"see Sophie\", \",\", \"while Almost Human\", \"toward\", \"includes\", \"Title\", \"Author\", \"ISBN\", \"books\"], \".\", \"vs\", \"path\".\n",
      "\n",
      "The activating tokens are mostly verbs, proper nouns, and numbers.\n",
      "\n",
      "Step 2.\n",
      "The activating tokens frequently seem to appear in places where sentences or clauses discontinue momentarily, followed by punctuation like commas and periods.\n",
      "\n",
      "Step 3.\n",
      "- Most of the activated text belongs to the description of the entertainment industry (awards, actors, television programming).\n",
      "- Activating tokens often happen at structures that mark discontinuity in the sentence or clause while transitioning to a new point.\n",
      "\n",
      "(Part 2)\n",
      "Step 4.\n",
      "SIMILAR TOKENS: \"ots\", \"ulk\", \"emp\", \"pool\", \"spawn\".\n",
      "The top logits list contains a scattering of words, some of which seem related to internet slang or gaming terminology.\n",
      "\n",
      "Step 5.\n",
      "Given the activation patterns observed in the texts and the logits, it might be the case that the neuron is activated by the end phrases of complex clauses, specifically within texts related to television or entertainment. However, the promoting logits haven't conferred a definitive role. \n",
      "\n",
      "[EXPLANATION]: Transitional points in complex sentences or clauses within the context of entertainment-related text.\n"
     ]
    }
   ],
   "source": [
    "# Same thing\n",
    "feature_idx = 1\n",
    "example_html, examples_clean_text = display_top_k_activating_examples(model, feature_scores[:, feature_idx, :], owt_tokens_torch, k=15, display_html=False)\n",
    "top_tokens, top_logits = get_top_k_tokens(model, sae, features[feature_idx], k=20, act_strength=5)\n",
    "pretty_print_tokens_logits(top_tokens, top_logits)\n",
    "feature_interpretation = get_response(llm_client, examples_clean_text, top_tokens)\n",
    "print(feature_interpretation)"
   ]
  },
  {
   "cell_type": "markdown",
   "metadata": {},
   "source": [
    "You can also pass in and boost logits for multiple features at a time."
   ]
  },
  {
   "cell_type": "code",
   "execution_count": 51,
   "metadata": {},
   "outputs": [
    {
     "name": "stdout",
     "output_type": "stream",
     "text": [
      "╒══════════╤═════════╕\n",
      "│ Token    │   Logit │\n",
      "╞══════════╪═════════╡\n",
      "│ \u001b[34mhots\u001b[0m     │  \u001b[32m7.4445\u001b[0m │\n",
      "├──────────┼─────────┤\n",
      "│ \u001b[34mlegate\u001b[0m   │  \u001b[32m7.3243\u001b[0m │\n",
      "├──────────┼─────────┤\n",
      "│ \u001b[34mhower\u001b[0m    │  \u001b[32m6.7189\u001b[0m │\n",
      "├──────────┼─────────┤\n",
      "│ \u001b[34mumn\u001b[0m      │  \u001b[32m6.7184\u001b[0m │\n",
      "├──────────┼─────────┤\n",
      "│ \u001b[34mividual\u001b[0m  │  \u001b[32m6.7176\u001b[0m │\n",
      "├──────────┼─────────┤\n",
      "│ \u001b[34m confir\u001b[0m  │  \u001b[32m6.5577\u001b[0m │\n",
      "├──────────┼─────────┤\n",
      "│ \u001b[34mlevision\u001b[0m │  \u001b[32m6.4419\u001b[0m │\n",
      "├──────────┼─────────┤\n",
      "│ \u001b[34mrers\u001b[0m     │  \u001b[32m6.2546\u001b[0m │\n",
      "├──────────┼─────────┤\n",
      "│ \u001b[34mutch\u001b[0m     │  \u001b[32m6.2519\u001b[0m │\n",
      "├──────────┼─────────┤\n",
      "│ \u001b[34mpool\u001b[0m     │  \u001b[32m6.1928\u001b[0m │\n",
      "╘══════════╧═════════╛\n"
     ]
    },
    {
     "data": {
      "text/html": [
       "\n",
       "    <style>\n",
       "        span.token {\n",
       "            font-family: monospace;\n",
       "            border-style: solid;\n",
       "            border-width: 1px;\n",
       "            border-color: #dddddd;\n",
       "        }\n",
       "    </style>\n",
       "    <span class='token' style='background-color: #ffffff'>&lt;|endoftext|&gt;<span class='feature_val'> (0.00)</span></span><span class='token' style='background-color: #ffffff'> Mr<span class='feature_val'> (0.00)</span></span><span class='token' style='background-color: #ffffff'>La<span class='feature_val'> (0.00)</span></span><span class='token' style='background-color: #ffffff'> Odd<span class='feature_val'> (0.00)</span></span><span class='token' style='background-color: #ffffff'> Mr<span class='feature_val'> (0.00)</span></span><span class='token' style='background-color: #ffffff'> P<span class='feature_val'> (0.00)</span></span><span class='token' style='background-color: #ffffff'>unt<span class='feature_val'> (0.00)</span></span><span class='token' style='background-color: #ffffff'>Plan<span class='feature_val'> (0.00)</span></span><span class='token' style='background-color: #ffffff'> Dud<span class='feature_val'> (0.00)</span></span><span class='token' style='background-color: #ffffff'> Mr<span class='feature_val'> (0.00)</span></span><span class='token' style='background-color: #ffffff'> To<span class='feature_val'> (0.00)</span></span><span class='token' style='background-color: #ffffff'>Pal<span class='feature_val'> (0.00)</span></span><span class='token' style='background-color: #ffffff'> Odd<span class='feature_val'> (0.00)</span></span><span class='token' style='background-color: #ffffff'> Mr<span class='feature_val'> (0.00)</span></span><span class='token' style='background-color: #ffffff'> Tun<span class='feature_val'> (0.00)</span></span><span class='token' style='background-color: #ffffff'>Pal<span class='feature_val'> (0.00)</span></span><span class='token' style='background-color: #ffffff'> Odd<span class='feature_val'> (0.00)</span></span><span class='token' style='background-color: #ffffff'> Mr<span class='feature_val'> (0.00)</span></span><span class='token' style='background-color: #ffffff'> Nut<span class='feature_val'> (0.00)</span></span><span class='token' style='background-color: #fffdfb'>Pal<span class='feature_val'> (0.04)</span></span><span class='token' style='background-color: #ffefdc'> Dud<span class='feature_val'> (0.38)</span></span><span class='token' style='background-color: #ffffff'> Mr<span class='feature_val'> (0.00)</span></span><span class='token' style='background-color: #fef5e8'> Ton<span class='feature_val'> (0.24)</span></span><span class='token' style='background-color: #ffab45'>Pal<span class='feature_val'> (2.03)</span></span><span class='token' style='background-color: #fff1e0'> Dud<span class='feature_val'> (0.34)</span></span><span class='token' style='background-color: #ffffff'> Mr<span class='feature_val'> (0.00)</span></span><span class='token' style='background-color: #fff3e4'> Not<span class='feature_val'> (0.29)</span></span><span class='token' style='background-color: #ffb75f'>Pal<span class='feature_val'> (1.74)</span></span><span class='token' style='background-color: #fff1e0'> Dun<span class='feature_val'> (0.33)</span></span><span class='token' style='background-color: #fff6ec'> Dot<span class='feature_val'> (0.20)</span></span><span class='token' style='background-color: #ffffff'> Mr<span class='feature_val'> (0.00)</span></span><span class='token' style='background-color: #ffffff'>Al<span class='feature_val'> (0.00)</span></span><span class='token' style='background-color: #ffffff'>p<span class='feature_val'> (0.00)</span></span><span class='token' style='background-color: #fff7ee'> Odd<span class='feature_val'> (0.19)</span></span><span class='token' style='background-color: #ffffff'> Mr<span class='feature_val'> (0.00)</span></span><span class='token' style='background-color: #fffaf4'> Tun<span class='feature_val'> (0.11)</span></span><span class='token' style='background-color: #fffdfa'>Al<span class='feature_val'> (0.05)</span></span><span class='token' style='background-color: #ffae4c'>p<span class='feature_val'> (1.95)</span></span><span class='token' style='background-color: #ffffff'> Odd<span class='feature_val'> (0.00)</span></span><span class='token' style='background-color: #ffd39e'> Mr<span class='feature_val'> (1.05)</span></span><span class='token' style='background-color: #ffd39d'> Nut<span class='feature_val'> (1.06)</span></span><span class='token' style='background-color: #ffebd2'>Al<span class='feature_val'> (0.48)</span></span><span class='token' style='background-color: #ffa941'>p<span class='feature_val'> (2.07)</span></span><span class='token' style='background-color: #ffffff'> Dud<span class='feature_val'> (0.00)</span></span><span class='token' style='background-color: #ffb358'> Mr<span class='feature_val'> (1.83)</span></span><span class='token' style='background-color: #fed097'> Ton<span class='feature_val'> (1.13)</span></span><span class='token' style='background-color: #ffecd6'>Al<span class='feature_val'> (0.44)</span></span><span class='token' style='background-color: #ff9e28'>p<span class='feature_val'> (2.35)</span></span><span class='token' style='background-color: #ffffff'> Dud<span class='feature_val'> (0.00)</span></span><span class='token' style='background-color: #ff8c00'> Mr<span class='feature_val'> (2.79)</span></span><span class='token' style='background-color: #ffdbaf'> Not<span class='feature_val'> (0.87)</span></span><span class='token' style='background-color: #fff0df'>Al<span class='feature_val'> (0.34)</span></span><span class='token' style='background-color: #ffba67'>p<span class='feature_val'> (1.66)</span></span><span class='token' style='background-color: #ffe6c8'> Dun<span class='feature_val'> (0.60)</span></span><span class='token' style='background-color: #fef4e7'> Dot<span class='feature_val'> (0.26)</span></span><span class='token' style='background-color: #ffbf71'> Mr<span class='feature_val'> (1.55)</span></span><span class='token' style='background-color: #ffffff'>L<span class='feature_val'> (0.00)</span></span><span class='token' style='background-color: #ffffff'>ap<span class='feature_val'> (0.00)</span></span><span class='token' style='background-color: #ffffff'> Odd<span class='feature_val'> (0.00)</span></span><span class='token' style='background-color: #ffad4a'> Mr<span class='feature_val'> (1.98)</span></span><span class='token' style='background-color: #ffdaaf'> Tun<span class='feature_val'> (0.88)</span></span><span class='token' style='background-color: #fff8f0'>L<span class='feature_val'> (0.16)</span></span><span class='token' style='background-color: #ffbe6f'>ap<span class='feature_val'> (1.57)</span></span><span class='token' style='background-color: #ffffff'> Odd<span class='feature_val'> (0.00)</span></span><span class='token' style='background-color: #ffaf4e'> Mr<span class='feature_val'> (1.93)</span></span><span class='token' style='background-color: #ffd097'> Nut<span class='feature_val'> (1.14)</span></span><span class='token' style='background-color: #ffead1'>L<span class='feature_val'> (0.50)</span></span><span class='token' style='background-color: #ffaf4e'>ap<span class='feature_val'> (1.94)</span></span><span class='token' style='background-color: #ffffff'> Dud<span class='feature_val'> (0.00)</span></span><span class='token' style='background-color: #ffba67'> Mr<span class='feature_val'> (1.66)</span></span><span class='token' style='background-color: #ffd8aa'> Ton<span class='feature_val'> (0.92)</span></span><span class='token' style='background-color: #ffe6c9'>L<span class='feature_val'> (0.59)</span></span><span class='token' style='background-color: #ffb65d'>ap<span class='feature_val'> (1.77)</span></span><span class='token' style='background-color: #ffffff'> Dud<span class='feature_val'> (0.00)</span></span><span class='token' style='background-color: #ffae4c'> Mr<span class='feature_val'> (1.96)</span></span><span class='token' style='background-color: #ffe5c5'> Not<span class='feature_val'> (0.63)</span></span><span class='token' style='background-color: #fffdfb'>L<span class='feature_val'> (0.04)</span></span><span class='token' style='background-color: #ffd39d'>ap<span class='feature_val'> (1.06)</span></span><span class='token' style='background-color: #fff9f1'> Dun<span class='feature_val'> (0.14)</span></span><span class='token' style='background-color: #fffefd'> Dot<span class='feature_val'> (0.01)</span></span><span class='token' style='background-color: #ffffff'> Mr<span class='feature_val'> (0.00)</span></span><span class='token' style='background-color: #ffffff'>Pl<span class='feature_val'> (0.00)</span></span><span class='token' style='background-color: #ffffff'>at<span class='feature_val'> (0.00)</span></span><span class='token' style='background-color: #ffffff'> Odd<span class='feature_val'> (0.00)</span></span><span class='token' style='background-color: #ffc278'> Mr<span class='feature_val'> (1.47)</span></span><span class='token' style='background-color: #fff8f0'> Nu<span class='feature_val'> (0.16)</span></span><span class='token' style='background-color: #ffe9cf'>Pl<span class='feature_val'> (0.52)</span></span><span class='token' style='background-color: #ffb45a'>at<span class='feature_val'> (1.81)</span></span><span class='token' style='background-color: #ffffff'> Dud<span class='feature_val'> (0.00)</span></span><span class='token' style='background-color: #ffe6c9'> Mr<span class='feature_val'> (0.59)</span></span><span class='token' style='background-color: #fffaf4'> No<span class='feature_val'> (0.11)</span></span><span class='token' style='background-color: #fffefd'>Pl<span class='feature_val'> (0.02)</span></span><span class='token' style='background-color: #ffc783'>at<span class='feature_val'> (1.35)</span></span><span class='token' style='background-color: #ffffff'> Dud<span class='feature_val'> (0.00)</span></span><span class='token' style='background-color: #ffecd5'> Mr<span class='feature_val'> (0.46)</span></span><span class='token' style='background-color: #ffffff'> On<span class='feature_val'> (0.00)</span></span><span class='token' style='background-color: #fffaf5'>Pl<span class='feature_val'> (0.10)</span></span><span class='token' style='background-color: #ffc279'>at<span class='feature_val'> (1.46)</span></span><span class='token' style='background-color: #fff5e9'> Dun<span class='feature_val'> (0.24)</span></span><span class='token' style='background-color: #ffffff'> Do<span class='feature_val'> (0.00)</span></span><span class='token' style='background-color: #fff1e0'> Mr<span class='feature_val'> (0.33)</span></span><span class='token' style='background-color: #ffffff'>An<span class='feature_val'> (0.00)</span></span><span class='token' style='background-color: #ffffff'> Dud<span class='feature_val'> (0.00)</span></span><span class='token' style='background-color: #ffffff'> Plot<span class='feature_val'> (0.00)</span></span><span class='token' style='background-color: #ffffff'> Mr<span class='feature_val'> (0.00)</span></span><span class='token' style='background-color: #fffbf7'>Nap<span class='feature_val'> (0.08)</span></span><span class='token' style='background-color: #ffffff'> Dud<span class='feature_val'> (0.00)</span></span><span class='token' style='background-color: #ffffff'> Lot<span class='feature_val'> (0.00)</span></span><span class='token' style='background-color: #ffffff'> Mr<span class='feature_val'> (0.00)</span></span><span class='token' style='background-color: #ffffff'>Pan<span class='feature_val'> (0.00)</span></span><span class='token' style='background-color: #ffffff'> Dud<span class='feature_val'> (0.00)</span></span><span class='token' style='background-color: #ffffff'> Lot<span class='feature_val'> (0.00)</span></span><span class='token' style='background-color: #ffffff'> Mr<span class='feature_val'> (0.00)</span></span><span class='token' style='background-color: #ffffff'>P<span class='feature_val'> (0.00)</span></span><span class='token' style='background-color: #fefefe'>ant<span class='feature_val'> (0.00)</span></span><span class='token' style='background-color: #ffffff'> Dud<span class='feature_val'> (0.00)</span></span><span class='token' style='background-color: #ffffff'> Lo<span class='feature_val'> (0.00)</span></span><span class='token' style='background-color: #ffffff'> Mr<span class='feature_val'> (0.00)</span></span><span class='token' style='background-color: #fefdfa'>Tan<span class='feature_val'> (0.05)</span></span><span class='token' style='background-color: #ffffff'> Dud<span class='feature_val'> (0.00)</span></span><span class='token' style='background-color: #ffffff'> L<span class='feature_val'> (0.00)</span></span><span class='token' style='background-color: #fff9f2'>op<span class='feature_val'> (0.13)</span></span><span class='token' style='background-color: #ffffff'> Mr<span class='feature_val'> (0.00)</span></span><span class='token' style='background-color: #ffe1bc'>Tan<span class='feature_val'> (0.73)</span></span><span class='token' style='background-color: #fffaf5'> Dud<span class='feature_val'> (0.11)</span></span><span class='token' style='background-color: #ffffff'> Pol<span class='feature_val'> (0.00)</span></span><span class='token' style='background-color: #ffffff'> Mr<span class='feature_val'> (0.00)</span></span><span class='token' style='background-color: #ffffff'>Ant<span class='feature_val'> (0.00)</span></span>"
      ],
      "text/plain": [
       "<IPython.core.display.HTML object>"
      ]
     },
     "metadata": {},
     "output_type": "display_data"
    },
    {
     "data": {
      "text/html": [
       "\n",
       "    <style>\n",
       "        span.token {\n",
       "            font-family: monospace;\n",
       "            border-style: solid;\n",
       "            border-width: 1px;\n",
       "            border-color: #dddddd;\n",
       "        }\n",
       "    </style>\n",
       "    <span class='token' style='background-color: #ffffff'>&lt;|endoftext|&gt;<span class='feature_val'> (0.00)</span></span><span class='token' style='background-color: #ffffff'> R<span class='feature_val'> (0.00)</span></span><span class='token' style='background-color: #ffffff'>ump<span class='feature_val'> (0.00)</span></span><span class='token' style='background-color: #ffffff'>And<span class='feature_val'> (0.00)</span></span><span class='token' style='background-color: #ffffff'> D<span class='feature_val'> (0.00)</span></span><span class='token' style='background-color: #ffffff'>olt<span class='feature_val'> (0.00)</span></span><span class='token' style='background-color: #ffffff'> R<span class='feature_val'> (0.00)</span></span><span class='token' style='background-color: #ffffff'>ump<span class='feature_val'> (0.00)</span></span><span class='token' style='background-color: #fffdfb'>And<span class='feature_val'> (0.03)</span></span><span class='token' style='background-color: #ffffff'> Drum<span class='feature_val'> (0.00)</span></span><span class='token' style='background-color: #ffffff'> Plot<span class='feature_val'> (0.00)</span></span><span class='token' style='background-color: #ffffff'>And<span class='feature_val'> (0.00)</span></span><span class='token' style='background-color: #ffffff'> Tro<span class='feature_val'> (0.00)</span></span><span class='token' style='background-color: #fff9f1'>d<span class='feature_val'> (0.12)</span></span><span class='token' style='background-color: #ffffff'> Lump<span class='feature_val'> (0.00)</span></span><span class='token' style='background-color: #fff7ed'>And<span class='feature_val'> (0.16)</span></span><span class='token' style='background-color: #fff8f1'> Tro<span class='feature_val'> (0.13)</span></span><span class='token' style='background-color: #fff8f0'>d<span class='feature_val'> (0.13)</span></span><span class='token' style='background-color: #fff8ef'> Plum<span class='feature_val'> (0.14)</span></span><span class='token' style='background-color: #ffffff'>Rand<span class='feature_val'> (0.00)</span></span><span class='token' style='background-color: #ffffff'> Mold<span class='feature_val'> (0.00)</span></span><span class='token' style='background-color: #ffffff'> Put<span class='feature_val'> (0.00)</span></span><span class='token' style='background-color: #ffffff'>Rand<span class='feature_val'> (0.00)</span></span><span class='token' style='background-color: #ffffff'> T<span class='feature_val'> (0.00)</span></span><span class='token' style='background-color: #fff7ee'>old<span class='feature_val'> (0.15)</span></span><span class='token' style='background-color: #ffffff'> U<span class='feature_val'> (0.00)</span></span><span class='token' style='background-color: #ffffff'>mp<span class='feature_val'> (0.00)</span></span><span class='token' style='background-color: #ffffff'>Rand<span class='feature_val'> (0.00)</span></span><span class='token' style='background-color: #ffffff'> D<span class='feature_val'> (0.00)</span></span><span class='token' style='background-color: #ffffff'>olt<span class='feature_val'> (0.00)</span></span><span class='token' style='background-color: #ffffff'> U<span class='feature_val'> (0.00)</span></span><span class='token' style='background-color: #fefdfa'>mp<span class='feature_val'> (0.04)</span></span><span class='token' style='background-color: #ffffff'>Rand<span class='feature_val'> (0.00)</span></span><span class='token' style='background-color: #ffffff'> D<span class='feature_val'> (0.00)</span></span><span class='token' style='background-color: #ffffff'>ump<span class='feature_val'> (0.00)</span></span><span class='token' style='background-color: #fffbf6'> Lot<span class='feature_val'> (0.08)</span></span><span class='token' style='background-color: #ffffff'>Rand<span class='feature_val'> (0.00)</span></span><span class='token' style='background-color: #ffffff'> Mud<span class='feature_val'> (0.00)</span></span><span class='token' style='background-color: #fffaf4'> Plot<span class='feature_val'> (0.10)</span></span><span class='token' style='background-color: #fefaf4'>Rand<span class='feature_val'> (0.10)</span></span><span class='token' style='background-color: #fffcfa'> Dot<span class='feature_val'> (0.04)</span></span><span class='token' style='background-color: #fff1e1'> Lump<span class='feature_val'> (0.27)</span></span><span class='token' style='background-color: #ffdaad'>Rand<span class='feature_val'> (0.77)</span></span><span class='token' style='background-color: #ffdcb3'> Dot<span class='feature_val'> (0.71)</span></span><span class='token' style='background-color: #ffeedb'> Plum<span class='feature_val'> (0.34)</span></span><span class='token' style='background-color: #ffedd7'>D<span class='feature_val'> (0.37)</span></span><span class='token' style='background-color: #fff1e1'>arn<span class='feature_val'> (0.28)</span></span><span class='token' style='background-color: #ffffff'> Mold<span class='feature_val'> (0.00)</span></span><span class='token' style='background-color: #ffe0ba'> Put<span class='feature_val'> (0.64)</span></span><span class='token' style='background-color: #fff9f3'>D<span class='feature_val'> (0.11)</span></span><span class='token' style='background-color: #ffcf94'>arn<span class='feature_val'> (0.99)</span></span><span class='token' style='background-color: #fffcf9'> T<span class='feature_val'> (0.05)</span></span><span class='token' style='background-color: #ffe8cc'>old<span class='feature_val'> (0.47)</span></span><span class='token' style='background-color: #fff0de'> U<span class='feature_val'> (0.30)</span></span><span class='token' style='background-color: #ffc176'>mp<span class='feature_val'> (1.27)</span></span><span class='token' style='background-color: #ffe4c5'>D<span class='feature_val'> (0.54)</span></span><span class='token' style='background-color: #ffc682'>arn<span class='feature_val'> (1.16)</span></span><span class='token' style='background-color: #ffe2bf'> D<span class='feature_val'> (0.60)</span></span><span class='token' style='background-color: #ffd9ab'>olt<span class='feature_val'> (0.78)</span></span><span class='token' style='background-color: #ffcc8e'> U<span class='feature_val'> (1.05)</span></span><span class='token' style='background-color: #ffc47d'>mp<span class='feature_val'> (1.21)</span></span><span class='token' style='background-color: #ffd4a1'>D<span class='feature_val'> (0.88)</span></span><span class='token' style='background-color: #ffac48'>arn<span class='feature_val'> (1.71)</span></span><span class='token' style='background-color: #fed8a9'> D<span class='feature_val'> (0.80)</span></span><span class='token' style='background-color: #ffe0ba'>ump<span class='feature_val'> (0.64)</span></span><span class='token' style='background-color: #ffd5a2'> Lot<span class='feature_val'> (0.87)</span></span><span class='token' style='background-color: #ffe9cf'>D<span class='feature_val'> (0.45)</span></span><span class='token' style='background-color: #ffb04f'>arn<span class='feature_val'> (1.64)</span></span><span class='token' style='background-color: #ffb357'> Mud<span class='feature_val'> (1.57)</span></span><span class='token' style='background-color: #ffc177'> Plot<span class='feature_val'> (1.27)</span></span><span class='token' style='background-color: #ffe9ce'>D<span class='feature_val'> (0.46)</span></span><span class='token' style='background-color: #ffbd6d'>arn<span class='feature_val'> (1.36)</span></span><span class='token' style='background-color: #ffbc6c'> Dot<span class='feature_val'> (1.37)</span></span><span class='token' style='background-color: #ffbb69'> Lump<span class='feature_val'> (1.39)</span></span><span class='token' style='background-color: #ffdbaf'>D<span class='feature_val'> (0.75)</span></span><span class='token' style='background-color: #ff8c00'>arn<span class='feature_val'> (2.38)</span></span><span class='token' style='background-color: #ff9719'> Dot<span class='feature_val'> (2.15)</span></span><span class='token' style='background-color: #ffd5a2'> Plum<span class='feature_val'> (0.86)</span></span><span class='token' style='background-color: #ffd8a9'>D<span class='feature_val'> (0.80)</span></span><span class='token' style='background-color: #ffcf95'>aunt<span class='feature_val'> (0.99)</span></span><span class='token' style='background-color: #ffe8cc'> Pl<span class='feature_val'> (0.48)</span></span><span class='token' style='background-color: #ffd5a3'>od<span class='feature_val'> (0.85)</span></span><span class='token' style='background-color: #ffffff'> Mr<span class='feature_val'> (0.00)</span></span><span class='token' style='background-color: #ffffff'>Pad<span class='feature_val'> (0.00)</span></span><span class='token' style='background-color: #ffffff'> Mold<span class='feature_val'> (0.00)</span></span><span class='token' style='background-color: #fffbf6'> Turn<span class='feature_val'> (0.08)</span></span><span class='token' style='background-color: #ffffff'>Pad<span class='feature_val'> (0.00)</span></span><span class='token' style='background-color: #ffffff'> Mold<span class='feature_val'> (0.00)</span></span><span class='token' style='background-color: #fff3e5'> R<span class='feature_val'> (0.24)</span></span><span class='token' style='background-color: #ffddb4'>unt<span class='feature_val'> (0.70)</span></span><span class='token' style='background-color: #fff3e4'>Pad<span class='feature_val'> (0.24)</span></span><span class='token' style='background-color: #fff0de'> Unt<span class='feature_val'> (0.30)</span></span><span class='token' style='background-color: #ffead1'>old<span class='feature_val'> (0.42)</span></span><span class='token' style='background-color: #fffefd'> Mr<span class='feature_val'> (0.01)</span></span><span class='token' style='background-color: #fffefd'>Rad<span class='feature_val'> (0.01)</span></span><span class='token' style='background-color: #ffffff'> Mold<span class='feature_val'> (0.00)</span></span><span class='token' style='background-color: #ffffff'> P<span class='feature_val'> (0.00)</span></span><span class='token' style='background-color: #ffdeb7'>unt<span class='feature_val'> (0.67)</span></span><span class='token' style='background-color: #ffffff'>D<span class='feature_val'> (0.00)</span></span><span class='token' style='background-color: #ffeeda'>art<span class='feature_val'> (0.34)</span></span><span class='token' style='background-color: #fffaf4'> Mold<span class='feature_val'> (0.10)</span></span><span class='token' style='background-color: #fff5eb'> Pun<span class='feature_val'> (0.19)</span></span><span class='token' style='background-color: #ffffff'>D<span class='feature_val'> (0.00)</span></span><span class='token' style='background-color: #fff6eb'>art<span class='feature_val'> (0.18)</span></span><span class='token' style='background-color: #fefbf7'> N<span class='feature_val'> (0.07)</span></span><span class='token' style='background-color: #fff2e2'>od<span class='feature_val'> (0.27)</span></span><span class='token' style='background-color: #fffaf5'> Lump<span class='feature_val'> (0.09)</span></span><span class='token' style='background-color: #fff8ef'>D<span class='feature_val'> (0.14)</span></span><span class='token' style='background-color: #ffefdc'>art<span class='feature_val'> (0.33)</span></span><span class='token' style='background-color: #fef0de'> N<span class='feature_val'> (0.30)</span></span><span class='token' style='background-color: #ffc783'>od<span class='feature_val'> (1.15)</span></span><span class='token' style='background-color: #fff2e2'> Plum<span class='feature_val'> (0.26)</span></span><span class='token' style='background-color: #fef2e2'>D<span class='feature_val'> (0.27)</span></span><span class='token' style='background-color: #ffdeb7'>art<span class='feature_val'> (0.67)</span></span><span class='token' style='background-color: #fff6eb'> Don<span class='feature_val'> (0.18)</span></span><span class='token' style='background-color: #fff4e7'> Lump<span class='feature_val'> (0.22)</span></span><span class='token' style='background-color: #ffecd6'>D<span class='feature_val'> (0.37)</span></span><span class='token' style='background-color: #ffe4c3'>art<span class='feature_val'> (0.56)</span></span><span class='token' style='background-color: #ffd7a7'> Don<span class='feature_val'> (0.82)</span></span><span class='token' style='background-color: #ffe9ce'> Plum<span class='feature_val'> (0.45)</span></span><span class='token' style='background-color: #fff9f2'>Dr<span class='feature_val'> (0.12)</span></span><span class='token' style='background-color: #fff7ee'>at<span class='feature_val'> (0.15)</span></span><span class='token' style='background-color: #ffefdd'> Mold<span class='feature_val'> (0.32)</span></span><span class='token' style='background-color: #ffe1bd'> Pun<span class='feature_val'> (0.61)</span></span><span class='token' style='background-color: #ffffff'>Dr<span class='feature_val'> (0.00)</span></span><span class='token' style='background-color: #ffd7a6'>at<span class='feature_val'> (0.83)</span></span><span class='token' style='background-color: #ffecd5'> N<span class='feature_val'> (0.39)</span></span><span class='token' style='background-color: #ffcf95'>od<span class='feature_val'> (0.98)</span></span>"
      ],
      "text/plain": [
       "<IPython.core.display.HTML object>"
      ]
     },
     "metadata": {},
     "output_type": "display_data"
    },
    {
     "data": {
      "text/html": [
       "\n",
       "    <style>\n",
       "        span.token {\n",
       "            font-family: monospace;\n",
       "            border-style: solid;\n",
       "            border-width: 1px;\n",
       "            border-color: #dddddd;\n",
       "        }\n",
       "    </style>\n",
       "    <span class='token' style='background-color: #ffffff'>&lt;|endoftext|&gt;<span class='feature_val'> (0.00)</span></span><span class='token' style='background-color: #ffffff'>Stop<span class='feature_val'> (0.00)</span></span><span class='token' style='background-color: #ffffff'> everything<span class='feature_val'> (0.00)</span></span><span class='token' style='background-color: #ffffff'>:<span class='feature_val'> (0.00)</span></span><span class='token' style='background-color: #ffffff'> In<span class='feature_val'> (0.00)</span></span><span class='token' style='background-color: #ffffff'> a<span class='feature_val'> (0.00)</span></span><span class='token' style='background-color: #ffffff'> hot<span class='feature_val'> (0.00)</span></span><span class='token' style='background-color: #ffffff'>-<span class='feature_val'> (0.00)</span></span><span class='token' style='background-color: #ffffff'>off<span class='feature_val'> (0.00)</span></span><span class='token' style='background-color: #ffffff'>-<span class='feature_val'> (0.00)</span></span><span class='token' style='background-color: #ffffff'>the<span class='feature_val'> (0.00)</span></span><span class='token' style='background-color: #ffffff'>-<span class='feature_val'> (0.00)</span></span><span class='token' style='background-color: #ffffff'>press<span class='feature_val'> (0.00)</span></span><span class='token' style='background-color: #ffffff'> release<span class='feature_val'> (0.00)</span></span><span class='token' style='background-color: #ffffff'> this<span class='feature_val'> (0.00)</span></span><span class='token' style='background-color: #ffffff'> morning<span class='feature_val'> (0.00)</span></span><span class='token' style='background-color: #ffffff'>,<span class='feature_val'> (0.00)</span></span><span class='token' style='background-color: #ffffff'> Un<span class='feature_val'> (0.00)</span></span><span class='token' style='background-color: #ffffff'>iq<span class='feature_val'> (0.00)</span></span><span class='token' style='background-color: #ffffff'>lo<span class='feature_val'> (0.00)</span></span><span class='token' style='background-color: #ffffff'> has<span class='feature_val'> (0.00)</span></span><span class='token' style='background-color: #ffffff'> revealed<span class='feature_val'> (0.00)</span></span><span class='token' style='background-color: #ffffff'> the<span class='feature_val'> (0.00)</span></span><span class='token' style='background-color: #ffffff'> coordinates<span class='feature_val'> (0.00)</span></span><span class='token' style='background-color: #ffffff'> and<span class='feature_val'> (0.00)</span></span><span class='token' style='background-color: #ffffff'> opening<span class='feature_val'> (0.00)</span></span><span class='token' style='background-color: #ffffff'> dates<span class='feature_val'> (0.00)</span></span><span class='token' style='background-color: #ffffff'> of<span class='feature_val'> (0.00)</span></span><span class='token' style='background-color: #ffffff'> their<span class='feature_val'> (0.00)</span></span><span class='token' style='background-color: #ffffff'> five<span class='feature_val'> (0.00)</span></span><span class='token' style='background-color: #ffffff'> new<span class='feature_val'> (0.00)</span></span><span class='token' style='background-color: #ffffff'> So<span class='feature_val'> (0.00)</span></span><span class='token' style='background-color: #ffffff'>Cal<span class='feature_val'> (0.00)</span></span><span class='token' style='background-color: #ffffff'> stores<span class='feature_val'> (0.00)</span></span><span class='token' style='background-color: #ffffff'>.<span class='feature_val'> (0.00)</span></span><span class='token' style='background-color: #ffffff'> In<span class='feature_val'> (0.00)</span></span><span class='token' style='background-color: #ffffff'> addition<span class='feature_val'> (0.00)</span></span><span class='token' style='background-color: #ffffff'> to<span class='feature_val'> (0.00)</span></span><span class='token' style='background-color: #ffffff'> bringing<span class='feature_val'> (0.00)</span></span><span class='token' style='background-color: #ffffff'> affordable<span class='feature_val'> (0.00)</span></span><span class='token' style='background-color: #ffffff'> apparel<span class='feature_val'> (0.00)</span></span><span class='token' style='background-color: #ffffff'> to<span class='feature_val'> (0.00)</span></span><span class='token' style='background-color: #ffffff'> South<span class='feature_val'> (0.00)</span></span><span class='token' style='background-color: #ffffff'> Coast<span class='feature_val'> (0.00)</span></span><span class='token' style='background-color: #ffffff'> Plaza<span class='feature_val'> (0.00)</span></span><span class='token' style='background-color: #ffffff'> and<span class='feature_val'> (0.00)</span></span><span class='token' style='background-color: #ffffff'> Beverly<span class='feature_val'> (0.00)</span></span><span class='token' style='background-color: #ffffff'> Center<span class='feature_val'> (0.00)</span></span><span class='token' style='background-color: #ffffff'>,<span class='feature_val'> (0.00)</span></span><span class='token' style='background-color: #ffffff'> which<span class='feature_val'> (0.00)</span></span><span class='token' style='background-color: #ffffff'> we<span class='feature_val'> (0.00)</span></span><span class='token' style='background-color: #ffffff'> first<span class='feature_val'> (0.00)</span></span><span class='token' style='background-color: #ffffff'> broke<span class='feature_val'> (0.00)</span></span><span class='token' style='background-color: #ffffff'> back<span class='feature_val'> (0.00)</span></span><span class='token' style='background-color: #ffffff'> in<span class='feature_val'> (0.00)</span></span><span class='token' style='background-color: #ffffff'> February<span class='feature_val'> (0.00)</span></span><span class='token' style='background-color: #ffffff'>,<span class='feature_val'> (0.00)</span></span><span class='token' style='background-color: #ffffff'> the<span class='feature_val'> (0.00)</span></span><span class='token' style='background-color: #ffffff'> Japanese<span class='feature_val'> (0.00)</span></span><span class='token' style='background-color: #ffffff'> retailer<span class='feature_val'> (0.00)</span></span><span class='token' style='background-color: #ffffff'> is<span class='feature_val'> (0.00)</span></span><span class='token' style='background-color: #ffffff'> rolling<span class='feature_val'> (0.00)</span></span><span class='token' style='background-color: #ffffff'> out<span class='feature_val'> (0.00)</span></span><span class='token' style='background-color: #ffffff'> shops<span class='feature_val'> (0.00)</span></span><span class='token' style='background-color: #ffffff'> at<span class='feature_val'> (0.00)</span></span><span class='token' style='background-color: #ffffff'> the<span class='feature_val'> (0.00)</span></span><span class='token' style='background-color: #ffffff'> Gl<span class='feature_val'> (0.00)</span></span><span class='token' style='background-color: #ffffff'>endale<span class='feature_val'> (0.00)</span></span><span class='token' style='background-color: #ffffff'> Gall<span class='feature_val'> (0.00)</span></span><span class='token' style='background-color: #ffffff'>eria<span class='feature_val'> (0.00)</span></span><span class='token' style='background-color: #ffffff'>,<span class='feature_val'> (0.00)</span></span><span class='token' style='background-color: #ffffff'> North<span class='feature_val'> (0.00)</span></span><span class='token' style='background-color: #ffffff'>ridge<span class='feature_val'> (0.00)</span></span><span class='token' style='background-color: #ffffff'> Fashion<span class='feature_val'> (0.00)</span></span><span class='token' style='background-color: #ffffff'> Center<span class='feature_val'> (0.00)</span></span><span class='token' style='background-color: #ffffff'> and<span class='feature_val'> (0.00)</span></span><span class='token' style='background-color: #ffffff'> Los<span class='feature_val'> (0.00)</span></span><span class='token' style='background-color: #ffffff'> Cer<span class='feature_val'> (0.00)</span></span><span class='token' style='background-color: #ffffff'>rit<span class='feature_val'> (0.00)</span></span><span class='token' style='background-color: #ffffff'>os<span class='feature_val'> (0.00)</span></span><span class='token' style='background-color: #ffffff'> Mall<span class='feature_val'> (0.00)</span></span><span class='token' style='background-color: #ffffff'>.<span class='feature_val'> (0.00)</span></span><span class='token' style='background-color: #ffffff'>\n",
       "<span class='feature_val'> (0.00)</span></span><span class='token' style='background-color: #ffffff'>\n",
       "<span class='feature_val'> (0.00)</span></span><span class='token' style='background-color: #ffffff'>As<span class='feature_val'> (0.00)</span></span><span class='token' style='background-color: #ffffff'> far<span class='feature_val'> (0.00)</span></span><span class='token' style='background-color: #ffffff'> as<span class='feature_val'> (0.00)</span></span><span class='token' style='background-color: #ffffff'> opening<span class='feature_val'> (0.00)</span></span><span class='token' style='background-color: #ffffff'> dates<span class='feature_val'> (0.00)</span></span><span class='token' style='background-color: #ffffff'>,<span class='feature_val'> (0.00)</span></span><span class='token' style='background-color: #ffffff'> the<span class='feature_val'> (0.00)</span></span><span class='token' style='background-color: #ffffff'> brand<span class='feature_val'> (0.00)</span></span><span class='token' style='background-color: #fff9f1'> says<span class='feature_val'> (0.28)</span></span><span class='token' style='background-color: #ffffff'> South<span class='feature_val'> (0.00)</span></span><span class='token' style='background-color: #fffdfc'> Coast<span class='feature_val'> (0.06)</span></span><span class='token' style='background-color: #fffaf4'> Plaza<span class='feature_val'> (0.24)</span></span><span class='token' style='background-color: #fffcf8'> will<span class='feature_val'> (0.14)</span></span><span class='token' style='background-color: #fffefe'> open<span class='feature_val'> (0.01)</span></span><span class='token' style='background-color: #ffffff'> first<span class='feature_val'> (0.00)</span></span><span class='token' style='background-color: #ffffff'> (<span class='feature_val'> (0.00)</span></span><span class='token' style='background-color: #ffffff'>September<span class='feature_val'> (0.00)</span></span><span class='token' style='background-color: #ffffff'> 5<span class='feature_val'> (0.00)</span></span><span class='token' style='background-color: #ff9617'>),<span class='feature_val'> (5.02)</span></span><span class='token' style='background-color: #ffdaaf'> followed<span class='feature_val'> (1.73)</span></span><span class='token' style='background-color: #ff8d04'> by<span class='feature_val'> (5.43)</span></span><span class='token' style='background-color: #ffe1bd'> Gl<span class='feature_val'> (1.41)</span></span><span class='token' style='background-color: #ff8c00'>endale<span class='feature_val'> (5.52)</span></span><span class='token' style='background-color: #fff2e3'> Gall<span class='feature_val'> (0.59)</span></span><span class='token' style='background-color: #ffe3c3'>eria<span class='feature_val'> (1.30)</span></span><span class='token' style='background-color: #ffb459'> and<span class='feature_val'> (3.59)</span></span><span class='token' style='background-color: #fff0de'> North<span class='feature_val'> (0.70)</span></span><span class='token' style='background-color: #ffc47d'>ridge<span class='feature_val'> (2.81)</span></span><span class='token' style='background-color: #ffedd7'> Fashion<span class='feature_val'> (0.85)</span></span><span class='token' style='background-color: #fff3e5'> Center<span class='feature_val'> (0.56)</span></span><span class='token' style='background-color: #fffbf6'> (<span class='feature_val'> (0.18)</span></span><span class='token' style='background-color: #ffffff'>September<span class='feature_val'> (0.00)</span></span><span class='token' style='background-color: #ffffff'> 26<span class='feature_val'> (0.00)</span></span><span class='token' style='background-color: #ffab45'>),<span class='feature_val'> (4.02)</span></span><span class='token' style='background-color: #ffd29b'> Beverly<span class='feature_val'> (2.15)</span></span><span class='token' style='background-color: #ffe4c4'> Center<span class='feature_val'> (1.28)</span></span><span class='token' style='background-color: #ffffff'> (<span class='feature_val'> (0.00)</span></span><span class='token' style='background-color: #ffffff'>October<span class='feature_val'> (0.00)</span></span><span class='token' style='background-color: #ffffff'> 10<span class='feature_val'> (0.00)</span></span><span class='token' style='background-color: #ffb152'>),<span class='feature_val'> (3.73)</span></span><span class='token' style='background-color: #ffb65f'> and<span class='feature_val'> (3.46)</span></span><span class='token' style='background-color: #ffe3c1'> Los<span class='feature_val'> (1.34)</span></span><span class='token' style='background-color: #fff7ed'> Cer<span class='feature_val'> (0.37)</span></span><span class='token' style='background-color: #fff1e0'>rit<span class='feature_val'> (0.65)</span></span>"
      ],
      "text/plain": [
       "<IPython.core.display.HTML object>"
      ]
     },
     "metadata": {},
     "output_type": "display_data"
    },
    {
     "data": {
      "text/html": [
       "\n",
       "    <style>\n",
       "        span.token {\n",
       "            font-family: monospace;\n",
       "            border-style: solid;\n",
       "            border-width: 1px;\n",
       "            border-color: #dddddd;\n",
       "        }\n",
       "    </style>\n",
       "    <span class='token' style='background-color: #ffffff'>&lt;|endoftext|&gt;<span class='feature_val'> (0.00)</span></span><span class='token' style='background-color: #ffffff'>_<span class='feature_val'> (0.00)</span></span><span class='token' style='background-color: #ffffff'>0<span class='feature_val'> (0.00)</span></span><span class='token' style='background-color: #ffffff'> &amp;<span class='feature_val'> (0.00)</span></span><span class='token' style='background-color: #ffffff'> y<span class='feature_val'> (0.00)</span></span><span class='token' style='background-color: #ffffff'>_<span class='feature_val'> (0.00)</span></span><span class='token' style='background-color: #ffffff'>0<span class='feature_val'> (0.00)</span></span><span class='token' style='background-color: #ffffff'> &amp;<span class='feature_val'> (0.00)</span></span><span class='token' style='background-color: #ffffff'> 1<span class='feature_val'> (0.00)</span></span><span class='token' style='background-color: #ffffff'> &amp;<span class='feature_val'> (0.00)</span></span><span class='token' style='background-color: #ffffff'> 0<span class='feature_val'> (0.00)</span></span><span class='token' style='background-color: #ffffff'> &amp;<span class='feature_val'> (0.00)</span></span><span class='token' style='background-color: #ffffff'> 0<span class='feature_val'> (0.00)</span></span><span class='token' style='background-color: #ffffff'> &amp;<span class='feature_val'> (0.00)</span></span><span class='token' style='background-color: #ffffff'> 0<span class='feature_val'> (0.00)</span></span><span class='token' style='background-color: #ffffff'> &amp;<span class='feature_val'> (0.00)</span></span><span class='token' style='background-color: #ffffff'> -<span class='feature_val'> (0.00)</span></span><span class='token' style='background-color: #ffffff'>u<span class='feature_val'> (0.00)</span></span><span class='token' style='background-color: #ffffff'>_<span class='feature_val'> (0.00)</span></span><span class='token' style='background-color: #ffffff'>0<span class='feature_val'> (0.00)</span></span><span class='token' style='background-color: #ffffff'> x<span class='feature_val'> (0.00)</span></span><span class='token' style='background-color: #ffcc8f'>_<span class='feature_val'> (1.34)</span></span><span class='token' style='background-color: #ffffff'>0<span class='feature_val'> (0.00)</span></span><span class='token' style='background-color: #ffffff'> &amp;<span class='feature_val'> (0.00)</span></span><span class='token' style='background-color: #ffffff'> -<span class='feature_val'> (0.00)</span></span><span class='token' style='background-color: #fffefd'>u<span class='feature_val'> (0.01)</span></span><span class='token' style='background-color: #ffa538'>_<span class='feature_val'> (2.40)</span></span><span class='token' style='background-color: #ffffff'>0<span class='feature_val'> (0.00)</span></span><span class='token' style='background-color: #ffffff'> y<span class='feature_val'> (0.00)</span></span><span class='token' style='background-color: #ffd19a'>_<span class='feature_val'> (1.22)</span></span><span class='token' style='background-color: #ffffff'>0<span class='feature_val'> (0.00)</span></span><span class='token' style='background-color: #ffffff'> \\\\<span class='feature_val'> (0.00)</span></span><span class='token' style='background-color: #ffffff'>\n",
       "<span class='feature_val'> (0.00)</span></span><span class='token' style='background-color: #ffffff'>\n",
       "<span class='feature_val'> (0.00)</span></span><span class='token' style='background-color: #ffffff'>0<span class='feature_val'> (0.00)</span></span><span class='token' style='background-color: #ffffff'> &amp;<span class='feature_val'> (0.00)</span></span><span class='token' style='background-color: #ffffff'> 0<span class='feature_val'> (0.00)</span></span><span class='token' style='background-color: #fefefd'> &amp;<span class='feature_val'> (0.02)</span></span><span class='token' style='background-color: #ffffff'> 0<span class='feature_val'> (0.00)</span></span><span class='token' style='background-color: #fffdfc'> &amp;<span class='feature_val'> (0.04)</span></span><span class='token' style='background-color: #ffffff'> x<span class='feature_val'> (0.00)</span></span><span class='token' style='background-color: #ffb358'>_<span class='feature_val'> (2.01)</span></span><span class='token' style='background-color: #fffcf9'>0<span class='feature_val'> (0.07)</span></span><span class='token' style='background-color: #ffd6a4'> &amp;<span class='feature_val'> (1.09)</span></span><span class='token' style='background-color: #ffd4a1'> y<span class='feature_val'> (1.13)</span></span><span class='token' style='background-color: #ff8c00'>_<span class='feature_val'> (3.08)</span></span><span class='token' style='background-color: #ffffff'>0<span class='feature_val'> (0.00)</span></span><span class='token' style='background-color: #ffe6c9'> &amp;<span class='feature_val'> (0.65)</span></span><span class='token' style='background-color: #ffffff'> 1<span class='feature_val'> (0.00)</span></span><span class='token' style='background-color: #ffebd3'> &amp;<span class='feature_val'> (0.52)</span></span><span class='token' style='background-color: #ffffff'> -<span class='feature_val'> (0.00)</span></span><span class='token' style='background-color: #ffffff'>v<span class='feature_val'> (0.00)</span></span><span class='token' style='background-color: #ffddb4'>_<span class='feature_val'> (0.90)</span></span><span class='token' style='background-color: #ffffff'>0<span class='feature_val'> (0.00)</span></span><span class='token' style='background-color: #ffffff'> x<span class='feature_val'> (0.00)</span></span><span class='token' style='background-color: #ffb760'>_<span class='feature_val'> (1.91)</span></span><span class='token' style='background-color: #ffffff'>0<span class='feature_val'> (0.00)</span></span><span class='token' style='background-color: #ffffff'> &amp;<span class='feature_val'> (0.00)</span></span><span class='token' style='background-color: #ffffff'> -<span class='feature_val'> (0.00)</span></span><span class='token' style='background-color: #ffffff'>v<span class='feature_val'> (0.00)</span></span><span class='token' style='background-color: #fff6eb'>_<span class='feature_val'> (0.24)</span></span><span class='token' style='background-color: #ffeedb'>0<span class='feature_val'> (0.43)</span></span><span class='token' style='background-color: #fffbf6'> y<span class='feature_val'> (0.10)</span></span><span class='token' style='background-color: #ffbd6c'>_<span class='feature_val'> (1.76)</span></span><span class='token' style='background-color: #ffffff'>0<span class='feature_val'> (0.00)</span></span><span class='token' style='background-color: #ffffff'> \\\\<span class='feature_val'> (0.00)</span></span><span class='token' style='background-color: #ffffff'>\n",
       "<span class='feature_val'> (0.00)</span></span><span class='token' style='background-color: #fffefd'>\n",
       "<span class='feature_val'> (0.02)</span></span><span class='token' style='background-color: #fffdfc'>x<span class='feature_val'> (0.03)</span></span><span class='token' style='background-color: #ffc278'>_<span class='feature_val'> (1.63)</span></span><span class='token' style='background-color: #fffaf6'>1<span class='feature_val'> (0.11)</span></span><span class='token' style='background-color: #ffe4c3'> &amp;<span class='feature_val'> (0.72)</span></span><span class='token' style='background-color: #ffedd9'> y<span class='feature_val'> (0.46)</span></span><span class='token' style='background-color: #ffc885'>_<span class='feature_val'> (1.47)</span></span><span class='token' style='background-color: #ffffff'>1<span class='feature_val'> (0.00)</span></span><span class='token' style='background-color: #ffe2c0'> &amp;<span class='feature_val'> (0.76)</span></span><span class='token' style='background-color: #ffffff'> 1<span class='feature_val'> (0.00)</span></span><span class='token' style='background-color: #fefaf4'> &amp;<span class='feature_val'> (0.12)</span></span><span class='token' style='background-color: #fffcfa'> 0<span class='feature_val'> (0.06)</span></span><span class='token' style='background-color: #ffe5c5'> &amp;<span class='feature_val'> (0.69)</span></span><span class='token' style='background-color: #ffffff'> 0<span class='feature_val'> (0.00)</span></span><span class='token' style='background-color: #ffecd6'> &amp;<span class='feature_val'> (0.49)</span></span><span class='token' style='background-color: #ffffff'> 0<span class='feature_val'> (0.00)</span></span><span class='token' style='background-color: #fffcf9'> &amp;<span class='feature_val'> (0.07)</span></span><span class='token' style='background-color: #ffffff'> -<span class='feature_val'> (0.00)</span></span><span class='token' style='background-color: #ffffff'>u<span class='feature_val'> (0.00)</span></span><span class='token' style='background-color: #ffe2be'>_<span class='feature_val'> (0.77)</span></span><span class='token' style='background-color: #ffffff'>1<span class='feature_val'> (0.00)</span></span><span class='token' style='background-color: #ffffff'> x<span class='feature_val'> (0.00)</span></span><span class='token' style='background-color: #ffb254'>_<span class='feature_val'> (2.05)</span></span><span class='token' style='background-color: #ffffff'>1<span class='feature_val'> (0.00)</span></span><span class='token' style='background-color: #fffcf9'> &amp;<span class='feature_val'> (0.07)</span></span><span class='token' style='background-color: #ffffff'> -<span class='feature_val'> (0.00)</span></span><span class='token' style='background-color: #ffffff'>u<span class='feature_val'> (0.00)</span></span><span class='token' style='background-color: #fff9f3'>_<span class='feature_val'> (0.14)</span></span><span class='token' style='background-color: #fffdfb'>1<span class='feature_val'> (0.04)</span></span><span class='token' style='background-color: #fff0de'> y<span class='feature_val'> (0.40)</span></span><span class='token' style='background-color: #ffbb69'>_<span class='feature_val'> (1.80)</span></span><span class='token' style='background-color: #ffffff'>1<span class='feature_val'> (0.00)</span></span><span class='token' style='background-color: #ffffff'> \\\\<span class='feature_val'> (0.00)</span></span><span class='token' style='background-color: #ffffff'>\n",
       "<span class='feature_val'> (0.00)</span></span><span class='token' style='background-color: #ffe9cf'>\n",
       "<span class='feature_val'> (0.57)</span></span><span class='token' style='background-color: #fff9f2'>0<span class='feature_val'> (0.15)</span></span><span class='token' style='background-color: #fff4e6'> &amp;<span class='feature_val'> (0.29)</span></span><span class='token' style='background-color: #ffffff'> 0<span class='feature_val'> (0.00)</span></span><span class='token' style='background-color: #fff6ec'> &amp;<span class='feature_val'> (0.22)</span></span><span class='token' style='background-color: #ffffff'> 0<span class='feature_val'> (0.00)</span></span><span class='token' style='background-color: #fff4e7'> &amp;<span class='feature_val'> (0.28)</span></span><span class='token' style='background-color: #fff3e4'> x<span class='feature_val'> (0.31)</span></span><span class='token' style='background-color: #ffb254'>_<span class='feature_val'> (2.06)</span></span><span class='token' style='background-color: #ffffff'>1<span class='feature_val'> (0.00)</span></span><span class='token' style='background-color: #ffedd7'> &amp;<span class='feature_val'> (0.48)</span></span><span class='token' style='background-color: #ffeeda'> y<span class='feature_val'> (0.43)</span></span><span class='token' style='background-color: #ffc278'>_<span class='feature_val'> (1.62)</span></span><span class='token' style='background-color: #ffffff'>1<span class='feature_val'> (0.00)</span></span><span class='token' style='background-color: #fefdfa'> &amp;<span class='feature_val'> (0.05)</span></span><span class='token' style='background-color: #ffffff'> 1<span class='feature_val'> (0.00)</span></span><span class='token' style='background-color: #fffefe'> &amp;<span class='feature_val'> (0.01)</span></span><span class='token' style='background-color: #ffffff'> -<span class='feature_val'> (0.00)</span></span><span class='token' style='background-color: #fffcfa'>v<span class='feature_val'> (0.06)</span></span><span class='token' style='background-color: #ffe1bd'>_<span class='feature_val'> (0.79)</span></span><span class='token' style='background-color: #ffffff'>1<span class='feature_val'> (0.00)</span></span><span class='token' style='background-color: #ffffff'> x<span class='feature_val'> (0.00)</span></span><span class='token' style='background-color: #ffcc8e'>_<span class='feature_val'> (1.35)</span></span><span class='token' style='background-color: #ffffff'>1<span class='feature_val'> (0.00)</span></span><span class='token' style='background-color: #ffffff'> &amp;<span class='feature_val'> (0.00)</span></span><span class='token' style='background-color: #ffffff'> -<span class='feature_val'> (0.00)</span></span><span class='token' style='background-color: #ffffff'>v<span class='feature_val'> (0.00)</span></span>"
      ],
      "text/plain": [
       "<IPython.core.display.HTML object>"
      ]
     },
     "metadata": {},
     "output_type": "display_data"
    },
    {
     "data": {
      "text/html": [
       "\n",
       "    <style>\n",
       "        span.token {\n",
       "            font-family: monospace;\n",
       "            border-style: solid;\n",
       "            border-width: 1px;\n",
       "            border-color: #dddddd;\n",
       "        }\n",
       "    </style>\n",
       "    <span class='token' style='background-color: #ffffff'>&lt;|endoftext|&gt;<span class='feature_val'> (0.00)</span></span><span class='token' style='background-color: #ffffff'>_<span class='feature_val'> (0.00)</span></span><span class='token' style='background-color: #ffffff'>6<span class='feature_val'> (0.00)</span></span><span class='token' style='background-color: #ffffff'> -<span class='feature_val'> (0.00)</span></span><span class='token' style='background-color: #ffffff'> v<span class='feature_val'> (0.00)</span></span><span class='token' style='background-color: #ffffff'>_<span class='feature_val'> (0.00)</span></span><span class='token' style='background-color: #ffffff'>i<span class='feature_val'> (0.00)</span></span><span class='token' style='background-color: #ffffff'> y<span class='feature_val'> (0.00)</span></span><span class='token' style='background-color: #ffffff'>_<span class='feature_val'> (0.00)</span></span><span class='token' style='background-color: #ffffff'>i<span class='feature_val'> (0.00)</span></span><span class='token' style='background-color: #ffffff'> h<span class='feature_val'> (0.00)</span></span><span class='token' style='background-color: #ffffff'>_<span class='feature_val'> (0.00)</span></span><span class='token' style='background-color: #ffffff'>7<span class='feature_val'> (0.00)</span></span><span class='token' style='background-color: #ffffff'> =<span class='feature_val'> (0.00)</span></span><span class='token' style='background-color: #ffffff'> v<span class='feature_val'> (0.00)</span></span><span class='token' style='background-color: #ffffff'>_<span class='feature_val'> (0.00)</span></span><span class='token' style='background-color: #ffffff'>i<span class='feature_val'> (0.00)</span></span><span class='token' style='background-color: #ffffff'> \\\\<span class='feature_val'> (0.00)</span></span><span class='token' style='background-color: #ffffff'>\n",
       "<span class='feature_val'> (0.00)</span></span><span class='token' style='background-color: #ffffff'>\n",
       "<span class='feature_val'> (0.00)</span></span><span class='token' style='background-color: #ffffff'>\\<span class='feature_val'> (0.00)</span></span><span class='token' style='background-color: #ffffff'>end<span class='feature_val'> (0.00)</span></span><span class='token' style='background-color: #ffffff'>{<span class='feature_val'> (0.00)</span></span><span class='token' style='background-color: #ffffff'>array<span class='feature_val'> (0.00)</span></span><span class='token' style='background-color: #ffffff'>}<span class='feature_val'> (0.00)</span></span><span class='token' style='background-color: #ffffff'>\n",
       "<span class='feature_val'> (0.00)</span></span><span class='token' style='background-color: #ffffff'>\n",
       "<span class='feature_val'> (0.00)</span></span><span class='token' style='background-color: #ffffff'>$$<span class='feature_val'> (0.00)</span></span><span class='token' style='background-color: #ffffff'>\n",
       "<span class='feature_val'> (0.00)</span></span><span class='token' style='background-color: #ffffff'>\n",
       "<span class='feature_val'> (0.00)</span></span><span class='token' style='background-color: #ffffff'>Which<span class='feature_val'> (0.00)</span></span><span class='token' style='background-color: #ffffff'> in<span class='feature_val'> (0.00)</span></span><span class='token' style='background-color: #ffffff'> matrix<span class='feature_val'> (0.00)</span></span><span class='token' style='background-color: #ffffff'> notation<span class='feature_val'> (0.00)</span></span><span class='token' style='background-color: #ffffff'> is<span class='feature_val'> (0.00)</span></span><span class='token' style='background-color: #ffffff'>:<span class='feature_val'> (0.00)</span></span><span class='token' style='background-color: #ffffff'>\n",
       "<span class='feature_val'> (0.00)</span></span><span class='token' style='background-color: #ffffff'>\n",
       "<span class='feature_val'> (0.00)</span></span><span class='token' style='background-color: #ffffff'>$$<span class='feature_val'> (0.00)</span></span><span class='token' style='background-color: #ffffff'>\n",
       "<span class='feature_val'> (0.00)</span></span><span class='token' style='background-color: #ffffff'>\n",
       "<span class='feature_val'> (0.00)</span></span><span class='token' style='background-color: #ffffff'>\\<span class='feature_val'> (0.00)</span></span><span class='token' style='background-color: #ffffff'>begin<span class='feature_val'> (0.00)</span></span><span class='token' style='background-color: #ffffff'>{<span class='feature_val'> (0.00)</span></span><span class='token' style='background-color: #ffffff'>pm<span class='feature_val'> (0.00)</span></span><span class='token' style='background-color: #ffffff'>at<span class='feature_val'> (0.00)</span></span><span class='token' style='background-color: #ffffff'>rix<span class='feature_val'> (0.00)</span></span><span class='token' style='background-color: #ffffff'>}<span class='feature_val'> (0.00)</span></span><span class='token' style='background-color: #ffffff'>\n",
       "<span class='feature_val'> (0.00)</span></span><span class='token' style='background-color: #ffffff'>\n",
       "<span class='feature_val'> (0.00)</span></span><span class='token' style='background-color: #ffffff'>x<span class='feature_val'> (0.00)</span></span><span class='token' style='background-color: #ffffff'>_<span class='feature_val'> (0.00)</span></span><span class='token' style='background-color: #ffffff'>i<span class='feature_val'> (0.00)</span></span><span class='token' style='background-color: #ffffff'> &amp;<span class='feature_val'> (0.00)</span></span><span class='token' style='background-color: #ffffff'> y<span class='feature_val'> (0.00)</span></span><span class='token' style='background-color: #fff9f2'>_<span class='feature_val'> (0.15)</span></span><span class='token' style='background-color: #ffffff'>i<span class='feature_val'> (0.00)</span></span><span class='token' style='background-color: #fee8cc'> &amp;<span class='feature_val'> (0.63)</span></span><span class='token' style='background-color: #ffffff'> 1<span class='feature_val'> (0.00)</span></span><span class='token' style='background-color: #fffefd'> &amp;<span class='feature_val'> (0.02)</span></span><span class='token' style='background-color: #ffffff'> 0<span class='feature_val'> (0.00)</span></span><span class='token' style='background-color: #ffffff'> &amp;<span class='feature_val'> (0.00)</span></span><span class='token' style='background-color: #ffffff'> 0<span class='feature_val'> (0.00)</span></span><span class='token' style='background-color: #ffffff'> &amp;<span class='feature_val'> (0.00)</span></span><span class='token' style='background-color: #ffffff'> 0<span class='feature_val'> (0.00)</span></span><span class='token' style='background-color: #ffffff'> &amp;<span class='feature_val'> (0.00)</span></span><span class='token' style='background-color: #ffffff'> -<span class='feature_val'> (0.00)</span></span><span class='token' style='background-color: #ffffff'>u<span class='feature_val'> (0.00)</span></span><span class='token' style='background-color: #ffffff'>_<span class='feature_val'> (0.00)</span></span><span class='token' style='background-color: #ffffff'>i<span class='feature_val'> (0.00)</span></span><span class='token' style='background-color: #ffffff'> x<span class='feature_val'> (0.00)</span></span><span class='token' style='background-color: #ffdcb3'>_<span class='feature_val'> (0.93)</span></span><span class='token' style='background-color: #ffb65f'>i<span class='feature_val'> (1.96)</span></span><span class='token' style='background-color: #ffc177'> &amp;<span class='feature_val'> (1.67)</span></span><span class='token' style='background-color: #ffdbb0'> -<span class='feature_val'> (0.96)</span></span><span class='token' style='background-color: #ffd8aa'>u<span class='feature_val'> (1.04)</span></span><span class='token' style='background-color: #ffb051'>_<span class='feature_val'> (2.13)</span></span><span class='token' style='background-color: #ffb862'>i<span class='feature_val'> (1.92)</span></span><span class='token' style='background-color: #ffffff'> y<span class='feature_val'> (0.00)</span></span><span class='token' style='background-color: #ffcd91'>_<span class='feature_val'> (1.34)</span></span><span class='token' style='background-color: #ffead1'>i<span class='feature_val'> (0.56)</span></span><span class='token' style='background-color: #ffffff'> \\\\<span class='feature_val'> (0.00)</span></span><span class='token' style='background-color: #ffffff'>\n",
       "<span class='feature_val'> (0.00)</span></span><span class='token' style='background-color: #ffffff'>\n",
       "<span class='feature_val'> (0.00)</span></span><span class='token' style='background-color: #fffbf6'>0<span class='feature_val'> (0.10)</span></span><span class='token' style='background-color: #fffcf9'> &amp;<span class='feature_val'> (0.06)</span></span><span class='token' style='background-color: #ffffff'> 0<span class='feature_val'> (0.00)</span></span><span class='token' style='background-color: #ffe4c5'> &amp;<span class='feature_val'> (0.71)</span></span><span class='token' style='background-color: #ffffff'> 0<span class='feature_val'> (0.00)</span></span><span class='token' style='background-color: #fff1e0'> &amp;<span class='feature_val'> (0.38)</span></span><span class='token' style='background-color: #fff6eb'> x<span class='feature_val'> (0.24)</span></span><span class='token' style='background-color: #ffbb69'>_<span class='feature_val'> (1.84)</span></span><span class='token' style='background-color: #ffd6a5'>i<span class='feature_val'> (1.10)</span></span><span class='token' style='background-color: #ffcc8f'> &amp;<span class='feature_val'> (1.37)</span></span><span class='token' style='background-color: #ffd7a8'> y<span class='feature_val'> (1.06)</span></span><span class='token' style='background-color: #ff8c00'>_<span class='feature_val'> (3.13)</span></span><span class='token' style='background-color: #ffdeb7'>i<span class='feature_val'> (0.88)</span></span><span class='token' style='background-color: #fecf94'> &amp;<span class='feature_val'> (1.30)</span></span><span class='token' style='background-color: #ffecd6'> 1<span class='feature_val'> (0.49)</span></span><span class='token' style='background-color: #ffdaae'> &amp;<span class='feature_val'> (0.99)</span></span><span class='token' style='background-color: #fff1e1'> -<span class='feature_val'> (0.36)</span></span><span class='token' style='background-color: #ffffff'>v<span class='feature_val'> (0.00)</span></span><span class='token' style='background-color: #ffd39e'>_<span class='feature_val'> (1.19)</span></span><span class='token' style='background-color: #ffe8cc'>i<span class='feature_val'> (0.62)</span></span><span class='token' style='background-color: #fefaf3'> x<span class='feature_val'> (0.14)</span></span><span class='token' style='background-color: #ffaa42'>_<span class='feature_val'> (2.31)</span></span><span class='token' style='background-color: #ffe4c3'>i<span class='feature_val'> (0.73)</span></span><span class='token' style='background-color: #fff2e2'> &amp;<span class='feature_val'> (0.35)</span></span><span class='token' style='background-color: #ffffff'> -<span class='feature_val'> (0.00)</span></span><span class='token' style='background-color: #ffffff'>v<span class='feature_val'> (0.00)</span></span><span class='token' style='background-color: #ffebd3'>_<span class='feature_val'> (0.54)</span></span><span class='token' style='background-color: #ffddb4'>i<span class='feature_val'> (0.92)</span></span><span class='token' style='background-color: #ffffff'> y<span class='feature_val'> (0.00)</span></span><span class='token' style='background-color: #ffb256'>_<span class='feature_val'> (2.07)</span></span><span class='token' style='background-color: #fee2be'>i<span class='feature_val'> (0.79)</span></span><span class='token' style='background-color: #ffffff'> \\\\<span class='feature_val'> (0.00)</span></span><span class='token' style='background-color: #fffefe'>\n",
       "<span class='feature_val'> (0.00)</span></span><span class='token' style='background-color: #ffffff'>\n",
       "<span class='feature_val'> (0.00)</span></span><span class='token' style='background-color: #ffffff'>\\<span class='feature_val'> (0.00)</span></span><span class='token' style='background-color: #ffffff'>end<span class='feature_val'> (0.00)</span></span><span class='token' style='background-color: #ffffff'>{<span class='feature_val'> (0.00)</span></span><span class='token' style='background-color: #ffffff'>pm<span class='feature_val'> (0.00)</span></span><span class='token' style='background-color: #ffffff'>at<span class='feature_val'> (0.00)</span></span><span class='token' style='background-color: #ffffff'>rix<span class='feature_val'> (0.00)</span></span><span class='token' style='background-color: #ffffff'>}<span class='feature_val'> (0.00)</span></span><span class='token' style='background-color: #ffffff'>\n",
       "<span class='feature_val'> (0.00)</span></span><span class='token' style='background-color: #ffffff'>\n",
       "<span class='feature_val'> (0.00)</span></span><span class='token' style='background-color: #ffffff'>\\<span class='feature_val'> (0.00)</span></span>"
      ],
      "text/plain": [
       "<IPython.core.display.HTML object>"
      ]
     },
     "metadata": {},
     "output_type": "display_data"
    },
    {
     "name": "stdout",
     "output_type": "stream",
     "text": [
      "(Part 1)\n",
      "Step 1.\n",
      "ACTIVATING TOKENS: \"Pal\", \"Dud\", \"Mr\", \"Ton\", \"Al\", \"p\", \"Darn\", \"Mold\", \"Dot\", \"Plum\", \"Put\", \"Dart\", \"Pl\", \"Rad\", \"Mud\", \"Plot\", \"L\", \"op\", \"Tan\"\n",
      "PREVIOUS TOKENS: \"Mr\", \"&\", \"D\", \"u\", \"Nut\", \"the\", \"v\", \"Pl\", \"Art\"\n",
      "\n",
      "Step 2.\n",
      "The activating tokens appear to be fragments or short abbreviations of words in a sentence or mathematical notation. These activated tokens often follow names or titles. The previous tokens are often names (e.g., \"Mr\") or letters associated with mathematical notation or abbreviation. These activating strings of tokens appear to be part of a larger pattern (e.g., chains of tokens together form a more meaningful phrase or concept).\n",
      "\n",
      "Step 3.\n",
      "- The examples contain names, acronyms, or abbreviations.\n",
      "- The activating tokens often appear part of a larger whole, forming a meaningful concept when strung together. \n",
      "- Some examples involve mathematical or programming notation.\n",
      "\n",
      "(Part 2)\n",
      "Step 4.\n",
      "SIMILAR TOKENS: \"hots\", \"legate\", \"hower\", \"umn\", \"ividual\", \" confir\", \"television\", \"rers\", \"utch\", \"pool\".\n",
      "The top logits list contains fragments that seem to form parts of longer, recognizable English words.\n",
      "\n",
      "Step 5.\n",
      "[EXPLANATION]: Fragments or abbreviations of words, often paired with names or forming part of mathematical notation or a larger wholistic sense.\n"
     ]
    }
   ],
   "source": [
    "top_tokens, top_logits = get_top_k_tokens(model, sae, features, k=10, act_strength=5)\n",
    "\n",
    "pretty_print_tokens_logits(top_tokens, top_logits)\n",
    "\n",
    "\n",
    "examples_html, examples_clean_text = display_top_k_activating_examples_sum(model, feature_scores, owt_tokens, [0, 1], k=5, show_score=True)\n",
    "\n",
    "feature_interpretation = get_response(llm_client, examples_clean_text, top_tokens)\n",
    "print(feature_interpretation)"
   ]
  },
  {
   "cell_type": "markdown",
   "metadata": {},
   "source": [
    "Then, you can just pass it off to GPT-4 to interpret what's going on. Note that I haven't got access to `GPT-4o` with my credits yet, so this will have to wait a few days."
   ]
  },
  {
   "cell_type": "code",
   "execution_count": 38,
   "metadata": {},
   "outputs": [],
   "source": [
    "feature_interpretation = get_response(llm_client, examples_clean_text, top_tokens)"
   ]
  },
  {
   "cell_type": "code",
   "execution_count": 40,
   "metadata": {},
   "outputs": [
    {
     "name": "stdout",
     "output_type": "stream",
     "text": [
      "(Part 1)\n",
      "Step 1.\n",
      "ACTIVATING TOKENS: \"in the county\", \"days\", \"asia\", \"half, and\", \"ial,\", \"Byndom\", \"ia,\", \"plate\", \"to\", \"resett\".\n",
      "PREVIOUS TOKENS: \"evacuated in\", \"-\", \"un\", \"par\", \"cliq\", \"Carr\", \"Pers\", \"name\", \"res\", \"charact\".\n",
      "\n",
      "Step 2.\n",
      "The activating tokens are a mixture of prepositions, conjunctions, parts of words, days of the week and multipart words. \n",
      "The previous tokens have nothing in common.\n",
      "\n",
      "Step 3.\n",
      "- Many activating tokens are parts of words or phrases.\n",
      "- The texts geographically widespread places.\n",
      "\n",
      "(Part 2)\n",
      "Step 4.\n",
      "SIMILAR TOKENS: \"arth\", \"rers\", \"rovers\", \"rer\".\n",
      "These tokens seem to be part of words, particularly endings part of nouns, adjectives or even verbs. \n",
      "\n",
      "Step 5:\n",
      "[EXPLANATION]: Parts of words, notably the endings of nouns, verbs, or adjectives.\n"
     ]
    }
   ],
   "source": [
    "print(feature_interpretation)"
   ]
  },
  {
   "cell_type": "markdown",
   "metadata": {},
   "source": [
    "Finally, we can pass in multiple features at once to see the max activating examples for features together."
   ]
  },
  {
   "cell_type": "code",
   "execution_count": 44,
   "metadata": {},
   "outputs": [
    {
     "data": {
      "text/html": [
       "\n",
       "    <style>\n",
       "        span.token {\n",
       "            font-family: monospace;\n",
       "            border-style: solid;\n",
       "            border-width: 1px;\n",
       "            border-color: #dddddd;\n",
       "        }\n",
       "    </style>\n",
       "    <span class='token' style='background-color: #ffffff'>&lt;|endoftext|&gt;<span class='feature_val'> (0.00)</span></span><span class='token' style='background-color: #ffffff'> Mr<span class='feature_val'> (0.00)</span></span><span class='token' style='background-color: #ffffff'>La<span class='feature_val'> (0.00)</span></span><span class='token' style='background-color: #ffffff'> Odd<span class='feature_val'> (0.00)</span></span><span class='token' style='background-color: #ffffff'> Mr<span class='feature_val'> (0.00)</span></span><span class='token' style='background-color: #ffffff'> P<span class='feature_val'> (0.00)</span></span><span class='token' style='background-color: #ffffff'>unt<span class='feature_val'> (0.00)</span></span><span class='token' style='background-color: #ffffff'>Plan<span class='feature_val'> (0.00)</span></span><span class='token' style='background-color: #ffffff'> Dud<span class='feature_val'> (0.00)</span></span><span class='token' style='background-color: #ffffff'> Mr<span class='feature_val'> (0.00)</span></span><span class='token' style='background-color: #ffffff'> To<span class='feature_val'> (0.00)</span></span><span class='token' style='background-color: #ffffff'>Pal<span class='feature_val'> (0.00)</span></span><span class='token' style='background-color: #ffffff'> Odd<span class='feature_val'> (0.00)</span></span><span class='token' style='background-color: #ffffff'> Mr<span class='feature_val'> (0.00)</span></span><span class='token' style='background-color: #ffffff'> Tun<span class='feature_val'> (0.00)</span></span><span class='token' style='background-color: #ffffff'>Pal<span class='feature_val'> (0.00)</span></span><span class='token' style='background-color: #ffffff'> Odd<span class='feature_val'> (0.00)</span></span><span class='token' style='background-color: #ffffff'> Mr<span class='feature_val'> (0.00)</span></span><span class='token' style='background-color: #ffffff'> Nut<span class='feature_val'> (0.00)</span></span><span class='token' style='background-color: #fffdfb'>Pal<span class='feature_val'> (0.04)</span></span><span class='token' style='background-color: #ffefdc'> Dud<span class='feature_val'> (0.38)</span></span><span class='token' style='background-color: #ffffff'> Mr<span class='feature_val'> (0.00)</span></span><span class='token' style='background-color: #fef5e8'> Ton<span class='feature_val'> (0.24)</span></span><span class='token' style='background-color: #ffab45'>Pal<span class='feature_val'> (2.03)</span></span><span class='token' style='background-color: #fff1e0'> Dud<span class='feature_val'> (0.34)</span></span><span class='token' style='background-color: #ffffff'> Mr<span class='feature_val'> (0.00)</span></span><span class='token' style='background-color: #fff3e4'> Not<span class='feature_val'> (0.29)</span></span><span class='token' style='background-color: #ffb75f'>Pal<span class='feature_val'> (1.74)</span></span><span class='token' style='background-color: #fff1e0'> Dun<span class='feature_val'> (0.33)</span></span><span class='token' style='background-color: #fff6ec'> Dot<span class='feature_val'> (0.20)</span></span><span class='token' style='background-color: #ffffff'> Mr<span class='feature_val'> (0.00)</span></span><span class='token' style='background-color: #ffffff'>Al<span class='feature_val'> (0.00)</span></span><span class='token' style='background-color: #ffffff'>p<span class='feature_val'> (0.00)</span></span><span class='token' style='background-color: #fff7ee'> Odd<span class='feature_val'> (0.19)</span></span><span class='token' style='background-color: #ffffff'> Mr<span class='feature_val'> (0.00)</span></span><span class='token' style='background-color: #fffaf4'> Tun<span class='feature_val'> (0.11)</span></span><span class='token' style='background-color: #fffdfa'>Al<span class='feature_val'> (0.05)</span></span><span class='token' style='background-color: #ffae4c'>p<span class='feature_val'> (1.95)</span></span><span class='token' style='background-color: #ffffff'> Odd<span class='feature_val'> (0.00)</span></span><span class='token' style='background-color: #ffd39e'> Mr<span class='feature_val'> (1.05)</span></span><span class='token' style='background-color: #ffd39d'> Nut<span class='feature_val'> (1.06)</span></span><span class='token' style='background-color: #ffebd2'>Al<span class='feature_val'> (0.48)</span></span><span class='token' style='background-color: #ffa941'>p<span class='feature_val'> (2.07)</span></span><span class='token' style='background-color: #ffffff'> Dud<span class='feature_val'> (0.00)</span></span><span class='token' style='background-color: #ffb358'> Mr<span class='feature_val'> (1.83)</span></span><span class='token' style='background-color: #fed097'> Ton<span class='feature_val'> (1.13)</span></span><span class='token' style='background-color: #ffecd6'>Al<span class='feature_val'> (0.44)</span></span><span class='token' style='background-color: #ff9e28'>p<span class='feature_val'> (2.35)</span></span><span class='token' style='background-color: #ffffff'> Dud<span class='feature_val'> (0.00)</span></span><span class='token' style='background-color: #ff8c00'> Mr<span class='feature_val'> (2.79)</span></span><span class='token' style='background-color: #ffdbaf'> Not<span class='feature_val'> (0.87)</span></span><span class='token' style='background-color: #fff0df'>Al<span class='feature_val'> (0.34)</span></span><span class='token' style='background-color: #ffba67'>p<span class='feature_val'> (1.66)</span></span><span class='token' style='background-color: #ffe6c8'> Dun<span class='feature_val'> (0.60)</span></span><span class='token' style='background-color: #fef4e7'> Dot<span class='feature_val'> (0.26)</span></span><span class='token' style='background-color: #ffbf71'> Mr<span class='feature_val'> (1.55)</span></span><span class='token' style='background-color: #ffffff'>L<span class='feature_val'> (0.00)</span></span><span class='token' style='background-color: #ffffff'>ap<span class='feature_val'> (0.00)</span></span><span class='token' style='background-color: #ffffff'> Odd<span class='feature_val'> (0.00)</span></span><span class='token' style='background-color: #ffad4a'> Mr<span class='feature_val'> (1.98)</span></span><span class='token' style='background-color: #ffdaaf'> Tun<span class='feature_val'> (0.88)</span></span><span class='token' style='background-color: #fff8f0'>L<span class='feature_val'> (0.16)</span></span><span class='token' style='background-color: #ffbe6f'>ap<span class='feature_val'> (1.57)</span></span><span class='token' style='background-color: #ffffff'> Odd<span class='feature_val'> (0.00)</span></span><span class='token' style='background-color: #ffaf4e'> Mr<span class='feature_val'> (1.93)</span></span><span class='token' style='background-color: #ffd097'> Nut<span class='feature_val'> (1.14)</span></span><span class='token' style='background-color: #ffead1'>L<span class='feature_val'> (0.50)</span></span><span class='token' style='background-color: #ffaf4e'>ap<span class='feature_val'> (1.94)</span></span><span class='token' style='background-color: #ffffff'> Dud<span class='feature_val'> (0.00)</span></span><span class='token' style='background-color: #ffba67'> Mr<span class='feature_val'> (1.66)</span></span><span class='token' style='background-color: #ffd8aa'> Ton<span class='feature_val'> (0.92)</span></span><span class='token' style='background-color: #ffe6c9'>L<span class='feature_val'> (0.59)</span></span><span class='token' style='background-color: #ffb65d'>ap<span class='feature_val'> (1.77)</span></span><span class='token' style='background-color: #ffffff'> Dud<span class='feature_val'> (0.00)</span></span><span class='token' style='background-color: #ffae4c'> Mr<span class='feature_val'> (1.96)</span></span><span class='token' style='background-color: #ffe5c5'> Not<span class='feature_val'> (0.63)</span></span><span class='token' style='background-color: #fffdfb'>L<span class='feature_val'> (0.04)</span></span><span class='token' style='background-color: #ffd39d'>ap<span class='feature_val'> (1.06)</span></span><span class='token' style='background-color: #fff9f1'> Dun<span class='feature_val'> (0.14)</span></span><span class='token' style='background-color: #fffefd'> Dot<span class='feature_val'> (0.01)</span></span><span class='token' style='background-color: #ffffff'> Mr<span class='feature_val'> (0.00)</span></span><span class='token' style='background-color: #ffffff'>Pl<span class='feature_val'> (0.00)</span></span><span class='token' style='background-color: #ffffff'>at<span class='feature_val'> (0.00)</span></span><span class='token' style='background-color: #ffffff'> Odd<span class='feature_val'> (0.00)</span></span><span class='token' style='background-color: #ffc278'> Mr<span class='feature_val'> (1.47)</span></span><span class='token' style='background-color: #fff8f0'> Nu<span class='feature_val'> (0.16)</span></span><span class='token' style='background-color: #ffe9cf'>Pl<span class='feature_val'> (0.52)</span></span><span class='token' style='background-color: #ffb45a'>at<span class='feature_val'> (1.81)</span></span><span class='token' style='background-color: #ffffff'> Dud<span class='feature_val'> (0.00)</span></span><span class='token' style='background-color: #ffe6c9'> Mr<span class='feature_val'> (0.59)</span></span><span class='token' style='background-color: #fffaf4'> No<span class='feature_val'> (0.11)</span></span><span class='token' style='background-color: #fffefd'>Pl<span class='feature_val'> (0.02)</span></span><span class='token' style='background-color: #ffc783'>at<span class='feature_val'> (1.35)</span></span><span class='token' style='background-color: #ffffff'> Dud<span class='feature_val'> (0.00)</span></span><span class='token' style='background-color: #ffecd5'> Mr<span class='feature_val'> (0.46)</span></span><span class='token' style='background-color: #ffffff'> On<span class='feature_val'> (0.00)</span></span><span class='token' style='background-color: #fffaf5'>Pl<span class='feature_val'> (0.10)</span></span><span class='token' style='background-color: #ffc279'>at<span class='feature_val'> (1.46)</span></span><span class='token' style='background-color: #fff5e9'> Dun<span class='feature_val'> (0.24)</span></span><span class='token' style='background-color: #ffffff'> Do<span class='feature_val'> (0.00)</span></span><span class='token' style='background-color: #fff1e0'> Mr<span class='feature_val'> (0.33)</span></span><span class='token' style='background-color: #ffffff'>An<span class='feature_val'> (0.00)</span></span><span class='token' style='background-color: #ffffff'> Dud<span class='feature_val'> (0.00)</span></span><span class='token' style='background-color: #ffffff'> Plot<span class='feature_val'> (0.00)</span></span><span class='token' style='background-color: #ffffff'> Mr<span class='feature_val'> (0.00)</span></span><span class='token' style='background-color: #fffbf7'>Nap<span class='feature_val'> (0.08)</span></span><span class='token' style='background-color: #ffffff'> Dud<span class='feature_val'> (0.00)</span></span><span class='token' style='background-color: #ffffff'> Lot<span class='feature_val'> (0.00)</span></span><span class='token' style='background-color: #ffffff'> Mr<span class='feature_val'> (0.00)</span></span><span class='token' style='background-color: #ffffff'>Pan<span class='feature_val'> (0.00)</span></span><span class='token' style='background-color: #ffffff'> Dud<span class='feature_val'> (0.00)</span></span><span class='token' style='background-color: #ffffff'> Lot<span class='feature_val'> (0.00)</span></span><span class='token' style='background-color: #ffffff'> Mr<span class='feature_val'> (0.00)</span></span><span class='token' style='background-color: #ffffff'>P<span class='feature_val'> (0.00)</span></span><span class='token' style='background-color: #fefefe'>ant<span class='feature_val'> (0.00)</span></span><span class='token' style='background-color: #ffffff'> Dud<span class='feature_val'> (0.00)</span></span><span class='token' style='background-color: #ffffff'> Lo<span class='feature_val'> (0.00)</span></span><span class='token' style='background-color: #ffffff'> Mr<span class='feature_val'> (0.00)</span></span><span class='token' style='background-color: #fefdfa'>Tan<span class='feature_val'> (0.05)</span></span><span class='token' style='background-color: #ffffff'> Dud<span class='feature_val'> (0.00)</span></span><span class='token' style='background-color: #ffffff'> L<span class='feature_val'> (0.00)</span></span><span class='token' style='background-color: #fff9f2'>op<span class='feature_val'> (0.13)</span></span><span class='token' style='background-color: #ffffff'> Mr<span class='feature_val'> (0.00)</span></span><span class='token' style='background-color: #ffe1bc'>Tan<span class='feature_val'> (0.73)</span></span><span class='token' style='background-color: #fffaf5'> Dud<span class='feature_val'> (0.11)</span></span><span class='token' style='background-color: #ffffff'> Pol<span class='feature_val'> (0.00)</span></span><span class='token' style='background-color: #ffffff'> Mr<span class='feature_val'> (0.00)</span></span><span class='token' style='background-color: #ffffff'>Ant<span class='feature_val'> (0.00)</span></span>"
      ],
      "text/plain": [
       "<IPython.core.display.HTML object>"
      ]
     },
     "metadata": {},
     "output_type": "display_data"
    },
    {
     "data": {
      "text/html": [
       "\n",
       "    <style>\n",
       "        span.token {\n",
       "            font-family: monospace;\n",
       "            border-style: solid;\n",
       "            border-width: 1px;\n",
       "            border-color: #dddddd;\n",
       "        }\n",
       "    </style>\n",
       "    <span class='token' style='background-color: #ffffff'>&lt;|endoftext|&gt;<span class='feature_val'> (0.00)</span></span><span class='token' style='background-color: #ffffff'> R<span class='feature_val'> (0.00)</span></span><span class='token' style='background-color: #ffffff'>ump<span class='feature_val'> (0.00)</span></span><span class='token' style='background-color: #ffffff'>And<span class='feature_val'> (0.00)</span></span><span class='token' style='background-color: #ffffff'> D<span class='feature_val'> (0.00)</span></span><span class='token' style='background-color: #ffffff'>olt<span class='feature_val'> (0.00)</span></span><span class='token' style='background-color: #ffffff'> R<span class='feature_val'> (0.00)</span></span><span class='token' style='background-color: #ffffff'>ump<span class='feature_val'> (0.00)</span></span><span class='token' style='background-color: #fffdfb'>And<span class='feature_val'> (0.03)</span></span><span class='token' style='background-color: #ffffff'> Drum<span class='feature_val'> (0.00)</span></span><span class='token' style='background-color: #ffffff'> Plot<span class='feature_val'> (0.00)</span></span><span class='token' style='background-color: #ffffff'>And<span class='feature_val'> (0.00)</span></span><span class='token' style='background-color: #ffffff'> Tro<span class='feature_val'> (0.00)</span></span><span class='token' style='background-color: #fff9f1'>d<span class='feature_val'> (0.12)</span></span><span class='token' style='background-color: #ffffff'> Lump<span class='feature_val'> (0.00)</span></span><span class='token' style='background-color: #fff7ed'>And<span class='feature_val'> (0.16)</span></span><span class='token' style='background-color: #fff8f1'> Tro<span class='feature_val'> (0.13)</span></span><span class='token' style='background-color: #fff8f0'>d<span class='feature_val'> (0.13)</span></span><span class='token' style='background-color: #fff8ef'> Plum<span class='feature_val'> (0.14)</span></span><span class='token' style='background-color: #ffffff'>Rand<span class='feature_val'> (0.00)</span></span><span class='token' style='background-color: #ffffff'> Mold<span class='feature_val'> (0.00)</span></span><span class='token' style='background-color: #ffffff'> Put<span class='feature_val'> (0.00)</span></span><span class='token' style='background-color: #ffffff'>Rand<span class='feature_val'> (0.00)</span></span><span class='token' style='background-color: #ffffff'> T<span class='feature_val'> (0.00)</span></span><span class='token' style='background-color: #fff7ee'>old<span class='feature_val'> (0.15)</span></span><span class='token' style='background-color: #ffffff'> U<span class='feature_val'> (0.00)</span></span><span class='token' style='background-color: #ffffff'>mp<span class='feature_val'> (0.00)</span></span><span class='token' style='background-color: #ffffff'>Rand<span class='feature_val'> (0.00)</span></span><span class='token' style='background-color: #ffffff'> D<span class='feature_val'> (0.00)</span></span><span class='token' style='background-color: #ffffff'>olt<span class='feature_val'> (0.00)</span></span><span class='token' style='background-color: #ffffff'> U<span class='feature_val'> (0.00)</span></span><span class='token' style='background-color: #fefdfa'>mp<span class='feature_val'> (0.04)</span></span><span class='token' style='background-color: #ffffff'>Rand<span class='feature_val'> (0.00)</span></span><span class='token' style='background-color: #ffffff'> D<span class='feature_val'> (0.00)</span></span><span class='token' style='background-color: #ffffff'>ump<span class='feature_val'> (0.00)</span></span><span class='token' style='background-color: #fffbf6'> Lot<span class='feature_val'> (0.08)</span></span><span class='token' style='background-color: #ffffff'>Rand<span class='feature_val'> (0.00)</span></span><span class='token' style='background-color: #ffffff'> Mud<span class='feature_val'> (0.00)</span></span><span class='token' style='background-color: #fffaf4'> Plot<span class='feature_val'> (0.10)</span></span><span class='token' style='background-color: #fefaf4'>Rand<span class='feature_val'> (0.10)</span></span><span class='token' style='background-color: #fffcfa'> Dot<span class='feature_val'> (0.04)</span></span><span class='token' style='background-color: #fff1e1'> Lump<span class='feature_val'> (0.27)</span></span><span class='token' style='background-color: #ffdaad'>Rand<span class='feature_val'> (0.77)</span></span><span class='token' style='background-color: #ffdcb3'> Dot<span class='feature_val'> (0.71)</span></span><span class='token' style='background-color: #ffeedb'> Plum<span class='feature_val'> (0.34)</span></span><span class='token' style='background-color: #ffedd7'>D<span class='feature_val'> (0.37)</span></span><span class='token' style='background-color: #fff1e1'>arn<span class='feature_val'> (0.28)</span></span><span class='token' style='background-color: #ffffff'> Mold<span class='feature_val'> (0.00)</span></span><span class='token' style='background-color: #ffe0ba'> Put<span class='feature_val'> (0.64)</span></span><span class='token' style='background-color: #fff9f3'>D<span class='feature_val'> (0.11)</span></span><span class='token' style='background-color: #ffcf94'>arn<span class='feature_val'> (0.99)</span></span><span class='token' style='background-color: #fffcf9'> T<span class='feature_val'> (0.05)</span></span><span class='token' style='background-color: #ffe8cc'>old<span class='feature_val'> (0.47)</span></span><span class='token' style='background-color: #fff0de'> U<span class='feature_val'> (0.30)</span></span><span class='token' style='background-color: #ffc176'>mp<span class='feature_val'> (1.27)</span></span><span class='token' style='background-color: #ffe4c5'>D<span class='feature_val'> (0.54)</span></span><span class='token' style='background-color: #ffc682'>arn<span class='feature_val'> (1.16)</span></span><span class='token' style='background-color: #ffe2bf'> D<span class='feature_val'> (0.60)</span></span><span class='token' style='background-color: #ffd9ab'>olt<span class='feature_val'> (0.78)</span></span><span class='token' style='background-color: #ffcc8e'> U<span class='feature_val'> (1.05)</span></span><span class='token' style='background-color: #ffc47d'>mp<span class='feature_val'> (1.21)</span></span><span class='token' style='background-color: #ffd4a1'>D<span class='feature_val'> (0.88)</span></span><span class='token' style='background-color: #ffac48'>arn<span class='feature_val'> (1.71)</span></span><span class='token' style='background-color: #fed8a9'> D<span class='feature_val'> (0.80)</span></span><span class='token' style='background-color: #ffe0ba'>ump<span class='feature_val'> (0.64)</span></span><span class='token' style='background-color: #ffd5a2'> Lot<span class='feature_val'> (0.87)</span></span><span class='token' style='background-color: #ffe9cf'>D<span class='feature_val'> (0.45)</span></span><span class='token' style='background-color: #ffb04f'>arn<span class='feature_val'> (1.64)</span></span><span class='token' style='background-color: #ffb357'> Mud<span class='feature_val'> (1.57)</span></span><span class='token' style='background-color: #ffc177'> Plot<span class='feature_val'> (1.27)</span></span><span class='token' style='background-color: #ffe9ce'>D<span class='feature_val'> (0.46)</span></span><span class='token' style='background-color: #ffbd6d'>arn<span class='feature_val'> (1.36)</span></span><span class='token' style='background-color: #ffbc6c'> Dot<span class='feature_val'> (1.37)</span></span><span class='token' style='background-color: #ffbb69'> Lump<span class='feature_val'> (1.39)</span></span><span class='token' style='background-color: #ffdbaf'>D<span class='feature_val'> (0.75)</span></span><span class='token' style='background-color: #ff8c00'>arn<span class='feature_val'> (2.38)</span></span><span class='token' style='background-color: #ff9719'> Dot<span class='feature_val'> (2.15)</span></span><span class='token' style='background-color: #ffd5a2'> Plum<span class='feature_val'> (0.86)</span></span><span class='token' style='background-color: #ffd8a9'>D<span class='feature_val'> (0.80)</span></span><span class='token' style='background-color: #ffcf95'>aunt<span class='feature_val'> (0.99)</span></span><span class='token' style='background-color: #ffe8cc'> Pl<span class='feature_val'> (0.48)</span></span><span class='token' style='background-color: #ffd5a3'>od<span class='feature_val'> (0.85)</span></span><span class='token' style='background-color: #ffffff'> Mr<span class='feature_val'> (0.00)</span></span><span class='token' style='background-color: #ffffff'>Pad<span class='feature_val'> (0.00)</span></span><span class='token' style='background-color: #ffffff'> Mold<span class='feature_val'> (0.00)</span></span><span class='token' style='background-color: #fffbf6'> Turn<span class='feature_val'> (0.08)</span></span><span class='token' style='background-color: #ffffff'>Pad<span class='feature_val'> (0.00)</span></span><span class='token' style='background-color: #ffffff'> Mold<span class='feature_val'> (0.00)</span></span><span class='token' style='background-color: #fff3e5'> R<span class='feature_val'> (0.24)</span></span><span class='token' style='background-color: #ffddb4'>unt<span class='feature_val'> (0.70)</span></span><span class='token' style='background-color: #fff3e4'>Pad<span class='feature_val'> (0.24)</span></span><span class='token' style='background-color: #fff0de'> Unt<span class='feature_val'> (0.30)</span></span><span class='token' style='background-color: #ffead1'>old<span class='feature_val'> (0.42)</span></span><span class='token' style='background-color: #fffefd'> Mr<span class='feature_val'> (0.01)</span></span><span class='token' style='background-color: #fffefd'>Rad<span class='feature_val'> (0.01)</span></span><span class='token' style='background-color: #ffffff'> Mold<span class='feature_val'> (0.00)</span></span><span class='token' style='background-color: #ffffff'> P<span class='feature_val'> (0.00)</span></span><span class='token' style='background-color: #ffdeb7'>unt<span class='feature_val'> (0.67)</span></span><span class='token' style='background-color: #ffffff'>D<span class='feature_val'> (0.00)</span></span><span class='token' style='background-color: #ffeeda'>art<span class='feature_val'> (0.34)</span></span><span class='token' style='background-color: #fffaf4'> Mold<span class='feature_val'> (0.10)</span></span><span class='token' style='background-color: #fff5eb'> Pun<span class='feature_val'> (0.19)</span></span><span class='token' style='background-color: #ffffff'>D<span class='feature_val'> (0.00)</span></span><span class='token' style='background-color: #fff6eb'>art<span class='feature_val'> (0.18)</span></span><span class='token' style='background-color: #fefbf7'> N<span class='feature_val'> (0.07)</span></span><span class='token' style='background-color: #fff2e2'>od<span class='feature_val'> (0.27)</span></span><span class='token' style='background-color: #fffaf5'> Lump<span class='feature_val'> (0.09)</span></span><span class='token' style='background-color: #fff8ef'>D<span class='feature_val'> (0.14)</span></span><span class='token' style='background-color: #ffefdc'>art<span class='feature_val'> (0.33)</span></span><span class='token' style='background-color: #fef0de'> N<span class='feature_val'> (0.30)</span></span><span class='token' style='background-color: #ffc783'>od<span class='feature_val'> (1.15)</span></span><span class='token' style='background-color: #fff2e2'> Plum<span class='feature_val'> (0.26)</span></span><span class='token' style='background-color: #fef2e2'>D<span class='feature_val'> (0.27)</span></span><span class='token' style='background-color: #ffdeb7'>art<span class='feature_val'> (0.67)</span></span><span class='token' style='background-color: #fff6eb'> Don<span class='feature_val'> (0.18)</span></span><span class='token' style='background-color: #fff4e7'> Lump<span class='feature_val'> (0.22)</span></span><span class='token' style='background-color: #ffecd6'>D<span class='feature_val'> (0.37)</span></span><span class='token' style='background-color: #ffe4c3'>art<span class='feature_val'> (0.56)</span></span><span class='token' style='background-color: #ffd7a7'> Don<span class='feature_val'> (0.82)</span></span><span class='token' style='background-color: #ffe9ce'> Plum<span class='feature_val'> (0.45)</span></span><span class='token' style='background-color: #fff9f2'>Dr<span class='feature_val'> (0.12)</span></span><span class='token' style='background-color: #fff7ee'>at<span class='feature_val'> (0.15)</span></span><span class='token' style='background-color: #ffefdd'> Mold<span class='feature_val'> (0.32)</span></span><span class='token' style='background-color: #ffe1bd'> Pun<span class='feature_val'> (0.61)</span></span><span class='token' style='background-color: #ffffff'>Dr<span class='feature_val'> (0.00)</span></span><span class='token' style='background-color: #ffd7a6'>at<span class='feature_val'> (0.83)</span></span><span class='token' style='background-color: #ffecd5'> N<span class='feature_val'> (0.39)</span></span><span class='token' style='background-color: #ffcf95'>od<span class='feature_val'> (0.98)</span></span>"
      ],
      "text/plain": [
       "<IPython.core.display.HTML object>"
      ]
     },
     "metadata": {},
     "output_type": "display_data"
    },
    {
     "data": {
      "text/html": [
       "\n",
       "    <style>\n",
       "        span.token {\n",
       "            font-family: monospace;\n",
       "            border-style: solid;\n",
       "            border-width: 1px;\n",
       "            border-color: #dddddd;\n",
       "        }\n",
       "    </style>\n",
       "    <span class='token' style='background-color: #ffffff'>&lt;|endoftext|&gt;<span class='feature_val'> (0.00)</span></span><span class='token' style='background-color: #ffffff'>Stop<span class='feature_val'> (0.00)</span></span><span class='token' style='background-color: #ffffff'> everything<span class='feature_val'> (0.00)</span></span><span class='token' style='background-color: #ffffff'>:<span class='feature_val'> (0.00)</span></span><span class='token' style='background-color: #ffffff'> In<span class='feature_val'> (0.00)</span></span><span class='token' style='background-color: #ffffff'> a<span class='feature_val'> (0.00)</span></span><span class='token' style='background-color: #ffffff'> hot<span class='feature_val'> (0.00)</span></span><span class='token' style='background-color: #ffffff'>-<span class='feature_val'> (0.00)</span></span><span class='token' style='background-color: #ffffff'>off<span class='feature_val'> (0.00)</span></span><span class='token' style='background-color: #ffffff'>-<span class='feature_val'> (0.00)</span></span><span class='token' style='background-color: #ffffff'>the<span class='feature_val'> (0.00)</span></span><span class='token' style='background-color: #ffffff'>-<span class='feature_val'> (0.00)</span></span><span class='token' style='background-color: #ffffff'>press<span class='feature_val'> (0.00)</span></span><span class='token' style='background-color: #ffffff'> release<span class='feature_val'> (0.00)</span></span><span class='token' style='background-color: #ffffff'> this<span class='feature_val'> (0.00)</span></span><span class='token' style='background-color: #ffffff'> morning<span class='feature_val'> (0.00)</span></span><span class='token' style='background-color: #ffffff'>,<span class='feature_val'> (0.00)</span></span><span class='token' style='background-color: #ffffff'> Un<span class='feature_val'> (0.00)</span></span><span class='token' style='background-color: #ffffff'>iq<span class='feature_val'> (0.00)</span></span><span class='token' style='background-color: #ffffff'>lo<span class='feature_val'> (0.00)</span></span><span class='token' style='background-color: #ffffff'> has<span class='feature_val'> (0.00)</span></span><span class='token' style='background-color: #ffffff'> revealed<span class='feature_val'> (0.00)</span></span><span class='token' style='background-color: #ffffff'> the<span class='feature_val'> (0.00)</span></span><span class='token' style='background-color: #ffffff'> coordinates<span class='feature_val'> (0.00)</span></span><span class='token' style='background-color: #ffffff'> and<span class='feature_val'> (0.00)</span></span><span class='token' style='background-color: #ffffff'> opening<span class='feature_val'> (0.00)</span></span><span class='token' style='background-color: #ffffff'> dates<span class='feature_val'> (0.00)</span></span><span class='token' style='background-color: #ffffff'> of<span class='feature_val'> (0.00)</span></span><span class='token' style='background-color: #ffffff'> their<span class='feature_val'> (0.00)</span></span><span class='token' style='background-color: #ffffff'> five<span class='feature_val'> (0.00)</span></span><span class='token' style='background-color: #ffffff'> new<span class='feature_val'> (0.00)</span></span><span class='token' style='background-color: #ffffff'> So<span class='feature_val'> (0.00)</span></span><span class='token' style='background-color: #ffffff'>Cal<span class='feature_val'> (0.00)</span></span><span class='token' style='background-color: #ffffff'> stores<span class='feature_val'> (0.00)</span></span><span class='token' style='background-color: #ffffff'>.<span class='feature_val'> (0.00)</span></span><span class='token' style='background-color: #ffffff'> In<span class='feature_val'> (0.00)</span></span><span class='token' style='background-color: #ffffff'> addition<span class='feature_val'> (0.00)</span></span><span class='token' style='background-color: #ffffff'> to<span class='feature_val'> (0.00)</span></span><span class='token' style='background-color: #ffffff'> bringing<span class='feature_val'> (0.00)</span></span><span class='token' style='background-color: #ffffff'> affordable<span class='feature_val'> (0.00)</span></span><span class='token' style='background-color: #ffffff'> apparel<span class='feature_val'> (0.00)</span></span><span class='token' style='background-color: #ffffff'> to<span class='feature_val'> (0.00)</span></span><span class='token' style='background-color: #ffffff'> South<span class='feature_val'> (0.00)</span></span><span class='token' style='background-color: #ffffff'> Coast<span class='feature_val'> (0.00)</span></span><span class='token' style='background-color: #ffffff'> Plaza<span class='feature_val'> (0.00)</span></span><span class='token' style='background-color: #ffffff'> and<span class='feature_val'> (0.00)</span></span><span class='token' style='background-color: #ffffff'> Beverly<span class='feature_val'> (0.00)</span></span><span class='token' style='background-color: #ffffff'> Center<span class='feature_val'> (0.00)</span></span><span class='token' style='background-color: #ffffff'>,<span class='feature_val'> (0.00)</span></span><span class='token' style='background-color: #ffffff'> which<span class='feature_val'> (0.00)</span></span><span class='token' style='background-color: #ffffff'> we<span class='feature_val'> (0.00)</span></span><span class='token' style='background-color: #ffffff'> first<span class='feature_val'> (0.00)</span></span><span class='token' style='background-color: #ffffff'> broke<span class='feature_val'> (0.00)</span></span><span class='token' style='background-color: #ffffff'> back<span class='feature_val'> (0.00)</span></span><span class='token' style='background-color: #ffffff'> in<span class='feature_val'> (0.00)</span></span><span class='token' style='background-color: #ffffff'> February<span class='feature_val'> (0.00)</span></span><span class='token' style='background-color: #ffffff'>,<span class='feature_val'> (0.00)</span></span><span class='token' style='background-color: #ffffff'> the<span class='feature_val'> (0.00)</span></span><span class='token' style='background-color: #ffffff'> Japanese<span class='feature_val'> (0.00)</span></span><span class='token' style='background-color: #ffffff'> retailer<span class='feature_val'> (0.00)</span></span><span class='token' style='background-color: #ffffff'> is<span class='feature_val'> (0.00)</span></span><span class='token' style='background-color: #ffffff'> rolling<span class='feature_val'> (0.00)</span></span><span class='token' style='background-color: #ffffff'> out<span class='feature_val'> (0.00)</span></span><span class='token' style='background-color: #ffffff'> shops<span class='feature_val'> (0.00)</span></span><span class='token' style='background-color: #ffffff'> at<span class='feature_val'> (0.00)</span></span><span class='token' style='background-color: #ffffff'> the<span class='feature_val'> (0.00)</span></span><span class='token' style='background-color: #ffffff'> Gl<span class='feature_val'> (0.00)</span></span><span class='token' style='background-color: #ffffff'>endale<span class='feature_val'> (0.00)</span></span><span class='token' style='background-color: #ffffff'> Gall<span class='feature_val'> (0.00)</span></span><span class='token' style='background-color: #ffffff'>eria<span class='feature_val'> (0.00)</span></span><span class='token' style='background-color: #ffffff'>,<span class='feature_val'> (0.00)</span></span><span class='token' style='background-color: #ffffff'> North<span class='feature_val'> (0.00)</span></span><span class='token' style='background-color: #ffffff'>ridge<span class='feature_val'> (0.00)</span></span><span class='token' style='background-color: #ffffff'> Fashion<span class='feature_val'> (0.00)</span></span><span class='token' style='background-color: #ffffff'> Center<span class='feature_val'> (0.00)</span></span><span class='token' style='background-color: #ffffff'> and<span class='feature_val'> (0.00)</span></span><span class='token' style='background-color: #ffffff'> Los<span class='feature_val'> (0.00)</span></span><span class='token' style='background-color: #ffffff'> Cer<span class='feature_val'> (0.00)</span></span><span class='token' style='background-color: #ffffff'>rit<span class='feature_val'> (0.00)</span></span><span class='token' style='background-color: #ffffff'>os<span class='feature_val'> (0.00)</span></span><span class='token' style='background-color: #ffffff'> Mall<span class='feature_val'> (0.00)</span></span><span class='token' style='background-color: #ffffff'>.<span class='feature_val'> (0.00)</span></span><span class='token' style='background-color: #ffffff'>\n",
       "<span class='feature_val'> (0.00)</span></span><span class='token' style='background-color: #ffffff'>\n",
       "<span class='feature_val'> (0.00)</span></span><span class='token' style='background-color: #ffffff'>As<span class='feature_val'> (0.00)</span></span><span class='token' style='background-color: #ffffff'> far<span class='feature_val'> (0.00)</span></span><span class='token' style='background-color: #ffffff'> as<span class='feature_val'> (0.00)</span></span><span class='token' style='background-color: #ffffff'> opening<span class='feature_val'> (0.00)</span></span><span class='token' style='background-color: #ffffff'> dates<span class='feature_val'> (0.00)</span></span><span class='token' style='background-color: #ffffff'>,<span class='feature_val'> (0.00)</span></span><span class='token' style='background-color: #ffffff'> the<span class='feature_val'> (0.00)</span></span><span class='token' style='background-color: #ffffff'> brand<span class='feature_val'> (0.00)</span></span><span class='token' style='background-color: #fff9f1'> says<span class='feature_val'> (0.28)</span></span><span class='token' style='background-color: #ffffff'> South<span class='feature_val'> (0.00)</span></span><span class='token' style='background-color: #fffdfc'> Coast<span class='feature_val'> (0.06)</span></span><span class='token' style='background-color: #fffaf4'> Plaza<span class='feature_val'> (0.24)</span></span><span class='token' style='background-color: #fffcf8'> will<span class='feature_val'> (0.14)</span></span><span class='token' style='background-color: #fffefe'> open<span class='feature_val'> (0.01)</span></span><span class='token' style='background-color: #ffffff'> first<span class='feature_val'> (0.00)</span></span><span class='token' style='background-color: #ffffff'> (<span class='feature_val'> (0.00)</span></span><span class='token' style='background-color: #ffffff'>September<span class='feature_val'> (0.00)</span></span><span class='token' style='background-color: #ffffff'> 5<span class='feature_val'> (0.00)</span></span><span class='token' style='background-color: #ff9617'>),<span class='feature_val'> (5.02)</span></span><span class='token' style='background-color: #ffdaaf'> followed<span class='feature_val'> (1.73)</span></span><span class='token' style='background-color: #ff8d04'> by<span class='feature_val'> (5.43)</span></span><span class='token' style='background-color: #ffe1bd'> Gl<span class='feature_val'> (1.41)</span></span><span class='token' style='background-color: #ff8c00'>endale<span class='feature_val'> (5.52)</span></span><span class='token' style='background-color: #fff2e3'> Gall<span class='feature_val'> (0.59)</span></span><span class='token' style='background-color: #ffe3c3'>eria<span class='feature_val'> (1.30)</span></span><span class='token' style='background-color: #ffb459'> and<span class='feature_val'> (3.59)</span></span><span class='token' style='background-color: #fff0de'> North<span class='feature_val'> (0.70)</span></span><span class='token' style='background-color: #ffc47d'>ridge<span class='feature_val'> (2.81)</span></span><span class='token' style='background-color: #ffedd7'> Fashion<span class='feature_val'> (0.85)</span></span><span class='token' style='background-color: #fff3e5'> Center<span class='feature_val'> (0.56)</span></span><span class='token' style='background-color: #fffbf6'> (<span class='feature_val'> (0.18)</span></span><span class='token' style='background-color: #ffffff'>September<span class='feature_val'> (0.00)</span></span><span class='token' style='background-color: #ffffff'> 26<span class='feature_val'> (0.00)</span></span><span class='token' style='background-color: #ffab45'>),<span class='feature_val'> (4.02)</span></span><span class='token' style='background-color: #ffd29b'> Beverly<span class='feature_val'> (2.15)</span></span><span class='token' style='background-color: #ffe4c4'> Center<span class='feature_val'> (1.28)</span></span><span class='token' style='background-color: #ffffff'> (<span class='feature_val'> (0.00)</span></span><span class='token' style='background-color: #ffffff'>October<span class='feature_val'> (0.00)</span></span><span class='token' style='background-color: #ffffff'> 10<span class='feature_val'> (0.00)</span></span><span class='token' style='background-color: #ffb152'>),<span class='feature_val'> (3.73)</span></span><span class='token' style='background-color: #ffb65f'> and<span class='feature_val'> (3.46)</span></span><span class='token' style='background-color: #ffe3c1'> Los<span class='feature_val'> (1.34)</span></span><span class='token' style='background-color: #fff7ed'> Cer<span class='feature_val'> (0.37)</span></span><span class='token' style='background-color: #fff1e0'>rit<span class='feature_val'> (0.65)</span></span>"
      ],
      "text/plain": [
       "<IPython.core.display.HTML object>"
      ]
     },
     "metadata": {},
     "output_type": "display_data"
    },
    {
     "data": {
      "text/html": [
       "\n",
       "    <style>\n",
       "        span.token {\n",
       "            font-family: monospace;\n",
       "            border-style: solid;\n",
       "            border-width: 1px;\n",
       "            border-color: #dddddd;\n",
       "        }\n",
       "    </style>\n",
       "    <span class='token' style='background-color: #ffffff'>&lt;|endoftext|&gt;<span class='feature_val'> (0.00)</span></span><span class='token' style='background-color: #ffffff'>_<span class='feature_val'> (0.00)</span></span><span class='token' style='background-color: #ffffff'>0<span class='feature_val'> (0.00)</span></span><span class='token' style='background-color: #ffffff'> &amp;<span class='feature_val'> (0.00)</span></span><span class='token' style='background-color: #ffffff'> y<span class='feature_val'> (0.00)</span></span><span class='token' style='background-color: #ffffff'>_<span class='feature_val'> (0.00)</span></span><span class='token' style='background-color: #ffffff'>0<span class='feature_val'> (0.00)</span></span><span class='token' style='background-color: #ffffff'> &amp;<span class='feature_val'> (0.00)</span></span><span class='token' style='background-color: #ffffff'> 1<span class='feature_val'> (0.00)</span></span><span class='token' style='background-color: #ffffff'> &amp;<span class='feature_val'> (0.00)</span></span><span class='token' style='background-color: #ffffff'> 0<span class='feature_val'> (0.00)</span></span><span class='token' style='background-color: #ffffff'> &amp;<span class='feature_val'> (0.00)</span></span><span class='token' style='background-color: #ffffff'> 0<span class='feature_val'> (0.00)</span></span><span class='token' style='background-color: #ffffff'> &amp;<span class='feature_val'> (0.00)</span></span><span class='token' style='background-color: #ffffff'> 0<span class='feature_val'> (0.00)</span></span><span class='token' style='background-color: #ffffff'> &amp;<span class='feature_val'> (0.00)</span></span><span class='token' style='background-color: #ffffff'> -<span class='feature_val'> (0.00)</span></span><span class='token' style='background-color: #ffffff'>u<span class='feature_val'> (0.00)</span></span><span class='token' style='background-color: #ffffff'>_<span class='feature_val'> (0.00)</span></span><span class='token' style='background-color: #ffffff'>0<span class='feature_val'> (0.00)</span></span><span class='token' style='background-color: #ffffff'> x<span class='feature_val'> (0.00)</span></span><span class='token' style='background-color: #ffcc8f'>_<span class='feature_val'> (1.34)</span></span><span class='token' style='background-color: #ffffff'>0<span class='feature_val'> (0.00)</span></span><span class='token' style='background-color: #ffffff'> &amp;<span class='feature_val'> (0.00)</span></span><span class='token' style='background-color: #ffffff'> -<span class='feature_val'> (0.00)</span></span><span class='token' style='background-color: #fffefd'>u<span class='feature_val'> (0.01)</span></span><span class='token' style='background-color: #ffa538'>_<span class='feature_val'> (2.40)</span></span><span class='token' style='background-color: #ffffff'>0<span class='feature_val'> (0.00)</span></span><span class='token' style='background-color: #ffffff'> y<span class='feature_val'> (0.00)</span></span><span class='token' style='background-color: #ffd19a'>_<span class='feature_val'> (1.22)</span></span><span class='token' style='background-color: #ffffff'>0<span class='feature_val'> (0.00)</span></span><span class='token' style='background-color: #ffffff'> \\\\<span class='feature_val'> (0.00)</span></span><span class='token' style='background-color: #ffffff'>\n",
       "<span class='feature_val'> (0.00)</span></span><span class='token' style='background-color: #ffffff'>\n",
       "<span class='feature_val'> (0.00)</span></span><span class='token' style='background-color: #ffffff'>0<span class='feature_val'> (0.00)</span></span><span class='token' style='background-color: #ffffff'> &amp;<span class='feature_val'> (0.00)</span></span><span class='token' style='background-color: #ffffff'> 0<span class='feature_val'> (0.00)</span></span><span class='token' style='background-color: #fefefd'> &amp;<span class='feature_val'> (0.02)</span></span><span class='token' style='background-color: #ffffff'> 0<span class='feature_val'> (0.00)</span></span><span class='token' style='background-color: #fffdfc'> &amp;<span class='feature_val'> (0.04)</span></span><span class='token' style='background-color: #ffffff'> x<span class='feature_val'> (0.00)</span></span><span class='token' style='background-color: #ffb358'>_<span class='feature_val'> (2.01)</span></span><span class='token' style='background-color: #fffcf9'>0<span class='feature_val'> (0.07)</span></span><span class='token' style='background-color: #ffd6a4'> &amp;<span class='feature_val'> (1.09)</span></span><span class='token' style='background-color: #ffd4a1'> y<span class='feature_val'> (1.13)</span></span><span class='token' style='background-color: #ff8c00'>_<span class='feature_val'> (3.08)</span></span><span class='token' style='background-color: #ffffff'>0<span class='feature_val'> (0.00)</span></span><span class='token' style='background-color: #ffe6c9'> &amp;<span class='feature_val'> (0.65)</span></span><span class='token' style='background-color: #ffffff'> 1<span class='feature_val'> (0.00)</span></span><span class='token' style='background-color: #ffebd3'> &amp;<span class='feature_val'> (0.52)</span></span><span class='token' style='background-color: #ffffff'> -<span class='feature_val'> (0.00)</span></span><span class='token' style='background-color: #ffffff'>v<span class='feature_val'> (0.00)</span></span><span class='token' style='background-color: #ffddb4'>_<span class='feature_val'> (0.90)</span></span><span class='token' style='background-color: #ffffff'>0<span class='feature_val'> (0.00)</span></span><span class='token' style='background-color: #ffffff'> x<span class='feature_val'> (0.00)</span></span><span class='token' style='background-color: #ffb760'>_<span class='feature_val'> (1.91)</span></span><span class='token' style='background-color: #ffffff'>0<span class='feature_val'> (0.00)</span></span><span class='token' style='background-color: #ffffff'> &amp;<span class='feature_val'> (0.00)</span></span><span class='token' style='background-color: #ffffff'> -<span class='feature_val'> (0.00)</span></span><span class='token' style='background-color: #ffffff'>v<span class='feature_val'> (0.00)</span></span><span class='token' style='background-color: #fff6eb'>_<span class='feature_val'> (0.24)</span></span><span class='token' style='background-color: #ffeedb'>0<span class='feature_val'> (0.43)</span></span><span class='token' style='background-color: #fffbf6'> y<span class='feature_val'> (0.10)</span></span><span class='token' style='background-color: #ffbd6c'>_<span class='feature_val'> (1.76)</span></span><span class='token' style='background-color: #ffffff'>0<span class='feature_val'> (0.00)</span></span><span class='token' style='background-color: #ffffff'> \\\\<span class='feature_val'> (0.00)</span></span><span class='token' style='background-color: #ffffff'>\n",
       "<span class='feature_val'> (0.00)</span></span><span class='token' style='background-color: #fffefd'>\n",
       "<span class='feature_val'> (0.02)</span></span><span class='token' style='background-color: #fffdfc'>x<span class='feature_val'> (0.03)</span></span><span class='token' style='background-color: #ffc278'>_<span class='feature_val'> (1.63)</span></span><span class='token' style='background-color: #fffaf6'>1<span class='feature_val'> (0.11)</span></span><span class='token' style='background-color: #ffe4c3'> &amp;<span class='feature_val'> (0.72)</span></span><span class='token' style='background-color: #ffedd9'> y<span class='feature_val'> (0.46)</span></span><span class='token' style='background-color: #ffc885'>_<span class='feature_val'> (1.47)</span></span><span class='token' style='background-color: #ffffff'>1<span class='feature_val'> (0.00)</span></span><span class='token' style='background-color: #ffe2c0'> &amp;<span class='feature_val'> (0.76)</span></span><span class='token' style='background-color: #ffffff'> 1<span class='feature_val'> (0.00)</span></span><span class='token' style='background-color: #fefaf4'> &amp;<span class='feature_val'> (0.12)</span></span><span class='token' style='background-color: #fffcfa'> 0<span class='feature_val'> (0.06)</span></span><span class='token' style='background-color: #ffe5c5'> &amp;<span class='feature_val'> (0.69)</span></span><span class='token' style='background-color: #ffffff'> 0<span class='feature_val'> (0.00)</span></span><span class='token' style='background-color: #ffecd6'> &amp;<span class='feature_val'> (0.49)</span></span><span class='token' style='background-color: #ffffff'> 0<span class='feature_val'> (0.00)</span></span><span class='token' style='background-color: #fffcf9'> &amp;<span class='feature_val'> (0.07)</span></span><span class='token' style='background-color: #ffffff'> -<span class='feature_val'> (0.00)</span></span><span class='token' style='background-color: #ffffff'>u<span class='feature_val'> (0.00)</span></span><span class='token' style='background-color: #ffe2be'>_<span class='feature_val'> (0.77)</span></span><span class='token' style='background-color: #ffffff'>1<span class='feature_val'> (0.00)</span></span><span class='token' style='background-color: #ffffff'> x<span class='feature_val'> (0.00)</span></span><span class='token' style='background-color: #ffb254'>_<span class='feature_val'> (2.05)</span></span><span class='token' style='background-color: #ffffff'>1<span class='feature_val'> (0.00)</span></span><span class='token' style='background-color: #fffcf9'> &amp;<span class='feature_val'> (0.07)</span></span><span class='token' style='background-color: #ffffff'> -<span class='feature_val'> (0.00)</span></span><span class='token' style='background-color: #ffffff'>u<span class='feature_val'> (0.00)</span></span><span class='token' style='background-color: #fff9f3'>_<span class='feature_val'> (0.14)</span></span><span class='token' style='background-color: #fffdfb'>1<span class='feature_val'> (0.04)</span></span><span class='token' style='background-color: #fff0de'> y<span class='feature_val'> (0.40)</span></span><span class='token' style='background-color: #ffbb69'>_<span class='feature_val'> (1.80)</span></span><span class='token' style='background-color: #ffffff'>1<span class='feature_val'> (0.00)</span></span><span class='token' style='background-color: #ffffff'> \\\\<span class='feature_val'> (0.00)</span></span><span class='token' style='background-color: #ffffff'>\n",
       "<span class='feature_val'> (0.00)</span></span><span class='token' style='background-color: #ffe9cf'>\n",
       "<span class='feature_val'> (0.57)</span></span><span class='token' style='background-color: #fff9f2'>0<span class='feature_val'> (0.15)</span></span><span class='token' style='background-color: #fff4e6'> &amp;<span class='feature_val'> (0.29)</span></span><span class='token' style='background-color: #ffffff'> 0<span class='feature_val'> (0.00)</span></span><span class='token' style='background-color: #fff6ec'> &amp;<span class='feature_val'> (0.22)</span></span><span class='token' style='background-color: #ffffff'> 0<span class='feature_val'> (0.00)</span></span><span class='token' style='background-color: #fff4e7'> &amp;<span class='feature_val'> (0.28)</span></span><span class='token' style='background-color: #fff3e4'> x<span class='feature_val'> (0.31)</span></span><span class='token' style='background-color: #ffb254'>_<span class='feature_val'> (2.06)</span></span><span class='token' style='background-color: #ffffff'>1<span class='feature_val'> (0.00)</span></span><span class='token' style='background-color: #ffedd7'> &amp;<span class='feature_val'> (0.48)</span></span><span class='token' style='background-color: #ffeeda'> y<span class='feature_val'> (0.43)</span></span><span class='token' style='background-color: #ffc278'>_<span class='feature_val'> (1.62)</span></span><span class='token' style='background-color: #ffffff'>1<span class='feature_val'> (0.00)</span></span><span class='token' style='background-color: #fefdfa'> &amp;<span class='feature_val'> (0.05)</span></span><span class='token' style='background-color: #ffffff'> 1<span class='feature_val'> (0.00)</span></span><span class='token' style='background-color: #fffefe'> &amp;<span class='feature_val'> (0.01)</span></span><span class='token' style='background-color: #ffffff'> -<span class='feature_val'> (0.00)</span></span><span class='token' style='background-color: #fffcfa'>v<span class='feature_val'> (0.06)</span></span><span class='token' style='background-color: #ffe1bd'>_<span class='feature_val'> (0.79)</span></span><span class='token' style='background-color: #ffffff'>1<span class='feature_val'> (0.00)</span></span><span class='token' style='background-color: #ffffff'> x<span class='feature_val'> (0.00)</span></span><span class='token' style='background-color: #ffcc8e'>_<span class='feature_val'> (1.35)</span></span><span class='token' style='background-color: #ffffff'>1<span class='feature_val'> (0.00)</span></span><span class='token' style='background-color: #ffffff'> &amp;<span class='feature_val'> (0.00)</span></span><span class='token' style='background-color: #ffffff'> -<span class='feature_val'> (0.00)</span></span><span class='token' style='background-color: #ffffff'>v<span class='feature_val'> (0.00)</span></span>"
      ],
      "text/plain": [
       "<IPython.core.display.HTML object>"
      ]
     },
     "metadata": {},
     "output_type": "display_data"
    },
    {
     "data": {
      "text/html": [
       "\n",
       "    <style>\n",
       "        span.token {\n",
       "            font-family: monospace;\n",
       "            border-style: solid;\n",
       "            border-width: 1px;\n",
       "            border-color: #dddddd;\n",
       "        }\n",
       "    </style>\n",
       "    <span class='token' style='background-color: #ffffff'>&lt;|endoftext|&gt;<span class='feature_val'> (0.00)</span></span><span class='token' style='background-color: #ffffff'>_<span class='feature_val'> (0.00)</span></span><span class='token' style='background-color: #ffffff'>6<span class='feature_val'> (0.00)</span></span><span class='token' style='background-color: #ffffff'> -<span class='feature_val'> (0.00)</span></span><span class='token' style='background-color: #ffffff'> v<span class='feature_val'> (0.00)</span></span><span class='token' style='background-color: #ffffff'>_<span class='feature_val'> (0.00)</span></span><span class='token' style='background-color: #ffffff'>i<span class='feature_val'> (0.00)</span></span><span class='token' style='background-color: #ffffff'> y<span class='feature_val'> (0.00)</span></span><span class='token' style='background-color: #ffffff'>_<span class='feature_val'> (0.00)</span></span><span class='token' style='background-color: #ffffff'>i<span class='feature_val'> (0.00)</span></span><span class='token' style='background-color: #ffffff'> h<span class='feature_val'> (0.00)</span></span><span class='token' style='background-color: #ffffff'>_<span class='feature_val'> (0.00)</span></span><span class='token' style='background-color: #ffffff'>7<span class='feature_val'> (0.00)</span></span><span class='token' style='background-color: #ffffff'> =<span class='feature_val'> (0.00)</span></span><span class='token' style='background-color: #ffffff'> v<span class='feature_val'> (0.00)</span></span><span class='token' style='background-color: #ffffff'>_<span class='feature_val'> (0.00)</span></span><span class='token' style='background-color: #ffffff'>i<span class='feature_val'> (0.00)</span></span><span class='token' style='background-color: #ffffff'> \\\\<span class='feature_val'> (0.00)</span></span><span class='token' style='background-color: #ffffff'>\n",
       "<span class='feature_val'> (0.00)</span></span><span class='token' style='background-color: #ffffff'>\n",
       "<span class='feature_val'> (0.00)</span></span><span class='token' style='background-color: #ffffff'>\\<span class='feature_val'> (0.00)</span></span><span class='token' style='background-color: #ffffff'>end<span class='feature_val'> (0.00)</span></span><span class='token' style='background-color: #ffffff'>{<span class='feature_val'> (0.00)</span></span><span class='token' style='background-color: #ffffff'>array<span class='feature_val'> (0.00)</span></span><span class='token' style='background-color: #ffffff'>}<span class='feature_val'> (0.00)</span></span><span class='token' style='background-color: #ffffff'>\n",
       "<span class='feature_val'> (0.00)</span></span><span class='token' style='background-color: #ffffff'>\n",
       "<span class='feature_val'> (0.00)</span></span><span class='token' style='background-color: #ffffff'>$$<span class='feature_val'> (0.00)</span></span><span class='token' style='background-color: #ffffff'>\n",
       "<span class='feature_val'> (0.00)</span></span><span class='token' style='background-color: #ffffff'>\n",
       "<span class='feature_val'> (0.00)</span></span><span class='token' style='background-color: #ffffff'>Which<span class='feature_val'> (0.00)</span></span><span class='token' style='background-color: #ffffff'> in<span class='feature_val'> (0.00)</span></span><span class='token' style='background-color: #ffffff'> matrix<span class='feature_val'> (0.00)</span></span><span class='token' style='background-color: #ffffff'> notation<span class='feature_val'> (0.00)</span></span><span class='token' style='background-color: #ffffff'> is<span class='feature_val'> (0.00)</span></span><span class='token' style='background-color: #ffffff'>:<span class='feature_val'> (0.00)</span></span><span class='token' style='background-color: #ffffff'>\n",
       "<span class='feature_val'> (0.00)</span></span><span class='token' style='background-color: #ffffff'>\n",
       "<span class='feature_val'> (0.00)</span></span><span class='token' style='background-color: #ffffff'>$$<span class='feature_val'> (0.00)</span></span><span class='token' style='background-color: #ffffff'>\n",
       "<span class='feature_val'> (0.00)</span></span><span class='token' style='background-color: #ffffff'>\n",
       "<span class='feature_val'> (0.00)</span></span><span class='token' style='background-color: #ffffff'>\\<span class='feature_val'> (0.00)</span></span><span class='token' style='background-color: #ffffff'>begin<span class='feature_val'> (0.00)</span></span><span class='token' style='background-color: #ffffff'>{<span class='feature_val'> (0.00)</span></span><span class='token' style='background-color: #ffffff'>pm<span class='feature_val'> (0.00)</span></span><span class='token' style='background-color: #ffffff'>at<span class='feature_val'> (0.00)</span></span><span class='token' style='background-color: #ffffff'>rix<span class='feature_val'> (0.00)</span></span><span class='token' style='background-color: #ffffff'>}<span class='feature_val'> (0.00)</span></span><span class='token' style='background-color: #ffffff'>\n",
       "<span class='feature_val'> (0.00)</span></span><span class='token' style='background-color: #ffffff'>\n",
       "<span class='feature_val'> (0.00)</span></span><span class='token' style='background-color: #ffffff'>x<span class='feature_val'> (0.00)</span></span><span class='token' style='background-color: #ffffff'>_<span class='feature_val'> (0.00)</span></span><span class='token' style='background-color: #ffffff'>i<span class='feature_val'> (0.00)</span></span><span class='token' style='background-color: #ffffff'> &amp;<span class='feature_val'> (0.00)</span></span><span class='token' style='background-color: #ffffff'> y<span class='feature_val'> (0.00)</span></span><span class='token' style='background-color: #fff9f2'>_<span class='feature_val'> (0.15)</span></span><span class='token' style='background-color: #ffffff'>i<span class='feature_val'> (0.00)</span></span><span class='token' style='background-color: #fee8cc'> &amp;<span class='feature_val'> (0.63)</span></span><span class='token' style='background-color: #ffffff'> 1<span class='feature_val'> (0.00)</span></span><span class='token' style='background-color: #fffefd'> &amp;<span class='feature_val'> (0.02)</span></span><span class='token' style='background-color: #ffffff'> 0<span class='feature_val'> (0.00)</span></span><span class='token' style='background-color: #ffffff'> &amp;<span class='feature_val'> (0.00)</span></span><span class='token' style='background-color: #ffffff'> 0<span class='feature_val'> (0.00)</span></span><span class='token' style='background-color: #ffffff'> &amp;<span class='feature_val'> (0.00)</span></span><span class='token' style='background-color: #ffffff'> 0<span class='feature_val'> (0.00)</span></span><span class='token' style='background-color: #ffffff'> &amp;<span class='feature_val'> (0.00)</span></span><span class='token' style='background-color: #ffffff'> -<span class='feature_val'> (0.00)</span></span><span class='token' style='background-color: #ffffff'>u<span class='feature_val'> (0.00)</span></span><span class='token' style='background-color: #ffffff'>_<span class='feature_val'> (0.00)</span></span><span class='token' style='background-color: #ffffff'>i<span class='feature_val'> (0.00)</span></span><span class='token' style='background-color: #ffffff'> x<span class='feature_val'> (0.00)</span></span><span class='token' style='background-color: #ffdcb3'>_<span class='feature_val'> (0.93)</span></span><span class='token' style='background-color: #ffb65f'>i<span class='feature_val'> (1.96)</span></span><span class='token' style='background-color: #ffc177'> &amp;<span class='feature_val'> (1.67)</span></span><span class='token' style='background-color: #ffdbb0'> -<span class='feature_val'> (0.96)</span></span><span class='token' style='background-color: #ffd8aa'>u<span class='feature_val'> (1.04)</span></span><span class='token' style='background-color: #ffb051'>_<span class='feature_val'> (2.13)</span></span><span class='token' style='background-color: #ffb862'>i<span class='feature_val'> (1.92)</span></span><span class='token' style='background-color: #ffffff'> y<span class='feature_val'> (0.00)</span></span><span class='token' style='background-color: #ffcd91'>_<span class='feature_val'> (1.34)</span></span><span class='token' style='background-color: #ffead1'>i<span class='feature_val'> (0.56)</span></span><span class='token' style='background-color: #ffffff'> \\\\<span class='feature_val'> (0.00)</span></span><span class='token' style='background-color: #ffffff'>\n",
       "<span class='feature_val'> (0.00)</span></span><span class='token' style='background-color: #ffffff'>\n",
       "<span class='feature_val'> (0.00)</span></span><span class='token' style='background-color: #fffbf6'>0<span class='feature_val'> (0.10)</span></span><span class='token' style='background-color: #fffcf9'> &amp;<span class='feature_val'> (0.06)</span></span><span class='token' style='background-color: #ffffff'> 0<span class='feature_val'> (0.00)</span></span><span class='token' style='background-color: #ffe4c5'> &amp;<span class='feature_val'> (0.71)</span></span><span class='token' style='background-color: #ffffff'> 0<span class='feature_val'> (0.00)</span></span><span class='token' style='background-color: #fff1e0'> &amp;<span class='feature_val'> (0.38)</span></span><span class='token' style='background-color: #fff6eb'> x<span class='feature_val'> (0.24)</span></span><span class='token' style='background-color: #ffbb69'>_<span class='feature_val'> (1.84)</span></span><span class='token' style='background-color: #ffd6a5'>i<span class='feature_val'> (1.10)</span></span><span class='token' style='background-color: #ffcc8f'> &amp;<span class='feature_val'> (1.37)</span></span><span class='token' style='background-color: #ffd7a8'> y<span class='feature_val'> (1.06)</span></span><span class='token' style='background-color: #ff8c00'>_<span class='feature_val'> (3.13)</span></span><span class='token' style='background-color: #ffdeb7'>i<span class='feature_val'> (0.88)</span></span><span class='token' style='background-color: #fecf94'> &amp;<span class='feature_val'> (1.30)</span></span><span class='token' style='background-color: #ffecd6'> 1<span class='feature_val'> (0.49)</span></span><span class='token' style='background-color: #ffdaae'> &amp;<span class='feature_val'> (0.99)</span></span><span class='token' style='background-color: #fff1e1'> -<span class='feature_val'> (0.36)</span></span><span class='token' style='background-color: #ffffff'>v<span class='feature_val'> (0.00)</span></span><span class='token' style='background-color: #ffd39e'>_<span class='feature_val'> (1.19)</span></span><span class='token' style='background-color: #ffe8cc'>i<span class='feature_val'> (0.62)</span></span><span class='token' style='background-color: #fefaf3'> x<span class='feature_val'> (0.14)</span></span><span class='token' style='background-color: #ffaa42'>_<span class='feature_val'> (2.31)</span></span><span class='token' style='background-color: #ffe4c3'>i<span class='feature_val'> (0.73)</span></span><span class='token' style='background-color: #fff2e2'> &amp;<span class='feature_val'> (0.35)</span></span><span class='token' style='background-color: #ffffff'> -<span class='feature_val'> (0.00)</span></span><span class='token' style='background-color: #ffffff'>v<span class='feature_val'> (0.00)</span></span><span class='token' style='background-color: #ffebd3'>_<span class='feature_val'> (0.54)</span></span><span class='token' style='background-color: #ffddb4'>i<span class='feature_val'> (0.92)</span></span><span class='token' style='background-color: #ffffff'> y<span class='feature_val'> (0.00)</span></span><span class='token' style='background-color: #ffb256'>_<span class='feature_val'> (2.07)</span></span><span class='token' style='background-color: #fee2be'>i<span class='feature_val'> (0.79)</span></span><span class='token' style='background-color: #ffffff'> \\\\<span class='feature_val'> (0.00)</span></span><span class='token' style='background-color: #fffefe'>\n",
       "<span class='feature_val'> (0.00)</span></span><span class='token' style='background-color: #ffffff'>\n",
       "<span class='feature_val'> (0.00)</span></span><span class='token' style='background-color: #ffffff'>\\<span class='feature_val'> (0.00)</span></span><span class='token' style='background-color: #ffffff'>end<span class='feature_val'> (0.00)</span></span><span class='token' style='background-color: #ffffff'>{<span class='feature_val'> (0.00)</span></span><span class='token' style='background-color: #ffffff'>pm<span class='feature_val'> (0.00)</span></span><span class='token' style='background-color: #ffffff'>at<span class='feature_val'> (0.00)</span></span><span class='token' style='background-color: #ffffff'>rix<span class='feature_val'> (0.00)</span></span><span class='token' style='background-color: #ffffff'>}<span class='feature_val'> (0.00)</span></span><span class='token' style='background-color: #ffffff'>\n",
       "<span class='feature_val'> (0.00)</span></span><span class='token' style='background-color: #ffffff'>\n",
       "<span class='feature_val'> (0.00)</span></span><span class='token' style='background-color: #ffffff'>\\<span class='feature_val'> (0.00)</span></span>"
      ],
      "text/plain": [
       "<IPython.core.display.HTML object>"
      ]
     },
     "metadata": {},
     "output_type": "display_data"
    }
   ],
   "source": [
    "_ = display_top_k_activating_examples_sum(model, feature_scores, owt_tokens, [0, 1], k=5, show_score=True)"
   ]
  },
  {
   "cell_type": "markdown",
   "metadata": {},
   "source": [
    "However, instead of passing in individual features for specific components in specific layers, I created an object called `CircuitPrediction` to basically store all this stuff for you. I'll quickly illustrate how to use it in conjunction with the above."
   ]
  },
  {
   "cell_type": "code",
   "execution_count": 47,
   "metadata": {},
   "outputs": [
    {
     "name": "stderr",
     "output_type": "stream",
     "text": [
      "100%|██████████| 20/20 [00:48<00:00,  2.45s/it]\n",
      "100%|██████████| 20/20 [00:45<00:00,  2.28s/it]\n",
      "100%|██████████| 20/20 [00:46<00:00,  2.31s/it]\n",
      "100%|██████████| 20/20 [00:43<00:00,  2.17s/it]\n"
     ]
    }
   ],
   "source": [
    "cp = get_circuit_prediction(task='ioi', N=20)"
   ]
  },
  {
   "cell_type": "markdown",
   "metadata": {},
   "source": [
    "The main thing you'll want to do with this is get features from certain components to look at on a specific task. The features for each component are stored in the circuit hypergraph. For instance:"
   ]
  },
  {
   "cell_type": "code",
   "execution_count": 48,
   "metadata": {},
   "outputs": [
    {
     "data": {
      "text/plain": [
       "{'L0_H0': {'freq': 0.0, 'features': []},\n",
       " 'L0_H1': {'freq': 0.800000011920929,\n",
       "  'features': [9715,\n",
       "   1846,\n",
       "   451,\n",
       "   16579,\n",
       "   -1,\n",
       "   3949,\n",
       "   10094,\n",
       "   -1,\n",
       "   23825,\n",
       "   451,\n",
       "   23825,\n",
       "   17242,\n",
       "   5142,\n",
       "   13846,\n",
       "   451,\n",
       "   9715,\n",
       "   17242,\n",
       "   451,\n",
       "   -1,\n",
       "   17242,\n",
       "   451,\n",
       "   4229,\n",
       "   17242,\n",
       "   451,\n",
       "   451,\n",
       "   -1,\n",
       "   14731,\n",
       "   451,\n",
       "   3501]},\n",
       " 'L0_H2': {'freq': 0.0, 'features': []},\n",
       " 'L0_H3': {'freq': 0.5,\n",
       "  'features': [18802,\n",
       "   2591,\n",
       "   11470,\n",
       "   11470,\n",
       "   11470,\n",
       "   21859,\n",
       "   16579,\n",
       "   11470,\n",
       "   17242,\n",
       "   11470,\n",
       "   14731,\n",
       "   17242]},\n",
       " 'L0_H4': {'freq': 0.0, 'features': []},\n",
       " 'L0_H5': {'freq': 0.8999999761581421,\n",
       "  'features': [3392,\n",
       "   16230,\n",
       "   3545,\n",
       "   9715,\n",
       "   11883,\n",
       "   10404,\n",
       "   24085,\n",
       "   20904,\n",
       "   17083,\n",
       "   18034,\n",
       "   5690,\n",
       "   4515,\n",
       "   18034,\n",
       "   16230,\n",
       "   10404,\n",
       "   14037,\n",
       "   3160,\n",
       "   21859,\n",
       "   23663,\n",
       "   18034,\n",
       "   1412,\n",
       "   16132,\n",
       "   21859,\n",
       "   3160,\n",
       "   21339,\n",
       "   3160,\n",
       "   7161,\n",
       "   21859,\n",
       "   23603]},\n",
       " 'L0_H6': {'freq': 0.949999988079071,\n",
       "  'features': [-1,\n",
       "   -1,\n",
       "   -1,\n",
       "   -1,\n",
       "   -1,\n",
       "   -1,\n",
       "   -1,\n",
       "   -1,\n",
       "   -1,\n",
       "   -1,\n",
       "   -1,\n",
       "   -1,\n",
       "   -1,\n",
       "   -1,\n",
       "   -1,\n",
       "   -1,\n",
       "   -1,\n",
       "   -1,\n",
       "   -1]},\n",
       " 'L0_H7': {'freq': 0.25, 'features': [-1, -1, -1, -1, -1]},\n",
       " 'L0_H8': {'freq': 0.0, 'features': []},\n",
       " 'L0_H9': {'freq': 0.0, 'features': []},\n",
       " 'L0_H10': {'freq': 0.0, 'features': []},\n",
       " 'L0_H11': {'freq': 0.20000000298023224, 'features': [-1, -1, -1, -1]},\n",
       " 'MLP0': {'freq': 1.0,\n",
       "  'features': [3146,\n",
       "   20546,\n",
       "   16926,\n",
       "   14148,\n",
       "   14826,\n",
       "   16715,\n",
       "   23507,\n",
       "   887,\n",
       "   13881,\n",
       "   5245,\n",
       "   20546,\n",
       "   5348,\n",
       "   12965,\n",
       "   13926,\n",
       "   3562,\n",
       "   21468,\n",
       "   10461,\n",
       "   19601,\n",
       "   9943,\n",
       "   10672,\n",
       "   20546,\n",
       "   10461,\n",
       "   9741,\n",
       "   7866,\n",
       "   10013,\n",
       "   887,\n",
       "   20546,\n",
       "   10013,\n",
       "   10461,\n",
       "   20546,\n",
       "   12715,\n",
       "   10173,\n",
       "   10461,\n",
       "   19750,\n",
       "   12599,\n",
       "   10461,\n",
       "   20546,\n",
       "   3146,\n",
       "   941,\n",
       "   20546,\n",
       "   12965,\n",
       "   13926,\n",
       "   887,\n",
       "   10462,\n",
       "   20546,\n",
       "   12965,\n",
       "   15389,\n",
       "   13881,\n",
       "   10461,\n",
       "   18722,\n",
       "   20519,\n",
       "   21964,\n",
       "   20794,\n",
       "   887,\n",
       "   5882,\n",
       "   10172,\n",
       "   10461,\n",
       "   19296,\n",
       "   20546,\n",
       "   12599,\n",
       "   22914,\n",
       "   20546,\n",
       "   18722,\n",
       "   20519,\n",
       "   21964,\n",
       "   887,\n",
       "   20794,\n",
       "   10461,\n",
       "   19601,\n",
       "   5882,\n",
       "   20546,\n",
       "   12385,\n",
       "   20546,\n",
       "   18722,\n",
       "   12965,\n",
       "   21964,\n",
       "   15389,\n",
       "   887,\n",
       "   20794,\n",
       "   10461,\n",
       "   20546,\n",
       "   18722,\n",
       "   5348,\n",
       "   12965,\n",
       "   8903,\n",
       "   20967,\n",
       "   21964,\n",
       "   887,\n",
       "   10461,\n",
       "   20794,\n",
       "   15389,\n",
       "   3201,\n",
       "   5882,\n",
       "   12353,\n",
       "   20546,\n",
       "   10559,\n",
       "   21964,\n",
       "   887,\n",
       "   20794,\n",
       "   10461,\n",
       "   23871]},\n",
       " 'L1_H0': {'freq': 0.0, 'features': []},\n",
       " 'L1_H1': {'freq': 0.0, 'features': []},\n",
       " 'L1_H2': {'freq': 0.05000000074505806, 'features': [-1]},\n",
       " 'L1_H3': {'freq': 0.0, 'features': []},\n",
       " 'L1_H4': {'freq': 0.05000000074505806, 'features': [11631]},\n",
       " 'L1_H5': {'freq': 0.0, 'features': []},\n",
       " 'L1_H6': {'freq': 0.0, 'features': []},\n",
       " 'L1_H7': {'freq': 0.0, 'features': []},\n",
       " 'L1_H8': {'freq': 0.0, 'features': []},\n",
       " 'L1_H9': {'freq': 0.0, 'features': []},\n",
       " 'L1_H10': {'freq': 0.4000000059604645,\n",
       "  'features': [17148, 17148, 17148, 17148, 17148, 17148, 17148, 17148]},\n",
       " 'L1_H11': {'freq': 0.0, 'features': []},\n",
       " 'MLP1': {'freq': 0.6499999761581421,\n",
       "  'features': [5913,\n",
       "   15111,\n",
       "   16935,\n",
       "   14186,\n",
       "   6118,\n",
       "   14997,\n",
       "   9645,\n",
       "   15111,\n",
       "   16935,\n",
       "   9645,\n",
       "   16935,\n",
       "   9645,\n",
       "   6118,\n",
       "   9645,\n",
       "   6118,\n",
       "   9645,\n",
       "   6118,\n",
       "   16935,\n",
       "   15111,\n",
       "   9645,\n",
       "   6118,\n",
       "   16935,\n",
       "   9645]},\n",
       " 'L2_H0': {'freq': 0.20000000298023224, 'features': [-1, -1, -1, -1]},\n",
       " 'L2_H1': {'freq': 0.0, 'features': []},\n",
       " 'L2_H2': {'freq': 0.4000000059604645,\n",
       "  'features': [19567, 14550, 14951, 21613, -1, 5321, 14951, -1, 5480]},\n",
       " 'L2_H3': {'freq': 0.0, 'features': []},\n",
       " 'L2_H4': {'freq': 0.05000000074505806, 'features': [22750]},\n",
       " 'L2_H5': {'freq': 0.0, 'features': []},\n",
       " 'L2_H6': {'freq': 0.0, 'features': []},\n",
       " 'L2_H7': {'freq': 0.0, 'features': []},\n",
       " 'L2_H8': {'freq': 0.05000000074505806, 'features': [10082]},\n",
       " 'L2_H9': {'freq': 0.25, 'features': [2479, 613, -1, 4633, 15520, 6387]},\n",
       " 'L2_H10': {'freq': 0.0, 'features': []},\n",
       " 'L2_H11': {'freq': 0.0, 'features': []},\n",
       " 'MLP2': {'freq': 0.20000000298023224,\n",
       "  'features': [12195, 12789, 17122, 9903, 17122]},\n",
       " 'L3_H0': {'freq': 0.05000000074505806, 'features': [-1]},\n",
       " 'L3_H1': {'freq': 0.0, 'features': []},\n",
       " 'L3_H2': {'freq': 0.0, 'features': []},\n",
       " 'L3_H3': {'freq': 0.0, 'features': []},\n",
       " 'L3_H4': {'freq': 0.0, 'features': []},\n",
       " 'L3_H5': {'freq': 0.0, 'features': []},\n",
       " 'L3_H6': {'freq': 0.0, 'features': []},\n",
       " 'L3_H7': {'freq': 0.10000000149011612, 'features': [-1, -1]},\n",
       " 'L3_H8': {'freq': 0.20000000298023224,\n",
       "  'features': [23061, 23061, 23061, 23061]},\n",
       " 'L3_H9': {'freq': 0.0, 'features': []},\n",
       " 'L3_H10': {'freq': 0.0, 'features': []},\n",
       " 'L3_H11': {'freq': 0.0, 'features': []},\n",
       " 'MLP3': {'freq': 0.25, 'features': [8175, 8175, 1324, 1324, 1324]},\n",
       " 'L4_H0': {'freq': 0.0, 'features': []},\n",
       " 'L4_H1': {'freq': 0.05000000074505806, 'features': [-1]},\n",
       " 'L4_H2': {'freq': 0.0, 'features': []},\n",
       " 'L4_H3': {'freq': 0.0, 'features': []},\n",
       " 'L4_H4': {'freq': 0.0, 'features': []},\n",
       " 'L4_H5': {'freq': 0.0, 'features': []},\n",
       " 'L4_H6': {'freq': 0.0, 'features': []},\n",
       " 'L4_H7': {'freq': 0.05000000074505806, 'features': [-1]},\n",
       " 'L4_H8': {'freq': 0.0, 'features': []},\n",
       " 'L4_H9': {'freq': 0.0, 'features': []},\n",
       " 'L4_H10': {'freq': 0.0, 'features': []},\n",
       " 'L4_H11': {'freq': 0.05000000074505806, 'features': [21926]},\n",
       " 'MLP4': {'freq': 0.44999998807907104,\n",
       "  'features': [22867, 1987, 5168, 11156, 22867, 1085, 9453, 22867, 5168]},\n",
       " 'L5_H0': {'freq': 0.10000000149011612, 'features': [44452, 44452]},\n",
       " 'L5_H1': {'freq': 0.10000000149011612, 'features': [-1, -1]},\n",
       " 'L5_H2': {'freq': 0.0, 'features': []},\n",
       " 'L5_H3': {'freq': 0.0, 'features': []},\n",
       " 'L5_H4': {'freq': 0.0, 'features': []},\n",
       " 'L5_H5': {'freq': 0.6000000238418579,\n",
       "  'features': [44256,\n",
       "   27535,\n",
       "   7515,\n",
       "   27535,\n",
       "   27535,\n",
       "   27535,\n",
       "   27535,\n",
       "   27535,\n",
       "   27535,\n",
       "   27535,\n",
       "   27535,\n",
       "   27535,\n",
       "   27535]},\n",
       " 'L5_H6': {'freq': 0.0, 'features': []},\n",
       " 'L5_H7': {'freq': 0.0, 'features': []},\n",
       " 'L5_H8': {'freq': 0.0, 'features': []},\n",
       " 'L5_H9': {'freq': 0.0, 'features': []},\n",
       " 'L5_H10': {'freq': 0.05000000074505806, 'features': [-1]},\n",
       " 'L5_H11': {'freq': 0.0, 'features': []},\n",
       " 'MLP5': {'freq': 0.25, 'features': [6307, 7177, 7177, 7177, 7177]},\n",
       " 'L6_H0': {'freq': 0.0, 'features': []},\n",
       " 'L6_H1': {'freq': 0.05000000074505806, 'features': [18591]},\n",
       " 'L6_H2': {'freq': 0.0, 'features': []},\n",
       " 'L6_H3': {'freq': 0.0, 'features': []},\n",
       " 'L6_H4': {'freq': 0.0, 'features': []},\n",
       " 'L6_H5': {'freq': 0.0, 'features': []},\n",
       " 'L6_H6': {'freq': 0.0, 'features': []},\n",
       " 'L6_H7': {'freq': 0.05000000074505806, 'features': [-1]},\n",
       " 'L6_H8': {'freq': 0.05000000074505806, 'features': [-1]},\n",
       " 'L6_H9': {'freq': 0.05000000074505806, 'features': [-1]},\n",
       " 'L6_H10': {'freq': 0.0, 'features': []},\n",
       " 'L6_H11': {'freq': 0.10000000149011612, 'features': [-1, -1]},\n",
       " 'MLP6': {'freq': 0.0, 'features': []},\n",
       " 'L7_H0': {'freq': 0.0, 'features': []},\n",
       " 'L7_H1': {'freq': 0.05000000074505806, 'features': [-1]},\n",
       " 'L7_H2': {'freq': 0.0, 'features': []},\n",
       " 'L7_H3': {'freq': 0.6499999761581421,\n",
       "  'features': [-1, -1, -1, -1, -1, -1, -1, -1, -1, -1, -1, -1, -1]},\n",
       " 'L7_H4': {'freq': 0.0, 'features': []},\n",
       " 'L7_H5': {'freq': 0.30000001192092896, 'features': [-1, -1, -1, -1, -1, -1]},\n",
       " 'L7_H6': {'freq': 0.0, 'features': []},\n",
       " 'L7_H7': {'freq': 0.0, 'features': []},\n",
       " 'L7_H8': {'freq': 0.05000000074505806, 'features': [-1]},\n",
       " 'L7_H9': {'freq': 0.15000000596046448, 'features': [-1, -1, -1]},\n",
       " 'L7_H10': {'freq': 0.0, 'features': []},\n",
       " 'L7_H11': {'freq': 0.0, 'features': []},\n",
       " 'MLP7': {'freq': 0.25, 'features': [16407, 9828, 9828, 9828, 9828]},\n",
       " 'L8_H0': {'freq': 0.0, 'features': []},\n",
       " 'L8_H1': {'freq': 0.0, 'features': []},\n",
       " 'L8_H2': {'freq': 0.0, 'features': []},\n",
       " 'L8_H3': {'freq': 0.0, 'features': []},\n",
       " 'L8_H4': {'freq': 0.0, 'features': []},\n",
       " 'L8_H5': {'freq': 0.0, 'features': []},\n",
       " 'L8_H6': {'freq': 0.8500000238418579,\n",
       "  'features': [-1,\n",
       "   6424,\n",
       "   -1,\n",
       "   16513,\n",
       "   16513,\n",
       "   -1,\n",
       "   16513,\n",
       "   16513,\n",
       "   2623,\n",
       "   16513,\n",
       "   2390,\n",
       "   -1,\n",
       "   16513,\n",
       "   2390,\n",
       "   16513,\n",
       "   2623,\n",
       "   6424,\n",
       "   -1,\n",
       "   16513,\n",
       "   -1,\n",
       "   16513,\n",
       "   16513,\n",
       "   2390,\n",
       "   16513,\n",
       "   2390]},\n",
       " 'L8_H7': {'freq': 0.05000000074505806, 'features': [-1]},\n",
       " 'L8_H8': {'freq': 0.0, 'features': []},\n",
       " 'L8_H9': {'freq': 0.0, 'features': []},\n",
       " 'L8_H10': {'freq': 0.05000000074505806, 'features': [-1]},\n",
       " 'L8_H11': {'freq': 0.0, 'features': []},\n",
       " 'MLP8': {'freq': 0.05000000074505806, 'features': [19447]},\n",
       " 'L9_H0': {'freq': 0.0, 'features': []},\n",
       " 'L9_H1': {'freq': 0.0, 'features': []},\n",
       " 'L9_H2': {'freq': 0.0, 'features': []},\n",
       " 'L9_H3': {'freq': 0.05000000074505806, 'features': [-1]},\n",
       " 'L9_H4': {'freq': 0.0, 'features': []},\n",
       " 'L9_H5': {'freq': 0.0, 'features': []},\n",
       " 'L9_H6': {'freq': 0.25, 'features': [15490, 1261, -1, -1, 977]},\n",
       " 'L9_H7': {'freq': 0.0, 'features': []},\n",
       " 'L9_H8': {'freq': 0.0, 'features': []},\n",
       " 'L9_H9': {'freq': 0.8999999761581421,\n",
       "  'features': [11087,\n",
       "   9401,\n",
       "   3481,\n",
       "   6147,\n",
       "   17413,\n",
       "   3520,\n",
       "   6365,\n",
       "   -1,\n",
       "   6131,\n",
       "   22643,\n",
       "   14056,\n",
       "   8777,\n",
       "   14445,\n",
       "   17875,\n",
       "   132,\n",
       "   -1,\n",
       "   18767,\n",
       "   4710,\n",
       "   22643,\n",
       "   10740,\n",
       "   4710,\n",
       "   9434,\n",
       "   12732,\n",
       "   23999,\n",
       "   9434,\n",
       "   12732,\n",
       "   20286,\n",
       "   -1]},\n",
       " 'L9_H10': {'freq': 0.05000000074505806, 'features': [-1]},\n",
       " 'L9_H11': {'freq': 0.0, 'features': []},\n",
       " 'MLP9': {'freq': 0.10000000149011612, 'features': [16361, 5463]},\n",
       " 'L10_H0': {'freq': 0.05000000074505806, 'features': [-1]},\n",
       " 'L10_H1': {'freq': 0.25,\n",
       "  'features': [16389, 2297, 499, 20535, 21343, 9344, 18277, 10426, 2314]},\n",
       " 'L10_H2': {'freq': 0.10000000149011612, 'features': [-1, -1]},\n",
       " 'L10_H3': {'freq': 0.20000000298023224,\n",
       "  'features': [3574, 386, 2153, 10744, 386, 16389]},\n",
       " 'L10_H4': {'freq': 0.0, 'features': []},\n",
       " 'L10_H5': {'freq': 0.20000000298023224, 'features': [-1, -1, -1, -1]},\n",
       " 'L10_H6': {'freq': 0.15000000596046448, 'features': [-1, -1, 1626]},\n",
       " 'L10_H7': {'freq': 0.6000000238418579,\n",
       "  'features': [6131,\n",
       "   19684,\n",
       "   20696,\n",
       "   23225,\n",
       "   7252,\n",
       "   -1,\n",
       "   24417,\n",
       "   -1,\n",
       "   -1,\n",
       "   -1,\n",
       "   -1,\n",
       "   -1,\n",
       "   -1,\n",
       "   12834,\n",
       "   -1]},\n",
       " 'L10_H8': {'freq': 0.0, 'features': []},\n",
       " 'L10_H9': {'freq': 0.0, 'features': []},\n",
       " 'L10_H10': {'freq': 0.10000000149011612, 'features': [6277, 6277, -1]},\n",
       " 'L10_H11': {'freq': 0.05000000074505806, 'features': [-1]},\n",
       " 'MLP10': {'freq': 0.0, 'features': []},\n",
       " 'L11_H0': {'freq': 0.0, 'features': []},\n",
       " 'L11_H1': {'freq': 0.15000000596046448, 'features': [16935, 16935, 14155]},\n",
       " 'L11_H2': {'freq': 0.05000000074505806, 'features': [5802]},\n",
       " 'L11_H3': {'freq': 0.0, 'features': []},\n",
       " 'L11_H4': {'freq': 0.0, 'features': []},\n",
       " 'L11_H5': {'freq': 0.0, 'features': []},\n",
       " 'L11_H6': {'freq': 0.05000000074505806, 'features': [3214]},\n",
       " 'L11_H7': {'freq': 0.10000000149011612, 'features': [-1, -1]},\n",
       " 'L11_H8': {'freq': 0.0, 'features': []},\n",
       " 'L11_H9': {'freq': 0.0, 'features': []},\n",
       " 'L11_H10': {'freq': 0.6000000238418579,\n",
       "  'features': [21268,\n",
       "   -1,\n",
       "   20283,\n",
       "   5864,\n",
       "   21268,\n",
       "   21847,\n",
       "   21268,\n",
       "   6648,\n",
       "   6648,\n",
       "   11288,\n",
       "   23740,\n",
       "   21268]},\n",
       " 'L11_H11': {'freq': 0.0, 'features': []},\n",
       " 'MLP11': {'freq': 0.0, 'features': []}}"
      ]
     },
     "execution_count": 48,
     "metadata": {},
     "output_type": "execute_result"
    }
   ],
   "source": [
    "cp.circuit_hypergraph"
   ]
  },
  {
   "cell_type": "markdown",
   "metadata": {},
   "source": [
    "If you want to look at MLP 3, all you have to do is access it:"
   ]
  },
  {
   "cell_type": "code",
   "execution_count": null,
   "metadata": {},
   "outputs": [],
   "source": [
    "cp.circuit_hypergraph['MLP3']"
   ]
  },
  {
   "cell_type": "markdown",
   "metadata": {},
   "source": [
    "And just repeat what we did above:"
   ]
  },
  {
   "cell_type": "code",
   "execution_count": null,
   "metadata": {},
   "outputs": [],
   "source": [
    "features = list(set(cp.circuit_hypergraph['MLP3']['features']))\n",
    "transcoder = transcoders[3]\n",
    "feature_scores = get_feature_scores(model, transcoder, owt_tokens_torch, features, batch_size=64)"
   ]
  },
  {
   "cell_type": "code",
   "execution_count": null,
   "metadata": {},
   "outputs": [],
   "source": [
    "feature_idx = 0 # corresponding to 16513\n",
    "example_html, examples_clean_text = display_top_k_activating_examples(model, feature_scores[:, 0, :], owt_tokens_torch, k=5, show_score=True)"
   ]
  },
  {
   "cell_type": "markdown",
   "metadata": {},
   "source": [
    "There's a few other methods, but you probably don't need to bother with those."
   ]
  },
  {
   "cell_type": "code",
   "execution_count": null,
   "metadata": {},
   "outputs": [],
   "source": [
    "_ = cp.unique_feature_array(visualize=True)"
   ]
  },
  {
   "cell_type": "markdown",
   "metadata": {},
   "source": [
    "# Playground\n",
    "\n",
    "What do we want to actually look for?\n",
    "* We could take specific components, and look at all their features across the circuit hypergraph, then get some sort of \"mass autointerpretation\" of what this feature is doing. I think for this you'd need to also feed in information from where it activates on the actual circuit. Might seem a bit soft and qualitative, but if you do it principled enough, it could be useful. Also try weighting the cluster max-act examples + logits by how often the feature shows up.\n",
    "* Look at what features co-occur together in examples. Should give more signal than just looking at features that activate heaps. (Also look at features that activate strongly across all examples as well though.) "
   ]
  },
  {
   "cell_type": "markdown",
   "metadata": {},
   "source": [
    "## Feature cluster interpretation of model components"
   ]
  },
  {
   "cell_type": "code",
   "execution_count": null,
   "metadata": {},
   "outputs": [],
   "source": []
  },
  {
   "cell_type": "markdown",
   "metadata": {},
   "source": [
    "## Co-occurrence of features"
   ]
  },
  {
   "cell_type": "code",
   "execution_count": 1,
   "metadata": {},
   "outputs": [
    {
     "name": "stderr",
     "output_type": "stream",
     "text": [
      "/Users/charlesoneill/miniconda3/envs/anu/lib/python3.12/site-packages/huggingface_hub/file_download.py:1132: FutureWarning: `resume_download` is deprecated and will be removed in version 1.0.0. Downloads always resume when possible. If you want to force a new download, use `force_download=True`.\n",
      "  warnings.warn(\n"
     ]
    },
    {
     "name": "stdout",
     "output_type": "stream",
     "text": [
      "Loaded pretrained model gpt2-small into HookedTransformer\n",
      "Loaded pretrained model gpt2-small into HookedTransformer\n",
      "\n",
      "Loading SAEs...\n"
     ]
    },
    {
     "name": "stderr",
     "output_type": "stream",
     "text": [
      "huggingface/tokenizers: The current process just got forked, after parallelism has already been used. Disabling parallelism to avoid deadlocks...\n",
      "To disable this warning, you can either:\n",
      "\t- Avoid using `tokenizers` before the fork if possible\n",
      "  0%|          | 0/12 [00:00<?, ?it/s]=(true | false)_PARALLELISM\n",
      "100%|██████████| 12/12 [00:07<00:00,  1.60it/s]\n"
     ]
    },
    {
     "name": "stdout",
     "output_type": "stream",
     "text": [
      "\n",
      "Loading Transcoders...\n"
     ]
    },
    {
     "name": "stderr",
     "output_type": "stream",
     "text": [
      "100%|██████████| 12/12 [00:04<00:00,  2.75it/s]\n",
      "100%|██████████| 2/2 [00:07<00:00,  3.66s/it]\n",
      "100%|██████████| 2/2 [00:05<00:00,  2.96s/it]\n",
      "100%|██████████| 2/2 [00:06<00:00,  3.05s/it]\n",
      "100%|██████████| 2/2 [00:05<00:00,  2.85s/it]\n"
     ]
    }
   ],
   "source": [
    "from autointerpretability import *\n",
    "\n",
    "cp = get_circuit_prediction(task='ioi', N=2)"
   ]
  },
  {
   "cell_type": "code",
   "execution_count": 4,
   "metadata": {},
   "outputs": [
    {
     "name": "stdout",
     "output_type": "stream",
     "text": [
      "('attn_head', 0, 1) ('attn_head', 0, 6) [(451, -1), (-1, 451), (-1, 451), (9715, -1), (451, -1)]\n",
      "('attn_head', 0, 1) ('mlp_feature', 0) [(451, 17305), (17305, 451), (20546, 451), (17305, 451), (20546, 451), (10461, 451), (17305, 451), (20546, 451), (10461, 451), (13881, 451), (17305, 451), (20546, 451), (10461, 451), (13881, 451), (9715, 17305), (9715, 20546), (9715, 10461), (9715, 13881), (451, 17305), (451, 20546), (451, 10461), (451, 13881)]\n",
      "('attn_head', 0, 1) ('mlp_feature', 4) [(22867, 451), (9715, 22867), (451, 22867)]\n",
      "('attn_head', 0, 1) ('mlp_feature', 5) [(6307, 451), (9715, 6307), (451, 6307)]\n",
      "('attn_head', 0, 1) ('attn_head', 6, 1) [(451, 18591), (9715, 18591), (451, 18591)]\n",
      "('attn_head', 0, 1) ('attn_head', 7, 3) [(451, -1), (9715, -1), (451, -1)]\n",
      "('attn_head', 0, 1) ('mlp_feature', 7) [(451, 16407), (9715, 16407), (451, 16407)]\n",
      "('attn_head', 0, 1) ('attn_head', 9, 11) [(451, -1), (9715, -1), (451, -1)]\n",
      "('attn_head', 0, 1) ('attn_head', 10, 7) [(451, -1), (9715, -1), (451, -1)]\n",
      "('attn_head', 0, 1) ('attn_head', 11, 1) [(14155, 451), (9715, 14155), (451, 14155), (14155, 451), (14155, 9715), (-1, 451), (-1, 9715)]\n",
      "('attn_head', 0, 6) ('attn_head', 0, 1) [(451, -1), (-1, 451), (-1, 451), (9715, -1), (451, -1)]\n",
      "('attn_head', 0, 6) ('mlp_feature', 0) [(-1, 17305), (17305, -1), (20546, -1), (17305, -1), (20546, -1), (10461, -1), (-1, 17305), (-1, 20546), (-1, 10461), (-1, 17305), (-1, 20546), (-1, 10461), (17305, -1), (20546, -1), (10461, -1), (13881, -1), (17305, -1), (20546, -1), (10461, -1), (13881, -1)]\n",
      "('attn_head', 0, 6) ('mlp_feature', 4) [(22867, -1), (-1, 22867), (-1, 22867)]\n",
      "('attn_head', 0, 6) ('mlp_feature', 5) [(6307, -1), (-1, 6307), (-1, 6307)]\n",
      "('attn_head', 0, 6) ('attn_head', 6, 1) [(18591, -1), (-1, 18591), (-1, 18591)]\n",
      "('attn_head', 0, 6) ('attn_head', 7, 3) [(-1, -1), (-1, -1), (-1, -1)]\n",
      "('attn_head', 0, 6) ('mlp_feature', 7) [(-1, 16407), (-1, 16407), (-1, 16407)]\n",
      "('attn_head', 0, 6) ('attn_head', 9, 11) [(-1, -1), (-1, -1), (-1, -1)]\n",
      "('attn_head', 0, 6) ('attn_head', 10, 7) [(-1, -1), (-1, -1), (-1, -1)]\n",
      "('attn_head', 0, 6) ('attn_head', 11, 1) [(14155, -1), (14155, -1), (-1, -1)]\n",
      "('mlp_feature', 0) ('attn_head', 0, 1) [(451, 17305), (17305, 451), (20546, 451), (17305, 451), (20546, 451), (10461, 451), (17305, 451), (20546, 451), (10461, 451), (13881, 451), (17305, 451), (20546, 451), (10461, 451), (13881, 451), (9715, 17305), (9715, 20546), (9715, 10461), (9715, 13881), (451, 17305), (451, 20546), (451, 10461), (451, 13881)]\n",
      "('mlp_feature', 0) ('attn_head', 0, 6) [(-1, 17305), (17305, -1), (20546, -1), (17305, -1), (20546, -1), (10461, -1), (-1, 17305), (-1, 20546), (-1, 10461), (-1, 17305), (-1, 20546), (-1, 10461), (17305, -1), (20546, -1), (10461, -1), (13881, -1), (17305, -1), (20546, -1), (10461, -1), (13881, -1)]\n",
      "('mlp_feature', 0) ('mlp_feature', 4) [(22867, 17305), (22867, 20546), (17305, 22867), (20546, 22867), (10461, 22867), (17305, 22867), (20546, 22867), (10461, 22867), (13881, 22867), (17305, 22867), (20546, 22867), (10461, 22867), (13881, 22867)]\n",
      "('mlp_feature', 0) ('mlp_feature', 5) [(6307, 17305), (17305, 6307), (20546, 6307), (17305, 6307), (20546, 6307), (10461, 6307), (17305, 6307), (20546, 6307), (10461, 6307), (13881, 6307), (17305, 6307), (20546, 6307), (10461, 6307), (13881, 6307)]\n",
      "('mlp_feature', 0) ('attn_head', 6, 1) [(18591, 17305), (17305, 18591), (20546, 18591), (17305, 18591), (20546, 18591), (10461, 18591), (17305, 18591), (20546, 18591), (10461, 18591), (13881, 18591), (17305, 18591), (20546, 18591), (10461, 18591), (13881, 18591)]\n",
      "('mlp_feature', 0) ('attn_head', 7, 3) [(-1, 17305), (17305, -1), (20546, -1), (17305, -1), (20546, -1), (10461, -1), (17305, -1), (20546, -1), (10461, -1), (13881, -1), (17305, -1), (20546, -1), (10461, -1), (13881, -1)]\n",
      "('mlp_feature', 0) ('mlp_feature', 7) [(16407, 17305), (17305, 16407), (20546, 16407), (17305, 16407), (20546, 16407), (10461, 16407), (17305, 16407), (20546, 16407), (10461, 16407), (13881, 16407), (17305, 16407), (20546, 16407), (10461, 16407), (13881, 16407)]\n",
      "('mlp_feature', 0) ('attn_head', 9, 11) [(-1, 17305), (17305, -1), (20546, -1), (17305, -1), (20546, -1), (10461, -1), (17305, -1), (20546, -1), (10461, -1), (13881, -1), (17305, -1), (20546, -1), (10461, -1), (13881, -1)]\n",
      "('mlp_feature', 0) ('attn_head', 10, 7) [(17305, -1), (17305, -1), (20546, -1), (17305, -1), (20546, -1), (10461, -1), (17305, -1), (20546, -1), (10461, -1), (13881, -1), (17305, -1), (20546, -1), (10461, -1), (13881, -1)]\n",
      "('mlp_feature', 0) ('attn_head', 11, 1) [(14155, 17305), (14155, 20546), (14155, 10461), (17305, 14155), (20546, 14155), (10461, 14155), (13881, 14155), (17305, 14155), (20546, 14155), (10461, 14155), (13881, 14155), (14155, 17305), (14155, 20546), (14155, 10461), (14155, 13881), (-1, 17305), (-1, 20546), (-1, 10461), (-1, 13881)]\n",
      "('mlp_feature', 4) ('attn_head', 0, 1) [(22867, 451), (9715, 22867), (451, 22867)]\n",
      "('mlp_feature', 4) ('attn_head', 0, 6) [(22867, -1), (-1, 22867), (-1, 22867)]\n",
      "('mlp_feature', 4) ('mlp_feature', 0) [(22867, 17305), (22867, 20546), (17305, 22867), (20546, 22867), (10461, 22867), (17305, 22867), (20546, 22867), (10461, 22867), (13881, 22867), (17305, 22867), (20546, 22867), (10461, 22867), (13881, 22867)]\n",
      "('mlp_feature', 4) ('mlp_feature', 5) [(22867, 6307)]\n",
      "('mlp_feature', 4) ('attn_head', 6, 1) [(22867, 18591)]\n",
      "('mlp_feature', 4) ('attn_head', 7, 3) [(22867, -1)]\n",
      "('mlp_feature', 4) ('mlp_feature', 7) [(22867, 16407)]\n",
      "('mlp_feature', 4) ('attn_head', 9, 11) [(22867, -1)]\n",
      "('mlp_feature', 4) ('attn_head', 10, 7) [(22867, -1)]\n",
      "('mlp_feature', 4) ('attn_head', 11, 1) [(14155, 22867), (14155, 22867), (-1, 22867)]\n",
      "('mlp_feature', 5) ('attn_head', 0, 1) [(6307, 451), (9715, 6307), (451, 6307)]\n",
      "('mlp_feature', 5) ('attn_head', 0, 6) [(6307, -1), (-1, 6307), (-1, 6307)]\n",
      "('mlp_feature', 5) ('mlp_feature', 0) [(6307, 17305), (17305, 6307), (20546, 6307), (17305, 6307), (20546, 6307), (10461, 6307), (17305, 6307), (20546, 6307), (10461, 6307), (13881, 6307), (17305, 6307), (20546, 6307), (10461, 6307), (13881, 6307)]\n",
      "('mlp_feature', 5) ('mlp_feature', 4) [(22867, 6307)]\n",
      "('mlp_feature', 5) ('attn_head', 6, 1) [(6307, 18591)]\n",
      "('mlp_feature', 5) ('attn_head', 7, 3) [(6307, -1)]\n",
      "('mlp_feature', 5) ('mlp_feature', 7) [(6307, 16407)]\n",
      "('mlp_feature', 5) ('attn_head', 9, 11) [(6307, -1)]\n",
      "('mlp_feature', 5) ('attn_head', 10, 7) [(6307, -1)]\n",
      "('mlp_feature', 5) ('attn_head', 11, 1) [(14155, 6307), (14155, 6307), (-1, 6307)]\n",
      "('attn_head', 6, 1) ('attn_head', 0, 1) [(451, 18591), (9715, 18591), (451, 18591)]\n",
      "('attn_head', 6, 1) ('attn_head', 0, 6) [(18591, -1), (-1, 18591), (-1, 18591)]\n",
      "('attn_head', 6, 1) ('mlp_feature', 0) [(18591, 17305), (17305, 18591), (20546, 18591), (17305, 18591), (20546, 18591), (10461, 18591), (17305, 18591), (20546, 18591), (10461, 18591), (13881, 18591), (17305, 18591), (20546, 18591), (10461, 18591), (13881, 18591)]\n",
      "('attn_head', 6, 1) ('mlp_feature', 4) [(22867, 18591)]\n",
      "('attn_head', 6, 1) ('mlp_feature', 5) [(6307, 18591)]\n",
      "('attn_head', 6, 1) ('attn_head', 7, 3) [(-1, 18591)]\n",
      "('attn_head', 6, 1) ('mlp_feature', 7) [(18591, 16407)]\n",
      "('attn_head', 6, 1) ('attn_head', 9, 11) [(18591, -1)]\n",
      "('attn_head', 6, 1) ('attn_head', 10, 7) [(18591, -1)]\n",
      "('attn_head', 6, 1) ('attn_head', 11, 1) [(14155, 18591), (14155, 18591), (-1, 18591)]\n",
      "('attn_head', 7, 3) ('attn_head', 0, 1) [(451, -1), (9715, -1), (451, -1)]\n",
      "('attn_head', 7, 3) ('attn_head', 0, 6) [(-1, -1), (-1, -1), (-1, -1)]\n",
      "('attn_head', 7, 3) ('mlp_feature', 0) [(-1, 17305), (17305, -1), (20546, -1), (17305, -1), (20546, -1), (10461, -1), (17305, -1), (20546, -1), (10461, -1), (13881, -1), (17305, -1), (20546, -1), (10461, -1), (13881, -1)]\n",
      "('attn_head', 7, 3) ('mlp_feature', 4) [(22867, -1)]\n",
      "('attn_head', 7, 3) ('mlp_feature', 5) [(6307, -1)]\n",
      "('attn_head', 7, 3) ('attn_head', 6, 1) [(-1, 18591)]\n",
      "('attn_head', 7, 3) ('mlp_feature', 7) [(-1, 16407)]\n",
      "('attn_head', 7, 3) ('attn_head', 9, 11) [(-1, -1)]\n",
      "('attn_head', 7, 3) ('attn_head', 10, 7) [(-1, -1)]\n",
      "('attn_head', 7, 3) ('attn_head', 11, 1) [(14155, -1), (14155, -1), (-1, -1)]\n",
      "('mlp_feature', 7) ('attn_head', 0, 1) [(451, 16407), (9715, 16407), (451, 16407)]\n",
      "('mlp_feature', 7) ('attn_head', 0, 6) [(-1, 16407), (-1, 16407), (-1, 16407)]\n",
      "('mlp_feature', 7) ('mlp_feature', 0) [(16407, 17305), (17305, 16407), (20546, 16407), (17305, 16407), (20546, 16407), (10461, 16407), (17305, 16407), (20546, 16407), (10461, 16407), (13881, 16407), (17305, 16407), (20546, 16407), (10461, 16407), (13881, 16407)]\n",
      "('mlp_feature', 7) ('mlp_feature', 4) [(22867, 16407)]\n",
      "('mlp_feature', 7) ('mlp_feature', 5) [(6307, 16407)]\n",
      "('mlp_feature', 7) ('attn_head', 6, 1) [(18591, 16407)]\n",
      "('mlp_feature', 7) ('attn_head', 7, 3) [(-1, 16407)]\n",
      "('mlp_feature', 7) ('attn_head', 9, 11) [(-1, 16407)]\n",
      "('mlp_feature', 7) ('attn_head', 10, 7) [(16407, -1)]\n",
      "('mlp_feature', 7) ('attn_head', 11, 1) [(14155, 16407), (14155, 16407), (-1, 16407)]\n",
      "('attn_head', 9, 11) ('attn_head', 0, 1) [(451, -1), (9715, -1), (451, -1)]\n",
      "('attn_head', 9, 11) ('attn_head', 0, 6) [(-1, -1), (-1, -1), (-1, -1)]\n",
      "('attn_head', 9, 11) ('mlp_feature', 0) [(-1, 17305), (17305, -1), (20546, -1), (17305, -1), (20546, -1), (10461, -1), (17305, -1), (20546, -1), (10461, -1), (13881, -1), (17305, -1), (20546, -1), (10461, -1), (13881, -1)]\n",
      "('attn_head', 9, 11) ('mlp_feature', 4) [(22867, -1)]\n",
      "('attn_head', 9, 11) ('mlp_feature', 5) [(6307, -1)]\n",
      "('attn_head', 9, 11) ('attn_head', 6, 1) [(18591, -1)]\n",
      "('attn_head', 9, 11) ('attn_head', 7, 3) [(-1, -1)]\n",
      "('attn_head', 9, 11) ('mlp_feature', 7) [(-1, 16407)]\n",
      "('attn_head', 9, 11) ('attn_head', 10, 7) [(-1, -1)]\n",
      "('attn_head', 9, 11) ('attn_head', 11, 1) [(14155, -1), (14155, -1), (-1, -1)]\n",
      "('attn_head', 10, 7) ('attn_head', 0, 1) [(451, -1), (9715, -1), (451, -1)]\n",
      "('attn_head', 10, 7) ('attn_head', 0, 6) [(-1, -1), (-1, -1), (-1, -1)]\n",
      "('attn_head', 10, 7) ('mlp_feature', 0) [(17305, -1), (17305, -1), (20546, -1), (17305, -1), (20546, -1), (10461, -1), (17305, -1), (20546, -1), (10461, -1), (13881, -1), (17305, -1), (20546, -1), (10461, -1), (13881, -1)]\n",
      "('attn_head', 10, 7) ('mlp_feature', 4) [(22867, -1)]\n",
      "('attn_head', 10, 7) ('mlp_feature', 5) [(6307, -1)]\n",
      "('attn_head', 10, 7) ('attn_head', 6, 1) [(18591, -1)]\n",
      "('attn_head', 10, 7) ('attn_head', 7, 3) [(-1, -1)]\n",
      "('attn_head', 10, 7) ('mlp_feature', 7) [(16407, -1)]\n",
      "('attn_head', 10, 7) ('attn_head', 9, 11) [(-1, -1)]\n",
      "('attn_head', 10, 7) ('attn_head', 11, 1) [(14155, -1), (14155, -1), (-1, -1)]\n",
      "('attn_head', 11, 1) ('attn_head', 0, 1) [(14155, 451), (9715, 14155), (451, 14155), (14155, 451), (14155, 9715), (-1, 451), (-1, 9715)]\n",
      "('attn_head', 11, 1) ('attn_head', 0, 6) [(14155, -1), (14155, -1), (-1, -1)]\n",
      "('attn_head', 11, 1) ('mlp_feature', 0) [(14155, 17305), (14155, 20546), (14155, 10461), (17305, 14155), (20546, 14155), (10461, 14155), (13881, 14155), (17305, 14155), (20546, 14155), (10461, 14155), (13881, 14155), (14155, 17305), (14155, 20546), (14155, 10461), (14155, 13881), (-1, 17305), (-1, 20546), (-1, 10461), (-1, 13881)]\n",
      "('attn_head', 11, 1) ('mlp_feature', 4) [(14155, 22867), (14155, 22867), (-1, 22867)]\n",
      "('attn_head', 11, 1) ('mlp_feature', 5) [(14155, 6307), (14155, 6307), (-1, 6307)]\n",
      "('attn_head', 11, 1) ('attn_head', 6, 1) [(14155, 18591), (14155, 18591), (-1, 18591)]\n",
      "('attn_head', 11, 1) ('attn_head', 7, 3) [(14155, -1), (14155, -1), (-1, -1)]\n",
      "('attn_head', 11, 1) ('mlp_feature', 7) [(14155, 16407), (14155, 16407), (-1, 16407)]\n",
      "('attn_head', 11, 1) ('attn_head', 9, 11) [(14155, -1), (14155, -1), (-1, -1)]\n",
      "('attn_head', 11, 1) ('attn_head', 10, 7) [(14155, -1), (14155, -1), (-1, -1)]\n"
     ]
    }
   ],
   "source": [
    "# Go through co-occurrence dict and print out the non-empty sets\n",
    "for k, v in cp.co_occurrence_dict.items():\n",
    "    for kk, vv in v.items():\n",
    "        if vv:\n",
    "            print(k, kk, vv)"
   ]
  },
  {
   "cell_type": "code",
   "execution_count": 11,
   "metadata": {},
   "outputs": [],
   "source": [
    "# Clean up co-occurrence dict\n",
    "cooc_dict = cp.co_occurrence_dict.copy()\n",
    "\n",
    "# Start by removing all tuples with -1 as one of the pairs\n",
    "for k, v in cooc_dict.items():\n",
    "    for i, (kk, vv) in enumerate(v.copy().items()):\n",
    "        if vv:\n",
    "            for i, feat_tuple in enumerate(vv):\n",
    "                if feat_tuple[0] == -1 or feat_tuple[1] == -1:\n",
    "                    del cooc_dict[k][kk][i]\n",
    "        else:\n",
    "            # Remove empty sets\n",
    "            del cooc_dict[k][kk]\n",
    "                \n",
    "\n",
    "# for k, v in cooc_dict.items():\n",
    "#     for kk, vv in v.items():\n",
    "#         if vv:\n",
    "#             print(k, kk, vv)"
   ]
  },
  {
   "cell_type": "code",
   "execution_count": 12,
   "metadata": {},
   "outputs": [
    {
     "data": {
      "text/plain": [
       "{('attn_head', 0, 0): {},\n",
       " ('attn_head',\n",
       "  0,\n",
       "  1): {('mlp_feature', 0): [(451, 17305),\n",
       "   (17305, 451),\n",
       "   (20546, 451),\n",
       "   (17305, 451),\n",
       "   (20546, 451),\n",
       "   (10461, 451),\n",
       "   (17305, 451),\n",
       "   (20546, 451),\n",
       "   (10461, 451),\n",
       "   (13881, 451),\n",
       "   (17305, 451),\n",
       "   (20546, 451),\n",
       "   (10461, 451),\n",
       "   (13881, 451),\n",
       "   (9715, 17305),\n",
       "   (9715, 20546),\n",
       "   (9715, 10461),\n",
       "   (9715, 13881),\n",
       "   (451, 17305),\n",
       "   (451, 20546),\n",
       "   (451, 10461),\n",
       "   (451, 13881)], ('mlp_feature', 4): [(22867, 451),\n",
       "   (9715, 22867),\n",
       "   (451, 22867)], ('mlp_feature', 5): [(6307, 451),\n",
       "   (9715, 6307),\n",
       "   (451, 6307)], ('attn_head', 6, 1): [(451, 18591),\n",
       "   (9715, 18591),\n",
       "   (451, 18591)], ('mlp_feature', 7): [(451, 16407),\n",
       "   (9715, 16407),\n",
       "   (451, 16407)], ('attn_head', 11, 1): [(14155, 451),\n",
       "   (9715, 14155),\n",
       "   (451, 14155),\n",
       "   (14155, 451),\n",
       "   (14155, 9715)]},\n",
       " ('attn_head', 0, 2): {},\n",
       " ('attn_head', 0, 3): {},\n",
       " ('attn_head', 0, 4): {},\n",
       " ('attn_head', 0, 5): {},\n",
       " ('attn_head', 0, 6): {('mlp_feature', 0): []},\n",
       " ('attn_head', 0, 7): {},\n",
       " ('attn_head', 0, 8): {},\n",
       " ('attn_head', 0, 9): {},\n",
       " ('attn_head', 0, 10): {},\n",
       " ('attn_head', 0, 11): {},\n",
       " ('mlp_feature',\n",
       "  0): {('attn_head', 0, 1): [(451, 17305),\n",
       "   (17305, 451),\n",
       "   (20546, 451),\n",
       "   (17305, 451),\n",
       "   (20546, 451),\n",
       "   (10461, 451),\n",
       "   (17305, 451),\n",
       "   (20546, 451),\n",
       "   (10461, 451),\n",
       "   (13881, 451),\n",
       "   (17305, 451),\n",
       "   (20546, 451),\n",
       "   (10461, 451),\n",
       "   (13881, 451),\n",
       "   (9715, 17305),\n",
       "   (9715, 20546),\n",
       "   (9715, 10461),\n",
       "   (9715, 13881),\n",
       "   (451, 17305),\n",
       "   (451, 20546),\n",
       "   (451, 10461),\n",
       "   (451, 13881)], ('attn_head', 0, 6): [], ('mlp_feature', 4): [(22867, 17305),\n",
       "   (22867, 20546),\n",
       "   (17305, 22867),\n",
       "   (20546, 22867),\n",
       "   (10461, 22867),\n",
       "   (17305, 22867),\n",
       "   (20546, 22867),\n",
       "   (10461, 22867),\n",
       "   (13881, 22867),\n",
       "   (17305, 22867),\n",
       "   (20546, 22867),\n",
       "   (10461, 22867),\n",
       "   (13881, 22867)], ('mlp_feature', 5): [(6307, 17305),\n",
       "   (17305, 6307),\n",
       "   (20546, 6307),\n",
       "   (17305, 6307),\n",
       "   (20546, 6307),\n",
       "   (10461, 6307),\n",
       "   (17305, 6307),\n",
       "   (20546, 6307),\n",
       "   (10461, 6307),\n",
       "   (13881, 6307),\n",
       "   (17305, 6307),\n",
       "   (20546, 6307),\n",
       "   (10461, 6307),\n",
       "   (13881, 6307)], ('attn_head', 6, 1): [(18591, 17305),\n",
       "   (17305, 18591),\n",
       "   (20546, 18591),\n",
       "   (17305, 18591),\n",
       "   (20546, 18591),\n",
       "   (10461, 18591),\n",
       "   (17305, 18591),\n",
       "   (20546, 18591),\n",
       "   (10461, 18591),\n",
       "   (13881, 18591),\n",
       "   (17305, 18591),\n",
       "   (20546, 18591),\n",
       "   (10461, 18591),\n",
       "   (13881, 18591)], ('mlp_feature', 7): [(16407, 17305),\n",
       "   (17305, 16407),\n",
       "   (20546, 16407),\n",
       "   (17305, 16407),\n",
       "   (20546, 16407),\n",
       "   (10461, 16407),\n",
       "   (17305, 16407),\n",
       "   (20546, 16407),\n",
       "   (10461, 16407),\n",
       "   (13881, 16407),\n",
       "   (17305, 16407),\n",
       "   (20546, 16407),\n",
       "   (10461, 16407),\n",
       "   (13881, 16407)], ('attn_head', 11, 1): [(14155, 17305),\n",
       "   (14155, 20546),\n",
       "   (14155, 10461),\n",
       "   (17305, 14155),\n",
       "   (20546, 14155),\n",
       "   (10461, 14155),\n",
       "   (13881, 14155),\n",
       "   (17305, 14155),\n",
       "   (20546, 14155),\n",
       "   (10461, 14155),\n",
       "   (13881, 14155),\n",
       "   (14155, 17305),\n",
       "   (14155, 20546),\n",
       "   (14155, 10461),\n",
       "   (14155, 13881)]},\n",
       " ('attn_head', 1, 0): {},\n",
       " ('attn_head', 1, 1): {},\n",
       " ('attn_head', 1, 2): {},\n",
       " ('attn_head', 1, 3): {},\n",
       " ('attn_head', 1, 4): {},\n",
       " ('attn_head', 1, 5): {},\n",
       " ('attn_head', 1, 6): {},\n",
       " ('attn_head', 1, 7): {},\n",
       " ('attn_head', 1, 8): {},\n",
       " ('attn_head', 1, 9): {},\n",
       " ('attn_head', 1, 10): {},\n",
       " ('attn_head', 1, 11): {},\n",
       " ('mlp_feature', 1): {},\n",
       " ('attn_head', 2, 0): {},\n",
       " ('attn_head', 2, 1): {},\n",
       " ('attn_head', 2, 2): {},\n",
       " ('attn_head', 2, 3): {},\n",
       " ('attn_head', 2, 4): {},\n",
       " ('attn_head', 2, 5): {},\n",
       " ('attn_head', 2, 6): {},\n",
       " ('attn_head', 2, 7): {},\n",
       " ('attn_head', 2, 8): {},\n",
       " ('attn_head', 2, 9): {},\n",
       " ('attn_head', 2, 10): {},\n",
       " ('attn_head', 2, 11): {},\n",
       " ('mlp_feature', 2): {},\n",
       " ('attn_head', 3, 0): {},\n",
       " ('attn_head', 3, 1): {},\n",
       " ('attn_head', 3, 2): {},\n",
       " ('attn_head', 3, 3): {},\n",
       " ('attn_head', 3, 4): {},\n",
       " ('attn_head', 3, 5): {},\n",
       " ('attn_head', 3, 6): {},\n",
       " ('attn_head', 3, 7): {},\n",
       " ('attn_head', 3, 8): {},\n",
       " ('attn_head', 3, 9): {},\n",
       " ('attn_head', 3, 10): {},\n",
       " ('attn_head', 3, 11): {},\n",
       " ('mlp_feature', 3): {},\n",
       " ('attn_head', 4, 0): {},\n",
       " ('attn_head', 4, 1): {},\n",
       " ('attn_head', 4, 2): {},\n",
       " ('attn_head', 4, 3): {},\n",
       " ('attn_head', 4, 4): {},\n",
       " ('attn_head', 4, 5): {},\n",
       " ('attn_head', 4, 6): {},\n",
       " ('attn_head', 4, 7): {},\n",
       " ('attn_head', 4, 8): {},\n",
       " ('attn_head', 4, 9): {},\n",
       " ('attn_head', 4, 10): {},\n",
       " ('attn_head', 4, 11): {},\n",
       " ('mlp_feature',\n",
       "  4): {('attn_head', 0, 1): [(22867, 451),\n",
       "   (9715, 22867),\n",
       "   (451, 22867)], ('mlp_feature', 0): [(22867, 17305),\n",
       "   (22867, 20546),\n",
       "   (17305, 22867),\n",
       "   (20546, 22867),\n",
       "   (10461, 22867),\n",
       "   (17305, 22867),\n",
       "   (20546, 22867),\n",
       "   (10461, 22867),\n",
       "   (13881, 22867),\n",
       "   (17305, 22867),\n",
       "   (20546, 22867),\n",
       "   (10461, 22867),\n",
       "   (13881, 22867)], ('mlp_feature', 5): [(22867, 6307)], ('attn_head',\n",
       "   6,\n",
       "   1): [(22867, 18591)], ('mlp_feature', 7): [(22867, 16407)], ('attn_head',\n",
       "   11,\n",
       "   1): [(14155, 22867), (14155, 22867)]},\n",
       " ('attn_head', 5, 0): {},\n",
       " ('attn_head', 5, 1): {},\n",
       " ('attn_head', 5, 2): {},\n",
       " ('attn_head', 5, 3): {},\n",
       " ('attn_head', 5, 4): {},\n",
       " ('attn_head', 5, 5): {},\n",
       " ('attn_head', 5, 6): {},\n",
       " ('attn_head', 5, 7): {},\n",
       " ('attn_head', 5, 8): {},\n",
       " ('attn_head', 5, 9): {},\n",
       " ('attn_head', 5, 10): {},\n",
       " ('attn_head', 5, 11): {},\n",
       " ('mlp_feature',\n",
       "  5): {('attn_head', 0, 1): [(6307, 451),\n",
       "   (9715, 6307),\n",
       "   (451, 6307)], ('mlp_feature', 0): [(6307, 17305),\n",
       "   (17305, 6307),\n",
       "   (20546, 6307),\n",
       "   (17305, 6307),\n",
       "   (20546, 6307),\n",
       "   (10461, 6307),\n",
       "   (17305, 6307),\n",
       "   (20546, 6307),\n",
       "   (10461, 6307),\n",
       "   (13881, 6307),\n",
       "   (17305, 6307),\n",
       "   (20546, 6307),\n",
       "   (10461, 6307),\n",
       "   (13881, 6307)], ('mlp_feature', 4): [(22867, 6307)], ('attn_head',\n",
       "   6,\n",
       "   1): [(6307, 18591)], ('mlp_feature', 7): [(6307, 16407)], ('attn_head',\n",
       "   11,\n",
       "   1): [(14155, 6307), (14155, 6307)]},\n",
       " ('attn_head', 6, 0): {},\n",
       " ('attn_head',\n",
       "  6,\n",
       "  1): {('attn_head', 0, 1): [(451, 18591),\n",
       "   (9715, 18591),\n",
       "   (451, 18591)], ('mlp_feature', 0): [(18591, 17305),\n",
       "   (17305, 18591),\n",
       "   (20546, 18591),\n",
       "   (17305, 18591),\n",
       "   (20546, 18591),\n",
       "   (10461, 18591),\n",
       "   (17305, 18591),\n",
       "   (20546, 18591),\n",
       "   (10461, 18591),\n",
       "   (13881, 18591),\n",
       "   (17305, 18591),\n",
       "   (20546, 18591),\n",
       "   (10461, 18591),\n",
       "   (13881, 18591)], ('mlp_feature', 4): [(22867, 18591)], ('mlp_feature',\n",
       "   5): [(6307, 18591)], ('mlp_feature', 7): [(18591, 16407)], ('attn_head',\n",
       "   11,\n",
       "   1): [(14155, 18591), (14155, 18591)]},\n",
       " ('attn_head', 6, 2): {},\n",
       " ('attn_head', 6, 3): {},\n",
       " ('attn_head', 6, 4): {},\n",
       " ('attn_head', 6, 5): {},\n",
       " ('attn_head', 6, 6): {},\n",
       " ('attn_head', 6, 7): {},\n",
       " ('attn_head', 6, 8): {},\n",
       " ('attn_head', 6, 9): {},\n",
       " ('attn_head', 6, 10): {},\n",
       " ('attn_head', 6, 11): {},\n",
       " ('mlp_feature', 6): {},\n",
       " ('attn_head', 7, 0): {},\n",
       " ('attn_head', 7, 1): {},\n",
       " ('attn_head', 7, 2): {},\n",
       " ('attn_head', 7, 3): {},\n",
       " ('attn_head', 7, 4): {},\n",
       " ('attn_head', 7, 5): {},\n",
       " ('attn_head', 7, 6): {},\n",
       " ('attn_head', 7, 7): {},\n",
       " ('attn_head', 7, 8): {},\n",
       " ('attn_head', 7, 9): {},\n",
       " ('attn_head', 7, 10): {},\n",
       " ('attn_head', 7, 11): {},\n",
       " ('mlp_feature',\n",
       "  7): {('attn_head', 0, 1): [(451, 16407),\n",
       "   (9715, 16407),\n",
       "   (451, 16407)], ('mlp_feature', 0): [(16407, 17305),\n",
       "   (17305, 16407),\n",
       "   (20546, 16407),\n",
       "   (17305, 16407),\n",
       "   (20546, 16407),\n",
       "   (10461, 16407),\n",
       "   (17305, 16407),\n",
       "   (20546, 16407),\n",
       "   (10461, 16407),\n",
       "   (13881, 16407),\n",
       "   (17305, 16407),\n",
       "   (20546, 16407),\n",
       "   (10461, 16407),\n",
       "   (13881, 16407)], ('mlp_feature', 4): [(22867, 16407)], ('mlp_feature',\n",
       "   5): [(6307, 16407)], ('attn_head', 6, 1): [(18591, 16407)], ('attn_head',\n",
       "   11,\n",
       "   1): [(14155, 16407), (14155, 16407)]},\n",
       " ('attn_head', 8, 0): {},\n",
       " ('attn_head', 8, 1): {},\n",
       " ('attn_head', 8, 2): {},\n",
       " ('attn_head', 8, 3): {},\n",
       " ('attn_head', 8, 4): {},\n",
       " ('attn_head', 8, 5): {},\n",
       " ('attn_head', 8, 6): {},\n",
       " ('attn_head', 8, 7): {},\n",
       " ('attn_head', 8, 8): {},\n",
       " ('attn_head', 8, 9): {},\n",
       " ('attn_head', 8, 10): {},\n",
       " ('attn_head', 8, 11): {},\n",
       " ('mlp_feature', 8): {},\n",
       " ('attn_head', 9, 0): {},\n",
       " ('attn_head', 9, 1): {},\n",
       " ('attn_head', 9, 2): {},\n",
       " ('attn_head', 9, 3): {},\n",
       " ('attn_head', 9, 4): {},\n",
       " ('attn_head', 9, 5): {},\n",
       " ('attn_head', 9, 6): {},\n",
       " ('attn_head', 9, 7): {},\n",
       " ('attn_head', 9, 8): {},\n",
       " ('attn_head', 9, 9): {},\n",
       " ('attn_head', 9, 10): {},\n",
       " ('attn_head', 9, 11): {},\n",
       " ('mlp_feature', 9): {},\n",
       " ('attn_head', 10, 0): {},\n",
       " ('attn_head', 10, 1): {},\n",
       " ('attn_head', 10, 2): {},\n",
       " ('attn_head', 10, 3): {},\n",
       " ('attn_head', 10, 4): {},\n",
       " ('attn_head', 10, 5): {},\n",
       " ('attn_head', 10, 6): {},\n",
       " ('attn_head', 10, 7): {},\n",
       " ('attn_head', 10, 8): {},\n",
       " ('attn_head', 10, 9): {},\n",
       " ('attn_head', 10, 10): {},\n",
       " ('attn_head', 10, 11): {},\n",
       " ('mlp_feature', 10): {},\n",
       " ('attn_head', 11, 0): {},\n",
       " ('attn_head',\n",
       "  11,\n",
       "  1): {('attn_head', 0, 1): [(14155, 451),\n",
       "   (9715, 14155),\n",
       "   (451, 14155),\n",
       "   (14155, 451),\n",
       "   (14155, 9715)], ('mlp_feature', 0): [(14155, 17305),\n",
       "   (14155, 20546),\n",
       "   (14155, 10461),\n",
       "   (17305, 14155),\n",
       "   (20546, 14155),\n",
       "   (10461, 14155),\n",
       "   (13881, 14155),\n",
       "   (17305, 14155),\n",
       "   (20546, 14155),\n",
       "   (10461, 14155),\n",
       "   (13881, 14155),\n",
       "   (14155, 17305),\n",
       "   (14155, 20546),\n",
       "   (14155, 10461),\n",
       "   (14155, 13881)], ('mlp_feature', 4): [(14155, 22867),\n",
       "   (14155, 22867)], ('mlp_feature', 5): [(14155, 6307),\n",
       "   (14155, 6307)], ('attn_head', 6, 1): [(14155, 18591),\n",
       "   (14155, 18591)], ('mlp_feature', 7): [(14155, 16407), (14155, 16407)]},\n",
       " ('attn_head', 11, 2): {},\n",
       " ('attn_head', 11, 3): {},\n",
       " ('attn_head', 11, 4): {},\n",
       " ('attn_head', 11, 5): {},\n",
       " ('attn_head', 11, 6): {},\n",
       " ('attn_head', 11, 7): {},\n",
       " ('attn_head', 11, 8): {},\n",
       " ('attn_head', 11, 9): {},\n",
       " ('attn_head', 11, 10): {},\n",
       " ('attn_head', 11, 11): {},\n",
       " ('mlp_feature', 11): {}}"
      ]
     },
     "execution_count": 12,
     "metadata": {},
     "output_type": "execute_result"
    }
   ],
   "source": [
    "cooc_dict"
   ]
  },
  {
   "cell_type": "code",
   "execution_count": 13,
   "metadata": {},
   "outputs": [
    {
     "name": "stdout",
     "output_type": "stream",
     "text": [
      "('attn_head', 0, 1) ('mlp_feature', 0) [(451, 17305), (17305, 451), (20546, 451), (17305, 451), (20546, 451), (10461, 451), (17305, 451), (20546, 451), (10461, 451), (13881, 451), (17305, 451), (20546, 451), (10461, 451), (13881, 451), (9715, 17305), (9715, 20546), (9715, 10461), (9715, 13881), (451, 17305), (451, 20546), (451, 10461), (451, 13881)]\n",
      "('attn_head', 0, 1) ('mlp_feature', 4) [(22867, 451), (9715, 22867), (451, 22867)]\n",
      "('attn_head', 0, 1) ('mlp_feature', 5) [(6307, 451), (9715, 6307), (451, 6307)]\n",
      "('attn_head', 0, 1) ('attn_head', 6, 1) [(451, 18591), (9715, 18591), (451, 18591)]\n",
      "('attn_head', 0, 1) ('mlp_feature', 7) [(451, 16407), (9715, 16407), (451, 16407)]\n",
      "('attn_head', 0, 1) ('attn_head', 11, 1) [(14155, 451), (9715, 14155), (451, 14155), (14155, 451), (14155, 9715)]\n",
      "('mlp_feature', 0) ('attn_head', 0, 1) [(451, 17305), (17305, 451), (20546, 451), (17305, 451), (20546, 451), (10461, 451), (17305, 451), (20546, 451), (10461, 451), (13881, 451), (17305, 451), (20546, 451), (10461, 451), (13881, 451), (9715, 17305), (9715, 20546), (9715, 10461), (9715, 13881), (451, 17305), (451, 20546), (451, 10461), (451, 13881)]\n",
      "('mlp_feature', 0) ('mlp_feature', 4) [(22867, 17305), (22867, 20546), (17305, 22867), (20546, 22867), (10461, 22867), (17305, 22867), (20546, 22867), (10461, 22867), (13881, 22867), (17305, 22867), (20546, 22867), (10461, 22867), (13881, 22867)]\n",
      "('mlp_feature', 0) ('mlp_feature', 5) [(6307, 17305), (17305, 6307), (20546, 6307), (17305, 6307), (20546, 6307), (10461, 6307), (17305, 6307), (20546, 6307), (10461, 6307), (13881, 6307), (17305, 6307), (20546, 6307), (10461, 6307), (13881, 6307)]\n",
      "('mlp_feature', 0) ('attn_head', 6, 1) [(18591, 17305), (17305, 18591), (20546, 18591), (17305, 18591), (20546, 18591), (10461, 18591), (17305, 18591), (20546, 18591), (10461, 18591), (13881, 18591), (17305, 18591), (20546, 18591), (10461, 18591), (13881, 18591)]\n",
      "('mlp_feature', 0) ('mlp_feature', 7) [(16407, 17305), (17305, 16407), (20546, 16407), (17305, 16407), (20546, 16407), (10461, 16407), (17305, 16407), (20546, 16407), (10461, 16407), (13881, 16407), (17305, 16407), (20546, 16407), (10461, 16407), (13881, 16407)]\n",
      "('mlp_feature', 0) ('attn_head', 11, 1) [(14155, 17305), (14155, 20546), (14155, 10461), (17305, 14155), (20546, 14155), (10461, 14155), (13881, 14155), (17305, 14155), (20546, 14155), (10461, 14155), (13881, 14155), (14155, 17305), (14155, 20546), (14155, 10461), (14155, 13881)]\n",
      "('mlp_feature', 4) ('attn_head', 0, 1) [(22867, 451), (9715, 22867), (451, 22867)]\n",
      "('mlp_feature', 4) ('mlp_feature', 0) [(22867, 17305), (22867, 20546), (17305, 22867), (20546, 22867), (10461, 22867), (17305, 22867), (20546, 22867), (10461, 22867), (13881, 22867), (17305, 22867), (20546, 22867), (10461, 22867), (13881, 22867)]\n",
      "('mlp_feature', 4) ('mlp_feature', 5) [(22867, 6307)]\n",
      "('mlp_feature', 4) ('attn_head', 6, 1) [(22867, 18591)]\n",
      "('mlp_feature', 4) ('mlp_feature', 7) [(22867, 16407)]\n",
      "('mlp_feature', 4) ('attn_head', 11, 1) [(14155, 22867), (14155, 22867)]\n",
      "('mlp_feature', 5) ('attn_head', 0, 1) [(6307, 451), (9715, 6307), (451, 6307)]\n",
      "('mlp_feature', 5) ('mlp_feature', 0) [(6307, 17305), (17305, 6307), (20546, 6307), (17305, 6307), (20546, 6307), (10461, 6307), (17305, 6307), (20546, 6307), (10461, 6307), (13881, 6307), (17305, 6307), (20546, 6307), (10461, 6307), (13881, 6307)]\n",
      "('mlp_feature', 5) ('mlp_feature', 4) [(22867, 6307)]\n",
      "('mlp_feature', 5) ('attn_head', 6, 1) [(6307, 18591)]\n",
      "('mlp_feature', 5) ('mlp_feature', 7) [(6307, 16407)]\n",
      "('mlp_feature', 5) ('attn_head', 11, 1) [(14155, 6307), (14155, 6307)]\n",
      "('attn_head', 6, 1) ('attn_head', 0, 1) [(451, 18591), (9715, 18591), (451, 18591)]\n",
      "('attn_head', 6, 1) ('mlp_feature', 0) [(18591, 17305), (17305, 18591), (20546, 18591), (17305, 18591), (20546, 18591), (10461, 18591), (17305, 18591), (20546, 18591), (10461, 18591), (13881, 18591), (17305, 18591), (20546, 18591), (10461, 18591), (13881, 18591)]\n",
      "('attn_head', 6, 1) ('mlp_feature', 4) [(22867, 18591)]\n",
      "('attn_head', 6, 1) ('mlp_feature', 5) [(6307, 18591)]\n",
      "('attn_head', 6, 1) ('mlp_feature', 7) [(18591, 16407)]\n",
      "('attn_head', 6, 1) ('attn_head', 11, 1) [(14155, 18591), (14155, 18591)]\n",
      "('mlp_feature', 7) ('attn_head', 0, 1) [(451, 16407), (9715, 16407), (451, 16407)]\n",
      "('mlp_feature', 7) ('mlp_feature', 0) [(16407, 17305), (17305, 16407), (20546, 16407), (17305, 16407), (20546, 16407), (10461, 16407), (17305, 16407), (20546, 16407), (10461, 16407), (13881, 16407), (17305, 16407), (20546, 16407), (10461, 16407), (13881, 16407)]\n",
      "('mlp_feature', 7) ('mlp_feature', 4) [(22867, 16407)]\n",
      "('mlp_feature', 7) ('mlp_feature', 5) [(6307, 16407)]\n",
      "('mlp_feature', 7) ('attn_head', 6, 1) [(18591, 16407)]\n",
      "('mlp_feature', 7) ('attn_head', 11, 1) [(14155, 16407), (14155, 16407)]\n",
      "('attn_head', 11, 1) ('attn_head', 0, 1) [(14155, 451), (9715, 14155), (451, 14155), (14155, 451), (14155, 9715)]\n",
      "('attn_head', 11, 1) ('mlp_feature', 0) [(14155, 17305), (14155, 20546), (14155, 10461), (17305, 14155), (20546, 14155), (10461, 14155), (13881, 14155), (17305, 14155), (20546, 14155), (10461, 14155), (13881, 14155), (14155, 17305), (14155, 20546), (14155, 10461), (14155, 13881)]\n",
      "('attn_head', 11, 1) ('mlp_feature', 4) [(14155, 22867), (14155, 22867)]\n",
      "('attn_head', 11, 1) ('mlp_feature', 5) [(14155, 6307), (14155, 6307)]\n",
      "('attn_head', 11, 1) ('attn_head', 6, 1) [(14155, 18591), (14155, 18591)]\n",
      "('attn_head', 11, 1) ('mlp_feature', 7) [(14155, 16407), (14155, 16407)]\n"
     ]
    }
   ],
   "source": [
    "def clean_co_occurrence_dict(co_occurrence_dict):\n",
    "    # Create a new dictionary to hold the cleaned data\n",
    "    cleaned_dict = {}\n",
    "\n",
    "    for component, co_occurrences in co_occurrence_dict.items():\n",
    "        # Create a new sub-dictionary for the current component\n",
    "        cleaned_sub_dict = {}\n",
    "\n",
    "        for other_component, feature_tuples in co_occurrences.items():\n",
    "            # Filter out tuples containing -1\n",
    "            filtered_tuples = [t for t in feature_tuples if -1 not in t]\n",
    "\n",
    "            if filtered_tuples:  # Only add if there are remaining tuples\n",
    "                cleaned_sub_dict[other_component] = filtered_tuples\n",
    "\n",
    "        if cleaned_sub_dict:  # Only add if there are remaining entries\n",
    "            cleaned_dict[component] = cleaned_sub_dict\n",
    "\n",
    "    return cleaned_dict\n",
    "\n",
    "# Example usage with the provided co_occurrence_dict\n",
    "cleaned_co_occurrence_dict = clean_co_occurrence_dict(cp.co_occurrence_dict)\n",
    "\n",
    "# Print the cleaned dictionary\n",
    "for k, v in cleaned_co_occurrence_dict.items():\n",
    "    for kk, vv in v.items():\n",
    "        print(k, kk, vv)"
   ]
  },
  {
   "cell_type": "code",
   "execution_count": null,
   "metadata": {},
   "outputs": [],
   "source": []
  }
 ],
 "metadata": {
  "kernelspec": {
   "display_name": "anu",
   "language": "python",
   "name": "python3"
  },
  "language_info": {
   "codemirror_mode": {
    "name": "ipython",
    "version": 3
   },
   "file_extension": ".py",
   "mimetype": "text/x-python",
   "name": "python",
   "nbconvert_exporter": "python",
   "pygments_lexer": "ipython3",
   "version": "3.12.1"
  }
 },
 "nbformat": 4,
 "nbformat_minor": 2
}
