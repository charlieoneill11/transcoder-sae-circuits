{
 "cells": [
  {
   "cell_type": "markdown",
   "metadata": {},
   "source": [
    "# Circuit autointerpretability"
   ]
  },
  {
   "cell_type": "markdown",
   "metadata": {},
   "source": [
    "This stuff just sets up everything we need."
   ]
  },
  {
   "cell_type": "code",
   "execution_count": 1,
   "metadata": {},
   "outputs": [
    {
     "name": "stderr",
     "output_type": "stream",
     "text": [
      "/Users/charlesoneill/miniconda3/envs/anu/lib/python3.12/site-packages/huggingface_hub/file_download.py:1132: FutureWarning: `resume_download` is deprecated and will be removed in version 1.0.0. Downloads always resume when possible. If you want to force a new download, use `force_download=True`.\n",
      "  warnings.warn(\n"
     ]
    },
    {
     "name": "stdout",
     "output_type": "stream",
     "text": [
      "Loaded pretrained model gpt2-small into HookedTransformer\n",
      "Loaded pretrained model gpt2-small into HookedTransformer\n"
     ]
    },
    {
     "name": "stderr",
     "output_type": "stream",
     "text": [
      "/Users/charlesoneill/miniconda3/envs/anu/lib/python3.12/site-packages/datasets/load.py:1486: FutureWarning: The repository for Skylion007/openwebtext contains custom code which must be executed to correctly load the dataset. You can inspect the repository content at https://hf.co/datasets/Skylion007/openwebtext\n",
      "You can avoid this message in future by passing the argument `trust_remote_code=True`.\n",
      "Passing `trust_remote_code=True` will be mandatory to load this dataset from the next major release of `datasets`.\n",
      "  warnings.warn(\n",
      "huggingface/tokenizers: The current process just got forked, after parallelism has already been used. Disabling parallelism to avoid deadlocks...\n",
      "To disable this warning, you can either:\n",
      "\t- Avoid using `tokenizers` before the fork if possible\n",
      "\t- Explicitly set the environment variable TOKENIZERS_PARALLELISM=(true | false)\n",
      "Token indices sequence length is longer than the specified maximum sequence length for this model (73252 > 1024). Running this sequence through the model will result in indexing errors\n"
     ]
    },
    {
     "name": "stdout",
     "output_type": "stream",
     "text": [
      "Loaded pretrained model gpt2-small into HookedTransformer\n",
      "\n",
      "Loading SAEs...\n"
     ]
    },
    {
     "name": "stderr",
     "output_type": "stream",
     "text": [
      "100%|██████████| 12/12 [00:07<00:00,  1.58it/s]\n"
     ]
    },
    {
     "name": "stdout",
     "output_type": "stream",
     "text": [
      "\n",
      "Loading Transcoders...\n"
     ]
    },
    {
     "name": "stderr",
     "output_type": "stream",
     "text": [
      "100%|██████████| 12/12 [00:04<00:00,  2.62it/s]\n"
     ]
    }
   ],
   "source": [
    "from autointerpretability import *\n",
    "\n",
    "config = yaml.safe_load(open(\"config.yaml\"))\n",
    "llm_client = AzureOpenAI(\n",
    "    azure_endpoint=config[\"base_url\"],\n",
    "    api_key=config[\"azure_api_key\"],\n",
    "    api_version=config[\"api_version\"],\n",
    ")\n",
    "\n",
    "model = HookedTransformer.from_pretrained('gpt2-small')\n",
    "\n",
    "dataset = load_dataset('Skylion007/openwebtext', split='train', streaming=True)\n",
    "dataset = dataset.shuffle(seed=42, buffer_size=10_000)\n",
    "tokenized_owt = tokenize_and_concatenate(dataset, model.tokenizer, max_length=128, streaming=True)\n",
    "tokenized_owt = tokenized_owt.shuffle(42)\n",
    "tokenized_owt = tokenized_owt.take(12800 * 2)\n",
    "owt_tokens = np.stack([x['tokens'] for x in tokenized_owt])\n",
    "owt_tokens_torch = torch.tensor(owt_tokens)\n",
    "\n",
    "device = 'cpu'\n",
    "tl_model, z_saes, transcoders = get_model_encoders(device=device)"
   ]
  },
  {
   "cell_type": "markdown",
   "metadata": {},
   "source": [
    "Note you can specify the features you want to examine, in each layer, and just pass in either the relevant ZSAE or MLP transcoder depending on what component you want to look at. The `get_feature_scores` function will handle the differences. Let's have a look at the max-activating examples on Danny's features he wanted to check out (note you can slice `owt_tokens_torch` to run for shorter)."
   ]
  },
  {
   "cell_type": "code",
   "execution_count": 2,
   "metadata": {},
   "outputs": [
    {
     "name": "stdout",
     "output_type": "stream",
     "text": [
      "ZSAE\n"
     ]
    },
    {
     "name": "stderr",
     "output_type": "stream",
     "text": [
      "100%|██████████| 400/400 [04:19<00:00,  1.54it/s]\n"
     ]
    }
   ],
   "source": [
    "features = [16513, 7861]\n",
    "sae = z_saes[8]\n",
    "feature_scores = get_feature_scores(model, sae, owt_tokens_torch, features, batch_size=64)"
   ]
  },
  {
   "cell_type": "markdown",
   "metadata": {},
   "source": [
    "Our feature scores are a tensor of shape `(batch, feature, seq_pos)`, and so I've got a function to help extract the max-activating examples for each feature. You need to specify the feature index, which is why it's helpful to know from above the features in your list."
   ]
  },
  {
   "cell_type": "code",
   "execution_count": 3,
   "metadata": {},
   "outputs": [
    {
     "data": {
      "text/html": [
       "\n",
       "    <style>\n",
       "        span.token {\n",
       "            font-family: monospace;\n",
       "            border-style: solid;\n",
       "            border-width: 1px;\n",
       "            border-color: #dddddd;\n",
       "        }\n",
       "    </style>\n",
       "    <span class='token' style='background-color: #ffffff'>&lt;|endoftext|&gt;<span class='feature_val'> (0.00)</span></span><span class='token' style='background-color: #ffffff'> the<span class='feature_val'> (0.00)</span></span><span class='token' style='background-color: #ffffff'> Latin<span class='feature_val'> (0.00)</span></span><span class='token' style='background-color: #ffffff'> word<span class='feature_val'> (0.00)</span></span><span class='token' style='background-color: #ffffff'> &quot;<span class='feature_val'> (0.00)</span></span><span class='token' style='background-color: #ffffff'>to<span class='feature_val'> (0.00)</span></span><span class='token' style='background-color: #ffffff'> know<span class='feature_val'> (0.00)</span></span><span class='token' style='background-color: #ffffff'>&quot;;<span class='feature_val'> (0.00)</span></span><span class='token' style='background-color: #ffffff'> knowledge<span class='feature_val'> (0.00)</span></span><span class='token' style='background-color: #ffffff'> plays<span class='feature_val'> (0.00)</span></span><span class='token' style='background-color: #ffffff'> an<span class='feature_val'> (0.00)</span></span><span class='token' style='background-color: #ffffff'> important<span class='feature_val'> (0.00)</span></span><span class='token' style='background-color: #ffffff'> role<span class='feature_val'> (0.00)</span></span><span class='token' style='background-color: #ffffff'> in<span class='feature_val'> (0.00)</span></span><span class='token' style='background-color: #ffffff'> this<span class='feature_val'> (0.00)</span></span><span class='token' style='background-color: #ffffff'> approach<span class='feature_val'> (0.00)</span></span><span class='token' style='background-color: #ffffff'> to<span class='feature_val'> (0.00)</span></span><span class='token' style='background-color: #ffffff'> teaching<span class='feature_val'> (0.00)</span></span><span class='token' style='background-color: #ffffff'> basic<span class='feature_val'> (0.00)</span></span><span class='token' style='background-color: #ffffff'> behavior<span class='feature_val'> (0.00)</span></span><span class='token' style='background-color: #ffffff'> therapy<span class='feature_val'> (0.00)</span></span><span class='token' style='background-color: #ffffff'> techniques<span class='feature_val'> (0.00)</span></span><span class='token' style='background-color: #ffffff'>.<span class='feature_val'> (0.00)</span></span><span class='token' style='background-color: #ffffff'> Research<span class='feature_val'> (0.00)</span></span><span class='token' style='background-color: #ffffff'> has<span class='feature_val'> (0.00)</span></span><span class='token' style='background-color: #ffffff'> shown<span class='feature_val'> (0.00)</span></span><span class='token' style='background-color: #ffffff'> that<span class='feature_val'> (0.00)</span></span><span class='token' style='background-color: #ffffff'> exposure<span class='feature_val'> (0.00)</span></span><span class='token' style='background-color: #ffffff'> and<span class='feature_val'> (0.00)</span></span><span class='token' style='background-color: #ffffff'> response<span class='feature_val'> (0.00)</span></span><span class='token' style='background-color: #ffffff'> prevention<span class='feature_val'> (0.00)</span></span><span class='token' style='background-color: #ffffff'> are<span class='feature_val'> (0.00)</span></span><span class='token' style='background-color: #ffffff'> very<span class='feature_val'> (0.00)</span></span><span class='token' style='background-color: #ffffff'> effective<span class='feature_val'> (0.00)</span></span><span class='token' style='background-color: #ffffff'> behavior<span class='feature_val'> (0.00)</span></span><span class='token' style='background-color: #ffffff'> therapy<span class='feature_val'> (0.00)</span></span><span class='token' style='background-color: #ffffff'> techniques<span class='feature_val'> (0.00)</span></span><span class='token' style='background-color: #ffffff'> for<span class='feature_val'> (0.00)</span></span><span class='token' style='background-color: #ffffff'> treating<span class='feature_val'> (0.00)</span></span><span class='token' style='background-color: #ffffff'> OCD<span class='feature_val'> (0.00)</span></span><span class='token' style='background-color: #ffffff'>.<span class='feature_val'> (0.00)</span></span><span class='token' style='background-color: #ffffff'> In<span class='feature_val'> (0.00)</span></span><span class='token' style='background-color: #ffffff'> traditional<span class='feature_val'> (0.00)</span></span><span class='token' style='background-color: #ffffff'> exposure<span class='feature_val'> (0.00)</span></span><span class='token' style='background-color: #ffffff'> and<span class='feature_val'> (0.00)</span></span><span class='token' style='background-color: #ffffff'> response<span class='feature_val'> (0.00)</span></span><span class='token' style='background-color: #ffffff'> prevention<span class='feature_val'> (0.00)</span></span><span class='token' style='background-color: #ffffff'>,<span class='feature_val'> (0.00)</span></span><span class='token' style='background-color: #ffffff'> people<span class='feature_val'> (0.00)</span></span><span class='token' style='background-color: #ffffff'> with<span class='feature_val'> (0.00)</span></span><span class='token' style='background-color: #ffffff'> OCD<span class='feature_val'> (0.00)</span></span><span class='token' style='background-color: #ffffff'> learn<span class='feature_val'> (0.00)</span></span><span class='token' style='background-color: #ffffff'>--<span class='feature_val'> (0.00)</span></span><span class='token' style='background-color: #ffffff'>under<span class='feature_val'> (0.00)</span></span><span class='token' style='background-color: #ffffff'> the<span class='feature_val'> (0.00)</span></span><span class='token' style='background-color: #ffffff'> continuing<span class='feature_val'> (0.00)</span></span><span class='token' style='background-color: #ffffff'> guidance<span class='feature_val'> (0.00)</span></span><span class='token' style='background-color: #ffffff'> of<span class='feature_val'> (0.00)</span></span><span class='token' style='background-color: #ffffff'> a<span class='feature_val'> (0.00)</span></span><span class='token' style='background-color: #ffffff'> professional<span class='feature_val'> (0.00)</span></span><span class='token' style='background-color: #ffffff'> therapist<span class='feature_val'> (0.00)</span></span><span class='token' style='background-color: #ffffff'>--<span class='feature_val'> (0.00)</span></span><span class='token' style='background-color: #ffffff'>to<span class='feature_val'> (0.00)</span></span><span class='token' style='background-color: #ffffff'> expose<span class='feature_val'> (0.00)</span></span><span class='token' style='background-color: #ffffff'> themselves<span class='feature_val'> (0.00)</span></span><span class='token' style='background-color: #ffffff'> to<span class='feature_val'> (0.00)</span></span><span class='token' style='background-color: #ffffff'> stimuli<span class='feature_val'> (0.00)</span></span><span class='token' style='background-color: #ffffff'> that<span class='feature_val'> (0.00)</span></span><span class='token' style='background-color: #ffffff'> intensify<span class='feature_val'> (0.00)</span></span><span class='token' style='background-color: #ffffff'> their<span class='feature_val'> (0.00)</span></span><span class='token' style='background-color: #ffffff'> obsessive<span class='feature_val'> (0.00)</span></span><span class='token' style='background-color: #ffffff'> thoughts<span class='feature_val'> (0.00)</span></span><span class='token' style='background-color: #ffffff'> and<span class='feature_val'> (0.00)</span></span><span class='token' style='background-color: #ffffff'> comp<span class='feature_val'> (0.00)</span></span><span class='token' style='background-color: #ffffff'>ulsive<span class='feature_val'> (0.00)</span></span><span class='token' style='background-color: #ffffff'> urges<span class='feature_val'> (0.00)</span></span><span class='token' style='background-color: #ffffff'> and<span class='feature_val'> (0.00)</span></span><span class='token' style='background-color: #ffffff'> then<span class='feature_val'> (0.00)</span></span><span class='token' style='background-color: #ffffff'> learn<span class='feature_val'> (0.00)</span></span><span class='token' style='background-color: #ffffff'> how<span class='feature_val'> (0.00)</span></span><span class='token' style='background-color: #ffffff'> to<span class='feature_val'> (0.00)</span></span><span class='token' style='background-color: #ffffff'> resist<span class='feature_val'> (0.00)</span></span><span class='token' style='background-color: #ffffff'> responding<span class='feature_val'> (0.00)</span></span><span class='token' style='background-color: #ffffff'> to<span class='feature_val'> (0.00)</span></span><span class='token' style='background-color: #ffffff'> those<span class='feature_val'> (0.00)</span></span><span class='token' style='background-color: #ffffff'> thoughts<span class='feature_val'> (0.00)</span></span><span class='token' style='background-color: #ffffff'> and<span class='feature_val'> (0.00)</span></span><span class='token' style='background-color: #ffffff'> urges<span class='feature_val'> (0.00)</span></span><span class='token' style='background-color: #ff8c00'> in<span class='feature_val'> (4.64)</span></span><span class='token' style='background-color: #ffffff'> a<span class='feature_val'> (0.00)</span></span><span class='token' style='background-color: #feeeda'> comp<span class='feature_val'> (0.66)</span></span><span class='token' style='background-color: #ffffff'>ulsive<span class='feature_val'> (0.00)</span></span><span class='token' style='background-color: #ffffff'> manner<span class='feature_val'> (0.00)</span></span><span class='token' style='background-color: #ffffff'>.<span class='feature_val'> (0.00)</span></span><span class='token' style='background-color: #ffffff'> For<span class='feature_val'> (0.00)</span></span><span class='token' style='background-color: #ffffff'> example<span class='feature_val'> (0.00)</span></span><span class='token' style='background-color: #ffffff'>,<span class='feature_val'> (0.00)</span></span><span class='token' style='background-color: #ffffff'> people<span class='feature_val'> (0.00)</span></span><span class='token' style='background-color: #ffffff'> who<span class='feature_val'> (0.00)</span></span><span class='token' style='background-color: #ffffff'> obsess<span class='feature_val'> (0.00)</span></span><span class='token' style='background-color: #ffffff'> ir<span class='feature_val'> (0.00)</span></span><span class='token' style='background-color: #ffffff'>ration<span class='feature_val'> (0.00)</span></span><span class='token' style='background-color: #ffffff'>ally<span class='feature_val'> (0.00)</span></span><span class='token' style='background-color: #ffffff'> about<span class='feature_val'> (0.00)</span></span><span class='token' style='background-color: #ffffff'> contamination<span class='feature_val'> (0.00)</span></span><span class='token' style='background-color: #ffffff'> from<span class='feature_val'> (0.00)</span></span><span class='token' style='background-color: #ffffff'> dirt<span class='feature_val'> (0.00)</span></span><span class='token' style='background-color: #ffffff'> may<span class='feature_val'> (0.00)</span></span><span class='token' style='background-color: #ffffff'> be<span class='feature_val'> (0.00)</span></span><span class='token' style='background-color: #ffffff'> instructed<span class='feature_val'> (0.00)</span></span><span class='token' style='background-color: #ffffff'> to<span class='feature_val'> (0.00)</span></span><span class='token' style='background-color: #ffffff'> hold<span class='feature_val'> (0.00)</span></span><span class='token' style='background-color: #ffffff'> something<span class='feature_val'> (0.00)</span></span><span class='token' style='background-color: #ffffff'> dirty<span class='feature_val'> (0.00)</span></span><span class='token' style='background-color: #ffffff'> in<span class='feature_val'> (0.00)</span></span><span class='token' style='background-color: #ffffff'> their<span class='feature_val'> (0.00)</span></span><span class='token' style='background-color: #ffffff'> hands<span class='feature_val'> (0.00)</span></span><span class='token' style='background-color: #ffffff'> and<span class='feature_val'> (0.00)</span></span><span class='token' style='background-color: #ffffff'> then<span class='feature_val'> (0.00)</span></span><span class='token' style='background-color: #ffffff'> not<span class='feature_val'> (0.00)</span></span><span class='token' style='background-color: #ffffff'> wash<span class='feature_val'> (0.00)</span></span><span class='token' style='background-color: #ffffff'> for<span class='feature_val'> (0.00)</span></span><span class='token' style='background-color: #ffffff'> at<span class='feature_val'> (0.00)</span></span><span class='token' style='background-color: #ffffff'> least<span class='feature_val'> (0.00)</span></span><span class='token' style='background-color: #ffffff'> three<span class='feature_val'> (0.00)</span></span><span class='token' style='background-color: #ffffff'> hours<span class='feature_val'> (0.00)</span></span><span class='token' style='background-color: #ffffff'>.<span class='feature_val'> (0.00)</span></span><span class='token' style='background-color: #ffffff'> We<span class='feature_val'> (0.00)</span></span>"
      ],
      "text/plain": [
       "<IPython.core.display.HTML object>"
      ]
     },
     "metadata": {},
     "output_type": "display_data"
    },
    {
     "data": {
      "text/html": [
       "\n",
       "    <style>\n",
       "        span.token {\n",
       "            font-family: monospace;\n",
       "            border-style: solid;\n",
       "            border-width: 1px;\n",
       "            border-color: #dddddd;\n",
       "        }\n",
       "    </style>\n",
       "    <span class='token' style='background-color: #ffffff'>&lt;|endoftext|&gt;<span class='feature_val'> (0.00)</span></span><span class='token' style='background-color: #ffffff'>�<span class='feature_val'> (0.00)</span></span><span class='token' style='background-color: #ffffff'>�<span class='feature_val'> (0.00)</span></span><span class='token' style='background-color: #ffffff'>s<span class='feature_val'> (0.00)</span></span><span class='token' style='background-color: #ffffff'> Facebook<span class='feature_val'> (0.00)</span></span><span class='token' style='background-color: #ffffff'> page<span class='feature_val'> (0.00)</span></span><span class='token' style='background-color: #ffffff'>:<span class='feature_val'> (0.00)</span></span><span class='token' style='background-color: #ffffff'>\n",
       "<span class='feature_val'> (0.00)</span></span><span class='token' style='background-color: #ffffff'>\n",
       "<span class='feature_val'> (0.00)</span></span><span class='token' style='background-color: #ffffff'>The<span class='feature_val'> (0.00)</span></span><span class='token' style='background-color: #ffffff'> annual<span class='feature_val'> (0.00)</span></span><span class='token' style='background-color: #ffffff'> comparative<span class='feature_val'> (0.00)</span></span><span class='token' style='background-color: #ffffff'> analysis<span class='feature_val'> (0.00)</span></span><span class='token' style='background-color: #ffffff'> of<span class='feature_val'> (0.00)</span></span><span class='token' style='background-color: #ffffff'> WR<span class='feature_val'> (0.00)</span></span><span class='token' style='background-color: #ffffff'>TH<span class='feature_val'> (0.00)</span></span><span class='token' style='background-color: #ffffff'> vs<span class='feature_val'> (0.00)</span></span><span class='token' style='background-color: #ffffff'> Kling<span class='feature_val'> (0.00)</span></span><span class='token' style='background-color: #ffffff'>enf<span class='feature_val'> (0.00)</span></span><span class='token' style='background-color: #ffffff'>uss<span class='feature_val'> (0.00)</span></span><span class='token' style='background-color: #ffffff'> has<span class='feature_val'> (0.00)</span></span><span class='token' style='background-color: #ffffff'> just<span class='feature_val'> (0.00)</span></span><span class='token' style='background-color: #ffffff'> been<span class='feature_val'> (0.00)</span></span><span class='token' style='background-color: #ffffff'> published<span class='feature_val'> (0.00)</span></span><span class='token' style='background-color: #ffffff'>.<span class='feature_val'> (0.00)</span></span><span class='token' style='background-color: #ffffff'> I<span class='feature_val'> (0.00)</span></span><span class='token' style='background-color: #ffffff'> am<span class='feature_val'> (0.00)</span></span><span class='token' style='background-color: #ffffff'> pleased<span class='feature_val'> (0.00)</span></span><span class='token' style='background-color: #ffffff'> to<span class='feature_val'> (0.00)</span></span><span class='token' style='background-color: #ffffff'> announce<span class='feature_val'> (0.00)</span></span><span class='token' style='background-color: #ffffff'> that<span class='feature_val'> (0.00)</span></span><span class='token' style='background-color: #ffffff'>,<span class='feature_val'> (0.00)</span></span><span class='token' style='background-color: #ffffff'> once<span class='feature_val'> (0.00)</span></span><span class='token' style='background-color: #ffffff'> again<span class='feature_val'> (0.00)</span></span><span class='token' style='background-color: #ffffff'>,<span class='feature_val'> (0.00)</span></span><span class='token' style='background-color: #ffffff'> WR<span class='feature_val'> (0.00)</span></span><span class='token' style='background-color: #ffffff'>TH<span class='feature_val'> (0.00)</span></span><span class='token' style='background-color: #ffffff'> has<span class='feature_val'> (0.00)</span></span><span class='token' style='background-color: #ffffff'> proved<span class='feature_val'> (0.00)</span></span><span class='token' style='background-color: #ffffff'> more<span class='feature_val'> (0.00)</span></span><span class='token' style='background-color: #ffffff'> accurate<span class='feature_val'> (0.00)</span></span><span class='token' style='background-color: #ffffff'> and<span class='feature_val'> (0.00)</span></span><span class='token' style='background-color: #ffffff'> comprehensive<span class='feature_val'> (0.00)</span></span><span class='token' style='background-color: #ffffff'> than<span class='feature_val'> (0.00)</span></span><span class='token' style='background-color: #ffffff'> the<span class='feature_val'> (0.00)</span></span><span class='token' style='background-color: #ffffff'> Super<span class='feature_val'> (0.00)</span></span><span class='token' style='background-color: #ffffff'> Frequency<span class='feature_val'> (0.00)</span></span><span class='token' style='background-color: #ffffff'> List<span class='feature_val'> (0.00)</span></span><span class='token' style='background-color: #ffffff'> as<span class='feature_val'> (0.00)</span></span><span class='token' style='background-color: #ffffff'> regards<span class='feature_val'> (0.00)</span></span><span class='token' style='background-color: #ffffff'> Short<span class='feature_val'> (0.00)</span></span><span class='token' style='background-color: #ffffff'>wave<span class='feature_val'> (0.00)</span></span><span class='token' style='background-color: #ffffff'> broadcasting<span class='feature_val'> (0.00)</span></span><span class='token' style='background-color: #ffffff'> (<span class='feature_val'> (0.00)</span></span><span class='token' style='background-color: #ffffff'>which<span class='feature_val'> (0.00)</span></span><span class='token' style='background-color: #ffffff'> is<span class='feature_val'> (0.00)</span></span><span class='token' style='background-color: #ffffff'> the<span class='feature_val'> (0.00)</span></span><span class='token' style='background-color: #ffffff'> area<span class='feature_val'> (0.00)</span></span><span class='token' style='background-color: #ffffff'> this<span class='feature_val'> (0.00)</span></span><span class='token' style='background-color: #ffffff'> study<span class='feature_val'> (0.00)</span></span><span class='token' style='background-color: #ffffff'> concent<span class='feature_val'> (0.00)</span></span><span class='token' style='background-color: #ffffff'>rates<span class='feature_val'> (0.00)</span></span><span class='token' style='background-color: #ffffff'> on<span class='feature_val'> (0.00)</span></span><span class='token' style='background-color: #ffffff'>).<span class='feature_val'> (0.00)</span></span><span class='token' style='background-color: #ffffff'> Overall<span class='feature_val'> (0.00)</span></span><span class='token' style='background-color: #ffffff'> we<span class='feature_val'> (0.00)</span></span><span class='token' style='background-color: #ffffff'> scored<span class='feature_val'> (0.00)</span></span><span class='token' style='background-color: #ffffff'> 98<span class='feature_val'> (0.00)</span></span><span class='token' style='background-color: #ffffff'>.<span class='feature_val'> (0.00)</span></span><span class='token' style='background-color: #ffffff'>4<span class='feature_val'> (0.00)</span></span><span class='token' style='background-color: #ffffff'>%,<span class='feature_val'> (0.00)</span></span><span class='token' style='background-color: #ffffff'> compared<span class='feature_val'> (0.00)</span></span><span class='token' style='background-color: #ffffff'> to<span class='feature_val'> (0.00)</span></span><span class='token' style='background-color: #ffffff'> the<span class='feature_val'> (0.00)</span></span><span class='token' style='background-color: #ffffff'> S<span class='feature_val'> (0.00)</span></span><span class='token' style='background-color: #ffffff'>FL<span class='feature_val'> (0.00)</span></span><span class='token' style='background-color: #ffffff'> which<span class='feature_val'> (0.00)</span></span><span class='token' style='background-color: #ffffff'> scored<span class='feature_val'> (0.00)</span></span><span class='token' style='background-color: #ffffff'> 97<span class='feature_val'> (0.00)</span></span><span class='token' style='background-color: #ffffff'>.<span class='feature_val'> (0.00)</span></span><span class='token' style='background-color: #ffffff'>6<span class='feature_val'> (0.00)</span></span><span class='token' style='background-color: #ffffff'>%.<span class='feature_val'> (0.00)</span></span><span class='token' style='background-color: #ffffff'> Breaking<span class='feature_val'> (0.00)</span></span><span class='token' style='background-color: #ffffff'> this<span class='feature_val'> (0.00)</span></span><span class='token' style='background-color: #ffffff'> down<span class='feature_val'> (0.00)</span></span><span class='token' style='background-color: #ffffff'> out<span class='feature_val'> (0.00)</span></span><span class='token' style='background-color: #ff8c00'> of<span class='feature_val'> (4.51)</span></span><span class='token' style='background-color: #ffffff'> a<span class='feature_val'> (0.00)</span></span><span class='token' style='background-color: #ffcb8c'> possible<span class='feature_val'> (2.03)</span></span><span class='token' style='background-color: #ffffff'> 125<span class='feature_val'> (0.00)</span></span><span class='token' style='background-color: #ffffff'> points<span class='feature_val'> (0.00)</span></span><span class='token' style='background-color: #ffffff'> for<span class='feature_val'> (0.00)</span></span><span class='token' style='background-color: #ffffff'> international<span class='feature_val'> (0.00)</span></span><span class='token' style='background-color: #ffffff'> broadcasting<span class='feature_val'> (0.00)</span></span><span class='token' style='background-color: #ffffff'>,<span class='feature_val'> (0.00)</span></span><span class='token' style='background-color: #ffffff'> we<span class='feature_val'> (0.00)</span></span><span class='token' style='background-color: #ffffff'> scored<span class='feature_val'> (0.00)</span></span><span class='token' style='background-color: #ffffff'> 124<span class='feature_val'> (0.00)</span></span><span class='token' style='background-color: #ffffff'>,<span class='feature_val'> (0.00)</span></span><span class='token' style='background-color: #ffffff'> whereas<span class='feature_val'> (0.00)</span></span><span class='token' style='background-color: #ffffff'> S<span class='feature_val'> (0.00)</span></span><span class='token' style='background-color: #ffffff'>FL<span class='feature_val'> (0.00)</span></span><span class='token' style='background-color: #ffffff'> scored<span class='feature_val'> (0.00)</span></span><span class='token' style='background-color: #ffffff'> 120<span class='feature_val'> (0.00)</span></span><span class='token' style='background-color: #ffffff'>.<span class='feature_val'> (0.00)</span></span><span class='token' style='background-color: #ffffff'> For<span class='feature_val'> (0.00)</span></span><span class='token' style='background-color: #ffffff'> domestic<span class='feature_val'> (0.00)</span></span><span class='token' style='background-color: #ffffff'> broadcasting<span class='feature_val'> (0.00)</span></span><span class='token' style='background-color: #ffffff'>,<span class='feature_val'> (0.00)</span></span><span class='token' style='background-color: #ffffff'> WR<span class='feature_val'> (0.00)</span></span><span class='token' style='background-color: #ffffff'>TH<span class='feature_val'> (0.00)</span></span><span class='token' style='background-color: #ffffff'> scored<span class='feature_val'> (0.00)</span></span><span class='token' style='background-color: #ffffff'> 122<span class='feature_val'> (0.00)</span></span><span class='token' style='background-color: #ffffff'>/<span class='feature_val'> (0.00)</span></span><span class='token' style='background-color: #ffffff'>125<span class='feature_val'> (0.00)</span></span><span class='token' style='background-color: #ffffff'> and<span class='feature_val'> (0.00)</span></span><span class='token' style='background-color: #ffffff'> S<span class='feature_val'> (0.00)</span></span><span class='token' style='background-color: #ffffff'>FL<span class='feature_val'> (0.00)</span></span><span class='token' style='background-color: #ffffff'> scored<span class='feature_val'> (0.00)</span></span><span class='token' style='background-color: #ffffff'> 124<span class='feature_val'> (0.00)</span></span><span class='token' style='background-color: #ffffff'>/<span class='feature_val'> (0.00)</span></span><span class='token' style='background-color: #ffffff'>125<span class='feature_val'> (0.00)</span></span><span class='token' style='background-color: #ffffff'>,<span class='feature_val'> (0.00)</span></span><span class='token' style='background-color: #ffffff'> so<span class='feature_val'> (0.00)</span></span><span class='token' style='background-color: #ffffff'> the<span class='feature_val'> (0.00)</span></span><span class='token' style='background-color: #ffffff'> S<span class='feature_val'> (0.00)</span></span><span class='token' style='background-color: #ffefdc'>FL<span class='feature_val'> (0.62)</span></span><span class='token' style='background-color: #ffffff'> just<span class='feature_val'> (0.00)</span></span>"
      ],
      "text/plain": [
       "<IPython.core.display.HTML object>"
      ]
     },
     "metadata": {},
     "output_type": "display_data"
    },
    {
     "data": {
      "text/html": [
       "\n",
       "    <style>\n",
       "        span.token {\n",
       "            font-family: monospace;\n",
       "            border-style: solid;\n",
       "            border-width: 1px;\n",
       "            border-color: #dddddd;\n",
       "        }\n",
       "    </style>\n",
       "    <span class='token' style='background-color: #ffffff'>&lt;|endoftext|&gt;<span class='feature_val'> (0.00)</span></span><span class='token' style='background-color: #ffffff'> Hart<span class='feature_val'> (0.00)</span></span><span class='token' style='background-color: #ffffff'> and<span class='feature_val'> (0.00)</span></span><span class='token' style='background-color: #ffffff'> Kyle<span class='feature_val'> (0.00)</span></span><span class='token' style='background-color: #ffffff'> Beck<span class='feature_val'> (0.00)</span></span><span class='token' style='background-color: #ffffff'>man<span class='feature_val'> (0.00)</span></span><span class='token' style='background-color: #ffffff'>.<span class='feature_val'> (0.00)</span></span><span class='token' style='background-color: #ffffff'> Hart<span class='feature_val'> (0.00)</span></span><span class='token' style='background-color: #ffffff'> was<span class='feature_val'> (0.00)</span></span><span class='token' style='background-color: #ffffff'> the<span class='feature_val'> (0.00)</span></span><span class='token' style='background-color: #ffffff'> prosecutor<span class='feature_val'> (0.00)</span></span><span class='token' style='background-color: #ffffff'> in<span class='feature_val'> (0.00)</span></span><span class='token' style='background-color: #ffffff'> the<span class='feature_val'> (0.00)</span></span><span class='token' style='background-color: #ffffff'> conviction<span class='feature_val'> (0.00)</span></span><span class='token' style='background-color: #ffffff'> of<span class='feature_val'> (0.00)</span></span><span class='token' style='background-color: #ffffff'> Alabama<span class='feature_val'> (0.00)</span></span><span class='token' style='background-color: #ffffff'> House<span class='feature_val'> (0.00)</span></span><span class='token' style='background-color: #ffffff'> Speaker<span class='feature_val'> (0.00)</span></span><span class='token' style='background-color: #ffffff'> Mike<span class='feature_val'> (0.00)</span></span><span class='token' style='background-color: #ffffff'> Hubbard<span class='feature_val'> (0.00)</span></span><span class='token' style='background-color: #ffffff'> last<span class='feature_val'> (0.00)</span></span><span class='token' style='background-color: #ffffff'> year<span class='feature_val'> (0.00)</span></span><span class='token' style='background-color: #ffffff'>.<span class='feature_val'> (0.00)</span></span><span class='token' style='background-color: #ffffff'>\n",
       "<span class='feature_val'> (0.00)</span></span><span class='token' style='background-color: #ffffff'>\n",
       "<span class='feature_val'> (0.00)</span></span><span class='token' style='background-color: #ffffff'>H<span class='feature_val'> (0.00)</span></span><span class='token' style='background-color: #ffffff'>end<span class='feature_val'> (0.00)</span></span><span class='token' style='background-color: #ffffff'>erson<span class='feature_val'> (0.00)</span></span><span class='token' style='background-color: #ffffff'> was<span class='feature_val'> (0.00)</span></span><span class='token' style='background-color: #ffffff'> indicted<span class='feature_val'> (0.00)</span></span><span class='token' style='background-color: #ffffff'> by<span class='feature_val'> (0.00)</span></span><span class='token' style='background-color: #ffffff'> the<span class='feature_val'> (0.00)</span></span><span class='token' style='background-color: #ffffff'> special<span class='feature_val'> (0.00)</span></span><span class='token' style='background-color: #ffffff'> grand<span class='feature_val'> (0.00)</span></span><span class='token' style='background-color: #ffffff'> jury<span class='feature_val'> (0.00)</span></span><span class='token' style='background-color: #ffffff'>,<span class='feature_val'> (0.00)</span></span><span class='token' style='background-color: #ffffff'> which<span class='feature_val'> (0.00)</span></span><span class='token' style='background-color: #ffffff'> was<span class='feature_val'> (0.00)</span></span><span class='token' style='background-color: #ffffff'> originally<span class='feature_val'> (0.00)</span></span><span class='token' style='background-color: #ffffff'> em<span class='feature_val'> (0.00)</span></span><span class='token' style='background-color: #ffffff'>pan<span class='feature_val'> (0.00)</span></span><span class='token' style='background-color: #ffffff'>eled<span class='feature_val'> (0.00)</span></span><span class='token' style='background-color: #ffffff'> in<span class='feature_val'> (0.00)</span></span><span class='token' style='background-color: #ffffff'> Jefferson<span class='feature_val'> (0.00)</span></span><span class='token' style='background-color: #ff8c00'> County<span class='feature_val'> (4.36)</span></span><span class='token' style='background-color: #ffffff'> on<span class='feature_val'> (0.00)</span></span><span class='token' style='background-color: #ffffff'> Oct<span class='feature_val'> (0.00)</span></span><span class='token' style='background-color: #ffffff'>.<span class='feature_val'> (0.00)</span></span><span class='token' style='background-color: #ffb965'> 17<span class='feature_val'> (2.62)</span></span><span class='token' style='background-color: #ffffff'>.<span class='feature_val'> (0.00)</span></span><span class='token' style='background-color: #ffe3c1'>\n",
       "<span class='feature_val'> (1.06)</span></span><span class='token' style='background-color: #ffffff'>\n",
       "<span class='feature_val'> (0.00)</span></span><span class='token' style='background-color: #ffffff'>Since<span class='feature_val'> (0.00)</span></span><span class='token' style='background-color: #ffffff'> that<span class='feature_val'> (0.00)</span></span><span class='token' style='background-color: #ffffff'> time<span class='feature_val'> (0.00)</span></span><span class='token' style='background-color: #ffffff'> that<span class='feature_val'> (0.00)</span></span><span class='token' style='background-color: #ffffff'> grand<span class='feature_val'> (0.00)</span></span><span class='token' style='background-color: #ffffff'> jury<span class='feature_val'> (0.00)</span></span><span class='token' style='background-color: #ffffff'> has<span class='feature_val'> (0.00)</span></span><span class='token' style='background-color: #ffffff'> met<span class='feature_val'> (0.00)</span></span><span class='token' style='background-color: #ffffff'> in<span class='feature_val'> (0.00)</span></span><span class='token' style='background-color: #ffffff'> one<span class='feature_val'> (0.00)</span></span><span class='token' style='background-color: #ffffff'> session<span class='feature_val'> (0.00)</span></span><span class='token' style='background-color: #ffffff'>,<span class='feature_val'> (0.00)</span></span><span class='token' style='background-color: #ffffff'> and<span class='feature_val'> (0.00)</span></span><span class='token' style='background-color: #ffffff'>,<span class='feature_val'> (0.00)</span></span><span class='token' style='background-color: #ffffff'> in<span class='feature_val'> (0.00)</span></span><span class='token' style='background-color: #ffffff'> that<span class='feature_val'> (0.00)</span></span><span class='token' style='background-color: #ffffff'> session<span class='feature_val'> (0.00)</span></span><span class='token' style='background-color: #ffffff'> heard<span class='feature_val'> (0.00)</span></span><span class='token' style='background-color: #ffffff'> the<span class='feature_val'> (0.00)</span></span><span class='token' style='background-color: #ffffff'> testimony<span class='feature_val'> (0.00)</span></span><span class='token' style='background-color: #ffffff'> of<span class='feature_val'> (0.00)</span></span><span class='token' style='background-color: #ffffff'> seven<span class='feature_val'> (0.00)</span></span><span class='token' style='background-color: #ffffff'> witnesses<span class='feature_val'> (0.00)</span></span><span class='token' style='background-color: #ffffff'>,<span class='feature_val'> (0.00)</span></span><span class='token' style='background-color: #ffffff'> according<span class='feature_val'> (0.00)</span></span><span class='token' style='background-color: #ffffff'> to<span class='feature_val'> (0.00)</span></span><span class='token' style='background-color: #ffffff'> a<span class='feature_val'> (0.00)</span></span><span class='token' style='background-color: #ffffff'> court<span class='feature_val'> (0.00)</span></span><span class='token' style='background-color: #ffffff'> document<span class='feature_val'> (0.00)</span></span><span class='token' style='background-color: #ffffff'> filed<span class='feature_val'> (0.00)</span></span><span class='token' style='background-color: #ffffff'> in<span class='feature_val'> (0.00)</span></span><span class='token' style='background-color: #ffffff'> Henderson<span class='feature_val'> (0.00)</span></span><span class='token' style='background-color: #ffffff'>&#x27;s<span class='feature_val'> (0.00)</span></span><span class='token' style='background-color: #ffffff'> case<span class='feature_val'> (0.00)</span></span><span class='token' style='background-color: #ffffff'>.<span class='feature_val'> (0.00)</span></span><span class='token' style='background-color: #ffffff'> The<span class='feature_val'> (0.00)</span></span><span class='token' style='background-color: #ffffff'> grand<span class='feature_val'> (0.00)</span></span><span class='token' style='background-color: #ffffff'> jury<span class='feature_val'> (0.00)</span></span><span class='token' style='background-color: #ffffff'> has<span class='feature_val'> (0.00)</span></span><span class='token' style='background-color: #ffffff'> returned<span class='feature_val'> (0.00)</span></span><span class='token' style='background-color: #ffffff'> one<span class='feature_val'> (0.00)</span></span><span class='token' style='background-color: #ffffff'> indictment<span class='feature_val'> (0.00)</span></span><span class='token' style='background-color: #ffffff'> (<span class='feature_val'> (0.00)</span></span><span class='token' style='background-color: #ffffff'>H<span class='feature_val'> (0.00)</span></span><span class='token' style='background-color: #ffffff'>end<span class='feature_val'> (0.00)</span></span><span class='token' style='background-color: #ffffff'>erson<span class='feature_val'> (0.00)</span></span><span class='token' style='background-color: #ffcb8d'>).<span class='feature_val'> (1.93)</span></span><span class='token' style='background-color: #ffffff'> &quot;<span class='feature_val'> (0.00)</span></span><span class='token' style='background-color: #ffffff'>We<span class='feature_val'> (0.00)</span></span><span class='token' style='background-color: #ffffff'> request<span class='feature_val'> (0.00)</span></span><span class='token' style='background-color: #ffe8cc'> that<span class='feature_val'> (0.86)</span></span><span class='token' style='background-color: #ffffff'> this<span class='feature_val'> (0.00)</span></span><span class='token' style='background-color: #ffffff'> grand<span class='feature_val'> (0.00)</span></span><span class='token' style='background-color: #ffffff'> jury<span class='feature_val'> (0.00)</span></span><span class='token' style='background-color: #ffffff'> be<span class='feature_val'> (0.00)</span></span><span class='token' style='background-color: #ffffff'> continued<span class='feature_val'> (0.00)</span></span><span class='token' style='background-color: #ffffff'> for<span class='feature_val'> (0.00)</span></span><span class='token' style='background-color: #ffffff'> further<span class='feature_val'> (0.00)</span></span><span class='token' style='background-color: #ffffff'> investigation<span class='feature_val'> (0.00)</span></span><span class='token' style='background-color: #ffffff'> into<span class='feature_val'> (0.00)</span></span><span class='token' style='background-color: #ffffff'> additional<span class='feature_val'> (0.00)</span></span><span class='token' style='background-color: #ffffff'> matters<span class='feature_val'> (0.00)</span></span><span class='token' style='background-color: #ffffff'>,&quot;<span class='feature_val'> (0.00)</span></span><span class='token' style='background-color: #ffffff'> according<span class='feature_val'> (0.00)</span></span><span class='token' style='background-color: #ffffff'> to<span class='feature_val'> (0.00)</span></span><span class='token' style='background-color: #ffffff'> the<span class='feature_val'> (0.00)</span></span><span class='token' style='background-color: #ffffff'> court<span class='feature_val'> (0.00)</span></span><span class='token' style='background-color: #ffffff'> document<span class='feature_val'> (0.00)</span></span><span class='token' style='background-color: #ffffff'>.<span class='feature_val'> (0.00)</span></span><span class='token' style='background-color: #ffffff'>\n",
       "<span class='feature_val'> (0.00)</span></span><span class='token' style='background-color: #ffffff'>\n",
       "<span class='feature_val'> (0.00)</span></span><span class='token' style='background-color: #ffffff'>Danny<span class='feature_val'> (0.00)</span></span><span class='token' style='background-color: #ffffff'> Carr<span class='feature_val'> (0.00)</span></span><span class='token' style='background-color: #ffffff'> named<span class='feature_val'> (0.00)</span></span><span class='token' style='background-color: #ffffff'> Jefferson<span class='feature_val'> (0.00)</span></span><span class='token' style='background-color: #ffffff'> County<span class='feature_val'> (0.00)</span></span>"
      ],
      "text/plain": [
       "<IPython.core.display.HTML object>"
      ]
     },
     "metadata": {},
     "output_type": "display_data"
    },
    {
     "data": {
      "text/html": [
       "\n",
       "    <style>\n",
       "        span.token {\n",
       "            font-family: monospace;\n",
       "            border-style: solid;\n",
       "            border-width: 1px;\n",
       "            border-color: #dddddd;\n",
       "        }\n",
       "    </style>\n",
       "    <span class='token' style='background-color: #ffffff'>&lt;|endoftext|&gt;<span class='feature_val'> (0.00)</span></span><span class='token' style='background-color: #ffffff'> market<span class='feature_val'> (0.00)</span></span><span class='token' style='background-color: #ffffff'>.<span class='feature_val'> (0.00)</span></span><span class='token' style='background-color: #ffffff'> More<span class='feature_val'> (0.00)</span></span><span class='token' style='background-color: #ffffff'> about<span class='feature_val'> (0.00)</span></span><span class='token' style='background-color: #ffffff'> Sharp<span class='feature_val'> (0.00)</span></span><span class='token' style='background-color: #ffffff'>,<span class='feature_val'> (0.00)</span></span><span class='token' style='background-color: #ffffff'> his<span class='feature_val'> (0.00)</span></span><span class='token' style='background-color: #ffffff'>ense<span class='feature_val'> (0.00)</span></span><span class='token' style='background-color: #ffffff'>,<span class='feature_val'> (0.00)</span></span><span class='token' style='background-color: #ffffff'> Te<span class='feature_val'> (0.00)</span></span><span class='token' style='background-color: #ffffff'>lev<span class='feature_val'> (0.00)</span></span><span class='token' style='background-color: #ffffff'>isions<span class='feature_val'> (0.00)</span></span><span class='token' style='background-color: #ffffff'>,<span class='feature_val'> (0.00)</span></span><span class='token' style='background-color: #ffffff'> Electronics<span class='feature_val'> (0.00)</span></span><span class='token' style='background-color: #ffffff'>,<span class='feature_val'> (0.00)</span></span><span class='token' style='background-color: #ffffff'> TV<span class='feature_val'> (0.00)</span></span><span class='token' style='background-color: #ffffff'> Sharp<span class='feature_val'> (0.00)</span></span><span class='token' style='background-color: #ffffff'> his<span class='feature_val'> (0.00)</span></span><span class='token' style='background-color: #ffffff'>ense<span class='feature_val'> (0.00)</span></span><span class='token' style='background-color: #ffffff'> Te<span class='feature_val'> (0.00)</span></span><span class='token' style='background-color: #ffffff'>lev<span class='feature_val'> (0.00)</span></span><span class='token' style='background-color: #ffffff'>isions<span class='feature_val'> (0.00)</span></span><span class='token' style='background-color: #ffffff'> Electronics<span class='feature_val'> (0.00)</span></span><span class='token' style='background-color: #ffffff'> TV<span class='feature_val'> (0.00)</span></span><span class='token' style='background-color: #ffffff'>With<span class='feature_val'> (0.00)</span></span><span class='token' style='background-color: #ffffff'> some<span class='feature_val'> (0.00)</span></span><span class='token' style='background-color: #ffffff'> luck<span class='feature_val'> (0.00)</span></span><span class='token' style='background-color: #ffffff'> and<span class='feature_val'> (0.00)</span></span><span class='token' style='background-color: #ffffff'> last<span class='feature_val'> (0.00)</span></span><span class='token' style='background-color: #ffffff'>-<span class='feature_val'> (0.00)</span></span><span class='token' style='background-color: #ffffff'>minute<span class='feature_val'> (0.00)</span></span><span class='token' style='background-color: #ffffff'> scrambling<span class='feature_val'> (0.00)</span></span><span class='token' style='background-color: #ffffff'>,<span class='feature_val'> (0.00)</span></span><span class='token' style='background-color: #feebd3'> Delta<span class='feature_val'> (0.73)</span></span><span class='token' style='background-color: #ffffff'> Air<span class='feature_val'> (0.00)</span></span><span class='token' style='background-color: #ffffff'> Lines<span class='feature_val'> (0.00)</span></span><span class='token' style='background-color: #ffffff'> managed<span class='feature_val'> (0.00)</span></span><span class='token' style='background-color: #ff8c00'> to<span class='feature_val'> (4.25)</span></span><span class='token' style='background-color: #ffffff'> step<span class='feature_val'> (0.00)</span></span><span class='token' style='background-color: #fef4e8'> in<span class='feature_val'> (0.38)</span></span><span class='token' style='background-color: #ffffff'> at<span class='feature_val'> (0.00)</span></span><span class='token' style='background-color: #ffffff'> the<span class='feature_val'> (0.00)</span></span><span class='token' style='background-color: #ffffff'> ele<span class='feature_val'> (0.00)</span></span><span class='token' style='background-color: #ffb65f'>venth<span class='feature_val'> (2.66)</span></span><span class='token' style='background-color: #fff1e1'> hour<span class='feature_val'> (0.50)</span></span><span class='token' style='background-color: #ffab46'> to<span class='feature_val'> (3.07)</span></span><span class='token' style='background-color: #ffdeb6'> fly<span class='feature_val'> (1.21)</span></span><span class='token' style='background-color: #ffc279'> the<span class='feature_val'> (2.23)</span></span><span class='token' style='background-color: #fef3e6'> Nigerian<span class='feature_val'> (0.41)</span></span><span class='token' style='background-color: #ffffff'> men<span class='feature_val'> (0.00)</span></span><span class='token' style='background-color: #ffffff'>�<span class='feature_val'> (0.00)</span></span><span class='token' style='background-color: #ffffff'>�<span class='feature_val'> (0.00)</span></span><span class='token' style='background-color: #ffffff'>s<span class='feature_val'> (0.00)</span></span><span class='token' style='background-color: #ffffff'> soccer<span class='feature_val'> (0.00)</span></span><span class='token' style='background-color: #ffffff'> team<span class='feature_val'> (0.00)</span></span><span class='token' style='background-color: #ffffff'> to<span class='feature_val'> (0.00)</span></span><span class='token' style='background-color: #ffffff'> Brazil<span class='feature_val'> (0.00)</span></span><span class='token' style='background-color: #ffffff'> in<span class='feature_val'> (0.00)</span></span><span class='token' style='background-color: #ffffff'> time<span class='feature_val'> (0.00)</span></span><span class='token' style='background-color: #ffffff'> for<span class='feature_val'> (0.00)</span></span><span class='token' style='background-color: #ffffff'> its<span class='feature_val'> (0.00)</span></span><span class='token' style='background-color: #ffffff'> first<span class='feature_val'> (0.00)</span></span><span class='token' style='background-color: #ffffff'> match<span class='feature_val'> (0.00)</span></span><span class='token' style='background-color: #ffffff'> in<span class='feature_val'> (0.00)</span></span><span class='token' style='background-color: #ffffff'> the<span class='feature_val'> (0.00)</span></span><span class='token' style='background-color: #ffffff'> Olympics<span class='feature_val'> (0.00)</span></span><span class='token' style='background-color: #ffffff'> Thursday<span class='feature_val'> (0.00)</span></span><span class='token' style='background-color: #ffffff'> evening<span class='feature_val'> (0.00)</span></span><span class='token' style='background-color: #ffffff'>.<span class='feature_val'> (0.00)</span></span><span class='token' style='background-color: #ffffff'>\n",
       "<span class='feature_val'> (0.00)</span></span><span class='token' style='background-color: #ffffff'>\n",
       "<span class='feature_val'> (0.00)</span></span><span class='token' style='background-color: #ffffff'>The<span class='feature_val'> (0.00)</span></span><span class='token' style='background-color: #ffffff'> team<span class='feature_val'> (0.00)</span></span><span class='token' style='background-color: #ffffff'> had<span class='feature_val'> (0.00)</span></span><span class='token' style='background-color: #ffffff'> been<span class='feature_val'> (0.00)</span></span><span class='token' style='background-color: #ffffff'> stranded<span class='feature_val'> (0.00)</span></span><span class='token' style='background-color: #ffffff'> in<span class='feature_val'> (0.00)</span></span><span class='token' style='background-color: #ffffff'> Atlanta<span class='feature_val'> (0.00)</span></span><span class='token' style='background-color: #ffffff'> for<span class='feature_val'> (0.00)</span></span><span class='token' style='background-color: #ffffff'> several<span class='feature_val'> (0.00)</span></span><span class='token' style='background-color: #ffffff'> days<span class='feature_val'> (0.00)</span></span><span class='token' style='background-color: #ffffff'> after<span class='feature_val'> (0.00)</span></span><span class='token' style='background-color: #ffffff'> a<span class='feature_val'> (0.00)</span></span><span class='token' style='background-color: #ffffff'> communications<span class='feature_val'> (0.00)</span></span><span class='token' style='background-color: #ffffff'> mix<span class='feature_val'> (0.00)</span></span><span class='token' style='background-color: #ffffff'>-<span class='feature_val'> (0.00)</span></span><span class='token' style='background-color: #ffffff'>up<span class='feature_val'> (0.00)</span></span><span class='token' style='background-color: #ffffff'>,<span class='feature_val'> (0.00)</span></span><span class='token' style='background-color: #ffffff'> according<span class='feature_val'> (0.00)</span></span><span class='token' style='background-color: #ffffff'> to<span class='feature_val'> (0.00)</span></span><span class='token' style='background-color: #ffffff'> Atlanta<span class='feature_val'> (0.00)</span></span><span class='token' style='background-color: #ffffff'>-<span class='feature_val'> (0.00)</span></span><span class='token' style='background-color: #ffffff'>based<span class='feature_val'> (0.00)</span></span><span class='token' style='background-color: #ffffff'> Delta<span class='feature_val'> (0.00)</span></span><span class='token' style='background-color: #ffffff'>.<span class='feature_val'> (0.00)</span></span><span class='token' style='background-color: #ffffff'> The<span class='feature_val'> (0.00)</span></span><span class='token' style='background-color: #ffffff'> team<span class='feature_val'> (0.00)</span></span><span class='token' style='background-color: #ffffff'> had<span class='feature_val'> (0.00)</span></span><span class='token' style='background-color: #ffffff'> been<span class='feature_val'> (0.00)</span></span><span class='token' style='background-color: #ffffff'> training<span class='feature_val'> (0.00)</span></span><span class='token' style='background-color: #ffffff'> in<span class='feature_val'> (0.00)</span></span><span class='token' style='background-color: #ffffff'> Atlanta<span class='feature_val'> (0.00)</span></span><span class='token' style='background-color: #ffffff'>,<span class='feature_val'> (0.00)</span></span><span class='token' style='background-color: #ffffff'> where<span class='feature_val'> (0.00)</span></span><span class='token' style='background-color: #ffffff'> Nigeria<span class='feature_val'> (0.00)</span></span><span class='token' style='background-color: #ffffff'> won<span class='feature_val'> (0.00)</span></span><span class='token' style='background-color: #ffffff'> the<span class='feature_val'> (0.00)</span></span><span class='token' style='background-color: #ffffff'> gold<span class='feature_val'> (0.00)</span></span><span class='token' style='background-color: #ffffff'> medal<span class='feature_val'> (0.00)</span></span><span class='token' style='background-color: #ffffff'> in<span class='feature_val'> (0.00)</span></span><span class='token' style='background-color: #ffffff'> soccer<span class='feature_val'> (0.00)</span></span><span class='token' style='background-color: #ffffff'> at<span class='feature_val'> (0.00)</span></span><span class='token' style='background-color: #ffffff'> the<span class='feature_val'> (0.00)</span></span><span class='token' style='background-color: #ffffff'> Olympics<span class='feature_val'> (0.00)</span></span><span class='token' style='background-color: #ffffff'> 20<span class='feature_val'> (0.00)</span></span><span class='token' style='background-color: #ffffff'> years<span class='feature_val'> (0.00)</span></span><span class='token' style='background-color: #ffffff'> ago<span class='feature_val'> (0.00)</span></span><span class='token' style='background-color: #ffffff'>.<span class='feature_val'> (0.00)</span></span><span class='token' style='background-color: #ffffff'>\n",
       "<span class='feature_val'> (0.00)</span></span><span class='token' style='background-color: #ffffff'>\n",
       "<span class='feature_val'> (0.00)</span></span><span class='token' style='background-color: #ffffff'>The<span class='feature_val'> (0.00)</span></span><span class='token' style='background-color: #ffffff'> problem<span class='feature_val'> (0.00)</span></span><span class='token' style='background-color: #ffffff'>,<span class='feature_val'> (0.00)</span></span><span class='token' style='background-color: #ffffff'> according<span class='feature_val'> (0.00)</span></span><span class='token' style='background-color: #ffffff'> to<span class='feature_val'> (0.00)</span></span><span class='token' style='background-color: #ffffff'> the<span class='feature_val'> (0.00)</span></span><span class='token' style='background-color: #ffffff'> founder<span class='feature_val'> (0.00)</span></span>"
      ],
      "text/plain": [
       "<IPython.core.display.HTML object>"
      ]
     },
     "metadata": {},
     "output_type": "display_data"
    },
    {
     "data": {
      "text/html": [
       "\n",
       "    <style>\n",
       "        span.token {\n",
       "            font-family: monospace;\n",
       "            border-style: solid;\n",
       "            border-width: 1px;\n",
       "            border-color: #dddddd;\n",
       "        }\n",
       "    </style>\n",
       "    <span class='token' style='background-color: #ffffff'>&lt;|endoftext|&gt;<span class='feature_val'> (0.00)</span></span><span class='token' style='background-color: #ffffff'> on<span class='feature_val'> (0.00)</span></span><span class='token' style='background-color: #ffffff'> paid<span class='feature_val'> (0.00)</span></span><span class='token' style='background-color: #ffffff'> administrative<span class='feature_val'> (0.00)</span></span><span class='token' style='background-color: #ffffff'> leave<span class='feature_val'> (0.00)</span></span><span class='token' style='background-color: #ffffff'>,<span class='feature_val'> (0.00)</span></span><span class='token' style='background-color: #ffffff'> as<span class='feature_val'> (0.00)</span></span><span class='token' style='background-color: #ffffff'> is<span class='feature_val'> (0.00)</span></span><span class='token' style='background-color: #ffffff'> standard<span class='feature_val'> (0.00)</span></span><span class='token' style='background-color: #ffffff'> practice<span class='feature_val'> (0.00)</span></span><span class='token' style='background-color: #ffffff'>.<span class='feature_val'> (0.00)</span></span><span class='token' style='background-color: #ffffff'>\n",
       "<span class='feature_val'> (0.00)</span></span><span class='token' style='background-color: #ffffff'>\n",
       "<span class='feature_val'> (0.00)</span></span><span class='token' style='background-color: #ffffff'>The<span class='feature_val'> (0.00)</span></span><span class='token' style='background-color: #ffffff'> officer<span class='feature_val'> (0.00)</span></span><span class='token' style='background-color: #ffffff'>-<span class='feature_val'> (0.00)</span></span><span class='token' style='background-color: #ffffff'>involved<span class='feature_val'> (0.00)</span></span><span class='token' style='background-color: #ffffff'> shooting<span class='feature_val'> (0.00)</span></span><span class='token' style='background-color: #ffffff'> is<span class='feature_val'> (0.00)</span></span><span class='token' style='background-color: #ffffff'> the<span class='feature_val'> (0.00)</span></span><span class='token' style='background-color: #ffffff'> third<span class='feature_val'> (0.00)</span></span><span class='token' style='background-color: #ffffff'> in<span class='feature_val'> (0.00)</span></span><span class='token' style='background-color: #ffffff'> Portland<span class='feature_val'> (0.00)</span></span><span class='token' style='background-color: #ffffff'> this<span class='feature_val'> (0.00)</span></span><span class='token' style='background-color: #ffffff'> year<span class='feature_val'> (0.00)</span></span><span class='token' style='background-color: #ffffff'>.<span class='feature_val'> (0.00)</span></span><span class='token' style='background-color: #ffffff'> Police<span class='feature_val'> (0.00)</span></span><span class='token' style='background-color: #ffffff'> shot<span class='feature_val'> (0.00)</span></span><span class='token' style='background-color: #ffffff'> Quan<span class='feature_val'> (0.00)</span></span><span class='token' style='background-color: #ffffff'>ice<span class='feature_val'> (0.00)</span></span><span class='token' style='background-color: #ffffff'> Hayes<span class='feature_val'> (0.00)</span></span><span class='token' style='background-color: #ffffff'> and<span class='feature_val'> (0.00)</span></span><span class='token' style='background-color: #ffffff'> Don<span class='feature_val'> (0.00)</span></span><span class='token' style='background-color: #ffffff'> Perkins<span class='feature_val'> (0.00)</span></span><span class='token' style='background-color: #ffffff'> on<span class='feature_val'> (0.00)</span></span><span class='token' style='background-color: #ffffff'> the<span class='feature_val'> (0.00)</span></span><span class='token' style='background-color: #ffffff'> same<span class='feature_val'> (0.00)</span></span><span class='token' style='background-color: #ffffff'> day<span class='feature_val'> (0.00)</span></span><span class='token' style='background-color: #ffffff'> in<span class='feature_val'> (0.00)</span></span><span class='token' style='background-color: #ffffff'> early<span class='feature_val'> (0.00)</span></span><span class='token' style='background-color: #ffffff'> February<span class='feature_val'> (0.00)</span></span><span class='token' style='background-color: #ffffff'>.<span class='feature_val'> (0.00)</span></span><span class='token' style='background-color: #ffffff'> Hayes<span class='feature_val'> (0.00)</span></span><span class='token' style='background-color: #ffffff'> died<span class='feature_val'> (0.00)</span></span><span class='token' style='background-color: #ffffff'>,<span class='feature_val'> (0.00)</span></span><span class='token' style='background-color: #ffffff'> and<span class='feature_val'> (0.00)</span></span><span class='token' style='background-color: #ffffff'> Perkins<span class='feature_val'> (0.00)</span></span><span class='token' style='background-color: #ffffff'> recovered<span class='feature_val'> (0.00)</span></span><span class='token' style='background-color: #ffffff'>.<span class='feature_val'> (0.00)</span></span><span class='token' style='background-color: #ffffff'>\n",
       "<span class='feature_val'> (0.00)</span></span><span class='token' style='background-color: #ffffff'>\n",
       "<span class='feature_val'> (0.00)</span></span><span class='token' style='background-color: #ffffff'>Grand<span class='feature_val'> (0.00)</span></span><span class='token' style='background-color: #ffffff'> j<span class='feature_val'> (0.00)</span></span><span class='token' style='background-color: #ffffff'>uries<span class='feature_val'> (0.00)</span></span><span class='token' style='background-color: #ffffff'> ruled<span class='feature_val'> (0.00)</span></span><span class='token' style='background-color: #ffffff'> officers<span class='feature_val'> (0.00)</span></span><span class='token' style='background-color: #ffffff'> were<span class='feature_val'> (0.00)</span></span><span class='token' style='background-color: #ffffff'> justified<span class='feature_val'> (0.00)</span></span><span class='token' style='background-color: #ffffff'> in<span class='feature_val'> (0.00)</span></span><span class='token' style='background-color: #ffffff'> both<span class='feature_val'> (0.00)</span></span><span class='token' style='background-color: #ffffff'> shootings<span class='feature_val'> (0.00)</span></span><span class='token' style='background-color: #ffffff'>.<span class='feature_val'> (0.00)</span></span><span class='token' style='background-color: #ffffff'>\n",
       "<span class='feature_val'> (0.00)</span></span><span class='token' style='background-color: #ffffff'>\n",
       "<span class='feature_val'> (0.00)</span></span><span class='token' style='background-color: #ffffff'>Police<span class='feature_val'> (0.00)</span></span><span class='token' style='background-color: #ffffff'> Chief<span class='feature_val'> (0.00)</span></span><span class='token' style='background-color: #ffffff'> Mike<span class='feature_val'> (0.00)</span></span><span class='token' style='background-color: #ffffff'> Marsh<span class='feature_val'> (0.00)</span></span><span class='token' style='background-color: #ffffff'>man<span class='feature_val'> (0.00)</span></span><span class='token' style='background-color: #ffffff'> and<span class='feature_val'> (0.00)</span></span><span class='token' style='background-color: #ffffff'> Mayor<span class='feature_val'> (0.00)</span></span><span class='token' style='background-color: #ffffff'> Ted<span class='feature_val'> (0.00)</span></span><span class='token' style='background-color: #ffffff'> Wheeler<span class='feature_val'> (0.00)</span></span><span class='token' style='background-color: #ffffff'> showed<span class='feature_val'> (0.00)</span></span><span class='token' style='background-color: #ffffff'> up<span class='feature_val'> (0.00)</span></span><span class='token' style='background-color: #ffffff'> at<span class='feature_val'> (0.00)</span></span><span class='token' style='background-color: #ffffff'> the<span class='feature_val'> (0.00)</span></span><span class='token' style='background-color: #ffffff'> shooting<span class='feature_val'> (0.00)</span></span><span class='token' style='background-color: #ffffff'> scene<span class='feature_val'> (0.00)</span></span><span class='token' style='background-color: #ffffff'> later<span class='feature_val'> (0.00)</span></span><span class='token' style='background-color: #ffffff'> Wednesday<span class='feature_val'> (0.00)</span></span><span class='token' style='background-color: #ffffff'> evening<span class='feature_val'> (0.00)</span></span><span class='token' style='background-color: #ffffff'>.<span class='feature_val'> (0.00)</span></span><span class='token' style='background-color: #ffffff'>\n",
       "<span class='feature_val'> (0.00)</span></span><span class='token' style='background-color: #ffffff'>\n",
       "<span class='feature_val'> (0.00)</span></span><span class='token' style='background-color: #ffffff'>Police<span class='feature_val'> (0.00)</span></span><span class='token' style='background-color: #ffffff'> ask<span class='feature_val'> (0.00)</span></span><span class='token' style='background-color: #ffffff'> anyone<span class='feature_val'> (0.00)</span></span><span class='token' style='background-color: #ff9719'> who<span class='feature_val'> (3.69)</span></span><span class='token' style='background-color: #ffffff'> has<span class='feature_val'> (0.00)</span></span><span class='token' style='background-color: #ff8c00'> information<span class='feature_val'> (4.09)</span></span><span class='token' style='background-color: #ffffff'> about<span class='feature_val'> (0.00)</span></span><span class='token' style='background-color: #ffffff'> the<span class='feature_val'> (0.00)</span></span><span class='token' style='background-color: #fff3e4'> incident<span class='feature_val'> (0.43)</span></span><span class='token' style='background-color: #ffffff'> and<span class='feature_val'> (0.00)</span></span><span class='token' style='background-color: #ffffff'> hasn<span class='feature_val'> (0.00)</span></span><span class='token' style='background-color: #fff7ee'>&#x27;t<span class='feature_val'> (0.27)</span></span><span class='token' style='background-color: #fffaf5'> already<span class='feature_val'> (0.15)</span></span><span class='token' style='background-color: #ffffff'> spoken<span class='feature_val'> (0.00)</span></span><span class='token' style='background-color: #ffffff'> to<span class='feature_val'> (0.00)</span></span><span class='token' style='background-color: #ffffff'> police<span class='feature_val'> (0.00)</span></span><span class='token' style='background-color: #ffffff'> to<span class='feature_val'> (0.00)</span></span><span class='token' style='background-color: #ffffff'> call<span class='feature_val'> (0.00)</span></span><span class='token' style='background-color: #ffffff'> detectives<span class='feature_val'> (0.00)</span></span><span class='token' style='background-color: #ffffff'> at<span class='feature_val'> (0.00)</span></span><span class='token' style='background-color: #ffffff'> 503<span class='feature_val'> (0.00)</span></span><span class='token' style='background-color: #ffffff'>-<span class='feature_val'> (0.00)</span></span><span class='token' style='background-color: #ffffff'>8<span class='feature_val'> (0.00)</span></span><span class='token' style='background-color: #ffffff'>23<span class='feature_val'> (0.00)</span></span><span class='token' style='background-color: #ffffff'>-<span class='feature_val'> (0.00)</span></span><span class='token' style='background-color: #ffffff'>04<span class='feature_val'> (0.00)</span></span><span class='token' style='background-color: #ffffff'>00<span class='feature_val'> (0.00)</span></span><span class='token' style='background-color: #ffffff'> or<span class='feature_val'> (0.00)</span></span><span class='token' style='background-color: #ffffff'> the<span class='feature_val'> (0.00)</span></span><span class='token' style='background-color: #ffffff'> non<span class='feature_val'> (0.00)</span></span><span class='token' style='background-color: #ffffff'>-<span class='feature_val'> (0.00)</span></span><span class='token' style='background-color: #ffffff'>emer<span class='feature_val'> (0.00)</span></span><span class='token' style='background-color: #ffffff'>gency<span class='feature_val'> (0.00)</span></span><span class='token' style='background-color: #ffffff'> line<span class='feature_val'> (0.00)</span></span><span class='token' style='background-color: #ffffff'>,<span class='feature_val'> (0.00)</span></span><span class='token' style='background-color: #ffffff'> 503<span class='feature_val'> (0.00)</span></span><span class='token' style='background-color: #ffffff'>-<span class='feature_val'> (0.00)</span></span><span class='token' style='background-color: #ffffff'>8<span class='feature_val'> (0.00)</span></span><span class='token' style='background-color: #ffffff'>23<span class='feature_val'> (0.00)</span></span><span class='token' style='background-color: #ffffff'>-<span class='feature_val'> (0.00)</span></span><span class='token' style='background-color: #ffffff'>3333<span class='feature_val'> (0.00)</span></span><span class='token' style='background-color: #ffffff'>.<span class='feature_val'> (0.00)</span></span><span class='token' style='background-color: #ffffff'>\n",
       "<span class='feature_val'> (0.00)</span></span>"
      ],
      "text/plain": [
       "<IPython.core.display.HTML object>"
      ]
     },
     "metadata": {},
     "output_type": "display_data"
    },
    {
     "data": {
      "text/html": [
       "\n",
       "    <style>\n",
       "        span.token {\n",
       "            font-family: monospace;\n",
       "            border-style: solid;\n",
       "            border-width: 1px;\n",
       "            border-color: #dddddd;\n",
       "        }\n",
       "    </style>\n",
       "    <span class='token' style='background-color: #ffffff'>&lt;|endoftext|&gt;<span class='feature_val'> (0.00)</span></span><span class='token' style='background-color: #ffffff'> invited<span class='feature_val'> (0.00)</span></span><span class='token' style='background-color: #ffffff'> by<span class='feature_val'> (0.00)</span></span><span class='token' style='background-color: #ffffff'> Oprah<span class='feature_val'> (0.00)</span></span><span class='token' style='background-color: #ffffff'> Win<span class='feature_val'> (0.00)</span></span><span class='token' style='background-color: #ffffff'>frey<span class='feature_val'> (0.00)</span></span><span class='token' style='background-color: #ffffff'> to<span class='feature_val'> (0.00)</span></span><span class='token' style='background-color: #ffffff'> a<span class='feature_val'> (0.00)</span></span><span class='token' style='background-color: #ffffff'> special<span class='feature_val'> (0.00)</span></span><span class='token' style='background-color: #ffffff'> Legends<span class='feature_val'> (0.00)</span></span><span class='token' style='background-color: #ffffff'> weekend<span class='feature_val'> (0.00)</span></span><span class='token' style='background-color: #ffffff'>.<span class='feature_val'> (0.00)</span></span><span class='token' style='background-color: #ffffff'> There<span class='feature_val'> (0.00)</span></span><span class='token' style='background-color: #ffffff'> were<span class='feature_val'> (0.00)</span></span><span class='token' style='background-color: #ffffff'> legends<span class='feature_val'> (0.00)</span></span><span class='token' style='background-color: #ffffff'> like<span class='feature_val'> (0.00)</span></span><span class='token' style='background-color: #ffffff'> T<span class='feature_val'> (0.00)</span></span><span class='token' style='background-color: #ffffff'>oni<span class='feature_val'> (0.00)</span></span><span class='token' style='background-color: #ffffff'> Morrison<span class='feature_val'> (0.00)</span></span><span class='token' style='background-color: #ffffff'>,<span class='feature_val'> (0.00)</span></span><span class='token' style='background-color: #ffffff'> Glad<span class='feature_val'> (0.00)</span></span><span class='token' style='background-color: #ffffff'>ys<span class='feature_val'> (0.00)</span></span><span class='token' style='background-color: #ffffff'> Knight<span class='feature_val'> (0.00)</span></span><span class='token' style='background-color: #ffffff'> and<span class='feature_val'> (0.00)</span></span><span class='token' style='background-color: #ffffff'> Maya<span class='feature_val'> (0.00)</span></span><span class='token' style='background-color: #ffffff'> Angel<span class='feature_val'> (0.00)</span></span><span class='token' style='background-color: #ffffff'>ou<span class='feature_val'> (0.00)</span></span><span class='token' style='background-color: #ffffff'> and<span class='feature_val'> (0.00)</span></span><span class='token' style='background-color: #ffffff'> �<span class='feature_val'> (0.00)</span></span><span class='token' style='background-color: #ffffff'>�<span class='feature_val'> (0.00)</span></span><span class='token' style='background-color: #ffffff'>young<span class='feature_val'> (0.00)</span></span><span class='token' style='background-color: #ffffff'>�<span class='feature_val'> (0.00)</span></span><span class='token' style='background-color: #ffffff'>�<span class='feature_val'> (0.00)</span></span><span class='token' style='background-color: #ffffff'>uns<span class='feature_val'> (0.00)</span></span><span class='token' style='background-color: #ffffff'>�<span class='feature_val'> (0.00)</span></span><span class='token' style='background-color: #ffffff'>�<span class='feature_val'> (0.00)</span></span><span class='token' style='background-color: #ffffff'> like<span class='feature_val'> (0.00)</span></span><span class='token' style='background-color: #ffffff'> Aud<span class='feature_val'> (0.00)</span></span><span class='token' style='background-color: #ffffff'>ra<span class='feature_val'> (0.00)</span></span><span class='token' style='background-color: #ffffff'>,<span class='feature_val'> (0.00)</span></span><span class='token' style='background-color: #ffffff'> Br<span class='feature_val'> (0.00)</span></span><span class='token' style='background-color: #ffffff'>andy<span class='feature_val'> (0.00)</span></span><span class='token' style='background-color: #ffffff'> and<span class='feature_val'> (0.00)</span></span><span class='token' style='background-color: #ffffff'> Angela<span class='feature_val'> (0.00)</span></span><span class='token' style='background-color: #ffffff'> Bass<span class='feature_val'> (0.00)</span></span><span class='token' style='background-color: #ffffff'>ett<span class='feature_val'> (0.00)</span></span><span class='token' style='background-color: #ffffff'>.<span class='feature_val'> (0.00)</span></span><span class='token' style='background-color: #ffffff'> Aud<span class='feature_val'> (0.00)</span></span><span class='token' style='background-color: #ffffff'>ra<span class='feature_val'> (0.00)</span></span><span class='token' style='background-color: #ffffff'> was<span class='feature_val'> (0.00)</span></span><span class='token' style='background-color: #ffffff'> incredibly<span class='feature_val'> (0.00)</span></span><span class='token' style='background-color: #ffffff'> intimidated<span class='feature_val'> (0.00)</span></span><span class='token' style='background-color: #ffffff'>.<span class='feature_val'> (0.00)</span></span><span class='token' style='background-color: #ffffff'> She<span class='feature_val'> (0.00)</span></span><span class='token' style='background-color: #fffbf6'> sat<span class='feature_val'> (0.14)</span></span><span class='token' style='background-color: #ffffff'> at<span class='feature_val'> (0.00)</span></span><span class='token' style='background-color: #ffffff'> a<span class='feature_val'> (0.00)</span></span><span class='token' style='background-color: #ffffff'> table<span class='feature_val'> (0.00)</span></span><span class='token' style='background-color: #ffffff'> surrounded<span class='feature_val'> (0.00)</span></span><span class='token' style='background-color: #ffffff'> by<span class='feature_val'> (0.00)</span></span><span class='token' style='background-color: #ffffff'> tons<span class='feature_val'> (0.00)</span></span><span class='token' style='background-color: #ffffff'> of<span class='feature_val'> (0.00)</span></span><span class='token' style='background-color: #ffffff'> big<span class='feature_val'> (0.00)</span></span><span class='token' style='background-color: #ffffff'> stars<span class='feature_val'> (0.00)</span></span><span class='token' style='background-color: #ffffff'>.<span class='feature_val'> (0.00)</span></span><span class='token' style='background-color: #ffffff'> It<span class='feature_val'> (0.00)</span></span><span class='token' style='background-color: #ffffff'> was<span class='feature_val'> (0.00)</span></span><span class='token' style='background-color: #ffffff'> too<span class='feature_val'> (0.00)</span></span><span class='token' style='background-color: #ffffff'> much<span class='feature_val'> (0.00)</span></span><span class='token' style='background-color: #ffffff'> to<span class='feature_val'> (0.00)</span></span><span class='token' style='background-color: #ffffff'> handle<span class='feature_val'> (0.00)</span></span><span class='token' style='background-color: #ffffff'>!<span class='feature_val'> (0.00)</span></span><span class='token' style='background-color: #ffffff'> Every<span class='feature_val'> (0.00)</span></span><span class='token' style='background-color: #ffffff'> star<span class='feature_val'> (0.00)</span></span><span class='token' style='background-color: #ffffff'> had<span class='feature_val'> (0.00)</span></span><span class='token' style='background-color: #ffffff'> a<span class='feature_val'> (0.00)</span></span><span class='token' style='background-color: #ffffff'> little<span class='feature_val'> (0.00)</span></span><span class='token' style='background-color: #ffffff'> name<span class='feature_val'> (0.00)</span></span><span class='token' style='background-color: #ffffff'>plate<span class='feature_val'> (0.00)</span></span><span class='token' style='background-color: #ffffff'> in<span class='feature_val'> (0.00)</span></span><span class='token' style='background-color: #ffffff'> front<span class='feature_val'> (0.00)</span></span><span class='token' style='background-color: #ffffff'> of<span class='feature_val'> (0.00)</span></span><span class='token' style='background-color: #ffffff'> their<span class='feature_val'> (0.00)</span></span><span class='token' style='background-color: #ffffff'> chair<span class='feature_val'> (0.00)</span></span><span class='token' style='background-color: #ffffff'>.<span class='feature_val'> (0.00)</span></span><span class='token' style='background-color: #ffffff'> They<span class='feature_val'> (0.00)</span></span><span class='token' style='background-color: #ffffff'> decided<span class='feature_val'> (0.00)</span></span><span class='token' style='background-color: #ffffff'> it<span class='feature_val'> (0.00)</span></span><span class='token' style='background-color: #ffffff'> would<span class='feature_val'> (0.00)</span></span><span class='token' style='background-color: #ffffff'> be<span class='feature_val'> (0.00)</span></span><span class='token' style='background-color: #ffffff'> fun<span class='feature_val'> (0.00)</span></span><span class='token' style='background-color: #ffffff'> to<span class='feature_val'> (0.00)</span></span><span class='token' style='background-color: #ffffff'> aut<span class='feature_val'> (0.00)</span></span><span class='token' style='background-color: #ffffff'>ograph<span class='feature_val'> (0.00)</span></span><span class='token' style='background-color: #ffffff'> them<span class='feature_val'> (0.00)</span></span><span class='token' style='background-color: #ffffff'> all<span class='feature_val'> (0.00)</span></span><span class='token' style='background-color: #ffffff'> as<span class='feature_val'> (0.00)</span></span><span class='token' style='background-color: #ffffff'> a<span class='feature_val'> (0.00)</span></span><span class='token' style='background-color: #ffffff'> m<span class='feature_val'> (0.00)</span></span><span class='token' style='background-color: #ffffff'>ement<span class='feature_val'> (0.00)</span></span><span class='token' style='background-color: #ffffff'>o<span class='feature_val'> (0.00)</span></span><span class='token' style='background-color: #ffffff'>!<span class='feature_val'> (0.00)</span></span><span class='token' style='background-color: #ffffff'> They<span class='feature_val'> (0.00)</span></span><span class='token' style='background-color: #ffffff'> were<span class='feature_val'> (0.00)</span></span><span class='token' style='background-color: #ff8c00'> passed<span class='feature_val'> (3.94)</span></span><span class='token' style='background-color: #fff6ed'> around<span class='feature_val'> (0.28)</span></span><span class='token' style='background-color: #ffffff'>,<span class='feature_val'> (0.00)</span></span><span class='token' style='background-color: #ffffff'> but<span class='feature_val'> (0.00)</span></span><span class='token' style='background-color: #ffffff'> soon<span class='feature_val'> (0.00)</span></span><span class='token' style='background-color: #ffffff'> the<span class='feature_val'> (0.00)</span></span><span class='token' style='background-color: #ffffff'> name<span class='feature_val'> (0.00)</span></span><span class='token' style='background-color: #ffffff'>plates<span class='feature_val'> (0.00)</span></span><span class='token' style='background-color: #ffffff'> got<span class='feature_val'> (0.00)</span></span><span class='token' style='background-color: #ffffff'> mixed<span class='feature_val'> (0.00)</span></span><span class='token' style='background-color: #ffffff'> up<span class='feature_val'> (0.00)</span></span><span class='token' style='background-color: #ffffff'>.<span class='feature_val'> (0.00)</span></span><span class='token' style='background-color: #ffffff'> Not<span class='feature_val'> (0.00)</span></span><span class='token' style='background-color: #ffffff'> to<span class='feature_val'> (0.00)</span></span><span class='token' style='background-color: #ffffff'> worry<span class='feature_val'> (0.00)</span></span><span class='token' style='background-color: #ffffff'>!,<span class='feature_val'> (0.00)</span></span><span class='token' style='background-color: #ffffff'> Ch<span class='feature_val'> (0.00)</span></span><span class='token' style='background-color: #ffffff'>aka<span class='feature_val'> (0.00)</span></span><span class='token' style='background-color: #ffffff'> Kahn<span class='feature_val'> (0.00)</span></span><span class='token' style='background-color: #ffffff'> said<span class='feature_val'> (0.00)</span></span><span class='token' style='background-color: #ffffff'>,<span class='feature_val'> (0.00)</span></span><span class='token' style='background-color: #ffffff'> she<span class='feature_val'> (0.00)</span></span><span class='token' style='background-color: #ffffff'>�<span class='feature_val'> (0.00)</span></span><span class='token' style='background-color: #ffffff'>�<span class='feature_val'> (0.00)</span></span>"
      ],
      "text/plain": [
       "<IPython.core.display.HTML object>"
      ]
     },
     "metadata": {},
     "output_type": "display_data"
    },
    {
     "data": {
      "text/html": [
       "\n",
       "    <style>\n",
       "        span.token {\n",
       "            font-family: monospace;\n",
       "            border-style: solid;\n",
       "            border-width: 1px;\n",
       "            border-color: #dddddd;\n",
       "        }\n",
       "    </style>\n",
       "    <span class='token' style='background-color: #ffffff'>&lt;|endoftext|&gt;<span class='feature_val'> (0.00)</span></span><span class='token' style='background-color: #ffffff'>OT<span class='feature_val'> (0.00)</span></span><span class='token' style='background-color: #ffffff'> De<span class='feature_val'> (0.00)</span></span><span class='token' style='background-color: #ffffff'>�<span class='feature_val'> (0.00)</span></span><span class='token' style='background-color: #ffffff'>�<span class='feature_val'> (0.00)</span></span><span class='token' style='background-color: #ffffff'>O<span class='feature_val'> (0.00)</span></span><span class='token' style='background-color: #ffffff'>nd<span class='feature_val'> (0.00)</span></span><span class='token' style='background-color: #ffffff'>re<span class='feature_val'> (0.00)</span></span><span class='token' style='background-color: #ffffff'> Wesley<span class='feature_val'> (0.00)</span></span><span class='token' style='background-color: #ffffff'>\n",
       "<span class='feature_val'> (0.00)</span></span><span class='token' style='background-color: #ffffff'>\n",
       "<span class='feature_val'> (0.00)</span></span><span class='token' style='background-color: #ffffff'>DB<span class='feature_val'> (0.00)</span></span><span class='token' style='background-color: #ffffff'> Car<span class='feature_val'> (0.00)</span></span><span class='token' style='background-color: #ffffff'>rington<span class='feature_val'> (0.00)</span></span><span class='token' style='background-color: #ffffff'> By<span class='feature_val'> (0.00)</span></span><span class='token' style='background-color: #ffffff'>nd<span class='feature_val'> (0.00)</span></span><span class='token' style='background-color: #ffffff'>om<span class='feature_val'> (0.00)</span></span><span class='token' style='background-color: #ffffff'> (<span class='feature_val'> (0.00)</span></span><span class='token' style='background-color: #ffffff'>wa<span class='feature_val'> (0.00)</span></span><span class='token' style='background-color: #ffffff'>ived<span class='feature_val'> (0.00)</span></span><span class='token' style='background-color: #ffffff'>/<span class='feature_val'> (0.00)</span></span><span class='token' style='background-color: #ffffff'>in<span class='feature_val'> (0.00)</span></span><span class='token' style='background-color: #ffffff'>jured<span class='feature_val'> (0.00)</span></span><span class='token' style='background-color: #ffffff'>)<span class='feature_val'> (0.00)</span></span><span class='token' style='background-color: #ffffff'>\n",
       "<span class='feature_val'> (0.00)</span></span><span class='token' style='background-color: #ffffff'>\n",
       "<span class='feature_val'> (0.00)</span></span><span class='token' style='background-color: #ffffff'>Second<span class='feature_val'> (0.00)</span></span><span class='token' style='background-color: #ffffff'>-<span class='feature_val'> (0.00)</span></span><span class='token' style='background-color: #ffffff'>year<span class='feature_val'> (0.00)</span></span><span class='token' style='background-color: #ffffff'> tight<span class='feature_val'> (0.00)</span></span><span class='token' style='background-color: #ffffff'> ends<span class='feature_val'> (0.00)</span></span><span class='token' style='background-color: #ffffff'> Darren<span class='feature_val'> (0.00)</span></span><span class='token' style='background-color: #ffffff'> Wall<span class='feature_val'> (0.00)</span></span><span class='token' style='background-color: #ffffff'>er<span class='feature_val'> (0.00)</span></span><span class='token' style='background-color: #ffffff'> and<span class='feature_val'> (0.00)</span></span><span class='token' style='background-color: #ffffff'> Nick<span class='feature_val'> (0.00)</span></span><span class='token' style='background-color: #ffffff'> Boyle<span class='feature_val'> (0.00)</span></span><span class='token' style='background-color: #ffffff'> also<span class='feature_val'> (0.00)</span></span><span class='token' style='background-color: #ffffff'> opened<span class='feature_val'> (0.00)</span></span><span class='token' style='background-color: #ffffff'> up<span class='feature_val'> (0.00)</span></span><span class='token' style='background-color: #ffffff'> roster<span class='feature_val'> (0.00)</span></span><span class='token' style='background-color: #ffffff'> spots<span class='feature_val'> (0.00)</span></span><span class='token' style='background-color: #ffffff'> because<span class='feature_val'> (0.00)</span></span><span class='token' style='background-color: #ffffff'> they<span class='feature_val'> (0.00)</span></span><span class='token' style='background-color: #ffffff'> are<span class='feature_val'> (0.00)</span></span><span class='token' style='background-color: #ffffff'> suspended<span class='feature_val'> (0.00)</span></span><span class='token' style='background-color: #ffffff'> to<span class='feature_val'> (0.00)</span></span><span class='token' style='background-color: #ffffff'> open<span class='feature_val'> (0.00)</span></span><span class='token' style='background-color: #ffffff'> the<span class='feature_val'> (0.00)</span></span><span class='token' style='background-color: #ffffff'> season<span class='feature_val'> (0.00)</span></span><span class='token' style='background-color: #ffffff'>.<span class='feature_val'> (0.00)</span></span><span class='token' style='background-color: #ffffff'> Wall<span class='feature_val'> (0.00)</span></span><span class='token' style='background-color: #ffffff'>er<span class='feature_val'> (0.00)</span></span><span class='token' style='background-color: #ffffff'> is<span class='feature_val'> (0.00)</span></span><span class='token' style='background-color: #ffffff'> suspended<span class='feature_val'> (0.00)</span></span><span class='token' style='background-color: #ffffff'> four<span class='feature_val'> (0.00)</span></span><span class='token' style='background-color: #ffffff'> games<span class='feature_val'> (0.00)</span></span><span class='token' style='background-color: #ffffff'> and<span class='feature_val'> (0.00)</span></span><span class='token' style='background-color: #ffffff'> Boyle<span class='feature_val'> (0.00)</span></span><span class='token' style='background-color: #ffffff'> will<span class='feature_val'> (0.00)</span></span><span class='token' style='background-color: #ffffff'> be<span class='feature_val'> (0.00)</span></span><span class='token' style='background-color: #ffffff'> out<span class='feature_val'> (0.00)</span></span><span class='token' style='background-color: #ffffff'> 10<span class='feature_val'> (0.00)</span></span><span class='token' style='background-color: #ffffff'> games<span class='feature_val'> (0.00)</span></span><span class='token' style='background-color: #ffffff'>.<span class='feature_val'> (0.00)</span></span><span class='token' style='background-color: #ffffff'>\n",
       "<span class='feature_val'> (0.00)</span></span><span class='token' style='background-color: #ffffff'>\n",
       "<span class='feature_val'> (0.00)</span></span><span class='token' style='background-color: #ffffff'>The<span class='feature_val'> (0.00)</span></span><span class='token' style='background-color: #ffffff'> most<span class='feature_val'> (0.00)</span></span><span class='token' style='background-color: #ffffff'> surprising<span class='feature_val'> (0.00)</span></span><span class='token' style='background-color: #ffffff'> move<span class='feature_val'> (0.00)</span></span><span class='token' style='background-color: #ffffff'> of<span class='feature_val'> (0.00)</span></span><span class='token' style='background-color: #ffffff'> the<span class='feature_val'> (0.00)</span></span><span class='token' style='background-color: #ffffff'> cuts<span class='feature_val'> (0.00)</span></span><span class='token' style='background-color: #ffffff'> was<span class='feature_val'> (0.00)</span></span><span class='token' style='background-color: #ffffff'> the<span class='feature_val'> (0.00)</span></span><span class='token' style='background-color: #ffffff'> decision<span class='feature_val'> (0.00)</span></span><span class='token' style='background-color: #ffffff'> to<span class='feature_val'> (0.00)</span></span><span class='token' style='background-color: #ffffff'> release<span class='feature_val'> (0.00)</span></span><span class='token' style='background-color: #ffffff'> Fors<span class='feature_val'> (0.00)</span></span><span class='token' style='background-color: #ffffff'>ett<span class='feature_val'> (0.00)</span></span><span class='token' style='background-color: #ffffff'>,<span class='feature_val'> (0.00)</span></span><span class='token' style='background-color: #ffffff'> who<span class='feature_val'> (0.00)</span></span><span class='token' style='background-color: #ffffff'> has<span class='feature_val'> (0.00)</span></span><span class='token' style='background-color: #ffffff'> been<span class='feature_val'> (0.00)</span></span><span class='token' style='background-color: #ffffff'> the<span class='feature_val'> (0.00)</span></span><span class='token' style='background-color: #ffffff'> team<span class='feature_val'> (0.00)</span></span><span class='token' style='background-color: #ffffff'>�<span class='feature_val'> (0.00)</span></span><span class='token' style='background-color: #ffffff'>�<span class='feature_val'> (0.00)</span></span><span class='token' style='background-color: #ffffff'>s<span class='feature_val'> (0.00)</span></span><span class='token' style='background-color: #ffffff'> starting<span class='feature_val'> (0.00)</span></span><span class='token' style='background-color: #ffffff'> running<span class='feature_val'> (0.00)</span></span><span class='token' style='background-color: #ffffff'> back<span class='feature_val'> (0.00)</span></span><span class='token' style='background-color: #ffffff'> the<span class='feature_val'> (0.00)</span></span><span class='token' style='background-color: #ffffff'> last<span class='feature_val'> (0.00)</span></span><span class='token' style='background-color: #ffffff'> two<span class='feature_val'> (0.00)</span></span><span class='token' style='background-color: #ffffff'> years<span class='feature_val'> (0.00)</span></span><span class='token' style='background-color: #ffffff'>.<span class='feature_val'> (0.00)</span></span><span class='token' style='background-color: #ffffff'> Cutting<span class='feature_val'> (0.00)</span></span><span class='token' style='background-color: #ffffff'> him<span class='feature_val'> (0.00)</span></span><span class='token' style='background-color: #ffffff'> leaves<span class='feature_val'> (0.00)</span></span><span class='token' style='background-color: #ffffff'> the<span class='feature_val'> (0.00)</span></span><span class='token' style='background-color: #ffffff'> Ravens<span class='feature_val'> (0.00)</span></span><span class='token' style='background-color: #ffffff'> with<span class='feature_val'> (0.00)</span></span><span class='token' style='background-color: #ffffff'> just<span class='feature_val'> (0.00)</span></span><span class='token' style='background-color: #ffffff'> two<span class='feature_val'> (0.00)</span></span><span class='token' style='background-color: #ffffff'> healthy<span class='feature_val'> (0.00)</span></span><span class='token' style='background-color: #ffffff'> running<span class='feature_val'> (0.00)</span></span><span class='token' style='background-color: #ffffff'> backs<span class='feature_val'> (0.00)</span></span><span class='token' style='background-color: #ffffff'> in<span class='feature_val'> (0.00)</span></span><span class='token' style='background-color: #ffffff'> Ter<span class='feature_val'> (0.00)</span></span><span class='token' style='background-color: #ffffff'>rance<span class='feature_val'> (0.00)</span></span><span class='token' style='background-color: #ffffff'> West<span class='feature_val'> (0.00)</span></span><span class='token' style='background-color: #ffffff'> and<span class='feature_val'> (0.00)</span></span><span class='token' style='background-color: #ff8c00'> Buck<span class='feature_val'> (3.92)</span></span><span class='token' style='background-color: #ffffff'> Allen<span class='feature_val'> (0.00)</span></span><span class='token' style='background-color: #ffffff'>.<span class='feature_val'> (0.00)</span></span><span class='token' style='background-color: #ffffff'> Rookie<span class='feature_val'> (0.00)</span></span><span class='token' style='background-color: #ffffff'> running<span class='feature_val'> (0.00)</span></span><span class='token' style='background-color: #ffffff'> back<span class='feature_val'> (0.00)</span></span><span class='token' style='background-color: #ffffff'> Kenneth<span class='feature_val'> (0.00)</span></span><span class='token' style='background-color: #ffffff'> Dixon<span class='feature_val'> (0.00)</span></span><span class='token' style='background-color: #ffffff'> was<span class='feature_val'> (0.00)</span></span><span class='token' style='background-color: #ffffff'> impressive<span class='feature_val'> (0.00)</span></span><span class='token' style='background-color: #ffffff'> in<span class='feature_val'> (0.00)</span></span><span class='token' style='background-color: #ffffff'> the<span class='feature_val'> (0.00)</span></span><span class='token' style='background-color: #ffffff'> preseason<span class='feature_val'> (0.00)</span></span><span class='token' style='background-color: #ffffff'>,<span class='feature_val'> (0.00)</span></span>"
      ],
      "text/plain": [
       "<IPython.core.display.HTML object>"
      ]
     },
     "metadata": {},
     "output_type": "display_data"
    },
    {
     "data": {
      "text/html": [
       "\n",
       "    <style>\n",
       "        span.token {\n",
       "            font-family: monospace;\n",
       "            border-style: solid;\n",
       "            border-width: 1px;\n",
       "            border-color: #dddddd;\n",
       "        }\n",
       "    </style>\n",
       "    <span class='token' style='background-color: #ffffff'>&lt;|endoftext|&gt;<span class='feature_val'> (0.00)</span></span><span class='token' style='background-color: #ffffff'> question<span class='feature_val'> (0.00)</span></span><span class='token' style='background-color: #ffffff'> is<span class='feature_val'> (0.00)</span></span><span class='token' style='background-color: #ffffff'>:<span class='feature_val'> (0.00)</span></span><span class='token' style='background-color: #ffffff'> are<span class='feature_val'> (0.00)</span></span><span class='token' style='background-color: #ffffff'> you<span class='feature_val'> (0.00)</span></span><span class='token' style='background-color: #ffffff'> going<span class='feature_val'> (0.00)</span></span><span class='token' style='background-color: #ffffff'> to<span class='feature_val'> (0.00)</span></span><span class='token' style='background-color: #ffffff'> use<span class='feature_val'> (0.00)</span></span><span class='token' style='background-color: #ffffff'> strength<span class='feature_val'> (0.00)</span></span><span class='token' style='background-color: #ffffff'> or<span class='feature_val'> (0.00)</span></span><span class='token' style='background-color: #ffffff'> dexterity<span class='feature_val'> (0.00)</span></span><span class='token' style='background-color: #ffffff'>?<span class='feature_val'> (0.00)</span></span><span class='token' style='background-color: #ffffff'> Each<span class='feature_val'> (0.00)</span></span><span class='token' style='background-color: #ffffff'> has<span class='feature_val'> (0.00)</span></span><span class='token' style='background-color: #ffffff'> its<span class='feature_val'> (0.00)</span></span><span class='token' style='background-color: #ffffff'> own<span class='feature_val'> (0.00)</span></span><span class='token' style='background-color: #ffffff'> advantages<span class='feature_val'> (0.00)</span></span><span class='token' style='background-color: #ffffff'> and<span class='feature_val'> (0.00)</span></span><span class='token' style='background-color: #ffffff'> disadvantages<span class='feature_val'> (0.00)</span></span><span class='token' style='background-color: #ffffff'>,<span class='feature_val'> (0.00)</span></span><span class='token' style='background-color: #ffffff'> so<span class='feature_val'> (0.00)</span></span><span class='token' style='background-color: #ffffff'> think<span class='feature_val'> (0.00)</span></span><span class='token' style='background-color: #ffffff'> carefully<span class='feature_val'> (0.00)</span></span><span class='token' style='background-color: #ffffff'>.<span class='feature_val'> (0.00)</span></span><span class='token' style='background-color: #ffffff'>\n",
       "<span class='feature_val'> (0.00)</span></span><span class='token' style='background-color: #ffffff'>\n",
       "<span class='feature_val'> (0.00)</span></span><span class='token' style='background-color: #ffffff'>Strength<span class='feature_val'> (0.00)</span></span><span class='token' style='background-color: #ffffff'>:<span class='feature_val'> (0.00)</span></span><span class='token' style='background-color: #ffffff'>\n",
       "<span class='feature_val'> (0.00)</span></span><span class='token' style='background-color: #ffffff'>\n",
       "<span class='feature_val'> (0.00)</span></span><span class='token' style='background-color: #ffffff'>-<span class='feature_val'> (0.00)</span></span><span class='token' style='background-color: #ffffff'>You<span class='feature_val'> (0.00)</span></span><span class='token' style='background-color: #ffffff'> can<span class='feature_val'> (0.00)</span></span><span class='token' style='background-color: #ffffff'> use<span class='feature_val'> (0.00)</span></span><span class='token' style='background-color: #ffffff'> more<span class='feature_val'> (0.00)</span></span><span class='token' style='background-color: #ffffff'> weapons<span class='feature_val'> (0.00)</span></span><span class='token' style='background-color: #ffffff'>.<span class='feature_val'> (0.00)</span></span><span class='token' style='background-color: #ffffff'> So<span class='feature_val'> (0.00)</span></span><span class='token' style='background-color: #ffffff'> far<span class='feature_val'> (0.00)</span></span><span class='token' style='background-color: #ffffff'> there<span class='feature_val'> (0.00)</span></span><span class='token' style='background-color: #ffffff'> are<span class='feature_val'> (0.00)</span></span><span class='token' style='background-color: #ffffff'> 31<span class='feature_val'> (0.00)</span></span><span class='token' style='background-color: #ffffff'> weapons<span class='feature_val'> (0.00)</span></span><span class='token' style='background-color: #ffffff'> strength<span class='feature_val'> (0.00)</span></span><span class='token' style='background-color: #ffffff'>-<span class='feature_val'> (0.00)</span></span><span class='token' style='background-color: #ffffff'>based<span class='feature_val'> (0.00)</span></span><span class='token' style='background-color: #ffffff'> characters<span class='feature_val'> (0.00)</span></span><span class='token' style='background-color: #ffffff'> can<span class='feature_val'> (0.00)</span></span><span class='token' style='background-color: #ffffff'> use<span class='feature_val'> (0.00)</span></span><span class='token' style='background-color: #ffffff'>,<span class='feature_val'> (0.00)</span></span><span class='token' style='background-color: #ffffff'> versus<span class='feature_val'> (0.00)</span></span><span class='token' style='background-color: #ffffff'> 13<span class='feature_val'> (0.00)</span></span><span class='token' style='background-color: #ffffff'> that<span class='feature_val'> (0.00)</span></span><span class='token' style='background-color: #ffffff'> a<span class='feature_val'> (0.00)</span></span><span class='token' style='background-color: #ffffff'> dexterity<span class='feature_val'> (0.00)</span></span><span class='token' style='background-color: #ffffff'>-<span class='feature_val'> (0.00)</span></span><span class='token' style='background-color: #ffffff'>based<span class='feature_val'> (0.00)</span></span><span class='token' style='background-color: #ffffff'> fighter<span class='feature_val'> (0.00)</span></span><span class='token' style='background-color: #ffffff'> would<span class='feature_val'> (0.00)</span></span><span class='token' style='background-color: #ffffff'> use<span class='feature_val'> (0.00)</span></span><span class='token' style='background-color: #ffffff'>.<span class='feature_val'> (0.00)</span></span><span class='token' style='background-color: #ffffff'>\n",
       "<span class='feature_val'> (0.00)</span></span><span class='token' style='background-color: #ffffff'>\n",
       "<span class='feature_val'> (0.00)</span></span><span class='token' style='background-color: #ffffff'>-<span class='feature_val'> (0.00)</span></span><span class='token' style='background-color: #ffffff'>You<span class='feature_val'> (0.00)</span></span><span class='token' style='background-color: #ffffff'> deal<span class='feature_val'> (0.00)</span></span><span class='token' style='background-color: #ffffff'> more<span class='feature_val'> (0.00)</span></span><span class='token' style='background-color: #ffffff'> damage<span class='feature_val'> (0.00)</span></span><span class='token' style='background-color: #ffffff'>.<span class='feature_val'> (0.00)</span></span><span class='token' style='background-color: #ffffff'> All<span class='feature_val'> (0.00)</span></span><span class='token' style='background-color: #ffffff'> of<span class='feature_val'> (0.00)</span></span><span class='token' style='background-color: #ffffff'> the<span class='feature_val'> (0.00)</span></span><span class='token' style='background-color: #ffffff'> heavy<span class='feature_val'> (0.00)</span></span><span class='token' style='background-color: #fff9f3'>-<span class='feature_val'> (0.17)</span></span><span class='token' style='background-color: #ffffff'>hitting<span class='feature_val'> (0.00)</span></span><span class='token' style='background-color: #ffffff'> weapons<span class='feature_val'> (0.00)</span></span><span class='token' style='background-color: #ffffff'>,<span class='feature_val'> (0.00)</span></span><span class='token' style='background-color: #ffffff'> such<span class='feature_val'> (0.00)</span></span><span class='token' style='background-color: #ffffff'> as<span class='feature_val'> (0.00)</span></span><span class='token' style='background-color: #ffffff'> m<span class='feature_val'> (0.00)</span></span><span class='token' style='background-color: #ffffff'>aul<span class='feature_val'> (0.00)</span></span><span class='token' style='background-color: #ffffff'>s<span class='feature_val'> (0.00)</span></span><span class='token' style='background-color: #ffffff'> and<span class='feature_val'> (0.00)</span></span><span class='token' style='background-color: #ffffff'> great<span class='feature_val'> (0.00)</span></span><span class='token' style='background-color: #ffffff'>sw<span class='feature_val'> (0.00)</span></span><span class='token' style='background-color: #ffffff'>ords<span class='feature_val'> (0.00)</span></span><span class='token' style='background-color: #ffffff'>,<span class='feature_val'> (0.00)</span></span><span class='token' style='background-color: #fffefd'> can<span class='feature_val'> (0.02)</span></span><span class='token' style='background-color: #ffffff'>&#x27;t<span class='feature_val'> (0.00)</span></span><span class='token' style='background-color: #fffdfc'> be<span class='feature_val'> (0.04)</span></span><span class='token' style='background-color: #ffffff'> used<span class='feature_val'> (0.00)</span></span><span class='token' style='background-color: #ffffff'> with<span class='feature_val'> (0.00)</span></span><span class='token' style='background-color: #ffffff'> dexterity<span class='feature_val'> (0.00)</span></span><span class='token' style='background-color: #ffffff'>.<span class='feature_val'> (0.00)</span></span><span class='token' style='background-color: #ffffff'>\n",
       "<span class='feature_val'> (0.00)</span></span><span class='token' style='background-color: #ffffff'>\n",
       "<span class='feature_val'> (0.00)</span></span><span class='token' style='background-color: #ffffff'>-<span class='feature_val'> (0.00)</span></span><span class='token' style='background-color: #fefdfc'>You<span class='feature_val'> (0.03)</span></span><span class='token' style='background-color: #ffffff'> aren<span class='feature_val'> (0.00)</span></span><span class='token' style='background-color: #ffffff'>&#x27;t<span class='feature_val'> (0.00)</span></span><span class='token' style='background-color: #ffffff'> slowed<span class='feature_val'> (0.00)</span></span><span class='token' style='background-color: #ffffff'> down<span class='feature_val'> (0.00)</span></span><span class='token' style='background-color: #ffffff'> by<span class='feature_val'> (0.00)</span></span><span class='token' style='background-color: #fffaf5'> heavy<span class='feature_val'> (0.14)</span></span><span class='token' style='background-color: #ffffff'> armor<span class='feature_val'> (0.00)</span></span><span class='token' style='background-color: #ffffff'>.<span class='feature_val'> (0.00)</span></span><span class='token' style='background-color: #ffffff'> In<span class='feature_val'> (0.00)</span></span><span class='token' style='background-color: #ffffff'> a<span class='feature_val'> (0.00)</span></span><span class='token' style='background-color: #ffffff'> game<span class='feature_val'> (0.00)</span></span><span class='token' style='background-color: #ffffff'> where<span class='feature_val'> (0.00)</span></span><span class='token' style='background-color: #ffffff'> charging<span class='feature_val'> (0.00)</span></span><span class='token' style='background-color: #ffffff'> doesn<span class='feature_val'> (0.00)</span></span><span class='token' style='background-color: #ffffff'>&#x27;t<span class='feature_val'> (0.00)</span></span><span class='token' style='background-color: #ffffff'> exist<span class='feature_val'> (0.00)</span></span><span class='token' style='background-color: #ffffff'>,<span class='feature_val'> (0.00)</span></span><span class='token' style='background-color: #ffffff'> speed<span class='feature_val'> (0.00)</span></span><span class='token' style='background-color: #ffffff'> is<span class='feature_val'> (0.00)</span></span><span class='token' style='background-color: #ffffff'> more<span class='feature_val'> (0.00)</span></span><span class='token' style='background-color: #ffffff'> important<span class='feature_val'> (0.00)</span></span><span class='token' style='background-color: #ffffff'> than<span class='feature_val'> (0.00)</span></span><span class='token' style='background-color: #ffffff'> it<span class='feature_val'> (0.00)</span></span><span class='token' style='background-color: #ffe3c2'> may<span class='feature_val'> (0.93)</span></span><span class='token' style='background-color: #ffffff'> seem<span class='feature_val'> (0.00)</span></span><span class='token' style='background-color: #ffdbaf'>.<span class='feature_val'> (1.22)</span></span><span class='token' style='background-color: #ffffff'>\n",
       "<span class='feature_val'> (0.00)</span></span><span class='token' style='background-color: #ff8c00'>\n",
       "<span class='feature_val'> (3.91)</span></span><span class='token' style='background-color: #ffffff'>-<span class='feature_val'> (0.00)</span></span>"
      ],
      "text/plain": [
       "<IPython.core.display.HTML object>"
      ]
     },
     "metadata": {},
     "output_type": "display_data"
    },
    {
     "data": {
      "text/html": [
       "\n",
       "    <style>\n",
       "        span.token {\n",
       "            font-family: monospace;\n",
       "            border-style: solid;\n",
       "            border-width: 1px;\n",
       "            border-color: #dddddd;\n",
       "        }\n",
       "    </style>\n",
       "    <span class='token' style='background-color: #ffffff'>&lt;|endoftext|&gt;<span class='feature_val'> (0.00)</span></span><span class='token' style='background-color: #ffffff'> viewed<span class='feature_val'> (0.00)</span></span><span class='token' style='background-color: #ffffff'> favorably<span class='feature_val'> (0.00)</span></span><span class='token' style='background-color: #ffffff'> for<span class='feature_val'> (0.00)</span></span><span class='token' style='background-color: #ffffff'> hire<span class='feature_val'> (0.00)</span></span><span class='token' style='background-color: #ffffff'> if<span class='feature_val'> (0.00)</span></span><span class='token' style='background-color: #ffffff'> their<span class='feature_val'> (0.00)</span></span><span class='token' style='background-color: #ffffff'> clothes<span class='feature_val'> (0.00)</span></span><span class='token' style='background-color: #ffffff'> were<span class='feature_val'> (0.00)</span></span><span class='token' style='background-color: #ffffff'> seen<span class='feature_val'> (0.00)</span></span><span class='token' style='background-color: #ffffff'> as<span class='feature_val'> (0.00)</span></span><span class='token' style='background-color: #ffffff'> more<span class='feature_val'> (0.00)</span></span><span class='token' style='background-color: #ffffff'> masculine<span class='feature_val'> (0.00)</span></span><span class='token' style='background-color: #ffffff'>.<span class='feature_val'> (0.00)</span></span><span class='token' style='background-color: #ffffff'> �<span class='feature_val'> (0.00)</span></span><span class='token' style='background-color: #ffffff'>�<span class='feature_val'> (0.00)</span></span><span class='token' style='background-color: #ffffff'>[<span class='feature_val'> (0.00)</span></span><span class='token' style='background-color: #ffffff'>F<span class='feature_val'> (0.00)</span></span><span class='token' style='background-color: #ffffff'>]<span class='feature_val'> (0.00)</span></span><span class='token' style='background-color: #ffffff'>emale<span class='feature_val'> (0.00)</span></span><span class='token' style='background-color: #ffffff'> applicants<span class='feature_val'> (0.00)</span></span><span class='token' style='background-color: #ffffff'>�<span class='feature_val'> (0.00)</span></span><span class='token' style='background-color: #ffffff'>�<span class='feature_val'> (0.00)</span></span><span class='token' style='background-color: #ffffff'> clothing<span class='feature_val'> (0.00)</span></span><span class='token' style='background-color: #ffffff'> is<span class='feature_val'> (0.00)</span></span><span class='token' style='background-color: #ffffff'> an<span class='feature_val'> (0.00)</span></span><span class='token' style='background-color: #ffffff'> avenue<span class='feature_val'> (0.00)</span></span><span class='token' style='background-color: #ffffff'> for<span class='feature_val'> (0.00)</span></span><span class='token' style='background-color: #ffffff'> influencing<span class='feature_val'> (0.00)</span></span><span class='token' style='background-color: #ffffff'> the<span class='feature_val'> (0.00)</span></span><span class='token' style='background-color: #ffffff'> selection<span class='feature_val'> (0.00)</span></span><span class='token' style='background-color: #ffffff'> decision<span class='feature_val'> (0.00)</span></span><span class='token' style='background-color: #ffffff'> for<span class='feature_val'> (0.00)</span></span><span class='token' style='background-color: #ffffff'> management<span class='feature_val'> (0.00)</span></span><span class='token' style='background-color: #ffffff'> positions<span class='feature_val'> (0.00)</span></span><span class='token' style='background-color: #ffffff'>,<span class='feature_val'> (0.00)</span></span><span class='token' style='background-color: #ffffff'>�<span class='feature_val'> (0.00)</span></span><span class='token' style='background-color: #ffffff'>�<span class='feature_val'> (0.00)</span></span><span class='token' style='background-color: #ffffff'> authors<span class='feature_val'> (0.00)</span></span><span class='token' style='background-color: #ffffff'> Sandra<span class='feature_val'> (0.00)</span></span><span class='token' style='background-color: #ffffff'> Fors<span class='feature_val'> (0.00)</span></span><span class='token' style='background-color: #ffffff'>y<span class='feature_val'> (0.00)</span></span><span class='token' style='background-color: #ffffff'>the<span class='feature_val'> (0.00)</span></span><span class='token' style='background-color: #ffffff'>,<span class='feature_val'> (0.00)</span></span><span class='token' style='background-color: #ffffff'> Mary<span class='feature_val'> (0.00)</span></span><span class='token' style='background-color: #ffffff'> Frances<span class='feature_val'> (0.00)</span></span><span class='token' style='background-color: #ffffff'> Drake<span class='feature_val'> (0.00)</span></span><span class='token' style='background-color: #ffffff'>,<span class='feature_val'> (0.00)</span></span><span class='token' style='background-color: #ffffff'> and<span class='feature_val'> (0.00)</span></span><span class='token' style='background-color: #ffffff'> Charles<span class='feature_val'> (0.00)</span></span><span class='token' style='background-color: #ffffff'> E<span class='feature_val'> (0.00)</span></span><span class='token' style='background-color: #ffffff'>.<span class='feature_val'> (0.00)</span></span><span class='token' style='background-color: #ffffff'> Cox<span class='feature_val'> (0.00)</span></span><span class='token' style='background-color: #ffffff'> concluded<span class='feature_val'> (0.00)</span></span><span class='token' style='background-color: #ffffff'>.<span class='feature_val'> (0.00)</span></span><span class='token' style='background-color: #ffffff'> Fors<span class='feature_val'> (0.00)</span></span><span class='token' style='background-color: #ffffff'>y<span class='feature_val'> (0.00)</span></span><span class='token' style='background-color: #ffffff'>the<span class='feature_val'> (0.00)</span></span><span class='token' style='background-color: #ffffff'> followed<span class='feature_val'> (0.00)</span></span><span class='token' style='background-color: #ffffff'> up<span class='feature_val'> (0.00)</span></span><span class='token' style='background-color: #ffffff'> with<span class='feature_val'> (0.00)</span></span><span class='token' style='background-color: #ffffff'> a<span class='feature_val'> (0.00)</span></span><span class='token' style='background-color: #ffffff'> study<span class='feature_val'> (0.00)</span></span><span class='token' style='background-color: #ffffff'> in<span class='feature_val'> (0.00)</span></span><span class='token' style='background-color: #ffffff'> 1987<span class='feature_val'> (0.00)</span></span><span class='token' style='background-color: #ffffff'> that<span class='feature_val'> (0.00)</span></span><span class='token' style='background-color: #ffffff'> found<span class='feature_val'> (0.00)</span></span><span class='token' style='background-color: #ffffff'> that<span class='feature_val'> (0.00)</span></span><span class='token' style='background-color: #ffffff'> more<span class='feature_val'> (0.00)</span></span><span class='token' style='background-color: #ffffff'> masculine<span class='feature_val'> (0.00)</span></span><span class='token' style='background-color: #ffffff'> clothing<span class='feature_val'> (0.00)</span></span><span class='token' style='background-color: #ffffff'> conve<span class='feature_val'> (0.00)</span></span><span class='token' style='background-color: #ffffff'>ys<span class='feature_val'> (0.00)</span></span><span class='token' style='background-color: #ffffff'> more<span class='feature_val'> (0.00)</span></span><span class='token' style='background-color: #ffffff'> masculine<span class='feature_val'> (0.00)</span></span><span class='token' style='background-color: #ffffff'> managerial<span class='feature_val'> (0.00)</span></span><span class='token' style='background-color: #ffffff'> traits<span class='feature_val'> (0.00)</span></span><span class='token' style='background-color: #ffffff'>.<span class='feature_val'> (0.00)</span></span><span class='token' style='background-color: #ffffff'> The<span class='feature_val'> (0.00)</span></span><span class='token' style='background-color: #ffffff'> perception<span class='feature_val'> (0.00)</span></span><span class='token' style='background-color: #ffffff'> of<span class='feature_val'> (0.00)</span></span><span class='token' style='background-color: #ffffff'> a<span class='feature_val'> (0.00)</span></span><span class='token' style='background-color: #ffffff'> woman<span class='feature_val'> (0.00)</span></span><span class='token' style='background-color: #ffffff'> in<span class='feature_val'> (0.00)</span></span><span class='token' style='background-color: #ffffff'> her<span class='feature_val'> (0.00)</span></span><span class='token' style='background-color: #ffffff'> workplace<span class='feature_val'> (0.00)</span></span><span class='token' style='background-color: #ffffff'> can<span class='feature_val'> (0.00)</span></span><span class='token' style='background-color: #ffffff'> be<span class='feature_val'> (0.00)</span></span><span class='token' style='background-color: #ffffff'> influenced<span class='feature_val'> (0.00)</span></span><span class='token' style='background-color: #ffffff'> by<span class='feature_val'> (0.00)</span></span><span class='token' style='background-color: #ffffff'> everything<span class='feature_val'> (0.00)</span></span><span class='token' style='background-color: #ffffff'> from<span class='feature_val'> (0.00)</span></span><span class='token' style='background-color: #ffffff'> how<span class='feature_val'> (0.00)</span></span><span class='token' style='background-color: #ffffff'> much<span class='feature_val'> (0.00)</span></span><span class='token' style='background-color: #ffffff'> makeup<span class='feature_val'> (0.00)</span></span><span class='token' style='background-color: #ffffff'> she<span class='feature_val'> (0.00)</span></span><span class='token' style='background-color: #ffffff'> wears<span class='feature_val'> (0.00)</span></span><span class='token' style='background-color: #ffffff'> to<span class='feature_val'> (0.00)</span></span><span class='token' style='background-color: #ffffff'> her<span class='feature_val'> (0.00)</span></span><span class='token' style='background-color: #ffffff'> hair<span class='feature_val'> (0.00)</span></span><span class='token' style='background-color: #ffffff'> length<span class='feature_val'> (0.00)</span></span><span class='token' style='background-color: #ffffff'>.<span class='feature_val'> (0.00)</span></span><span class='token' style='background-color: #ffffff'>\n",
       "<span class='feature_val'> (0.00)</span></span><span class='token' style='background-color: #ffffff'>\n",
       "<span class='feature_val'> (0.00)</span></span><span class='token' style='background-color: #ffffff'>Even<span class='feature_val'> (0.00)</span></span><span class='token' style='background-color: #ffffff'> more<span class='feature_val'> (0.00)</span></span><span class='token' style='background-color: #ffffff'> fraught<span class='feature_val'> (0.00)</span></span><span class='token' style='background-color: #ffffff'> choices<span class='feature_val'> (0.00)</span></span><span class='token' style='background-color: #ffffff'> face<span class='feature_val'> (0.00)</span></span><span class='token' style='background-color: #ffffff'> women<span class='feature_val'> (0.00)</span></span><span class='token' style='background-color: #ffffff'> of<span class='feature_val'> (0.00)</span></span><span class='token' style='background-color: #ffffff'> color<span class='feature_val'> (0.00)</span></span><span class='token' style='background-color: #ffffff'> or<span class='feature_val'> (0.00)</span></span><span class='token' style='background-color: #ffffff'> with<span class='feature_val'> (0.00)</span></span><span class='token' style='background-color: #ffffff'> lower<span class='feature_val'> (0.00)</span></span><span class='token' style='background-color: #ffffff'> incomes<span class='feature_val'> (0.00)</span></span><span class='token' style='background-color: #ffd5a2'>.<span class='feature_val'> (1.38)</span></span><span class='token' style='background-color: #ffffff'> As<span class='feature_val'> (0.00)</span></span><span class='token' style='background-color: #ffcb8c'> Jul<span class='feature_val'> (1.71)</span></span><span class='token' style='background-color: #ffffff'>iana<span class='feature_val'> (0.00)</span></span><span class='token' style='background-color: #ff8c00'> Britt<span class='feature_val'> (3.81)</span></span><span class='token' style='background-color: #ffffff'>o<span class='feature_val'> (0.00)</span></span><span class='token' style='background-color: #ffe2c0'> wrote<span class='feature_val'> (0.93)</span></span><span class='token' style='background-color: #ffffff'> at<span class='feature_val'> (0.00)</span></span><span class='token' style='background-color: #ffffff'> Femin<span class='feature_val'> (0.00)</span></span><span class='token' style='background-color: #ffffff'>isting<span class='feature_val'> (0.00)</span></span><span class='token' style='background-color: #ffc47e'>,<span class='feature_val'> (1.92)</span></span><span class='token' style='background-color: #ffffff'> many<span class='feature_val'> (0.00)</span></span>"
      ],
      "text/plain": [
       "<IPython.core.display.HTML object>"
      ]
     },
     "metadata": {},
     "output_type": "display_data"
    },
    {
     "data": {
      "text/html": [
       "\n",
       "    <style>\n",
       "        span.token {\n",
       "            font-family: monospace;\n",
       "            border-style: solid;\n",
       "            border-width: 1px;\n",
       "            border-color: #dddddd;\n",
       "        }\n",
       "    </style>\n",
       "    <span class='token' style='background-color: #ffffff'>&lt;|endoftext|&gt;<span class='feature_val'> (0.00)</span></span><span class='token' style='background-color: #ffffff'> on<span class='feature_val'> (0.00)</span></span><span class='token' style='background-color: #ffffff'> paid<span class='feature_val'> (0.00)</span></span><span class='token' style='background-color: #ffffff'> administrative<span class='feature_val'> (0.00)</span></span><span class='token' style='background-color: #ffffff'> leave<span class='feature_val'> (0.00)</span></span><span class='token' style='background-color: #ffffff'>,<span class='feature_val'> (0.00)</span></span><span class='token' style='background-color: #ffffff'> as<span class='feature_val'> (0.00)</span></span><span class='token' style='background-color: #ffffff'> is<span class='feature_val'> (0.00)</span></span><span class='token' style='background-color: #ffffff'> standard<span class='feature_val'> (0.00)</span></span><span class='token' style='background-color: #ffffff'> practice<span class='feature_val'> (0.00)</span></span><span class='token' style='background-color: #ffffff'>.<span class='feature_val'> (0.00)</span></span><span class='token' style='background-color: #ffffff'>\n",
       "<span class='feature_val'> (0.00)</span></span><span class='token' style='background-color: #ffffff'>\n",
       "<span class='feature_val'> (0.00)</span></span><span class='token' style='background-color: #ffffff'>The<span class='feature_val'> (0.00)</span></span><span class='token' style='background-color: #ffffff'> officer<span class='feature_val'> (0.00)</span></span><span class='token' style='background-color: #ffffff'>-<span class='feature_val'> (0.00)</span></span><span class='token' style='background-color: #ffffff'>involved<span class='feature_val'> (0.00)</span></span><span class='token' style='background-color: #ffffff'> shooting<span class='feature_val'> (0.00)</span></span><span class='token' style='background-color: #ffffff'> is<span class='feature_val'> (0.00)</span></span><span class='token' style='background-color: #ffffff'> the<span class='feature_val'> (0.00)</span></span><span class='token' style='background-color: #ffffff'> third<span class='feature_val'> (0.00)</span></span><span class='token' style='background-color: #ffffff'> in<span class='feature_val'> (0.00)</span></span><span class='token' style='background-color: #ffffff'> Portland<span class='feature_val'> (0.00)</span></span><span class='token' style='background-color: #ffffff'> this<span class='feature_val'> (0.00)</span></span><span class='token' style='background-color: #ffffff'> year<span class='feature_val'> (0.00)</span></span><span class='token' style='background-color: #ffffff'>.<span class='feature_val'> (0.00)</span></span><span class='token' style='background-color: #ffffff'> Police<span class='feature_val'> (0.00)</span></span><span class='token' style='background-color: #ffffff'> shot<span class='feature_val'> (0.00)</span></span><span class='token' style='background-color: #ffffff'> Quan<span class='feature_val'> (0.00)</span></span><span class='token' style='background-color: #ffffff'>ice<span class='feature_val'> (0.00)</span></span><span class='token' style='background-color: #ffffff'> Hayes<span class='feature_val'> (0.00)</span></span><span class='token' style='background-color: #ffffff'> and<span class='feature_val'> (0.00)</span></span><span class='token' style='background-color: #ffffff'> Don<span class='feature_val'> (0.00)</span></span><span class='token' style='background-color: #ffffff'> Perkins<span class='feature_val'> (0.00)</span></span><span class='token' style='background-color: #ffffff'> on<span class='feature_val'> (0.00)</span></span><span class='token' style='background-color: #ffffff'> the<span class='feature_val'> (0.00)</span></span><span class='token' style='background-color: #ffffff'> same<span class='feature_val'> (0.00)</span></span><span class='token' style='background-color: #ffffff'> day<span class='feature_val'> (0.00)</span></span><span class='token' style='background-color: #ffffff'> in<span class='feature_val'> (0.00)</span></span><span class='token' style='background-color: #ffffff'> early<span class='feature_val'> (0.00)</span></span><span class='token' style='background-color: #ffffff'> February<span class='feature_val'> (0.00)</span></span><span class='token' style='background-color: #ffffff'>.<span class='feature_val'> (0.00)</span></span><span class='token' style='background-color: #ffffff'> Hayes<span class='feature_val'> (0.00)</span></span><span class='token' style='background-color: #ffffff'> died<span class='feature_val'> (0.00)</span></span><span class='token' style='background-color: #ffffff'>,<span class='feature_val'> (0.00)</span></span><span class='token' style='background-color: #ffffff'> and<span class='feature_val'> (0.00)</span></span><span class='token' style='background-color: #ffffff'> Perkins<span class='feature_val'> (0.00)</span></span><span class='token' style='background-color: #ffffff'> recovered<span class='feature_val'> (0.00)</span></span><span class='token' style='background-color: #ffffff'>.<span class='feature_val'> (0.00)</span></span><span class='token' style='background-color: #ffffff'>\n",
       "<span class='feature_val'> (0.00)</span></span><span class='token' style='background-color: #ffffff'>\n",
       "<span class='feature_val'> (0.00)</span></span><span class='token' style='background-color: #ffffff'>Grand<span class='feature_val'> (0.00)</span></span><span class='token' style='background-color: #ffffff'> j<span class='feature_val'> (0.00)</span></span><span class='token' style='background-color: #ffffff'>uries<span class='feature_val'> (0.00)</span></span><span class='token' style='background-color: #ffffff'> ruled<span class='feature_val'> (0.00)</span></span><span class='token' style='background-color: #ffffff'> officers<span class='feature_val'> (0.00)</span></span><span class='token' style='background-color: #ffffff'> were<span class='feature_val'> (0.00)</span></span><span class='token' style='background-color: #ffffff'> justified<span class='feature_val'> (0.00)</span></span><span class='token' style='background-color: #ffffff'> in<span class='feature_val'> (0.00)</span></span><span class='token' style='background-color: #ffffff'> both<span class='feature_val'> (0.00)</span></span><span class='token' style='background-color: #ffffff'> shootings<span class='feature_val'> (0.00)</span></span><span class='token' style='background-color: #ffffff'>.<span class='feature_val'> (0.00)</span></span><span class='token' style='background-color: #ffffff'>\n",
       "<span class='feature_val'> (0.00)</span></span><span class='token' style='background-color: #ffffff'>\n",
       "<span class='feature_val'> (0.00)</span></span><span class='token' style='background-color: #ffffff'>Police<span class='feature_val'> (0.00)</span></span><span class='token' style='background-color: #ffffff'> Chief<span class='feature_val'> (0.00)</span></span><span class='token' style='background-color: #ffffff'> Mike<span class='feature_val'> (0.00)</span></span><span class='token' style='background-color: #ffffff'> Marsh<span class='feature_val'> (0.00)</span></span><span class='token' style='background-color: #ffffff'>man<span class='feature_val'> (0.00)</span></span><span class='token' style='background-color: #ffffff'> and<span class='feature_val'> (0.00)</span></span><span class='token' style='background-color: #ffffff'> Mayor<span class='feature_val'> (0.00)</span></span><span class='token' style='background-color: #ffffff'> Ted<span class='feature_val'> (0.00)</span></span><span class='token' style='background-color: #ffffff'> Wheeler<span class='feature_val'> (0.00)</span></span><span class='token' style='background-color: #ffffff'> showed<span class='feature_val'> (0.00)</span></span><span class='token' style='background-color: #ffffff'> up<span class='feature_val'> (0.00)</span></span><span class='token' style='background-color: #ffffff'> at<span class='feature_val'> (0.00)</span></span><span class='token' style='background-color: #ffffff'> the<span class='feature_val'> (0.00)</span></span><span class='token' style='background-color: #ffffff'> shooting<span class='feature_val'> (0.00)</span></span><span class='token' style='background-color: #ffffff'> scene<span class='feature_val'> (0.00)</span></span><span class='token' style='background-color: #ffffff'> later<span class='feature_val'> (0.00)</span></span><span class='token' style='background-color: #ffffff'> Wednesday<span class='feature_val'> (0.00)</span></span><span class='token' style='background-color: #ffffff'> evening<span class='feature_val'> (0.00)</span></span><span class='token' style='background-color: #ffffff'>.<span class='feature_val'> (0.00)</span></span><span class='token' style='background-color: #ffffff'>\n",
       "<span class='feature_val'> (0.00)</span></span><span class='token' style='background-color: #ffffff'>\n",
       "<span class='feature_val'> (0.00)</span></span><span class='token' style='background-color: #ffffff'>Police<span class='feature_val'> (0.00)</span></span><span class='token' style='background-color: #ffffff'> ask<span class='feature_val'> (0.00)</span></span><span class='token' style='background-color: #ffffff'> anyone<span class='feature_val'> (0.00)</span></span><span class='token' style='background-color: #ff9719'> who<span class='feature_val'> (3.69)</span></span><span class='token' style='background-color: #ffffff'> has<span class='feature_val'> (0.00)</span></span><span class='token' style='background-color: #ff8c00'> information<span class='feature_val'> (4.09)</span></span><span class='token' style='background-color: #ffffff'> about<span class='feature_val'> (0.00)</span></span><span class='token' style='background-color: #ffffff'> the<span class='feature_val'> (0.00)</span></span><span class='token' style='background-color: #fff3e4'> incident<span class='feature_val'> (0.43)</span></span><span class='token' style='background-color: #ffffff'> and<span class='feature_val'> (0.00)</span></span><span class='token' style='background-color: #ffffff'> hasn<span class='feature_val'> (0.00)</span></span><span class='token' style='background-color: #fff7ee'>&#x27;t<span class='feature_val'> (0.27)</span></span><span class='token' style='background-color: #fffaf5'> already<span class='feature_val'> (0.15)</span></span><span class='token' style='background-color: #ffffff'> spoken<span class='feature_val'> (0.00)</span></span><span class='token' style='background-color: #ffffff'> to<span class='feature_val'> (0.00)</span></span><span class='token' style='background-color: #ffffff'> police<span class='feature_val'> (0.00)</span></span><span class='token' style='background-color: #ffffff'> to<span class='feature_val'> (0.00)</span></span><span class='token' style='background-color: #ffffff'> call<span class='feature_val'> (0.00)</span></span><span class='token' style='background-color: #ffffff'> detectives<span class='feature_val'> (0.00)</span></span><span class='token' style='background-color: #ffffff'> at<span class='feature_val'> (0.00)</span></span><span class='token' style='background-color: #ffffff'> 503<span class='feature_val'> (0.00)</span></span><span class='token' style='background-color: #ffffff'>-<span class='feature_val'> (0.00)</span></span><span class='token' style='background-color: #ffffff'>8<span class='feature_val'> (0.00)</span></span><span class='token' style='background-color: #ffffff'>23<span class='feature_val'> (0.00)</span></span><span class='token' style='background-color: #ffffff'>-<span class='feature_val'> (0.00)</span></span><span class='token' style='background-color: #ffffff'>04<span class='feature_val'> (0.00)</span></span><span class='token' style='background-color: #ffffff'>00<span class='feature_val'> (0.00)</span></span><span class='token' style='background-color: #ffffff'> or<span class='feature_val'> (0.00)</span></span><span class='token' style='background-color: #ffffff'> the<span class='feature_val'> (0.00)</span></span><span class='token' style='background-color: #ffffff'> non<span class='feature_val'> (0.00)</span></span><span class='token' style='background-color: #ffffff'>-<span class='feature_val'> (0.00)</span></span><span class='token' style='background-color: #ffffff'>emer<span class='feature_val'> (0.00)</span></span><span class='token' style='background-color: #ffffff'>gency<span class='feature_val'> (0.00)</span></span><span class='token' style='background-color: #ffffff'> line<span class='feature_val'> (0.00)</span></span><span class='token' style='background-color: #ffffff'>,<span class='feature_val'> (0.00)</span></span><span class='token' style='background-color: #ffffff'> 503<span class='feature_val'> (0.00)</span></span><span class='token' style='background-color: #ffffff'>-<span class='feature_val'> (0.00)</span></span><span class='token' style='background-color: #ffffff'>8<span class='feature_val'> (0.00)</span></span><span class='token' style='background-color: #ffffff'>23<span class='feature_val'> (0.00)</span></span><span class='token' style='background-color: #ffffff'>-<span class='feature_val'> (0.00)</span></span><span class='token' style='background-color: #ffffff'>3333<span class='feature_val'> (0.00)</span></span><span class='token' style='background-color: #ffffff'>.<span class='feature_val'> (0.00)</span></span><span class='token' style='background-color: #ffffff'>\n",
       "<span class='feature_val'> (0.00)</span></span>"
      ],
      "text/plain": [
       "<IPython.core.display.HTML object>"
      ]
     },
     "metadata": {},
     "output_type": "display_data"
    }
   ],
   "source": [
    "feature_idx = 0 # corresponding to 16513\n",
    "example_html, examples_clean_text = display_top_k_activating_examples(model, feature_scores[:, 0, :], owt_tokens_torch, k=10, show_score=True)"
   ]
  },
  {
   "cell_type": "markdown",
   "metadata": {},
   "source": [
    "Then, you can just pass it off to GPT-4 to interpret what's going on. Note that I haven't got access to `GPT-4o` with my credits yet, so this will have to wait a few days."
   ]
  },
  {
   "cell_type": "code",
   "execution_count": 4,
   "metadata": {},
   "outputs": [
    {
     "name": "stderr",
     "output_type": "stream",
     "text": [
      "huggingface/tokenizers: The current process just got forked, after parallelism has already been used. Disabling parallelism to avoid deadlocks...\n",
      "To disable this warning, you can either:\n",
      "\t- Avoid using `tokenizers` before the fork if possible\n",
      "\t- Explicitly set the environment variable TOKENIZERS_PARALLELISM=(true | false)\n"
     ]
    }
   ],
   "source": [
    "feature_interpretation = get_response(llm_client, examples_clean_text)"
   ]
  },
  {
   "cell_type": "code",
   "execution_count": 5,
   "metadata": {},
   "outputs": [
    {
     "data": {
      "text/plain": [
       "'This neuron is highly activated by specific mentions of a context or event happening at a certain place or location.'"
      ]
     },
     "execution_count": 5,
     "metadata": {},
     "output_type": "execute_result"
    }
   ],
   "source": [
    "feature_interpretation"
   ]
  },
  {
   "cell_type": "markdown",
   "metadata": {},
   "source": [
    "However, instead of passing in individual features for specific components in specific layers, I created an object called `CircuitPrediction` to basically store all this stuff for you. I'll quickly illustrate how to use it in conjunction with the above."
   ]
  },
  {
   "cell_type": "code",
   "execution_count": 6,
   "metadata": {},
   "outputs": [
    {
     "name": "stderr",
     "output_type": "stream",
     "text": [
      "100%|██████████| 50/50 [01:57<00:00,  2.35s/it]\n",
      "100%|██████████| 50/50 [01:51<00:00,  2.23s/it]\n",
      "100%|██████████| 50/50 [01:52<00:00,  2.25s/it]\n",
      "100%|██████████| 50/50 [01:52<00:00,  2.25s/it]\n"
     ]
    }
   ],
   "source": [
    "cp = get_circuit_prediction(task='ioi', N=50)"
   ]
  },
  {
   "cell_type": "markdown",
   "metadata": {},
   "source": [
    "The main thing you'll want to do with this is get features from certain components to look at on a specific task. The features for each component are stored in the circuit hypergraph. For instance:"
   ]
  },
  {
   "cell_type": "code",
   "execution_count": 8,
   "metadata": {},
   "outputs": [
    {
     "data": {
      "text/plain": [
       "{'L0_H0': {'freq': 0.0, 'features': []},\n",
       " 'L0_H1': {'freq': 0.8199999928474426,\n",
       "  'features': [451,\n",
       "   -1,\n",
       "   20191,\n",
       "   21082,\n",
       "   18627,\n",
       "   13846,\n",
       "   451,\n",
       "   2470,\n",
       "   -1,\n",
       "   14731,\n",
       "   -1,\n",
       "   18627,\n",
       "   451,\n",
       "   -1,\n",
       "   3949,\n",
       "   5142,\n",
       "   -1,\n",
       "   2680,\n",
       "   13846,\n",
       "   14731,\n",
       "   451,\n",
       "   -1,\n",
       "   21082,\n",
       "   18627,\n",
       "   -1,\n",
       "   451,\n",
       "   3949,\n",
       "   23825,\n",
       "   18627,\n",
       "   3949,\n",
       "   17242,\n",
       "   451,\n",
       "   -1,\n",
       "   3949,\n",
       "   -1,\n",
       "   10072,\n",
       "   4229,\n",
       "   18627,\n",
       "   451,\n",
       "   -1,\n",
       "   10072,\n",
       "   451,\n",
       "   21082,\n",
       "   451,\n",
       "   -1,\n",
       "   17242,\n",
       "   451,\n",
       "   -1,\n",
       "   17242,\n",
       "   17242,\n",
       "   451,\n",
       "   4229,\n",
       "   451,\n",
       "   17242,\n",
       "   -1,\n",
       "   451,\n",
       "   17242,\n",
       "   17242,\n",
       "   451,\n",
       "   16549,\n",
       "   -1,\n",
       "   -1,\n",
       "   451,\n",
       "   -1,\n",
       "   18627,\n",
       "   451,\n",
       "   -1,\n",
       "   21082,\n",
       "   451,\n",
       "   -1,\n",
       "   9715,\n",
       "   17242,\n",
       "   3949,\n",
       "   -1,\n",
       "   17242,\n",
       "   16549,\n",
       "   451,\n",
       "   6901,\n",
       "   451,\n",
       "   2470,\n",
       "   14731,\n",
       "   -1,\n",
       "   13846,\n",
       "   20191,\n",
       "   451,\n",
       "   -1,\n",
       "   451,\n",
       "   451,\n",
       "   3949]},\n",
       " 'L0_H2': {'freq': 0.0, 'features': []},\n",
       " 'L0_H3': {'freq': 0.4399999976158142,\n",
       "  'features': [11470,\n",
       "   11470,\n",
       "   11470,\n",
       "   933,\n",
       "   2591,\n",
       "   3582,\n",
       "   11470,\n",
       "   2591,\n",
       "   11470,\n",
       "   16143,\n",
       "   11470,\n",
       "   2591,\n",
       "   11470,\n",
       "   11470,\n",
       "   16143,\n",
       "   2591,\n",
       "   11470,\n",
       "   14037,\n",
       "   2591,\n",
       "   21859,\n",
       "   11470,\n",
       "   16143,\n",
       "   11470,\n",
       "   11470,\n",
       "   2591,\n",
       "   11470,\n",
       "   933]},\n",
       " 'L0_H4': {'freq': 0.25999999046325684,\n",
       "  'features': [-1,\n",
       "   -1,\n",
       "   -1,\n",
       "   5263,\n",
       "   -1,\n",
       "   5263,\n",
       "   -1,\n",
       "   -1,\n",
       "   6901,\n",
       "   -1,\n",
       "   8607,\n",
       "   13318,\n",
       "   3501,\n",
       "   13318]},\n",
       " 'L0_H5': {'freq': 0.8999999761581421,\n",
       "  'features': [16230,\n",
       "   20191,\n",
       "   18889,\n",
       "   4515,\n",
       "   23663,\n",
       "   24085,\n",
       "   22790,\n",
       "   19717,\n",
       "   16894,\n",
       "   3679,\n",
       "   503,\n",
       "   5690,\n",
       "   5263,\n",
       "   22013,\n",
       "   6587,\n",
       "   16132,\n",
       "   7161,\n",
       "   21907,\n",
       "   23603,\n",
       "   10404,\n",
       "   19158,\n",
       "   16143,\n",
       "   3392,\n",
       "   20904,\n",
       "   16894,\n",
       "   5263,\n",
       "   21907,\n",
       "   23252,\n",
       "   7161,\n",
       "   3392,\n",
       "   7161,\n",
       "   18034,\n",
       "   14037,\n",
       "   14037,\n",
       "   5690,\n",
       "   16894,\n",
       "   23663,\n",
       "   21907,\n",
       "   5263,\n",
       "   3160,\n",
       "   16894,\n",
       "   21619,\n",
       "   21859,\n",
       "   14936,\n",
       "   21619,\n",
       "   21339,\n",
       "   8607,\n",
       "   18034,\n",
       "   17083,\n",
       "   23603,\n",
       "   8607,\n",
       "   17562,\n",
       "   14141,\n",
       "   19717,\n",
       "   9715,\n",
       "   18889,\n",
       "   8607,\n",
       "   14037,\n",
       "   9313,\n",
       "   21339,\n",
       "   16894,\n",
       "   2136,\n",
       "   16230,\n",
       "   16894,\n",
       "   21339,\n",
       "   16894,\n",
       "   23663,\n",
       "   8607,\n",
       "   16230,\n",
       "   23663,\n",
       "   17562,\n",
       "   23252,\n",
       "   19717,\n",
       "   3392,\n",
       "   21859,\n",
       "   23603]},\n",
       " 'L0_H6': {'freq': 0.9599999785423279,\n",
       "  'features': [-1,\n",
       "   -1,\n",
       "   -1,\n",
       "   -1,\n",
       "   -1,\n",
       "   -1,\n",
       "   -1,\n",
       "   -1,\n",
       "   -1,\n",
       "   -1,\n",
       "   -1,\n",
       "   -1,\n",
       "   -1,\n",
       "   -1,\n",
       "   -1,\n",
       "   -1,\n",
       "   -1,\n",
       "   -1,\n",
       "   -1,\n",
       "   -1,\n",
       "   -1,\n",
       "   -1,\n",
       "   -1,\n",
       "   -1,\n",
       "   -1,\n",
       "   -1,\n",
       "   -1,\n",
       "   -1,\n",
       "   -1,\n",
       "   -1,\n",
       "   -1,\n",
       "   -1,\n",
       "   -1,\n",
       "   -1,\n",
       "   -1,\n",
       "   -1,\n",
       "   -1,\n",
       "   -1,\n",
       "   -1,\n",
       "   -1,\n",
       "   -1,\n",
       "   -1,\n",
       "   -1,\n",
       "   -1,\n",
       "   -1,\n",
       "   -1,\n",
       "   -1,\n",
       "   -1]},\n",
       " 'L0_H7': {'freq': 0.07999999821186066, 'features': [-1, -1, -1, -1]},\n",
       " 'L0_H8': {'freq': 0.0, 'features': []},\n",
       " 'L0_H9': {'freq': 0.0, 'features': []},\n",
       " 'L0_H10': {'freq': 0.03999999910593033, 'features': [-1, -1]},\n",
       " 'L0_H11': {'freq': 0.03999999910593033, 'features': [-1, -1]},\n",
       " 'MLP0': {'freq': 1.0,\n",
       "  'features': [3146,\n",
       "   20300,\n",
       "   10461,\n",
       "   887,\n",
       "   12715,\n",
       "   5995,\n",
       "   20546,\n",
       "   941,\n",
       "   12965,\n",
       "   12965,\n",
       "   6223,\n",
       "   18880,\n",
       "   20546,\n",
       "   12965,\n",
       "   6163,\n",
       "   15475,\n",
       "   7734,\n",
       "   887,\n",
       "   10461,\n",
       "   3201,\n",
       "   20546,\n",
       "   20323,\n",
       "   21418,\n",
       "   15475,\n",
       "   23507,\n",
       "   20546,\n",
       "   12965,\n",
       "   5545,\n",
       "   4682,\n",
       "   15475,\n",
       "   23507,\n",
       "   887,\n",
       "   10173,\n",
       "   10672,\n",
       "   12965,\n",
       "   19750,\n",
       "   12333,\n",
       "   19159,\n",
       "   20546,\n",
       "   23305,\n",
       "   21964,\n",
       "   941,\n",
       "   20794,\n",
       "   3201,\n",
       "   22914,\n",
       "   18213,\n",
       "   12965,\n",
       "   15475,\n",
       "   23507,\n",
       "   7866,\n",
       "   887,\n",
       "   6703,\n",
       "   20546,\n",
       "   6124,\n",
       "   9741,\n",
       "   12965,\n",
       "   10672,\n",
       "   12353,\n",
       "   20546,\n",
       "   887,\n",
       "   20546,\n",
       "   21346,\n",
       "   12965,\n",
       "   10672,\n",
       "   10013,\n",
       "   20546,\n",
       "   18722,\n",
       "   13926,\n",
       "   5161,\n",
       "   21964,\n",
       "   887,\n",
       "   20794,\n",
       "   10461,\n",
       "   10672,\n",
       "   10461,\n",
       "   12333,\n",
       "   20546,\n",
       "   5348,\n",
       "   20519,\n",
       "   10461,\n",
       "   16926,\n",
       "   18880,\n",
       "   20546,\n",
       "   14148,\n",
       "   5545,\n",
       "   9943,\n",
       "   20546,\n",
       "   6703,\n",
       "   23507,\n",
       "   887,\n",
       "   16472,\n",
       "   20546,\n",
       "   8903,\n",
       "   6124,\n",
       "   887,\n",
       "   10461,\n",
       "   20546,\n",
       "   18722,\n",
       "   5348,\n",
       "   12965,\n",
       "   8903,\n",
       "   21964,\n",
       "   20794,\n",
       "   887,\n",
       "   7866,\n",
       "   10461,\n",
       "   16926,\n",
       "   5348,\n",
       "   10799,\n",
       "   12599,\n",
       "   10461,\n",
       "   10462,\n",
       "   20546,\n",
       "   18722,\n",
       "   20519,\n",
       "   21964,\n",
       "   887,\n",
       "   20794,\n",
       "   10461,\n",
       "   10462,\n",
       "   7866,\n",
       "   20546,\n",
       "   10173,\n",
       "   887,\n",
       "   18880,\n",
       "   20546,\n",
       "   14148,\n",
       "   5348,\n",
       "   5545,\n",
       "   6703,\n",
       "   23507,\n",
       "   15475,\n",
       "   18841,\n",
       "   10461,\n",
       "   18880,\n",
       "   7866,\n",
       "   15389,\n",
       "   20546,\n",
       "   20546,\n",
       "   5348,\n",
       "   12965,\n",
       "   3604,\n",
       "   5882,\n",
       "   10461,\n",
       "   20546,\n",
       "   5348,\n",
       "   12941,\n",
       "   3604,\n",
       "   887,\n",
       "   17305,\n",
       "   10461,\n",
       "   10461,\n",
       "   12385,\n",
       "   20546,\n",
       "   9741,\n",
       "   4788,\n",
       "   12333,\n",
       "   887,\n",
       "   8491,\n",
       "   10461,\n",
       "   12599,\n",
       "   4788,\n",
       "   12965,\n",
       "   887,\n",
       "   14148,\n",
       "   12965,\n",
       "   17363,\n",
       "   7734,\n",
       "   17657,\n",
       "   10461,\n",
       "   14148,\n",
       "   18841,\n",
       "   6124,\n",
       "   15475,\n",
       "   887,\n",
       "   13881,\n",
       "   10461,\n",
       "   20546,\n",
       "   5995,\n",
       "   4788,\n",
       "   10672,\n",
       "   5348,\n",
       "   10461,\n",
       "   10462,\n",
       "   12385,\n",
       "   20546,\n",
       "   5348,\n",
       "   12941,\n",
       "   6798,\n",
       "   23507,\n",
       "   23254,\n",
       "   10461,\n",
       "   18880,\n",
       "   20546,\n",
       "   887,\n",
       "   16284,\n",
       "   10461,\n",
       "   18880,\n",
       "   3146,\n",
       "   10461,\n",
       "   1874,\n",
       "   12385,\n",
       "   4522,\n",
       "   346,\n",
       "   887,\n",
       "   7866,\n",
       "   18880,\n",
       "   3201,\n",
       "   10172,\n",
       "   10461,\n",
       "   20546,\n",
       "   4788,\n",
       "   941,\n",
       "   12965,\n",
       "   3146,\n",
       "   20300,\n",
       "   10172,\n",
       "   17657,\n",
       "   17845,\n",
       "   16472,\n",
       "   20546,\n",
       "   17363,\n",
       "   16926,\n",
       "   5882,\n",
       "   17845,\n",
       "   20546,\n",
       "   10672,\n",
       "   12353,\n",
       "   7866,\n",
       "   20546]},\n",
       " 'L1_H0': {'freq': 0.03999999910593033, 'features': [3119, 3119]},\n",
       " 'L1_H1': {'freq': 0.11999999731779099, 'features': [-1, -1, -1, -1, -1, -1]},\n",
       " 'L1_H2': {'freq': 0.0, 'features': []},\n",
       " 'L1_H3': {'freq': 0.0, 'features': []},\n",
       " 'L1_H4': {'freq': 0.03999999910593033, 'features': [11631, 11631]},\n",
       " 'L1_H5': {'freq': 0.019999999552965164, 'features': [-1]},\n",
       " 'L1_H6': {'freq': 0.0, 'features': []},\n",
       " 'L1_H7': {'freq': 0.0, 'features': []},\n",
       " 'L1_H8': {'freq': 0.0, 'features': []},\n",
       " 'L1_H9': {'freq': 0.0, 'features': []},\n",
       " 'L1_H10': {'freq': 0.3400000035762787,\n",
       "  'features': [17148,\n",
       "   17148,\n",
       "   17148,\n",
       "   17148,\n",
       "   17148,\n",
       "   17148,\n",
       "   -1,\n",
       "   17148,\n",
       "   17148,\n",
       "   17148,\n",
       "   17148,\n",
       "   17148,\n",
       "   17148,\n",
       "   17148,\n",
       "   17148,\n",
       "   17148,\n",
       "   17148,\n",
       "   17148]},\n",
       " 'L1_H11': {'freq': 0.03999999910593033, 'features': [-1, -1]},\n",
       " 'MLP1': {'freq': 0.699999988079071,\n",
       "  'features': [6118,\n",
       "   16935,\n",
       "   16935,\n",
       "   16935,\n",
       "   13467,\n",
       "   9645,\n",
       "   12820,\n",
       "   16935,\n",
       "   16935,\n",
       "   16935,\n",
       "   14997,\n",
       "   16935,\n",
       "   13467,\n",
       "   16935,\n",
       "   6118,\n",
       "   17154,\n",
       "   9645,\n",
       "   13467,\n",
       "   9645,\n",
       "   13467,\n",
       "   9645,\n",
       "   15111,\n",
       "   6118,\n",
       "   16935,\n",
       "   9645,\n",
       "   6118,\n",
       "   14997,\n",
       "   12820,\n",
       "   9645,\n",
       "   14186,\n",
       "   9645,\n",
       "   16935,\n",
       "   20477,\n",
       "   9645,\n",
       "   15111,\n",
       "   9645,\n",
       "   16935,\n",
       "   21577,\n",
       "   9645,\n",
       "   9645,\n",
       "   6118,\n",
       "   17700,\n",
       "   9645,\n",
       "   9645,\n",
       "   15111,\n",
       "   14997,\n",
       "   9645,\n",
       "   16935,\n",
       "   21577]},\n",
       " 'L2_H0': {'freq': 0.10000000149011612, 'features': [-1, -1, -1, -1, -1]},\n",
       " 'L2_H1': {'freq': 0.019999999552965164, 'features': [-1]},\n",
       " 'L2_H2': {'freq': 0.30000001192092896,\n",
       "  'features': [8450,\n",
       "   6510,\n",
       "   176,\n",
       "   18315,\n",
       "   16136,\n",
       "   6510,\n",
       "   -1,\n",
       "   6510,\n",
       "   21062,\n",
       "   16572,\n",
       "   3731,\n",
       "   21613,\n",
       "   14186,\n",
       "   15015,\n",
       "   19567,\n",
       "   19042,\n",
       "   4268]},\n",
       " 'L2_H3': {'freq': 0.03999999910593033, 'features': [-1, -1]},\n",
       " 'L2_H4': {'freq': 0.0, 'features': []},\n",
       " 'L2_H5': {'freq': 0.0, 'features': []},\n",
       " 'L2_H6': {'freq': 0.0, 'features': []},\n",
       " 'L2_H7': {'freq': 0.019999999552965164, 'features': [21873]},\n",
       " 'L2_H8': {'freq': 0.10000000149011612, 'features': [-1, 10082, -1, -1, -1]},\n",
       " 'L2_H9': {'freq': 0.18000000715255737,\n",
       "  'features': [6387, 613, 613, 6387, 4633, -1, 7265, 4633, 15520]},\n",
       " 'L2_H10': {'freq': 0.0, 'features': []},\n",
       " 'L2_H11': {'freq': 0.0, 'features': []},\n",
       " 'MLP2': {'freq': 0.14000000059604645,\n",
       "  'features': [21992, 11097, 11097, 12789, 11097, 20285, 23913]},\n",
       " 'L3_H0': {'freq': 0.10000000149011612,\n",
       "  'features': [7803, 7803, 10137, 7803, -1]},\n",
       " 'L3_H1': {'freq': 0.0, 'features': []},\n",
       " 'L3_H2': {'freq': 0.0, 'features': []},\n",
       " 'L3_H3': {'freq': 0.0, 'features': []},\n",
       " 'L3_H4': {'freq': 0.07999999821186066, 'features': [-1, -1, -1, -1]},\n",
       " 'L3_H5': {'freq': 0.0, 'features': []},\n",
       " 'L3_H6': {'freq': 0.019999999552965164, 'features': [-1]},\n",
       " 'L3_H7': {'freq': 0.0, 'features': []},\n",
       " 'L3_H8': {'freq': 0.05999999865889549, 'features': [23061, 23061, 23061]},\n",
       " 'L3_H9': {'freq': 0.0, 'features': []},\n",
       " 'L3_H10': {'freq': 0.019999999552965164, 'features': [-1]},\n",
       " 'L3_H11': {'freq': 0.019999999552965164, 'features': [-1]},\n",
       " 'MLP3': {'freq': 0.25999999046325684,\n",
       "  'features': [1324,\n",
       "   1324,\n",
       "   8175,\n",
       "   1324,\n",
       "   8175,\n",
       "   1324,\n",
       "   1324,\n",
       "   1324,\n",
       "   1324,\n",
       "   1324,\n",
       "   1324,\n",
       "   20313,\n",
       "   8175,\n",
       "   8175,\n",
       "   1324]},\n",
       " 'L4_H0': {'freq': 0.0, 'features': []},\n",
       " 'L4_H1': {'freq': 0.0, 'features': []},\n",
       " 'L4_H2': {'freq': 0.0, 'features': []},\n",
       " 'L4_H3': {'freq': 0.07999999821186066, 'features': [-1, -1, -1, -1]},\n",
       " 'L4_H4': {'freq': 0.0, 'features': []},\n",
       " 'L4_H5': {'freq': 0.0, 'features': []},\n",
       " 'L4_H6': {'freq': 0.0, 'features': []},\n",
       " 'L4_H7': {'freq': 0.14000000059604645,\n",
       "  'features': [-1, -1, -1, -1, -1, -1, -1]},\n",
       " 'L4_H8': {'freq': 0.0, 'features': []},\n",
       " 'L4_H9': {'freq': 0.0, 'features': []},\n",
       " 'L4_H10': {'freq': 0.019999999552965164, 'features': [-1]},\n",
       " 'L4_H11': {'freq': 0.14000000059604645,\n",
       "  'features': [-1, 20359, -1, 20359, 12319, -1, -1, 7666, -1]},\n",
       " 'MLP4': {'freq': 0.23999999463558197,\n",
       "  'features': [1987,\n",
       "   14226,\n",
       "   1987,\n",
       "   5168,\n",
       "   11487,\n",
       "   1987,\n",
       "   11487,\n",
       "   5168,\n",
       "   3432,\n",
       "   5168,\n",
       "   1987,\n",
       "   5168,\n",
       "   14001,\n",
       "   18041,\n",
       "   22867]},\n",
       " 'L5_H0': {'freq': 0.03999999910593033, 'features': [44452, 9504]},\n",
       " 'L5_H1': {'freq': 0.03999999910593033, 'features': [-1, -1]},\n",
       " 'L5_H2': {'freq': 0.019999999552965164, 'features': [-1]},\n",
       " 'L5_H3': {'freq': 0.0, 'features': []},\n",
       " 'L5_H4': {'freq': 0.0, 'features': []},\n",
       " 'L5_H5': {'freq': 0.36000001430511475,\n",
       "  'features': [27535,\n",
       "   44256,\n",
       "   3047,\n",
       "   27535,\n",
       "   7515,\n",
       "   3047,\n",
       "   27535,\n",
       "   27535,\n",
       "   27535,\n",
       "   27535,\n",
       "   27535,\n",
       "   27535,\n",
       "   27535,\n",
       "   7515,\n",
       "   27535,\n",
       "   44256,\n",
       "   7515,\n",
       "   27535,\n",
       "   27535,\n",
       "   27535]},\n",
       " 'L5_H6': {'freq': 0.0, 'features': []},\n",
       " 'L5_H7': {'freq': 0.0, 'features': []},\n",
       " 'L5_H8': {'freq': 0.03999999910593033, 'features': [-1, 9504]},\n",
       " 'L5_H9': {'freq': 0.03999999910593033, 'features': [-1, -1]},\n",
       " 'L5_H10': {'freq': 0.019999999552965164, 'features': [-1]},\n",
       " 'L5_H11': {'freq': 0.0, 'features': []},\n",
       " 'MLP5': {'freq': 0.18000000715255737,\n",
       "  'features': [14157,\n",
       "   20825,\n",
       "   7177,\n",
       "   24089,\n",
       "   7177,\n",
       "   7177,\n",
       "   23196,\n",
       "   24089,\n",
       "   6307,\n",
       "   20843,\n",
       "   6307]},\n",
       " 'L6_H0': {'freq': 0.03999999910593033, 'features': [-1, -1]},\n",
       " 'L6_H1': {'freq': 0.05999999865889549, 'features': [-1, -1, 18591]},\n",
       " 'L6_H2': {'freq': 0.0, 'features': []},\n",
       " 'L6_H3': {'freq': 0.0, 'features': []},\n",
       " 'L6_H4': {'freq': 0.019999999552965164, 'features': [-1]},\n",
       " 'L6_H5': {'freq': 0.0, 'features': []},\n",
       " 'L6_H6': {'freq': 0.019999999552965164, 'features': [-1]},\n",
       " 'L6_H7': {'freq': 0.03999999910593033, 'features': [-1, -1]},\n",
       " 'L6_H8': {'freq': 0.05999999865889549, 'features': [-1, -1, -1]},\n",
       " 'L6_H9': {'freq': 0.1599999964237213,\n",
       "  'features': [17410, 17410, 17410, 17410, -1, -1, -1, -1]},\n",
       " 'L6_H10': {'freq': 0.0, 'features': []},\n",
       " 'L6_H11': {'freq': 0.2199999988079071,\n",
       "  'features': [-1, -1, -1, -1, -1, -1, -1, -1, -1, -1, -1]},\n",
       " 'MLP6': {'freq': 0.14000000059604645,\n",
       "  'features': [11608, 11608, 1598, 8125, 11608, 11608, 11608]},\n",
       " 'L7_H0': {'freq': 0.019999999552965164, 'features': [10432]},\n",
       " 'L7_H1': {'freq': 0.10000000149011612, 'features': [-1, -1, -1, -1, -1]},\n",
       " 'L7_H2': {'freq': 0.0, 'features': []},\n",
       " 'L7_H3': {'freq': 0.3799999952316284,\n",
       "  'features': [-1,\n",
       "   -1,\n",
       "   -1,\n",
       "   -1,\n",
       "   -1,\n",
       "   -1,\n",
       "   -1,\n",
       "   -1,\n",
       "   -1,\n",
       "   -1,\n",
       "   -1,\n",
       "   -1,\n",
       "   -1,\n",
       "   -1,\n",
       "   -1,\n",
       "   -1,\n",
       "   -1,\n",
       "   -1,\n",
       "   -1]},\n",
       " 'L7_H4': {'freq': 0.0, 'features': []},\n",
       " 'L7_H5': {'freq': 0.2800000011920929,\n",
       "  'features': [-1, -1, -1, -1, -1, -1, -1, -1, -1, -1, -1, -1, -1, -1]},\n",
       " 'L7_H6': {'freq': 0.0, 'features': []},\n",
       " 'L7_H7': {'freq': 0.0, 'features': []},\n",
       " 'L7_H8': {'freq': 0.03999999910593033, 'features': [-1, -1]},\n",
       " 'L7_H9': {'freq': 0.14000000059604645,\n",
       "  'features': [-1, -1, -1, -1, -1, -1, -1]},\n",
       " 'L7_H10': {'freq': 0.0, 'features': []},\n",
       " 'L7_H11': {'freq': 0.0, 'features': []},\n",
       " 'MLP7': {'freq': 0.20000000298023224,\n",
       "  'features': [22706, 2977, 9828, 9828, 9828, 2977, 16407, 2977, 2977, 22302]},\n",
       " 'L8_H0': {'freq': 0.0, 'features': []},\n",
       " 'L8_H1': {'freq': 0.0, 'features': []},\n",
       " 'L8_H2': {'freq': 0.0, 'features': []},\n",
       " 'L8_H3': {'freq': 0.019999999552965164, 'features': [16977]},\n",
       " 'L8_H4': {'freq': 0.019999999552965164, 'features': [-1]},\n",
       " 'L8_H5': {'freq': 0.07999999821186066, 'features': [-1, -1, -1, -1]},\n",
       " 'L8_H6': {'freq': 0.7599999904632568,\n",
       "  'features': [16513,\n",
       "   2623,\n",
       "   -1,\n",
       "   -1,\n",
       "   -1,\n",
       "   -1,\n",
       "   7861,\n",
       "   2390,\n",
       "   -1,\n",
       "   2390,\n",
       "   -1,\n",
       "   -1,\n",
       "   -1,\n",
       "   16513,\n",
       "   16513,\n",
       "   17232,\n",
       "   16513,\n",
       "   -1,\n",
       "   16513,\n",
       "   2623,\n",
       "   16513,\n",
       "   2390,\n",
       "   16513,\n",
       "   2623,\n",
       "   16513,\n",
       "   2623,\n",
       "   16513,\n",
       "   -1,\n",
       "   16513,\n",
       "   -1,\n",
       "   -1,\n",
       "   16513,\n",
       "   16513,\n",
       "   16513,\n",
       "   -1,\n",
       "   16513,\n",
       "   -1,\n",
       "   16513,\n",
       "   16513,\n",
       "   16513,\n",
       "   -1,\n",
       "   -1,\n",
       "   -1,\n",
       "   -1,\n",
       "   -1,\n",
       "   -1]},\n",
       " 'L8_H7': {'freq': 0.05999999865889549, 'features': [-1, -1, -1]},\n",
       " 'L8_H8': {'freq': 0.0, 'features': []},\n",
       " 'L8_H9': {'freq': 0.0, 'features': []},\n",
       " 'L8_H10': {'freq': 0.07999999821186066, 'features': [-1, -1, -1, -1]},\n",
       " 'L8_H11': {'freq': 0.0, 'features': []},\n",
       " 'MLP8': {'freq': 0.05999999865889549, 'features': [19447, 16703, 19447]},\n",
       " 'L9_H0': {'freq': 0.03999999910593033, 'features': [-1, -1]},\n",
       " 'L9_H1': {'freq': 0.0, 'features': []},\n",
       " 'L9_H2': {'freq': 0.0, 'features': []},\n",
       " 'L9_H3': {'freq': 0.0, 'features': []},\n",
       " 'L9_H4': {'freq': 0.0, 'features': []},\n",
       " 'L9_H5': {'freq': 0.0, 'features': []},\n",
       " 'L9_H6': {'freq': 0.18000000715255737,\n",
       "  'features': [1261, 15490, -1, 11368, 977, -1, 17283, -1, 17283, 17283]},\n",
       " 'L9_H7': {'freq': 0.03999999910593033, 'features': [-1, -1]},\n",
       " 'L9_H8': {'freq': 0.019999999552965164, 'features': [20677]},\n",
       " 'L9_H9': {'freq': 0.8999999761581421,\n",
       "  'features': [6923,\n",
       "   10645,\n",
       "   14056,\n",
       "   20286,\n",
       "   8914,\n",
       "   17875,\n",
       "   6365,\n",
       "   1346,\n",
       "   2004,\n",
       "   16109,\n",
       "   6365,\n",
       "   17413,\n",
       "   1806,\n",
       "   1063,\n",
       "   4729,\n",
       "   17875,\n",
       "   2004,\n",
       "   4692,\n",
       "   3520,\n",
       "   192,\n",
       "   17558,\n",
       "   6131,\n",
       "   6365,\n",
       "   6365,\n",
       "   4710,\n",
       "   12167,\n",
       "   4692,\n",
       "   13173,\n",
       "   11087,\n",
       "   132,\n",
       "   4710,\n",
       "   -1,\n",
       "   16109,\n",
       "   226,\n",
       "   20924,\n",
       "   12167,\n",
       "   4692,\n",
       "   -1,\n",
       "   15431,\n",
       "   -1,\n",
       "   15431,\n",
       "   3520,\n",
       "   -1,\n",
       "   -1,\n",
       "   17982,\n",
       "   -1,\n",
       "   10391,\n",
       "   17558,\n",
       "   14919,\n",
       "   132,\n",
       "   20101,\n",
       "   20924,\n",
       "   -1,\n",
       "   12167,\n",
       "   20924,\n",
       "   12167,\n",
       "   2004,\n",
       "   17875,\n",
       "   -1,\n",
       "   2581,\n",
       "   10391,\n",
       "   22161,\n",
       "   2074,\n",
       "   11087,\n",
       "   9434,\n",
       "   12732,\n",
       "   6365]},\n",
       " 'L9_H10': {'freq': 0.03999999910593033, 'features': [-1, -1]},\n",
       " 'L9_H11': {'freq': 0.0, 'features': []},\n",
       " 'MLP9': {'freq': 0.14000000059604645,\n",
       "  'features': [5463, 5957, 5028, 5957, 5463, 5463, 5463]},\n",
       " 'L10_H0': {'freq': 0.2199999988079071,\n",
       "  'features': [-1, -1, -1, 4542, 20694, -1, -1, -1, 23338, -1, 8733]},\n",
       " 'L10_H1': {'freq': 0.36000001430511475,\n",
       "  'features': [18789,\n",
       "   9799,\n",
       "   -1,\n",
       "   20696,\n",
       "   10157,\n",
       "   -1,\n",
       "   17610,\n",
       "   24209,\n",
       "   -1,\n",
       "   24417,\n",
       "   24417,\n",
       "   4532,\n",
       "   2948,\n",
       "   7340,\n",
       "   13614,\n",
       "   24417,\n",
       "   125,\n",
       "   17610,\n",
       "   2314,\n",
       "   16046,\n",
       "   10426,\n",
       "   4205,\n",
       "   19157,\n",
       "   19744,\n",
       "   18277]},\n",
       " 'L10_H2': {'freq': 0.11999999731779099,\n",
       "  'features': [-1, -1, -1, 6277, 19466, -1]},\n",
       " 'L10_H3': {'freq': 0.2199999988079071,\n",
       "  'features': [10072,\n",
       "   7024,\n",
       "   555,\n",
       "   2203,\n",
       "   3574,\n",
       "   8096,\n",
       "   386,\n",
       "   16402,\n",
       "   1232,\n",
       "   13779,\n",
       "   10072,\n",
       "   11163,\n",
       "   5114,\n",
       "   13374,\n",
       "   3574]},\n",
       " 'L10_H4': {'freq': 0.0, 'features': []},\n",
       " 'L10_H5': {'freq': 0.05999999865889549, 'features': [-1, -1, -1]},\n",
       " 'L10_H6': {'freq': 0.10000000149011612, 'features': [-1, -1, -1, -1, -1]},\n",
       " 'L10_H7': {'freq': 0.5799999833106995,\n",
       "  'features': [-1,\n",
       "   22215,\n",
       "   6352,\n",
       "   -1,\n",
       "   6343,\n",
       "   5674,\n",
       "   -1,\n",
       "   17390,\n",
       "   -1,\n",
       "   -1,\n",
       "   24234,\n",
       "   17390,\n",
       "   -1,\n",
       "   13807,\n",
       "   -1,\n",
       "   5121,\n",
       "   5674,\n",
       "   -1,\n",
       "   17390,\n",
       "   -1,\n",
       "   24234,\n",
       "   21230,\n",
       "   17390,\n",
       "   -1,\n",
       "   -1,\n",
       "   4542,\n",
       "   -1,\n",
       "   1572,\n",
       "   -1,\n",
       "   12481,\n",
       "   -1,\n",
       "   -1,\n",
       "   -1,\n",
       "   13807,\n",
       "   18627,\n",
       "   24417,\n",
       "   -1,\n",
       "   18627,\n",
       "   -1,\n",
       "   -1,\n",
       "   10494,\n",
       "   4042,\n",
       "   -1,\n",
       "   -1,\n",
       "   22215,\n",
       "   -1,\n",
       "   6352,\n",
       "   24417,\n",
       "   16402,\n",
       "   -1,\n",
       "   5674,\n",
       "   -1,\n",
       "   17390]},\n",
       " 'L10_H8': {'freq': 0.0, 'features': []},\n",
       " 'L10_H9': {'freq': 0.14000000059604645,\n",
       "  'features': [-1, -1, -1, -1, -1, -1, -1]},\n",
       " 'L10_H10': {'freq': 0.18000000715255737,\n",
       "  'features': [16429, 22215, -1, 6277, -1, 13456, 1407, 51, 4057]},\n",
       " 'L10_H11': {'freq': 0.07999999821186066, 'features': [-1, -1, -1, -1]},\n",
       " 'MLP10': {'freq': 0.0, 'features': []},\n",
       " 'L11_H0': {'freq': 0.0, 'features': []},\n",
       " 'L11_H1': {'freq': 0.18000000715255737,\n",
       "  'features': [17598, 8907, 24010, 16935, 24010, 8907, -1, 19453, -1, 13023]},\n",
       " 'L11_H2': {'freq': 0.03999999910593033, 'features': [6249, 11288]},\n",
       " 'L11_H3': {'freq': 0.03999999910593033, 'features': [14702, 24010]},\n",
       " 'L11_H4': {'freq': 0.0, 'features': []},\n",
       " 'L11_H5': {'freq': 0.0, 'features': []},\n",
       " 'L11_H6': {'freq': 0.0, 'features': []},\n",
       " 'L11_H7': {'freq': 0.03999999910593033, 'features': [-1, -1]},\n",
       " 'L11_H8': {'freq': 0.0, 'features': []},\n",
       " 'L11_H9': {'freq': 0.0, 'features': []},\n",
       " 'L11_H10': {'freq': 0.5799999833106995,\n",
       "  'features': [23740,\n",
       "   21268,\n",
       "   21847,\n",
       "   23740,\n",
       "   21268,\n",
       "   5802,\n",
       "   22251,\n",
       "   21847,\n",
       "   21268,\n",
       "   5864,\n",
       "   23740,\n",
       "   -1,\n",
       "   5802,\n",
       "   13210,\n",
       "   5802,\n",
       "   6648,\n",
       "   23740,\n",
       "   -1,\n",
       "   21268,\n",
       "   21268,\n",
       "   6648,\n",
       "   23740,\n",
       "   -1,\n",
       "   21268,\n",
       "   21268,\n",
       "   5864,\n",
       "   21268,\n",
       "   21268,\n",
       "   21847,\n",
       "   17598,\n",
       "   21268,\n",
       "   5802]},\n",
       " 'L11_H11': {'freq': 0.0, 'features': []},\n",
       " 'MLP11': {'freq': 0.0, 'features': []}}"
      ]
     },
     "execution_count": 8,
     "metadata": {},
     "output_type": "execute_result"
    }
   ],
   "source": [
    "cp.circuit_hypergraph"
   ]
  },
  {
   "cell_type": "markdown",
   "metadata": {},
   "source": [
    "If you want to look at MLP 3, all you have to do is access it:"
   ]
  },
  {
   "cell_type": "code",
   "execution_count": 9,
   "metadata": {},
   "outputs": [
    {
     "data": {
      "text/plain": [
       "{'freq': 0.25999999046325684,\n",
       " 'features': [1324,\n",
       "  1324,\n",
       "  8175,\n",
       "  1324,\n",
       "  8175,\n",
       "  1324,\n",
       "  1324,\n",
       "  1324,\n",
       "  1324,\n",
       "  1324,\n",
       "  1324,\n",
       "  20313,\n",
       "  8175,\n",
       "  8175,\n",
       "  1324]}"
      ]
     },
     "execution_count": 9,
     "metadata": {},
     "output_type": "execute_result"
    }
   ],
   "source": [
    "cp.circuit_hypergraph['MLP3']"
   ]
  },
  {
   "cell_type": "markdown",
   "metadata": {},
   "source": [
    "And just repeat what we did above:"
   ]
  },
  {
   "cell_type": "code",
   "execution_count": 11,
   "metadata": {},
   "outputs": [
    {
     "name": "stdout",
     "output_type": "stream",
     "text": [
      "SparseTranscoder\n"
     ]
    },
    {
     "name": "stderr",
     "output_type": "stream",
     "text": [
      "100%|██████████| 400/400 [03:03<00:00,  2.18it/s]\n"
     ]
    }
   ],
   "source": [
    "features = list(set(cp.circuit_hypergraph['MLP3']['features']))\n",
    "transcoder = transcoders[3]\n",
    "feature_scores = get_feature_scores(model, transcoder, owt_tokens_torch, features, batch_size=64)"
   ]
  },
  {
   "cell_type": "code",
   "execution_count": 17,
   "metadata": {},
   "outputs": [
    {
     "data": {
      "text/html": [
       "\n",
       "    <style>\n",
       "        span.token {\n",
       "            font-family: monospace;\n",
       "            border-style: solid;\n",
       "            border-width: 1px;\n",
       "            border-color: #dddddd;\n",
       "        }\n",
       "    </style>\n",
       "    <span class='token' style='background-color: #ffffff'>&lt;|endoftext|&gt;<span class='feature_val'> (0.00)</span></span><span class='token' style='background-color: #ffffff'> had<span class='feature_val'> (0.00)</span></span><span class='token' style='background-color: #ff8c00'> taken<span class='feature_val'> (21.27)</span></span><span class='token' style='background-color: #ffffff'> collective<span class='feature_val'> (0.00)</span></span><span class='token' style='background-color: #ffffff'> action<span class='feature_val'> (0.00)</span></span><span class='token' style='background-color: #ffffff'> in<span class='feature_val'> (0.00)</span></span><span class='token' style='background-color: #ffffff'> 2014<span class='feature_val'> (0.00)</span></span><span class='token' style='background-color: #ffffff'>,<span class='feature_val'> (0.00)</span></span><span class='token' style='background-color: #ffffff'> it<span class='feature_val'> (0.00)</span></span><span class='token' style='background-color: #ffffff'> could<span class='feature_val'> (0.00)</span></span><span class='token' style='background-color: #ffffff'> have<span class='feature_val'> (0.00)</span></span><span class='token' style='background-color: #ffffff'> avoided<span class='feature_val'> (0.00)</span></span><span class='token' style='background-color: #ffffff'> the<span class='feature_val'> (0.00)</span></span><span class='token' style='background-color: #ffffff'> chaotic<span class='feature_val'> (0.00)</span></span><span class='token' style='background-color: #ffffff'> human<span class='feature_val'> (0.00)</span></span><span class='token' style='background-color: #ffffff'> flood<span class='feature_val'> (0.00)</span></span><span class='token' style='background-color: #ffffff'> that<span class='feature_val'> (0.00)</span></span><span class='token' style='background-color: #ffffff'> in<span class='feature_val'> (0.00)</span></span><span class='token' style='background-color: #ffffff'> turn<span class='feature_val'> (0.00)</span></span><span class='token' style='background-color: #ffffff'> provoked<span class='feature_val'> (0.00)</span></span><span class='token' style='background-color: #ffffff'> a<span class='feature_val'> (0.00)</span></span><span class='token' style='background-color: #ffffff'> political<span class='feature_val'> (0.00)</span></span><span class='token' style='background-color: #ffffff'> backlash<span class='feature_val'> (0.00)</span></span><span class='token' style='background-color: #ffffff'>.<span class='feature_val'> (0.00)</span></span><span class='token' style='background-color: #ffffff'> If<span class='feature_val'> (0.00)</span></span><span class='token' style='background-color: #ffffff'> the<span class='feature_val'> (0.00)</span></span><span class='token' style='background-color: #ffffff'> West<span class='feature_val'> (0.00)</span></span><span class='token' style='background-color: #ffffff'>,<span class='feature_val'> (0.00)</span></span><span class='token' style='background-color: #ffffff'> more<span class='feature_val'> (0.00)</span></span><span class='token' style='background-color: #ffffff'> broadly<span class='feature_val'> (0.00)</span></span><span class='token' style='background-color: #ffffff'> —<span class='feature_val'> (0.00)</span></span><span class='token' style='background-color: #ffffff'> and<span class='feature_val'> (0.00)</span></span><span class='token' style='background-color: #ffffff'> here<span class='feature_val'> (0.00)</span></span><span class='token' style='background-color: #ffffff'> I<span class='feature_val'> (0.00)</span></span><span class='token' style='background-color: #ffffff'> include<span class='feature_val'> (0.00)</span></span><span class='token' style='background-color: #ffffff'> the<span class='feature_val'> (0.00)</span></span><span class='token' style='background-color: #ffffff'> United<span class='feature_val'> (0.00)</span></span><span class='token' style='background-color: #ffffff'> States<span class='feature_val'> (0.00)</span></span><span class='token' style='background-color: #ffffff'> —<span class='feature_val'> (0.00)</span></span><span class='token' style='background-color: #ffffff'> had<span class='feature_val'> (0.00)</span></span><span class='token' style='background-color: #ffffff'> had<span class='feature_val'> (0.00)</span></span><span class='token' style='background-color: #ffffff'> the<span class='feature_val'> (0.00)</span></span><span class='token' style='background-color: #ffffff'> sense<span class='feature_val'> (0.00)</span></span><span class='token' style='background-color: #ffffff'> to<span class='feature_val'> (0.00)</span></span><span class='token' style='background-color: #ffffff'> fully<span class='feature_val'> (0.00)</span></span><span class='token' style='background-color: #ffffff'> fund<span class='feature_val'> (0.00)</span></span><span class='token' style='background-color: #ffffff'> refugee<span class='feature_val'> (0.00)</span></span><span class='token' style='background-color: #ffffff'> efforts<span class='feature_val'> (0.00)</span></span><span class='token' style='background-color: #ffffff'> in<span class='feature_val'> (0.00)</span></span><span class='token' style='background-color: #ffffff'> the<span class='feature_val'> (0.00)</span></span><span class='token' style='background-color: #ffffff'> neighboring<span class='feature_val'> (0.00)</span></span><span class='token' style='background-color: #ffffff'> countries<span class='feature_val'> (0.00)</span></span><span class='token' style='background-color: #ffffff'>,<span class='feature_val'> (0.00)</span></span><span class='token' style='background-color: #ffffff'> far<span class='feature_val'> (0.00)</span></span><span class='token' style='background-color: #ffffff'> fewer<span class='feature_val'> (0.00)</span></span><span class='token' style='background-color: #ffffff'> people<span class='feature_val'> (0.00)</span></span><span class='token' style='background-color: #ffffff'> would<span class='feature_val'> (0.00)</span></span><span class='token' style='background-color: #ffffff'> have<span class='feature_val'> (0.00)</span></span><span class='token' style='background-color: #ffffff'> sought<span class='feature_val'> (0.00)</span></span><span class='token' style='background-color: #ffffff'> asylum<span class='feature_val'> (0.00)</span></span><span class='token' style='background-color: #ffffff'> in<span class='feature_val'> (0.00)</span></span><span class='token' style='background-color: #ffffff'> Europe<span class='feature_val'> (0.00)</span></span><span class='token' style='background-color: #ffffff'>.<span class='feature_val'> (0.00)</span></span><span class='token' style='background-color: #ffffff'> A<span class='feature_val'> (0.00)</span></span><span class='token' style='background-color: #ffffff'> humanitarian<span class='feature_val'> (0.00)</span></span><span class='token' style='background-color: #ffffff'> catastrophe<span class='feature_val'> (0.00)</span></span><span class='token' style='background-color: #ffffff'> in<span class='feature_val'> (0.00)</span></span><span class='token' style='background-color: #ffffff'> Syria<span class='feature_val'> (0.00)</span></span><span class='token' style='background-color: #ffffff'> need<span class='feature_val'> (0.00)</span></span><span class='token' style='background-color: #ffffff'> not<span class='feature_val'> (0.00)</span></span><span class='token' style='background-color: #ffffff'> have<span class='feature_val'> (0.00)</span></span><span class='token' style='background-color: #ffffff'> produced<span class='feature_val'> (0.00)</span></span><span class='token' style='background-color: #ffffff'> a<span class='feature_val'> (0.00)</span></span><span class='token' style='background-color: #ffffff'> political<span class='feature_val'> (0.00)</span></span><span class='token' style='background-color: #ffffff'> catastrophe<span class='feature_val'> (0.00)</span></span><span class='token' style='background-color: #ffffff'> in<span class='feature_val'> (0.00)</span></span><span class='token' style='background-color: #ffffff'> Europe<span class='feature_val'> (0.00)</span></span><span class='token' style='background-color: #ffffff'>.<span class='feature_val'> (0.00)</span></span><span class='token' style='background-color: #ffffff'>\n",
       "<span class='feature_val'> (0.00)</span></span><span class='token' style='background-color: #ffffff'>\n",
       "<span class='feature_val'> (0.00)</span></span><span class='token' style='background-color: #ffffff'>Can<span class='feature_val'> (0.00)</span></span><span class='token' style='background-color: #ffffff'> Europe<span class='feature_val'> (0.00)</span></span><span class='token' style='background-color: #ffffff'> learn<span class='feature_val'> (0.00)</span></span><span class='token' style='background-color: #ffffff'> this<span class='feature_val'> (0.00)</span></span><span class='token' style='background-color: #ffffff'> lesson<span class='feature_val'> (0.00)</span></span><span class='token' style='background-color: #ffffff'>?<span class='feature_val'> (0.00)</span></span><span class='token' style='background-color: #ffffff'> At<span class='feature_val'> (0.00)</span></span><span class='token' style='background-color: #ffffff'> the<span class='feature_val'> (0.00)</span></span><span class='token' style='background-color: #ffffff'> moment<span class='feature_val'> (0.00)</span></span><span class='token' style='background-color: #ffffff'>,<span class='feature_val'> (0.00)</span></span><span class='token' style='background-color: #ffffff'> perhaps<span class='feature_val'> (0.00)</span></span><span class='token' style='background-color: #ffffff'> not<span class='feature_val'> (0.00)</span></span><span class='token' style='background-color: #ffffff'>.<span class='feature_val'> (0.00)</span></span><span class='token' style='background-color: #ffffff'> The<span class='feature_val'> (0.00)</span></span><span class='token' style='background-color: #ffffff'> refugee<span class='feature_val'> (0.00)</span></span><span class='token' style='background-color: #ffffff'> crisis<span class='feature_val'> (0.00)</span></span><span class='token' style='background-color: #ffffff'> is<span class='feature_val'> (0.00)</span></span><span class='token' style='background-color: #ffffff'> only<span class='feature_val'> (0.00)</span></span><span class='token' style='background-color: #ffffff'> the<span class='feature_val'> (0.00)</span></span><span class='token' style='background-color: #ffffff'> most<span class='feature_val'> (0.00)</span></span><span class='token' style='background-color: #ffffff'> dramatic<span class='feature_val'> (0.00)</span></span><span class='token' style='background-color: #ffffff'> manifestation<span class='feature_val'> (0.00)</span></span><span class='token' style='background-color: #ffffff'> of<span class='feature_val'> (0.00)</span></span><span class='token' style='background-color: #ffffff'> the<span class='feature_val'> (0.00)</span></span><span class='token' style='background-color: #ffffff'> immense<span class='feature_val'> (0.00)</span></span><span class='token' style='background-color: #ffffff'> phenomenon<span class='feature_val'> (0.00)</span></span><span class='token' style='background-color: #ffffff'> of<span class='feature_val'> (0.00)</span></span><span class='token' style='background-color: #ffffff'> illegal<span class='feature_val'> (0.00)</span></span><span class='token' style='background-color: #ffffff'>,<span class='feature_val'> (0.00)</span></span><span class='token' style='background-color: #ffffff'> uncontrolled<span class='feature_val'> (0.00)</span></span><span class='token' style='background-color: #ffffff'> migration<span class='feature_val'> (0.00)</span></span><span class='token' style='background-color: #ffffff'> to<span class='feature_val'> (0.00)</span></span><span class='token' style='background-color: #ffffff'> Europe<span class='feature_val'> (0.00)</span></span><span class='token' style='background-color: #ffffff'>.<span class='feature_val'> (0.00)</span></span><span class='token' style='background-color: #ffffff'> The<span class='feature_val'> (0.00)</span></span><span class='token' style='background-color: #ffffff'> millions<span class='feature_val'> (0.00)</span></span><span class='token' style='background-color: #ffffff'> on<span class='feature_val'> (0.00)</span></span><span class='token' style='background-color: #ffffff'> the<span class='feature_val'> (0.00)</span></span><span class='token' style='background-color: #ffffff'> move<span class='feature_val'> (0.00)</span></span><span class='token' style='background-color: #ffffff'> pose<span class='feature_val'> (0.00)</span></span><span class='token' style='background-color: #ffffff'> a<span class='feature_val'> (0.00)</span></span><span class='token' style='background-color: #ffffff'> gra<span class='feature_val'> (0.00)</span></span><span class='token' style='background-color: #ffffff'>ver<span class='feature_val'> (0.00)</span></span><span class='token' style='background-color: #ffffff'> challenge<span class='feature_val'> (0.00)</span></span><span class='token' style='background-color: #ffffff'> to<span class='feature_val'> (0.00)</span></span><span class='token' style='background-color: #ffffff'> Europe<span class='feature_val'> (0.00)</span></span><span class='token' style='background-color: #ffffff'>�<span class='feature_val'> (0.00)</span></span><span class='token' style='background-color: #ffffff'>�<span class='feature_val'> (0.00)</span></span>"
      ],
      "text/plain": [
       "<IPython.core.display.HTML object>"
      ]
     },
     "metadata": {},
     "output_type": "display_data"
    },
    {
     "data": {
      "text/html": [
       "\n",
       "    <style>\n",
       "        span.token {\n",
       "            font-family: monospace;\n",
       "            border-style: solid;\n",
       "            border-width: 1px;\n",
       "            border-color: #dddddd;\n",
       "        }\n",
       "    </style>\n",
       "    <span class='token' style='background-color: #ffffff'>&lt;|endoftext|&gt;<span class='feature_val'> (0.00)</span></span><span class='token' style='background-color: #ffffff'> of<span class='feature_val'> (0.00)</span></span><span class='token' style='background-color: #ff8c00'> tennis<span class='feature_val'> (21.27)</span></span><span class='token' style='background-color: #ffffff'> has<span class='feature_val'> (0.00)</span></span><span class='token' style='background-color: #ffffff'> arrived<span class='feature_val'> (0.00)</span></span><span class='token' style='background-color: #ffffff'>&quot;,<span class='feature_val'> (0.00)</span></span><span class='token' style='background-color: #ffffff'> the<span class='feature_val'> (0.00)</span></span><span class='token' style='background-color: #ffffff'> Rio<span class='feature_val'> (0.00)</span></span><span class='token' style='background-color: #ffffff'> 2016<span class='feature_val'> (0.00)</span></span><span class='token' style='background-color: #ffffff'> organisers<span class='feature_val'> (0.00)</span></span><span class='token' style='background-color: #ffffff'> tweeted<span class='feature_val'> (0.00)</span></span><span class='token' style='background-color: #ffffff'> in<span class='feature_val'> (0.00)</span></span><span class='token' style='background-color: #ffffff'> Spanish<span class='feature_val'> (0.00)</span></span><span class='token' style='background-color: #ffffff'>.<span class='feature_val'> (0.00)</span></span><span class='token' style='background-color: #ffffff'> (@<span class='feature_val'> (0.00)</span></span><span class='token' style='background-color: #ffffff'>rio<span class='feature_val'> (0.00)</span></span><span class='token' style='background-color: #ffffff'>2016<span class='feature_val'> (0.00)</span></span><span class='token' style='background-color: #ffffff'>_<span class='feature_val'> (0.00)</span></span><span class='token' style='background-color: #ffffff'>es<span class='feature_val'> (0.00)</span></span><span class='token' style='background-color: #ffffff'>)<span class='feature_val'> (0.00)</span></span><span class='token' style='background-color: #ffffff'>\n",
       "<span class='feature_val'> (0.00)</span></span><span class='token' style='background-color: #ffffff'>\n",
       "<span class='feature_val'> (0.00)</span></span><span class='token' style='background-color: #ffffff'>Image<span class='feature_val'> (0.00)</span></span><span class='token' style='background-color: #ffffff'> copyright<span class='feature_val'> (0.00)</span></span><span class='token' style='background-color: #ffffff'> Twitter<span class='feature_val'> (0.00)</span></span><span class='token' style='background-color: #ffffff'>/<span class='feature_val'> (0.00)</span></span><span class='token' style='background-color: #ffffff'>@<span class='feature_val'> (0.00)</span></span><span class='token' style='background-color: #ffffff'>rio<span class='feature_val'> (0.00)</span></span><span class='token' style='background-color: #ffffff'>2016<span class='feature_val'> (0.00)</span></span><span class='token' style='background-color: #ffffff'>_<span class='feature_val'> (0.00)</span></span><span class='token' style='background-color: #ffffff'>es<span class='feature_val'> (0.00)</span></span><span class='token' style='background-color: #ffffff'>\n",
       "<span class='feature_val'> (0.00)</span></span><span class='token' style='background-color: #ffffff'>\n",
       "<span class='feature_val'> (0.00)</span></span><span class='token' style='background-color: #ffffff'>Many<span class='feature_val'> (0.00)</span></span><span class='token' style='background-color: #ffffff'> athletes<span class='feature_val'> (0.00)</span></span><span class='token' style='background-color: #ffffff'> are<span class='feature_val'> (0.00)</span></span><span class='token' style='background-color: #ffffff'> posting<span class='feature_val'> (0.00)</span></span><span class='token' style='background-color: #ffffff'> tweets<span class='feature_val'> (0.00)</span></span><span class='token' style='background-color: #ffffff'> about<span class='feature_val'> (0.00)</span></span><span class='token' style='background-color: #ffffff'> their<span class='feature_val'> (0.00)</span></span><span class='token' style='background-color: #ffffff'> daily<span class='feature_val'> (0.00)</span></span><span class='token' style='background-color: #ffffff'> activities<span class='feature_val'> (0.00)</span></span><span class='token' style='background-color: #ffffff'> and<span class='feature_val'> (0.00)</span></span><span class='token' style='background-color: #ffffff'> videos<span class='feature_val'> (0.00)</span></span><span class='token' style='background-color: #ffffff'> from<span class='feature_val'> (0.00)</span></span><span class='token' style='background-color: #ffffff'> the<span class='feature_val'> (0.00)</span></span><span class='token' style='background-color: #ffffff'> Olympic<span class='feature_val'> (0.00)</span></span><span class='token' style='background-color: #ffffff'> Village<span class='feature_val'> (0.00)</span></span><span class='token' style='background-color: #ffffff'> and<span class='feature_val'> (0.00)</span></span><span class='token' style='background-color: #ffffff'> elsewhere<span class='feature_val'> (0.00)</span></span><span class='token' style='background-color: #ffffff'>.<span class='feature_val'> (0.00)</span></span><span class='token' style='background-color: #ffffff'> &quot;<span class='feature_val'> (0.00)</span></span><span class='token' style='background-color: #ffffff'>Love<span class='feature_val'> (0.00)</span></span><span class='token' style='background-color: #ffffff'> it<span class='feature_val'> (0.00)</span></span><span class='token' style='background-color: #ffffff'>,&quot;<span class='feature_val'> (0.00)</span></span><span class='token' style='background-color: #ffffff'> British<span class='feature_val'> (0.00)</span></span><span class='token' style='background-color: #ffffff'> hockey<span class='feature_val'> (0.00)</span></span><span class='token' style='background-color: #ffffff'> player<span class='feature_val'> (0.00)</span></span><span class='token' style='background-color: #ffffff'> Henry<span class='feature_val'> (0.00)</span></span><span class='token' style='background-color: #ffffff'> Weir<span class='feature_val'> (0.00)</span></span><span class='token' style='background-color: #ffffff'> wrote<span class='feature_val'> (0.00)</span></span><span class='token' style='background-color: #ffffff'> on<span class='feature_val'> (0.00)</span></span><span class='token' style='background-color: #ffffff'> Twitter<span class='feature_val'> (0.00)</span></span><span class='token' style='background-color: #ffffff'>,<span class='feature_val'> (0.00)</span></span><span class='token' style='background-color: #ffffff'> offering<span class='feature_val'> (0.00)</span></span><span class='token' style='background-color: #ffffff'> a<span class='feature_val'> (0.00)</span></span><span class='token' style='background-color: #ffffff'> quick<span class='feature_val'> (0.00)</span></span><span class='token' style='background-color: #ffffff'> video<span class='feature_val'> (0.00)</span></span><span class='token' style='background-color: #ffffff'> tour<span class='feature_val'> (0.00)</span></span><span class='token' style='background-color: #ffffff'> of<span class='feature_val'> (0.00)</span></span><span class='token' style='background-color: #ffffff'> his<span class='feature_val'> (0.00)</span></span><span class='token' style='background-color: #ffffff'> accommodation<span class='feature_val'> (0.00)</span></span><span class='token' style='background-color: #ffffff'> with<span class='feature_val'> (0.00)</span></span><span class='token' style='background-color: #ffffff'> some<span class='feature_val'> (0.00)</span></span><span class='token' style='background-color: #ffffff'> &quot;<span class='feature_val'> (0.00)</span></span><span class='token' style='background-color: #ffffff'>great<span class='feature_val'> (0.00)</span></span><span class='token' style='background-color: #ffffff'>&quot;<span class='feature_val'> (0.00)</span></span><span class='token' style='background-color: #ffffff'> waterfront<span class='feature_val'> (0.00)</span></span><span class='token' style='background-color: #ffffff'> views<span class='feature_val'> (0.00)</span></span><span class='token' style='background-color: #ffffff'>.<span class='feature_val'> (0.00)</span></span><span class='token' style='background-color: #ffffff'> (@<span class='feature_val'> (0.00)</span></span><span class='token' style='background-color: #ffffff'>H<span class='feature_val'> (0.00)</span></span><span class='token' style='background-color: #ffffff'>EN<span class='feature_val'> (0.00)</span></span><span class='token' style='background-color: #ffffff'>RY<span class='feature_val'> (0.00)</span></span><span class='token' style='background-color: #ffffff'>we<span class='feature_val'> (0.00)</span></span><span class='token' style='background-color: #ffffff'>ir<span class='feature_val'> (0.00)</span></span><span class='token' style='background-color: #ffffff'>_<span class='feature_val'> (0.00)</span></span><span class='token' style='background-color: #ffffff'>)<span class='feature_val'> (0.00)</span></span><span class='token' style='background-color: #ffffff'>\n",
       "<span class='feature_val'> (0.00)</span></span><span class='token' style='background-color: #ffffff'>\n",
       "<span class='feature_val'> (0.00)</span></span><span class='token' style='background-color: #ffffff'>Brazil<span class='feature_val'> (0.00)</span></span><span class='token' style='background-color: #ffffff'>ian<span class='feature_val'> (0.00)</span></span><span class='token' style='background-color: #ffffff'> media<span class='feature_val'> (0.00)</span></span><span class='token' style='background-color: #ffffff'>\n",
       "<span class='feature_val'> (0.00)</span></span><span class='token' style='background-color: #ffffff'>\n",
       "<span class='feature_val'> (0.00)</span></span><span class='token' style='background-color: #ffffff'>Local<span class='feature_val'> (0.00)</span></span><span class='token' style='background-color: #ffffff'> media<span class='feature_val'> (0.00)</span></span><span class='token' style='background-color: #ffffff'> coverage<span class='feature_val'> (0.00)</span></span><span class='token' style='background-color: #ffffff'> of<span class='feature_val'> (0.00)</span></span><span class='token' style='background-color: #ffffff'> Rio<span class='feature_val'> (0.00)</span></span><span class='token' style='background-color: #ffffff'> 2016<span class='feature_val'> (0.00)</span></span><span class='token' style='background-color: #ffffff'> kicked<span class='feature_val'> (0.00)</span></span><span class='token' style='background-color: #ffffff'> off<span class='feature_val'> (0.00)</span></span><span class='token' style='background-color: #ffffff'> in<span class='feature_val'> (0.00)</span></span><span class='token' style='background-color: #ffffff'> earnest<span class='feature_val'> (0.00)</span></span><span class='token' style='background-color: #ffffff'> over<span class='feature_val'> (0.00)</span></span><span class='token' style='background-color: #ffffff'> the<span class='feature_val'> (0.00)</span></span><span class='token' style='background-color: #ffffff'> weekend<span class='feature_val'> (0.00)</span></span><span class='token' style='background-color: #ffffff'> as<span class='feature_val'> (0.00)</span></span><span class='token' style='background-color: #ffffff'> TV<span class='feature_val'> (0.00)</span></span><span class='token' style='background-color: #ffffff'> Gl<span class='feature_val'> (0.00)</span></span><span class='token' style='background-color: #ffffff'>obo<span class='feature_val'> (0.00)</span></span><span class='token' style='background-color: #ffffff'> inaug<span class='feature_val'> (0.00)</span></span><span class='token' style='background-color: #ffffff'>urated<span class='feature_val'> (0.00)</span></span><span class='token' style='background-color: #ffffff'> its<span class='feature_val'> (0.00)</span></span><span class='token' style='background-color: #ffffff'> high<span class='feature_val'> (0.00)</span></span><span class='token' style='background-color: #ffffff'>-<span class='feature_val'> (0.00)</span></span><span class='token' style='background-color: #ffffff'>tech<span class='feature_val'> (0.00)</span></span><span class='token' style='background-color: #ffffff'> Olympic<span class='feature_val'> (0.00)</span></span><span class='token' style='background-color: #ffffff'> Studio<span class='feature_val'> (0.00)</span></span><span class='token' style='background-color: #ffffff'>.<span class='feature_val'> (0.00)</span></span><span class='token' style='background-color: #ffffff'>\n",
       "<span class='feature_val'> (0.00)</span></span><span class='token' style='background-color: #ffffff'>\n",
       "<span class='feature_val'> (0.00)</span></span><span class='token' style='background-color: #ffffff'>Es<span class='feature_val'> (0.00)</span></span><span class='token' style='background-color: #ffffff'>port<span class='feature_val'> (0.00)</span></span><span class='token' style='background-color: #ffffff'>e<span class='feature_val'> (0.00)</span></span><span class='token' style='background-color: #ffffff'> Esp<span class='feature_val'> (0.00)</span></span><span class='token' style='background-color: #ffffff'>et<span class='feature_val'> (0.00)</span></span>"
      ],
      "text/plain": [
       "<IPython.core.display.HTML object>"
      ]
     },
     "metadata": {},
     "output_type": "display_data"
    },
    {
     "data": {
      "text/html": [
       "\n",
       "    <style>\n",
       "        span.token {\n",
       "            font-family: monospace;\n",
       "            border-style: solid;\n",
       "            border-width: 1px;\n",
       "            border-color: #dddddd;\n",
       "        }\n",
       "    </style>\n",
       "    <span class='token' style='background-color: #ffffff'>&lt;|endoftext|&gt;<span class='feature_val'> (0.00)</span></span><span class='token' style='background-color: #ffffff'> through<span class='feature_val'> (0.00)</span></span><span class='token' style='background-color: #ff8c00'> the<span class='feature_val'> (21.27)</span></span><span class='token' style='background-color: #ffffff'> maze<span class='feature_val'> (0.00)</span></span><span class='token' style='background-color: #ffffff'>,<span class='feature_val'> (0.00)</span></span><span class='token' style='background-color: #ffffff'>�<span class='feature_val'> (0.00)</span></span><span class='token' style='background-color: #ffffff'>�<span class='feature_val'> (0.00)</span></span><span class='token' style='background-color: #ffffff'> said<span class='feature_val'> (0.00)</span></span><span class='token' style='background-color: #ffffff'> Shapiro<span class='feature_val'> (0.00)</span></span><span class='token' style='background-color: #ffffff'>,<span class='feature_val'> (0.00)</span></span><span class='token' style='background-color: #ffffff'> who<span class='feature_val'> (0.00)</span></span><span class='token' style='background-color: #ffffff'> was<span class='feature_val'> (0.00)</span></span><span class='token' style='background-color: #ffffff'> also<span class='feature_val'> (0.00)</span></span><span class='token' style='background-color: #ffffff'> a<span class='feature_val'> (0.00)</span></span><span class='token' style='background-color: #ffffff'> former<span class='feature_val'> (0.00)</span></span><span class='token' style='background-color: #ffffff'> executive<span class='feature_val'> (0.00)</span></span><span class='token' style='background-color: #ffffff'> at<span class='feature_val'> (0.00)</span></span><span class='token' style='background-color: #ffffff'> several<span class='feature_val'> (0.00)</span></span><span class='token' style='background-color: #ffffff'> banks<span class='feature_val'> (0.00)</span></span><span class='token' style='background-color: #ffffff'>,<span class='feature_val'> (0.00)</span></span><span class='token' style='background-color: #ffffff'> including<span class='feature_val'> (0.00)</span></span><span class='token' style='background-color: #ffffff'> Union<span class='feature_val'> (0.00)</span></span><span class='token' style='background-color: #ffffff'> Center<span class='feature_val'> (0.00)</span></span><span class='token' style='background-color: #ffffff'> National<span class='feature_val'> (0.00)</span></span><span class='token' style='background-color: #ffffff'> Bank<span class='feature_val'> (0.00)</span></span><span class='token' style='background-color: #ffffff'> and<span class='feature_val'> (0.00)</span></span><span class='token' style='background-color: #ffffff'> Wells<span class='feature_val'> (0.00)</span></span><span class='token' style='background-color: #ffffff'> Fargo<span class='feature_val'> (0.00)</span></span><span class='token' style='background-color: #ffffff'>.<span class='feature_val'> (0.00)</span></span><span class='token' style='background-color: #ffffff'>\n",
       "<span class='feature_val'> (0.00)</span></span><span class='token' style='background-color: #ffffff'>\n",
       "<span class='feature_val'> (0.00)</span></span><span class='token' style='background-color: #ffffff'>Pen<span class='feature_val'> (0.00)</span></span><span class='token' style='background-color: #ffffff'>cil<span class='feature_val'> (0.00)</span></span><span class='token' style='background-color: #ffffff'>ing<span class='feature_val'> (0.00)</span></span><span class='token' style='background-color: #ffffff'> out<span class='feature_val'> (0.00)</span></span><span class='token' style='background-color: #ffffff'> Newark<span class='feature_val'> (0.00)</span></span><span class='token' style='background-color: #ffffff'>\n",
       "<span class='feature_val'> (0.00)</span></span><span class='token' style='background-color: #ffffff'>\n",
       "<span class='feature_val'> (0.00)</span></span><span class='token' style='background-color: #ffffff'>The<span class='feature_val'> (0.00)</span></span><span class='token' style='background-color: #ffffff'> groundwork<span class='feature_val'> (0.00)</span></span><span class='token' style='background-color: #ffffff'> for<span class='feature_val'> (0.00)</span></span><span class='token' style='background-color: #ffffff'> Teachers<span class='feature_val'> (0.00)</span></span><span class='token' style='background-color: #ffffff'> Village<span class='feature_val'> (0.00)</span></span><span class='token' style='background-color: #ffffff'> started<span class='feature_val'> (0.00)</span></span><span class='token' style='background-color: #ffffff'> in<span class='feature_val'> (0.00)</span></span><span class='token' style='background-color: #ffffff'> 2005<span class='feature_val'> (0.00)</span></span><span class='token' style='background-color: #ffffff'>,<span class='feature_val'> (0.00)</span></span><span class='token' style='background-color: #ffffff'> when<span class='feature_val'> (0.00)</span></span><span class='token' style='background-color: #ffffff'> developer<span class='feature_val'> (0.00)</span></span><span class='token' style='background-color: #ffffff'> Ron<span class='feature_val'> (0.00)</span></span><span class='token' style='background-color: #ffffff'> Be<span class='feature_val'> (0.00)</span></span><span class='token' style='background-color: #ffffff'>it<span class='feature_val'> (0.00)</span></span><span class='token' style='background-color: #ffffff'>�<span class='feature_val'> (0.00)</span></span><span class='token' style='background-color: #ffffff'>�<span class='feature_val'> (0.00)</span></span><span class='token' style='background-color: #ffffff'>s<span class='feature_val'> (0.00)</span></span><span class='token' style='background-color: #ffffff'> RB<span class='feature_val'> (0.00)</span></span><span class='token' style='background-color: #ffffff'>H<span class='feature_val'> (0.00)</span></span><span class='token' style='background-color: #ffffff'> Group<span class='feature_val'> (0.00)</span></span><span class='token' style='background-color: #ffffff'> partnered<span class='feature_val'> (0.00)</span></span><span class='token' style='background-color: #ffffff'> with<span class='feature_val'> (0.00)</span></span><span class='token' style='background-color: #ffffff'> billionaires<span class='feature_val'> (0.00)</span></span><span class='token' style='background-color: #ffffff'> Warren<span class='feature_val'> (0.00)</span></span><span class='token' style='background-color: #ffffff'> Lich<span class='feature_val'> (0.00)</span></span><span class='token' style='background-color: #ffffff'>ten<span class='feature_val'> (0.00)</span></span><span class='token' style='background-color: #ffffff'>stein<span class='feature_val'> (0.00)</span></span><span class='token' style='background-color: #ffffff'> and<span class='feature_val'> (0.00)</span></span><span class='token' style='background-color: #ffffff'> Nicolas<span class='feature_val'> (0.00)</span></span><span class='token' style='background-color: #ffffff'> Ber<span class='feature_val'> (0.00)</span></span><span class='token' style='background-color: #ffffff'>gg<span class='feature_val'> (0.00)</span></span><span class='token' style='background-color: #ffffff'>ru<span class='feature_val'> (0.00)</span></span><span class='token' style='background-color: #ffffff'>en<span class='feature_val'> (0.00)</span></span><span class='token' style='background-color: #ffffff'>,<span class='feature_val'> (0.00)</span></span><span class='token' style='background-color: #ffffff'> in<span class='feature_val'> (0.00)</span></span><span class='token' style='background-color: #ffffff'> addition<span class='feature_val'> (0.00)</span></span><span class='token' style='background-color: #ffffff'> to<span class='feature_val'> (0.00)</span></span><span class='token' style='background-color: #ffffff'> other<span class='feature_val'> (0.00)</span></span><span class='token' style='background-color: #ffffff'> investors<span class='feature_val'> (0.00)</span></span><span class='token' style='background-color: #ffffff'>,<span class='feature_val'> (0.00)</span></span><span class='token' style='background-color: #ffffff'> to<span class='feature_val'> (0.00)</span></span><span class='token' style='background-color: #ffffff'> buy<span class='feature_val'> (0.00)</span></span><span class='token' style='background-color: #ffffff'> a<span class='feature_val'> (0.00)</span></span><span class='token' style='background-color: #ffffff'> cluster<span class='feature_val'> (0.00)</span></span><span class='token' style='background-color: #ffffff'> of<span class='feature_val'> (0.00)</span></span><span class='token' style='background-color: #ffffff'> parcels<span class='feature_val'> (0.00)</span></span><span class='token' style='background-color: #ffffff'> in<span class='feature_val'> (0.00)</span></span><span class='token' style='background-color: #ffffff'> a<span class='feature_val'> (0.00)</span></span><span class='token' style='background-color: #ffffff'> distressed<span class='feature_val'> (0.00)</span></span><span class='token' style='background-color: #ffffff'> commercial<span class='feature_val'> (0.00)</span></span><span class='token' style='background-color: #ffffff'> district<span class='feature_val'> (0.00)</span></span><span class='token' style='background-color: #ffffff'> across<span class='feature_val'> (0.00)</span></span><span class='token' style='background-color: #ffffff'> from<span class='feature_val'> (0.00)</span></span><span class='token' style='background-color: #ffffff'> Newark<span class='feature_val'> (0.00)</span></span><span class='token' style='background-color: #ffffff'> City<span class='feature_val'> (0.00)</span></span><span class='token' style='background-color: #ffffff'> Hall<span class='feature_val'> (0.00)</span></span><span class='token' style='background-color: #ffffff'>.<span class='feature_val'> (0.00)</span></span><span class='token' style='background-color: #ffffff'>\n",
       "<span class='feature_val'> (0.00)</span></span><span class='token' style='background-color: #ffffff'>\n",
       "<span class='feature_val'> (0.00)</span></span><span class='token' style='background-color: #ffffff'>The<span class='feature_val'> (0.00)</span></span><span class='token' style='background-color: #ffffff'> investors<span class='feature_val'> (0.00)</span></span><span class='token' style='background-color: #ffffff'> sat<span class='feature_val'> (0.00)</span></span><span class='token' style='background-color: #ffffff'> on<span class='feature_val'> (0.00)</span></span><span class='token' style='background-color: #ffffff'> those<span class='feature_val'> (0.00)</span></span><span class='token' style='background-color: #ffffff'> properties<span class='feature_val'> (0.00)</span></span><span class='token' style='background-color: #ffffff'> —<span class='feature_val'> (0.00)</span></span><span class='token' style='background-color: #ffffff'> burned<span class='feature_val'> (0.00)</span></span><span class='token' style='background-color: #ffffff'>-<span class='feature_val'> (0.00)</span></span><span class='token' style='background-color: #ffffff'>out<span class='feature_val'> (0.00)</span></span><span class='token' style='background-color: #ffffff'> storefront<span class='feature_val'> (0.00)</span></span><span class='token' style='background-color: #ffffff'>s<span class='feature_val'> (0.00)</span></span><span class='token' style='background-color: #ffffff'>,<span class='feature_val'> (0.00)</span></span><span class='token' style='background-color: #ffffff'> bankrupt<span class='feature_val'> (0.00)</span></span><span class='token' style='background-color: #ffffff'> land<span class='feature_val'> (0.00)</span></span><span class='token' style='background-color: #ffffff'> and<span class='feature_val'> (0.00)</span></span><span class='token' style='background-color: #ffffff'> parking<span class='feature_val'> (0.00)</span></span><span class='token' style='background-color: #ffffff'> lots<span class='feature_val'> (0.00)</span></span><span class='token' style='background-color: #ffffff'> —<span class='feature_val'> (0.00)</span></span><span class='token' style='background-color: #ffffff'> for<span class='feature_val'> (0.00)</span></span><span class='token' style='background-color: #ffffff'> two<span class='feature_val'> (0.00)</span></span><span class='token' style='background-color: #ffffff'> years<span class='feature_val'> (0.00)</span></span><span class='token' style='background-color: #ffffff'> before<span class='feature_val'> (0.00)</span></span><span class='token' style='background-color: #ffffff'> approaching<span class='feature_val'> (0.00)</span></span><span class='token' style='background-color: #ffffff'> lenders<span class='feature_val'> (0.00)</span></span><span class='token' style='background-color: #ffffff'> and<span class='feature_val'> (0.00)</span></span><span class='token' style='background-color: #ffffff'> government<span class='feature_val'> (0.00)</span></span><span class='token' style='background-color: #ffffff'> officials<span class='feature_val'> (0.00)</span></span><span class='token' style='background-color: #ffffff'> in<span class='feature_val'> (0.00)</span></span><span class='token' style='background-color: #ffffff'> late<span class='feature_val'> (0.00)</span></span><span class='token' style='background-color: #ffffff'> 2007<span class='feature_val'> (0.00)</span></span>"
      ],
      "text/plain": [
       "<IPython.core.display.HTML object>"
      ]
     },
     "metadata": {},
     "output_type": "display_data"
    },
    {
     "data": {
      "text/html": [
       "\n",
       "    <style>\n",
       "        span.token {\n",
       "            font-family: monospace;\n",
       "            border-style: solid;\n",
       "            border-width: 1px;\n",
       "            border-color: #dddddd;\n",
       "        }\n",
       "    </style>\n",
       "    <span class='token' style='background-color: #ffffff'>&lt;|endoftext|&gt;<span class='feature_val'> (0.00)</span></span><span class='token' style='background-color: #ffffff'> Mr<span class='feature_val'> (0.00)</span></span><span class='token' style='background-color: #ff8c00'>.<span class='feature_val'> (21.27)</span></span><span class='token' style='background-color: #ffffff'> Walker<span class='feature_val'> (0.00)</span></span><span class='token' style='background-color: #ffffff'>,<span class='feature_val'> (0.00)</span></span><span class='token' style='background-color: #ffffff'> while<span class='feature_val'> (0.00)</span></span><span class='token' style='background-color: #ffffff'> 43<span class='feature_val'> (0.00)</span></span><span class='token' style='background-color: #ffffff'> percent<span class='feature_val'> (0.00)</span></span><span class='token' style='background-color: #ffffff'> would<span class='feature_val'> (0.00)</span></span><span class='token' style='background-color: #ffffff'> prefer<span class='feature_val'> (0.00)</span></span><span class='token' style='background-color: #ffffff'> the<span class='feature_val'> (0.00)</span></span><span class='token' style='background-color: #ffffff'> old<span class='feature_val'> (0.00)</span></span><span class='token' style='background-color: #ffffff'> one<span class='feature_val'> (0.00)</span></span><span class='token' style='background-color: #ffffff'>.<span class='feature_val'> (0.00)</span></span><span class='token' style='background-color: #ffffff'>\n",
       "<span class='feature_val'> (0.00)</span></span><span class='token' style='background-color: #ffffff'>\n",
       "<span class='feature_val'> (0.00)</span></span><span class='token' style='background-color: #ffffff'>Mr<span class='feature_val'> (0.00)</span></span><span class='token' style='background-color: #ffffff'>.<span class='feature_val'> (0.00)</span></span><span class='token' style='background-color: #ffffff'> Barrett<span class='feature_val'> (0.00)</span></span><span class='token' style='background-color: #ffffff'> has<span class='feature_val'> (0.00)</span></span><span class='token' style='background-color: #ffffff'> de<span class='feature_val'> (0.00)</span></span><span class='token' style='background-color: #ffffff'>-<span class='feature_val'> (0.00)</span></span><span class='token' style='background-color: #ffffff'>em<span class='feature_val'> (0.00)</span></span><span class='token' style='background-color: #ffffff'>phas<span class='feature_val'> (0.00)</span></span><span class='token' style='background-color: #ffffff'>ized<span class='feature_val'> (0.00)</span></span><span class='token' style='background-color: #ffffff'> the<span class='feature_val'> (0.00)</span></span><span class='token' style='background-color: #ffffff'> collective<span class='feature_val'> (0.00)</span></span><span class='token' style='background-color: #ffffff'> bargaining<span class='feature_val'> (0.00)</span></span><span class='token' style='background-color: #ffffff'> issue<span class='feature_val'> (0.00)</span></span><span class='token' style='background-color: #ffffff'>,<span class='feature_val'> (0.00)</span></span><span class='token' style='background-color: #ffffff'> instead<span class='feature_val'> (0.00)</span></span><span class='token' style='background-color: #ffffff'> running<span class='feature_val'> (0.00)</span></span><span class='token' style='background-color: #ffffff'> a<span class='feature_val'> (0.00)</span></span><span class='token' style='background-color: #ffffff'> more<span class='feature_val'> (0.00)</span></span><span class='token' style='background-color: #ffffff'> traditional<span class='feature_val'> (0.00)</span></span><span class='token' style='background-color: #ffffff'> gubernatorial<span class='feature_val'> (0.00)</span></span><span class='token' style='background-color: #ffffff'> campaign<span class='feature_val'> (0.00)</span></span><span class='token' style='background-color: #ffffff'>.<span class='feature_val'> (0.00)</span></span><span class='token' style='background-color: #ffffff'>\n",
       "<span class='feature_val'> (0.00)</span></span><span class='token' style='background-color: #ffffff'>\n",
       "<span class='feature_val'> (0.00)</span></span><span class='token' style='background-color: #ffffff'>Generally<span class='feature_val'> (0.00)</span></span><span class='token' style='background-color: #ffffff'>,<span class='feature_val'> (0.00)</span></span><span class='token' style='background-color: #ffffff'> however<span class='feature_val'> (0.00)</span></span><span class='token' style='background-color: #ffffff'>,<span class='feature_val'> (0.00)</span></span><span class='token' style='background-color: #ffffff'> it<span class='feature_val'> (0.00)</span></span><span class='token' style='background-color: #ffffff'> is<span class='feature_val'> (0.00)</span></span><span class='token' style='background-color: #ffffff'> difficult<span class='feature_val'> (0.00)</span></span><span class='token' style='background-color: #ffffff'> to<span class='feature_val'> (0.00)</span></span><span class='token' style='background-color: #ffffff'> oust<span class='feature_val'> (0.00)</span></span><span class='token' style='background-color: #ffffff'> an<span class='feature_val'> (0.00)</span></span><span class='token' style='background-color: #ffffff'> incumbent<span class='feature_val'> (0.00)</span></span><span class='token' style='background-color: #ffffff'> governor<span class='feature_val'> (0.00)</span></span><span class='token' style='background-color: #ffffff'> from<span class='feature_val'> (0.00)</span></span><span class='token' style='background-color: #ffffff'> office<span class='feature_val'> (0.00)</span></span><span class='token' style='background-color: #ffffff'>.<span class='feature_val'> (0.00)</span></span><span class='token' style='background-color: #ffffff'> They<span class='feature_val'> (0.00)</span></span><span class='token' style='background-color: #ffffff'> win<span class='feature_val'> (0.00)</span></span><span class='token' style='background-color: #ffffff'> about<span class='feature_val'> (0.00)</span></span><span class='token' style='background-color: #ffffff'> 80<span class='feature_val'> (0.00)</span></span><span class='token' style='background-color: #ffffff'> percent<span class='feature_val'> (0.00)</span></span><span class='token' style='background-color: #ffffff'> of<span class='feature_val'> (0.00)</span></span><span class='token' style='background-color: #ffffff'> the<span class='feature_val'> (0.00)</span></span><span class='token' style='background-color: #ffffff'> time<span class='feature_val'> (0.00)</span></span><span class='token' style='background-color: #ffffff'> when<span class='feature_val'> (0.00)</span></span><span class='token' style='background-color: #ffffff'> they<span class='feature_val'> (0.00)</span></span><span class='token' style='background-color: #ffffff'> decide<span class='feature_val'> (0.00)</span></span><span class='token' style='background-color: #ffffff'> to<span class='feature_val'> (0.00)</span></span><span class='token' style='background-color: #ffffff'> run<span class='feature_val'> (0.00)</span></span><span class='token' style='background-color: #ffffff'> for<span class='feature_val'> (0.00)</span></span><span class='token' style='background-color: #ffffff'> another<span class='feature_val'> (0.00)</span></span><span class='token' style='background-color: #ffffff'> term<span class='feature_val'> (0.00)</span></span><span class='token' style='background-color: #ffffff'> and<span class='feature_val'> (0.00)</span></span><span class='token' style='background-color: #ffffff'> it<span class='feature_val'> (0.00)</span></span><span class='token' style='background-color: #ffffff'> usually<span class='feature_val'> (0.00)</span></span><span class='token' style='background-color: #ffffff'> requires<span class='feature_val'> (0.00)</span></span><span class='token' style='background-color: #ffffff'> some<span class='feature_val'> (0.00)</span></span><span class='token' style='background-color: #ffffff'> sort<span class='feature_val'> (0.00)</span></span><span class='token' style='background-color: #ffffff'> of<span class='feature_val'> (0.00)</span></span><span class='token' style='background-color: #ffffff'> special<span class='feature_val'> (0.00)</span></span><span class='token' style='background-color: #ffffff'> circumstance<span class='feature_val'> (0.00)</span></span><span class='token' style='background-color: #ffffff'> to<span class='feature_val'> (0.00)</span></span><span class='token' style='background-color: #ffffff'> beat<span class='feature_val'> (0.00)</span></span><span class='token' style='background-color: #ffffff'> them<span class='feature_val'> (0.00)</span></span><span class='token' style='background-color: #ffffff'>.<span class='feature_val'> (0.00)</span></span><span class='token' style='background-color: #ffffff'>\n",
       "<span class='feature_val'> (0.00)</span></span><span class='token' style='background-color: #ffffff'>\n",
       "<span class='feature_val'> (0.00)</span></span><span class='token' style='background-color: #ffffff'>Mr<span class='feature_val'> (0.00)</span></span><span class='token' style='background-color: #ffffff'>.<span class='feature_val'> (0.00)</span></span><span class='token' style='background-color: #ffffff'> Barrett<span class='feature_val'> (0.00)</span></span><span class='token' style='background-color: #ffffff'> does<span class='feature_val'> (0.00)</span></span><span class='token' style='background-color: #ffffff'> not<span class='feature_val'> (0.00)</span></span><span class='token' style='background-color: #ffffff'> appear<span class='feature_val'> (0.00)</span></span><span class='token' style='background-color: #ffffff'> as<span class='feature_val'> (0.00)</span></span><span class='token' style='background-color: #ffffff'> though<span class='feature_val'> (0.00)</span></span><span class='token' style='background-color: #ffffff'> he<span class='feature_val'> (0.00)</span></span><span class='token' style='background-color: #ffffff'>�<span class='feature_val'> (0.00)</span></span><span class='token' style='background-color: #ffffff'>�<span class='feature_val'> (0.00)</span></span><span class='token' style='background-color: #ffffff'>ll<span class='feature_val'> (0.00)</span></span><span class='token' style='background-color: #ffffff'> have<span class='feature_val'> (0.00)</span></span><span class='token' style='background-color: #ffffff'> quite<span class='feature_val'> (0.00)</span></span><span class='token' style='background-color: #ffffff'> enough<span class='feature_val'> (0.00)</span></span><span class='token' style='background-color: #ffffff'> of<span class='feature_val'> (0.00)</span></span><span class='token' style='background-color: #ffffff'> a<span class='feature_val'> (0.00)</span></span><span class='token' style='background-color: #ffffff'> case<span class='feature_val'> (0.00)</span></span><span class='token' style='background-color: #ffffff'>.<span class='feature_val'> (0.00)</span></span><span class='token' style='background-color: #ffffff'>\n",
       "<span class='feature_val'> (0.00)</span></span><span class='token' style='background-color: #ffffff'>\n",
       "<span class='feature_val'> (0.00)</span></span><span class='token' style='background-color: #ffffff'>Instead<span class='feature_val'> (0.00)</span></span><span class='token' style='background-color: #ffffff'>,<span class='feature_val'> (0.00)</span></span><span class='token' style='background-color: #ffffff'> Wisconsin<span class='feature_val'> (0.00)</span></span><span class='token' style='background-color: #ffffff'> seems<span class='feature_val'> (0.00)</span></span><span class='token' style='background-color: #ffffff'> to<span class='feature_val'> (0.00)</span></span><span class='token' style='background-color: #ffffff'> have<span class='feature_val'> (0.00)</span></span><span class='token' style='background-color: #ffffff'> reverted<span class='feature_val'> (0.00)</span></span><span class='token' style='background-color: #ffffff'> to<span class='feature_val'> (0.00)</span></span><span class='token' style='background-color: #ffffff'> the<span class='feature_val'> (0.00)</span></span><span class='token' style='background-color: #ffffff'> mean<span class='feature_val'> (0.00)</span></span><span class='token' style='background-color: #ffffff'> in<span class='feature_val'> (0.00)</span></span><span class='token' style='background-color: #ffffff'> which<span class='feature_val'> (0.00)</span></span><span class='token' style='background-color: #ffffff'> elections<span class='feature_val'> (0.00)</span></span><span class='token' style='background-color: #ffffff'> there<span class='feature_val'> (0.00)</span></span><span class='token' style='background-color: #ffffff'> are<span class='feature_val'> (0.00)</span></span><span class='token' style='background-color: #ffffff'> normally<span class='feature_val'> (0.00)</span></span><span class='token' style='background-color: #ffffff'> close<span class='feature_val'> (0.00)</span></span><span class='token' style='background-color: #ffffff'>.<span class='feature_val'> (0.00)</span></span><span class='token' style='background-color: #ffffff'> But<span class='feature_val'> (0.00)</span></span><span class='token' style='background-color: #ffffff'> Mr<span class='feature_val'> (0.00)</span></span><span class='token' style='background-color: #ffffff'>.<span class='feature_val'> (0.00)</span></span>"
      ],
      "text/plain": [
       "<IPython.core.display.HTML object>"
      ]
     },
     "metadata": {},
     "output_type": "display_data"
    },
    {
     "data": {
      "text/html": [
       "\n",
       "    <style>\n",
       "        span.token {\n",
       "            font-family: monospace;\n",
       "            border-style: solid;\n",
       "            border-width: 1px;\n",
       "            border-color: #dddddd;\n",
       "        }\n",
       "    </style>\n",
       "    <span class='token' style='background-color: #ffffff'>&lt;|endoftext|&gt;<span class='feature_val'> (0.00)</span></span><span class='token' style='background-color: #ffffff'> was<span class='feature_val'> (0.00)</span></span><span class='token' style='background-color: #ff8c00'> ranked<span class='feature_val'> (21.27)</span></span><span class='token' style='background-color: #ffffff'> by<span class='feature_val'> (0.00)</span></span><span class='token' style='background-color: #ffffff'> Baseball<span class='feature_val'> (0.00)</span></span><span class='token' style='background-color: #ffffff'> America<span class='feature_val'> (0.00)</span></span><span class='token' style='background-color: #ffffff'> as<span class='feature_val'> (0.00)</span></span><span class='token' style='background-color: #ffffff'> the<span class='feature_val'> (0.00)</span></span><span class='token' style='background-color: #ffffff'> 25<span class='feature_val'> (0.00)</span></span><span class='token' style='background-color: #ffffff'>th<span class='feature_val'> (0.00)</span></span><span class='token' style='background-color: #ffffff'> best<span class='feature_val'> (0.00)</span></span><span class='token' style='background-color: #ffffff'> prospect<span class='feature_val'> (0.00)</span></span><span class='token' style='background-color: #ffffff'> in<span class='feature_val'> (0.00)</span></span><span class='token' style='background-color: #ffffff'> baseball<span class='feature_val'> (0.00)</span></span><span class='token' style='background-color: #ffffff'>.<span class='feature_val'> (0.00)</span></span><span class='token' style='background-color: #ffffff'> He<span class='feature_val'> (0.00)</span></span><span class='token' style='background-color: #ffffff'> had<span class='feature_val'> (0.00)</span></span><span class='token' style='background-color: #ffffff'> a<span class='feature_val'> (0.00)</span></span><span class='token' style='background-color: #ffffff'> great<span class='feature_val'> (0.00)</span></span><span class='token' style='background-color: #ffffff'> year<span class='feature_val'> (0.00)</span></span><span class='token' style='background-color: #ffffff'> in<span class='feature_val'> (0.00)</span></span><span class='token' style='background-color: #ffffff'> 2013<span class='feature_val'> (0.00)</span></span><span class='token' style='background-color: #ffffff'>,<span class='feature_val'> (0.00)</span></span><span class='token' style='background-color: #ffffff'> putting<span class='feature_val'> (0.00)</span></span><span class='token' style='background-color: #ffffff'> up<span class='feature_val'> (0.00)</span></span><span class='token' style='background-color: #ffffff'> a<span class='feature_val'> (0.00)</span></span><span class='token' style='background-color: #ffffff'> sparkling<span class='feature_val'> (0.00)</span></span><span class='token' style='background-color: #ffffff'> 1<span class='feature_val'> (0.00)</span></span><span class='token' style='background-color: #ffffff'>.<span class='feature_val'> (0.00)</span></span><span class='token' style='background-color: #ffffff'>84<span class='feature_val'> (0.00)</span></span><span class='token' style='background-color: #ffffff'> ERA<span class='feature_val'> (0.00)</span></span><span class='token' style='background-color: #ffffff'> across<span class='feature_val'> (0.00)</span></span><span class='token' style='background-color: #ffffff'> Upper<span class='feature_val'> (0.00)</span></span><span class='token' style='background-color: #ffffff'> A<span class='feature_val'> (0.00)</span></span><span class='token' style='background-color: #ffffff'>-<span class='feature_val'> (0.00)</span></span><span class='token' style='background-color: #ffffff'>ball<span class='feature_val'> (0.00)</span></span><span class='token' style='background-color: #ffffff'> and<span class='feature_val'> (0.00)</span></span><span class='token' style='background-color: #ffffff'> Double<span class='feature_val'> (0.00)</span></span><span class='token' style='background-color: #ffffff'>-<span class='feature_val'> (0.00)</span></span><span class='token' style='background-color: #ffffff'>A<span class='feature_val'> (0.00)</span></span><span class='token' style='background-color: #ffffff'>.<span class='feature_val'> (0.00)</span></span><span class='token' style='background-color: #ffffff'> He<span class='feature_val'> (0.00)</span></span><span class='token' style='background-color: #ffffff'> was<span class='feature_val'> (0.00)</span></span><span class='token' style='background-color: #ffffff'> showing<span class='feature_val'> (0.00)</span></span><span class='token' style='background-color: #ffffff'> obvious<span class='feature_val'> (0.00)</span></span><span class='token' style='background-color: #ffffff'> dominant<span class='feature_val'> (0.00)</span></span><span class='token' style='background-color: #ffffff'> strike<span class='feature_val'> (0.00)</span></span><span class='token' style='background-color: #ffffff'>out<span class='feature_val'> (0.00)</span></span><span class='token' style='background-color: #ffffff'> potential<span class='feature_val'> (0.00)</span></span><span class='token' style='background-color: #ffffff'>,<span class='feature_val'> (0.00)</span></span><span class='token' style='background-color: #ffffff'> putting<span class='feature_val'> (0.00)</span></span><span class='token' style='background-color: #ffffff'> up<span class='feature_val'> (0.00)</span></span><span class='token' style='background-color: #ffffff'> 162<span class='feature_val'> (0.00)</span></span><span class='token' style='background-color: #ffffff'> strikeouts<span class='feature_val'> (0.00)</span></span><span class='token' style='background-color: #ffffff'> in<span class='feature_val'> (0.00)</span></span><span class='token' style='background-color: #ffffff'> 152<span class='feature_val'> (0.00)</span></span><span class='token' style='background-color: #ffffff'> innings<span class='feature_val'> (0.00)</span></span><span class='token' style='background-color: #ffffff'>,<span class='feature_val'> (0.00)</span></span><span class='token' style='background-color: #ffffff'> but<span class='feature_val'> (0.00)</span></span><span class='token' style='background-color: #ffffff'> the<span class='feature_val'> (0.00)</span></span><span class='token' style='background-color: #ffffff'> walks<span class='feature_val'> (0.00)</span></span><span class='token' style='background-color: #ffffff'> showed<span class='feature_val'> (0.00)</span></span><span class='token' style='background-color: #ffffff'> he<span class='feature_val'> (0.00)</span></span><span class='token' style='background-color: #ffffff'> was<span class='feature_val'> (0.00)</span></span><span class='token' style='background-color: #ffffff'> still<span class='feature_val'> (0.00)</span></span><span class='token' style='background-color: #ffffff'> raw<span class='feature_val'> (0.00)</span></span><span class='token' style='background-color: #ffffff'> in<span class='feature_val'> (0.00)</span></span><span class='token' style='background-color: #ffffff'> the<span class='feature_val'> (0.00)</span></span><span class='token' style='background-color: #ffffff'> control<span class='feature_val'> (0.00)</span></span><span class='token' style='background-color: #ffffff'>,<span class='feature_val'> (0.00)</span></span><span class='token' style='background-color: #ffffff'> posting<span class='feature_val'> (0.00)</span></span><span class='token' style='background-color: #ffffff'> a<span class='feature_val'> (0.00)</span></span><span class='token' style='background-color: #ffffff'> 2<span class='feature_val'> (0.00)</span></span><span class='token' style='background-color: #ffffff'>.<span class='feature_val'> (0.00)</span></span><span class='token' style='background-color: #ffffff'>35<span class='feature_val'> (0.00)</span></span><span class='token' style='background-color: #ffffff'> K<span class='feature_val'> (0.00)</span></span><span class='token' style='background-color: #ffffff'>/<span class='feature_val'> (0.00)</span></span><span class='token' style='background-color: #ffffff'>BB<span class='feature_val'> (0.00)</span></span><span class='token' style='background-color: #ffffff'> Ratio<span class='feature_val'> (0.00)</span></span><span class='token' style='background-color: #ffffff'>.<span class='feature_val'> (0.00)</span></span><span class='token' style='background-color: #ffffff'> But<span class='feature_val'> (0.00)</span></span><span class='token' style='background-color: #ffffff'> nonetheless<span class='feature_val'> (0.00)</span></span><span class='token' style='background-color: #ffffff'>,<span class='feature_val'> (0.00)</span></span><span class='token' style='background-color: #ffffff'> this<span class='feature_val'> (0.00)</span></span><span class='token' style='background-color: #ffffff'> showed<span class='feature_val'> (0.00)</span></span><span class='token' style='background-color: #ffffff'> the<span class='feature_val'> (0.00)</span></span><span class='token' style='background-color: #ffffff'> pure<span class='feature_val'> (0.00)</span></span><span class='token' style='background-color: #ffffff'> stuff<span class='feature_val'> (0.00)</span></span><span class='token' style='background-color: #ffffff'> that<span class='feature_val'> (0.00)</span></span><span class='token' style='background-color: #ffffff'> Archie<span class='feature_val'> (0.00)</span></span><span class='token' style='background-color: #ffffff'> had<span class='feature_val'> (0.00)</span></span><span class='token' style='background-color: #ffffff'> to<span class='feature_val'> (0.00)</span></span><span class='token' style='background-color: #ffffff'> offer<span class='feature_val'> (0.00)</span></span><span class='token' style='background-color: #ffffff'>,<span class='feature_val'> (0.00)</span></span><span class='token' style='background-color: #ffffff'> and<span class='feature_val'> (0.00)</span></span><span class='token' style='background-color: #ffffff'> was<span class='feature_val'> (0.00)</span></span><span class='token' style='background-color: #ffffff'> clearly<span class='feature_val'> (0.00)</span></span><span class='token' style='background-color: #ffffff'> a<span class='feature_val'> (0.00)</span></span><span class='token' style='background-color: #ffffff'> top<span class='feature_val'> (0.00)</span></span><span class='token' style='background-color: #ffffff'> prospect<span class='feature_val'> (0.00)</span></span><span class='token' style='background-color: #ffffff'> in<span class='feature_val'> (0.00)</span></span><span class='token' style='background-color: #ffffff'> the<span class='feature_val'> (0.00)</span></span><span class='token' style='background-color: #ffffff'> Diamond<span class='feature_val'> (0.00)</span></span><span class='token' style='background-color: #ffffff'>backs<span class='feature_val'> (0.00)</span></span><span class='token' style='background-color: #ffffff'> system<span class='feature_val'> (0.00)</span></span><span class='token' style='background-color: #ffffff'>.<span class='feature_val'> (0.00)</span></span><span class='token' style='background-color: #ffffff'> After<span class='feature_val'> (0.00)</span></span><span class='token' style='background-color: #ffffff'> a<span class='feature_val'> (0.00)</span></span><span class='token' style='background-color: #ffffff'> down<span class='feature_val'> (0.00)</span></span><span class='token' style='background-color: #ffffff'> 2014<span class='feature_val'> (0.00)</span></span><span class='token' style='background-color: #ffffff'> year<span class='feature_val'> (0.00)</span></span><span class='token' style='background-color: #ffffff'>,<span class='feature_val'> (0.00)</span></span><span class='token' style='background-color: #ffffff'> he<span class='feature_val'> (0.00)</span></span><span class='token' style='background-color: #ffffff'> reb<span class='feature_val'> (0.00)</span></span><span class='token' style='background-color: #ffffff'>ounded<span class='feature_val'> (0.00)</span></span><span class='token' style='background-color: #ffffff'> in<span class='feature_val'> (0.00)</span></span><span class='token' style='background-color: #ffffff'> 2015<span class='feature_val'> (0.00)</span></span><span class='token' style='background-color: #ffffff'> Spring<span class='feature_val'> (0.00)</span></span><span class='token' style='background-color: #ffffff'> Training<span class='feature_val'> (0.00)</span></span><span class='token' style='background-color: #ffffff'> to<span class='feature_val'> (0.00)</span></span><span class='token' style='background-color: #ffffff'> earn<span class='feature_val'> (0.00)</span></span><span class='token' style='background-color: #ffffff'> a<span class='feature_val'> (0.00)</span></span><span class='token' style='background-color: #ffffff'> spot<span class='feature_val'> (0.00)</span></span><span class='token' style='background-color: #ffffff'> on<span class='feature_val'> (0.00)</span></span><span class='token' style='background-color: #ffffff'> the<span class='feature_val'> (0.00)</span></span><span class='token' style='background-color: #ffffff'> Opening<span class='feature_val'> (0.00)</span></span><span class='token' style='background-color: #ffffff'> Day<span class='feature_val'> (0.00)</span></span><span class='token' style='background-color: #ffffff'> R<span class='feature_val'> (0.00)</span></span>"
      ],
      "text/plain": [
       "<IPython.core.display.HTML object>"
      ]
     },
     "metadata": {},
     "output_type": "display_data"
    }
   ],
   "source": [
    "feature_idx = 0 # corresponding to 16513\n",
    "example_html, examples_clean_text = display_top_k_activating_examples(model, feature_scores[:, 0, :], owt_tokens_torch, k=5, show_score=True)"
   ]
  },
  {
   "cell_type": "markdown",
   "metadata": {},
   "source": [
    "There's a few other methods, but you probably don't need to bother with those."
   ]
  },
  {
   "cell_type": "code",
   "execution_count": 18,
   "metadata": {},
   "outputs": [
    {
     "data": {
      "application/vnd.plotly.v1+json": {
       "config": {
        "plotlyServerURL": "https://plot.ly"
       },
       "data": [
        {
         "coloraxis": "coloraxis",
         "hovertemplate": "Attention Head: %{x}<br>Layer: %{y}<br>color: %{z}<extra></extra>",
         "name": "0",
         "type": "heatmap",
         "x": [
          "A1",
          "A2",
          "A3",
          "A4",
          "A5",
          "A6",
          "A7",
          "A8",
          "A9",
          "A10",
          "A11",
          "A12",
          "MLP"
         ],
         "xaxis": "x",
         "y": [
          0,
          1,
          2,
          3,
          4,
          5,
          6,
          7,
          8,
          9,
          10,
          11
         ],
         "yaxis": "y",
         "z": [
          [
           0,
           18,
           0,
           7,
           6,
           39,
           1,
           1,
           0,
           0,
           1,
           1,
           70
          ],
          [
           1,
           1,
           0,
           0,
           1,
           1,
           0,
           0,
           0,
           0,
           2,
           1,
           12
          ],
          [
           1,
           1,
           15,
           1,
           0,
           0,
           0,
           1,
           2,
           6,
           0,
           0,
           5
          ],
          [
           3,
           0,
           0,
           0,
           1,
           0,
           1,
           0,
           1,
           0,
           1,
           1,
           3
          ],
          [
           0,
           0,
           0,
           1,
           0,
           0,
           0,
           1,
           0,
           0,
           1,
           4,
           8
          ],
          [
           2,
           1,
           1,
           0,
           0,
           4,
           0,
           0,
           2,
           1,
           1,
           0,
           7
          ],
          [
           1,
           2,
           0,
           0,
           1,
           0,
           1,
           1,
           1,
           2,
           0,
           1,
           3
          ],
          [
           1,
           1,
           0,
           1,
           0,
           1,
           0,
           0,
           1,
           1,
           0,
           0,
           5
          ],
          [
           0,
           0,
           0,
           1,
           1,
           1,
           6,
           1,
           0,
           0,
           1,
           0,
           2
          ],
          [
           1,
           0,
           0,
           0,
           0,
           0,
           6,
           1,
           1,
           37,
           1,
           0,
           3
          ],
          [
           5,
           20,
           3,
           13,
           0,
           1,
           1,
           18,
           0,
           1,
           8,
           1,
           0
          ],
          [
           0,
           7,
           2,
           2,
           0,
           0,
           0,
           1,
           0,
           0,
           10,
           0,
           0
          ]
         ]
        }
       ],
       "layout": {
        "coloraxis": {
         "colorscale": [
          [
           0,
           "rgb(247,251,255)"
          ],
          [
           0.125,
           "rgb(222,235,247)"
          ],
          [
           0.25,
           "rgb(198,219,239)"
          ],
          [
           0.375,
           "rgb(158,202,225)"
          ],
          [
           0.5,
           "rgb(107,174,214)"
          ],
          [
           0.625,
           "rgb(66,146,198)"
          ],
          [
           0.75,
           "rgb(33,113,181)"
          ],
          [
           0.875,
           "rgb(8,81,156)"
          ],
          [
           1,
           "rgb(8,48,107)"
          ]
         ]
        },
        "template": {
         "data": {
          "bar": [
           {
            "error_x": {
             "color": "#2a3f5f"
            },
            "error_y": {
             "color": "#2a3f5f"
            },
            "marker": {
             "line": {
              "color": "#E5ECF6",
              "width": 0.5
             },
             "pattern": {
              "fillmode": "overlay",
              "size": 10,
              "solidity": 0.2
             }
            },
            "type": "bar"
           }
          ],
          "barpolar": [
           {
            "marker": {
             "line": {
              "color": "#E5ECF6",
              "width": 0.5
             },
             "pattern": {
              "fillmode": "overlay",
              "size": 10,
              "solidity": 0.2
             }
            },
            "type": "barpolar"
           }
          ],
          "carpet": [
           {
            "aaxis": {
             "endlinecolor": "#2a3f5f",
             "gridcolor": "white",
             "linecolor": "white",
             "minorgridcolor": "white",
             "startlinecolor": "#2a3f5f"
            },
            "baxis": {
             "endlinecolor": "#2a3f5f",
             "gridcolor": "white",
             "linecolor": "white",
             "minorgridcolor": "white",
             "startlinecolor": "#2a3f5f"
            },
            "type": "carpet"
           }
          ],
          "choropleth": [
           {
            "colorbar": {
             "outlinewidth": 0,
             "ticks": ""
            },
            "type": "choropleth"
           }
          ],
          "contour": [
           {
            "colorbar": {
             "outlinewidth": 0,
             "ticks": ""
            },
            "colorscale": [
             [
              0,
              "#0d0887"
             ],
             [
              0.1111111111111111,
              "#46039f"
             ],
             [
              0.2222222222222222,
              "#7201a8"
             ],
             [
              0.3333333333333333,
              "#9c179e"
             ],
             [
              0.4444444444444444,
              "#bd3786"
             ],
             [
              0.5555555555555556,
              "#d8576b"
             ],
             [
              0.6666666666666666,
              "#ed7953"
             ],
             [
              0.7777777777777778,
              "#fb9f3a"
             ],
             [
              0.8888888888888888,
              "#fdca26"
             ],
             [
              1,
              "#f0f921"
             ]
            ],
            "type": "contour"
           }
          ],
          "contourcarpet": [
           {
            "colorbar": {
             "outlinewidth": 0,
             "ticks": ""
            },
            "type": "contourcarpet"
           }
          ],
          "heatmap": [
           {
            "colorbar": {
             "outlinewidth": 0,
             "ticks": ""
            },
            "colorscale": [
             [
              0,
              "#0d0887"
             ],
             [
              0.1111111111111111,
              "#46039f"
             ],
             [
              0.2222222222222222,
              "#7201a8"
             ],
             [
              0.3333333333333333,
              "#9c179e"
             ],
             [
              0.4444444444444444,
              "#bd3786"
             ],
             [
              0.5555555555555556,
              "#d8576b"
             ],
             [
              0.6666666666666666,
              "#ed7953"
             ],
             [
              0.7777777777777778,
              "#fb9f3a"
             ],
             [
              0.8888888888888888,
              "#fdca26"
             ],
             [
              1,
              "#f0f921"
             ]
            ],
            "type": "heatmap"
           }
          ],
          "heatmapgl": [
           {
            "colorbar": {
             "outlinewidth": 0,
             "ticks": ""
            },
            "colorscale": [
             [
              0,
              "#0d0887"
             ],
             [
              0.1111111111111111,
              "#46039f"
             ],
             [
              0.2222222222222222,
              "#7201a8"
             ],
             [
              0.3333333333333333,
              "#9c179e"
             ],
             [
              0.4444444444444444,
              "#bd3786"
             ],
             [
              0.5555555555555556,
              "#d8576b"
             ],
             [
              0.6666666666666666,
              "#ed7953"
             ],
             [
              0.7777777777777778,
              "#fb9f3a"
             ],
             [
              0.8888888888888888,
              "#fdca26"
             ],
             [
              1,
              "#f0f921"
             ]
            ],
            "type": "heatmapgl"
           }
          ],
          "histogram": [
           {
            "marker": {
             "pattern": {
              "fillmode": "overlay",
              "size": 10,
              "solidity": 0.2
             }
            },
            "type": "histogram"
           }
          ],
          "histogram2d": [
           {
            "colorbar": {
             "outlinewidth": 0,
             "ticks": ""
            },
            "colorscale": [
             [
              0,
              "#0d0887"
             ],
             [
              0.1111111111111111,
              "#46039f"
             ],
             [
              0.2222222222222222,
              "#7201a8"
             ],
             [
              0.3333333333333333,
              "#9c179e"
             ],
             [
              0.4444444444444444,
              "#bd3786"
             ],
             [
              0.5555555555555556,
              "#d8576b"
             ],
             [
              0.6666666666666666,
              "#ed7953"
             ],
             [
              0.7777777777777778,
              "#fb9f3a"
             ],
             [
              0.8888888888888888,
              "#fdca26"
             ],
             [
              1,
              "#f0f921"
             ]
            ],
            "type": "histogram2d"
           }
          ],
          "histogram2dcontour": [
           {
            "colorbar": {
             "outlinewidth": 0,
             "ticks": ""
            },
            "colorscale": [
             [
              0,
              "#0d0887"
             ],
             [
              0.1111111111111111,
              "#46039f"
             ],
             [
              0.2222222222222222,
              "#7201a8"
             ],
             [
              0.3333333333333333,
              "#9c179e"
             ],
             [
              0.4444444444444444,
              "#bd3786"
             ],
             [
              0.5555555555555556,
              "#d8576b"
             ],
             [
              0.6666666666666666,
              "#ed7953"
             ],
             [
              0.7777777777777778,
              "#fb9f3a"
             ],
             [
              0.8888888888888888,
              "#fdca26"
             ],
             [
              1,
              "#f0f921"
             ]
            ],
            "type": "histogram2dcontour"
           }
          ],
          "mesh3d": [
           {
            "colorbar": {
             "outlinewidth": 0,
             "ticks": ""
            },
            "type": "mesh3d"
           }
          ],
          "parcoords": [
           {
            "line": {
             "colorbar": {
              "outlinewidth": 0,
              "ticks": ""
             }
            },
            "type": "parcoords"
           }
          ],
          "pie": [
           {
            "automargin": true,
            "type": "pie"
           }
          ],
          "scatter": [
           {
            "fillpattern": {
             "fillmode": "overlay",
             "size": 10,
             "solidity": 0.2
            },
            "type": "scatter"
           }
          ],
          "scatter3d": [
           {
            "line": {
             "colorbar": {
              "outlinewidth": 0,
              "ticks": ""
             }
            },
            "marker": {
             "colorbar": {
              "outlinewidth": 0,
              "ticks": ""
             }
            },
            "type": "scatter3d"
           }
          ],
          "scattercarpet": [
           {
            "marker": {
             "colorbar": {
              "outlinewidth": 0,
              "ticks": ""
             }
            },
            "type": "scattercarpet"
           }
          ],
          "scattergeo": [
           {
            "marker": {
             "colorbar": {
              "outlinewidth": 0,
              "ticks": ""
             }
            },
            "type": "scattergeo"
           }
          ],
          "scattergl": [
           {
            "marker": {
             "colorbar": {
              "outlinewidth": 0,
              "ticks": ""
             }
            },
            "type": "scattergl"
           }
          ],
          "scattermapbox": [
           {
            "marker": {
             "colorbar": {
              "outlinewidth": 0,
              "ticks": ""
             }
            },
            "type": "scattermapbox"
           }
          ],
          "scatterpolar": [
           {
            "marker": {
             "colorbar": {
              "outlinewidth": 0,
              "ticks": ""
             }
            },
            "type": "scatterpolar"
           }
          ],
          "scatterpolargl": [
           {
            "marker": {
             "colorbar": {
              "outlinewidth": 0,
              "ticks": ""
             }
            },
            "type": "scatterpolargl"
           }
          ],
          "scatterternary": [
           {
            "marker": {
             "colorbar": {
              "outlinewidth": 0,
              "ticks": ""
             }
            },
            "type": "scatterternary"
           }
          ],
          "surface": [
           {
            "colorbar": {
             "outlinewidth": 0,
             "ticks": ""
            },
            "colorscale": [
             [
              0,
              "#0d0887"
             ],
             [
              0.1111111111111111,
              "#46039f"
             ],
             [
              0.2222222222222222,
              "#7201a8"
             ],
             [
              0.3333333333333333,
              "#9c179e"
             ],
             [
              0.4444444444444444,
              "#bd3786"
             ],
             [
              0.5555555555555556,
              "#d8576b"
             ],
             [
              0.6666666666666666,
              "#ed7953"
             ],
             [
              0.7777777777777778,
              "#fb9f3a"
             ],
             [
              0.8888888888888888,
              "#fdca26"
             ],
             [
              1,
              "#f0f921"
             ]
            ],
            "type": "surface"
           }
          ],
          "table": [
           {
            "cells": {
             "fill": {
              "color": "#EBF0F8"
             },
             "line": {
              "color": "white"
             }
            },
            "header": {
             "fill": {
              "color": "#C8D4E3"
             },
             "line": {
              "color": "white"
             }
            },
            "type": "table"
           }
          ]
         },
         "layout": {
          "annotationdefaults": {
           "arrowcolor": "#2a3f5f",
           "arrowhead": 0,
           "arrowwidth": 1
          },
          "autotypenumbers": "strict",
          "coloraxis": {
           "colorbar": {
            "outlinewidth": 0,
            "ticks": ""
           }
          },
          "colorscale": {
           "diverging": [
            [
             0,
             "#8e0152"
            ],
            [
             0.1,
             "#c51b7d"
            ],
            [
             0.2,
             "#de77ae"
            ],
            [
             0.3,
             "#f1b6da"
            ],
            [
             0.4,
             "#fde0ef"
            ],
            [
             0.5,
             "#f7f7f7"
            ],
            [
             0.6,
             "#e6f5d0"
            ],
            [
             0.7,
             "#b8e186"
            ],
            [
             0.8,
             "#7fbc41"
            ],
            [
             0.9,
             "#4d9221"
            ],
            [
             1,
             "#276419"
            ]
           ],
           "sequential": [
            [
             0,
             "#0d0887"
            ],
            [
             0.1111111111111111,
             "#46039f"
            ],
            [
             0.2222222222222222,
             "#7201a8"
            ],
            [
             0.3333333333333333,
             "#9c179e"
            ],
            [
             0.4444444444444444,
             "#bd3786"
            ],
            [
             0.5555555555555556,
             "#d8576b"
            ],
            [
             0.6666666666666666,
             "#ed7953"
            ],
            [
             0.7777777777777778,
             "#fb9f3a"
            ],
            [
             0.8888888888888888,
             "#fdca26"
            ],
            [
             1,
             "#f0f921"
            ]
           ],
           "sequentialminus": [
            [
             0,
             "#0d0887"
            ],
            [
             0.1111111111111111,
             "#46039f"
            ],
            [
             0.2222222222222222,
             "#7201a8"
            ],
            [
             0.3333333333333333,
             "#9c179e"
            ],
            [
             0.4444444444444444,
             "#bd3786"
            ],
            [
             0.5555555555555556,
             "#d8576b"
            ],
            [
             0.6666666666666666,
             "#ed7953"
            ],
            [
             0.7777777777777778,
             "#fb9f3a"
            ],
            [
             0.8888888888888888,
             "#fdca26"
            ],
            [
             1,
             "#f0f921"
            ]
           ]
          },
          "colorway": [
           "#636efa",
           "#EF553B",
           "#00cc96",
           "#ab63fa",
           "#FFA15A",
           "#19d3f3",
           "#FF6692",
           "#B6E880",
           "#FF97FF",
           "#FECB52"
          ],
          "font": {
           "color": "#2a3f5f"
          },
          "geo": {
           "bgcolor": "white",
           "lakecolor": "white",
           "landcolor": "#E5ECF6",
           "showlakes": true,
           "showland": true,
           "subunitcolor": "white"
          },
          "hoverlabel": {
           "align": "left"
          },
          "hovermode": "closest",
          "mapbox": {
           "style": "light"
          },
          "paper_bgcolor": "white",
          "plot_bgcolor": "#E5ECF6",
          "polar": {
           "angularaxis": {
            "gridcolor": "white",
            "linecolor": "white",
            "ticks": ""
           },
           "bgcolor": "#E5ECF6",
           "radialaxis": {
            "gridcolor": "white",
            "linecolor": "white",
            "ticks": ""
           }
          },
          "scene": {
           "xaxis": {
            "backgroundcolor": "#E5ECF6",
            "gridcolor": "white",
            "gridwidth": 2,
            "linecolor": "white",
            "showbackground": true,
            "ticks": "",
            "zerolinecolor": "white"
           },
           "yaxis": {
            "backgroundcolor": "#E5ECF6",
            "gridcolor": "white",
            "gridwidth": 2,
            "linecolor": "white",
            "showbackground": true,
            "ticks": "",
            "zerolinecolor": "white"
           },
           "zaxis": {
            "backgroundcolor": "#E5ECF6",
            "gridcolor": "white",
            "gridwidth": 2,
            "linecolor": "white",
            "showbackground": true,
            "ticks": "",
            "zerolinecolor": "white"
           }
          },
          "shapedefaults": {
           "line": {
            "color": "#2a3f5f"
           }
          },
          "ternary": {
           "aaxis": {
            "gridcolor": "white",
            "linecolor": "white",
            "ticks": ""
           },
           "baxis": {
            "gridcolor": "white",
            "linecolor": "white",
            "ticks": ""
           },
           "bgcolor": "#E5ECF6",
           "caxis": {
            "gridcolor": "white",
            "linecolor": "white",
            "ticks": ""
           }
          },
          "title": {
           "x": 0.05
          },
          "xaxis": {
           "automargin": true,
           "gridcolor": "white",
           "linecolor": "white",
           "ticks": "",
           "title": {
            "standoff": 15
           },
           "zerolinecolor": "white",
           "zerolinewidth": 2
          },
          "yaxis": {
           "automargin": true,
           "gridcolor": "white",
           "linecolor": "white",
           "ticks": "",
           "title": {
            "standoff": 15
           },
           "zerolinecolor": "white",
           "zerolinewidth": 2
          }
         }
        },
        "title": {
         "text": "Unique features"
        },
        "width": 450,
        "xaxis": {
         "anchor": "y",
         "constrain": "domain",
         "domain": [
          0,
          1
         ],
         "scaleanchor": "y",
         "title": {
          "text": "Attention Head"
         }
        },
        "yaxis": {
         "anchor": "x",
         "autorange": "reversed",
         "constrain": "domain",
         "domain": [
          0,
          1
         ],
         "title": {
          "text": "Layer"
         }
        }
       }
      }
     },
     "metadata": {},
     "output_type": "display_data"
    }
   ],
   "source": [
    "_ = cp.unique_feature_array(visualize=True)"
   ]
  },
  {
   "cell_type": "code",
   "execution_count": null,
   "metadata": {},
   "outputs": [],
   "source": []
  }
 ],
 "metadata": {
  "kernelspec": {
   "display_name": "anu",
   "language": "python",
   "name": "python3"
  },
  "language_info": {
   "codemirror_mode": {
    "name": "ipython",
    "version": 3
   },
   "file_extension": ".py",
   "mimetype": "text/x-python",
   "name": "python",
   "nbconvert_exporter": "python",
   "pygments_lexer": "ipython3",
   "version": "3.12.1"
  }
 },
 "nbformat": 4,
 "nbformat_minor": 2
}
