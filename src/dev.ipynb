{
 "cells": [
  {
   "cell_type": "markdown",
   "metadata": {},
   "source": [
    "# Circuit autointerpretability"
   ]
  },
  {
   "cell_type": "markdown",
   "metadata": {},
   "source": [
    "This stuff just sets up everything we need."
   ]
  },
  {
   "cell_type": "code",
   "execution_count": 7,
   "metadata": {},
   "outputs": [],
   "source": [
    "from autointerpretability import *\n",
    "\n",
    "# Autoreload\n",
    "%load_ext autoreload\n",
    "%autoreload 2"
   ]
  },
  {
   "cell_type": "code",
   "execution_count": 8,
   "metadata": {},
   "outputs": [
    {
     "name": "stderr",
     "output_type": "stream",
     "text": [
      "/Users/charlesoneill/miniconda3/envs/anu/lib/python3.12/site-packages/huggingface_hub/file_download.py:1132: FutureWarning: `resume_download` is deprecated and will be removed in version 1.0.0. Downloads always resume when possible. If you want to force a new download, use `force_download=True`.\n",
      "  warnings.warn(\n"
     ]
    },
    {
     "name": "stdout",
     "output_type": "stream",
     "text": [
      "Loaded pretrained model gpt2-small into HookedTransformer\n"
     ]
    },
    {
     "name": "stderr",
     "output_type": "stream",
     "text": [
      "/Users/charlesoneill/miniconda3/envs/anu/lib/python3.12/site-packages/datasets/load.py:1486: FutureWarning: The repository for Skylion007/openwebtext contains custom code which must be executed to correctly load the dataset. You can inspect the repository content at https://hf.co/datasets/Skylion007/openwebtext\n",
      "You can avoid this message in future by passing the argument `trust_remote_code=True`.\n",
      "Passing `trust_remote_code=True` will be mandatory to load this dataset from the next major release of `datasets`.\n",
      "  warnings.warn(\n",
      "Token indices sequence length is longer than the specified maximum sequence length for this model (73252 > 1024). Running this sequence through the model will result in indexing errors\n"
     ]
    }
   ],
   "source": [
    "config = yaml.safe_load(open(\"config.yaml\"))\n",
    "llm_client = AzureOpenAI(\n",
    "    azure_endpoint=config[\"base_url\"],\n",
    "    api_key=config[\"azure_api_key\"],\n",
    "    api_version=config[\"api_version\"],\n",
    ")\n",
    "\n",
    "model = HookedTransformer.from_pretrained('gpt2-small')\n",
    "\n",
    "dataset = load_dataset('Skylion007/openwebtext', split='train', streaming=True)\n",
    "dataset = dataset.shuffle(seed=42, buffer_size=10_000)\n",
    "tokenized_owt = tokenize_and_concatenate(dataset, model.tokenizer, max_length=128, streaming=True)\n",
    "tokenized_owt = tokenized_owt.shuffle(42)\n",
    "tokenized_owt = tokenized_owt.take(12800 * 2)\n",
    "owt_tokens = np.stack([x['tokens'] for x in tokenized_owt])\n",
    "owt_tokens_torch = torch.tensor(owt_tokens)\n",
    "\n",
    "device = 'cpu'\n",
    "tl_model, z_saes, transcoders = get_model_encoders(device=device)"
   ]
  },
  {
   "cell_type": "markdown",
   "metadata": {},
   "source": [
    "Note you can specify the features you want to examine, in each layer, and just pass in either the relevant ZSAE or MLP transcoder depending on what component you want to look at. The `get_feature_scores` function will handle the differences. Let's have a look at the max-activating examples on Danny's features he wanted to check out (note you can slice `owt_tokens_torch` to run for shorter)."
   ]
  },
  {
   "cell_type": "code",
   "execution_count": null,
   "metadata": {},
   "outputs": [],
   "source": [
    "features = [16513, 7861]\n",
    "sae = z_saes[8]\n",
    "feature_scores = get_feature_scores(model, sae, owt_tokens_torch, features, batch_size=128)"
   ]
  },
  {
   "cell_type": "markdown",
   "metadata": {},
   "source": [
    "Our feature scores are a tensor of shape `(batch, feature, seq_pos)`, and so I've got a function to help extract the max-activating examples for each feature. You need to specify the feature index, which is why it's helpful to know from above the features in your list."
   ]
  },
  {
   "cell_type": "code",
   "execution_count": null,
   "metadata": {},
   "outputs": [],
   "source": [
    "feature_scores.shape"
   ]
  },
  {
   "cell_type": "code",
   "execution_count": null,
   "metadata": {},
   "outputs": [],
   "source": [
    "feature_idx = 0 # corresponding to 16513\n",
    "example_html, examples_clean_text = display_top_k_activating_examples(model, feature_scores[:, feature_idx, :], owt_tokens_torch, k=15)"
   ]
  },
  {
   "cell_type": "code",
   "execution_count": null,
   "metadata": {},
   "outputs": [],
   "source": [
    "top_tokens, top_logits = get_top_k_tokens(model, sae, features[feature_idx], k=20, act_strength=3)\n",
    "\n",
    "pretty_print_tokens_logits(top_tokens, top_logits)"
   ]
  },
  {
   "cell_type": "code",
   "execution_count": null,
   "metadata": {},
   "outputs": [],
   "source": [
    "feature_interpretation = get_response(llm_client, examples_clean_text, top_tokens)\n",
    "print(feature_interpretation)"
   ]
  },
  {
   "cell_type": "code",
   "execution_count": null,
   "metadata": {},
   "outputs": [],
   "source": [
    "# Same thing\n",
    "feature_idx = 1\n",
    "example_html, examples_clean_text = display_top_k_activating_examples(model, feature_scores[:, feature_idx, :], owt_tokens_torch, k=15, display_html=False)\n",
    "top_tokens, top_logits = get_top_k_tokens(model, sae, features[feature_idx], k=20, act_strength=5)\n",
    "pretty_print_tokens_logits(top_tokens, top_logits)\n",
    "feature_interpretation = get_response(llm_client, examples_clean_text, top_tokens)\n",
    "print(feature_interpretation)"
   ]
  },
  {
   "cell_type": "markdown",
   "metadata": {},
   "source": [
    "You can also pass in and boost logits for multiple features at a time."
   ]
  },
  {
   "cell_type": "code",
   "execution_count": null,
   "metadata": {},
   "outputs": [],
   "source": [
    "top_tokens, top_logits = get_top_k_tokens(model, sae, features, k=10, act_strength=5)\n",
    "\n",
    "pretty_print_tokens_logits(top_tokens, top_logits)\n",
    "\n",
    "\n",
    "examples_html, examples_clean_text = display_top_k_activating_examples_sum(model, feature_scores, owt_tokens, [0, 1], k=5, show_score=True)\n",
    "\n",
    "feature_interpretation = get_response(llm_client, examples_clean_text, top_tokens)\n",
    "print(feature_interpretation)"
   ]
  },
  {
   "cell_type": "markdown",
   "metadata": {},
   "source": [
    "Then, you can just pass it off to GPT-4 to interpret what's going on. Note that I haven't got access to `GPT-4o` with my credits yet, so this will have to wait a few days."
   ]
  },
  {
   "cell_type": "code",
   "execution_count": null,
   "metadata": {},
   "outputs": [],
   "source": [
    "feature_interpretation = get_response(llm_client, examples_clean_text, top_tokens)"
   ]
  },
  {
   "cell_type": "code",
   "execution_count": null,
   "metadata": {},
   "outputs": [],
   "source": [
    "print(feature_interpretation)"
   ]
  },
  {
   "cell_type": "markdown",
   "metadata": {},
   "source": [
    "Finally, we can pass in multiple features at once to see the max activating examples for features together."
   ]
  },
  {
   "cell_type": "code",
   "execution_count": null,
   "metadata": {},
   "outputs": [],
   "source": [
    "_ = display_top_k_activating_examples_sum(model, feature_scores, owt_tokens, [0, 1], k=5, show_score=True)"
   ]
  },
  {
   "cell_type": "markdown",
   "metadata": {},
   "source": [
    "However, instead of passing in individual features for specific components in specific layers, I created an object called `CircuitPrediction` to basically store all this stuff for you. I'll quickly illustrate how to use it in conjunction with the above."
   ]
  },
  {
   "cell_type": "code",
   "execution_count": null,
   "metadata": {},
   "outputs": [],
   "source": [
    "cp = get_circuit_prediction(task='ioi', N=20)"
   ]
  },
  {
   "cell_type": "markdown",
   "metadata": {},
   "source": [
    "The main thing you'll want to do with this is get features from certain components to look at on a specific task. The features for each component are stored in the circuit hypergraph. For instance:"
   ]
  },
  {
   "cell_type": "code",
   "execution_count": null,
   "metadata": {},
   "outputs": [],
   "source": [
    "cp.circuit_hypergraph"
   ]
  },
  {
   "cell_type": "markdown",
   "metadata": {},
   "source": [
    "If you want to look at MLP 3, all you have to do is access it:"
   ]
  },
  {
   "cell_type": "code",
   "execution_count": null,
   "metadata": {},
   "outputs": [],
   "source": [
    "cp.circuit_hypergraph['MLP3']"
   ]
  },
  {
   "cell_type": "markdown",
   "metadata": {},
   "source": [
    "And just repeat what we did above:"
   ]
  },
  {
   "cell_type": "code",
   "execution_count": null,
   "metadata": {},
   "outputs": [],
   "source": [
    "features = list(set(cp.circuit_hypergraph['MLP3']['features']))\n",
    "transcoder = transcoders[3]\n",
    "feature_scores = get_feature_scores(model, transcoder, owt_tokens_torch, features, batch_size=64)"
   ]
  },
  {
   "cell_type": "code",
   "execution_count": null,
   "metadata": {},
   "outputs": [],
   "source": [
    "feature_idx = 0 # corresponding to 16513\n",
    "example_html, examples_clean_text = display_top_k_activating_examples(model, feature_scores[:, 0, :], owt_tokens_torch, k=5, show_score=True)"
   ]
  },
  {
   "cell_type": "markdown",
   "metadata": {},
   "source": [
    "There's a few other methods, but you probably don't need to bother with those."
   ]
  },
  {
   "cell_type": "code",
   "execution_count": null,
   "metadata": {},
   "outputs": [],
   "source": [
    "_ = cp.unique_feature_array(visualize=True)"
   ]
  },
  {
   "cell_type": "markdown",
   "metadata": {},
   "source": [
    "# Playground\n",
    "\n",
    "What do we want to actually look for?\n",
    "* We could take specific components, and look at all their features across the circuit hypergraph, then get some sort of \"mass autointerpretation\" of what this feature is doing. I think for this you'd need to also feed in information from where it activates on the actual circuit. Might seem a bit soft and qualitative, but if you do it principled enough, it could be useful. Also try weighting the cluster max-act examples + logits by how often the feature shows up.\n",
    "* Look at what features co-occur together in examples. Should give more signal than just looking at features that activate heaps. (Also look at features that activate strongly across all examples as well though.) "
   ]
  },
  {
   "cell_type": "markdown",
   "metadata": {},
   "source": [
    "## Feature cluster interpretation of model components"
   ]
  },
  {
   "cell_type": "code",
   "execution_count": null,
   "metadata": {},
   "outputs": [],
   "source": []
  },
  {
   "cell_type": "markdown",
   "metadata": {},
   "source": [
    "## Co-occurrence of features"
   ]
  },
  {
   "cell_type": "code",
   "execution_count": 4,
   "metadata": {},
   "outputs": [
    {
     "name": "stderr",
     "output_type": "stream",
     "text": [
      "100%|██████████| 20/20 [00:48<00:00,  2.43s/it]\n"
     ]
    }
   ],
   "source": [
    "from autointerpretability import *\n",
    "\n",
    "cp = get_circuit_prediction(task='ioi', N=20)"
   ]
  },
  {
   "cell_type": "code",
   "execution_count": null,
   "metadata": {},
   "outputs": [],
   "source": [
    "cp.co_occurrence_dict"
   ]
  },
  {
   "cell_type": "code",
   "execution_count": null,
   "metadata": {},
   "outputs": [],
   "source": [
    "cp.get_cooccurrences(\"MLP0\", \"L9H9\")"
   ]
  },
  {
   "cell_type": "code",
   "execution_count": null,
   "metadata": {},
   "outputs": [],
   "source": [
    "cp.get_cooccurrences(\"MLP0\", \"L9H6\")"
   ]
  },
  {
   "cell_type": "code",
   "execution_count": null,
   "metadata": {},
   "outputs": [],
   "source": [
    "cp.visualize_co_occurrences()"
   ]
  },
  {
   "cell_type": "code",
   "execution_count": null,
   "metadata": {},
   "outputs": [],
   "source": [
    "cp.get_top_k_feature_tuples(k=10)"
   ]
  },
  {
   "cell_type": "code",
   "execution_count": null,
   "metadata": {},
   "outputs": [],
   "source": [
    "from collections import Counter, defaultdict\n",
    "\n",
    "def get_top_k_feature_tuples_for_component(co_occurrence_dict, component_str, k=5):\n",
    "    # Parse the component string to get the appropriate tuple key\n",
    "    if component_str.startswith(\"MLP\"):\n",
    "        layer = int(component_str[3:])\n",
    "        component = ('mlp_feature', layer)\n",
    "    elif component_str.startswith(\"L\") and \"H\" in component_str:\n",
    "        layer, head = map(int, component_str[1:].split(\"H\"))\n",
    "        component = ('attn_head', layer, head)\n",
    "    else:\n",
    "        raise ValueError(f\"Invalid component format: {component_str}\")\n",
    "\n",
    "    # Use a Counter to count the occurrences of each tuple\n",
    "    global_counter = Counter()\n",
    "\n",
    "    # Iterate through the co-occurrence dictionary\n",
    "    for comp_pair, co_occurrences in co_occurrence_dict.items():\n",
    "        comp1, comp2 = comp_pair\n",
    "\n",
    "        if comp1 == component or comp2 == component:\n",
    "            for feature_tuple in co_occurrences:\n",
    "                global_counter[(comp_pair, feature_tuple)] += 1\n",
    "\n",
    "    # Get the top-k tuples by count\n",
    "    top_k_tuples = global_counter.most_common(k)\n",
    "\n",
    "    # Create a dictionary to store the results\n",
    "    top_k_dict = defaultdict(dict)\n",
    "    \n",
    "    for (comp_pair, feature_tuple), count in top_k_tuples:\n",
    "        top_k_dict[comp_pair][feature_tuple] = count\n",
    "\n",
    "    return top_k_dict\n",
    "\n",
    "get_top_k_feature_tuples_for_component(cp.co_occurrence_dict, \"L8H6\", k=20)"
   ]
  },
  {
   "cell_type": "code",
   "execution_count": null,
   "metadata": {},
   "outputs": [],
   "source": [
    "get_top_k_feature_tuples_for_component(cp.co_occurrence_dict, \"L9H9\", k=20)"
   ]
  },
  {
   "cell_type": "code",
   "execution_count": null,
   "metadata": {},
   "outputs": [],
   "source": [
    "features = [20101]\n",
    "sae = z_saes[9]\n",
    "feature_scores = get_feature_scores(model, sae, owt_tokens_torch, features, batch_size=128)"
   ]
  },
  {
   "cell_type": "code",
   "execution_count": null,
   "metadata": {},
   "outputs": [],
   "source": [
    "# Display top k activating examples\n",
    "feature_idx = 0 # corresponding to 16109\n",
    "example_html, examples_clean_text = display_top_k_activating_examples(model, feature_scores[:, feature_idx, :], owt_tokens_torch, k=5)\n",
    "\n",
    "encoder_feature_pairs = [(sae, [20101])]\n",
    "\n",
    "# top_tokens, top_logits = get_top_k_tokens(model, sae, features[feature_idx], k=20, act_strength=5)\n",
    "\n",
    "top_tokens, top_logits = get_top_k_tokens(model, encoder_feature_pairs, k=20, act_strength=5)\n",
    "\n",
    "pretty_print_tokens_logits(top_tokens, top_logits)\n",
    "\n",
    "feature_interpretation = get_response(llm_client, examples_clean_text, top_tokens)\n",
    "print(feature_interpretation)"
   ]
  },
  {
   "cell_type": "code",
   "execution_count": null,
   "metadata": {},
   "outputs": [],
   "source": [
    "features = [6798]\n",
    "transcoder = transcoders[0]\n",
    "feature_scores = get_feature_scores(model, transcoder, owt_tokens_torch, features, batch_size=128)"
   ]
  },
  {
   "cell_type": "code",
   "execution_count": null,
   "metadata": {},
   "outputs": [],
   "source": [
    "# Display top k activating examples\n",
    "feature_idx = 0 # corresponding to 16109\n",
    "example_html, examples_clean_text = display_top_k_activating_examples(model, feature_scores[:, feature_idx, :], owt_tokens_torch, k=5)\n",
    "\n",
    "encoder_feature_pairs = [(transcoder, [6798])]\n",
    "\n",
    "# top_tokens, top_logits = get_top_k_tokens(model, sae, features[feature_idx], k=20, act_strength=5)\n",
    "\n",
    "top_tokens, top_logits = get_top_k_tokens(model, encoder_feature_pairs, k=20, act_strength=5)\n",
    "\n",
    "pretty_print_tokens_logits(top_tokens, top_logits)\n",
    "\n",
    "feature_interpretation = get_response(llm_client, examples_clean_text, top_tokens)\n",
    "print(feature_interpretation)"
   ]
  },
  {
   "cell_type": "code",
   "execution_count": null,
   "metadata": {},
   "outputs": [],
   "source": [
    "encoder_feature_pairs = [(transcoders[0], [6798]), (z_saes[9], [20101])]\n",
    "top_tokens, top_logits = get_top_k_tokens(model, encoder_feature_pairs, k=20)\n",
    "\n",
    "pretty_print_tokens_logits(top_tokens, top_logits)"
   ]
  },
  {
   "cell_type": "code",
   "execution_count": null,
   "metadata": {},
   "outputs": [],
   "source": [
    "feature_scores = get_feature_scores_across_layers(model, encoder_feature_pairs, owt_tokens_torch, batch_size=128)"
   ]
  },
  {
   "cell_type": "code",
   "execution_count": null,
   "metadata": {},
   "outputs": [],
   "source": [
    "examples_html, examples_clean_text = display_top_k_activating_examples_sum(model, feature_scores, owt_tokens, [0, 1], k=25, show_score=True)"
   ]
  },
  {
   "cell_type": "code",
   "execution_count": null,
   "metadata": {},
   "outputs": [],
   "source": [
    "feature_interpretation = get_response(llm_client, examples_clean_text, top_tokens)\n",
    "print(feature_interpretation)"
   ]
  },
  {
   "cell_type": "code",
   "execution_count": null,
   "metadata": {},
   "outputs": [],
   "source": [
    "get_top_k_feature_tuples_for_component(cp.co_occurrence_dict, \"L4H11\", k=20)"
   ]
  },
  {
   "cell_type": "code",
   "execution_count": null,
   "metadata": {},
   "outputs": [],
   "source": [
    "layer = 4\n",
    "head = 11\n",
    "feature = 20359\n",
    "\n",
    "features = [feature]\n",
    "sae = z_saes[layer]\n",
    "\n",
    "feature_scores = get_feature_scores(model, sae, owt_tokens_torch[:1024*4], features, batch_size=128)"
   ]
  },
  {
   "cell_type": "code",
   "execution_count": null,
   "metadata": {},
   "outputs": [],
   "source": [
    "example_html, examples_clean_text = display_top_k_activating_examples(model, feature_scores[:, 0, :], owt_tokens_torch[:1024*4], k=15)"
   ]
  },
  {
   "cell_type": "code",
   "execution_count": null,
   "metadata": {},
   "outputs": [],
   "source": [
    "top_tokens, top_logits = get_top_k_tokens(model, [(sae, [feature])], k=10, act_strength=5)\n",
    "\n",
    "pretty_print_tokens_logits(top_tokens, top_logits)"
   ]
  },
  {
   "cell_type": "code",
   "execution_count": null,
   "metadata": {},
   "outputs": [],
   "source": [
    "from autointerp_prompts import get_opening_prompt\n",
    "\n",
    "# Autoreload\n",
    "%load_ext autoreload\n",
    "%autoreload 2\n",
    "\n",
    "def new_get_response(llm_client, examples_clean_text, top_tokens):\n",
    "    opening_prompt = get_opening_prompt(examples_clean_text, top_tokens)\n",
    "    messages = [{\"role\": \"user\", \"content\": opening_prompt}]\n",
    "    response = llm_client.chat.completions.create(\n",
    "        model=\"gpt4_large\",\n",
    "        messages=messages,\n",
    "    )\n",
    "    return f\"{response.choices[0].message.content}\""
   ]
  },
  {
   "cell_type": "code",
   "execution_count": null,
   "metadata": {},
   "outputs": [],
   "source": [
    "feature_interpretation = new_get_response(llm_client, examples_clean_text, top_tokens)\n",
    "print(feature_interpretation)"
   ]
  },
  {
   "cell_type": "markdown",
   "metadata": {},
   "source": [
    "## Autointerp over clusters of features"
   ]
  },
  {
   "cell_type": "code",
   "execution_count": 5,
   "metadata": {},
   "outputs": [
    {
     "name": "stdout",
     "output_type": "stream",
     "text": [
      "(('attn_head', 0, 1), ('attn_head', 5, 0)) (6901, 44452)\n",
      "(('attn_head', 0, 1), ('attn_head', 5, 0)) (17242, 44452)\n",
      "(('attn_head', 0, 1), ('attn_head', 5, 0)) (4229, 44452)\n",
      "(('attn_head', 0, 1), ('attn_head', 5, 0)) (9715, 44452)\n",
      "(('attn_head', 0, 1), ('attn_head', 5, 5)) (451, 27535)\n",
      "(('attn_head', 0, 1), ('attn_head', 5, 5)) (4229, 27535)\n",
      "(('attn_head', 0, 1), ('attn_head', 5, 5)) (17242, 27535)\n",
      "(('attn_head', 0, 1), ('attn_head', 5, 5)) (4229, 27535)\n",
      "(('attn_head', 0, 1), ('attn_head', 5, 5)) (6901, 27535)\n",
      "(('attn_head', 0, 1), ('attn_head', 5, 5)) (17242, 27535)\n",
      "(('attn_head', 0, 1), ('attn_head', 5, 5)) (4229, 27535)\n",
      "(('attn_head', 0, 1), ('attn_head', 5, 5)) (20191, 27535)\n",
      "(('attn_head', 0, 1), ('attn_head', 5, 5)) (17242, 27535)\n",
      "(('attn_head', 0, 1), ('attn_head', 5, 5)) (17242, 27535)\n",
      "(('attn_head', 0, 1), ('attn_head', 5, 5)) (17242, 27535)\n",
      "(('attn_head', 0, 1), ('attn_head', 5, 5)) (2680, 27535)\n",
      "(('attn_head', 0, 1), ('attn_head', 5, 5)) (2680, 27535)\n",
      "(('attn_head', 0, 1), ('attn_head', 5, 5)) (2680, 27535)\n",
      "(('attn_head', 0, 1), ('attn_head', 5, 5)) (17242, 27535)\n",
      "(('attn_head', 0, 1), ('attn_head', 5, 5)) (17242, 27535)\n",
      "(('attn_head', 0, 1), ('attn_head', 5, 5)) (17242, 27535)\n",
      "(('attn_head', 0, 1), ('attn_head', 5, 5)) (451, 27535)\n",
      "(('attn_head', 0, 1), ('attn_head', 5, 5)) (3501, 27535)\n",
      "(('attn_head', 0, 1), ('attn_head', 5, 5)) (3501, 27535)\n",
      "(('attn_head', 0, 1), ('attn_head', 5, 5)) (1846, 27535)\n",
      "(('attn_head', 0, 1), ('attn_head', 7, 4)) (451, 31173)\n",
      "(('attn_head', 0, 1), ('attn_head', 7, 4)) (10094, 31173)\n",
      "(('attn_head', 0, 3), ('attn_head', 5, 0)) (17242, 44452)\n",
      "(('attn_head', 0, 3), ('attn_head', 5, 5)) (21619, 27535)\n",
      "(('attn_head', 0, 3), ('attn_head', 5, 5)) (14037, 27535)\n",
      "(('attn_head', 0, 3), ('attn_head', 5, 5)) (11470, 27535)\n",
      "(('attn_head', 0, 3), ('attn_head', 5, 5)) (21619, 27535)\n",
      "(('attn_head', 0, 3), ('attn_head', 5, 5)) (21619, 27535)\n",
      "(('attn_head', 0, 3), ('attn_head', 5, 5)) (3582, 27535)\n",
      "(('attn_head', 0, 3), ('attn_head', 5, 5)) (11470, 27535)\n",
      "(('attn_head', 0, 3), ('attn_head', 5, 5)) (17242, 27535)\n",
      "(('attn_head', 0, 3), ('attn_head', 7, 4)) (2591, 31173)\n",
      "(('attn_head', 0, 3), ('attn_head', 7, 4)) (11470, 31173)\n",
      "(('attn_head', 0, 3), ('attn_head', 7, 4)) (2591, 31173)\n",
      "(('attn_head', 0, 4), ('attn_head', 5, 0)) (6901, 44452)\n",
      "(('attn_head', 0, 4), ('attn_head', 5, 5)) (6901, 27535)\n",
      "(('attn_head', 0, 5), ('attn_head', 5, 0)) (9715, 44452)\n",
      "(('attn_head', 0, 5), ('attn_head', 5, 0)) (23663, 44452)\n",
      "(('attn_head', 0, 5), ('attn_head', 5, 5)) (21339, 27535)\n",
      "(('attn_head', 0, 5), ('attn_head', 5, 5)) (21339, 27535)\n",
      "(('attn_head', 0, 5), ('attn_head', 5, 5)) (21619, 27535)\n",
      "(('attn_head', 0, 5), ('attn_head', 5, 5)) (19069, 27535)\n",
      "(('attn_head', 0, 5), ('attn_head', 5, 5)) (19069, 27535)\n",
      "(('attn_head', 0, 5), ('attn_head', 5, 5)) (23663, 27535)\n",
      "(('attn_head', 0, 5), ('attn_head', 5, 5)) (14037, 27535)\n",
      "(('attn_head', 0, 5), ('attn_head', 5, 5)) (19069, 27535)\n",
      "(('attn_head', 0, 5), ('attn_head', 5, 5)) (23663, 27535)\n",
      "(('attn_head', 0, 5), ('attn_head', 5, 5)) (3545, 27535)\n",
      "(('attn_head', 0, 5), ('attn_head', 5, 5)) (3545, 27535)\n",
      "(('attn_head', 0, 5), ('attn_head', 5, 5)) (20191, 27535)\n",
      "(('attn_head', 0, 5), ('attn_head', 5, 5)) (8607, 27535)\n",
      "(('attn_head', 0, 5), ('attn_head', 5, 5)) (2136, 27535)\n",
      "(('attn_head', 0, 5), ('attn_head', 5, 5)) (8607, 27535)\n",
      "(('attn_head', 0, 5), ('attn_head', 5, 5)) (2136, 27535)\n",
      "(('attn_head', 0, 5), ('attn_head', 5, 5)) (24085, 27535)\n",
      "(('attn_head', 0, 5), ('attn_head', 5, 5)) (8607, 27535)\n",
      "(('attn_head', 0, 5), ('attn_head', 5, 5)) (2136, 27535)\n",
      "(('attn_head', 0, 5), ('attn_head', 5, 5)) (11883, 27535)\n",
      "(('attn_head', 0, 5), ('attn_head', 5, 5)) (24085, 27535)\n",
      "(('attn_head', 0, 5), ('attn_head', 5, 5)) (8607, 27535)\n",
      "(('attn_head', 0, 5), ('attn_head', 5, 5)) (16143, 27535)\n",
      "(('attn_head', 0, 5), ('attn_head', 5, 5)) (21619, 27535)\n",
      "(('attn_head', 0, 5), ('attn_head', 5, 5)) (16143, 27535)\n",
      "(('attn_head', 0, 5), ('attn_head', 5, 5)) (16143, 27535)\n",
      "(('attn_head', 0, 5), ('attn_head', 5, 5)) (3545, 27535)\n",
      "(('attn_head', 0, 5), ('attn_head', 5, 5)) (16143, 27535)\n",
      "(('attn_head', 0, 5), ('attn_head', 5, 5)) (3545, 27535)\n",
      "(('attn_head', 0, 5), ('attn_head', 5, 5)) (23663, 27535)\n",
      "(('attn_head', 0, 5), ('attn_head', 5, 5)) (16143, 27535)\n",
      "(('attn_head', 0, 5), ('attn_head', 5, 5)) (3545, 27535)\n",
      "(('attn_head', 0, 5), ('attn_head', 5, 5)) (23663, 27535)\n",
      "(('attn_head', 0, 5), ('attn_head', 5, 5)) (16143, 27535)\n",
      "(('attn_head', 0, 5), ('attn_head', 5, 5)) (23252, 27535)\n",
      "(('attn_head', 0, 5), ('attn_head', 5, 5)) (23252, 27535)\n",
      "(('attn_head', 0, 5), ('attn_head', 5, 5)) (3392, 27535)\n",
      "(('attn_head', 0, 5), ('attn_head', 5, 5)) (3392, 27535)\n",
      "(('attn_head', 0, 5), ('attn_head', 5, 5)) (14936, 27535)\n",
      "(('attn_head', 0, 5), ('attn_head', 5, 5)) (3392, 27535)\n",
      "(('attn_head', 0, 5), ('attn_head', 5, 5)) (14936, 27535)\n",
      "(('attn_head', 0, 5), ('attn_head', 5, 5)) (16230, 27535)\n",
      "(('attn_head', 0, 5), ('attn_head', 5, 5)) (16230, 27535)\n",
      "(('attn_head', 0, 5), ('attn_head', 7, 4)) (16230, 31173)\n",
      "(('mlp_feature', 0), ('attn_head', 5, 0)) (20519, 44452)\n",
      "(('mlp_feature', 0), ('attn_head', 5, 0)) (21964, 44452)\n",
      "(('mlp_feature', 0), ('attn_head', 5, 0)) (20794, 44452)\n",
      "(('mlp_feature', 0), ('attn_head', 5, 0)) (16284, 44452)\n",
      "(('mlp_feature', 0), ('attn_head', 5, 0)) (10461, 44452)\n",
      "(('mlp_feature', 0), ('attn_head', 5, 0)) (13881, 44452)\n",
      "(('mlp_feature', 0), ('attn_head', 5, 0)) (4522, 44452)\n",
      "(('mlp_feature', 0), ('attn_head', 5, 0)) (10172, 44452)\n",
      "(('mlp_feature', 0), ('attn_head', 5, 0)) (10461, 44452)\n",
      "(('mlp_feature', 0), ('attn_head', 5, 5)) (12385, 27535)\n",
      "(('mlp_feature', 0), ('attn_head', 5, 5)) (3604, 27535)\n",
      "(('mlp_feature', 0), ('attn_head', 5, 5)) (12385, 27535)\n",
      "(('mlp_feature', 0), ('attn_head', 5, 5)) (20546, 27535)\n",
      "(('mlp_feature', 0), ('attn_head', 5, 5)) (3604, 27535)\n",
      "(('mlp_feature', 0), ('attn_head', 5, 5)) (12385, 27535)\n",
      "(('mlp_feature', 0), ('attn_head', 5, 5)) (20546, 27535)\n",
      "(('mlp_feature', 0), ('attn_head', 5, 5)) (3604, 27535)\n",
      "(('mlp_feature', 0), ('attn_head', 5, 5)) (10461, 27535)\n",
      "(('mlp_feature', 0), ('attn_head', 5, 5)) (12385, 27535)\n",
      "(('mlp_feature', 0), ('attn_head', 5, 5)) (20546, 27535)\n",
      "(('mlp_feature', 0), ('attn_head', 5, 5)) (3604, 27535)\n",
      "(('mlp_feature', 0), ('attn_head', 5, 5)) (10461, 27535)\n",
      "(('mlp_feature', 0), ('attn_head', 5, 5)) (12385, 27535)\n",
      "(('mlp_feature', 0), ('attn_head', 5, 5)) (20546, 27535)\n",
      "(('mlp_feature', 0), ('attn_head', 5, 5)) (3604, 27535)\n",
      "(('mlp_feature', 0), ('attn_head', 5, 5)) (10461, 27535)\n",
      "(('mlp_feature', 0), ('attn_head', 5, 5)) (12385, 27535)\n",
      "(('mlp_feature', 0), ('attn_head', 5, 5)) (20546, 27535)\n",
      "(('mlp_feature', 0), ('attn_head', 5, 5)) (3604, 27535)\n",
      "(('mlp_feature', 0), ('attn_head', 5, 5)) (887, 27535)\n",
      "(('mlp_feature', 0), ('attn_head', 5, 5)) (10461, 27535)\n",
      "(('mlp_feature', 0), ('attn_head', 5, 5)) (20519, 27535)\n",
      "(('mlp_feature', 0), ('attn_head', 5, 5)) (16284, 27535)\n",
      "(('mlp_feature', 0), ('attn_head', 5, 5)) (20519, 27535)\n",
      "(('mlp_feature', 0), ('attn_head', 5, 5)) (16284, 27535)\n",
      "(('mlp_feature', 0), ('attn_head', 5, 5)) (20519, 27535)\n",
      "(('mlp_feature', 0), ('attn_head', 5, 5)) (16284, 27535)\n",
      "(('mlp_feature', 0), ('attn_head', 5, 5)) (20519, 27535)\n",
      "(('mlp_feature', 0), ('attn_head', 5, 5)) (16284, 27535)\n",
      "(('mlp_feature', 0), ('attn_head', 5, 5)) (10461, 27535)\n",
      "(('mlp_feature', 0), ('attn_head', 5, 5)) (20519, 27535)\n",
      "(('mlp_feature', 0), ('attn_head', 5, 5)) (16284, 27535)\n",
      "(('mlp_feature', 0), ('attn_head', 5, 5)) (10461, 27535)\n",
      "(('mlp_feature', 0), ('attn_head', 5, 5)) (20519, 27535)\n",
      "(('mlp_feature', 0), ('attn_head', 5, 5)) (16284, 27535)\n",
      "(('mlp_feature', 0), ('attn_head', 5, 5)) (10461, 27535)\n",
      "(('mlp_feature', 0), ('attn_head', 5, 5)) (20519, 27535)\n",
      "(('mlp_feature', 0), ('attn_head', 5, 5)) (20794, 27535)\n",
      "(('mlp_feature', 0), ('attn_head', 5, 5)) (16284, 27535)\n",
      "(('mlp_feature', 0), ('attn_head', 5, 5)) (10461, 27535)\n",
      "(('mlp_feature', 0), ('attn_head', 5, 5)) (20519, 27535)\n",
      "(('mlp_feature', 0), ('attn_head', 5, 5)) (20519, 27535)\n",
      "(('mlp_feature', 0), ('attn_head', 5, 5)) (21964, 27535)\n",
      "(('mlp_feature', 0), ('attn_head', 5, 5)) (20794, 27535)\n",
      "(('mlp_feature', 0), ('attn_head', 5, 5)) (16284, 27535)\n",
      "(('mlp_feature', 0), ('attn_head', 5, 5)) (10461, 27535)\n",
      "(('mlp_feature', 0), ('attn_head', 5, 5)) (20519, 27535)\n",
      "(('mlp_feature', 0), ('attn_head', 5, 5)) (21964, 27535)\n",
      "(('mlp_feature', 0), ('attn_head', 5, 5)) (20794, 27535)\n",
      "(('mlp_feature', 0), ('attn_head', 5, 5)) (16284, 27535)\n",
      "(('mlp_feature', 0), ('attn_head', 5, 5)) (10461, 27535)\n",
      "(('mlp_feature', 0), ('attn_head', 5, 5)) (10462, 27535)\n",
      "(('mlp_feature', 0), ('attn_head', 5, 5)) (15039, 27535)\n",
      "(('mlp_feature', 0), ('attn_head', 5, 5)) (10172, 27535)\n",
      "(('mlp_feature', 0), ('attn_head', 5, 5)) (10462, 27535)\n",
      "(('mlp_feature', 0), ('attn_head', 5, 5)) (15039, 27535)\n",
      "(('mlp_feature', 0), ('attn_head', 5, 5)) (10172, 27535)\n",
      "(('mlp_feature', 0), ('attn_head', 5, 5)) (10461, 27535)\n",
      "(('mlp_feature', 0), ('attn_head', 5, 5)) (10462, 27535)\n",
      "(('mlp_feature', 0), ('attn_head', 5, 5)) (15039, 27535)\n",
      "(('mlp_feature', 0), ('attn_head', 5, 5)) (10172, 27535)\n",
      "(('mlp_feature', 0), ('attn_head', 5, 5)) (10461, 27535)\n",
      "(('mlp_feature', 0), ('attn_head', 5, 5)) (10462, 27535)\n",
      "(('mlp_feature', 0), ('attn_head', 5, 5)) (15039, 27535)\n",
      "(('mlp_feature', 0), ('attn_head', 5, 5)) (16715, 27535)\n",
      "(('mlp_feature', 0), ('attn_head', 5, 5)) (20300, 27535)\n",
      "(('mlp_feature', 0), ('attn_head', 5, 5)) (16715, 27535)\n",
      "(('mlp_feature', 0), ('attn_head', 5, 5)) (20300, 27535)\n",
      "(('mlp_feature', 0), ('attn_head', 5, 5)) (10461, 27535)\n",
      "(('mlp_feature', 0), ('attn_head', 5, 5)) (16715, 27535)\n",
      "(('mlp_feature', 0), ('attn_head', 5, 5)) (20300, 27535)\n",
      "(('mlp_feature', 0), ('attn_head', 5, 5)) (10461, 27535)\n",
      "(('mlp_feature', 0), ('attn_head', 5, 5)) (16715, 27535)\n",
      "(('mlp_feature', 0), ('attn_head', 5, 5)) (20300, 27535)\n",
      "(('mlp_feature', 0), ('attn_head', 5, 5)) (10461, 27535)\n",
      "(('mlp_feature', 0), ('attn_head', 5, 5)) (4788, 27535)\n",
      "(('mlp_feature', 0), ('attn_head', 5, 5)) (1874, 27535)\n",
      "(('mlp_feature', 0), ('attn_head', 5, 5)) (4788, 27535)\n",
      "(('mlp_feature', 0), ('attn_head', 5, 5)) (1874, 27535)\n",
      "(('mlp_feature', 0), ('attn_head', 5, 5)) (4788, 27535)\n",
      "(('mlp_feature', 0), ('attn_head', 5, 5)) (3562, 27535)\n",
      "(('mlp_feature', 0), ('attn_head', 5, 5)) (1874, 27535)\n",
      "(('mlp_feature', 0), ('attn_head', 5, 5)) (4788, 27535)\n",
      "(('mlp_feature', 0), ('attn_head', 5, 5)) (10461, 27535)\n",
      "(('mlp_feature', 0), ('attn_head', 5, 5)) (3562, 27535)\n",
      "(('mlp_feature', 0), ('attn_head', 5, 5)) (12965, 27535)\n",
      "(('mlp_feature', 0), ('attn_head', 5, 5)) (3562, 27535)\n",
      "(('mlp_feature', 0), ('attn_head', 5, 5)) (1874, 27535)\n",
      "(('mlp_feature', 0), ('attn_head', 5, 5)) (4788, 27535)\n",
      "(('mlp_feature', 0), ('attn_head', 5, 5)) (10461, 27535)\n",
      "(('mlp_feature', 0), ('attn_head', 5, 5)) (12965, 27535)\n",
      "(('mlp_feature', 0), ('attn_head', 5, 5)) (3562, 27535)\n",
      "(('mlp_feature', 0), ('attn_head', 5, 5)) (1874, 27535)\n",
      "(('mlp_feature', 0), ('attn_head', 5, 5)) (4788, 27535)\n",
      "(('mlp_feature', 0), ('attn_head', 5, 5)) (10461, 27535)\n",
      "(('mlp_feature', 0), ('attn_head', 5, 5)) (12965, 27535)\n",
      "(('mlp_feature', 0), ('attn_head', 5, 5)) (3562, 27535)\n",
      "(('mlp_feature', 0), ('attn_head', 5, 5)) (1874, 27535)\n",
      "(('mlp_feature', 0), ('attn_head', 5, 5)) (4788, 27535)\n",
      "(('mlp_feature', 0), ('attn_head', 5, 5)) (10461, 27535)\n",
      "(('mlp_feature', 0), ('attn_head', 5, 5)) (16320, 27535)\n",
      "(('mlp_feature', 0), ('attn_head', 5, 5)) (12965, 27535)\n",
      "(('mlp_feature', 0), ('attn_head', 5, 5)) (3562, 27535)\n",
      "(('mlp_feature', 0), ('attn_head', 5, 5)) (1874, 27535)\n",
      "(('mlp_feature', 0), ('attn_head', 5, 5)) (4788, 27535)\n",
      "(('mlp_feature', 0), ('attn_head', 5, 5)) (10461, 27535)\n",
      "(('mlp_feature', 0), ('attn_head', 5, 5)) (16320, 27535)\n",
      "(('mlp_feature', 0), ('attn_head', 5, 5)) (12965, 27535)\n",
      "(('mlp_feature', 0), ('attn_head', 5, 5)) (3562, 27535)\n",
      "(('mlp_feature', 0), ('attn_head', 5, 5)) (1874, 27535)\n",
      "(('mlp_feature', 0), ('attn_head', 5, 5)) (4788, 27535)\n",
      "(('mlp_feature', 0), ('attn_head', 5, 5)) (21468, 27535)\n",
      "(('mlp_feature', 0), ('attn_head', 5, 5)) (10461, 27535)\n",
      "(('mlp_feature', 0), ('attn_head', 5, 5)) (16320, 27535)\n",
      "(('mlp_feature', 0), ('attn_head', 5, 5)) (12965, 27535)\n",
      "(('mlp_feature', 0), ('attn_head', 5, 5)) (3562, 27535)\n",
      "(('mlp_feature', 0), ('attn_head', 5, 5)) (1874, 27535)\n",
      "(('mlp_feature', 0), ('attn_head', 5, 5)) (4788, 27535)\n",
      "(('mlp_feature', 0), ('attn_head', 5, 5)) (21468, 27535)\n",
      "(('mlp_feature', 0), ('attn_head', 5, 5)) (10461, 27535)\n",
      "(('mlp_feature', 0), ('attn_head', 5, 5)) (16320, 27535)\n",
      "(('mlp_feature', 0), ('attn_head', 5, 5)) (12965, 27535)\n",
      "(('mlp_feature', 0), ('attn_head', 5, 5)) (3562, 27535)\n",
      "(('mlp_feature', 0), ('attn_head', 5, 5)) (1874, 27535)\n",
      "(('mlp_feature', 0), ('attn_head', 5, 5)) (4788, 27535)\n",
      "(('mlp_feature', 0), ('attn_head', 5, 5)) (21468, 27535)\n",
      "(('mlp_feature', 0), ('attn_head', 5, 5)) (10461, 27535)\n",
      "(('mlp_feature', 0), ('attn_head', 5, 5)) (16320, 27535)\n",
      "(('mlp_feature', 0), ('attn_head', 5, 5)) (5348, 27535)\n",
      "(('mlp_feature', 0), ('attn_head', 5, 5)) (12965, 27535)\n",
      "(('mlp_feature', 0), ('attn_head', 5, 5)) (3562, 27535)\n",
      "(('mlp_feature', 0), ('attn_head', 5, 5)) (1874, 27535)\n",
      "(('mlp_feature', 0), ('attn_head', 5, 5)) (4788, 27535)\n",
      "(('mlp_feature', 0), ('attn_head', 5, 5)) (21468, 27535)\n",
      "(('mlp_feature', 0), ('attn_head', 5, 5)) (10461, 27535)\n",
      "(('mlp_feature', 0), ('attn_head', 5, 5)) (3604, 27535)\n",
      "(('mlp_feature', 0), ('attn_head', 5, 5)) (12333, 27535)\n",
      "(('mlp_feature', 0), ('attn_head', 5, 5)) (5348, 27535)\n",
      "(('mlp_feature', 0), ('attn_head', 5, 5)) (3604, 27535)\n",
      "(('mlp_feature', 0), ('attn_head', 5, 5)) (12333, 27535)\n",
      "(('mlp_feature', 0), ('attn_head', 5, 5)) (5348, 27535)\n",
      "(('mlp_feature', 0), ('attn_head', 5, 5)) (3604, 27535)\n",
      "(('mlp_feature', 0), ('attn_head', 5, 5)) (12333, 27535)\n",
      "(('mlp_feature', 0), ('attn_head', 5, 5)) (4682, 27535)\n",
      "(('mlp_feature', 0), ('attn_head', 5, 5)) (5348, 27535)\n",
      "(('mlp_feature', 0), ('attn_head', 5, 5)) (3604, 27535)\n",
      "(('mlp_feature', 0), ('attn_head', 5, 5)) (12333, 27535)\n",
      "(('mlp_feature', 0), ('attn_head', 5, 5)) (4682, 27535)\n",
      "(('mlp_feature', 0), ('attn_head', 5, 5)) (5348, 27535)\n",
      "(('mlp_feature', 0), ('attn_head', 5, 5)) (4682, 27535)\n",
      "(('mlp_feature', 0), ('attn_head', 5, 5)) (12333, 27535)\n",
      "(('mlp_feature', 0), ('attn_head', 5, 5)) (3604, 27535)\n",
      "(('mlp_feature', 0), ('attn_head', 5, 5)) (10461, 27535)\n",
      "(('mlp_feature', 0), ('attn_head', 5, 5)) (5348, 27535)\n",
      "(('mlp_feature', 0), ('attn_head', 5, 5)) (4682, 27535)\n",
      "(('mlp_feature', 0), ('attn_head', 5, 5)) (12333, 27535)\n",
      "(('mlp_feature', 0), ('attn_head', 5, 5)) (3604, 27535)\n",
      "(('mlp_feature', 0), ('attn_head', 5, 5)) (10461, 27535)\n",
      "(('mlp_feature', 0), ('attn_head', 5, 5)) (5348, 27535)\n",
      "(('mlp_feature', 0), ('attn_head', 5, 5)) (4682, 27535)\n",
      "(('mlp_feature', 0), ('attn_head', 5, 5)) (12333, 27535)\n",
      "(('mlp_feature', 0), ('attn_head', 5, 5)) (3604, 27535)\n",
      "(('mlp_feature', 0), ('attn_head', 5, 5)) (10461, 27535)\n",
      "(('mlp_feature', 0), ('attn_head', 5, 5)) (16715, 27535)\n",
      "(('mlp_feature', 0), ('attn_head', 5, 5)) (12333, 27535)\n",
      "(('mlp_feature', 0), ('attn_head', 5, 5)) (10461, 27535)\n",
      "(('mlp_feature', 0), ('attn_head', 5, 5)) (16715, 27535)\n",
      "(('mlp_feature', 0), ('attn_head', 5, 5)) (12333, 27535)\n",
      "(('mlp_feature', 0), ('attn_head', 5, 5)) (10461, 27535)\n",
      "(('mlp_feature', 0), ('attn_head', 5, 5)) (16715, 27535)\n",
      "(('mlp_feature', 0), ('attn_head', 5, 5)) (10172, 27535)\n",
      "(('mlp_feature', 0), ('attn_head', 5, 5)) (12333, 27535)\n",
      "(('mlp_feature', 0), ('attn_head', 5, 5)) (10461, 27535)\n",
      "(('mlp_feature', 0), ('attn_head', 5, 5)) (16715, 27535)\n",
      "(('mlp_feature', 0), ('attn_head', 5, 5)) (10172, 27535)\n",
      "(('mlp_feature', 0), ('attn_head', 5, 5)) (12333, 27535)\n",
      "(('mlp_feature', 0), ('attn_head', 5, 5)) (10461, 27535)\n",
      "(('mlp_feature', 0), ('attn_head', 5, 5)) (16715, 27535)\n",
      "(('mlp_feature', 0), ('attn_head', 5, 5)) (10172, 27535)\n",
      "(('mlp_feature', 0), ('attn_head', 5, 5)) (12333, 27535)\n",
      "(('mlp_feature', 0), ('attn_head', 5, 5)) (5348, 27535)\n",
      "(('mlp_feature', 0), ('attn_head', 5, 5)) (16715, 27535)\n",
      "(('mlp_feature', 0), ('attn_head', 5, 5)) (12333, 27535)\n",
      "(('mlp_feature', 0), ('attn_head', 5, 5)) (10172, 27535)\n",
      "(('mlp_feature', 0), ('attn_head', 5, 5)) (10461, 27535)\n",
      "(('mlp_feature', 0), ('attn_head', 5, 5)) (16472, 27535)\n",
      "(('mlp_feature', 0), ('attn_head', 5, 5)) (23305, 27535)\n",
      "(('mlp_feature', 0), ('attn_head', 5, 5)) (16472, 27535)\n",
      "(('mlp_feature', 0), ('attn_head', 5, 5)) (23305, 27535)\n",
      "(('mlp_feature', 0), ('attn_head', 5, 5)) (10461, 27535)\n",
      "(('mlp_feature', 0), ('attn_head', 5, 5)) (16472, 27535)\n",
      "(('mlp_feature', 0), ('attn_head', 5, 5)) (23305, 27535)\n",
      "(('mlp_feature', 0), ('attn_head', 5, 5)) (10461, 27535)\n",
      "(('mlp_feature', 0), ('attn_head', 5, 5)) (16472, 27535)\n",
      "(('mlp_feature', 0), ('attn_head', 5, 5)) (23305, 27535)\n",
      "(('mlp_feature', 0), ('attn_head', 5, 5)) (10461, 27535)\n",
      "(('mlp_feature', 0), ('attn_head', 5, 5)) (16472, 27535)\n",
      "(('mlp_feature', 0), ('attn_head', 5, 5)) (23305, 27535)\n",
      "(('mlp_feature', 0), ('attn_head', 5, 5)) (5348, 27535)\n",
      "(('mlp_feature', 0), ('attn_head', 5, 5)) (10461, 27535)\n",
      "(('mlp_feature', 0), ('attn_head', 5, 5)) (17305, 27535)\n",
      "(('mlp_feature', 0), ('attn_head', 5, 5)) (16926, 27535)\n",
      "(('mlp_feature', 0), ('attn_head', 5, 5)) (17305, 27535)\n",
      "(('mlp_feature', 0), ('attn_head', 5, 5)) (10461, 27535)\n",
      "(('mlp_feature', 0), ('attn_head', 5, 5)) (16926, 27535)\n",
      "(('mlp_feature', 0), ('attn_head', 5, 5)) (17305, 27535)\n",
      "(('mlp_feature', 0), ('attn_head', 5, 5)) (10461, 27535)\n",
      "(('mlp_feature', 0), ('attn_head', 5, 5)) (16926, 27535)\n",
      "(('mlp_feature', 0), ('attn_head', 5, 5)) (12965, 27535)\n",
      "(('mlp_feature', 0), ('attn_head', 5, 5)) (17305, 27535)\n",
      "(('mlp_feature', 0), ('attn_head', 5, 5)) (10461, 27535)\n",
      "(('mlp_feature', 0), ('attn_head', 5, 5)) (16926, 27535)\n",
      "(('mlp_feature', 0), ('attn_head', 5, 5)) (12965, 27535)\n",
      "(('mlp_feature', 0), ('attn_head', 5, 5)) (17305, 27535)\n",
      "(('mlp_feature', 0), ('attn_head', 5, 5)) (10461, 27535)\n",
      "(('mlp_feature', 0), ('attn_head', 5, 5)) (16926, 27535)\n",
      "(('mlp_feature', 0), ('attn_head', 5, 5)) (12965, 27535)\n",
      "(('mlp_feature', 0), ('attn_head', 5, 5)) (17305, 27535)\n",
      "(('mlp_feature', 0), ('attn_head', 5, 5)) (10461, 27535)\n",
      "(('mlp_feature', 0), ('attn_head', 5, 5)) (16926, 27535)\n",
      "(('mlp_feature', 0), ('attn_head', 5, 5)) (12965, 27535)\n",
      "(('mlp_feature', 0), ('attn_head', 5, 5)) (5348, 27535)\n",
      "(('mlp_feature', 0), ('attn_head', 5, 5)) (12965, 27535)\n",
      "(('mlp_feature', 0), ('attn_head', 5, 5)) (17305, 27535)\n",
      "(('mlp_feature', 0), ('attn_head', 5, 5)) (10461, 27535)\n",
      "(('mlp_feature', 0), ('attn_head', 5, 5)) (16926, 27535)\n",
      "(('mlp_feature', 0), ('attn_head', 5, 5)) (5348, 27535)\n",
      "(('mlp_feature', 0), ('attn_head', 5, 5)) (12965, 27535)\n",
      "(('mlp_feature', 0), ('attn_head', 5, 5)) (887, 27535)\n",
      "(('mlp_feature', 0), ('attn_head', 5, 5)) (17305, 27535)\n",
      "(('mlp_feature', 0), ('attn_head', 5, 5)) (10461, 27535)\n",
      "(('mlp_feature', 0), ('attn_head', 5, 5)) (16926, 27535)\n",
      "(('mlp_feature', 0), ('attn_head', 5, 5)) (3146, 27535)\n",
      "(('mlp_feature', 0), ('attn_head', 5, 5)) (3146, 27535)\n",
      "(('mlp_feature', 0), ('attn_head', 5, 5)) (5245, 27535)\n",
      "(('mlp_feature', 0), ('attn_head', 5, 5)) (10461, 27535)\n",
      "(('mlp_feature', 0), ('attn_head', 5, 5)) (3146, 27535)\n",
      "(('mlp_feature', 0), ('attn_head', 5, 5)) (5245, 27535)\n",
      "(('mlp_feature', 0), ('attn_head', 5, 5)) (10461, 27535)\n",
      "(('mlp_feature', 0), ('attn_head', 5, 5)) (3146, 27535)\n",
      "(('mlp_feature', 0), ('attn_head', 5, 5)) (5245, 27535)\n",
      "(('mlp_feature', 0), ('attn_head', 5, 5)) (10461, 27535)\n",
      "(('mlp_feature', 0), ('attn_head', 5, 5)) (3146, 27535)\n",
      "(('mlp_feature', 0), ('attn_head', 5, 5)) (5245, 27535)\n",
      "(('mlp_feature', 0), ('attn_head', 5, 5)) (23871, 27535)\n",
      "(('mlp_feature', 0), ('attn_head', 5, 5)) (5348, 27535)\n",
      "(('mlp_feature', 0), ('attn_head', 5, 5)) (3146, 27535)\n",
      "(('mlp_feature', 0), ('attn_head', 5, 5)) (5245, 27535)\n",
      "(('mlp_feature', 0), ('attn_head', 5, 5)) (10461, 27535)\n",
      "(('mlp_feature', 0), ('attn_head', 5, 5)) (23871, 27535)\n",
      "(('mlp_feature', 0), ('attn_head', 5, 5)) (5348, 27535)\n",
      "(('mlp_feature', 0), ('attn_head', 5, 5)) (11530, 27535)\n",
      "(('mlp_feature', 0), ('attn_head', 5, 5)) (3146, 27535)\n",
      "(('mlp_feature', 0), ('attn_head', 5, 5)) (5245, 27535)\n",
      "(('mlp_feature', 0), ('attn_head', 5, 5)) (10461, 27535)\n",
      "(('mlp_feature', 0), ('attn_head', 5, 5)) (23871, 27535)\n",
      "(('mlp_feature', 0), ('attn_head', 7, 4)) (20546, 31173)\n",
      "(('mlp_feature', 0), ('attn_head', 7, 4)) (21346, 31173)\n",
      "(('mlp_feature', 0), ('attn_head', 7, 4)) (14148, 31173)\n",
      "(('mlp_feature', 0), ('attn_head', 7, 4)) (12965, 31173)\n",
      "(('mlp_feature', 0), ('attn_head', 7, 4)) (3146, 31173)\n",
      "(('mlp_feature', 0), ('attn_head', 7, 4)) (9741, 31173)\n",
      "(('mlp_feature', 0), ('attn_head', 7, 4)) (23507, 31173)\n",
      "(('mlp_feature', 0), ('attn_head', 7, 4)) (15475, 31173)\n",
      "(('mlp_feature', 0), ('attn_head', 7, 4)) (20546, 31173)\n",
      "(('mlp_feature', 0), ('attn_head', 7, 4)) (21346, 31173)\n",
      "(('mlp_feature', 0), ('attn_head', 7, 4)) (14148, 31173)\n",
      "(('mlp_feature', 0), ('attn_head', 7, 4)) (12965, 31173)\n",
      "(('mlp_feature', 0), ('attn_head', 7, 4)) (3146, 31173)\n",
      "(('mlp_feature', 0), ('attn_head', 7, 4)) (9741, 31173)\n",
      "(('mlp_feature', 0), ('attn_head', 7, 4)) (23507, 31173)\n",
      "(('mlp_feature', 0), ('attn_head', 7, 4)) (15475, 31173)\n",
      "(('mlp_feature', 0), ('attn_head', 7, 4)) (10461, 31173)\n",
      "(('attn_head', 1, 10), ('attn_head', 5, 5)) (17148, 27535)\n",
      "(('attn_head', 1, 10), ('attn_head', 5, 5)) (17148, 27535)\n",
      "(('mlp_feature', 1), ('attn_head', 5, 0)) (9645, 44452)\n",
      "(('mlp_feature', 1), ('attn_head', 5, 0)) (9645, 44452)\n",
      "(('mlp_feature', 1), ('attn_head', 5, 5)) (20477, 27535)\n",
      "(('mlp_feature', 1), ('attn_head', 5, 5)) (9645, 27535)\n",
      "(('mlp_feature', 1), ('attn_head', 5, 5)) (9645, 27535)\n",
      "(('mlp_feature', 1), ('attn_head', 5, 5)) (6118, 27535)\n",
      "(('mlp_feature', 1), ('attn_head', 5, 5)) (16935, 27535)\n",
      "(('mlp_feature', 1), ('attn_head', 5, 5)) (15111, 27535)\n",
      "(('mlp_feature', 1), ('attn_head', 5, 5)) (16935, 27535)\n",
      "(('mlp_feature', 1), ('attn_head', 5, 5)) (20477, 27535)\n",
      "(('mlp_feature', 1), ('attn_head', 5, 5)) (15111, 27535)\n",
      "(('mlp_feature', 1), ('attn_head', 5, 5)) (6118, 27535)\n",
      "(('mlp_feature', 1), ('attn_head', 5, 5)) (16935, 27535)\n",
      "(('mlp_feature', 1), ('attn_head', 5, 5)) (15111, 27535)\n",
      "(('mlp_feature', 1), ('attn_head', 5, 5)) (16935, 27535)\n",
      "(('mlp_feature', 1), ('attn_head', 5, 5)) (15300, 27535)\n",
      "(('mlp_feature', 1), ('attn_head', 5, 5)) (15300, 27535)\n",
      "(('mlp_feature', 1), ('attn_head', 5, 5)) (15111, 27535)\n",
      "(('mlp_feature', 1), ('attn_head', 7, 4)) (16935, 31173)\n",
      "(('attn_head', 2, 2), ('attn_head', 5, 0)) (19042, 44452)\n",
      "(('attn_head', 2, 2), ('attn_head', 5, 0)) (15015, 44452)\n",
      "(('attn_head', 2, 2), ('attn_head', 5, 5)) (19042, 27535)\n",
      "(('attn_head', 2, 2), ('attn_head', 5, 5)) (16572, 27535)\n",
      "(('attn_head', 2, 2), ('attn_head', 5, 5)) (8450, 27535)\n",
      "(('attn_head', 2, 2), ('attn_head', 5, 5)) (4559, 27535)\n",
      "(('attn_head', 2, 4), ('attn_head', 5, 5)) (22750, 27535)\n",
      "(('attn_head', 2, 8), ('attn_head', 5, 0)) (10082, 44452)\n",
      "(('attn_head', 2, 8), ('attn_head', 5, 5)) (10082, 27535)\n",
      "(('attn_head', 2, 9), ('attn_head', 5, 5)) (2479, 27535)\n",
      "(('attn_head', 2, 9), ('attn_head', 5, 5)) (1553, 27535)\n",
      "(('attn_head', 2, 9), ('attn_head', 5, 5)) (7265, 27535)\n",
      "(('attn_head', 2, 9), ('attn_head', 5, 5)) (15520, 27535)\n",
      "(('mlp_feature', 2), ('attn_head', 5, 5)) (12195, 27535)\n",
      "(('attn_head', 3, 7), ('attn_head', 5, 0)) (8970, 44452)\n",
      "(('attn_head', 3, 7), ('attn_head', 7, 4)) (8970, 31173)\n",
      "(('mlp_feature', 3), ('attn_head', 5, 0)) (3570, 44452)\n",
      "(('mlp_feature', 3), ('attn_head', 5, 5)) (3570, 27535)\n",
      "(('mlp_feature', 3), ('attn_head', 5, 5)) (1324, 27535)\n",
      "(('attn_head', 5, 0), ('attn_head', 5, 5)) (44452, 27535)\n",
      "(('attn_head', 5, 0), ('attn_head', 6, 9)) (44452, 17410)\n",
      "(('attn_head', 5, 0), ('attn_head', 8, 6)) (44452, 16513)\n",
      "(('attn_head', 5, 0), ('attn_head', 8, 6)) (44452, 2623)\n",
      "(('attn_head', 5, 0), ('attn_head', 8, 6)) (44452, 16513)\n",
      "(('attn_head', 5, 0), ('attn_head', 8, 6)) (44452, 2623)\n",
      "(('attn_head', 5, 0), ('mlp_feature', 8)) (44452, 14021)\n",
      "(('attn_head', 5, 0), ('attn_head', 9, 9)) (44452, 4710)\n",
      "(('attn_head', 5, 0), ('attn_head', 9, 9)) (44452, 19865)\n",
      "(('attn_head', 5, 0), ('mlp_feature', 9)) (44452, 13848)\n",
      "(('attn_head', 5, 0), ('attn_head', 10, 2)) (44452, 6277)\n",
      "(('attn_head', 5, 0), ('attn_head', 10, 3)) (44452, 20696)\n",
      "(('attn_head', 5, 0), ('attn_head', 11, 10)) (44452, 6648)\n",
      "(('attn_head', 5, 5), ('attn_head', 5, 7)) (27535, 17206)\n",
      "(('attn_head', 5, 5), ('mlp_feature', 6)) (27535, 11608)\n",
      "(('attn_head', 5, 5), ('mlp_feature', 6)) (27535, 11608)\n",
      "(('attn_head', 5, 5), ('attn_head', 7, 0)) (27535, 10432)\n",
      "(('attn_head', 5, 5), ('attn_head', 7, 0)) (27535, 10432)\n",
      "(('attn_head', 5, 5), ('attn_head', 8, 6)) (27535, 16513)\n",
      "(('attn_head', 5, 5), ('attn_head', 8, 6)) (27535, 16513)\n",
      "(('attn_head', 5, 5), ('attn_head', 8, 6)) (27535, 16513)\n",
      "(('attn_head', 5, 5), ('attn_head', 8, 6)) (27535, 2623)\n",
      "(('attn_head', 5, 5), ('attn_head', 8, 6)) (27535, 16513)\n",
      "(('attn_head', 5, 5), ('attn_head', 8, 6)) (27535, 16513)\n",
      "(('attn_head', 5, 5), ('attn_head', 8, 6)) (27535, 2623)\n",
      "(('attn_head', 5, 5), ('attn_head', 8, 6)) (27535, 16513)\n",
      "(('attn_head', 5, 5), ('attn_head', 8, 6)) (27535, 16513)\n",
      "(('attn_head', 5, 5), ('attn_head', 8, 6)) (27535, 16513)\n",
      "(('attn_head', 5, 5), ('attn_head', 8, 6)) (27535, 16513)\n",
      "(('attn_head', 5, 5), ('attn_head', 8, 6)) (27535, 16513)\n",
      "(('attn_head', 5, 5), ('attn_head', 8, 6)) (27535, 16513)\n",
      "(('attn_head', 5, 5), ('attn_head', 8, 6)) (27535, 2623)\n",
      "(('attn_head', 5, 5), ('attn_head', 8, 6)) (27535, 16513)\n",
      "(('attn_head', 5, 5), ('attn_head', 8, 6)) (27535, 16513)\n",
      "(('attn_head', 5, 5), ('attn_head', 9, 6)) (27535, 15022)\n",
      "(('attn_head', 5, 5), ('attn_head', 9, 6)) (27535, 17283)\n",
      "(('attn_head', 5, 5), ('attn_head', 9, 9)) (27535, 23999)\n",
      "(('attn_head', 5, 5), ('attn_head', 9, 9)) (27535, 4710)\n",
      "(('attn_head', 5, 5), ('attn_head', 9, 9)) (27535, 22975)\n",
      "(('attn_head', 5, 5), ('attn_head', 9, 9)) (27535, 13184)\n",
      "(('attn_head', 5, 5), ('attn_head', 9, 9)) (27535, 22975)\n",
      "(('attn_head', 5, 5), ('attn_head', 9, 9)) (27535, 9401)\n",
      "(('attn_head', 5, 5), ('attn_head', 9, 9)) (27535, 14826)\n",
      "(('attn_head', 5, 5), ('attn_head', 9, 9)) (27535, 14826)\n",
      "(('attn_head', 5, 5), ('attn_head', 9, 9)) (27535, 4729)\n",
      "(('attn_head', 5, 5), ('attn_head', 9, 9)) (27535, 11087)\n",
      "(('attn_head', 5, 5), ('attn_head', 9, 9)) (27535, 20286)\n",
      "(('attn_head', 5, 5), ('attn_head', 9, 9)) (27535, 20286)\n",
      "(('attn_head', 5, 5), ('attn_head', 9, 9)) (27535, 11958)\n",
      "(('attn_head', 5, 5), ('attn_head', 9, 9)) (27535, 20286)\n",
      "(('attn_head', 5, 5), ('mlp_feature', 9)) (27535, 5463)\n",
      "(('attn_head', 5, 5), ('mlp_feature', 9)) (27535, 13848)\n",
      "(('attn_head', 5, 5), ('attn_head', 10, 0)) (27535, 19684)\n",
      "(('attn_head', 5, 5), ('attn_head', 10, 1)) (27535, 24417)\n",
      "(('attn_head', 5, 5), ('attn_head', 10, 1)) (27535, 24417)\n",
      "(('attn_head', 5, 5), ('attn_head', 10, 1)) (27535, 125)\n",
      "(('attn_head', 5, 5), ('attn_head', 10, 1)) (27535, 2386)\n",
      "(('attn_head', 5, 5), ('attn_head', 10, 1)) (27535, 2386)\n",
      "(('attn_head', 5, 5), ('attn_head', 10, 1)) (27535, 7243)\n",
      "(('attn_head', 5, 5), ('attn_head', 10, 1)) (27535, 2386)\n",
      "(('attn_head', 5, 5), ('attn_head', 10, 1)) (27535, 7243)\n",
      "(('attn_head', 5, 5), ('attn_head', 10, 1)) (27535, 19719)\n",
      "(('attn_head', 5, 5), ('attn_head', 10, 1)) (27535, 7243)\n",
      "(('attn_head', 5, 5), ('attn_head', 10, 1)) (27535, 2386)\n",
      "(('attn_head', 5, 5), ('attn_head', 10, 1)) (27535, 7243)\n",
      "(('attn_head', 5, 5), ('attn_head', 10, 1)) (27535, 22705)\n",
      "(('attn_head', 5, 5), ('attn_head', 10, 1)) (27535, 2386)\n",
      "(('attn_head', 5, 5), ('attn_head', 10, 1)) (27535, 7243)\n",
      "(('attn_head', 5, 5), ('attn_head', 10, 2)) (27535, 6277)\n",
      "(('attn_head', 5, 5), ('attn_head', 10, 3)) (27535, 1232)\n",
      "(('attn_head', 5, 5), ('attn_head', 10, 3)) (27535, 3312)\n",
      "(('attn_head', 5, 5), ('attn_head', 10, 3)) (27535, 3574)\n",
      "(('attn_head', 5, 5), ('attn_head', 10, 7)) (27535, 12834)\n",
      "(('attn_head', 5, 5), ('attn_head', 10, 7)) (27535, 18627)\n",
      "(('attn_head', 5, 5), ('attn_head', 10, 10)) (27535, 21049)\n",
      "(('attn_head', 5, 5), ('attn_head', 10, 10)) (27535, 21049)\n",
      "(('attn_head', 5, 5), ('attn_head', 10, 10)) (27535, 12258)\n",
      "(('attn_head', 5, 5), ('attn_head', 10, 10)) (27535, 12258)\n",
      "(('attn_head', 5, 5), ('attn_head', 10, 10)) (27535, 22215)\n",
      "(('attn_head', 5, 5), ('attn_head', 10, 10)) (27535, 6131)\n",
      "(('attn_head', 5, 5), ('mlp_feature', 10)) (27535, 3111)\n",
      "(('attn_head', 5, 5), ('attn_head', 11, 10)) (27535, 11288)\n",
      "(('attn_head', 5, 5), ('attn_head', 11, 10)) (27535, 6648)\n",
      "(('attn_head', 5, 5), ('attn_head', 11, 10)) (27535, 21268)\n",
      "(('attn_head', 5, 5), ('attn_head', 11, 10)) (27535, 21268)\n",
      "(('mlp_feature', 6), ('attn_head', 7, 4)) (11608, 31173)\n",
      "(('attn_head', 7, 4), ('mlp_feature', 7)) (31173, 16407)\n",
      "(('attn_head', 7, 4), ('mlp_feature', 8)) (31173, 18953)\n",
      "(('attn_head', 7, 4), ('attn_head', 9, 9)) (31173, 3520)\n",
      "(('attn_head', 7, 4), ('attn_head', 9, 9)) (31173, 10645)\n",
      "(('attn_head', 7, 4), ('attn_head', 9, 9)) (31173, 3520)\n",
      "(('attn_head', 7, 4), ('attn_head', 9, 9)) (31173, 10156)\n",
      "(('attn_head', 7, 4), ('attn_head', 9, 9)) (31173, 10645)\n",
      "(('attn_head', 7, 4), ('attn_head', 11, 10)) (31173, 23740)\n"
     ]
    }
   ],
   "source": [
    "# Go through co-occurrence dict and print any tuples that have a feature over 24576\n",
    "for k, v in cp.co_occurrence_dict.items():\n",
    "    for feature_tuple in v:\n",
    "        if any([f > 24576 for f in feature_tuple]):\n",
    "            print(k, feature_tuple)"
   ]
  },
  {
   "cell_type": "code",
   "execution_count": 9,
   "metadata": {},
   "outputs": [
    {
     "data": {
      "text/plain": [
       "torch.Size([49152, 768])"
      ]
     },
     "execution_count": 9,
     "metadata": {},
     "output_type": "execute_result"
    }
   ],
   "source": [
    "sae = z_saes[5]\n",
    "sae.W_dec.shape"
   ]
  },
  {
   "cell_type": "code",
   "execution_count": 10,
   "metadata": {},
   "outputs": [],
   "source": [
    "def feature_scores_for_component_cluster(component_name: str, layer: int):\n",
    "    features = [x for x in list(set(cp.circuit_hypergraph[component_name]['features'])) if x!=-1]\n",
    "\n",
    "    sae = z_saes[layer]\n",
    "    feature_scores = get_feature_scores(model, sae, owt_tokens_torch[:1024*4], features, batch_size=128)\n",
    "\n",
    "    top_tokens, top_logits = get_top_k_tokens(model, [(sae, features)], k=10, act_strength=5)\n",
    "\n",
    "    return feature_scores, top_tokens, top_logits"
   ]
  },
  {
   "cell_type": "code",
   "execution_count": null,
   "metadata": {},
   "outputs": [],
   "source": [
    "feature_scores, top_tokens, top_logits = feature_scores_for_component_cluster(\"L0_H1\", 0)"
   ]
  },
  {
   "cell_type": "code",
   "execution_count": null,
   "metadata": {},
   "outputs": [],
   "source": [
    "example_html, examples_clean_text = display_top_k_activating_examples_sum(model, feature_scores, owt_tokens_torch[:1024*4], feature_indices=[x for x in range(feature_scores.shape[1])], k=15)"
   ]
  },
  {
   "cell_type": "code",
   "execution_count": null,
   "metadata": {},
   "outputs": [],
   "source": [
    "pretty_print_tokens_logits(top_tokens, top_logits)"
   ]
  },
  {
   "cell_type": "code",
   "execution_count": 11,
   "metadata": {},
   "outputs": [
    {
     "name": "stdout",
     "output_type": "stream",
     "text": [
      "ZSAE\n"
     ]
    },
    {
     "name": "stderr",
     "output_type": "stream",
     "text": [
      "100%|██████████| 32/32 [00:56<00:00,  1.75s/it]\n"
     ]
    },
    {
     "ename": "TypeError",
     "evalue": "get_combined_logits() takes from 2 to 3 positional arguments but 4 were given",
     "output_type": "error",
     "traceback": [
      "\u001b[0;31m---------------------------------------------------------------------------\u001b[0m",
      "\u001b[0;31mTypeError\u001b[0m                                 Traceback (most recent call last)",
      "Cell \u001b[0;32mIn[11], line 1\u001b[0m\n\u001b[0;32m----> 1\u001b[0m feature_scores, top_tokens, top_logits \u001b[38;5;241m=\u001b[39m \u001b[43mfeature_scores_for_component_cluster\u001b[49m\u001b[43m(\u001b[49m\u001b[38;5;124;43m\"\u001b[39;49m\u001b[38;5;124;43mL5_H5\u001b[39;49m\u001b[38;5;124;43m\"\u001b[39;49m\u001b[43m,\u001b[49m\u001b[43m \u001b[49m\u001b[38;5;241;43m5\u001b[39;49m\u001b[43m)\u001b[49m\n",
      "Cell \u001b[0;32mIn[10], line 7\u001b[0m, in \u001b[0;36mfeature_scores_for_component_cluster\u001b[0;34m(component_name, layer)\u001b[0m\n\u001b[1;32m      4\u001b[0m sae \u001b[38;5;241m=\u001b[39m z_saes[layer]\n\u001b[1;32m      5\u001b[0m feature_scores \u001b[38;5;241m=\u001b[39m get_feature_scores(model, sae, owt_tokens_torch[:\u001b[38;5;241m1024\u001b[39m\u001b[38;5;241m*\u001b[39m\u001b[38;5;241m4\u001b[39m], features, batch_size\u001b[38;5;241m=\u001b[39m\u001b[38;5;241m128\u001b[39m)\n\u001b[0;32m----> 7\u001b[0m top_tokens, top_logits \u001b[38;5;241m=\u001b[39m \u001b[43mget_top_k_tokens\u001b[49m\u001b[43m(\u001b[49m\u001b[43mmodel\u001b[49m\u001b[43m,\u001b[49m\u001b[43m \u001b[49m\u001b[43m[\u001b[49m\u001b[43m(\u001b[49m\u001b[43msae\u001b[49m\u001b[43m,\u001b[49m\u001b[43m \u001b[49m\u001b[43mfeatures\u001b[49m\u001b[43m)\u001b[49m\u001b[43m]\u001b[49m\u001b[43m,\u001b[49m\u001b[43m \u001b[49m\u001b[43mk\u001b[49m\u001b[38;5;241;43m=\u001b[39;49m\u001b[38;5;241;43m10\u001b[39;49m\u001b[43m,\u001b[49m\u001b[43m \u001b[49m\u001b[43mact_strength\u001b[49m\u001b[38;5;241;43m=\u001b[39;49m\u001b[38;5;241;43m5\u001b[39;49m\u001b[43m)\u001b[49m\n\u001b[1;32m      9\u001b[0m \u001b[38;5;28;01mreturn\u001b[39;00m feature_scores, top_tokens, top_logits\n",
      "File \u001b[0;32m~/transcoder-sae-circuits/src/autointerpretability.py:500\u001b[0m, in \u001b[0;36mget_top_k_tokens\u001b[0;34m(model, encoder_feature_pairs, dict_size, act_strength, k)\u001b[0m\n\u001b[1;32m    499\u001b[0m \u001b[38;5;28;01mdef\u001b[39;00m \u001b[38;5;21mget_top_k_tokens\u001b[39m(model, encoder_feature_pairs, dict_size\u001b[38;5;241m=\u001b[39m\u001b[38;5;241m24576\u001b[39m, act_strength\u001b[38;5;241m=\u001b[39m\u001b[38;5;241m4.0\u001b[39m, k\u001b[38;5;241m=\u001b[39m\u001b[38;5;241m10\u001b[39m):\n\u001b[0;32m--> 500\u001b[0m     combined_logits \u001b[38;5;241m=\u001b[39m \u001b[43mget_combined_logits\u001b[49m\u001b[43m(\u001b[49m\u001b[43mmodel\u001b[49m\u001b[43m,\u001b[49m\u001b[43m \u001b[49m\u001b[43mencoder_feature_pairs\u001b[49m\u001b[43m,\u001b[49m\u001b[43m \u001b[49m\u001b[43mact_strength\u001b[49m\u001b[43m,\u001b[49m\u001b[43m \u001b[49m\u001b[43mdict_size\u001b[49m\u001b[43m)\u001b[49m\n\u001b[1;32m    501\u001b[0m     top_k \u001b[38;5;241m=\u001b[39m torch\u001b[38;5;241m.\u001b[39mtopk(combined_logits, k)\n\u001b[1;32m    502\u001b[0m     top_k_indices \u001b[38;5;241m=\u001b[39m top_k\u001b[38;5;241m.\u001b[39mindices\u001b[38;5;241m.\u001b[39msqueeze()\u001b[38;5;241m.\u001b[39mtolist()\n",
      "\u001b[0;31mTypeError\u001b[0m: get_combined_logits() takes from 2 to 3 positional arguments but 4 were given"
     ]
    }
   ],
   "source": [
    "feature_scores, top_tokens, top_logits = feature_scores_for_component_cluster(\"L5_H5\", 5)"
   ]
  },
  {
   "cell_type": "code",
   "execution_count": 72,
   "metadata": {},
   "outputs": [
    {
     "name": "stdout",
     "output_type": "stream",
     "text": [
      "ZSAE\n"
     ]
    },
    {
     "name": "stderr",
     "output_type": "stream",
     "text": [
      "100%|██████████| 32/32 [00:52<00:00,  1.64s/it]\n"
     ]
    },
    {
     "ename": "IndexError",
     "evalue": "index 44256 is out of bounds for dimension 0 with size 24576",
     "output_type": "error",
     "traceback": [
      "\u001b[0;31m---------------------------------------------------------------------------\u001b[0m",
      "\u001b[0;31mIndexError\u001b[0m                                Traceback (most recent call last)",
      "Cell \u001b[0;32mIn[72], line 1\u001b[0m\n\u001b[0;32m----> 1\u001b[0m feature_scores, top_tokens, top_logits \u001b[38;5;241m=\u001b[39m \u001b[43mfeature_scores_for_component_cluster\u001b[49m\u001b[43m(\u001b[49m\u001b[38;5;124;43m\"\u001b[39;49m\u001b[38;5;124;43mL5_H5\u001b[39;49m\u001b[38;5;124;43m\"\u001b[39;49m\u001b[43m,\u001b[49m\u001b[43m \u001b[49m\u001b[38;5;241;43m5\u001b[39;49m\u001b[43m)\u001b[49m\n\u001b[1;32m      3\u001b[0m example_html, examples_clean_text \u001b[38;5;241m=\u001b[39m display_top_k_activating_examples_sum(model, feature_scores, owt_tokens_torch[:\u001b[38;5;241m1024\u001b[39m\u001b[38;5;241m*\u001b[39m\u001b[38;5;241m4\u001b[39m], feature_indices\u001b[38;5;241m=\u001b[39m[x \u001b[38;5;28;01mfor\u001b[39;00m x \u001b[38;5;129;01min\u001b[39;00m \u001b[38;5;28mrange\u001b[39m(feature_scores\u001b[38;5;241m.\u001b[39mshape[\u001b[38;5;241m1\u001b[39m])], k\u001b[38;5;241m=\u001b[39m\u001b[38;5;241m10\u001b[39m)\n\u001b[1;32m      5\u001b[0m pretty_print_tokens_logits(top_tokens, top_logits)\n",
      "Cell \u001b[0;32mIn[71], line 7\u001b[0m, in \u001b[0;36mfeature_scores_for_component_cluster\u001b[0;34m(component_name, layer)\u001b[0m\n\u001b[1;32m      4\u001b[0m sae \u001b[38;5;241m=\u001b[39m z_saes[layer]\n\u001b[1;32m      5\u001b[0m feature_scores \u001b[38;5;241m=\u001b[39m get_feature_scores(model, sae, owt_tokens_torch[:\u001b[38;5;241m1024\u001b[39m\u001b[38;5;241m*\u001b[39m\u001b[38;5;241m4\u001b[39m], features, batch_size\u001b[38;5;241m=\u001b[39m\u001b[38;5;241m128\u001b[39m)\n\u001b[0;32m----> 7\u001b[0m top_tokens, top_logits \u001b[38;5;241m=\u001b[39m \u001b[43mget_top_k_tokens\u001b[49m\u001b[43m(\u001b[49m\u001b[43mmodel\u001b[49m\u001b[43m,\u001b[49m\u001b[43m \u001b[49m\u001b[43m[\u001b[49m\u001b[43m(\u001b[49m\u001b[43msae\u001b[49m\u001b[43m,\u001b[49m\u001b[43m \u001b[49m\u001b[43mfeatures\u001b[49m\u001b[43m)\u001b[49m\u001b[43m]\u001b[49m\u001b[43m,\u001b[49m\u001b[43m \u001b[49m\u001b[43mk\u001b[49m\u001b[38;5;241;43m=\u001b[39;49m\u001b[38;5;241;43m10\u001b[39;49m\u001b[43m,\u001b[49m\u001b[43m \u001b[49m\u001b[43mact_strength\u001b[49m\u001b[38;5;241;43m=\u001b[39;49m\u001b[38;5;241;43m5\u001b[39;49m\u001b[43m)\u001b[49m\n\u001b[1;32m      9\u001b[0m \u001b[38;5;28;01mreturn\u001b[39;00m feature_scores, top_tokens, top_logits\n",
      "File \u001b[0;32m~/transcoder-sae-circuits/src/autointerpretability.py:499\u001b[0m, in \u001b[0;36mget_top_k_tokens\u001b[0;34m(model, encoder_feature_pairs, dict_size, act_strength, k)\u001b[0m\n\u001b[1;32m    498\u001b[0m \u001b[38;5;28;01mdef\u001b[39;00m \u001b[38;5;21mget_top_k_tokens\u001b[39m(model, encoder_feature_pairs, dict_size\u001b[38;5;241m=\u001b[39m\u001b[38;5;241m24576\u001b[39m, act_strength\u001b[38;5;241m=\u001b[39m\u001b[38;5;241m4.0\u001b[39m, k\u001b[38;5;241m=\u001b[39m\u001b[38;5;241m10\u001b[39m):\n\u001b[0;32m--> 499\u001b[0m     combined_logits \u001b[38;5;241m=\u001b[39m \u001b[43mget_combined_logits\u001b[49m\u001b[43m(\u001b[49m\u001b[43mmodel\u001b[49m\u001b[43m,\u001b[49m\u001b[43m \u001b[49m\u001b[43mencoder_feature_pairs\u001b[49m\u001b[43m,\u001b[49m\u001b[43m \u001b[49m\u001b[43mact_strength\u001b[49m\u001b[43m,\u001b[49m\u001b[43m \u001b[49m\u001b[43mdict_size\u001b[49m\u001b[43m)\u001b[49m\n\u001b[1;32m    500\u001b[0m     top_k \u001b[38;5;241m=\u001b[39m torch\u001b[38;5;241m.\u001b[39mtopk(combined_logits, k)\n\u001b[1;32m    501\u001b[0m     top_k_indices \u001b[38;5;241m=\u001b[39m top_k\u001b[38;5;241m.\u001b[39mindices\u001b[38;5;241m.\u001b[39msqueeze()\u001b[38;5;241m.\u001b[39mtolist()\n",
      "File \u001b[0;32m~/transcoder-sae-circuits/src/autointerpretability.py:494\u001b[0m, in \u001b[0;36mget_combined_logits\u001b[0;34m(model, encoder_feature_pairs, act_strength, dict_size)\u001b[0m\n\u001b[1;32m    492\u001b[0m combined_logits \u001b[38;5;241m=\u001b[39m torch\u001b[38;5;241m.\u001b[39mzeros((\u001b[38;5;241m1\u001b[39m, model\u001b[38;5;241m.\u001b[39mW_U\u001b[38;5;241m.\u001b[39msize(\u001b[38;5;241m1\u001b[39m)), device\u001b[38;5;241m=\u001b[39m\u001b[38;5;124m'\u001b[39m\u001b[38;5;124mcpu\u001b[39m\u001b[38;5;124m'\u001b[39m)\n\u001b[1;32m    493\u001b[0m \u001b[38;5;28;01mfor\u001b[39;00m encoder, features \u001b[38;5;129;01min\u001b[39;00m encoder_feature_pairs:\n\u001b[0;32m--> 494\u001b[0m     logits \u001b[38;5;241m=\u001b[39m \u001b[43mget_top_logits\u001b[49m\u001b[43m(\u001b[49m\u001b[43mmodel\u001b[49m\u001b[43m,\u001b[49m\u001b[43m \u001b[49m\u001b[43mencoder\u001b[49m\u001b[43m,\u001b[49m\u001b[43m \u001b[49m\u001b[43mfeatures\u001b[49m\u001b[43m,\u001b[49m\u001b[43m \u001b[49m\u001b[43mact_strength\u001b[49m\u001b[43m,\u001b[49m\u001b[43m \u001b[49m\u001b[43mdict_size\u001b[49m\u001b[43m)\u001b[49m\n\u001b[1;32m    495\u001b[0m     combined_logits \u001b[38;5;241m+\u001b[39m\u001b[38;5;241m=\u001b[39m logits\n\u001b[1;32m    496\u001b[0m \u001b[38;5;28;01mreturn\u001b[39;00m combined_logits\n",
      "File \u001b[0;32m~/transcoder-sae-circuits/src/autointerpretability.py:479\u001b[0m, in \u001b[0;36mget_top_logits\u001b[0;34m(model, encoder, features, act_strength, dict_size)\u001b[0m\n\u001b[1;32m    477\u001b[0m \u001b[38;5;28;01mif\u001b[39;00m \u001b[38;5;28misinstance\u001b[39m(features, \u001b[38;5;28mlist\u001b[39m):\n\u001b[1;32m    478\u001b[0m     \u001b[38;5;28;01mfor\u001b[39;00m feature \u001b[38;5;129;01min\u001b[39;00m features:\n\u001b[0;32m--> 479\u001b[0m         \u001b[43mhidden_acts\u001b[49m\u001b[43m[\u001b[49m\u001b[43mfeature\u001b[49m\u001b[43m]\u001b[49m \u001b[38;5;241m=\u001b[39m act_strength\n\u001b[1;32m    480\u001b[0m \u001b[38;5;28;01melse\u001b[39;00m:\n\u001b[1;32m    481\u001b[0m     hidden_acts[features] \u001b[38;5;241m=\u001b[39m act_strength  \u001b[38;5;66;03m# Single feature case\u001b[39;00m\n",
      "\u001b[0;31mIndexError\u001b[0m: index 44256 is out of bounds for dimension 0 with size 24576"
     ]
    }
   ],
   "source": [
    "feature_scores, top_tokens, top_logits = feature_scores_for_component_cluster(\"L5_H5\", 5)\n",
    "\n",
    "example_html, examples_clean_text = display_top_k_activating_examples_sum(model, feature_scores, owt_tokens_torch[:1024*4], feature_indices=[x for x in range(feature_scores.shape[1])], k=10)\n",
    "\n",
    "pretty_print_tokens_logits(top_tokens, top_logits)"
   ]
  },
  {
   "cell_type": "code",
   "execution_count": null,
   "metadata": {},
   "outputs": [],
   "source": [
    "feature_interpretation = get_response(llm_client, examples_clean_text, top_tokens)\n",
    "print(feature_interpretation)"
   ]
  },
  {
   "cell_type": "code",
   "execution_count": 65,
   "metadata": {},
   "outputs": [
    {
     "name": "stdout",
     "output_type": "stream",
     "text": [
      "ZSAE\n"
     ]
    },
    {
     "name": "stderr",
     "output_type": "stream",
     "text": [
      "100%|██████████| 32/32 [00:20<00:00,  1.59it/s]\n"
     ]
    },
    {
     "data": {
      "text/html": [
       "\n",
       "    <style>\n",
       "        span.token {\n",
       "            font-family: monospace;\n",
       "            border-style: solid;\n",
       "            border-width: 1px;\n",
       "            border-color: #dddddd;\n",
       "        }\n",
       "    </style>\n",
       "    <span class='token' style='background-color: #ffffff'>&lt;|endoftext|&gt;<span class='feature_val'> (0.00)</span></span><span class='token' style='background-color: #ffffff'>�<span class='feature_val'> (0.00)</span></span><span class='token' style='background-color: #ffffff'>�<span class='feature_val'> (0.00)</span></span><span class='token' style='background-color: #ffffff'>t<span class='feature_val'> (0.00)</span></span><span class='token' style='background-color: #ffffff'> have<span class='feature_val'> (0.00)</span></span><span class='token' style='background-color: #ffffff'> a<span class='feature_val'> (0.00)</span></span><span class='token' style='background-color: #ffffff'> clue<span class='feature_val'> (0.00)</span></span><span class='token' style='background-color: #ffebd3'>.<span class='feature_val'> (0.38)</span></span><span class='token' style='background-color: #ffffff'>\n",
       "<span class='feature_val'> (0.00)</span></span><span class='token' style='background-color: #ffffff'>\n",
       "<span class='feature_val'> (0.00)</span></span><span class='token' style='background-color: #ffffff'>Well<span class='feature_val'> (0.00)</span></span><span class='token' style='background-color: #ffffff'>,<span class='feature_val'> (0.00)</span></span><span class='token' style='background-color: #ffffff'> it<span class='feature_val'> (0.00)</span></span><span class='token' style='background-color: #ffffff'> can<span class='feature_val'> (0.00)</span></span><span class='token' style='background-color: #ffffff'> truly<span class='feature_val'> (0.00)</span></span><span class='token' style='background-color: #ffffff'> be<span class='feature_val'> (0.00)</span></span><span class='token' style='background-color: #ffffff'> anything<span class='feature_val'> (0.00)</span></span><span class='token' style='background-color: #ffdfb9'>.<span class='feature_val'> (0.61)</span></span><span class='token' style='background-color: #ffffff'> Remember<span class='feature_val'> (0.00)</span></span><span class='token' style='background-color: #ffffff'> style<span class='feature_val'> (0.00)</span></span><span class='token' style='background-color: #ffffff'> is<span class='feature_val'> (0.00)</span></span><span class='token' style='background-color: #ffffff'> more<span class='feature_val'> (0.00)</span></span><span class='token' style='background-color: #ffffff'> important<span class='feature_val'> (0.00)</span></span><span class='token' style='background-color: #fffefd'>.<span class='feature_val'> (0.01)</span></span><span class='token' style='background-color: #ffffff'> Try<span class='feature_val'> (0.00)</span></span><span class='token' style='background-color: #ffffff'> to<span class='feature_val'> (0.00)</span></span><span class='token' style='background-color: #ffffff'> be<span class='feature_val'> (0.00)</span></span><span class='token' style='background-color: #ffffff'> as<span class='feature_val'> (0.00)</span></span><span class='token' style='background-color: #ffffff'> confident<span class='feature_val'> (0.00)</span></span><span class='token' style='background-color: #ffffff'>,<span class='feature_val'> (0.00)</span></span><span class='token' style='background-color: #ffffff'> and<span class='feature_val'> (0.00)</span></span><span class='token' style='background-color: #ffffff'> casual<span class='feature_val'> (0.00)</span></span><span class='token' style='background-color: #ffffff'> as<span class='feature_val'> (0.00)</span></span><span class='token' style='background-color: #ffffff'> possible<span class='feature_val'> (0.00)</span></span><span class='token' style='background-color: #ffffff'>.<span class='feature_val'> (0.00)</span></span><span class='token' style='background-color: #ffffff'> May<span class='feature_val'> (0.00)</span></span><span class='token' style='background-color: #ffffff'> not<span class='feature_val'> (0.00)</span></span><span class='token' style='background-color: #ffffff'> work<span class='feature_val'> (0.00)</span></span><span class='token' style='background-color: #ffffff'> the<span class='feature_val'> (0.00)</span></span><span class='token' style='background-color: #ffffff'> first<span class='feature_val'> (0.00)</span></span><span class='token' style='background-color: #ffffff'> few<span class='feature_val'> (0.00)</span></span><span class='token' style='background-color: #ffffff'> times<span class='feature_val'> (0.00)</span></span><span class='token' style='background-color: #ffffff'>.<span class='feature_val'> (0.00)</span></span><span class='token' style='background-color: #ffffff'> But<span class='feature_val'> (0.00)</span></span><span class='token' style='background-color: #ffffff'> over<span class='feature_val'> (0.00)</span></span><span class='token' style='background-color: #ffffff'> time<span class='feature_val'> (0.00)</span></span><span class='token' style='background-color: #ffffff'> you<span class='feature_val'> (0.00)</span></span><span class='token' style='background-color: #ffffff'> will<span class='feature_val'> (0.00)</span></span><span class='token' style='background-color: #ffffff'> feel<span class='feature_val'> (0.00)</span></span><span class='token' style='background-color: #ffffff'> more<span class='feature_val'> (0.00)</span></span><span class='token' style='background-color: #ffffff'> relaxed<span class='feature_val'> (0.00)</span></span><span class='token' style='background-color: #ffffff'> while<span class='feature_val'> (0.00)</span></span><span class='token' style='background-color: #ffffff'> doing<span class='feature_val'> (0.00)</span></span><span class='token' style='background-color: #ffffff'> this<span class='feature_val'> (0.00)</span></span><span class='token' style='background-color: #ffffff'>.<span class='feature_val'> (0.00)</span></span><span class='token' style='background-color: #ffffff'> Here<span class='feature_val'> (0.00)</span></span><span class='token' style='background-color: #ffffff'> is<span class='feature_val'> (0.00)</span></span><span class='token' style='background-color: #ffffff'> a<span class='feature_val'> (0.00)</span></span><span class='token' style='background-color: #ffffff'> list<span class='feature_val'> (0.00)</span></span><span class='token' style='background-color: #ffffff'> of<span class='feature_val'> (0.00)</span></span><span class='token' style='background-color: #ffffff'> examples<span class='feature_val'> (0.00)</span></span><span class='token' style='background-color: #ffffff'>.<span class='feature_val'> (0.00)</span></span><span class='token' style='background-color: #ffffff'>\n",
       "<span class='feature_val'> (0.00)</span></span><span class='token' style='background-color: #ffffff'>\n",
       "<span class='feature_val'> (0.00)</span></span><span class='token' style='background-color: #ffffff'>You<span class='feature_val'> (0.00)</span></span><span class='token' style='background-color: #ffffff'> can<span class='feature_val'> (0.00)</span></span><span class='token' style='background-color: #ffffff'> talk<span class='feature_val'> (0.00)</span></span><span class='token' style='background-color: #ffffff'> about<span class='feature_val'> (0.00)</span></span><span class='token' style='background-color: #ffffff'> them<span class='feature_val'> (0.00)</span></span><span class='token' style='background-color: #ffffff'>:<span class='feature_val'> (0.00)</span></span><span class='token' style='background-color: #ffffff'>\n",
       "<span class='feature_val'> (0.00)</span></span><span class='token' style='background-color: #ffffff'>\n",
       "<span class='feature_val'> (0.00)</span></span><span class='token' style='background-color: #ffffff'>�<span class='feature_val'> (0.00)</span></span><span class='token' style='background-color: #ff8c00'>�<span class='feature_val'> (2.24)</span></span><span class='token' style='background-color: #ffffff'>Hey<span class='feature_val'> (0.00)</span></span><span class='token' style='background-color: #ffffff'> where<span class='feature_val'> (0.00)</span></span><span class='token' style='background-color: #ffffff'> did<span class='feature_val'> (0.00)</span></span><span class='token' style='background-color: #ffffff'> you<span class='feature_val'> (0.00)</span></span><span class='token' style='background-color: #ffffff'> get<span class='feature_val'> (0.00)</span></span><span class='token' style='background-color: #ffffff'> that<span class='feature_val'> (0.00)</span></span><span class='token' style='background-color: #ffffff'> [<span class='feature_val'> (0.00)</span></span><span class='token' style='background-color: #ffffff'>item<span class='feature_val'> (0.00)</span></span><span class='token' style='background-color: #ffffff'>]<span class='feature_val'> (0.00)</span></span><span class='token' style='background-color: #ffffff'> you<span class='feature_val'> (0.00)</span></span><span class='token' style='background-color: #ffffff'>�<span class='feature_val'> (0.00)</span></span><span class='token' style='background-color: #ffffff'>�<span class='feature_val'> (0.00)</span></span><span class='token' style='background-color: #ffffff'>re<span class='feature_val'> (0.00)</span></span><span class='token' style='background-color: #ffffff'> wearing<span class='feature_val'> (0.00)</span></span><span class='token' style='background-color: #ffffff'>?<span class='feature_val'> (0.00)</span></span><span class='token' style='background-color: #ffffff'>�<span class='feature_val'> (0.00)</span></span><span class='token' style='background-color: #ffffff'>�<span class='feature_val'> (0.00)</span></span><span class='token' style='background-color: #ffffff'>\n",
       "<span class='feature_val'> (0.00)</span></span><span class='token' style='background-color: #ffffff'>\n",
       "<span class='feature_val'> (0.00)</span></span><span class='token' style='background-color: #ffffff'>�<span class='feature_val'> (0.00)</span></span><span class='token' style='background-color: #ffb050'>�<span class='feature_val'> (1.53)</span></span><span class='token' style='background-color: #ffffff'>How<span class='feature_val'> (0.00)</span></span><span class='token' style='background-color: #ffffff'> are<span class='feature_val'> (0.00)</span></span><span class='token' style='background-color: #ffffff'> you<span class='feature_val'> (0.00)</span></span><span class='token' style='background-color: #ffffff'> doing<span class='feature_val'> (0.00)</span></span><span class='token' style='background-color: #ffffff'>?<span class='feature_val'> (0.00)</span></span><span class='token' style='background-color: #ffffff'>�<span class='feature_val'> (0.00)</span></span><span class='token' style='background-color: #ffffff'>�<span class='feature_val'> (0.00)</span></span><span class='token' style='background-color: #ffffff'>\n",
       "<span class='feature_val'> (0.00)</span></span><span class='token' style='background-color: #ffffff'>\n",
       "<span class='feature_val'> (0.00)</span></span><span class='token' style='background-color: #ffffff'>�<span class='feature_val'> (0.00)</span></span><span class='token' style='background-color: #ffdfb9'>�<span class='feature_val'> (0.61)</span></span><span class='token' style='background-color: #ffffff'>May<span class='feature_val'> (0.00)</span></span><span class='token' style='background-color: #ffffff'> I<span class='feature_val'> (0.00)</span></span><span class='token' style='background-color: #ffffff'> ask<span class='feature_val'> (0.00)</span></span><span class='token' style='background-color: #ffffff'> you<span class='feature_val'> (0.00)</span></span><span class='token' style='background-color: #ffffff'> opinion<span class='feature_val'> (0.00)</span></span><span class='token' style='background-color: #ffffff'> on<span class='feature_val'> (0.00)</span></span><span class='token' style='background-color: #ffffff'> [<span class='feature_val'> (0.00)</span></span><span class='token' style='background-color: #ffffff'>n<span class='feature_val'> (0.00)</span></span><span class='token' style='background-color: #ffffff'>ont<span class='feature_val'> (0.00)</span></span><span class='token' style='background-color: #ffffff'>ab<span class='feature_val'> (0.00)</span></span><span class='token' style='background-color: #ffffff'>oo<span class='feature_val'> (0.00)</span></span><span class='token' style='background-color: #ffffff'> subject<span class='feature_val'> (0.00)</span></span><span class='token' style='background-color: #ffffff'>]<span class='feature_val'> (0.00)</span></span><span class='token' style='background-color: #ffffff'>?<span class='feature_val'> (0.00)</span></span><span class='token' style='background-color: #ffffff'>�<span class='feature_val'> (0.00)</span></span><span class='token' style='background-color: #ffffff'>�<span class='feature_val'> (0.00)</span></span><span class='token' style='background-color: #ffffff'>\n",
       "<span class='feature_val'> (0.00)</span></span><span class='token' style='background-color: #ffffff'>\n",
       "<span class='feature_val'> (0.00)</span></span><span class='token' style='background-color: #ffffff'>Ask<span class='feature_val'> (0.00)</span></span><span class='token' style='background-color: #ffffff'> small<span class='feature_val'> (0.00)</span></span><span class='token' style='background-color: #ffffff'> general<span class='feature_val'> (0.00)</span></span><span class='token' style='background-color: #ffffff'> stuff<span class='feature_val'> (0.00)</span></span>"
      ],
      "text/plain": [
       "<IPython.core.display.HTML object>"
      ]
     },
     "metadata": {},
     "output_type": "display_data"
    },
    {
     "data": {
      "text/html": [
       "\n",
       "    <style>\n",
       "        span.token {\n",
       "            font-family: monospace;\n",
       "            border-style: solid;\n",
       "            border-width: 1px;\n",
       "            border-color: #dddddd;\n",
       "        }\n",
       "    </style>\n",
       "    <span class='token' style='background-color: #ffffff'>&lt;|endoftext|&gt;<span class='feature_val'> (0.00)</span></span><span class='token' style='background-color: #ffffff'>:<span class='feature_val'> (0.00)</span></span><span class='token' style='background-color: #ffffff'>\n",
       "<span class='feature_val'> (0.00)</span></span><span class='token' style='background-color: #ffffff'>\n",
       "<span class='feature_val'> (0.00)</span></span><span class='token' style='background-color: #ffffff'>proc<span class='feature_val'> (0.00)</span></span><span class='token' style='background-color: #ffffff'> p<span class='feature_val'> (0.00)</span></span><span class='token' style='background-color: #ffffff'> (<span class='feature_val'> (0.00)</span></span><span class='token' style='background-color: #ffffff'> args<span class='feature_val'> (0.00)</span></span><span class='token' style='background-color: #ffffff'> ;<span class='feature_val'> (0.00)</span></span><span class='token' style='background-color: #ffffff'> result<span class='feature_val'> (0.00)</span></span><span class='token' style='background-color: #ffffff'> :<span class='feature_val'> (0.00)</span></span><span class='token' style='background-color: #ffffff'> var<span class='feature_val'> (0.00)</span></span><span class='token' style='background-color: #ffffff'> T<span class='feature_val'> (0.00)</span></span><span class='token' style='background-color: #ffffff'> )<span class='feature_val'> (0.00)</span></span><span class='token' style='background-color: #ffffff'> :<span class='feature_val'> (0.00)</span></span><span class='token' style='background-color: #ffffff'> void<span class='feature_val'> (0.00)</span></span><span class='token' style='background-color: #ffffff'>\n",
       "<span class='feature_val'> (0.00)</span></span><span class='token' style='background-color: #ffffff'>\n",
       "<span class='feature_val'> (0.00)</span></span><span class='token' style='background-color: #ffffff'>A<span class='feature_val'> (0.00)</span></span><span class='token' style='background-color: #ffffff'> call<span class='feature_val'> (0.00)</span></span><span class='token' style='background-color: #ffffff'> to<span class='feature_val'> (0.00)</span></span><span class='token' style='background-color: #ffffff'> it<span class='feature_val'> (0.00)</span></span><span class='token' style='background-color: #ffffff'> missing<span class='feature_val'> (0.00)</span></span><span class='token' style='background-color: #ffffff'> the<span class='feature_val'> (0.00)</span></span><span class='token' style='background-color: #ffffff'> final<span class='feature_val'> (0.00)</span></span><span class='token' style='background-color: #ffffff'> parameter<span class='feature_val'> (0.00)</span></span><span class='token' style='background-color: #ffffff'> p<span class='feature_val'> (0.00)</span></span><span class='token' style='background-color: #ffffff'>(<span class='feature_val'> (0.00)</span></span><span class='token' style='background-color: #ffffff'>args<span class='feature_val'> (0.00)</span></span><span class='token' style='background-color: #ffffff'>)<span class='feature_val'> (0.00)</span></span><span class='token' style='background-color: #ffffff'> is<span class='feature_val'> (0.00)</span></span><span class='token' style='background-color: #ffffff'> rewritten<span class='feature_val'> (0.00)</span></span><span class='token' style='background-color: #ffffff'> to<span class='feature_val'> (0.00)</span></span><span class='token' style='background-color: #ffffff'> (<span class='feature_val'> (0.00)</span></span><span class='token' style='background-color: #ffffff'>var<span class='feature_val'> (0.00)</span></span><span class='token' style='background-color: #ffffff'> tmp<span class='feature_val'> (0.00)</span></span><span class='token' style='background-color: #ffffff'>:<span class='feature_val'> (0.00)</span></span><span class='token' style='background-color: #ffffff'> T<span class='feature_val'> (0.00)</span></span><span class='token' style='background-color: #ffffff'>;<span class='feature_val'> (0.00)</span></span><span class='token' style='background-color: #ffffff'> p<span class='feature_val'> (0.00)</span></span><span class='token' style='background-color: #ffffff'>(<span class='feature_val'> (0.00)</span></span><span class='token' style='background-color: #ffffff'>args<span class='feature_val'> (0.00)</span></span><span class='token' style='background-color: #ffffff'>,<span class='feature_val'> (0.00)</span></span><span class='token' style='background-color: #ffffff'> tmp<span class='feature_val'> (0.00)</span></span><span class='token' style='background-color: #ffffff'>);<span class='feature_val'> (0.00)</span></span><span class='token' style='background-color: #ffffff'> tmp<span class='feature_val'> (0.00)</span></span><span class='token' style='background-color: #ffffff'>)<span class='feature_val'> (0.00)</span></span><span class='token' style='background-color: #ffffff'> .<span class='feature_val'> (0.00)</span></span><span class='token' style='background-color: #ffffff'> Ideally<span class='feature_val'> (0.00)</span></span><span class='token' style='background-color: #ffffff'> the<span class='feature_val'> (0.00)</span></span><span class='token' style='background-color: #ff981c'> compiler<span class='feature_val'> (1.80)</span></span><span class='token' style='background-color: #ffffff'> would<span class='feature_val'> (0.00)</span></span><span class='token' style='background-color: #ffffff'> introduce<span class='feature_val'> (0.00)</span></span><span class='token' style='background-color: #ffffff'> the<span class='feature_val'> (0.00)</span></span><span class='token' style='background-color: #ffffff'> minimum<span class='feature_val'> (0.00)</span></span><span class='token' style='background-color: #ffffff'> of<span class='feature_val'> (0.00)</span></span><span class='token' style='background-color: #ffffff'> required<span class='feature_val'> (0.00)</span></span><span class='token' style='background-color: #ffffff'> tempor<span class='feature_val'> (0.00)</span></span><span class='token' style='background-color: #ffffff'>aries<span class='feature_val'> (0.00)</span></span><span class='token' style='background-color: #ffffff'> in<span class='feature_val'> (0.00)</span></span><span class='token' style='background-color: #ffffff'> nested<span class='feature_val'> (0.00)</span></span><span class='token' style='background-color: #ffffff'> calls<span class='feature_val'> (0.00)</span></span><span class='token' style='background-color: #ffffff'> but<span class='feature_val'> (0.00)</span></span><span class='token' style='background-color: #ffffff'> such<span class='feature_val'> (0.00)</span></span><span class='token' style='background-color: #ffffff'> an<span class='feature_val'> (0.00)</span></span><span class='token' style='background-color: #ffffff'> optimization<span class='feature_val'> (0.00)</span></span><span class='token' style='background-color: #ffffff'> is<span class='feature_val'> (0.00)</span></span><span class='token' style='background-color: #ffffff'> far<span class='feature_val'> (0.00)</span></span><span class='token' style='background-color: #ffffff'> away<span class='feature_val'> (0.00)</span></span><span class='token' style='background-color: #ffffff'> and<span class='feature_val'> (0.00)</span></span><span class='token' style='background-color: #ffffff'> one<span class='feature_val'> (0.00)</span></span><span class='token' style='background-color: #ffffff'> can<span class='feature_val'> (0.00)</span></span><span class='token' style='background-color: #ffffff'> always<span class='feature_val'> (0.00)</span></span><span class='token' style='background-color: #ffffff'> choose<span class='feature_val'> (0.00)</span></span><span class='token' style='background-color: #ffffff'> to<span class='feature_val'> (0.00)</span></span><span class='token' style='background-color: #ffffff'> write<span class='feature_val'> (0.00)</span></span><span class='token' style='background-color: #ffffff'> the<span class='feature_val'> (0.00)</span></span><span class='token' style='background-color: #ffffff'> more<span class='feature_val'> (0.00)</span></span><span class='token' style='background-color: #ffffff'> efficient<span class='feature_val'> (0.00)</span></span><span class='token' style='background-color: #ffffff'> version<span class='feature_val'> (0.00)</span></span><span class='token' style='background-color: #ffffff'> directly<span class='feature_val'> (0.00)</span></span><span class='token' style='background-color: #ffffff'>.<span class='feature_val'> (0.00)</span></span><span class='token' style='background-color: #ffffff'>\n",
       "<span class='feature_val'> (0.00)</span></span><span class='token' style='background-color: #ffffff'>\n",
       "<span class='feature_val'> (0.00)</span></span><span class='token' style='background-color: #ffffff'>Re<span class='feature_val'> (0.00)</span></span><span class='token' style='background-color: #ffffff'>ification<span class='feature_val'> (0.00)</span></span><span class='token' style='background-color: #ffffff'>�<span class='feature_val'> (0.00)</span></span><span class='token' style='background-color: #ff8c00'>�<span class='feature_val'> (2.03)</span></span><span class='token' style='background-color: #ffffff'>When<span class='feature_val'> (0.00)</span></span><span class='token' style='background-color: #ffffff'> I<span class='feature_val'> (0.00)</span></span><span class='token' style='background-color: #ffffff'> got<span class='feature_val'> (0.00)</span></span><span class='token' style='background-color: #ffffff'> home<span class='feature_val'> (0.00)</span></span><span class='token' style='background-color: #ffffff'> that<span class='feature_val'> (0.00)</span></span><span class='token' style='background-color: #ffffff'> night<span class='feature_val'> (0.00)</span></span><span class='token' style='background-color: #ffffff'> as<span class='feature_val'> (0.00)</span></span><span class='token' style='background-color: #ffffff'> my<span class='feature_val'> (0.00)</span></span><span class='token' style='background-color: #ffffff'> wife<span class='feature_val'> (0.00)</span></span><span class='token' style='background-color: #ffffff'> served<span class='feature_val'> (0.00)</span></span><span class='token' style='background-color: #ffffff'> dinner<span class='feature_val'> (0.00)</span></span><span class='token' style='background-color: #ffffff'>,<span class='feature_val'> (0.00)</span></span><span class='token' style='background-color: #ffffff'> I<span class='feature_val'> (0.00)</span></span><span class='token' style='background-color: #ffffff'> held<span class='feature_val'> (0.00)</span></span><span class='token' style='background-color: #ffffff'> her<span class='feature_val'> (0.00)</span></span><span class='token' style='background-color: #ffffff'> hand<span class='feature_val'> (0.00)</span></span><span class='token' style='background-color: #ffffff'> and<span class='feature_val'> (0.00)</span></span><span class='token' style='background-color: #ffffff'> said<span class='feature_val'> (0.00)</span></span><span class='token' style='background-color: #ffffff'>,<span class='feature_val'> (0.00)</span></span><span class='token' style='background-color: #ffffff'> I<span class='feature_val'> (0.00)</span></span><span class='token' style='background-color: #ffffff'>�<span class='feature_val'> (0.00)</span></span><span class='token' style='background-color: #ffffff'>�<span class='feature_val'> (0.00)</span></span><span class='token' style='background-color: #ffffff'>ve<span class='feature_val'> (0.00)</span></span><span class='token' style='background-color: #ffffff'> got<span class='feature_val'> (0.00)</span></span><span class='token' style='background-color: #ffffff'> something<span class='feature_val'> (0.00)</span></span><span class='token' style='background-color: #ffffff'> to<span class='feature_val'> (0.00)</span></span><span class='token' style='background-color: #ffffff'> tell<span class='feature_val'> (0.00)</span></span><span class='token' style='background-color: #ffffff'> you<span class='feature_val'> (0.00)</span></span><span class='token' style='background-color: #ffffff'>.<span class='feature_val'> (0.00)</span></span><span class='token' style='background-color: #ffffff'> She<span class='feature_val'> (0.00)</span></span><span class='token' style='background-color: #ffffff'> sat<span class='feature_val'> (0.00)</span></span><span class='token' style='background-color: #ffffff'> down<span class='feature_val'> (0.00)</span></span><span class='token' style='background-color: #ffffff'> and<span class='feature_val'> (0.00)</span></span><span class='token' style='background-color: #ffffff'> ate<span class='feature_val'> (0.00)</span></span><span class='token' style='background-color: #ffffff'> quietly<span class='feature_val'> (0.00)</span></span><span class='token' style='background-color: #ffffff'>.<span class='feature_val'> (0.00)</span></span><span class='token' style='background-color: #ffffff'> Again<span class='feature_val'> (0.00)</span></span><span class='token' style='background-color: #ffffff'> I<span class='feature_val'> (0.00)</span></span><span class='token' style='background-color: #ffffff'> observed<span class='feature_val'> (0.00)</span></span><span class='token' style='background-color: #ffffff'> the<span class='feature_val'> (0.00)</span></span>"
      ],
      "text/plain": [
       "<IPython.core.display.HTML object>"
      ]
     },
     "metadata": {},
     "output_type": "display_data"
    },
    {
     "data": {
      "text/html": [
       "\n",
       "    <style>\n",
       "        span.token {\n",
       "            font-family: monospace;\n",
       "            border-style: solid;\n",
       "            border-width: 1px;\n",
       "            border-color: #dddddd;\n",
       "        }\n",
       "    </style>\n",
       "    <span class='token' style='background-color: #ffffff'>&lt;|endoftext|&gt;<span class='feature_val'> (0.00)</span></span><span class='token' style='background-color: #ffffff'> above<span class='feature_val'> (0.00)</span></span><span class='token' style='background-color: #ffffff'>,<span class='feature_val'> (0.00)</span></span><span class='token' style='background-color: #ffffff'> here<span class='feature_val'> (0.00)</span></span><span class='token' style='background-color: #ffffff'>&#x27;s<span class='feature_val'> (0.00)</span></span><span class='token' style='background-color: #ffffff'> Chris<span class='feature_val'> (0.00)</span></span><span class='token' style='background-color: #ffffff'> Z<span class='feature_val'> (0.00)</span></span><span class='token' style='background-color: #ffffff'>app<span class='feature_val'> (0.00)</span></span><span class='token' style='background-color: #ffffff'>one<span class='feature_val'> (0.00)</span></span><span class='token' style='background-color: #ffffff'> video<span class='feature_val'> (0.00)</span></span><span class='token' style='background-color: #ffffff'> report<span class='feature_val'> (0.00)</span></span><span class='token' style='background-color: #ffffff'> on<span class='feature_val'> (0.00)</span></span><span class='token' style='background-color: #ffffff'> what<span class='feature_val'> (0.00)</span></span><span class='token' style='background-color: #ffffff'>&#x27;s<span class='feature_val'> (0.00)</span></span><span class='token' style='background-color: #ffffff'> going<span class='feature_val'> (0.00)</span></span><span class='token' style='background-color: #ffffff'> on<span class='feature_val'> (0.00)</span></span><span class='token' style='background-color: #ffd39f'>.<span class='feature_val'> (0.85)</span></span><span class='token' style='background-color: #ffffff'> 12<span class='feature_val'> (0.00)</span></span><span class='token' style='background-color: #ffead1'>.<span class='feature_val'> (0.40)</span></span><span class='token' style='background-color: #ffffff'>25<span class='feature_val'> (0.00)</span></span><span class='token' style='background-color: #ffffff'>pm<span class='feature_val'> (0.00)</span></span><span class='token' style='background-color: #ffffff'>:<span class='feature_val'> (0.00)</span></span><span class='token' style='background-color: #ffffff'>Here<span class='feature_val'> (0.00)</span></span><span class='token' style='background-color: #ffffff'>&#x27;s<span class='feature_val'> (0.00)</span></span><span class='token' style='background-color: #ffffff'> a<span class='feature_val'> (0.00)</span></span><span class='token' style='background-color: #ffffff'> view<span class='feature_val'> (0.00)</span></span><span class='token' style='background-color: #ffffff'> from<span class='feature_val'> (0.00)</span></span><span class='token' style='background-color: #ffffff'> the<span class='feature_val'> (0.00)</span></span><span class='token' style='background-color: #ffffff'> industry<span class='feature_val'> (0.00)</span></span><span class='token' style='background-color: #ffffff'> -<span class='feature_val'> (0.00)</span></span><span class='token' style='background-color: #ffffff'> Derek<span class='feature_val'> (0.00)</span></span><span class='token' style='background-color: #ffffff'> G<span class='feature_val'> (0.00)</span></span><span class='token' style='background-color: #ffffff'>rown<span class='feature_val'> (0.00)</span></span><span class='token' style='background-color: #ffffff'>s<span class='feature_val'> (0.00)</span></span><span class='token' style='background-color: #ffffff'>,<span class='feature_val'> (0.00)</span></span><span class='token' style='background-color: #ffffff'> the<span class='feature_val'> (0.00)</span></span><span class='token' style='background-color: #ffffff'> head<span class='feature_val'> (0.00)</span></span><span class='token' style='background-color: #ffffff'> of<span class='feature_val'> (0.00)</span></span><span class='token' style='background-color: #ffffff'> private<span class='feature_val'> (0.00)</span></span><span class='token' style='background-color: #ffffff'> wealth<span class='feature_val'> (0.00)</span></span><span class='token' style='background-color: #ffffff'> management<span class='feature_val'> (0.00)</span></span><span class='token' style='background-color: #ffffff'> at<span class='feature_val'> (0.00)</span></span><span class='token' style='background-color: #ffffff'> Wilson<span class='feature_val'> (0.00)</span></span><span class='token' style='background-color: #ffffff'> HT<span class='feature_val'> (0.00)</span></span><span class='token' style='background-color: #ffffff'>M<span class='feature_val'> (0.00)</span></span><span class='token' style='background-color: #ffffff'>,<span class='feature_val'> (0.00)</span></span><span class='token' style='background-color: #ffffff'> noting<span class='feature_val'> (0.00)</span></span><span class='token' style='background-color: #ffffff'> that<span class='feature_val'> (0.00)</span></span><span class='token' style='background-color: #ffffff'> today<span class='feature_val'> (0.00)</span></span><span class='token' style='background-color: #ffffff'> is<span class='feature_val'> (0.00)</span></span><span class='token' style='background-color: #ffffff'> the<span class='feature_val'> (0.00)</span></span><span class='token' style='background-color: #ffffff'> October<span class='feature_val'> (0.00)</span></span><span class='token' style='background-color: #ffffff'> options<span class='feature_val'> (0.00)</span></span><span class='token' style='background-color: #ffffff'> exp<span class='feature_val'> (0.00)</span></span><span class='token' style='background-color: #ffffff'>iry<span class='feature_val'> (0.00)</span></span><span class='token' style='background-color: #ffffff'> day<span class='feature_val'> (0.00)</span></span><span class='token' style='background-color: #ffffff'>,<span class='feature_val'> (0.00)</span></span><span class='token' style='background-color: #ffffff'> so<span class='feature_val'> (0.00)</span></span><span class='token' style='background-color: #ffffff'> that<span class='feature_val'> (0.00)</span></span><span class='token' style='background-color: #ffffff'> that<span class='feature_val'> (0.00)</span></span><span class='token' style='background-color: #ffffff'> any<span class='feature_val'> (0.00)</span></span><span class='token' style='background-color: #ffffff'> exchange<span class='feature_val'> (0.00)</span></span><span class='token' style='background-color: #ffffff'>-<span class='feature_val'> (0.00)</span></span><span class='token' style='background-color: #ffffff'>tr<span class='feature_val'> (0.00)</span></span><span class='token' style='background-color: #ffffff'>aded<span class='feature_val'> (0.00)</span></span><span class='token' style='background-color: #ffffff'> options<span class='feature_val'> (0.00)</span></span><span class='token' style='background-color: #ffffff'> linked<span class='feature_val'> (0.00)</span></span><span class='token' style='background-color: #ffffff'> to<span class='feature_val'> (0.00)</span></span><span class='token' style='background-color: #ffffff'> equ<span class='feature_val'> (0.00)</span></span><span class='token' style='background-color: #ffffff'>ities<span class='feature_val'> (0.00)</span></span><span class='token' style='background-color: #ffffff'> are<span class='feature_val'> (0.00)</span></span><span class='token' style='background-color: #ffffff'> due<span class='feature_val'> (0.00)</span></span><span class='token' style='background-color: #ffffff'> to<span class='feature_val'> (0.00)</span></span><span class='token' style='background-color: #ffffff'> be<span class='feature_val'> (0.00)</span></span><span class='token' style='background-color: #ffffff'> rolled<span class='feature_val'> (0.00)</span></span><span class='token' style='background-color: #ffffff'> over<span class='feature_val'> (0.00)</span></span><span class='token' style='background-color: #ffffff'> or<span class='feature_val'> (0.00)</span></span><span class='token' style='background-color: #ffffff'> liquid<span class='feature_val'> (0.00)</span></span><span class='token' style='background-color: #ffffff'>ated<span class='feature_val'> (0.00)</span></span><span class='token' style='background-color: #ffffff'>.<span class='feature_val'> (0.00)</span></span><span class='token' style='background-color: #ffffff'>\n",
       "<span class='feature_val'> (0.00)</span></span><span class='token' style='background-color: #ffffff'>\n",
       "<span class='feature_val'> (0.00)</span></span><span class='token' style='background-color: #ffffff'>�<span class='feature_val'> (0.00)</span></span><span class='token' style='background-color: #ff8c00'>�<span class='feature_val'> (2.27)</span></span><span class='token' style='background-color: #ffffff'>It<span class='feature_val'> (0.00)</span></span><span class='token' style='background-color: #ffffff'>�<span class='feature_val'> (0.00)</span></span><span class='token' style='background-color: #ffffff'>�<span class='feature_val'> (0.00)</span></span><span class='token' style='background-color: #ffffff'>s<span class='feature_val'> (0.00)</span></span><span class='token' style='background-color: #ffffff'> generally<span class='feature_val'> (0.00)</span></span><span class='token' style='background-color: #ffffff'> a<span class='feature_val'> (0.00)</span></span><span class='token' style='background-color: #ffffff'> busy<span class='feature_val'> (0.00)</span></span><span class='token' style='background-color: #ffffff'> day<span class='feature_val'> (0.00)</span></span><span class='token' style='background-color: #ffffff'>,<span class='feature_val'> (0.00)</span></span><span class='token' style='background-color: #ffffff'>�<span class='feature_val'> (0.00)</span></span><span class='token' style='background-color: #ffffff'>�<span class='feature_val'> (0.00)</span></span><span class='token' style='background-color: #ffffff'> he<span class='feature_val'> (0.00)</span></span><span class='token' style='background-color: #ffffff'> said<span class='feature_val'> (0.00)</span></span><span class='token' style='background-color: #ffffff'>.<span class='feature_val'> (0.00)</span></span><span class='token' style='background-color: #ffffff'> �<span class='feature_val'> (0.00)</span></span><span class='token' style='background-color: #ffffff'>�<span class='feature_val'> (0.00)</span></span><span class='token' style='background-color: #ffffff'>Here<span class='feature_val'> (0.00)</span></span><span class='token' style='background-color: #ffffff'> we<span class='feature_val'> (0.00)</span></span><span class='token' style='background-color: #ffffff'> are<span class='feature_val'> (0.00)</span></span><span class='token' style='background-color: #ffffff'> after<span class='feature_val'> (0.00)</span></span><span class='token' style='background-color: #ffffff'> midday<span class='feature_val'> (0.00)</span></span><span class='token' style='background-color: #ffffff'> and<span class='feature_val'> (0.00)</span></span><span class='token' style='background-color: #ffffff'> the<span class='feature_val'> (0.00)</span></span><span class='token' style='background-color: #ffffff'> exchange<span class='feature_val'> (0.00)</span></span><span class='token' style='background-color: #ffffff'> is<span class='feature_val'> (0.00)</span></span><span class='token' style='background-color: #ffffff'> putting<span class='feature_val'> (0.00)</span></span><span class='token' style='background-color: #ffffff'> out<span class='feature_val'> (0.00)</span></span><span class='token' style='background-color: #ffffff'> an<span class='feature_val'> (0.00)</span></span><span class='token' style='background-color: #ffffff'> announcement<span class='feature_val'> (0.00)</span></span><span class='token' style='background-color: #ffffff'> every<span class='feature_val'> (0.00)</span></span><span class='token' style='background-color: #ffffff'> 10<span class='feature_val'> (0.00)</span></span><span class='token' style='background-color: #ffffff'> minutes<span class='feature_val'> (0.00)</span></span><span class='token' style='background-color: #ffffff'>.<span class='feature_val'> (0.00)</span></span><span class='token' style='background-color: #ffffff'>�<span class='feature_val'> (0.00)</span></span><span class='token' style='background-color: #ffffff'>�<span class='feature_val'> (0.00)</span></span><span class='token' style='background-color: #ffffff'>\n",
       "<span class='feature_val'> (0.00)</span></span><span class='token' style='background-color: #ffffff'>\n",
       "<span class='feature_val'> (0.00)</span></span><span class='token' style='background-color: #ffffff'>Mr<span class='feature_val'> (0.00)</span></span><span class='token' style='background-color: #ffffff'> G<span class='feature_val'> (0.00)</span></span><span class='token' style='background-color: #ffffff'>rown<span class='feature_val'> (0.00)</span></span><span class='token' style='background-color: #ffffff'>s<span class='feature_val'> (0.00)</span></span><span class='token' style='background-color: #ffffff'> said<span class='feature_val'> (0.00)</span></span><span class='token' style='background-color: #ffffff'> it<span class='feature_val'> (0.00)</span></span><span class='token' style='background-color: #ffffff'>&#x27;s<span class='feature_val'> (0.00)</span></span>"
      ],
      "text/plain": [
       "<IPython.core.display.HTML object>"
      ]
     },
     "metadata": {},
     "output_type": "display_data"
    },
    {
     "data": {
      "text/html": [
       "\n",
       "    <style>\n",
       "        span.token {\n",
       "            font-family: monospace;\n",
       "            border-style: solid;\n",
       "            border-width: 1px;\n",
       "            border-color: #dddddd;\n",
       "        }\n",
       "    </style>\n",
       "    <span class='token' style='background-color: #ffffff'>&lt;|endoftext|&gt;<span class='feature_val'> (0.00)</span></span><span class='token' style='background-color: #ffffff'> did<span class='feature_val'> (0.00)</span></span><span class='token' style='background-color: #ffffff'> not<span class='feature_val'> (0.00)</span></span><span class='token' style='background-color: #ffffff'> dare<span class='feature_val'> (0.00)</span></span><span class='token' style='background-color: #ffffff'> to<span class='feature_val'> (0.00)</span></span><span class='token' style='background-color: #ffffff'> deny<span class='feature_val'> (0.00)</span></span><span class='token' style='background-color: #ffffff'> the<span class='feature_val'> (0.00)</span></span><span class='token' style='background-color: #ffffff'> men<span class='feature_val'> (0.00)</span></span><span class='token' style='background-color: #ffffff'> entry<span class='feature_val'> (0.00)</span></span><span class='token' style='background-color: #ffffff'> into<span class='feature_val'> (0.00)</span></span><span class='token' style='background-color: #ffffff'> his<span class='feature_val'> (0.00)</span></span><span class='token' style='background-color: #ffffff'> room<span class='feature_val'> (0.00)</span></span><span class='token' style='background-color: #ffc783'>.<span class='feature_val'> (1.08)</span></span><span class='token' style='background-color: #ffffff'>\n",
       "<span class='feature_val'> (0.00)</span></span><span class='token' style='background-color: #ffffff'>\n",
       "<span class='feature_val'> (0.00)</span></span><span class='token' style='background-color: #ffffff'>�<span class='feature_val'> (0.00)</span></span><span class='token' style='background-color: #ffffff'>�<span class='feature_val'> (0.00)</span></span><span class='token' style='background-color: #ffffff'>I<span class='feature_val'> (0.00)</span></span><span class='token' style='background-color: #ffffff'> don<span class='feature_val'> (0.00)</span></span><span class='token' style='background-color: #ffffff'>�<span class='feature_val'> (0.00)</span></span><span class='token' style='background-color: #ffffff'>�<span class='feature_val'> (0.00)</span></span><span class='token' style='background-color: #ffffff'>t<span class='feature_val'> (0.00)</span></span><span class='token' style='background-color: #ffffff'> want<span class='feature_val'> (0.00)</span></span><span class='token' style='background-color: #ffffff'> to<span class='feature_val'> (0.00)</span></span><span class='token' style='background-color: #ffffff'> create<span class='feature_val'> (0.00)</span></span><span class='token' style='background-color: #ffffff'> a<span class='feature_val'> (0.00)</span></span><span class='token' style='background-color: #ffffff'> scene<span class='feature_val'> (0.00)</span></span><span class='token' style='background-color: #ffffff'>,<span class='feature_val'> (0.00)</span></span><span class='token' style='background-color: #ffffff'> I<span class='feature_val'> (0.00)</span></span><span class='token' style='background-color: #ffffff'> don<span class='feature_val'> (0.00)</span></span><span class='token' style='background-color: #ffffff'>�<span class='feature_val'> (0.00)</span></span><span class='token' style='background-color: #ffffff'>�<span class='feature_val'> (0.00)</span></span><span class='token' style='background-color: #ffffff'>t<span class='feature_val'> (0.00)</span></span><span class='token' style='background-color: #ffffff'> want<span class='feature_val'> (0.00)</span></span><span class='token' style='background-color: #ffffff'> to<span class='feature_val'> (0.00)</span></span><span class='token' style='background-color: #ffffff'> create<span class='feature_val'> (0.00)</span></span><span class='token' style='background-color: #ffffff'> trouble<span class='feature_val'> (0.00)</span></span><span class='token' style='background-color: #ffffff'>,<span class='feature_val'> (0.00)</span></span><span class='token' style='background-color: #ffffff'> I<span class='feature_val'> (0.00)</span></span><span class='token' style='background-color: #ffffff'> don<span class='feature_val'> (0.00)</span></span><span class='token' style='background-color: #ffffff'>�<span class='feature_val'> (0.00)</span></span><span class='token' style='background-color: #ffffff'>�<span class='feature_val'> (0.00)</span></span><span class='token' style='background-color: #ffffff'>t<span class='feature_val'> (0.00)</span></span><span class='token' style='background-color: #ffffff'> want<span class='feature_val'> (0.00)</span></span><span class='token' style='background-color: #ffffff'> to<span class='feature_val'> (0.00)</span></span><span class='token' style='background-color: #ffffff'> be<span class='feature_val'> (0.00)</span></span><span class='token' style='background-color: #ffffff'> accused<span class='feature_val'> (0.00)</span></span><span class='token' style='background-color: #ffffff'> of<span class='feature_val'> (0.00)</span></span><span class='token' style='background-color: #ffffff'> preventing<span class='feature_val'> (0.00)</span></span><span class='token' style='background-color: #ffffff'> them<span class='feature_val'> (0.00)</span></span><span class='token' style='background-color: #ffffff'> from<span class='feature_val'> (0.00)</span></span><span class='token' style='background-color: #ffffff'> doing<span class='feature_val'> (0.00)</span></span><span class='token' style='background-color: #ffffff'> their<span class='feature_val'> (0.00)</span></span><span class='token' style='background-color: #ffffff'> job<span class='feature_val'> (0.00)</span></span><span class='token' style='background-color: #ffffff'>,<span class='feature_val'> (0.00)</span></span><span class='token' style='background-color: #ffffff'>�<span class='feature_val'> (0.00)</span></span><span class='token' style='background-color: #ffffff'>�<span class='feature_val'> (0.00)</span></span><span class='token' style='background-color: #ffffff'> he<span class='feature_val'> (0.00)</span></span><span class='token' style='background-color: #ffffff'> said<span class='feature_val'> (0.00)</span></span><span class='token' style='background-color: #ffffff'>,<span class='feature_val'> (0.00)</span></span><span class='token' style='background-color: #ffffff'> fearing<span class='feature_val'> (0.00)</span></span><span class='token' style='background-color: #ffffff'> that<span class='feature_val'> (0.00)</span></span><span class='token' style='background-color: #ffffff'> he<span class='feature_val'> (0.00)</span></span><span class='token' style='background-color: #ffffff'> would<span class='feature_val'> (0.00)</span></span><span class='token' style='background-color: #ffffff'> be<span class='feature_val'> (0.00)</span></span><span class='token' style='background-color: #ffffff'> accused<span class='feature_val'> (0.00)</span></span><span class='token' style='background-color: #ffffff'> or<span class='feature_val'> (0.00)</span></span><span class='token' style='background-color: #ffffff'> prosecuted<span class='feature_val'> (0.00)</span></span><span class='token' style='background-color: #ffffff'> for<span class='feature_val'> (0.00)</span></span><span class='token' style='background-color: #ffffff'> not<span class='feature_val'> (0.00)</span></span><span class='token' style='background-color: #ffffff'> cooperating<span class='feature_val'> (0.00)</span></span><span class='token' style='background-color: #ffffff'>.<span class='feature_val'> (0.00)</span></span><span class='token' style='background-color: #ffffff'>\n",
       "<span class='feature_val'> (0.00)</span></span><span class='token' style='background-color: #ffffff'>\n",
       "<span class='feature_val'> (0.00)</span></span><span class='token' style='background-color: #ffffff'>�<span class='feature_val'> (0.00)</span></span><span class='token' style='background-color: #ff8c00'>�<span class='feature_val'> (2.24)</span></span><span class='token' style='background-color: #ffffff'>You<span class='feature_val'> (0.00)</span></span><span class='token' style='background-color: #ffffff'> can<span class='feature_val'> (0.00)</span></span><span class='token' style='background-color: #ffffff'>�<span class='feature_val'> (0.00)</span></span><span class='token' style='background-color: #ffffff'>�<span class='feature_val'> (0.00)</span></span><span class='token' style='background-color: #ffffff'>t<span class='feature_val'> (0.00)</span></span><span class='token' style='background-color: #ffffff'> just<span class='feature_val'> (0.00)</span></span><span class='token' style='background-color: #ffffff'> come<span class='feature_val'> (0.00)</span></span><span class='token' style='background-color: #ffffff'> barg<span class='feature_val'> (0.00)</span></span><span class='token' style='background-color: #ffffff'>ing<span class='feature_val'> (0.00)</span></span><span class='token' style='background-color: #ffffff'> in<span class='feature_val'> (0.00)</span></span><span class='token' style='background-color: #ffffff'>.<span class='feature_val'> (0.00)</span></span><span class='token' style='background-color: #ffffff'> It<span class='feature_val'> (0.00)</span></span><span class='token' style='background-color: #ffffff'>�<span class='feature_val'> (0.00)</span></span><span class='token' style='background-color: #ffffff'>�<span class='feature_val'> (0.00)</span></span><span class='token' style='background-color: #ffffff'>s<span class='feature_val'> (0.00)</span></span><span class='token' style='background-color: #ffffff'> not<span class='feature_val'> (0.00)</span></span><span class='token' style='background-color: #ffffff'> Islamic<span class='feature_val'> (0.00)</span></span><span class='token' style='background-color: #ffffff'> as<span class='feature_val'> (0.00)</span></span><span class='token' style='background-color: #ffffff'> well<span class='feature_val'> (0.00)</span></span><span class='token' style='background-color: #ffffff'>.<span class='feature_val'> (0.00)</span></span><span class='token' style='background-color: #ffffff'> She<span class='feature_val'> (0.00)</span></span><span class='token' style='background-color: #ffffff'> usually<span class='feature_val'> (0.00)</span></span><span class='token' style='background-color: #ffffff'> wears<span class='feature_val'> (0.00)</span></span><span class='token' style='background-color: #ffffff'> a<span class='feature_val'> (0.00)</span></span><span class='token' style='background-color: #ffffff'> t<span class='feature_val'> (0.00)</span></span><span class='token' style='background-color: #ffffff'>ud<span class='feature_val'> (0.00)</span></span><span class='token' style='background-color: #ffffff'>ung<span class='feature_val'> (0.00)</span></span><span class='token' style='background-color: #ffffff'> (<span class='feature_val'> (0.00)</span></span><span class='token' style='background-color: #ffffff'>Islamic<span class='feature_val'> (0.00)</span></span><span class='token' style='background-color: #ffffff'> head<span class='feature_val'> (0.00)</span></span><span class='token' style='background-color: #ffffff'>gear<span class='feature_val'> (0.00)</span></span><span class='token' style='background-color: #ffffff'>)<span class='feature_val'> (0.00)</span></span><span class='token' style='background-color: #ffffff'> and<span class='feature_val'> (0.00)</span></span><span class='token' style='background-color: #ffffff'> they<span class='feature_val'> (0.00)</span></span><span class='token' style='background-color: #ffffff'> know<span class='feature_val'> (0.00)</span></span><span class='token' style='background-color: #ffffff'> she<span class='feature_val'> (0.00)</span></span><span class='token' style='background-color: #ffffff'> was<span class='feature_val'> (0.00)</span></span><span class='token' style='background-color: #ffffff'> asleep<span class='feature_val'> (0.00)</span></span><span class='token' style='background-color: #ffffff'>,<span class='feature_val'> (0.00)</span></span><span class='token' style='background-color: #ffffff'>�<span class='feature_val'> (0.00)</span></span><span class='token' style='background-color: #ffffff'>�<span class='feature_val'> (0.00)</span></span><span class='token' style='background-color: #ffffff'> he<span class='feature_val'> (0.00)</span></span><span class='token' style='background-color: #ffffff'> said<span class='feature_val'> (0.00)</span></span><span class='token' style='background-color: #ffffff'>,<span class='feature_val'> (0.00)</span></span><span class='token' style='background-color: #ffffff'> saying<span class='feature_val'> (0.00)</span></span><span class='token' style='background-color: #ffffff'> that<span class='feature_val'> (0.00)</span></span><span class='token' style='background-color: #ffffff'> his<span class='feature_val'> (0.00)</span></span><span class='token' style='background-color: #ffffff'> mother<span class='feature_val'> (0.00)</span></span><span class='token' style='background-color: #ffffff'> was<span class='feature_val'> (0.00)</span></span><span class='token' style='background-color: #ffffff'> not<span class='feature_val'> (0.00)</span></span><span class='token' style='background-color: #ffffff'> wearing<span class='feature_val'> (0.00)</span></span><span class='token' style='background-color: #ffffff'> any<span class='feature_val'> (0.00)</span></span>"
      ],
      "text/plain": [
       "<IPython.core.display.HTML object>"
      ]
     },
     "metadata": {},
     "output_type": "display_data"
    },
    {
     "data": {
      "text/html": [
       "\n",
       "    <style>\n",
       "        span.token {\n",
       "            font-family: monospace;\n",
       "            border-style: solid;\n",
       "            border-width: 1px;\n",
       "            border-color: #dddddd;\n",
       "        }\n",
       "    </style>\n",
       "    <span class='token' style='background-color: #ffffff'>&lt;|endoftext|&gt;<span class='feature_val'> (0.00)</span></span><span class='token' style='background-color: #ffffff'> would<span class='feature_val'> (0.00)</span></span><span class='token' style='background-color: #ffffff'> have<span class='feature_val'> (0.00)</span></span><span class='token' style='background-color: #ffffff'> bought<span class='feature_val'> (0.00)</span></span><span class='token' style='background-color: #ffffff'> the<span class='feature_val'> (0.00)</span></span><span class='token' style='background-color: #ffffff'> CD<span class='feature_val'> (0.00)</span></span><span class='token' style='background-color: #ffe6c9'>.<span class='feature_val'> (0.42)</span></span><span class='token' style='background-color: #ffffff'> It<span class='feature_val'> (0.00)</span></span><span class='token' style='background-color: #ffffff'> just<span class='feature_val'> (0.00)</span></span><span class='token' style='background-color: #ffffff'> happened<span class='feature_val'> (0.00)</span></span><span class='token' style='background-color: #ffffff'> to<span class='feature_val'> (0.00)</span></span><span class='token' style='background-color: #ffffff'> be<span class='feature_val'> (0.00)</span></span><span class='token' style='background-color: #ffffff'> on<span class='feature_val'> (0.00)</span></span><span class='token' style='background-color: #ffffff'> a<span class='feature_val'> (0.00)</span></span><span class='token' style='background-color: #ffffff'> record<span class='feature_val'> (0.00)</span></span><span class='token' style='background-color: #ffce92'>.<span class='feature_val'> (0.84)</span></span><span class='token' style='background-color: #ffffff'> The<span class='feature_val'> (0.00)</span></span><span class='token' style='background-color: #ffffff'> low<span class='feature_val'> (0.00)</span></span><span class='token' style='background-color: #ffffff'>-<span class='feature_val'> (0.00)</span></span><span class='token' style='background-color: #ffffff'>budget<span class='feature_val'> (0.00)</span></span><span class='token' style='background-color: #ffffff'>,<span class='feature_val'> (0.00)</span></span><span class='token' style='background-color: #ffffff'> dollar<span class='feature_val'> (0.00)</span></span><span class='token' style='background-color: #ffffff'>-<span class='feature_val'> (0.00)</span></span><span class='token' style='background-color: #ffffff'>rack<span class='feature_val'> (0.00)</span></span><span class='token' style='background-color: #ffffff'> records<span class='feature_val'> (0.00)</span></span><span class='token' style='background-color: #ffffff'> you<span class='feature_val'> (0.00)</span></span><span class='token' style='background-color: #ffffff'> can<span class='feature_val'> (0.00)</span></span><span class='token' style='background-color: #ffffff'> get<span class='feature_val'> (0.00)</span></span><span class='token' style='background-color: #ffffff'> at<span class='feature_val'> (0.00)</span></span><span class='token' style='background-color: #ffffff'> Good<span class='feature_val'> (0.00)</span></span><span class='token' style='background-color: #ffffff'>will<span class='feature_val'> (0.00)</span></span><span class='token' style='background-color: #ffffff'> for<span class='feature_val'> (0.00)</span></span><span class='token' style='background-color: #ffffff'> 75<span class='feature_val'> (0.00)</span></span><span class='token' style='background-color: #ffffff'> cents<span class='feature_val'> (0.00)</span></span><span class='token' style='background-color: #ffffff'> —<span class='feature_val'> (0.00)</span></span><span class='token' style='background-color: #ffffff'> the<span class='feature_val'> (0.00)</span></span><span class='token' style='background-color: #ffffff'> records<span class='feature_val'> (0.00)</span></span><span class='token' style='background-color: #ffffff'> people<span class='feature_val'> (0.00)</span></span><span class='token' style='background-color: #ffffff'> are<span class='feature_val'> (0.00)</span></span><span class='token' style='background-color: #ffffff'> giving<span class='feature_val'> (0.00)</span></span><span class='token' style='background-color: #ffffff'> away<span class='feature_val'> (0.00)</span></span><span class='token' style='background-color: #ffffff'> —<span class='feature_val'> (0.00)</span></span><span class='token' style='background-color: #ffffff'> those<span class='feature_val'> (0.00)</span></span><span class='token' style='background-color: #ffffff'> are<span class='feature_val'> (0.00)</span></span><span class='token' style='background-color: #ffffff'> the<span class='feature_val'> (0.00)</span></span><span class='token' style='background-color: #ffffff'> records<span class='feature_val'> (0.00)</span></span><span class='token' style='background-color: #ffffff'> I<span class='feature_val'> (0.00)</span></span><span class='token' style='background-color: #ffffff'>�<span class='feature_val'> (0.00)</span></span><span class='token' style='background-color: #ffffff'>�<span class='feature_val'> (0.00)</span></span><span class='token' style='background-color: #ffffff'>m<span class='feature_val'> (0.00)</span></span><span class='token' style='background-color: #ffffff'> interested<span class='feature_val'> (0.00)</span></span><span class='token' style='background-color: #ffffff'> in<span class='feature_val'> (0.00)</span></span><span class='token' style='background-color: #ffffff'>.<span class='feature_val'> (0.00)</span></span><span class='token' style='background-color: #ffffff'>�<span class='feature_val'> (0.00)</span></span><span class='token' style='background-color: #ffffff'>�<span class='feature_val'> (0.00)</span></span><span class='token' style='background-color: #ffffff'>\n",
       "<span class='feature_val'> (0.00)</span></span><span class='token' style='background-color: #ffffff'>\n",
       "<span class='feature_val'> (0.00)</span></span><span class='token' style='background-color: #ffffff'>The<span class='feature_val'> (0.00)</span></span><span class='token' style='background-color: #ffffff'> Qu<span class='feature_val'> (0.00)</span></span><span class='token' style='background-color: #ffffff'>ilts<span class='feature_val'> (0.00)</span></span><span class='token' style='background-color: #ffffff'> of<span class='feature_val'> (0.00)</span></span><span class='token' style='background-color: #ffffff'> G<span class='feature_val'> (0.00)</span></span><span class='token' style='background-color: #ffffff'>ee<span class='feature_val'> (0.00)</span></span><span class='token' style='background-color: #ffffff'>�<span class='feature_val'> (0.00)</span></span><span class='token' style='background-color: #ffffff'>�<span class='feature_val'> (0.00)</span></span><span class='token' style='background-color: #ffffff'>s<span class='feature_val'> (0.00)</span></span><span class='token' style='background-color: #ffffff'> Bend<span class='feature_val'> (0.00)</span></span><span class='token' style='background-color: #ffffff'>\n",
       "<span class='feature_val'> (0.00)</span></span><span class='token' style='background-color: #ffffff'>\n",
       "<span class='feature_val'> (0.00)</span></span><span class='token' style='background-color: #ffffff'>�<span class='feature_val'> (0.00)</span></span><span class='token' style='background-color: #ff8c00'>�<span class='feature_val'> (1.98)</span></span><span class='token' style='background-color: #ffffff'>My<span class='feature_val'> (0.00)</span></span><span class='token' style='background-color: #ffffff'> friend<span class='feature_val'> (0.00)</span></span><span class='token' style='background-color: #ffffff'> Bill<span class='feature_val'> (0.00)</span></span><span class='token' style='background-color: #ffffff'> Arn<span class='feature_val'> (0.00)</span></span><span class='token' style='background-color: #ffffff'>ett<span class='feature_val'> (0.00)</span></span><span class='token' style='background-color: #ffffff'> is<span class='feature_val'> (0.00)</span></span><span class='token' style='background-color: #ffffff'> the<span class='feature_val'> (0.00)</span></span><span class='token' style='background-color: #ffffff'> owner<span class='feature_val'> (0.00)</span></span><span class='token' style='background-color: #ffffff'> of<span class='feature_val'> (0.00)</span></span><span class='token' style='background-color: #ffffff'> most<span class='feature_val'> (0.00)</span></span><span class='token' style='background-color: #ffffff'> of<span class='feature_val'> (0.00)</span></span><span class='token' style='background-color: #ffffff'> these<span class='feature_val'> (0.00)</span></span><span class='token' style='background-color: #ffffff'> qu<span class='feature_val'> (0.00)</span></span><span class='token' style='background-color: #ffffff'>ilts<span class='feature_val'> (0.00)</span></span><span class='token' style='background-color: #ffffff'>.<span class='feature_val'> (0.00)</span></span><span class='token' style='background-color: #ffffff'> He<span class='feature_val'> (0.00)</span></span><span class='token' style='background-color: #ffffff'>�<span class='feature_val'> (0.00)</span></span><span class='token' style='background-color: #ffffff'>�<span class='feature_val'> (0.00)</span></span><span class='token' style='background-color: #ffffff'>s<span class='feature_val'> (0.00)</span></span><span class='token' style='background-color: #ffffff'> the<span class='feature_val'> (0.00)</span></span><span class='token' style='background-color: #ffffff'> founder<span class='feature_val'> (0.00)</span></span><span class='token' style='background-color: #ffffff'> of<span class='feature_val'> (0.00)</span></span><span class='token' style='background-color: #ffffff'> the<span class='feature_val'> (0.00)</span></span><span class='token' style='background-color: #ffffff'> Souls<span class='feature_val'> (0.00)</span></span><span class='token' style='background-color: #ffffff'> G<span class='feature_val'> (0.00)</span></span><span class='token' style='background-color: #ffffff'>rown<span class='feature_val'> (0.00)</span></span><span class='token' style='background-color: #ffffff'> Deep<span class='feature_val'> (0.00)</span></span><span class='token' style='background-color: #ffffff'> Foundation<span class='feature_val'> (0.00)</span></span><span class='token' style='background-color: #ffffff'>.<span class='feature_val'> (0.00)</span></span><span class='token' style='background-color: #ffffff'> He<span class='feature_val'> (0.00)</span></span><span class='token' style='background-color: #ffffff'>�<span class='feature_val'> (0.00)</span></span><span class='token' style='background-color: #ffffff'>�<span class='feature_val'> (0.00)</span></span><span class='token' style='background-color: #ffffff'>s<span class='feature_val'> (0.00)</span></span><span class='token' style='background-color: #ffffff'> a<span class='feature_val'> (0.00)</span></span><span class='token' style='background-color: #ffffff'> rather<span class='feature_val'> (0.00)</span></span><span class='token' style='background-color: #ffffff'> controversial<span class='feature_val'> (0.00)</span></span><span class='token' style='background-color: #ffffff'> figure<span class='feature_val'> (0.00)</span></span><span class='token' style='background-color: #ffffff'>,<span class='feature_val'> (0.00)</span></span><span class='token' style='background-color: #ffffff'> a<span class='feature_val'> (0.00)</span></span><span class='token' style='background-color: #ffffff'> really<span class='feature_val'> (0.00)</span></span><span class='token' style='background-color: #ffffff'> misunderstood<span class='feature_val'> (0.00)</span></span><span class='token' style='background-color: #ffffff'> person<span class='feature_val'> (0.00)</span></span><span class='token' style='background-color: #ffffff'>,<span class='feature_val'> (0.00)</span></span><span class='token' style='background-color: #ffffff'> and<span class='feature_val'> (0.00)</span></span><span class='token' style='background-color: #ffffff'> I<span class='feature_val'> (0.00)</span></span><span class='token' style='background-color: #ffffff'> can<span class='feature_val'> (0.00)</span></span><span class='token' style='background-color: #ffffff'> assure<span class='feature_val'> (0.00)</span></span><span class='token' style='background-color: #ffffff'> you<span class='feature_val'> (0.00)</span></span><span class='token' style='background-color: #ffffff'> from<span class='feature_val'> (0.00)</span></span><span class='token' style='background-color: #ffffff'> personal<span class='feature_val'> (0.00)</span></span><span class='token' style='background-color: #ffffff'> experience<span class='feature_val'> (0.00)</span></span><span class='token' style='background-color: #ffffff'>,<span class='feature_val'> (0.00)</span></span><span class='token' style='background-color: #ffffff'> any<span class='feature_val'> (0.00)</span></span><span class='token' style='background-color: #ffffff'> attack<span class='feature_val'> (0.00)</span></span><span class='token' style='background-color: #ffffff'> on<span class='feature_val'> (0.00)</span></span><span class='token' style='background-color: #ffffff'> him<span class='feature_val'> (0.00)</span></span><span class='token' style='background-color: #ffffff'>,<span class='feature_val'> (0.00)</span></span>"
      ],
      "text/plain": [
       "<IPython.core.display.HTML object>"
      ]
     },
     "metadata": {},
     "output_type": "display_data"
    },
    {
     "data": {
      "text/html": [
       "\n",
       "    <style>\n",
       "        span.token {\n",
       "            font-family: monospace;\n",
       "            border-style: solid;\n",
       "            border-width: 1px;\n",
       "            border-color: #dddddd;\n",
       "        }\n",
       "    </style>\n",
       "    <span class='token' style='background-color: #ffffff'>&lt;|endoftext|&gt;<span class='feature_val'> (0.00)</span></span><span class='token' style='background-color: #ffffff'> not<span class='feature_val'> (0.00)</span></span><span class='token' style='background-color: #ffffff'> worth<span class='feature_val'> (0.00)</span></span><span class='token' style='background-color: #ffffff'> it<span class='feature_val'> (0.00)</span></span><span class='token' style='background-color: #ffffff'> or<span class='feature_val'> (0.00)</span></span><span class='token' style='background-color: #ffffff'> it<span class='feature_val'> (0.00)</span></span><span class='token' style='background-color: #ffffff'> won<span class='feature_val'> (0.00)</span></span><span class='token' style='background-color: #ffffff'>&#x27;t<span class='feature_val'> (0.00)</span></span><span class='token' style='background-color: #ffffff'> work<span class='feature_val'> (0.00)</span></span><span class='token' style='background-color: #ffcd92'>.<span class='feature_val'> (0.97)</span></span><span class='token' style='background-color: #ffffff'>\n",
       "<span class='feature_val'> (0.00)</span></span><span class='token' style='background-color: #ffffff'>\n",
       "<span class='feature_val'> (0.00)</span></span><span class='token' style='background-color: #ffffff'>&quot;<span class='feature_val'> (0.00)</span></span><span class='token' style='background-color: #ffffff'>In<span class='feature_val'> (0.00)</span></span><span class='token' style='background-color: #ffffff'> fact<span class='feature_val'> (0.00)</span></span><span class='token' style='background-color: #ffffff'> complaining<span class='feature_val'> (0.00)</span></span><span class='token' style='background-color: #ffffff'> does<span class='feature_val'> (0.00)</span></span><span class='token' style='background-color: #ffffff'> work<span class='feature_val'> (0.00)</span></span><span class='token' style='background-color: #ffffff'>,<span class='feature_val'> (0.00)</span></span><span class='token' style='background-color: #ffffff'> and<span class='feature_val'> (0.00)</span></span><span class='token' style='background-color: #ffffff'> we<span class='feature_val'> (0.00)</span></span><span class='token' style='background-color: #ffffff'> need<span class='feature_val'> (0.00)</span></span><span class='token' style='background-color: #ffffff'> to<span class='feature_val'> (0.00)</span></span><span class='token' style='background-color: #ffffff'> demonstrate<span class='feature_val'> (0.00)</span></span><span class='token' style='background-color: #ffffff'> that<span class='feature_val'> (0.00)</span></span><span class='token' style='background-color: #ffffff'>,<span class='feature_val'> (0.00)</span></span><span class='token' style='background-color: #ffffff'> and<span class='feature_val'> (0.00)</span></span><span class='token' style='background-color: #ffffff'> also<span class='feature_val'> (0.00)</span></span><span class='token' style='background-color: #ffffff'> to<span class='feature_val'> (0.00)</span></span><span class='token' style='background-color: #ffffff'> actively<span class='feature_val'> (0.00)</span></span><span class='token' style='background-color: #ffffff'> help<span class='feature_val'> (0.00)</span></span><span class='token' style='background-color: #ffffff'> people<span class='feature_val'> (0.00)</span></span><span class='token' style='background-color: #ffffff'> complain<span class='feature_val'> (0.00)</span></span><span class='token' style='background-color: #ffffff'>.&quot;<span class='feature_val'> (0.00)</span></span><span class='token' style='background-color: #ffffff'>\n",
       "<span class='feature_val'> (0.00)</span></span><span class='token' style='background-color: #ffffff'>\n",
       "<span class='feature_val'> (0.00)</span></span><span class='token' style='background-color: #ffffff'>Chief<span class='feature_val'> (0.00)</span></span><span class='token' style='background-color: #ffffff'> O<span class='feature_val'> (0.00)</span></span><span class='token' style='background-color: #ffffff'>mbudsman<span class='feature_val'> (0.00)</span></span><span class='token' style='background-color: #ffffff'> Lewis<span class='feature_val'> (0.00)</span></span><span class='token' style='background-color: #ffffff'> Sh<span class='feature_val'> (0.00)</span></span><span class='token' style='background-color: #ffffff'>and<span class='feature_val'> (0.00)</span></span><span class='token' style='background-color: #ffffff'> Smith<span class='feature_val'> (0.00)</span></span><span class='token' style='background-color: #ffffff'> said<span class='feature_val'> (0.00)</span></span><span class='token' style='background-color: #ffffff'>:<span class='feature_val'> (0.00)</span></span><span class='token' style='background-color: #ffffff'> �<span class='feature_val'> (0.00)</span></span><span class='token' style='background-color: #ffffff'>�<span class='feature_val'> (0.00)</span></span><span class='token' style='background-color: #ffffff'>Compl<span class='feature_val'> (0.00)</span></span><span class='token' style='background-color: #ffffff'>aints<span class='feature_val'> (0.00)</span></span><span class='token' style='background-color: #ffffff'> increased<span class='feature_val'> (0.00)</span></span><span class='token' style='background-color: #ffffff'> by<span class='feature_val'> (0.00)</span></span><span class='token' style='background-color: #ffffff'> 1<span class='feature_val'> (0.00)</span></span><span class='token' style='background-color: #ffffff'>.<span class='feature_val'> (0.00)</span></span><span class='token' style='background-color: #ffffff'>4<span class='feature_val'> (0.00)</span></span><span class='token' style='background-color: #ffffff'> million<span class='feature_val'> (0.00)</span></span><span class='token' style='background-color: #ffffff'> from<span class='feature_val'> (0.00)</span></span><span class='token' style='background-color: #ffffff'> this<span class='feature_val'> (0.00)</span></span><span class='token' style='background-color: #ffffff'> time<span class='feature_val'> (0.00)</span></span><span class='token' style='background-color: #ffffff'> last<span class='feature_val'> (0.00)</span></span><span class='token' style='background-color: #ffffff'> year<span class='feature_val'> (0.00)</span></span><span class='token' style='background-color: #ffffff'>,<span class='feature_val'> (0.00)</span></span><span class='token' style='background-color: #ffffff'> which<span class='feature_val'> (0.00)</span></span><span class='token' style='background-color: #ffffff'> is<span class='feature_val'> (0.00)</span></span><span class='token' style='background-color: #ffffff'> testament<span class='feature_val'> (0.00)</span></span><span class='token' style='background-color: #ffffff'> to<span class='feature_val'> (0.00)</span></span><span class='token' style='background-color: #ffffff'> Scottish<span class='feature_val'> (0.00)</span></span><span class='token' style='background-color: #ffffff'> consumers<span class='feature_val'> (0.00)</span></span><span class='token' style='background-color: #ffffff'>�<span class='feature_val'> (0.00)</span></span><span class='token' style='background-color: #ffffff'>�<span class='feature_val'> (0.00)</span></span><span class='token' style='background-color: #ffffff'> growing<span class='feature_val'> (0.00)</span></span><span class='token' style='background-color: #ffffff'> awareness<span class='feature_val'> (0.00)</span></span><span class='token' style='background-color: #ffffff'> and<span class='feature_val'> (0.00)</span></span><span class='token' style='background-color: #ffffff'> desire<span class='feature_val'> (0.00)</span></span><span class='token' style='background-color: #ffffff'> to<span class='feature_val'> (0.00)</span></span><span class='token' style='background-color: #ffffff'> be<span class='feature_val'> (0.00)</span></span><span class='token' style='background-color: #ffffff'> treated<span class='feature_val'> (0.00)</span></span><span class='token' style='background-color: #ffffff'> fairly<span class='feature_val'> (0.00)</span></span><span class='token' style='background-color: #ffffff'> by<span class='feature_val'> (0.00)</span></span><span class='token' style='background-color: #ffffff'> big<span class='feature_val'> (0.00)</span></span><span class='token' style='background-color: #ffffff'> firms<span class='feature_val'> (0.00)</span></span><span class='token' style='background-color: #ffffff'>.<span class='feature_val'> (0.00)</span></span><span class='token' style='background-color: #ffffff'>\n",
       "<span class='feature_val'> (0.00)</span></span><span class='token' style='background-color: #ffffff'>\n",
       "<span class='feature_val'> (0.00)</span></span><span class='token' style='background-color: #ffffff'>�<span class='feature_val'> (0.00)</span></span><span class='token' style='background-color: #ff8c00'>�<span class='feature_val'> (2.27)</span></span><span class='token' style='background-color: #ffffff'>Despite<span class='feature_val'> (0.00)</span></span><span class='token' style='background-color: #ffffff'> this<span class='feature_val'> (0.00)</span></span><span class='token' style='background-color: #ffffff'> positive<span class='feature_val'> (0.00)</span></span><span class='token' style='background-color: #ffffff'> news<span class='feature_val'> (0.00)</span></span><span class='token' style='background-color: #ffffff'>,<span class='feature_val'> (0.00)</span></span><span class='token' style='background-color: #ffffff'> consumers<span class='feature_val'> (0.00)</span></span><span class='token' style='background-color: #ffffff'> are<span class='feature_val'> (0.00)</span></span><span class='token' style='background-color: #ffffff'> still<span class='feature_val'> (0.00)</span></span><span class='token' style='background-color: #ffffff'> ignoring<span class='feature_val'> (0.00)</span></span><span class='token' style='background-color: #ffffff'> millions<span class='feature_val'> (0.00)</span></span><span class='token' style='background-color: #ffffff'> of<span class='feature_val'> (0.00)</span></span><span class='token' style='background-color: #ffffff'> problems<span class='feature_val'> (0.00)</span></span><span class='token' style='background-color: #ffffff'> each<span class='feature_val'> (0.00)</span></span><span class='token' style='background-color: #ffffff'> year<span class='feature_val'> (0.00)</span></span><span class='token' style='background-color: #ffffff'> because<span class='feature_val'> (0.00)</span></span><span class='token' style='background-color: #ffffff'> they<span class='feature_val'> (0.00)</span></span><span class='token' style='background-color: #ffffff'>�<span class='feature_val'> (0.00)</span></span><span class='token' style='background-color: #ffffff'>�<span class='feature_val'> (0.00)</span></span><span class='token' style='background-color: #ffffff'>d<span class='feature_val'> (0.00)</span></span><span class='token' style='background-color: #ffffff'> rather<span class='feature_val'> (0.00)</span></span><span class='token' style='background-color: #ffffff'> suffer<span class='feature_val'> (0.00)</span></span><span class='token' style='background-color: #ffffff'> in<span class='feature_val'> (0.00)</span></span><span class='token' style='background-color: #ffffff'> silence<span class='feature_val'> (0.00)</span></span><span class='token' style='background-color: #ffffff'> than<span class='feature_val'> (0.00)</span></span><span class='token' style='background-color: #ffffff'> go<span class='feature_val'> (0.00)</span></span><span class='token' style='background-color: #ffffff'> through<span class='feature_val'> (0.00)</span></span><span class='token' style='background-color: #ffffff'> the<span class='feature_val'> (0.00)</span></span><span class='token' style='background-color: #ffffff'> perceived<span class='feature_val'> (0.00)</span></span><span class='token' style='background-color: #ffffff'> hassle<span class='feature_val'> (0.00)</span></span><span class='token' style='background-color: #ffffff'> of<span class='feature_val'> (0.00)</span></span><span class='token' style='background-color: #ffffff'> complaining<span class='feature_val'> (0.00)</span></span><span class='token' style='background-color: #ffffff'> –<span class='feature_val'> (0.00)</span></span><span class='token' style='background-color: #ffffff'> but<span class='feature_val'> (0.00)</span></span><span class='token' style='background-color: #ffffff'> it<span class='feature_val'> (0.00)</span></span><span class='token' style='background-color: #ffffff'>�<span class='feature_val'> (0.00)</span></span><span class='token' style='background-color: #ffffff'>�<span class='feature_val'> (0.00)</span></span><span class='token' style='background-color: #ffffff'>s<span class='feature_val'> (0.00)</span></span><span class='token' style='background-color: #ffffff'> not<span class='feature_val'> (0.00)</span></span><span class='token' style='background-color: #ffffff'> as<span class='feature_val'> (0.00)</span></span><span class='token' style='background-color: #ffffff'> complex<span class='feature_val'> (0.00)</span></span><span class='token' style='background-color: #ffffff'> and<span class='feature_val'> (0.00)</span></span><span class='token' style='background-color: #ffffff'> time<span class='feature_val'> (0.00)</span></span><span class='token' style='background-color: #ffffff'>-<span class='feature_val'> (0.00)</span></span>"
      ],
      "text/plain": [
       "<IPython.core.display.HTML object>"
      ]
     },
     "metadata": {},
     "output_type": "display_data"
    },
    {
     "data": {
      "text/html": [
       "\n",
       "    <style>\n",
       "        span.token {\n",
       "            font-family: monospace;\n",
       "            border-style: solid;\n",
       "            border-width: 1px;\n",
       "            border-color: #dddddd;\n",
       "        }\n",
       "    </style>\n",
       "    <span class='token' style='background-color: #ffffff'>&lt;|endoftext|&gt;<span class='feature_val'> (0.00)</span></span><span class='token' style='background-color: #ffffff'> result<span class='feature_val'> (0.00)</span></span><span class='token' style='background-color: #ffffff'> in<span class='feature_val'> (0.00)</span></span><span class='token' style='background-color: #ffffff'> having<span class='feature_val'> (0.00)</span></span><span class='token' style='background-color: #ffffff'> to<span class='feature_val'> (0.00)</span></span><span class='token' style='background-color: #ffffff'> lay<span class='feature_val'> (0.00)</span></span><span class='token' style='background-color: #ffffff'> off<span class='feature_val'> (0.00)</span></span><span class='token' style='background-color: #ffffff'> employees<span class='feature_val'> (0.00)</span></span><span class='token' style='background-color: #ffffff'> in<span class='feature_val'> (0.00)</span></span><span class='token' style='background-color: #ffffff'> this<span class='feature_val'> (0.00)</span></span><span class='token' style='background-color: #ffffff'> sector<span class='feature_val'> (0.00)</span></span><span class='token' style='background-color: #ffd6a5'>.<span class='feature_val'> (0.82)</span></span><span class='token' style='background-color: #ffffff'>�<span class='feature_val'> (0.00)</span></span><span class='token' style='background-color: #ffffff'>�<span class='feature_val'> (0.00)</span></span><span class='token' style='background-color: #ffffff'>\n",
       "<span class='feature_val'> (0.00)</span></span><span class='token' style='background-color: #ffffff'>\n",
       "<span class='feature_val'> (0.00)</span></span><span class='token' style='background-color: #ffffff'>She<span class='feature_val'> (0.00)</span></span><span class='token' style='background-color: #ffffff'> says<span class='feature_val'> (0.00)</span></span><span class='token' style='background-color: #ffffff'> weekly<span class='feature_val'> (0.00)</span></span><span class='token' style='background-color: #ffffff'> monitoring<span class='feature_val'> (0.00)</span></span><span class='token' style='background-color: #ffffff'> is<span class='feature_val'> (0.00)</span></span><span class='token' style='background-color: #ffffff'> indicating<span class='feature_val'> (0.00)</span></span><span class='token' style='background-color: #ffffff'> no<span class='feature_val'> (0.00)</span></span><span class='token' style='background-color: #ffffff'> significant<span class='feature_val'> (0.00)</span></span><span class='token' style='background-color: #ffffff'> losses<span class='feature_val'> (0.00)</span></span><span class='token' style='background-color: #ffffff'> because<span class='feature_val'> (0.00)</span></span><span class='token' style='background-color: #ffffff'> tourists<span class='feature_val'> (0.00)</span></span><span class='token' style='background-color: #ffffff'> are<span class='feature_val'> (0.00)</span></span><span class='token' style='background-color: #ffffff'> simply<span class='feature_val'> (0.00)</span></span><span class='token' style='background-color: #ffffff'> changing<span class='feature_val'> (0.00)</span></span><span class='token' style='background-color: #ffffff'> their<span class='feature_val'> (0.00)</span></span><span class='token' style='background-color: #ffffff'> plans<span class='feature_val'> (0.00)</span></span><span class='token' style='background-color: #ffffff'> to<span class='feature_val'> (0.00)</span></span><span class='token' style='background-color: #ffffff'> visit<span class='feature_val'> (0.00)</span></span><span class='token' style='background-color: #ffffff'> other<span class='feature_val'> (0.00)</span></span><span class='token' style='background-color: #ffffff'> parts<span class='feature_val'> (0.00)</span></span><span class='token' style='background-color: #ffffff'> of<span class='feature_val'> (0.00)</span></span><span class='token' style='background-color: #ffffff'> BC<span class='feature_val'> (0.00)</span></span><span class='token' style='background-color: #ffffff'>.<span class='feature_val'> (0.00)</span></span><span class='token' style='background-color: #ffffff'> That<span class='feature_val'> (0.00)</span></span><span class='token' style='background-color: #ffffff'> means<span class='feature_val'> (0.00)</span></span><span class='token' style='background-color: #ffffff'> some<span class='feature_val'> (0.00)</span></span><span class='token' style='background-color: #ffffff'> other<span class='feature_val'> (0.00)</span></span><span class='token' style='background-color: #ffffff'> communities<span class='feature_val'> (0.00)</span></span><span class='token' style='background-color: #ffffff'> are<span class='feature_val'> (0.00)</span></span><span class='token' style='background-color: #ffffff'> benefiting<span class='feature_val'> (0.00)</span></span><span class='token' style='background-color: #ffffff'> from<span class='feature_val'> (0.00)</span></span><span class='token' style='background-color: #ffffff'> fire<span class='feature_val'> (0.00)</span></span><span class='token' style='background-color: #ffffff'>-<span class='feature_val'> (0.00)</span></span><span class='token' style='background-color: #ffffff'>related<span class='feature_val'> (0.00)</span></span><span class='token' style='background-color: #ffffff'> det<span class='feature_val'> (0.00)</span></span><span class='token' style='background-color: #ffffff'>ours<span class='feature_val'> (0.00)</span></span><span class='token' style='background-color: #ffffff'>.<span class='feature_val'> (0.00)</span></span><span class='token' style='background-color: #ffffff'>\n",
       "<span class='feature_val'> (0.00)</span></span><span class='token' style='background-color: #ffffff'>\n",
       "<span class='feature_val'> (0.00)</span></span><span class='token' style='background-color: #ffffff'>L<span class='feature_val'> (0.00)</span></span><span class='token' style='background-color: #ffffff'>ange<span class='feature_val'> (0.00)</span></span><span class='token' style='background-color: #ffffff'> says<span class='feature_val'> (0.00)</span></span><span class='token' style='background-color: #ffffff'> tourism<span class='feature_val'> (0.00)</span></span><span class='token' style='background-color: #ffffff'> has<span class='feature_val'> (0.00)</span></span><span class='token' style='background-color: #ffffff'> been<span class='feature_val'> (0.00)</span></span><span class='token' style='background-color: #ffffff'> good<span class='feature_val'> (0.00)</span></span><span class='token' style='background-color: #ffffff'> for<span class='feature_val'> (0.00)</span></span><span class='token' style='background-color: #ffffff'> a<span class='feature_val'> (0.00)</span></span><span class='token' style='background-color: #ffffff'> few<span class='feature_val'> (0.00)</span></span><span class='token' style='background-color: #ffffff'> smaller<span class='feature_val'> (0.00)</span></span><span class='token' style='background-color: #ffffff'> towns<span class='feature_val'> (0.00)</span></span><span class='token' style='background-color: #ffffff'> usually<span class='feature_val'> (0.00)</span></span><span class='token' style='background-color: #ffffff'> ignored<span class='feature_val'> (0.00)</span></span><span class='token' style='background-color: #ffffff'> by<span class='feature_val'> (0.00)</span></span><span class='token' style='background-color: #ffffff'> summer<span class='feature_val'> (0.00)</span></span><span class='token' style='background-color: #ffffff'> visitors<span class='feature_val'> (0.00)</span></span><span class='token' style='background-color: #ffffff'>.<span class='feature_val'> (0.00)</span></span><span class='token' style='background-color: #ffffff'>\n",
       "<span class='feature_val'> (0.00)</span></span><span class='token' style='background-color: #ffffff'>\n",
       "<span class='feature_val'> (0.00)</span></span><span class='token' style='background-color: #ffffff'>�<span class='feature_val'> (0.00)</span></span><span class='token' style='background-color: #ff8c00'>�<span class='feature_val'> (2.34)</span></span><span class='token' style='background-color: #ffffff'>Tour<span class='feature_val'> (0.00)</span></span><span class='token' style='background-color: #ffffff'>ism<span class='feature_val'> (0.00)</span></span><span class='token' style='background-color: #ffffff'> numbers<span class='feature_val'> (0.00)</span></span><span class='token' style='background-color: #ffffff'> are<span class='feature_val'> (0.00)</span></span><span class='token' style='background-color: #ffffff'> on<span class='feature_val'> (0.00)</span></span><span class='token' style='background-color: #ffffff'> track<span class='feature_val'> (0.00)</span></span><span class='token' style='background-color: #ffffff'>,<span class='feature_val'> (0.00)</span></span><span class='token' style='background-color: #ffffff'> but<span class='feature_val'> (0.00)</span></span><span class='token' style='background-color: #ffffff'> our<span class='feature_val'> (0.00)</span></span><span class='token' style='background-color: #ffffff'> data<span class='feature_val'> (0.00)</span></span><span class='token' style='background-color: #ffffff'> is<span class='feature_val'> (0.00)</span></span><span class='token' style='background-color: #ffffff'> not<span class='feature_val'> (0.00)</span></span><span class='token' style='background-color: #ffffff'> in<span class='feature_val'> (0.00)</span></span><span class='token' style='background-color: #ffffff'> real<span class='feature_val'> (0.00)</span></span><span class='token' style='background-color: #ffffff'> time<span class='feature_val'> (0.00)</span></span><span class='token' style='background-color: #ffffff'>,<span class='feature_val'> (0.00)</span></span><span class='token' style='background-color: #ffffff'> so<span class='feature_val'> (0.00)</span></span><span class='token' style='background-color: #ffffff'> we<span class='feature_val'> (0.00)</span></span><span class='token' style='background-color: #ffffff'>�<span class='feature_val'> (0.00)</span></span><span class='token' style='background-color: #ffffff'>�<span class='feature_val'> (0.00)</span></span><span class='token' style='background-color: #ffffff'>re<span class='feature_val'> (0.00)</span></span><span class='token' style='background-color: #ffffff'> sort<span class='feature_val'> (0.00)</span></span><span class='token' style='background-color: #ffffff'> of<span class='feature_val'> (0.00)</span></span><span class='token' style='background-color: #ffffff'> monitoring<span class='feature_val'> (0.00)</span></span><span class='token' style='background-color: #ffffff'> it<span class='feature_val'> (0.00)</span></span><span class='token' style='background-color: #ffffff'> week<span class='feature_val'> (0.00)</span></span><span class='token' style='background-color: #ffffff'> by<span class='feature_val'> (0.00)</span></span><span class='token' style='background-color: #ffffff'> week<span class='feature_val'> (0.00)</span></span><span class='token' style='background-color: #ffffff'>,<span class='feature_val'> (0.00)</span></span><span class='token' style='background-color: #ffffff'> but<span class='feature_val'> (0.00)</span></span><span class='token' style='background-color: #ffffff'> it<span class='feature_val'> (0.00)</span></span><span class='token' style='background-color: #ffffff'> looks<span class='feature_val'> (0.00)</span></span><span class='token' style='background-color: #ffffff'> like<span class='feature_val'> (0.00)</span></span><span class='token' style='background-color: #ffffff'> we<span class='feature_val'> (0.00)</span></span><span class='token' style='background-color: #ffffff'>�<span class='feature_val'> (0.00)</span></span><span class='token' style='background-color: #ffffff'>�<span class='feature_val'> (0.00)</span></span><span class='token' style='background-color: #ffffff'>re<span class='feature_val'> (0.00)</span></span><span class='token' style='background-color: #ffffff'> on<span class='feature_val'> (0.00)</span></span><span class='token' style='background-color: #ffffff'> track<span class='feature_val'> (0.00)</span></span><span class='token' style='background-color: #ffffff'> without<span class='feature_val'> (0.00)</span></span><span class='token' style='background-color: #ffffff'> any<span class='feature_val'> (0.00)</span></span><span class='token' style='background-color: #ffffff'> major<span class='feature_val'> (0.00)</span></span><span class='token' style='background-color: #ffffff'> significant<span class='feature_val'> (0.00)</span></span><span class='token' style='background-color: #ffffff'> impacts<span class='feature_val'> (0.00)</span></span><span class='token' style='background-color: #ffffff'>,<span class='feature_val'> (0.00)</span></span><span class='token' style='background-color: #ffffff'> so<span class='feature_val'> (0.00)</span></span><span class='token' style='background-color: #ffffff'> we<span class='feature_val'> (0.00)</span></span><span class='token' style='background-color: #ffffff'>�<span class='feature_val'> (0.00)</span></span><span class='token' style='background-color: #ffffff'>�<span class='feature_val'> (0.00)</span></span><span class='token' style='background-color: #ffffff'>ll<span class='feature_val'> (0.00)</span></span><span class='token' style='background-color: #ffffff'> see<span class='feature_val'> (0.00)</span></span>"
      ],
      "text/plain": [
       "<IPython.core.display.HTML object>"
      ]
     },
     "metadata": {},
     "output_type": "display_data"
    },
    {
     "data": {
      "text/html": [
       "\n",
       "    <style>\n",
       "        span.token {\n",
       "            font-family: monospace;\n",
       "            border-style: solid;\n",
       "            border-width: 1px;\n",
       "            border-color: #dddddd;\n",
       "        }\n",
       "    </style>\n",
       "    <span class='token' style='background-color: #ffffff'>&lt;|endoftext|&gt;<span class='feature_val'> (0.00)</span></span><span class='token' style='background-color: #ffffff'> ready<span class='feature_val'> (0.00)</span></span><span class='token' style='background-color: #ffffff'> by<span class='feature_val'> (0.00)</span></span><span class='token' style='background-color: #ffffff'> the<span class='feature_val'> (0.00)</span></span><span class='token' style='background-color: #ffffff'> start<span class='feature_val'> (0.00)</span></span><span class='token' style='background-color: #ffffff'> of<span class='feature_val'> (0.00)</span></span><span class='token' style='background-color: #ffffff'> 2017<span class='feature_val'> (0.00)</span></span><span class='token' style='background-color: #ffffff'> �<span class='feature_val'> (0.00)</span></span><span class='token' style='background-color: #ffffff'>�<span class='feature_val'> (0.00)</span></span><span class='token' style='background-color: #ffffff'>at<span class='feature_val'> (0.00)</span></span><span class='token' style='background-color: #ffffff'> the<span class='feature_val'> (0.00)</span></span><span class='token' style='background-color: #ffffff'> latest<span class='feature_val'> (0.00)</span></span><span class='token' style='background-color: #ffd097'>.<span class='feature_val'> (0.90)</span></span><span class='token' style='background-color: #ffffff'>�<span class='feature_val'> (0.00)</span></span><span class='token' style='background-color: #ffffff'>�<span class='feature_val'> (0.00)</span></span><span class='token' style='background-color: #ffffff'> The<span class='feature_val'> (0.00)</span></span><span class='token' style='background-color: #ffffff'> building<span class='feature_val'> (0.00)</span></span><span class='token' style='background-color: #ffffff'> is<span class='feature_val'> (0.00)</span></span><span class='token' style='background-color: #ffffff'> now<span class='feature_val'> (0.00)</span></span><span class='token' style='background-color: #ffffff'> scheduled<span class='feature_val'> (0.00)</span></span><span class='token' style='background-color: #ffffff'> to<span class='feature_val'> (0.00)</span></span><span class='token' style='background-color: #ffffff'> be<span class='feature_val'> (0.00)</span></span><span class='token' style='background-color: #ffffff'> finished<span class='feature_val'> (0.00)</span></span><span class='token' style='background-color: #ffffff'> by<span class='feature_val'> (0.00)</span></span><span class='token' style='background-color: #ffffff'> the<span class='feature_val'> (0.00)</span></span><span class='token' style='background-color: #ffffff'> end<span class='feature_val'> (0.00)</span></span><span class='token' style='background-color: #ffffff'> of<span class='feature_val'> (0.00)</span></span><span class='token' style='background-color: #ffffff'> June<span class='feature_val'> (0.00)</span></span><span class='token' style='background-color: #ffffff'>.<span class='feature_val'> (0.00)</span></span><span class='token' style='background-color: #ffffff'>\n",
       "<span class='feature_val'> (0.00)</span></span><span class='token' style='background-color: #ffffff'>\n",
       "<span class='feature_val'> (0.00)</span></span><span class='token' style='background-color: #ffffff'>The<span class='feature_val'> (0.00)</span></span><span class='token' style='background-color: #ffffff'> report<span class='feature_val'> (0.00)</span></span><span class='token' style='background-color: #ffffff'> notes<span class='feature_val'> (0.00)</span></span><span class='token' style='background-color: #ffffff'> the<span class='feature_val'> (0.00)</span></span><span class='token' style='background-color: #ffffff'> current<span class='feature_val'> (0.00)</span></span><span class='token' style='background-color: #ffffff'> building<span class='feature_val'> (0.00)</span></span><span class='token' style='background-color: #ffffff'> �<span class='feature_val'> (0.00)</span></span><span class='token' style='background-color: #ffffff'>�<span class='feature_val'> (0.00)</span></span><span class='token' style='background-color: #ffffff'>me<span class='feature_val'> (0.00)</span></span><span class='token' style='background-color: #ffffff'>ets<span class='feature_val'> (0.00)</span></span><span class='token' style='background-color: #ffffff'> Qatar<span class='feature_val'> (0.00)</span></span><span class='token' style='background-color: #ffffff'>�<span class='feature_val'> (0.00)</span></span><span class='token' style='background-color: #ffffff'>�<span class='feature_val'> (0.00)</span></span><span class='token' style='background-color: #ffffff'>s<span class='feature_val'> (0.00)</span></span><span class='token' style='background-color: #ffffff'> building<span class='feature_val'> (0.00)</span></span><span class='token' style='background-color: #ffffff'> and<span class='feature_val'> (0.00)</span></span><span class='token' style='background-color: #ffffff'> safety<span class='feature_val'> (0.00)</span></span><span class='token' style='background-color: #ffffff'> requirements<span class='feature_val'> (0.00)</span></span><span class='token' style='background-color: #ffffff'>�<span class='feature_val'> (0.00)</span></span><span class='token' style='background-color: #ffffff'>�<span class='feature_val'> (0.00)</span></span><span class='token' style='background-color: #ffffff'> and<span class='feature_val'> (0.00)</span></span><span class='token' style='background-color: #ffffff'> was<span class='feature_val'> (0.00)</span></span><span class='token' style='background-color: #ffffff'> �<span class='feature_val'> (0.00)</span></span><span class='token' style='background-color: #ffffff'>�<span class='feature_val'> (0.00)</span></span><span class='token' style='background-color: #ffffff'>su<span class='feature_val'> (0.00)</span></span><span class='token' style='background-color: #ffffff'>itable<span class='feature_val'> (0.00)</span></span><span class='token' style='background-color: #ffffff'> and<span class='feature_val'> (0.00)</span></span><span class='token' style='background-color: #ffffff'> adequate<span class='feature_val'> (0.00)</span></span><span class='token' style='background-color: #ffffff'> to<span class='feature_val'> (0.00)</span></span><span class='token' style='background-color: #ffffff'> support<span class='feature_val'> (0.00)</span></span><span class='token' style='background-color: #ffffff'> the<span class='feature_val'> (0.00)</span></span><span class='token' style='background-color: #ffffff'> B<span class='feature_val'> (0.00)</span></span><span class='token' style='background-color: #ffffff'>.<span class='feature_val'> (0.00)</span></span><span class='token' style='background-color: #ffffff'>C<span class='feature_val'> (0.00)</span></span><span class='token' style='background-color: #ffffff'>.<span class='feature_val'> (0.00)</span></span><span class='token' style='background-color: #ffffff'> program<span class='feature_val'> (0.00)</span></span><span class='token' style='background-color: #ffffff'>.<span class='feature_val'> (0.00)</span></span><span class='token' style='background-color: #ffffff'>�<span class='feature_val'> (0.00)</span></span><span class='token' style='background-color: #ffffff'>�<span class='feature_val'> (0.00)</span></span><span class='token' style='background-color: #ffffff'>\n",
       "<span class='feature_val'> (0.00)</span></span><span class='token' style='background-color: #ffffff'>\n",
       "<span class='feature_val'> (0.00)</span></span><span class='token' style='background-color: #ffffff'>The<span class='feature_val'> (0.00)</span></span><span class='token' style='background-color: #ffffff'> former<span class='feature_val'> (0.00)</span></span><span class='token' style='background-color: #ffffff'> employees<span class='feature_val'> (0.00)</span></span><span class='token' style='background-color: #ffffff'> disagree<span class='feature_val'> (0.00)</span></span><span class='token' style='background-color: #ffffff'>.<span class='feature_val'> (0.00)</span></span><span class='token' style='background-color: #ffffff'>\n",
       "<span class='feature_val'> (0.00)</span></span><span class='token' style='background-color: #ffffff'>\n",
       "<span class='feature_val'> (0.00)</span></span><span class='token' style='background-color: #ffffff'>�<span class='feature_val'> (0.00)</span></span><span class='token' style='background-color: #ff8c00'>�<span class='feature_val'> (2.22)</span></span><span class='token' style='background-color: #ffffff'>The<span class='feature_val'> (0.00)</span></span><span class='token' style='background-color: #ffffff'> current<span class='feature_val'> (0.00)</span></span><span class='token' style='background-color: #ffffff'> campus<span class='feature_val'> (0.00)</span></span><span class='token' style='background-color: #ffffff'> was<span class='feature_val'> (0.00)</span></span><span class='token' style='background-color: #ffffff'> wo<span class='feature_val'> (0.00)</span></span><span class='token' style='background-color: #ffffff'>efully<span class='feature_val'> (0.00)</span></span><span class='token' style='background-color: #ffffff'> inadequate<span class='feature_val'> (0.00)</span></span><span class='token' style='background-color: #ffffff'> for<span class='feature_val'> (0.00)</span></span><span class='token' style='background-color: #ffffff'> our<span class='feature_val'> (0.00)</span></span><span class='token' style='background-color: #ffffff'> needs<span class='feature_val'> (0.00)</span></span><span class='token' style='background-color: #ffffff'>,<span class='feature_val'> (0.00)</span></span><span class='token' style='background-color: #ffffff'>�<span class='feature_val'> (0.00)</span></span><span class='token' style='background-color: #ffffff'>�<span class='feature_val'> (0.00)</span></span><span class='token' style='background-color: #ffffff'> said<span class='feature_val'> (0.00)</span></span><span class='token' style='background-color: #ffffff'> the<span class='feature_val'> (0.00)</span></span><span class='token' style='background-color: #ffffff'> former<span class='feature_val'> (0.00)</span></span><span class='token' style='background-color: #ffffff'> Grade<span class='feature_val'> (0.00)</span></span><span class='token' style='background-color: #ffffff'> 8<span class='feature_val'> (0.00)</span></span><span class='token' style='background-color: #ffffff'> and<span class='feature_val'> (0.00)</span></span><span class='token' style='background-color: #ffffff'> 9<span class='feature_val'> (0.00)</span></span><span class='token' style='background-color: #ffffff'> teacher<span class='feature_val'> (0.00)</span></span><span class='token' style='background-color: #ffffff'>.<span class='feature_val'> (0.00)</span></span><span class='token' style='background-color: #ffffff'> �<span class='feature_val'> (0.00)</span></span><span class='token' style='background-color: #ffffff'>�<span class='feature_val'> (0.00)</span></span><span class='token' style='background-color: #ffffff'>It<span class='feature_val'> (0.00)</span></span><span class='token' style='background-color: #ffffff'> had<span class='feature_val'> (0.00)</span></span><span class='token' style='background-color: #ffffff'> no<span class='feature_val'> (0.00)</span></span><span class='token' style='background-color: #ffffff'> proper<span class='feature_val'> (0.00)</span></span><span class='token' style='background-color: #ffffff'> [<span class='feature_val'> (0.00)</span></span><span class='token' style='background-color: #ffffff'>physical<span class='feature_val'> (0.00)</span></span><span class='token' style='background-color: #ffffff'> education<span class='feature_val'> (0.00)</span></span><span class='token' style='background-color: #ffffff'>]<span class='feature_val'> (0.00)</span></span><span class='token' style='background-color: #ffffff'> space<span class='feature_val'> (0.00)</span></span><span class='token' style='background-color: #ffffff'>,<span class='feature_val'> (0.00)</span></span><span class='token' style='background-color: #ffffff'> classrooms<span class='feature_val'> (0.00)</span></span><span class='token' style='background-color: #ffffff'> were<span class='feature_val'> (0.00)</span></span><span class='token' style='background-color: #ffffff'> extremely<span class='feature_val'> (0.00)</span></span><span class='token' style='background-color: #ffffff'> cramped<span class='feature_val'> (0.00)</span></span><span class='token' style='background-color: #ffffff'>,<span class='feature_val'> (0.00)</span></span><span class='token' style='background-color: #ffffff'> they<span class='feature_val'> (0.00)</span></span><span class='token' style='background-color: #ffffff'> leaked<span class='feature_val'> (0.00)</span></span><span class='token' style='background-color: #ffffff'> when<span class='feature_val'> (0.00)</span></span><span class='token' style='background-color: #ffffff'> it<span class='feature_val'> (0.00)</span></span><span class='token' style='background-color: #ffffff'> r<span class='feature_val'> (0.00)</span></span><span class='token' style='background-color: #ffffff'>ained<span class='feature_val'> (0.00)</span></span><span class='token' style='background-color: #ffffff'>,<span class='feature_val'> (0.00)</span></span><span class='token' style='background-color: #ffffff'> and<span class='feature_val'> (0.00)</span></span>"
      ],
      "text/plain": [
       "<IPython.core.display.HTML object>"
      ]
     },
     "metadata": {},
     "output_type": "display_data"
    },
    {
     "data": {
      "text/html": [
       "\n",
       "    <style>\n",
       "        span.token {\n",
       "            font-family: monospace;\n",
       "            border-style: solid;\n",
       "            border-width: 1px;\n",
       "            border-color: #dddddd;\n",
       "        }\n",
       "    </style>\n",
       "    <span class='token' style='background-color: #ffffff'>&lt;|endoftext|&gt;<span class='feature_val'> (0.00)</span></span><span class='token' style='background-color: #ffffff'> the<span class='feature_val'> (0.00)</span></span><span class='token' style='background-color: #ffffff'> greatest<span class='feature_val'> (0.00)</span></span><span class='token' style='background-color: #ffffff'> concerns<span class='feature_val'> (0.00)</span></span><span class='token' style='background-color: #ffffff'> is<span class='feature_val'> (0.00)</span></span><span class='token' style='background-color: #ffffff'> that<span class='feature_val'> (0.00)</span></span><span class='token' style='background-color: #ffffff'> substances<span class='feature_val'> (0.00)</span></span><span class='token' style='background-color: #ffffff'> are<span class='feature_val'> (0.00)</span></span><span class='token' style='background-color: #ffffff'> used<span class='feature_val'> (0.00)</span></span><span class='token' style='background-color: #ffffff'> without<span class='feature_val'> (0.00)</span></span><span class='token' style='background-color: #ffffff'> full<span class='feature_val'> (0.00)</span></span><span class='token' style='background-color: #ffffff'> knowledge<span class='feature_val'> (0.00)</span></span><span class='token' style='background-color: #ffffff'> of<span class='feature_val'> (0.00)</span></span><span class='token' style='background-color: #ffffff'> the<span class='feature_val'> (0.00)</span></span><span class='token' style='background-color: #ffffff'> effects<span class='feature_val'> (0.00)</span></span><span class='token' style='background-color: #ffffff'> or<span class='feature_val'> (0.00)</span></span><span class='token' style='background-color: #ffffff'> safe<span class='feature_val'> (0.00)</span></span><span class='token' style='background-color: #ffffff'> dos<span class='feature_val'> (0.00)</span></span><span class='token' style='background-color: #ffffff'>ages<span class='feature_val'> (0.00)</span></span><span class='token' style='background-color: #ffffff'>,<span class='feature_val'> (0.00)</span></span><span class='token' style='background-color: #ffffff'> and<span class='feature_val'> (0.00)</span></span><span class='token' style='background-color: #ffffff'> without<span class='feature_val'> (0.00)</span></span><span class='token' style='background-color: #ffffff'> clinical<span class='feature_val'> (0.00)</span></span><span class='token' style='background-color: #ffffff'> consultation<span class='feature_val'> (0.00)</span></span><span class='token' style='background-color: #ffffff'>.<span class='feature_val'> (0.00)</span></span><span class='token' style='background-color: #ffffff'>\n",
       "<span class='feature_val'> (0.00)</span></span><span class='token' style='background-color: #ffffff'>\n",
       "<span class='feature_val'> (0.00)</span></span><span class='token' style='background-color: #ffffff'>&gt;&gt;&gt;<span class='feature_val'> (0.00)</span></span><span class='token' style='background-color: #ffffff'> 55<span class='feature_val'> (0.00)</span></span><span class='token' style='background-color: #ffffff'>-<span class='feature_val'> (0.00)</span></span><span class='token' style='background-color: #ffffff'>year<span class='feature_val'> (0.00)</span></span><span class='token' style='background-color: #ffffff'>-<span class='feature_val'> (0.00)</span></span><span class='token' style='background-color: #ffffff'>old<span class='feature_val'> (0.00)</span></span><span class='token' style='background-color: #ffffff'> British<span class='feature_val'> (0.00)</span></span><span class='token' style='background-color: #ffffff'> amateur<span class='feature_val'> (0.00)</span></span><span class='token' style='background-color: #ffffff'> cyclist<span class='feature_val'> (0.00)</span></span><span class='token' style='background-color: #ffffff'> banned<span class='feature_val'> (0.00)</span></span><span class='token' style='background-color: #ffffff'> after<span class='feature_val'> (0.00)</span></span><span class='token' style='background-color: #ffffff'> failed<span class='feature_val'> (0.00)</span></span><span class='token' style='background-color: #ffffff'> dope<span class='feature_val'> (0.00)</span></span><span class='token' style='background-color: #ffffff'> test<span class='feature_val'> (0.00)</span></span><span class='token' style='background-color: #ffffff'>\n",
       "<span class='feature_val'> (0.00)</span></span><span class='token' style='background-color: #ffffff'>\n",
       "<span class='feature_val'> (0.00)</span></span><span class='token' style='background-color: #ffffff'>If<span class='feature_val'> (0.00)</span></span><span class='token' style='background-color: #ffffff'> you<span class='feature_val'> (0.00)</span></span><span class='token' style='background-color: #ffffff'> are<span class='feature_val'> (0.00)</span></span><span class='token' style='background-color: #ffffff'> taking<span class='feature_val'> (0.00)</span></span><span class='token' style='background-color: #ffffff'> a<span class='feature_val'> (0.00)</span></span><span class='token' style='background-color: #ffffff'> drug<span class='feature_val'> (0.00)</span></span><span class='token' style='background-color: #ffffff'> potent<span class='feature_val'> (0.00)</span></span><span class='token' style='background-color: #ffffff'> enough<span class='feature_val'> (0.00)</span></span><span class='token' style='background-color: #ffffff'> to<span class='feature_val'> (0.00)</span></span><span class='token' style='background-color: #ffffff'> enhance<span class='feature_val'> (0.00)</span></span><span class='token' style='background-color: #ffffff'> your<span class='feature_val'> (0.00)</span></span><span class='token' style='background-color: #ffffff'> cycling<span class='feature_val'> (0.00)</span></span><span class='token' style='background-color: #ffffff'> performance<span class='feature_val'> (0.00)</span></span><span class='token' style='background-color: #ffffff'>,<span class='feature_val'> (0.00)</span></span><span class='token' style='background-color: #ffffff'> without<span class='feature_val'> (0.00)</span></span><span class='token' style='background-color: #ffffff'> medical<span class='feature_val'> (0.00)</span></span><span class='token' style='background-color: #ffffff'> approval<span class='feature_val'> (0.00)</span></span><span class='token' style='background-color: #ffffff'>,<span class='feature_val'> (0.00)</span></span><span class='token' style='background-color: #ffffff'> you<span class='feature_val'> (0.00)</span></span><span class='token' style='background-color: #ffffff'> are<span class='feature_val'> (0.00)</span></span><span class='token' style='background-color: #ffffff'> taking<span class='feature_val'> (0.00)</span></span><span class='token' style='background-color: #ffffff'> a<span class='feature_val'> (0.00)</span></span><span class='token' style='background-color: #ffffff'> very<span class='feature_val'> (0.00)</span></span><span class='token' style='background-color: #ffffff'> serious<span class='feature_val'> (0.00)</span></span><span class='token' style='background-color: #ffffff'> risk<span class='feature_val'> (0.00)</span></span><span class='token' style='background-color: #ffffff'> with<span class='feature_val'> (0.00)</span></span><span class='token' style='background-color: #ffffff'> your<span class='feature_val'> (0.00)</span></span><span class='token' style='background-color: #ffffff'> health<span class='feature_val'> (0.00)</span></span><span class='token' style='background-color: #ffffff'>.<span class='feature_val'> (0.00)</span></span><span class='token' style='background-color: #ffffff'>\n",
       "<span class='feature_val'> (0.00)</span></span><span class='token' style='background-color: #ffffff'>\n",
       "<span class='feature_val'> (0.00)</span></span><span class='token' style='background-color: #ffffff'>�<span class='feature_val'> (0.00)</span></span><span class='token' style='background-color: #ff8c00'>�<span class='feature_val'> (2.38)</span></span><span class='token' style='background-color: #ffffff'>There<span class='feature_val'> (0.00)</span></span><span class='token' style='background-color: #ffffff'> is<span class='feature_val'> (0.00)</span></span><span class='token' style='background-color: #ffffff'> a<span class='feature_val'> (0.00)</span></span><span class='token' style='background-color: #ffffff'> lack<span class='feature_val'> (0.00)</span></span><span class='token' style='background-color: #ffffff'> of<span class='feature_val'> (0.00)</span></span><span class='token' style='background-color: #ffffff'> data<span class='feature_val'> (0.00)</span></span><span class='token' style='background-color: #ffffff'> on<span class='feature_val'> (0.00)</span></span><span class='token' style='background-color: #ffffff'> safety<span class='feature_val'> (0.00)</span></span><span class='token' style='background-color: #ffffff'> and<span class='feature_val'> (0.00)</span></span><span class='token' style='background-color: #ffffff'> substance<span class='feature_val'> (0.00)</span></span><span class='token' style='background-color: #ffffff'> misuse<span class='feature_val'> (0.00)</span></span><span class='token' style='background-color: #ffffff'> in<span class='feature_val'> (0.00)</span></span><span class='token' style='background-color: #ffffff'> sport<span class='feature_val'> (0.00)</span></span><span class='token' style='background-color: #ffffff'>,<span class='feature_val'> (0.00)</span></span><span class='token' style='background-color: #ffffff'>�<span class='feature_val'> (0.00)</span></span><span class='token' style='background-color: #ffffff'>�<span class='feature_val'> (0.00)</span></span><span class='token' style='background-color: #ffffff'> confirms<span class='feature_val'> (0.00)</span></span><span class='token' style='background-color: #ffffff'> pharm<span class='feature_val'> (0.00)</span></span><span class='token' style='background-color: #ffffff'>acist<span class='feature_val'> (0.00)</span></span><span class='token' style='background-color: #ffffff'> Dominic<span class='feature_val'> (0.00)</span></span><span class='token' style='background-color: #ffffff'> Os<span class='feature_val'> (0.00)</span></span><span class='token' style='background-color: #ffffff'>man<span class='feature_val'> (0.00)</span></span><span class='token' style='background-color: #ffffff'>-<span class='feature_val'> (0.00)</span></span><span class='token' style='background-color: #ffffff'>All<span class='feature_val'> (0.00)</span></span><span class='token' style='background-color: #ffffff'>u<span class='feature_val'> (0.00)</span></span><span class='token' style='background-color: #ffffff'>.<span class='feature_val'> (0.00)</span></span><span class='token' style='background-color: #ffffff'>\n",
       "<span class='feature_val'> (0.00)</span></span><span class='token' style='background-color: #ffffff'>\n",
       "<span class='feature_val'> (0.00)</span></span><span class='token' style='background-color: #ffffff'>�<span class='feature_val'> (0.00)</span></span><span class='token' style='background-color: #ffdbb0'>�<span class='feature_val'> (0.73)</span></span><span class='token' style='background-color: #ffffff'>The<span class='feature_val'> (0.00)</span></span><span class='token' style='background-color: #ffffff'> side<span class='feature_val'> (0.00)</span></span><span class='token' style='background-color: #ffffff'> effects<span class='feature_val'> (0.00)</span></span><span class='token' style='background-color: #ffffff'> of<span class='feature_val'> (0.00)</span></span><span class='token' style='background-color: #ffffff'> steroids<span class='feature_val'> (0.00)</span></span><span class='token' style='background-color: #ffffff'> are<span class='feature_val'> (0.00)</span></span><span class='token' style='background-color: #ffffff'> well<span class='feature_val'> (0.00)</span></span><span class='token' style='background-color: #ffffff'> documented<span class='feature_val'> (0.00)</span></span><span class='token' style='background-color: #ffffff'>,<span class='feature_val'> (0.00)</span></span><span class='token' style='background-color: #ffffff'> and<span class='feature_val'> (0.00)</span></span><span class='token' style='background-color: #ffffff'> there<span class='feature_val'> (0.00)</span></span><span class='token' style='background-color: #ffffff'> are<span class='feature_val'> (0.00)</span></span><span class='token' style='background-color: #ffffff'> obvious<span class='feature_val'> (0.00)</span></span><span class='token' style='background-color: #ffffff'> risks<span class='feature_val'> (0.00)</span></span><span class='token' style='background-color: #ffffff'> from<span class='feature_val'> (0.00)</span></span><span class='token' style='background-color: #ffffff'> EP<span class='feature_val'> (0.00)</span></span><span class='token' style='background-color: #ffffff'>O<span class='feature_val'> (0.00)</span></span><span class='token' style='background-color: #ffffff'>:<span class='feature_val'> (0.00)</span></span><span class='token' style='background-color: #ffffff'> thick<span class='feature_val'> (0.00)</span></span><span class='token' style='background-color: #ffffff'>ening<span class='feature_val'> (0.00)</span></span><span class='token' style='background-color: #ffffff'> of<span class='feature_val'> (0.00)</span></span><span class='token' style='background-color: #ffffff'> blood<span class='feature_val'> (0.00)</span></span>"
      ],
      "text/plain": [
       "<IPython.core.display.HTML object>"
      ]
     },
     "metadata": {},
     "output_type": "display_data"
    },
    {
     "data": {
      "text/html": [
       "\n",
       "    <style>\n",
       "        span.token {\n",
       "            font-family: monospace;\n",
       "            border-style: solid;\n",
       "            border-width: 1px;\n",
       "            border-color: #dddddd;\n",
       "        }\n",
       "    </style>\n",
       "    <span class='token' style='background-color: #ffffff'>&lt;|endoftext|&gt;<span class='feature_val'> (0.00)</span></span><span class='token' style='background-color: #ffffff'> the<span class='feature_val'> (0.00)</span></span><span class='token' style='background-color: #ffffff'> world<span class='feature_val'> (0.00)</span></span><span class='token' style='background-color: #ffffff'> like<span class='feature_val'> (0.00)</span></span><span class='token' style='background-color: #ffffff'> its<span class='feature_val'> (0.00)</span></span><span class='token' style='background-color: #ffffff'> happy<span class='feature_val'> (0.00)</span></span><span class='token' style='background-color: #ffffff'> rival<span class='feature_val'> (0.00)</span></span><span class='token' style='background-color: #ffffff'> the<span class='feature_val'> (0.00)</span></span><span class='token' style='background-color: #ffffff'> tr<span class='feature_val'> (0.00)</span></span><span class='token' style='background-color: #ffffff'>icol<span class='feature_val'> (0.00)</span></span><span class='token' style='background-color: #ffffff'>our<span class='feature_val'> (0.00)</span></span><span class='token' style='background-color: #ffd39f'>.<span class='feature_val'> (0.76)</span></span><span class='token' style='background-color: #ffffff'> Justice<span class='feature_val'> (0.00)</span></span><span class='token' style='background-color: #ffffff'>,<span class='feature_val'> (0.00)</span></span><span class='token' style='background-color: #ffffff'> M<span class='feature_val'> (0.00)</span></span><span class='token' style='background-color: #ffedd8'>.<span class='feature_val'> (0.31)</span></span><span class='token' style='background-color: #ffffff'> de<span class='feature_val'> (0.00)</span></span><span class='token' style='background-color: #ffffff'> Lam<span class='feature_val'> (0.00)</span></span><span class='token' style='background-color: #ffffff'>art<span class='feature_val'> (0.00)</span></span><span class='token' style='background-color: #ffffff'>ine<span class='feature_val'> (0.00)</span></span><span class='token' style='background-color: #ffffff'> stated<span class='feature_val'> (0.00)</span></span><span class='token' style='background-color: #ffffff'> very<span class='feature_val'> (0.00)</span></span><span class='token' style='background-color: #ffffff'> well<span class='feature_val'> (0.00)</span></span><span class='token' style='background-color: #ffffff'>,<span class='feature_val'> (0.00)</span></span><span class='token' style='background-color: #ffffff'> did<span class='feature_val'> (0.00)</span></span><span class='token' style='background-color: #ffffff'> not<span class='feature_val'> (0.00)</span></span><span class='token' style='background-color: #ffffff'> go<span class='feature_val'> (0.00)</span></span><span class='token' style='background-color: #ffffff'> any<span class='feature_val'> (0.00)</span></span><span class='token' style='background-color: #ffffff'> further<span class='feature_val'> (0.00)</span></span><span class='token' style='background-color: #ffffff'> than<span class='feature_val'> (0.00)</span></span><span class='token' style='background-color: #ffffff'> the<span class='feature_val'> (0.00)</span></span><span class='token' style='background-color: #ffffff'> Champ<span class='feature_val'> (0.00)</span></span><span class='token' style='background-color: #ffffff'>-<span class='feature_val'> (0.00)</span></span><span class='token' style='background-color: #ffffff'>de<span class='feature_val'> (0.00)</span></span><span class='token' style='background-color: #ffffff'>-<span class='feature_val'> (0.00)</span></span><span class='token' style='background-color: #ffffff'>Mars<span class='feature_val'> (0.00)</span></span><span class='token' style='background-color: #ffffff'>.<span class='feature_val'> (0.00)</span></span><span class='token' style='background-color: #ffffff'> It<span class='feature_val'> (0.00)</span></span><span class='token' style='background-color: #ffffff'> is<span class='feature_val'> (0.00)</span></span><span class='token' style='background-color: #ffffff'> too<span class='feature_val'> (0.00)</span></span><span class='token' style='background-color: #ffffff'> terrible<span class='feature_val'> (0.00)</span></span><span class='token' style='background-color: #ffffff'>,<span class='feature_val'> (0.00)</span></span><span class='token' style='background-color: #ffffff'> justice<span class='feature_val'> (0.00)</span></span><span class='token' style='background-color: #ffffff'>,<span class='feature_val'> (0.00)</span></span><span class='token' style='background-color: #ffffff'> that<span class='feature_val'> (0.00)</span></span><span class='token' style='background-color: #ffffff'> one<span class='feature_val'> (0.00)</span></span><span class='token' style='background-color: #ffffff'> would<span class='feature_val'> (0.00)</span></span><span class='token' style='background-color: #ffffff'> not<span class='feature_val'> (0.00)</span></span><span class='token' style='background-color: #ffffff'> know<span class='feature_val'> (0.00)</span></span><span class='token' style='background-color: #ffffff'> how<span class='feature_val'> (0.00)</span></span><span class='token' style='background-color: #ffffff'> to<span class='feature_val'> (0.00)</span></span><span class='token' style='background-color: #ffffff'> hide<span class='feature_val'> (0.00)</span></span><span class='token' style='background-color: #ffffff'> it<span class='feature_val'> (0.00)</span></span><span class='token' style='background-color: #ffffff'> enough<span class='feature_val'> (0.00)</span></span><span class='token' style='background-color: #ffffff'>.<span class='feature_val'> (0.00)</span></span><span class='token' style='background-color: #ffffff'> Poor<span class='feature_val'> (0.00)</span></span><span class='token' style='background-color: #ffffff'> red<span class='feature_val'> (0.00)</span></span><span class='token' style='background-color: #ffffff'> flag<span class='feature_val'> (0.00)</span></span><span class='token' style='background-color: #ffffff'>.<span class='feature_val'> (0.00)</span></span><span class='token' style='background-color: #ffffff'> Everyone<span class='feature_val'> (0.00)</span></span><span class='token' style='background-color: #ffffff'> is<span class='feature_val'> (0.00)</span></span><span class='token' style='background-color: #ffffff'> abandoning<span class='feature_val'> (0.00)</span></span><span class='token' style='background-color: #ffffff'> you<span class='feature_val'> (0.00)</span></span><span class='token' style='background-color: #ffffff'>!<span class='feature_val'> (0.00)</span></span><span class='token' style='background-color: #ffffff'> Me<span class='feature_val'> (0.00)</span></span><span class='token' style='background-color: #ffffff'>,<span class='feature_val'> (0.00)</span></span><span class='token' style='background-color: #ffffff'> I<span class='feature_val'> (0.00)</span></span><span class='token' style='background-color: #ffffff'> embrace<span class='feature_val'> (0.00)</span></span><span class='token' style='background-color: #ffffff'> you<span class='feature_val'> (0.00)</span></span><span class='token' style='background-color: #ffffff'>;<span class='feature_val'> (0.00)</span></span><span class='token' style='background-color: #ffffff'> I<span class='feature_val'> (0.00)</span></span><span class='token' style='background-color: #ffffff'> clutch<span class='feature_val'> (0.00)</span></span><span class='token' style='background-color: #ffffff'> you<span class='feature_val'> (0.00)</span></span><span class='token' style='background-color: #ffffff'> to<span class='feature_val'> (0.00)</span></span><span class='token' style='background-color: #ffffff'> my<span class='feature_val'> (0.00)</span></span><span class='token' style='background-color: #ffffff'> chest<span class='feature_val'> (0.00)</span></span><span class='token' style='background-color: #ffffff'>.<span class='feature_val'> (0.00)</span></span><span class='token' style='background-color: #ffffff'> Sal<span class='feature_val'> (0.00)</span></span><span class='token' style='background-color: #ffffff'>ute<span class='feature_val'> (0.00)</span></span><span class='token' style='background-color: #ffffff'> fraternity<span class='feature_val'> (0.00)</span></span><span class='token' style='background-color: #ffffff'>!<span class='feature_val'> (0.00)</span></span><span class='token' style='background-color: #ffffff'>\n",
       "<span class='feature_val'> (0.00)</span></span><span class='token' style='background-color: #ffffff'>\n",
       "<span class='feature_val'> (0.00)</span></span><span class='token' style='background-color: #ffffff'>�<span class='feature_val'> (0.00)</span></span><span class='token' style='background-color: #ff8c00'>�<span class='feature_val'> (2.03)</span></span><span class='token' style='background-color: #ffffff'>Let<span class='feature_val'> (0.00)</span></span><span class='token' style='background-color: #ffffff'> us<span class='feature_val'> (0.00)</span></span><span class='token' style='background-color: #ffffff'> keep<span class='feature_val'> (0.00)</span></span><span class='token' style='background-color: #ffffff'>,<span class='feature_val'> (0.00)</span></span><span class='token' style='background-color: #ffffff'> if<span class='feature_val'> (0.00)</span></span><span class='token' style='background-color: #ffffff'> you<span class='feature_val'> (0.00)</span></span><span class='token' style='background-color: #ffffff'> wish<span class='feature_val'> (0.00)</span></span><span class='token' style='background-color: #ffffff'>,<span class='feature_val'> (0.00)</span></span><span class='token' style='background-color: #ffffff'> the<span class='feature_val'> (0.00)</span></span><span class='token' style='background-color: #ffffff'> tr<span class='feature_val'> (0.00)</span></span><span class='token' style='background-color: #ffffff'>icol<span class='feature_val'> (0.00)</span></span><span class='token' style='background-color: #ffffff'>our<span class='feature_val'> (0.00)</span></span><span class='token' style='background-color: #ffffff'>,<span class='feature_val'> (0.00)</span></span><span class='token' style='background-color: #ffffff'> symbol<span class='feature_val'> (0.00)</span></span><span class='token' style='background-color: #ffffff'> of<span class='feature_val'> (0.00)</span></span><span class='token' style='background-color: #ffffff'> our<span class='feature_val'> (0.00)</span></span><span class='token' style='background-color: #ffffff'> nationality<span class='feature_val'> (0.00)</span></span><span class='token' style='background-color: #ffffff'>.<span class='feature_val'> (0.00)</span></span><span class='token' style='background-color: #ffffff'> But<span class='feature_val'> (0.00)</span></span><span class='token' style='background-color: #ffffff'> remember<span class='feature_val'> (0.00)</span></span><span class='token' style='background-color: #ffffff'> that<span class='feature_val'> (0.00)</span></span><span class='token' style='background-color: #ffffff'> the<span class='feature_val'> (0.00)</span></span><span class='token' style='background-color: #ffffff'> red<span class='feature_val'> (0.00)</span></span><span class='token' style='background-color: #ffffff'> flag<span class='feature_val'> (0.00)</span></span><span class='token' style='background-color: #ffffff'> is<span class='feature_val'> (0.00)</span></span><span class='token' style='background-color: #ffffff'> the<span class='feature_val'> (0.00)</span></span><span class='token' style='background-color: #ffffff'> sign<span class='feature_val'> (0.00)</span></span><span class='token' style='background-color: #ffffff'> of<span class='feature_val'> (0.00)</span></span><span class='token' style='background-color: #ffffff'> a<span class='feature_val'> (0.00)</span></span><span class='token' style='background-color: #ffffff'> revolution<span class='feature_val'> (0.00)</span></span><span class='token' style='background-color: #ffffff'> that<span class='feature_val'> (0.00)</span></span><span class='token' style='background-color: #ffffff'> will<span class='feature_val'> (0.00)</span></span><span class='token' style='background-color: #ffffff'> be<span class='feature_val'> (0.00)</span></span><span class='token' style='background-color: #ffffff'> the<span class='feature_val'> (0.00)</span></span><span class='token' style='background-color: #ffffff'> last<span class='feature_val'> (0.00)</span></span><span class='token' style='background-color: #ffffff'>.<span class='feature_val'> (0.00)</span></span><span class='token' style='background-color: #ffffff'> The<span class='feature_val'> (0.00)</span></span><span class='token' style='background-color: #ffffff'> red<span class='feature_val'> (0.00)</span></span><span class='token' style='background-color: #ffffff'> flag<span class='feature_val'> (0.00)</span></span><span class='token' style='background-color: #ffffff'>!<span class='feature_val'> (0.00)</span></span><span class='token' style='background-color: #ffffff'> It<span class='feature_val'> (0.00)</span></span><span class='token' style='background-color: #ffffff'> is<span class='feature_val'> (0.00)</span></span><span class='token' style='background-color: #ffffff'> the<span class='feature_val'> (0.00)</span></span>"
      ],
      "text/plain": [
       "<IPython.core.display.HTML object>"
      ]
     },
     "metadata": {},
     "output_type": "display_data"
    },
    {
     "name": "stdout",
     "output_type": "stream",
     "text": [
      "╒═══════════╤═════════╕\n",
      "│ Token     │   Logit │\n",
      "╞═══════════╪═════════╡\n",
      "│ \u001b[34m:]\u001b[0m        │ \u001b[32m14.2477\u001b[0m │\n",
      "├───────────┼─────────┤\n",
      "│ \u001b[34msections\u001b[0m  │ \u001b[32m12.23\u001b[0m   │\n",
      "├───────────┼─────────┤\n",
      "│ \u001b[34mobi\u001b[0m       │ \u001b[32m12.1438\u001b[0m │\n",
      "├───────────┼─────────┤\n",
      "│ \u001b[34mimar\u001b[0m      │ \u001b[32m12.0566\u001b[0m │\n",
      "├───────────┼─────────┤\n",
      "│ \u001b[34m »\u001b[0m        │ \u001b[32m11.9453\u001b[0m │\n",
      "├───────────┼─────────┤\n",
      "│ \u001b[34many\u001b[0m       │ \u001b[32m11.924\u001b[0m  │\n",
      "├───────────┼─────────┤\n",
      "│ \u001b[34m Crossing\u001b[0m │ \u001b[32m11.8792\u001b[0m │\n",
      "├───────────┼─────────┤\n",
      "│ \u001b[34mlear\u001b[0m      │ \u001b[32m11.7354\u001b[0m │\n",
      "├───────────┼─────────┤\n",
      "│ \u001b[34mndum\u001b[0m      │ \u001b[32m11.691\u001b[0m  │\n",
      "├───────────┼─────────┤\n",
      "│ \u001b[34marms\u001b[0m      │ \u001b[32m11.649\u001b[0m  │\n",
      "╘═══════════╧═════════╛\n"
     ]
    }
   ],
   "source": [
    "feature_scores, top_tokens, top_logits = feature_scores_for_component_cluster(\"L10_H7\", 10)\n",
    "\n",
    "example_html, examples_clean_text = display_top_k_activating_examples_sum(model, feature_scores, owt_tokens_torch[:1024*4], feature_indices=[x for x in range(feature_scores.shape[1])], k=10)\n",
    "\n",
    "pretty_print_tokens_logits(top_tokens, top_logits)"
   ]
  },
  {
   "cell_type": "code",
   "execution_count": 66,
   "metadata": {},
   "outputs": [
    {
     "data": {
      "text/plain": [
       "(4096, 6, 128)"
      ]
     },
     "execution_count": 66,
     "metadata": {},
     "output_type": "execute_result"
    }
   ],
   "source": [
    "feature_scores.shape"
   ]
  },
  {
   "cell_type": "code",
   "execution_count": 69,
   "metadata": {},
   "outputs": [
    {
     "name": "stdout",
     "output_type": "stream",
     "text": [
      "ZSAE\n"
     ]
    },
    {
     "name": "stderr",
     "output_type": "stream",
     "text": [
      "100%|██████████| 32/32 [00:39<00:00,  1.22s/it]\n"
     ]
    },
    {
     "data": {
      "text/html": [
       "\n",
       "    <style>\n",
       "        span.token {\n",
       "            font-family: monospace;\n",
       "            border-style: solid;\n",
       "            border-width: 1px;\n",
       "            border-color: #dddddd;\n",
       "        }\n",
       "    </style>\n",
       "    <span class='token' style='background-color: #ffffff'>&lt;|endoftext|&gt;<span class='feature_val'> (0.00)</span></span><span class='token' style='background-color: #ffffff'>Stop<span class='feature_val'> (0.00)</span></span><span class='token' style='background-color: #ffffff'> everything<span class='feature_val'> (0.00)</span></span><span class='token' style='background-color: #ffffff'>:<span class='feature_val'> (0.00)</span></span><span class='token' style='background-color: #ffffff'> In<span class='feature_val'> (0.00)</span></span><span class='token' style='background-color: #ffffff'> a<span class='feature_val'> (0.00)</span></span><span class='token' style='background-color: #ffffff'> hot<span class='feature_val'> (0.00)</span></span><span class='token' style='background-color: #ffffff'>-<span class='feature_val'> (0.00)</span></span><span class='token' style='background-color: #ffffff'>off<span class='feature_val'> (0.00)</span></span><span class='token' style='background-color: #ffffff'>-<span class='feature_val'> (0.00)</span></span><span class='token' style='background-color: #ffffff'>the<span class='feature_val'> (0.00)</span></span><span class='token' style='background-color: #ffffff'>-<span class='feature_val'> (0.00)</span></span><span class='token' style='background-color: #ffffff'>press<span class='feature_val'> (0.00)</span></span><span class='token' style='background-color: #ffffff'> release<span class='feature_val'> (0.00)</span></span><span class='token' style='background-color: #ffffff'> this<span class='feature_val'> (0.00)</span></span><span class='token' style='background-color: #ffffff'> morning<span class='feature_val'> (0.00)</span></span><span class='token' style='background-color: #ffffff'>,<span class='feature_val'> (0.00)</span></span><span class='token' style='background-color: #ffffff'> Un<span class='feature_val'> (0.00)</span></span><span class='token' style='background-color: #ffffff'>iq<span class='feature_val'> (0.00)</span></span><span class='token' style='background-color: #ffffff'>lo<span class='feature_val'> (0.00)</span></span><span class='token' style='background-color: #ffffff'> has<span class='feature_val'> (0.00)</span></span><span class='token' style='background-color: #ffffff'> revealed<span class='feature_val'> (0.00)</span></span><span class='token' style='background-color: #ffffff'> the<span class='feature_val'> (0.00)</span></span><span class='token' style='background-color: #ffffff'> coordinates<span class='feature_val'> (0.00)</span></span><span class='token' style='background-color: #ffffff'> and<span class='feature_val'> (0.00)</span></span><span class='token' style='background-color: #ffffff'> opening<span class='feature_val'> (0.00)</span></span><span class='token' style='background-color: #ffffff'> dates<span class='feature_val'> (0.00)</span></span><span class='token' style='background-color: #ffffff'> of<span class='feature_val'> (0.00)</span></span><span class='token' style='background-color: #ffffff'> their<span class='feature_val'> (0.00)</span></span><span class='token' style='background-color: #ffffff'> five<span class='feature_val'> (0.00)</span></span><span class='token' style='background-color: #ffffff'> new<span class='feature_val'> (0.00)</span></span><span class='token' style='background-color: #ffffff'> So<span class='feature_val'> (0.00)</span></span><span class='token' style='background-color: #ffffff'>Cal<span class='feature_val'> (0.00)</span></span><span class='token' style='background-color: #ffffff'> stores<span class='feature_val'> (0.00)</span></span><span class='token' style='background-color: #ffffff'>.<span class='feature_val'> (0.00)</span></span><span class='token' style='background-color: #ffffff'> In<span class='feature_val'> (0.00)</span></span><span class='token' style='background-color: #ffffff'> addition<span class='feature_val'> (0.00)</span></span><span class='token' style='background-color: #ffffff'> to<span class='feature_val'> (0.00)</span></span><span class='token' style='background-color: #ffffff'> bringing<span class='feature_val'> (0.00)</span></span><span class='token' style='background-color: #ffffff'> affordable<span class='feature_val'> (0.00)</span></span><span class='token' style='background-color: #ffffff'> apparel<span class='feature_val'> (0.00)</span></span><span class='token' style='background-color: #ffffff'> to<span class='feature_val'> (0.00)</span></span><span class='token' style='background-color: #ffffff'> South<span class='feature_val'> (0.00)</span></span><span class='token' style='background-color: #ffffff'> Coast<span class='feature_val'> (0.00)</span></span><span class='token' style='background-color: #ffffff'> Plaza<span class='feature_val'> (0.00)</span></span><span class='token' style='background-color: #ffffff'> and<span class='feature_val'> (0.00)</span></span><span class='token' style='background-color: #ffffff'> Beverly<span class='feature_val'> (0.00)</span></span><span class='token' style='background-color: #ffffff'> Center<span class='feature_val'> (0.00)</span></span><span class='token' style='background-color: #ffffff'>,<span class='feature_val'> (0.00)</span></span><span class='token' style='background-color: #ffffff'> which<span class='feature_val'> (0.00)</span></span><span class='token' style='background-color: #ffffff'> we<span class='feature_val'> (0.00)</span></span><span class='token' style='background-color: #ffffff'> first<span class='feature_val'> (0.00)</span></span><span class='token' style='background-color: #ffffff'> broke<span class='feature_val'> (0.00)</span></span><span class='token' style='background-color: #ffffff'> back<span class='feature_val'> (0.00)</span></span><span class='token' style='background-color: #ffffff'> in<span class='feature_val'> (0.00)</span></span><span class='token' style='background-color: #ffffff'> February<span class='feature_val'> (0.00)</span></span><span class='token' style='background-color: #ffffff'>,<span class='feature_val'> (0.00)</span></span><span class='token' style='background-color: #ffffff'> the<span class='feature_val'> (0.00)</span></span><span class='token' style='background-color: #ffffff'> Japanese<span class='feature_val'> (0.00)</span></span><span class='token' style='background-color: #ffffff'> retailer<span class='feature_val'> (0.00)</span></span><span class='token' style='background-color: #ffffff'> is<span class='feature_val'> (0.00)</span></span><span class='token' style='background-color: #ffffff'> rolling<span class='feature_val'> (0.00)</span></span><span class='token' style='background-color: #ffffff'> out<span class='feature_val'> (0.00)</span></span><span class='token' style='background-color: #ffffff'> shops<span class='feature_val'> (0.00)</span></span><span class='token' style='background-color: #ffffff'> at<span class='feature_val'> (0.00)</span></span><span class='token' style='background-color: #ffffff'> the<span class='feature_val'> (0.00)</span></span><span class='token' style='background-color: #ffffff'> Gl<span class='feature_val'> (0.00)</span></span><span class='token' style='background-color: #ffffff'>endale<span class='feature_val'> (0.00)</span></span><span class='token' style='background-color: #ffffff'> Gall<span class='feature_val'> (0.00)</span></span><span class='token' style='background-color: #ffffff'>eria<span class='feature_val'> (0.00)</span></span><span class='token' style='background-color: #ffffff'>,<span class='feature_val'> (0.00)</span></span><span class='token' style='background-color: #ffffff'> North<span class='feature_val'> (0.00)</span></span><span class='token' style='background-color: #ffffff'>ridge<span class='feature_val'> (0.00)</span></span><span class='token' style='background-color: #ffffff'> Fashion<span class='feature_val'> (0.00)</span></span><span class='token' style='background-color: #ffffff'> Center<span class='feature_val'> (0.00)</span></span><span class='token' style='background-color: #ffffff'> and<span class='feature_val'> (0.00)</span></span><span class='token' style='background-color: #ffffff'> Los<span class='feature_val'> (0.00)</span></span><span class='token' style='background-color: #ffffff'> Cer<span class='feature_val'> (0.00)</span></span><span class='token' style='background-color: #ffffff'>rit<span class='feature_val'> (0.00)</span></span><span class='token' style='background-color: #ffffff'>os<span class='feature_val'> (0.00)</span></span><span class='token' style='background-color: #ffffff'> Mall<span class='feature_val'> (0.00)</span></span><span class='token' style='background-color: #ffffff'>.<span class='feature_val'> (0.00)</span></span><span class='token' style='background-color: #ffffff'>\n",
       "<span class='feature_val'> (0.00)</span></span><span class='token' style='background-color: #ffffff'>\n",
       "<span class='feature_val'> (0.00)</span></span><span class='token' style='background-color: #ffffff'>As<span class='feature_val'> (0.00)</span></span><span class='token' style='background-color: #ffffff'> far<span class='feature_val'> (0.00)</span></span><span class='token' style='background-color: #ffffff'> as<span class='feature_val'> (0.00)</span></span><span class='token' style='background-color: #ffffff'> opening<span class='feature_val'> (0.00)</span></span><span class='token' style='background-color: #ffffff'> dates<span class='feature_val'> (0.00)</span></span><span class='token' style='background-color: #ffffff'>,<span class='feature_val'> (0.00)</span></span><span class='token' style='background-color: #ffffff'> the<span class='feature_val'> (0.00)</span></span><span class='token' style='background-color: #ffffff'> brand<span class='feature_val'> (0.00)</span></span><span class='token' style='background-color: #ffffff'> says<span class='feature_val'> (0.00)</span></span><span class='token' style='background-color: #ffffff'> South<span class='feature_val'> (0.00)</span></span><span class='token' style='background-color: #ffffff'> Coast<span class='feature_val'> (0.00)</span></span><span class='token' style='background-color: #fffcf9'> Plaza<span class='feature_val'> (0.09)</span></span><span class='token' style='background-color: #ffffff'> will<span class='feature_val'> (0.00)</span></span><span class='token' style='background-color: #ffffff'> open<span class='feature_val'> (0.00)</span></span><span class='token' style='background-color: #ffffff'> first<span class='feature_val'> (0.00)</span></span><span class='token' style='background-color: #ffffff'> (<span class='feature_val'> (0.00)</span></span><span class='token' style='background-color: #ffffff'>September<span class='feature_val'> (0.00)</span></span><span class='token' style='background-color: #ffffff'> 5<span class='feature_val'> (0.00)</span></span><span class='token' style='background-color: #ffa12f'>),<span class='feature_val'> (3.23)</span></span><span class='token' style='background-color: #ffddb5'> followed<span class='feature_val'> (1.14)</span></span><span class='token' style='background-color: #ff9e28'> by<span class='feature_val'> (3.33)</span></span><span class='token' style='background-color: #ffe4c4'> Gl<span class='feature_val'> (0.90)</span></span><span class='token' style='background-color: #ff8c00'>endale<span class='feature_val'> (3.96)</span></span><span class='token' style='background-color: #ffedd8'> Gall<span class='feature_val'> (0.59)</span></span><span class='token' style='background-color: #ffe4c4'>eria<span class='feature_val'> (0.91)</span></span><span class='token' style='background-color: #ffc682'> and<span class='feature_val'> (1.94)</span></span><span class='token' style='background-color: #fff1e1'> North<span class='feature_val'> (0.45)</span></span><span class='token' style='background-color: #ffd19a'>ridge<span class='feature_val'> (1.55)</span></span><span class='token' style='background-color: #fff1e1'> Fashion<span class='feature_val'> (0.45)</span></span><span class='token' style='background-color: #fffbf6'> Center<span class='feature_val'> (0.14)</span></span><span class='token' style='background-color: #ffffff'> (<span class='feature_val'> (0.00)</span></span><span class='token' style='background-color: #ffffff'>September<span class='feature_val'> (0.00)</span></span><span class='token' style='background-color: #ffffff'> 26<span class='feature_val'> (0.00)</span></span><span class='token' style='background-color: #ffcd91'>),<span class='feature_val'> (1.70)</span></span><span class='token' style='background-color: #ffe4c3'> Beverly<span class='feature_val'> (0.92)</span></span><span class='token' style='background-color: #fffaf4'> Center<span class='feature_val'> (0.16)</span></span><span class='token' style='background-color: #ffffff'> (<span class='feature_val'> (0.00)</span></span><span class='token' style='background-color: #ffffff'>October<span class='feature_val'> (0.00)</span></span><span class='token' style='background-color: #ffffff'> 10<span class='feature_val'> (0.00)</span></span><span class='token' style='background-color: #feddb3'>),<span class='feature_val'> (1.17)</span></span><span class='token' style='background-color: #ffe2c0'> and<span class='feature_val'> (0.97)</span></span><span class='token' style='background-color: #fffdfa'> Los<span class='feature_val'> (0.06)</span></span><span class='token' style='background-color: #ffffff'> Cer<span class='feature_val'> (0.00)</span></span><span class='token' style='background-color: #ffffff'>rit<span class='feature_val'> (0.00)</span></span>"
      ],
      "text/plain": [
       "<IPython.core.display.HTML object>"
      ]
     },
     "metadata": {},
     "output_type": "display_data"
    },
    {
     "data": {
      "text/html": [
       "\n",
       "    <style>\n",
       "        span.token {\n",
       "            font-family: monospace;\n",
       "            border-style: solid;\n",
       "            border-width: 1px;\n",
       "            border-color: #dddddd;\n",
       "        }\n",
       "    </style>\n",
       "    <span class='token' style='background-color: #ffffff'>&lt;|endoftext|&gt;<span class='feature_val'> (0.00)</span></span><span class='token' style='background-color: #ffffff'> strings<span class='feature_val'> (0.00)</span></span><span class='token' style='background-color: #ffffff'> key<span class='feature_val'> (0.00)</span></span><span class='token' style='background-color: #ffffff'> and<span class='feature_val'> (0.00)</span></span><span class='token' style='background-color: #ffffff'> val<span class='feature_val'> (0.00)</span></span><span class='token' style='background-color: #ffffff'> are<span class='feature_val'> (0.00)</span></span><span class='token' style='background-color: #ffffff'> freed<span class='feature_val'> (0.00)</span></span><span class='token' style='background-color: #ffffff'>.<span class='feature_val'> (0.00)</span></span><span class='token' style='background-color: #ffffff'>\n",
       "<span class='feature_val'> (0.00)</span></span><span class='token' style='background-color: #ffffff'>\n",
       "<span class='feature_val'> (0.00)</span></span><span class='token' style='background-color: #ffffff'>This<span class='feature_val'> (0.00)</span></span><span class='token' style='background-color: #ffffff'> naive<span class='feature_val'> (0.00)</span></span><span class='token' style='background-color: #ffffff'> code<span class='feature_val'> (0.00)</span></span><span class='token' style='background-color: #ffffff'> does<span class='feature_val'> (0.00)</span></span><span class='token' style='background-color: #ffffff'> 2<span class='feature_val'> (0.00)</span></span><span class='token' style='background-color: #ffffff'> copies<span class='feature_val'> (0.00)</span></span><span class='token' style='background-color: #ffffff'> and<span class='feature_val'> (0.00)</span></span><span class='token' style='background-color: #ffffff'> 4<span class='feature_val'> (0.00)</span></span><span class='token' style='background-color: #ffffff'> destruct<span class='feature_val'> (0.00)</span></span><span class='token' style='background-color: #ffffff'>ions<span class='feature_val'> (0.00)</span></span><span class='token' style='background-color: #ffffff'>.<span class='feature_val'> (0.00)</span></span><span class='token' style='background-color: #ffffff'> We<span class='feature_val'> (0.00)</span></span><span class='token' style='background-color: #ffffff'> can<span class='feature_val'> (0.00)</span></span><span class='token' style='background-color: #ffffff'> do<span class='feature_val'> (0.00)</span></span><span class='token' style='background-color: #ffffff'> much<span class='feature_val'> (0.00)</span></span><span class='token' style='background-color: #ffffff'> better<span class='feature_val'> (0.00)</span></span><span class='token' style='background-color: #ffffff'> with<span class='feature_val'> (0.00)</span></span><span class='token' style='background-color: #ffffff'> swap<span class='feature_val'> (0.00)</span></span><span class='token' style='background-color: #ffffff'> :<span class='feature_val'> (0.00)</span></span><span class='token' style='background-color: #ffffff'>\n",
       "<span class='feature_val'> (0.00)</span></span><span class='token' style='background-color: #ffffff'>\n",
       "<span class='feature_val'> (0.00)</span></span><span class='token' style='background-color: #ffffff'>proc<span class='feature_val'> (0.00)</span></span><span class='token' style='background-color: #ffffff'> put<span class='feature_val'> (0.00)</span></span><span class='token' style='background-color: #ffffff'> (<span class='feature_val'> (0.00)</span></span><span class='token' style='background-color: #ffffff'> t<span class='feature_val'> (0.00)</span></span><span class='token' style='background-color: #ffffff'> :<span class='feature_val'> (0.00)</span></span><span class='token' style='background-color: #ffffff'> var<span class='feature_val'> (0.00)</span></span><span class='token' style='background-color: #ffffff'> Table<span class='feature_val'> (0.00)</span></span><span class='token' style='background-color: #ffffff'> ;<span class='feature_val'> (0.00)</span></span><span class='token' style='background-color: #fefefc'> key<span class='feature_val'> (0.03)</span></span><span class='token' style='background-color: #fff5ea'> ,<span class='feature_val'> (0.29)</span></span><span class='token' style='background-color: #fffdfb'> val<span class='feature_val'> (0.05)</span></span><span class='token' style='background-color: #ffffff'> :<span class='feature_val'> (0.00)</span></span><span class='token' style='background-color: #ffffff'> var<span class='feature_val'> (0.00)</span></span><span class='token' style='background-color: #ffffff'> string<span class='feature_val'> (0.00)</span></span><span class='token' style='background-color: #ffffff'> )<span class='feature_val'> (0.00)</span></span><span class='token' style='background-color: #ffffff'> =<span class='feature_val'> (0.00)</span></span><span class='token' style='background-color: #ffffff'> let<span class='feature_val'> (0.00)</span></span><span class='token' style='background-color: #ffffff'> h<span class='feature_val'> (0.00)</span></span><span class='token' style='background-color: #ffffff'> =<span class='feature_val'> (0.00)</span></span><span class='token' style='background-color: #ffffff'> hash<span class='feature_val'> (0.00)</span></span><span class='token' style='background-color: #ffffff'> (<span class='feature_val'> (0.00)</span></span><span class='token' style='background-color: #ffffff'> key<span class='feature_val'> (0.00)</span></span><span class='token' style='background-color: #ffffff'> )<span class='feature_val'> (0.00)</span></span><span class='token' style='background-color: #ffffff'> swap<span class='feature_val'> (0.00)</span></span><span class='token' style='background-color: #fff8f0'> t<span class='feature_val'> (0.21)</span></span><span class='token' style='background-color: #ffffff'> .<span class='feature_val'> (0.00)</span></span><span class='token' style='background-color: #ffffff'> a<span class='feature_val'> (0.00)</span></span><span class='token' style='background-color: #ffffff'> [<span class='feature_val'> (0.00)</span></span><span class='token' style='background-color: #ffffff'> h<span class='feature_val'> (0.00)</span></span><span class='token' style='background-color: #ffffff'> ]<span class='feature_val'> (0.00)</span></span><span class='token' style='background-color: #ffffff'> .<span class='feature_val'> (0.00)</span></span><span class='token' style='background-color: #ffffff'> key<span class='feature_val'> (0.00)</span></span><span class='token' style='background-color: #ffffff'> ,<span class='feature_val'> (0.00)</span></span><span class='token' style='background-color: #fff1e1'> key<span class='feature_val'> (0.42)</span></span><span class='token' style='background-color: #ffddb4'> swap<span class='feature_val'> (1.06)</span></span><span class='token' style='background-color: #ffffff'> t<span class='feature_val'> (0.00)</span></span><span class='token' style='background-color: #feecd5'> .<span class='feature_val'> (0.59)</span></span><span class='token' style='background-color: #fff4e8'> a<span class='feature_val'> (0.32)</span></span><span class='token' style='background-color: #ffffff'> [<span class='feature_val'> (0.00)</span></span><span class='token' style='background-color: #ffffff'> h<span class='feature_val'> (0.00)</span></span><span class='token' style='background-color: #ffffff'> ]<span class='feature_val'> (0.00)</span></span><span class='token' style='background-color: #ffc278'> .<span class='feature_val'> (1.91)</span></span><span class='token' style='background-color: #fff8f1'> val<span class='feature_val'> (0.19)</span></span><span class='token' style='background-color: #ff8c00'> ,<span class='feature_val'> (3.63)</span></span><span class='token' style='background-color: #ffffff'> val<span class='feature_val'> (0.00)</span></span><span class='token' style='background-color: #ffffff'> proc<span class='feature_val'> (0.00)</span></span><span class='token' style='background-color: #ffffff'> main<span class='feature_val'> (0.00)</span></span><span class='token' style='background-color: #ffffff'> =<span class='feature_val'> (0.00)</span></span><span class='token' style='background-color: #ffffff'> var<span class='feature_val'> (0.00)</span></span><span class='token' style='background-color: #ffffff'> key<span class='feature_val'> (0.00)</span></span><span class='token' style='background-color: #ffffff'> &lt;-<span class='feature_val'> (0.00)</span></span><span class='token' style='background-color: #ffffff'> std<span class='feature_val'> (0.00)</span></span><span class='token' style='background-color: #ffffff'>in<span class='feature_val'> (0.00)</span></span><span class='token' style='background-color: #ffffff'> .<span class='feature_val'> (0.00)</span></span><span class='token' style='background-color: #ffffff'> read<span class='feature_val'> (0.00)</span></span><span class='token' style='background-color: #ffffff'>Line<span class='feature_val'> (0.00)</span></span><span class='token' style='background-color: #ffffff'> (<span class='feature_val'> (0.00)</span></span><span class='token' style='background-color: #ffdfb9'> )<span class='feature_val'> (0.99)</span></span><span class='token' style='background-color: #ffb358'> var<span class='feature_val'> (2.37)</span></span><span class='token' style='background-color: #ffe2c0'> val<span class='feature_val'> (0.90)</span></span><span class='token' style='background-color: #ffffff'> &lt;-<span class='feature_val'> (0.00)</span></span><span class='token' style='background-color: #ffffff'> std<span class='feature_val'> (0.00)</span></span><span class='token' style='background-color: #ffffff'>in<span class='feature_val'> (0.00)</span></span><span class='token' style='background-color: #ffffff'> .<span class='feature_val'> (0.00)</span></span><span class='token' style='background-color: #ffffff'> read<span class='feature_val'> (0.00)</span></span><span class='token' style='background-color: #ffffff'>Line<span class='feature_val'> (0.00)</span></span><span class='token' style='background-color: #ffffff'> (<span class='feature_val'> (0.00)</span></span><span class='token' style='background-color: #fff5ea'> )<span class='feature_val'> (0.30)</span></span><span class='token' style='background-color: #ffebd3'> var<span class='feature_val'> (0.62)</span></span><span class='token' style='background-color: #ffffff'> t<span class='feature_val'> (0.00)</span></span><span class='token' style='background-color: #ffffff'> =<span class='feature_val'> (0.00)</span></span><span class='token' style='background-color: #ffffff'> create<span class='feature_val'> (0.00)</span></span><span class='token' style='background-color: #ffffff'>Table<span class='feature_val'> (0.00)</span></span><span class='token' style='background-color: #ffffff'> (<span class='feature_val'> (0.00)</span></span><span class='token' style='background-color: #fff8f0'> )<span class='feature_val'> (0.21)</span></span><span class='token' style='background-color: #ffffff'> t<span class='feature_val'> (0.00)</span></span><span class='token' style='background-color: #ffe5c6'> .<span class='feature_val'> (0.81)</span></span><span class='token' style='background-color: #fffdfb'> put<span class='feature_val'> (0.06)</span></span><span class='token' style='background-color: #ffdeb5'> key<span class='feature_val'> (1.04)</span></span><span class='token' style='background-color: #ffba67'> ,<span class='feature_val'> (2.16)</span></span><span class='token' style='background-color: #ffe4c4'> val<span class='feature_val'> (0.83)</span></span><span class='token' style='background-color: #ffffff'>\n",
       "<span class='feature_val'> (0.00)</span></span><span class='token' style='background-color: #ffffff'>\n",
       "<span class='feature_val'> (0.00)</span></span><span class='token' style='background-color: #ffffff'>This<span class='feature_val'> (0.00)</span></span><span class='token' style='background-color: #ffffff'> code<span class='feature_val'> (0.00)</span></span><span class='token' style='background-color: #ffffff'> now<span class='feature_val'> (0.00)</span></span><span class='token' style='background-color: #ffffff'> only<span class='feature_val'> (0.00)</span></span><span class='token' style='background-color: #ffffff'> does<span class='feature_val'> (0.00)</span></span><span class='token' style='background-color: #ffffff'> the<span class='feature_val'> (0.00)</span></span><span class='token' style='background-color: #ffffff'> required<span class='feature_val'> (0.00)</span></span><span class='token' style='background-color: #ffffff'> minimum<span class='feature_val'> (0.00)</span></span><span class='token' style='background-color: #ffffff'> of<span class='feature_val'> (0.00)</span></span><span class='token' style='background-color: #ffffff'> 2<span class='feature_val'> (0.00)</span></span><span class='token' style='background-color: #ffffff'> destruct<span class='feature_val'> (0.00)</span></span><span class='token' style='background-color: #ffffff'>ions<span class='feature_val'> (0.00)</span></span><span class='token' style='background-color: #ffffff'>.<span class='feature_val'> (0.00)</span></span><span class='token' style='background-color: #ffffff'> It<span class='feature_val'> (0.00)</span></span>"
      ],
      "text/plain": [
       "<IPython.core.display.HTML object>"
      ]
     },
     "metadata": {},
     "output_type": "display_data"
    },
    {
     "data": {
      "text/html": [
       "\n",
       "    <style>\n",
       "        span.token {\n",
       "            font-family: monospace;\n",
       "            border-style: solid;\n",
       "            border-width: 1px;\n",
       "            border-color: #dddddd;\n",
       "        }\n",
       "    </style>\n",
       "    <span class='token' style='background-color: #ffffff'>&lt;|endoftext|&gt;<span class='feature_val'> (0.00)</span></span><span class='token' style='background-color: #ffffff'> are<span class='feature_val'> (0.00)</span></span><span class='token' style='background-color: #ffffff'> Emb<span class='feature_val'> (0.00)</span></span><span class='token' style='background-color: #ffffff'>i<span class='feature_val'> (0.00)</span></span><span class='token' style='background-color: #ffffff'>id<span class='feature_val'> (0.00)</span></span><span class='token' style='background-color: #ffffff'>,<span class='feature_val'> (0.00)</span></span><span class='token' style='background-color: #ffffff'> Rich<span class='feature_val'> (0.00)</span></span><span class='token' style='background-color: #ffffff'>aun<span class='feature_val'> (0.00)</span></span><span class='token' style='background-color: #ffffff'> Holmes<span class='feature_val'> (0.00)</span></span><span class='token' style='background-color: #ffffff'>,<span class='feature_val'> (0.00)</span></span><span class='token' style='background-color: #ffffff'> Amir<span class='feature_val'> (0.00)</span></span><span class='token' style='background-color: #ffffff'> Johnson<span class='feature_val'> (0.00)</span></span><span class='token' style='background-color: #ffffff'>,<span class='feature_val'> (0.00)</span></span><span class='token' style='background-color: #ffffff'> J<span class='feature_val'> (0.00)</span></span><span class='token' style='background-color: #ffffff'>ahl<span class='feature_val'> (0.00)</span></span><span class='token' style='background-color: #ffffff'>il<span class='feature_val'> (0.00)</span></span><span class='token' style='background-color: #ffffff'> O<span class='feature_val'> (0.00)</span></span><span class='token' style='background-color: #ffffff'>ka<span class='feature_val'> (0.00)</span></span><span class='token' style='background-color: #ffffff'>for<span class='feature_val'> (0.00)</span></span><span class='token' style='background-color: #ffffff'>,<span class='feature_val'> (0.00)</span></span><span class='token' style='background-color: #ffffff'> veteran<span class='feature_val'> (0.00)</span></span><span class='token' style='background-color: #ffffff'> Em<span class='feature_val'> (0.00)</span></span><span class='token' style='background-color: #ffffff'>eka<span class='feature_val'> (0.00)</span></span><span class='token' style='background-color: #ffffff'> O<span class='feature_val'> (0.00)</span></span><span class='token' style='background-color: #ffffff'>ka<span class='feature_val'> (0.00)</span></span><span class='token' style='background-color: #ffffff'>for<span class='feature_val'> (0.00)</span></span><span class='token' style='background-color: #ffffff'> (<span class='feature_val'> (0.00)</span></span><span class='token' style='background-color: #ffffff'>who<span class='feature_val'> (0.00)</span></span><span class='token' style='background-color: #ffffff'> has<span class='feature_val'> (0.00)</span></span><span class='token' style='background-color: #ffffff'> been<span class='feature_val'> (0.00)</span></span><span class='token' style='background-color: #ffffff'> out<span class='feature_val'> (0.00)</span></span><span class='token' style='background-color: #ffffff'> of<span class='feature_val'> (0.00)</span></span><span class='token' style='background-color: #ffffff'> the<span class='feature_val'> (0.00)</span></span><span class='token' style='background-color: #ffffff'> NBA<span class='feature_val'> (0.00)</span></span><span class='token' style='background-color: #ffffff'> for<span class='feature_val'> (0.00)</span></span><span class='token' style='background-color: #ffffff'> four<span class='feature_val'> (0.00)</span></span><span class='token' style='background-color: #ffffff'> years<span class='feature_val'> (0.00)</span></span><span class='token' style='background-color: #ffffff'>)<span class='feature_val'> (0.00)</span></span><span class='token' style='background-color: #ffffff'> and<span class='feature_val'> (0.00)</span></span><span class='token' style='background-color: #ffffff'> Humph<span class='feature_val'> (0.00)</span></span><span class='token' style='background-color: #ffffff'>ries<span class='feature_val'> (0.00)</span></span><span class='token' style='background-color: #ffffff'>.<span class='feature_val'> (0.00)</span></span><span class='token' style='background-color: #ffffff'>\n",
       "<span class='feature_val'> (0.00)</span></span><span class='token' style='background-color: #ffffff'>\n",
       "<span class='feature_val'> (0.00)</span></span><span class='token' style='background-color: #ffffff'>While<span class='feature_val'> (0.00)</span></span><span class='token' style='background-color: #ffffff'> Holmes<span class='feature_val'> (0.00)</span></span><span class='token' style='background-color: #ffffff'> might<span class='feature_val'> (0.00)</span></span><span class='token' style='background-color: #ffffff'> be<span class='feature_val'> (0.00)</span></span><span class='token' style='background-color: #ffffff'> the<span class='feature_val'> (0.00)</span></span><span class='token' style='background-color: #ffffff'> second<span class='feature_val'> (0.00)</span></span><span class='token' style='background-color: #ffffff'>-<span class='feature_val'> (0.00)</span></span><span class='token' style='background-color: #ffffff'>best<span class='feature_val'> (0.00)</span></span><span class='token' style='background-color: #ffffff'> fit<span class='feature_val'> (0.00)</span></span><span class='token' style='background-color: #ffffff'> in<span class='feature_val'> (0.00)</span></span><span class='token' style='background-color: #ffffff'> the<span class='feature_val'> (0.00)</span></span><span class='token' style='background-color: #ffffff'> middle<span class='feature_val'> (0.00)</span></span><span class='token' style='background-color: #ffffff'> for<span class='feature_val'> (0.00)</span></span><span class='token' style='background-color: #ffffff'> the<span class='feature_val'> (0.00)</span></span><span class='token' style='background-color: #ffffff'> Sixers<span class='feature_val'> (0.00)</span></span><span class='token' style='background-color: #ff8e06'>,<span class='feature_val'> (3.13)</span></span><span class='token' style='background-color: #ffffff'> he<span class='feature_val'> (0.00)</span></span><span class='token' style='background-color: #ffffff'> has<span class='feature_val'> (0.00)</span></span><span class='token' style='background-color: #ffffff'> nowhere<span class='feature_val'> (0.00)</span></span><span class='token' style='background-color: #ffffff'> near<span class='feature_val'> (0.00)</span></span><span class='token' style='background-color: #ffe3c1'> Emb<span class='feature_val'> (0.77)</span></span><span class='token' style='background-color: #ffffff'>i<span class='feature_val'> (0.00)</span></span><span class='token' style='background-color: #ffffff'>id<span class='feature_val'> (0.00)</span></span><span class='token' style='background-color: #ffffff'>&#x27;s<span class='feature_val'> (0.00)</span></span><span class='token' style='background-color: #ffffff'> impact<span class='feature_val'> (0.00)</span></span><span class='token' style='background-color: #ffffff'> at<span class='feature_val'> (0.00)</span></span><span class='token' style='background-color: #ffffff'> the<span class='feature_val'> (0.00)</span></span><span class='token' style='background-color: #ffffff'> defensive<span class='feature_val'> (0.00)</span></span><span class='token' style='background-color: #ffffff'> end<span class='feature_val'> (0.00)</span></span><span class='token' style='background-color: #ff8c00'>,<span class='feature_val'> (3.21)</span></span><span class='token' style='background-color: #ffe2bf'> as<span class='feature_val'> (0.80)</span></span><span class='token' style='background-color: #ffffff'> a<span class='feature_val'> (0.00)</span></span><span class='token' style='background-color: #ffffff'> rebound<span class='feature_val'> (0.00)</span></span><span class='token' style='background-color: #ffffff'>er<span class='feature_val'> (0.00)</span></span><span class='token' style='background-color: #ffffff'> or<span class='feature_val'> (0.00)</span></span><span class='token' style='background-color: #ffffff'> on<span class='feature_val'> (0.00)</span></span><span class='token' style='background-color: #ffffff'> offense<span class='feature_val'> (0.00)</span></span><span class='token' style='background-color: #ffffff'> due<span class='feature_val'> (0.00)</span></span><span class='token' style='background-color: #fff4e8'> to<span class='feature_val'> (0.29)</span></span><span class='token' style='background-color: #fff4e7'> Emb<span class='feature_val'> (0.30)</span></span><span class='token' style='background-color: #ffffff'>i<span class='feature_val'> (0.00)</span></span><span class='token' style='background-color: #ffffff'>id<span class='feature_val'> (0.00)</span></span><span class='token' style='background-color: #ffffff'>&#x27;s<span class='feature_val'> (0.00)</span></span><span class='token' style='background-color: #ffffff'> ability<span class='feature_val'> (0.00)</span></span><span class='token' style='background-color: #ffffff'> to<span class='feature_val'> (0.00)</span></span><span class='token' style='background-color: #ffffff'> score<span class='feature_val'> (0.00)</span></span><span class='token' style='background-color: #ffffff'> inside<span class='feature_val'> (0.00)</span></span><span class='token' style='background-color: #ffffff'> and<span class='feature_val'> (0.00)</span></span><span class='token' style='background-color: #ffffff'> outside<span class='feature_val'> (0.00)</span></span><span class='token' style='background-color: #ffa231'>.<span class='feature_val'> (2.59)</span></span><span class='token' style='background-color: #ffffff'>\n",
       "<span class='feature_val'> (0.00)</span></span><span class='token' style='background-color: #ffc37b'>\n",
       "<span class='feature_val'> (1.66)</span></span><span class='token' style='background-color: #fff6ec'>Hol<span class='feature_val'> (0.23)</span></span><span class='token' style='background-color: #ffffff'>mes<span class='feature_val'> (0.00)</span></span><span class='token' style='background-color: #ffffff'> could<span class='feature_val'> (0.00)</span></span><span class='token' style='background-color: #ffffff'> be<span class='feature_val'> (0.00)</span></span><span class='token' style='background-color: #ffffff'> the<span class='feature_val'> (0.00)</span></span><span class='token' style='background-color: #ffffff'> replacement<span class='feature_val'> (0.00)</span></span><span class='token' style='background-color: #ffffff'> starter<span class='feature_val'> (0.00)</span></span><span class='token' style='background-color: #ffe9ce'> for<span class='feature_val'> (0.61)</span></span><span class='token' style='background-color: #ffdbb0'> Emb<span class='feature_val'> (0.99)</span></span><span class='token' style='background-color: #ffffff'>i<span class='feature_val'> (0.00)</span></span><span class='token' style='background-color: #ffffff'>id<span class='feature_val'> (0.00)</span></span><span class='token' style='background-color: #ffb255'>,<span class='feature_val'> (2.14)</span></span><span class='token' style='background-color: #ffcc90'> though<span class='feature_val'> (1.40)</span></span><span class='token' style='background-color: #ffffff'> Brown<span class='feature_val'> (0.00)</span></span><span class='token' style='background-color: #ffffff'> kept<span class='feature_val'> (0.00)</span></span><span class='token' style='background-color: #ffffff'> Emb<span class='feature_val'> (0.00)</span></span><span class='token' style='background-color: #ffffff'>i<span class='feature_val'> (0.00)</span></span><span class='token' style='background-color: #ffffff'>id<span class='feature_val'> (0.00)</span></span><span class='token' style='background-color: #ffffff'> with<span class='feature_val'> (0.00)</span></span><span class='token' style='background-color: #ffffff'> a<span class='feature_val'> (0.00)</span></span><span class='token' style='background-color: #ffffff'> second<span class='feature_val'> (0.00)</span></span><span class='token' style='background-color: #ffffff'> team<span class='feature_val'> (0.00)</span></span><span class='token' style='background-color: #ffffff'> of<span class='feature_val'> (0.00)</span></span><span class='token' style='background-color: #ffffff'> T<span class='feature_val'> (0.00)</span></span><span class='token' style='background-color: #ffffff'>.<span class='feature_val'> (0.00)</span></span><span class='token' style='background-color: #ffffff'>J<span class='feature_val'> (0.00)</span></span><span class='token' style='background-color: #ffffff'>.<span class='feature_val'> (0.00)</span></span><span class='token' style='background-color: #ffffff'> McConnell<span class='feature_val'> (0.00)</span></span><span class='token' style='background-color: #ffffff'>,<span class='feature_val'> (0.00)</span></span><span class='token' style='background-color: #ffffff'> Jerry<span class='feature_val'> (0.00)</span></span><span class='token' style='background-color: #ffffff'>d<span class='feature_val'> (0.00)</span></span><span class='token' style='background-color: #ffffff'> Bay<span class='feature_val'> (0.00)</span></span>"
      ],
      "text/plain": [
       "<IPython.core.display.HTML object>"
      ]
     },
     "metadata": {},
     "output_type": "display_data"
    },
    {
     "data": {
      "text/html": [
       "\n",
       "    <style>\n",
       "        span.token {\n",
       "            font-family: monospace;\n",
       "            border-style: solid;\n",
       "            border-width: 1px;\n",
       "            border-color: #dddddd;\n",
       "        }\n",
       "    </style>\n",
       "    <span class='token' style='background-color: #ffffff'>&lt;|endoftext|&gt;<span class='feature_val'> (0.00)</span></span><span class='token' style='background-color: #ffffff'> Pitt<span class='feature_val'> (0.00)</span></span><span class='token' style='background-color: #ffffff'>sburg<span class='feature_val'> (0.00)</span></span><span class='token' style='background-color: #ffffff'>hers<span class='feature_val'> (0.00)</span></span><span class='token' style='background-color: #ffffff'> a<span class='feature_val'> (0.00)</span></span><span class='token' style='background-color: #ffffff'> greater<span class='feature_val'> (0.00)</span></span><span class='token' style='background-color: #ffffff'> opportunity<span class='feature_val'> (0.00)</span></span><span class='token' style='background-color: #ffffff'> to<span class='feature_val'> (0.00)</span></span><span class='token' style='background-color: #ffffff'> have<span class='feature_val'> (0.00)</span></span><span class='token' style='background-color: #ffffff'> a<span class='feature_val'> (0.00)</span></span><span class='token' style='background-color: #ffffff'> voice<span class='feature_val'> (0.00)</span></span><span class='token' style='background-color: #ffffff'> in<span class='feature_val'> (0.00)</span></span><span class='token' style='background-color: #ffffff'> local<span class='feature_val'> (0.00)</span></span><span class='token' style='background-color: #ffffff'> politics<span class='feature_val'> (0.00)</span></span><span class='token' style='background-color: #ffffff'>,<span class='feature_val'> (0.00)</span></span><span class='token' style='background-color: #ffffff'> but<span class='feature_val'> (0.00)</span></span><span class='token' style='background-color: #ffffff'> voter<span class='feature_val'> (0.00)</span></span><span class='token' style='background-color: #ffffff'> turn<span class='feature_val'> (0.00)</span></span><span class='token' style='background-color: #ffffff'>-<span class='feature_val'> (0.00)</span></span><span class='token' style='background-color: #ffffff'>out<span class='feature_val'> (0.00)</span></span><span class='token' style='background-color: #ffffff'> in<span class='feature_val'> (0.00)</span></span><span class='token' style='background-color: #ffffff'> African<span class='feature_val'> (0.00)</span></span><span class='token' style='background-color: #ffffff'> American<span class='feature_val'> (0.00)</span></span><span class='token' style='background-color: #ffffff'> communities<span class='feature_val'> (0.00)</span></span><span class='token' style='background-color: #ffffff'> is<span class='feature_val'> (0.00)</span></span><span class='token' style='background-color: #ffffff'> consistently<span class='feature_val'> (0.00)</span></span><span class='token' style='background-color: #ffffff'> low<span class='feature_val'> (0.00)</span></span><span class='token' style='background-color: #ffffff'> and<span class='feature_val'> (0.00)</span></span><span class='token' style='background-color: #ffffff'> the<span class='feature_val'> (0.00)</span></span><span class='token' style='background-color: #ffffff'> unwillingness<span class='feature_val'> (0.00)</span></span><span class='token' style='background-color: #ffffff'> to<span class='feature_val'> (0.00)</span></span><span class='token' style='background-color: #ffffff'> hold<span class='feature_val'> (0.00)</span></span><span class='token' style='background-color: #ffffff'> elected<span class='feature_val'> (0.00)</span></span><span class='token' style='background-color: #ffffff'> officials<span class='feature_val'> (0.00)</span></span><span class='token' style='background-color: #ffffff'> accountable<span class='feature_val'> (0.00)</span></span><span class='token' style='background-color: #ffffff'> for<span class='feature_val'> (0.00)</span></span><span class='token' style='background-color: #ffffff'> more<span class='feature_val'> (0.00)</span></span><span class='token' style='background-color: #ffffff'> than<span class='feature_val'> (0.00)</span></span><span class='token' style='background-color: #ffffff'> just<span class='feature_val'> (0.00)</span></span><span class='token' style='background-color: #ffffff'> token<span class='feature_val'> (0.00)</span></span><span class='token' style='background-color: #ffffff'> gestures<span class='feature_val'> (0.00)</span></span><span class='token' style='background-color: #ffffff'> and<span class='feature_val'> (0.00)</span></span><span class='token' style='background-color: #ffffff'> show<span class='feature_val'> (0.00)</span></span><span class='token' style='background-color: #ffffff'>manship<span class='feature_val'> (0.00)</span></span><span class='token' style='background-color: #ffffff'> ensures<span class='feature_val'> (0.00)</span></span><span class='token' style='background-color: #ffffff'> that<span class='feature_val'> (0.00)</span></span><span class='token' style='background-color: #ffffff'> black<span class='feature_val'> (0.00)</span></span><span class='token' style='background-color: #ffffff'> votes<span class='feature_val'> (0.00)</span></span><span class='token' style='background-color: #ffffff'> can<span class='feature_val'> (0.00)</span></span><span class='token' style='background-color: #ffffff'> either<span class='feature_val'> (0.00)</span></span><span class='token' style='background-color: #ffffff'> be<span class='feature_val'> (0.00)</span></span><span class='token' style='background-color: #ffffff'> taken<span class='feature_val'> (0.00)</span></span><span class='token' style='background-color: #ffffff'> for<span class='feature_val'> (0.00)</span></span><span class='token' style='background-color: #ffffff'> granted<span class='feature_val'> (0.00)</span></span><span class='token' style='background-color: #ffffff'> or<span class='feature_val'> (0.00)</span></span><span class='token' style='background-color: #ffffff'> ignored<span class='feature_val'> (0.00)</span></span><span class='token' style='background-color: #ffffff'> altogether<span class='feature_val'> (0.00)</span></span><span class='token' style='background-color: #ffffff'> by<span class='feature_val'> (0.00)</span></span><span class='token' style='background-color: #ffffff'> local<span class='feature_val'> (0.00)</span></span><span class='token' style='background-color: #ffffff'> politicians<span class='feature_val'> (0.00)</span></span><span class='token' style='background-color: #ffffff'>.<span class='feature_val'> (0.00)</span></span><span class='token' style='background-color: #ffffff'>\n",
       "<span class='feature_val'> (0.00)</span></span><span class='token' style='background-color: #ffffff'>\n",
       "<span class='feature_val'> (0.00)</span></span><span class='token' style='background-color: #ffffff'>So<span class='feature_val'> (0.00)</span></span><span class='token' style='background-color: #ffffff'> this<span class='feature_val'> (0.00)</span></span><span class='token' style='background-color: #ffffff'> is<span class='feature_val'> (0.00)</span></span><span class='token' style='background-color: #ffffff'> the<span class='feature_val'> (0.00)</span></span><span class='token' style='background-color: #ffffff'> state<span class='feature_val'> (0.00)</span></span><span class='token' style='background-color: #ffffff'> of<span class='feature_val'> (0.00)</span></span><span class='token' style='background-color: #ffffff'> things<span class='feature_val'> (0.00)</span></span><span class='token' style='background-color: #ffffff'>.<span class='feature_val'> (0.00)</span></span><span class='token' style='background-color: #ffffff'> Pittsburgh<span class='feature_val'> (0.00)</span></span><span class='token' style='background-color: #ffffff'>,<span class='feature_val'> (0.00)</span></span><span class='token' style='background-color: #ffffff'> as<span class='feature_val'> (0.00)</span></span><span class='token' style='background-color: #ffffff'> a<span class='feature_val'> (0.00)</span></span><span class='token' style='background-color: #ffffff'> city<span class='feature_val'> (0.00)</span></span><span class='token' style='background-color: #ffffff'>,<span class='feature_val'> (0.00)</span></span><span class='token' style='background-color: #ffffff'> may<span class='feature_val'> (0.00)</span></span><span class='token' style='background-color: #ffffff'> be<span class='feature_val'> (0.00)</span></span><span class='token' style='background-color: #ffffff'> cl<span class='feature_val'> (0.00)</span></span><span class='token' style='background-color: #ffffff'>iqu<span class='feature_val'> (0.00)</span></span><span class='token' style='background-color: #ffffff'>ish<span class='feature_val'> (0.00)</span></span><span class='token' style='background-color: #ffffff'>,<span class='feature_val'> (0.00)</span></span><span class='token' style='background-color: #ffffff'> conservative<span class='feature_val'> (0.00)</span></span><span class='token' style='background-color: #ffffff'>,<span class='feature_val'> (0.00)</span></span><span class='token' style='background-color: #ffffff'> par<span class='feature_val'> (0.00)</span></span><span class='token' style='background-color: #ffffff'>och<span class='feature_val'> (0.00)</span></span><span class='token' style='background-color: #ffffff'>ial<span class='feature_val'> (0.00)</span></span><span class='token' style='background-color: #ffffff'>,<span class='feature_val'> (0.00)</span></span><span class='token' style='background-color: #ffffff'> and<span class='feature_val'> (0.00)</span></span><span class='token' style='background-color: #ffffff'> ins<span class='feature_val'> (0.00)</span></span><span class='token' style='background-color: #ffffff'>ular<span class='feature_val'> (0.00)</span></span><span class='token' style='background-color: #ffffff'> --<span class='feature_val'> (0.00)</span></span><span class='token' style='background-color: #ffffff'> thereby<span class='feature_val'> (0.00)</span></span><span class='token' style='background-color: #ffffff'> marginal<span class='feature_val'> (0.00)</span></span><span class='token' style='background-color: #ffffff'>izing<span class='feature_val'> (0.00)</span></span><span class='token' style='background-color: #ffffff'> black<span class='feature_val'> (0.00)</span></span><span class='token' style='background-color: #ffffff'> Pittsburgh<span class='feature_val'> (0.00)</span></span><span class='token' style='background-color: #ffffff'>,<span class='feature_val'> (0.00)</span></span><span class='token' style='background-color: #ffffff'> but<span class='feature_val'> (0.00)</span></span><span class='token' style='background-color: #ffffff'> black<span class='feature_val'> (0.00)</span></span><span class='token' style='background-color: #ffffff'> Pittsburgh<span class='feature_val'> (0.00)</span></span><span class='token' style='background-color: #ffffff'> is<span class='feature_val'> (0.00)</span></span><span class='token' style='background-color: #ffffff'> also<span class='feature_val'> (0.00)</span></span><span class='token' style='background-color: #ffffff'> cl<span class='feature_val'> (0.00)</span></span><span class='token' style='background-color: #ffffff'>iqu<span class='feature_val'> (0.00)</span></span><span class='token' style='background-color: #ffffff'>ish<span class='feature_val'> (0.00)</span></span><span class='token' style='background-color: #ffac47'>,<span class='feature_val'> (3.65)</span></span><span class='token' style='background-color: #ff8c00'> par<span class='feature_val'> (5.07)</span></span><span class='token' style='background-color: #ffa334'>och<span class='feature_val'> (4.02)</span></span><span class='token' style='background-color: #ffefdc'>ial<span class='feature_val'> (0.69)</span></span><span class='token' style='background-color: #fff1e1'>,<span class='feature_val'> (0.59)</span></span><span class='token' style='background-color: #fff9f2'> conservative<span class='feature_val'> (0.25)</span></span><span class='token' style='background-color: #ffddb3'> and<span class='feature_val'> (1.49)</span></span><span class='token' style='background-color: #fff6ec'> ins<span class='feature_val'> (0.38)</span></span><span class='token' style='background-color: #ffffff'>ular<span class='feature_val'> (0.00)</span></span><span class='token' style='background-color: #ffffff'>,<span class='feature_val'> (0.00)</span></span><span class='token' style='background-color: #ffffff'> which<span class='feature_val'> (0.00)</span></span><span class='token' style='background-color: #ffffff'> makes<span class='feature_val'> (0.00)</span></span><span class='token' style='background-color: #ffffff'> it<span class='feature_val'> (0.00)</span></span><span class='token' style='background-color: #ffffff'> difficult<span class='feature_val'> (0.00)</span></span><span class='token' style='background-color: #fffefd'>,<span class='feature_val'> (0.02)</span></span><span class='token' style='background-color: #ffffff'> if<span class='feature_val'> (0.00)</span></span><span class='token' style='background-color: #ffffff'> not<span class='feature_val'> (0.00)</span></span><span class='token' style='background-color: #ffffff'> impossible<span class='feature_val'> (0.00)</span></span><span class='token' style='background-color: #ffffff'>,<span class='feature_val'> (0.00)</span></span><span class='token' style='background-color: #ffffff'> to<span class='feature_val'> (0.00)</span></span><span class='token' style='background-color: #ffffff'> bring<span class='feature_val'> (0.00)</span></span>"
      ],
      "text/plain": [
       "<IPython.core.display.HTML object>"
      ]
     },
     "metadata": {},
     "output_type": "display_data"
    },
    {
     "data": {
      "text/html": [
       "\n",
       "    <style>\n",
       "        span.token {\n",
       "            font-family: monospace;\n",
       "            border-style: solid;\n",
       "            border-width: 1px;\n",
       "            border-color: #dddddd;\n",
       "        }\n",
       "    </style>\n",
       "    <span class='token' style='background-color: #ffffff'>&lt;|endoftext|&gt;<span class='feature_val'> (0.00)</span></span><span class='token' style='background-color: #ffffff'>1<span class='feature_val'> (0.00)</span></span><span class='token' style='background-color: #ffffff'>x<span class='feature_val'> (0.00)</span></span><span class='token' style='background-color: #ffffff'> Toll<span class='feature_val'> (0.00)</span></span><span class='token' style='background-color: #ffffff'>bo<span class='feature_val'> (0.00)</span></span><span class='token' style='background-color: #ffffff'>oth<span class='feature_val'> (0.00)</span></span><span class='token' style='background-color: #ffffff'> •<span class='feature_val'> (0.00)</span></span><span class='token' style='background-color: #ffffff'>•<span class='feature_val'> (0.00)</span></span><span class='token' style='background-color: #ffffff'>\n",
       "<span class='feature_val'> (0.00)</span></span><span class='token' style='background-color: #ffffff'>\n",
       "<span class='feature_val'> (0.00)</span></span><span class='token' style='background-color: #ffffff'>S<span class='feature_val'> (0.00)</span></span><span class='token' style='background-color: #ffffff'>entry<span class='feature_val'> (0.00)</span></span><span class='token' style='background-color: #ffffff'> (<span class='feature_val'> (0.00)</span></span><span class='token' style='background-color: #ffffff'>5<span class='feature_val'> (0.00)</span></span><span class='token' style='background-color: #ffffff'>)<span class='feature_val'> (0.00)</span></span><span class='token' style='background-color: #ffffff'>\n",
       "<span class='feature_val'> (0.00)</span></span><span class='token' style='background-color: #ffffff'>\n",
       "<span class='feature_val'> (0.00)</span></span><span class='token' style='background-color: #ffffff'>3<span class='feature_val'> (0.00)</span></span><span class='token' style='background-color: #ffffff'>x<span class='feature_val'> (0.00)</span></span><span class='token' style='background-color: #ffffff'> Architect<span class='feature_val'> (0.00)</span></span><span class='token' style='background-color: #ffffff'>\n",
       "<span class='feature_val'> (0.00)</span></span><span class='token' style='background-color: #ffffff'>\n",
       "<span class='feature_val'> (0.00)</span></span><span class='token' style='background-color: #ffffff'>2<span class='feature_val'> (0.00)</span></span><span class='token' style='background-color: #ffffff'>x<span class='feature_val'> (0.00)</span></span><span class='token' style='background-color: #ffffff'> NEXT<span class='feature_val'> (0.00)</span></span><span class='token' style='background-color: #ffffff'> Gold<span class='feature_val'> (0.00)</span></span><span class='token' style='background-color: #ffffff'>\n",
       "<span class='feature_val'> (0.00)</span></span><span class='token' style='background-color: #ffffff'>\n",
       "<span class='feature_val'> (0.00)</span></span><span class='token' style='background-color: #ffffff'>Other<span class='feature_val'> (0.00)</span></span><span class='token' style='background-color: #ffffff'> (<span class='feature_val'> (0.00)</span></span><span class='token' style='background-color: #ffffff'>1<span class='feature_val'> (0.00)</span></span><span class='token' style='background-color: #ffffff'>)<span class='feature_val'> (0.00)</span></span><span class='token' style='background-color: #ffffff'>\n",
       "<span class='feature_val'> (0.00)</span></span><span class='token' style='background-color: #ffffff'>\n",
       "<span class='feature_val'> (0.00)</span></span><span class='token' style='background-color: #ffffff'>1<span class='feature_val'> (0.00)</span></span><span class='token' style='background-color: #ffffff'>x<span class='feature_val'> (0.00)</span></span><span class='token' style='background-color: #ffffff'> Mother<span class='feature_val'> (0.00)</span></span><span class='token' style='background-color: #ffffff'> Goddess<span class='feature_val'> (0.00)</span></span><span class='token' style='background-color: #ffffff'>\n",
       "<span class='feature_val'> (0.00)</span></span><span class='token' style='background-color: #ffffff'>\n",
       "<span class='feature_val'> (0.00)</span></span><span class='token' style='background-color: #ffffff'>The<span class='feature_val'> (0.00)</span></span><span class='token' style='background-color: #ffffff'> cards<span class='feature_val'> (0.00)</span></span><span class='token' style='background-color: #ffffff'> that<span class='feature_val'> (0.00)</span></span><span class='token' style='background-color: #ffffff'> are<span class='feature_val'> (0.00)</span></span><span class='token' style='background-color: #ffffff'> good<span class='feature_val'> (0.00)</span></span><span class='token' style='background-color: #ffffff'> against<span class='feature_val'> (0.00)</span></span><span class='token' style='background-color: #ffffff'> this<span class='feature_val'> (0.00)</span></span><span class='token' style='background-color: #ffffff'> deck<span class='feature_val'> (0.00)</span></span><span class='token' style='background-color: #ffffff'> are<span class='feature_val'> (0.00)</span></span><span class='token' style='background-color: #ffffff'> cards<span class='feature_val'> (0.00)</span></span><span class='token' style='background-color: #ffffff'> such<span class='feature_val'> (0.00)</span></span><span class='token' style='background-color: #ffffff'> as<span class='feature_val'> (0.00)</span></span><span class='token' style='background-color: #ffffff'> Paras<span class='feature_val'> (0.00)</span></span><span class='token' style='background-color: #ffffff'>ite<span class='feature_val'> (0.00)</span></span><span class='token' style='background-color: #ffffff'>,<span class='feature_val'> (0.00)</span></span><span class='token' style='background-color: #ffffff'> Crescent<span class='feature_val'> (0.00)</span></span><span class='token' style='background-color: #ffffff'>us<span class='feature_val'> (0.00)</span></span><span class='token' style='background-color: #ffffff'>,<span class='feature_val'> (0.00)</span></span><span class='token' style='background-color: #ffffff'> and<span class='feature_val'> (0.00)</span></span><span class='token' style='background-color: #ffffff'> Emergency<span class='feature_val'> (0.00)</span></span><span class='token' style='background-color: #ffffff'> Shutdown<span class='feature_val'> (0.00)</span></span><span class='token' style='background-color: #ffffff'>,<span class='feature_val'> (0.00)</span></span><span class='token' style='background-color: #ffffff'> the<span class='feature_val'> (0.00)</span></span><span class='token' style='background-color: #ffffff'> ice<span class='feature_val'> (0.00)</span></span><span class='token' style='background-color: #ffffff'> is<span class='feature_val'> (0.00)</span></span><span class='token' style='background-color: #ffffff'> often<span class='feature_val'> (0.00)</span></span><span class='token' style='background-color: #ffffff'> expensive<span class='feature_val'> (0.00)</span></span><span class='token' style='background-color: #ffffff'> to<span class='feature_val'> (0.00)</span></span><span class='token' style='background-color: #ffffff'> re<span class='feature_val'> (0.00)</span></span><span class='token' style='background-color: #ffffff'>z<span class='feature_val'> (0.00)</span></span><span class='token' style='background-color: #ffffff'> and<span class='feature_val'> (0.00)</span></span><span class='token' style='background-color: #ffffff'> taxing<span class='feature_val'> (0.00)</span></span><span class='token' style='background-color: #ffffff'>,<span class='feature_val'> (0.00)</span></span><span class='token' style='background-color: #ffffff'> therefore<span class='feature_val'> (0.00)</span></span><span class='token' style='background-color: #ffffff'> killing<span class='feature_val'> (0.00)</span></span><span class='token' style='background-color: #ffffff'> the<span class='feature_val'> (0.00)</span></span><span class='token' style='background-color: #ffffff'> ice<span class='feature_val'> (0.00)</span></span><span class='token' style='background-color: #ffffff'> with<span class='feature_val'> (0.00)</span></span><span class='token' style='background-color: #ffffff'> Paras<span class='feature_val'> (0.00)</span></span><span class='token' style='background-color: #fffcfa'>ite<span class='feature_val'> (0.08)</span></span><span class='token' style='background-color: #ffffff'> stops<span class='feature_val'> (0.00)</span></span><span class='token' style='background-color: #ffffff'> the<span class='feature_val'> (0.00)</span></span><span class='token' style='background-color: #ffffff'> need<span class='feature_val'> (0.00)</span></span><span class='token' style='background-color: #ffffff'> to<span class='feature_val'> (0.00)</span></span><span class='token' style='background-color: #fffcfa'> break<span class='feature_val'> (0.08)</span></span><span class='token' style='background-color: #ffffff'> them<span class='feature_val'> (0.00)</span></span><span class='token' style='background-color: #fff0dd'> on<span class='feature_val'> (0.56)</span></span><span class='token' style='background-color: #ffffff'> multiple<span class='feature_val'> (0.00)</span></span><span class='token' style='background-color: #ffffff'> occasions<span class='feature_val'> (0.00)</span></span><span class='token' style='background-color: #fef6ec'> (<span class='feature_val'> (0.31)</span></span><span class='token' style='background-color: #ffffff'>and<span class='feature_val'> (0.00)</span></span><span class='token' style='background-color: #fffbf6'> removes<span class='feature_val'> (0.15)</span></span><span class='token' style='background-color: #ffffff'> the<span class='feature_val'> (0.00)</span></span><span class='token' style='background-color: #ffffff'> NEXT<span class='feature_val'> (0.00)</span></span><span class='token' style='background-color: #ffffff'> Silver<span class='feature_val'> (0.00)</span></span><span class='token' style='background-color: #ffffff'> which<span class='feature_val'> (0.00)</span></span><span class='token' style='background-color: #ffffff'> is<span class='feature_val'> (0.00)</span></span><span class='token' style='background-color: #ffffff'> key<span class='feature_val'> (0.00)</span></span><span class='token' style='background-color: #ff8c00'>),<span class='feature_val'> (4.29)</span></span><span class='token' style='background-color: #ff9719'> and<span class='feature_val'> (3.85)</span></span><span class='token' style='background-color: #ffffff'> dere<span class='feature_val'> (0.00)</span></span><span class='token' style='background-color: #ffffff'>zz<span class='feature_val'> (0.00)</span></span><span class='token' style='background-color: #ffac47'>ing<span class='feature_val'> (3.08)</span></span><span class='token' style='background-color: #ffffff'> effects<span class='feature_val'> (0.00)</span></span><span class='token' style='background-color: #ffffff'> are<span class='feature_val'> (0.00)</span></span><span class='token' style='background-color: #ffffff'> strong<span class='feature_val'> (0.00)</span></span><span class='token' style='background-color: #ffffff'> as<span class='feature_val'> (0.00)</span></span><span class='token' style='background-color: #ffffff'> it<span class='feature_val'> (0.00)</span></span><span class='token' style='background-color: #ffffff'> will<span class='feature_val'> (0.00)</span></span><span class='token' style='background-color: #ffffff'> often<span class='feature_val'> (0.00)</span></span><span class='token' style='background-color: #fffcf8'> cause<span class='feature_val'> (0.10)</span></span><span class='token' style='background-color: #ffffff'> the<span class='feature_val'> (0.00)</span></span><span class='token' style='background-color: #ffffff'> corporation<span class='feature_val'> (0.00)</span></span><span class='token' style='background-color: #ffffff'> credit<span class='feature_val'> (0.00)</span></span><span class='token' style='background-color: #ffffff'> problems<span class='feature_val'> (0.00)</span></span><span class='token' style='background-color: #ffd9ab'>.<span class='feature_val'> (1.41)</span></span><span class='token' style='background-color: #ffffff'> Multi<span class='feature_val'> (0.00)</span></span><span class='token' style='background-color: #ffffff'> access<span class='feature_val'> (0.00)</span></span><span class='token' style='background-color: #ffffff'> cards<span class='feature_val'> (0.00)</span></span><span class='token' style='background-color: #ffffff'> are<span class='feature_val'> (0.00)</span></span><span class='token' style='background-color: #ffffff'> also<span class='feature_val'> (0.00)</span></span><span class='token' style='background-color: #ffffff'> very<span class='feature_val'> (0.00)</span></span><span class='token' style='background-color: #ffffff'> strong<span class='feature_val'> (0.00)</span></span><span class='token' style='background-color: #ffffff'> as<span class='feature_val'> (0.00)</span></span><span class='token' style='background-color: #ffffff'> they<span class='feature_val'> (0.00)</span></span><span class='token' style='background-color: #ffffff'> allow<span class='feature_val'> (0.00)</span></span><span class='token' style='background-color: #ffffff'> you<span class='feature_val'> (0.00)</span></span><span class='token' style='background-color: #ffffff'> to<span class='feature_val'> (0.00)</span></span>"
      ],
      "text/plain": [
       "<IPython.core.display.HTML object>"
      ]
     },
     "metadata": {},
     "output_type": "display_data"
    },
    {
     "data": {
      "text/html": [
       "\n",
       "    <style>\n",
       "        span.token {\n",
       "            font-family: monospace;\n",
       "            border-style: solid;\n",
       "            border-width: 1px;\n",
       "            border-color: #dddddd;\n",
       "        }\n",
       "    </style>\n",
       "    <span class='token' style='background-color: #ffffff'>&lt;|endoftext|&gt;<span class='feature_val'> (0.00)</span></span><span class='token' style='background-color: #ffffff'>\n",
       "<span class='feature_val'> (0.00)</span></span><span class='token' style='background-color: #ffffff'>(<span class='feature_val'> (0.00)</span></span><span class='token' style='background-color: #ffffff'>If<span class='feature_val'> (0.00)</span></span><span class='token' style='background-color: #ffffff'> V<span class='feature_val'> (0.00)</span></span><span class='token' style='background-color: #ffffff'> 2<span class='feature_val'> (0.00)</span></span><span class='token' style='background-color: #ffffff'> =<span class='feature_val'> (0.00)</span></span><span class='token' style='background-color: #ffffff'> V<span class='feature_val'> (0.00)</span></span><span class='token' style='background-color: #ffffff'> 1<span class='feature_val'> (0.00)</span></span><span class='token' style='background-color: #ffffff'> ,<span class='feature_val'> (0.00)</span></span><span class='token' style='background-color: #ffffff'> it<span class='feature_val'> (0.00)</span></span><span class='token' style='background-color: #ffffff'> means<span class='feature_val'> (0.00)</span></span><span class='token' style='background-color: #ffffff'> that<span class='feature_val'> (0.00)</span></span><span class='token' style='background-color: #ffffff'> the<span class='feature_val'> (0.00)</span></span><span class='token' style='background-color: #ffffff'> sand<span class='feature_val'> (0.00)</span></span><span class='token' style='background-color: #ffffff'> samples<span class='feature_val'> (0.00)</span></span><span class='token' style='background-color: #ffffff'> has<span class='feature_val'> (0.00)</span></span><span class='token' style='background-color: #ffffff'> retained<span class='feature_val'> (0.00)</span></span><span class='token' style='background-color: #ffffff'> to<span class='feature_val'> (0.00)</span></span><span class='token' style='background-color: #ffffff'> its<span class='feature_val'> (0.00)</span></span><span class='token' style='background-color: #ffffff'> original<span class='feature_val'> (0.00)</span></span><span class='token' style='background-color: #ffffff'> volume<span class='feature_val'> (0.00)</span></span><span class='token' style='background-color: #ffffff'>,<span class='feature_val'> (0.00)</span></span><span class='token' style='background-color: #ffffff'> i<span class='feature_val'> (0.00)</span></span><span class='token' style='background-color: #ffffff'>.<span class='feature_val'> (0.00)</span></span><span class='token' style='background-color: #ffffff'>e<span class='feature_val'> (0.00)</span></span><span class='token' style='background-color: #ffffff'>.,<span class='feature_val'> (0.00)</span></span><span class='token' style='background-color: #ffffff'> it<span class='feature_val'> (0.00)</span></span><span class='token' style='background-color: #ffffff'> has<span class='feature_val'> (0.00)</span></span><span class='token' style='background-color: #ffffff'> shown<span class='feature_val'> (0.00)</span></span><span class='token' style='background-color: #ffffff'> no<span class='feature_val'> (0.00)</span></span><span class='token' style='background-color: #ffffff'> bul<span class='feature_val'> (0.00)</span></span><span class='token' style='background-color: #ffffff'>king<span class='feature_val'> (0.00)</span></span><span class='token' style='background-color: #ffffff'>).<span class='feature_val'> (0.00)</span></span><span class='token' style='background-color: #ffffff'>\n",
       "<span class='feature_val'> (0.00)</span></span><span class='token' style='background-color: #ffffff'>\n",
       "<span class='feature_val'> (0.00)</span></span><span class='token' style='background-color: #ffffff'>But<span class='feature_val'> (0.00)</span></span><span class='token' style='background-color: #ffffff'> Let<span class='feature_val'> (0.00)</span></span><span class='token' style='background-color: #ffffff'>�<span class='feature_val'> (0.00)</span></span><span class='token' style='background-color: #ffffff'>�<span class='feature_val'> (0.00)</span></span><span class='token' style='background-color: #ffffff'>s<span class='feature_val'> (0.00)</span></span><span class='token' style='background-color: #ffffff'> say<span class='feature_val'> (0.00)</span></span><span class='token' style='background-color: #ffffff'> in<span class='feature_val'> (0.00)</span></span><span class='token' style='background-color: #ffffff'> another<span class='feature_val'> (0.00)</span></span><span class='token' style='background-color: #ffffff'> case<span class='feature_val'> (0.00)</span></span><span class='token' style='background-color: #ffffff'> V<span class='feature_val'> (0.00)</span></span><span class='token' style='background-color: #ffffff'> =<span class='feature_val'> (0.00)</span></span><span class='token' style='background-color: #ffffff'> 24<span class='feature_val'> (0.00)</span></span><span class='token' style='background-color: #ffffff'> cm<span class='feature_val'> (0.00)</span></span><span class='token' style='background-color: #ffffff'>.<span class='feature_val'> (0.00)</span></span><span class='token' style='background-color: #ffffff'> Then<span class='feature_val'> (0.00)</span></span><span class='token' style='background-color: #ffffff'> bul<span class='feature_val'> (0.00)</span></span><span class='token' style='background-color: #ffffff'>king<span class='feature_val'> (0.00)</span></span><span class='token' style='background-color: #ffffff'> of<span class='feature_val'> (0.00)</span></span><span class='token' style='background-color: #ffffff'> sand<span class='feature_val'> (0.00)</span></span><span class='token' style='background-color: #ffffff'> sample<span class='feature_val'> (0.00)</span></span><span class='token' style='background-color: #ffffff'> will<span class='feature_val'> (0.00)</span></span><span class='token' style='background-color: #ffffff'> be<span class='feature_val'> (0.00)</span></span><span class='token' style='background-color: #ffffff'>:<span class='feature_val'> (0.00)</span></span><span class='token' style='background-color: #ffffff'> V<span class='feature_val'> (0.00)</span></span><span class='token' style='background-color: #ffffff'> 1<span class='feature_val'> (0.00)</span></span><span class='token' style='background-color: #fef6ec'> -<span class='feature_val'> (0.10)</span></span><span class='token' style='background-color: #ffddb4'>V<span class='feature_val'> (0.39)</span></span><span class='token' style='background-color: #ffffff'> 2<span class='feature_val'> (0.00)</span></span><span class='token' style='background-color: #ffffff'> /<span class='feature_val'> (0.00)</span></span><span class='token' style='background-color: #ffffff'>V<span class='feature_val'> (0.00)</span></span><span class='token' style='background-color: #fef8f1'> 1<span class='feature_val'> (0.07)</span></span><span class='token' style='background-color: #ffffff'> x<span class='feature_val'> (0.00)</span></span><span class='token' style='background-color: #ffffff'> 100<span class='feature_val'> (0.00)</span></span><span class='token' style='background-color: #ffffff'>.<span class='feature_val'> (0.00)</span></span><span class='token' style='background-color: #ffffff'>\n",
       "<span class='feature_val'> (0.00)</span></span><span class='token' style='background-color: #ffffff'>\n",
       "<span class='feature_val'> (0.00)</span></span><span class='token' style='background-color: #ffffff'>Now<span class='feature_val'> (0.00)</span></span><span class='token' style='background-color: #ffffff'> just<span class='feature_val'> (0.00)</span></span><span class='token' style='background-color: #ffffff'> put<span class='feature_val'> (0.00)</span></span><span class='token' style='background-color: #ffffff'> the<span class='feature_val'> (0.00)</span></span><span class='token' style='background-color: #ffffff'> values<span class='feature_val'> (0.00)</span></span><span class='token' style='background-color: #ffffff'> of<span class='feature_val'> (0.00)</span></span><span class='token' style='background-color: #ffffff'> V<span class='feature_val'> (0.00)</span></span><span class='token' style='background-color: #ffffff'> 1<span class='feature_val'> (0.00)</span></span><span class='token' style='background-color: #ffffff'> =<span class='feature_val'> (0.00)</span></span><span class='token' style='background-color: #ffffff'> 30<span class='feature_val'> (0.00)</span></span><span class='token' style='background-color: #ffffff'> cm<span class='feature_val'> (0.00)</span></span><span class='token' style='background-color: #ffffff'>3<span class='feature_val'> (0.00)</span></span><span class='token' style='background-color: #ffd8a9'> and<span class='feature_val'> (0.44)</span></span><span class='token' style='background-color: #ff910c'> V<span class='feature_val'> (1.26)</span></span><span class='token' style='background-color: #fff0de'> 2<span class='feature_val'> (0.17)</span></span><span class='token' style='background-color: #ffffff'> =<span class='feature_val'> (0.00)</span></span><span class='token' style='background-color: #ffffff'> 24<span class='feature_val'> (0.00)</span></span><span class='token' style='background-color: #ffffff'> cm<span class='feature_val'> (0.00)</span></span><span class='token' style='background-color: #ffffff'>3<span class='feature_val'> (0.00)</span></span><span class='token' style='background-color: #ffffff'>.<span class='feature_val'> (0.00)</span></span><span class='token' style='background-color: #ffffff'>\n",
       "<span class='feature_val'> (0.00)</span></span><span class='token' style='background-color: #ffffff'>\n",
       "<span class='feature_val'> (0.00)</span></span><span class='token' style='background-color: #ffffff'>So<span class='feature_val'> (0.00)</span></span><span class='token' style='background-color: #ffffff'>,<span class='feature_val'> (0.00)</span></span><span class='token' style='background-color: #ffffff'> Now<span class='feature_val'> (0.00)</span></span><span class='token' style='background-color: #ffedd8'> 30<span class='feature_val'> (0.20)</span></span><span class='token' style='background-color: #ffcc8f'>-<span class='feature_val'> (0.58)</span></span><span class='token' style='background-color: #ff9f2b'>24<span class='feature_val'> (1.10)</span></span><span class='token' style='background-color: #ffaa43'>/<span class='feature_val'> (0.98)</span></span><span class='token' style='background-color: #ff8c00'>30<span class='feature_val'> (1.33)</span></span><span class='token' style='background-color: #ffa73c'> x<span class='feature_val'> (1.01)</span></span><span class='token' style='background-color: #ffa02d'> 100<span class='feature_val'> (1.09)</span></span><span class='token' style='background-color: #ffa539'> =&gt;<span class='feature_val'> (1.03)</span></span><span class='token' style='background-color: #ffddb4'> 6<span class='feature_val'> (0.39)</span></span><span class='token' style='background-color: #ffd39e'>/<span class='feature_val'> (0.50)</span></span><span class='token' style='background-color: #ffbc6b'>30<span class='feature_val'> (0.77)</span></span><span class='token' style='background-color: #ffe4c4'> x<span class='feature_val'> (0.31)</span></span><span class='token' style='background-color: #ffc37b'> 100<span class='feature_val'> (0.68)</span></span><span class='token' style='background-color: #ffce93'> =&gt;<span class='feature_val'> (0.56)</span></span><span class='token' style='background-color: #ffe5c5'> 20<span class='feature_val'> (0.30)</span></span><span class='token' style='background-color: #ffffff'>%.<span class='feature_val'> (0.00)</span></span><span class='token' style='background-color: #ffffff'>\n",
       "<span class='feature_val'> (0.00)</span></span><span class='token' style='background-color: #ffffff'>\n",
       "<span class='feature_val'> (0.00)</span></span><span class='token' style='background-color: #ffffff'>So<span class='feature_val'> (0.00)</span></span><span class='token' style='background-color: #ffeedb'>,<span class='feature_val'> (0.19)</span></span><span class='token' style='background-color: #ffffff'> this<span class='feature_val'> (0.00)</span></span><span class='token' style='background-color: #ffffff'> means<span class='feature_val'> (0.00)</span></span><span class='token' style='background-color: #ffffff'> that<span class='feature_val'> (0.00)</span></span><span class='token' style='background-color: #ffe1bc'> 20<span class='feature_val'> (0.35)</span></span><span class='token' style='background-color: #ffffff'>%<span class='feature_val'> (0.00)</span></span><span class='token' style='background-color: #ffffff'> of<span class='feature_val'> (0.00)</span></span><span class='token' style='background-color: #ffffff'> bul<span class='feature_val'> (0.00)</span></span><span class='token' style='background-color: #ffffff'>king<span class='feature_val'> (0.00)</span></span><span class='token' style='background-color: #ffffff'> of<span class='feature_val'> (0.00)</span></span><span class='token' style='background-color: #ffffff'> sand<span class='feature_val'> (0.00)</span></span><span class='token' style='background-color: #ffffff'> has<span class='feature_val'> (0.00)</span></span>"
      ],
      "text/plain": [
       "<IPython.core.display.HTML object>"
      ]
     },
     "metadata": {},
     "output_type": "display_data"
    },
    {
     "data": {
      "text/html": [
       "\n",
       "    <style>\n",
       "        span.token {\n",
       "            font-family: monospace;\n",
       "            border-style: solid;\n",
       "            border-width: 1px;\n",
       "            border-color: #dddddd;\n",
       "        }\n",
       "    </style>\n",
       "    <span class='token' style='background-color: #ffffff'>&lt;|endoftext|&gt;<span class='feature_val'> (0.00)</span></span><span class='token' style='background-color: #ffffff'> viewed<span class='feature_val'> (0.00)</span></span><span class='token' style='background-color: #ffffff'> favorably<span class='feature_val'> (0.00)</span></span><span class='token' style='background-color: #ffffff'> for<span class='feature_val'> (0.00)</span></span><span class='token' style='background-color: #ffffff'> hire<span class='feature_val'> (0.00)</span></span><span class='token' style='background-color: #ffffff'> if<span class='feature_val'> (0.00)</span></span><span class='token' style='background-color: #ffffff'> their<span class='feature_val'> (0.00)</span></span><span class='token' style='background-color: #ffffff'> clothes<span class='feature_val'> (0.00)</span></span><span class='token' style='background-color: #ffffff'> were<span class='feature_val'> (0.00)</span></span><span class='token' style='background-color: #ffffff'> seen<span class='feature_val'> (0.00)</span></span><span class='token' style='background-color: #ffffff'> as<span class='feature_val'> (0.00)</span></span><span class='token' style='background-color: #ffffff'> more<span class='feature_val'> (0.00)</span></span><span class='token' style='background-color: #ffffff'> masculine<span class='feature_val'> (0.00)</span></span><span class='token' style='background-color: #ffffff'>.<span class='feature_val'> (0.00)</span></span><span class='token' style='background-color: #ffffff'> �<span class='feature_val'> (0.00)</span></span><span class='token' style='background-color: #ffffff'>�<span class='feature_val'> (0.00)</span></span><span class='token' style='background-color: #ffffff'>[<span class='feature_val'> (0.00)</span></span><span class='token' style='background-color: #ffffff'>F<span class='feature_val'> (0.00)</span></span><span class='token' style='background-color: #ffffff'>]<span class='feature_val'> (0.00)</span></span><span class='token' style='background-color: #ffffff'>emale<span class='feature_val'> (0.00)</span></span><span class='token' style='background-color: #ffffff'> applicants<span class='feature_val'> (0.00)</span></span><span class='token' style='background-color: #ffffff'>�<span class='feature_val'> (0.00)</span></span><span class='token' style='background-color: #ffffff'>�<span class='feature_val'> (0.00)</span></span><span class='token' style='background-color: #ffffff'> clothing<span class='feature_val'> (0.00)</span></span><span class='token' style='background-color: #ffffff'> is<span class='feature_val'> (0.00)</span></span><span class='token' style='background-color: #ffffff'> an<span class='feature_val'> (0.00)</span></span><span class='token' style='background-color: #ffffff'> avenue<span class='feature_val'> (0.00)</span></span><span class='token' style='background-color: #ffffff'> for<span class='feature_val'> (0.00)</span></span><span class='token' style='background-color: #ffffff'> influencing<span class='feature_val'> (0.00)</span></span><span class='token' style='background-color: #ffffff'> the<span class='feature_val'> (0.00)</span></span><span class='token' style='background-color: #ffffff'> selection<span class='feature_val'> (0.00)</span></span><span class='token' style='background-color: #ffffff'> decision<span class='feature_val'> (0.00)</span></span><span class='token' style='background-color: #ffffff'> for<span class='feature_val'> (0.00)</span></span><span class='token' style='background-color: #ffffff'> management<span class='feature_val'> (0.00)</span></span><span class='token' style='background-color: #ffffff'> positions<span class='feature_val'> (0.00)</span></span><span class='token' style='background-color: #ffffff'>,<span class='feature_val'> (0.00)</span></span><span class='token' style='background-color: #ffffff'>�<span class='feature_val'> (0.00)</span></span><span class='token' style='background-color: #ffffff'>�<span class='feature_val'> (0.00)</span></span><span class='token' style='background-color: #ffffff'> authors<span class='feature_val'> (0.00)</span></span><span class='token' style='background-color: #ffffff'> Sandra<span class='feature_val'> (0.00)</span></span><span class='token' style='background-color: #ffffff'> Fors<span class='feature_val'> (0.00)</span></span><span class='token' style='background-color: #ffffff'>y<span class='feature_val'> (0.00)</span></span><span class='token' style='background-color: #ffffff'>the<span class='feature_val'> (0.00)</span></span><span class='token' style='background-color: #ffffff'>,<span class='feature_val'> (0.00)</span></span><span class='token' style='background-color: #ffffff'> Mary<span class='feature_val'> (0.00)</span></span><span class='token' style='background-color: #ffffff'> Frances<span class='feature_val'> (0.00)</span></span><span class='token' style='background-color: #ffffff'> Drake<span class='feature_val'> (0.00)</span></span><span class='token' style='background-color: #ffffff'>,<span class='feature_val'> (0.00)</span></span><span class='token' style='background-color: #ffffff'> and<span class='feature_val'> (0.00)</span></span><span class='token' style='background-color: #ffffff'> Charles<span class='feature_val'> (0.00)</span></span><span class='token' style='background-color: #ffffff'> E<span class='feature_val'> (0.00)</span></span><span class='token' style='background-color: #ffffff'>.<span class='feature_val'> (0.00)</span></span><span class='token' style='background-color: #ffffff'> Cox<span class='feature_val'> (0.00)</span></span><span class='token' style='background-color: #ffffff'> concluded<span class='feature_val'> (0.00)</span></span><span class='token' style='background-color: #ffffff'>.<span class='feature_val'> (0.00)</span></span><span class='token' style='background-color: #ffffff'> Fors<span class='feature_val'> (0.00)</span></span><span class='token' style='background-color: #ffffff'>y<span class='feature_val'> (0.00)</span></span><span class='token' style='background-color: #ffffff'>the<span class='feature_val'> (0.00)</span></span><span class='token' style='background-color: #ffd5a2'> followed<span class='feature_val'> (1.38)</span></span><span class='token' style='background-color: #ffcb8c'> up<span class='feature_val'> (1.71)</span></span><span class='token' style='background-color: #ff8c00'> with<span class='feature_val'> (3.81)</span></span><span class='token' style='background-color: #ffe2c0'> a<span class='feature_val'> (0.93)</span></span><span class='token' style='background-color: #ffffff'> study<span class='feature_val'> (0.00)</span></span><span class='token' style='background-color: #ffc47e'> in<span class='feature_val'> (1.92)</span></span><span class='token' style='background-color: #ffffff'> 1987<span class='feature_val'> (0.00)</span></span><span class='token' style='background-color: #ffffff'> that<span class='feature_val'> (0.00)</span></span><span class='token' style='background-color: #ffffff'> found<span class='feature_val'> (0.00)</span></span><span class='token' style='background-color: #ffffff'> that<span class='feature_val'> (0.00)</span></span><span class='token' style='background-color: #ffffff'> more<span class='feature_val'> (0.00)</span></span><span class='token' style='background-color: #ffffff'> masculine<span class='feature_val'> (0.00)</span></span><span class='token' style='background-color: #ffffff'> clothing<span class='feature_val'> (0.00)</span></span><span class='token' style='background-color: #ffffff'> conve<span class='feature_val'> (0.00)</span></span><span class='token' style='background-color: #ffffff'>ys<span class='feature_val'> (0.00)</span></span><span class='token' style='background-color: #ffffff'> more<span class='feature_val'> (0.00)</span></span><span class='token' style='background-color: #ffffff'> masculine<span class='feature_val'> (0.00)</span></span><span class='token' style='background-color: #ffffff'> managerial<span class='feature_val'> (0.00)</span></span><span class='token' style='background-color: #ffffff'> traits<span class='feature_val'> (0.00)</span></span><span class='token' style='background-color: #ffb55b'>.<span class='feature_val'> (2.44)</span></span><span class='token' style='background-color: #ffffff'> The<span class='feature_val'> (0.00)</span></span><span class='token' style='background-color: #ffffff'> perception<span class='feature_val'> (0.00)</span></span><span class='token' style='background-color: #ffffff'> of<span class='feature_val'> (0.00)</span></span><span class='token' style='background-color: #ffffff'> a<span class='feature_val'> (0.00)</span></span><span class='token' style='background-color: #ffffff'> woman<span class='feature_val'> (0.00)</span></span><span class='token' style='background-color: #ffffff'> in<span class='feature_val'> (0.00)</span></span><span class='token' style='background-color: #ffffff'> her<span class='feature_val'> (0.00)</span></span><span class='token' style='background-color: #ffffff'> workplace<span class='feature_val'> (0.00)</span></span><span class='token' style='background-color: #ffffff'> can<span class='feature_val'> (0.00)</span></span><span class='token' style='background-color: #ffffff'> be<span class='feature_val'> (0.00)</span></span><span class='token' style='background-color: #ffffff'> influenced<span class='feature_val'> (0.00)</span></span><span class='token' style='background-color: #ffffff'> by<span class='feature_val'> (0.00)</span></span><span class='token' style='background-color: #ffffff'> everything<span class='feature_val'> (0.00)</span></span><span class='token' style='background-color: #ffffff'> from<span class='feature_val'> (0.00)</span></span><span class='token' style='background-color: #ffffff'> how<span class='feature_val'> (0.00)</span></span><span class='token' style='background-color: #ffffff'> much<span class='feature_val'> (0.00)</span></span><span class='token' style='background-color: #ffffff'> makeup<span class='feature_val'> (0.00)</span></span><span class='token' style='background-color: #ffffff'> she<span class='feature_val'> (0.00)</span></span><span class='token' style='background-color: #ffffff'> wears<span class='feature_val'> (0.00)</span></span><span class='token' style='background-color: #ffffff'> to<span class='feature_val'> (0.00)</span></span><span class='token' style='background-color: #ffffff'> her<span class='feature_val'> (0.00)</span></span><span class='token' style='background-color: #ffffff'> hair<span class='feature_val'> (0.00)</span></span><span class='token' style='background-color: #ffffff'> length<span class='feature_val'> (0.00)</span></span><span class='token' style='background-color: #ffdeb7'>.<span class='feature_val'> (1.06)</span></span><span class='token' style='background-color: #ffffff'>\n",
       "<span class='feature_val'> (0.00)</span></span><span class='token' style='background-color: #ffefdc'>\n",
       "<span class='feature_val'> (0.51)</span></span><span class='token' style='background-color: #ffffff'>Even<span class='feature_val'> (0.00)</span></span><span class='token' style='background-color: #ffffff'> more<span class='feature_val'> (0.00)</span></span><span class='token' style='background-color: #ffffff'> fraught<span class='feature_val'> (0.00)</span></span><span class='token' style='background-color: #ffffff'> choices<span class='feature_val'> (0.00)</span></span><span class='token' style='background-color: #ffffff'> face<span class='feature_val'> (0.00)</span></span><span class='token' style='background-color: #ffffff'> women<span class='feature_val'> (0.00)</span></span><span class='token' style='background-color: #ffffff'> of<span class='feature_val'> (0.00)</span></span><span class='token' style='background-color: #ffffff'> color<span class='feature_val'> (0.00)</span></span><span class='token' style='background-color: #ffffff'> or<span class='feature_val'> (0.00)</span></span><span class='token' style='background-color: #ffffff'> with<span class='feature_val'> (0.00)</span></span><span class='token' style='background-color: #ffffff'> lower<span class='feature_val'> (0.00)</span></span><span class='token' style='background-color: #ffffff'> incomes<span class='feature_val'> (0.00)</span></span><span class='token' style='background-color: #ffffff'>.<span class='feature_val'> (0.00)</span></span><span class='token' style='background-color: #ffffff'> As<span class='feature_val'> (0.00)</span></span><span class='token' style='background-color: #ffffff'> Jul<span class='feature_val'> (0.00)</span></span><span class='token' style='background-color: #ffffff'>iana<span class='feature_val'> (0.00)</span></span><span class='token' style='background-color: #ffffff'> Britt<span class='feature_val'> (0.00)</span></span><span class='token' style='background-color: #ffffff'>o<span class='feature_val'> (0.00)</span></span><span class='token' style='background-color: #ffffff'> wrote<span class='feature_val'> (0.00)</span></span><span class='token' style='background-color: #ffffff'> at<span class='feature_val'> (0.00)</span></span><span class='token' style='background-color: #ffffff'> Femin<span class='feature_val'> (0.00)</span></span><span class='token' style='background-color: #ffffff'>isting<span class='feature_val'> (0.00)</span></span><span class='token' style='background-color: #ffffff'>,<span class='feature_val'> (0.00)</span></span><span class='token' style='background-color: #ffffff'> many<span class='feature_val'> (0.00)</span></span>"
      ],
      "text/plain": [
       "<IPython.core.display.HTML object>"
      ]
     },
     "metadata": {},
     "output_type": "display_data"
    },
    {
     "data": {
      "text/html": [
       "\n",
       "    <style>\n",
       "        span.token {\n",
       "            font-family: monospace;\n",
       "            border-style: solid;\n",
       "            border-width: 1px;\n",
       "            border-color: #dddddd;\n",
       "        }\n",
       "    </style>\n",
       "    <span class='token' style='background-color: #ffffff'>&lt;|endoftext|&gt;<span class='feature_val'> (0.00)</span></span><span class='token' style='background-color: #ffffff'> Hart<span class='feature_val'> (0.00)</span></span><span class='token' style='background-color: #ffffff'> and<span class='feature_val'> (0.00)</span></span><span class='token' style='background-color: #ffffff'> Kyle<span class='feature_val'> (0.00)</span></span><span class='token' style='background-color: #ffffff'> Beck<span class='feature_val'> (0.00)</span></span><span class='token' style='background-color: #ffffff'>man<span class='feature_val'> (0.00)</span></span><span class='token' style='background-color: #ffffff'>.<span class='feature_val'> (0.00)</span></span><span class='token' style='background-color: #ffffff'> Hart<span class='feature_val'> (0.00)</span></span><span class='token' style='background-color: #ffffff'> was<span class='feature_val'> (0.00)</span></span><span class='token' style='background-color: #ffffff'> the<span class='feature_val'> (0.00)</span></span><span class='token' style='background-color: #ffffff'> prosecutor<span class='feature_val'> (0.00)</span></span><span class='token' style='background-color: #ffffff'> in<span class='feature_val'> (0.00)</span></span><span class='token' style='background-color: #ffffff'> the<span class='feature_val'> (0.00)</span></span><span class='token' style='background-color: #ffffff'> conviction<span class='feature_val'> (0.00)</span></span><span class='token' style='background-color: #ffffff'> of<span class='feature_val'> (0.00)</span></span><span class='token' style='background-color: #ffffff'> Alabama<span class='feature_val'> (0.00)</span></span><span class='token' style='background-color: #ffffff'> House<span class='feature_val'> (0.00)</span></span><span class='token' style='background-color: #ffffff'> Speaker<span class='feature_val'> (0.00)</span></span><span class='token' style='background-color: #ffffff'> Mike<span class='feature_val'> (0.00)</span></span><span class='token' style='background-color: #ffffff'> Hubbard<span class='feature_val'> (0.00)</span></span><span class='token' style='background-color: #ffffff'> last<span class='feature_val'> (0.00)</span></span><span class='token' style='background-color: #ffffff'> year<span class='feature_val'> (0.00)</span></span><span class='token' style='background-color: #ff8c00'>.<span class='feature_val'> (4.41)</span></span><span class='token' style='background-color: #ffffff'>\n",
       "<span class='feature_val'> (0.00)</span></span><span class='token' style='background-color: #ffba67'>\n",
       "<span class='feature_val'> (2.62)</span></span><span class='token' style='background-color: #ffe3c1'>H<span class='feature_val'> (1.06)</span></span><span class='token' style='background-color: #ffffff'>end<span class='feature_val'> (0.00)</span></span><span class='token' style='background-color: #ffffff'>erson<span class='feature_val'> (0.00)</span></span><span class='token' style='background-color: #ffffff'> was<span class='feature_val'> (0.00)</span></span><span class='token' style='background-color: #ffffff'> indicted<span class='feature_val'> (0.00)</span></span><span class='token' style='background-color: #ffffff'> by<span class='feature_val'> (0.00)</span></span><span class='token' style='background-color: #ffffff'> the<span class='feature_val'> (0.00)</span></span><span class='token' style='background-color: #ffffff'> special<span class='feature_val'> (0.00)</span></span><span class='token' style='background-color: #ffffff'> grand<span class='feature_val'> (0.00)</span></span><span class='token' style='background-color: #ffffff'> jury<span class='feature_val'> (0.00)</span></span><span class='token' style='background-color: #ffffff'>,<span class='feature_val'> (0.00)</span></span><span class='token' style='background-color: #ffffff'> which<span class='feature_val'> (0.00)</span></span><span class='token' style='background-color: #ffffff'> was<span class='feature_val'> (0.00)</span></span><span class='token' style='background-color: #ffffff'> originally<span class='feature_val'> (0.00)</span></span><span class='token' style='background-color: #ffffff'> em<span class='feature_val'> (0.00)</span></span><span class='token' style='background-color: #ffffff'>pan<span class='feature_val'> (0.00)</span></span><span class='token' style='background-color: #ffffff'>eled<span class='feature_val'> (0.00)</span></span><span class='token' style='background-color: #ffffff'> in<span class='feature_val'> (0.00)</span></span><span class='token' style='background-color: #ffffff'> Jefferson<span class='feature_val'> (0.00)</span></span><span class='token' style='background-color: #ffffff'> County<span class='feature_val'> (0.00)</span></span><span class='token' style='background-color: #ffffff'> on<span class='feature_val'> (0.00)</span></span><span class='token' style='background-color: #ffffff'> Oct<span class='feature_val'> (0.00)</span></span><span class='token' style='background-color: #ffffff'>.<span class='feature_val'> (0.00)</span></span><span class='token' style='background-color: #ffffff'> 17<span class='feature_val'> (0.00)</span></span><span class='token' style='background-color: #ffcc8f'>.<span class='feature_val'> (1.93)</span></span><span class='token' style='background-color: #ffffff'>\n",
       "<span class='feature_val'> (0.00)</span></span><span class='token' style='background-color: #ffe8cd'>\n",
       "<span class='feature_val'> (0.86)</span></span><span class='token' style='background-color: #ffffff'>Since<span class='feature_val'> (0.00)</span></span><span class='token' style='background-color: #ffffff'> that<span class='feature_val'> (0.00)</span></span><span class='token' style='background-color: #ffffff'> time<span class='feature_val'> (0.00)</span></span><span class='token' style='background-color: #ffffff'> that<span class='feature_val'> (0.00)</span></span><span class='token' style='background-color: #ffffff'> grand<span class='feature_val'> (0.00)</span></span><span class='token' style='background-color: #ffffff'> jury<span class='feature_val'> (0.00)</span></span><span class='token' style='background-color: #ffffff'> has<span class='feature_val'> (0.00)</span></span><span class='token' style='background-color: #ffffff'> met<span class='feature_val'> (0.00)</span></span><span class='token' style='background-color: #ffffff'> in<span class='feature_val'> (0.00)</span></span><span class='token' style='background-color: #ffffff'> one<span class='feature_val'> (0.00)</span></span><span class='token' style='background-color: #ffffff'> session<span class='feature_val'> (0.00)</span></span><span class='token' style='background-color: #ffffff'>,<span class='feature_val'> (0.00)</span></span><span class='token' style='background-color: #ffffff'> and<span class='feature_val'> (0.00)</span></span><span class='token' style='background-color: #ffffff'>,<span class='feature_val'> (0.00)</span></span><span class='token' style='background-color: #ffffff'> in<span class='feature_val'> (0.00)</span></span><span class='token' style='background-color: #ffffff'> that<span class='feature_val'> (0.00)</span></span><span class='token' style='background-color: #ffffff'> session<span class='feature_val'> (0.00)</span></span><span class='token' style='background-color: #ffffff'> heard<span class='feature_val'> (0.00)</span></span><span class='token' style='background-color: #ffffff'> the<span class='feature_val'> (0.00)</span></span><span class='token' style='background-color: #ffffff'> testimony<span class='feature_val'> (0.00)</span></span><span class='token' style='background-color: #ffffff'> of<span class='feature_val'> (0.00)</span></span><span class='token' style='background-color: #ffffff'> seven<span class='feature_val'> (0.00)</span></span><span class='token' style='background-color: #ffffff'> witnesses<span class='feature_val'> (0.00)</span></span><span class='token' style='background-color: #ffffff'>,<span class='feature_val'> (0.00)</span></span><span class='token' style='background-color: #ffffff'> according<span class='feature_val'> (0.00)</span></span><span class='token' style='background-color: #ffffff'> to<span class='feature_val'> (0.00)</span></span><span class='token' style='background-color: #ffffff'> a<span class='feature_val'> (0.00)</span></span><span class='token' style='background-color: #ffffff'> court<span class='feature_val'> (0.00)</span></span><span class='token' style='background-color: #ffffff'> document<span class='feature_val'> (0.00)</span></span><span class='token' style='background-color: #ffffff'> filed<span class='feature_val'> (0.00)</span></span><span class='token' style='background-color: #ffffff'> in<span class='feature_val'> (0.00)</span></span><span class='token' style='background-color: #ffffff'> Henderson<span class='feature_val'> (0.00)</span></span><span class='token' style='background-color: #ffffff'>&#x27;s<span class='feature_val'> (0.00)</span></span><span class='token' style='background-color: #ffffff'> case<span class='feature_val'> (0.00)</span></span><span class='token' style='background-color: #ffffff'>.<span class='feature_val'> (0.00)</span></span><span class='token' style='background-color: #ffffff'> The<span class='feature_val'> (0.00)</span></span><span class='token' style='background-color: #ffffff'> grand<span class='feature_val'> (0.00)</span></span><span class='token' style='background-color: #ffffff'> jury<span class='feature_val'> (0.00)</span></span><span class='token' style='background-color: #ffffff'> has<span class='feature_val'> (0.00)</span></span><span class='token' style='background-color: #ffffff'> returned<span class='feature_val'> (0.00)</span></span><span class='token' style='background-color: #ffffff'> one<span class='feature_val'> (0.00)</span></span><span class='token' style='background-color: #ffffff'> indictment<span class='feature_val'> (0.00)</span></span><span class='token' style='background-color: #ffffff'> (<span class='feature_val'> (0.00)</span></span><span class='token' style='background-color: #ffffff'>H<span class='feature_val'> (0.00)</span></span><span class='token' style='background-color: #ffffff'>end<span class='feature_val'> (0.00)</span></span><span class='token' style='background-color: #ffffff'>erson<span class='feature_val'> (0.00)</span></span><span class='token' style='background-color: #ffedd9'>).<span class='feature_val'> (0.65)</span></span><span class='token' style='background-color: #ffffff'> &quot;<span class='feature_val'> (0.00)</span></span><span class='token' style='background-color: #ffffff'>We<span class='feature_val'> (0.00)</span></span><span class='token' style='background-color: #ffffff'> request<span class='feature_val'> (0.00)</span></span><span class='token' style='background-color: #ffffff'> that<span class='feature_val'> (0.00)</span></span><span class='token' style='background-color: #ffffff'> this<span class='feature_val'> (0.00)</span></span><span class='token' style='background-color: #ffffff'> grand<span class='feature_val'> (0.00)</span></span><span class='token' style='background-color: #ffffff'> jury<span class='feature_val'> (0.00)</span></span><span class='token' style='background-color: #ffffff'> be<span class='feature_val'> (0.00)</span></span><span class='token' style='background-color: #ffffff'> continued<span class='feature_val'> (0.00)</span></span><span class='token' style='background-color: #ffffff'> for<span class='feature_val'> (0.00)</span></span><span class='token' style='background-color: #ffffff'> further<span class='feature_val'> (0.00)</span></span><span class='token' style='background-color: #ffffff'> investigation<span class='feature_val'> (0.00)</span></span><span class='token' style='background-color: #ffffff'> into<span class='feature_val'> (0.00)</span></span><span class='token' style='background-color: #ffffff'> additional<span class='feature_val'> (0.00)</span></span><span class='token' style='background-color: #ffffff'> matters<span class='feature_val'> (0.00)</span></span><span class='token' style='background-color: #ffffff'>,&quot;<span class='feature_val'> (0.00)</span></span><span class='token' style='background-color: #ffffff'> according<span class='feature_val'> (0.00)</span></span><span class='token' style='background-color: #ffffff'> to<span class='feature_val'> (0.00)</span></span><span class='token' style='background-color: #ffffff'> the<span class='feature_val'> (0.00)</span></span><span class='token' style='background-color: #ffffff'> court<span class='feature_val'> (0.00)</span></span><span class='token' style='background-color: #ffffff'> document<span class='feature_val'> (0.00)</span></span><span class='token' style='background-color: #ffffff'>.<span class='feature_val'> (0.00)</span></span><span class='token' style='background-color: #ffffff'>\n",
       "<span class='feature_val'> (0.00)</span></span><span class='token' style='background-color: #ffe2bf'>\n",
       "<span class='feature_val'> (1.10)</span></span><span class='token' style='background-color: #ffffff'>Danny<span class='feature_val'> (0.00)</span></span><span class='token' style='background-color: #ffffff'> Carr<span class='feature_val'> (0.00)</span></span><span class='token' style='background-color: #ffffff'> named<span class='feature_val'> (0.00)</span></span><span class='token' style='background-color: #ffffff'> Jefferson<span class='feature_val'> (0.00)</span></span><span class='token' style='background-color: #ffffff'> County<span class='feature_val'> (0.00)</span></span>"
      ],
      "text/plain": [
       "<IPython.core.display.HTML object>"
      ]
     },
     "metadata": {},
     "output_type": "display_data"
    },
    {
     "data": {
      "text/html": [
       "\n",
       "    <style>\n",
       "        span.token {\n",
       "            font-family: monospace;\n",
       "            border-style: solid;\n",
       "            border-width: 1px;\n",
       "            border-color: #dddddd;\n",
       "        }\n",
       "    </style>\n",
       "    <span class='token' style='background-color: #ffffff'>&lt;|endoftext|&gt;<span class='feature_val'> (0.00)</span></span><span class='token' style='background-color: #ffffff'> is<span class='feature_val'> (0.00)</span></span><span class='token' style='background-color: #ffffff'> not<span class='feature_val'> (0.00)</span></span><span class='token' style='background-color: #ffffff'> a<span class='feature_val'> (0.00)</span></span><span class='token' style='background-color: #ffffff'> passive<span class='feature_val'> (0.00)</span></span><span class='token' style='background-color: #ffffff'> waiting<span class='feature_val'> (0.00)</span></span><span class='token' style='background-color: #ffffff'> period<span class='feature_val'> (0.00)</span></span><span class='token' style='background-color: #ffffff'>.<span class='feature_val'> (0.00)</span></span><span class='token' style='background-color: #ffffff'> It<span class='feature_val'> (0.00)</span></span><span class='token' style='background-color: #ffffff'> is<span class='feature_val'> (0.00)</span></span><span class='token' style='background-color: #ffffff'> a<span class='feature_val'> (0.00)</span></span><span class='token' style='background-color: #ffffff'> time<span class='feature_val'> (0.00)</span></span><span class='token' style='background-color: #ffffff'> to<span class='feature_val'> (0.00)</span></span><span class='token' style='background-color: #ffffff'> perform<span class='feature_val'> (0.00)</span></span><span class='token' style='background-color: #ffffff'> actively<span class='feature_val'> (0.00)</span></span><span class='token' style='background-color: #ffffff'> the<span class='feature_val'> (0.00)</span></span><span class='token' style='background-color: #ffffff'> Rel<span class='feature_val'> (0.00)</span></span><span class='token' style='background-color: #ffffff'>abel<span class='feature_val'> (0.00)</span></span><span class='token' style='background-color: #ffffff'>ing<span class='feature_val'> (0.00)</span></span><span class='token' style='background-color: #ffffff'>,<span class='feature_val'> (0.00)</span></span><span class='token' style='background-color: #ffffff'> Re<span class='feature_val'> (0.00)</span></span><span class='token' style='background-color: #ffffff'>att<span class='feature_val'> (0.00)</span></span><span class='token' style='background-color: #ffffff'>ribut<span class='feature_val'> (0.00)</span></span><span class='token' style='background-color: #ffffff'>ing<span class='feature_val'> (0.00)</span></span><span class='token' style='background-color: #ffffff'>,<span class='feature_val'> (0.00)</span></span><span class='token' style='background-color: #ffffff'> and<span class='feature_val'> (0.00)</span></span><span class='token' style='background-color: #ffffff'> Ref<span class='feature_val'> (0.00)</span></span><span class='token' style='background-color: #ffffff'>ocusing<span class='feature_val'> (0.00)</span></span><span class='token' style='background-color: #ffffff'> steps<span class='feature_val'> (0.00)</span></span><span class='token' style='background-color: #ffffff'>.<span class='feature_val'> (0.00)</span></span><span class='token' style='background-color: #ffffff'> You<span class='feature_val'> (0.00)</span></span><span class='token' style='background-color: #ffffff'> should<span class='feature_val'> (0.00)</span></span><span class='token' style='background-color: #ffffff'> have<span class='feature_val'> (0.00)</span></span><span class='token' style='background-color: #ffffff'> mindful<span class='feature_val'> (0.00)</span></span><span class='token' style='background-color: #ffffff'> awareness<span class='feature_val'> (0.00)</span></span><span class='token' style='background-color: #ffffff'> that<span class='feature_val'> (0.00)</span></span><span class='token' style='background-color: #ffffff'> you<span class='feature_val'> (0.00)</span></span><span class='token' style='background-color: #ffffff'> are<span class='feature_val'> (0.00)</span></span><span class='token' style='background-color: #ffffff'> Rel<span class='feature_val'> (0.00)</span></span><span class='token' style='background-color: #ffffff'>abel<span class='feature_val'> (0.00)</span></span><span class='token' style='background-color: #ffffff'>ing<span class='feature_val'> (0.00)</span></span><span class='token' style='background-color: #ffffff'> those<span class='feature_val'> (0.00)</span></span><span class='token' style='background-color: #ffffff'> uncomfortable<span class='feature_val'> (0.00)</span></span><span class='token' style='background-color: #ffffff'> feelings<span class='feature_val'> (0.00)</span></span><span class='token' style='background-color: #ffffff'> as<span class='feature_val'> (0.00)</span></span><span class='token' style='background-color: #ffffff'> OCD<span class='feature_val'> (0.00)</span></span><span class='token' style='background-color: #ff8c00'> and<span class='feature_val'> (2.34)</span></span><span class='token' style='background-color: #ff9515'> Re<span class='feature_val'> (2.14)</span></span><span class='token' style='background-color: #ffa63a'>att<span class='feature_val'> (1.80)</span></span><span class='token' style='background-color: #ff920e'>ribut<span class='feature_val'> (2.21)</span></span><span class='token' style='background-color: #fff5ea'>ing<span class='feature_val'> (0.19)</span></span><span class='token' style='background-color: #ffffff'> them<span class='feature_val'> (0.00)</span></span><span class='token' style='background-color: #ffffff'> to<span class='feature_val'> (0.00)</span></span><span class='token' style='background-color: #ffffff'> a<span class='feature_val'> (0.00)</span></span><span class='token' style='background-color: #ffffff'> biochemical<span class='feature_val'> (0.00)</span></span><span class='token' style='background-color: #ffffff'> imbalance<span class='feature_val'> (0.00)</span></span><span class='token' style='background-color: #ffffff'> in<span class='feature_val'> (0.00)</span></span><span class='token' style='background-color: #ffffff'> the<span class='feature_val'> (0.00)</span></span><span class='token' style='background-color: #ffffff'> brain<span class='feature_val'> (0.00)</span></span><span class='token' style='background-color: #ffffff'>.<span class='feature_val'> (0.00)</span></span><span class='token' style='background-color: #ffffff'> These<span class='feature_val'> (0.00)</span></span><span class='token' style='background-color: #ffffff'> feelings<span class='feature_val'> (0.00)</span></span><span class='token' style='background-color: #fff3e6'> are<span class='feature_val'> (0.23)</span></span><span class='token' style='background-color: #ffffff'> caused<span class='feature_val'> (0.00)</span></span><span class='token' style='background-color: #ffffff'> by<span class='feature_val'> (0.00)</span></span><span class='token' style='background-color: #ffffff'> OCD<span class='feature_val'> (0.00)</span></span><span class='token' style='background-color: #ffd8a8'>;<span class='feature_val'> (0.79)</span></span><span class='token' style='background-color: #ffffff'> they<span class='feature_val'> (0.00)</span></span><span class='token' style='background-color: #fff5e9'> are<span class='feature_val'> (0.20)</span></span><span class='token' style='background-color: #ffc176'> not<span class='feature_val'> (1.25)</span></span><span class='token' style='background-color: #ffffff'> what<span class='feature_val'> (0.00)</span></span><span class='token' style='background-color: #ffffff'> they<span class='feature_val'> (0.00)</span></span><span class='token' style='background-color: #ffffff'> seem<span class='feature_val'> (0.00)</span></span><span class='token' style='background-color: #ffffff'> to<span class='feature_val'> (0.00)</span></span><span class='token' style='background-color: #ffffff'> be<span class='feature_val'> (0.00)</span></span><span class='token' style='background-color: #ffffff'>.<span class='feature_val'> (0.00)</span></span><span class='token' style='background-color: #ffffff'> They<span class='feature_val'> (0.00)</span></span><span class='token' style='background-color: #ffffff'> are<span class='feature_val'> (0.00)</span></span><span class='token' style='background-color: #ffffff'> faulty<span class='feature_val'> (0.00)</span></span><span class='token' style='background-color: #ffffff'> messages<span class='feature_val'> (0.00)</span></span><span class='token' style='background-color: #ffffff'> coming<span class='feature_val'> (0.00)</span></span><span class='token' style='background-color: #ffffff'> from<span class='feature_val'> (0.00)</span></span><span class='token' style='background-color: #ffffff'> the<span class='feature_val'> (0.00)</span></span><span class='token' style='background-color: #ffffff'> brain<span class='feature_val'> (0.00)</span></span><span class='token' style='background-color: #ffffff'>.<span class='feature_val'> (0.00)</span></span><span class='token' style='background-color: #ffffff'>\n",
       "<span class='feature_val'> (0.00)</span></span><span class='token' style='background-color: #ffffff'>\n",
       "<span class='feature_val'> (0.00)</span></span><span class='token' style='background-color: #ffffff'>Then<span class='feature_val'> (0.00)</span></span><span class='token' style='background-color: #ffffff'> you<span class='feature_val'> (0.00)</span></span><span class='token' style='background-color: #ffffff'> must<span class='feature_val'> (0.00)</span></span><span class='token' style='background-color: #ffffff'> do<span class='feature_val'> (0.00)</span></span><span class='token' style='background-color: #ffffff'> another<span class='feature_val'> (0.00)</span></span><span class='token' style='background-color: #ffffff'> behavior<span class='feature_val'> (0.00)</span></span><span class='token' style='background-color: #ffffff'>~<span class='feature_val'> (0.00)</span></span><span class='token' style='background-color: #ffffff'>any<span class='feature_val'> (0.00)</span></span><span class='token' style='background-color: #ffffff'> pleasant<span class='feature_val'> (0.00)</span></span><span class='token' style='background-color: #ffffff'>,<span class='feature_val'> (0.00)</span></span><span class='token' style='background-color: #ffffff'> constructive<span class='feature_val'> (0.00)</span></span><span class='token' style='background-color: #ffffff'> behavior<span class='feature_val'> (0.00)</span></span><span class='token' style='background-color: #ffffff'> will<span class='feature_val'> (0.00)</span></span><span class='token' style='background-color: #ffffff'> do<span class='feature_val'> (0.00)</span></span><span class='token' style='background-color: #ffffff'>.<span class='feature_val'> (0.00)</span></span><span class='token' style='background-color: #ffffff'> After<span class='feature_val'> (0.00)</span></span><span class='token' style='background-color: #ffffff'> the<span class='feature_val'> (0.00)</span></span><span class='token' style='background-color: #ffffff'> set<span class='feature_val'> (0.00)</span></span><span class='token' style='background-color: #ffffff'> period<span class='feature_val'> (0.00)</span></span><span class='token' style='background-color: #ffffff'> has<span class='feature_val'> (0.00)</span></span><span class='token' style='background-color: #ffffff'> laps<span class='feature_val'> (0.00)</span></span><span class='token' style='background-color: #ffffff'>ed<span class='feature_val'> (0.00)</span></span><span class='token' style='background-color: #ffffff'>,<span class='feature_val'> (0.00)</span></span><span class='token' style='background-color: #ffffff'> reass<span class='feature_val'> (0.00)</span></span><span class='token' style='background-color: #ffffff'>ess<span class='feature_val'> (0.00)</span></span><span class='token' style='background-color: #ffffff'> the<span class='feature_val'> (0.00)</span></span><span class='token' style='background-color: #ffffff'> urge<span class='feature_val'> (0.00)</span></span><span class='token' style='background-color: #ffffff'>.<span class='feature_val'> (0.00)</span></span><span class='token' style='background-color: #ffffff'> Ask<span class='feature_val'> (0.00)</span></span><span class='token' style='background-color: #ffffff'> yourself<span class='feature_val'> (0.00)</span></span><span class='token' style='background-color: #ffffff'> if<span class='feature_val'> (0.00)</span></span><span class='token' style='background-color: #ffffff'> there<span class='feature_val'> (0.00)</span></span><span class='token' style='background-color: #ffffff'>&#x27;s<span class='feature_val'> (0.00)</span></span><span class='token' style='background-color: #ffffff'> been<span class='feature_val'> (0.00)</span></span><span class='token' style='background-color: #ffffff'> any<span class='feature_val'> (0.00)</span></span><span class='token' style='background-color: #ffffff'> change<span class='feature_val'> (0.00)</span></span><span class='token' style='background-color: #ffffff'> in<span class='feature_val'> (0.00)</span></span><span class='token' style='background-color: #ffffff'> intensity<span class='feature_val'> (0.00)</span></span><span class='token' style='background-color: #ffffff'> and<span class='feature_val'> (0.00)</span></span><span class='token' style='background-color: #ffffff'> make<span class='feature_val'> (0.00)</span></span><span class='token' style='background-color: #ffffff'> note<span class='feature_val'> (0.00)</span></span>"
      ],
      "text/plain": [
       "<IPython.core.display.HTML object>"
      ]
     },
     "metadata": {},
     "output_type": "display_data"
    },
    {
     "data": {
      "text/html": [
       "\n",
       "    <style>\n",
       "        span.token {\n",
       "            font-family: monospace;\n",
       "            border-style: solid;\n",
       "            border-width: 1px;\n",
       "            border-color: #dddddd;\n",
       "        }\n",
       "    </style>\n",
       "    <span class='token' style='background-color: #ffffff'>&lt;|endoftext|&gt;<span class='feature_val'> (0.00)</span></span><span class='token' style='background-color: #ffffff'> in<span class='feature_val'> (0.00)</span></span><span class='token' style='background-color: #ffffff'> the<span class='feature_val'> (0.00)</span></span><span class='token' style='background-color: #ffffff'> future<span class='feature_val'> (0.00)</span></span><span class='token' style='background-color: #ffffff'>?<span class='feature_val'> (0.00)</span></span><span class='token' style='background-color: #ffffff'>\n",
       "<span class='feature_val'> (0.00)</span></span><span class='token' style='background-color: #ffffff'>\n",
       "<span class='feature_val'> (0.00)</span></span><span class='token' style='background-color: #ffffff'>Mc<span class='feature_val'> (0.00)</span></span><span class='token' style='background-color: #ffffff'>F<span class='feature_val'> (0.00)</span></span><span class='token' style='background-color: #ffffff'>aul<span class='feature_val'> (0.00)</span></span><span class='token' style='background-color: #ffffff'>:<span class='feature_val'> (0.00)</span></span><span class='token' style='background-color: #ffffff'> In<span class='feature_val'> (0.00)</span></span><span class='token' style='background-color: #ffffff'> and<span class='feature_val'> (0.00)</span></span><span class='token' style='background-color: #ffffff'> of<span class='feature_val'> (0.00)</span></span><span class='token' style='background-color: #ffffff'> itself<span class='feature_val'> (0.00)</span></span><span class='token' style='background-color: #ffffff'>—<span class='feature_val'> (0.00)</span></span><span class='token' style='background-color: #ffffff'>what<span class='feature_val'> (0.00)</span></span><span class='token' style='background-color: #ffffff'> was<span class='feature_val'> (0.00)</span></span><span class='token' style='background-color: #ffffff'> done<span class='feature_val'> (0.00)</span></span><span class='token' style='background-color: #ffffff'> [<span class='feature_val'> (0.00)</span></span><span class='token' style='background-color: #ffffff'>on<span class='feature_val'> (0.00)</span></span><span class='token' style='background-color: #ffffff'> Thursday<span class='feature_val'> (0.00)</span></span><span class='token' style='background-color: #ffffff'>]<span class='feature_val'> (0.00)</span></span><span class='token' style='background-color: #ffffff'> publicly<span class='feature_val'> (0.00)</span></span><span class='token' style='background-color: #ffffff'>—<span class='feature_val'> (0.00)</span></span><span class='token' style='background-color: #ffffff'>my<span class='feature_val'> (0.00)</span></span><span class='token' style='background-color: #ffffff'> answer<span class='feature_val'> (0.00)</span></span><span class='token' style='background-color: #ffffff'> would<span class='feature_val'> (0.00)</span></span><span class='token' style='background-color: #ffffff'> be<span class='feature_val'> (0.00)</span></span><span class='token' style='background-color: #ffffff'> no<span class='feature_val'> (0.00)</span></span><span class='token' style='background-color: #ffffff'>.<span class='feature_val'> (0.00)</span></span><span class='token' style='background-color: #ffffff'> If<span class='feature_val'> (0.00)</span></span><span class='token' style='background-color: #ffffff'> part<span class='feature_val'> (0.00)</span></span><span class='token' style='background-color: #ffffff'> of<span class='feature_val'> (0.00)</span></span><span class='token' style='background-color: #ffffff'> a<span class='feature_val'> (0.00)</span></span><span class='token' style='background-color: #ffffff'> broader<span class='feature_val'> (0.00)</span></span><span class='token' style='background-color: #ffffff'> campaign<span class='feature_val'> (0.00)</span></span><span class='token' style='background-color: #ffffff'> of<span class='feature_val'> (0.00)</span></span><span class='token' style='background-color: #ffffff'> 1<span class='feature_val'> (0.00)</span></span><span class='token' style='background-color: #ffffff'>)<span class='feature_val'> (0.00)</span></span><span class='token' style='background-color: #ffffff'> attribution<span class='feature_val'> (0.00)</span></span><span class='token' style='background-color: #ffffff'>,<span class='feature_val'> (0.00)</span></span><span class='token' style='background-color: #ffffff'> 2<span class='feature_val'> (0.00)</span></span><span class='token' style='background-color: #ffffff'>)<span class='feature_val'> (0.00)</span></span><span class='token' style='background-color: #ffffff'> deterrence<span class='feature_val'> (0.00)</span></span><span class='token' style='background-color: #ffffff'>,<span class='feature_val'> (0.00)</span></span><span class='token' style='background-color: #ffffff'> and<span class='feature_val'> (0.00)</span></span><span class='token' style='background-color: #ffffff'> 3<span class='feature_val'> (0.00)</span></span><span class='token' style='background-color: #ffffff'>)<span class='feature_val'> (0.00)</span></span><span class='token' style='background-color: #ffffff'> resilience<span class='feature_val'> (0.00)</span></span><span class='token' style='background-color: #ffffff'>,<span class='feature_val'> (0.00)</span></span><span class='token' style='background-color: #ffffff'> then<span class='feature_val'> (0.00)</span></span><span class='token' style='background-color: #ffffff'> this<span class='feature_val'> (0.00)</span></span><span class='token' style='background-color: #ffffff'> could<span class='feature_val'> (0.00)</span></span><span class='token' style='background-color: #ffffff'> be<span class='feature_val'> (0.00)</span></span><span class='token' style='background-color: #ffffff'> the<span class='feature_val'> (0.00)</span></span><span class='token' style='background-color: #ffffff'> beginning<span class='feature_val'> (0.00)</span></span><span class='token' style='background-color: #ffffff'> of<span class='feature_val'> (0.00)</span></span><span class='token' style='background-color: #ffffff'> a<span class='feature_val'> (0.00)</span></span><span class='token' style='background-color: #ffffff'> much<span class='feature_val'> (0.00)</span></span><span class='token' style='background-color: #ffffff'> more<span class='feature_val'> (0.00)</span></span><span class='token' style='background-color: #ffffff'> effective<span class='feature_val'> (0.00)</span></span><span class='token' style='background-color: #ffffff'> cybersecurity<span class='feature_val'> (0.00)</span></span><span class='token' style='background-color: #ffffff'> strategy<span class='feature_val'> (0.00)</span></span><span class='token' style='background-color: #ffffff'>.<span class='feature_val'> (0.00)</span></span><span class='token' style='background-color: #ffffff'>\n",
       "<span class='feature_val'> (0.00)</span></span><span class='token' style='background-color: #ffffff'>\n",
       "<span class='feature_val'> (0.00)</span></span><span class='token' style='background-color: #ffffff'>With<span class='feature_val'> (0.00)</span></span><span class='token' style='background-color: #ffffff'> respect<span class='feature_val'> (0.00)</span></span><span class='token' style='background-color: #ffffff'> to<span class='feature_val'> (0.00)</span></span><span class='token' style='background-color: #ffffff'> attribution<span class='feature_val'> (0.00)</span></span><span class='token' style='background-color: #ffffff'>,<span class='feature_val'> (0.00)</span></span><span class='token' style='background-color: #ffffff'> I<span class='feature_val'> (0.00)</span></span><span class='token' style='background-color: #ffffff'> think<span class='feature_val'> (0.00)</span></span><span class='token' style='background-color: #ffffff'> this<span class='feature_val'> (0.00)</span></span><span class='token' style='background-color: #ffffff'> is<span class='feature_val'> (0.00)</span></span><span class='token' style='background-color: #ffffff'> a<span class='feature_val'> (0.00)</span></span><span class='token' style='background-color: #ffffff'> big<span class='feature_val'> (0.00)</span></span><span class='token' style='background-color: #ffffff'> step<span class='feature_val'> (0.00)</span></span><span class='token' style='background-color: #ffffff'>.<span class='feature_val'> (0.00)</span></span><span class='token' style='background-color: #ffffff'> With<span class='feature_val'> (0.00)</span></span><span class='token' style='background-color: #ffffff'> respect<span class='feature_val'> (0.00)</span></span><span class='token' style='background-color: #ff8f07'> to<span class='feature_val'> (3.17)</span></span><span class='token' style='background-color: #fefbf7'> deterrence<span class='feature_val'> (0.10)</span></span><span class='token' style='background-color: #ffffff'>,<span class='feature_val'> (0.00)</span></span><span class='token' style='background-color: #ffffff'> I<span class='feature_val'> (0.00)</span></span><span class='token' style='background-color: #fffefd'> think<span class='feature_val'> (0.02)</span></span><span class='token' style='background-color: #ffffff'> what<span class='feature_val'> (0.00)</span></span><span class='token' style='background-color: #ffffff'> we<span class='feature_val'> (0.00)</span></span><span class='token' style='background-color: #ffffff'> know<span class='feature_val'> (0.00)</span></span><span class='token' style='background-color: #ffffff'> is<span class='feature_val'> (0.00)</span></span><span class='token' style='background-color: #ffffff'> a<span class='feature_val'> (0.00)</span></span><span class='token' style='background-color: #ffffff'> small<span class='feature_val'> (0.00)</span></span><span class='token' style='background-color: #ffffff'> step<span class='feature_val'> (0.00)</span></span><span class='token' style='background-color: #ffffff'>,<span class='feature_val'> (0.00)</span></span><span class='token' style='background-color: #ffffff'> but<span class='feature_val'> (0.00)</span></span><span class='token' style='background-color: #ffffff'> better<span class='feature_val'> (0.00)</span></span><span class='token' style='background-color: #ffffff'> than<span class='feature_val'> (0.00)</span></span><span class='token' style='background-color: #ffffff'> nothing<span class='feature_val'> (0.00)</span></span><span class='token' style='background-color: #ffffff'>.<span class='feature_val'> (0.00)</span></span><span class='token' style='background-color: #ffd097'> With<span class='feature_val'> (1.32)</span></span><span class='token' style='background-color: #ffbf73'> respect<span class='feature_val'> (1.79)</span></span><span class='token' style='background-color: #ff8c00'> to<span class='feature_val'> (3.26)</span></span><span class='token' style='background-color: #fef2e3'> resilience<span class='feature_val'> (0.35)</span></span><span class='token' style='background-color: #ffffff'>,<span class='feature_val'> (0.00)</span></span><span class='token' style='background-color: #ffffff'> we<span class='feature_val'> (0.00)</span></span><span class='token' style='background-color: #ffffff'> haven<span class='feature_val'> (0.00)</span></span><span class='token' style='background-color: #ffffff'>�<span class='feature_val'> (0.00)</span></span><span class='token' style='background-color: #ffffff'>�<span class='feature_val'> (0.00)</span></span><span class='token' style='background-color: #ffffff'>t<span class='feature_val'> (0.00)</span></span><span class='token' style='background-color: #ffffff'> even<span class='feature_val'> (0.00)</span></span><span class='token' style='background-color: #ffffff'> begun<span class='feature_val'> (0.00)</span></span><span class='token' style='background-color: #ffffff'> that<span class='feature_val'> (0.00)</span></span><span class='token' style='background-color: #ffffff'> debate<span class='feature_val'> (0.00)</span></span><span class='token' style='background-color: #ffffff'> or<span class='feature_val'> (0.00)</span></span><span class='token' style='background-color: #ffffff'> conversation<span class='feature_val'> (0.00)</span></span><span class='token' style='background-color: #ffffff'>.<span class='feature_val'> (0.00)</span></span><span class='token' style='background-color: #ffffff'>\n",
       "<span class='feature_val'> (0.00)</span></span><span class='token' style='background-color: #ffffff'>\n",
       "<span class='feature_val'> (0.00)</span></span><span class='token' style='background-color: #ffffff'>F<span class='feature_val'> (0.00)</span></span><span class='token' style='background-color: #ffffff'>ried<span class='feature_val'> (0.00)</span></span><span class='token' style='background-color: #ffffff'>man<span class='feature_val'> (0.00)</span></span><span class='token' style='background-color: #ffffff'>:<span class='feature_val'> (0.00)</span></span><span class='token' style='background-color: #ffffff'> What<span class='feature_val'> (0.00)</span></span><span class='token' style='background-color: #ffffff'> do<span class='feature_val'> (0.00)</span></span><span class='token' style='background-color: #ffffff'> you<span class='feature_val'> (0.00)</span></span><span class='token' style='background-color: #ffffff'> mean<span class='feature_val'> (0.00)</span></span><span class='token' style='background-color: #ffffff'> by<span class='feature_val'> (0.00)</span></span>"
      ],
      "text/plain": [
       "<IPython.core.display.HTML object>"
      ]
     },
     "metadata": {},
     "output_type": "display_data"
    },
    {
     "name": "stdout",
     "output_type": "stream",
     "text": [
      "╒═══════════╤═════════╕\n",
      "│ Token     │   Logit │\n",
      "╞═══════════╪═════════╡\n",
      "│ \u001b[34m:]\u001b[0m        │ \u001b[32m14.2477\u001b[0m │\n",
      "├───────────┼─────────┤\n",
      "│ \u001b[34msections\u001b[0m  │ \u001b[32m12.23\u001b[0m   │\n",
      "├───────────┼─────────┤\n",
      "│ \u001b[34mobi\u001b[0m       │ \u001b[32m12.1438\u001b[0m │\n",
      "├───────────┼─────────┤\n",
      "│ \u001b[34mimar\u001b[0m      │ \u001b[32m12.0566\u001b[0m │\n",
      "├───────────┼─────────┤\n",
      "│ \u001b[34m »\u001b[0m        │ \u001b[32m11.9453\u001b[0m │\n",
      "├───────────┼─────────┤\n",
      "│ \u001b[34many\u001b[0m       │ \u001b[32m11.924\u001b[0m  │\n",
      "├───────────┼─────────┤\n",
      "│ \u001b[34m Crossing\u001b[0m │ \u001b[32m11.8792\u001b[0m │\n",
      "├───────────┼─────────┤\n",
      "│ \u001b[34mlear\u001b[0m      │ \u001b[32m11.7354\u001b[0m │\n",
      "├───────────┼─────────┤\n",
      "│ \u001b[34mndum\u001b[0m      │ \u001b[32m11.691\u001b[0m  │\n",
      "├───────────┼─────────┤\n",
      "│ \u001b[34marms\u001b[0m      │ \u001b[32m11.649\u001b[0m  │\n",
      "╘═══════════╧═════════╛\n"
     ]
    }
   ],
   "source": [
    "feature_scores, top_tokens, top_logits = feature_scores_for_component_cluster(\"L8_H6\", 8)\n",
    "\n",
    "example_html, examples_clean_text = display_top_k_activating_examples_sum(model, feature_scores, owt_tokens_torch[:1024*4], feature_indices=[x for x in range(feature_scores.shape[1])], k=10)\n",
    "\n",
    "pretty_print_tokens_logits(top_tokens, top_logits)"
   ]
  },
  {
   "cell_type": "code",
   "execution_count": 68,
   "metadata": {},
   "outputs": [
    {
     "data": {
      "text/plain": [
       "(4096, 0, 128)"
      ]
     },
     "execution_count": 68,
     "metadata": {},
     "output_type": "execute_result"
    }
   ],
   "source": [
    "feature_scores.shape"
   ]
  },
  {
   "cell_type": "code",
   "execution_count": null,
   "metadata": {},
   "outputs": [],
   "source": []
  }
 ],
 "metadata": {
  "kernelspec": {
   "display_name": "anu",
   "language": "python",
   "name": "python3"
  },
  "language_info": {
   "codemirror_mode": {
    "name": "ipython",
    "version": 3
   },
   "file_extension": ".py",
   "mimetype": "text/x-python",
   "name": "python",
   "nbconvert_exporter": "python",
   "pygments_lexer": "ipython3",
   "version": "3.12.1"
  }
 },
 "nbformat": 4,
 "nbformat_minor": 2
}
