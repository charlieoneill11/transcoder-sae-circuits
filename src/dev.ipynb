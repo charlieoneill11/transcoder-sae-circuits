{
 "cells": [
  {
   "cell_type": "markdown",
   "metadata": {},
   "source": [
    "# Circuit autointerpretability"
   ]
  },
  {
   "cell_type": "markdown",
   "metadata": {},
   "source": [
    "This stuff just sets up everything we need."
   ]
  },
  {
   "cell_type": "code",
   "execution_count": null,
   "metadata": {},
   "outputs": [],
   "source": [
    "from autointerpretability import *\n",
    "\n",
    "# Autoreload\n",
    "%load_ext autoreload\n",
    "%autoreload 2"
   ]
  },
  {
   "cell_type": "code",
   "execution_count": null,
   "metadata": {},
   "outputs": [],
   "source": [
    "config = yaml.safe_load(open(\"config.yaml\"))\n",
    "llm_client = AzureOpenAI(\n",
    "    azure_endpoint=config[\"base_url\"],\n",
    "    api_key=config[\"azure_api_key\"],\n",
    "    api_version=config[\"api_version\"],\n",
    ")\n",
    "\n",
    "model = HookedTransformer.from_pretrained('gpt2-small')\n",
    "\n",
    "dataset = load_dataset('Skylion007/openwebtext', split='train', streaming=True)\n",
    "dataset = dataset.shuffle(seed=42, buffer_size=10_000)\n",
    "tokenized_owt = tokenize_and_concatenate(dataset, model.tokenizer, max_length=128, streaming=True)\n",
    "tokenized_owt = tokenized_owt.shuffle(42)\n",
    "tokenized_owt = tokenized_owt.take(12800 * 2)\n",
    "owt_tokens = np.stack([x['tokens'] for x in tokenized_owt])\n",
    "owt_tokens_torch = torch.tensor(owt_tokens)\n",
    "\n",
    "device = 'cpu'\n",
    "tl_model, z_saes, transcoders = get_model_encoders(device=device)"
   ]
  },
  {
   "cell_type": "markdown",
   "metadata": {},
   "source": [
    "Note you can specify the features you want to examine, in each layer, and just pass in either the relevant ZSAE or MLP transcoder depending on what component you want to look at. The `get_feature_scores` function will handle the differences. Let's have a look at the max-activating examples on Danny's features he wanted to check out (note you can slice `owt_tokens_torch` to run for shorter)."
   ]
  },
  {
   "cell_type": "code",
   "execution_count": null,
   "metadata": {},
   "outputs": [],
   "source": [
    "features = [16513, 7861]\n",
    "sae = z_saes[8]\n",
    "feature_scores = get_feature_scores(model, sae, owt_tokens_torch, features, batch_size=128)"
   ]
  },
  {
   "cell_type": "markdown",
   "metadata": {},
   "source": [
    "Our feature scores are a tensor of shape `(batch, feature, seq_pos)`, and so I've got a function to help extract the max-activating examples for each feature. You need to specify the feature index, which is why it's helpful to know from above the features in your list."
   ]
  },
  {
   "cell_type": "code",
   "execution_count": null,
   "metadata": {},
   "outputs": [],
   "source": [
    "feature_scores.shape"
   ]
  },
  {
   "cell_type": "code",
   "execution_count": null,
   "metadata": {},
   "outputs": [],
   "source": [
    "feature_idx = 0 # corresponding to 16513\n",
    "example_html, examples_clean_text = display_top_k_activating_examples(model, feature_scores[:, feature_idx, :], owt_tokens_torch, k=15)"
   ]
  },
  {
   "cell_type": "code",
   "execution_count": null,
   "metadata": {},
   "outputs": [],
   "source": [
    "top_tokens, top_logits = get_top_k_tokens(model, sae, features[feature_idx], k=20, act_strength=3)\n",
    "\n",
    "pretty_print_tokens_logits(top_tokens, top_logits)"
   ]
  },
  {
   "cell_type": "code",
   "execution_count": null,
   "metadata": {},
   "outputs": [],
   "source": [
    "feature_interpretation = get_response(llm_client, examples_clean_text, top_tokens)\n",
    "print(feature_interpretation)"
   ]
  },
  {
   "cell_type": "code",
   "execution_count": null,
   "metadata": {},
   "outputs": [],
   "source": [
    "# Same thing\n",
    "feature_idx = 1\n",
    "example_html, examples_clean_text = display_top_k_activating_examples(model, feature_scores[:, feature_idx, :], owt_tokens_torch, k=15, display_html=False)\n",
    "top_tokens, top_logits = get_top_k_tokens(model, sae, features[feature_idx], k=20, act_strength=5)\n",
    "pretty_print_tokens_logits(top_tokens, top_logits)\n",
    "feature_interpretation = get_response(llm_client, examples_clean_text, top_tokens)\n",
    "print(feature_interpretation)"
   ]
  },
  {
   "cell_type": "markdown",
   "metadata": {},
   "source": [
    "You can also pass in and boost logits for multiple features at a time."
   ]
  },
  {
   "cell_type": "code",
   "execution_count": null,
   "metadata": {},
   "outputs": [],
   "source": [
    "top_tokens, top_logits = get_top_k_tokens(model, sae, features, k=10, act_strength=5)\n",
    "\n",
    "pretty_print_tokens_logits(top_tokens, top_logits)\n",
    "\n",
    "\n",
    "examples_html, examples_clean_text = display_top_k_activating_examples_sum(model, feature_scores, owt_tokens, [0, 1], k=5, show_score=True)\n",
    "\n",
    "feature_interpretation = get_response(llm_client, examples_clean_text, top_tokens)\n",
    "print(feature_interpretation)"
   ]
  },
  {
   "cell_type": "markdown",
   "metadata": {},
   "source": [
    "Then, you can just pass it off to GPT-4 to interpret what's going on. Note that I haven't got access to `GPT-4o` with my credits yet, so this will have to wait a few days."
   ]
  },
  {
   "cell_type": "code",
   "execution_count": null,
   "metadata": {},
   "outputs": [],
   "source": [
    "feature_interpretation = get_response(llm_client, examples_clean_text, top_tokens)"
   ]
  },
  {
   "cell_type": "code",
   "execution_count": null,
   "metadata": {},
   "outputs": [],
   "source": [
    "print(feature_interpretation)"
   ]
  },
  {
   "cell_type": "markdown",
   "metadata": {},
   "source": [
    "Finally, we can pass in multiple features at once to see the max activating examples for features together."
   ]
  },
  {
   "cell_type": "code",
   "execution_count": null,
   "metadata": {},
   "outputs": [],
   "source": [
    "_ = display_top_k_activating_examples_sum(model, feature_scores, owt_tokens, [0, 1], k=5, show_score=True)"
   ]
  },
  {
   "cell_type": "markdown",
   "metadata": {},
   "source": [
    "However, instead of passing in individual features for specific components in specific layers, I created an object called `CircuitPrediction` to basically store all this stuff for you. I'll quickly illustrate how to use it in conjunction with the above."
   ]
  },
  {
   "cell_type": "code",
   "execution_count": null,
   "metadata": {},
   "outputs": [],
   "source": [
    "cp = get_circuit_prediction(task='ioi', N=20)"
   ]
  },
  {
   "cell_type": "markdown",
   "metadata": {},
   "source": [
    "The main thing you'll want to do with this is get features from certain components to look at on a specific task. The features for each component are stored in the circuit hypergraph. For instance:"
   ]
  },
  {
   "cell_type": "code",
   "execution_count": null,
   "metadata": {},
   "outputs": [],
   "source": [
    "cp.circuit_hypergraph"
   ]
  },
  {
   "cell_type": "markdown",
   "metadata": {},
   "source": [
    "If you want to look at MLP 3, all you have to do is access it:"
   ]
  },
  {
   "cell_type": "code",
   "execution_count": null,
   "metadata": {},
   "outputs": [],
   "source": [
    "cp.circuit_hypergraph['MLP3']"
   ]
  },
  {
   "cell_type": "markdown",
   "metadata": {},
   "source": [
    "And just repeat what we did above:"
   ]
  },
  {
   "cell_type": "code",
   "execution_count": null,
   "metadata": {},
   "outputs": [],
   "source": [
    "features = list(set(cp.circuit_hypergraph['MLP3']['features']))\n",
    "transcoder = transcoders[3]\n",
    "feature_scores = get_feature_scores(model, transcoder, owt_tokens_torch, features, batch_size=64)"
   ]
  },
  {
   "cell_type": "code",
   "execution_count": null,
   "metadata": {},
   "outputs": [],
   "source": [
    "feature_idx = 0 # corresponding to 16513\n",
    "example_html, examples_clean_text = display_top_k_activating_examples(model, feature_scores[:, 0, :], owt_tokens_torch, k=5, show_score=True)"
   ]
  },
  {
   "cell_type": "markdown",
   "metadata": {},
   "source": [
    "There's a few other methods, but you probably don't need to bother with those."
   ]
  },
  {
   "cell_type": "code",
   "execution_count": null,
   "metadata": {},
   "outputs": [],
   "source": [
    "_ = cp.unique_feature_array(visualize=True)"
   ]
  },
  {
   "cell_type": "markdown",
   "metadata": {},
   "source": [
    "# Playground\n",
    "\n",
    "What do we want to actually look for?\n",
    "* We could take specific components, and look at all their features across the circuit hypergraph, then get some sort of \"mass autointerpretation\" of what this feature is doing. I think for this you'd need to also feed in information from where it activates on the actual circuit. Might seem a bit soft and qualitative, but if you do it principled enough, it could be useful. Also try weighting the cluster max-act examples + logits by how often the feature shows up.\n",
    "* Look at what features co-occur together in examples. Should give more signal than just looking at features that activate heaps. (Also look at features that activate strongly across all examples as well though.) "
   ]
  },
  {
   "cell_type": "markdown",
   "metadata": {},
   "source": [
    "## Feature cluster interpretation of model components"
   ]
  },
  {
   "cell_type": "code",
   "execution_count": null,
   "metadata": {},
   "outputs": [],
   "source": []
  },
  {
   "cell_type": "markdown",
   "metadata": {},
   "source": [
    "## Co-occurrence of features"
   ]
  },
  {
   "cell_type": "code",
   "execution_count": null,
   "metadata": {},
   "outputs": [],
   "source": [
    "from autointerpretability import *\n",
    "\n",
    "cp = get_circuit_prediction(task='ioi', N=20)"
   ]
  },
  {
   "cell_type": "code",
   "execution_count": null,
   "metadata": {},
   "outputs": [],
   "source": [
    "from autointerpretability import *\n",
    "\n",
    "cp = get_circuit_prediction(task='ioi', N=20)\n",
    "\n",
    "config = yaml.safe_load(open(\"config.yaml\"))\n",
    "llm_client = AzureOpenAI(\n",
    "    azure_endpoint=config[\"base_url\"],\n",
    "    api_key=config[\"azure_api_key\"],\n",
    "    api_version=config[\"api_version\"],\n",
    ")\n",
    "\n",
    "model = HookedTransformer.from_pretrained('gpt2-small')\n",
    "\n",
    "dataset = load_dataset('Skylion007/openwebtext', split='train', streaming=True)\n",
    "dataset = dataset.shuffle(seed=42, buffer_size=10_000)\n",
    "tokenized_owt = tokenize_and_concatenate(dataset, model.tokenizer, max_length=128, streaming=True)\n",
    "tokenized_owt = tokenized_owt.shuffle(42)\n",
    "tokenized_owt = tokenized_owt.take(12800 * 2)\n",
    "owt_tokens = np.stack([x['tokens'] for x in tokenized_owt])\n",
    "owt_tokens_torch = torch.tensor(owt_tokens)\n",
    "\n",
    "device = 'cpu'\n",
    "tl_model, z_saes, transcoders = get_model_encoders(device=device)"
   ]
  },
  {
   "cell_type": "code",
   "execution_count": null,
   "metadata": {},
   "outputs": [],
   "source": [
    "cp.co_occurrence_dict"
   ]
  },
  {
   "cell_type": "code",
   "execution_count": null,
   "metadata": {},
   "outputs": [],
   "source": [
    "cp.get_cooccurrences(\"MLP0\", \"L9H9\")"
   ]
  },
  {
   "cell_type": "code",
   "execution_count": null,
   "metadata": {},
   "outputs": [],
   "source": [
    "cp.get_cooccurrences(\"MLP0\", \"L9H6\")"
   ]
  },
  {
   "cell_type": "code",
   "execution_count": null,
   "metadata": {},
   "outputs": [],
   "source": [
    "cp.visualize_co_occurrences()"
   ]
  },
  {
   "cell_type": "code",
   "execution_count": null,
   "metadata": {},
   "outputs": [],
   "source": [
    "cp.get_top_k_feature_tuples(k=10)"
   ]
  },
  {
   "cell_type": "code",
   "execution_count": null,
   "metadata": {},
   "outputs": [],
   "source": [
    "from collections import Counter, defaultdict\n",
    "\n",
    "def get_top_k_feature_tuples_for_component(co_occurrence_dict, component_str, k=5):\n",
    "    # Parse the component string to get the appropriate tuple key\n",
    "    if component_str.startswith(\"MLP\"):\n",
    "        layer = int(component_str[3:])\n",
    "        component = ('mlp_feature', layer)\n",
    "    elif component_str.startswith(\"L\") and \"H\" in component_str:\n",
    "        layer, head = map(int, component_str[1:].split(\"H\"))\n",
    "        component = ('attn_head', layer, head)\n",
    "    else:\n",
    "        raise ValueError(f\"Invalid component format: {component_str}\")\n",
    "\n",
    "    # Use a Counter to count the occurrences of each tuple\n",
    "    global_counter = Counter()\n",
    "\n",
    "    # Iterate through the co-occurrence dictionary\n",
    "    for comp_pair, co_occurrences in co_occurrence_dict.items():\n",
    "        comp1, comp2 = comp_pair\n",
    "\n",
    "        if comp1 == component or comp2 == component:\n",
    "            for feature_tuple in co_occurrences:\n",
    "                global_counter[(comp_pair, feature_tuple)] += 1\n",
    "\n",
    "    # Get the top-k tuples by count\n",
    "    top_k_tuples = global_counter.most_common(k)\n",
    "\n",
    "    # Create a dictionary to store the results\n",
    "    top_k_dict = defaultdict(dict)\n",
    "    \n",
    "    for (comp_pair, feature_tuple), count in top_k_tuples:\n",
    "        top_k_dict[comp_pair][feature_tuple] = count\n",
    "\n",
    "    return top_k_dict\n",
    "\n",
    "get_top_k_feature_tuples_for_component(cp.co_occurrence_dict, \"L8H6\", k=20)"
   ]
  },
  {
   "cell_type": "code",
   "execution_count": null,
   "metadata": {},
   "outputs": [],
   "source": [
    "get_top_k_feature_tuples_for_component(cp.co_occurrence_dict, \"L9H9\", k=20)"
   ]
  },
  {
   "cell_type": "code",
   "execution_count": null,
   "metadata": {},
   "outputs": [],
   "source": [
    "features = [20101]\n",
    "sae = z_saes[9]\n",
    "feature_scores = get_feature_scores(model, sae, owt_tokens_torch, features, batch_size=128)"
   ]
  },
  {
   "cell_type": "code",
   "execution_count": null,
   "metadata": {},
   "outputs": [],
   "source": [
    "# Display top k activating examples\n",
    "feature_idx = 0 # corresponding to 16109\n",
    "example_html, examples_clean_text = display_top_k_activating_examples(model, feature_scores[:, feature_idx, :], owt_tokens_torch, k=5)\n",
    "\n",
    "encoder_feature_pairs = [(sae, [20101])]\n",
    "\n",
    "# top_tokens, top_logits = get_top_k_tokens(model, sae, features[feature_idx], k=20, act_strength=5)\n",
    "\n",
    "top_tokens, top_logits = get_top_k_tokens(model, encoder_feature_pairs, k=20, act_strength=5)\n",
    "\n",
    "pretty_print_tokens_logits(top_tokens, top_logits)\n",
    "\n",
    "feature_interpretation = get_response(llm_client, examples_clean_text, top_tokens)\n",
    "print(feature_interpretation)"
   ]
  },
  {
   "cell_type": "code",
   "execution_count": null,
   "metadata": {},
   "outputs": [],
   "source": [
    "features = [6798]\n",
    "transcoder = transcoders[0]\n",
    "feature_scores = get_feature_scores(model, transcoder, owt_tokens_torch, features, batch_size=128)"
   ]
  },
  {
   "cell_type": "code",
   "execution_count": null,
   "metadata": {},
   "outputs": [],
   "source": [
    "# Display top k activating examples\n",
    "feature_idx = 0 # corresponding to 16109\n",
    "example_html, examples_clean_text = display_top_k_activating_examples(model, feature_scores[:, feature_idx, :], owt_tokens_torch, k=5)\n",
    "\n",
    "encoder_feature_pairs = [(transcoder, [6798])]\n",
    "\n",
    "# top_tokens, top_logits = get_top_k_tokens(model, sae, features[feature_idx], k=20, act_strength=5)\n",
    "\n",
    "top_tokens, top_logits = get_top_k_tokens(model, encoder_feature_pairs, k=20, act_strength=5)\n",
    "\n",
    "pretty_print_tokens_logits(top_tokens, top_logits)\n",
    "\n",
    "feature_interpretation = get_response(llm_client, examples_clean_text, top_tokens)\n",
    "print(feature_interpretation)"
   ]
  },
  {
   "cell_type": "code",
   "execution_count": null,
   "metadata": {},
   "outputs": [],
   "source": [
    "get_top_k_feature_tuples_for_component(cp.co_occurrence_dict, \"L9H9\", k=20)\n",
    "\n",
    "encoder_feature_pairs = [(transcoders[0], [6798]), (z_saes[9], [20101])]\n",
    "top_tokens, top_logits = get_top_k_tokens(model, encoder_feature_pairs, k=20)\n",
    "\n",
    "pretty_print_tokens_logits(top_tokens, top_logits)"
   ]
  },
  {
   "cell_type": "code",
   "execution_count": null,
   "metadata": {},
   "outputs": [],
   "source": [
    "feature_scores = get_feature_scores_across_layers(model, encoder_feature_pairs, owt_tokens_torch, batch_size=128)"
   ]
  },
  {
   "cell_type": "code",
   "execution_count": null,
   "metadata": {},
   "outputs": [],
   "source": [
    "examples_html, examples_clean_text = display_top_k_activating_examples_sum(model, feature_scores, owt_tokens, [0, 1], k=25, show_score=True)"
   ]
  },
  {
   "cell_type": "code",
   "execution_count": null,
   "metadata": {},
   "outputs": [],
   "source": [
    "feature_interpretation = get_response(llm_client, examples_clean_text, top_tokens)\n",
    "print(feature_interpretation)"
   ]
  },
  {
   "cell_type": "code",
   "execution_count": null,
   "metadata": {},
   "outputs": [],
   "source": [
    "get_top_k_feature_tuples_for_component(cp.co_occurrence_dict, \"L4H11\", k=20)"
   ]
  },
  {
   "cell_type": "code",
   "execution_count": null,
   "metadata": {},
   "outputs": [],
   "source": [
    "layer = 8\n",
    "head = 6\n",
    "feature = 16513\n",
    "\n",
    "features = [feature]\n",
    "sae = z_saes[layer]\n",
    "\n",
    "feature_scores = get_feature_scores(model, sae, owt_tokens_torch[:1024*4], features, batch_size=128)"
   ]
  },
  {
   "cell_type": "code",
   "execution_count": null,
   "metadata": {},
   "outputs": [],
   "source": [
    "example_html, examples_clean_text = display_top_k_activating_examples(model, feature_scores[:, 0, :], owt_tokens_torch[:1024*4], k=15)"
   ]
  },
  {
   "cell_type": "code",
   "execution_count": null,
   "metadata": {},
   "outputs": [],
   "source": [
    "top_tokens, top_logits = get_top_k_tokens(model, [(sae, [feature])], k=10, act_strength=5)\n",
    "\n",
    "pretty_print_tokens_logits(top_tokens, top_logits)"
   ]
  },
  {
   "cell_type": "code",
   "execution_count": null,
   "metadata": {},
   "outputs": [],
   "source": [
    "from autointerp_prompts import get_opening_prompt\n",
    "\n",
    "# Autoreload\n",
    "%load_ext autoreload\n",
    "%autoreload 2\n",
    "\n",
    "def new_get_response(llm_client, examples_clean_text, top_tokens):\n",
    "    opening_prompt = get_opening_prompt(examples_clean_text, top_tokens)\n",
    "    messages = [{\"role\": \"user\", \"content\": opening_prompt}]\n",
    "    response = llm_client.chat.completions.create(\n",
    "        model=\"gpt4_large\",\n",
    "        messages=messages,\n",
    "    )\n",
    "    return f\"{response.choices[0].message.content}\""
   ]
  },
  {
   "cell_type": "code",
   "execution_count": null,
   "metadata": {},
   "outputs": [],
   "source": [
    "feature_interpretation = new_get_response(llm_client, examples_clean_text, top_tokens)\n",
    "print(feature_interpretation)"
   ]
  },
  {
   "cell_type": "markdown",
   "metadata": {},
   "source": [
    "## Autointerp over clusters of features"
   ]
  },
  {
   "cell_type": "code",
   "execution_count": null,
   "metadata": {},
   "outputs": [],
   "source": [
    "# Go through co-occurrence dict and print any tuples that have a feature over 24576\n",
    "for k, v in cp.co_occurrence_dict.items():\n",
    "    for feature_tuple in v:\n",
    "        if any([f > 24576 for f in feature_tuple]):\n",
    "            print(k, feature_tuple)"
   ]
  },
  {
   "cell_type": "code",
   "execution_count": null,
   "metadata": {},
   "outputs": [],
   "source": [
    "sae = z_saes[5]\n",
    "sae.W_dec.shape"
   ]
  },
  {
   "cell_type": "code",
   "execution_count": null,
   "metadata": {},
   "outputs": [],
   "source": [
    "def feature_scores_for_component_cluster(component_name: str, layer: int):\n",
    "    features = [x for x in list(set(cp.circuit_hypergraph[component_name]['features'])) if x!=-1]\n",
    "\n",
    "    sae = z_saes[layer]\n",
    "    feature_scores = get_feature_scores(model, sae, owt_tokens_torch[:1024*4], features, batch_size=128)\n",
    "\n",
    "    top_tokens, top_logits = get_top_k_tokens(model, [(sae, features)], k=10, act_strength=5)\n",
    "\n",
    "    return feature_scores, top_tokens, top_logits"
   ]
  },
  {
   "cell_type": "code",
   "execution_count": null,
   "metadata": {},
   "outputs": [],
   "source": [
    "feature_scores, top_tokens, top_logits = feature_scores_for_component_cluster(\"L0_H1\", 0)"
   ]
  },
  {
   "cell_type": "code",
   "execution_count": null,
   "metadata": {},
   "outputs": [],
   "source": [
    "example_html, examples_clean_text = display_top_k_activating_examples_sum(model, feature_scores, owt_tokens_torch[:1024*4], feature_indices=[x for x in range(feature_scores.shape[1])], k=15)"
   ]
  },
  {
   "cell_type": "code",
   "execution_count": null,
   "metadata": {},
   "outputs": [],
   "source": [
    "pretty_print_tokens_logits(top_tokens, top_logits)"
   ]
  },
  {
   "cell_type": "code",
   "execution_count": null,
   "metadata": {},
   "outputs": [],
   "source": [
    "feature_scores, top_tokens, top_logits = feature_scores_for_component_cluster(\"L5_H5\", 5)"
   ]
  },
  {
   "cell_type": "code",
   "execution_count": null,
   "metadata": {},
   "outputs": [],
   "source": [
    "example_html, examples_clean_text = display_top_k_activating_examples_sum(model, feature_scores, owt_tokens_torch[:1024*4], feature_indices=[x for x in range(feature_scores.shape[1])], k=10)\n",
    "\n",
    "pretty_print_tokens_logits(top_tokens, top_logits)"
   ]
  },
  {
   "cell_type": "code",
   "execution_count": null,
   "metadata": {},
   "outputs": [],
   "source": [
    "feature_interpretation = get_response(llm_client, examples_clean_text, top_tokens)\n",
    "print(feature_interpretation)"
   ]
  },
  {
   "cell_type": "code",
   "execution_count": null,
   "metadata": {},
   "outputs": [],
   "source": [
    "feature_scores, top_tokens, top_logits = feature_scores_for_component_cluster(\"L10_H7\", 10)\n",
    "\n",
    "example_html, examples_clean_text = display_top_k_activating_examples_sum(model, feature_scores, owt_tokens_torch[:1024*4], feature_indices=[x for x in range(feature_scores.shape[1])], k=10)\n",
    "\n",
    "pretty_print_tokens_logits(top_tokens, top_logits)"
   ]
  },
  {
   "cell_type": "code",
   "execution_count": null,
   "metadata": {},
   "outputs": [],
   "source": [
    "feature_scores.shape"
   ]
  },
  {
   "cell_type": "code",
   "execution_count": null,
   "metadata": {},
   "outputs": [],
   "source": [
    "feature_scores, top_tokens, top_logits = feature_scores_for_component_cluster(\"L8_H6\", 8)\n",
    "\n",
    "example_html, examples_clean_text = display_top_k_activating_examples_sum(model, feature_scores, owt_tokens_torch[:1024*4], feature_indices=[x for x in range(feature_scores.shape[1])], k=10)\n",
    "\n",
    "pretty_print_tokens_logits(top_tokens, top_logits)"
   ]
  },
  {
   "cell_type": "code",
   "execution_count": null,
   "metadata": {},
   "outputs": [],
   "source": [
    "feature_scores.shape"
   ]
  },
  {
   "cell_type": "markdown",
   "metadata": {},
   "source": [
    "# Evaluation"
   ]
  },
  {
   "cell_type": "markdown",
   "metadata": {},
   "source": [
    "Workflow for evaluating autointerp of specific method:\n",
    "* Get the interpretation of the feature/family of features using everything we've set up above.\n",
    "* Provide that interpretation, along with the reasoning, to another LLM.\n",
    "* For a bunch of different IOI sequences, and for randomly selected tokens in that sequence, get the LLM to predict the feature activations.\n",
    "* Look at the correlation coefficient between the predicted feature activations and the actual feature activations. This is the evaluation metric.\n",
    "\n",
    "There are a few changes based on if we're looking at a specific feature (i.e. when we're just ablating token importance information added in to autointerp prompt) vs. a family of features. When we have a family of features:\n",
    "* We still get the interpretation as before - everything about this is normal. We look at max-activating examples for all features (not summing though - we need to change this to an argmax type thing for each example). For max-boosted logits, we boost all features at once. \n",
    "* When we get the feature activations, I think we should take the max-activation on each token of _any_ feature in the feature family. In this way, the autointerp is just predicting whether this feature family will fire in general - still gives a good idea of performance.\n",
    "\n",
    "For feature co-occurrence, we do the same correlation score approach as family of features, but:\n",
    "* When getting the interpretation, we look at max-activating examples for both sets of features (max for both on an example, divided by 2; same setup as feature families but now there's two features). Logits are boosted by both simultaeneously. \n",
    "\n",
    "\n",
    "Will have to figure out a way to combine token importances with feature families/family co-occurrences when the time comes.\n",
    "\n",
    "Finally, we need a baseline to compare against.\n",
    "* For token importances, this is easy, since we're only looking at one feature at a time. Just compare the correlation score with and without the token importance information.\n",
    "* For feature families, we can compare to the average correlation score of running the autointerp on a given feature in that family. Whilst not exactly the same thing, it gives an idea about how feature families help us to generalise.\n",
    "* For feature co-occurrences, we should also...."
   ]
  },
  {
   "cell_type": "markdown",
   "metadata": {},
   "source": [
    "## Important tokens"
   ]
  },
  {
   "cell_type": "code",
   "execution_count": null,
   "metadata": {},
   "outputs": [],
   "source": [
    "%load_ext autoreload\n",
    "%autoreload 2\n",
    "\n",
    "import torch\n",
    "\n",
    "from max_act_analysis import MaxActAnalysis,open_web_text_tokens\n",
    "from aug_interp_prompts import main_aug_interp_prompt, main_aug_interp_prompt_v2\n",
    "from openai_utils import gen_openai_completion, get_response\n",
    "from autointerpretability import *\n",
    "from discovery_strategies import (\n",
    "    create_filter,\n",
    "    create_simple_greedy_strategy,\n",
    "    create_top_contributor_strategy,\n",
    ")\n",
    "\n",
    "torch.set_grad_enabled(False)\n"
   ]
  },
  {
   "cell_type": "code",
   "execution_count": null,
   "metadata": {},
   "outputs": [],
   "source": [
    "# %%\n",
    "feature = 27535\n",
    "# feature = 16401\n",
    "layer = 5\n",
    "# feature = 15647\n",
    "# num_examples = 1000\n",
    "num_examples = 5000\n",
    "\n",
    "strategy = create_simple_greedy_strategy(\n",
    "    passes=1,\n",
    "    node_contributors=1,\n",
    "    minimal=True,\n",
    ")\n",
    "\n",
    "analyze = MaxActAnalysis(\"attn\", layer, feature, num_sequences=num_examples, batch_size=128, strategy=strategy)\n",
    "analyze.show_top_active_examples(num_examples=15)"
   ]
  },
  {
   "cell_type": "code",
   "execution_count": null,
   "metadata": {},
   "outputs": [],
   "source": [
    "mini_examples = analyze.get_context_referenced_prompts_for_range(0, 25)\n",
    "\n",
    "p = main_aug_interp_prompt(mini_examples)\n",
    "\n",
    "print(p)"
   ]
  },
  {
   "cell_type": "code",
   "execution_count": null,
   "metadata": {},
   "outputs": [],
   "source": [
    "from aug_interp_prompts import main_aug_interp_prompt, main_aug_interp_prompt_v2\n",
    "\n",
    "p_base = main_aug_interp_prompt_v2(mini_examples)\n",
    "print(p_base)"
   ]
  },
  {
   "cell_type": "code",
   "execution_count": null,
   "metadata": {},
   "outputs": [],
   "source": [
    "interp = get_response(p)\n",
    "print(interp)"
   ]
  },
  {
   "cell_type": "code",
   "execution_count": null,
   "metadata": {},
   "outputs": [],
   "source": [
    "interp = \"This neuron appears to activate when it encounters an example of 'pair linking' in the text, usually manifested through a conjunction like 'and', activating on the repetition of a pair of words from earlier in the text to later in the text. The activating token is the second of the pair.\""
   ]
  },
  {
   "cell_type": "code",
   "execution_count": null,
   "metadata": {},
   "outputs": [],
   "source": [
    "interp_base = get_response(p_base)\n",
    "print(interp_base)"
   ]
  },
  {
   "cell_type": "code",
   "execution_count": null,
   "metadata": {},
   "outputs": [],
   "source": [
    "from autointerpretability import *\n",
    "\n",
    "device = 'cpu'\n",
    "model, z_saes, transcoders = get_model_encoders(device=device)"
   ]
  },
  {
   "cell_type": "code",
   "execution_count": null,
   "metadata": {},
   "outputs": [],
   "source": [
    "# Get some IOI examples where it activates (max activation across feature family is the ground-truth)\n",
    "\n",
    "feature = 27535\n",
    "layer = 5\n",
    "component_type = 'attn'\n",
    "\n",
    "# Get the actual prompts\n",
    "n_prompts = 100\n",
    "dataset_prompts = gen_templated_prompts(template_idex=1, N=n_prompts)\n",
    "dataset_prompts = [x['text'] + x['correct'] for x in dataset_prompts]\n",
    "dataset_tokens = model.to_tokens(dataset_prompts)\n",
    "\n",
    "# Run the model over the prompts and get the feature activations at each token in each prompt\n",
    "_, cache = model.run_with_cache(dataset_tokens)\n",
    "z = cache[\"z\", layer]\n",
    "b, s, n, d = z.shape\n",
    "del cache\n",
    "z = einops.rearrange(z, \"b s n d -> (b s) (n d)\")\n",
    "\n",
    "# Apply relevant SAE or transcoder to the activations\n",
    "if component_type == 'attn':\n",
    "    encoder = z_saes[layer]\n",
    "else:\n",
    "    encoder = transcoders[layer]\n",
    "\n",
    "z_hidden = encoder.encode(z)\n",
    "z_hidden = einops.rearrange(z_hidden, \"(b s) h -> b s h\", s=s)\n",
    "\n",
    "# Only keep feature indices (last dimension)\n",
    "feature_indices = [feature]\n",
    "z_hidden = z_hidden[:, :, feature_indices]\n",
    "\n",
    "# For each batch (first dimension) and each token in each batch (second dimension), only keep the max activation (third dimension)\n",
    "z_hidden = z_hidden.max(dim=2).values\n",
    "\n",
    "# Print rows which have a non-zero value\n",
    "non_zero_indices = np.where(z_hidden > 0.0)[0].tolist()[:5]\n",
    "print(non_zero_indices)\n",
    "\n",
    "# Keep 3 of these rows plus the row after\n",
    "indices_to_keep = []\n",
    "for i, j in enumerate(non_zero_indices):\n",
    "    indices_to_keep.extend([j])\n",
    "\n",
    "print(indices_to_keep)\n",
    "\n",
    "# Keep z_hidden rows\n",
    "z_hidden = z_hidden[indices_to_keep]\n",
    "\n",
    "z_hidden"
   ]
  },
  {
   "cell_type": "code",
   "execution_count": null,
   "metadata": {},
   "outputs": [],
   "source": [
    "# Set up new LLM interpreter given interpretation\n",
    "from jinja2 import Template\n",
    "from typing import List\n",
    "\n",
    "def follow_up_activation_prediction_prompt(\n",
    "    interpretation: str, sentence: str\n",
    "):\n",
    "    last_word_in_sentence = sentence.split()[-1]\n",
    "    \n",
    "    template = Template(\n",
    "        \"\"\"\n",
    "{# You are an AI researcher continuing an important investigation into a certain neuron in a language model. Your task is to predict whether this neuron will activate on the final word of a given sentence based on a previously provided interpretation of the neuron's behavior. Here's how you will complete this task: #}\n",
    "\n",
    "You are an AI researcher continuing an important investigation into a certain neuron in a language model. This language model is trained to predict the text that will follow a given input. Your task is to predict whether this neuron will have a zero or non-zero activation on the final word of a given sentence based on the provided interpretation of the neuron's behavior.\n",
    "\n",
    "INTERPRETATION:\n",
    "{{interpretation}}\n",
    "\n",
    "INPUT:\n",
    "The sentence to analyze is:\n",
    "=================================================\n",
    "{{sentence}}\n",
    "=================================================\n",
    "\n",
    "The final word to analyze is: {{last_word_in_sentence}}\n",
    "\n",
    "OUTPUT:\n",
    "Based on the provided interpretation, analyze the sentence and describe your reasoning in two sentences. Then, predict whether the neuron will have a zero or non-zero activation on the final word of the sentence. Provide your answer in the following format:\n",
    "[ANALYSIS]: <two sentences of analysis>\n",
    "[ACTIVATION]: zero or non-zero\n",
    "\n",
    "Guidelines:\n",
    "- Carefully consider the interpretation and apply it to the given sentence.\n",
    "- Your analysis should be concise and relevant to the provided interpretation.\n",
    "- Your prediction should be either \"zero\" or \"non-zero\".\n",
    "\n",
    "EXAMPLE:\n",
    "[ANALYSIS]: The final word in the sentence fits the pattern described in the interpretation. The context provided in the sentence suggests a non-zero activation.\n",
    "[ACTIVATION]: non-zero\n",
    "\"\"\"\n",
    "    )\n",
    "\n",
    "    return template.render(\n",
    "        {\"interpretation\": interpretation, \"sentence\": sentence, \"last_word_in_sentence\": last_word_in_sentence}\n",
    "    )"
   ]
  },
  {
   "cell_type": "code",
   "execution_count": null,
   "metadata": {},
   "outputs": [],
   "source": [
    "# For each IOI example, predict the feature activation score on a given token\n",
    "accuracies, f1s = [], []\n",
    "for i in range(z_hidden.shape[0]):\n",
    "    sentence = dataset_prompts[i]\n",
    "    sentence_tokens = model.to_tokens(sentence).squeeze()\n",
    "    activations = z_hidden[i]\n",
    "\n",
    "    pred_dict = {}\n",
    "\n",
    "    # positions = [5, 6, 14, 15, 19, 20]\n",
    "    threshold = 1.0\n",
    "    non_zero_indices = np.where(activations > threshold)[0].tolist()\n",
    "    print(non_zero_indices)\n",
    "    # Add one before and after each non-zero index\n",
    "    positions = []\n",
    "    for i in non_zero_indices:\n",
    "        positions.extend([i-1, i, i+1])\n",
    "    positions = [x for x in positions if x > 0 and x < len(sentence_tokens)]\n",
    "\n",
    "    if len(positions) == 0:\n",
    "        # Randomly sample 3 positions\n",
    "        positions = np.random.choice(len(sentence_tokens), 3, replace=False)\n",
    "\n",
    "    print(positions)\n",
    "\n",
    "    for i in tqdm(positions):\n",
    "        sentence_str_example = model.to_string(sentence_tokens[:i+1])\n",
    "        sentence_tokens_example = sentence_tokens[:i+1]\n",
    "        ground_truth = activations[i].item()\n",
    "\n",
    "        # Get the prediction\n",
    "        prompt = follow_up_activation_prediction_prompt(interp, sentence_str_example)\n",
    "        prediction = get_response(prompt) #gen_openai_completion(prompt, visualize_stream=False)\n",
    "        print(prediction)\n",
    "        print(sentence_str_example)\n",
    "        print(ground_truth)\n",
    "        print()\n",
    "        pred_dict[i] = {\"prediction\": prediction, \"sentence\": sentence_str_example, \"ground_truth\": ground_truth}\n",
    "\n",
    "    for k, v in pred_dict.items():\n",
    "        prediction = v[\"prediction\"].split('[ACTIVATION]: ')[-1].strip()\n",
    "        pred_dict[k]['prediction_numeric'] = 1.0 if prediction == 'non-zero' else 0.0\n",
    "        pred_dict[k]['ground_truth_numeric'] = 1.0 if v['ground_truth'] > threshold else 0.0\n",
    "\n",
    "    # Get accuracy and f1 score\n",
    "    correct = 0\n",
    "    tp = 0\n",
    "    fp = 0\n",
    "    fn = 0\n",
    "    for k, v in pred_dict.items():\n",
    "        if v['prediction_numeric'] == v['ground_truth_numeric']:\n",
    "            correct += 1\n",
    "        if v['prediction_numeric'] == 1 and v['ground_truth_numeric'] == 1:\n",
    "            tp += 1\n",
    "        if v['prediction_numeric'] == 1 and v['ground_truth_numeric'] == 0:\n",
    "            fp += 1\n",
    "        if v['prediction_numeric'] == 0 and v['ground_truth_numeric'] == 1:\n",
    "            fn += 1\n",
    "\n",
    "    print(f\"TP: {tp}, FP: {fp}, FN: {fn}\")\n",
    "\n",
    "    if tp + fp + fn > 0:\n",
    "        accuracy = correct / len(pred_dict)\n",
    "        precision = tp / (tp + fp) if tp + fp > 0 else 0.0\n",
    "        recall = tp / (tp + fn) if tp + fn > 0 else 0.0\n",
    "        f1 = 2 * (precision * recall) / (precision + recall) if precision + recall > 0 else 0.0\n",
    "        \n",
    "        accuracies.append(accuracy)\n",
    "        f1s.append(f1)\n",
    "\n",
    "# Means\n",
    "print(np.mean(accuracies))\n",
    "print(np.mean(f1s))"
   ]
  },
  {
   "cell_type": "code",
   "execution_count": null,
   "metadata": {},
   "outputs": [],
   "source": [
    "# For each IOI example, predict the feature activation score on a given token\n",
    "accuracies, f1s = [], []\n",
    "for i in range(z_hidden.shape[0]):\n",
    "    sentence = dataset_prompts[i]\n",
    "    sentence_tokens = model.to_tokens(sentence).squeeze()\n",
    "    activations = z_hidden[i]\n",
    "\n",
    "    pred_dict = {}\n",
    "\n",
    "    # positions = [5, 6, 14, 15, 19, 20]\n",
    "    threshold = 1.0\n",
    "    non_zero_indices = np.where(activations > threshold)[0].tolist()\n",
    "    print(non_zero_indices)\n",
    "    # Add one before and after each non-zero index\n",
    "    positions = []\n",
    "    for i in non_zero_indices:\n",
    "        positions.extend([i-1, i, i+1])\n",
    "    positions = [x for x in positions if x > 0 and x < len(sentence_tokens)]\n",
    "\n",
    "    if len(positions) == 0:\n",
    "        # Randomly sample 3 positions\n",
    "        positions = np.random.choice(len(sentence_tokens), 3, replace=False)\n",
    "\n",
    "    print(positions)\n",
    "\n",
    "    for i in tqdm(positions):\n",
    "        sentence_str_example = model.to_string(sentence_tokens[:i+1])\n",
    "        sentence_tokens_example = sentence_tokens[:i+1]\n",
    "        ground_truth = activations[i].item()\n",
    "\n",
    "        # Get the prediction\n",
    "        prompt = follow_up_activation_prediction_prompt(interp_base, sentence_str_example)\n",
    "        prediction = get_response(prompt) #gen_openai_completion(prompt, visualize_stream=False)\n",
    "        print(prediction)\n",
    "        print(sentence_str_example)\n",
    "        print(ground_truth)\n",
    "        print()\n",
    "        pred_dict[i] = {\"prediction\": prediction, \"sentence\": sentence_str_example, \"ground_truth\": ground_truth}\n",
    "\n",
    "    for k, v in pred_dict.items():\n",
    "        prediction = v[\"prediction\"].split('[ACTIVATION]: ')[-1].strip()\n",
    "        pred_dict[k]['prediction_numeric'] = 1.0 if prediction == 'non-zero' else 0.0\n",
    "        pred_dict[k]['ground_truth_numeric'] = 1.0 if v['ground_truth'] > threshold else 0.0\n",
    "\n",
    "    # Get accuracy and f1 score\n",
    "    correct = 0\n",
    "    tp = 0\n",
    "    fp = 0\n",
    "    fn = 0\n",
    "    for k, v in pred_dict.items():\n",
    "        if v['prediction_numeric'] == v['ground_truth_numeric']:\n",
    "            correct += 1\n",
    "        if v['prediction_numeric'] == 1 and v['ground_truth_numeric'] == 1:\n",
    "            tp += 1\n",
    "        if v['prediction_numeric'] == 1 and v['ground_truth_numeric'] == 0:\n",
    "            fp += 1\n",
    "        if v['prediction_numeric'] == 0 and v['ground_truth_numeric'] == 1:\n",
    "            fn += 1\n",
    "\n",
    "    print(f\"TP: {tp}, FP: {fp}, FN: {fn}\")\n",
    "\n",
    "    if tp + fp + fn > 0:\n",
    "        accuracy = correct / len(pred_dict)\n",
    "        precision = tp / (tp + fp) if tp + fp > 0 else 0.0\n",
    "        recall = tp / (tp + fn) if tp + fn > 0 else 0.0\n",
    "        f1 = 2 * (precision * recall) / (precision + recall) if precision + recall > 0 else 0.0\n",
    "        \n",
    "        accuracies.append(accuracy)\n",
    "        f1s.append(f1)\n",
    "\n",
    "# Means\n",
    "print(np.mean(accuracies))\n",
    "print(np.mean(f1s))"
   ]
  },
  {
   "cell_type": "code",
   "execution_count": null,
   "metadata": {},
   "outputs": [],
   "source": [
    "results_dict = {\n",
    "    \"16513_8_attn\": {\n",
    "        \"token_importance\":{\n",
    "            \"accuracies\": 0.83,\n",
    "            \"f1s\": 0.66,\n",
    "        },\n",
    "        \"base\": {\n",
    "            \"accuracies\": 0.79,\n",
    "            \"f1s\": 0.54,\n",
    "        }\n",
    "    },\n",
    "    \"24166_2_attn\": {\n",
    "        \"token_importance\":{\n",
    "            \"accuracies\": 0.73,\n",
    "            \"f1s\": 0.2,\n",
    "        },\n",
    "        \"base\": {\n",
    "            \"accuracies\": 0.6,\n",
    "            \"f1s\": 0.0,\n",
    "        }\n",
    "    },\n",
    "    \"27535_5_attn\": {\n",
    "        \"token_importance\":{\n",
    "            \"accuracies\": 0.76,\n",
    "            \"f1s\": 0.4,\n",
    "        },\n",
    "        \"base\": {\n",
    "            \"accuracies\": 0.36,\n",
    "            \"f1s\": 0.2,\n",
    "        }\n",
    "    },\n",
    "}"
   ]
  },
  {
   "cell_type": "code",
   "execution_count": null,
   "metadata": {},
   "outputs": [],
   "source": [
    "import plotly.graph_objects as go\n",
    "\n",
    "results_dict = {\n",
    "    \"16513_8_attn\": {\n",
    "        \"token_importance\": {\n",
    "            \"accuracies\": 0.83,\n",
    "            \"f1s\": 0.66,\n",
    "        },\n",
    "        \"base\": {\n",
    "            \"accuracies\": 0.79,\n",
    "            \"f1s\": 0.54,\n",
    "        }\n",
    "    },\n",
    "    \"24166_2_attn\": {\n",
    "        \"token_importance\": {\n",
    "            \"accuracies\": 0.73,\n",
    "            \"f1s\": 0.2,\n",
    "        },\n",
    "        \"base\": {\n",
    "            \"accuracies\": 0.6,\n",
    "            \"f1s\": 0.0,\n",
    "        }\n",
    "    },\n",
    "    \"27535_5_attn\": {\n",
    "        \"token_importance\": {\n",
    "            \"accuracies\": 0.76,\n",
    "            \"f1s\": 0.4,\n",
    "        },\n",
    "        \"base\": {\n",
    "            \"accuracies\": 0.36,\n",
    "            \"f1s\": 0.2,\n",
    "        }\n",
    "    },\n",
    "}\n",
    "\n",
    "def create_label(key):\n",
    "    feature_id, layer, attn = key.split(\"_\")\n",
    "    return f\"Feat. {feature_id} (L{layer} Attn.)\"\n",
    "\n",
    "labels = [create_label(key) for key in results_dict.keys()]\n",
    "token_importance_accuracies = [results_dict[key][\"token_importance\"][\"accuracies\"] for key in results_dict.keys()]\n",
    "token_importance_f1s = [results_dict[key][\"token_importance\"][\"f1s\"] for key in results_dict.keys()]\n",
    "base_accuracies = [results_dict[key][\"base\"][\"accuracies\"] for key in results_dict.keys()]\n",
    "base_f1s = [results_dict[key][\"base\"][\"f1s\"] for key in results_dict.keys()]\n",
    "\n",
    "fig = go.Figure(data=[\n",
    "    go.Bar(name='Token Importance Accuracies', x=labels, y=token_importance_accuracies, marker_color='#ADD8E6'),  # Light blue\n",
    "    go.Bar(name='Token Importance F1s', x=labels, y=token_importance_f1s, marker_color='#00008B'),  # Dark blue\n",
    "    go.Bar(name='Base Accuracies', x=labels, y=base_accuracies, marker_color='#90EE90'),  # Light green\n",
    "    go.Bar(name='Base F1s', x=labels, y=base_f1s, marker_color='#006400')  # Dark green\n",
    "])\n",
    "\n",
    "fig.update_layout(\n",
    "    title='Token Importance vs. Base Performance',\n",
    "    xaxis_title='Feature',\n",
    "    yaxis_title='Score',\n",
    "    barmode='group',\n",
    "    legend_title_text='Metrics',\n",
    "    font=dict(size=14),\n",
    "    template='plotly_white',\n",
    "    width=900\n",
    ")\n",
    "\n",
    "fig.show()"
   ]
  },
  {
   "cell_type": "markdown",
   "metadata": {},
   "source": [
    "## Feature families"
   ]
  },
  {
   "cell_type": "code",
   "execution_count": null,
   "metadata": {},
   "outputs": [],
   "source": [
    "from autointerpretability import *\n",
    "\n",
    "cp = get_circuit_prediction(task='ioi', N=20)\n",
    "\n",
    "model = HookedTransformer.from_pretrained('gpt2-small')\n",
    "\n",
    "dataset = load_dataset('Skylion007/openwebtext', split='train', streaming=True)\n",
    "dataset = dataset.shuffle(seed=42, buffer_size=10_000)\n",
    "tokenized_owt = tokenize_and_concatenate(dataset, model.tokenizer, max_length=128, streaming=True)\n",
    "tokenized_owt = tokenized_owt.shuffle(42)\n",
    "tokenized_owt = tokenized_owt.take(12800 * 2)\n",
    "owt_tokens = np.stack([x['tokens'] for x in tokenized_owt])\n",
    "owt_tokens_torch = torch.tensor(owt_tokens)\n",
    "\n",
    "device = 'cpu'\n",
    "tl_model, z_saes, transcoders = get_model_encoders(device=device)"
   ]
  },
  {
   "cell_type": "code",
   "execution_count": null,
   "metadata": {},
   "outputs": [],
   "source": [
    "def get_top_k_feature_tuples_for_component(co_occurrence_dict, component_str, k=5):\n",
    "    # Parse the component string to get the appropriate tuple key\n",
    "    if component_str.startswith(\"MLP\"):\n",
    "        layer = int(component_str[3:])\n",
    "        component = ('mlp_feature', layer)\n",
    "    elif component_str.startswith(\"L\") and \"H\" in component_str:\n",
    "        layer, head = map(int, component_str[1:].split(\"H\"))\n",
    "        component = ('attn_head', layer, head)\n",
    "    else:\n",
    "        raise ValueError(f\"Invalid component format: {component_str}\")\n",
    "\n",
    "    # Use a Counter to count the occurrences of each tuple\n",
    "    global_counter = Counter()\n",
    "\n",
    "    # Iterate through the co-occurrence dictionary\n",
    "    for comp_pair, co_occurrences in co_occurrence_dict.items():\n",
    "        comp1, comp2 = comp_pair\n",
    "\n",
    "        if comp1 == component or comp2 == component:\n",
    "            for feature_tuple in co_occurrences:\n",
    "                global_counter[(comp_pair, feature_tuple)] += 1\n",
    "\n",
    "    # Get the top-k tuples by count\n",
    "    top_k_tuples = global_counter.most_common(k)\n",
    "\n",
    "    # Create a dictionary to store the results\n",
    "    top_k_dict = defaultdict(dict)\n",
    "    \n",
    "    for (comp_pair, feature_tuple), count in top_k_tuples:\n",
    "        top_k_dict[comp_pair][feature_tuple] = count\n",
    "\n",
    "    return top_k_dict\n",
    "\n",
    "get_top_k_feature_tuples_for_component(cp.co_occurrence_dict, \"L5H5\", k=20)"
   ]
  },
  {
   "cell_type": "code",
   "execution_count": null,
   "metadata": {},
   "outputs": [],
   "source": [
    "cp.get_top_k_feature_tuples(k=20)"
   ]
  },
  {
   "cell_type": "code",
   "execution_count": null,
   "metadata": {},
   "outputs": [],
   "source": [
    "component_name = 'L5_H5'\n",
    "layer = 5\n",
    "\n",
    "features = [x for x in list(set(cp.circuit_hypergraph[component_name]['features'])) if x!=-1]\n",
    "print(features)"
   ]
  },
  {
   "cell_type": "code",
   "execution_count": null,
   "metadata": {},
   "outputs": [],
   "source": [
    "from openai_utils import get_response\n",
    "\n",
    "def get_interpretation_old(examples_clean_text, top_tokens):\n",
    "    opening_prompt = get_opening_prompt(examples_clean_text, top_tokens)\n",
    "    return get_response(opening_prompt) #gen_openai_completion(opening_prompt, visualize_stream=False)\n",
    "\n",
    "def feature_scores_for_component_cluster(component_name: str, layer: int):\n",
    "    features = [x for x in list(set(cp.circuit_hypergraph[component_name]['features'])) if x!=-1]\n",
    "\n",
    "    sae = z_saes[layer]\n",
    "    feature_scores = get_feature_scores(model, sae, owt_tokens_torch[:1024*4], features, batch_size=128)\n",
    "\n",
    "    top_tokens, top_logits = get_top_k_tokens(model, [(sae, features)], k=10, act_strength=5)\n",
    "\n",
    "    return feature_scores, top_tokens, top_logits"
   ]
  },
  {
   "cell_type": "code",
   "execution_count": null,
   "metadata": {},
   "outputs": [],
   "source": [
    "# Get the interpretation\n",
    "\n",
    "feature_scores, top_tokens, top_logits = feature_scores_for_component_cluster(component_name, layer)\n",
    "\n",
    "example_html, examples_clean_text = display_top_k_activating_examples_sum(model, feature_scores, owt_tokens_torch[:1024*4], \n",
    "                                                                          feature_indices=[x for x in range(feature_scores.shape[1])], k=25, display_html=False)\n",
    "\n",
    "top_tokens, top_logits = get_top_k_tokens(model, [(z_saes[layer], [x for x in list(set(cp.circuit_hypergraph[component_name]['features'])) if x!=-1])], k=10, act_strength=5)\n",
    "\n",
    "interpretation = get_interpretation_old(examples_clean_text, top_tokens)\n",
    "\n",
    "print(interpretation)"
   ]
  },
  {
   "cell_type": "code",
   "execution_count": null,
   "metadata": {},
   "outputs": [],
   "source": [
    "# Get some IOI examples where it activates (max activation across feature family is the ground-truth)\n",
    "\n",
    "# Get the actual prompts\n",
    "n_prompts = 100\n",
    "dataset_prompts = gen_templated_prompts(template_idex=1, N=n_prompts)\n",
    "dataset_prompts = [x['text'] + x['correct'] for x in dataset_prompts]\n",
    "dataset_tokens = model.to_tokens(dataset_prompts)\n",
    "\n",
    "# Run the model over the prompts and get the feature activations at each token in each prompt\n",
    "_, cache = model.run_with_cache(dataset_tokens)\n",
    "z = cache[\"z\", layer]\n",
    "b, s, n, d = z.shape\n",
    "del cache\n",
    "z = einops.rearrange(z, \"b s n d -> (b s) (n d)\")\n",
    "\n",
    "# Apply relevant SAE or transcoder to the activations\n",
    "if component_name.startswith(\"L\"):\n",
    "    encoder = z_saes[layer]\n",
    "else:\n",
    "    encoder = transcoders[layer]\n",
    "\n",
    "z_hidden = encoder.encode(z)\n",
    "z_hidden = einops.rearrange(z_hidden, \"(b s) h -> b s h\", s=s)\n",
    "\n",
    "# Only keep feature indices (last dimension)\n",
    "feature_indices = [x for x in list(set(cp.circuit_hypergraph[component_name]['features'])) if x!=-1]\n",
    "print(feature_indices)\n",
    "z_hidden = z_hidden[:, :, feature_indices]\n",
    "\n",
    "# For each batch (first dimension) and each token in each batch (second dimension), only keep the max activation (third dimension)\n",
    "z_hidden = z_hidden.max(dim=2).values\n",
    "\n",
    "# Set first entry in each batch to 0\n",
    "z_hidden[:, 0] = 0\n",
    "\n",
    "# Print rows which have a non-zero value\n",
    "non_zero_indices = np.where(z_hidden > 0.0)[0].tolist()[:3]\n",
    "print(non_zero_indices)\n",
    "\n",
    "# Keep 3 of these rows plus the row after\n",
    "indices_to_keep = []\n",
    "for i, j in enumerate(non_zero_indices):\n",
    "    indices_to_keep.extend([j, j+1])\n",
    "\n",
    "print(indices_to_keep)\n",
    "\n",
    "# Keep z_hidden rows\n",
    "z_hidden = z_hidden[indices_to_keep]\n",
    "\n",
    "z_hidden"
   ]
  },
  {
   "cell_type": "code",
   "execution_count": null,
   "metadata": {},
   "outputs": [],
   "source": [
    "# Set up new LLM interpreter given interpretation\n",
    "from jinja2 import Template\n",
    "from typing import List\n",
    "\n",
    "def follow_up_activation_prediction_prompt(\n",
    "    interpretation: str, sentence: str\n",
    "):\n",
    "    last_word_in_sentence = sentence.split()[-1]\n",
    "    \n",
    "    template = Template(\n",
    "        \"\"\"\n",
    "{# You are an AI researcher continuing an important investigation into a certain neuron in a language model. Your task is to predict whether this neuron will activate on the final word of a given sentence based on a previously provided interpretation of the neuron's behavior. Here's how you will complete this task: #}\n",
    "\n",
    "You are an AI researcher continuing an important investigation into a certain neuron in a language model. This language model is trained to predict the text that will follow a given input. Your task is to predict whether this neuron will have a zero or non-zero activation on the final word of a given sentence based on the provided interpretation of the neuron's behavior.\n",
    "\n",
    "INTERPRETATION:\n",
    "{{interpretation}}\n",
    "\n",
    "INPUT:\n",
    "The sentence to analyze is:\n",
    "=================================================\n",
    "{{sentence}}\n",
    "=================================================\n",
    "\n",
    "The final word to analyze is: {{last_word_in_sentence}}\n",
    "\n",
    "OUTPUT:\n",
    "Based on the provided interpretation, analyze the sentence and describe your reasoning in two sentences. Then, predict whether the neuron will have a zero or non-zero activation on the final word of the sentence. Provide your answer in the following format:\n",
    "[ANALYSIS]: <two sentences of analysis>\n",
    "[ACTIVATION]: zero or non-zero\n",
    "\n",
    "Guidelines:\n",
    "- Carefully consider the interpretation and apply it to the given sentence.\n",
    "- Your analysis should be concise and relevant to the provided interpretation.\n",
    "- Do not be too rigid; if the interpretation provides an example of an activating token don't assume that specific token always has to be present - follow the pattern instead.\n",
    "- For instance, if the interpretation suggests the neuron activates on names and provides an example name 'David', whilst suggesting other names can activate it, don't just predict zero if David isn't present.\n",
    "- Your prediction should be either \"zero\" or \"non-zero\".\n",
    "\n",
    "EXAMPLE:\n",
    "[ANALYSIS]: The final word in the sentence fits the pattern described in the interpretation. The context provided in the sentence suggests a non-zero activation.\n",
    "[ACTIVATION]: non-zero\n",
    "\"\"\"\n",
    "    )\n",
    "\n",
    "    return template.render(\n",
    "        {\"interpretation\": interpretation, \"sentence\": sentence, \"last_word_in_sentence\": last_word_in_sentence}\n",
    "    )\n"
   ]
  },
  {
   "cell_type": "code",
   "execution_count": null,
   "metadata": {},
   "outputs": [],
   "source": [
    "# For each IOI example, predict the feature activation score on a given token\n",
    "accuracies, f1s = [], []\n",
    "for i in range(z_hidden.shape[0]):\n",
    "    sentence = dataset_prompts[i]\n",
    "    sentence_tokens = model.to_tokens(sentence).squeeze()\n",
    "    activations = z_hidden[i]\n",
    "\n",
    "    pred_dict = {}\n",
    "\n",
    "    # positions = [5, 6, 14, 15, 19, 20]\n",
    "    threshold = 1.0\n",
    "    non_zero_indices = np.where(activations > threshold)[0].tolist()\n",
    "    print(non_zero_indices)\n",
    "    # Add one before and after each non-zero index\n",
    "    positions = []\n",
    "    for i in non_zero_indices:\n",
    "        positions.extend([i-1, i, i+1])\n",
    "    positions = [x for x in positions if x > 0 and x < len(sentence_tokens)]\n",
    "\n",
    "    if len(positions) == 0:\n",
    "        # Randomly sample 3 positions\n",
    "        positions = np.random.choice(len(sentence_tokens), 3, replace=False)\n",
    "\n",
    "    print(positions)\n",
    "\n",
    "    for i in tqdm(positions):\n",
    "        sentence_str_example = model.to_string(sentence_tokens[:i+1])\n",
    "        sentence_tokens_example = sentence_tokens[:i+1]\n",
    "        ground_truth = activations[i].item()\n",
    "\n",
    "        # Get the prediction\n",
    "        prompt = follow_up_activation_prediction_prompt(interpretation, sentence_str_example)\n",
    "        prediction = get_response(prompt) #gen_openai_completion(prompt, visualize_stream=False)\n",
    "        print(prediction)\n",
    "        print(sentence_str_example)\n",
    "        print(ground_truth)\n",
    "        print()\n",
    "        pred_dict[i] = {\"prediction\": prediction, \"sentence\": sentence_str_example, \"ground_truth\": ground_truth}\n",
    "\n",
    "    for k, v in pred_dict.items():\n",
    "        prediction = v[\"prediction\"].split('[ACTIVATION]: ')[-1].strip()\n",
    "        pred_dict[k]['prediction_numeric'] = 1.0 if prediction == 'non-zero' else 0.0\n",
    "        pred_dict[k]['ground_truth_numeric'] = 1.0 if v['ground_truth'] > threshold else 0.0\n",
    "\n",
    "    # Get accuracy and f1 score\n",
    "    correct = 0\n",
    "    tp = 0\n",
    "    fp = 0\n",
    "    fn = 0\n",
    "    for k, v in pred_dict.items():\n",
    "        if v['prediction_numeric'] == v['ground_truth_numeric']:\n",
    "            correct += 1\n",
    "        if v['prediction_numeric'] == 1 and v['ground_truth_numeric'] == 1:\n",
    "            tp += 1\n",
    "        if v['prediction_numeric'] == 1 and v['ground_truth_numeric'] == 0:\n",
    "            fp += 1\n",
    "        if v['prediction_numeric'] == 0 and v['ground_truth_numeric'] == 1:\n",
    "            fn += 1\n",
    "\n",
    "    print(f\"TP: {tp}, FP: {fp}, FN: {fn}\")\n",
    "\n",
    "    if tp + fp + fn > 0:\n",
    "        accuracy = correct / len(pred_dict)\n",
    "        precision = tp / (tp + fp) if tp + fp > 0 else 0.0\n",
    "        recall = tp / (tp + fn) if tp + fn > 0 else 0.0\n",
    "        f1 = 2 * (precision * recall) / (precision + recall) if precision + recall > 0 else 0.0\n",
    "        \n",
    "        accuracies.append(accuracy)\n",
    "        f1s.append(f1)"
   ]
  },
  {
   "cell_type": "code",
   "execution_count": null,
   "metadata": {},
   "outputs": [],
   "source": [
    "# from openai import AzureOpenAI\n",
    "\n",
    "# config = yaml.safe_load(open(\"config.yaml\"))\n",
    "# azure_client = AzureOpenAI(\n",
    "#     azure_endpoint=config[\"base_url\"],\n",
    "#     api_key=config[\"azure_api_key\"],\n",
    "#     api_version=config[\"api_version\"],\n",
    "# )\n",
    "\n",
    "# opening_prompt = get_opening_prompt(examples_clean_text, top_tokens)\n",
    "# print(opening_prompt)\n",
    "# messages = [{\"role\": \"user\", \"content\": opening_prompt}]\n",
    "# response = azure_client.chat.completions.create(\n",
    "#     model=\"gpt4_large\",\n",
    "#     messages=messages,\n",
    "# )\n",
    "# interpretation = f\"{response.choices[0].message.content}\"\n",
    "\n",
    "interpretation = \"\"\" \n",
    "[EXPLANATION]: The neuron activates on names, especially in possessive or direct reference contexts, and activates in texts involving repeated mentions of specific names or entities.\n",
    "\"\"\""
   ]
  },
  {
   "cell_type": "code",
   "execution_count": null,
   "metadata": {},
   "outputs": [],
   "source": [
    "# Mean of accuracies and f1 scores\n",
    "print(f\"Mean Accuracy: {np.mean(accuracies)}\")\n",
    "print(f\"Mean F1 Score: {np.mean(f1s)}\")"
   ]
  },
  {
   "cell_type": "code",
   "execution_count": null,
   "metadata": {},
   "outputs": [],
   "source": [
    "# # For each individual feature in our feature family, rerun the autointerp and get the scores for that individual feature\n",
    "# features = [x for x in list(set(cp.circuit_hypergraph[component_name]['features'])) if x!=-1]\n",
    "\n",
    "# feature_scores = get_feature_scores(model, z_saes[layer], owt_tokens_torch[:1024*4], feature_indices=[x for x in range(len(features))], batch_size=128)\n",
    "\n",
    "feat_idx = 1\n",
    "\n",
    "examples_html, examples_clean_text = display_top_k_activating_examples(model, feature_scores[:, feat_idx, :], owt_tokens_torch[:1024*4], k=10, display_html=False)\n",
    "\n",
    "top_tokens, top_logits = get_top_k_tokens(model, [(z_saes[layer], [features[feat_idx]])], k=10, act_strength=5)\n",
    "\n",
    "interpretation = get_interpretation(examples_clean_text, top_tokens)\n",
    "\n",
    "print(interpretation)"
   ]
  },
  {
   "cell_type": "code",
   "execution_count": null,
   "metadata": {},
   "outputs": [],
   "source": [
    "# Get some IOI examples where it activates (max activation across feature family is the ground-truth)\n",
    "\n",
    "# Get the actual prompts\n",
    "n_prompts = 100\n",
    "dataset_prompts = gen_templated_prompts(template_idex=1, N=n_prompts)\n",
    "dataset_prompts = [x['text'] + x['correct'] for x in dataset_prompts]\n",
    "dataset_tokens = model.to_tokens(dataset_prompts)\n",
    "\n",
    "# Run the model over the prompts and get the feature activations at each token in each prompt\n",
    "_, cache = model.run_with_cache(dataset_tokens)\n",
    "z = cache[\"z\", layer]\n",
    "b, s, n, d = z.shape\n",
    "del cache\n",
    "z = einops.rearrange(z, \"b s n d -> (b s) (n d)\")\n",
    "\n",
    "# Apply relevant SAE or transcoder to the activations\n",
    "if component_name.startswith(\"L\"):\n",
    "    encoder = z_saes[layer]\n",
    "else:\n",
    "    encoder = transcoders[layer]\n",
    "\n",
    "z_hidden = encoder.encode(z)\n",
    "z_hidden = einops.rearrange(z_hidden, \"(b s) h -> b s h\", s=s)\n",
    "\n",
    "# Only keep feature indices (last dimension)\n",
    "feature_indices = [features[feat_idx]]\n",
    "z_hidden = z_hidden[:, :, feature_indices]\n",
    "\n",
    "# For each batch (first dimension) and each token in each batch (second dimension), only keep the max activation (third dimension)\n",
    "z_hidden = z_hidden.max(dim=2).values\n",
    "\n",
    "# Print rows which have a non-zero value\n",
    "non_zero_indices = np.where(z_hidden > 0.0)[0].tolist()[:3]\n",
    "print(non_zero_indices)\n",
    "\n",
    "# Keep 3 of these rows plus the row after\n",
    "indices_to_keep = []\n",
    "for i, j in enumerate(non_zero_indices):\n",
    "    indices_to_keep.extend([j, j+1])\n",
    "\n",
    "print(indices_to_keep)\n",
    "\n",
    "# Keep z_hidden rows\n",
    "z_hidden = z_hidden[indices_to_keep]\n",
    "\n",
    "z_hidden.shape"
   ]
  },
  {
   "cell_type": "code",
   "execution_count": null,
   "metadata": {},
   "outputs": [],
   "source": [
    "from openai_utils import get_response\n",
    "\n",
    "# For each IOI example, predict the feature activation score on a given token\n",
    "accuracies, f1s = [], []\n",
    "for i in range(z_hidden.shape[0]):\n",
    "    sentence = dataset_prompts[i]\n",
    "    sentence_tokens = model.to_tokens(sentence).squeeze()\n",
    "    activations = z_hidden[i]\n",
    "\n",
    "    pred_dict = {}\n",
    "\n",
    "    threshold = 0.0\n",
    "    non_zero_indices = np.where(activations > threshold)[0].tolist()\n",
    "    # Add one before and after each non-zero index\n",
    "    positions = []\n",
    "    for i in non_zero_indices:\n",
    "        positions.extend([i-1, i, i+1])\n",
    "    positions = [x for x in positions if x >= 0 and x < len(sentence_tokens)]\n",
    "    print(positions)\n",
    "\n",
    "    if len(positions) == 0:\n",
    "        # Radomly sample 3 positions\n",
    "        positions = np.random.choice(len(sentence_tokens), 3, replace=False)\n",
    "\n",
    "    for i in tqdm(positions):\n",
    "        sentence_str_example = model.to_string(sentence_tokens[:i+1])\n",
    "        sentence_tokens_example = sentence_tokens[:i+1]\n",
    "        ground_truth = activations[i].item()\n",
    "\n",
    "        # Get the prediction\n",
    "        prompt = follow_up_activation_prediction_prompt(interpretation, sentence_str_example)\n",
    "        prediction = get_response(prompt) #gen_openai_completion(prompt, visualize_stream=False)\n",
    "        pred_dict[i] = {\"prediction\": prediction, \"sentence\": sentence_str_example, \"ground_truth\": ground_truth}\n",
    "\n",
    "    for k, v in pred_dict.items():\n",
    "        prediction = v[\"prediction\"].split('[ACTIVATION]: ')[-1].strip()\n",
    "        pred_dict[k]['prediction_numeric'] = 1.0 if prediction == 'non-zero' else 0.0\n",
    "        pred_dict[k]['ground_truth_numeric'] = 1.0 if v['ground_truth'] > 0.0 else 0.0\n",
    "\n",
    "    # Get accuracy and f1 score\n",
    "    correct = 0\n",
    "    tp = 0\n",
    "    fp = 0\n",
    "    fn = 0\n",
    "    for k, v in pred_dict.items():\n",
    "        if v['prediction_numeric'] == v['ground_truth_numeric']:\n",
    "            correct += 1\n",
    "        if v['prediction_numeric'] == 1 and v['ground_truth_numeric'] == 1:\n",
    "            tp += 1\n",
    "        if v['prediction_numeric'] == 1 and v['ground_truth_numeric'] == 0:\n",
    "            fp += 1\n",
    "        if v['prediction_numeric'] == 0 and v['ground_truth_numeric'] == 1:\n",
    "            fn += 1\n",
    "\n",
    "    print(f\"TP: {tp}, FP: {fp}, FN: {fn}\")\n",
    "\n",
    "    print(pred_dict)\n",
    "\n",
    "    if tp + fp + fn > 0:\n",
    "        accuracy = correct / len(pred_dict)\n",
    "        precision = tp / (tp + fp) if tp + fp > 0 else 0.0\n",
    "        recall = tp / (tp + fn) if tp + fn > 0 else 0.0\n",
    "        f1 = 2 * (precision * recall) / (precision + recall) if precision + recall > 0 else 0.0\n",
    "        \n",
    "        accuracies.append(accuracy)\n",
    "        f1s.append(f1)"
   ]
  },
  {
   "cell_type": "code",
   "execution_count": null,
   "metadata": {},
   "outputs": [],
   "source": [
    "# Means\n",
    "print(f\"Mean Accuracy: {np.mean(accuracies)}\")\n",
    "print(f\"Mean F1 Score: {np.mean(f1s)}\")"
   ]
  },
  {
   "cell_type": "code",
   "execution_count": null,
   "metadata": {},
   "outputs": [],
   "source": [
    "results_dict = {\n",
    "    \"L5H5\": {\"families\": {\"f1\": 1.0, \"accuracy\": 1.0}, \"individual\": {\"f1\": 0.0, \"accuracy\": 0.0}},\n",
    "    \"L8H6\": {},\n",
    "    \"L0H1\": {\"families\": {\"f1\": 0.59, \"accuracy\": 0.81}, \"individual\": {\"f1\": 0.05, \"accuracy\": 0.75}},\n",
    "    \"L2H2\": {\"families\": {\"f1\": 0.75, \"accuracy\": 0.91}, \"individual\": {\"f1\": 0.06, \"accuracy\": 0.49}},\n",
    "}"
   ]
  },
  {
   "cell_type": "code",
   "execution_count": null,
   "metadata": {},
   "outputs": [],
   "source": [
    "import plotly.graph_objects as go\n",
    "\n",
    "results_dict = {\n",
    "    \"L5H5\": {\"families\": {\"f1\": 1.0, \"accuracy\": 1.0}, \"individual\": {\"f1\": 0.02, \"accuracy\": 0.4}},\n",
    "    \"L0H1\": {\"families\": {\"f1\": 0.59, \"accuracy\": 0.81}, \"individual\": {\"f1\": 0.05, \"accuracy\": 0.75}},\n",
    "    \"L2H2\": {\"families\": {\"f1\": 0.75, \"accuracy\": 0.91}, \"individual\": {\"f1\": 0.06, \"accuracy\": 0.49}},\n",
    "}\n",
    "\n",
    "labels = list(results_dict.keys())\n",
    "families_f1 = [results_dict[key][\"families\"][\"f1\"] if \"families\" in results_dict[key] else None for key in labels]\n",
    "families_accuracy = [results_dict[key][\"families\"][\"accuracy\"] if \"families\" in results_dict[key] else None for key in labels]\n",
    "individual_f1 = [results_dict[key][\"individual\"][\"f1\"] if \"individual\" in results_dict[key] else None for key in labels]\n",
    "individual_accuracy = [results_dict[key][\"individual\"][\"accuracy\"] if \"individual\" in results_dict[key] else None for key in labels]\n",
    "\n",
    "fig = go.Figure(data=[\n",
    "    go.Bar(name='Families F1', x=labels, y=families_f1, marker_color='#ADD8E6'),  # Light blue\n",
    "    go.Bar(name='Families Accuracy', x=labels, y=families_accuracy, marker_color='#00008B'),  # Dark blue\n",
    "    go.Bar(name='Individual F1', x=labels, y=individual_f1, marker_color='#90EE90'),  # Light green\n",
    "    go.Bar(name='Individual Accuracy', x=labels, y=individual_accuracy, marker_color='#006400')  # Dark green\n",
    "])\n",
    "\n",
    "fig.update_layout(\n",
    "    title='Family vs. individual feature autointerp - IOI performance',\n",
    "    xaxis_title='Attention Head',\n",
    "    yaxis_title='Score',\n",
    "    barmode='group',\n",
    "    legend_title_text='Metrics',\n",
    "    font=dict(size=14),\n",
    "    template='plotly_white',\n",
    "    width=900\n",
    ")\n",
    "\n",
    "fig.show()"
   ]
  },
  {
   "cell_type": "markdown",
   "metadata": {},
   "source": [
    "## Feature co-occurrence"
   ]
  },
  {
   "cell_type": "code",
   "execution_count": 198,
   "metadata": {},
   "outputs": [
    {
     "data": {
      "text/plain": [
       "{'David': 22, 'Elizabeth': 18, 'Paul': 22, 'Sarah': 20}"
      ]
     },
     "execution_count": 198,
     "metadata": {},
     "output_type": "execute_result"
    }
   ],
   "source": [
    "dataset_prompts = gen_templated_prompts(template_idex=1, N=500)\n",
    "dataset_prompts = [x['text'] + x['correct'] for x in dataset_prompts]\n",
    "\n",
    "names = ['David', 'Elizabeth', 'Paul', 'Sarah']\n",
    "\n",
    "# Count occurrence of each name in dataset prompts\n",
    "name_counts = {name: 0 for name in names}\n",
    "\n",
    "for prompt in dataset_prompts:\n",
    "    for name in names:\n",
    "        if name in prompt:\n",
    "            name_counts[name] += 1\n",
    "\n",
    "name_counts"
   ]
  },
  {
   "cell_type": "code",
   "execution_count": 221,
   "metadata": {},
   "outputs": [
    {
     "data": {
      "application/vnd.plotly.v1+json": {
       "config": {
        "plotlyServerURL": "https://plot.ly"
       },
       "data": [
        {
         "marker": {
          "color": "blue",
          "size": 10
         },
         "mode": "markers",
         "name": "Names",
         "type": "scatter",
         "x": [
          0.2708333333333333,
          0.2708333333333333,
          0.22916666666666666,
          0.22916666666666666
         ],
         "y": [
          0.2804878048780488,
          0.2682926829268293,
          0.21951219512195122,
          0.23170731707317074
         ]
        },
        {
         "line": {
          "color": "red",
          "width": 2
         },
         "mode": "lines",
         "name": "LS Fit",
         "type": "scatter",
         "x": [
          0.2708333333333333,
          0.2708333333333333,
          0.22916666666666666,
          0.22916666666666666
         ],
         "y": [
          0.27439024390243905,
          0.27439024390243905,
          0.225609756097561,
          0.225609756097561
         ]
        }
       ],
       "layout": {
        "font": {
         "size": 14
        },
        "height": 600,
        "template": {
         "data": {
          "bar": [
           {
            "error_x": {
             "color": "#2a3f5f"
            },
            "error_y": {
             "color": "#2a3f5f"
            },
            "marker": {
             "line": {
              "color": "white",
              "width": 0.5
             },
             "pattern": {
              "fillmode": "overlay",
              "size": 10,
              "solidity": 0.2
             }
            },
            "type": "bar"
           }
          ],
          "barpolar": [
           {
            "marker": {
             "line": {
              "color": "white",
              "width": 0.5
             },
             "pattern": {
              "fillmode": "overlay",
              "size": 10,
              "solidity": 0.2
             }
            },
            "type": "barpolar"
           }
          ],
          "carpet": [
           {
            "aaxis": {
             "endlinecolor": "#2a3f5f",
             "gridcolor": "#C8D4E3",
             "linecolor": "#C8D4E3",
             "minorgridcolor": "#C8D4E3",
             "startlinecolor": "#2a3f5f"
            },
            "baxis": {
             "endlinecolor": "#2a3f5f",
             "gridcolor": "#C8D4E3",
             "linecolor": "#C8D4E3",
             "minorgridcolor": "#C8D4E3",
             "startlinecolor": "#2a3f5f"
            },
            "type": "carpet"
           }
          ],
          "choropleth": [
           {
            "colorbar": {
             "outlinewidth": 0,
             "ticks": ""
            },
            "type": "choropleth"
           }
          ],
          "contour": [
           {
            "colorbar": {
             "outlinewidth": 0,
             "ticks": ""
            },
            "colorscale": [
             [
              0,
              "#0d0887"
             ],
             [
              0.1111111111111111,
              "#46039f"
             ],
             [
              0.2222222222222222,
              "#7201a8"
             ],
             [
              0.3333333333333333,
              "#9c179e"
             ],
             [
              0.4444444444444444,
              "#bd3786"
             ],
             [
              0.5555555555555556,
              "#d8576b"
             ],
             [
              0.6666666666666666,
              "#ed7953"
             ],
             [
              0.7777777777777778,
              "#fb9f3a"
             ],
             [
              0.8888888888888888,
              "#fdca26"
             ],
             [
              1,
              "#f0f921"
             ]
            ],
            "type": "contour"
           }
          ],
          "contourcarpet": [
           {
            "colorbar": {
             "outlinewidth": 0,
             "ticks": ""
            },
            "type": "contourcarpet"
           }
          ],
          "heatmap": [
           {
            "colorbar": {
             "outlinewidth": 0,
             "ticks": ""
            },
            "colorscale": [
             [
              0,
              "#0d0887"
             ],
             [
              0.1111111111111111,
              "#46039f"
             ],
             [
              0.2222222222222222,
              "#7201a8"
             ],
             [
              0.3333333333333333,
              "#9c179e"
             ],
             [
              0.4444444444444444,
              "#bd3786"
             ],
             [
              0.5555555555555556,
              "#d8576b"
             ],
             [
              0.6666666666666666,
              "#ed7953"
             ],
             [
              0.7777777777777778,
              "#fb9f3a"
             ],
             [
              0.8888888888888888,
              "#fdca26"
             ],
             [
              1,
              "#f0f921"
             ]
            ],
            "type": "heatmap"
           }
          ],
          "heatmapgl": [
           {
            "colorbar": {
             "outlinewidth": 0,
             "ticks": ""
            },
            "colorscale": [
             [
              0,
              "#0d0887"
             ],
             [
              0.1111111111111111,
              "#46039f"
             ],
             [
              0.2222222222222222,
              "#7201a8"
             ],
             [
              0.3333333333333333,
              "#9c179e"
             ],
             [
              0.4444444444444444,
              "#bd3786"
             ],
             [
              0.5555555555555556,
              "#d8576b"
             ],
             [
              0.6666666666666666,
              "#ed7953"
             ],
             [
              0.7777777777777778,
              "#fb9f3a"
             ],
             [
              0.8888888888888888,
              "#fdca26"
             ],
             [
              1,
              "#f0f921"
             ]
            ],
            "type": "heatmapgl"
           }
          ],
          "histogram": [
           {
            "marker": {
             "pattern": {
              "fillmode": "overlay",
              "size": 10,
              "solidity": 0.2
             }
            },
            "type": "histogram"
           }
          ],
          "histogram2d": [
           {
            "colorbar": {
             "outlinewidth": 0,
             "ticks": ""
            },
            "colorscale": [
             [
              0,
              "#0d0887"
             ],
             [
              0.1111111111111111,
              "#46039f"
             ],
             [
              0.2222222222222222,
              "#7201a8"
             ],
             [
              0.3333333333333333,
              "#9c179e"
             ],
             [
              0.4444444444444444,
              "#bd3786"
             ],
             [
              0.5555555555555556,
              "#d8576b"
             ],
             [
              0.6666666666666666,
              "#ed7953"
             ],
             [
              0.7777777777777778,
              "#fb9f3a"
             ],
             [
              0.8888888888888888,
              "#fdca26"
             ],
             [
              1,
              "#f0f921"
             ]
            ],
            "type": "histogram2d"
           }
          ],
          "histogram2dcontour": [
           {
            "colorbar": {
             "outlinewidth": 0,
             "ticks": ""
            },
            "colorscale": [
             [
              0,
              "#0d0887"
             ],
             [
              0.1111111111111111,
              "#46039f"
             ],
             [
              0.2222222222222222,
              "#7201a8"
             ],
             [
              0.3333333333333333,
              "#9c179e"
             ],
             [
              0.4444444444444444,
              "#bd3786"
             ],
             [
              0.5555555555555556,
              "#d8576b"
             ],
             [
              0.6666666666666666,
              "#ed7953"
             ],
             [
              0.7777777777777778,
              "#fb9f3a"
             ],
             [
              0.8888888888888888,
              "#fdca26"
             ],
             [
              1,
              "#f0f921"
             ]
            ],
            "type": "histogram2dcontour"
           }
          ],
          "mesh3d": [
           {
            "colorbar": {
             "outlinewidth": 0,
             "ticks": ""
            },
            "type": "mesh3d"
           }
          ],
          "parcoords": [
           {
            "line": {
             "colorbar": {
              "outlinewidth": 0,
              "ticks": ""
             }
            },
            "type": "parcoords"
           }
          ],
          "pie": [
           {
            "automargin": true,
            "type": "pie"
           }
          ],
          "scatter": [
           {
            "fillpattern": {
             "fillmode": "overlay",
             "size": 10,
             "solidity": 0.2
            },
            "type": "scatter"
           }
          ],
          "scatter3d": [
           {
            "line": {
             "colorbar": {
              "outlinewidth": 0,
              "ticks": ""
             }
            },
            "marker": {
             "colorbar": {
              "outlinewidth": 0,
              "ticks": ""
             }
            },
            "type": "scatter3d"
           }
          ],
          "scattercarpet": [
           {
            "marker": {
             "colorbar": {
              "outlinewidth": 0,
              "ticks": ""
             }
            },
            "type": "scattercarpet"
           }
          ],
          "scattergeo": [
           {
            "marker": {
             "colorbar": {
              "outlinewidth": 0,
              "ticks": ""
             }
            },
            "type": "scattergeo"
           }
          ],
          "scattergl": [
           {
            "marker": {
             "colorbar": {
              "outlinewidth": 0,
              "ticks": ""
             }
            },
            "type": "scattergl"
           }
          ],
          "scattermapbox": [
           {
            "marker": {
             "colorbar": {
              "outlinewidth": 0,
              "ticks": ""
             }
            },
            "type": "scattermapbox"
           }
          ],
          "scatterpolar": [
           {
            "marker": {
             "colorbar": {
              "outlinewidth": 0,
              "ticks": ""
             }
            },
            "type": "scatterpolar"
           }
          ],
          "scatterpolargl": [
           {
            "marker": {
             "colorbar": {
              "outlinewidth": 0,
              "ticks": ""
             }
            },
            "type": "scatterpolargl"
           }
          ],
          "scatterternary": [
           {
            "marker": {
             "colorbar": {
              "outlinewidth": 0,
              "ticks": ""
             }
            },
            "type": "scatterternary"
           }
          ],
          "surface": [
           {
            "colorbar": {
             "outlinewidth": 0,
             "ticks": ""
            },
            "colorscale": [
             [
              0,
              "#0d0887"
             ],
             [
              0.1111111111111111,
              "#46039f"
             ],
             [
              0.2222222222222222,
              "#7201a8"
             ],
             [
              0.3333333333333333,
              "#9c179e"
             ],
             [
              0.4444444444444444,
              "#bd3786"
             ],
             [
              0.5555555555555556,
              "#d8576b"
             ],
             [
              0.6666666666666666,
              "#ed7953"
             ],
             [
              0.7777777777777778,
              "#fb9f3a"
             ],
             [
              0.8888888888888888,
              "#fdca26"
             ],
             [
              1,
              "#f0f921"
             ]
            ],
            "type": "surface"
           }
          ],
          "table": [
           {
            "cells": {
             "fill": {
              "color": "#EBF0F8"
             },
             "line": {
              "color": "white"
             }
            },
            "header": {
             "fill": {
              "color": "#C8D4E3"
             },
             "line": {
              "color": "white"
             }
            },
            "type": "table"
           }
          ]
         },
         "layout": {
          "annotationdefaults": {
           "arrowcolor": "#2a3f5f",
           "arrowhead": 0,
           "arrowwidth": 1
          },
          "autotypenumbers": "strict",
          "coloraxis": {
           "colorbar": {
            "outlinewidth": 0,
            "ticks": ""
           }
          },
          "colorscale": {
           "diverging": [
            [
             0,
             "#8e0152"
            ],
            [
             0.1,
             "#c51b7d"
            ],
            [
             0.2,
             "#de77ae"
            ],
            [
             0.3,
             "#f1b6da"
            ],
            [
             0.4,
             "#fde0ef"
            ],
            [
             0.5,
             "#f7f7f7"
            ],
            [
             0.6,
             "#e6f5d0"
            ],
            [
             0.7,
             "#b8e186"
            ],
            [
             0.8,
             "#7fbc41"
            ],
            [
             0.9,
             "#4d9221"
            ],
            [
             1,
             "#276419"
            ]
           ],
           "sequential": [
            [
             0,
             "#0d0887"
            ],
            [
             0.1111111111111111,
             "#46039f"
            ],
            [
             0.2222222222222222,
             "#7201a8"
            ],
            [
             0.3333333333333333,
             "#9c179e"
            ],
            [
             0.4444444444444444,
             "#bd3786"
            ],
            [
             0.5555555555555556,
             "#d8576b"
            ],
            [
             0.6666666666666666,
             "#ed7953"
            ],
            [
             0.7777777777777778,
             "#fb9f3a"
            ],
            [
             0.8888888888888888,
             "#fdca26"
            ],
            [
             1,
             "#f0f921"
            ]
           ],
           "sequentialminus": [
            [
             0,
             "#0d0887"
            ],
            [
             0.1111111111111111,
             "#46039f"
            ],
            [
             0.2222222222222222,
             "#7201a8"
            ],
            [
             0.3333333333333333,
             "#9c179e"
            ],
            [
             0.4444444444444444,
             "#bd3786"
            ],
            [
             0.5555555555555556,
             "#d8576b"
            ],
            [
             0.6666666666666666,
             "#ed7953"
            ],
            [
             0.7777777777777778,
             "#fb9f3a"
            ],
            [
             0.8888888888888888,
             "#fdca26"
            ],
            [
             1,
             "#f0f921"
            ]
           ]
          },
          "colorway": [
           "#636efa",
           "#EF553B",
           "#00cc96",
           "#ab63fa",
           "#FFA15A",
           "#19d3f3",
           "#FF6692",
           "#B6E880",
           "#FF97FF",
           "#FECB52"
          ],
          "font": {
           "color": "#2a3f5f"
          },
          "geo": {
           "bgcolor": "white",
           "lakecolor": "white",
           "landcolor": "white",
           "showlakes": true,
           "showland": true,
           "subunitcolor": "#C8D4E3"
          },
          "hoverlabel": {
           "align": "left"
          },
          "hovermode": "closest",
          "mapbox": {
           "style": "light"
          },
          "paper_bgcolor": "white",
          "plot_bgcolor": "white",
          "polar": {
           "angularaxis": {
            "gridcolor": "#EBF0F8",
            "linecolor": "#EBF0F8",
            "ticks": ""
           },
           "bgcolor": "white",
           "radialaxis": {
            "gridcolor": "#EBF0F8",
            "linecolor": "#EBF0F8",
            "ticks": ""
           }
          },
          "scene": {
           "xaxis": {
            "backgroundcolor": "white",
            "gridcolor": "#DFE8F3",
            "gridwidth": 2,
            "linecolor": "#EBF0F8",
            "showbackground": true,
            "ticks": "",
            "zerolinecolor": "#EBF0F8"
           },
           "yaxis": {
            "backgroundcolor": "white",
            "gridcolor": "#DFE8F3",
            "gridwidth": 2,
            "linecolor": "#EBF0F8",
            "showbackground": true,
            "ticks": "",
            "zerolinecolor": "#EBF0F8"
           },
           "zaxis": {
            "backgroundcolor": "white",
            "gridcolor": "#DFE8F3",
            "gridwidth": 2,
            "linecolor": "#EBF0F8",
            "showbackground": true,
            "ticks": "",
            "zerolinecolor": "#EBF0F8"
           }
          },
          "shapedefaults": {
           "line": {
            "color": "#2a3f5f"
           }
          },
          "ternary": {
           "aaxis": {
            "gridcolor": "#DFE8F3",
            "linecolor": "#A2B1C6",
            "ticks": ""
           },
           "baxis": {
            "gridcolor": "#DFE8F3",
            "linecolor": "#A2B1C6",
            "ticks": ""
           },
           "bgcolor": "white",
           "caxis": {
            "gridcolor": "#DFE8F3",
            "linecolor": "#A2B1C6",
            "ticks": ""
           }
          },
          "title": {
           "x": 0.05
          },
          "xaxis": {
           "automargin": true,
           "gridcolor": "#EBF0F8",
           "linecolor": "#EBF0F8",
           "ticks": "",
           "title": {
            "standoff": 15
           },
           "zerolinecolor": "#EBF0F8",
           "zerolinewidth": 2
          },
          "yaxis": {
           "automargin": true,
           "gridcolor": "#EBF0F8",
           "linecolor": "#EBF0F8",
           "ticks": "",
           "title": {
            "standoff": 15
           },
           "zerolinecolor": "#EBF0F8",
           "zerolinewidth": 2
          }
         }
        },
        "title": {
         "text": "Co-occurrence of name feature (MLP0 + L2H2) vs. Dataset Occurrence"
        },
        "width": 800,
        "xaxis": {
         "title": {
          "text": "Co-occurrence"
         }
        },
        "yaxis": {
         "title": {
          "text": "Dataset Occurrence"
         }
        }
       }
      }
     },
     "metadata": {},
     "output_type": "display_data"
    }
   ],
   "source": [
    "import numpy as np\n",
    "import plotly.graph_objects as go\n",
    "from scipy.stats import linregress\n",
    "\n",
    "dataset_occurrence = np.array([23, 22, 18, 19])\n",
    "dataset_occurrence = np.divide(dataset_occurrence, np.sum(dataset_occurrence))\n",
    "co_occurrence = np.array([13, 13, 11, 11]) / np.sum([13, 13, 11, 11])\n",
    "\n",
    "# Perform linear regression\n",
    "slope, intercept, r_value, p_value, std_err = linregress(co_occurrence, dataset_occurrence)\n",
    "\n",
    "# Create the line of best fit\n",
    "line_of_best_fit = slope * co_occurrence + intercept\n",
    "\n",
    "fig = go.Figure()\n",
    "\n",
    "fig.add_trace(go.Scatter(x=co_occurrence, y=dataset_occurrence,\n",
    "                         mode='markers',\n",
    "                         name='Names',\n",
    "                         marker=dict(color='blue', size=10)))\n",
    "\n",
    "fig.add_trace(go.Scatter(x=co_occurrence, y=line_of_best_fit,\n",
    "                         mode='lines',\n",
    "                         name='LS Fit',\n",
    "                         line=dict(color='red', width=2)))\n",
    "\n",
    "fig.update_layout(\n",
    "    title='Co-occurrence of name feature (MLP0 + L2H2) vs. Dataset Occurrence',\n",
    "    xaxis_title='Co-occurrence',\n",
    "    yaxis_title='Dataset Occurrence',\n",
    "    font=dict(size=14),\n",
    "    template='plotly_white',\n",
    "    width=800,\n",
    "    height=600\n",
    ")\n",
    "\n",
    "fig.show()"
   ]
  },
  {
   "cell_type": "code",
   "execution_count": null,
   "metadata": {},
   "outputs": [],
   "source": [
    "import pandas as pd\n",
    "\n",
    "freq = pd.read_csv(\"data/unigram_freq.csv\")\n",
    "freq.head()"
   ]
  },
  {
   "cell_type": "code",
   "execution_count": null,
   "metadata": {},
   "outputs": [],
   "source": [
    "freq[freq.word == 'elizabeth']"
   ]
  },
  {
   "cell_type": "code",
   "execution_count": 199,
   "metadata": {},
   "outputs": [
    {
     "data": {
      "text/plain": [
       "defaultdict(dict,\n",
       "            {(('mlp_feature', 0), ('attn_head', 2, 2)): {(4522, 24166): 13,\n",
       "              (20546, 24166): 13,\n",
       "              (20323, 24166): 13,\n",
       "              (630, 24166): 13,\n",
       "              (10461, 14186): 11,\n",
       "              (17363, 14186): 11,\n",
       "              (17845, 14186): 11,\n",
       "              (7734, 14186): 11,\n",
       "              (14148, 14186): 10,\n",
       "              (23507, 24166): 10,\n",
       "              (5348, 24166): 9,\n",
       "              (12965, 14186): 8,\n",
       "              (156, 24166): 7,\n",
       "              (3201, 6510): 7,\n",
       "              (11530, 6510): 7,\n",
       "              (5245, 6510): 7,\n",
       "              (18880, 4268): 7,\n",
       "              (12385, 4268): 7,\n",
       "              (20546, 4268): 7,\n",
       "              (10461, 4268): 7}})"
      ]
     },
     "execution_count": 199,
     "metadata": {},
     "output_type": "execute_result"
    }
   ],
   "source": [
    "get_top_k_feature_tuples_for_component(cp.co_occurrence_dict, \"L2H2\", k=20)"
   ]
  },
  {
   "cell_type": "code",
   "execution_count": 208,
   "metadata": {},
   "outputs": [
    {
     "name": "stdout",
     "output_type": "stream",
     "text": [
      "╒════════════════╤═════════╕\n",
      "│ Token          │   Logit │\n",
      "╞════════════════╪═════════╡\n",
      "│ \u001b[34mpn\u001b[0m             │  \u001b[32m5.8298\u001b[0m │\n",
      "├────────────────┼─────────┤\n",
      "│ \u001b[34m NEC\u001b[0m           │  \u001b[32m5.7384\u001b[0m │\n",
      "├────────────────┼─────────┤\n",
      "│ \u001b[34m pleasure\u001b[0m      │  \u001b[32m5.6151\u001b[0m │\n",
      "├────────────────┼─────────┤\n",
      "│ \u001b[34mULT\u001b[0m            │  \u001b[32m5.6104\u001b[0m │\n",
      "├────────────────┼─────────┤\n",
      "│ \u001b[34m Klu\u001b[0m           │  \u001b[32m5.3963\u001b[0m │\n",
      "├────────────────┼─────────┤\n",
      "│ \u001b[34m TL\u001b[0m            │  \u001b[32m5.3659\u001b[0m │\n",
      "├────────────────┼─────────┤\n",
      "│ \u001b[34mTL\u001b[0m             │  \u001b[32m5.1752\u001b[0m │\n",
      "├────────────────┼─────────┤\n",
      "│ \u001b[34mWhit\u001b[0m           │  \u001b[32m5.1358\u001b[0m │\n",
      "├────────────────┼─────────┤\n",
      "│ \u001b[34m Parliamentary\u001b[0m │  \u001b[32m5.0727\u001b[0m │\n",
      "├────────────────┼─────────┤\n",
      "│ \u001b[34m amusement\u001b[0m     │  \u001b[32m5.0423\u001b[0m │\n",
      "├────────────────┼─────────┤\n",
      "│ \u001b[34m EV\u001b[0m            │  \u001b[32m5.03\u001b[0m   │\n",
      "├────────────────┼─────────┤\n",
      "│ \u001b[34m microscope\u001b[0m    │  \u001b[32m4.9409\u001b[0m │\n",
      "├────────────────┼─────────┤\n",
      "│ \u001b[34mVK\u001b[0m             │  \u001b[32m4.9087\u001b[0m │\n",
      "├────────────────┼─────────┤\n",
      "│ \u001b[34mFN\u001b[0m             │  \u001b[32m4.9058\u001b[0m │\n",
      "├────────────────┼─────────┤\n",
      "│ \u001b[34m .\u001b[0m             │  \u001b[32m4.9058\u001b[0m │\n",
      "├────────────────┼─────────┤\n",
      "│ \u001b[34mledge\u001b[0m          │  \u001b[32m4.8647\u001b[0m │\n",
      "├────────────────┼─────────┤\n",
      "│ \u001b[34m Things\u001b[0m        │  \u001b[32m4.842\u001b[0m  │\n",
      "├────────────────┼─────────┤\n",
      "│ \u001b[34m zero\u001b[0m          │  \u001b[32m4.8291\u001b[0m │\n",
      "├────────────────┼─────────┤\n",
      "│ \u001b[34mUSS\u001b[0m            │  \u001b[32m4.7997\u001b[0m │\n",
      "├────────────────┼─────────┤\n",
      "│ \u001b[34m fiscal\u001b[0m        │  \u001b[32m4.7815\u001b[0m │\n",
      "╘════════════════╧═════════╛\n"
     ]
    }
   ],
   "source": [
    "encoder_feature_pairs = [(transcoders[0], [12965]), (z_saes[2], [14186])]\n",
    "top_tokens, top_logits = get_top_k_tokens(model, encoder_feature_pairs, k=20)\n",
    "\n",
    "pretty_print_tokens_logits(top_tokens, top_logits)"
   ]
  },
  {
   "cell_type": "code",
   "execution_count": 209,
   "metadata": {},
   "outputs": [
    {
     "name": "stdout",
     "output_type": "stream",
     "text": [
      "SparseTranscoder\n"
     ]
    },
    {
     "name": "stderr",
     "output_type": "stream",
     "text": [
      "100%|██████████| 16/16 [00:10<00:00,  1.46it/s]\n"
     ]
    },
    {
     "name": "stdout",
     "output_type": "stream",
     "text": [
      "ZSAE\n"
     ]
    },
    {
     "name": "stderr",
     "output_type": "stream",
     "text": [
      "100%|██████████| 16/16 [00:12<00:00,  1.25it/s]\n"
     ]
    }
   ],
   "source": [
    "feature_scores = get_feature_scores_across_layers(model, encoder_feature_pairs, owt_tokens_torch[:1024*2], batch_size=128)"
   ]
  },
  {
   "cell_type": "code",
   "execution_count": 211,
   "metadata": {},
   "outputs": [
    {
     "data": {
      "text/plain": [
       "(2048, 2, 128)"
      ]
     },
     "execution_count": 211,
     "metadata": {},
     "output_type": "execute_result"
    }
   ],
   "source": [
    "feature_scores.shape"
   ]
  },
  {
   "cell_type": "code",
   "execution_count": 213,
   "metadata": {},
   "outputs": [
    {
     "data": {
      "text/html": [
       "\n",
       "    <style>\n",
       "        span.token {\n",
       "            font-family: monospace;\n",
       "            border-style: solid;\n",
       "            border-width: 1px;\n",
       "            border-color: #dddddd;\n",
       "        }\n",
       "    </style>\n",
       "    <span class='token' style='background-color: #ffffff'>&lt;|endoftext|&gt;<span class='feature_val'> (0.00)</span></span><span class='token' style='background-color: #ffffff'>opy<span class='feature_val'> (0.00)</span></span><span class='token' style='background-color: #ffffff'>.<span class='feature_val'> (0.00)</span></span><span class='token' style='background-color: #ffffff'> Conrad<span class='feature_val'> (0.00)</span></span><span class='token' style='background-color: #ffffff'> Sch<span class='feature_val'> (0.00)</span></span><span class='token' style='background-color: #ffffff'>och<span class='feature_val'> (0.00)</span></span><span class='token' style='background-color: #ffffff'>,<span class='feature_val'> (0.00)</span></span><span class='token' style='background-color: #ffffff'> a<span class='feature_val'> (0.00)</span></span><span class='token' style='background-color: #ffffff'> scientist<span class='feature_val'> (0.00)</span></span><span class='token' style='background-color: #ffffff'> at<span class='feature_val'> (0.00)</span></span><span class='token' style='background-color: #ffffff'> the<span class='feature_val'> (0.00)</span></span><span class='token' style='background-color: #ffffff'> National<span class='feature_val'> (0.00)</span></span><span class='token' style='background-color: #ffffff'> Center<span class='feature_val'> (0.00)</span></span><span class='token' style='background-color: #ffffff'> for<span class='feature_val'> (0.00)</span></span><span class='token' style='background-color: #ffffff'> Bi<span class='feature_val'> (0.00)</span></span><span class='token' style='background-color: #ffffff'>otechnology<span class='feature_val'> (0.00)</span></span><span class='token' style='background-color: #ffffff'> Information<span class='feature_val'> (0.00)</span></span><span class='token' style='background-color: #ffffff'> at<span class='feature_val'> (0.00)</span></span><span class='token' style='background-color: #ffffff'> NIH<span class='feature_val'> (0.00)</span></span><span class='token' style='background-color: #ffffff'>.<span class='feature_val'> (0.00)</span></span><span class='token' style='background-color: #ffffff'> Conrad<span class='feature_val'> (0.00)</span></span><span class='token' style='background-color: #ffffff'> cur<span class='feature_val'> (0.00)</span></span><span class='token' style='background-color: #ffffff'>ates<span class='feature_val'> (0.00)</span></span><span class='token' style='background-color: #ffffff'> the<span class='feature_val'> (0.00)</span></span><span class='token' style='background-color: #ff8c01'> fun<span class='feature_val'> (22.70)</span></span><span class='token' style='background-color: #ffffff'>gal<span class='feature_val'> (0.00)</span></span><span class='token' style='background-color: #ffffff'> tax<span class='feature_val'> (0.00)</span></span><span class='token' style='background-color: #ffffff'>onomy<span class='feature_val'> (0.00)</span></span><span class='token' style='background-color: #ffffff'> at<span class='feature_val'> (0.00)</span></span><span class='token' style='background-color: #ffffff'> Gen<span class='feature_val'> (0.00)</span></span><span class='token' style='background-color: #ffffff'>Bank<span class='feature_val'> (0.00)</span></span><span class='token' style='background-color: #ffffff'>.<span class='feature_val'> (0.00)</span></span><span class='token' style='background-color: #ffffff'> Dorothy<span class='feature_val'> (0.00)</span></span><span class='token' style='background-color: #ffffff'> Sm<span class='feature_val'> (0.00)</span></span><span class='token' style='background-color: #ffffff'>ull<span class='feature_val'> (0.00)</span></span><span class='token' style='background-color: #ffffff'>en<span class='feature_val'> (0.00)</span></span><span class='token' style='background-color: #ffffff'>,<span class='feature_val'> (0.00)</span></span><span class='token' style='background-color: #ffffff'> former<span class='feature_val'> (0.00)</span></span><span class='token' style='background-color: #ffffff'> president<span class='feature_val'> (0.00)</span></span><span class='token' style='background-color: #ffffff'> of<span class='feature_val'> (0.00)</span></span><span class='token' style='background-color: #ffffff'> the<span class='feature_val'> (0.00)</span></span><span class='token' style='background-color: #ffffff'> New<span class='feature_val'> (0.00)</span></span><span class='token' style='background-color: #ffffff'> Jersey<span class='feature_val'> (0.00)</span></span><span class='token' style='background-color: #ffffff'> My<span class='feature_val'> (0.00)</span></span><span class='token' style='background-color: #ffffff'>c<span class='feature_val'> (0.00)</span></span><span class='token' style='background-color: #ffffff'>ological<span class='feature_val'> (0.00)</span></span><span class='token' style='background-color: #ffffff'> Association<span class='feature_val'> (0.00)</span></span><span class='token' style='background-color: #ffffff'>.<span class='feature_val'> (0.00)</span></span><span class='token' style='background-color: #ffffff'> Dorothy<span class='feature_val'> (0.00)</span></span><span class='token' style='background-color: #ffffff'> has<span class='feature_val'> (0.00)</span></span><span class='token' style='background-color: #ffffff'> nearly<span class='feature_val'> (0.00)</span></span><span class='token' style='background-color: #ffffff'> 50<span class='feature_val'> (0.00)</span></span><span class='token' style='background-color: #ffffff'> years<span class='feature_val'> (0.00)</span></span><span class='token' style='background-color: #ffffff'>&#x27;<span class='feature_val'> (0.00)</span></span><span class='token' style='background-color: #ffffff'> experience<span class='feature_val'> (0.00)</span></span><span class='token' style='background-color: #ffffff'> studying<span class='feature_val'> (0.00)</span></span><span class='token' style='background-color: #ffffff'> mushrooms<span class='feature_val'> (0.00)</span></span><span class='token' style='background-color: #ffffff'>.<span class='feature_val'> (0.00)</span></span><span class='token' style='background-color: #ffffff'> Rod<span class='feature_val'> (0.00)</span></span><span class='token' style='background-color: #ffffff'> T<span class='feature_val'> (0.00)</span></span><span class='token' style='background-color: #ffffff'>ull<span class='feature_val'> (0.00)</span></span><span class='token' style='background-color: #ffffff'>oss<span class='feature_val'> (0.00)</span></span><span class='token' style='background-color: #ffffff'>,<span class='feature_val'> (0.00)</span></span><span class='token' style='background-color: #ffffff'> editor<span class='feature_val'> (0.00)</span></span><span class='token' style='background-color: #ffffff'> of<span class='feature_val'> (0.00)</span></span><span class='token' style='background-color: #ffffff'> the<span class='feature_val'> (0.00)</span></span><span class='token' style='background-color: #ffffff'> website<span class='feature_val'> (0.00)</span></span><span class='token' style='background-color: #ffffff'> Aman<span class='feature_val'> (0.00)</span></span><span class='token' style='background-color: #ffffff'>it<span class='feature_val'> (0.00)</span></span><span class='token' style='background-color: #ffffff'>aceae<span class='feature_val'> (0.00)</span></span><span class='token' style='background-color: #ffffff'>.<span class='feature_val'> (0.00)</span></span><span class='token' style='background-color: #ffffff'>org<span class='feature_val'> (0.00)</span></span><span class='token' style='background-color: #ffffff'>.<span class='feature_val'> (0.00)</span></span><span class='token' style='background-color: #ffffff'> Rod<span class='feature_val'> (0.00)</span></span><span class='token' style='background-color: #ffffff'> cur<span class='feature_val'> (0.00)</span></span><span class='token' style='background-color: #ffffff'>ates<span class='feature_val'> (0.00)</span></span><span class='token' style='background-color: #ffffff'> a<span class='feature_val'> (0.00)</span></span><span class='token' style='background-color: #ff8c00'> fun<span class='feature_val'> (22.81)</span></span><span class='token' style='background-color: #ffffff'>gar<span class='feature_val'> (0.00)</span></span><span class='token' style='background-color: #ffffff'>ium<span class='feature_val'> (0.00)</span></span><span class='token' style='background-color: #ffffff'> that<span class='feature_val'> (0.00)</span></span><span class='token' style='background-color: #ffffff'> includes<span class='feature_val'> (0.00)</span></span><span class='token' style='background-color: #ffffff'> thousands<span class='feature_val'> (0.00)</span></span><span class='token' style='background-color: #ffffff'> of<span class='feature_val'> (0.00)</span></span><span class='token' style='background-color: #ffffff'> am<span class='feature_val'> (0.00)</span></span><span class='token' style='background-color: #ffffff'>an<span class='feature_val'> (0.00)</span></span><span class='token' style='background-color: #ffffff'>ita<span class='feature_val'> (0.00)</span></span><span class='token' style='background-color: #ffffff'> specimens<span class='feature_val'> (0.00)</span></span><span class='token' style='background-color: #ffffff'>.<span class='feature_val'> (0.00)</span></span><span class='token' style='background-color: #ffffff'> Debbie<span class='feature_val'> (0.00)</span></span><span class='token' style='background-color: #ffffff'> Vi<span class='feature_val'> (0.00)</span></span><span class='token' style='background-color: #ffffff'>ess<span class='feature_val'> (0.00)</span></span><span class='token' style='background-color: #ffffff'>,<span class='feature_val'> (0.00)</span></span><span class='token' style='background-color: #ffffff'> Co<span class='feature_val'> (0.00)</span></span><span class='token' style='background-color: #ffffff'>-<span class='feature_val'> (0.00)</span></span><span class='token' style='background-color: #ffffff'>Found<span class='feature_val'> (0.00)</span></span><span class='token' style='background-color: #ffffff'>er<span class='feature_val'> (0.00)</span></span><span class='token' style='background-color: #ffffff'> of<span class='feature_val'> (0.00)</span></span><span class='token' style='background-color: #ffffff'> the<span class='feature_val'> (0.00)</span></span><span class='token' style='background-color: #ffffff'> Bay<span class='feature_val'> (0.00)</span></span><span class='token' style='background-color: #ffffff'> Area<span class='feature_val'> (0.00)</span></span><span class='token' style='background-color: #ffffff'> My<span class='feature_val'> (0.00)</span></span><span class='token' style='background-color: #ffffff'>c<span class='feature_val'> (0.00)</span></span><span class='token' style='background-color: #ffffff'>ological<span class='feature_val'> (0.00)</span></span><span class='token' style='background-color: #ffffff'> Society<span class='feature_val'> (0.00)</span></span><span class='token' style='background-color: #ffffff'>,<span class='feature_val'> (0.00)</span></span><span class='token' style='background-color: #ffffff'> based<span class='feature_val'> (0.00)</span></span><span class='token' style='background-color: #ffffff'> in<span class='feature_val'> (0.00)</span></span><span class='token' style='background-color: #ffffff'> Oakland<span class='feature_val'> (0.00)</span></span><span class='token' style='background-color: #ffffff'>,<span class='feature_val'> (0.00)</span></span><span class='token' style='background-color: #ffffff'> CA<span class='feature_val'> (0.00)</span></span><span class='token' style='background-color: #ffffff'>.<span class='feature_val'> (0.00)</span></span><span class='token' style='background-color: #ffffff'> She<span class='feature_val'> (0.00)</span></span><span class='token' style='background-color: #ffffff'> loves<span class='feature_val'> (0.00)</span></span><span class='token' style='background-color: #ffffff'> to<span class='feature_val'> (0.00)</span></span><span class='token' style='background-color: #ffffff'> teach<span class='feature_val'> (0.00)</span></span><span class='token' style='background-color: #ffffff'>,<span class='feature_val'> (0.00)</span></span><span class='token' style='background-color: #ffffff'> talk<span class='feature_val'> (0.00)</span></span><span class='token' style='background-color: #ffffff'> and<span class='feature_val'> (0.00)</span></span><span class='token' style='background-color: #ffffff'> write<span class='feature_val'> (0.00)</span></span><span class='token' style='background-color: #ffffff'> about<span class='feature_val'> (0.00)</span></span><span class='token' style='background-color: #ffffff'> fungi<span class='feature_val'> (0.00)</span></span><span class='token' style='background-color: #ffffff'>.<span class='feature_val'> (0.00)</span></span><span class='token' style='background-color: #ffffff'> She<span class='feature_val'> (0.00)</span></span><span class='token' style='background-color: #ffffff'> has<span class='feature_val'> (0.00)</span></span><span class='token' style='background-color: #ffffff'> a<span class='feature_val'> (0.00)</span></span><span class='token' style='background-color: #ffffff'> particular<span class='feature_val'> (0.00)</span></span><span class='token' style='background-color: #ffffff'> interest<span class='feature_val'> (0.00)</span></span>"
      ],
      "text/plain": [
       "<IPython.core.display.HTML object>"
      ]
     },
     "metadata": {},
     "output_type": "display_data"
    },
    {
     "data": {
      "text/html": [
       "\n",
       "    <style>\n",
       "        span.token {\n",
       "            font-family: monospace;\n",
       "            border-style: solid;\n",
       "            border-width: 1px;\n",
       "            border-color: #dddddd;\n",
       "        }\n",
       "    </style>\n",
       "    <span class='token' style='background-color: #ffffff'>&lt;|endoftext|&gt;<span class='feature_val'> (0.00)</span></span><span class='token' style='background-color: #ffffff'> Bot<span class='feature_val'> (0.00)</span></span><span class='token' style='background-color: #ffffff'>anical<span class='feature_val'> (0.00)</span></span><span class='token' style='background-color: #ffffff'> Garden<span class='feature_val'> (0.00)</span></span><span class='token' style='background-color: #ffffff'>.<span class='feature_val'> (0.00)</span></span><span class='token' style='background-color: #ffffff'> James<span class='feature_val'> (0.00)</span></span><span class='token' style='background-color: #ffffff'> is<span class='feature_val'> (0.00)</span></span><span class='token' style='background-color: #ffffff'> a<span class='feature_val'> (0.00)</span></span><span class='token' style='background-color: #ffffff'> lic<span class='feature_val'> (0.00)</span></span><span class='token' style='background-color: #ffffff'>hen<span class='feature_val'> (0.00)</span></span><span class='token' style='background-color: #ffffff'> expert<span class='feature_val'> (0.00)</span></span><span class='token' style='background-color: #ffffff'> who<span class='feature_val'> (0.00)</span></span><span class='token' style='background-color: #ffffff'> has<span class='feature_val'> (0.00)</span></span><span class='token' style='background-color: #ffffff'> collected<span class='feature_val'> (0.00)</span></span><span class='token' style='background-color: #ffffff'> over<span class='feature_val'> (0.00)</span></span><span class='token' style='background-color: #ffffff'> 39<span class='feature_val'> (0.00)</span></span><span class='token' style='background-color: #ffffff'>,<span class='feature_val'> (0.00)</span></span><span class='token' style='background-color: #ffffff'>000<span class='feature_val'> (0.00)</span></span><span class='token' style='background-color: #ffffff'> specimens<span class='feature_val'> (0.00)</span></span><span class='token' style='background-color: #ffffff'> for<span class='feature_val'> (0.00)</span></span><span class='token' style='background-color: #ffffff'> the<span class='feature_val'> (0.00)</span></span><span class='token' style='background-color: #ffffff'> NY<span class='feature_val'> (0.00)</span></span><span class='token' style='background-color: #ffffff'>BG<span class='feature_val'> (0.00)</span></span><span class='token' style='background-color: #ffffff'> and<span class='feature_val'> (0.00)</span></span><span class='token' style='background-color: #ff8c00'> fun<span class='feature_val'> (23.34)</span></span><span class='token' style='background-color: #ffffff'>gar<span class='feature_val'> (0.00)</span></span><span class='token' style='background-color: #ffffff'>ia<span class='feature_val'> (0.00)</span></span><span class='token' style='background-color: #ffffff'> worldwide<span class='feature_val'> (0.00)</span></span><span class='token' style='background-color: #ffffff'>.<span class='feature_val'> (0.00)</span></span><span class='token' style='background-color: #ffffff'> Gary<span class='feature_val'> (0.00)</span></span><span class='token' style='background-color: #ffffff'> Lin<span class='feature_val'> (0.00)</span></span><span class='token' style='background-color: #ffffff'>co<span class='feature_val'> (0.00)</span></span><span class='token' style='background-color: #ffffff'>ff<span class='feature_val'> (0.00)</span></span><span class='token' style='background-color: #ffffff'>,<span class='feature_val'> (0.00)</span></span><span class='token' style='background-color: #ffffff'> author<span class='feature_val'> (0.00)</span></span><span class='token' style='background-color: #ffffff'> of<span class='feature_val'> (0.00)</span></span><span class='token' style='background-color: #ffffff'> The<span class='feature_val'> (0.00)</span></span><span class='token' style='background-color: #ffffff'> Aud<span class='feature_val'> (0.00)</span></span><span class='token' style='background-color: #ffffff'>ub<span class='feature_val'> (0.00)</span></span><span class='token' style='background-color: #ffffff'>on<span class='feature_val'> (0.00)</span></span><span class='token' style='background-color: #ffffff'> Society<span class='feature_val'> (0.00)</span></span><span class='token' style='background-color: #ffffff'> Field<span class='feature_val'> (0.00)</span></span><span class='token' style='background-color: #ffffff'> Guide<span class='feature_val'> (0.00)</span></span><span class='token' style='background-color: #ffffff'> to<span class='feature_val'> (0.00)</span></span><span class='token' style='background-color: #ffffff'> North<span class='feature_val'> (0.00)</span></span><span class='token' style='background-color: #ffffff'> American<span class='feature_val'> (0.00)</span></span><span class='token' style='background-color: #ffffff'> Mush<span class='feature_val'> (0.00)</span></span><span class='token' style='background-color: #ffffff'>rooms<span class='feature_val'> (0.00)</span></span><span class='token' style='background-color: #ffffff'> and<span class='feature_val'> (0.00)</span></span><span class='token' style='background-color: #ffffff'> many<span class='feature_val'> (0.00)</span></span><span class='token' style='background-color: #ffffff'> other<span class='feature_val'> (0.00)</span></span><span class='token' style='background-color: #ffffff'> publications<span class='feature_val'> (0.00)</span></span><span class='token' style='background-color: #ffffff'>.<span class='feature_val'> (0.00)</span></span><span class='token' style='background-color: #ffffff'> Gary<span class='feature_val'> (0.00)</span></span><span class='token' style='background-color: #ffffff'> teaches<span class='feature_val'> (0.00)</span></span><span class='token' style='background-color: #ffffff'> courses<span class='feature_val'> (0.00)</span></span><span class='token' style='background-color: #ffffff'> on<span class='feature_val'> (0.00)</span></span><span class='token' style='background-color: #ffffff'> mushroom<span class='feature_val'> (0.00)</span></span><span class='token' style='background-color: #ffffff'> identification<span class='feature_val'> (0.00)</span></span><span class='token' style='background-color: #ffffff'> worldwide<span class='feature_val'> (0.00)</span></span><span class='token' style='background-color: #ffffff'>.<span class='feature_val'> (0.00)</span></span><span class='token' style='background-color: #ffffff'> Brian<span class='feature_val'> (0.00)</span></span><span class='token' style='background-color: #ffffff'> Lo<span class='feature_val'> (0.00)</span></span><span class='token' style='background-color: #ffffff'>oney<span class='feature_val'> (0.00)</span></span><span class='token' style='background-color: #ffffff'>,<span class='feature_val'> (0.00)</span></span><span class='token' style='background-color: #ffffff'> PhD<span class='feature_val'> (0.00)</span></span><span class='token' style='background-color: #ffffff'> candidate<span class='feature_val'> (0.00)</span></span><span class='token' style='background-color: #ffffff'> in<span class='feature_val'> (0.00)</span></span><span class='token' style='background-color: #ffffff'> ecology<span class='feature_val'> (0.00)</span></span><span class='token' style='background-color: #ffffff'> and<span class='feature_val'> (0.00)</span></span><span class='token' style='background-color: #ffffff'> evolutionary<span class='feature_val'> (0.00)</span></span><span class='token' style='background-color: #ffffff'> biology<span class='feature_val'> (0.00)</span></span><span class='token' style='background-color: #ffffff'> at<span class='feature_val'> (0.00)</span></span><span class='token' style='background-color: #ffffff'> the<span class='feature_val'> (0.00)</span></span><span class='token' style='background-color: #ffffff'> University<span class='feature_val'> (0.00)</span></span><span class='token' style='background-color: #ffffff'> of<span class='feature_val'> (0.00)</span></span><span class='token' style='background-color: #ffffff'> Tennessee<span class='feature_val'> (0.00)</span></span><span class='token' style='background-color: #ffffff'>-<span class='feature_val'> (0.00)</span></span><span class='token' style='background-color: #ffffff'>Kn<span class='feature_val'> (0.00)</span></span><span class='token' style='background-color: #ffffff'>ox<span class='feature_val'> (0.00)</span></span><span class='token' style='background-color: #ffffff'>ville<span class='feature_val'> (0.00)</span></span><span class='token' style='background-color: #ffffff'>.<span class='feature_val'> (0.00)</span></span><span class='token' style='background-color: #ffffff'> Brian<span class='feature_val'> (0.00)</span></span><span class='token' style='background-color: #ffffff'> is<span class='feature_val'> (0.00)</span></span><span class='token' style='background-color: #ffffff'> studying<span class='feature_val'> (0.00)</span></span><span class='token' style='background-color: #ffffff'> macro<span class='feature_val'> (0.00)</span></span><span class='token' style='background-color: #ffffff'>ev<span class='feature_val'> (0.00)</span></span><span class='token' style='background-color: #ffffff'>olution<span class='feature_val'> (0.00)</span></span><span class='token' style='background-color: #ffffff'>ary<span class='feature_val'> (0.00)</span></span><span class='token' style='background-color: #ffffff'> patterns<span class='feature_val'> (0.00)</span></span><span class='token' style='background-color: #ffffff'> in<span class='feature_val'> (0.00)</span></span><span class='token' style='background-color: #ffffff'> the<span class='feature_val'> (0.00)</span></span><span class='token' style='background-color: #ffffff'> r<span class='feature_val'> (0.00)</span></span><span class='token' style='background-color: #ffffff'>uss<span class='feature_val'> (0.00)</span></span><span class='token' style='background-color: #ffffff'>ulas<span class='feature_val'> (0.00)</span></span><span class='token' style='background-color: #ffffff'>.<span class='feature_val'> (0.00)</span></span><span class='token' style='background-color: #ffffff'> Shannon<span class='feature_val'> (0.00)</span></span><span class='token' style='background-color: #ffffff'> N<span class='feature_val'> (0.00)</span></span><span class='token' style='background-color: #ffffff'>ix<span class='feature_val'> (0.00)</span></span><span class='token' style='background-color: #ffffff'>,<span class='feature_val'> (0.00)</span></span><span class='token' style='background-color: #ffffff'> associate<span class='feature_val'> (0.00)</span></span><span class='token' style='background-color: #ffffff'> professor<span class='feature_val'> (0.00)</span></span><span class='token' style='background-color: #ffffff'> of<span class='feature_val'> (0.00)</span></span><span class='token' style='background-color: #ffffff'> biology<span class='feature_val'> (0.00)</span></span><span class='token' style='background-color: #ffffff'> at<span class='feature_val'> (0.00)</span></span><span class='token' style='background-color: #ffffff'> Clar<span class='feature_val'> (0.00)</span></span><span class='token' style='background-color: #ffffff'>ion<span class='feature_val'> (0.00)</span></span><span class='token' style='background-color: #ffffff'> University<span class='feature_val'> (0.00)</span></span><span class='token' style='background-color: #ffffff'>.<span class='feature_val'> (0.00)</span></span><span class='token' style='background-color: #ffffff'> Shannon<span class='feature_val'> (0.00)</span></span><span class='token' style='background-color: #ffffff'> studies<span class='feature_val'> (0.00)</span></span><span class='token' style='background-color: #ff9718'> fun<span class='feature_val'> (21.08)</span></span><span class='token' style='background-color: #ffffff'>gal<span class='feature_val'> (0.00)</span></span><span class='token' style='background-color: #ffffff'> ecosystems<span class='feature_val'> (0.00)</span></span><span class='token' style='background-color: #ffffff'> and<span class='feature_val'> (0.00)</span></span><span class='token' style='background-color: #ffffff'> teaches<span class='feature_val'> (0.00)</span></span><span class='token' style='background-color: #ffffff'> courses<span class='feature_val'> (0.00)</span></span><span class='token' style='background-color: #ffffff'> in<span class='feature_val'> (0.00)</span></span><span class='token' style='background-color: #ffffff'> my<span class='feature_val'> (0.00)</span></span><span class='token' style='background-color: #ffffff'>c<span class='feature_val'> (0.00)</span></span><span class='token' style='background-color: #ffffff'>ology<span class='feature_val'> (0.00)</span></span><span class='token' style='background-color: #ffffff'>,<span class='feature_val'> (0.00)</span></span><span class='token' style='background-color: #ffffff'> microbi<span class='feature_val'> (0.00)</span></span><span class='token' style='background-color: #ffffff'>ology<span class='feature_val'> (0.00)</span></span><span class='token' style='background-color: #ffffff'>,<span class='feature_val'> (0.00)</span></span><span class='token' style='background-color: #ffffff'> and<span class='feature_val'> (0.00)</span></span><span class='token' style='background-color: #ffffff'> electron<span class='feature_val'> (0.00)</span></span><span class='token' style='background-color: #ffffff'> microsc<span class='feature_val'> (0.00)</span></span>"
      ],
      "text/plain": [
       "<IPython.core.display.HTML object>"
      ]
     },
     "metadata": {},
     "output_type": "display_data"
    },
    {
     "data": {
      "text/html": [
       "\n",
       "    <style>\n",
       "        span.token {\n",
       "            font-family: monospace;\n",
       "            border-style: solid;\n",
       "            border-width: 1px;\n",
       "            border-color: #dddddd;\n",
       "        }\n",
       "    </style>\n",
       "    <span class='token' style='background-color: #ffffff'>&lt;|endoftext|&gt;<span class='feature_val'> (0.00)</span></span><span class='token' style='background-color: #ffffff'> in<span class='feature_val'> (0.00)</span></span><span class='token' style='background-color: #ffffff'> the<span class='feature_val'> (0.00)</span></span><span class='token' style='background-color: #ffffff'> Gen<span class='feature_val'> (0.00)</span></span><span class='token' style='background-color: #ffffff'>us<span class='feature_val'> (0.00)</span></span><span class='token' style='background-color: #ffffff'> Aman<span class='feature_val'> (0.00)</span></span><span class='token' style='background-color: #ffffff'>ita<span class='feature_val'> (0.00)</span></span><span class='token' style='background-color: #ffffff'>,<span class='feature_val'> (0.00)</span></span><span class='token' style='background-color: #ffffff'> and<span class='feature_val'> (0.00)</span></span><span class='token' style='background-color: #ffffff'> has<span class='feature_val'> (0.00)</span></span><span class='token' style='background-color: #ffffff'> been<span class='feature_val'> (0.00)</span></span><span class='token' style='background-color: #ffffff'> collecting<span class='feature_val'> (0.00)</span></span><span class='token' style='background-color: #ffffff'>,<span class='feature_val'> (0.00)</span></span><span class='token' style='background-color: #ffffff'> documenting<span class='feature_val'> (0.00)</span></span><span class='token' style='background-color: #ffffff'>,<span class='feature_val'> (0.00)</span></span><span class='token' style='background-color: #ffffff'> and<span class='feature_val'> (0.00)</span></span><span class='token' style='background-color: #ffffff'> studying<span class='feature_val'> (0.00)</span></span><span class='token' style='background-color: #ffffff'> a<span class='feature_val'> (0.00)</span></span><span class='token' style='background-color: #ffffff'> wide<span class='feature_val'> (0.00)</span></span><span class='token' style='background-color: #ffffff'> variety<span class='feature_val'> (0.00)</span></span><span class='token' style='background-color: #ffffff'> of<span class='feature_val'> (0.00)</span></span><span class='token' style='background-color: #ffffff'> western<span class='feature_val'> (0.00)</span></span><span class='token' style='background-color: #ff8c00'> fun<span class='feature_val'> (24.03)</span></span><span class='token' style='background-color: #ffffff'>gal<span class='feature_val'> (0.00)</span></span><span class='token' style='background-color: #ffffff'> species<span class='feature_val'> (0.00)</span></span><span class='token' style='background-color: #ffffff'> for<span class='feature_val'> (0.00)</span></span><span class='token' style='background-color: #ffffff'> over<span class='feature_val'> (0.00)</span></span><span class='token' style='background-color: #ffffff'> 25<span class='feature_val'> (0.00)</span></span><span class='token' style='background-color: #ffffff'> years<span class='feature_val'> (0.00)</span></span><span class='token' style='background-color: #ffffff'>.<span class='feature_val'> (0.00)</span></span><span class='token' style='background-color: #ffffff'> Ry<span class='feature_val'> (0.00)</span></span><span class='token' style='background-color: #ffffff'>t<span class='feature_val'> (0.00)</span></span><span class='token' style='background-color: #ffffff'>as<span class='feature_val'> (0.00)</span></span><span class='token' style='background-color: #ffffff'> Vil<span class='feature_val'> (0.00)</span></span><span class='token' style='background-color: #ffffff'>gal<span class='feature_val'> (0.00)</span></span><span class='token' style='background-color: #ffffff'>ys<span class='feature_val'> (0.00)</span></span><span class='token' style='background-color: #ffffff'>,<span class='feature_val'> (0.00)</span></span><span class='token' style='background-color: #ffffff'> professor<span class='feature_val'> (0.00)</span></span><span class='token' style='background-color: #ffffff'> of<span class='feature_val'> (0.00)</span></span><span class='token' style='background-color: #ffffff'> biology<span class='feature_val'> (0.00)</span></span><span class='token' style='background-color: #ffffff'> at<span class='feature_val'> (0.00)</span></span><span class='token' style='background-color: #ffffff'> Duke<span class='feature_val'> (0.00)</span></span><span class='token' style='background-color: #ffffff'> University<span class='feature_val'> (0.00)</span></span><span class='token' style='background-color: #ffffff'> and<span class='feature_val'> (0.00)</span></span><span class='token' style='background-color: #ffffff'> curator<span class='feature_val'> (0.00)</span></span><span class='token' style='background-color: #ffffff'> of<span class='feature_val'> (0.00)</span></span><span class='token' style='background-color: #ffffff'> fungi<span class='feature_val'> (0.00)</span></span><span class='token' style='background-color: #ffffff'> at<span class='feature_val'> (0.00)</span></span><span class='token' style='background-color: #ffffff'> the<span class='feature_val'> (0.00)</span></span><span class='token' style='background-color: #ffffff'> Duke<span class='feature_val'> (0.00)</span></span><span class='token' style='background-color: #ffffff'> Her<span class='feature_val'> (0.00)</span></span><span class='token' style='background-color: #ffffff'>bar<span class='feature_val'> (0.00)</span></span><span class='token' style='background-color: #ffffff'>ium<span class='feature_val'> (0.00)</span></span><span class='token' style='background-color: #ffffff'>.<span class='feature_val'> (0.00)</span></span><span class='token' style='background-color: #ffffff'> Ry<span class='feature_val'> (0.00)</span></span><span class='token' style='background-color: #ffffff'>t<span class='feature_val'> (0.00)</span></span><span class='token' style='background-color: #ffffff'>as<span class='feature_val'> (0.00)</span></span><span class='token' style='background-color: #ffffff'> studies<span class='feature_val'> (0.00)</span></span><span class='token' style='background-color: #ffffff'> the<span class='feature_val'> (0.00)</span></span><span class='token' style='background-color: #ffffff'> genetics<span class='feature_val'> (0.00)</span></span><span class='token' style='background-color: #ffffff'> and<span class='feature_val'> (0.00)</span></span><span class='token' style='background-color: #ffffff'> natural<span class='feature_val'> (0.00)</span></span><span class='token' style='background-color: #ffffff'> history<span class='feature_val'> (0.00)</span></span><span class='token' style='background-color: #ffffff'> of<span class='feature_val'> (0.00)</span></span><span class='token' style='background-color: #ffffff'> fungi<span class='feature_val'> (0.00)</span></span><span class='token' style='background-color: #ffffff'> and<span class='feature_val'> (0.00)</span></span><span class='token' style='background-color: #ffffff'> the<span class='feature_val'> (0.00)</span></span><span class='token' style='background-color: #ffffff'> origins<span class='feature_val'> (0.00)</span></span><span class='token' style='background-color: #ffffff'> of<span class='feature_val'> (0.00)</span></span><span class='token' style='background-color: #ffa231'> fun<span class='feature_val'> (19.33)</span></span><span class='token' style='background-color: #ffffff'>gal<span class='feature_val'> (0.00)</span></span><span class='token' style='background-color: #ffffff'> biodiversity<span class='feature_val'> (0.00)</span></span><span class='token' style='background-color: #ffffff'>.<span class='feature_val'> (0.00)</span></span><span class='token' style='background-color: #ffffff'>\n",
       "<span class='feature_val'> (0.00)</span></span><span class='token' style='background-color: #ffffff'>\n",
       "<span class='feature_val'> (0.00)</span></span><span class='token' style='background-color: #ffffff'>Works<span class='feature_val'> (0.00)</span></span><span class='token' style='background-color: #ffffff'>hops<span class='feature_val'> (0.00)</span></span><span class='token' style='background-color: #ffffff'>\n",
       "<span class='feature_val'> (0.00)</span></span><span class='token' style='background-color: #ffffff'>\n",
       "<span class='feature_val'> (0.00)</span></span><span class='token' style='background-color: #ffffff'>D<span class='feature_val'> (0.00)</span></span><span class='token' style='background-color: #ffffff'>ye<span class='feature_val'> (0.00)</span></span><span class='token' style='background-color: #ffffff'>ing<span class='feature_val'> (0.00)</span></span><span class='token' style='background-color: #ffffff'> workshop<span class='feature_val'> (0.00)</span></span><span class='token' style='background-color: #ffffff'> with<span class='feature_val'> (0.00)</span></span><span class='token' style='background-color: #ffffff'> Susan<span class='feature_val'> (0.00)</span></span><span class='token' style='background-color: #ffffff'> Hopkins<span class='feature_val'> (0.00)</span></span><span class='token' style='background-color: #ffffff'>:<span class='feature_val'> (0.00)</span></span><span class='token' style='background-color: #ffffff'> Thursday<span class='feature_val'> (0.00)</span></span><span class='token' style='background-color: #ffffff'> afternoon<span class='feature_val'> (0.00)</span></span><span class='token' style='background-color: #ffffff'>.<span class='feature_val'> (0.00)</span></span><span class='token' style='background-color: #ffffff'> For<span class='feature_val'> (0.00)</span></span><span class='token' style='background-color: #ffffff'>ay<span class='feature_val'> (0.00)</span></span><span class='token' style='background-color: #ffffff'> participants<span class='feature_val'> (0.00)</span></span><span class='token' style='background-color: #ffffff'> can<span class='feature_val'> (0.00)</span></span><span class='token' style='background-color: #ffffff'> sign<span class='feature_val'> (0.00)</span></span><span class='token' style='background-color: #ffffff'> up<span class='feature_val'> (0.00)</span></span><span class='token' style='background-color: #ffffff'> for<span class='feature_val'> (0.00)</span></span><span class='token' style='background-color: #ffffff'> a<span class='feature_val'> (0.00)</span></span><span class='token' style='background-color: #ffffff'> mushroom<span class='feature_val'> (0.00)</span></span><span class='token' style='background-color: #ffffff'> dye<span class='feature_val'> (0.00)</span></span><span class='token' style='background-color: #ffffff'>ing<span class='feature_val'> (0.00)</span></span><span class='token' style='background-color: #ffffff'> workshop<span class='feature_val'> (0.00)</span></span><span class='token' style='background-color: #ffffff'> with<span class='feature_val'> (0.00)</span></span><span class='token' style='background-color: #ffffff'> Susan<span class='feature_val'> (0.00)</span></span><span class='token' style='background-color: #ffffff'> Hopkins<span class='feature_val'> (0.00)</span></span><span class='token' style='background-color: #ffffff'>,<span class='feature_val'> (0.00)</span></span><span class='token' style='background-color: #ffffff'> who<span class='feature_val'> (0.00)</span></span><span class='token' style='background-color: #ffffff'> has<span class='feature_val'> (0.00)</span></span><span class='token' style='background-color: #ffffff'> been<span class='feature_val'> (0.00)</span></span><span class='token' style='background-color: #ffffff'> practicing<span class='feature_val'> (0.00)</span></span><span class='token' style='background-color: #ffffff'> this<span class='feature_val'> (0.00)</span></span><span class='token' style='background-color: #ffffff'> craft<span class='feature_val'> (0.00)</span></span><span class='token' style='background-color: #ffffff'> for<span class='feature_val'> (0.00)</span></span><span class='token' style='background-color: #ffffff'> nearly<span class='feature_val'> (0.00)</span></span><span class='token' style='background-color: #ffffff'> 25<span class='feature_val'> (0.00)</span></span><span class='token' style='background-color: #ffffff'> years<span class='feature_val'> (0.00)</span></span><span class='token' style='background-color: #ffffff'>.<span class='feature_val'> (0.00)</span></span><span class='token' style='background-color: #ffffff'> This<span class='feature_val'> (0.00)</span></span><span class='token' style='background-color: #ffffff'> 3<span class='feature_val'> (0.00)</span></span><span class='token' style='background-color: #ffffff'>.<span class='feature_val'> (0.00)</span></span><span class='token' style='background-color: #ffffff'>5<span class='feature_val'> (0.00)</span></span><span class='token' style='background-color: #ffffff'> hour<span class='feature_val'> (0.00)</span></span><span class='token' style='background-color: #ffffff'> pre<span class='feature_val'> (0.00)</span></span><span class='token' style='background-color: #ffffff'>-<span class='feature_val'> (0.00)</span></span><span class='token' style='background-color: #ffffff'>for<span class='feature_val'> (0.00)</span></span><span class='token' style='background-color: #ffffff'>ay<span class='feature_val'> (0.00)</span></span><span class='token' style='background-color: #ffffff'> workshop<span class='feature_val'> (0.00)</span></span><span class='token' style='background-color: #ffffff'> on<span class='feature_val'> (0.00)</span></span>"
      ],
      "text/plain": [
       "<IPython.core.display.HTML object>"
      ]
     },
     "metadata": {},
     "output_type": "display_data"
    },
    {
     "data": {
      "text/html": [
       "\n",
       "    <style>\n",
       "        span.token {\n",
       "            font-family: monospace;\n",
       "            border-style: solid;\n",
       "            border-width: 1px;\n",
       "            border-color: #dddddd;\n",
       "        }\n",
       "    </style>\n",
       "    <span class='token' style='background-color: #ffffff'>&lt;|endoftext|&gt;<span class='feature_val'> (0.00)</span></span><span class='token' style='background-color: #ffffff'> assess<span class='feature_val'> (0.00)</span></span><span class='token' style='background-color: #ffffff'> the<span class='feature_val'> (0.00)</span></span><span class='token' style='background-color: #ffffff'> results<span class='feature_val'> (0.00)</span></span><span class='token' style='background-color: #ffffff'> or<span class='feature_val'> (0.00)</span></span><span class='token' style='background-color: #ffffff'> even<span class='feature_val'> (0.00)</span></span><span class='token' style='background-color: #ffffff'> care<span class='feature_val'> (0.00)</span></span><span class='token' style='background-color: #ffffff'> about<span class='feature_val'> (0.00)</span></span><span class='token' style='background-color: #ffffff'> them<span class='feature_val'> (0.00)</span></span><span class='token' style='background-color: #ffffff'>.<span class='feature_val'> (0.00)</span></span><span class='token' style='background-color: #ffffff'>\n",
       "<span class='feature_val'> (0.00)</span></span><span class='token' style='background-color: #ffffff'>\n",
       "<span class='feature_val'> (0.00)</span></span><span class='token' style='background-color: #ffffff'>Anyway<span class='feature_val'> (0.00)</span></span><span class='token' style='background-color: #ffffff'>,<span class='feature_val'> (0.00)</span></span><span class='token' style='background-color: #ffffff'> for<span class='feature_val'> (0.00)</span></span><span class='token' style='background-color: #ffffff'> explor<span class='feature_val'> (0.00)</span></span><span class='token' style='background-color: #ffffff'>atory<span class='feature_val'> (0.00)</span></span><span class='token' style='background-color: #ffffff'> programming<span class='feature_val'> (0.00)</span></span><span class='token' style='background-color: #ffffff'> to<span class='feature_val'> (0.00)</span></span><span class='token' style='background-color: #ffffff'> be<span class='feature_val'> (0.00)</span></span><span class='token' style='background-color: #ff8c00'> fun<span class='feature_val'> (25.02)</span></span><span class='token' style='background-color: #ffffff'> once<span class='feature_val'> (0.00)</span></span><span class='token' style='background-color: #ffffff'> again<span class='feature_val'> (0.00)</span></span><span class='token' style='background-color: #ffffff'>,<span class='feature_val'> (0.00)</span></span><span class='token' style='background-color: #ffffff'> it<span class='feature_val'> (0.00)</span></span><span class='token' style='background-color: #ffffff'> has<span class='feature_val'> (0.00)</span></span><span class='token' style='background-color: #ffffff'> to<span class='feature_val'> (0.00)</span></span><span class='token' style='background-color: #ffffff'> avoid<span class='feature_val'> (0.00)</span></span><span class='token' style='background-color: #ffffff'> se<span class='feature_val'> (0.00)</span></span><span class='token' style='background-color: #ffffff'>eping<span class='feature_val'> (0.00)</span></span><span class='token' style='background-color: #ffffff'> into<span class='feature_val'> (0.00)</span></span><span class='token' style='background-color: #ffffff'> the<span class='feature_val'> (0.00)</span></span><span class='token' style='background-color: #ffffff'> domain<span class='feature_val'> (0.00)</span></span><span class='token' style='background-color: #ffffff'> of<span class='feature_val'> (0.00)</span></span><span class='token' style='background-color: #ffffff'> multi<span class='feature_val'> (0.00)</span></span><span class='token' style='background-color: #ffffff'>-<span class='feature_val'> (0.00)</span></span><span class='token' style='background-color: #ffffff'>year<span class='feature_val'> (0.00)</span></span><span class='token' style='background-color: #ffffff'> projects<span class='feature_val'> (0.00)</span></span><span class='token' style='background-color: #ffffff'>.<span class='feature_val'> (0.00)</span></span><span class='token' style='background-color: #ffffff'> So<span class='feature_val'> (0.00)</span></span><span class='token' style='background-color: #ffffff'> the<span class='feature_val'> (0.00)</span></span><span class='token' style='background-color: #ffffff'> question<span class='feature_val'> (0.00)</span></span><span class='token' style='background-color: #ffffff'> is<span class='feature_val'> (0.00)</span></span><span class='token' style='background-color: #ffffff'> how<span class='feature_val'> (0.00)</span></span><span class='token' style='background-color: #ffffff'> to<span class='feature_val'> (0.00)</span></span><span class='token' style='background-color: #ffffff'> create<span class='feature_val'> (0.00)</span></span><span class='token' style='background-color: #ffffff'> a<span class='feature_val'> (0.00)</span></span><span class='token' style='background-color: #ffffff'> non<span class='feature_val'> (0.00)</span></span><span class='token' style='background-color: #ffffff'>-<span class='feature_val'> (0.00)</span></span><span class='token' style='background-color: #ffffff'>t<span class='feature_val'> (0.00)</span></span><span class='token' style='background-color: #ffffff'>riv<span class='feature_val'> (0.00)</span></span><span class='token' style='background-color: #ffffff'>ial<span class='feature_val'> (0.00)</span></span><span class='token' style='background-color: #ffffff'> project<span class='feature_val'> (0.00)</span></span><span class='token' style='background-color: #ffffff'> that<span class='feature_val'> (0.00)</span></span><span class='token' style='background-color: #ffffff'> can<span class='feature_val'> (0.00)</span></span><span class='token' style='background-color: #ffffff'> be<span class='feature_val'> (0.00)</span></span><span class='token' style='background-color: #ffffff'> completed<span class='feature_val'> (0.00)</span></span><span class='token' style='background-color: #ffffff'> in<span class='feature_val'> (0.00)</span></span><span class='token' style='background-color: #ffffff'> a<span class='feature_val'> (0.00)</span></span><span class='token' style='background-color: #ffffff'> reasonable<span class='feature_val'> (0.00)</span></span><span class='token' style='background-color: #ffffff'> amount<span class='feature_val'> (0.00)</span></span><span class='token' style='background-color: #ffffff'> of<span class='feature_val'> (0.00)</span></span><span class='token' style='background-color: #ffffff'> time<span class='feature_val'> (0.00)</span></span><span class='token' style='background-color: #ffffff'>?<span class='feature_val'> (0.00)</span></span><span class='token' style='background-color: #ffffff'> For<span class='feature_val'> (0.00)</span></span><span class='token' style='background-color: #ffffff'> small<span class='feature_val'> (0.00)</span></span><span class='token' style='background-color: #ffffff'> projects<span class='feature_val'> (0.00)</span></span><span class='token' style='background-color: #ffffff'>,<span class='feature_val'> (0.00)</span></span><span class='token' style='background-color: #ffffff'> it<span class='feature_val'> (0.00)</span></span><span class='token' style='background-color: #ffffff'>&#x27;s<span class='feature_val'> (0.00)</span></span><span class='token' style='background-color: #ffffff'> OK<span class='feature_val'> (0.00)</span></span><span class='token' style='background-color: #ffffff'> to<span class='feature_val'> (0.00)</span></span><span class='token' style='background-color: #ffffff'> cut<span class='feature_val'> (0.00)</span></span><span class='token' style='background-color: #ffffff'> back<span class='feature_val'> (0.00)</span></span><span class='token' style='background-color: #ffffff'> on<span class='feature_val'> (0.00)</span></span><span class='token' style='background-color: #ffffff'> requirements<span class='feature_val'> (0.00)</span></span><span class='token' style='background-color: #ffffff'> and<span class='feature_val'> (0.00)</span></span><span class='token' style='background-color: #ffffff'> design<span class='feature_val'> (0.00)</span></span><span class='token' style='background-color: #ffffff'> —<span class='feature_val'> (0.00)</span></span><span class='token' style='background-color: #ffffff'> they<span class='feature_val'> (0.00)</span></span><span class='token' style='background-color: #ffffff'> can<span class='feature_val'> (0.00)</span></span><span class='token' style='background-color: #ffffff'> be<span class='feature_val'> (0.00)</span></span><span class='token' style='background-color: #ffffff'> done<span class='feature_val'> (0.00)</span></span><span class='token' style='background-color: #ffffff'> in<span class='feature_val'> (0.00)</span></span><span class='token' style='background-color: #ffffff'> a<span class='feature_val'> (0.00)</span></span><span class='token' style='background-color: #ffffff'> few<span class='feature_val'> (0.00)</span></span><span class='token' style='background-color: #ffffff'> hours<span class='feature_val'> (0.00)</span></span><span class='token' style='background-color: #ffffff'> with<span class='feature_val'> (0.00)</span></span><span class='token' style='background-color: #ffffff'> a<span class='feature_val'> (0.00)</span></span><span class='token' style='background-color: #ffffff'> white<span class='feature_val'> (0.00)</span></span><span class='token' style='background-color: #ffffff'>board<span class='feature_val'> (0.00)</span></span><span class='token' style='background-color: #ffffff'> and<span class='feature_val'> (0.00)</span></span><span class='token' style='background-color: #ffffff'> a<span class='feature_val'> (0.00)</span></span><span class='token' style='background-color: #ffffff'> notebook<span class='feature_val'> (0.00)</span></span><span class='token' style='background-color: #ffffff'>,<span class='feature_val'> (0.00)</span></span><span class='token' style='background-color: #ffffff'> rather<span class='feature_val'> (0.00)</span></span><span class='token' style='background-color: #ffffff'> than<span class='feature_val'> (0.00)</span></span><span class='token' style='background-color: #ffffff'> with<span class='feature_val'> (0.00)</span></span><span class='token' style='background-color: #ffffff'> elaborate<span class='feature_val'> (0.00)</span></span><span class='token' style='background-color: #ffffff'> diagrams<span class='feature_val'> (0.00)</span></span><span class='token' style='background-color: #ffffff'> and<span class='feature_val'> (0.00)</span></span><span class='token' style='background-color: #ffffff'> carefully<span class='feature_val'> (0.00)</span></span><span class='token' style='background-color: #ffffff'> written<span class='feature_val'> (0.00)</span></span><span class='token' style='background-color: #ffffff'> requirement<span class='feature_val'> (0.00)</span></span><span class='token' style='background-color: #ffffff'> docs<span class='feature_val'> (0.00)</span></span><span class='token' style='background-color: #ffffff'>.<span class='feature_val'> (0.00)</span></span><span class='token' style='background-color: #ffffff'> Other<span class='feature_val'> (0.00)</span></span><span class='token' style='background-color: #ffffff'> areas<span class='feature_val'> (0.00)</span></span><span class='token' style='background-color: #ffffff'>,<span class='feature_val'> (0.00)</span></span><span class='token' style='background-color: #ffffff'> such<span class='feature_val'> (0.00)</span></span><span class='token' style='background-color: #ffffff'> as<span class='feature_val'> (0.00)</span></span><span class='token' style='background-color: #ffffff'> tests<span class='feature_val'> (0.00)</span></span><span class='token' style='background-color: #ffffff'>,<span class='feature_val'> (0.00)</span></span><span class='token' style='background-color: #ffffff'> however<span class='feature_val'> (0.00)</span></span><span class='token' style='background-color: #ffffff'>,<span class='feature_val'> (0.00)</span></span><span class='token' style='background-color: #ffffff'> I<span class='feature_val'> (0.00)</span></span><span class='token' style='background-color: #ffffff'> won<span class='feature_val'> (0.00)</span></span><span class='token' style='background-color: #ffffff'>&#x27;t<span class='feature_val'> (0.00)</span></span><span class='token' style='background-color: #ffffff'> cut<span class='feature_val'> (0.00)</span></span><span class='token' style='background-color: #ffffff'> back<span class='feature_val'> (0.00)</span></span><span class='token' style='background-color: #ffffff'> on<span class='feature_val'> (0.00)</span></span><span class='token' style='background-color: #ffffff'>.<span class='feature_val'> (0.00)</span></span><span class='token' style='background-color: #ffffff'> The<span class='feature_val'> (0.00)</span></span><span class='token' style='background-color: #ffffff'> real<span class='feature_val'> (0.00)</span></span><span class='token' style='background-color: #ffffff'> bug<span class='feature_val'> (0.00)</span></span><span class='token' style='background-color: #ffffff'>ab<span class='feature_val'> (0.00)</span></span><span class='token' style='background-color: #ffffff'>oo<span class='feature_val'> (0.00)</span></span><span class='token' style='background-color: #ffffff'> is<span class='feature_val'> (0.00)</span></span>"
      ],
      "text/plain": [
       "<IPython.core.display.HTML object>"
      ]
     },
     "metadata": {},
     "output_type": "display_data"
    },
    {
     "data": {
      "text/html": [
       "\n",
       "    <style>\n",
       "        span.token {\n",
       "            font-family: monospace;\n",
       "            border-style: solid;\n",
       "            border-width: 1px;\n",
       "            border-color: #dddddd;\n",
       "        }\n",
       "    </style>\n",
       "    <span class='token' style='background-color: #ffffff'>&lt;|endoftext|&gt;<span class='feature_val'> (0.00)</span></span><span class='token' style='background-color: #ffffff'> meet<span class='feature_val'> (0.00)</span></span><span class='token' style='background-color: #ffffff'>-<span class='feature_val'> (0.00)</span></span><span class='token' style='background-color: #ffffff'>and<span class='feature_val'> (0.00)</span></span><span class='token' style='background-color: #ffffff'>-<span class='feature_val'> (0.00)</span></span><span class='token' style='background-color: #ffffff'>gre<span class='feature_val'> (0.00)</span></span><span class='token' style='background-color: #ffffff'>ets<span class='feature_val'> (0.00)</span></span><span class='token' style='background-color: #ffffff'> as<span class='feature_val'> (0.00)</span></span><span class='token' style='background-color: #ffffff'> Magic<span class='feature_val'> (0.00)</span></span><span class='token' style='background-color: #ffffff'> Kingdom<span class='feature_val'> (0.00)</span></span><span class='token' style='background-color: #ffffff'>,<span class='feature_val'> (0.00)</span></span><span class='token' style='background-color: #ffffff'> but<span class='feature_val'> (0.00)</span></span><span class='token' style='background-color: #ffffff'> it<span class='feature_val'> (0.00)</span></span><span class='token' style='background-color: #ffffff'> does<span class='feature_val'> (0.00)</span></span><span class='token' style='background-color: #ffffff'> have<span class='feature_val'> (0.00)</span></span><span class='token' style='background-color: #ffffff'> some<span class='feature_val'> (0.00)</span></span><span class='token' style='background-color: #ffffff'> interesting<span class='feature_val'> (0.00)</span></span><span class='token' style='background-color: #ffffff'> characters<span class='feature_val'> (0.00)</span></span><span class='token' style='background-color: #ffffff'> that<span class='feature_val'> (0.00)</span></span><span class='token' style='background-color: #ffffff'> you<span class='feature_val'> (0.00)</span></span><span class='token' style='background-color: #ffffff'> can<span class='feature_val'> (0.00)</span></span><span class='token' style='background-color: #ffffff'>�<span class='feature_val'> (0.00)</span></span><span class='token' style='background-color: #ffffff'>�<span class='feature_val'> (0.00)</span></span><span class='token' style='background-color: #ffffff'>t<span class='feature_val'> (0.00)</span></span><span class='token' style='background-color: #ffffff'> find<span class='feature_val'> (0.00)</span></span><span class='token' style='background-color: #ffffff'> anywhere<span class='feature_val'> (0.00)</span></span><span class='token' style='background-color: #ffffff'> else<span class='feature_val'> (0.00)</span></span><span class='token' style='background-color: #ffffff'>.<span class='feature_val'> (0.00)</span></span><span class='token' style='background-color: #ffffff'> You<span class='feature_val'> (0.00)</span></span><span class='token' style='background-color: #ffffff'> may<span class='feature_val'> (0.00)</span></span><span class='token' style='background-color: #ffffff'> be<span class='feature_val'> (0.00)</span></span><span class='token' style='background-color: #ffffff'> able<span class='feature_val'> (0.00)</span></span><span class='token' style='background-color: #ffffff'> to<span class='feature_val'> (0.00)</span></span><span class='token' style='background-color: #ffffff'> find<span class='feature_val'> (0.00)</span></span><span class='token' style='background-color: #ffffff'> Donald<span class='feature_val'> (0.00)</span></span><span class='token' style='background-color: #ffffff'> Duck<span class='feature_val'> (0.00)</span></span><span class='token' style='background-color: #ffffff'> in<span class='feature_val'> (0.00)</span></span><span class='token' style='background-color: #ffffff'> every<span class='feature_val'> (0.00)</span></span><span class='token' style='background-color: #ffffff'> park<span class='feature_val'> (0.00)</span></span><span class='token' style='background-color: #ffffff'> but<span class='feature_val'> (0.00)</span></span><span class='token' style='background-color: #ffffff'> you<span class='feature_val'> (0.00)</span></span><span class='token' style='background-color: #ffffff'> can<span class='feature_val'> (0.00)</span></span><span class='token' style='background-color: #ffffff'>�<span class='feature_val'> (0.00)</span></span><span class='token' style='background-color: #ffffff'>�<span class='feature_val'> (0.00)</span></span><span class='token' style='background-color: #ffffff'>t<span class='feature_val'> (0.00)</span></span><span class='token' style='background-color: #ffffff'> find<span class='feature_val'> (0.00)</span></span><span class='token' style='background-color: #ffffff'> the<span class='feature_val'> (0.00)</span></span><span class='token' style='background-color: #ffffff'> Disney<span class='feature_val'> (0.00)</span></span><span class='token' style='background-color: #ffffff'> Junior<span class='feature_val'> (0.00)</span></span><span class='token' style='background-color: #ffffff'> characters<span class='feature_val'> (0.00)</span></span><span class='token' style='background-color: #ffffff'> everywhere<span class='feature_val'> (0.00)</span></span><span class='token' style='background-color: #ffffff'>.<span class='feature_val'> (0.00)</span></span><span class='token' style='background-color: #ffffff'> A<span class='feature_val'> (0.00)</span></span><span class='token' style='background-color: #ffffff'> lot<span class='feature_val'> (0.00)</span></span><span class='token' style='background-color: #ffffff'> of<span class='feature_val'> (0.00)</span></span><span class='token' style='background-color: #ffffff'> guests<span class='feature_val'> (0.00)</span></span><span class='token' style='background-color: #ffffff'> are<span class='feature_val'> (0.00)</span></span><span class='token' style='background-color: #ffffff'> scared<span class='feature_val'> (0.00)</span></span><span class='token' style='background-color: #ffffff'> they<span class='feature_val'> (0.00)</span></span><span class='token' style='background-color: #ffffff'> can<span class='feature_val'> (0.00)</span></span><span class='token' style='background-color: #ffffff'>�<span class='feature_val'> (0.00)</span></span><span class='token' style='background-color: #ffffff'>�<span class='feature_val'> (0.00)</span></span><span class='token' style='background-color: #ffffff'>t<span class='feature_val'> (0.00)</span></span><span class='token' style='background-color: #ffffff'> fill<span class='feature_val'> (0.00)</span></span><span class='token' style='background-color: #ffffff'> a<span class='feature_val'> (0.00)</span></span><span class='token' style='background-color: #ffffff'> day<span class='feature_val'> (0.00)</span></span><span class='token' style='background-color: #ffffff'> of<span class='feature_val'> (0.00)</span></span><span class='token' style='background-color: #ff8c00'> fun<span class='feature_val'> (22.67)</span></span><span class='token' style='background-color: #ffffff'> here<span class='feature_val'> (0.00)</span></span><span class='token' style='background-color: #ffffff'>,<span class='feature_val'> (0.00)</span></span><span class='token' style='background-color: #ffffff'> but<span class='feature_val'> (0.00)</span></span><span class='token' style='background-color: #ffffff'> add<span class='feature_val'> (0.00)</span></span><span class='token' style='background-color: #ffffff'> in<span class='feature_val'> (0.00)</span></span><span class='token' style='background-color: #ffffff'> some<span class='feature_val'> (0.00)</span></span><span class='token' style='background-color: #ffffff'> characters<span class='feature_val'> (0.00)</span></span><span class='token' style='background-color: #ffffff'> and<span class='feature_val'> (0.00)</span></span><span class='token' style='background-color: #ffffff'> you<span class='feature_val'> (0.00)</span></span><span class='token' style='background-color: #ffffff'> will<span class='feature_val'> (0.00)</span></span><span class='token' style='background-color: #ffffff'> be<span class='feature_val'> (0.00)</span></span><span class='token' style='background-color: #ffffff'> surprised<span class='feature_val'> (0.00)</span></span><span class='token' style='background-color: #ffffff'> how<span class='feature_val'> (0.00)</span></span><span class='token' style='background-color: #ffffff'> fast<span class='feature_val'> (0.00)</span></span><span class='token' style='background-color: #ffffff'> your<span class='feature_val'> (0.00)</span></span><span class='token' style='background-color: #ffffff'> day<span class='feature_val'> (0.00)</span></span><span class='token' style='background-color: #ffffff'> fills<span class='feature_val'> (0.00)</span></span><span class='token' style='background-color: #ffffff'> up<span class='feature_val'> (0.00)</span></span><span class='token' style='background-color: #ffffff'>.<span class='feature_val'> (0.00)</span></span><span class='token' style='background-color: #ffffff'> Now<span class='feature_val'> (0.00)</span></span><span class='token' style='background-color: #ffffff'> go<span class='feature_val'> (0.00)</span></span><span class='token' style='background-color: #ffffff'> out<span class='feature_val'> (0.00)</span></span><span class='token' style='background-color: #ffffff'> and<span class='feature_val'> (0.00)</span></span><span class='token' style='background-color: #ffffff'> meet<span class='feature_val'> (0.00)</span></span><span class='token' style='background-color: #ffffff'> some<span class='feature_val'> (0.00)</span></span><span class='token' style='background-color: #ffffff'> new<span class='feature_val'> (0.00)</span></span><span class='token' style='background-color: #ffffff'> or<span class='feature_val'> (0.00)</span></span><span class='token' style='background-color: #ffffff'> old<span class='feature_val'> (0.00)</span></span><span class='token' style='background-color: #ffffff'> friends<span class='feature_val'> (0.00)</span></span><span class='token' style='background-color: #ffffff'>.<span class='feature_val'> (0.00)</span></span><span class='token' style='background-color: #ffffff'>Most<span class='feature_val'> (0.00)</span></span><span class='token' style='background-color: #ffffff'> of<span class='feature_val'> (0.00)</span></span><span class='token' style='background-color: #ffffff'> the<span class='feature_val'> (0.00)</span></span><span class='token' style='background-color: #ffffff'> media<span class='feature_val'> (0.00)</span></span><span class='token' style='background-color: #ffffff'> focus<span class='feature_val'> (0.00)</span></span><span class='token' style='background-color: #ffffff'> so<span class='feature_val'> (0.00)</span></span><span class='token' style='background-color: #ffffff'> far<span class='feature_val'> (0.00)</span></span><span class='token' style='background-color: #ffffff'> has<span class='feature_val'> (0.00)</span></span><span class='token' style='background-color: #ffffff'> been<span class='feature_val'> (0.00)</span></span><span class='token' style='background-color: #ffffff'> on<span class='feature_val'> (0.00)</span></span><span class='token' style='background-color: #ffffff'> the<span class='feature_val'> (0.00)</span></span><span class='token' style='background-color: #ffffff'> arrest<span class='feature_val'> (0.00)</span></span><span class='token' style='background-color: #ffffff'> of<span class='feature_val'> (0.00)</span></span><span class='token' style='background-color: #fefdfc'> Paul<span class='feature_val'> (0.24)</span></span><span class='token' style='background-color: #fff8f1'> Manafort<span class='feature_val'> (1.21)</span></span><span class='token' style='background-color: #fffcf8'> and<span class='feature_val'> (0.59)</span></span><span class='token' style='background-color: #fffdfc'> George<span class='feature_val'> (0.22)</span></span><span class='token' style='background-color: #ffffff'> Pap<span class='feature_val'> (0.00)</span></span><span class='token' style='background-color: #ffffff'>ad<span class='feature_val'> (0.00)</span></span><span class='token' style='background-color: #ffffff'>opoulos<span class='feature_val'> (0.00)</span></span><span class='token' style='background-color: #ffffff'>,<span class='feature_val'> (0.00)</span></span><span class='token' style='background-color: #ffffff'> with<span class='feature_val'> (0.00)</span></span><span class='token' style='background-color: #ffffff'> Rick<span class='feature_val'> (0.00)</span></span><span class='token' style='background-color: #ffffff'> Gates<span class='feature_val'> (0.00)</span></span><span class='token' style='background-color: #ffffff'>�<span class='feature_val'> (0.00)</span></span><span class='token' style='background-color: #ffffff'>�<span class='feature_val'> (0.00)</span></span><span class='token' style='background-color: #ffffff'>s<span class='feature_val'> (0.00)</span></span><span class='token' style='background-color: #ffffff'> arrest<span class='feature_val'> (0.00)</span></span><span class='token' style='background-color: #ffffff'> getting<span class='feature_val'> (0.00)</span></span><span class='token' style='background-color: #ffffff'> much<span class='feature_val'> (0.00)</span></span>"
      ],
      "text/plain": [
       "<IPython.core.display.HTML object>"
      ]
     },
     "metadata": {},
     "output_type": "display_data"
    },
    {
     "data": {
      "text/html": [
       "\n",
       "    <style>\n",
       "        span.token {\n",
       "            font-family: monospace;\n",
       "            border-style: solid;\n",
       "            border-width: 1px;\n",
       "            border-color: #dddddd;\n",
       "        }\n",
       "    </style>\n",
       "    <span class='token' style='background-color: #ffffff'>&lt;|endoftext|&gt;<span class='feature_val'> (0.00)</span></span><span class='token' style='background-color: #ffffff'> his<span class='feature_val'> (0.00)</span></span><span class='token' style='background-color: #ffffff'> students<span class='feature_val'> (0.00)</span></span><span class='token' style='background-color: #ffffff'> to<span class='feature_val'> (0.00)</span></span><span class='token' style='background-color: #ffffff'> go<span class='feature_val'> (0.00)</span></span><span class='token' style='background-color: #ffffff'> a<span class='feature_val'> (0.00)</span></span><span class='token' style='background-color: #ffffff'> whole<span class='feature_val'> (0.00)</span></span><span class='token' style='background-color: #ffffff'> hour<span class='feature_val'> (0.00)</span></span><span class='token' style='background-color: #ffffff'> without<span class='feature_val'> (0.00)</span></span><span class='token' style='background-color: #ffffff'> checking<span class='feature_val'> (0.00)</span></span><span class='token' style='background-color: #ffffff'> the<span class='feature_val'> (0.00)</span></span><span class='token' style='background-color: #ffffff'> phone<span class='feature_val'> (0.00)</span></span><span class='token' style='background-color: #ffffff'>.<span class='feature_val'> (0.00)</span></span><span class='token' style='background-color: #ffffff'> &quot;<span class='feature_val'> (0.00)</span></span><span class='token' style='background-color: #ffffff'>To<span class='feature_val'> (0.00)</span></span><span class='token' style='background-color: #ffffff'> go<span class='feature_val'> (0.00)</span></span><span class='token' style='background-color: #ffffff'> the<span class='feature_val'> (0.00)</span></span><span class='token' style='background-color: #ffffff'> entire<span class='feature_val'> (0.00)</span></span><span class='token' style='background-color: #ffffff'> class<span class='feature_val'> (0.00)</span></span><span class='token' style='background-color: #ffffff'> without<span class='feature_val'> (0.00)</span></span><span class='token' style='background-color: #ffffff'> checking<span class='feature_val'> (0.00)</span></span><span class='token' style='background-color: #ffffff'> is<span class='feature_val'> (0.00)</span></span><span class='token' style='background-color: #ffffff'> far<span class='feature_val'> (0.00)</span></span><span class='token' style='background-color: #ffffff'> too<span class='feature_val'> (0.00)</span></span><span class='token' style='background-color: #ffffff'> anxiety<span class='feature_val'> (0.00)</span></span><span class='token' style='background-color: #ffffff'> enhancing<span class='feature_val'> (0.00)</span></span><span class='token' style='background-color: #ffffff'>.&quot;<span class='feature_val'> (0.00)</span></span><span class='token' style='background-color: #ffffff'>\n",
       "<span class='feature_val'> (0.00)</span></span><span class='token' style='background-color: #ffffff'>\n",
       "<span class='feature_val'> (0.00)</span></span><span class='token' style='background-color: #ffffff'>College<span class='feature_val'> (0.00)</span></span><span class='token' style='background-color: #ffffff'> instructors<span class='feature_val'> (0.00)</span></span><span class='token' style='background-color: #ffffff'>,<span class='feature_val'> (0.00)</span></span><span class='token' style='background-color: #ffffff'> what<span class='feature_val'> (0.00)</span></span><span class='token' style='background-color: #ffffff'> do<span class='feature_val'> (0.00)</span></span><span class='token' style='background-color: #ffffff'> you<span class='feature_val'> (0.00)</span></span><span class='token' style='background-color: #ffffff'> think<span class='feature_val'> (0.00)</span></span><span class='token' style='background-color: #ffffff'>?<span class='feature_val'> (0.00)</span></span><span class='token' style='background-color: #ffffff'> Is<span class='feature_val'> (0.00)</span></span><span class='token' style='background-color: #ffffff'> your<span class='feature_val'> (0.00)</span></span><span class='token' style='background-color: #ffffff'> class<span class='feature_val'> (0.00)</span></span><span class='token' style='background-color: #ffffff'> a<span class='feature_val'> (0.00)</span></span><span class='token' style='background-color: #ffffff'> no<span class='feature_val'> (0.00)</span></span><span class='token' style='background-color: #ffffff'>-<span class='feature_val'> (0.00)</span></span><span class='token' style='background-color: #ffffff'>phone<span class='feature_val'> (0.00)</span></span><span class='token' style='background-color: #ffffff'> zone<span class='feature_val'> (0.00)</span></span><span class='token' style='background-color: #ffffff'>?<span class='feature_val'> (0.00)</span></span><span class='token' style='background-color: #ffffff'> And<span class='feature_val'> (0.00)</span></span><span class='token' style='background-color: #ffffff'> if<span class='feature_val'> (0.00)</span></span><span class='token' style='background-color: #ffffff'> so<span class='feature_val'> (0.00)</span></span><span class='token' style='background-color: #ffffff'>,<span class='feature_val'> (0.00)</span></span><span class='token' style='background-color: #ffffff'> how<span class='feature_val'> (0.00)</span></span><span class='token' style='background-color: #ffffff'> have<span class='feature_val'> (0.00)</span></span><span class='token' style='background-color: #ffffff'> you<span class='feature_val'> (0.00)</span></span><span class='token' style='background-color: #ffffff'> done<span class='feature_val'> (0.00)</span></span><span class='token' style='background-color: #ffffff'> it<span class='feature_val'> (0.00)</span></span><span class='token' style='background-color: #ffffff'>?<span class='feature_val'> (0.00)</span></span><span class='token' style='background-color: #ffffff'>About<span class='feature_val'> (0.00)</span></span><span class='token' style='background-color: #ffffff'> once<span class='feature_val'> (0.00)</span></span><span class='token' style='background-color: #ffffff'> every<span class='feature_val'> (0.00)</span></span><span class='token' style='background-color: #ffffff'> month<span class='feature_val'> (0.00)</span></span><span class='token' style='background-color: #ffffff'> or<span class='feature_val'> (0.00)</span></span><span class='token' style='background-color: #ffffff'> two<span class='feature_val'> (0.00)</span></span><span class='token' style='background-color: #ffffff'>,<span class='feature_val'> (0.00)</span></span><span class='token' style='background-color: #ffffff'> I<span class='feature_val'> (0.00)</span></span><span class='token' style='background-color: #ffffff'> get<span class='feature_val'> (0.00)</span></span><span class='token' style='background-color: #ffffff'> a<span class='feature_val'> (0.00)</span></span><span class='token' style='background-color: #ffffff'> wedding<span class='feature_val'> (0.00)</span></span><span class='token' style='background-color: #ffffff'> that<span class='feature_val'> (0.00)</span></span><span class='token' style='background-color: #ffffff'>�<span class='feature_val'> (0.00)</span></span><span class='token' style='background-color: #ffffff'>�<span class='feature_val'> (0.00)</span></span><span class='token' style='background-color: #ffffff'>s<span class='feature_val'> (0.00)</span></span><span class='token' style='background-color: #ffffff'> stunning<span class='feature_val'> (0.00)</span></span><span class='token' style='background-color: #ffffff'>.<span class='feature_val'> (0.00)</span></span><span class='token' style='background-color: #ffffff'> The<span class='feature_val'> (0.00)</span></span><span class='token' style='background-color: #ffffff'> story<span class='feature_val'> (0.00)</span></span><span class='token' style='background-color: #ffffff'> is<span class='feature_val'> (0.00)</span></span><span class='token' style='background-color: #ffffff'> a<span class='feature_val'> (0.00)</span></span><span class='token' style='background-color: #ffffff'>ces<span class='feature_val'> (0.00)</span></span><span class='token' style='background-color: #ffffff'>.<span class='feature_val'> (0.00)</span></span><span class='token' style='background-color: #ffffff'> The<span class='feature_val'> (0.00)</span></span><span class='token' style='background-color: #ffffff'> vibe<span class='feature_val'> (0.00)</span></span><span class='token' style='background-color: #ffffff'> is<span class='feature_val'> (0.00)</span></span><span class='token' style='background-color: #ff8c00'> fun<span class='feature_val'> (24.03)</span></span><span class='token' style='background-color: #ffffff'>.<span class='feature_val'> (0.00)</span></span><span class='token' style='background-color: #ffffff'> And<span class='feature_val'> (0.00)</span></span><span class='token' style='background-color: #ffffff'> I<span class='feature_val'> (0.00)</span></span><span class='token' style='background-color: #ffffff'> have<span class='feature_val'> (0.00)</span></span><span class='token' style='background-color: #ffffff'> to<span class='feature_val'> (0.00)</span></span><span class='token' style='background-color: #ffffff'> reject<span class='feature_val'> (0.00)</span></span><span class='token' style='background-color: #ffffff'> it<span class='feature_val'> (0.00)</span></span><span class='token' style='background-color: #ffffff'> because<span class='feature_val'> (0.00)</span></span><span class='token' style='background-color: #ffffff'> it<span class='feature_val'> (0.00)</span></span><span class='token' style='background-color: #ffffff'>�<span class='feature_val'> (0.00)</span></span><span class='token' style='background-color: #ffffff'>�<span class='feature_val'> (0.00)</span></span><span class='token' style='background-color: #ffffff'>s<span class='feature_val'> (0.00)</span></span><span class='token' style='background-color: #ffffff'> absolutely<span class='feature_val'> (0.00)</span></span><span class='token' style='background-color: #ffffff'> cultural<span class='feature_val'> (0.00)</span></span><span class='token' style='background-color: #ffffff'> appropriation<span class='feature_val'> (0.00)</span></span><span class='token' style='background-color: #ffffff'>.<span class='feature_val'> (0.00)</span></span><span class='token' style='background-color: #ffffff'> When<span class='feature_val'> (0.00)</span></span><span class='token' style='background-color: #ffffff'> you<span class='feature_val'> (0.00)</span></span><span class='token' style='background-color: #ffffff'> work<span class='feature_val'> (0.00)</span></span><span class='token' style='background-color: #ffffff'> in<span class='feature_val'> (0.00)</span></span><span class='token' style='background-color: #ffffff'> weddings<span class='feature_val'> (0.00)</span></span><span class='token' style='background-color: #ffffff'>,<span class='feature_val'> (0.00)</span></span><span class='token' style='background-color: #ffffff'> you<span class='feature_val'> (0.00)</span></span><span class='token' style='background-color: #ffffff'> really<span class='feature_val'> (0.00)</span></span><span class='token' style='background-color: #ffffff'> want<span class='feature_val'> (0.00)</span></span><span class='token' style='background-color: #ffffff'> to<span class='feature_val'> (0.00)</span></span><span class='token' style='background-color: #ffffff'> say<span class='feature_val'> (0.00)</span></span><span class='token' style='background-color: #ffffff'> yes<span class='feature_val'> (0.00)</span></span><span class='token' style='background-color: #ffffff'> to<span class='feature_val'> (0.00)</span></span><span class='token' style='background-color: #ffffff'> everything<span class='feature_val'> (0.00)</span></span><span class='token' style='background-color: #ffffff'>.<span class='feature_val'> (0.00)</span></span><span class='token' style='background-color: #ffffff'> �<span class='feature_val'> (0.00)</span></span><span class='token' style='background-color: #ffffff'>�<span class='feature_val'> (0.00)</span></span><span class='token' style='background-color: #ffffff'>The<span class='feature_val'> (0.00)</span></span><span class='token' style='background-color: #ffffff'> customer<span class='feature_val'> (0.00)</span></span><span class='token' style='background-color: #ffffff'> is<span class='feature_val'> (0.00)</span></span><span class='token' style='background-color: #ffffff'> always<span class='feature_val'> (0.00)</span></span><span class='token' style='background-color: #ffffff'> right<span class='feature_val'> (0.00)</span></span><span class='token' style='background-color: #ffffff'>�<span class='feature_val'> (0.00)</span></span><span class='token' style='background-color: #ffffff'>�<span class='feature_val'> (0.00)</span></span><span class='token' style='background-color: #ffffff'> mentality<span class='feature_val'> (0.00)</span></span><span class='token' style='background-color: #ffffff'> becomes<span class='feature_val'> (0.00)</span></span><span class='token' style='background-color: #ffffff'> even<span class='feature_val'> (0.00)</span></span><span class='token' style='background-color: #ffffff'> more<span class='feature_val'> (0.00)</span></span><span class='token' style='background-color: #ffffff'> personal<span class='feature_val'> (0.00)</span></span>"
      ],
      "text/plain": [
       "<IPython.core.display.HTML object>"
      ]
     },
     "metadata": {},
     "output_type": "display_data"
    },
    {
     "data": {
      "text/html": [
       "\n",
       "    <style>\n",
       "        span.token {\n",
       "            font-family: monospace;\n",
       "            border-style: solid;\n",
       "            border-width: 1px;\n",
       "            border-color: #dddddd;\n",
       "        }\n",
       "    </style>\n",
       "    <span class='token' style='background-color: #ffffff'>&lt;|endoftext|&gt;<span class='feature_val'> (0.00)</span></span><span class='token' style='background-color: #ffffff'> have<span class='feature_val'> (0.00)</span></span><span class='token' style='background-color: #ffffff'> the<span class='feature_val'> (0.00)</span></span><span class='token' style='background-color: #ffffff'> emerging<span class='feature_val'> (0.00)</span></span><span class='token' style='background-color: #ffffff'> talent<span class='feature_val'> (0.00)</span></span><span class='token' style='background-color: #ffffff'> to<span class='feature_val'> (0.00)</span></span><span class='token' style='background-color: #ffffff'> back<span class='feature_val'> (0.00)</span></span><span class='token' style='background-color: #ffffff'> it<span class='feature_val'> (0.00)</span></span><span class='token' style='background-color: #ffffff'> up<span class='feature_val'> (0.00)</span></span><span class='token' style='background-color: #ffffff'>.<span class='feature_val'> (0.00)</span></span><span class='token' style='background-color: #ffffff'> They<span class='feature_val'> (0.00)</span></span><span class='token' style='background-color: #ffffff'> are<span class='feature_val'> (0.00)</span></span><span class='token' style='background-color: #ffffff'> having<span class='feature_val'> (0.00)</span></span><span class='token' style='background-color: #ff8c00'> fun<span class='feature_val'> (24.03)</span></span><span class='token' style='background-color: #ffffff'> and<span class='feature_val'> (0.00)</span></span><span class='token' style='background-color: #ffffff'> playing<span class='feature_val'> (0.00)</span></span><span class='token' style='background-color: #ffffff'> with<span class='feature_val'> (0.00)</span></span><span class='token' style='background-color: #ffffff'> confidence<span class='feature_val'> (0.00)</span></span><span class='token' style='background-color: #ffffff'>.<span class='feature_val'> (0.00)</span></span><span class='token' style='background-color: #ffffff'> It<span class='feature_val'> (0.00)</span></span><span class='token' style='background-color: #ffffff'> appears<span class='feature_val'> (0.00)</span></span><span class='token' style='background-color: #ffffff'> that<span class='feature_val'> (0.00)</span></span><span class='token' style='background-color: #ffffff'> this<span class='feature_val'> (0.00)</span></span><span class='token' style='background-color: #ffffff'> August<span class='feature_val'> (0.00)</span></span><span class='token' style='background-color: #ffffff'> they<span class='feature_val'> (0.00)</span></span><span class='token' style='background-color: #ffffff'> are<span class='feature_val'> (0.00)</span></span><span class='token' style='background-color: #ffffff'> actually<span class='feature_val'> (0.00)</span></span><span class='token' style='background-color: #ffffff'> looking<span class='feature_val'> (0.00)</span></span><span class='token' style='background-color: #ffffff'> forward<span class='feature_val'> (0.00)</span></span><span class='token' style='background-color: #ffffff'> to<span class='feature_val'> (0.00)</span></span><span class='token' style='background-color: #ffffff'> going<span class='feature_val'> (0.00)</span></span><span class='token' style='background-color: #ffffff'> out<span class='feature_val'> (0.00)</span></span><span class='token' style='background-color: #ffffff'> there<span class='feature_val'> (0.00)</span></span><span class='token' style='background-color: #ffffff'> and<span class='feature_val'> (0.00)</span></span><span class='token' style='background-color: #ffffff'> competing<span class='feature_val'> (0.00)</span></span><span class='token' style='background-color: #ffffff'>.<span class='feature_val'> (0.00)</span></span><span class='token' style='background-color: #ffffff'>\n",
       "<span class='feature_val'> (0.00)</span></span><span class='token' style='background-color: #ffffff'>\n",
       "<span class='feature_val'> (0.00)</span></span><span class='token' style='background-color: #ffffff'>And<span class='feature_val'> (0.00)</span></span><span class='token' style='background-color: #ffffff'> I<span class='feature_val'> (0.00)</span></span><span class='token' style='background-color: #ffffff'>,<span class='feature_val'> (0.00)</span></span><span class='token' style='background-color: #ffffff'> for<span class='feature_val'> (0.00)</span></span><span class='token' style='background-color: #ffffff'> one<span class='feature_val'> (0.00)</span></span><span class='token' style='background-color: #ffffff'>,<span class='feature_val'> (0.00)</span></span><span class='token' style='background-color: #ffffff'> am<span class='feature_val'> (0.00)</span></span><span class='token' style='background-color: #ffffff'> looking<span class='feature_val'> (0.00)</span></span><span class='token' style='background-color: #ffffff'> forward<span class='feature_val'> (0.00)</span></span><span class='token' style='background-color: #ffffff'> to<span class='feature_val'> (0.00)</span></span><span class='token' style='background-color: #ffffff'> watching<span class='feature_val'> (0.00)</span></span><span class='token' style='background-color: #ffffff'> them<span class='feature_val'> (0.00)</span></span><span class='token' style='background-color: #ffffff'> do<span class='feature_val'> (0.00)</span></span><span class='token' style='background-color: #ffffff'> it<span class='feature_val'> (0.00)</span></span><span class='token' style='background-color: #ffffff'>.<span class='feature_val'> (0.00)</span></span><span class='token' style='background-color: #ffffff'>Advertisement<span class='feature_val'> (0.00)</span></span><span class='token' style='background-color: #ffffff'> Men<span class='feature_val'> (0.00)</span></span><span class='token' style='background-color: #ffffff'> accused<span class='feature_val'> (0.00)</span></span><span class='token' style='background-color: #ffffff'> of<span class='feature_val'> (0.00)</span></span><span class='token' style='background-color: #ffffff'> threatening<span class='feature_val'> (0.00)</span></span><span class='token' style='background-color: #ffffff'> Pokemon<span class='feature_val'> (0.00)</span></span><span class='token' style='background-color: #ffffff'> championships<span class='feature_val'> (0.00)</span></span><span class='token' style='background-color: #ffffff'> in<span class='feature_val'> (0.00)</span></span><span class='token' style='background-color: #ffffff'> court<span class='feature_val'> (0.00)</span></span><span class='token' style='background-color: #ffffff'> Kevin<span class='feature_val'> (0.00)</span></span><span class='token' style='background-color: #ffffff'> Norton<span class='feature_val'> (0.00)</span></span><span class='token' style='background-color: #ffffff'>,<span class='feature_val'> (0.00)</span></span><span class='token' style='background-color: #ffffff'> James<span class='feature_val'> (0.00)</span></span><span class='token' style='background-color: #ffffff'> St<span class='feature_val'> (0.00)</span></span><span class='token' style='background-color: #ffffff'>umbo<span class='feature_val'> (0.00)</span></span><span class='token' style='background-color: #ffffff'>,<span class='feature_val'> (0.00)</span></span><span class='token' style='background-color: #ffffff'> both<span class='feature_val'> (0.00)</span></span><span class='token' style='background-color: #ffffff'> of<span class='feature_val'> (0.00)</span></span><span class='token' style='background-color: #ffffff'> Iowa<span class='feature_val'> (0.00)</span></span><span class='token' style='background-color: #ffffff'>,<span class='feature_val'> (0.00)</span></span><span class='token' style='background-color: #ffffff'> held<span class='feature_val'> (0.00)</span></span><span class='token' style='background-color: #ffffff'> on<span class='feature_val'> (0.00)</span></span><span class='token' style='background-color: #ffffff'> bail<span class='feature_val'> (0.00)</span></span><span class='token' style='background-color: #ffffff'> Share<span class='feature_val'> (0.00)</span></span><span class='token' style='background-color: #ffffff'> Shares<span class='feature_val'> (0.00)</span></span><span class='token' style='background-color: #ffffff'> Copy<span class='feature_val'> (0.00)</span></span><span class='token' style='background-color: #ffffff'> Link<span class='feature_val'> (0.00)</span></span><span class='token' style='background-color: #ffffff'> Copy<span class='feature_val'> (0.00)</span></span><span class='token' style='background-color: #ffffff'>\n",
       "<span class='feature_val'> (0.00)</span></span><span class='token' style='background-color: #ffffff'>\n",
       "<span class='feature_val'> (0.00)</span></span><span class='token' style='background-color: #ffffff'>Two<span class='feature_val'> (0.00)</span></span><span class='token' style='background-color: #ffffff'> Iowa<span class='feature_val'> (0.00)</span></span><span class='token' style='background-color: #ffffff'> men<span class='feature_val'> (0.00)</span></span><span class='token' style='background-color: #ffffff'> charged<span class='feature_val'> (0.00)</span></span><span class='token' style='background-color: #ffffff'> with<span class='feature_val'> (0.00)</span></span><span class='token' style='background-color: #ffffff'> threatening<span class='feature_val'> (0.00)</span></span><span class='token' style='background-color: #ffffff'> violence<span class='feature_val'> (0.00)</span></span><span class='token' style='background-color: #ffffff'> at<span class='feature_val'> (0.00)</span></span><span class='token' style='background-color: #ffffff'> a<span class='feature_val'> (0.00)</span></span><span class='token' style='background-color: #ffffff'> Pokemon<span class='feature_val'> (0.00)</span></span><span class='token' style='background-color: #ffffff'> competition<span class='feature_val'> (0.00)</span></span><span class='token' style='background-color: #ffffff'> in<span class='feature_val'> (0.00)</span></span><span class='token' style='background-color: #ffffff'> Boston<span class='feature_val'> (0.00)</span></span><span class='token' style='background-color: #ffffff'> were<span class='feature_val'> (0.00)</span></span><span class='token' style='background-color: #ffffff'> ordered<span class='feature_val'> (0.00)</span></span><span class='token' style='background-color: #ffffff'> held<span class='feature_val'> (0.00)</span></span><span class='token' style='background-color: #ffffff'> Tuesday<span class='feature_val'> (0.00)</span></span><span class='token' style='background-color: #ffffff'> on<span class='feature_val'> (0.00)</span></span><span class='token' style='background-color: #ffffff'> $<span class='feature_val'> (0.00)</span></span><span class='token' style='background-color: #ffffff'>150<span class='feature_val'> (0.00)</span></span><span class='token' style='background-color: #ffffff'>,<span class='feature_val'> (0.00)</span></span><span class='token' style='background-color: #ffffff'>000<span class='feature_val'> (0.00)</span></span><span class='token' style='background-color: #ffffff'> bail<span class='feature_val'> (0.00)</span></span><span class='token' style='background-color: #ffffff'>.<span class='feature_val'> (0.00)</span></span><span class='token' style='background-color: #ffffff'>Kevin<span class='feature_val'> (0.00)</span></span><span class='token' style='background-color: #ffffff'> Norton<span class='feature_val'> (0.00)</span></span><span class='token' style='background-color: #ffffff'>,<span class='feature_val'> (0.00)</span></span><span class='token' style='background-color: #ffffff'> 18<span class='feature_val'> (0.00)</span></span><span class='token' style='background-color: #ffffff'>,<span class='feature_val'> (0.00)</span></span><span class='token' style='background-color: #ffffff'> of<span class='feature_val'> (0.00)</span></span><span class='token' style='background-color: #ffffff'> Ames<span class='feature_val'> (0.00)</span></span><span class='token' style='background-color: #ffffff'>,<span class='feature_val'> (0.00)</span></span><span class='token' style='background-color: #ffffff'> and<span class='feature_val'> (0.00)</span></span><span class='token' style='background-color: #ffffff'> James<span class='feature_val'> (0.00)</span></span><span class='token' style='background-color: #ffffff'> St<span class='feature_val'> (0.00)</span></span><span class='token' style='background-color: #ffffff'>umbo<span class='feature_val'> (0.00)</span></span><span class='token' style='background-color: #ffffff'>,<span class='feature_val'> (0.00)</span></span><span class='token' style='background-color: #ffffff'> 27<span class='feature_val'> (0.00)</span></span><span class='token' style='background-color: #ffffff'>,<span class='feature_val'> (0.00)</span></span><span class='token' style='background-color: #ffffff'> of<span class='feature_val'> (0.00)</span></span><span class='token' style='background-color: #ffffff'> Boone<span class='feature_val'> (0.00)</span></span><span class='token' style='background-color: #ffffff'>,<span class='feature_val'> (0.00)</span></span><span class='token' style='background-color: #ffffff'> pleaded<span class='feature_val'> (0.00)</span></span><span class='token' style='background-color: #ffffff'> not<span class='feature_val'> (0.00)</span></span><span class='token' style='background-color: #ffffff'> guilty<span class='feature_val'> (0.00)</span></span>"
      ],
      "text/plain": [
       "<IPython.core.display.HTML object>"
      ]
     },
     "metadata": {},
     "output_type": "display_data"
    },
    {
     "data": {
      "text/html": [
       "\n",
       "    <style>\n",
       "        span.token {\n",
       "            font-family: monospace;\n",
       "            border-style: solid;\n",
       "            border-width: 1px;\n",
       "            border-color: #dddddd;\n",
       "        }\n",
       "    </style>\n",
       "    <span class='token' style='background-color: #ffffff'>&lt;|endoftext|&gt;<span class='feature_val'> (0.00)</span></span><span class='token' style='background-color: #ffffff'> as<span class='feature_val'> (0.00)</span></span><span class='token' style='background-color: #ffffff'> carriers<span class='feature_val'> (0.00)</span></span><span class='token' style='background-color: #ffffff'>/<span class='feature_val'> (0.00)</span></span><span class='token' style='background-color: #ffffff'>f<span class='feature_val'> (0.00)</span></span><span class='token' style='background-color: #ffffff'>ert<span class='feature_val'> (0.00)</span></span><span class='token' style='background-color: #ffffff'>il<span class='feature_val'> (0.00)</span></span><span class='token' style='background-color: #ffffff'>izer<span class='feature_val'> (0.00)</span></span><span class='token' style='background-color: #ffffff'> to<span class='feature_val'> (0.00)</span></span><span class='token' style='background-color: #ffffff'> spread<span class='feature_val'> (0.00)</span></span><span class='token' style='background-color: #ffffff'> its<span class='feature_val'> (0.00)</span></span><span class='token' style='background-color: #ff8c00'> fun<span class='feature_val'> (23.95)</span></span><span class='token' style='background-color: #ffffff'>gal<span class='feature_val'> (0.00)</span></span><span class='token' style='background-color: #ffffff'> seed<span class='feature_val'> (0.00)</span></span><span class='token' style='background-color: #ffffff'>.<span class='feature_val'> (0.00)</span></span><span class='token' style='background-color: #ffffff'> While<span class='feature_val'> (0.00)</span></span><span class='token' style='background-color: #ffffff'> it<span class='feature_val'> (0.00)</span></span><span class='token' style='background-color: #ffffff'> had<span class='feature_val'> (0.00)</span></span><span class='token' style='background-color: #ffffff'> accelerated<span class='feature_val'> (0.00)</span></span><span class='token' style='background-color: #ffffff'> reg<span class='feature_val'> (0.00)</span></span><span class='token' style='background-color: #ffffff'>rowth<span class='feature_val'> (0.00)</span></span><span class='token' style='background-color: #ffffff'> and<span class='feature_val'> (0.00)</span></span><span class='token' style='background-color: #ffffff'> nature<span class='feature_val'> (0.00)</span></span><span class='token' style='background-color: #ffffff'> reclaim<span class='feature_val'> (0.00)</span></span><span class='token' style='background-color: #ffffff'>ing<span class='feature_val'> (0.00)</span></span><span class='token' style='background-color: #ffffff'> the<span class='feature_val'> (0.00)</span></span><span class='token' style='background-color: #ffffff'> wasteland<span class='feature_val'> (0.00)</span></span><span class='token' style='background-color: #ffffff'>,<span class='feature_val'> (0.00)</span></span><span class='token' style='background-color: #ffffff'> the<span class='feature_val'> (0.00)</span></span><span class='token' style='background-color: #ffffff'> fact<span class='feature_val'> (0.00)</span></span><span class='token' style='background-color: #ffffff'> it<span class='feature_val'> (0.00)</span></span><span class='token' style='background-color: #ffffff'> was<span class='feature_val'> (0.00)</span></span><span class='token' style='background-color: #ffffff'> irrad<span class='feature_val'> (0.00)</span></span><span class='token' style='background-color: #ffffff'>iated<span class='feature_val'> (0.00)</span></span><span class='token' style='background-color: #ffffff'> meant<span class='feature_val'> (0.00)</span></span><span class='token' style='background-color: #ffffff'> it<span class='feature_val'> (0.00)</span></span><span class='token' style='background-color: #ffffff'> also<span class='feature_val'> (0.00)</span></span><span class='token' style='background-color: #ffffff'> began<span class='feature_val'> (0.00)</span></span><span class='token' style='background-color: #ffffff'> to<span class='feature_val'> (0.00)</span></span><span class='token' style='background-color: #ffffff'> wipe<span class='feature_val'> (0.00)</span></span><span class='token' style='background-color: #ffffff'> out<span class='feature_val'> (0.00)</span></span><span class='token' style='background-color: #ffffff'> humans<span class='feature_val'> (0.00)</span></span><span class='token' style='background-color: #ffffff'>.<span class='feature_val'> (0.00)</span></span><span class='token' style='background-color: #ffffff'> The<span class='feature_val'> (0.00)</span></span><span class='token' style='background-color: #ffffff'> Mid<span class='feature_val'> (0.00)</span></span><span class='token' style='background-color: #ffffff'>western<span class='feature_val'> (0.00)</span></span><span class='token' style='background-color: #ffffff'> Brotherhood<span class='feature_val'> (0.00)</span></span><span class='token' style='background-color: #ffffff'> of<span class='feature_val'> (0.00)</span></span><span class='token' style='background-color: #ffffff'> Steel<span class='feature_val'> (0.00)</span></span><span class='token' style='background-color: #ffffff'> had<span class='feature_val'> (0.00)</span></span><span class='token' style='background-color: #ffffff'> also<span class='feature_val'> (0.00)</span></span><span class='token' style='background-color: #ffffff'> gained<span class='feature_val'> (0.00)</span></span><span class='token' style='background-color: #ffffff'> a<span class='feature_val'> (0.00)</span></span><span class='token' style='background-color: #ffffff'> foothold<span class='feature_val'> (0.00)</span></span><span class='token' style='background-color: #ffffff'> in<span class='feature_val'> (0.00)</span></span><span class='token' style='background-color: #ffffff'> Florida<span class='feature_val'> (0.00)</span></span><span class='token' style='background-color: #ffffff'>.<span class='feature_val'> (0.00)</span></span><span class='token' style='background-color: #ffffff'> Mutant<span class='feature_val'> (0.00)</span></span><span class='token' style='background-color: #ffffff'> crocod<span class='feature_val'> (0.00)</span></span><span class='token' style='background-color: #ffffff'>iles<span class='feature_val'> (0.00)</span></span><span class='token' style='background-color: #ffffff'> were<span class='feature_val'> (0.00)</span></span><span class='token' style='background-color: #ffffff'> some<span class='feature_val'> (0.00)</span></span><span class='token' style='background-color: #ffffff'> of<span class='feature_val'> (0.00)</span></span><span class='token' style='background-color: #ffffff'> the<span class='feature_val'> (0.00)</span></span><span class='token' style='background-color: #ffffff'> forms<span class='feature_val'> (0.00)</span></span><span class='token' style='background-color: #ffffff'> of<span class='feature_val'> (0.00)</span></span><span class='token' style='background-color: #ffffff'> regional<span class='feature_val'> (0.00)</span></span><span class='token' style='background-color: #ffffff'> wildlife<span class='feature_val'> (0.00)</span></span><span class='token' style='background-color: #ffffff'>.<span class='feature_val'> (0.00)</span></span><span class='token' style='background-color: #ffffff'>\n",
       "<span class='feature_val'> (0.00)</span></span><span class='token' style='background-color: #ffffff'>\n",
       "<span class='feature_val'> (0.00)</span></span><span class='token' style='background-color: #ffffff'>Fall<span class='feature_val'> (0.00)</span></span><span class='token' style='background-color: #ffffff'>out<span class='feature_val'> (0.00)</span></span><span class='token' style='background-color: #ffffff'> Tactics<span class='feature_val'> (0.00)</span></span><span class='token' style='background-color: #ffffff'> 2<span class='feature_val'> (0.00)</span></span><span class='token' style='background-color: #ffffff'>.<span class='feature_val'> (0.00)</span></span><span class='token' style='background-color: #ffffff'> End<span class='feature_val'> (0.00)</span></span><span class='token' style='background-color: #ffffff'> of<span class='feature_val'> (0.00)</span></span><span class='token' style='background-color: #ffffff'> information<span class='feature_val'> (0.00)</span></span><span class='token' style='background-color: #ffffff'> based<span class='feature_val'> (0.00)</span></span><span class='token' style='background-color: #ffffff'> on<span class='feature_val'> (0.00)</span></span><span class='token' style='background-color: #ffffff'>\n",
       "<span class='feature_val'> (0.00)</span></span><span class='token' style='background-color: #ffffff'>\n",
       "<span class='feature_val'> (0.00)</span></span><span class='token' style='background-color: #ffffff'>Former<span class='feature_val'> (0.00)</span></span><span class='token' style='background-color: #ffffff'> Mississippi<span class='feature_val'> (0.00)</span></span><span class='token' style='background-color: #ffffff'> Edit<span class='feature_val'> (0.00)</span></span><span class='token' style='background-color: #ffffff'>\n",
       "<span class='feature_val'> (0.00)</span></span><span class='token' style='background-color: #ffffff'>\n",
       "<span class='feature_val'> (0.00)</span></span><span class='token' style='background-color: #ffffff'>Not<span class='feature_val'> (0.00)</span></span><span class='token' style='background-color: #ffffff'> much<span class='feature_val'> (0.00)</span></span><span class='token' style='background-color: #ffffff'> is<span class='feature_val'> (0.00)</span></span><span class='token' style='background-color: #ffffff'> known<span class='feature_val'> (0.00)</span></span><span class='token' style='background-color: #ffffff'> about<span class='feature_val'> (0.00)</span></span><span class='token' style='background-color: #ffffff'> this<span class='feature_val'> (0.00)</span></span><span class='token' style='background-color: #ffffff'> area<span class='feature_val'> (0.00)</span></span><span class='token' style='background-color: #ffffff'> other<span class='feature_val'> (0.00)</span></span><span class='token' style='background-color: #ffffff'> than<span class='feature_val'> (0.00)</span></span><span class='token' style='background-color: #ffffff'> a<span class='feature_val'> (0.00)</span></span><span class='token' style='background-color: #ffffff'> pre<span class='feature_val'> (0.00)</span></span><span class='token' style='background-color: #ffffff'>-<span class='feature_val'> (0.00)</span></span><span class='token' style='background-color: #ffffff'>War<span class='feature_val'> (0.00)</span></span><span class='token' style='background-color: #ffffff'> military<span class='feature_val'> (0.00)</span></span><span class='token' style='background-color: #ffffff'> supply<span class='feature_val'> (0.00)</span></span><span class='token' style='background-color: #ffffff'> yard<span class='feature_val'> (0.00)</span></span><span class='token' style='background-color: #ffffff'> that<span class='feature_val'> (0.00)</span></span><span class='token' style='background-color: #ffffff'> existed<span class='feature_val'> (0.00)</span></span><span class='token' style='background-color: #ffffff'> somewhere<span class='feature_val'> (0.00)</span></span><span class='token' style='background-color: #ffffff'> in<span class='feature_val'> (0.00)</span></span><span class='token' style='background-color: #ffffff'> the<span class='feature_val'> (0.00)</span></span><span class='token' style='background-color: #ffffff'> former<span class='feature_val'> (0.00)</span></span><span class='token' style='background-color: #ffffff'> state<span class='feature_val'> (0.00)</span></span><span class='token' style='background-color: #ffffff'>.<span class='feature_val'> (0.00)</span></span><span class='token' style='background-color: #ffffff'> It<span class='feature_val'> (0.00)</span></span><span class='token' style='background-color: #ffffff'> is<span class='feature_val'> (0.00)</span></span><span class='token' style='background-color: #ffffff'> mentioned<span class='feature_val'> (0.00)</span></span><span class='token' style='background-color: #ffffff'> in<span class='feature_val'> (0.00)</span></span><span class='token' style='background-color: #ffffff'> General<span class='feature_val'> (0.00)</span></span><span class='token' style='background-color: #ffffff'> Brock<span class='feature_val'> (0.00)</span></span><span class='token' style='background-color: #ffffff'>&#x27;s<span class='feature_val'> (0.00)</span></span><span class='token' style='background-color: #ffffff'> terminal<span class='feature_val'> (0.00)</span></span><span class='token' style='background-color: #ffffff'> at<span class='feature_val'> (0.00)</span></span><span class='token' style='background-color: #ffffff'> Fort<span class='feature_val'> (0.00)</span></span><span class='token' style='background-color: #ffffff'> Strong<span class='feature_val'> (0.00)</span></span><span class='token' style='background-color: #ffffff'> as<span class='feature_val'> (0.00)</span></span><span class='token' style='background-color: #ffffff'> being<span class='feature_val'> (0.00)</span></span><span class='token' style='background-color: #ffffff'> a<span class='feature_val'> (0.00)</span></span><span class='token' style='background-color: #ffffff'> location<span class='feature_val'> (0.00)</span></span><span class='token' style='background-color: #ffffff'> where<span class='feature_val'> (0.00)</span></span>"
      ],
      "text/plain": [
       "<IPython.core.display.HTML object>"
      ]
     },
     "metadata": {},
     "output_type": "display_data"
    },
    {
     "data": {
      "text/html": [
       "\n",
       "    <style>\n",
       "        span.token {\n",
       "            font-family: monospace;\n",
       "            border-style: solid;\n",
       "            border-width: 1px;\n",
       "            border-color: #dddddd;\n",
       "        }\n",
       "    </style>\n",
       "    <span class='token' style='background-color: #ffffff'>&lt;|endoftext|&gt;<span class='feature_val'> (0.00)</span></span><span class='token' style='background-color: #ffffff'> bir<span class='feature_val'> (0.00)</span></span><span class='token' style='background-color: #ffffff'>ther<span class='feature_val'> (0.00)</span></span><span class='token' style='background-color: #ffffff'>ist<span class='feature_val'> (0.00)</span></span><span class='token' style='background-color: #ff8c00'> fun<span class='feature_val'> (23.94)</span></span><span class='token' style='background-color: #ffffff'> house<span class='feature_val'> (0.00)</span></span><span class='token' style='background-color: #ffffff'>,<span class='feature_val'> (0.00)</span></span><span class='token' style='background-color: #ffffff'> his<span class='feature_val'> (0.00)</span></span><span class='token' style='background-color: #ffffff'> ph<span class='feature_val'> (0.00)</span></span><span class='token' style='background-color: #ffffff'>ant<span class='feature_val'> (0.00)</span></span><span class='token' style='background-color: #ffffff'>asm<span class='feature_val'> (0.00)</span></span><span class='token' style='background-color: #ffffff'>ag<span class='feature_val'> (0.00)</span></span><span class='token' style='background-color: #ffffff'>oric<span class='feature_val'> (0.00)</span></span><span class='token' style='background-color: #ffffff'> ev<span class='feature_val'> (0.00)</span></span><span class='token' style='background-color: #ffffff'>ocation<span class='feature_val'> (0.00)</span></span><span class='token' style='background-color: #ffffff'> of<span class='feature_val'> (0.00)</span></span><span class='token' style='background-color: #ffffff'> Jersey<span class='feature_val'> (0.00)</span></span><span class='token' style='background-color: #ffffff'> City<span class='feature_val'> (0.00)</span></span><span class='token' style='background-color: #ffffff'> Muslims<span class='feature_val'> (0.00)</span></span><span class='token' style='background-color: #ffffff'> cheering<span class='feature_val'> (0.00)</span></span><span class='token' style='background-color: #ffffff'> the<span class='feature_val'> (0.00)</span></span><span class='token' style='background-color: #ffffff'> destruction<span class='feature_val'> (0.00)</span></span><span class='token' style='background-color: #ffffff'> of<span class='feature_val'> (0.00)</span></span><span class='token' style='background-color: #ffffff'> the<span class='feature_val'> (0.00)</span></span><span class='token' style='background-color: #ffffff'> Twin<span class='feature_val'> (0.00)</span></span><span class='token' style='background-color: #ffffff'> Towers<span class='feature_val'> (0.00)</span></span><span class='token' style='background-color: #ffffff'>,<span class='feature_val'> (0.00)</span></span><span class='token' style='background-color: #ffffff'> his<span class='feature_val'> (0.00)</span></span><span class='token' style='background-color: #ffffff'> baseless<span class='feature_val'> (0.00)</span></span><span class='token' style='background-color: #ffffff'> insin<span class='feature_val'> (0.00)</span></span><span class='token' style='background-color: #ffffff'>uation<span class='feature_val'> (0.00)</span></span><span class='token' style='background-color: #ffffff'> that<span class='feature_val'> (0.00)</span></span><span class='token' style='background-color: #ffffff'> an<span class='feature_val'> (0.00)</span></span><span class='token' style='background-color: #ffffff'> opponent<span class='feature_val'> (0.00)</span></span><span class='token' style='background-color: #ffffff'>�<span class='feature_val'> (0.00)</span></span><span class='token' style='background-color: #ffffff'>�<span class='feature_val'> (0.00)</span></span><span class='token' style='background-color: #ffffff'>s<span class='feature_val'> (0.00)</span></span><span class='token' style='background-color: #ffffff'> father<span class='feature_val'> (0.00)</span></span><span class='token' style='background-color: #ffffff'> ab<span class='feature_val'> (0.00)</span></span><span class='token' style='background-color: #ffffff'>et<span class='feature_val'> (0.00)</span></span><span class='token' style='background-color: #ffffff'>ted<span class='feature_val'> (0.00)</span></span><span class='token' style='background-color: #ffffff'> the<span class='feature_val'> (0.00)</span></span><span class='token' style='background-color: #ffffff'> assassination<span class='feature_val'> (0.00)</span></span><span class='token' style='background-color: #ffffff'> of<span class='feature_val'> (0.00)</span></span><span class='token' style='background-color: #ffffff'> John<span class='feature_val'> (0.00)</span></span><span class='token' style='background-color: #ffffff'> F<span class='feature_val'> (0.00)</span></span><span class='token' style='background-color: #ffffff'>.<span class='feature_val'> (0.00)</span></span><span class='token' style='background-color: #ffffff'> Kennedy<span class='feature_val'> (0.00)</span></span><span class='token' style='background-color: #ffffff'>,<span class='feature_val'> (0.00)</span></span><span class='token' style='background-color: #ffffff'> his<span class='feature_val'> (0.00)</span></span><span class='token' style='background-color: #ffffff'> contempt<span class='feature_val'> (0.00)</span></span><span class='token' style='background-color: #ffffff'>uous<span class='feature_val'> (0.00)</span></span><span class='token' style='background-color: #ffffff'> confidence<span class='feature_val'> (0.00)</span></span><span class='token' style='background-color: #ffffff'> that<span class='feature_val'> (0.00)</span></span><span class='token' style='background-color: #ffffff'> Mexico<span class='feature_val'> (0.00)</span></span><span class='token' style='background-color: #ffffff'> would<span class='feature_val'> (0.00)</span></span><span class='token' style='background-color: #ffffff'> pay<span class='feature_val'> (0.00)</span></span><span class='token' style='background-color: #ffffff'> for<span class='feature_val'> (0.00)</span></span><span class='token' style='background-color: #ffffff'> the<span class='feature_val'> (0.00)</span></span><span class='token' style='background-color: #ffffff'> wall<span class='feature_val'> (0.00)</span></span><span class='token' style='background-color: #ffffff'> he<span class='feature_val'> (0.00)</span></span><span class='token' style='background-color: #ffffff'> would<span class='feature_val'> (0.00)</span></span><span class='token' style='background-color: #ffffff'> build<span class='feature_val'> (0.00)</span></span><span class='token' style='background-color: #ffffff'> to<span class='feature_val'> (0.00)</span></span><span class='token' style='background-color: #ffffff'> cut<span class='feature_val'> (0.00)</span></span><span class='token' style='background-color: #ffffff'> it<span class='feature_val'> (0.00)</span></span><span class='token' style='background-color: #ffffff'> off<span class='feature_val'> (0.00)</span></span><span class='token' style='background-color: #ffffff'> from<span class='feature_val'> (0.00)</span></span><span class='token' style='background-color: #ffffff'> the<span class='feature_val'> (0.00)</span></span><span class='token' style='background-color: #ffffff'> United<span class='feature_val'> (0.00)</span></span><span class='token' style='background-color: #ffffff'> States<span class='feature_val'> (0.00)</span></span><span class='token' style='background-color: #ffffff'>,<span class='feature_val'> (0.00)</span></span><span class='token' style='background-color: #ffffff'> and<span class='feature_val'> (0.00)</span></span><span class='token' style='background-color: #ffffff'> his<span class='feature_val'> (0.00)</span></span><span class='token' style='background-color: #ffffff'> jaw<span class='feature_val'> (0.00)</span></span><span class='token' style='background-color: #ffffff'>-<span class='feature_val'> (0.00)</span></span><span class='token' style='background-color: #ffffff'>dropping<span class='feature_val'> (0.00)</span></span><span class='token' style='background-color: #ffffff'> assertion<span class='feature_val'> (0.00)</span></span><span class='token' style='background-color: #ffffff'> that<span class='feature_val'> (0.00)</span></span><span class='token' style='background-color: #ffffff'> President<span class='feature_val'> (0.00)</span></span><span class='token' style='background-color: #ffffff'> Obama<span class='feature_val'> (0.00)</span></span><span class='token' style='background-color: #ffffff'> was<span class='feature_val'> (0.00)</span></span><span class='token' style='background-color: #ffffff'> �<span class='feature_val'> (0.00)</span></span><span class='token' style='background-color: #ffffff'>�<span class='feature_val'> (0.00)</span></span><span class='token' style='background-color: #ffffff'>the<span class='feature_val'> (0.00)</span></span><span class='token' style='background-color: #ffffff'> founder<span class='feature_val'> (0.00)</span></span><span class='token' style='background-color: #ffffff'>�<span class='feature_val'> (0.00)</span></span><span class='token' style='background-color: #ffffff'>�<span class='feature_val'> (0.00)</span></span><span class='token' style='background-color: #ffffff'> of<span class='feature_val'> (0.00)</span></span><span class='token' style='background-color: #ffffff'> ISIS<span class='feature_val'> (0.00)</span></span><span class='token' style='background-color: #ffffff'>,<span class='feature_val'> (0.00)</span></span><span class='token' style='background-color: #ffffff'> to<span class='feature_val'> (0.00)</span></span><span class='token' style='background-color: #ffffff'> mention<span class='feature_val'> (0.00)</span></span><span class='token' style='background-color: #ffffff'> only<span class='feature_val'> (0.00)</span></span><span class='token' style='background-color: #ffffff'> a<span class='feature_val'> (0.00)</span></span><span class='token' style='background-color: #ffffff'> few<span class='feature_val'> (0.00)</span></span><span class='token' style='background-color: #ffffff'> of<span class='feature_val'> (0.00)</span></span><span class='token' style='background-color: #ffffff'> his<span class='feature_val'> (0.00)</span></span><span class='token' style='background-color: #ffffff'> lun<span class='feature_val'> (0.00)</span></span><span class='token' style='background-color: #ffffff'>atic<span class='feature_val'> (0.00)</span></span><span class='token' style='background-color: #ffffff'> rav<span class='feature_val'> (0.00)</span></span><span class='token' style='background-color: #ffffff'>ings<span class='feature_val'> (0.00)</span></span><span class='token' style='background-color: #ffffff'>—<span class='feature_val'> (0.00)</span></span><span class='token' style='background-color: #ffffff'>the<span class='feature_val'> (0.00)</span></span><span class='token' style='background-color: #ffffff'> mind<span class='feature_val'> (0.00)</span></span><span class='token' style='background-color: #ffffff'> b<span class='feature_val'> (0.00)</span></span><span class='token' style='background-color: #ffffff'>oggles<span class='feature_val'> (0.00)</span></span><span class='token' style='background-color: #ffffff'> at<span class='feature_val'> (0.00)</span></span><span class='token' style='background-color: #ffffff'> the<span class='feature_val'> (0.00)</span></span><span class='token' style='background-color: #ffffff'> me<span class='feature_val'> (0.00)</span></span><span class='token' style='background-color: #ffffff'>rest<span class='feature_val'> (0.00)</span></span><span class='token' style='background-color: #ffffff'> enumer<span class='feature_val'> (0.00)</span></span><span class='token' style='background-color: #ffffff'>ation<span class='feature_val'> (0.00)</span></span><span class='token' style='background-color: #ffffff'>.<span class='feature_val'> (0.00)</span></span><span class='token' style='background-color: #ffffff'> Yet<span class='feature_val'> (0.00)</span></span><span class='token' style='background-color: #ffffff'> this<span class='feature_val'> (0.00)</span></span><span class='token' style='background-color: #ffffff'> man<span class='feature_val'> (0.00)</span></span><span class='token' style='background-color: #ffffff'> is<span class='feature_val'> (0.00)</span></span><span class='token' style='background-color: #ffffff'> to<span class='feature_val'> (0.00)</span></span><span class='token' style='background-color: #ffffff'> become<span class='feature_val'> (0.00)</span></span><span class='token' style='background-color: #ffffff'> the<span class='feature_val'> (0.00)</span></span><span class='token' style='background-color: #ffffff'> President<span class='feature_val'> (0.00)</span></span><span class='token' style='background-color: #ffffff'> of<span class='feature_val'> (0.00)</span></span><span class='token' style='background-color: #ffffff'> the<span class='feature_val'> (0.00)</span></span><span class='token' style='background-color: #ffffff'> United<span class='feature_val'> (0.00)</span></span><span class='token' style='background-color: #ffffff'> States<span class='feature_val'> (0.00)</span></span><span class='token' style='background-color: #ffffff'>.<span class='feature_val'> (0.00)</span></span><span class='token' style='background-color: #ffffff'>\n",
       "<span class='feature_val'> (0.00)</span></span>"
      ],
      "text/plain": [
       "<IPython.core.display.HTML object>"
      ]
     },
     "metadata": {},
     "output_type": "display_data"
    },
    {
     "data": {
      "text/html": [
       "\n",
       "    <style>\n",
       "        span.token {\n",
       "            font-family: monospace;\n",
       "            border-style: solid;\n",
       "            border-width: 1px;\n",
       "            border-color: #dddddd;\n",
       "        }\n",
       "    </style>\n",
       "    <span class='token' style='background-color: #ffffff'>&lt;|endoftext|&gt;<span class='feature_val'> (0.00)</span></span><span class='token' style='background-color: #ffffff'>.<span class='feature_val'> (0.00)</span></span><span class='token' style='background-color: #ffffff'>\n",
       "<span class='feature_val'> (0.00)</span></span><span class='token' style='background-color: #ffffff'>\n",
       "<span class='feature_val'> (0.00)</span></span><span class='token' style='background-color: #ffffff'>The<span class='feature_val'> (0.00)</span></span><span class='token' style='background-color: #ffffff'> social<span class='feature_val'> (0.00)</span></span><span class='token' style='background-color: #ffffff'> networking<span class='feature_val'> (0.00)</span></span><span class='token' style='background-color: #ffffff'> site<span class='feature_val'> (0.00)</span></span><span class='token' style='background-color: #ffffff'>�<span class='feature_val'> (0.00)</span></span><span class='token' style='background-color: #ffffff'>�<span class='feature_val'> (0.00)</span></span><span class='token' style='background-color: #ffffff'>s<span class='feature_val'> (0.00)</span></span><span class='token' style='background-color: #ffffff'> new<span class='feature_val'> (0.00)</span></span><span class='token' style='background-color: #ffffff'> location<span class='feature_val'> (0.00)</span></span><span class='token' style='background-color: #ffffff'>-<span class='feature_val'> (0.00)</span></span><span class='token' style='background-color: #ffffff'>based<span class='feature_val'> (0.00)</span></span><span class='token' style='background-color: #ffffff'> feature<span class='feature_val'> (0.00)</span></span><span class='token' style='background-color: #ffffff'> ,<span class='feature_val'> (0.00)</span></span><span class='token' style='background-color: #ffffff'> dubbed<span class='feature_val'> (0.00)</span></span><span class='token' style='background-color: #ffffff'> Places<span class='feature_val'> (0.00)</span></span><span class='token' style='background-color: #ffffff'>,<span class='feature_val'> (0.00)</span></span><span class='token' style='background-color: #ffffff'> was<span class='feature_val'> (0.00)</span></span><span class='token' style='background-color: #ffffff'> unveiled<span class='feature_val'> (0.00)</span></span><span class='token' style='background-color: #ffffff'> last<span class='feature_val'> (0.00)</span></span><span class='token' style='background-color: #ffffff'> week<span class='feature_val'> (0.00)</span></span><span class='token' style='background-color: #ffffff'>.<span class='feature_val'> (0.00)</span></span><span class='token' style='background-color: #ffffff'> The<span class='feature_val'> (0.00)</span></span><span class='token' style='background-color: #ffffff'> smartphone<span class='feature_val'> (0.00)</span></span><span class='token' style='background-color: #ffffff'> -<span class='feature_val'> (0.00)</span></span><span class='token' style='background-color: #ffffff'>based<span class='feature_val'> (0.00)</span></span><span class='token' style='background-color: #ffffff'> service<span class='feature_val'> (0.00)</span></span><span class='token' style='background-color: #ffffff'> is<span class='feature_val'> (0.00)</span></span><span class='token' style='background-color: #ffffff'> designed<span class='feature_val'> (0.00)</span></span><span class='token' style='background-color: #ffffff'> to<span class='feature_val'> (0.00)</span></span><span class='token' style='background-color: #ffffff'> let<span class='feature_val'> (0.00)</span></span><span class='token' style='background-color: #ffffff'> users<span class='feature_val'> (0.00)</span></span><span class='token' style='background-color: #ffffff'> tell<span class='feature_val'> (0.00)</span></span><span class='token' style='background-color: #ffffff'> their<span class='feature_val'> (0.00)</span></span><span class='token' style='background-color: #ffffff'> friends<span class='feature_val'> (0.00)</span></span><span class='token' style='background-color: #ffffff'> where<span class='feature_val'> (0.00)</span></span><span class='token' style='background-color: #ffffff'> they<span class='feature_val'> (0.00)</span></span><span class='token' style='background-color: #ffffff'> are<span class='feature_val'> (0.00)</span></span><span class='token' style='background-color: #ffffff'>,<span class='feature_val'> (0.00)</span></span><span class='token' style='background-color: #ffffff'> while<span class='feature_val'> (0.00)</span></span><span class='token' style='background-color: #ffffff'> also<span class='feature_val'> (0.00)</span></span><span class='token' style='background-color: #ffffff'> helping<span class='feature_val'> (0.00)</span></span><span class='token' style='background-color: #ffffff'> them<span class='feature_val'> (0.00)</span></span><span class='token' style='background-color: #ffffff'> track<span class='feature_val'> (0.00)</span></span><span class='token' style='background-color: #ffffff'> their<span class='feature_val'> (0.00)</span></span><span class='token' style='background-color: #ffffff'> own<span class='feature_val'> (0.00)</span></span><span class='token' style='background-color: #ffffff'> friends<span class='feature_val'> (0.00)</span></span><span class='token' style='background-color: #ffffff'>.<span class='feature_val'> (0.00)</span></span><span class='token' style='background-color: #ffffff'> The<span class='feature_val'> (0.00)</span></span><span class='token' style='background-color: #ffffff'> service<span class='feature_val'> (0.00)</span></span><span class='token' style='background-color: #ffffff'> also<span class='feature_val'> (0.00)</span></span><span class='token' style='background-color: #ffffff'> enables<span class='feature_val'> (0.00)</span></span><span class='token' style='background-color: #ffffff'> users<span class='feature_val'> (0.00)</span></span><span class='token' style='background-color: #ffffff'> to<span class='feature_val'> (0.00)</span></span><span class='token' style='background-color: #ffffff'> give<span class='feature_val'> (0.00)</span></span><span class='token' style='background-color: #ffffff'> away<span class='feature_val'> (0.00)</span></span><span class='token' style='background-color: #ffffff'> their<span class='feature_val'> (0.00)</span></span><span class='token' style='background-color: #ffffff'> friends<span class='feature_val'> (0.00)</span></span><span class='token' style='background-color: #ffffff'>�<span class='feature_val'> (0.00)</span></span><span class='token' style='background-color: #ffffff'>�<span class='feature_val'> (0.00)</span></span><span class='token' style='background-color: #ffffff'> current<span class='feature_val'> (0.00)</span></span><span class='token' style='background-color: #ffffff'> location<span class='feature_val'> (0.00)</span></span><span class='token' style='background-color: #ffffff'>.<span class='feature_val'> (0.00)</span></span><span class='token' style='background-color: #ffffff'>\n",
       "<span class='feature_val'> (0.00)</span></span><span class='token' style='background-color: #ffffff'>\n",
       "<span class='feature_val'> (0.00)</span></span><span class='token' style='background-color: #ffffff'>While<span class='feature_val'> (0.00)</span></span><span class='token' style='background-color: #ffffff'> a<span class='feature_val'> (0.00)</span></span><span class='token' style='background-color: #ffffff'> portion<span class='feature_val'> (0.00)</span></span><span class='token' style='background-color: #ffffff'> of<span class='feature_val'> (0.00)</span></span><span class='token' style='background-color: #ffffff'> the<span class='feature_val'> (0.00)</span></span><span class='token' style='background-color: #ffffff'> social<span class='feature_val'> (0.00)</span></span><span class='token' style='background-color: #ffffff'> networking<span class='feature_val'> (0.00)</span></span><span class='token' style='background-color: #ffffff'> world<span class='feature_val'> (0.00)</span></span><span class='token' style='background-color: #ffffff'> will<span class='feature_val'> (0.00)</span></span><span class='token' style='background-color: #ffffff'> think<span class='feature_val'> (0.00)</span></span><span class='token' style='background-color: #ffffff'> it<span class='feature_val'> (0.00)</span></span><span class='token' style='background-color: #ffffff'>�<span class='feature_val'> (0.00)</span></span><span class='token' style='background-color: #ffffff'>�<span class='feature_val'> (0.00)</span></span><span class='token' style='background-color: #ffffff'>s<span class='feature_val'> (0.00)</span></span><span class='token' style='background-color: #ff8c00'> fun<span class='feature_val'> (23.27)</span></span><span class='token' style='background-color: #ffffff'> and<span class='feature_val'> (0.00)</span></span><span class='token' style='background-color: #fffdfc'> cool<span class='feature_val'> (0.24)</span></span><span class='token' style='background-color: #ffffff'> to<span class='feature_val'> (0.00)</span></span><span class='token' style='background-color: #ffffff'> chart<span class='feature_val'> (0.00)</span></span><span class='token' style='background-color: #ffffff'> their<span class='feature_val'> (0.00)</span></span><span class='token' style='background-color: #ffffff'> travels<span class='feature_val'> (0.00)</span></span><span class='token' style='background-color: #ffffff'> around<span class='feature_val'> (0.00)</span></span><span class='token' style='background-color: #ffffff'> town<span class='feature_val'> (0.00)</span></span><span class='token' style='background-color: #ffffff'>,<span class='feature_val'> (0.00)</span></span><span class='token' style='background-color: #ffffff'> another<span class='feature_val'> (0.00)</span></span><span class='token' style='background-color: #ffffff'> segment<span class='feature_val'> (0.00)</span></span><span class='token' style='background-color: #ffffff'> of<span class='feature_val'> (0.00)</span></span><span class='token' style='background-color: #ffffff'> users<span class='feature_val'> (0.00)</span></span><span class='token' style='background-color: #ffffff'> thinks<span class='feature_val'> (0.00)</span></span><span class='token' style='background-color: #ffffff'> it<span class='feature_val'> (0.00)</span></span><span class='token' style='background-color: #ffffff'>�<span class='feature_val'> (0.00)</span></span><span class='token' style='background-color: #ffffff'>�<span class='feature_val'> (0.00)</span></span><span class='token' style='background-color: #ffffff'>s<span class='feature_val'> (0.00)</span></span><span class='token' style='background-color: #ffffff'> a<span class='feature_val'> (0.00)</span></span><span class='token' style='background-color: #ffffff'> sign<span class='feature_val'> (0.00)</span></span><span class='token' style='background-color: #ffffff'> of<span class='feature_val'> (0.00)</span></span><span class='token' style='background-color: #ffffff'> Big<span class='feature_val'> (0.00)</span></span><span class='token' style='background-color: #ffffff'> Brother<span class='feature_val'> (0.00)</span></span><span class='token' style='background-color: #ffffff'> watching<span class='feature_val'> (0.00)</span></span><span class='token' style='background-color: #ffffff'>.<span class='feature_val'> (0.00)</span></span><span class='token' style='background-color: #ffffff'>\n",
       "<span class='feature_val'> (0.00)</span></span><span class='token' style='background-color: #ffffff'>\n",
       "<span class='feature_val'> (0.00)</span></span><span class='token' style='background-color: #ffffff'>�<span class='feature_val'> (0.00)</span></span><span class='token' style='background-color: #ffffff'>�<span class='feature_val'> (0.00)</span></span><span class='token' style='background-color: #ffffff'>If<span class='feature_val'> (0.00)</span></span><span class='token' style='background-color: #ffffff'> someone<span class='feature_val'> (0.00)</span></span><span class='token' style='background-color: #ffffff'> isn<span class='feature_val'> (0.00)</span></span><span class='token' style='background-color: #ffffff'>�<span class='feature_val'> (0.00)</span></span><span class='token' style='background-color: #ffffff'>�<span class='feature_val'> (0.00)</span></span><span class='token' style='background-color: #ffffff'>t<span class='feature_val'> (0.00)</span></span><span class='token' style='background-color: #ffffff'> familiar<span class='feature_val'> (0.00)</span></span><span class='token' style='background-color: #ffffff'> with<span class='feature_val'> (0.00)</span></span><span class='token' style='background-color: #ffffff'> ge<span class='feature_val'> (0.00)</span></span><span class='token' style='background-color: #ffffff'>ol<span class='feature_val'> (0.00)</span></span><span class='token' style='background-color: #ffffff'>ocation<span class='feature_val'> (0.00)</span></span><span class='token' style='background-color: #ffffff'>-<span class='feature_val'> (0.00)</span></span><span class='token' style='background-color: #ffffff'>type<span class='feature_val'> (0.00)</span></span><span class='token' style='background-color: #ffffff'> services<span class='feature_val'> (0.00)</span></span><span class='token' style='background-color: #ffffff'> ,<span class='feature_val'> (0.00)</span></span><span class='token' style='background-color: #ffffff'> if<span class='feature_val'> (0.00)</span></span>"
      ],
      "text/plain": [
       "<IPython.core.display.HTML object>"
      ]
     },
     "metadata": {},
     "output_type": "display_data"
    },
    {
     "data": {
      "text/html": [
       "\n",
       "    <style>\n",
       "        span.token {\n",
       "            font-family: monospace;\n",
       "            border-style: solid;\n",
       "            border-width: 1px;\n",
       "            border-color: #dddddd;\n",
       "        }\n",
       "    </style>\n",
       "    <span class='token' style='background-color: #ffffff'>&lt;|endoftext|&gt;<span class='feature_val'> (0.00)</span></span><span class='token' style='background-color: #ffffff'> that<span class='feature_val'> (0.00)</span></span><span class='token' style='background-color: #ffffff'>�<span class='feature_val'> (0.00)</span></span><span class='token' style='background-color: #ffffff'>�<span class='feature_val'> (0.00)</span></span><span class='token' style='background-color: #ffffff'>s<span class='feature_val'> (0.00)</span></span><span class='token' style='background-color: #ffffff'> necessary<span class='feature_val'> (0.00)</span></span><span class='token' style='background-color: #ffffff'> at<span class='feature_val'> (0.00)</span></span><span class='token' style='background-color: #ffffff'> all<span class='feature_val'> (0.00)</span></span><span class='token' style='background-color: #ffffff'>.<span class='feature_val'> (0.00)</span></span><span class='token' style='background-color: #ffffff'>C<span class='feature_val'> (0.00)</span></span><span class='token' style='background-color: #ffffff'>AMD<span class='feature_val'> (0.00)</span></span><span class='token' style='background-color: #ffffff'>EN<span class='feature_val'> (0.00)</span></span><span class='token' style='background-color: #ffffff'> �<span class='feature_val'> (0.00)</span></span><span class='token' style='background-color: #ffffff'> Ben<span class='feature_val'> (0.00)</span></span><span class='token' style='background-color: #ffffff'> Simmons<span class='feature_val'> (0.00)</span></span><span class='token' style='background-color: #ffffff'> played<span class='feature_val'> (0.00)</span></span><span class='token' style='background-color: #ffffff'> point<span class='feature_val'> (0.00)</span></span><span class='token' style='background-color: #ffffff'> guard<span class='feature_val'> (0.00)</span></span><span class='token' style='background-color: #ffffff'> alongside<span class='feature_val'> (0.00)</span></span><span class='token' style='background-color: #ffffff'> projected<span class='feature_val'> (0.00)</span></span><span class='token' style='background-color: #ffffff'> starters<span class='feature_val'> (0.00)</span></span><span class='token' style='background-color: #ffffff'> Mar<span class='feature_val'> (0.00)</span></span><span class='token' style='background-color: #ffffff'>kel<span class='feature_val'> (0.00)</span></span><span class='token' style='background-color: #ffffff'>le<span class='feature_val'> (0.00)</span></span><span class='token' style='background-color: #ffffff'> F<span class='feature_val'> (0.00)</span></span><span class='token' style='background-color: #ffffff'>ultz<span class='feature_val'> (0.00)</span></span><span class='token' style='background-color: #ffffff'>,<span class='feature_val'> (0.00)</span></span><span class='token' style='background-color: #ffffff'> JJ<span class='feature_val'> (0.00)</span></span><span class='token' style='background-color: #ffffff'> Red<span class='feature_val'> (0.00)</span></span><span class='token' style='background-color: #ffffff'>ick<span class='feature_val'> (0.00)</span></span><span class='token' style='background-color: #ffffff'> and<span class='feature_val'> (0.00)</span></span><span class='token' style='background-color: #ffffff'> Robert<span class='feature_val'> (0.00)</span></span><span class='token' style='background-color: #ffffff'> C<span class='feature_val'> (0.00)</span></span><span class='token' style='background-color: #ffffff'>oving<span class='feature_val'> (0.00)</span></span><span class='token' style='background-color: #ffffff'>ton<span class='feature_val'> (0.00)</span></span><span class='token' style='background-color: #ffffff'> on<span class='feature_val'> (0.00)</span></span><span class='token' style='background-color: #ffffff'> Tuesday<span class='feature_val'> (0.00)</span></span><span class='token' style='background-color: #ffffff'>.<span class='feature_val'> (0.00)</span></span><span class='token' style='background-color: #ffffff'>\n",
       "<span class='feature_val'> (0.00)</span></span><span class='token' style='background-color: #ffffff'>\n",
       "<span class='feature_val'> (0.00)</span></span><span class='token' style='background-color: #ffffff'>Following<span class='feature_val'> (0.00)</span></span><span class='token' style='background-color: #ffffff'> Tuesday<span class='feature_val'> (0.00)</span></span><span class='token' style='background-color: #ffffff'>&#x27;s<span class='feature_val'> (0.00)</span></span><span class='token' style='background-color: #ffffff'> initial<span class='feature_val'> (0.00)</span></span><span class='token' style='background-color: #ffffff'> 76<span class='feature_val'> (0.00)</span></span><span class='token' style='background-color: #ffffff'>ers<span class='feature_val'> (0.00)</span></span><span class='token' style='background-color: #ffffff'>&#x27;<span class='feature_val'> (0.00)</span></span><span class='token' style='background-color: #ffffff'> training<span class='feature_val'> (0.00)</span></span><span class='token' style='background-color: #ffffff'> camp<span class='feature_val'> (0.00)</span></span><span class='token' style='background-color: #ffffff'> workout<span class='feature_val'> (0.00)</span></span><span class='token' style='background-color: #ffffff'>,<span class='feature_val'> (0.00)</span></span><span class='token' style='background-color: #ffffff'> F<span class='feature_val'> (0.00)</span></span><span class='token' style='background-color: #ffffff'>ultz<span class='feature_val'> (0.00)</span></span><span class='token' style='background-color: #ffffff'> g<span class='feature_val'> (0.00)</span></span><span class='token' style='background-color: #ffffff'>ushed<span class='feature_val'> (0.00)</span></span><span class='token' style='background-color: #ffffff'> about<span class='feature_val'> (0.00)</span></span><span class='token' style='background-color: #ffffff'> being<span class='feature_val'> (0.00)</span></span><span class='token' style='background-color: #ffffff'> paired<span class='feature_val'> (0.00)</span></span><span class='token' style='background-color: #ffffff'> with<span class='feature_val'> (0.00)</span></span><span class='token' style='background-color: #ffffff'> Simmons<span class='feature_val'> (0.00)</span></span><span class='token' style='background-color: #ffffff'>,<span class='feature_val'> (0.00)</span></span><span class='token' style='background-color: #ffffff'> saying<span class='feature_val'> (0.00)</span></span><span class='token' style='background-color: #ffffff'> &quot;<span class='feature_val'> (0.00)</span></span><span class='token' style='background-color: #ffffff'>I<span class='feature_val'> (0.00)</span></span><span class='token' style='background-color: #ffffff'> feel<span class='feature_val'> (0.00)</span></span><span class='token' style='background-color: #ffffff'> sorry<span class='feature_val'> (0.00)</span></span><span class='token' style='background-color: #ffffff'> for<span class='feature_val'> (0.00)</span></span><span class='token' style='background-color: #ffffff'> the<span class='feature_val'> (0.00)</span></span><span class='token' style='background-color: #ffffff'> teams<span class='feature_val'> (0.00)</span></span><span class='token' style='background-color: #ffffff'> that<span class='feature_val'> (0.00)</span></span><span class='token' style='background-color: #ffffff'> are<span class='feature_val'> (0.00)</span></span><span class='token' style='background-color: #ffffff'> going<span class='feature_val'> (0.00)</span></span><span class='token' style='background-color: #ffffff'> to<span class='feature_val'> (0.00)</span></span><span class='token' style='background-color: #ffffff'> have<span class='feature_val'> (0.00)</span></span><span class='token' style='background-color: #ffffff'> to<span class='feature_val'> (0.00)</span></span><span class='token' style='background-color: #ffffff'> go<span class='feature_val'> (0.00)</span></span><span class='token' style='background-color: #ffffff'> against<span class='feature_val'> (0.00)</span></span><span class='token' style='background-color: #ffffff'> that<span class='feature_val'> (0.00)</span></span><span class='token' style='background-color: #ffffff'>.&quot;<span class='feature_val'> (0.00)</span></span><span class='token' style='background-color: #ffffff'>\n",
       "<span class='feature_val'> (0.00)</span></span><span class='token' style='background-color: #ffffff'>\n",
       "<span class='feature_val'> (0.00)</span></span><span class='token' style='background-color: #ffffff'>Yes<span class='feature_val'> (0.00)</span></span><span class='token' style='background-color: #ffffff'>,<span class='feature_val'> (0.00)</span></span><span class='token' style='background-color: #ffffff'> watching<span class='feature_val'> (0.00)</span></span><span class='token' style='background-color: #ffffff'> the<span class='feature_val'> (0.00)</span></span><span class='token' style='background-color: #ffffff'> No<span class='feature_val'> (0.00)</span></span><span class='token' style='background-color: #ffffff'>.<span class='feature_val'> (0.00)</span></span><span class='token' style='background-color: #ffffff'> 1<span class='feature_val'> (0.00)</span></span><span class='token' style='background-color: #ffffff'> pick<span class='feature_val'> (0.00)</span></span><span class='token' style='background-color: #ffffff'> in<span class='feature_val'> (0.00)</span></span><span class='token' style='background-color: #ffffff'> the<span class='feature_val'> (0.00)</span></span><span class='token' style='background-color: #ffffff'> 2016<span class='feature_val'> (0.00)</span></span><span class='token' style='background-color: #ffffff'> NBA<span class='feature_val'> (0.00)</span></span><span class='token' style='background-color: #ffffff'> Draft<span class='feature_val'> (0.00)</span></span><span class='token' style='background-color: #ffffff'> (<span class='feature_val'> (0.00)</span></span><span class='token' style='background-color: #ffffff'>S<span class='feature_val'> (0.00)</span></span><span class='token' style='background-color: #ffffff'>imm<span class='feature_val'> (0.00)</span></span><span class='token' style='background-color: #ffffff'>ons<span class='feature_val'> (0.00)</span></span><span class='token' style='background-color: #ffffff'>)<span class='feature_val'> (0.00)</span></span><span class='token' style='background-color: #ffffff'> and<span class='feature_val'> (0.00)</span></span><span class='token' style='background-color: #ffffff'> the<span class='feature_val'> (0.00)</span></span><span class='token' style='background-color: #ffffff'> No<span class='feature_val'> (0.00)</span></span><span class='token' style='background-color: #ffffff'>.<span class='feature_val'> (0.00)</span></span><span class='token' style='background-color: #ffffff'> 1<span class='feature_val'> (0.00)</span></span><span class='token' style='background-color: #ffffff'> pick<span class='feature_val'> (0.00)</span></span><span class='token' style='background-color: #ffffff'> last<span class='feature_val'> (0.00)</span></span><span class='token' style='background-color: #ffffff'> June<span class='feature_val'> (0.00)</span></span><span class='token' style='background-color: #ffffff'> (<span class='feature_val'> (0.00)</span></span><span class='token' style='background-color: #ffffff'>F<span class='feature_val'> (0.00)</span></span><span class='token' style='background-color: #ffffff'>ultz<span class='feature_val'> (0.00)</span></span><span class='token' style='background-color: #ffffff'>)<span class='feature_val'> (0.00)</span></span><span class='token' style='background-color: #ffffff'> develop<span class='feature_val'> (0.00)</span></span><span class='token' style='background-color: #ffffff'> should<span class='feature_val'> (0.00)</span></span><span class='token' style='background-color: #ffffff'> be<span class='feature_val'> (0.00)</span></span><span class='token' style='background-color: #ffffff'> a<span class='feature_val'> (0.00)</span></span><span class='token' style='background-color: #ffffff'> lot<span class='feature_val'> (0.00)</span></span><span class='token' style='background-color: #ffffff'> of<span class='feature_val'> (0.00)</span></span><span class='token' style='background-color: #ff8c00'> fun<span class='feature_val'> (23.47)</span></span><span class='token' style='background-color: #ffffff'>.<span class='feature_val'> (0.00)</span></span><span class='token' style='background-color: #ffffff'> Simmons<span class='feature_val'> (0.00)</span></span><span class='token' style='background-color: #ffffff'> and<span class='feature_val'> (0.00)</span></span><span class='token' style='background-color: #ffffff'> F<span class='feature_val'> (0.00)</span></span><span class='token' style='background-color: #ffffff'>ultz<span class='feature_val'> (0.00)</span></span><span class='token' style='background-color: #ffffff'> are<span class='feature_val'> (0.00)</span></span><span class='token' style='background-color: #ffffff'> comfortable<span class='feature_val'> (0.00)</span></span><span class='token' style='background-color: #ffffff'> handling<span class='feature_val'> (0.00)</span></span><span class='token' style='background-color: #ffffff'> the<span class='feature_val'> (0.00)</span></span><span class='token' style='background-color: #ffffff'> ball<span class='feature_val'> (0.00)</span></span>"
      ],
      "text/plain": [
       "<IPython.core.display.HTML object>"
      ]
     },
     "metadata": {},
     "output_type": "display_data"
    },
    {
     "data": {
      "text/html": [
       "\n",
       "    <style>\n",
       "        span.token {\n",
       "            font-family: monospace;\n",
       "            border-style: solid;\n",
       "            border-width: 1px;\n",
       "            border-color: #dddddd;\n",
       "        }\n",
       "    </style>\n",
       "    <span class='token' style='background-color: #ffffff'>&lt;|endoftext|&gt;<span class='feature_val'> (0.00)</span></span><span class='token' style='background-color: #ffffff'>closed<span class='feature_val'> (0.00)</span></span><span class='token' style='background-color: #ffffff'> group<span class='feature_val'> (0.00)</span></span><span class='token' style='background-color: #ffffff'>&quot;<span class='feature_val'> (0.00)</span></span><span class='token' style='background-color: #ffffff'> on<span class='feature_val'> (0.00)</span></span><span class='token' style='background-color: #ffffff'> Facebook<span class='feature_val'> (0.00)</span></span><span class='token' style='background-color: #ffffff'>.<span class='feature_val'> (0.00)</span></span><span class='token' style='background-color: #ffffff'> We<span class='feature_val'> (0.00)</span></span><span class='token' style='background-color: #ffffff'>&#x27;d<span class='feature_val'> (0.00)</span></span><span class='token' style='background-color: #ffffff'> love<span class='feature_val'> (0.00)</span></span><span class='token' style='background-color: #ffffff'> to<span class='feature_val'> (0.00)</span></span><span class='token' style='background-color: #ffffff'> have<span class='feature_val'> (0.00)</span></span><span class='token' style='background-color: #ffffff'> you<span class='feature_val'> (0.00)</span></span><span class='token' style='background-color: #ffffff'> join<span class='feature_val'> (0.00)</span></span><span class='token' style='background-color: #ffffff'> --<span class='feature_val'> (0.00)</span></span><span class='token' style='background-color: #ffffff'> we<span class='feature_val'> (0.00)</span></span><span class='token' style='background-color: #ffffff'> currently<span class='feature_val'> (0.00)</span></span><span class='token' style='background-color: #ffffff'> have<span class='feature_val'> (0.00)</span></span><span class='token' style='background-color: #ffffff'> just<span class='feature_val'> (0.00)</span></span><span class='token' style='background-color: #ffffff'> 70<span class='feature_val'> (0.00)</span></span><span class='token' style='background-color: #ffffff'>+<span class='feature_val'> (0.00)</span></span><span class='token' style='background-color: #ffffff'> members<span class='feature_val'> (0.00)</span></span><span class='token' style='background-color: #ffffff'> so<span class='feature_val'> (0.00)</span></span><span class='token' style='background-color: #ffffff'> we<span class='feature_val'> (0.00)</span></span><span class='token' style='background-color: #ffffff'> need<span class='feature_val'> (0.00)</span></span><span class='token' style='background-color: #ffffff'> more<span class='feature_val'> (0.00)</span></span><span class='token' style='background-color: #ffffff'> of<span class='feature_val'> (0.00)</span></span><span class='token' style='background-color: #ffffff'> you<span class='feature_val'> (0.00)</span></span><span class='token' style='background-color: #ffffff'> to<span class='feature_val'> (0.00)</span></span><span class='token' style='background-color: #ffffff'> come<span class='feature_val'> (0.00)</span></span><span class='token' style='background-color: #ffffff'> on<span class='feature_val'> (0.00)</span></span><span class='token' style='background-color: #ffffff'> over<span class='feature_val'> (0.00)</span></span><span class='token' style='background-color: #ffffff'>.<span class='feature_val'> (0.00)</span></span><span class='token' style='background-color: #ffffff'> Share<span class='feature_val'> (0.00)</span></span><span class='token' style='background-color: #ffffff'> your<span class='feature_val'> (0.00)</span></span><span class='token' style='background-color: #ffffff'> favorite<span class='feature_val'> (0.00)</span></span><span class='token' style='background-color: #ffffff'> products<span class='feature_val'> (0.00)</span></span><span class='token' style='background-color: #ffffff'> and<span class='feature_val'> (0.00)</span></span><span class='token' style='background-color: #ffffff'> sc<span class='feature_val'> (0.00)</span></span><span class='token' style='background-color: #ffffff'>ents<span class='feature_val'> (0.00)</span></span><span class='token' style='background-color: #ffffff'>,<span class='feature_val'> (0.00)</span></span><span class='token' style='background-color: #ffffff'> and<span class='feature_val'> (0.00)</span></span><span class='token' style='background-color: #ffffff'> get<span class='feature_val'> (0.00)</span></span><span class='token' style='background-color: #ffffff'> recommendations<span class='feature_val'> (0.00)</span></span><span class='token' style='background-color: #ffffff'> from<span class='feature_val'> (0.00)</span></span><span class='token' style='background-color: #ffffff'> other<span class='feature_val'> (0.00)</span></span><span class='token' style='background-color: #ffffff'> customers<span class='feature_val'> (0.00)</span></span><span class='token' style='background-color: #ffffff'>.<span class='feature_val'> (0.00)</span></span><span class='token' style='background-color: #ffffff'> Ask<span class='feature_val'> (0.00)</span></span><span class='token' style='background-color: #ffffff'> questions<span class='feature_val'> (0.00)</span></span><span class='token' style='background-color: #ffffff'>,<span class='feature_val'> (0.00)</span></span><span class='token' style='background-color: #ffffff'> post<span class='feature_val'> (0.00)</span></span><span class='token' style='background-color: #ffffff'> photos<span class='feature_val'> (0.00)</span></span><span class='token' style='background-color: #ffffff'>,<span class='feature_val'> (0.00)</span></span><span class='token' style='background-color: #ffffff'> whatever<span class='feature_val'> (0.00)</span></span><span class='token' style='background-color: #ffffff'>.<span class='feature_val'> (0.00)</span></span><span class='token' style='background-color: #ffffff'> This<span class='feature_val'> (0.00)</span></span><span class='token' style='background-color: #ffffff'> group<span class='feature_val'> (0.00)</span></span><span class='token' style='background-color: #ffffff'> was<span class='feature_val'> (0.00)</span></span><span class='token' style='background-color: #ffffff'> created<span class='feature_val'> (0.00)</span></span><span class='token' style='background-color: #ffffff'> for<span class='feature_val'> (0.00)</span></span><span class='token' style='background-color: #ffffff'> you<span class='feature_val'> (0.00)</span></span><span class='token' style='background-color: #ffffff'> guys<span class='feature_val'> (0.00)</span></span><span class='token' style='background-color: #ffffff'>.<span class='feature_val'> (0.00)</span></span><span class='token' style='background-color: #ffffff'> We<span class='feature_val'> (0.00)</span></span><span class='token' style='background-color: #ffffff'>&#x27;re<span class='feature_val'> (0.00)</span></span><span class='token' style='background-color: #ffffff'> having<span class='feature_val'> (0.00)</span></span><span class='token' style='background-color: #ff8c00'> fun<span class='feature_val'> (23.47)</span></span><span class='token' style='background-color: #ffffff'> in<span class='feature_val'> (0.00)</span></span><span class='token' style='background-color: #ffffff'> there<span class='feature_val'> (0.00)</span></span><span class='token' style='background-color: #ffffff'> and<span class='feature_val'> (0.00)</span></span><span class='token' style='background-color: #ffffff'> you<span class='feature_val'> (0.00)</span></span><span class='token' style='background-color: #ffffff'>&#x27;re<span class='feature_val'> (0.00)</span></span><span class='token' style='background-color: #ffffff'> missing<span class='feature_val'> (0.00)</span></span><span class='token' style='background-color: #ffffff'> out<span class='feature_val'> (0.00)</span></span><span class='token' style='background-color: #ffffff'> :)<span class='feature_val'> (0.00)</span></span><span class='token' style='background-color: #ffffff'> Click<span class='feature_val'> (0.00)</span></span><span class='token' style='background-color: #ffffff'> here<span class='feature_val'> (0.00)</span></span><span class='token' style='background-color: #ffffff'> to<span class='feature_val'> (0.00)</span></span><span class='token' style='background-color: #ffffff'> join<span class='feature_val'> (0.00)</span></span><span class='token' style='background-color: #ffffff'>!<span class='feature_val'> (0.00)</span></span><span class='token' style='background-color: #ffffff'>\n",
       "<span class='feature_val'> (0.00)</span></span><span class='token' style='background-color: #ffffff'>\n",
       "<span class='feature_val'> (0.00)</span></span><span class='token' style='background-color: #ffffff'>~~~~~~~~~~~~~~~~<span class='feature_val'> (0.00)</span></span><span class='token' style='background-color: #ffffff'>~~~~~~~~~~~~~~~~<span class='feature_val'> (0.00)</span></span><span class='token' style='background-color: #ffffff'>~~~~~~~~~~~~~~~~<span class='feature_val'> (0.00)</span></span><span class='token' style='background-color: #ffffff'>\n",
       "<span class='feature_val'> (0.00)</span></span><span class='token' style='background-color: #ffffff'>\n",
       "<span class='feature_val'> (0.00)</span></span><span class='token' style='background-color: #ffffff'>On<span class='feature_val'> (0.00)</span></span><span class='token' style='background-color: #ffffff'> a<span class='feature_val'> (0.00)</span></span><span class='token' style='background-color: #ffffff'> side<span class='feature_val'> (0.00)</span></span><span class='token' style='background-color: #ffffff'> note<span class='feature_val'> (0.00)</span></span><span class='token' style='background-color: #ffffff'>,<span class='feature_val'> (0.00)</span></span><span class='token' style='background-color: #ffffff'> if<span class='feature_val'> (0.00)</span></span><span class='token' style='background-color: #ffffff'> you<span class='feature_val'> (0.00)</span></span><span class='token' style='background-color: #ffffff'>&#x27;re<span class='feature_val'> (0.00)</span></span><span class='token' style='background-color: #ffffff'> shopping<span class='feature_val'> (0.00)</span></span><span class='token' style='background-color: #ffffff'> around<span class='feature_val'> (0.00)</span></span><span class='token' style='background-color: #ffffff'> and<span class='feature_val'> (0.00)</span></span><span class='token' style='background-color: #ffffff'> find<span class='feature_val'> (0.00)</span></span><span class='token' style='background-color: #ffffff'> that<span class='feature_val'> (0.00)</span></span><span class='token' style='background-color: #ffffff'> a<span class='feature_val'> (0.00)</span></span><span class='token' style='background-color: #ffffff'> scent<span class='feature_val'> (0.00)</span></span><span class='token' style='background-color: #ffffff'> is<span class='feature_val'> (0.00)</span></span><span class='token' style='background-color: #ffffff'> not<span class='feature_val'> (0.00)</span></span><span class='token' style='background-color: #ffffff'> listed<span class='feature_val'> (0.00)</span></span><span class='token' style='background-color: #ffffff'> in<span class='feature_val'> (0.00)</span></span><span class='token' style='background-color: #ffffff'> a<span class='feature_val'> (0.00)</span></span><span class='token' style='background-color: #ffffff'> product<span class='feature_val'> (0.00)</span></span><span class='token' style='background-color: #ffffff'> that<span class='feature_val'> (0.00)</span></span><span class='token' style='background-color: #ffffff'> you<span class='feature_val'> (0.00)</span></span><span class='token' style='background-color: #ffffff'> think<span class='feature_val'> (0.00)</span></span><span class='token' style='background-color: #ffffff'> should<span class='feature_val'> (0.00)</span></span><span class='token' style='background-color: #ffffff'> be<span class='feature_val'> (0.00)</span></span><span class='token' style='background-color: #ffffff'>,<span class='feature_val'> (0.00)</span></span><span class='token' style='background-color: #ffffff'> please<span class='feature_val'> (0.00)</span></span><span class='token' style='background-color: #ffffff'> don<span class='feature_val'> (0.00)</span></span><span class='token' style='background-color: #ffffff'>&#x27;t<span class='feature_val'> (0.00)</span></span><span class='token' style='background-color: #ffffff'> hesitate<span class='feature_val'> (0.00)</span></span><span class='token' style='background-color: #ffffff'> to<span class='feature_val'> (0.00)</span></span><span class='token' style='background-color: #ffffff'> inquire<span class='feature_val'> (0.00)</span></span><span class='token' style='background-color: #ffffff'> about<span class='feature_val'> (0.00)</span></span><span class='token' style='background-color: #ffffff'> it<span class='feature_val'> (0.00)</span></span><span class='token' style='background-color: #ffffff'>.<span class='feature_val'> (0.00)</span></span><span class='token' style='background-color: #ffffff'> I<span class='feature_val'> (0.00)</span></span><span class='token' style='background-color: #ffffff'>&#x27;ve<span class='feature_val'> (0.00)</span></span><span class='token' style='background-color: #ffffff'> worked<span class='feature_val'> (0.00)</span></span><span class='token' style='background-color: #ffffff'> on<span class='feature_val'> (0.00)</span></span>"
      ],
      "text/plain": [
       "<IPython.core.display.HTML object>"
      ]
     },
     "metadata": {},
     "output_type": "display_data"
    },
    {
     "data": {
      "text/html": [
       "\n",
       "    <style>\n",
       "        span.token {\n",
       "            font-family: monospace;\n",
       "            border-style: solid;\n",
       "            border-width: 1px;\n",
       "            border-color: #dddddd;\n",
       "        }\n",
       "    </style>\n",
       "    <span class='token' style='background-color: #ffffff'>&lt;|endoftext|&gt;<span class='feature_val'> (0.00)</span></span><span class='token' style='background-color: #ffffff'> their<span class='feature_val'> (0.00)</span></span><span class='token' style='background-color: #ffffff'> success<span class='feature_val'> (0.00)</span></span><span class='token' style='background-color: #ffffff'> and<span class='feature_val'> (0.00)</span></span><span class='token' style='background-color: #ffffff'> they<span class='feature_val'> (0.00)</span></span><span class='token' style='background-color: #ffffff'> want<span class='feature_val'> (0.00)</span></span><span class='token' style='background-color: #ffffff'> the<span class='feature_val'> (0.00)</span></span><span class='token' style='background-color: #ffffff'> losers<span class='feature_val'> (0.00)</span></span><span class='token' style='background-color: #ffffff'> to<span class='feature_val'> (0.00)</span></span><span class='token' style='background-color: #ffffff'> keep<span class='feature_val'> (0.00)</span></span><span class='token' style='background-color: #ffffff'> it<span class='feature_val'> (0.00)</span></span><span class='token' style='background-color: #ffffff'> down<span class='feature_val'> (0.00)</span></span><span class='token' style='background-color: #ffffff'>.<span class='feature_val'> (0.00)</span></span><span class='token' style='background-color: #ffffff'> The<span class='feature_val'> (0.00)</span></span><span class='token' style='background-color: #ffffff'> noise<span class='feature_val'> (0.00)</span></span><span class='token' style='background-color: #ffffff'> of<span class='feature_val'> (0.00)</span></span><span class='token' style='background-color: #ffffff'> the<span class='feature_val'> (0.00)</span></span><span class='token' style='background-color: #ffffff'> vanquished<span class='feature_val'> (0.00)</span></span><span class='token' style='background-color: #ffffff'> is<span class='feature_val'> (0.00)</span></span><span class='token' style='background-color: #ffffff'> spo<span class='feature_val'> (0.00)</span></span><span class='token' style='background-color: #ffffff'>iling<span class='feature_val'> (0.00)</span></span><span class='token' style='background-color: #ffffff'> the<span class='feature_val'> (0.00)</span></span><span class='token' style='background-color: #ffffff'> vict<span class='feature_val'> (0.00)</span></span><span class='token' style='background-color: #ffffff'>ors<span class='feature_val'> (0.00)</span></span><span class='token' style='background-color: #ffffff'>&#x27;<span class='feature_val'> (0.00)</span></span><span class='token' style='background-color: #ff8c00'> fun<span class='feature_val'> (23.27)</span></span><span class='token' style='background-color: #ffffff'>.<span class='feature_val'> (0.00)</span></span><span class='token' style='background-color: #ffffff'>\n",
       "<span class='feature_val'> (0.00)</span></span><span class='token' style='background-color: #ffffff'>\n",
       "<span class='feature_val'> (0.00)</span></span><span class='token' style='background-color: #ffffff'>OWS<span class='feature_val'> (0.00)</span></span><span class='token' style='background-color: #ffffff'> talks<span class='feature_val'> (0.00)</span></span><span class='token' style='background-color: #ffffff'> a<span class='feature_val'> (0.00)</span></span><span class='token' style='background-color: #ffffff'> lot<span class='feature_val'> (0.00)</span></span><span class='token' style='background-color: #ffffff'>,<span class='feature_val'> (0.00)</span></span><span class='token' style='background-color: #ffffff'> too<span class='feature_val'> (0.00)</span></span><span class='token' style='background-color: #ffffff'> much<span class='feature_val'> (0.00)</span></span><span class='token' style='background-color: #ffffff'> in<span class='feature_val'> (0.00)</span></span><span class='token' style='background-color: #ffffff'> fact<span class='feature_val'> (0.00)</span></span><span class='token' style='background-color: #ffffff'>,<span class='feature_val'> (0.00)</span></span><span class='token' style='background-color: #ffffff'> about<span class='feature_val'> (0.00)</span></span><span class='token' style='background-color: #ffffff'> One<span class='feature_val'> (0.00)</span></span><span class='token' style='background-color: #ffffff'> Percent<span class='feature_val'> (0.00)</span></span><span class='token' style='background-color: #ffffff'> versus<span class='feature_val'> (0.00)</span></span><span class='token' style='background-color: #ffffff'> Nin<span class='feature_val'> (0.00)</span></span><span class='token' style='background-color: #ffffff'>ety<span class='feature_val'> (0.00)</span></span><span class='token' style='background-color: #ffffff'> Nine<span class='feature_val'> (0.00)</span></span><span class='token' style='background-color: #ffffff'> Percent<span class='feature_val'> (0.00)</span></span><span class='token' style='background-color: #ffffff'>.<span class='feature_val'> (0.00)</span></span><span class='token' style='background-color: #ffffff'> As<span class='feature_val'> (0.00)</span></span><span class='token' style='background-color: #ffffff'> if<span class='feature_val'> (0.00)</span></span><span class='token' style='background-color: #ffffff'> success<span class='feature_val'> (0.00)</span></span><span class='token' style='background-color: #ffffff'> itself<span class='feature_val'> (0.00)</span></span><span class='token' style='background-color: #ffffff'> were<span class='feature_val'> (0.00)</span></span><span class='token' style='background-color: #ffffff'> a<span class='feature_val'> (0.00)</span></span><span class='token' style='background-color: #ffffff'> crime<span class='feature_val'> (0.00)</span></span><span class='token' style='background-color: #ffffff'>.<span class='feature_val'> (0.00)</span></span><span class='token' style='background-color: #ffffff'> That<span class='feature_val'> (0.00)</span></span><span class='token' style='background-color: #ffffff'>&#x27;s<span class='feature_val'> (0.00)</span></span><span class='token' style='background-color: #ffffff'> a<span class='feature_val'> (0.00)</span></span><span class='token' style='background-color: #ffffff'> mistake<span class='feature_val'> (0.00)</span></span><span class='token' style='background-color: #ffffff'>.<span class='feature_val'> (0.00)</span></span><span class='token' style='background-color: #ffffff'> But<span class='feature_val'> (0.00)</span></span><span class='token' style='background-color: #ffffff'> what<span class='feature_val'> (0.00)</span></span><span class='token' style='background-color: #ffffff'> O<span class='feature_val'> (0.00)</span></span><span class='token' style='background-color: #ffffff'>WS<span class='feature_val'> (0.00)</span></span><span class='token' style='background-color: #ffffff'> has<span class='feature_val'> (0.00)</span></span><span class='token' style='background-color: #ffffff'> helped<span class='feature_val'> (0.00)</span></span><span class='token' style='background-color: #ffffff'> to<span class='feature_val'> (0.00)</span></span><span class='token' style='background-color: #ffffff'> remind<span class='feature_val'> (0.00)</span></span><span class='token' style='background-color: #ffffff'> me<span class='feature_val'> (0.00)</span></span><span class='token' style='background-color: #ffffff'> is<span class='feature_val'> (0.00)</span></span><span class='token' style='background-color: #ffffff'> that<span class='feature_val'> (0.00)</span></span><span class='token' style='background-color: #ffffff'> One<span class='feature_val'> (0.00)</span></span><span class='token' style='background-color: #ffffff'> in<span class='feature_val'> (0.00)</span></span><span class='token' style='background-color: #ffffff'> Five<span class='feature_val'> (0.00)</span></span><span class='token' style='background-color: #ffffff'> is<span class='feature_val'> (0.00)</span></span><span class='token' style='background-color: #ffffff'> a<span class='feature_val'> (0.00)</span></span><span class='token' style='background-color: #ffffff'> far<span class='feature_val'> (0.00)</span></span><span class='token' style='background-color: #ffffff'> more<span class='feature_val'> (0.00)</span></span><span class='token' style='background-color: #ffffff'> unsettling<span class='feature_val'> (0.00)</span></span><span class='token' style='background-color: #ffffff'> ratio<span class='feature_val'> (0.00)</span></span><span class='token' style='background-color: #ffffff'>.<span class='feature_val'> (0.00)</span></span><span class='token' style='background-color: #ffffff'> Twenty<span class='feature_val'> (0.00)</span></span><span class='token' style='background-color: #ffffff'> percent<span class='feature_val'> (0.00)</span></span><span class='token' style='background-color: #ffffff'> unemployment<span class='feature_val'> (0.00)</span></span><span class='token' style='background-color: #ffffff'>.<span class='feature_val'> (0.00)</span></span><span class='token' style='background-color: #ffffff'> In<span class='feature_val'> (0.00)</span></span><span class='token' style='background-color: #ffffff'> the<span class='feature_val'> (0.00)</span></span><span class='token' style='background-color: #ffffff'> 21<span class='feature_val'> (0.00)</span></span><span class='token' style='background-color: #ffffff'>st<span class='feature_val'> (0.00)</span></span><span class='token' style='background-color: #ffffff'> Century<span class='feature_val'> (0.00)</span></span><span class='token' style='background-color: #ffffff'> United<span class='feature_val'> (0.00)</span></span><span class='token' style='background-color: #ffffff'> States<span class='feature_val'> (0.00)</span></span><span class='token' style='background-color: #ffffff'>.<span class='feature_val'> (0.00)</span></span><span class='token' style='background-color: #ffffff'>\n",
       "<span class='feature_val'> (0.00)</span></span><span class='token' style='background-color: #ffffff'>\n",
       "<span class='feature_val'> (0.00)</span></span><span class='token' style='background-color: #ffffff'>There<span class='feature_val'> (0.00)</span></span><span class='token' style='background-color: #ffffff'> won<span class='feature_val'> (0.00)</span></span><span class='token' style='background-color: #ffffff'>&#x27;t<span class='feature_val'> (0.00)</span></span><span class='token' style='background-color: #ffffff'> be<span class='feature_val'> (0.00)</span></span><span class='token' style='background-color: #ffffff'> enough<span class='feature_val'> (0.00)</span></span><span class='token' style='background-color: #ffffff'> cops<span class='feature_val'> (0.00)</span></span><span class='token' style='background-color: #ffffff'> anywhere<span class='feature_val'> (0.00)</span></span><span class='token' style='background-color: #ffffff'> in<span class='feature_val'> (0.00)</span></span><span class='token' style='background-color: #ffffff'> this<span class='feature_val'> (0.00)</span></span><span class='token' style='background-color: #ffffff'> country<span class='feature_val'> (0.00)</span></span><span class='token' style='background-color: #ffffff'> to<span class='feature_val'> (0.00)</span></span><span class='token' style='background-color: #ffffff'> rip<span class='feature_val'> (0.00)</span></span><span class='token' style='background-color: #ffffff'> down<span class='feature_val'> (0.00)</span></span><span class='token' style='background-color: #ffffff'> all<span class='feature_val'> (0.00)</span></span><span class='token' style='background-color: #ffffff'> the<span class='feature_val'> (0.00)</span></span><span class='token' style='background-color: #ffffff'> tents<span class='feature_val'> (0.00)</span></span><span class='token' style='background-color: #ffffff'> that<span class='feature_val'> (0.00)</span></span><span class='token' style='background-color: #ffffff'> are<span class='feature_val'> (0.00)</span></span><span class='token' style='background-color: #ffffff'> going<span class='feature_val'> (0.00)</span></span><span class='token' style='background-color: #ffffff'> to<span class='feature_val'> (0.00)</span></span><span class='token' style='background-color: #ffffff'> pop<span class='feature_val'> (0.00)</span></span><span class='token' style='background-color: #ffffff'> up<span class='feature_val'> (0.00)</span></span><span class='token' style='background-color: #ffffff'> in<span class='feature_val'> (0.00)</span></span><span class='token' style='background-color: #ffffff'> places<span class='feature_val'> (0.00)</span></span><span class='token' style='background-color: #ffffff'> you<span class='feature_val'> (0.00)</span></span><span class='token' style='background-color: #ffffff'> never<span class='feature_val'> (0.00)</span></span><span class='token' style='background-color: #ffffff'> imagined<span class='feature_val'> (0.00)</span></span><span class='token' style='background-color: #ffffff'> if<span class='feature_val'> (0.00)</span></span><span class='token' style='background-color: #ffffff'> we<span class='feature_val'> (0.00)</span></span><span class='token' style='background-color: #ffffff'> hit<span class='feature_val'> (0.00)</span></span><span class='token' style='background-color: #ffffff'> that<span class='feature_val'> (0.00)</span></span><span class='token' style='background-color: #ffffff'> figure<span class='feature_val'> (0.00)</span></span>"
      ],
      "text/plain": [
       "<IPython.core.display.HTML object>"
      ]
     },
     "metadata": {},
     "output_type": "display_data"
    },
    {
     "data": {
      "text/html": [
       "\n",
       "    <style>\n",
       "        span.token {\n",
       "            font-family: monospace;\n",
       "            border-style: solid;\n",
       "            border-width: 1px;\n",
       "            border-color: #dddddd;\n",
       "        }\n",
       "    </style>\n",
       "    <span class='token' style='background-color: #ffffff'>&lt;|endoftext|&gt;<span class='feature_val'> (0.00)</span></span><span class='token' style='background-color: #ffffff'> Alaska<span class='feature_val'> (0.00)</span></span><span class='token' style='background-color: #ffffff'> government<span class='feature_val'> (0.00)</span></span><span class='token' style='background-color: #ffffff'> for<span class='feature_val'> (0.00)</span></span><span class='token' style='background-color: #ffffff'> her<span class='feature_val'> (0.00)</span></span><span class='token' style='background-color: #ffffff'> kids<span class='feature_val'> (0.00)</span></span><span class='token' style='background-color: #ffffff'>�<span class='feature_val'> (0.00)</span></span><span class='token' style='background-color: #ffffff'>�<span class='feature_val'> (0.00)</span></span><span class='token' style='background-color: #ffffff'> travel<span class='feature_val'> (0.00)</span></span><span class='token' style='background-color: #ffffff'> expenses<span class='feature_val'> (0.00)</span></span><span class='token' style='background-color: #ffffff'>,<span class='feature_val'> (0.00)</span></span><span class='token' style='background-color: #ffffff'> and<span class='feature_val'> (0.00)</span></span><span class='token' style='background-color: #ffffff'> a<span class='feature_val'> (0.00)</span></span><span class='token' style='background-color: #ffffff'> new<span class='feature_val'> (0.00)</span></span><span class='token' style='background-color: #ffffff'> NBC<span class='feature_val'> (0.00)</span></span><span class='token' style='background-color: #ffffff'>/<span class='feature_val'> (0.00)</span></span><span class='token' style='background-color: #ffffff'>WS<span class='feature_val'> (0.00)</span></span><span class='token' style='background-color: #ffffff'>J<span class='feature_val'> (0.00)</span></span><span class='token' style='background-color: #ffffff'> poll<span class='feature_val'> (0.00)</span></span><span class='token' style='background-color: #ffffff'> shows<span class='feature_val'> (0.00)</span></span><span class='token' style='background-color: #ffffff'> that<span class='feature_val'> (0.00)</span></span><span class='token' style='background-color: #ffffff'> Palin<span class='feature_val'> (0.00)</span></span><span class='token' style='background-color: #ffffff'>�<span class='feature_val'> (0.00)</span></span><span class='token' style='background-color: #ffffff'>�<span class='feature_val'> (0.00)</span></span><span class='token' style='background-color: #ffffff'>s<span class='feature_val'> (0.00)</span></span><span class='token' style='background-color: #ffffff'> qualifications<span class='feature_val'> (0.00)</span></span><span class='token' style='background-color: #ffffff'> are<span class='feature_val'> (0.00)</span></span><span class='token' style='background-color: #ffffff'> voters<span class='feature_val'> (0.00)</span></span><span class='token' style='background-color: #ffffff'>�<span class='feature_val'> (0.00)</span></span><span class='token' style='background-color: #ffffff'>�<span class='feature_val'> (0.00)</span></span><span class='token' style='background-color: #ffffff'> No<span class='feature_val'> (0.00)</span></span><span class='token' style='background-color: #ffffff'>.<span class='feature_val'> (0.00)</span></span><span class='token' style='background-color: #ffffff'> 1<span class='feature_val'> (0.00)</span></span><span class='token' style='background-color: #ffffff'> concern<span class='feature_val'> (0.00)</span></span><span class='token' style='background-color: #ffffff'> about<span class='feature_val'> (0.00)</span></span><span class='token' style='background-color: #ffffff'> voting<span class='feature_val'> (0.00)</span></span><span class='token' style='background-color: #ffffff'> for<span class='feature_val'> (0.00)</span></span><span class='token' style='background-color: #ffffff'> McCain<span class='feature_val'> (0.00)</span></span><span class='token' style='background-color: #ffffff'>.<span class='feature_val'> (0.00)</span></span><span class='token' style='background-color: #ffffff'> And<span class='feature_val'> (0.00)</span></span><span class='token' style='background-color: #ffffff'> that<span class='feature_val'> (0.00)</span></span><span class='token' style='background-color: #ffffff'> was<span class='feature_val'> (0.00)</span></span><span class='token' style='background-color: #ffffff'> all<span class='feature_val'> (0.00)</span></span><span class='token' style='background-color: #ffffff'> before<span class='feature_val'> (0.00)</span></span><span class='token' style='background-color: #ffffff'> Politico<span class='feature_val'> (0.00)</span></span><span class='token' style='background-color: #ffffff'> revealed<span class='feature_val'> (0.00)</span></span><span class='token' style='background-color: #ffffff'> that<span class='feature_val'> (0.00)</span></span><span class='token' style='background-color: #ffffff'> the<span class='feature_val'> (0.00)</span></span><span class='token' style='background-color: #ffffff'> RNC<span class='feature_val'> (0.00)</span></span><span class='token' style='background-color: #ffffff'> has<span class='feature_val'> (0.00)</span></span><span class='token' style='background-color: #ffffff'> spent<span class='feature_val'> (0.00)</span></span><span class='token' style='background-color: #ffffff'> $<span class='feature_val'> (0.00)</span></span><span class='token' style='background-color: #ffffff'>150<span class='feature_val'> (0.00)</span></span><span class='token' style='background-color: #ffffff'>,<span class='feature_val'> (0.00)</span></span><span class='token' style='background-color: #ffffff'>000<span class='feature_val'> (0.00)</span></span><span class='token' style='background-color: #ffffff'> on<span class='feature_val'> (0.00)</span></span><span class='token' style='background-color: #ffffff'> Palin<span class='feature_val'> (0.00)</span></span><span class='token' style='background-color: #ffffff'>�<span class='feature_val'> (0.00)</span></span><span class='token' style='background-color: #ffffff'>�<span class='feature_val'> (0.00)</span></span><span class='token' style='background-color: #ffffff'>s<span class='feature_val'> (0.00)</span></span><span class='token' style='background-color: #ffffff'> wardrobe<span class='feature_val'> (0.00)</span></span><span class='token' style='background-color: #ffffff'> since<span class='feature_val'> (0.00)</span></span><span class='token' style='background-color: #ffffff'> late<span class='feature_val'> (0.00)</span></span><span class='token' style='background-color: #ffffff'> August<span class='feature_val'> (0.00)</span></span><span class='token' style='background-color: #ffffff'>,<span class='feature_val'> (0.00)</span></span><span class='token' style='background-color: #ffffff'> the<span class='feature_val'> (0.00)</span></span><span class='token' style='background-color: #ffffff'> kind<span class='feature_val'> (0.00)</span></span><span class='token' style='background-color: #ffffff'> of<span class='feature_val'> (0.00)</span></span><span class='token' style='background-color: #ffffff'> spending<span class='feature_val'> (0.00)</span></span><span class='token' style='background-color: #ffffff'> spree<span class='feature_val'> (0.00)</span></span><span class='token' style='background-color: #ffffff'> that<span class='feature_val'> (0.00)</span></span><span class='token' style='background-color: #ffffff'> doesn<span class='feature_val'> (0.00)</span></span><span class='token' style='background-color: #ffffff'>�<span class='feature_val'> (0.00)</span></span><span class='token' style='background-color: #ffffff'>�<span class='feature_val'> (0.00)</span></span><span class='token' style='background-color: #ffffff'>t<span class='feature_val'> (0.00)</span></span><span class='token' style='background-color: #ffffff'> mesh<span class='feature_val'> (0.00)</span></span><span class='token' style='background-color: #ffffff'> with<span class='feature_val'> (0.00)</span></span><span class='token' style='background-color: #ffffff'> the<span class='feature_val'> (0.00)</span></span><span class='token' style='background-color: #ffffff'> candidate<span class='feature_val'> (0.00)</span></span><span class='token' style='background-color: #ffffff'>�<span class='feature_val'> (0.00)</span></span><span class='token' style='background-color: #ffffff'>�<span class='feature_val'> (0.00)</span></span><span class='token' style='background-color: #ffffff'>s<span class='feature_val'> (0.00)</span></span><span class='token' style='background-color: #ffffff'> image<span class='feature_val'> (0.00)</span></span><span class='token' style='background-color: #ffffff'> as<span class='feature_val'> (0.00)</span></span><span class='token' style='background-color: #ffffff'> a<span class='feature_val'> (0.00)</span></span><span class='token' style='background-color: #ffffff'> regular<span class='feature_val'> (0.00)</span></span><span class='token' style='background-color: #ffffff'> hockey<span class='feature_val'> (0.00)</span></span><span class='token' style='background-color: #ffffff'> mom<span class='feature_val'> (0.00)</span></span><span class='token' style='background-color: #ffffff'>,<span class='feature_val'> (0.00)</span></span><span class='token' style='background-color: #ffffff'> nor<span class='feature_val'> (0.00)</span></span><span class='token' style='background-color: #ffffff'> the<span class='feature_val'> (0.00)</span></span><span class='token' style='background-color: #ffffff'> campaign<span class='feature_val'> (0.00)</span></span><span class='token' style='background-color: #ffffff'>�<span class='feature_val'> (0.00)</span></span><span class='token' style='background-color: #ffffff'>�<span class='feature_val'> (0.00)</span></span><span class='token' style='background-color: #ffffff'>s<span class='feature_val'> (0.00)</span></span><span class='token' style='background-color: #ffffff'> appeals<span class='feature_val'> (0.00)</span></span><span class='token' style='background-color: #ffffff'> to<span class='feature_val'> (0.00)</span></span><span class='token' style='background-color: #ffffff'> middle<span class='feature_val'> (0.00)</span></span><span class='token' style='background-color: #ffffff'>-<span class='feature_val'> (0.00)</span></span><span class='token' style='background-color: #ffffff'>class<span class='feature_val'> (0.00)</span></span><span class='token' style='background-color: #ffffff'> Joe<span class='feature_val'> (0.00)</span></span><span class='token' style='background-color: #ffffff'> the<span class='feature_val'> (0.00)</span></span><span class='token' style='background-color: #ffffff'> Pl<span class='feature_val'> (0.00)</span></span><span class='token' style='background-color: #ffffff'>umbers<span class='feature_val'> (0.00)</span></span><span class='token' style='background-color: #ffffff'>.<span class='feature_val'> (0.00)</span></span><span class='token' style='background-color: #ffffff'>\n",
       "<span class='feature_val'> (0.00)</span></span><span class='token' style='background-color: #ffffff'>\n",
       "<span class='feature_val'> (0.00)</span></span><span class='token' style='background-color: #ffffff'>•<span class='feature_val'> (0.00)</span></span><span class='token' style='background-color: #ffffff'> Marc<span class='feature_val'> (0.00)</span></span><span class='token' style='background-color: #ffffff'> Amb<span class='feature_val'> (0.00)</span></span><span class='token' style='background-color: #ffffff'>inder<span class='feature_val'> (0.00)</span></span><span class='token' style='background-color: #ffffff'> says<span class='feature_val'> (0.00)</span></span><span class='token' style='background-color: #ffffff'> that<span class='feature_val'> (0.00)</span></span><span class='token' style='background-color: #ffffff'> �<span class='feature_val'> (0.00)</span></span><span class='token' style='background-color: #ffffff'>�<span class='feature_val'> (0.00)</span></span><span class='token' style='background-color: #ffffff'>Democrats<span class='feature_val'> (0.00)</span></span><span class='token' style='background-color: #ffffff'> are<span class='feature_val'> (0.00)</span></span><span class='token' style='background-color: #ffffff'> going<span class='feature_val'> (0.00)</span></span><span class='token' style='background-color: #ffffff'> to<span class='feature_val'> (0.00)</span></span><span class='token' style='background-color: #ffffff'> have<span class='feature_val'> (0.00)</span></span><span class='token' style='background-color: #ffffff'> a<span class='feature_val'> (0.00)</span></span><span class='token' style='background-color: #ffffff'> lot<span class='feature_val'> (0.00)</span></span><span class='token' style='background-color: #ffffff'> more<span class='feature_val'> (0.00)</span></span><span class='token' style='background-color: #ff8c00'> fun<span class='feature_val'> (23.22)</span></span><span class='token' style='background-color: #ffffff'> with<span class='feature_val'> (0.00)</span></span><span class='token' style='background-color: #ffffff'> this<span class='feature_val'> (0.00)</span></span><span class='token' style='background-color: #ffffff'> than<span class='feature_val'> (0.00)</span></span><span class='token' style='background-color: #ffffff'> is<span class='feature_val'> (0.00)</span></span>"
      ],
      "text/plain": [
       "<IPython.core.display.HTML object>"
      ]
     },
     "metadata": {},
     "output_type": "display_data"
    },
    {
     "data": {
      "text/html": [
       "\n",
       "    <style>\n",
       "        span.token {\n",
       "            font-family: monospace;\n",
       "            border-style: solid;\n",
       "            border-width: 1px;\n",
       "            border-color: #dddddd;\n",
       "        }\n",
       "    </style>\n",
       "    <span class='token' style='background-color: #ffffff'>&lt;|endoftext|&gt;<span class='feature_val'> (0.00)</span></span><span class='token' style='background-color: #ffffff'> almost<span class='feature_val'> (0.00)</span></span><span class='token' style='background-color: #ffffff'> all<span class='feature_val'> (0.00)</span></span><span class='token' style='background-color: #ffffff'> passionate<span class='feature_val'> (0.00)</span></span><span class='token' style='background-color: #ffffff'> programmers<span class='feature_val'> (0.00)</span></span><span class='token' style='background-color: #ffffff'> do<span class='feature_val'> (0.00)</span></span><span class='token' style='background-color: #ffffff'>:<span class='feature_val'> (0.00)</span></span><span class='token' style='background-color: #ffffff'> the<span class='feature_val'> (0.00)</span></span><span class='token' style='background-color: #fffefe'> joy<span class='feature_val'> (0.02)</span></span><span class='token' style='background-color: #ffffff'> of<span class='feature_val'> (0.00)</span></span><span class='token' style='background-color: #ffffff'> solving<span class='feature_val'> (0.00)</span></span><span class='token' style='background-color: #ffffff'> problems<span class='feature_val'> (0.00)</span></span><span class='token' style='background-color: #ffffff'> combined<span class='feature_val'> (0.00)</span></span><span class='token' style='background-color: #ffffff'> with<span class='feature_val'> (0.00)</span></span><span class='token' style='background-color: #ffffff'> the<span class='feature_val'> (0.00)</span></span><span class='token' style='background-color: #ffffff'> deep<span class='feature_val'> (0.00)</span></span><span class='token' style='background-color: #ffffff'> satisfaction<span class='feature_val'> (0.00)</span></span><span class='token' style='background-color: #ffffff'> of<span class='feature_val'> (0.00)</span></span><span class='token' style='background-color: #ffffff'> creating<span class='feature_val'> (0.00)</span></span><span class='token' style='background-color: #ffffff'> new<span class='feature_val'> (0.00)</span></span><span class='token' style='background-color: #ffffff'> things<span class='feature_val'> (0.00)</span></span><span class='token' style='background-color: #ffffff'>.<span class='feature_val'> (0.00)</span></span><span class='token' style='background-color: #ffffff'> When<span class='feature_val'> (0.00)</span></span><span class='token' style='background-color: #ffffff'> I<span class='feature_val'> (0.00)</span></span><span class='token' style='background-color: #ffffff'> started<span class='feature_val'> (0.00)</span></span><span class='token' style='background-color: #ffffff'> on<span class='feature_val'> (0.00)</span></span><span class='token' style='background-color: #ffffff'> this<span class='feature_val'> (0.00)</span></span><span class='token' style='background-color: #ffffff'> journey<span class='feature_val'> (0.00)</span></span><span class='token' style='background-color: #ffffff'>,<span class='feature_val'> (0.00)</span></span><span class='token' style='background-color: #ffffff'> programming<span class='feature_val'> (0.00)</span></span><span class='token' style='background-color: #ffffff'> was<span class='feature_val'> (0.00)</span></span><span class='token' style='background-color: #ffffff'> undeniably<span class='feature_val'> (0.00)</span></span><span class='token' style='background-color: #ff8c00'> fun<span class='feature_val'> (23.08)</span></span><span class='token' style='background-color: #ffffff'>.<span class='feature_val'> (0.00)</span></span><span class='token' style='background-color: #ffffff'> My<span class='feature_val'> (0.00)</span></span><span class='token' style='background-color: #ffffff'> ambitions<span class='feature_val'> (0.00)</span></span><span class='token' style='background-color: #ffffff'> ran<span class='feature_val'> (0.00)</span></span><span class='token' style='background-color: #ffffff'> in<span class='feature_val'> (0.00)</span></span><span class='token' style='background-color: #ffffff'> all<span class='feature_val'> (0.00)</span></span><span class='token' style='background-color: #ffffff'> directions<span class='feature_val'> (0.00)</span></span><span class='token' style='background-color: #ffffff'> at<span class='feature_val'> (0.00)</span></span><span class='token' style='background-color: #ffffff'> once<span class='feature_val'> (0.00)</span></span><span class='token' style='background-color: #ffffff'>.<span class='feature_val'> (0.00)</span></span><span class='token' style='background-color: #ffffff'> And<span class='feature_val'> (0.00)</span></span><span class='token' style='background-color: #ffffff'> so<span class='feature_val'> (0.00)</span></span><span class='token' style='background-color: #ffffff'> I<span class='feature_val'> (0.00)</span></span><span class='token' style='background-color: #ffffff'> pumped<span class='feature_val'> (0.00)</span></span><span class='token' style='background-color: #ffffff'> out<span class='feature_val'> (0.00)</span></span><span class='token' style='background-color: #ffffff'> lots<span class='feature_val'> (0.00)</span></span><span class='token' style='background-color: #ffffff'> of<span class='feature_val'> (0.00)</span></span><span class='token' style='background-color: #ffffff'> code<span class='feature_val'> (0.00)</span></span><span class='token' style='background-color: #ffffff'> on<span class='feature_val'> (0.00)</span></span><span class='token' style='background-color: #ffffff'> my<span class='feature_val'> (0.00)</span></span><span class='token' style='background-color: #ffffff'> own<span class='feature_val'> (0.00)</span></span><span class='token' style='background-color: #ffffff'> time<span class='feature_val'> (0.00)</span></span><span class='token' style='background-color: #ffffff'>:<span class='feature_val'> (0.00)</span></span><span class='token' style='background-color: #ffffff'> an<span class='feature_val'> (0.00)</span></span><span class='token' style='background-color: #ffffff'> arbitrary<span class='feature_val'> (0.00)</span></span><span class='token' style='background-color: #ffffff'>-<span class='feature_val'> (0.00)</span></span><span class='token' style='background-color: #ffffff'>pre<span class='feature_val'> (0.00)</span></span><span class='token' style='background-color: #ffffff'>cision<span class='feature_val'> (0.00)</span></span><span class='token' style='background-color: #ffffff'> calculator<span class='feature_val'> (0.00)</span></span><span class='token' style='background-color: #ffffff'>,<span class='feature_val'> (0.00)</span></span><span class='token' style='background-color: #ffffff'> a<span class='feature_val'> (0.00)</span></span><span class='token' style='background-color: #ffffff'> B<span class='feature_val'> (0.00)</span></span><span class='token' style='background-color: #ffffff'>+<span class='feature_val'> (0.00)</span></span><span class='token' style='background-color: #ffffff'>-<span class='feature_val'> (0.00)</span></span><span class='token' style='background-color: #ffffff'>tree<span class='feature_val'> (0.00)</span></span><span class='token' style='background-color: #ffffff'> library<span class='feature_val'> (0.00)</span></span><span class='token' style='background-color: #ffffff'>,<span class='feature_val'> (0.00)</span></span><span class='token' style='background-color: #ffffff'> a<span class='feature_val'> (0.00)</span></span><span class='token' style='background-color: #ffffff'> program<span class='feature_val'> (0.00)</span></span><span class='token' style='background-color: #ffffff'>mable<span class='feature_val'> (0.00)</span></span><span class='token' style='background-color: #ffffff'> code<span class='feature_val'> (0.00)</span></span><span class='token' style='background-color: #ffffff'> generator<span class='feature_val'> (0.00)</span></span><span class='token' style='background-color: #ffffff'> that<span class='feature_val'> (0.00)</span></span><span class='token' style='background-color: #ffffff'> could<span class='feature_val'> (0.00)</span></span><span class='token' style='background-color: #ffffff'> test<span class='feature_val'> (0.00)</span></span><span class='token' style='background-color: #ffffff'> the<span class='feature_val'> (0.00)</span></span><span class='token' style='background-color: #ffffff'> limits<span class='feature_val'> (0.00)</span></span><span class='token' style='background-color: #ffffff'> of<span class='feature_val'> (0.00)</span></span><span class='token' style='background-color: #ffffff'> comp<span class='feature_val'> (0.00)</span></span><span class='token' style='background-color: #ffffff'>ilers<span class='feature_val'> (0.00)</span></span><span class='token' style='background-color: #ffffff'>.<span class='feature_val'> (0.00)</span></span><span class='token' style='background-color: #ffffff'> These<span class='feature_val'> (0.00)</span></span><span class='token' style='background-color: #ffffff'> projects<span class='feature_val'> (0.00)</span></span><span class='token' style='background-color: #ffffff'> were<span class='feature_val'> (0.00)</span></span><span class='token' style='background-color: #ffffff'> hugely<span class='feature_val'> (0.00)</span></span><span class='token' style='background-color: #ffffff'> satisfying<span class='feature_val'> (0.00)</span></span><span class='token' style='background-color: #ffffff'>,<span class='feature_val'> (0.00)</span></span><span class='token' style='background-color: #ffffff'> made<span class='feature_val'> (0.00)</span></span><span class='token' style='background-color: #ffffff'> good<span class='feature_val'> (0.00)</span></span><span class='token' style='background-color: #ffffff'> articles<span class='feature_val'> (0.00)</span></span><span class='token' style='background-color: #ffffff'>,<span class='feature_val'> (0.00)</span></span><span class='token' style='background-color: #ffffff'> and<span class='feature_val'> (0.00)</span></span><span class='token' style='background-color: #ffffff'> were<span class='feature_val'> (0.00)</span></span><span class='token' style='background-color: #ffffff'> blessed<span class='feature_val'> (0.00)</span></span><span class='token' style='background-color: #ffffff'>ly<span class='feature_val'> (0.00)</span></span><span class='token' style='background-color: #ffffff'> bounded<span class='feature_val'> (0.00)</span></span><span class='token' style='background-color: #ffffff'>.<span class='feature_val'> (0.00)</span></span><span class='token' style='background-color: #ffffff'> Each<span class='feature_val'> (0.00)</span></span><span class='token' style='background-color: #ffffff'> one<span class='feature_val'> (0.00)</span></span><span class='token' style='background-color: #ffffff'> of<span class='feature_val'> (0.00)</span></span><span class='token' style='background-color: #ffffff'> them<span class='feature_val'> (0.00)</span></span><span class='token' style='background-color: #ffffff'> could<span class='feature_val'> (0.00)</span></span><span class='token' style='background-color: #ffffff'> be<span class='feature_val'> (0.00)</span></span><span class='token' style='background-color: #ffffff'> undertaken<span class='feature_val'> (0.00)</span></span><span class='token' style='background-color: #ffffff'> and<span class='feature_val'> (0.00)</span></span><span class='token' style='background-color: #ffffff'> finished<span class='feature_val'> (0.00)</span></span><span class='token' style='background-color: #ffffff'> in<span class='feature_val'> (0.00)</span></span><span class='token' style='background-color: #ffffff'> a<span class='feature_val'> (0.00)</span></span><span class='token' style='background-color: #ffffff'> few<span class='feature_val'> (0.00)</span></span><span class='token' style='background-color: #ffffff'> weeks<span class='feature_val'> (0.00)</span></span><span class='token' style='background-color: #ffffff'> to<span class='feature_val'> (0.00)</span></span><span class='token' style='background-color: #ffffff'> a<span class='feature_val'> (0.00)</span></span><span class='token' style='background-color: #ffffff'> few<span class='feature_val'> (0.00)</span></span><span class='token' style='background-color: #ffffff'> months<span class='feature_val'> (0.00)</span></span><span class='token' style='background-color: #ffffff'> of<span class='feature_val'> (0.00)</span></span><span class='token' style='background-color: #ffffff'> after<span class='feature_val'> (0.00)</span></span><span class='token' style='background-color: #ffffff'>-<span class='feature_val'> (0.00)</span></span><span class='token' style='background-color: #ffffff'>hours<span class='feature_val'> (0.00)</span></span><span class='token' style='background-color: #ffffff'> work<span class='feature_val'> (0.00)</span></span><span class='token' style='background-color: #ffffff'> —<span class='feature_val'> (0.00)</span></span><span class='token' style='background-color: #ffffff'> despite<span class='feature_val'> (0.00)</span></span><span class='token' style='background-color: #ffffff'> being<span class='feature_val'> (0.00)</span></span><span class='token' style='background-color: #ffffff'> written<span class='feature_val'> (0.00)</span></span><span class='token' style='background-color: #ffffff'> in<span class='feature_val'> (0.00)</span></span><span class='token' style='background-color: #ffffff'> C<span class='feature_val'> (0.00)</span></span>"
      ],
      "text/plain": [
       "<IPython.core.display.HTML object>"
      ]
     },
     "metadata": {},
     "output_type": "display_data"
    },
    {
     "data": {
      "text/html": [
       "\n",
       "    <style>\n",
       "        span.token {\n",
       "            font-family: monospace;\n",
       "            border-style: solid;\n",
       "            border-width: 1px;\n",
       "            border-color: #dddddd;\n",
       "        }\n",
       "    </style>\n",
       "    <span class='token' style='background-color: #ffffff'>&lt;|endoftext|&gt;<span class='feature_val'> (0.00)</span></span><span class='token' style='background-color: #ffffff'> get<span class='feature_val'> (0.00)</span></span><span class='token' style='background-color: #ffffff'> there<span class='feature_val'> (0.00)</span></span><span class='token' style='background-color: #ffffff'> your<span class='feature_val'> (0.00)</span></span><span class='token' style='background-color: #ffffff'> teacher<span class='feature_val'> (0.00)</span></span><span class='token' style='background-color: #ffffff'> starts<span class='feature_val'> (0.00)</span></span><span class='token' style='background-color: #ffffff'> blah<span class='feature_val'> (0.00)</span></span><span class='token' style='background-color: #ffffff'>-<span class='feature_val'> (0.00)</span></span><span class='token' style='background-color: #ffffff'>bl<span class='feature_val'> (0.00)</span></span><span class='token' style='background-color: #ffffff'>a<span class='feature_val'> (0.00)</span></span><span class='token' style='background-color: #ffffff'>hing<span class='feature_val'> (0.00)</span></span><span class='token' style='background-color: #ffffff'> about<span class='feature_val'> (0.00)</span></span><span class='token' style='background-color: #ffffff'> something<span class='feature_val'> (0.00)</span></span><span class='token' style='background-color: #ffffff'> or<span class='feature_val'> (0.00)</span></span><span class='token' style='background-color: #ffffff'> other<span class='feature_val'> (0.00)</span></span><span class='token' style='background-color: #ffffff'> and<span class='feature_val'> (0.00)</span></span><span class='token' style='background-color: #ffffff'> that<span class='feature_val'> (0.00)</span></span><span class='token' style='background-color: #ffffff'>�<span class='feature_val'> (0.00)</span></span><span class='token' style='background-color: #ffffff'>�<span class='feature_val'> (0.00)</span></span><span class='token' style='background-color: #ffffff'>s<span class='feature_val'> (0.00)</span></span><span class='token' style='background-color: #ffffff'> when<span class='feature_val'> (0.00)</span></span><span class='token' style='background-color: #ffffff'> you<span class='feature_val'> (0.00)</span></span><span class='token' style='background-color: #ffffff'> and<span class='feature_val'> (0.00)</span></span><span class='token' style='background-color: #ffffff'> your<span class='feature_val'> (0.00)</span></span><span class='token' style='background-color: #ffffff'> friend<span class='feature_val'> (0.00)</span></span><span class='token' style='background-color: #ffffff'> see<span class='feature_val'> (0.00)</span></span><span class='token' style='background-color: #ffffff'> the<span class='feature_val'> (0.00)</span></span><span class='token' style='background-color: #ffffff'> red<span class='feature_val'> (0.00)</span></span><span class='token' style='background-color: #ffffff'> door<span class='feature_val'> (0.00)</span></span><span class='token' style='background-color: #ffffff'>.<span class='feature_val'> (0.00)</span></span><span class='token' style='background-color: #ffffff'> If<span class='feature_val'> (0.00)</span></span><span class='token' style='background-color: #ffffff'> you<span class='feature_val'> (0.00)</span></span><span class='token' style='background-color: #ffffff'> decide<span class='feature_val'> (0.00)</span></span><span class='token' style='background-color: #ffffff'> to<span class='feature_val'> (0.00)</span></span><span class='token' style='background-color: #ffffff'> check<span class='feature_val'> (0.00)</span></span><span class='token' style='background-color: #ffffff'> out<span class='feature_val'> (0.00)</span></span><span class='token' style='background-color: #ffffff'> what<span class='feature_val'> (0.00)</span></span><span class='token' style='background-color: #ffffff'>&#x27;s<span class='feature_val'> (0.00)</span></span><span class='token' style='background-color: #ffffff'> behind<span class='feature_val'> (0.00)</span></span><span class='token' style='background-color: #ffffff'> door<span class='feature_val'> (0.00)</span></span><span class='token' style='background-color: #ffffff'> #<span class='feature_val'> (0.00)</span></span><span class='token' style='background-color: #ffffff'>1<span class='feature_val'> (0.00)</span></span><span class='token' style='background-color: #ffffff'>,<span class='feature_val'> (0.00)</span></span><span class='token' style='background-color: #ffffff'> you<span class='feature_val'> (0.00)</span></span><span class='token' style='background-color: #ffffff'>&#x27;ll<span class='feature_val'> (0.00)</span></span><span class='token' style='background-color: #ffffff'> discover<span class='feature_val'> (0.00)</span></span><span class='token' style='background-color: #ffffff'> the<span class='feature_val'> (0.00)</span></span><span class='token' style='background-color: #ffffff'> museum<span class='feature_val'> (0.00)</span></span><span class='token' style='background-color: #ffffff'> owner<span class='feature_val'> (0.00)</span></span><span class='token' style='background-color: #ffffff'>�<span class='feature_val'> (0.00)</span></span><span class='token' style='background-color: #ffffff'>�<span class='feature_val'> (0.00)</span></span><span class='token' style='background-color: #ffffff'>s<span class='feature_val'> (0.00)</span></span><span class='token' style='background-color: #ffffff'> secret<span class='feature_val'> (0.00)</span></span><span class='token' style='background-color: #ffffff'> for<span class='feature_val'> (0.00)</span></span><span class='token' style='background-color: #ffffff'> making<span class='feature_val'> (0.00)</span></span><span class='token' style='background-color: #ffffff'> lif<span class='feature_val'> (0.00)</span></span><span class='token' style='background-color: #ffffff'>el<span class='feature_val'> (0.00)</span></span><span class='token' style='background-color: #ffffff'>ike<span class='feature_val'> (0.00)</span></span><span class='token' style='background-color: #ffffff'> sculptures<span class='feature_val'> (0.00)</span></span><span class='token' style='background-color: #ffffff'>.<span class='feature_val'> (0.00)</span></span><span class='token' style='background-color: #ffffff'> And<span class='feature_val'> (0.00)</span></span><span class='token' style='background-color: #ffffff'> it<span class='feature_val'> (0.00)</span></span><span class='token' style='background-color: #ffffff'> doesn<span class='feature_val'> (0.00)</span></span><span class='token' style='background-color: #ffffff'>�<span class='feature_val'> (0.00)</span></span><span class='token' style='background-color: #ffffff'>�<span class='feature_val'> (0.00)</span></span><span class='token' style='background-color: #ffffff'>t<span class='feature_val'> (0.00)</span></span><span class='token' style='background-color: #ffffff'> look<span class='feature_val'> (0.00)</span></span><span class='token' style='background-color: #ffffff'> like<span class='feature_val'> (0.00)</span></span><span class='token' style='background-color: #ff8c00'> fun<span class='feature_val'> (23.00)</span></span><span class='token' style='background-color: #ffffff'>!<span class='feature_val'> (0.00)</span></span><span class='token' style='background-color: #ffffff'> If<span class='feature_val'> (0.00)</span></span><span class='token' style='background-color: #ffffff'> you<span class='feature_val'> (0.00)</span></span><span class='token' style='background-color: #ffffff'> decide<span class='feature_val'> (0.00)</span></span><span class='token' style='background-color: #ffffff'> to<span class='feature_val'> (0.00)</span></span><span class='token' style='background-color: #ffffff'> ditch<span class='feature_val'> (0.00)</span></span><span class='token' style='background-color: #ffffff'> the<span class='feature_val'> (0.00)</span></span><span class='token' style='background-color: #ffffff'> red<span class='feature_val'> (0.00)</span></span><span class='token' style='background-color: #ffffff'> door<span class='feature_val'> (0.00)</span></span><span class='token' style='background-color: #ffffff'> and<span class='feature_val'> (0.00)</span></span><span class='token' style='background-color: #ffffff'> go<span class='feature_val'> (0.00)</span></span><span class='token' style='background-color: #ffffff'> the<span class='feature_val'> (0.00)</span></span><span class='token' style='background-color: #ffffff'> other<span class='feature_val'> (0.00)</span></span><span class='token' style='background-color: #ffffff'> way<span class='feature_val'> (0.00)</span></span><span class='token' style='background-color: #ffffff'> you<span class='feature_val'> (0.00)</span></span><span class='token' style='background-color: #ffffff'>&#x27;ll<span class='feature_val'> (0.00)</span></span><span class='token' style='background-color: #ffffff'> end<span class='feature_val'> (0.00)</span></span><span class='token' style='background-color: #ffffff'> up<span class='feature_val'> (0.00)</span></span><span class='token' style='background-color: #ffffff'> meeting<span class='feature_val'> (0.00)</span></span><span class='token' style='background-color: #ffffff'> scary<span class='feature_val'> (0.00)</span></span><span class='token' style='background-color: #ffffff'> Sy<span class='feature_val'> (0.00)</span></span><span class='token' style='background-color: #ffffff'>bil<span class='feature_val'> (0.00)</span></span><span class='token' style='background-color: #ffffff'> Wicked<span class='feature_val'> (0.00)</span></span><span class='token' style='background-color: #ffffff'> —<span class='feature_val'> (0.00)</span></span><span class='token' style='background-color: #ffffff'> and<span class='feature_val'> (0.00)</span></span><span class='token' style='background-color: #ffffff'> wish<span class='feature_val'> (0.00)</span></span><span class='token' style='background-color: #ffffff'> you<span class='feature_val'> (0.00)</span></span><span class='token' style='background-color: #ffffff'> hadn<span class='feature_val'> (0.00)</span></span><span class='token' style='background-color: #ffffff'>&#x27;t<span class='feature_val'> (0.00)</span></span><span class='token' style='background-color: #ffffff'>.<span class='feature_val'> (0.00)</span></span><span class='token' style='background-color: #ffffff'> Will<span class='feature_val'> (0.00)</span></span><span class='token' style='background-color: #ffffff'> you<span class='feature_val'> (0.00)</span></span><span class='token' style='background-color: #ffffff'> escape<span class='feature_val'> (0.00)</span></span><span class='token' style='background-color: #ffffff'> this<span class='feature_val'> (0.00)</span></span><span class='token' style='background-color: #ffffff'> creepy<span class='feature_val'> (0.00)</span></span><span class='token' style='background-color: #ffffff'> place<span class='feature_val'> (0.00)</span></span><span class='token' style='background-color: #ffffff'> before<span class='feature_val'> (0.00)</span></span><span class='token' style='background-color: #ffffff'> you<span class='feature_val'> (0.00)</span></span><span class='token' style='background-color: #ffffff'>&#x27;re<span class='feature_val'> (0.00)</span></span><span class='token' style='background-color: #ffffff'> turned<span class='feature_val'> (0.00)</span></span><span class='token' style='background-color: #ffffff'> into<span class='feature_val'> (0.00)</span></span><span class='token' style='background-color: #ffffff'> a<span class='feature_val'> (0.00)</span></span><span class='token' style='background-color: #ffffff'> human<span class='feature_val'> (0.00)</span></span><span class='token' style='background-color: #ffffff'> candle<span class='feature_val'> (0.00)</span></span><span class='token' style='background-color: #ffffff'>?<span class='feature_val'> (0.00)</span></span><span class='token' style='background-color: #ffffff'>\n",
       "<span class='feature_val'> (0.00)</span></span><span class='token' style='background-color: #ffffff'>\n",
       "<span class='feature_val'> (0.00)</span></span><span class='token' style='background-color: #ffffff'>13<span class='feature_val'> (0.00)</span></span><span class='token' style='background-color: #ffffff'> Scream<span class='feature_val'> (0.00)</span></span><span class='token' style='background-color: #ffffff'> of<span class='feature_val'> (0.00)</span></span><span class='token' style='background-color: #ffffff'> the<span class='feature_val'> (0.00)</span></span><span class='token' style='background-color: #ffffff'> Evil<span class='feature_val'> (0.00)</span></span><span class='token' style='background-color: #ffffff'> Genie<span class='feature_val'> (0.00)</span></span><span class='token' style='background-color: #ffffff'> January<span class='feature_val'> (0.00)</span></span><span class='token' style='background-color: #ffffff'> 1997<span class='feature_val'> (0.00)</span></span><span class='token' style='background-color: #ffffff'> 137<span class='feature_val'> (0.00)</span></span><span class='token' style='background-color: #ffffff'> This<span class='feature_val'> (0.00)</span></span><span class='token' style='background-color: #ffffff'> Genie<span class='feature_val'> (0.00)</span></span><span class='token' style='background-color: #ffffff'>&#x27;s<span class='feature_val'> (0.00)</span></span>"
      ],
      "text/plain": [
       "<IPython.core.display.HTML object>"
      ]
     },
     "metadata": {},
     "output_type": "display_data"
    },
    {
     "data": {
      "text/html": [
       "\n",
       "    <style>\n",
       "        span.token {\n",
       "            font-family: monospace;\n",
       "            border-style: solid;\n",
       "            border-width: 1px;\n",
       "            border-color: #dddddd;\n",
       "        }\n",
       "    </style>\n",
       "    <span class='token' style='background-color: #ffffff'>&lt;|endoftext|&gt;<span class='feature_val'> (0.00)</span></span><span class='token' style='background-color: #ffffff'> is<span class='feature_val'> (0.00)</span></span><span class='token' style='background-color: #ffffff'> because<span class='feature_val'> (0.00)</span></span><span class='token' style='background-color: #ffffff'> we<span class='feature_val'> (0.00)</span></span><span class='token' style='background-color: #ffffff'>�<span class='feature_val'> (0.00)</span></span><span class='token' style='background-color: #ffffff'>�<span class='feature_val'> (0.00)</span></span><span class='token' style='background-color: #ffffff'>re<span class='feature_val'> (0.00)</span></span><span class='token' style='background-color: #ffffff'> continuously<span class='feature_val'> (0.00)</span></span><span class='token' style='background-color: #ffffff'> talking<span class='feature_val'> (0.00)</span></span><span class='token' style='background-color: #ffffff'> to<span class='feature_val'> (0.00)</span></span><span class='token' style='background-color: #ffffff'> them<span class='feature_val'> (0.00)</span></span><span class='token' style='background-color: #ffffff'>.<span class='feature_val'> (0.00)</span></span><span class='token' style='background-color: #ffffff'>\n",
       "<span class='feature_val'> (0.00)</span></span><span class='token' style='background-color: #ffffff'>\n",
       "<span class='feature_val'> (0.00)</span></span><span class='token' style='background-color: #ffffff'>For<span class='feature_val'> (0.00)</span></span><span class='token' style='background-color: #ffffff'> the<span class='feature_val'> (0.00)</span></span><span class='token' style='background-color: #ffffff'> past<span class='feature_val'> (0.00)</span></span><span class='token' style='background-color: #ffffff'> several<span class='feature_val'> (0.00)</span></span><span class='token' style='background-color: #ffffff'> years<span class='feature_val'> (0.00)</span></span><span class='token' style='background-color: #ffffff'> we<span class='feature_val'> (0.00)</span></span><span class='token' style='background-color: #ffffff'>�<span class='feature_val'> (0.00)</span></span><span class='token' style='background-color: #ffffff'>�<span class='feature_val'> (0.00)</span></span><span class='token' style='background-color: #ffffff'>ve<span class='feature_val'> (0.00)</span></span><span class='token' style='background-color: #ffffff'> been<span class='feature_val'> (0.00)</span></span><span class='token' style='background-color: #ffffff'> talking<span class='feature_val'> (0.00)</span></span><span class='token' style='background-color: #ffffff'> with<span class='feature_val'> (0.00)</span></span><span class='token' style='background-color: #ffffff'> them<span class='feature_val'> (0.00)</span></span><span class='token' style='background-color: #ffffff'>,<span class='feature_val'> (0.00)</span></span><span class='token' style='background-color: #ffffff'> discussing<span class='feature_val'> (0.00)</span></span><span class='token' style='background-color: #ffffff'> designs<span class='feature_val'> (0.00)</span></span><span class='token' style='background-color: #ffffff'>,<span class='feature_val'> (0.00)</span></span><span class='token' style='background-color: #ffffff'> discussing<span class='feature_val'> (0.00)</span></span><span class='token' style='background-color: #ffffff'> ideas<span class='feature_val'> (0.00)</span></span><span class='token' style='background-color: #ffffff'>,<span class='feature_val'> (0.00)</span></span><span class='token' style='background-color: #ffffff'> DLC<span class='feature_val'> (0.00)</span></span><span class='token' style='background-color: #ffffff'>,<span class='feature_val'> (0.00)</span></span><span class='token' style='background-color: #ffffff'> having<span class='feature_val'> (0.00)</span></span><span class='token' style='background-color: #ff8c00'> fun<span class='feature_val'> (22.94)</span></span><span class='token' style='background-color: #ffffff'> and<span class='feature_val'> (0.00)</span></span><span class='token' style='background-color: #ffffff'> so<span class='feature_val'> (0.00)</span></span><span class='token' style='background-color: #ffffff'> on<span class='feature_val'> (0.00)</span></span><span class='token' style='background-color: #ffffff'>.<span class='feature_val'> (0.00)</span></span><span class='token' style='background-color: #ffffff'> So<span class='feature_val'> (0.00)</span></span><span class='token' style='background-color: #ffffff'> I<span class='feature_val'> (0.00)</span></span><span class='token' style='background-color: #ffffff'> think<span class='feature_val'> (0.00)</span></span><span class='token' style='background-color: #ffffff'> we<span class='feature_val'> (0.00)</span></span><span class='token' style='background-color: #ffffff'>�<span class='feature_val'> (0.00)</span></span><span class='token' style='background-color: #ffffff'>�<span class='feature_val'> (0.00)</span></span><span class='token' style='background-color: #ffffff'>ve<span class='feature_val'> (0.00)</span></span><span class='token' style='background-color: #ffffff'> got<span class='feature_val'> (0.00)</span></span><span class='token' style='background-color: #ffffff'> everything<span class='feature_val'> (0.00)</span></span><span class='token' style='background-color: #ffffff'> we<span class='feature_val'> (0.00)</span></span><span class='token' style='background-color: #ffffff'> need<span class='feature_val'> (0.00)</span></span><span class='token' style='background-color: #ffffff'> in<span class='feature_val'> (0.00)</span></span><span class='token' style='background-color: #ffffff'> order<span class='feature_val'> (0.00)</span></span><span class='token' style='background-color: #ffffff'> to<span class='feature_val'> (0.00)</span></span><span class='token' style='background-color: #ffffff'> stay<span class='feature_val'> (0.00)</span></span><span class='token' style='background-color: #ffffff'> on<span class='feature_val'> (0.00)</span></span><span class='token' style='background-color: #ffffff'> top<span class='feature_val'> (0.00)</span></span><span class='token' style='background-color: #ffffff'> –<span class='feature_val'> (0.00)</span></span><span class='token' style='background-color: #ffffff'> now<span class='feature_val'> (0.00)</span></span><span class='token' style='background-color: #ffffff'> we<span class='feature_val'> (0.00)</span></span><span class='token' style='background-color: #ffffff'> just<span class='feature_val'> (0.00)</span></span><span class='token' style='background-color: #ffffff'> have<span class='feature_val'> (0.00)</span></span><span class='token' style='background-color: #ffffff'> the<span class='feature_val'> (0.00)</span></span><span class='token' style='background-color: #ffffff'> hard<span class='feature_val'> (0.00)</span></span><span class='token' style='background-color: #ffffff'> work<span class='feature_val'> (0.00)</span></span><span class='token' style='background-color: #ffffff'> in<span class='feature_val'> (0.00)</span></span><span class='token' style='background-color: #ffffff'> front<span class='feature_val'> (0.00)</span></span><span class='token' style='background-color: #ffffff'> of<span class='feature_val'> (0.00)</span></span><span class='token' style='background-color: #ffffff'> us<span class='feature_val'> (0.00)</span></span><span class='token' style='background-color: #ffffff'>.<span class='feature_val'> (0.00)</span></span><span class='token' style='background-color: #ffffff'> One<span class='feature_val'> (0.00)</span></span><span class='token' style='background-color: #ffffff'> of<span class='feature_val'> (0.00)</span></span><span class='token' style='background-color: #ffffff'> the<span class='feature_val'> (0.00)</span></span><span class='token' style='background-color: #ffffff'> good<span class='feature_val'> (0.00)</span></span><span class='token' style='background-color: #ffffff'> things<span class='feature_val'> (0.00)</span></span><span class='token' style='background-color: #ffffff'> as<span class='feature_val'> (0.00)</span></span><span class='token' style='background-color: #ffffff'> well<span class='feature_val'> (0.00)</span></span><span class='token' style='background-color: #ffffff'> is<span class='feature_val'> (0.00)</span></span><span class='token' style='background-color: #ffffff'> that<span class='feature_val'> (0.00)</span></span><span class='token' style='background-color: #ffffff'> we<span class='feature_val'> (0.00)</span></span><span class='token' style='background-color: #ffffff'>�<span class='feature_val'> (0.00)</span></span><span class='token' style='background-color: #ffffff'>�<span class='feature_val'> (0.00)</span></span><span class='token' style='background-color: #ffffff'>ve<span class='feature_val'> (0.00)</span></span><span class='token' style='background-color: #ffffff'> now<span class='feature_val'> (0.00)</span></span><span class='token' style='background-color: #ffffff'> signed<span class='feature_val'> (0.00)</span></span><span class='token' style='background-color: #ffffff'> 24<span class='feature_val'> (0.00)</span></span><span class='token' style='background-color: #ffffff'> months<span class='feature_val'> (0.00)</span></span><span class='token' style='background-color: #ffffff'> of<span class='feature_val'> (0.00)</span></span><span class='token' style='background-color: #ffffff'> extra<span class='feature_val'> (0.00)</span></span><span class='token' style='background-color: #ffffff'> development<span class='feature_val'> (0.00)</span></span><span class='token' style='background-color: #ffffff'> with<span class='feature_val'> (0.00)</span></span><span class='token' style='background-color: #ffffff'> our<span class='feature_val'> (0.00)</span></span><span class='token' style='background-color: #ffffff'> publishing<span class='feature_val'> (0.00)</span></span><span class='token' style='background-color: #ffffff'> partner<span class='feature_val'> (0.00)</span></span><span class='token' style='background-color: #ffffff'> 505<span class='feature_val'> (0.00)</span></span><span class='token' style='background-color: #ffffff'> Games<span class='feature_val'> (0.00)</span></span><span class='token' style='background-color: #ffffff'>.<span class='feature_val'> (0.00)</span></span><span class='token' style='background-color: #ffffff'> That<span class='feature_val'> (0.00)</span></span><span class='token' style='background-color: #ffffff'> means<span class='feature_val'> (0.00)</span></span><span class='token' style='background-color: #ffffff'> when<span class='feature_val'> (0.00)</span></span><span class='token' style='background-color: #ffffff'> you<span class='feature_val'> (0.00)</span></span><span class='token' style='background-color: #ffffff'> commit<span class='feature_val'> (0.00)</span></span><span class='token' style='background-color: #ffffff'> to<span class='feature_val'> (0.00)</span></span><span class='token' style='background-color: #ffffff'> Pay<span class='feature_val'> (0.00)</span></span><span class='token' style='background-color: #ffffff'>day<span class='feature_val'> (0.00)</span></span><span class='token' style='background-color: #ffffff'> 2<span class='feature_val'> (0.00)</span></span><span class='token' style='background-color: #ffffff'> Crim<span class='feature_val'> (0.00)</span></span><span class='token' style='background-color: #ffffff'>ew<span class='feature_val'> (0.00)</span></span><span class='token' style='background-color: #ffffff'>ave<span class='feature_val'> (0.00)</span></span><span class='token' style='background-color: #ffffff'> Edition<span class='feature_val'> (0.00)</span></span><span class='token' style='background-color: #ffffff'>,<span class='feature_val'> (0.00)</span></span><span class='token' style='background-color: #ffffff'> you<span class='feature_val'> (0.00)</span></span><span class='token' style='background-color: #ffffff'> know<span class='feature_val'> (0.00)</span></span><span class='token' style='background-color: #ffffff'> that<span class='feature_val'> (0.00)</span></span><span class='token' style='background-color: #ffffff'> the<span class='feature_val'> (0.00)</span></span><span class='token' style='background-color: #ffffff'> game<span class='feature_val'> (0.00)</span></span><span class='token' style='background-color: #ffffff'> is<span class='feature_val'> (0.00)</span></span><span class='token' style='background-color: #ffffff'> going<span class='feature_val'> (0.00)</span></span><span class='token' style='background-color: #ffffff'> to<span class='feature_val'> (0.00)</span></span><span class='token' style='background-color: #ffffff'> be<span class='feature_val'> (0.00)</span></span><span class='token' style='background-color: #ffffff'> developed<span class='feature_val'> (0.00)</span></span><span class='token' style='background-color: #ffffff'> for<span class='feature_val'> (0.00)</span></span><span class='token' style='background-color: #ffffff'> an<span class='feature_val'> (0.00)</span></span><span class='token' style='background-color: #ffffff'> additional<span class='feature_val'> (0.00)</span></span><span class='token' style='background-color: #ffffff'> 24<span class='feature_val'> (0.00)</span></span><span class='token' style='background-color: #ffffff'> months<span class='feature_val'> (0.00)</span></span>"
      ],
      "text/plain": [
       "<IPython.core.display.HTML object>"
      ]
     },
     "metadata": {},
     "output_type": "display_data"
    },
    {
     "data": {
      "text/html": [
       "\n",
       "    <style>\n",
       "        span.token {\n",
       "            font-family: monospace;\n",
       "            border-style: solid;\n",
       "            border-width: 1px;\n",
       "            border-color: #dddddd;\n",
       "        }\n",
       "    </style>\n",
       "    <span class='token' style='background-color: #ffffff'>&lt;|endoftext|&gt;<span class='feature_val'> (0.00)</span></span><span class='token' style='background-color: #ffffff'> Studios<span class='feature_val'> (0.00)</span></span><span class='token' style='background-color: #ffffff'> or<span class='feature_val'> (0.00)</span></span><span class='token' style='background-color: #ffffff'> as<span class='feature_val'> (0.00)</span></span><span class='token' style='background-color: #ffffff'> some<span class='feature_val'> (0.00)</span></span><span class='token' style='background-color: #ffffff'> people<span class='feature_val'> (0.00)</span></span><span class='token' style='background-color: #ffffff'> call<span class='feature_val'> (0.00)</span></span><span class='token' style='background-color: #ffffff'> it<span class='feature_val'> (0.00)</span></span><span class='token' style='background-color: #ffffff'> �<span class='feature_val'> (0.00)</span></span><span class='token' style='background-color: #ffffff'>�<span class='feature_val'> (0.00)</span></span><span class='token' style='background-color: #ffffff'>Construction<span class='feature_val'> (0.00)</span></span><span class='token' style='background-color: #ffffff'> Land<span class='feature_val'> (0.00)</span></span><span class='token' style='background-color: #ffffff'>�<span class='feature_val'> (0.00)</span></span><span class='token' style='background-color: #ffffff'>�<span class='feature_val'> (0.00)</span></span><span class='token' style='background-color: #ffffff'>.<span class='feature_val'> (0.00)</span></span><span class='token' style='background-color: #ffffff'> This<span class='feature_val'> (0.00)</span></span><span class='token' style='background-color: #ffffff'> is<span class='feature_val'> (0.00)</span></span><span class='token' style='background-color: #ffffff'> still<span class='feature_val'> (0.00)</span></span><span class='token' style='background-color: #ffffff'> my<span class='feature_val'> (0.00)</span></span><span class='token' style='background-color: #ffffff'> favourite<span class='feature_val'> (0.00)</span></span><span class='token' style='background-color: #ffffff'> park<span class='feature_val'> (0.00)</span></span><span class='token' style='background-color: #ffffff'>,<span class='feature_val'> (0.00)</span></span><span class='token' style='background-color: #ffffff'> and<span class='feature_val'> (0.00)</span></span><span class='token' style='background-color: #ffffff'> I<span class='feature_val'> (0.00)</span></span><span class='token' style='background-color: #ffffff'> can<span class='feature_val'> (0.00)</span></span><span class='token' style='background-color: #ffffff'> easily<span class='feature_val'> (0.00)</span></span><span class='token' style='background-color: #ffffff'> fill<span class='feature_val'> (0.00)</span></span><span class='token' style='background-color: #ffffff'> an<span class='feature_val'> (0.00)</span></span><span class='token' style='background-color: #ffffff'> entire<span class='feature_val'> (0.00)</span></span><span class='token' style='background-color: #ffffff'> day<span class='feature_val'> (0.00)</span></span><span class='token' style='background-color: #ffffff'> there<span class='feature_val'> (0.00)</span></span><span class='token' style='background-color: #ffffff'>.<span class='feature_val'> (0.00)</span></span><span class='token' style='background-color: #ffffff'> I<span class='feature_val'> (0.00)</span></span><span class='token' style='background-color: #ffffff'> see<span class='feature_val'> (0.00)</span></span><span class='token' style='background-color: #ffffff'> people<span class='feature_val'> (0.00)</span></span><span class='token' style='background-color: #ffffff'>�<span class='feature_val'> (0.00)</span></span><span class='token' style='background-color: #ffffff'>�<span class='feature_val'> (0.00)</span></span><span class='token' style='background-color: #ffffff'>s<span class='feature_val'> (0.00)</span></span><span class='token' style='background-color: #ffffff'> point<span class='feature_val'> (0.00)</span></span><span class='token' style='background-color: #ffffff'> about<span class='feature_val'> (0.00)</span></span><span class='token' style='background-color: #ffffff'> attractions<span class='feature_val'> (0.00)</span></span><span class='token' style='background-color: #ffffff'> closing<span class='feature_val'> (0.00)</span></span><span class='token' style='background-color: #ffffff'> down<span class='feature_val'> (0.00)</span></span><span class='token' style='background-color: #ffffff'>,<span class='feature_val'> (0.00)</span></span><span class='token' style='background-color: #ffffff'> but<span class='feature_val'> (0.00)</span></span><span class='token' style='background-color: #ffffff'> there<span class='feature_val'> (0.00)</span></span><span class='token' style='background-color: #ffffff'> is<span class='feature_val'> (0.00)</span></span><span class='token' style='background-color: #ffffff'> still<span class='feature_val'> (0.00)</span></span><span class='token' style='background-color: #ffffff'> a<span class='feature_val'> (0.00)</span></span><span class='token' style='background-color: #ffffff'> ton<span class='feature_val'> (0.00)</span></span><span class='token' style='background-color: #ffffff'> of<span class='feature_val'> (0.00)</span></span><span class='token' style='background-color: #ff8c00'> fun<span class='feature_val'> (22.92)</span></span><span class='token' style='background-color: #ffffff'> to<span class='feature_val'> (0.00)</span></span><span class='token' style='background-color: #ffffff'> have<span class='feature_val'> (0.00)</span></span><span class='token' style='background-color: #ffffff'> in<span class='feature_val'> (0.00)</span></span><span class='token' style='background-color: #ffffff'> the<span class='feature_val'> (0.00)</span></span><span class='token' style='background-color: #ffffff'> park<span class='feature_val'> (0.00)</span></span><span class='token' style='background-color: #ffffff'>.<span class='feature_val'> (0.00)</span></span><span class='token' style='background-color: #ffffff'> Character<span class='feature_val'> (0.00)</span></span><span class='token' style='background-color: #ffffff'> meet<span class='feature_val'> (0.00)</span></span><span class='token' style='background-color: #ffffff'>-<span class='feature_val'> (0.00)</span></span><span class='token' style='background-color: #ffffff'>and<span class='feature_val'> (0.00)</span></span><span class='token' style='background-color: #ffffff'>-<span class='feature_val'> (0.00)</span></span><span class='token' style='background-color: #ffffff'>gre<span class='feature_val'> (0.00)</span></span><span class='token' style='background-color: #ffffff'>ets<span class='feature_val'> (0.00)</span></span><span class='token' style='background-color: #ffffff'> are<span class='feature_val'> (0.00)</span></span><span class='token' style='background-color: #ffffff'> a<span class='feature_val'> (0.00)</span></span><span class='token' style='background-color: #ffffff'> fantastic<span class='feature_val'> (0.00)</span></span><span class='token' style='background-color: #ffffff'> way<span class='feature_val'> (0.00)</span></span><span class='token' style='background-color: #ffffff'> to<span class='feature_val'> (0.00)</span></span><span class='token' style='background-color: #ffffff'> fill<span class='feature_val'> (0.00)</span></span><span class='token' style='background-color: #ffffff'> your<span class='feature_val'> (0.00)</span></span><span class='token' style='background-color: #ffffff'> day<span class='feature_val'> (0.00)</span></span><span class='token' style='background-color: #ffffff'> here<span class='feature_val'> (0.00)</span></span><span class='token' style='background-color: #ffffff'>.<span class='feature_val'> (0.00)</span></span><span class='token' style='background-color: #ffffff'> Plus<span class='feature_val'> (0.00)</span></span><span class='token' style='background-color: #ffffff'>,<span class='feature_val'> (0.00)</span></span><span class='token' style='background-color: #ffffff'> there<span class='feature_val'> (0.00)</span></span><span class='token' style='background-color: #ffffff'> is<span class='feature_val'> (0.00)</span></span><span class='token' style='background-color: #ffffff'> the<span class='feature_val'> (0.00)</span></span><span class='token' style='background-color: #ffffff'> added<span class='feature_val'> (0.00)</span></span><span class='token' style='background-color: #ffffff'> bonus<span class='feature_val'> (0.00)</span></span><span class='token' style='background-color: #ffffff'> that<span class='feature_val'> (0.00)</span></span><span class='token' style='background-color: #ffffff'> this<span class='feature_val'> (0.00)</span></span><span class='token' style='background-color: #ffffff'> is<span class='feature_val'> (0.00)</span></span><span class='token' style='background-color: #ffffff'> the<span class='feature_val'> (0.00)</span></span><span class='token' style='background-color: #ffffff'> only<span class='feature_val'> (0.00)</span></span><span class='token' style='background-color: #ffffff'> place<span class='feature_val'> (0.00)</span></span><span class='token' style='background-color: #ffffff'> in<span class='feature_val'> (0.00)</span></span><span class='token' style='background-color: #ffffff'> Walt<span class='feature_val'> (0.00)</span></span><span class='token' style='background-color: #ffffff'> Disney<span class='feature_val'> (0.00)</span></span><span class='token' style='background-color: #ffffff'> World<span class='feature_val'> (0.00)</span></span><span class='token' style='background-color: #ffffff'> where<span class='feature_val'> (0.00)</span></span><span class='token' style='background-color: #ffffff'> you<span class='feature_val'> (0.00)</span></span><span class='token' style='background-color: #ffffff'> can<span class='feature_val'> (0.00)</span></span><span class='token' style='background-color: #ffffff'> meet<span class='feature_val'> (0.00)</span></span><span class='token' style='background-color: #ffffff'> some<span class='feature_val'> (0.00)</span></span><span class='token' style='background-color: #ffffff'> of<span class='feature_val'> (0.00)</span></span><span class='token' style='background-color: #ffffff'> these<span class='feature_val'> (0.00)</span></span><span class='token' style='background-color: #ffffff'> characters<span class='feature_val'> (0.00)</span></span><span class='token' style='background-color: #ffffff'>.<span class='feature_val'> (0.00)</span></span><span class='token' style='background-color: #ffffff'>\n",
       "<span class='feature_val'> (0.00)</span></span><span class='token' style='background-color: #ffffff'>\n",
       "<span class='feature_val'> (0.00)</span></span><span class='token' style='background-color: #ffffff'>Just<span class='feature_val'> (0.00)</span></span><span class='token' style='background-color: #ffffff'> like<span class='feature_val'> (0.00)</span></span><span class='token' style='background-color: #ffffff'> last<span class='feature_val'> (0.00)</span></span><span class='token' style='background-color: #ffffff'> time<span class='feature_val'> (0.00)</span></span><span class='token' style='background-color: #ffffff'>,<span class='feature_val'> (0.00)</span></span><span class='token' style='background-color: #ffffff'> for<span class='feature_val'> (0.00)</span></span><span class='token' style='background-color: #ffffff'> the<span class='feature_val'> (0.00)</span></span><span class='token' style='background-color: #ffffff'> purpose<span class='feature_val'> (0.00)</span></span><span class='token' style='background-color: #ffffff'> of<span class='feature_val'> (0.00)</span></span><span class='token' style='background-color: #ffffff'> this<span class='feature_val'> (0.00)</span></span><span class='token' style='background-color: #ffffff'> article<span class='feature_val'> (0.00)</span></span><span class='token' style='background-color: #ffffff'> we<span class='feature_val'> (0.00)</span></span><span class='token' style='background-color: #ffffff'> will<span class='feature_val'> (0.00)</span></span><span class='token' style='background-color: #ffffff'> only<span class='feature_val'> (0.00)</span></span><span class='token' style='background-color: #ffffff'> talk<span class='feature_val'> (0.00)</span></span><span class='token' style='background-color: #ffffff'> about<span class='feature_val'> (0.00)</span></span><span class='token' style='background-color: #ffffff'> characters<span class='feature_val'> (0.00)</span></span><span class='token' style='background-color: #ffffff'> in<span class='feature_val'> (0.00)</span></span><span class='token' style='background-color: #ffffff'> specific<span class='feature_val'> (0.00)</span></span><span class='token' style='background-color: #ffffff'> locations<span class='feature_val'> (0.00)</span></span><span class='token' style='background-color: #ffffff'>,<span class='feature_val'> (0.00)</span></span><span class='token' style='background-color: #ffffff'> with<span class='feature_val'> (0.00)</span></span><span class='token' style='background-color: #ffffff'> no<span class='feature_val'> (0.00)</span></span><span class='token' style='background-color: #ffffff'> character<span class='feature_val'> (0.00)</span></span><span class='token' style='background-color: #ffffff'> break<span class='feature_val'> (0.00)</span></span>"
      ],
      "text/plain": [
       "<IPython.core.display.HTML object>"
      ]
     },
     "metadata": {},
     "output_type": "display_data"
    },
    {
     "data": {
      "text/html": [
       "\n",
       "    <style>\n",
       "        span.token {\n",
       "            font-family: monospace;\n",
       "            border-style: solid;\n",
       "            border-width: 1px;\n",
       "            border-color: #dddddd;\n",
       "        }\n",
       "    </style>\n",
       "    <span class='token' style='background-color: #ffffff'>&lt;|endoftext|&gt;<span class='feature_val'> (0.00)</span></span><span class='token' style='background-color: #ffffff'> weeks<span class='feature_val'> (0.00)</span></span><span class='token' style='background-color: #ffffff'> ago<span class='feature_val'> (0.00)</span></span><span class='token' style='background-color: #ffffff'> (<span class='feature_val'> (0.00)</span></span><span class='token' style='background-color: #ffffff'>start<span class='feature_val'> (0.00)</span></span><span class='token' style='background-color: #ffffff'> 2<span class='feature_val'> (0.00)</span></span><span class='token' style='background-color: #ffffff'> instances<span class='feature_val'> (0.00)</span></span><span class='token' style='background-color: #ffffff'> -<span class='feature_val'> (0.00)</span></span><span class='token' style='background-color: #ffffff'> load<span class='feature_val'> (0.00)</span></span><span class='token' style='background-color: #ffffff'> a<span class='feature_val'> (0.00)</span></span><span class='token' style='background-color: #ffffff'> game<span class='feature_val'> (0.00)</span></span><span class='token' style='background-color: #ffffff'> in<span class='feature_val'> (0.00)</span></span><span class='token' style='background-color: #ffffff'> first<span class='feature_val'> (0.00)</span></span><span class='token' style='background-color: #ffffff'> -<span class='feature_val'> (0.00)</span></span><span class='token' style='background-color: #ffffff'> second<span class='feature_val'> (0.00)</span></span><span class='token' style='background-color: #ffffff'> instance<span class='feature_val'> (0.00)</span></span><span class='token' style='background-color: #ffffff'> joins<span class='feature_val'> (0.00)</span></span><span class='token' style='background-color: #ffffff'> -<span class='feature_val'> (0.00)</span></span><span class='token' style='background-color: #ffffff'> map<span class='feature_val'> (0.00)</span></span><span class='token' style='background-color: #ffffff'> is<span class='feature_val'> (0.00)</span></span><span class='token' style='background-color: #ffffff'> downloaded<span class='feature_val'> (0.00)</span></span><span class='token' style='background-color: #ffffff'> -<span class='feature_val'> (0.00)</span></span><span class='token' style='background-color: #ffffff'> players<span class='feature_val'> (0.00)</span></span><span class='token' style='background-color: #ffffff'> meet<span class='feature_val'> (0.00)</span></span><span class='token' style='background-color: #ffffff'> in<span class='feature_val'> (0.00)</span></span><span class='token' style='background-color: #ffffff'> the<span class='feature_val'> (0.00)</span></span><span class='token' style='background-color: #ffffff'> game<span class='feature_val'> (0.00)</span></span><span class='token' style='background-color: #ffffff'>)<span class='feature_val'> (0.00)</span></span><span class='token' style='background-color: #ffffff'> has<span class='feature_val'> (0.00)</span></span><span class='token' style='background-color: #ffffff'> been<span class='feature_val'> (0.00)</span></span><span class='token' style='background-color: #ffffff'> achieved<span class='feature_val'> (0.00)</span></span><span class='token' style='background-color: #ffffff'> already<span class='feature_val'> (0.00)</span></span><span class='token' style='background-color: #ffffff'>.<span class='feature_val'> (0.00)</span></span><span class='token' style='background-color: #ffffff'>\n",
       "<span class='feature_val'> (0.00)</span></span><span class='token' style='background-color: #ffffff'>\n",
       "<span class='feature_val'> (0.00)</span></span><span class='token' style='background-color: #ffffff'>So<span class='feature_val'> (0.00)</span></span><span class='token' style='background-color: #ffffff'> here<span class='feature_val'> (0.00)</span></span><span class='token' style='background-color: #ffffff'> we<span class='feature_val'> (0.00)</span></span><span class='token' style='background-color: #ffffff'> are<span class='feature_val'> (0.00)</span></span><span class='token' style='background-color: #ffffff'> with<span class='feature_val'> (0.00)</span></span><span class='token' style='background-color: #ffffff'> a<span class='feature_val'> (0.00)</span></span><span class='token' style='background-color: #ffffff'> map<span class='feature_val'> (0.00)</span></span><span class='token' style='background-color: #ffffff'> with<span class='feature_val'> (0.00)</span></span><span class='token' style='background-color: #ffffff'> two<span class='feature_val'> (0.00)</span></span><span class='token' style='background-color: #ffffff'> players<span class='feature_val'> (0.00)</span></span><span class='token' style='background-color: #ffffff'> in<span class='feature_val'> (0.00)</span></span><span class='token' style='background-color: #ffffff'> it<span class='feature_val'> (0.00)</span></span><span class='token' style='background-color: #ffffff'>.<span class='feature_val'> (0.00)</span></span><span class='token' style='background-color: #ffffff'> Already<span class='feature_val'> (0.00)</span></span><span class='token' style='background-color: #ffffff'> a<span class='feature_val'> (0.00)</span></span><span class='token' style='background-color: #ffffff'> bunch<span class='feature_val'> (0.00)</span></span><span class='token' style='background-color: #ffffff'> of<span class='feature_val'> (0.00)</span></span><span class='token' style='background-color: #ffffff'> standard<span class='feature_val'> (0.00)</span></span><span class='token' style='background-color: #ffffff'> stuff<span class='feature_val'> (0.00)</span></span><span class='token' style='background-color: #ffffff'> can<span class='feature_val'> (0.00)</span></span><span class='token' style='background-color: #ffffff'> be<span class='feature_val'> (0.00)</span></span><span class='token' style='background-color: #ffffff'> done<span class='feature_val'> (0.00)</span></span><span class='token' style='background-color: #ffffff'>.<span class='feature_val'> (0.00)</span></span><span class='token' style='background-color: #ffffff'> Players<span class='feature_val'> (0.00)</span></span><span class='token' style='background-color: #ffffff'> running<span class='feature_val'> (0.00)</span></span><span class='token' style='background-color: #ffffff'> around<span class='feature_val'> (0.00)</span></span><span class='token' style='background-color: #ffffff'>,<span class='feature_val'> (0.00)</span></span><span class='token' style='background-color: #ffffff'> mining<span class='feature_val'> (0.00)</span></span><span class='token' style='background-color: #ffffff'>,<span class='feature_val'> (0.00)</span></span><span class='token' style='background-color: #ffffff'> building<span class='feature_val'> (0.00)</span></span><span class='token' style='background-color: #ffffff'>,<span class='feature_val'> (0.00)</span></span><span class='token' style='background-color: #ffffff'> operating<span class='feature_val'> (0.00)</span></span><span class='token' style='background-color: #ffffff'> entities<span class='feature_val'> (0.00)</span></span><span class='token' style='background-color: #ffffff'>,<span class='feature_val'> (0.00)</span></span><span class='token' style='background-color: #ffffff'> shooting<span class='feature_val'> (0.00)</span></span><span class='token' style='background-color: #ffffff'> at<span class='feature_val'> (0.00)</span></span><span class='token' style='background-color: #ffffff'> each<span class='feature_val'> (0.00)</span></span><span class='token' style='background-color: #ffffff'> other<span class='feature_val'> (0.00)</span></span><span class='token' style='background-color: #ffffff'>,<span class='feature_val'> (0.00)</span></span><span class='token' style='background-color: #ffffff'> etc<span class='feature_val'> (0.00)</span></span><span class='token' style='background-color: #ffffff'>.<span class='feature_val'> (0.00)</span></span><span class='token' style='background-color: #ffffff'> All<span class='feature_val'> (0.00)</span></span><span class='token' style='background-color: #ffffff'> these<span class='feature_val'> (0.00)</span></span><span class='token' style='background-color: #ffffff'> actions<span class='feature_val'> (0.00)</span></span><span class='token' style='background-color: #ffffff'> being<span class='feature_val'> (0.00)</span></span><span class='token' style='background-color: #ffffff'> properly<span class='feature_val'> (0.00)</span></span><span class='token' style='background-color: #ffffff'> synchronized<span class='feature_val'> (0.00)</span></span><span class='token' style='background-color: #ffffff'> across<span class='feature_val'> (0.00)</span></span><span class='token' style='background-color: #ffffff'> multiple<span class='feature_val'> (0.00)</span></span><span class='token' style='background-color: #ffffff'> instances<span class='feature_val'> (0.00)</span></span><span class='token' style='background-color: #ffffff'>.<span class='feature_val'> (0.00)</span></span><span class='token' style='background-color: #ffffff'> It<span class='feature_val'> (0.00)</span></span><span class='token' style='background-color: #ffffff'> is<span class='feature_val'> (0.00)</span></span><span class='token' style='background-color: #ffffff'> kind<span class='feature_val'> (0.00)</span></span><span class='token' style='background-color: #ffffff'> of<span class='feature_val'> (0.00)</span></span><span class='token' style='background-color: #ff8c00'> fun<span class='feature_val'> (22.83)</span></span><span class='token' style='background-color: #ffffff'> to<span class='feature_val'> (0.00)</span></span><span class='token' style='background-color: #ffffff'> do<span class='feature_val'> (0.00)</span></span><span class='token' style='background-color: #ffffff'> -<span class='feature_val'> (0.00)</span></span><span class='token' style='background-color: #ffffff'> even<span class='feature_val'> (0.00)</span></span><span class='token' style='background-color: #ffffff'> when<span class='feature_val'> (0.00)</span></span><span class='token' style='background-color: #ffffff'> actually<span class='feature_val'> (0.00)</span></span><span class='token' style='background-color: #ffffff'> playing<span class='feature_val'> (0.00)</span></span><span class='token' style='background-color: #ffffff'> just<span class='feature_val'> (0.00)</span></span><span class='token' style='background-color: #ffffff'> with<span class='feature_val'> (0.00)</span></span><span class='token' style='background-color: #ffffff'> myself<span class='feature_val'> (0.00)</span></span><span class='token' style='background-color: #ffffff'>.<span class='feature_val'> (0.00)</span></span><span class='token' style='background-color: #ffffff'> Tang<span class='feature_val'> (0.00)</span></span><span class='token' style='background-color: #ffffff'>ible<span class='feature_val'> (0.00)</span></span><span class='token' style='background-color: #ffffff'> results<span class='feature_val'> (0.00)</span></span><span class='token' style='background-color: #ffffff'> like<span class='feature_val'> (0.00)</span></span><span class='token' style='background-color: #ffffff'> these<span class='feature_val'> (0.00)</span></span><span class='token' style='background-color: #ffffff'> really<span class='feature_val'> (0.00)</span></span><span class='token' style='background-color: #ffffff'> give<span class='feature_val'> (0.00)</span></span><span class='token' style='background-color: #ffffff'> us<span class='feature_val'> (0.00)</span></span><span class='token' style='background-color: #ffffff'> some<span class='feature_val'> (0.00)</span></span><span class='token' style='background-color: #ffffff'> great<span class='feature_val'> (0.00)</span></span><span class='token' style='background-color: #ffffff'> positive<span class='feature_val'> (0.00)</span></span><span class='token' style='background-color: #ffffff'> motivation<span class='feature_val'> (0.00)</span></span><span class='token' style='background-color: #ffffff'>.<span class='feature_val'> (0.00)</span></span><span class='token' style='background-color: #ffffff'> I<span class='feature_val'> (0.00)</span></span><span class='token' style='background-color: #ffffff'> remember<span class='feature_val'> (0.00)</span></span><span class='token' style='background-color: #ffffff'> the<span class='feature_val'> (0.00)</span></span><span class='token' style='background-color: #ffffff'> euph<span class='feature_val'> (0.00)</span></span><span class='token' style='background-color: #ffffff'>orical<span class='feature_val'> (0.00)</span></span><span class='token' style='background-color: #ffffff'> feeling<span class='feature_val'> (0.00)</span></span><span class='token' style='background-color: #ffffff'> when<span class='feature_val'> (0.00)</span></span><span class='token' style='background-color: #ffffff'> I<span class='feature_val'> (0.00)</span></span><span class='token' style='background-color: #ffffff'> got<span class='feature_val'> (0.00)</span></span><span class='token' style='background-color: #ffffff'> the<span class='feature_val'> (0.00)</span></span><span class='token' style='background-color: #ffffff'> 2<span class='feature_val'> (0.00)</span></span><span class='token' style='background-color: #ffffff'> players<span class='feature_val'> (0.00)</span></span><span class='token' style='background-color: #ffffff'> together<span class='feature_val'> (0.00)</span></span>"
      ],
      "text/plain": [
       "<IPython.core.display.HTML object>"
      ]
     },
     "metadata": {},
     "output_type": "display_data"
    },
    {
     "data": {
      "text/html": [
       "\n",
       "    <style>\n",
       "        span.token {\n",
       "            font-family: monospace;\n",
       "            border-style: solid;\n",
       "            border-width: 1px;\n",
       "            border-color: #dddddd;\n",
       "        }\n",
       "    </style>\n",
       "    <span class='token' style='background-color: #ffffff'>&lt;|endoftext|&gt;<span class='feature_val'> (0.00)</span></span><span class='token' style='background-color: #ffffff'> you<span class='feature_val'> (0.00)</span></span><span class='token' style='background-color: #ffffff'> to<span class='feature_val'> (0.00)</span></span><span class='token' style='background-color: #ffffff'>and<span class='feature_val'> (0.00)</span></span><span class='token' style='background-color: #ffffff'>who<span class='feature_val'> (0.00)</span></span><span class='token' style='background-color: #ffffff'> unknow<span class='feature_val'> (0.00)</span></span><span class='token' style='background-color: #ffffff'>ingly<span class='feature_val'> (0.00)</span></span><span class='token' style='background-color: #ffffff'> inspired<span class='feature_val'> (0.00)</span></span><span class='token' style='background-color: #ffffff'> me<span class='feature_val'> (0.00)</span></span><span class='token' style='background-color: #ffffff'> to<span class='feature_val'> (0.00)</span></span><span class='token' style='background-color: #ffffff'> cross<span class='feature_val'> (0.00)</span></span><span class='token' style='background-color: #ffffff'> the<span class='feature_val'> (0.00)</span></span><span class='token' style='background-color: #ffffff'> threshold<span class='feature_val'> (0.00)</span></span><span class='token' style='background-color: #ffffff'> of<span class='feature_val'> (0.00)</span></span><span class='token' style='background-color: #ffffff'> mod<span class='feature_val'> (0.00)</span></span><span class='token' style='background-color: #ffffff'>ding<span class='feature_val'> (0.00)</span></span><span class='token' style='background-color: #ffffff'> lol<span class='feature_val'> (0.00)</span></span><span class='token' style='background-color: #ffffff'> :-)<span class='feature_val'> (0.00)</span></span><span class='token' style='background-color: #ffffff'> and<span class='feature_val'> (0.00)</span></span><span class='token' style='background-color: #ffffff'> last<span class='feature_val'> (0.00)</span></span><span class='token' style='background-color: #ffffff'>ly<span class='feature_val'> (0.00)</span></span><span class='token' style='background-color: #ffffff'>,<span class='feature_val'> (0.00)</span></span><span class='token' style='background-color: #ffffff'> who<span class='feature_val'> (0.00)</span></span><span class='token' style='background-color: #ffffff'> is<span class='feature_val'> (0.00)</span></span><span class='token' style='background-color: #ffffff'> the<span class='feature_val'> (0.00)</span></span><span class='token' style='background-color: #ffffff'> author<span class='feature_val'> (0.00)</span></span><span class='token' style='background-color: #ffffff'> of<span class='feature_val'> (0.00)</span></span><span class='token' style='background-color: #ffffff'> this<span class='feature_val'> (0.00)</span></span><span class='token' style='background-color: #ffffff'> amazing<span class='feature_val'> (0.00)</span></span><span class='token' style='background-color: #ffffff'> article<span class='feature_val'> (0.00)</span></span><span class='token' style='background-color: #ffffff'> and<span class='feature_val'> (0.00)</span></span><span class='token' style='background-color: #ffffff'> step<span class='feature_val'> (0.00)</span></span><span class='token' style='background-color: #ffffff'> by<span class='feature_val'> (0.00)</span></span><span class='token' style='background-color: #ffffff'> step<span class='feature_val'> (0.00)</span></span><span class='token' style='background-color: #ffffff'> tutorial<span class='feature_val'> (0.00)</span></span><span class='token' style='background-color: #ffffff'>,<span class='feature_val'> (0.00)</span></span><span class='token' style='background-color: #ffffff'> (<span class='feature_val'> (0.00)</span></span><span class='token' style='background-color: #ffffff'>found<span class='feature_val'> (0.00)</span></span><span class='token' style='background-color: #ffffff'> here<span class='feature_val'> (0.00)</span></span><span class='token' style='background-color: #ffffff'>:<span class='feature_val'> (0.00)</span></span><span class='token' style='background-color: #ffffff'> http<span class='feature_val'> (0.00)</span></span><span class='token' style='background-color: #ffffff'>://<span class='feature_val'> (0.00)</span></span><span class='token' style='background-color: #ffffff'>sk<span class='feature_val'> (0.00)</span></span><span class='token' style='background-color: #ffffff'>yr<span class='feature_val'> (0.00)</span></span><span class='token' style='background-color: #ffffff'>imm<span class='feature_val'> (0.00)</span></span><span class='token' style='background-color: #ffffff'>w<span class='feature_val'> (0.00)</span></span><span class='token' style='background-color: #ffffff'>.<span class='feature_val'> (0.00)</span></span><span class='token' style='background-color: #ffffff'>we<span class='feature_val'> (0.00)</span></span><span class='token' style='background-color: #ffffff'>eb<span class='feature_val'> (0.00)</span></span><span class='token' style='background-color: #ffffff'>ly<span class='feature_val'> (0.00)</span></span><span class='token' style='background-color: #ffffff'>.<span class='feature_val'> (0.00)</span></span><span class='token' style='background-color: #ffffff'>com<span class='feature_val'> (0.00)</span></span><span class='token' style='background-color: #ffffff'>/<span class='feature_val'> (0.00)</span></span><span class='token' style='background-color: #ffffff'>sk<span class='feature_val'> (0.00)</span></span><span class='token' style='background-color: #ffffff'>yrim<span class='feature_val'> (0.00)</span></span><span class='token' style='background-color: #ffffff'>-<span class='feature_val'> (0.00)</span></span><span class='token' style='background-color: #ffffff'>mod<span class='feature_val'> (0.00)</span></span><span class='token' style='background-color: #ffffff'>ding<span class='feature_val'> (0.00)</span></span><span class='token' style='background-color: #ffffff'>/<span class='feature_val'> (0.00)</span></span><span class='token' style='background-color: #ffffff'>making<span class='feature_val'> (0.00)</span></span><span class='token' style='background-color: #ffffff'>-<span class='feature_val'> (0.00)</span></span><span class='token' style='background-color: #ffffff'>a<span class='feature_val'> (0.00)</span></span><span class='token' style='background-color: #ffffff'>-<span class='feature_val'> (0.00)</span></span><span class='token' style='background-color: #ffffff'>custom<span class='feature_val'> (0.00)</span></span><span class='token' style='background-color: #ffffff'>-<span class='feature_val'> (0.00)</span></span><span class='token' style='background-color: #ffffff'>f<span class='feature_val'> (0.00)</span></span><span class='token' style='background-color: #ffffff'>ollower<span class='feature_val'> (0.00)</span></span><span class='token' style='background-color: #ffffff'>-<span class='feature_val'> (0.00)</span></span><span class='token' style='background-color: #ffffff'>sk<span class='feature_val'> (0.00)</span></span><span class='token' style='background-color: #ffffff'>yrim<span class='feature_val'> (0.00)</span></span><span class='token' style='background-color: #ffffff'>-<span class='feature_val'> (0.00)</span></span><span class='token' style='background-color: #ffffff'>mod<span class='feature_val'> (0.00)</span></span><span class='token' style='background-color: #ffffff'>ding<span class='feature_val'> (0.00)</span></span><span class='token' style='background-color: #ffffff'>-<span class='feature_val'> (0.00)</span></span><span class='token' style='background-color: #ffffff'>t<span class='feature_val'> (0.00)</span></span><span class='token' style='background-color: #ffffff'>utorial<span class='feature_val'> (0.00)</span></span><span class='token' style='background-color: #ffffff'> ),<span class='feature_val'> (0.00)</span></span><span class='token' style='background-color: #ffffff'> without<span class='feature_val'> (0.00)</span></span><span class='token' style='background-color: #ffffff'> which<span class='feature_val'> (0.00)</span></span><span class='token' style='background-color: #ffffff'> I<span class='feature_val'> (0.00)</span></span><span class='token' style='background-color: #ffffff'> would<span class='feature_val'> (0.00)</span></span><span class='token' style='background-color: #ffffff'> never<span class='feature_val'> (0.00)</span></span><span class='token' style='background-color: #ffffff'> have<span class='feature_val'> (0.00)</span></span><span class='token' style='background-color: #ffffff'> been<span class='feature_val'> (0.00)</span></span><span class='token' style='background-color: #ffffff'> able<span class='feature_val'> (0.00)</span></span><span class='token' style='background-color: #ffffff'> to<span class='feature_val'> (0.00)</span></span><span class='token' style='background-color: #ffffff'> make<span class='feature_val'> (0.00)</span></span><span class='token' style='background-color: #ffffff'> my<span class='feature_val'> (0.00)</span></span><span class='token' style='background-color: #ffffff'> mod<span class='feature_val'> (0.00)</span></span><span class='token' style='background-color: #ffffff'>.<span class='feature_val'> (0.00)</span></span><span class='token' style='background-color: #ffffff'>Thanks<span class='feature_val'> (0.00)</span></span><span class='token' style='background-color: #ffffff'> is<span class='feature_val'> (0.00)</span></span><span class='token' style='background-color: #ffffff'> also<span class='feature_val'> (0.00)</span></span><span class='token' style='background-color: #ffffff'> extended<span class='feature_val'> (0.00)</span></span><span class='token' style='background-color: #ffffff'> to<span class='feature_val'> (0.00)</span></span><span class='token' style='background-color: #ffffff'> B<span class='feature_val'> (0.00)</span></span><span class='token' style='background-color: #ffffff'>ETH<span class='feature_val'> (0.00)</span></span><span class='token' style='background-color: #ffffff'>ES<span class='feature_val'> (0.00)</span></span><span class='token' style='background-color: #ffffff'>DA<span class='feature_val'> (0.00)</span></span><span class='token' style='background-color: #ffffff'> for<span class='feature_val'> (0.00)</span></span><span class='token' style='background-color: #ffffff'> allowing<span class='feature_val'> (0.00)</span></span><span class='token' style='background-color: #ffffff'> us<span class='feature_val'> (0.00)</span></span><span class='token' style='background-color: #ffffff'> to<span class='feature_val'> (0.00)</span></span><span class='token' style='background-color: #ffffff'> have<span class='feature_val'> (0.00)</span></span><span class='token' style='background-color: #ffffff'> so<span class='feature_val'> (0.00)</span></span><span class='token' style='background-color: #ffffff'> much<span class='feature_val'> (0.00)</span></span><span class='token' style='background-color: #ffffff'> continued<span class='feature_val'> (0.00)</span></span><span class='token' style='background-color: #ff8c00'> fun<span class='feature_val'> (22.70)</span></span><span class='token' style='background-color: #ffffff'> with<span class='feature_val'> (0.00)</span></span><span class='token' style='background-color: #ffffff'> the<span class='feature_val'> (0.00)</span></span><span class='token' style='background-color: #ffffff'> game<span class='feature_val'> (0.00)</span></span><span class='token' style='background-color: #ffffff'>!!<span class='feature_val'> (0.00)</span></span><span class='token' style='background-color: #ffffff'>--<span class='feature_val'> (0.00)</span></span><span class='token' style='background-color: #ffffff'>SO<span class='feature_val'> (0.00)</span></span><span class='token' style='background-color: #ffffff'> just<span class='feature_val'> (0.00)</span></span><span class='token' style='background-color: #ffffff'> to<span class='feature_val'> (0.00)</span></span><span class='token' style='background-color: #ffffff'> reiterate<span class='feature_val'> (0.00)</span></span><span class='token' style='background-color: #ffffff'>,<span class='feature_val'> (0.00)</span></span><span class='token' style='background-color: #ffffff'> THANK<span class='feature_val'> (0.00)</span></span><span class='token' style='background-color: #ffffff'> YOU<span class='feature_val'> (0.00)</span></span><span class='token' style='background-color: #ffffff'> GU<span class='feature_val'> (0.00)</span></span><span class='token' style='background-color: #ffffff'>YS<span class='feature_val'> (0.00)</span></span><span class='token' style='background-color: #ffffff'>!!!<span class='feature_val'> (0.00)</span></span><span class='token' style='background-color: #ffffff'>-<span class='feature_val'> (0.00)</span></span><span class='token' style='background-color: #ffffff'>Installation<span class='feature_val'> (0.00)</span></span><span class='token' style='background-color: #ffffff'>-<span class='feature_val'> (0.00)</span></span><span class='token' style='background-color: #ffffff'>To<span class='feature_val'> (0.00)</span></span><span class='token' style='background-color: #ffffff'> install<span class='feature_val'> (0.00)</span></span>"
      ],
      "text/plain": [
       "<IPython.core.display.HTML object>"
      ]
     },
     "metadata": {},
     "output_type": "display_data"
    }
   ],
   "source": [
    "examples_html, examples_clean_text = display_top_k_activating_examples_sum(model, feature_scores, owt_tokens_torch[:1024*8], feature_indices=[0, 1], k=20, display_html=True)"
   ]
  },
  {
   "cell_type": "code",
   "execution_count": null,
   "metadata": {},
   "outputs": [],
   "source": [
    "opening_prompt = get_opening_prompt(examples_clean_text, top_tokens)\n",
    "\n",
    "# interpret\n",
    "interpretation = get_response(opening_prompt)\n",
    "print(interpretation)"
   ]
  },
  {
   "cell_type": "code",
   "execution_count": null,
   "metadata": {},
   "outputs": [],
   "source": [
    "interpretation = \"The neuron is activated by the use of many different common names. These names include 'David', as well as other names and words in the context of preceding names earlier in the sentences.\""
   ]
  },
  {
   "cell_type": "code",
   "execution_count": null,
   "metadata": {},
   "outputs": [],
   "source": [
    "# Get some IOI examples where it activates (max activation across feature family is the ground-truth)\n",
    "layer = 2\n",
    "feature = 24166\n",
    "component_name = 'L2_H2'\n",
    "\n",
    "# Get the actual prompts\n",
    "n_prompts = 100\n",
    "dataset_prompts = gen_templated_prompts(template_idex=1, N=n_prompts)\n",
    "dataset_prompts = [x['text'] + x['correct'] for x in dataset_prompts]\n",
    "dataset_tokens = model.to_tokens(dataset_prompts)\n",
    "\n",
    "# Run the model over the prompts and get the feature activations at each token in each prompt\n",
    "_, cache = model.run_with_cache(dataset_tokens)\n",
    "z = cache[\"z\", layer]\n",
    "b, s, n, d = z.shape\n",
    "del cache\n",
    "z = einops.rearrange(z, \"b s n d -> (b s) (n d)\")\n",
    "\n",
    "# Apply relevant SAE or transcoder to the activations\n",
    "if component_name.startswith(\"L\"):\n",
    "    encoder = z_saes[layer]\n",
    "else:\n",
    "    encoder = transcoders[layer]\n",
    "\n",
    "z_hidden = encoder.encode(z)\n",
    "z_hidden = einops.rearrange(z_hidden, \"(b s) h -> b s h\", s=s)\n",
    "\n",
    "# Only keep feature indices (last dimension)\n",
    "feature_indices = [feature]\n",
    "z_hidden = z_hidden[:, :, feature_indices]\n",
    "\n",
    "# For each batch (first dimension) and each token in each batch (second dimension), only keep the max activation (third dimension)\n",
    "z_hidden = z_hidden.max(dim=2).values\n",
    "\n",
    "# Print rows which have a non-zero value\n",
    "non_zero_indices = list(set(np.where(z_hidden > 1.0)[0].tolist()))[:5]\n",
    "print(non_zero_indices)\n",
    "\n",
    "# Keep 3 of these rows plus the row after\n",
    "indices_to_keep = []\n",
    "for i, j in enumerate(non_zero_indices):\n",
    "    indices_to_keep.extend([j])\n",
    "\n",
    "print(indices_to_keep)\n",
    "\n",
    "# Keep z_hidden rows\n",
    "z_hidden = z_hidden[indices_to_keep]\n",
    "\n",
    "z_hidden"
   ]
  },
  {
   "cell_type": "code",
   "execution_count": null,
   "metadata": {},
   "outputs": [],
   "source": [
    "# For each IOI example, predict the feature activation score on a given token\n",
    "accuracies, f1s = [], []\n",
    "for i in range(z_hidden.shape[0]):\n",
    "    sentence = dataset_prompts[i]\n",
    "    sentence_tokens = model.to_tokens(sentence).squeeze()\n",
    "    activations = z_hidden[i]\n",
    "\n",
    "    pred_dict = {}\n",
    "\n",
    "    threshold = 0.5\n",
    "    non_zero_indices = np.where(activations > threshold)[0].tolist()\n",
    "    # Add one before and after each non-zero index\n",
    "    positions = []\n",
    "    for i in non_zero_indices:\n",
    "        positions.extend([i-1, i, i+1])\n",
    "    positions = [x for x in positions if x >= 0 and x < len(sentence_tokens)]\n",
    "    print(positions)\n",
    "\n",
    "    if len(positions) == 0:\n",
    "        # Radomly sample 3 positions\n",
    "        positions = np.random.choice(len(sentence_tokens), 3, replace=False)\n",
    "\n",
    "    for i in tqdm(positions):\n",
    "        sentence_str_example = model.to_string(sentence_tokens[:i+1])\n",
    "        sentence_tokens_example = sentence_tokens[:i+1]\n",
    "        ground_truth = activations[i].item()\n",
    "\n",
    "        # Get the prediction\n",
    "        prompt = follow_up_activation_prediction_prompt(interpretation, sentence_str_example)\n",
    "        prediction = get_response(prompt) #gen_openai_completion(prompt, visualize_stream=False)\n",
    "        pred_dict[i] = {\"prediction\": prediction, \"sentence\": sentence_str_example, \"ground_truth\": ground_truth}\n",
    "        print(prediction)\n",
    "        print(sentence_str_example)\n",
    "        print(ground_truth)\n",
    "\n",
    "    for k, v in pred_dict.items():\n",
    "        prediction = v[\"prediction\"].split('[ACTIVATION]: ')[-1].strip()\n",
    "        pred_dict[k]['prediction_numeric'] = 1.0 if prediction == 'non-zero' else 0.0\n",
    "        pred_dict[k]['ground_truth_numeric'] = 1.0 if v['ground_truth'] > 0.0 else 0.0\n",
    "\n",
    "    # Get accuracy and f1 score\n",
    "    correct = 0\n",
    "    tp = 0\n",
    "    fp = 0\n",
    "    fn = 0\n",
    "    for k, v in pred_dict.items():\n",
    "        if v['prediction_numeric'] == v['ground_truth_numeric']:\n",
    "            correct += 1\n",
    "        if v['prediction_numeric'] == 1 and v['ground_truth_numeric'] == 1:\n",
    "            tp += 1\n",
    "        if v['prediction_numeric'] == 1 and v['ground_truth_numeric'] == 0:\n",
    "            fp += 1\n",
    "        if v['prediction_numeric'] == 0 and v['ground_truth_numeric'] == 1:\n",
    "            fn += 1\n",
    "\n",
    "    print(f\"TP: {tp}, FP: {fp}, FN: {fn}\")\n",
    "\n",
    "    if tp + fp + fn > 0:\n",
    "        accuracy = correct / len(pred_dict)\n",
    "        precision = tp / (tp + fp) if tp + fp > 0 else 0.0\n",
    "        recall = tp / (tp + fn) if tp + fn > 0 else 0.0\n",
    "        f1 = 2 * (precision * recall) / (precision + recall) if precision + recall > 0 else 0.0\n",
    "        \n",
    "        accuracies.append(accuracy)\n",
    "        f1s.append(f1)\n",
    "\n",
    "# Means\n",
    "print(f\"Mean Accuracy: {np.mean(accuracies)}\")\n",
    "print(f\"Mean F1 Score: {np.mean(f1s)}\")"
   ]
  },
  {
   "cell_type": "code",
   "execution_count": null,
   "metadata": {},
   "outputs": [],
   "source": [
    "# Repeat with just attn head component\n",
    "encoder_feature_pairs = [(z_saes[2], [24166])]\n",
    "top_tokens, top_logits = get_top_k_tokens(model, encoder_feature_pairs, k=20)\n",
    "\n",
    "# Get feature scores\n",
    "feature_scores = get_feature_scores_across_layers(model, encoder_feature_pairs, owt_tokens_torch[:8*1024], batch_size=128)\n",
    "\n",
    "examples_html, examples_clean_text = display_top_k_activating_examples(model, feature_scores, owt_tokens_torch[:8*1024], k=10, display_html=True)"
   ]
  },
  {
   "cell_type": "code",
   "execution_count": null,
   "metadata": {},
   "outputs": [],
   "source": [
    "opening_prompt = get_opening_prompt(examples_clean_text, top_tokens)\n",
    "base_interp = get_response(opening_prompt)\n",
    "print(base_interp)"
   ]
  },
  {
   "cell_type": "code",
   "execution_count": null,
   "metadata": {},
   "outputs": [],
   "source": [
    "# For each IOI example, predict the feature activation score on a given token\n",
    "accuracies, f1s = [], []\n",
    "for i in range(z_hidden.shape[0]):\n",
    "    sentence = dataset_prompts[i]\n",
    "    sentence_tokens = model.to_tokens(sentence).squeeze()\n",
    "    activations = z_hidden[i]\n",
    "\n",
    "    pred_dict = {}\n",
    "\n",
    "    threshold = 0.0\n",
    "    non_zero_indices = np.where(activations > threshold)[0].tolist()\n",
    "    # Add one before and after each non-zero index\n",
    "    positions = []\n",
    "    for i in non_zero_indices:\n",
    "        positions.extend([i-1, i, i+1])\n",
    "    positions = [x for x in positions if x >= 0 and x < len(sentence_tokens)]\n",
    "    print(positions)\n",
    "\n",
    "    if len(positions) == 0:\n",
    "        # Radomly sample 3 positions\n",
    "        positions = np.random.choice(len(sentence_tokens), 3, replace=False)\n",
    "\n",
    "    for i in tqdm(positions):\n",
    "        sentence_str_example = model.to_string(sentence_tokens[:i+1])\n",
    "        sentence_tokens_example = sentence_tokens[:i+1]\n",
    "        ground_truth = activations[i].item()\n",
    "\n",
    "        # Get the prediction\n",
    "        prompt = follow_up_activation_prediction_prompt(base_interp, sentence_str_example)\n",
    "        prediction = get_response(prompt) #gen_openai_completion(prompt, visualize_stream=False)\n",
    "        pred_dict[i] = {\"prediction\": prediction, \"sentence\": sentence_str_example, \"ground_truth\": ground_truth}\n",
    "\n",
    "        print(prediction)\n",
    "        print(sentence_str_example)\n",
    "        print(ground_truth)\n",
    "\n",
    "    for k, v in pred_dict.items():\n",
    "        prediction = v[\"prediction\"].split('[ACTIVATION]: ')[-1].strip()\n",
    "        pred_dict[k]['prediction_numeric'] = 1.0 if prediction == 'non-zero' else 0.0\n",
    "        pred_dict[k]['ground_truth_numeric'] = 1.0 if v['ground_truth'] > 0.0 else 0.0\n",
    "\n",
    "    # Get accuracy and f1 score\n",
    "    correct = 0\n",
    "    tp = 0\n",
    "    fp = 0\n",
    "    fn = 0\n",
    "    for k, v in pred_dict.items():\n",
    "        if v['prediction_numeric'] == v['ground_truth_numeric']:\n",
    "            correct += 1\n",
    "        if v['prediction_numeric'] == 1 and v['ground_truth_numeric'] == 1:\n",
    "            tp += 1\n",
    "        if v['prediction_numeric'] == 1 and v['ground_truth_numeric'] == 0:\n",
    "            fp += 1\n",
    "        if v['prediction_numeric'] == 0 and v['ground_truth_numeric'] == 1:\n",
    "            fn += 1\n",
    "\n",
    "    print(f\"TP: {tp}, FP: {fp}, FN: {fn}\")\n",
    "\n",
    "    if tp + fp + fn > 0:\n",
    "        accuracy = correct / len(pred_dict)\n",
    "        precision = tp / (tp + fp) if tp + fp > 0 else 0.0\n",
    "        recall = tp / (tp + fn) if tp + fn > 0 else 0.0\n",
    "        f1 = 2 * (precision * recall) / (precision + recall) if precision + recall > 0 else 0.0\n",
    "        \n",
    "        accuracies.append(accuracy)\n",
    "        f1s.append(f1)\n",
    "\n",
    "# Means\n",
    "print(f\"Mean Accuracy: {np.mean(accuracies)}\")\n",
    "print(f\"Mean F1 Score: {np.mean(f1s)}\")"
   ]
  },
  {
   "cell_type": "code",
   "execution_count": null,
   "metadata": {},
   "outputs": [],
   "source": [
    "results_dict = {\n",
    "    \"15404_L9H9_20546_MLP0\": {\n",
    "        \"co_occurrence\": {\n",
    "            \"accuracies\": 0.68,\n",
    "            \"f1s\": 0.54,\n",
    "        },\n",
    "        \"base\": {\n",
    "            \"accuracies\": 0.6,\n",
    "            \"f1s\": 0.0,\n",
    "        }\n",
    "    },\n",
    "    \"16513_L8H6_10461_MLP0\": {\n",
    "        \"co_occurrence\": {\n",
    "            \"accuracies\": 0.82,\n",
    "            \"f1s\": 0.68,\n",
    "        },\n",
    "        \"base\": {\n",
    "            \"accuracies\": 0.7,\n",
    "            \"f1s\": 0.5,\n",
    "        }\n",
    "    },\n",
    "    \"24166_L2H2_4522_MLP0\": {\n",
    "        \"co_occurrence\": {\n",
    "            \"accuracies\": 0.52,\n",
    "            \"f1s\": 0.55,\n",
    "        },\n",
    "        \"base\": {\n",
    "            \"accuracies\": 0.6,\n",
    "            \"f1s\": 0.0\n",
    "        }\n",
    "    }\n",
    "}"
   ]
  },
  {
   "cell_type": "code",
   "execution_count": null,
   "metadata": {},
   "outputs": [],
   "source": [
    "import plotly.graph_objects as go\n",
    "\n",
    "results_dict = {\n",
    "    \"15404_L9H9_20546_MLP0\": {\n",
    "        \"co_occurrence\": {\n",
    "            \"accuracies\": 0.68,\n",
    "            \"f1s\": 0.54,\n",
    "        },\n",
    "        \"base\": {\n",
    "            \"accuracies\": 0.6,\n",
    "            \"f1s\": 0.01,\n",
    "        }\n",
    "    },\n",
    "    \"16513_L8H6_10461_MLP0\": {\n",
    "        \"co_occurrence\": {\n",
    "            \"accuracies\": 0.82,\n",
    "            \"f1s\": 0.68,\n",
    "        },\n",
    "        \"base\": {\n",
    "            \"accuracies\": 0.7,\n",
    "            \"f1s\": 0.5,\n",
    "        }\n",
    "    },\n",
    "    \"24166_L2H2_4522_MLP0\": {\n",
    "        \"co_occurrence\": {\n",
    "            \"accuracies\": 0.62,\n",
    "            \"f1s\": 0.55,\n",
    "        },\n",
    "        \"base\": {\n",
    "            \"accuracies\": 0.6,\n",
    "            \"f1s\": 0.01\n",
    "        }\n",
    "    }\n",
    "}\n",
    "\n",
    "def create_label(key):\n",
    "    feature1, layer_head, feature2, mlp = key.split(\"_\")\n",
    "    layer, head = layer_head[1:].split(\"H\")\n",
    "    return f\"{feature1} & {feature2} (L{layer}H{head} MLP{mlp[-1]})\"\n",
    "\n",
    "labels = [create_label(key) for key in results_dict.keys()]\n",
    "co_occurrence_accuracies = [results_dict[key][\"co_occurrence\"][\"accuracies\"] for key in results_dict.keys()]\n",
    "co_occurrence_f1s = [results_dict[key][\"co_occurrence\"][\"f1s\"] for key in results_dict.keys()]\n",
    "base_accuracies = [results_dict[key][\"base\"][\"accuracies\"] for key in results_dict.keys()]\n",
    "base_f1s = [results_dict[key][\"base\"][\"f1s\"] for key in results_dict.keys()]\n",
    "\n",
    "fig = go.Figure(data=[\n",
    "    go.Bar(name='Co-occurrence Accuracies', x=labels, y=co_occurrence_accuracies, marker_color='#ADD8E6'),  # Light blue\n",
    "    go.Bar(name='Co-occurrence F1s', x=labels, y=co_occurrence_f1s, marker_color='#00008B'),  # Dark blue\n",
    "    go.Bar(name='Base Accuracies', x=labels, y=base_accuracies, marker_color='#90EE90'),  # Light green\n",
    "    go.Bar(name='Base F1s', x=labels, y=base_f1s, marker_color='#006400')  # Dark green\n",
    "])\n",
    "\n",
    "fig.update_layout(\n",
    "    title='Co-occurrence vs. Base Performance',\n",
    "    xaxis_title='Features',\n",
    "    yaxis_title='Score',\n",
    "    barmode='group',\n",
    "    legend_title_text='Metrics',\n",
    "    font=dict(size=14),\n",
    "    template='plotly_white',\n",
    "    width=1000\n",
    ")\n",
    "\n",
    "fig.show()"
   ]
  },
  {
   "cell_type": "code",
   "execution_count": null,
   "metadata": {},
   "outputs": [],
   "source": []
  }
 ],
 "metadata": {
  "kernelspec": {
   "display_name": "anu",
   "language": "python",
   "name": "python3"
  },
  "language_info": {
   "codemirror_mode": {
    "name": "ipython",
    "version": 3
   },
   "file_extension": ".py",
   "mimetype": "text/x-python",
   "name": "python",
   "nbconvert_exporter": "python",
   "pygments_lexer": "ipython3",
   "version": "3.12.1"
  }
 },
 "nbformat": 4,
 "nbformat_minor": 2
}
