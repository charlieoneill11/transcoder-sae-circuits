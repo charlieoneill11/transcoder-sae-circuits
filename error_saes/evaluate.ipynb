{
 "cells": [
  {
   "cell_type": "markdown",
   "metadata": {},
   "source": [
    "# Evaluating combo SAEs"
   ]
  },
  {
   "cell_type": "code",
   "execution_count": null,
   "metadata": {},
   "outputs": [],
   "source": [
    "from main import *"
   ]
  },
  {
   "cell_type": "markdown",
   "metadata": {},
   "source": [
    "## Max activating features"
   ]
  },
  {
   "cell_type": "code",
   "execution_count": null,
   "metadata": {},
   "outputs": [],
   "source": []
  },
  {
   "cell_type": "markdown",
   "metadata": {},
   "source": [
    "## Linearity of SAE sizes"
   ]
  },
  {
   "cell_type": "code",
   "execution_count": 31,
   "metadata": {},
   "outputs": [],
   "source": [
    "from sae_lens.training.session_loader import LMSparseAutoencoderSessionloader\n",
    "from sae_lens.toolkit.pretrained_saes import get_gpt2_res_jb_saes\n",
    "import einops\n",
    "import torch\n",
    "from huggingface_hub import hf_hub_download\n",
    "from gated_sae import GatedSAE\n",
    "from tqdm import tqdm\n",
    "\n",
    "torch.set_grad_enabled(False)\n",
    "\n",
    "def get_activation_store_and_model():\n",
    "\n",
    "    # let's start with a layer 8 SAE.\n",
    "    hook_point = \"blocks.8.hook_resid_pre\"\n",
    "\n",
    "    # if the SAEs were stored with precomputed feature sparsities,\n",
    "    #  those will be return in a dictionary as well.\n",
    "    saes, sparsities = get_gpt2_res_jb_saes(hook_point)\n",
    "\n",
    "    sparse_autoencoder = saes[hook_point]\n",
    "    device = 'cpu'\n",
    "    sparse_autoencoder.to(device)\n",
    "    sparse_autoencoder.cfg.device = device\n",
    "\n",
    "    sparse_autoencoder.cfg.hook_point = \"blocks.9.attn.hook_z\"\n",
    "    sparse_autoencoder.cfg.store_batch_size = 4\n",
    "\n",
    "    print(sparse_autoencoder.cfg.store_batch_size)\n",
    "\n",
    "    loader = LMSparseAutoencoderSessionloader(sparse_autoencoder.cfg)\n",
    "\n",
    "    # don't overwrite the sparse autoencoder with the loader's sae (newly initialized)\n",
    "    model, _, activation_store = loader.load_sae_training_group_session()\n",
    "    \n",
    "    return model, activation_store"
   ]
  },
  {
   "cell_type": "code",
   "execution_count": 32,
   "metadata": {},
   "outputs": [
    {
     "data": {
      "text/plain": [
       "<All keys matched successfully>"
      ]
     },
     "execution_count": 32,
     "metadata": {},
     "output_type": "execute_result"
    }
   ],
   "source": [
    "# Define parameters\n",
    "layer = 9\n",
    "repo_id = 'charlieoneill/regular-sae'\n",
    "\n",
    "\n",
    "# Load big SAE\n",
    "filename = f'sae_layer_{layer}_32.pt'\n",
    "file_path = hf_hub_download(repo_id=repo_id, filename=filename)\n",
    "big_sae = GatedSAE(768, 32*768, l1_coefficient=2)\n",
    "big_sae.load_state_dict(torch.load(file_path, map_location=torch.device('cpu')))\n",
    "\n",
    "# Load little SAE\n",
    "filename = f'sae_layer_{layer}_16.pt'\n",
    "file_path = hf_hub_download(repo_id=repo_id, filename=filename)\n",
    "little_sae = GatedSAE(768, 16*768, l1_coefficient=2)\n",
    "little_sae.load_state_dict(torch.load(file_path, map_location=torch.device('cpu')))\n",
    "\n",
    "# Load error SAE\n",
    "filename = f'sae_layer_{layer}.pt'\n",
    "file_path = hf_hub_download(repo_id=repo_id, filename=filename)\n",
    "error_sae = GatedSAE(768, 16*768, l1_coefficient=2)\n",
    "error_sae.load_state_dict(torch.load(file_path, map_location=torch.device('cpu')))"
   ]
  },
  {
   "cell_type": "code",
   "execution_count": 33,
   "metadata": {},
   "outputs": [
    {
     "name": "stderr",
     "output_type": "stream",
     "text": [
      "100%|██████████| 1/1 [00:01<00:00,  1.00s/it]\n",
      "/Users/charlesoneill/miniconda3/envs/anu/lib/python3.12/site-packages/huggingface_hub/file_download.py:1132: FutureWarning:\n",
      "\n",
      "`resume_download` is deprecated and will be removed in version 1.0.0. Downloads always resume when possible. If you want to force a new download, use `force_download=True`.\n",
      "\n"
     ]
    },
    {
     "name": "stdout",
     "output_type": "stream",
     "text": [
      "4\n",
      "Loaded pretrained model gpt2-small into HookedTransformer\n",
      "Moving model to device:  cpu\n"
     ]
    },
    {
     "name": "stderr",
     "output_type": "stream",
     "text": [
      "/Users/charlesoneill/miniconda3/envs/anu/lib/python3.12/site-packages/datasets/load.py:1486: FutureWarning:\n",
      "\n",
      "The repository for Skylion007/openwebtext contains custom code which must be executed to correctly load the dataset. You can inspect the repository content at https://hf.co/datasets/Skylion007/openwebtext\n",
      "You can avoid this message in future by passing the argument `trust_remote_code=True`.\n",
      "Passing `trust_remote_code=True` will be mandatory to load this dataset from the next major release of `datasets`.\n",
      "\n"
     ]
    }
   ],
   "source": [
    "model, activation_store = get_activation_store_and_model()"
   ]
  },
  {
   "cell_type": "code",
   "execution_count": 34,
   "metadata": {},
   "outputs": [
    {
     "name": "stdout",
     "output_type": "stream",
     "text": [
      "torch.Size([4, 128, 12, 64])\n",
      "torch.Size([512, 768])\n",
      "torch.Size([512, 768])\n",
      "tensor(29.5136)\n"
     ]
    }
   ],
   "source": [
    "batch = activation_store.get_batch_tokens()\n",
    "\n",
    "_, cache = model.run_with_cache(batch)\n",
    "\n",
    "z_acts = cache['z', layer, 'attn']\n",
    "print(z_acts.shape)\n",
    "z_acts = einops.rearrange(z_acts, 'b h l d -> (b h) (l d)')\n",
    "print(z_acts.shape)\n",
    "\n",
    "sae_out, _, mse_loss = big_sae(z_acts, z_acts)\n",
    "print(sae_out.shape)\n",
    "print(mse_loss)"
   ]
  },
  {
   "cell_type": "code",
   "execution_count": 35,
   "metadata": {},
   "outputs": [],
   "source": [
    "# Some sort of evaluation code\n",
    "\n",
    "# I think we should have individual metric functions, then a function to apply them over a batch, then a function to apply them over a dataset\n",
    "\n",
    "def mse_loss(x, y):\n",
    "    \"\"\"\n",
    "    L2 loss of reconstruction.\n",
    "    \"\"\"\n",
    "    per_item_loss = torch.nn.functional.mse_loss(x, y, reduction='none')\n",
    "    return per_item_loss.sum(dim=-1).mean()\n",
    "\n",
    "def l0_loss(z):\n",
    "    \"\"\"\n",
    "    L0 loss of reconstruction.\n",
    "    \"\"\"\n",
    "    return (z != 0).float().sum(dim=1).mean()"
   ]
  },
  {
   "cell_type": "code",
   "execution_count": 36,
   "metadata": {},
   "outputs": [
    {
     "name": "stdout",
     "output_type": "stream",
     "text": [
      "KL Divergence: 0.035288069397211075\n",
      "MSE Loss: 29.513599395751953\n",
      "L0 Loss: 14.17578125\n"
     ]
    }
   ],
   "source": [
    "from transformer_lens.hook_points import HookPoint\n",
    "from transformer_lens.utils import get_act_name\n",
    "from functools import partial\n",
    "import torch\n",
    "import torch.nn.functional as F\n",
    "\n",
    "def calculate_kl_divergence(clean_logits, patched_logits):\n",
    "    # Ensure the inputs are log probabilities\n",
    "    clean_log_probs = F.log_softmax(clean_logits, dim=-1)\n",
    "    patched_log_probs = F.log_softmax(patched_logits, dim=-1)\n",
    "    \n",
    "    # Convert patched_logits to probabilities\n",
    "    patched_probs = torch.exp(patched_log_probs)\n",
    "    \n",
    "    # Calculate KL divergence for each element in the batch and sequence\n",
    "    kl_div = F.kl_div(clean_log_probs, patched_probs, reduction='none')\n",
    "    \n",
    "    # Average over the vocabulary size (last dimension)\n",
    "    kl_div = kl_div.sum(dim=-1)\n",
    "    \n",
    "    # Average over the batch and sequence length\n",
    "    kl_div = kl_div.mean(dim=0).mean(dim=0)\n",
    "    \n",
    "    return kl_div.item()\n",
    "\n",
    "def attention_head_z_patching_hook(attention_head_z, hook: HookPoint, layer: int, sae: GatedSAE, gated_sae: GatedSAE):\n",
    "    z_acts = einops.rearrange(attention_head_z, \"b s h d -> (b s) (h d)\")\n",
    "    if sae is not None:\n",
    "        # Get the reconstructions from the SAE\n",
    "        z_reconstruct, _, _ = sae(z_acts, z_acts)\n",
    "    else:\n",
    "        z_reconstruct = torch.zeros_like(z_acts)\n",
    "    if gated_sae is not None:\n",
    "        # Get the error\n",
    "        error = z_acts - z_reconstruct\n",
    "        # Get the predicted error\n",
    "        predicted_error, _, _ = gated_sae(z_acts, error)\n",
    "        # Add the predicted error to the z_reconstruct\n",
    "        z_reconstruct = z_reconstruct + predicted_error\n",
    "    # Rearrange back into original shape\n",
    "    z_reconstruct = einops.rearrange(z_reconstruct, \"(b s) (h d) -> b s h d\", b=attention_head_z.shape[0], s=attention_head_z.shape[1], h=attention_head_z.shape[2], d=attention_head_z.shape[3])\n",
    "    attention_head_z = z_reconstruct\n",
    "    return attention_head_z\n",
    "\n",
    "\n",
    "def kl_divergence_and_loss_difference(sae, gated_sae, batch, layer):\n",
    "    clean_logits, clean_loss = model(batch, return_type=\"both\")\n",
    "    hook_fn = partial(attention_head_z_patching_hook, layer=layer, sae=sae, gated_sae=gated_sae)\n",
    "    patched_logits, patched_loss = model.run_with_hooks(\n",
    "        batch,\n",
    "        fwd_hooks=[(get_act_name(\"z\", layer, \"attn\"), hook_fn)],\n",
    "        return_type=\"both\"\n",
    "    )\n",
    "    return calculate_kl_divergence(clean_logits, patched_logits), patched_loss - clean_loss\n",
    "\n",
    "# Apply our metrics over a single batch\n",
    "kl_divergence, loss_difference = kl_divergence_and_loss_difference(big_sae, None, batch, layer)\n",
    "z_hat, _, _ = big_sae(z_acts, z_acts)\n",
    "z = big_sae.encoder(z_acts)\n",
    "mse = mse_loss(z_hat, z_acts)\n",
    "l0 = l0_loss(z)\n",
    "print(f\"KL Divergence: {kl_divergence}\")\n",
    "print(f\"MSE Loss: {mse}\")\n",
    "print(f\"L0 Loss: {l0}\")"
   ]
  },
  {
   "cell_type": "code",
   "execution_count": 37,
   "metadata": {},
   "outputs": [
    {
     "name": "stdout",
     "output_type": "stream",
     "text": [
      "big_sae:\n",
      "\tkl_divergence: 0.03010598011314869\n",
      "\tloss_difference: -0.0069048404693603516\n",
      "\tmse: 28.25235939025879\n",
      "\tl0: 11.779296875\n",
      "little_sae:\n",
      "\tkl_divergence: 0.03288369998335838\n",
      "\tloss_difference: -0.006209850311279297\n",
      "\tmse: 30.18753433227539\n",
      "\tl0: 10.162109375\n",
      "combo_sae:\n",
      "\tkl_divergence: 0.028980068862438202\n",
      "\tloss_difference: -0.007672548294067383\n",
      "\tmse: 27.347576141357422\n",
      "\tl0: 13.576171875\n"
     ]
    }
   ],
   "source": [
    "# Now we need a function that gets the metrics for each model in a single batch\n",
    "\n",
    "def metrics_from_batch(big_sae, little_sae, error_sae, batch, layer):\n",
    "\n",
    "    # Get z_acts from batch\n",
    "    _, cache = model.run_with_cache(batch)\n",
    "    z_acts = cache['z', layer, 'attn']\n",
    "    z_acts = einops.rearrange(z_acts, 'b h l d -> (b h) (l d)')\n",
    "\n",
    "    # Just Big SAE\n",
    "    kl_divergence, loss_difference = kl_divergence_and_loss_difference(big_sae, None, batch, layer)\n",
    "    z_hat, _, _ = big_sae(z_acts, z_acts)\n",
    "    z = big_sae.encoder(z_acts)\n",
    "    mse = mse_loss(z_hat, z_acts)\n",
    "    l0 = l0_loss(z)\n",
    "\n",
    "    # Just little SAE\n",
    "    kl_divergence_little, loss_difference_little = kl_divergence_and_loss_difference(little_sae, None, batch, layer)\n",
    "    z_hat_little, _, _ = little_sae(z_acts, z_acts)\n",
    "    z_little = little_sae.encoder(z_acts)\n",
    "    mse_little = mse_loss(z_hat_little, z_acts)\n",
    "    l0_little = l0_loss(z_little)\n",
    "\n",
    "    # Combo SAE = Little SAE + Error SAE\n",
    "    kl_divergence_combo, loss_difference_combo = kl_divergence_and_loss_difference(little_sae, error_sae, batch, layer)\n",
    "    z_hat_combo, _, _ = little_sae(z_acts, z_acts)\n",
    "    predicted_error, _, _ = error_sae(z_acts, z_acts - z_hat_combo)\n",
    "    error_z = error_sae.encoder(z_acts)\n",
    "    z_hat_combo = z_hat_combo + predicted_error\n",
    "    z_combo = little_sae.encoder(z_acts) + error_z\n",
    "    mse_combo = mse_loss(z_hat_combo, z_acts)\n",
    "    l0_combo = l0_loss(z_combo)\n",
    "\n",
    "    # Create dict\n",
    "    batch_dict = {\n",
    "        \"big_sae\": {\n",
    "            \"kl_divergence\": kl_divergence,\n",
    "            \"loss_difference\": loss_difference.item(), # \"loss_difference\" is the difference in loss between the patched and clean models\n",
    "            \"mse\": mse.item(),\n",
    "            \"l0\": l0.item()\n",
    "        },\n",
    "        \"little_sae\": {\n",
    "            \"kl_divergence\": kl_divergence_little,\n",
    "            \"loss_difference\": loss_difference_little.item(),\n",
    "            \"mse\": mse_little.item(),\n",
    "            \"l0\": l0_little.item()\n",
    "        },\n",
    "        \"combo_sae\": {\n",
    "            \"kl_divergence\": kl_divergence_combo,\n",
    "            \"loss_difference\": loss_difference_combo.item(),\n",
    "            \"mse\": mse_combo.item(),\n",
    "            \"l0\": l0_combo.item()\n",
    "        }\n",
    "    }\n",
    "\n",
    "    return batch_dict\n",
    "\n",
    "batch = activation_store.get_batch_tokens()\n",
    "\n",
    "batch_dict = metrics_from_batch(big_sae, little_sae, error_sae, batch, layer)\n",
    "\n",
    "# Print nicely\n",
    "for model_name, model_dict in batch_dict.items():\n",
    "    print(f\"{model_name}:\")\n",
    "    for metric_name, metric_value in model_dict.items():\n",
    "        print(f\"\\t{metric_name}: {metric_value}\")\n"
   ]
  },
  {
   "cell_type": "code",
   "execution_count": 43,
   "metadata": {},
   "outputs": [
    {
     "name": "stderr",
     "output_type": "stream",
     "text": [
      "100%|██████████| 50/50 [01:50<00:00,  2.21s/it]"
     ]
    },
    {
     "name": "stdout",
     "output_type": "stream",
     "text": [
      "big_sae:\n",
      "\tkl_divergence: 28.576228730380535\n",
      "\tloss_difference: 21.238393783569336\n",
      "\tmse: 27.937717094421387\n",
      "\tl0: 12.532734375\n",
      "little_sae:\n",
      "\tkl_divergence: 31.08639508485794\n",
      "\tloss_difference: 23.502426147460938\n",
      "\tmse: 29.982045402526854\n",
      "\tl0: 10.2893359375\n",
      "combo_sae:\n",
      "\tkl_divergence: 28.00963968038559\n",
      "\tloss_difference: 21.970629692077637\n",
      "\tmse: 27.687525939941406\n",
      "\tl0: 13.795390625\n"
     ]
    },
    {
     "name": "stderr",
     "output_type": "stream",
     "text": [
      "\n"
     ]
    }
   ],
   "source": [
    "import numpy as np\n",
    "\n",
    "# Now a function to apply over n batches and return the average\n",
    "def metrics_from_batches(activation_store, big_sae, little_sae, error_sae, batch, layer, n_batches):\n",
    "    batch_dicts = []\n",
    "    for i in tqdm(range(n_batches)):\n",
    "        batch = activation_store.get_batch_tokens()\n",
    "        batch_dict = metrics_from_batch(big_sae, little_sae, error_sae, batch, layer)\n",
    "        batch_dicts.append(batch_dict)\n",
    "\n",
    "    average_dict = {}\n",
    "    std_dict = {}\n",
    "    for model_name in batch_dicts[0].keys():\n",
    "        average_dict[model_name] = {}\n",
    "        std_dict[model_name] = {}\n",
    "        for metric_name in batch_dicts[0][model_name].keys():\n",
    "            metric_values = [batch_dict[model_name][metric_name] for batch_dict in batch_dicts]\n",
    "            average_dict[model_name][metric_name] = sum(metric_values) / n_batches\n",
    "            std_dict[model_name][metric_name] = np.std(metric_values) / 2\n",
    "\n",
    "            # If metric is kl_divergence, scale by 1000\n",
    "            if metric_name == \"kl_divergence\" or metric_name == \"loss_difference\":\n",
    "                average_dict[model_name][metric_name] *= 1000\n",
    "                std_dict[model_name][metric_name] *= 1000\n",
    "\n",
    "    return average_dict, std_dict\n",
    "\n",
    "average_dict, std_dict = metrics_from_batches(activation_store, big_sae, little_sae, error_sae, batch, layer, 50)\n",
    "\n",
    "# Print nicely\n",
    "for model_name, model_dict in average_dict.items():\n",
    "    print(f\"{model_name}:\")\n",
    "    for metric_name, metric_value in model_dict.items():\n",
    "        print(f\"\\t{metric_name}: {metric_value}\")"
   ]
  },
  {
   "cell_type": "code",
   "execution_count": 44,
   "metadata": {},
   "outputs": [
    {
     "data": {
      "application/vnd.plotly.v1+json": {
       "config": {
        "plotlyServerURL": "https://plot.ly"
       },
       "data": [
        {
         "error_y": {
          "array": [
           2.57510882394275,
           7.623228195311184,
           1.9030861032488897,
           0.5041202367836126
          ],
          "type": "data",
          "visible": true
         },
         "name": "big_sae",
         "type": "bar",
         "x": [
          "kl_divergence",
          "loss_difference",
          "mse",
          "l0"
         ],
         "y": [
          28.576228730380535,
          21.238393783569336,
          27.937717094421387,
          12.532734375
         ]
        },
        {
         "error_y": {
          "array": [
           2.5806466029894066,
           7.634278077177662,
           1.8550928600364534,
           0.374439584195534
          ],
          "type": "data",
          "visible": true
         },
         "name": "little_sae",
         "type": "bar",
         "x": [
          "kl_divergence",
          "loss_difference",
          "mse",
          "l0"
         ],
         "y": [
          31.08639508485794,
          23.502426147460938,
          29.982045402526854,
          10.2893359375
         ]
        },
        {
         "error_y": {
          "array": [
           2.206846809855574,
           7.258639563553335,
           1.7487327418260277,
           0.4721967420298384
          ],
          "type": "data",
          "visible": true
         },
         "name": "combo_sae",
         "type": "bar",
         "x": [
          "kl_divergence",
          "loss_difference",
          "mse",
          "l0"
         ],
         "y": [
          28.00963968038559,
          21.970629692077637,
          27.687525939941406,
          13.795390625
         ]
        }
       ],
       "layout": {
        "barmode": "group",
        "template": {
         "data": {
          "bar": [
           {
            "error_x": {
             "color": "#2a3f5f"
            },
            "error_y": {
             "color": "#2a3f5f"
            },
            "marker": {
             "line": {
              "color": "#E5ECF6",
              "width": 0.5
             },
             "pattern": {
              "fillmode": "overlay",
              "size": 10,
              "solidity": 0.2
             }
            },
            "type": "bar"
           }
          ],
          "barpolar": [
           {
            "marker": {
             "line": {
              "color": "#E5ECF6",
              "width": 0.5
             },
             "pattern": {
              "fillmode": "overlay",
              "size": 10,
              "solidity": 0.2
             }
            },
            "type": "barpolar"
           }
          ],
          "carpet": [
           {
            "aaxis": {
             "endlinecolor": "#2a3f5f",
             "gridcolor": "white",
             "linecolor": "white",
             "minorgridcolor": "white",
             "startlinecolor": "#2a3f5f"
            },
            "baxis": {
             "endlinecolor": "#2a3f5f",
             "gridcolor": "white",
             "linecolor": "white",
             "minorgridcolor": "white",
             "startlinecolor": "#2a3f5f"
            },
            "type": "carpet"
           }
          ],
          "choropleth": [
           {
            "colorbar": {
             "outlinewidth": 0,
             "ticks": ""
            },
            "type": "choropleth"
           }
          ],
          "contour": [
           {
            "colorbar": {
             "outlinewidth": 0,
             "ticks": ""
            },
            "colorscale": [
             [
              0,
              "#0d0887"
             ],
             [
              0.1111111111111111,
              "#46039f"
             ],
             [
              0.2222222222222222,
              "#7201a8"
             ],
             [
              0.3333333333333333,
              "#9c179e"
             ],
             [
              0.4444444444444444,
              "#bd3786"
             ],
             [
              0.5555555555555556,
              "#d8576b"
             ],
             [
              0.6666666666666666,
              "#ed7953"
             ],
             [
              0.7777777777777778,
              "#fb9f3a"
             ],
             [
              0.8888888888888888,
              "#fdca26"
             ],
             [
              1,
              "#f0f921"
             ]
            ],
            "type": "contour"
           }
          ],
          "contourcarpet": [
           {
            "colorbar": {
             "outlinewidth": 0,
             "ticks": ""
            },
            "type": "contourcarpet"
           }
          ],
          "heatmap": [
           {
            "colorbar": {
             "outlinewidth": 0,
             "ticks": ""
            },
            "colorscale": [
             [
              0,
              "#0d0887"
             ],
             [
              0.1111111111111111,
              "#46039f"
             ],
             [
              0.2222222222222222,
              "#7201a8"
             ],
             [
              0.3333333333333333,
              "#9c179e"
             ],
             [
              0.4444444444444444,
              "#bd3786"
             ],
             [
              0.5555555555555556,
              "#d8576b"
             ],
             [
              0.6666666666666666,
              "#ed7953"
             ],
             [
              0.7777777777777778,
              "#fb9f3a"
             ],
             [
              0.8888888888888888,
              "#fdca26"
             ],
             [
              1,
              "#f0f921"
             ]
            ],
            "type": "heatmap"
           }
          ],
          "heatmapgl": [
           {
            "colorbar": {
             "outlinewidth": 0,
             "ticks": ""
            },
            "colorscale": [
             [
              0,
              "#0d0887"
             ],
             [
              0.1111111111111111,
              "#46039f"
             ],
             [
              0.2222222222222222,
              "#7201a8"
             ],
             [
              0.3333333333333333,
              "#9c179e"
             ],
             [
              0.4444444444444444,
              "#bd3786"
             ],
             [
              0.5555555555555556,
              "#d8576b"
             ],
             [
              0.6666666666666666,
              "#ed7953"
             ],
             [
              0.7777777777777778,
              "#fb9f3a"
             ],
             [
              0.8888888888888888,
              "#fdca26"
             ],
             [
              1,
              "#f0f921"
             ]
            ],
            "type": "heatmapgl"
           }
          ],
          "histogram": [
           {
            "marker": {
             "pattern": {
              "fillmode": "overlay",
              "size": 10,
              "solidity": 0.2
             }
            },
            "type": "histogram"
           }
          ],
          "histogram2d": [
           {
            "colorbar": {
             "outlinewidth": 0,
             "ticks": ""
            },
            "colorscale": [
             [
              0,
              "#0d0887"
             ],
             [
              0.1111111111111111,
              "#46039f"
             ],
             [
              0.2222222222222222,
              "#7201a8"
             ],
             [
              0.3333333333333333,
              "#9c179e"
             ],
             [
              0.4444444444444444,
              "#bd3786"
             ],
             [
              0.5555555555555556,
              "#d8576b"
             ],
             [
              0.6666666666666666,
              "#ed7953"
             ],
             [
              0.7777777777777778,
              "#fb9f3a"
             ],
             [
              0.8888888888888888,
              "#fdca26"
             ],
             [
              1,
              "#f0f921"
             ]
            ],
            "type": "histogram2d"
           }
          ],
          "histogram2dcontour": [
           {
            "colorbar": {
             "outlinewidth": 0,
             "ticks": ""
            },
            "colorscale": [
             [
              0,
              "#0d0887"
             ],
             [
              0.1111111111111111,
              "#46039f"
             ],
             [
              0.2222222222222222,
              "#7201a8"
             ],
             [
              0.3333333333333333,
              "#9c179e"
             ],
             [
              0.4444444444444444,
              "#bd3786"
             ],
             [
              0.5555555555555556,
              "#d8576b"
             ],
             [
              0.6666666666666666,
              "#ed7953"
             ],
             [
              0.7777777777777778,
              "#fb9f3a"
             ],
             [
              0.8888888888888888,
              "#fdca26"
             ],
             [
              1,
              "#f0f921"
             ]
            ],
            "type": "histogram2dcontour"
           }
          ],
          "mesh3d": [
           {
            "colorbar": {
             "outlinewidth": 0,
             "ticks": ""
            },
            "type": "mesh3d"
           }
          ],
          "parcoords": [
           {
            "line": {
             "colorbar": {
              "outlinewidth": 0,
              "ticks": ""
             }
            },
            "type": "parcoords"
           }
          ],
          "pie": [
           {
            "automargin": true,
            "type": "pie"
           }
          ],
          "scatter": [
           {
            "fillpattern": {
             "fillmode": "overlay",
             "size": 10,
             "solidity": 0.2
            },
            "type": "scatter"
           }
          ],
          "scatter3d": [
           {
            "line": {
             "colorbar": {
              "outlinewidth": 0,
              "ticks": ""
             }
            },
            "marker": {
             "colorbar": {
              "outlinewidth": 0,
              "ticks": ""
             }
            },
            "type": "scatter3d"
           }
          ],
          "scattercarpet": [
           {
            "marker": {
             "colorbar": {
              "outlinewidth": 0,
              "ticks": ""
             }
            },
            "type": "scattercarpet"
           }
          ],
          "scattergeo": [
           {
            "marker": {
             "colorbar": {
              "outlinewidth": 0,
              "ticks": ""
             }
            },
            "type": "scattergeo"
           }
          ],
          "scattergl": [
           {
            "marker": {
             "colorbar": {
              "outlinewidth": 0,
              "ticks": ""
             }
            },
            "type": "scattergl"
           }
          ],
          "scattermapbox": [
           {
            "marker": {
             "colorbar": {
              "outlinewidth": 0,
              "ticks": ""
             }
            },
            "type": "scattermapbox"
           }
          ],
          "scatterpolar": [
           {
            "marker": {
             "colorbar": {
              "outlinewidth": 0,
              "ticks": ""
             }
            },
            "type": "scatterpolar"
           }
          ],
          "scatterpolargl": [
           {
            "marker": {
             "colorbar": {
              "outlinewidth": 0,
              "ticks": ""
             }
            },
            "type": "scatterpolargl"
           }
          ],
          "scatterternary": [
           {
            "marker": {
             "colorbar": {
              "outlinewidth": 0,
              "ticks": ""
             }
            },
            "type": "scatterternary"
           }
          ],
          "surface": [
           {
            "colorbar": {
             "outlinewidth": 0,
             "ticks": ""
            },
            "colorscale": [
             [
              0,
              "#0d0887"
             ],
             [
              0.1111111111111111,
              "#46039f"
             ],
             [
              0.2222222222222222,
              "#7201a8"
             ],
             [
              0.3333333333333333,
              "#9c179e"
             ],
             [
              0.4444444444444444,
              "#bd3786"
             ],
             [
              0.5555555555555556,
              "#d8576b"
             ],
             [
              0.6666666666666666,
              "#ed7953"
             ],
             [
              0.7777777777777778,
              "#fb9f3a"
             ],
             [
              0.8888888888888888,
              "#fdca26"
             ],
             [
              1,
              "#f0f921"
             ]
            ],
            "type": "surface"
           }
          ],
          "table": [
           {
            "cells": {
             "fill": {
              "color": "#EBF0F8"
             },
             "line": {
              "color": "white"
             }
            },
            "header": {
             "fill": {
              "color": "#C8D4E3"
             },
             "line": {
              "color": "white"
             }
            },
            "type": "table"
           }
          ]
         },
         "layout": {
          "annotationdefaults": {
           "arrowcolor": "#2a3f5f",
           "arrowhead": 0,
           "arrowwidth": 1
          },
          "autotypenumbers": "strict",
          "coloraxis": {
           "colorbar": {
            "outlinewidth": 0,
            "ticks": ""
           }
          },
          "colorscale": {
           "diverging": [
            [
             0,
             "#8e0152"
            ],
            [
             0.1,
             "#c51b7d"
            ],
            [
             0.2,
             "#de77ae"
            ],
            [
             0.3,
             "#f1b6da"
            ],
            [
             0.4,
             "#fde0ef"
            ],
            [
             0.5,
             "#f7f7f7"
            ],
            [
             0.6,
             "#e6f5d0"
            ],
            [
             0.7,
             "#b8e186"
            ],
            [
             0.8,
             "#7fbc41"
            ],
            [
             0.9,
             "#4d9221"
            ],
            [
             1,
             "#276419"
            ]
           ],
           "sequential": [
            [
             0,
             "#0d0887"
            ],
            [
             0.1111111111111111,
             "#46039f"
            ],
            [
             0.2222222222222222,
             "#7201a8"
            ],
            [
             0.3333333333333333,
             "#9c179e"
            ],
            [
             0.4444444444444444,
             "#bd3786"
            ],
            [
             0.5555555555555556,
             "#d8576b"
            ],
            [
             0.6666666666666666,
             "#ed7953"
            ],
            [
             0.7777777777777778,
             "#fb9f3a"
            ],
            [
             0.8888888888888888,
             "#fdca26"
            ],
            [
             1,
             "#f0f921"
            ]
           ],
           "sequentialminus": [
            [
             0,
             "#0d0887"
            ],
            [
             0.1111111111111111,
             "#46039f"
            ],
            [
             0.2222222222222222,
             "#7201a8"
            ],
            [
             0.3333333333333333,
             "#9c179e"
            ],
            [
             0.4444444444444444,
             "#bd3786"
            ],
            [
             0.5555555555555556,
             "#d8576b"
            ],
            [
             0.6666666666666666,
             "#ed7953"
            ],
            [
             0.7777777777777778,
             "#fb9f3a"
            ],
            [
             0.8888888888888888,
             "#fdca26"
            ],
            [
             1,
             "#f0f921"
            ]
           ]
          },
          "colorway": [
           "#636efa",
           "#EF553B",
           "#00cc96",
           "#ab63fa",
           "#FFA15A",
           "#19d3f3",
           "#FF6692",
           "#B6E880",
           "#FF97FF",
           "#FECB52"
          ],
          "font": {
           "color": "#2a3f5f"
          },
          "geo": {
           "bgcolor": "white",
           "lakecolor": "white",
           "landcolor": "#E5ECF6",
           "showlakes": true,
           "showland": true,
           "subunitcolor": "white"
          },
          "hoverlabel": {
           "align": "left"
          },
          "hovermode": "closest",
          "mapbox": {
           "style": "light"
          },
          "paper_bgcolor": "white",
          "plot_bgcolor": "#E5ECF6",
          "polar": {
           "angularaxis": {
            "gridcolor": "white",
            "linecolor": "white",
            "ticks": ""
           },
           "bgcolor": "#E5ECF6",
           "radialaxis": {
            "gridcolor": "white",
            "linecolor": "white",
            "ticks": ""
           }
          },
          "scene": {
           "xaxis": {
            "backgroundcolor": "#E5ECF6",
            "gridcolor": "white",
            "gridwidth": 2,
            "linecolor": "white",
            "showbackground": true,
            "ticks": "",
            "zerolinecolor": "white"
           },
           "yaxis": {
            "backgroundcolor": "#E5ECF6",
            "gridcolor": "white",
            "gridwidth": 2,
            "linecolor": "white",
            "showbackground": true,
            "ticks": "",
            "zerolinecolor": "white"
           },
           "zaxis": {
            "backgroundcolor": "#E5ECF6",
            "gridcolor": "white",
            "gridwidth": 2,
            "linecolor": "white",
            "showbackground": true,
            "ticks": "",
            "zerolinecolor": "white"
           }
          },
          "shapedefaults": {
           "line": {
            "color": "#2a3f5f"
           }
          },
          "ternary": {
           "aaxis": {
            "gridcolor": "white",
            "linecolor": "white",
            "ticks": ""
           },
           "baxis": {
            "gridcolor": "white",
            "linecolor": "white",
            "ticks": ""
           },
           "bgcolor": "#E5ECF6",
           "caxis": {
            "gridcolor": "white",
            "linecolor": "white",
            "ticks": ""
           }
          },
          "title": {
           "x": 0.05
          },
          "xaxis": {
           "automargin": true,
           "gridcolor": "white",
           "linecolor": "white",
           "ticks": "",
           "title": {
            "standoff": 15
           },
           "zerolinecolor": "white",
           "zerolinewidth": 2
          },
          "yaxis": {
           "automargin": true,
           "gridcolor": "white",
           "linecolor": "white",
           "ticks": "",
           "title": {
            "standoff": 15
           },
           "zerolinecolor": "white",
           "zerolinewidth": 2
          }
         }
        },
        "title": {
         "text": "Big vs Combo metrics (same L0)"
        },
        "width": 800,
        "xaxis": {
         "title": {
          "text": "Metrics"
         }
        }
       }
      }
     },
     "metadata": {},
     "output_type": "display_data"
    }
   ],
   "source": [
    "import plotly.graph_objects as go\n",
    "import plotly.express as px\n",
    "\n",
    "# Create a grouped bar chat - groups are metrics, bars are models\n",
    "# Create traces for each model\n",
    "traces = []\n",
    "for model_name, model_dict in average_dict.items():\n",
    "    trace = go.Bar(\n",
    "        name=model_name,\n",
    "        x=list(model_dict.keys()),\n",
    "        y=list(model_dict.values()),\n",
    "        error_y=dict(\n",
    "            type='data',\n",
    "            array=[std_dict[model_name][metric_name] for metric_name in model_dict.keys()],\n",
    "            visible=True\n",
    "        )\n",
    "    )\n",
    "    traces.append(trace)\n",
    "\n",
    "# Create the layout\n",
    "layout = go.Layout(\n",
    "    title=\"Big vs Combo metrics (same L0)\",\n",
    "    xaxis=dict(title=\"Metrics\"),\n",
    "    barmode=\"group\",\n",
    "    width=800\n",
    ")\n",
    "\n",
    "# Create the figure\n",
    "fig = go.Figure(data=traces, layout=layout)\n",
    "\n",
    "# Display the chart\n",
    "fig.show()"
   ]
  },
  {
   "cell_type": "code",
   "execution_count": 28,
   "metadata": {},
   "outputs": [
    {
     "data": {
      "application/vnd.plotly.v1+json": {
       "config": {
        "plotlyServerURL": "https://plot.ly"
       },
       "data": [
        {
         "hovertemplate": "x=%{x}<br>y=%{y}<extra></extra>",
         "legendgroup": "",
         "line": {
          "color": "#636efa",
          "dash": "solid"
         },
         "marker": {
          "symbol": "circle"
         },
         "mode": "lines",
         "name": "",
         "orientation": "v",
         "showlegend": false,
         "type": "scatter",
         "x": [
          10,
          11,
          12,
          13,
          14,
          15,
          16
         ],
         "xaxis": "x",
         "y": [
          30.01,
          29.02,
          28.28,
          27.99,
          26.05,
          25.8,
          25.43
         ],
         "yaxis": "y"
        },
        {
         "marker": {
          "color": "red",
          "size": 15,
          "symbol": "cross"
         },
         "mode": "markers",
         "name": "Big SAE",
         "type": "scatter",
         "x": [
          12.38
         ],
         "y": [
          28.24
         ]
        }
       ],
       "layout": {
        "font": {
         "size": 14
        },
        "legend": {
         "title": {
          "text": "Models"
         },
         "tracegroupgap": 0
        },
        "template": {
         "data": {
          "bar": [
           {
            "error_x": {
             "color": "#2a3f5f"
            },
            "error_y": {
             "color": "#2a3f5f"
            },
            "marker": {
             "line": {
              "color": "#E5ECF6",
              "width": 0.5
             },
             "pattern": {
              "fillmode": "overlay",
              "size": 10,
              "solidity": 0.2
             }
            },
            "type": "bar"
           }
          ],
          "barpolar": [
           {
            "marker": {
             "line": {
              "color": "#E5ECF6",
              "width": 0.5
             },
             "pattern": {
              "fillmode": "overlay",
              "size": 10,
              "solidity": 0.2
             }
            },
            "type": "barpolar"
           }
          ],
          "carpet": [
           {
            "aaxis": {
             "endlinecolor": "#2a3f5f",
             "gridcolor": "white",
             "linecolor": "white",
             "minorgridcolor": "white",
             "startlinecolor": "#2a3f5f"
            },
            "baxis": {
             "endlinecolor": "#2a3f5f",
             "gridcolor": "white",
             "linecolor": "white",
             "minorgridcolor": "white",
             "startlinecolor": "#2a3f5f"
            },
            "type": "carpet"
           }
          ],
          "choropleth": [
           {
            "colorbar": {
             "outlinewidth": 0,
             "ticks": ""
            },
            "type": "choropleth"
           }
          ],
          "contour": [
           {
            "colorbar": {
             "outlinewidth": 0,
             "ticks": ""
            },
            "colorscale": [
             [
              0,
              "#0d0887"
             ],
             [
              0.1111111111111111,
              "#46039f"
             ],
             [
              0.2222222222222222,
              "#7201a8"
             ],
             [
              0.3333333333333333,
              "#9c179e"
             ],
             [
              0.4444444444444444,
              "#bd3786"
             ],
             [
              0.5555555555555556,
              "#d8576b"
             ],
             [
              0.6666666666666666,
              "#ed7953"
             ],
             [
              0.7777777777777778,
              "#fb9f3a"
             ],
             [
              0.8888888888888888,
              "#fdca26"
             ],
             [
              1,
              "#f0f921"
             ]
            ],
            "type": "contour"
           }
          ],
          "contourcarpet": [
           {
            "colorbar": {
             "outlinewidth": 0,
             "ticks": ""
            },
            "type": "contourcarpet"
           }
          ],
          "heatmap": [
           {
            "colorbar": {
             "outlinewidth": 0,
             "ticks": ""
            },
            "colorscale": [
             [
              0,
              "#0d0887"
             ],
             [
              0.1111111111111111,
              "#46039f"
             ],
             [
              0.2222222222222222,
              "#7201a8"
             ],
             [
              0.3333333333333333,
              "#9c179e"
             ],
             [
              0.4444444444444444,
              "#bd3786"
             ],
             [
              0.5555555555555556,
              "#d8576b"
             ],
             [
              0.6666666666666666,
              "#ed7953"
             ],
             [
              0.7777777777777778,
              "#fb9f3a"
             ],
             [
              0.8888888888888888,
              "#fdca26"
             ],
             [
              1,
              "#f0f921"
             ]
            ],
            "type": "heatmap"
           }
          ],
          "heatmapgl": [
           {
            "colorbar": {
             "outlinewidth": 0,
             "ticks": ""
            },
            "colorscale": [
             [
              0,
              "#0d0887"
             ],
             [
              0.1111111111111111,
              "#46039f"
             ],
             [
              0.2222222222222222,
              "#7201a8"
             ],
             [
              0.3333333333333333,
              "#9c179e"
             ],
             [
              0.4444444444444444,
              "#bd3786"
             ],
             [
              0.5555555555555556,
              "#d8576b"
             ],
             [
              0.6666666666666666,
              "#ed7953"
             ],
             [
              0.7777777777777778,
              "#fb9f3a"
             ],
             [
              0.8888888888888888,
              "#fdca26"
             ],
             [
              1,
              "#f0f921"
             ]
            ],
            "type": "heatmapgl"
           }
          ],
          "histogram": [
           {
            "marker": {
             "pattern": {
              "fillmode": "overlay",
              "size": 10,
              "solidity": 0.2
             }
            },
            "type": "histogram"
           }
          ],
          "histogram2d": [
           {
            "colorbar": {
             "outlinewidth": 0,
             "ticks": ""
            },
            "colorscale": [
             [
              0,
              "#0d0887"
             ],
             [
              0.1111111111111111,
              "#46039f"
             ],
             [
              0.2222222222222222,
              "#7201a8"
             ],
             [
              0.3333333333333333,
              "#9c179e"
             ],
             [
              0.4444444444444444,
              "#bd3786"
             ],
             [
              0.5555555555555556,
              "#d8576b"
             ],
             [
              0.6666666666666666,
              "#ed7953"
             ],
             [
              0.7777777777777778,
              "#fb9f3a"
             ],
             [
              0.8888888888888888,
              "#fdca26"
             ],
             [
              1,
              "#f0f921"
             ]
            ],
            "type": "histogram2d"
           }
          ],
          "histogram2dcontour": [
           {
            "colorbar": {
             "outlinewidth": 0,
             "ticks": ""
            },
            "colorscale": [
             [
              0,
              "#0d0887"
             ],
             [
              0.1111111111111111,
              "#46039f"
             ],
             [
              0.2222222222222222,
              "#7201a8"
             ],
             [
              0.3333333333333333,
              "#9c179e"
             ],
             [
              0.4444444444444444,
              "#bd3786"
             ],
             [
              0.5555555555555556,
              "#d8576b"
             ],
             [
              0.6666666666666666,
              "#ed7953"
             ],
             [
              0.7777777777777778,
              "#fb9f3a"
             ],
             [
              0.8888888888888888,
              "#fdca26"
             ],
             [
              1,
              "#f0f921"
             ]
            ],
            "type": "histogram2dcontour"
           }
          ],
          "mesh3d": [
           {
            "colorbar": {
             "outlinewidth": 0,
             "ticks": ""
            },
            "type": "mesh3d"
           }
          ],
          "parcoords": [
           {
            "line": {
             "colorbar": {
              "outlinewidth": 0,
              "ticks": ""
             }
            },
            "type": "parcoords"
           }
          ],
          "pie": [
           {
            "automargin": true,
            "type": "pie"
           }
          ],
          "scatter": [
           {
            "fillpattern": {
             "fillmode": "overlay",
             "size": 10,
             "solidity": 0.2
            },
            "type": "scatter"
           }
          ],
          "scatter3d": [
           {
            "line": {
             "colorbar": {
              "outlinewidth": 0,
              "ticks": ""
             }
            },
            "marker": {
             "colorbar": {
              "outlinewidth": 0,
              "ticks": ""
             }
            },
            "type": "scatter3d"
           }
          ],
          "scattercarpet": [
           {
            "marker": {
             "colorbar": {
              "outlinewidth": 0,
              "ticks": ""
             }
            },
            "type": "scattercarpet"
           }
          ],
          "scattergeo": [
           {
            "marker": {
             "colorbar": {
              "outlinewidth": 0,
              "ticks": ""
             }
            },
            "type": "scattergeo"
           }
          ],
          "scattergl": [
           {
            "marker": {
             "colorbar": {
              "outlinewidth": 0,
              "ticks": ""
             }
            },
            "type": "scattergl"
           }
          ],
          "scattermapbox": [
           {
            "marker": {
             "colorbar": {
              "outlinewidth": 0,
              "ticks": ""
             }
            },
            "type": "scattermapbox"
           }
          ],
          "scatterpolar": [
           {
            "marker": {
             "colorbar": {
              "outlinewidth": 0,
              "ticks": ""
             }
            },
            "type": "scatterpolar"
           }
          ],
          "scatterpolargl": [
           {
            "marker": {
             "colorbar": {
              "outlinewidth": 0,
              "ticks": ""
             }
            },
            "type": "scatterpolargl"
           }
          ],
          "scatterternary": [
           {
            "marker": {
             "colorbar": {
              "outlinewidth": 0,
              "ticks": ""
             }
            },
            "type": "scatterternary"
           }
          ],
          "surface": [
           {
            "colorbar": {
             "outlinewidth": 0,
             "ticks": ""
            },
            "colorscale": [
             [
              0,
              "#0d0887"
             ],
             [
              0.1111111111111111,
              "#46039f"
             ],
             [
              0.2222222222222222,
              "#7201a8"
             ],
             [
              0.3333333333333333,
              "#9c179e"
             ],
             [
              0.4444444444444444,
              "#bd3786"
             ],
             [
              0.5555555555555556,
              "#d8576b"
             ],
             [
              0.6666666666666666,
              "#ed7953"
             ],
             [
              0.7777777777777778,
              "#fb9f3a"
             ],
             [
              0.8888888888888888,
              "#fdca26"
             ],
             [
              1,
              "#f0f921"
             ]
            ],
            "type": "surface"
           }
          ],
          "table": [
           {
            "cells": {
             "fill": {
              "color": "#EBF0F8"
             },
             "line": {
              "color": "white"
             }
            },
            "header": {
             "fill": {
              "color": "#C8D4E3"
             },
             "line": {
              "color": "white"
             }
            },
            "type": "table"
           }
          ]
         },
         "layout": {
          "annotationdefaults": {
           "arrowcolor": "#2a3f5f",
           "arrowhead": 0,
           "arrowwidth": 1
          },
          "autotypenumbers": "strict",
          "coloraxis": {
           "colorbar": {
            "outlinewidth": 0,
            "ticks": ""
           }
          },
          "colorscale": {
           "diverging": [
            [
             0,
             "#8e0152"
            ],
            [
             0.1,
             "#c51b7d"
            ],
            [
             0.2,
             "#de77ae"
            ],
            [
             0.3,
             "#f1b6da"
            ],
            [
             0.4,
             "#fde0ef"
            ],
            [
             0.5,
             "#f7f7f7"
            ],
            [
             0.6,
             "#e6f5d0"
            ],
            [
             0.7,
             "#b8e186"
            ],
            [
             0.8,
             "#7fbc41"
            ],
            [
             0.9,
             "#4d9221"
            ],
            [
             1,
             "#276419"
            ]
           ],
           "sequential": [
            [
             0,
             "#0d0887"
            ],
            [
             0.1111111111111111,
             "#46039f"
            ],
            [
             0.2222222222222222,
             "#7201a8"
            ],
            [
             0.3333333333333333,
             "#9c179e"
            ],
            [
             0.4444444444444444,
             "#bd3786"
            ],
            [
             0.5555555555555556,
             "#d8576b"
            ],
            [
             0.6666666666666666,
             "#ed7953"
            ],
            [
             0.7777777777777778,
             "#fb9f3a"
            ],
            [
             0.8888888888888888,
             "#fdca26"
            ],
            [
             1,
             "#f0f921"
            ]
           ],
           "sequentialminus": [
            [
             0,
             "#0d0887"
            ],
            [
             0.1111111111111111,
             "#46039f"
            ],
            [
             0.2222222222222222,
             "#7201a8"
            ],
            [
             0.3333333333333333,
             "#9c179e"
            ],
            [
             0.4444444444444444,
             "#bd3786"
            ],
            [
             0.5555555555555556,
             "#d8576b"
            ],
            [
             0.6666666666666666,
             "#ed7953"
            ],
            [
             0.7777777777777778,
             "#fb9f3a"
            ],
            [
             0.8888888888888888,
             "#fdca26"
            ],
            [
             1,
             "#f0f921"
            ]
           ]
          },
          "colorway": [
           "#636efa",
           "#EF553B",
           "#00cc96",
           "#ab63fa",
           "#FFA15A",
           "#19d3f3",
           "#FF6692",
           "#B6E880",
           "#FF97FF",
           "#FECB52"
          ],
          "font": {
           "color": "#2a3f5f"
          },
          "geo": {
           "bgcolor": "white",
           "lakecolor": "white",
           "landcolor": "#E5ECF6",
           "showlakes": true,
           "showland": true,
           "subunitcolor": "white"
          },
          "hoverlabel": {
           "align": "left"
          },
          "hovermode": "closest",
          "mapbox": {
           "style": "light"
          },
          "paper_bgcolor": "white",
          "plot_bgcolor": "#E5ECF6",
          "polar": {
           "angularaxis": {
            "gridcolor": "white",
            "linecolor": "white",
            "ticks": ""
           },
           "bgcolor": "#E5ECF6",
           "radialaxis": {
            "gridcolor": "white",
            "linecolor": "white",
            "ticks": ""
           }
          },
          "scene": {
           "xaxis": {
            "backgroundcolor": "#E5ECF6",
            "gridcolor": "white",
            "gridwidth": 2,
            "linecolor": "white",
            "showbackground": true,
            "ticks": "",
            "zerolinecolor": "white"
           },
           "yaxis": {
            "backgroundcolor": "#E5ECF6",
            "gridcolor": "white",
            "gridwidth": 2,
            "linecolor": "white",
            "showbackground": true,
            "ticks": "",
            "zerolinecolor": "white"
           },
           "zaxis": {
            "backgroundcolor": "#E5ECF6",
            "gridcolor": "white",
            "gridwidth": 2,
            "linecolor": "white",
            "showbackground": true,
            "ticks": "",
            "zerolinecolor": "white"
           }
          },
          "shapedefaults": {
           "line": {
            "color": "#2a3f5f"
           }
          },
          "ternary": {
           "aaxis": {
            "gridcolor": "white",
            "linecolor": "white",
            "ticks": ""
           },
           "baxis": {
            "gridcolor": "white",
            "linecolor": "white",
            "ticks": ""
           },
           "bgcolor": "#E5ECF6",
           "caxis": {
            "gridcolor": "white",
            "linecolor": "white",
            "ticks": ""
           }
          },
          "title": {
           "x": 0.05
          },
          "xaxis": {
           "automargin": true,
           "gridcolor": "white",
           "linecolor": "white",
           "ticks": "",
           "title": {
            "standoff": 15
           },
           "zerolinecolor": "white",
           "zerolinewidth": 2
          },
          "yaxis": {
           "automargin": true,
           "gridcolor": "white",
           "linecolor": "white",
           "ticks": "",
           "title": {
            "standoff": 15
           },
           "zerolinecolor": "white",
           "zerolinewidth": 2
          }
         }
        },
        "title": {
         "text": "Combo SAE Pareto Curve (L0 vs MSE)"
        },
        "width": 800,
        "xaxis": {
         "anchor": "y",
         "domain": [
          0,
          1
         ],
         "title": {
          "text": "L0"
         }
        },
        "yaxis": {
         "anchor": "x",
         "domain": [
          0,
          1
         ],
         "title": {
          "text": "MSE"
         }
        }
       }
      }
     },
     "metadata": {},
     "output_type": "display_data"
    }
   ],
   "source": [
    "# Pareto curve data (from HuggingFace)\n",
    "l0s = [10, 11, 12, 13, 14, 15, 16]\n",
    "l2s = [30.01, 29.02, 28.28, 27.99, 26.05, 25.80, 25.43]\n",
    "big_sae = (12.38, 28.24)\n",
    "\n",
    "# Create the line plot\n",
    "fig = px.line(x=l0s, y=l2s, title=\"Combo SAE Pareto Curve (L0 vs MSE)\", width=800)\n",
    "\n",
    "# Add a red cross marker for big_sae\n",
    "fig.add_trace(go.Scatter(\n",
    "    x=[big_sae[0]],\n",
    "    y=[big_sae[1]],\n",
    "    mode='markers',\n",
    "    marker=dict(\n",
    "        color='red',\n",
    "        size=15,\n",
    "        symbol='cross'\n",
    "    ),\n",
    "    name='Big SAE'\n",
    "))\n",
    "\n",
    "# Update layout\n",
    "fig.update_layout(\n",
    "    xaxis_title='L0',\n",
    "    yaxis_title='MSE',\n",
    "    legend_title='Models',\n",
    "    font=dict(size=14)\n",
    ")\n",
    "\n",
    "# Show the plot\n",
    "fig.show()"
   ]
  },
  {
   "cell_type": "markdown",
   "metadata": {},
   "source": [
    "### Training combo SAE"
   ]
  },
  {
   "cell_type": "code",
   "execution_count": null,
   "metadata": {},
   "outputs": [],
   "source": [
    "# Train a smaller regular SAE, hidden size 16_000"
   ]
  },
  {
   "cell_type": "code",
   "execution_count": null,
   "metadata": {},
   "outputs": [],
   "source": [
    "# Train a smaller error SAE, hidden size 16_000\n",
    "layer = 9\n",
    "model_type = 'gated'\n",
    "n_epochs = 100\n",
    "l1_coefficient = 3e-4\n",
    "batch_size = 2048\n",
    "lr = 0.001\n",
    "projection_up = 16\n",
    "repo_name = \"error-saes\"\n",
    "\n",
    "error_sae = main(layer, model_type, n_epochs, l1_coefficient, projection_up, batch_size, lr, repo_name, return_model=True, save_model=False)"
   ]
  },
  {
   "cell_type": "code",
   "execution_count": null,
   "metadata": {},
   "outputs": [],
   "source": []
  }
 ],
 "metadata": {
  "kernelspec": {
   "display_name": "anu",
   "language": "python",
   "name": "python3"
  },
  "language_info": {
   "codemirror_mode": {
    "name": "ipython",
    "version": 3
   },
   "file_extension": ".py",
   "mimetype": "text/x-python",
   "name": "python",
   "nbconvert_exporter": "python",
   "pygments_lexer": "ipython3",
   "version": "3.12.1"
  }
 },
 "nbformat": 4,
 "nbformat_minor": 2
}
