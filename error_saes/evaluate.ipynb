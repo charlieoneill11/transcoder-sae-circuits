{
 "cells": [
  {
   "cell_type": "markdown",
   "metadata": {},
   "source": [
    "# Evaluating combo SAEs"
   ]
  },
  {
   "cell_type": "code",
   "execution_count": null,
   "metadata": {},
   "outputs": [],
   "source": [
    "from main import *"
   ]
  },
  {
   "cell_type": "markdown",
   "metadata": {},
   "source": [
    "## Max activating features"
   ]
  },
  {
   "cell_type": "code",
   "execution_count": null,
   "metadata": {},
   "outputs": [],
   "source": []
  },
  {
   "cell_type": "markdown",
   "metadata": {},
   "source": [
    "## Linearity of SAE sizes"
   ]
  },
  {
   "cell_type": "code",
   "execution_count": 3,
   "metadata": {},
   "outputs": [
    {
     "name": "stdout",
     "output_type": "stream",
     "text": [
      "Running on cpu...\n"
     ]
    },
    {
     "data": {
      "text/html": [
       "Finishing last run (ID:e8bu2o26) before initializing another..."
      ],
      "text/plain": [
       "<IPython.core.display.HTML object>"
      ]
     },
     "metadata": {},
     "output_type": "display_data"
    },
    {
     "name": "stderr",
     "output_type": "stream",
     "text": [
      "wandb: WARNING Source type is set to 'repo' but some required information is missing from the environment. A job will not be created from this run. See https://docs.wandb.ai/guides/launch/create-job\n"
     ]
    },
    {
     "data": {
      "application/vnd.jupyter.widget-view+json": {
       "model_id": "0ec4f8cec73946889b0f2c521a943ba7",
       "version_major": 2,
       "version_minor": 0
      },
      "text/plain": [
       "VBox(children=(Label(value='0.001 MB of 0.001 MB uploaded\\r'), FloatProgress(value=1.0, max=1.0)))"
      ]
     },
     "metadata": {},
     "output_type": "display_data"
    },
    {
     "data": {
      "text/html": [
       "<style>\n",
       "    table.wandb td:nth-child(1) { padding: 0 10px; text-align: left ; width: auto;} td:nth-child(2) {text-align: left ; width: 100%}\n",
       "    .wandb-row { display: flex; flex-direction: row; flex-wrap: wrap; justify-content: flex-start; width: 100% }\n",
       "    .wandb-col { display: flex; flex-direction: column; flex-basis: 100%; flex: 1; padding: 10px; }\n",
       "    </style>\n",
       "<div class=\"wandb-row\"><div class=\"wandb-col\"><h3>Run history:</h3><br/><table class=\"wandb\"><tr><td>dead_neurons</td><td>▁██</td></tr><tr><td>l0_loss</td><td>█▁▁</td></tr><tr><td>recon_loss</td><td>█▄▁</td></tr><tr><td>test_loss</td><td>█▁▁</td></tr></table><br/></div><div class=\"wandb-col\"><h3>Run summary:</h3><br/><table class=\"wandb\"><tr><td>dead_neurons</td><td>97.51383</td></tr><tr><td>l0_loss</td><td>0.15664</td></tr><tr><td>recon_loss</td><td>45.29677</td></tr><tr><td>test_loss</td><td>90.6025</td></tr><tr><td>training_type</td><td>regular_sae</td></tr></table><br/></div></div>"
      ],
      "text/plain": [
       "<IPython.core.display.HTML object>"
      ]
     },
     "metadata": {},
     "output_type": "display_data"
    },
    {
     "data": {
      "text/html": [
       " View run <strong style=\"color:#cdcd00\">9_2_32_regular</strong> at: <a href='https://wandb.ai/charlieoneill/regular-sae/runs/e8bu2o26' target=\"_blank\">https://wandb.ai/charlieoneill/regular-sae/runs/e8bu2o26</a><br/>Synced 6 W&B file(s), 0 media file(s), 0 artifact file(s) and 0 other file(s)"
      ],
      "text/plain": [
       "<IPython.core.display.HTML object>"
      ]
     },
     "metadata": {},
     "output_type": "display_data"
    },
    {
     "data": {
      "text/html": [
       "Find logs at: <code>./wandb/run-20240522_101647-e8bu2o26/logs</code>"
      ],
      "text/plain": [
       "<IPython.core.display.HTML object>"
      ]
     },
     "metadata": {},
     "output_type": "display_data"
    },
    {
     "data": {
      "text/html": [
       "Successfully finished last run (ID:e8bu2o26). Initializing new run:<br/>"
      ],
      "text/plain": [
       "<IPython.core.display.HTML object>"
      ]
     },
     "metadata": {},
     "output_type": "display_data"
    },
    {
     "name": "stderr",
     "output_type": "stream",
     "text": [
      "huggingface/tokenizers: The current process just got forked, after parallelism has already been used. Disabling parallelism to avoid deadlocks...\n",
      "To disable this warning, you can either:\n",
      "\t- Avoid using `tokenizers` before the fork if possible\n",
      "\t- Explicitly set the environment variable TOKENIZERS_PARALLELISM=(true | false)\n"
     ]
    },
    {
     "data": {
      "application/vnd.jupyter.widget-view+json": {
       "model_id": "a065c366d7394d6bbe7b251c50e76298",
       "version_major": 2,
       "version_minor": 0
      },
      "text/plain": [
       "VBox(children=(Label(value='Waiting for wandb.init()...\\r'), FloatProgress(value=0.011172231022242664, max=1.0…"
      ]
     },
     "metadata": {},
     "output_type": "display_data"
    },
    {
     "data": {
      "text/html": [
       "wandb version 0.17.0 is available!  To upgrade, please run:\n",
       " $ pip install wandb --upgrade"
      ],
      "text/plain": [
       "<IPython.core.display.HTML object>"
      ]
     },
     "metadata": {},
     "output_type": "display_data"
    },
    {
     "data": {
      "text/html": [
       "Tracking run with wandb version 0.16.0"
      ],
      "text/plain": [
       "<IPython.core.display.HTML object>"
      ]
     },
     "metadata": {},
     "output_type": "display_data"
    },
    {
     "data": {
      "text/html": [
       "Run data is saved locally in <code>/Users/charlesoneill/transcoder-sae-circuits/error_saes/wandb/run-20240522_101757-pw2kca2x</code>"
      ],
      "text/plain": [
       "<IPython.core.display.HTML object>"
      ]
     },
     "metadata": {},
     "output_type": "display_data"
    },
    {
     "data": {
      "text/html": [
       "Syncing run <strong><a href='https://wandb.ai/charlieoneill/regular-sae/runs/pw2kca2x' target=\"_blank\">9_0.5_32_regular</a></strong> to <a href='https://wandb.ai/charlieoneill/regular-sae' target=\"_blank\">Weights & Biases</a> (<a href='https://wandb.me/run' target=\"_blank\">docs</a>)<br/>"
      ],
      "text/plain": [
       "<IPython.core.display.HTML object>"
      ]
     },
     "metadata": {},
     "output_type": "display_data"
    },
    {
     "data": {
      "text/html": [
       " View project at <a href='https://wandb.ai/charlieoneill/regular-sae' target=\"_blank\">https://wandb.ai/charlieoneill/regular-sae</a>"
      ],
      "text/plain": [
       "<IPython.core.display.HTML object>"
      ]
     },
     "metadata": {},
     "output_type": "display_data"
    },
    {
     "data": {
      "text/html": [
       " View run at <a href='https://wandb.ai/charlieoneill/regular-sae/runs/pw2kca2x' target=\"_blank\">https://wandb.ai/charlieoneill/regular-sae/runs/pw2kca2x</a>"
      ],
      "text/plain": [
       "<IPython.core.display.HTML object>"
      ]
     },
     "metadata": {},
     "output_type": "display_data"
    },
    {
     "name": "stderr",
     "output_type": "stream",
     "text": [
      "100%|██████████| 1/1 [00:00<00:00,  1.08it/s]\n",
      "/Users/charlesoneill/miniconda3/envs/anu/lib/python3.12/site-packages/huggingface_hub/file_download.py:1132: FutureWarning: `resume_download` is deprecated and will be removed in version 1.0.0. Downloads always resume when possible. If you want to force a new download, use `force_download=True`.\n",
      "  warnings.warn(\n"
     ]
    },
    {
     "name": "stdout",
     "output_type": "stream",
     "text": [
      "Loader cfg batch size = 4 (batch size = 4)\n",
      "Loaded pretrained model gpt2-small into HookedTransformer\n",
      "Moving model to device:  cpu\n"
     ]
    },
    {
     "name": "stderr",
     "output_type": "stream",
     "text": [
      "/Users/charlesoneill/miniconda3/envs/anu/lib/python3.12/site-packages/datasets/load.py:1486: FutureWarning: The repository for Skylion007/openwebtext contains custom code which must be executed to correctly load the dataset. You can inspect the repository content at https://hf.co/datasets/Skylion007/openwebtext\n",
      "You can avoid this message in future by passing the argument `trust_remote_code=True`.\n",
      "Passing `trust_remote_code=True` will be mandatory to load this dataset from the next major release of `datasets`.\n",
      "  warnings.warn(\n"
     ]
    },
    {
     "name": "stdout",
     "output_type": "stream",
     "text": [
      "Initial Test Loss 406.7723 | Initial Reconstruction Error 52.7535 | Initial L0 Loss 12197.3229 | Initial Dead Neurons: 0.00%\n"
     ]
    },
    {
     "name": "stderr",
     "output_type": "stream",
     "text": [
      "Training Batches:   0%|          | 25/5000 [00:15<2:02:56,  1.48s/it]"
     ]
    },
    {
     "name": "stdout",
     "output_type": "stream",
     "text": [
      "Batch 25 Test Loss 96.7050 | Reconstruction Error 48.3401 | L0 Loss 0.8840 | Dead Neurons: 90.47%\n"
     ]
    },
    {
     "name": "stderr",
     "output_type": "stream",
     "text": [
      "Training Batches:   1%|          | 50/5000 [00:31<2:01:33,  1.47s/it]"
     ]
    },
    {
     "name": "stdout",
     "output_type": "stream",
     "text": [
      "Batch 50 Test Loss 87.2231 | Reconstruction Error 43.1522 | L0 Loss 1.8146 | Dead Neurons: 96.74%\n"
     ]
    },
    {
     "name": "stderr",
     "output_type": "stream",
     "text": [
      "Training Batches:   2%|▏         | 75/5000 [00:47<2:04:53,  1.52s/it]"
     ]
    },
    {
     "name": "stdout",
     "output_type": "stream",
     "text": [
      "Batch 75 Test Loss 78.2673 | Reconstruction Error 38.4308 | L0 Loss 2.8572 | Dead Neurons: 90.76%\n"
     ]
    },
    {
     "name": "stderr",
     "output_type": "stream",
     "text": [
      "Training Batches:   2%|▏         | 100/5000 [01:03<2:02:03,  1.49s/it]"
     ]
    },
    {
     "name": "stdout",
     "output_type": "stream",
     "text": [
      "Batch 100 Test Loss 84.6732 | Reconstruction Error 41.6701 | L0 Loss 3.3918 | Dead Neurons: 96.35%\n"
     ]
    },
    {
     "name": "stderr",
     "output_type": "stream",
     "text": [
      "Training Batches:   2%|▎         | 125/5000 [01:19<2:02:29,  1.51s/it]"
     ]
    },
    {
     "name": "stdout",
     "output_type": "stream",
     "text": [
      "Batch 125 Test Loss 78.2366 | Reconstruction Error 38.3757 | L0 Loss 4.9348 | Dead Neurons: 99.24%\n"
     ]
    },
    {
     "name": "stderr",
     "output_type": "stream",
     "text": [
      "Training Batches:   3%|▎         | 150/5000 [01:35<2:04:55,  1.55s/it]"
     ]
    },
    {
     "name": "stdout",
     "output_type": "stream",
     "text": [
      "Batch 150 Test Loss 74.8236 | Reconstruction Error 36.6973 | L0 Loss 4.3908 | Dead Neurons: 97.81%\n"
     ]
    },
    {
     "name": "stderr",
     "output_type": "stream",
     "text": [
      "Training Batches:   4%|▎         | 175/5000 [01:50<2:00:28,  1.50s/it]"
     ]
    },
    {
     "name": "stdout",
     "output_type": "stream",
     "text": [
      "Batch 175 Test Loss 77.3997 | Reconstruction Error 37.8035 | L0 Loss 6.7699 | Dead Neurons: 92.92%\n"
     ]
    },
    {
     "name": "stderr",
     "output_type": "stream",
     "text": [
      "Training Batches:   4%|▍         | 200/5000 [02:06<2:00:21,  1.50s/it]"
     ]
    },
    {
     "name": "stdout",
     "output_type": "stream",
     "text": [
      "Batch 200 Test Loss 69.9714 | Reconstruction Error 34.1457 | L0 Loss 6.9732 | Dead Neurons: 90.57%\n"
     ]
    },
    {
     "name": "stderr",
     "output_type": "stream",
     "text": [
      "Training Batches:   4%|▍         | 225/5000 [02:22<1:59:46,  1.50s/it]"
     ]
    },
    {
     "name": "stdout",
     "output_type": "stream",
     "text": [
      "Batch 225 Test Loss 72.8413 | Reconstruction Error 35.4664 | L0 Loss 8.0846 | Dead Neurons: 87.48%\n"
     ]
    },
    {
     "name": "stderr",
     "output_type": "stream",
     "text": [
      "Training Batches:   5%|▌         | 250/5000 [02:38<1:58:06,  1.49s/it]"
     ]
    },
    {
     "name": "stdout",
     "output_type": "stream",
     "text": [
      "Batch 250 Test Loss 67.0217 | Reconstruction Error 32.4760 | L0 Loss 7.8107 | Dead Neurons: 99.19%\n"
     ]
    },
    {
     "name": "stderr",
     "output_type": "stream",
     "text": [
      "Training Batches:   6%|▌         | 275/5000 [02:55<2:09:17,  1.64s/it]"
     ]
    },
    {
     "name": "stdout",
     "output_type": "stream",
     "text": [
      "Batch 275 Test Loss 69.4276 | Reconstruction Error 33.6806 | L0 Loss 8.5348 | Dead Neurons: 97.60%\n"
     ]
    },
    {
     "name": "stderr",
     "output_type": "stream",
     "text": [
      "Training Batches:   6%|▌         | 300/5000 [03:10<1:54:56,  1.47s/it]"
     ]
    },
    {
     "name": "stdout",
     "output_type": "stream",
     "text": [
      "Batch 300 Test Loss 67.7234 | Reconstruction Error 32.7922 | L0 Loss 9.0801 | Dead Neurons: 98.86%\n"
     ]
    },
    {
     "name": "stderr",
     "output_type": "stream",
     "text": [
      "Training Batches:   6%|▋         | 325/5000 [03:26<1:54:22,  1.47s/it]"
     ]
    },
    {
     "name": "stdout",
     "output_type": "stream",
     "text": [
      "Batch 325 Test Loss 70.4684 | Reconstruction Error 34.1727 | L0 Loss 10.7729 | Dead Neurons: 91.33%\n"
     ]
    },
    {
     "name": "stderr",
     "output_type": "stream",
     "text": [
      "Training Batches:   7%|▋         | 350/5000 [03:42<1:55:53,  1.50s/it]"
     ]
    },
    {
     "name": "stdout",
     "output_type": "stream",
     "text": [
      "Batch 350 Test Loss 68.2544 | Reconstruction Error 33.0108 | L0 Loss 11.4553 | Dead Neurons: 94.48%\n"
     ]
    },
    {
     "name": "stderr",
     "output_type": "stream",
     "text": [
      "Training Batches:   8%|▊         | 375/5000 [03:58<1:56:28,  1.51s/it]"
     ]
    },
    {
     "name": "stdout",
     "output_type": "stream",
     "text": [
      "Batch 375 Test Loss 67.4120 | Reconstruction Error 32.4813 | L0 Loss 12.0725 | Dead Neurons: 99.14%\n"
     ]
    },
    {
     "name": "stderr",
     "output_type": "stream",
     "text": [
      "Training Batches:   8%|▊         | 400/5000 [04:14<2:02:53,  1.60s/it]"
     ]
    },
    {
     "name": "stdout",
     "output_type": "stream",
     "text": [
      "Batch 400 Test Loss 69.9136 | Reconstruction Error 33.5962 | L0 Loss 13.3701 | Dead Neurons: 95.59%\n"
     ]
    },
    {
     "name": "stderr",
     "output_type": "stream",
     "text": [
      "Training Batches:   8%|▊         | 425/5000 [04:30<1:55:50,  1.52s/it]"
     ]
    },
    {
     "name": "stdout",
     "output_type": "stream",
     "text": [
      "Batch 425 Test Loss 63.8499 | Reconstruction Error 30.6193 | L0 Loss 13.6053 | Dead Neurons: 95.07%\n"
     ]
    },
    {
     "name": "stderr",
     "output_type": "stream",
     "text": [
      "Training Batches:   9%|▉         | 450/5000 [04:46<2:04:20,  1.64s/it]"
     ]
    },
    {
     "name": "stdout",
     "output_type": "stream",
     "text": [
      "Batch 450 Test Loss 67.9174 | Reconstruction Error 32.5992 | L0 Loss 14.5041 | Dead Neurons: 97.16%\n"
     ]
    },
    {
     "name": "stderr",
     "output_type": "stream",
     "text": [
      "Training Batches:  10%|▉         | 475/5000 [05:02<1:52:56,  1.50s/it]"
     ]
    },
    {
     "name": "stdout",
     "output_type": "stream",
     "text": [
      "Batch 475 Test Loss 65.6790 | Reconstruction Error 31.3552 | L0 Loss 15.6189 | Dead Neurons: 95.72%\n"
     ]
    },
    {
     "name": "stderr",
     "output_type": "stream",
     "text": [
      "Training Batches:  10%|█         | 500/5000 [05:19<1:53:47,  1.52s/it]"
     ]
    },
    {
     "name": "stdout",
     "output_type": "stream",
     "text": [
      "Batch 500 Test Loss 64.2979 | Reconstruction Error 30.6190 | L0 Loss 16.1684 | Dead Neurons: 97.22%\n"
     ]
    },
    {
     "name": "stderr",
     "output_type": "stream",
     "text": [
      "Training Batches:  10%|█         | 525/5000 [05:35<2:01:39,  1.63s/it]"
     ]
    },
    {
     "name": "stdout",
     "output_type": "stream",
     "text": [
      "Batch 525 Test Loss 61.7281 | Reconstruction Error 29.3536 | L0 Loss 17.0371 | Dead Neurons: 96.47%\n"
     ]
    },
    {
     "name": "stderr",
     "output_type": "stream",
     "text": [
      "Training Batches:  11%|█         | 550/5000 [05:52<1:52:23,  1.52s/it]"
     ]
    },
    {
     "name": "stdout",
     "output_type": "stream",
     "text": [
      "Batch 550 Test Loss 61.4731 | Reconstruction Error 29.1415 | L0 Loss 17.8225 | Dead Neurons: 94.85%\n"
     ]
    },
    {
     "name": "stderr",
     "output_type": "stream",
     "text": [
      "Training Batches:  12%|█▏        | 575/5000 [06:09<2:01:22,  1.65s/it]"
     ]
    },
    {
     "name": "stdout",
     "output_type": "stream",
     "text": [
      "Batch 575 Test Loss 62.3435 | Reconstruction Error 29.6004 | L0 Loss 17.8002 | Dead Neurons: 95.40%\n"
     ]
    },
    {
     "name": "stderr",
     "output_type": "stream",
     "text": [
      "Training Batches:  12%|█▏        | 600/5000 [06:26<1:57:03,  1.60s/it]"
     ]
    },
    {
     "name": "stdout",
     "output_type": "stream",
     "text": [
      "Batch 600 Test Loss 63.9058 | Reconstruction Error 30.2960 | L0 Loss 20.0666 | Dead Neurons: 71.33%\n"
     ]
    },
    {
     "name": "stderr",
     "output_type": "stream",
     "text": [
      "Training Batches:  12%|█▎        | 625/5000 [06:42<1:49:15,  1.50s/it]"
     ]
    },
    {
     "name": "stdout",
     "output_type": "stream",
     "text": [
      "Batch 625 Test Loss 57.4763 | Reconstruction Error 27.0269 | L0 Loss 19.1094 | Dead Neurons: 99.04%\n"
     ]
    },
    {
     "name": "stderr",
     "output_type": "stream",
     "text": [
      "Training Batches:  13%|█▎        | 650/5000 [06:58<1:45:55,  1.46s/it]"
     ]
    },
    {
     "name": "stdout",
     "output_type": "stream",
     "text": [
      "Batch 650 Test Loss 62.3539 | Reconstruction Error 29.4623 | L0 Loss 20.8652 | Dead Neurons: 98.49%\n"
     ]
    },
    {
     "name": "stderr",
     "output_type": "stream",
     "text": [
      "Training Batches:  14%|█▎        | 675/5000 [07:14<1:52:13,  1.56s/it]"
     ]
    },
    {
     "name": "stdout",
     "output_type": "stream",
     "text": [
      "Batch 675 Test Loss 63.1249 | Reconstruction Error 29.6465 | L0 Loss 21.5711 | Dead Neurons: 97.72%\n"
     ]
    },
    {
     "name": "stderr",
     "output_type": "stream",
     "text": [
      "Training Batches:  14%|█▍        | 700/5000 [07:30<1:49:17,  1.53s/it]"
     ]
    },
    {
     "name": "stdout",
     "output_type": "stream",
     "text": [
      "Batch 700 Test Loss 60.4843 | Reconstruction Error 28.3991 | L0 Loss 21.1918 | Dead Neurons: 98.02%\n"
     ]
    },
    {
     "name": "stderr",
     "output_type": "stream",
     "text": [
      "Training Batches:  14%|█▍        | 725/5000 [07:46<1:50:42,  1.55s/it]"
     ]
    },
    {
     "name": "stdout",
     "output_type": "stream",
     "text": [
      "Batch 725 Test Loss 62.4896 | Reconstruction Error 29.3068 | L0 Loss 22.9619 | Dead Neurons: 96.02%\n"
     ]
    },
    {
     "name": "stderr",
     "output_type": "stream",
     "text": [
      "Training Batches:  15%|█▌        | 750/5000 [08:03<1:50:42,  1.56s/it]"
     ]
    },
    {
     "name": "stdout",
     "output_type": "stream",
     "text": [
      "Batch 750 Test Loss 55.6382 | Reconstruction Error 25.9100 | L0 Loss 22.7041 | Dead Neurons: 98.75%\n"
     ]
    },
    {
     "name": "stderr",
     "output_type": "stream",
     "text": [
      "Training Batches:  16%|█▌        | 775/5000 [08:19<1:48:07,  1.54s/it]"
     ]
    },
    {
     "name": "stdout",
     "output_type": "stream",
     "text": [
      "Batch 775 Test Loss 57.0266 | Reconstruction Error 26.5633 | L0 Loss 23.5650 | Dead Neurons: 93.88%\n"
     ]
    },
    {
     "name": "stderr",
     "output_type": "stream",
     "text": [
      "Training Batches:  16%|█▌        | 800/5000 [08:35<1:45:20,  1.50s/it]"
     ]
    },
    {
     "name": "stdout",
     "output_type": "stream",
     "text": [
      "Batch 800 Test Loss 59.4447 | Reconstruction Error 27.7166 | L0 Loss 24.9721 | Dead Neurons: 93.29%\n"
     ]
    },
    {
     "name": "stderr",
     "output_type": "stream",
     "text": [
      "Training Batches:  16%|█▋        | 825/5000 [08:51<1:43:12,  1.48s/it]"
     ]
    },
    {
     "name": "stdout",
     "output_type": "stream",
     "text": [
      "Batch 825 Test Loss 60.9872 | Reconstruction Error 28.2657 | L0 Loss 25.1646 | Dead Neurons: 95.27%\n"
     ]
    },
    {
     "name": "stderr",
     "output_type": "stream",
     "text": [
      "Training Batches:  17%|█▋        | 850/5000 [09:08<1:48:33,  1.57s/it]"
     ]
    },
    {
     "name": "stdout",
     "output_type": "stream",
     "text": [
      "Batch 850 Test Loss 57.6909 | Reconstruction Error 26.7228 | L0 Loss 25.3273 | Dead Neurons: 92.96%\n"
     ]
    },
    {
     "name": "stderr",
     "output_type": "stream",
     "text": [
      "Training Batches:  18%|█▊        | 875/5000 [09:25<1:45:35,  1.54s/it]"
     ]
    },
    {
     "name": "stdout",
     "output_type": "stream",
     "text": [
      "Batch 875 Test Loss 56.0133 | Reconstruction Error 25.9123 | L0 Loss 25.7900 | Dead Neurons: 98.40%\n"
     ]
    },
    {
     "name": "stderr",
     "output_type": "stream",
     "text": [
      "Training Batches:  18%|█▊        | 900/5000 [09:41<1:46:16,  1.56s/it]"
     ]
    },
    {
     "name": "stdout",
     "output_type": "stream",
     "text": [
      "Batch 900 Test Loss 58.5103 | Reconstruction Error 27.0073 | L0 Loss 26.7141 | Dead Neurons: 97.10%\n"
     ]
    },
    {
     "name": "stderr",
     "output_type": "stream",
     "text": [
      "Training Batches:  18%|█▊        | 925/5000 [09:58<1:46:08,  1.56s/it]"
     ]
    },
    {
     "name": "stdout",
     "output_type": "stream",
     "text": [
      "Batch 925 Test Loss 57.6663 | Reconstruction Error 26.5671 | L0 Loss 27.1676 | Dead Neurons: 97.42%\n"
     ]
    },
    {
     "name": "stderr",
     "output_type": "stream",
     "text": [
      "Training Batches:  19%|█▉        | 950/5000 [10:14<1:44:17,  1.54s/it]"
     ]
    },
    {
     "name": "stdout",
     "output_type": "stream",
     "text": [
      "Batch 950 Test Loss 55.0231 | Reconstruction Error 25.2687 | L0 Loss 27.4293 | Dead Neurons: 98.43%\n"
     ]
    },
    {
     "name": "stderr",
     "output_type": "stream",
     "text": [
      "Training Batches:  20%|█▉        | 975/5000 [10:31<1:40:14,  1.49s/it]"
     ]
    },
    {
     "name": "stdout",
     "output_type": "stream",
     "text": [
      "Batch 975 Test Loss 59.4806 | Reconstruction Error 27.4024 | L0 Loss 27.7152 | Dead Neurons: 98.91%\n"
     ]
    },
    {
     "name": "stderr",
     "output_type": "stream",
     "text": [
      "Training Batches:  20%|██        | 1000/5000 [10:47<1:45:21,  1.58s/it]"
     ]
    },
    {
     "name": "stdout",
     "output_type": "stream",
     "text": [
      "Batch 1000 Test Loss 58.4833 | Reconstruction Error 26.9108 | L0 Loss 28.8236 | Dead Neurons: 94.38%\n",
      "Model saved locally for batch 1000\n"
     ]
    },
    {
     "name": "stderr",
     "output_type": "stream",
     "text": [
      "Training Batches:  20%|██        | 1025/5000 [11:03<1:43:59,  1.57s/it]"
     ]
    },
    {
     "name": "stdout",
     "output_type": "stream",
     "text": [
      "Batch 1025 Test Loss 53.9717 | Reconstruction Error 24.7188 | L0 Loss 28.3760 | Dead Neurons: 98.38%\n"
     ]
    },
    {
     "name": "stderr",
     "output_type": "stream",
     "text": [
      "Training Batches:  21%|██        | 1050/5000 [11:20<1:41:37,  1.54s/it]"
     ]
    },
    {
     "name": "stdout",
     "output_type": "stream",
     "text": [
      "Batch 1050 Test Loss 58.6527 | Reconstruction Error 26.9539 | L0 Loss 28.7102 | Dead Neurons: 95.52%\n"
     ]
    },
    {
     "name": "stderr",
     "output_type": "stream",
     "text": [
      "Training Batches:  22%|██▏       | 1075/5000 [11:36<1:38:25,  1.50s/it]"
     ]
    },
    {
     "name": "stdout",
     "output_type": "stream",
     "text": [
      "Batch 1075 Test Loss 54.5661 | Reconstruction Error 24.8478 | L0 Loss 30.3879 | Dead Neurons: 96.90%\n"
     ]
    },
    {
     "name": "stderr",
     "output_type": "stream",
     "text": [
      "Training Batches:  22%|██▏       | 1100/5000 [11:52<1:39:11,  1.53s/it]"
     ]
    },
    {
     "name": "stdout",
     "output_type": "stream",
     "text": [
      "Batch 1100 Test Loss 55.4631 | Reconstruction Error 25.2098 | L0 Loss 30.5295 | Dead Neurons: 97.39%\n"
     ]
    },
    {
     "name": "stderr",
     "output_type": "stream",
     "text": [
      "Training Batches:  22%|██▎       | 1125/5000 [12:09<1:39:50,  1.55s/it]"
     ]
    },
    {
     "name": "stdout",
     "output_type": "stream",
     "text": [
      "Batch 1125 Test Loss 55.9399 | Reconstruction Error 25.4487 | L0 Loss 31.4170 | Dead Neurons: 96.28%\n"
     ]
    },
    {
     "name": "stderr",
     "output_type": "stream",
     "text": [
      "Training Batches:  23%|██▎       | 1150/5000 [12:25<1:36:12,  1.50s/it]"
     ]
    },
    {
     "name": "stdout",
     "output_type": "stream",
     "text": [
      "Batch 1150 Test Loss 54.5737 | Reconstruction Error 24.7561 | L0 Loss 31.4650 | Dead Neurons: 98.05%\n"
     ]
    },
    {
     "name": "stderr",
     "output_type": "stream",
     "text": [
      "Training Batches:  24%|██▎       | 1175/5000 [12:41<1:40:47,  1.58s/it]"
     ]
    },
    {
     "name": "stdout",
     "output_type": "stream",
     "text": [
      "Batch 1175 Test Loss 53.1940 | Reconstruction Error 24.0070 | L0 Loss 31.9684 | Dead Neurons: 97.31%\n"
     ]
    },
    {
     "name": "stderr",
     "output_type": "stream",
     "text": [
      "Training Batches:  24%|██▍       | 1200/5000 [12:57<1:36:38,  1.53s/it]"
     ]
    },
    {
     "name": "stdout",
     "output_type": "stream",
     "text": [
      "Batch 1200 Test Loss 51.6553 | Reconstruction Error 23.2760 | L0 Loss 32.5445 | Dead Neurons: 98.16%\n"
     ]
    },
    {
     "name": "stderr",
     "output_type": "stream",
     "text": [
      "Training Batches:  24%|██▍       | 1225/5000 [13:14<1:43:33,  1.65s/it]"
     ]
    },
    {
     "name": "stdout",
     "output_type": "stream",
     "text": [
      "Batch 1225 Test Loss 51.3510 | Reconstruction Error 23.1079 | L0 Loss 31.7502 | Dead Neurons: 96.90%\n"
     ]
    },
    {
     "name": "stderr",
     "output_type": "stream",
     "text": [
      "Training Batches:  25%|██▌       | 1250/5000 [13:31<1:35:11,  1.52s/it]"
     ]
    },
    {
     "name": "stdout",
     "output_type": "stream",
     "text": [
      "Batch 1250 Test Loss 53.7795 | Reconstruction Error 24.1658 | L0 Loss 33.1689 | Dead Neurons: 98.07%\n"
     ]
    },
    {
     "name": "stderr",
     "output_type": "stream",
     "text": [
      "Training Batches:  26%|██▌       | 1275/5000 [13:47<1:34:41,  1.53s/it]"
     ]
    },
    {
     "name": "stdout",
     "output_type": "stream",
     "text": [
      "Batch 1275 Test Loss 54.2088 | Reconstruction Error 24.3038 | L0 Loss 34.3883 | Dead Neurons: 96.11%\n"
     ]
    },
    {
     "name": "stderr",
     "output_type": "stream",
     "text": [
      "Training Batches:  26%|██▌       | 1300/5000 [14:03<1:33:54,  1.52s/it]"
     ]
    },
    {
     "name": "stdout",
     "output_type": "stream",
     "text": [
      "Batch 1300 Test Loss 49.8762 | Reconstruction Error 22.3221 | L0 Loss 33.5627 | Dead Neurons: 96.59%\n"
     ]
    },
    {
     "name": "stderr",
     "output_type": "stream",
     "text": [
      "Training Batches:  26%|██▋       | 1325/5000 [14:20<1:33:32,  1.53s/it]"
     ]
    },
    {
     "name": "stdout",
     "output_type": "stream",
     "text": [
      "Batch 1325 Test Loss 52.6032 | Reconstruction Error 23.5498 | L0 Loss 34.2479 | Dead Neurons: 97.33%\n"
     ]
    },
    {
     "name": "stderr",
     "output_type": "stream",
     "text": [
      "Training Batches:  27%|██▋       | 1350/5000 [14:36<1:33:35,  1.54s/it]"
     ]
    },
    {
     "name": "stdout",
     "output_type": "stream",
     "text": [
      "Batch 1350 Test Loss 54.8738 | Reconstruction Error 24.5687 | L0 Loss 36.2299 | Dead Neurons: 92.64%\n"
     ]
    },
    {
     "name": "stderr",
     "output_type": "stream",
     "text": [
      "Training Batches:  28%|██▊       | 1375/5000 [14:53<1:35:06,  1.57s/it]"
     ]
    },
    {
     "name": "stdout",
     "output_type": "stream",
     "text": [
      "Batch 1375 Test Loss 52.8777 | Reconstruction Error 23.4784 | L0 Loss 36.3006 | Dead Neurons: 97.63%\n"
     ]
    },
    {
     "name": "stderr",
     "output_type": "stream",
     "text": [
      "Training Batches:  28%|██▊       | 1400/5000 [15:09<1:31:01,  1.52s/it]"
     ]
    },
    {
     "name": "stdout",
     "output_type": "stream",
     "text": [
      "Batch 1400 Test Loss 50.1475 | Reconstruction Error 22.2221 | L0 Loss 36.1564 | Dead Neurons: 95.84%\n"
     ]
    },
    {
     "name": "stderr",
     "output_type": "stream",
     "text": [
      "Training Batches:  28%|██▊       | 1425/5000 [15:25<1:29:22,  1.50s/it]"
     ]
    },
    {
     "name": "stdout",
     "output_type": "stream",
     "text": [
      "Batch 1425 Test Loss 53.1240 | Reconstruction Error 23.5703 | L0 Loss 36.6764 | Dead Neurons: 97.99%\n"
     ]
    },
    {
     "name": "stderr",
     "output_type": "stream",
     "text": [
      "Training Batches:  29%|██▉       | 1450/5000 [15:41<1:29:08,  1.51s/it]"
     ]
    },
    {
     "name": "stdout",
     "output_type": "stream",
     "text": [
      "Batch 1450 Test Loss 51.1788 | Reconstruction Error 22.6919 | L0 Loss 36.6434 | Dead Neurons: 98.64%\n"
     ]
    },
    {
     "name": "stderr",
     "output_type": "stream",
     "text": [
      "Training Batches:  30%|██▉       | 1475/5000 [15:57<1:26:09,  1.47s/it]"
     ]
    },
    {
     "name": "stdout",
     "output_type": "stream",
     "text": [
      "Batch 1475 Test Loss 49.8643 | Reconstruction Error 22.0473 | L0 Loss 36.4898 | Dead Neurons: 98.03%\n"
     ]
    },
    {
     "name": "stderr",
     "output_type": "stream",
     "text": [
      "Training Batches:  30%|███       | 1500/5000 [16:13<1:29:01,  1.53s/it]"
     ]
    },
    {
     "name": "stdout",
     "output_type": "stream",
     "text": [
      "Batch 1500 Test Loss 55.8664 | Reconstruction Error 24.9326 | L0 Loss 38.3143 | Dead Neurons: 94.98%\n"
     ]
    },
    {
     "name": "stderr",
     "output_type": "stream",
     "text": [
      "Training Batches:  30%|███       | 1525/5000 [16:30<1:33:18,  1.61s/it]"
     ]
    },
    {
     "name": "stdout",
     "output_type": "stream",
     "text": [
      "Batch 1525 Test Loss 50.3793 | Reconstruction Error 22.1324 | L0 Loss 39.0891 | Dead Neurons: 95.81%\n"
     ]
    },
    {
     "name": "stderr",
     "output_type": "stream",
     "text": [
      "Training Batches:  31%|███       | 1550/5000 [16:46<1:26:13,  1.50s/it]"
     ]
    },
    {
     "name": "stdout",
     "output_type": "stream",
     "text": [
      "Batch 1550 Test Loss 51.4977 | Reconstruction Error 22.6864 | L0 Loss 39.2363 | Dead Neurons: 97.57%\n"
     ]
    },
    {
     "name": "stderr",
     "output_type": "stream",
     "text": [
      "Training Batches:  32%|███▏      | 1575/5000 [17:02<1:24:51,  1.49s/it]"
     ]
    },
    {
     "name": "stdout",
     "output_type": "stream",
     "text": [
      "Batch 1575 Test Loss 51.7347 | Reconstruction Error 22.8031 | L0 Loss 39.3102 | Dead Neurons: 96.95%\n"
     ]
    },
    {
     "name": "stderr",
     "output_type": "stream",
     "text": [
      "Training Batches:  32%|███▏      | 1600/5000 [17:18<1:24:02,  1.48s/it]"
     ]
    },
    {
     "name": "stdout",
     "output_type": "stream",
     "text": [
      "Batch 1600 Test Loss 51.5377 | Reconstruction Error 22.7070 | L0 Loss 38.4529 | Dead Neurons: 98.19%\n"
     ]
    },
    {
     "name": "stderr",
     "output_type": "stream",
     "text": [
      "Training Batches:  32%|███▎      | 1625/5000 [17:34<1:24:16,  1.50s/it]"
     ]
    },
    {
     "name": "stdout",
     "output_type": "stream",
     "text": [
      "Batch 1625 Test Loss 49.4580 | Reconstruction Error 21.6784 | L0 Loss 38.1375 | Dead Neurons: 98.23%\n"
     ]
    },
    {
     "name": "stderr",
     "output_type": "stream",
     "text": [
      "Training Batches:  33%|███▎      | 1650/5000 [17:50<1:25:59,  1.54s/it]"
     ]
    },
    {
     "name": "stdout",
     "output_type": "stream",
     "text": [
      "Batch 1650 Test Loss 51.6725 | Reconstruction Error 22.7319 | L0 Loss 38.7021 | Dead Neurons: 95.91%\n"
     ]
    },
    {
     "name": "stderr",
     "output_type": "stream",
     "text": [
      "Training Batches:  34%|███▎      | 1675/5000 [18:07<1:28:17,  1.59s/it]"
     ]
    },
    {
     "name": "stdout",
     "output_type": "stream",
     "text": [
      "Batch 1675 Test Loss 49.4245 | Reconstruction Error 21.7197 | L0 Loss 37.9656 | Dead Neurons: 98.74%\n"
     ]
    },
    {
     "name": "stderr",
     "output_type": "stream",
     "text": [
      "Training Batches:  34%|███▍      | 1700/5000 [18:31<1:54:34,  2.08s/it]"
     ]
    },
    {
     "name": "stdout",
     "output_type": "stream",
     "text": [
      "Batch 1700 Test Loss 50.4931 | Reconstruction Error 22.0039 | L0 Loss 40.1121 | Dead Neurons: 98.73%\n"
     ]
    },
    {
     "name": "stderr",
     "output_type": "stream",
     "text": [
      "Training Batches:  34%|███▍      | 1725/5000 [18:47<1:23:52,  1.54s/it]"
     ]
    },
    {
     "name": "stdout",
     "output_type": "stream",
     "text": [
      "Batch 1725 Test Loss 49.8870 | Reconstruction Error 21.7428 | L0 Loss 40.0627 | Dead Neurons: 98.49%\n"
     ]
    },
    {
     "name": "stderr",
     "output_type": "stream",
     "text": [
      "Training Batches:  35%|███▌      | 1750/5000 [19:03<1:21:37,  1.51s/it]"
     ]
    },
    {
     "name": "stdout",
     "output_type": "stream",
     "text": [
      "Batch 1750 Test Loss 52.2809 | Reconstruction Error 22.9518 | L0 Loss 41.3545 | Dead Neurons: 96.25%\n"
     ]
    },
    {
     "name": "stderr",
     "output_type": "stream",
     "text": [
      "Training Batches:  36%|███▌      | 1775/5000 [19:20<1:21:17,  1.51s/it]"
     ]
    },
    {
     "name": "stdout",
     "output_type": "stream",
     "text": [
      "Batch 1775 Test Loss 46.6859 | Reconstruction Error 20.2736 | L0 Loss 39.7922 | Dead Neurons: 98.55%\n"
     ]
    },
    {
     "name": "stderr",
     "output_type": "stream",
     "text": [
      "Training Batches:  36%|███▌      | 1800/5000 [19:36<1:19:52,  1.50s/it]"
     ]
    },
    {
     "name": "stdout",
     "output_type": "stream",
     "text": [
      "Batch 1800 Test Loss 50.4498 | Reconstruction Error 21.9574 | L0 Loss 40.3049 | Dead Neurons: 97.65%\n"
     ]
    },
    {
     "name": "stderr",
     "output_type": "stream",
     "text": [
      "Training Batches:  36%|███▋      | 1825/5000 [19:52<1:19:33,  1.50s/it]"
     ]
    },
    {
     "name": "stdout",
     "output_type": "stream",
     "text": [
      "Batch 1825 Test Loss 49.6163 | Reconstruction Error 21.5920 | L0 Loss 40.7959 | Dead Neurons: 96.55%\n"
     ]
    },
    {
     "name": "stderr",
     "output_type": "stream",
     "text": [
      "Training Batches:  37%|███▋      | 1850/5000 [20:08<1:20:33,  1.53s/it]"
     ]
    },
    {
     "name": "stdout",
     "output_type": "stream",
     "text": [
      "Batch 1850 Test Loss 50.1739 | Reconstruction Error 21.7994 | L0 Loss 41.8908 | Dead Neurons: 98.11%\n"
     ]
    },
    {
     "name": "stderr",
     "output_type": "stream",
     "text": [
      "Training Batches:  38%|███▊      | 1875/5000 [20:24<1:17:44,  1.49s/it]"
     ]
    },
    {
     "name": "stdout",
     "output_type": "stream",
     "text": [
      "Batch 1875 Test Loss 47.7221 | Reconstruction Error 20.7431 | L0 Loss 42.2027 | Dead Neurons: 99.02%\n"
     ]
    },
    {
     "name": "stderr",
     "output_type": "stream",
     "text": [
      "Training Batches:  38%|███▊      | 1900/5000 [20:40<1:20:26,  1.56s/it]"
     ]
    },
    {
     "name": "stdout",
     "output_type": "stream",
     "text": [
      "Batch 1900 Test Loss 48.2123 | Reconstruction Error 20.7287 | L0 Loss 43.2281 | Dead Neurons: 72.50%\n"
     ]
    },
    {
     "name": "stderr",
     "output_type": "stream",
     "text": [
      "Training Batches:  38%|███▊      | 1925/5000 [20:56<1:15:30,  1.47s/it]"
     ]
    },
    {
     "name": "stdout",
     "output_type": "stream",
     "text": [
      "Batch 1925 Test Loss 50.1263 | Reconstruction Error 21.7521 | L0 Loss 41.3422 | Dead Neurons: 97.48%\n"
     ]
    },
    {
     "name": "stderr",
     "output_type": "stream",
     "text": [
      "Training Batches:  39%|███▉      | 1950/5000 [21:12<1:15:52,  1.49s/it]"
     ]
    },
    {
     "name": "stdout",
     "output_type": "stream",
     "text": [
      "Batch 1950 Test Loss 49.3463 | Reconstruction Error 21.2876 | L0 Loss 42.3840 | Dead Neurons: 96.12%\n"
     ]
    },
    {
     "name": "stderr",
     "output_type": "stream",
     "text": [
      "Training Batches:  40%|███▉      | 1975/5000 [21:28<1:14:15,  1.47s/it]"
     ]
    },
    {
     "name": "stdout",
     "output_type": "stream",
     "text": [
      "Batch 1975 Test Loss 50.1790 | Reconstruction Error 21.5734 | L0 Loss 42.9066 | Dead Neurons: 96.87%\n"
     ]
    },
    {
     "name": "stderr",
     "output_type": "stream",
     "text": [
      "Training Batches:  40%|████      | 2000/5000 [21:44<1:15:19,  1.51s/it]"
     ]
    },
    {
     "name": "stdout",
     "output_type": "stream",
     "text": [
      "Batch 2000 Test Loss 48.6916 | Reconstruction Error 20.8183 | L0 Loss 44.1506 | Dead Neurons: 98.90%\n",
      "Model saved locally for batch 2000\n"
     ]
    },
    {
     "name": "stderr",
     "output_type": "stream",
     "text": [
      "Training Batches:  40%|████      | 2025/5000 [22:00<1:13:27,  1.48s/it]"
     ]
    },
    {
     "name": "stdout",
     "output_type": "stream",
     "text": [
      "Batch 2025 Test Loss 48.0058 | Reconstruction Error 20.5574 | L0 Loss 43.5311 | Dead Neurons: 97.89%\n"
     ]
    },
    {
     "name": "stderr",
     "output_type": "stream",
     "text": [
      "Training Batches:  41%|████      | 2050/5000 [22:16<1:13:22,  1.49s/it]"
     ]
    },
    {
     "name": "stdout",
     "output_type": "stream",
     "text": [
      "Batch 2050 Test Loss 47.3604 | Reconstruction Error 20.3320 | L0 Loss 43.1340 | Dead Neurons: 97.72%\n"
     ]
    },
    {
     "name": "stderr",
     "output_type": "stream",
     "text": [
      "Training Batches:  42%|████▏     | 2075/5000 [22:32<1:12:55,  1.50s/it]"
     ]
    },
    {
     "name": "stdout",
     "output_type": "stream",
     "text": [
      "Batch 2075 Test Loss 45.8767 | Reconstruction Error 19.6343 | L0 Loss 42.3980 | Dead Neurons: 98.60%\n"
     ]
    },
    {
     "name": "stderr",
     "output_type": "stream",
     "text": [
      "Training Batches:  42%|████▏     | 2100/5000 [22:49<1:17:47,  1.61s/it]"
     ]
    },
    {
     "name": "stdout",
     "output_type": "stream",
     "text": [
      "Batch 2100 Test Loss 46.4112 | Reconstruction Error 19.7068 | L0 Loss 44.9756 | Dead Neurons: 98.82%\n"
     ]
    },
    {
     "name": "stderr",
     "output_type": "stream",
     "text": [
      "Training Batches:  42%|████▎     | 2125/5000 [23:04<1:10:48,  1.48s/it]"
     ]
    },
    {
     "name": "stdout",
     "output_type": "stream",
     "text": [
      "Batch 2125 Test Loss 47.3536 | Reconstruction Error 20.1934 | L0 Loss 43.7275 | Dead Neurons: 98.33%\n"
     ]
    },
    {
     "name": "stderr",
     "output_type": "stream",
     "text": [
      "Training Batches:  43%|████▎     | 2150/5000 [23:20<1:09:49,  1.47s/it]"
     ]
    },
    {
     "name": "stdout",
     "output_type": "stream",
     "text": [
      "Batch 2150 Test Loss 47.3929 | Reconstruction Error 20.1112 | L0 Loss 45.2564 | Dead Neurons: 98.82%\n"
     ]
    },
    {
     "name": "stderr",
     "output_type": "stream",
     "text": [
      "Training Batches:  44%|████▎     | 2175/5000 [23:37<1:14:23,  1.58s/it]"
     ]
    },
    {
     "name": "stdout",
     "output_type": "stream",
     "text": [
      "Batch 2175 Test Loss 45.3227 | Reconstruction Error 19.1701 | L0 Loss 45.1078 | Dead Neurons: 98.05%\n"
     ]
    },
    {
     "name": "stderr",
     "output_type": "stream",
     "text": [
      "Training Batches:  44%|████▍     | 2200/5000 [23:53<1:08:39,  1.47s/it]"
     ]
    },
    {
     "name": "stdout",
     "output_type": "stream",
     "text": [
      "Batch 2200 Test Loss 47.4051 | Reconstruction Error 20.1511 | L0 Loss 44.1543 | Dead Neurons: 98.64%\n"
     ]
    },
    {
     "name": "stderr",
     "output_type": "stream",
     "text": [
      "Training Batches:  44%|████▍     | 2225/5000 [24:08<1:10:58,  1.53s/it]"
     ]
    },
    {
     "name": "stdout",
     "output_type": "stream",
     "text": [
      "Batch 2225 Test Loss 49.3544 | Reconstruction Error 21.1720 | L0 Loss 43.5242 | Dead Neurons: 98.51%\n"
     ]
    },
    {
     "name": "stderr",
     "output_type": "stream",
     "text": [
      "Training Batches:  45%|████▌     | 2250/5000 [24:25<1:12:10,  1.57s/it]"
     ]
    },
    {
     "name": "stdout",
     "output_type": "stream",
     "text": [
      "Batch 2250 Test Loss 45.5385 | Reconstruction Error 19.3630 | L0 Loss 44.6951 | Dead Neurons: 98.48%\n"
     ]
    },
    {
     "name": "stderr",
     "output_type": "stream",
     "text": [
      "Training Batches:  46%|████▌     | 2275/5000 [24:42<1:12:53,  1.61s/it]"
     ]
    },
    {
     "name": "stdout",
     "output_type": "stream",
     "text": [
      "Batch 2275 Test Loss 46.8862 | Reconstruction Error 19.9057 | L0 Loss 44.6582 | Dead Neurons: 97.78%\n"
     ]
    },
    {
     "name": "stderr",
     "output_type": "stream",
     "text": [
      "Training Batches:  46%|████▌     | 2300/5000 [24:58<1:10:03,  1.56s/it]"
     ]
    },
    {
     "name": "stdout",
     "output_type": "stream",
     "text": [
      "Batch 2300 Test Loss 47.2147 | Reconstruction Error 19.9784 | L0 Loss 45.8326 | Dead Neurons: 98.34%\n"
     ]
    },
    {
     "name": "stderr",
     "output_type": "stream",
     "text": [
      "Training Batches:  46%|████▋     | 2325/5000 [25:15<1:08:07,  1.53s/it]"
     ]
    },
    {
     "name": "stdout",
     "output_type": "stream",
     "text": [
      "Batch 2325 Test Loss 47.5068 | Reconstruction Error 20.0955 | L0 Loss 46.0775 | Dead Neurons: 98.79%\n"
     ]
    },
    {
     "name": "stderr",
     "output_type": "stream",
     "text": [
      "Training Batches:  47%|████▋     | 2350/5000 [25:31<1:07:20,  1.52s/it]"
     ]
    },
    {
     "name": "stdout",
     "output_type": "stream",
     "text": [
      "Batch 2350 Test Loss 47.0882 | Reconstruction Error 19.9891 | L0 Loss 44.4482 | Dead Neurons: 96.43%\n"
     ]
    },
    {
     "name": "stderr",
     "output_type": "stream",
     "text": [
      "Training Batches:  48%|████▊     | 2375/5000 [25:47<1:05:47,  1.50s/it]"
     ]
    },
    {
     "name": "stdout",
     "output_type": "stream",
     "text": [
      "Batch 2375 Test Loss 46.1468 | Reconstruction Error 19.4425 | L0 Loss 44.7896 | Dead Neurons: 98.86%\n"
     ]
    },
    {
     "name": "stderr",
     "output_type": "stream",
     "text": [
      "Training Batches:  48%|████▊     | 2400/5000 [26:03<1:08:34,  1.58s/it]"
     ]
    },
    {
     "name": "stdout",
     "output_type": "stream",
     "text": [
      "Batch 2400 Test Loss 43.9954 | Reconstruction Error 18.6521 | L0 Loss 42.5916 | Dead Neurons: 98.48%\n"
     ]
    },
    {
     "name": "stderr",
     "output_type": "stream",
     "text": [
      "Training Batches:  48%|████▊     | 2412/5000 [26:10<22:52,  1.89it/s]  "
     ]
    }
   ],
   "source": [
    "# Train a larger regular SAE, hidden size 32 * 768 = 24576\n",
    "import torch\n",
    "from main_regular import main_regular_sae  # Adjust the import based on the file location\n",
    "\n",
    "# Manually specify the arguments\n",
    "layer = 9\n",
    "model_type = 'gated'\n",
    "n_batches = 5000\n",
    "l1_coefficient = 0.5\n",
    "batch_size = 4\n",
    "lr = 0.001\n",
    "projection_up = 32\n",
    "repo_name = \"regular-sae\"\n",
    "\n",
    "# Call the function with specified arguments\n",
    "main_regular_sae(layer, model_type, n_batches, l1_coefficient, batch_size, lr, projection_up, repo_name)"
   ]
  },
  {
   "cell_type": "code",
   "execution_count": null,
   "metadata": {},
   "outputs": [],
   "source": [
    "# Train a smaller regular SAE, hidden size 16_000"
   ]
  },
  {
   "cell_type": "code",
   "execution_count": null,
   "metadata": {},
   "outputs": [],
   "source": [
    "# Train a smaller error SAE, hidden size 16_000\n",
    "layer = 9\n",
    "model_type = 'gated'\n",
    "n_epochs = 100\n",
    "l1_coefficient = 3e-4\n",
    "batch_size = 2048\n",
    "lr = 0.001\n",
    "projection_up = 16\n",
    "repo_name = \"error-saes\"\n",
    "\n",
    "error_sae = main(layer, model_type, n_epochs, l1_coefficient, projection_up, batch_size, lr, repo_name, return_model=True, save_model=False)"
   ]
  },
  {
   "cell_type": "code",
   "execution_count": null,
   "metadata": {},
   "outputs": [],
   "source": []
  }
 ],
 "metadata": {
  "kernelspec": {
   "display_name": "anu",
   "language": "python",
   "name": "python3"
  },
  "language_info": {
   "codemirror_mode": {
    "name": "ipython",
    "version": 3
   },
   "file_extension": ".py",
   "mimetype": "text/x-python",
   "name": "python",
   "nbconvert_exporter": "python",
   "pygments_lexer": "ipython3",
   "version": "3.12.1"
  }
 },
 "nbformat": 4,
 "nbformat_minor": 2
}
