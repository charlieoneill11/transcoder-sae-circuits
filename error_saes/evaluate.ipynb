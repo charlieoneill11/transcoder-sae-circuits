{
 "cells": [
  {
   "cell_type": "markdown",
   "metadata": {},
   "source": [
    "# Evaluating combo SAEs"
   ]
  },
  {
   "cell_type": "code",
   "execution_count": 1,
   "metadata": {},
   "outputs": [
    {
     "name": "stderr",
     "output_type": "stream",
     "text": [
      "/Users/charlesoneill/miniconda3/envs/anu/lib/python3.12/site-packages/transformers/utils/generic.py:441: UserWarning: torch.utils._pytree._register_pytree_node is deprecated. Please use torch.utils._pytree.register_pytree_node instead.\n",
      "  _torch_pytree._register_pytree_node(\n",
      "/Users/charlesoneill/miniconda3/envs/anu/lib/python3.12/site-packages/transformers/utils/generic.py:309: UserWarning: torch.utils._pytree._register_pytree_node is deprecated. Please use torch.utils._pytree.register_pytree_node instead.\n",
      "  _torch_pytree._register_pytree_node(\n",
      "/Users/charlesoneill/miniconda3/envs/anu/lib/python3.12/site-packages/transformers/utils/generic.py:309: UserWarning: torch.utils._pytree._register_pytree_node is deprecated. Please use torch.utils._pytree.register_pytree_node instead.\n",
      "  _torch_pytree._register_pytree_node(\n"
     ]
    }
   ],
   "source": [
    "from main import *"
   ]
  },
  {
   "cell_type": "markdown",
   "metadata": {},
   "source": [
    "## Max activating features"
   ]
  },
  {
   "cell_type": "code",
   "execution_count": null,
   "metadata": {},
   "outputs": [],
   "source": []
  },
  {
   "cell_type": "markdown",
   "metadata": {},
   "source": [
    "## Linearity of SAE sizes"
   ]
  },
  {
   "cell_type": "code",
   "execution_count": 1,
   "metadata": {},
   "outputs": [
    {
     "name": "stderr",
     "output_type": "stream",
     "text": [
      "Failed to detect the name of this notebook, you can set it manually with the WANDB_NOTEBOOK_NAME environment variable to enable code saving.\n"
     ]
    },
    {
     "name": "stdout",
     "output_type": "stream",
     "text": [
      "Running on cpu...\n"
     ]
    },
    {
     "name": "stderr",
     "output_type": "stream",
     "text": [
      "\u001b[34m\u001b[1mwandb\u001b[0m: Currently logged in as: \u001b[33mcharlieoneill\u001b[0m. Use \u001b[1m`wandb login --relogin`\u001b[0m to force relogin\n"
     ]
    },
    {
     "data": {
      "text/html": [
       "wandb version 0.17.0 is available!  To upgrade, please run:\n",
       " $ pip install wandb --upgrade"
      ],
      "text/plain": [
       "<IPython.core.display.HTML object>"
      ]
     },
     "metadata": {},
     "output_type": "display_data"
    },
    {
     "data": {
      "text/html": [
       "Tracking run with wandb version 0.16.0"
      ],
      "text/plain": [
       "<IPython.core.display.HTML object>"
      ]
     },
     "metadata": {},
     "output_type": "display_data"
    },
    {
     "data": {
      "text/html": [
       "Run data is saved locally in <code>/Users/charlesoneill/transcoder-sae-circuits/error_saes/wandb/run-20240522_082654-bso9ybiv</code>"
      ],
      "text/plain": [
       "<IPython.core.display.HTML object>"
      ]
     },
     "metadata": {},
     "output_type": "display_data"
    },
    {
     "data": {
      "text/html": [
       "Syncing run <strong><a href='https://wandb.ai/charlieoneill/regular-sae/runs/bso9ybiv' target=\"_blank\">9_0.0003_32_regular</a></strong> to <a href='https://wandb.ai/charlieoneill/regular-sae' target=\"_blank\">Weights & Biases</a> (<a href='https://wandb.me/run' target=\"_blank\">docs</a>)<br/>"
      ],
      "text/plain": [
       "<IPython.core.display.HTML object>"
      ]
     },
     "metadata": {},
     "output_type": "display_data"
    },
    {
     "data": {
      "text/html": [
       " View project at <a href='https://wandb.ai/charlieoneill/regular-sae' target=\"_blank\">https://wandb.ai/charlieoneill/regular-sae</a>"
      ],
      "text/plain": [
       "<IPython.core.display.HTML object>"
      ]
     },
     "metadata": {},
     "output_type": "display_data"
    },
    {
     "data": {
      "text/html": [
       " View run at <a href='https://wandb.ai/charlieoneill/regular-sae/runs/bso9ybiv' target=\"_blank\">https://wandb.ai/charlieoneill/regular-sae/runs/bso9ybiv</a>"
      ],
      "text/plain": [
       "<IPython.core.display.HTML object>"
      ]
     },
     "metadata": {},
     "output_type": "display_data"
    },
    {
     "name": "stderr",
     "output_type": "stream",
     "text": [
      "/Users/charlesoneill/miniconda3/envs/anu/lib/python3.12/site-packages/huggingface_hub/file_download.py:1132: FutureWarning: `resume_download` is deprecated and will be removed in version 1.0.0. Downloads always resume when possible. If you want to force a new download, use `force_download=True`.\n",
      "  warnings.warn(\n"
     ]
    },
    {
     "name": "stdout",
     "output_type": "stream",
     "text": [
      "Loaded pretrained model gpt2-small into HookedTransformer\n"
     ]
    },
    {
     "name": "stderr",
     "output_type": "stream",
     "text": [
      "huggingface/tokenizers: The current process just got forked, after parallelism has already been used. Disabling parallelism to avoid deadlocks...\n",
      "To disable this warning, you can either:\n",
      "\t- Avoid using `tokenizers` before the fork if possible\n",
      "\t- Explicitly set the environment variable TOKENIZERS_PARALLELISM=(true | false)\n",
      "100%|██████████| 12/12 [00:11<00:00,  1.00it/s]\n",
      "100%|██████████| 12/12 [00:06<00:00,  1.95it/s]\n",
      "100%|██████████| 1/1 [00:01<00:00,  1.45s/it]\n"
     ]
    },
    {
     "name": "stdout",
     "output_type": "stream",
     "text": [
      "Loader cfg batch size = 4 (batch size = 4)\n",
      "Loaded pretrained model gpt2-small into HookedTransformer\n",
      "Moving model to device:  cpu\n"
     ]
    },
    {
     "name": "stderr",
     "output_type": "stream",
     "text": [
      "/Users/charlesoneill/miniconda3/envs/anu/lib/python3.12/site-packages/datasets/load.py:1486: FutureWarning: The repository for Skylion007/openwebtext contains custom code which must be executed to correctly load the dataset. You can inspect the repository content at https://hf.co/datasets/Skylion007/openwebtext\n",
      "You can avoid this message in future by passing the argument `trust_remote_code=True`.\n",
      "Passing `trust_remote_code=True` will be mandatory to load this dataset from the next major release of `datasets`.\n",
      "  warnings.warn(\n",
      "huggingface/tokenizers: The current process just got forked, after parallelism has already been used. Disabling parallelism to avoid deadlocks...\n",
      "To disable this warning, you can either:\n",
      "\t- Avoid using `tokenizers` before the fork if possible\n",
      "\t- Explicitly set the environment variable TOKENIZERS_PARALLELISM=(true | false)\n"
     ]
    },
    {
     "name": "stdout",
     "output_type": "stream",
     "text": [
      "Initial Test Loss 0.2300 | Initial Reconstruction Error 0.0239 | Initial L0 Loss 12273.8451 | Initial Dead Neurons: 0.00%\n"
     ]
    },
    {
     "name": "stderr",
     "output_type": "stream",
     "text": [
      "Training Batches:   0%|          | 25/5000 [00:17<2:22:10,  1.71s/it]"
     ]
    },
    {
     "name": "stdout",
     "output_type": "stream",
     "text": [
      "Batch 25 Test Loss 0.0718 | Reconstruction Error 0.0350 | L0 Loss 80.0811 | Dead Neurons: 87.05%\n"
     ]
    },
    {
     "name": "stderr",
     "output_type": "stream",
     "text": [
      "Training Batches:   1%|          | 50/5000 [00:34<2:19:23,  1.69s/it]"
     ]
    },
    {
     "name": "stdout",
     "output_type": "stream",
     "text": [
      "Batch 50 Test Loss 0.0740 | Reconstruction Error 0.0376 | L0 Loss 68.5711 | Dead Neurons: 93.32%\n"
     ]
    },
    {
     "name": "stderr",
     "output_type": "stream",
     "text": [
      "Training Batches:   2%|▏         | 75/5000 [00:51<2:20:47,  1.72s/it]"
     ]
    },
    {
     "name": "stdout",
     "output_type": "stream",
     "text": [
      "Batch 75 Test Loss 0.0719 | Reconstruction Error 0.0368 | L0 Loss 70.5000 | Dead Neurons: 89.80%\n"
     ]
    },
    {
     "name": "stderr",
     "output_type": "stream",
     "text": [
      "Training Batches:   2%|▏         | 100/5000 [01:08<2:19:00,  1.70s/it]"
     ]
    },
    {
     "name": "stdout",
     "output_type": "stream",
     "text": [
      "Batch 100 Test Loss 0.0882 | Reconstruction Error 0.0451 | L0 Loss 77.2496 | Dead Neurons: 93.99%\n"
     ]
    },
    {
     "name": "stderr",
     "output_type": "stream",
     "text": [
      "Training Batches:   2%|▏         | 115/5000 [01:17<54:36,  1.49it/s]  \n"
     ]
    },
    {
     "ename": "KeyboardInterrupt",
     "evalue": "",
     "output_type": "error",
     "traceback": [
      "\u001b[0;31m---------------------------------------------------------------------------\u001b[0m",
      "\u001b[0;31mKeyboardInterrupt\u001b[0m                         Traceback (most recent call last)",
      "Cell \u001b[0;32mIn[1], line 16\u001b[0m\n\u001b[1;32m     13\u001b[0m repo_name \u001b[38;5;241m=\u001b[39m \u001b[38;5;124m\"\u001b[39m\u001b[38;5;124mregular-sae\u001b[39m\u001b[38;5;124m\"\u001b[39m\n\u001b[1;32m     15\u001b[0m \u001b[38;5;66;03m# Call the function with specified arguments\u001b[39;00m\n\u001b[0;32m---> 16\u001b[0m \u001b[43mmain_regular_sae\u001b[49m\u001b[43m(\u001b[49m\u001b[43mlayer\u001b[49m\u001b[43m,\u001b[49m\u001b[43m \u001b[49m\u001b[43mmodel_type\u001b[49m\u001b[43m,\u001b[49m\u001b[43m \u001b[49m\u001b[43mn_batches\u001b[49m\u001b[43m,\u001b[49m\u001b[43m \u001b[49m\u001b[43ml1_coefficient\u001b[49m\u001b[43m,\u001b[49m\u001b[43m \u001b[49m\u001b[43mbatch_size\u001b[49m\u001b[43m,\u001b[49m\u001b[43m \u001b[49m\u001b[43mlr\u001b[49m\u001b[43m,\u001b[49m\u001b[43m \u001b[49m\u001b[43mprojection_up\u001b[49m\u001b[43m,\u001b[49m\u001b[43m \u001b[49m\u001b[43mrepo_name\u001b[49m\u001b[43m)\u001b[49m\n",
      "File \u001b[0;32m~/transcoder-sae-circuits/error_saes/main_regular.py:232\u001b[0m, in \u001b[0;36mmain_regular_sae\u001b[0;34m(layer, model_type, n_batches, l1_coefficient, batch_size, lr, projection_up, repo_name)\u001b[0m\n\u001b[1;32m    228\u001b[0m     model \u001b[38;5;241m=\u001b[39m SparseAutoencoder(n_input_features\u001b[38;5;241m=\u001b[39mn_input_features, n_learned_features\u001b[38;5;241m=\u001b[39mn_input_features \u001b[38;5;241m*\u001b[39m projection_up, l1_coefficient\u001b[38;5;241m=\u001b[39ml1_coefficient)\n\u001b[1;32m    230\u001b[0m model \u001b[38;5;241m=\u001b[39m model\u001b[38;5;241m.\u001b[39mto(device)\n\u001b[0;32m--> 232\u001b[0m final_recon_loss, final_l0_loss \u001b[38;5;241m=\u001b[39m \u001b[43mtrain_regular_sae\u001b[49m\u001b[43m(\u001b[49m\u001b[43mmodel\u001b[49m\u001b[38;5;241;43m=\u001b[39;49m\u001b[43mmodel\u001b[49m\u001b[43m,\u001b[49m\u001b[43m \u001b[49m\u001b[43mtl_model\u001b[49m\u001b[38;5;241;43m=\u001b[39;49m\u001b[43mtl_model\u001b[49m\u001b[43m,\u001b[49m\u001b[43m \u001b[49m\u001b[43msae\u001b[49m\u001b[38;5;241;43m=\u001b[39;49m\u001b[43msae\u001b[49m\u001b[43m,\u001b[49m\u001b[43m \u001b[49m\n\u001b[1;32m    233\u001b[0m \u001b[43m                                                    \u001b[49m\u001b[43mn_batches\u001b[49m\u001b[38;5;241;43m=\u001b[39;49m\u001b[43mn_batches\u001b[49m\u001b[43m,\u001b[49m\u001b[43m \u001b[49m\u001b[43mlr\u001b[49m\u001b[38;5;241;43m=\u001b[39;49m\u001b[43mlr\u001b[49m\u001b[43m,\u001b[49m\u001b[43m \u001b[49m\u001b[43mrepo_name\u001b[49m\u001b[38;5;241;43m=\u001b[39;49m\u001b[43mrepo_name\u001b[49m\u001b[43m,\u001b[49m\u001b[43m \u001b[49m\n\u001b[1;32m    234\u001b[0m \u001b[43m                                                    \u001b[49m\u001b[43mlayer\u001b[49m\u001b[38;5;241;43m=\u001b[39;49m\u001b[43mlayer\u001b[49m\u001b[43m,\u001b[49m\u001b[43m \u001b[49m\u001b[43ml1_coefficient\u001b[49m\u001b[38;5;241;43m=\u001b[39;49m\u001b[43ml1_coefficient\u001b[49m\u001b[43m,\u001b[49m\u001b[43m \u001b[49m\u001b[43mbatch_size\u001b[49m\u001b[38;5;241;43m=\u001b[39;49m\u001b[43mbatch_size\u001b[49m\u001b[43m,\u001b[49m\u001b[43m \u001b[49m\n\u001b[1;32m    235\u001b[0m \u001b[43m                                                    \u001b[49m\u001b[43mprojection_up\u001b[49m\u001b[38;5;241;43m=\u001b[39;49m\u001b[43mprojection_up\u001b[49m\u001b[43m,\u001b[49m\u001b[43m \u001b[49m\u001b[43mactivation_store\u001b[49m\u001b[38;5;241;43m=\u001b[39;49m\u001b[43mactivation_store\u001b[49m\u001b[43m)\u001b[49m\n\u001b[1;32m    237\u001b[0m \u001b[38;5;28mprint\u001b[39m(\u001b[38;5;124mf\u001b[39m\u001b[38;5;124m\"\u001b[39m\u001b[38;5;124mFinal Reconstruction Error: \u001b[39m\u001b[38;5;132;01m{\u001b[39;00mfinal_recon_loss\u001b[38;5;132;01m:\u001b[39;00m\u001b[38;5;124m.4f\u001b[39m\u001b[38;5;132;01m}\u001b[39;00m\u001b[38;5;124m\"\u001b[39m)\n\u001b[1;32m    238\u001b[0m \u001b[38;5;28mprint\u001b[39m(\u001b[38;5;124mf\u001b[39m\u001b[38;5;124m\"\u001b[39m\u001b[38;5;124mFinal L0 Loss: \u001b[39m\u001b[38;5;132;01m{\u001b[39;00mfinal_l0_loss\u001b[38;5;132;01m:\u001b[39;00m\u001b[38;5;124m.4f\u001b[39m\u001b[38;5;132;01m}\u001b[39;00m\u001b[38;5;124m\"\u001b[39m)\n",
      "File \u001b[0;32m~/transcoder-sae-circuits/error_saes/main_regular.py:111\u001b[0m, in \u001b[0;36mtrain_regular_sae\u001b[0;34m(model, tl_model, sae, n_batches, lr, repo_name, layer, l1_coefficient, batch_size, projection_up, activation_store)\u001b[0m\n\u001b[1;32m    109\u001b[0m sae_out, loss, _ \u001b[38;5;241m=\u001b[39m model(z_acts, z_acts)\n\u001b[1;32m    110\u001b[0m loss\u001b[38;5;241m.\u001b[39mbackward()\n\u001b[0;32m--> 111\u001b[0m \u001b[43moptimizer\u001b[49m\u001b[38;5;241;43m.\u001b[39;49m\u001b[43mstep\u001b[49m\u001b[43m(\u001b[49m\u001b[43m)\u001b[49m\n\u001b[1;32m    113\u001b[0m \u001b[38;5;66;03m# Track neuron activity\u001b[39;00m\n\u001b[1;32m    114\u001b[0m track_neuron_activity(model\u001b[38;5;241m.\u001b[39mencoder(z_acts), neuron_activity, total_steps)\n",
      "File \u001b[0;32m~/miniconda3/envs/anu/lib/python3.12/site-packages/torch/optim/optimizer.py:385\u001b[0m, in \u001b[0;36mOptimizer.profile_hook_step.<locals>.wrapper\u001b[0;34m(*args, **kwargs)\u001b[0m\n\u001b[1;32m    380\u001b[0m         \u001b[38;5;28;01melse\u001b[39;00m:\n\u001b[1;32m    381\u001b[0m             \u001b[38;5;28;01mraise\u001b[39;00m \u001b[38;5;167;01mRuntimeError\u001b[39;00m(\n\u001b[1;32m    382\u001b[0m                 \u001b[38;5;124mf\u001b[39m\u001b[38;5;124m\"\u001b[39m\u001b[38;5;132;01m{\u001b[39;00mfunc\u001b[38;5;132;01m}\u001b[39;00m\u001b[38;5;124m must return None or a tuple of (new_args, new_kwargs), but got \u001b[39m\u001b[38;5;132;01m{\u001b[39;00mresult\u001b[38;5;132;01m}\u001b[39;00m\u001b[38;5;124m.\u001b[39m\u001b[38;5;124m\"\u001b[39m\n\u001b[1;32m    383\u001b[0m             )\n\u001b[0;32m--> 385\u001b[0m out \u001b[38;5;241m=\u001b[39m \u001b[43mfunc\u001b[49m\u001b[43m(\u001b[49m\u001b[38;5;241;43m*\u001b[39;49m\u001b[43margs\u001b[49m\u001b[43m,\u001b[49m\u001b[43m \u001b[49m\u001b[38;5;241;43m*\u001b[39;49m\u001b[38;5;241;43m*\u001b[39;49m\u001b[43mkwargs\u001b[49m\u001b[43m)\u001b[49m\n\u001b[1;32m    386\u001b[0m \u001b[38;5;28mself\u001b[39m\u001b[38;5;241m.\u001b[39m_optimizer_step_code()\n\u001b[1;32m    388\u001b[0m \u001b[38;5;66;03m# call optimizer step post hooks\u001b[39;00m\n",
      "File \u001b[0;32m~/miniconda3/envs/anu/lib/python3.12/site-packages/torch/optim/optimizer.py:76\u001b[0m, in \u001b[0;36m_use_grad_for_differentiable.<locals>._use_grad\u001b[0;34m(self, *args, **kwargs)\u001b[0m\n\u001b[1;32m     74\u001b[0m     torch\u001b[38;5;241m.\u001b[39mset_grad_enabled(\u001b[38;5;28mself\u001b[39m\u001b[38;5;241m.\u001b[39mdefaults[\u001b[38;5;124m'\u001b[39m\u001b[38;5;124mdifferentiable\u001b[39m\u001b[38;5;124m'\u001b[39m])\n\u001b[1;32m     75\u001b[0m     torch\u001b[38;5;241m.\u001b[39m_dynamo\u001b[38;5;241m.\u001b[39mgraph_break()\n\u001b[0;32m---> 76\u001b[0m     ret \u001b[38;5;241m=\u001b[39m \u001b[43mfunc\u001b[49m\u001b[43m(\u001b[49m\u001b[38;5;28;43mself\u001b[39;49m\u001b[43m,\u001b[49m\u001b[43m \u001b[49m\u001b[38;5;241;43m*\u001b[39;49m\u001b[43margs\u001b[49m\u001b[43m,\u001b[49m\u001b[43m \u001b[49m\u001b[38;5;241;43m*\u001b[39;49m\u001b[38;5;241;43m*\u001b[39;49m\u001b[43mkwargs\u001b[49m\u001b[43m)\u001b[49m\n\u001b[1;32m     77\u001b[0m \u001b[38;5;28;01mfinally\u001b[39;00m:\n\u001b[1;32m     78\u001b[0m     torch\u001b[38;5;241m.\u001b[39m_dynamo\u001b[38;5;241m.\u001b[39mgraph_break()\n",
      "File \u001b[0;32m~/miniconda3/envs/anu/lib/python3.12/site-packages/torch/optim/adam.py:166\u001b[0m, in \u001b[0;36mAdam.step\u001b[0;34m(self, closure)\u001b[0m\n\u001b[1;32m    155\u001b[0m     beta1, beta2 \u001b[38;5;241m=\u001b[39m group[\u001b[38;5;124m'\u001b[39m\u001b[38;5;124mbetas\u001b[39m\u001b[38;5;124m'\u001b[39m]\n\u001b[1;32m    157\u001b[0m     has_complex \u001b[38;5;241m=\u001b[39m \u001b[38;5;28mself\u001b[39m\u001b[38;5;241m.\u001b[39m_init_group(\n\u001b[1;32m    158\u001b[0m         group,\n\u001b[1;32m    159\u001b[0m         params_with_grad,\n\u001b[0;32m   (...)\u001b[0m\n\u001b[1;32m    163\u001b[0m         max_exp_avg_sqs,\n\u001b[1;32m    164\u001b[0m         state_steps)\n\u001b[0;32m--> 166\u001b[0m     \u001b[43madam\u001b[49m\u001b[43m(\u001b[49m\n\u001b[1;32m    167\u001b[0m \u001b[43m        \u001b[49m\u001b[43mparams_with_grad\u001b[49m\u001b[43m,\u001b[49m\n\u001b[1;32m    168\u001b[0m \u001b[43m        \u001b[49m\u001b[43mgrads\u001b[49m\u001b[43m,\u001b[49m\n\u001b[1;32m    169\u001b[0m \u001b[43m        \u001b[49m\u001b[43mexp_avgs\u001b[49m\u001b[43m,\u001b[49m\n\u001b[1;32m    170\u001b[0m \u001b[43m        \u001b[49m\u001b[43mexp_avg_sqs\u001b[49m\u001b[43m,\u001b[49m\n\u001b[1;32m    171\u001b[0m \u001b[43m        \u001b[49m\u001b[43mmax_exp_avg_sqs\u001b[49m\u001b[43m,\u001b[49m\n\u001b[1;32m    172\u001b[0m \u001b[43m        \u001b[49m\u001b[43mstate_steps\u001b[49m\u001b[43m,\u001b[49m\n\u001b[1;32m    173\u001b[0m \u001b[43m        \u001b[49m\u001b[43mamsgrad\u001b[49m\u001b[38;5;241;43m=\u001b[39;49m\u001b[43mgroup\u001b[49m\u001b[43m[\u001b[49m\u001b[38;5;124;43m'\u001b[39;49m\u001b[38;5;124;43mamsgrad\u001b[39;49m\u001b[38;5;124;43m'\u001b[39;49m\u001b[43m]\u001b[49m\u001b[43m,\u001b[49m\n\u001b[1;32m    174\u001b[0m \u001b[43m        \u001b[49m\u001b[43mhas_complex\u001b[49m\u001b[38;5;241;43m=\u001b[39;49m\u001b[43mhas_complex\u001b[49m\u001b[43m,\u001b[49m\n\u001b[1;32m    175\u001b[0m \u001b[43m        \u001b[49m\u001b[43mbeta1\u001b[49m\u001b[38;5;241;43m=\u001b[39;49m\u001b[43mbeta1\u001b[49m\u001b[43m,\u001b[49m\n\u001b[1;32m    176\u001b[0m \u001b[43m        \u001b[49m\u001b[43mbeta2\u001b[49m\u001b[38;5;241;43m=\u001b[39;49m\u001b[43mbeta2\u001b[49m\u001b[43m,\u001b[49m\n\u001b[1;32m    177\u001b[0m \u001b[43m        \u001b[49m\u001b[43mlr\u001b[49m\u001b[38;5;241;43m=\u001b[39;49m\u001b[43mgroup\u001b[49m\u001b[43m[\u001b[49m\u001b[38;5;124;43m'\u001b[39;49m\u001b[38;5;124;43mlr\u001b[39;49m\u001b[38;5;124;43m'\u001b[39;49m\u001b[43m]\u001b[49m\u001b[43m,\u001b[49m\n\u001b[1;32m    178\u001b[0m \u001b[43m        \u001b[49m\u001b[43mweight_decay\u001b[49m\u001b[38;5;241;43m=\u001b[39;49m\u001b[43mgroup\u001b[49m\u001b[43m[\u001b[49m\u001b[38;5;124;43m'\u001b[39;49m\u001b[38;5;124;43mweight_decay\u001b[39;49m\u001b[38;5;124;43m'\u001b[39;49m\u001b[43m]\u001b[49m\u001b[43m,\u001b[49m\n\u001b[1;32m    179\u001b[0m \u001b[43m        \u001b[49m\u001b[43meps\u001b[49m\u001b[38;5;241;43m=\u001b[39;49m\u001b[43mgroup\u001b[49m\u001b[43m[\u001b[49m\u001b[38;5;124;43m'\u001b[39;49m\u001b[38;5;124;43meps\u001b[39;49m\u001b[38;5;124;43m'\u001b[39;49m\u001b[43m]\u001b[49m\u001b[43m,\u001b[49m\n\u001b[1;32m    180\u001b[0m \u001b[43m        \u001b[49m\u001b[43mmaximize\u001b[49m\u001b[38;5;241;43m=\u001b[39;49m\u001b[43mgroup\u001b[49m\u001b[43m[\u001b[49m\u001b[38;5;124;43m'\u001b[39;49m\u001b[38;5;124;43mmaximize\u001b[39;49m\u001b[38;5;124;43m'\u001b[39;49m\u001b[43m]\u001b[49m\u001b[43m,\u001b[49m\n\u001b[1;32m    181\u001b[0m \u001b[43m        \u001b[49m\u001b[43mforeach\u001b[49m\u001b[38;5;241;43m=\u001b[39;49m\u001b[43mgroup\u001b[49m\u001b[43m[\u001b[49m\u001b[38;5;124;43m'\u001b[39;49m\u001b[38;5;124;43mforeach\u001b[39;49m\u001b[38;5;124;43m'\u001b[39;49m\u001b[43m]\u001b[49m\u001b[43m,\u001b[49m\n\u001b[1;32m    182\u001b[0m \u001b[43m        \u001b[49m\u001b[43mcapturable\u001b[49m\u001b[38;5;241;43m=\u001b[39;49m\u001b[43mgroup\u001b[49m\u001b[43m[\u001b[49m\u001b[38;5;124;43m'\u001b[39;49m\u001b[38;5;124;43mcapturable\u001b[39;49m\u001b[38;5;124;43m'\u001b[39;49m\u001b[43m]\u001b[49m\u001b[43m,\u001b[49m\n\u001b[1;32m    183\u001b[0m \u001b[43m        \u001b[49m\u001b[43mdifferentiable\u001b[49m\u001b[38;5;241;43m=\u001b[39;49m\u001b[43mgroup\u001b[49m\u001b[43m[\u001b[49m\u001b[38;5;124;43m'\u001b[39;49m\u001b[38;5;124;43mdifferentiable\u001b[39;49m\u001b[38;5;124;43m'\u001b[39;49m\u001b[43m]\u001b[49m\u001b[43m,\u001b[49m\n\u001b[1;32m    184\u001b[0m \u001b[43m        \u001b[49m\u001b[43mfused\u001b[49m\u001b[38;5;241;43m=\u001b[39;49m\u001b[43mgroup\u001b[49m\u001b[43m[\u001b[49m\u001b[38;5;124;43m'\u001b[39;49m\u001b[38;5;124;43mfused\u001b[39;49m\u001b[38;5;124;43m'\u001b[39;49m\u001b[43m]\u001b[49m\u001b[43m,\u001b[49m\n\u001b[1;32m    185\u001b[0m \u001b[43m        \u001b[49m\u001b[43mgrad_scale\u001b[49m\u001b[38;5;241;43m=\u001b[39;49m\u001b[38;5;28;43mgetattr\u001b[39;49m\u001b[43m(\u001b[49m\u001b[38;5;28;43mself\u001b[39;49m\u001b[43m,\u001b[49m\u001b[43m \u001b[49m\u001b[38;5;124;43m\"\u001b[39;49m\u001b[38;5;124;43mgrad_scale\u001b[39;49m\u001b[38;5;124;43m\"\u001b[39;49m\u001b[43m,\u001b[49m\u001b[43m \u001b[49m\u001b[38;5;28;43;01mNone\u001b[39;49;00m\u001b[43m)\u001b[49m\u001b[43m,\u001b[49m\n\u001b[1;32m    186\u001b[0m \u001b[43m        \u001b[49m\u001b[43mfound_inf\u001b[49m\u001b[38;5;241;43m=\u001b[39;49m\u001b[38;5;28;43mgetattr\u001b[39;49m\u001b[43m(\u001b[49m\u001b[38;5;28;43mself\u001b[39;49m\u001b[43m,\u001b[49m\u001b[43m \u001b[49m\u001b[38;5;124;43m\"\u001b[39;49m\u001b[38;5;124;43mfound_inf\u001b[39;49m\u001b[38;5;124;43m\"\u001b[39;49m\u001b[43m,\u001b[49m\u001b[43m \u001b[49m\u001b[38;5;28;43;01mNone\u001b[39;49;00m\u001b[43m)\u001b[49m\u001b[43m,\u001b[49m\n\u001b[1;32m    187\u001b[0m \u001b[43m    \u001b[49m\u001b[43m)\u001b[49m\n\u001b[1;32m    189\u001b[0m \u001b[38;5;28;01mreturn\u001b[39;00m loss\n",
      "File \u001b[0;32m~/miniconda3/envs/anu/lib/python3.12/site-packages/torch/optim/adam.py:316\u001b[0m, in \u001b[0;36madam\u001b[0;34m(params, grads, exp_avgs, exp_avg_sqs, max_exp_avg_sqs, state_steps, foreach, capturable, differentiable, fused, grad_scale, found_inf, has_complex, amsgrad, beta1, beta2, lr, weight_decay, eps, maximize)\u001b[0m\n\u001b[1;32m    313\u001b[0m \u001b[38;5;28;01melse\u001b[39;00m:\n\u001b[1;32m    314\u001b[0m     func \u001b[38;5;241m=\u001b[39m _single_tensor_adam\n\u001b[0;32m--> 316\u001b[0m \u001b[43mfunc\u001b[49m\u001b[43m(\u001b[49m\u001b[43mparams\u001b[49m\u001b[43m,\u001b[49m\n\u001b[1;32m    317\u001b[0m \u001b[43m     \u001b[49m\u001b[43mgrads\u001b[49m\u001b[43m,\u001b[49m\n\u001b[1;32m    318\u001b[0m \u001b[43m     \u001b[49m\u001b[43mexp_avgs\u001b[49m\u001b[43m,\u001b[49m\n\u001b[1;32m    319\u001b[0m \u001b[43m     \u001b[49m\u001b[43mexp_avg_sqs\u001b[49m\u001b[43m,\u001b[49m\n\u001b[1;32m    320\u001b[0m \u001b[43m     \u001b[49m\u001b[43mmax_exp_avg_sqs\u001b[49m\u001b[43m,\u001b[49m\n\u001b[1;32m    321\u001b[0m \u001b[43m     \u001b[49m\u001b[43mstate_steps\u001b[49m\u001b[43m,\u001b[49m\n\u001b[1;32m    322\u001b[0m \u001b[43m     \u001b[49m\u001b[43mamsgrad\u001b[49m\u001b[38;5;241;43m=\u001b[39;49m\u001b[43mamsgrad\u001b[49m\u001b[43m,\u001b[49m\n\u001b[1;32m    323\u001b[0m \u001b[43m     \u001b[49m\u001b[43mhas_complex\u001b[49m\u001b[38;5;241;43m=\u001b[39;49m\u001b[43mhas_complex\u001b[49m\u001b[43m,\u001b[49m\n\u001b[1;32m    324\u001b[0m \u001b[43m     \u001b[49m\u001b[43mbeta1\u001b[49m\u001b[38;5;241;43m=\u001b[39;49m\u001b[43mbeta1\u001b[49m\u001b[43m,\u001b[49m\n\u001b[1;32m    325\u001b[0m \u001b[43m     \u001b[49m\u001b[43mbeta2\u001b[49m\u001b[38;5;241;43m=\u001b[39;49m\u001b[43mbeta2\u001b[49m\u001b[43m,\u001b[49m\n\u001b[1;32m    326\u001b[0m \u001b[43m     \u001b[49m\u001b[43mlr\u001b[49m\u001b[38;5;241;43m=\u001b[39;49m\u001b[43mlr\u001b[49m\u001b[43m,\u001b[49m\n\u001b[1;32m    327\u001b[0m \u001b[43m     \u001b[49m\u001b[43mweight_decay\u001b[49m\u001b[38;5;241;43m=\u001b[39;49m\u001b[43mweight_decay\u001b[49m\u001b[43m,\u001b[49m\n\u001b[1;32m    328\u001b[0m \u001b[43m     \u001b[49m\u001b[43meps\u001b[49m\u001b[38;5;241;43m=\u001b[39;49m\u001b[43meps\u001b[49m\u001b[43m,\u001b[49m\n\u001b[1;32m    329\u001b[0m \u001b[43m     \u001b[49m\u001b[43mmaximize\u001b[49m\u001b[38;5;241;43m=\u001b[39;49m\u001b[43mmaximize\u001b[49m\u001b[43m,\u001b[49m\n\u001b[1;32m    330\u001b[0m \u001b[43m     \u001b[49m\u001b[43mcapturable\u001b[49m\u001b[38;5;241;43m=\u001b[39;49m\u001b[43mcapturable\u001b[49m\u001b[43m,\u001b[49m\n\u001b[1;32m    331\u001b[0m \u001b[43m     \u001b[49m\u001b[43mdifferentiable\u001b[49m\u001b[38;5;241;43m=\u001b[39;49m\u001b[43mdifferentiable\u001b[49m\u001b[43m,\u001b[49m\n\u001b[1;32m    332\u001b[0m \u001b[43m     \u001b[49m\u001b[43mgrad_scale\u001b[49m\u001b[38;5;241;43m=\u001b[39;49m\u001b[43mgrad_scale\u001b[49m\u001b[43m,\u001b[49m\n\u001b[1;32m    333\u001b[0m \u001b[43m     \u001b[49m\u001b[43mfound_inf\u001b[49m\u001b[38;5;241;43m=\u001b[39;49m\u001b[43mfound_inf\u001b[49m\u001b[43m)\u001b[49m\n",
      "File \u001b[0;32m~/miniconda3/envs/anu/lib/python3.12/site-packages/torch/optim/adam.py:392\u001b[0m, in \u001b[0;36m_single_tensor_adam\u001b[0;34m(params, grads, exp_avgs, exp_avg_sqs, max_exp_avg_sqs, state_steps, grad_scale, found_inf, amsgrad, has_complex, beta1, beta2, lr, weight_decay, eps, maximize, capturable, differentiable)\u001b[0m\n\u001b[1;32m    390\u001b[0m \u001b[38;5;66;03m# Decay the first and second moment running average coefficient\u001b[39;00m\n\u001b[1;32m    391\u001b[0m exp_avg\u001b[38;5;241m.\u001b[39mlerp_(grad, \u001b[38;5;241m1\u001b[39m \u001b[38;5;241m-\u001b[39m beta1)\n\u001b[0;32m--> 392\u001b[0m \u001b[43mexp_avg_sq\u001b[49m\u001b[38;5;241;43m.\u001b[39;49m\u001b[43mmul_\u001b[49m\u001b[43m(\u001b[49m\u001b[43mbeta2\u001b[49m\u001b[43m)\u001b[49m\u001b[38;5;241;43m.\u001b[39;49m\u001b[43maddcmul_\u001b[49m\u001b[43m(\u001b[49m\u001b[43mgrad\u001b[49m\u001b[43m,\u001b[49m\u001b[43m \u001b[49m\u001b[43mgrad\u001b[49m\u001b[38;5;241;43m.\u001b[39;49m\u001b[43mconj\u001b[49m\u001b[43m(\u001b[49m\u001b[43m)\u001b[49m\u001b[43m,\u001b[49m\u001b[43m \u001b[49m\u001b[43mvalue\u001b[49m\u001b[38;5;241;43m=\u001b[39;49m\u001b[38;5;241;43m1\u001b[39;49m\u001b[43m \u001b[49m\u001b[38;5;241;43m-\u001b[39;49m\u001b[43m \u001b[49m\u001b[43mbeta2\u001b[49m\u001b[43m)\u001b[49m\n\u001b[1;32m    394\u001b[0m \u001b[38;5;28;01mif\u001b[39;00m capturable \u001b[38;5;129;01mor\u001b[39;00m differentiable:\n\u001b[1;32m    395\u001b[0m     step \u001b[38;5;241m=\u001b[39m step_t\n",
      "\u001b[0;31mKeyboardInterrupt\u001b[0m: "
     ]
    }
   ],
   "source": [
    "# Train a larger regular SAE, hidden size 32 * 768 = 24576\n",
    "import torch\n",
    "from main_regular import main_regular_sae  # Adjust the import based on the file location\n",
    "\n",
    "# Manually specify the arguments\n",
    "layer = 9\n",
    "model_type = 'gated'\n",
    "n_batches = 5000\n",
    "l1_coefficient = 3e-4\n",
    "batch_size = 4\n",
    "lr = 0.001\n",
    "projection_up = 32\n",
    "repo_name = \"regular-sae\"\n",
    "\n",
    "# Call the function with specified arguments\n",
    "main_regular_sae(layer, model_type, n_batches, l1_coefficient, batch_size, lr, projection_up, repo_name)"
   ]
  },
  {
   "cell_type": "code",
   "execution_count": 1,
   "metadata": {},
   "outputs": [],
   "source": [
    "# Train a smaller regular SAE, hidden size 16_000"
   ]
  },
  {
   "cell_type": "code",
   "execution_count": 4,
   "metadata": {},
   "outputs": [
    {
     "name": "stdout",
     "output_type": "stream",
     "text": [
      "Running on cpu...\n",
      "Loading existing Z activations for layer 9...\n",
      "Loading existing SAE errors and original Z activations for layer 9...\n",
      "Length of dataset = 10000\n",
      "Shape of x = torch.Size([2048, 768])\n",
      "Shape of y = torch.Size([2048, 768])\n"
     ]
    },
    {
     "name": "stderr",
     "output_type": "stream",
     "text": [
      "Evaluating: 100%|██████████| 1/1 [00:00<00:00,  3.59it/s]\n"
     ]
    },
    {
     "name": "stdout",
     "output_type": "stream",
     "text": [
      "Initial Test Loss 0.1996 | Initial Reconstruction Error 0.0334 | Initial L0 Loss 6154.4863 | Initial Dead Neurons: 0.00%\n"
     ]
    },
    {
     "name": "stderr",
     "output_type": "stream",
     "text": [
      "Training: 100%|██████████| 4/4 [00:01<00:00,  2.78it/s]]\n",
      "Evaluating: 100%|██████████| 1/1 [00:00<00:00,  5.03it/s]\n",
      "Training Epochs:   1%|          | 1/100 [00:01<02:42,  1.64s/it]"
     ]
    },
    {
     "name": "stdout",
     "output_type": "stream",
     "text": [
      "Epoch 1 Test Loss 0.0584 | Reconstruction Error 0.0286 | L0 Loss 88.4235 | Dead Neurons: 3.14%\n"
     ]
    },
    {
     "name": "stderr",
     "output_type": "stream",
     "text": [
      "Training: 100%|██████████| 4/4 [00:01<00:00,  3.00it/s]\n",
      "Evaluating: 100%|██████████| 1/1 [00:00<00:00,  5.08it/s]\n",
      "Training Epochs:   2%|▏         | 2/100 [00:03<02:34,  1.58s/it]"
     ]
    },
    {
     "name": "stdout",
     "output_type": "stream",
     "text": [
      "Epoch 2 Test Loss 0.0551 | Reconstruction Error 0.0271 | L0 Loss 16.3385 | Dead Neurons: 57.65%\n"
     ]
    },
    {
     "name": "stderr",
     "output_type": "stream",
     "text": [
      "Training: 100%|██████████| 4/4 [00:01<00:00,  2.94it/s]\n",
      "Evaluating: 100%|██████████| 1/1 [00:00<00:00,  4.90it/s]\n",
      "Training Epochs:   3%|▎         | 3/100 [00:04<02:32,  1.57s/it]"
     ]
    },
    {
     "name": "stdout",
     "output_type": "stream",
     "text": [
      "Epoch 3 Test Loss 0.0545 | Reconstruction Error 0.0268 | L0 Loss 13.4285 | Dead Neurons: 87.37%\n"
     ]
    },
    {
     "name": "stderr",
     "output_type": "stream",
     "text": [
      "Training: 100%|██████████| 4/4 [00:01<00:00,  2.99it/s]\n",
      "Evaluating: 100%|██████████| 1/1 [00:00<00:00,  5.06it/s]\n",
      "Training Epochs:   4%|▍         | 4/100 [00:06<02:29,  1.56s/it]"
     ]
    },
    {
     "name": "stdout",
     "output_type": "stream",
     "text": [
      "Epoch 4 Test Loss 0.0538 | Reconstruction Error 0.0265 | L0 Loss 8.4210 | Dead Neurons: 94.43%\n"
     ]
    },
    {
     "name": "stderr",
     "output_type": "stream",
     "text": [
      "Training: 100%|██████████| 4/4 [00:01<00:00,  2.97it/s]\n",
      "Evaluating: 100%|██████████| 1/1 [00:00<00:00,  4.94it/s]\n",
      "Training Epochs:   5%|▌         | 5/100 [00:07<02:28,  1.56s/it]"
     ]
    },
    {
     "name": "stdout",
     "output_type": "stream",
     "text": [
      "Epoch 5 Test Loss 0.0533 | Reconstruction Error 0.0263 | L0 Loss 8.0000 | Dead Neurons: 96.53%\n"
     ]
    },
    {
     "name": "stderr",
     "output_type": "stream",
     "text": [
      "Training: 100%|██████████| 4/4 [00:01<00:00,  2.97it/s]\n",
      "Evaluating: 100%|██████████| 1/1 [00:00<00:00,  4.97it/s]\n",
      "Training Epochs:   6%|▌         | 6/100 [00:09<02:26,  1.56s/it]"
     ]
    },
    {
     "name": "stdout",
     "output_type": "stream",
     "text": [
      "Epoch 6 Test Loss 0.0529 | Reconstruction Error 0.0261 | L0 Loss 9.0780 | Dead Neurons: 97.34%\n"
     ]
    },
    {
     "name": "stderr",
     "output_type": "stream",
     "text": [
      "Training: 100%|██████████| 4/4 [00:01<00:00,  2.95it/s]\n",
      "Evaluating: 100%|██████████| 1/1 [00:00<00:00,  5.02it/s]\n",
      "Training Epochs:   7%|▋         | 7/100 [00:10<02:24,  1.56s/it]"
     ]
    },
    {
     "name": "stdout",
     "output_type": "stream",
     "text": [
      "Epoch 7 Test Loss 0.0525 | Reconstruction Error 0.0259 | L0 Loss 7.2845 | Dead Neurons: 97.53%\n"
     ]
    },
    {
     "name": "stderr",
     "output_type": "stream",
     "text": [
      "Training: 100%|██████████| 4/4 [00:01<00:00,  2.96it/s]\n",
      "Evaluating: 100%|██████████| 1/1 [00:00<00:00,  5.11it/s]\n",
      "Training Epochs:   8%|▊         | 8/100 [00:12<02:23,  1.56s/it]"
     ]
    },
    {
     "name": "stdout",
     "output_type": "stream",
     "text": [
      "Epoch 8 Test Loss 0.0523 | Reconstruction Error 0.0258 | L0 Loss 6.8595 | Dead Neurons: 97.65%\n"
     ]
    },
    {
     "name": "stderr",
     "output_type": "stream",
     "text": [
      "Training: 100%|██████████| 4/4 [00:01<00:00,  2.95it/s]\n",
      "Evaluating: 100%|██████████| 1/1 [00:00<00:00,  5.06it/s]\n",
      "Training Epochs:   9%|▉         | 9/100 [00:14<02:21,  1.56s/it]"
     ]
    },
    {
     "name": "stdout",
     "output_type": "stream",
     "text": [
      "Epoch 9 Test Loss 0.0521 | Reconstruction Error 0.0257 | L0 Loss 7.4430 | Dead Neurons: 97.73%\n"
     ]
    },
    {
     "name": "stderr",
     "output_type": "stream",
     "text": [
      "Training: 100%|██████████| 4/4 [00:01<00:00,  2.79it/s]\n",
      "Evaluating: 100%|██████████| 1/1 [00:00<00:00,  4.95it/s]\n",
      "Training Epochs:  10%|█         | 10/100 [00:15<02:22,  1.58s/it]"
     ]
    },
    {
     "name": "stdout",
     "output_type": "stream",
     "text": [
      "Epoch 10 Test Loss 0.0519 | Reconstruction Error 0.0256 | L0 Loss 7.1200 | Dead Neurons: 97.74%\n"
     ]
    },
    {
     "name": "stderr",
     "output_type": "stream",
     "text": [
      "Training: 100%|██████████| 4/4 [00:01<00:00,  2.77it/s]\n",
      "Evaluating: 100%|██████████| 1/1 [00:00<00:00,  5.04it/s]\n",
      "Training Epochs:  11%|█         | 11/100 [00:17<02:22,  1.60s/it]"
     ]
    },
    {
     "name": "stdout",
     "output_type": "stream",
     "text": [
      "Epoch 11 Test Loss 0.0516 | Reconstruction Error 0.0255 | L0 Loss 7.5585 | Dead Neurons: 97.76%\n"
     ]
    },
    {
     "name": "stderr",
     "output_type": "stream",
     "text": [
      "Training: 100%|██████████| 4/4 [00:01<00:00,  3.03it/s]\n",
      "Evaluating: 100%|██████████| 1/1 [00:00<00:00,  4.99it/s]\n",
      "Training Epochs:  12%|█▏        | 12/100 [00:18<02:19,  1.58s/it]"
     ]
    },
    {
     "name": "stdout",
     "output_type": "stream",
     "text": [
      "Epoch 12 Test Loss 0.0514 | Reconstruction Error 0.0254 | L0 Loss 7.6585 | Dead Neurons: 97.63%\n"
     ]
    },
    {
     "name": "stderr",
     "output_type": "stream",
     "text": [
      "Training: 100%|██████████| 4/4 [00:01<00:00,  3.00it/s]\n",
      "Evaluating: 100%|██████████| 1/1 [00:00<00:00,  5.01it/s]\n",
      "Training Epochs:  13%|█▎        | 13/100 [00:20<02:16,  1.57s/it]"
     ]
    },
    {
     "name": "stdout",
     "output_type": "stream",
     "text": [
      "Epoch 13 Test Loss 0.0511 | Reconstruction Error 0.0252 | L0 Loss 7.7685 | Dead Neurons: 97.54%\n"
     ]
    },
    {
     "name": "stderr",
     "output_type": "stream",
     "text": [
      "Training: 100%|██████████| 4/4 [00:01<00:00,  2.96it/s]\n",
      "Evaluating: 100%|██████████| 1/1 [00:00<00:00,  4.89it/s]\n",
      "Training Epochs:  14%|█▍        | 14/100 [00:21<02:14,  1.57s/it]"
     ]
    },
    {
     "name": "stdout",
     "output_type": "stream",
     "text": [
      "Epoch 14 Test Loss 0.0509 | Reconstruction Error 0.0251 | L0 Loss 8.3875 | Dead Neurons: 97.48%\n"
     ]
    },
    {
     "name": "stderr",
     "output_type": "stream",
     "text": [
      "Training: 100%|██████████| 4/4 [00:01<00:00,  2.85it/s]\n",
      "Evaluating: 100%|██████████| 1/1 [00:00<00:00,  4.39it/s]\n",
      "Training Epochs:  15%|█▌        | 15/100 [00:23<02:14,  1.59s/it]"
     ]
    },
    {
     "name": "stdout",
     "output_type": "stream",
     "text": [
      "Epoch 15 Test Loss 0.0506 | Reconstruction Error 0.0249 | L0 Loss 9.1815 | Dead Neurons: 97.42%\n"
     ]
    },
    {
     "name": "stderr",
     "output_type": "stream",
     "text": [
      "Training: 100%|██████████| 4/4 [00:01<00:00,  2.98it/s]\n",
      "Evaluating: 100%|██████████| 1/1 [00:00<00:00,  4.97it/s]\n",
      "Training Epochs:  16%|█▌        | 16/100 [00:25<02:12,  1.58s/it]"
     ]
    },
    {
     "name": "stdout",
     "output_type": "stream",
     "text": [
      "Epoch 16 Test Loss 0.0503 | Reconstruction Error 0.0247 | L0 Loss 10.1930 | Dead Neurons: 97.33%\n"
     ]
    },
    {
     "name": "stderr",
     "output_type": "stream",
     "text": [
      "Training: 100%|██████████| 4/4 [00:01<00:00,  3.01it/s]\n",
      "Evaluating: 100%|██████████| 1/1 [00:00<00:00,  5.05it/s]\n",
      "Training Epochs:  17%|█▋        | 17/100 [00:26<02:09,  1.56s/it]"
     ]
    },
    {
     "name": "stdout",
     "output_type": "stream",
     "text": [
      "Epoch 17 Test Loss 0.0499 | Reconstruction Error 0.0245 | L0 Loss 11.5035 | Dead Neurons: 97.21%\n"
     ]
    },
    {
     "name": "stderr",
     "output_type": "stream",
     "text": [
      "Training: 100%|██████████| 4/4 [00:01<00:00,  2.97it/s]\n",
      "Evaluating: 100%|██████████| 1/1 [00:00<00:00,  3.78it/s]\n",
      "Training Epochs:  18%|█▊        | 18/100 [00:28<02:09,  1.58s/it]"
     ]
    },
    {
     "name": "stdout",
     "output_type": "stream",
     "text": [
      "Epoch 18 Test Loss 0.0496 | Reconstruction Error 0.0243 | L0 Loss 12.6930 | Dead Neurons: 97.13%\n"
     ]
    },
    {
     "name": "stderr",
     "output_type": "stream",
     "text": [
      "Training: 100%|██████████| 4/4 [00:01<00:00,  2.99it/s]\n",
      "Evaluating: 100%|██████████| 1/1 [00:00<00:00,  4.83it/s]\n",
      "Training Epochs:  19%|█▉        | 19/100 [00:29<02:07,  1.57s/it]"
     ]
    },
    {
     "name": "stdout",
     "output_type": "stream",
     "text": [
      "Epoch 19 Test Loss 0.0492 | Reconstruction Error 0.0240 | L0 Loss 14.0635 | Dead Neurons: 97.05%\n"
     ]
    },
    {
     "name": "stderr",
     "output_type": "stream",
     "text": [
      "Training: 100%|██████████| 4/4 [00:01<00:00,  2.98it/s]\n",
      "Evaluating: 100%|██████████| 1/1 [00:00<00:00,  5.00it/s]\n",
      "Training Epochs:  20%|██        | 20/100 [00:31<02:05,  1.56s/it]"
     ]
    },
    {
     "name": "stdout",
     "output_type": "stream",
     "text": [
      "Epoch 20 Test Loss 0.0488 | Reconstruction Error 0.0238 | L0 Loss 15.4900 | Dead Neurons: 96.99%\n"
     ]
    },
    {
     "name": "stderr",
     "output_type": "stream",
     "text": [
      "Training: 100%|██████████| 4/4 [00:01<00:00,  2.95it/s]\n",
      "Evaluating: 100%|██████████| 1/1 [00:00<00:00,  5.11it/s]\n",
      "Training Epochs:  21%|██        | 21/100 [00:32<02:03,  1.56s/it]"
     ]
    },
    {
     "name": "stdout",
     "output_type": "stream",
     "text": [
      "Epoch 21 Test Loss 0.0484 | Reconstruction Error 0.0236 | L0 Loss 16.7345 | Dead Neurons: 96.98%\n"
     ]
    },
    {
     "name": "stderr",
     "output_type": "stream",
     "text": [
      "Training: 100%|██████████| 4/4 [00:01<00:00,  3.00it/s]\n",
      "Evaluating: 100%|██████████| 1/1 [00:00<00:00,  4.88it/s]\n",
      "Training Epochs:  22%|██▏       | 22/100 [00:34<02:01,  1.56s/it]"
     ]
    },
    {
     "name": "stdout",
     "output_type": "stream",
     "text": [
      "Epoch 22 Test Loss 0.0481 | Reconstruction Error 0.0234 | L0 Loss 17.5170 | Dead Neurons: 96.90%\n"
     ]
    },
    {
     "name": "stderr",
     "output_type": "stream",
     "text": [
      "Training: 100%|██████████| 4/4 [00:01<00:00,  2.97it/s]\n",
      "Evaluating: 100%|██████████| 1/1 [00:00<00:00,  5.04it/s]\n",
      "Training Epochs:  23%|██▎       | 23/100 [00:36<01:59,  1.55s/it]"
     ]
    },
    {
     "name": "stdout",
     "output_type": "stream",
     "text": [
      "Epoch 23 Test Loss 0.0478 | Reconstruction Error 0.0232 | L0 Loss 18.7125 | Dead Neurons: 96.84%\n"
     ]
    },
    {
     "name": "stderr",
     "output_type": "stream",
     "text": [
      "Training: 100%|██████████| 4/4 [00:01<00:00,  2.82it/s]\n",
      "Evaluating: 100%|██████████| 1/1 [00:00<00:00,  4.95it/s]\n",
      "Training Epochs:  24%|██▍       | 24/100 [00:37<01:59,  1.58s/it]"
     ]
    },
    {
     "name": "stdout",
     "output_type": "stream",
     "text": [
      "Epoch 24 Test Loss 0.0475 | Reconstruction Error 0.0230 | L0 Loss 19.5435 | Dead Neurons: 96.78%\n"
     ]
    },
    {
     "name": "stderr",
     "output_type": "stream",
     "text": [
      "Training: 100%|██████████| 4/4 [00:01<00:00,  3.02it/s]\n",
      "Evaluating: 100%|██████████| 1/1 [00:00<00:00,  4.98it/s]\n",
      "Training Epochs:  25%|██▌       | 25/100 [00:39<01:57,  1.56s/it]"
     ]
    },
    {
     "name": "stdout",
     "output_type": "stream",
     "text": [
      "Epoch 25 Test Loss 0.0472 | Reconstruction Error 0.0228 | L0 Loss 20.5175 | Dead Neurons: 96.71%\n"
     ]
    },
    {
     "name": "stderr",
     "output_type": "stream",
     "text": [
      "Training: 100%|██████████| 4/4 [00:01<00:00,  3.02it/s]\n",
      "Evaluating: 100%|██████████| 1/1 [00:00<00:00,  4.88it/s]\n",
      "Training Epochs:  26%|██▌       | 26/100 [00:40<01:54,  1.55s/it]"
     ]
    },
    {
     "name": "stdout",
     "output_type": "stream",
     "text": [
      "Epoch 26 Test Loss 0.0469 | Reconstruction Error 0.0226 | L0 Loss 21.6645 | Dead Neurons: 96.69%\n"
     ]
    },
    {
     "name": "stderr",
     "output_type": "stream",
     "text": [
      "Training: 100%|██████████| 4/4 [00:01<00:00,  3.00it/s]\n",
      "Evaluating: 100%|██████████| 1/1 [00:00<00:00,  5.19it/s]\n",
      "Training Epochs:  27%|██▋       | 27/100 [00:42<01:52,  1.55s/it]"
     ]
    },
    {
     "name": "stdout",
     "output_type": "stream",
     "text": [
      "Epoch 27 Test Loss 0.0466 | Reconstruction Error 0.0225 | L0 Loss 22.6280 | Dead Neurons: 96.65%\n"
     ]
    },
    {
     "name": "stderr",
     "output_type": "stream",
     "text": [
      "Training: 100%|██████████| 4/4 [00:01<00:00,  3.04it/s]\n",
      "Evaluating: 100%|██████████| 1/1 [00:00<00:00,  4.98it/s]\n",
      "Training Epochs:  28%|██▊       | 28/100 [00:43<01:50,  1.54s/it]"
     ]
    },
    {
     "name": "stdout",
     "output_type": "stream",
     "text": [
      "Epoch 28 Test Loss 0.0463 | Reconstruction Error 0.0223 | L0 Loss 23.0515 | Dead Neurons: 96.63%\n"
     ]
    },
    {
     "name": "stderr",
     "output_type": "stream",
     "text": [
      "Training: 100%|██████████| 4/4 [00:01<00:00,  2.95it/s]\n",
      "Evaluating: 100%|██████████| 1/1 [00:00<00:00,  5.03it/s]\n",
      "Training Epochs:  29%|██▉       | 29/100 [00:45<01:49,  1.55s/it]"
     ]
    },
    {
     "name": "stdout",
     "output_type": "stream",
     "text": [
      "Epoch 29 Test Loss 0.0461 | Reconstruction Error 0.0221 | L0 Loss 24.3095 | Dead Neurons: 96.57%\n"
     ]
    },
    {
     "name": "stderr",
     "output_type": "stream",
     "text": [
      "Training: 100%|██████████| 4/4 [00:01<00:00,  2.98it/s]\n",
      "Evaluating: 100%|██████████| 1/1 [00:00<00:00,  5.07it/s]\n",
      "Training Epochs:  30%|███       | 30/100 [00:46<01:48,  1.55s/it]"
     ]
    },
    {
     "name": "stdout",
     "output_type": "stream",
     "text": [
      "Epoch 30 Test Loss 0.0458 | Reconstruction Error 0.0220 | L0 Loss 25.5925 | Dead Neurons: 96.54%\n"
     ]
    },
    {
     "name": "stderr",
     "output_type": "stream",
     "text": [
      "Training: 100%|██████████| 4/4 [00:01<00:00,  2.78it/s]\n",
      "Evaluating: 100%|██████████| 1/1 [00:00<00:00,  5.14it/s]\n",
      "Training Epochs:  31%|███       | 31/100 [00:48<01:48,  1.57s/it]"
     ]
    },
    {
     "name": "stdout",
     "output_type": "stream",
     "text": [
      "Epoch 31 Test Loss 0.0456 | Reconstruction Error 0.0218 | L0 Loss 26.4350 | Dead Neurons: 96.51%\n"
     ]
    },
    {
     "name": "stderr",
     "output_type": "stream",
     "text": [
      "Training: 100%|██████████| 4/4 [00:01<00:00,  2.94it/s]\n",
      "Evaluating: 100%|██████████| 1/1 [00:00<00:00,  4.95it/s]\n",
      "Training Epochs:  32%|███▏      | 32/100 [00:50<01:46,  1.57s/it]"
     ]
    },
    {
     "name": "stdout",
     "output_type": "stream",
     "text": [
      "Epoch 32 Test Loss 0.0453 | Reconstruction Error 0.0217 | L0 Loss 27.3605 | Dead Neurons: 96.48%\n"
     ]
    },
    {
     "name": "stderr",
     "output_type": "stream",
     "text": [
      "Training: 100%|██████████| 4/4 [00:01<00:00,  3.00it/s]\n",
      "Evaluating: 100%|██████████| 1/1 [00:00<00:00,  5.17it/s]\n",
      "Training Epochs:  33%|███▎      | 33/100 [00:51<01:44,  1.56s/it]"
     ]
    },
    {
     "name": "stdout",
     "output_type": "stream",
     "text": [
      "Epoch 33 Test Loss 0.0451 | Reconstruction Error 0.0215 | L0 Loss 28.3915 | Dead Neurons: 96.43%\n"
     ]
    },
    {
     "name": "stderr",
     "output_type": "stream",
     "text": [
      "Training: 100%|██████████| 4/4 [00:01<00:00,  2.99it/s]\n",
      "Evaluating: 100%|██████████| 1/1 [00:00<00:00,  5.07it/s]\n",
      "Training Epochs:  34%|███▍      | 34/100 [00:53<01:42,  1.55s/it]"
     ]
    },
    {
     "name": "stdout",
     "output_type": "stream",
     "text": [
      "Epoch 34 Test Loss 0.0449 | Reconstruction Error 0.0214 | L0 Loss 29.7755 | Dead Neurons: 96.39%\n"
     ]
    },
    {
     "name": "stderr",
     "output_type": "stream",
     "text": [
      "Training: 100%|██████████| 4/4 [00:01<00:00,  2.99it/s]\n",
      "Evaluating: 100%|██████████| 1/1 [00:00<00:00,  5.17it/s]\n",
      "Training Epochs:  35%|███▌      | 35/100 [00:54<01:40,  1.55s/it]"
     ]
    },
    {
     "name": "stdout",
     "output_type": "stream",
     "text": [
      "Epoch 35 Test Loss 0.0447 | Reconstruction Error 0.0213 | L0 Loss 30.1870 | Dead Neurons: 96.35%\n"
     ]
    },
    {
     "name": "stderr",
     "output_type": "stream",
     "text": [
      "Training: 100%|██████████| 4/4 [00:01<00:00,  2.98it/s]\n",
      "Evaluating: 100%|██████████| 1/1 [00:00<00:00,  5.13it/s]\n",
      "Training Epochs:  36%|███▌      | 36/100 [00:56<01:39,  1.55s/it]"
     ]
    },
    {
     "name": "stdout",
     "output_type": "stream",
     "text": [
      "Epoch 36 Test Loss 0.0445 | Reconstruction Error 0.0211 | L0 Loss 31.3785 | Dead Neurons: 96.30%\n"
     ]
    },
    {
     "name": "stderr",
     "output_type": "stream",
     "text": [
      "Training: 100%|██████████| 4/4 [00:01<00:00,  2.98it/s]\n",
      "Evaluating: 100%|██████████| 1/1 [00:00<00:00,  5.04it/s]\n",
      "Training Epochs:  37%|███▋      | 37/100 [00:57<01:37,  1.55s/it]"
     ]
    },
    {
     "name": "stdout",
     "output_type": "stream",
     "text": [
      "Epoch 37 Test Loss 0.0444 | Reconstruction Error 0.0211 | L0 Loss 31.6885 | Dead Neurons: 96.23%\n"
     ]
    },
    {
     "name": "stderr",
     "output_type": "stream",
     "text": [
      "Training: 100%|██████████| 4/4 [00:01<00:00,  2.98it/s]\n",
      "Evaluating: 100%|██████████| 1/1 [00:00<00:00,  5.12it/s]\n",
      "Training Epochs:  38%|███▊      | 38/100 [00:59<01:35,  1.55s/it]"
     ]
    },
    {
     "name": "stdout",
     "output_type": "stream",
     "text": [
      "Epoch 38 Test Loss 0.0442 | Reconstruction Error 0.0209 | L0 Loss 32.8000 | Dead Neurons: 96.21%\n"
     ]
    },
    {
     "name": "stderr",
     "output_type": "stream",
     "text": [
      "Training: 100%|██████████| 4/4 [00:01<00:00,  3.01it/s]\n",
      "Evaluating: 100%|██████████| 1/1 [00:00<00:00,  5.04it/s]\n",
      "Training Epochs:  39%|███▉      | 39/100 [01:00<01:34,  1.54s/it]"
     ]
    },
    {
     "name": "stdout",
     "output_type": "stream",
     "text": [
      "Epoch 39 Test Loss 0.0440 | Reconstruction Error 0.0208 | L0 Loss 33.7025 | Dead Neurons: 96.21%\n"
     ]
    },
    {
     "name": "stderr",
     "output_type": "stream",
     "text": [
      "Training: 100%|██████████| 4/4 [00:01<00:00,  3.02it/s]\n",
      "Evaluating: 100%|██████████| 1/1 [00:00<00:00,  4.90it/s]\n",
      "Training Epochs:  40%|████      | 40/100 [01:02<01:32,  1.54s/it]"
     ]
    },
    {
     "name": "stdout",
     "output_type": "stream",
     "text": [
      "Epoch 40 Test Loss 0.0438 | Reconstruction Error 0.0207 | L0 Loss 34.2935 | Dead Neurons: 96.17%\n"
     ]
    },
    {
     "name": "stderr",
     "output_type": "stream",
     "text": [
      "Training: 100%|██████████| 4/4 [00:01<00:00,  2.99it/s]\n",
      "Evaluating: 100%|██████████| 1/1 [00:00<00:00,  5.22it/s]\n",
      "Training Epochs:  41%|████      | 41/100 [01:03<01:30,  1.54s/it]"
     ]
    },
    {
     "name": "stdout",
     "output_type": "stream",
     "text": [
      "Epoch 41 Test Loss 0.0437 | Reconstruction Error 0.0206 | L0 Loss 35.6840 | Dead Neurons: 96.17%\n"
     ]
    },
    {
     "name": "stderr",
     "output_type": "stream",
     "text": [
      "Training: 100%|██████████| 4/4 [00:01<00:00,  2.97it/s]\n",
      "Evaluating: 100%|██████████| 1/1 [00:00<00:00,  4.93it/s]\n",
      "Training Epochs:  42%|████▏     | 42/100 [01:05<01:29,  1.54s/it]"
     ]
    },
    {
     "name": "stdout",
     "output_type": "stream",
     "text": [
      "Epoch 42 Test Loss 0.0436 | Reconstruction Error 0.0206 | L0 Loss 35.8630 | Dead Neurons: 96.14%\n"
     ]
    },
    {
     "name": "stderr",
     "output_type": "stream",
     "text": [
      "Training: 100%|██████████| 4/4 [00:01<00:00,  2.99it/s]\n",
      "Evaluating: 100%|██████████| 1/1 [00:00<00:00,  5.10it/s]\n",
      "Training Epochs:  43%|████▎     | 43/100 [01:07<01:27,  1.54s/it]"
     ]
    },
    {
     "name": "stdout",
     "output_type": "stream",
     "text": [
      "Epoch 43 Test Loss 0.0434 | Reconstruction Error 0.0205 | L0 Loss 36.8985 | Dead Neurons: 96.12%\n"
     ]
    },
    {
     "name": "stderr",
     "output_type": "stream",
     "text": [
      "Training: 100%|██████████| 4/4 [00:01<00:00,  2.98it/s]\n",
      "Evaluating: 100%|██████████| 1/1 [00:00<00:00,  5.16it/s]\n",
      "Training Epochs:  44%|████▍     | 44/100 [01:08<01:26,  1.54s/it]"
     ]
    },
    {
     "name": "stdout",
     "output_type": "stream",
     "text": [
      "Epoch 44 Test Loss 0.0433 | Reconstruction Error 0.0204 | L0 Loss 37.5395 | Dead Neurons: 96.11%\n"
     ]
    },
    {
     "name": "stderr",
     "output_type": "stream",
     "text": [
      "Training: 100%|██████████| 4/4 [00:01<00:00,  2.99it/s]\n",
      "Evaluating: 100%|██████████| 1/1 [00:00<00:00,  4.92it/s]\n",
      "Training Epochs:  45%|████▌     | 45/100 [01:10<01:24,  1.54s/it]"
     ]
    },
    {
     "name": "stdout",
     "output_type": "stream",
     "text": [
      "Epoch 45 Test Loss 0.0432 | Reconstruction Error 0.0203 | L0 Loss 38.8540 | Dead Neurons: 96.08%\n"
     ]
    },
    {
     "name": "stderr",
     "output_type": "stream",
     "text": [
      "Training: 100%|██████████| 4/4 [00:01<00:00,  3.00it/s]\n",
      "Evaluating: 100%|██████████| 1/1 [00:00<00:00,  5.19it/s]\n",
      "Training Epochs:  46%|████▌     | 46/100 [01:11<01:23,  1.54s/it]"
     ]
    },
    {
     "name": "stdout",
     "output_type": "stream",
     "text": [
      "Epoch 46 Test Loss 0.0430 | Reconstruction Error 0.0202 | L0 Loss 39.5210 | Dead Neurons: 96.05%\n"
     ]
    },
    {
     "name": "stderr",
     "output_type": "stream",
     "text": [
      "Training: 100%|██████████| 4/4 [00:01<00:00,  3.02it/s]\n",
      "Evaluating: 100%|██████████| 1/1 [00:00<00:00,  4.61it/s]\n",
      "Training Epochs:  47%|████▋     | 47/100 [01:13<01:21,  1.54s/it]"
     ]
    },
    {
     "name": "stdout",
     "output_type": "stream",
     "text": [
      "Epoch 47 Test Loss 0.0429 | Reconstruction Error 0.0202 | L0 Loss 40.1495 | Dead Neurons: 96.03%\n"
     ]
    },
    {
     "name": "stderr",
     "output_type": "stream",
     "text": [
      "Training: 100%|██████████| 4/4 [00:01<00:00,  2.85it/s]\n",
      "Evaluating: 100%|██████████| 1/1 [00:00<00:00,  3.71it/s]\n",
      "Training Epochs:  48%|████▊     | 48/100 [01:14<01:22,  1.58s/it]"
     ]
    },
    {
     "name": "stdout",
     "output_type": "stream",
     "text": [
      "Epoch 48 Test Loss 0.0428 | Reconstruction Error 0.0201 | L0 Loss 41.0405 | Dead Neurons: 96.00%\n"
     ]
    },
    {
     "name": "stderr",
     "output_type": "stream",
     "text": [
      "Training: 100%|██████████| 4/4 [00:01<00:00,  2.83it/s]\n",
      "Evaluating: 100%|██████████| 1/1 [00:00<00:00,  4.91it/s]\n",
      "Training Epochs:  49%|████▉     | 49/100 [01:16<01:21,  1.60s/it]"
     ]
    },
    {
     "name": "stdout",
     "output_type": "stream",
     "text": [
      "Epoch 49 Test Loss 0.0427 | Reconstruction Error 0.0200 | L0 Loss 41.9300 | Dead Neurons: 96.02%\n"
     ]
    },
    {
     "name": "stderr",
     "output_type": "stream",
     "text": [
      "Training: 100%|██████████| 4/4 [00:01<00:00,  2.97it/s]\n",
      "Evaluating: 100%|██████████| 1/1 [00:00<00:00,  5.07it/s]\n",
      "Training Epochs:  50%|█████     | 50/100 [01:18<01:19,  1.58s/it]"
     ]
    },
    {
     "name": "stdout",
     "output_type": "stream",
     "text": [
      "Epoch 50 Test Loss 0.0426 | Reconstruction Error 0.0200 | L0 Loss 42.5770 | Dead Neurons: 96.00%\n"
     ]
    },
    {
     "name": "stderr",
     "output_type": "stream",
     "text": [
      "Training: 100%|██████████| 4/4 [00:01<00:00,  2.99it/s]\n",
      "Evaluating: 100%|██████████| 1/1 [00:00<00:00,  5.03it/s]\n",
      "Training Epochs:  51%|█████     | 51/100 [01:19<01:16,  1.57s/it]"
     ]
    },
    {
     "name": "stdout",
     "output_type": "stream",
     "text": [
      "Epoch 51 Test Loss 0.0425 | Reconstruction Error 0.0199 | L0 Loss 43.2475 | Dead Neurons: 95.98%\n"
     ]
    },
    {
     "name": "stderr",
     "output_type": "stream",
     "text": [
      "Training: 100%|██████████| 4/4 [00:01<00:00,  2.94it/s]\n",
      "Evaluating: 100%|██████████| 1/1 [00:00<00:00,  5.11it/s]\n",
      "Training Epochs:  52%|█████▏    | 52/100 [01:21<01:15,  1.57s/it]"
     ]
    },
    {
     "name": "stdout",
     "output_type": "stream",
     "text": [
      "Epoch 52 Test Loss 0.0424 | Reconstruction Error 0.0198 | L0 Loss 43.6680 | Dead Neurons: 95.96%\n"
     ]
    },
    {
     "name": "stderr",
     "output_type": "stream",
     "text": [
      "Training: 100%|██████████| 4/4 [00:01<00:00,  2.97it/s]\n",
      "Evaluating: 100%|██████████| 1/1 [00:00<00:00,  5.04it/s]\n",
      "Training Epochs:  53%|█████▎    | 53/100 [01:22<01:13,  1.56s/it]"
     ]
    },
    {
     "name": "stdout",
     "output_type": "stream",
     "text": [
      "Epoch 53 Test Loss 0.0423 | Reconstruction Error 0.0198 | L0 Loss 45.0090 | Dead Neurons: 95.94%\n"
     ]
    },
    {
     "name": "stderr",
     "output_type": "stream",
     "text": [
      "Training: 100%|██████████| 4/4 [00:01<00:00,  2.98it/s]\n",
      "Evaluating: 100%|██████████| 1/1 [00:00<00:00,  4.72it/s]\n",
      "Training Epochs:  54%|█████▍    | 54/100 [01:24<01:11,  1.56s/it]"
     ]
    },
    {
     "name": "stdout",
     "output_type": "stream",
     "text": [
      "Epoch 54 Test Loss 0.0422 | Reconstruction Error 0.0197 | L0 Loss 44.9605 | Dead Neurons: 95.93%\n"
     ]
    },
    {
     "name": "stderr",
     "output_type": "stream",
     "text": [
      "Training: 100%|██████████| 4/4 [00:01<00:00,  2.97it/s]\n",
      "Evaluating: 100%|██████████| 1/1 [00:00<00:00,  4.97it/s]\n",
      "Training Epochs:  55%|█████▌    | 55/100 [01:25<01:10,  1.56s/it]"
     ]
    },
    {
     "name": "stdout",
     "output_type": "stream",
     "text": [
      "Epoch 55 Test Loss 0.0421 | Reconstruction Error 0.0197 | L0 Loss 46.1555 | Dead Neurons: 95.91%\n"
     ]
    },
    {
     "name": "stderr",
     "output_type": "stream",
     "text": [
      "Training: 100%|██████████| 4/4 [00:01<00:00,  2.99it/s]\n",
      "Evaluating: 100%|██████████| 1/1 [00:00<00:00,  3.76it/s]\n",
      "Training Epochs:  56%|█████▌    | 56/100 [01:27<01:09,  1.58s/it]"
     ]
    },
    {
     "name": "stdout",
     "output_type": "stream",
     "text": [
      "Epoch 56 Test Loss 0.0420 | Reconstruction Error 0.0196 | L0 Loss 46.5655 | Dead Neurons: 95.90%\n"
     ]
    },
    {
     "name": "stderr",
     "output_type": "stream",
     "text": [
      "Training: 100%|██████████| 4/4 [00:01<00:00,  2.95it/s]\n",
      "Evaluating: 100%|██████████| 1/1 [00:00<00:00,  4.93it/s]\n",
      "Training Epochs:  57%|█████▋    | 57/100 [01:29<01:07,  1.57s/it]"
     ]
    },
    {
     "name": "stdout",
     "output_type": "stream",
     "text": [
      "Epoch 57 Test Loss 0.0420 | Reconstruction Error 0.0196 | L0 Loss 47.3115 | Dead Neurons: 95.87%\n"
     ]
    },
    {
     "name": "stderr",
     "output_type": "stream",
     "text": [
      "Training: 100%|██████████| 4/4 [00:01<00:00,  2.97it/s]\n",
      "Evaluating: 100%|██████████| 1/1 [00:00<00:00,  4.85it/s]\n",
      "Training Epochs:  58%|█████▊    | 58/100 [01:30<01:05,  1.57s/it]"
     ]
    },
    {
     "name": "stdout",
     "output_type": "stream",
     "text": [
      "Epoch 58 Test Loss 0.0419 | Reconstruction Error 0.0195 | L0 Loss 48.0095 | Dead Neurons: 95.87%\n"
     ]
    },
    {
     "name": "stderr",
     "output_type": "stream",
     "text": [
      "Training: 100%|██████████| 4/4 [00:01<00:00,  2.94it/s]\n",
      "Evaluating: 100%|██████████| 1/1 [00:00<00:00,  4.94it/s]\n",
      "Training Epochs:  59%|█████▉    | 59/100 [01:32<01:04,  1.57s/it]"
     ]
    },
    {
     "name": "stdout",
     "output_type": "stream",
     "text": [
      "Epoch 59 Test Loss 0.0418 | Reconstruction Error 0.0194 | L0 Loss 48.7265 | Dead Neurons: 95.84%\n"
     ]
    },
    {
     "name": "stderr",
     "output_type": "stream",
     "text": [
      "Training: 100%|██████████| 4/4 [00:01<00:00,  2.94it/s]\n",
      "Evaluating: 100%|██████████| 1/1 [00:00<00:00,  4.88it/s]\n",
      "Training Epochs:  60%|██████    | 60/100 [01:33<01:02,  1.57s/it]"
     ]
    },
    {
     "name": "stdout",
     "output_type": "stream",
     "text": [
      "Epoch 60 Test Loss 0.0417 | Reconstruction Error 0.0194 | L0 Loss 49.5555 | Dead Neurons: 95.82%\n"
     ]
    },
    {
     "name": "stderr",
     "output_type": "stream",
     "text": [
      "Training: 100%|██████████| 4/4 [00:01<00:00,  2.94it/s]\n",
      "Evaluating: 100%|██████████| 1/1 [00:00<00:00,  4.84it/s]\n",
      "Training Epochs:  61%|██████    | 61/100 [01:35<01:01,  1.57s/it]"
     ]
    },
    {
     "name": "stdout",
     "output_type": "stream",
     "text": [
      "Epoch 61 Test Loss 0.0416 | Reconstruction Error 0.0193 | L0 Loss 49.8010 | Dead Neurons: 95.80%\n"
     ]
    },
    {
     "name": "stderr",
     "output_type": "stream",
     "text": [
      "Training: 100%|██████████| 4/4 [00:01<00:00,  2.94it/s]\n",
      "Evaluating: 100%|██████████| 1/1 [00:00<00:00,  4.99it/s]\n",
      "Training Epochs:  62%|██████▏   | 62/100 [01:36<00:59,  1.57s/it]"
     ]
    },
    {
     "name": "stdout",
     "output_type": "stream",
     "text": [
      "Epoch 62 Test Loss 0.0416 | Reconstruction Error 0.0193 | L0 Loss 50.8820 | Dead Neurons: 95.79%\n"
     ]
    },
    {
     "name": "stderr",
     "output_type": "stream",
     "text": [
      "Training: 100%|██████████| 4/4 [00:01<00:00,  2.95it/s]\n",
      "Evaluating: 100%|██████████| 1/1 [00:00<00:00,  4.94it/s]\n",
      "Training Epochs:  63%|██████▎   | 63/100 [01:38<00:57,  1.57s/it]"
     ]
    },
    {
     "name": "stdout",
     "output_type": "stream",
     "text": [
      "Epoch 63 Test Loss 0.0415 | Reconstruction Error 0.0192 | L0 Loss 51.1015 | Dead Neurons: 95.78%\n"
     ]
    },
    {
     "name": "stderr",
     "output_type": "stream",
     "text": [
      "Training: 100%|██████████| 4/4 [00:01<00:00,  2.94it/s]\n",
      "Evaluating: 100%|██████████| 1/1 [00:00<00:00,  5.09it/s]\n",
      "Training Epochs:  64%|██████▍   | 64/100 [01:39<00:56,  1.57s/it]"
     ]
    },
    {
     "name": "stdout",
     "output_type": "stream",
     "text": [
      "Epoch 64 Test Loss 0.0414 | Reconstruction Error 0.0192 | L0 Loss 51.8005 | Dead Neurons: 95.74%\n"
     ]
    },
    {
     "name": "stderr",
     "output_type": "stream",
     "text": [
      "Training: 100%|██████████| 4/4 [00:01<00:00,  2.94it/s]\n",
      "Evaluating: 100%|██████████| 1/1 [00:00<00:00,  4.92it/s]\n",
      "Training Epochs:  65%|██████▌   | 65/100 [01:41<00:54,  1.57s/it]"
     ]
    },
    {
     "name": "stdout",
     "output_type": "stream",
     "text": [
      "Epoch 65 Test Loss 0.0414 | Reconstruction Error 0.0192 | L0 Loss 51.9435 | Dead Neurons: 95.74%\n"
     ]
    },
    {
     "name": "stderr",
     "output_type": "stream",
     "text": [
      "Training: 100%|██████████| 4/4 [00:01<00:00,  2.93it/s]\n",
      "Evaluating: 100%|██████████| 1/1 [00:00<00:00,  4.98it/s]\n",
      "Training Epochs:  66%|██████▌   | 66/100 [01:43<00:53,  1.57s/it]"
     ]
    },
    {
     "name": "stdout",
     "output_type": "stream",
     "text": [
      "Epoch 66 Test Loss 0.0413 | Reconstruction Error 0.0191 | L0 Loss 52.4035 | Dead Neurons: 95.71%\n"
     ]
    },
    {
     "name": "stderr",
     "output_type": "stream",
     "text": [
      "Training: 100%|██████████| 4/4 [00:01<00:00,  2.92it/s]\n",
      "Evaluating: 100%|██████████| 1/1 [00:00<00:00,  5.04it/s]\n",
      "Training Epochs:  67%|██████▋   | 67/100 [01:44<00:51,  1.57s/it]"
     ]
    },
    {
     "name": "stdout",
     "output_type": "stream",
     "text": [
      "Epoch 67 Test Loss 0.0412 | Reconstruction Error 0.0191 | L0 Loss 53.3550 | Dead Neurons: 95.70%\n"
     ]
    },
    {
     "name": "stderr",
     "output_type": "stream",
     "text": [
      "Training: 100%|██████████| 4/4 [00:01<00:00,  2.96it/s]\n",
      "Evaluating: 100%|██████████| 1/1 [00:00<00:00,  4.93it/s]\n",
      "Training Epochs:  68%|██████▊   | 68/100 [01:46<00:50,  1.57s/it]"
     ]
    },
    {
     "name": "stdout",
     "output_type": "stream",
     "text": [
      "Epoch 68 Test Loss 0.0412 | Reconstruction Error 0.0190 | L0 Loss 53.6570 | Dead Neurons: 95.68%\n"
     ]
    },
    {
     "name": "stderr",
     "output_type": "stream",
     "text": [
      "Training: 100%|██████████| 4/4 [00:01<00:00,  2.94it/s]\n",
      "Evaluating: 100%|██████████| 1/1 [00:00<00:00,  4.95it/s]\n",
      "Training Epochs:  69%|██████▉   | 69/100 [01:47<00:48,  1.57s/it]"
     ]
    },
    {
     "name": "stdout",
     "output_type": "stream",
     "text": [
      "Epoch 69 Test Loss 0.0411 | Reconstruction Error 0.0190 | L0 Loss 53.9845 | Dead Neurons: 95.67%\n"
     ]
    },
    {
     "name": "stderr",
     "output_type": "stream",
     "text": [
      "Training: 100%|██████████| 4/4 [00:01<00:00,  2.94it/s]\n",
      "Evaluating: 100%|██████████| 1/1 [00:00<00:00,  4.89it/s]\n",
      "Training Epochs:  70%|███████   | 70/100 [01:49<00:47,  1.57s/it]"
     ]
    },
    {
     "name": "stdout",
     "output_type": "stream",
     "text": [
      "Epoch 70 Test Loss 0.0411 | Reconstruction Error 0.0190 | L0 Loss 54.1735 | Dead Neurons: 95.65%\n"
     ]
    },
    {
     "name": "stderr",
     "output_type": "stream",
     "text": [
      "Training: 100%|██████████| 4/4 [00:01<00:00,  2.96it/s]\n",
      "Evaluating: 100%|██████████| 1/1 [00:00<00:00,  3.75it/s]\n",
      "Training Epochs:  71%|███████   | 71/100 [01:51<00:45,  1.59s/it]"
     ]
    },
    {
     "name": "stdout",
     "output_type": "stream",
     "text": [
      "Epoch 71 Test Loss 0.0410 | Reconstruction Error 0.0189 | L0 Loss 55.4240 | Dead Neurons: 95.63%\n"
     ]
    },
    {
     "name": "stderr",
     "output_type": "stream",
     "text": [
      "Training: 100%|██████████| 4/4 [00:01<00:00,  2.90it/s]\n",
      "Evaluating: 100%|██████████| 1/1 [00:00<00:00,  5.06it/s]\n",
      "Training Epochs:  72%|███████▏  | 72/100 [01:52<00:44,  1.59s/it]"
     ]
    },
    {
     "name": "stdout",
     "output_type": "stream",
     "text": [
      "Epoch 72 Test Loss 0.0410 | Reconstruction Error 0.0189 | L0 Loss 55.6155 | Dead Neurons: 95.61%\n"
     ]
    },
    {
     "name": "stderr",
     "output_type": "stream",
     "text": [
      "Training: 100%|██████████| 4/4 [00:01<00:00,  2.88it/s]\n",
      "Evaluating: 100%|██████████| 1/1 [00:00<00:00,  4.19it/s]\n",
      "Training Epochs:  73%|███████▎  | 73/100 [01:54<00:43,  1.60s/it]"
     ]
    },
    {
     "name": "stdout",
     "output_type": "stream",
     "text": [
      "Epoch 73 Test Loss 0.0409 | Reconstruction Error 0.0188 | L0 Loss 56.0100 | Dead Neurons: 95.61%\n"
     ]
    },
    {
     "name": "stderr",
     "output_type": "stream",
     "text": [
      "Training: 100%|██████████| 4/4 [00:01<00:00,  2.86it/s]\n",
      "Evaluating: 100%|██████████| 1/1 [00:00<00:00,  4.56it/s]\n",
      "Training Epochs:  74%|███████▍  | 74/100 [01:55<00:41,  1.61s/it]"
     ]
    },
    {
     "name": "stdout",
     "output_type": "stream",
     "text": [
      "Epoch 74 Test Loss 0.0408 | Reconstruction Error 0.0188 | L0 Loss 56.4430 | Dead Neurons: 95.59%\n"
     ]
    },
    {
     "name": "stderr",
     "output_type": "stream",
     "text": [
      "Training: 100%|██████████| 4/4 [00:01<00:00,  2.85it/s]\n",
      "Evaluating: 100%|██████████| 1/1 [00:00<00:00,  4.94it/s]\n",
      "Training Epochs:  75%|███████▌  | 75/100 [01:57<00:40,  1.61s/it]"
     ]
    },
    {
     "name": "stdout",
     "output_type": "stream",
     "text": [
      "Epoch 75 Test Loss 0.0408 | Reconstruction Error 0.0188 | L0 Loss 57.2525 | Dead Neurons: 95.58%\n"
     ]
    },
    {
     "name": "stderr",
     "output_type": "stream",
     "text": [
      "Training: 100%|██████████| 4/4 [00:01<00:00,  2.84it/s]\n",
      "Evaluating: 100%|██████████| 1/1 [00:00<00:00,  5.03it/s]\n",
      "Training Epochs:  76%|███████▌  | 76/100 [01:59<00:38,  1.61s/it]"
     ]
    },
    {
     "name": "stdout",
     "output_type": "stream",
     "text": [
      "Epoch 76 Test Loss 0.0408 | Reconstruction Error 0.0188 | L0 Loss 57.2240 | Dead Neurons: 95.58%\n"
     ]
    },
    {
     "name": "stderr",
     "output_type": "stream",
     "text": [
      "Training: 100%|██████████| 4/4 [00:01<00:00,  2.89it/s]\n",
      "Evaluating: 100%|██████████| 1/1 [00:00<00:00,  5.02it/s]\n",
      "Training Epochs:  77%|███████▋  | 77/100 [02:00<00:36,  1.60s/it]"
     ]
    },
    {
     "name": "stdout",
     "output_type": "stream",
     "text": [
      "Epoch 77 Test Loss 0.0407 | Reconstruction Error 0.0187 | L0 Loss 58.0675 | Dead Neurons: 95.56%\n"
     ]
    },
    {
     "name": "stderr",
     "output_type": "stream",
     "text": [
      "Training: 100%|██████████| 4/4 [00:01<00:00,  2.88it/s]\n",
      "Evaluating: 100%|██████████| 1/1 [00:00<00:00,  4.36it/s]\n",
      "Training Epochs:  78%|███████▊  | 78/100 [02:02<00:35,  1.61s/it]"
     ]
    },
    {
     "name": "stdout",
     "output_type": "stream",
     "text": [
      "Epoch 78 Test Loss 0.0406 | Reconstruction Error 0.0187 | L0 Loss 58.2810 | Dead Neurons: 95.56%\n"
     ]
    },
    {
     "name": "stderr",
     "output_type": "stream",
     "text": [
      "Training: 100%|██████████| 4/4 [00:01<00:00,  2.87it/s]\n",
      "Evaluating: 100%|██████████| 1/1 [00:00<00:00,  5.00it/s]\n",
      "Training Epochs:  79%|███████▉  | 79/100 [02:03<00:33,  1.61s/it]"
     ]
    },
    {
     "name": "stdout",
     "output_type": "stream",
     "text": [
      "Epoch 79 Test Loss 0.0406 | Reconstruction Error 0.0187 | L0 Loss 58.7180 | Dead Neurons: 95.56%\n"
     ]
    },
    {
     "name": "stderr",
     "output_type": "stream",
     "text": [
      "Training: 100%|██████████| 4/4 [00:01<00:00,  2.93it/s]\n",
      "Evaluating: 100%|██████████| 1/1 [00:00<00:00,  3.74it/s]\n",
      "Training Epochs:  80%|████████  | 80/100 [02:05<00:32,  1.62s/it]"
     ]
    },
    {
     "name": "stdout",
     "output_type": "stream",
     "text": [
      "Epoch 80 Test Loss 0.0406 | Reconstruction Error 0.0186 | L0 Loss 59.4920 | Dead Neurons: 95.53%\n"
     ]
    },
    {
     "name": "stderr",
     "output_type": "stream",
     "text": [
      "Training: 100%|██████████| 4/4 [00:01<00:00,  2.75it/s]\n",
      "Evaluating: 100%|██████████| 1/1 [00:00<00:00,  4.89it/s]\n",
      "Training Epochs:  81%|████████  | 81/100 [02:07<00:30,  1.63s/it]"
     ]
    },
    {
     "name": "stdout",
     "output_type": "stream",
     "text": [
      "Epoch 81 Test Loss 0.0405 | Reconstruction Error 0.0186 | L0 Loss 58.9635 | Dead Neurons: 95.53%\n"
     ]
    },
    {
     "name": "stderr",
     "output_type": "stream",
     "text": [
      "Training: 100%|██████████| 4/4 [00:01<00:00,  2.94it/s]\n",
      "Evaluating: 100%|██████████| 1/1 [00:00<00:00,  4.81it/s]\n",
      "Training Epochs:  82%|████████▏ | 82/100 [02:08<00:29,  1.61s/it]"
     ]
    },
    {
     "name": "stdout",
     "output_type": "stream",
     "text": [
      "Epoch 82 Test Loss 0.0405 | Reconstruction Error 0.0186 | L0 Loss 60.4720 | Dead Neurons: 95.53%\n"
     ]
    },
    {
     "name": "stderr",
     "output_type": "stream",
     "text": [
      "Training: 100%|██████████| 4/4 [00:01<00:00,  2.98it/s]\n",
      "Evaluating: 100%|██████████| 1/1 [00:00<00:00,  4.93it/s]\n",
      "Training Epochs:  83%|████████▎ | 83/100 [02:10<00:27,  1.59s/it]"
     ]
    },
    {
     "name": "stdout",
     "output_type": "stream",
     "text": [
      "Epoch 83 Test Loss 0.0405 | Reconstruction Error 0.0186 | L0 Loss 59.9280 | Dead Neurons: 95.52%\n"
     ]
    },
    {
     "name": "stderr",
     "output_type": "stream",
     "text": [
      "Training: 100%|██████████| 4/4 [00:01<00:00,  2.94it/s]\n",
      "Evaluating: 100%|██████████| 1/1 [00:00<00:00,  5.11it/s]\n",
      "Training Epochs:  84%|████████▍ | 84/100 [02:11<00:25,  1.58s/it]"
     ]
    },
    {
     "name": "stdout",
     "output_type": "stream",
     "text": [
      "Epoch 84 Test Loss 0.0404 | Reconstruction Error 0.0185 | L0 Loss 60.9870 | Dead Neurons: 95.50%\n"
     ]
    },
    {
     "name": "stderr",
     "output_type": "stream",
     "text": [
      "Training: 100%|██████████| 4/4 [00:01<00:00,  2.97it/s]\n",
      "Evaluating: 100%|██████████| 1/1 [00:00<00:00,  4.96it/s]\n",
      "Training Epochs:  85%|████████▌ | 85/100 [02:13<00:23,  1.57s/it]"
     ]
    },
    {
     "name": "stdout",
     "output_type": "stream",
     "text": [
      "Epoch 85 Test Loss 0.0404 | Reconstruction Error 0.0185 | L0 Loss 60.7360 | Dead Neurons: 95.48%\n"
     ]
    },
    {
     "name": "stderr",
     "output_type": "stream",
     "text": [
      "Training: 100%|██████████| 4/4 [00:01<00:00,  2.91it/s]\n",
      "Evaluating: 100%|██████████| 1/1 [00:00<00:00,  4.98it/s]\n",
      "Training Epochs:  86%|████████▌ | 86/100 [02:15<00:22,  1.58s/it]"
     ]
    },
    {
     "name": "stdout",
     "output_type": "stream",
     "text": [
      "Epoch 86 Test Loss 0.0404 | Reconstruction Error 0.0185 | L0 Loss 61.4305 | Dead Neurons: 95.46%\n"
     ]
    },
    {
     "name": "stderr",
     "output_type": "stream",
     "text": [
      "Training: 100%|██████████| 4/4 [00:01<00:00,  2.93it/s]\n",
      "Evaluating: 100%|██████████| 1/1 [00:00<00:00,  4.97it/s]\n",
      "Training Epochs:  87%|████████▋ | 87/100 [02:16<00:20,  1.58s/it]"
     ]
    },
    {
     "name": "stdout",
     "output_type": "stream",
     "text": [
      "Epoch 87 Test Loss 0.0403 | Reconstruction Error 0.0185 | L0 Loss 61.7500 | Dead Neurons: 95.45%\n"
     ]
    },
    {
     "name": "stderr",
     "output_type": "stream",
     "text": [
      "Training: 100%|██████████| 4/4 [00:01<00:00,  2.90it/s]\n",
      "Evaluating: 100%|██████████| 1/1 [00:00<00:00,  4.90it/s]\n",
      "Training Epochs:  88%|████████▊ | 88/100 [02:18<00:18,  1.58s/it]"
     ]
    },
    {
     "name": "stdout",
     "output_type": "stream",
     "text": [
      "Epoch 88 Test Loss 0.0403 | Reconstruction Error 0.0184 | L0 Loss 61.8720 | Dead Neurons: 95.45%\n"
     ]
    },
    {
     "name": "stderr",
     "output_type": "stream",
     "text": [
      "Training: 100%|██████████| 4/4 [00:01<00:00,  2.97it/s]\n",
      "Evaluating: 100%|██████████| 1/1 [00:00<00:00,  4.80it/s]\n",
      "Training Epochs:  89%|████████▉ | 89/100 [02:19<00:17,  1.57s/it]"
     ]
    },
    {
     "name": "stdout",
     "output_type": "stream",
     "text": [
      "Epoch 89 Test Loss 0.0403 | Reconstruction Error 0.0184 | L0 Loss 61.8690 | Dead Neurons: 95.45%\n"
     ]
    },
    {
     "name": "stderr",
     "output_type": "stream",
     "text": [
      "Training: 100%|██████████| 4/4 [00:01<00:00,  2.96it/s]\n",
      "Evaluating: 100%|██████████| 1/1 [00:00<00:00,  5.04it/s]\n",
      "Training Epochs:  90%|█████████ | 90/100 [02:21<00:15,  1.57s/it]"
     ]
    },
    {
     "name": "stdout",
     "output_type": "stream",
     "text": [
      "Epoch 90 Test Loss 0.0403 | Reconstruction Error 0.0184 | L0 Loss 62.9910 | Dead Neurons: 95.44%\n"
     ]
    },
    {
     "name": "stderr",
     "output_type": "stream",
     "text": [
      "Training: 100%|██████████| 4/4 [00:01<00:00,  2.99it/s]\n",
      "Evaluating: 100%|██████████| 1/1 [00:00<00:00,  4.87it/s]\n",
      "Training Epochs:  91%|█████████ | 91/100 [02:22<00:14,  1.56s/it]"
     ]
    },
    {
     "name": "stdout",
     "output_type": "stream",
     "text": [
      "Epoch 91 Test Loss 0.0402 | Reconstruction Error 0.0184 | L0 Loss 62.4065 | Dead Neurons: 95.44%\n"
     ]
    },
    {
     "name": "stderr",
     "output_type": "stream",
     "text": [
      "Training: 100%|██████████| 4/4 [00:01<00:00,  2.79it/s]\n",
      "Evaluating: 100%|██████████| 1/1 [00:00<00:00,  4.98it/s]\n",
      "Training Epochs:  92%|█████████▏| 92/100 [02:24<00:12,  1.59s/it]"
     ]
    },
    {
     "name": "stdout",
     "output_type": "stream",
     "text": [
      "Epoch 92 Test Loss 0.0402 | Reconstruction Error 0.0183 | L0 Loss 63.6065 | Dead Neurons: 95.43%\n"
     ]
    },
    {
     "name": "stderr",
     "output_type": "stream",
     "text": [
      "Training: 100%|██████████| 4/4 [00:01<00:00,  3.00it/s]\n",
      "Evaluating: 100%|██████████| 1/1 [00:00<00:00,  4.02it/s]\n",
      "Training Epochs:  93%|█████████▎| 93/100 [02:26<00:11,  1.59s/it]"
     ]
    },
    {
     "name": "stdout",
     "output_type": "stream",
     "text": [
      "Epoch 93 Test Loss 0.0402 | Reconstruction Error 0.0183 | L0 Loss 63.1690 | Dead Neurons: 95.43%\n"
     ]
    },
    {
     "name": "stderr",
     "output_type": "stream",
     "text": [
      "Training: 100%|██████████| 4/4 [00:01<00:00,  2.92it/s]\n",
      "Evaluating: 100%|██████████| 1/1 [00:00<00:00,  3.57it/s]\n",
      "Training Epochs:  94%|█████████▍| 94/100 [02:27<00:09,  1.61s/it]"
     ]
    },
    {
     "name": "stdout",
     "output_type": "stream",
     "text": [
      "Epoch 94 Test Loss 0.0401 | Reconstruction Error 0.0183 | L0 Loss 63.8775 | Dead Neurons: 95.43%\n"
     ]
    },
    {
     "name": "stderr",
     "output_type": "stream",
     "text": [
      "Training: 100%|██████████| 4/4 [00:01<00:00,  2.89it/s]\n",
      "Evaluating: 100%|██████████| 1/1 [00:00<00:00,  4.92it/s]\n",
      "Training Epochs:  95%|█████████▌| 95/100 [02:29<00:08,  1.60s/it]"
     ]
    },
    {
     "name": "stdout",
     "output_type": "stream",
     "text": [
      "Epoch 95 Test Loss 0.0401 | Reconstruction Error 0.0183 | L0 Loss 63.7465 | Dead Neurons: 95.43%\n"
     ]
    },
    {
     "name": "stderr",
     "output_type": "stream",
     "text": [
      "Training: 100%|██████████| 4/4 [00:01<00:00,  2.69it/s]\n",
      "Evaluating: 100%|██████████| 1/1 [00:00<00:00,  4.76it/s]\n",
      "Training Epochs:  96%|█████████▌| 96/100 [02:31<00:06,  1.63s/it]"
     ]
    },
    {
     "name": "stdout",
     "output_type": "stream",
     "text": [
      "Epoch 96 Test Loss 0.0401 | Reconstruction Error 0.0183 | L0 Loss 64.4690 | Dead Neurons: 95.42%\n"
     ]
    },
    {
     "name": "stderr",
     "output_type": "stream",
     "text": [
      "Training: 100%|██████████| 4/4 [00:01<00:00,  2.65it/s]\n",
      "Evaluating: 100%|██████████| 1/1 [00:00<00:00,  5.02it/s]\n",
      "Training Epochs:  97%|█████████▋| 97/100 [02:32<00:04,  1.66s/it]"
     ]
    },
    {
     "name": "stdout",
     "output_type": "stream",
     "text": [
      "Epoch 97 Test Loss 0.0401 | Reconstruction Error 0.0183 | L0 Loss 64.6605 | Dead Neurons: 95.42%\n"
     ]
    },
    {
     "name": "stderr",
     "output_type": "stream",
     "text": [
      "Training: 100%|██████████| 4/4 [00:01<00:00,  2.92it/s]\n",
      "Evaluating: 100%|██████████| 1/1 [00:00<00:00,  5.03it/s]\n",
      "Training Epochs:  98%|█████████▊| 98/100 [02:34<00:03,  1.63s/it]"
     ]
    },
    {
     "name": "stdout",
     "output_type": "stream",
     "text": [
      "Epoch 98 Test Loss 0.0401 | Reconstruction Error 0.0183 | L0 Loss 64.9815 | Dead Neurons: 95.42%\n"
     ]
    },
    {
     "name": "stderr",
     "output_type": "stream",
     "text": [
      "Training: 100%|██████████| 4/4 [00:01<00:00,  2.97it/s]\n",
      "Evaluating: 100%|██████████| 1/1 [00:00<00:00,  5.02it/s]\n",
      "Training Epochs:  99%|█████████▉| 99/100 [02:35<00:01,  1.61s/it]"
     ]
    },
    {
     "name": "stdout",
     "output_type": "stream",
     "text": [
      "Epoch 99 Test Loss 0.0401 | Reconstruction Error 0.0183 | L0 Loss 64.3420 | Dead Neurons: 95.43%\n"
     ]
    },
    {
     "name": "stderr",
     "output_type": "stream",
     "text": [
      "Training: 100%|██████████| 4/4 [00:01<00:00,  2.90it/s]\n",
      "Evaluating: 100%|██████████| 1/1 [00:00<00:00,  4.98it/s]\n",
      "Training Epochs: 100%|██████████| 100/100 [02:37<00:00,  1.57s/it]\n"
     ]
    },
    {
     "name": "stdout",
     "output_type": "stream",
     "text": [
      "Epoch 100 Test Loss 0.0400 | Reconstruction Error 0.0182 | L0 Loss 65.5345 | Dead Neurons: 95.43%\n",
      "Final Reconstruction Error: 0.0182\n",
      "Final L0 Loss: 65.5345\n"
     ]
    }
   ],
   "source": [
    "# Train a smaller error SAE, hidden size 16_000\n",
    "layer = 9\n",
    "model_type = 'gated'\n",
    "n_epochs = 100\n",
    "l1_coefficient = 3e-4\n",
    "batch_size = 2048\n",
    "lr = 0.001\n",
    "projection_up = 16\n",
    "repo_name = \"error-saes\"\n",
    "\n",
    "error_sae = main(layer, model_type, n_epochs, l1_coefficient, projection_up, batch_size, lr, repo_name, return_model=True, save_model=False)"
   ]
  },
  {
   "cell_type": "code",
   "execution_count": null,
   "metadata": {},
   "outputs": [],
   "source": []
  }
 ],
 "metadata": {
  "kernelspec": {
   "display_name": "anu",
   "language": "python",
   "name": "python3"
  },
  "language_info": {
   "codemirror_mode": {
    "name": "ipython",
    "version": 3
   },
   "file_extension": ".py",
   "mimetype": "text/x-python",
   "name": "python",
   "nbconvert_exporter": "python",
   "pygments_lexer": "ipython3",
   "version": "3.12.1"
  }
 },
 "nbformat": 4,
 "nbformat_minor": 2
}
